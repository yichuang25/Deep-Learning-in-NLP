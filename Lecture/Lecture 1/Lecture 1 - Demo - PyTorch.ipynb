{
 "cells": [
  {
   "cell_type": "code",
   "execution_count": 2,
   "id": "1db02f28",
   "metadata": {},
   "outputs": [],
   "source": [
    "import numpy as np\n",
    "import torch\n",
    "import matplotlib.pyplot as plt\n",
    "import torch\n",
    "from torch import nn\n",
    "from torch.functional import F\n",
    "from copy import copy\n",
    "import seaborn as sns\n",
    "import torch\n",
    "from torchviz import make_dot\n",
    "import hiddenlayer as hl\n",
    "import torchvision.models"
   ]
  },
  {
   "cell_type": "markdown",
   "id": "3c34fe21",
   "metadata": {},
   "source": [
    "### Creating Tensors"
   ]
  },
  {
   "cell_type": "code",
   "execution_count": 3,
   "id": "64a39c8e",
   "metadata": {},
   "outputs": [],
   "source": [
    "def describe(x):\n",
    "    print(\"Type: {}\".format(x.type()))\n",
    "    print(\"Shape/size: {}\".format(x.shape))\n",
    "    print(\"Values: \\n {}\".format(x))"
   ]
  },
  {
   "cell_type": "code",
   "execution_count": 4,
   "id": "5360c1ca",
   "metadata": {},
   "outputs": [
    {
     "name": "stdout",
     "output_type": "stream",
     "text": [
      "Type: torch.FloatTensor\n",
      "Shape/size: torch.Size([2, 2])\n",
      "Values: \n",
      " tensor([[0., 0.],\n",
      "        [0., 0.]])\n"
     ]
    }
   ],
   "source": [
    "# Random values all over the place.\n",
    "describe(torch.Tensor(2, 2))"
   ]
  },
  {
   "cell_type": "code",
   "execution_count": 5,
   "id": "8d1795eb",
   "metadata": {},
   "outputs": [
    {
     "name": "stdout",
     "output_type": "stream",
     "text": [
      "Type: torch.FloatTensor\n",
      "Shape/size: torch.Size([2, 3])\n",
      "Values: \n",
      " tensor([[0.2656, 0.0540, 0.5353],\n",
      "        [0.6084, 0.1321, 0.5964]])\n",
      "Type: torch.FloatTensor\n",
      "Shape/size: torch.Size([2, 3])\n",
      "Values: \n",
      " tensor([[-1.6852, -0.0981, -1.6725],\n",
      "        [ 0.1451, -0.1875, -0.9065]])\n"
     ]
    }
   ],
   "source": [
    "# Uniform random numbers on [0, 1).\n",
    "describe(torch.rand(2, 3))\n",
    "\n",
    "# Normal mean 0 and vairance 1.\n",
    "describe(torch.randn(2, 3))"
   ]
  },
  {
   "cell_type": "code",
   "execution_count": 6,
   "id": "faacc2ae",
   "metadata": {},
   "outputs": [
    {
     "name": "stdout",
     "output_type": "stream",
     "text": [
      "Type: torch.FloatTensor\n",
      "Shape/size: torch.Size([2, 3])\n",
      "Values: \n",
      " tensor([[0., 0., 0.],\n",
      "        [0., 0., 0.]])\n",
      "Type: torch.FloatTensor\n",
      "Shape/size: torch.Size([2, 3])\n",
      "Values: \n",
      " tensor([[1., 1., 1.],\n",
      "        [1., 1., 1.]])\n",
      "Type: torch.FloatTensor\n",
      "Shape/size: torch.Size([2, 3])\n",
      "Values: \n",
      " tensor([[5., 5., 5.],\n",
      "        [5., 5., 5.]])\n"
     ]
    }
   ],
   "source": [
    "# A vector of zeros.\n",
    "describe(torch.zeros(2, 3))\n",
    "\n",
    "x = torch.ones(2, 3)\n",
    "\n",
    "describe(x)\n",
    "\n",
    "# We can fill a vector with a specific value.\n",
    "x.fill_(5)\n",
    "\n",
    "describe(x)"
   ]
  },
  {
   "cell_type": "code",
   "execution_count": 7,
   "id": "fec70f41",
   "metadata": {},
   "outputs": [
    {
     "name": "stdout",
     "output_type": "stream",
     "text": [
      "Type: torch.FloatTensor\n",
      "Shape/size: torch.Size([2, 3])\n",
      "Values: \n",
      " tensor([[1., 2., 3.],\n",
      "        [4., 5., 6.]])\n"
     ]
    }
   ],
   "source": [
    "# You can get a tensor from a list.\n",
    "x = torch.Tensor([\n",
    "    [1, 2, 3],\n",
    "    [4, 5, 6]\n",
    "])\n",
    "describe(x)"
   ]
  },
  {
   "cell_type": "code",
   "execution_count": 8,
   "id": "ecd9970a",
   "metadata": {},
   "outputs": [
    {
     "name": "stdout",
     "output_type": "stream",
     "text": [
      "Type: torch.DoubleTensor\n",
      "Shape/size: torch.Size([2, 3])\n",
      "Values: \n",
      " tensor([[0.9282, 0.3767, 0.0211],\n",
      "        [0.4157, 0.6873, 0.0793]], dtype=torch.float64)\n"
     ]
    }
   ],
   "source": [
    "# You can also get them from numpy.\n",
    "describe(torch.from_numpy(np.random.rand(2,3)))"
   ]
  },
  {
   "cell_type": "markdown",
   "id": "a59a4336",
   "metadata": {},
   "source": [
    "### Tensor Types and Size"
   ]
  },
  {
   "cell_type": "code",
   "execution_count": 9,
   "id": "d8b200fc",
   "metadata": {},
   "outputs": [
    {
     "name": "stdout",
     "output_type": "stream",
     "text": [
      "Type: torch.FloatTensor\n",
      "Shape/size: torch.Size([2, 3])\n",
      "Values: \n",
      " tensor([[1., 2., 3.],\n",
      "        [4., 5., 6.]])\n"
     ]
    }
   ],
   "source": [
    "x = torch.FloatTensor(\n",
    "    [[1,2,3,], [4, 5, 6]]\n",
    ")\n",
    "describe(x)"
   ]
  },
  {
   "cell_type": "code",
   "execution_count": 10,
   "id": "277f5908",
   "metadata": {},
   "outputs": [
    {
     "name": "stdout",
     "output_type": "stream",
     "text": [
      "Type: torch.LongTensor\n",
      "Shape/size: torch.Size([2, 3])\n",
      "Values: \n",
      " tensor([[1, 2, 3],\n",
      "        [4, 5, 6]])\n"
     ]
    }
   ],
   "source": [
    "x = x.long()\n",
    "describe(x)"
   ]
  },
  {
   "cell_type": "code",
   "execution_count": 11,
   "id": "cbf34d2f",
   "metadata": {},
   "outputs": [],
   "source": [
    "# Make a tensor from an array.\n",
    "x = x = torch.tensor(\n",
    "    [[1,2,3,], [4, 5, 6]],\n",
    "    dtype=torch.int64\n",
    ")"
   ]
  },
  {
   "cell_type": "code",
   "execution_count": 12,
   "id": "e6b0f5c6",
   "metadata": {},
   "outputs": [
    {
     "name": "stdout",
     "output_type": "stream",
     "text": [
      "Type: torch.FloatTensor\n",
      "Shape/size: torch.Size([2, 3])\n",
      "Values: \n",
      " tensor([[1., 2., 3.],\n",
      "        [4., 5., 6.]])\n"
     ]
    }
   ],
   "source": [
    "x = x.float()\n",
    "describe(x)"
   ]
  },
  {
   "cell_type": "code",
   "execution_count": null,
   "id": "6e86434c",
   "metadata": {},
   "outputs": [],
   "source": []
  },
  {
   "cell_type": "markdown",
   "id": "12c2981b",
   "metadata": {},
   "source": [
    "### Tensor Operations"
   ]
  },
  {
   "cell_type": "code",
   "execution_count": 13,
   "id": "0d6a9d11",
   "metadata": {},
   "outputs": [
    {
     "name": "stdout",
     "output_type": "stream",
     "text": [
      "Type: torch.FloatTensor\n",
      "Shape/size: torch.Size([2, 3])\n",
      "Values: \n",
      " tensor([[0.8922, 0.9459, 0.6179],\n",
      "        [0.6696, 0.0111, 0.2822]])\n"
     ]
    }
   ],
   "source": [
    "x = torch.rand(2, 3)\n",
    "describe(x)"
   ]
  },
  {
   "cell_type": "code",
   "execution_count": 14,
   "id": "100469c1",
   "metadata": {},
   "outputs": [
    {
     "name": "stdout",
     "output_type": "stream",
     "text": [
      "Type: torch.FloatTensor\n",
      "Shape/size: torch.Size([2, 3])\n",
      "Values: \n",
      " tensor([[1.7844, 1.8918, 1.2358],\n",
      "        [1.3393, 0.0222, 0.5644]])\n"
     ]
    }
   ],
   "source": [
    "describe(torch.add(x, x))"
   ]
  },
  {
   "cell_type": "code",
   "execution_count": 15,
   "id": "835492cf",
   "metadata": {},
   "outputs": [
    {
     "name": "stdout",
     "output_type": "stream",
     "text": [
      "Type: torch.FloatTensor\n",
      "Shape/size: torch.Size([2, 3])\n",
      "Values: \n",
      " tensor([[1.7844, 1.8918, 1.2358],\n",
      "        [1.3393, 0.0222, 0.5644]])\n"
     ]
    }
   ],
   "source": [
    "describe(x + x)"
   ]
  },
  {
   "cell_type": "code",
   "execution_count": 16,
   "id": "1cf8a849",
   "metadata": {},
   "outputs": [
    {
     "name": "stdout",
     "output_type": "stream",
     "text": [
      "Type: torch.LongTensor\n",
      "Shape/size: torch.Size([6])\n",
      "Values: \n",
      " tensor([0, 1, 2, 3, 4, 5])\n"
     ]
    }
   ],
   "source": [
    "x = torch.arange(6)\n",
    "describe(x)"
   ]
  },
  {
   "cell_type": "code",
   "execution_count": 17,
   "id": "9841d65b",
   "metadata": {},
   "outputs": [
    {
     "name": "stdout",
     "output_type": "stream",
     "text": [
      "Type: torch.LongTensor\n",
      "Shape/size: torch.Size([2, 3])\n",
      "Values: \n",
      " tensor([[0, 1, 2],\n",
      "        [3, 4, 5]])\n"
     ]
    }
   ],
   "source": [
    "describe(x.view(2, 3))"
   ]
  },
  {
   "cell_type": "code",
   "execution_count": 18,
   "id": "8aa60254",
   "metadata": {},
   "outputs": [
    {
     "name": "stdout",
     "output_type": "stream",
     "text": [
      "Type: torch.LongTensor\n",
      "Shape/size: torch.Size([2, 3])\n",
      "Values: \n",
      " tensor([[0, 1, 2],\n",
      "        [3, 4, 5]])\n"
     ]
    }
   ],
   "source": [
    "# This is very cool.\n",
    "describe(x.view(2, -1))"
   ]
  },
  {
   "cell_type": "code",
   "execution_count": 19,
   "id": "eebf4ff8",
   "metadata": {},
   "outputs": [
    {
     "name": "stdout",
     "output_type": "stream",
     "text": [
      "Type: torch.LongTensor\n",
      "Shape/size: torch.Size([2, 3])\n",
      "Values: \n",
      " tensor([[0, 1, 2],\n",
      "        [3, 4, 5]])\n"
     ]
    }
   ],
   "source": [
    "describe(x.view(-1, 3))"
   ]
  },
  {
   "cell_type": "code",
   "execution_count": 20,
   "id": "52ff1de3",
   "metadata": {},
   "outputs": [
    {
     "name": "stdout",
     "output_type": "stream",
     "text": [
      "Type: torch.LongTensor\n",
      "Shape/size: torch.Size([3])\n",
      "Values: \n",
      " tensor([3, 5, 7])\n"
     ]
    }
   ],
   "source": [
    "# Note that dimension 0, the rows, vanish. This is column sums.\n",
    "describe(torch.sum(x.view(2, -1), dim=0))"
   ]
  },
  {
   "cell_type": "code",
   "execution_count": 21,
   "id": "70790948",
   "metadata": {},
   "outputs": [
    {
     "name": "stdout",
     "output_type": "stream",
     "text": [
      "Type: torch.LongTensor\n",
      "Shape/size: torch.Size([3])\n",
      "Values: \n",
      " tensor([3, 5, 7])\n"
     ]
    }
   ],
   "source": [
    "# Note that dimension 0, the rows, vanish. This is column sums.\n",
    "describe(x.view(2, -1).sum(axis=0))"
   ]
  },
  {
   "cell_type": "code",
   "execution_count": 22,
   "id": "ccdca53e",
   "metadata": {},
   "outputs": [
    {
     "name": "stdout",
     "output_type": "stream",
     "text": [
      "Type: torch.LongTensor\n",
      "Shape/size: torch.Size([3, 2])\n",
      "Values: \n",
      " tensor([[0, 3],\n",
      "        [1, 4],\n",
      "        [2, 5]])\n"
     ]
    }
   ],
   "source": [
    "# Note that dimension 0, the rows, vanish. This is column sums.\n",
    "describe(torch.transpose(x.view(2, 3), 0, 1))"
   ]
  },
  {
   "cell_type": "code",
   "execution_count": 23,
   "id": "b1650eac",
   "metadata": {},
   "outputs": [
    {
     "name": "stdout",
     "output_type": "stream",
     "text": [
      "Type: torch.LongTensor\n",
      "Shape/size: torch.Size([2, 3])\n",
      "Values: \n",
      " tensor([[3, 4, 5],\n",
      "        [0, 1, 2]])\n",
      "Type: torch.LongTensor\n",
      "Shape/size: torch.Size([2, 3])\n",
      "Values: \n",
      " tensor([[5, 4, 3],\n",
      "        [2, 1, 0]])\n"
     ]
    }
   ],
   "source": [
    "# Fip the data.\n",
    "describe(torch.flip(x.view(2, 3), [0]))\n",
    "\n",
    "describe(torch.flip(x.view(2, 3), [0, 1]))"
   ]
  },
  {
   "cell_type": "code",
   "execution_count": null,
   "id": "c260658f",
   "metadata": {},
   "outputs": [],
   "source": []
  },
  {
   "cell_type": "markdown",
   "id": "2eb18698",
   "metadata": {},
   "source": [
    "### Indexing, Slicing, Joining"
   ]
  },
  {
   "cell_type": "code",
   "execution_count": 24,
   "id": "a83dc0b8",
   "metadata": {},
   "outputs": [
    {
     "name": "stdout",
     "output_type": "stream",
     "text": [
      "Type: torch.LongTensor\n",
      "Shape/size: torch.Size([2, 3])\n",
      "Values: \n",
      " tensor([[0, 1, 2],\n",
      "        [3, 4, 5]])\n"
     ]
    }
   ],
   "source": [
    "x = torch.arange(6).view(2, 3)\n",
    "describe(x)"
   ]
  },
  {
   "cell_type": "code",
   "execution_count": 25,
   "id": "c6dc2604",
   "metadata": {},
   "outputs": [
    {
     "name": "stdout",
     "output_type": "stream",
     "text": [
      "Type: torch.LongTensor\n",
      "Shape/size: torch.Size([1, 2])\n",
      "Values: \n",
      " tensor([[0, 1]])\n"
     ]
    }
   ],
   "source": [
    "describe(x[:1, :2])"
   ]
  },
  {
   "cell_type": "code",
   "execution_count": 26,
   "id": "197dcaf2",
   "metadata": {},
   "outputs": [
    {
     "name": "stdout",
     "output_type": "stream",
     "text": [
      "Type: torch.LongTensor\n",
      "Shape/size: torch.Size([])\n",
      "Values: \n",
      " 1\n"
     ]
    }
   ],
   "source": [
    "describe(x[0, 1])"
   ]
  },
  {
   "cell_type": "code",
   "execution_count": 27,
   "id": "9eed50d4",
   "metadata": {},
   "outputs": [
    {
     "data": {
      "text/plain": [
       "1"
      ]
     },
     "execution_count": 27,
     "metadata": {},
     "output_type": "execute_result"
    }
   ],
   "source": [
    "# Get the actual value in the tensor.\n",
    "x[0, 1].item()"
   ]
  },
  {
   "cell_type": "code",
   "execution_count": 28,
   "id": "46c1bb81",
   "metadata": {},
   "outputs": [
    {
     "data": {
      "text/plain": [
       "tensor([[0, 1, 2],\n",
       "        [3, 4, 5]])"
      ]
     },
     "execution_count": 28,
     "metadata": {},
     "output_type": "execute_result"
    }
   ],
   "source": [
    "x"
   ]
  },
  {
   "cell_type": "code",
   "execution_count": 29,
   "id": "3433e1f2",
   "metadata": {},
   "outputs": [],
   "source": [
    "indices = torch.LongTensor([0, 2])"
   ]
  },
  {
   "cell_type": "code",
   "execution_count": 30,
   "id": "02ec2385",
   "metadata": {},
   "outputs": [
    {
     "name": "stdout",
     "output_type": "stream",
     "text": [
      "Type: torch.LongTensor\n",
      "Shape/size: torch.Size([2, 2])\n",
      "Values: \n",
      " tensor([[0, 2],\n",
      "        [3, 5]])\n"
     ]
    }
   ],
   "source": [
    "# Take from the columns the elements 0 and 2.\n",
    "describe(torch.index_select(x, dim=1, index=indices))"
   ]
  },
  {
   "cell_type": "code",
   "execution_count": 31,
   "id": "879e9488",
   "metadata": {},
   "outputs": [
    {
     "name": "stdout",
     "output_type": "stream",
     "text": [
      "Type: torch.LongTensor\n",
      "Shape/size: torch.Size([2, 3])\n",
      "Values: \n",
      " tensor([[0, 1, 2],\n",
      "        [0, 1, 2]])\n"
     ]
    }
   ],
   "source": [
    "# Similar.\n",
    "indices = torch.LongTensor([0, 0])\n",
    "describe(torch.index_select(x, dim=0, index=indices))"
   ]
  },
  {
   "cell_type": "code",
   "execution_count": 32,
   "id": "310d274c",
   "metadata": {},
   "outputs": [
    {
     "name": "stdout",
     "output_type": "stream",
     "text": [
      "Type: torch.LongTensor\n",
      "Shape/size: torch.Size([2])\n",
      "Values: \n",
      " tensor([0, 4])\n"
     ]
    }
   ],
   "source": [
    "# Indices must be LongTensor.\n",
    "row_indices = torch.arange(2).long()\n",
    "col_indices = torch.LongTensor([0, 1])\n",
    "describe(x[row_indices, col_indices])"
   ]
  },
  {
   "cell_type": "code",
   "execution_count": 33,
   "id": "28fa32aa",
   "metadata": {},
   "outputs": [
    {
     "name": "stdout",
     "output_type": "stream",
     "text": [
      "Type: torch.LongTensor\n",
      "Shape/size: torch.Size([4, 3])\n",
      "Values: \n",
      " tensor([[0, 1, 2],\n",
      "        [3, 4, 5],\n",
      "        [0, 1, 2],\n",
      "        [3, 4, 5]])\n"
     ]
    }
   ],
   "source": [
    "# Join two tensors on rows. \"The rows dimension increases.\" This gives 1 tensor.\n",
    "describe(torch.cat([x, x], dim=0))"
   ]
  },
  {
   "cell_type": "code",
   "execution_count": 34,
   "id": "625b652c",
   "metadata": {},
   "outputs": [
    {
     "name": "stdout",
     "output_type": "stream",
     "text": [
      "Type: torch.LongTensor\n",
      "Shape/size: torch.Size([2, 6])\n",
      "Values: \n",
      " tensor([[0, 1, 2, 0, 1, 2],\n",
      "        [3, 4, 5, 3, 4, 5]])\n"
     ]
    }
   ],
   "source": [
    "# Join two tensors on columns. \"The columns dimension increases.\" This gives 1 tensor.\n",
    "describe(torch.cat([x, x], dim=1))"
   ]
  },
  {
   "cell_type": "code",
   "execution_count": 35,
   "id": "aec1f724",
   "metadata": {},
   "outputs": [
    {
     "name": "stdout",
     "output_type": "stream",
     "text": [
      "Type: torch.LongTensor\n",
      "Shape/size: torch.Size([2, 2, 3])\n",
      "Values: \n",
      " tensor([[[0, 1, 2],\n",
      "         [3, 4, 5]],\n",
      "\n",
      "        [[0, 1, 2],\n",
      "         [3, 4, 5]]])\n"
     ]
    }
   ],
   "source": [
    "# This can be used to create batches! Notice a new dimension is added. This gives \"2\" tensors.\n",
    "describe(torch.stack([x, x]))"
   ]
  },
  {
   "cell_type": "code",
   "execution_count": 36,
   "id": "9a08c1cc",
   "metadata": {},
   "outputs": [
    {
     "name": "stdout",
     "output_type": "stream",
     "text": [
      "Type: torch.FloatTensor\n",
      "Shape/size: torch.Size([3, 2])\n",
      "Values: \n",
      " tensor([[1., 2.],\n",
      "        [1., 2.],\n",
      "        [1., 2.]])\n"
     ]
    }
   ],
   "source": [
    "# Can do linear algebra operations.\n",
    "x2 = torch.ones(3, 2)\n",
    "x2[:, 1] += 1\n",
    "describe(x2)"
   ]
  },
  {
   "cell_type": "code",
   "execution_count": 37,
   "id": "ed355f46",
   "metadata": {},
   "outputs": [
    {
     "name": "stdout",
     "output_type": "stream",
     "text": [
      "Type: torch.LongTensor\n",
      "Shape/size: torch.Size([2, 3])\n",
      "Values: \n",
      " tensor([[0, 1, 2],\n",
      "        [3, 4, 5]])\n"
     ]
    }
   ],
   "source": [
    "x1 = torch.arange(6).view(2, 3)\n",
    "describe(x1)"
   ]
  },
  {
   "cell_type": "code",
   "execution_count": 38,
   "id": "54374162",
   "metadata": {},
   "outputs": [
    {
     "ename": "RuntimeError",
     "evalue": "expected scalar type Long but found Float",
     "output_type": "error",
     "traceback": [
      "\u001b[0;31m---------------------------------------------------------------------------\u001b[0m",
      "\u001b[0;31mRuntimeError\u001b[0m                              Traceback (most recent call last)",
      "Cell \u001b[0;32mIn [38], line 2\u001b[0m\n\u001b[1;32m      1\u001b[0m \u001b[39m# Does not like different types. This will crash!\u001b[39;00m\n\u001b[0;32m----> 2\u001b[0m describe(torch\u001b[39m.\u001b[39;49mmm(x1, x2))\n",
      "\u001b[0;31mRuntimeError\u001b[0m: expected scalar type Long but found Float"
     ]
    }
   ],
   "source": [
    "# Does not like different types. This will crash!\n",
    "describe(torch.mm(x1, x2))"
   ]
  },
  {
   "cell_type": "code",
   "execution_count": null,
   "id": "55ba768e",
   "metadata": {},
   "outputs": [
    {
     "name": "stdout",
     "output_type": "stream",
     "text": [
      "Type: torch.FloatTensor\n",
      "Shape/size: torch.Size([2, 2])\n",
      "Values: \n",
      " tensor([[ 3.,  6.],\n",
      "        [12., 24.]])\n"
     ]
    }
   ],
   "source": [
    "describe(torch.mm(x1.float(), x2))"
   ]
  },
  {
   "cell_type": "code",
   "execution_count": null,
   "id": "e101a750",
   "metadata": {},
   "outputs": [],
   "source": []
  },
  {
   "cell_type": "markdown",
   "id": "5a6e1cd7",
   "metadata": {},
   "source": [
    "### A basic example with differentiation"
   ]
  },
  {
   "cell_type": "code",
   "execution_count": null,
   "id": "367dc425",
   "metadata": {},
   "outputs": [],
   "source": [
    "w = torch.tensor(1.0, requires_grad=True)\n",
    "b = torch.tensor(0.5, requires_grad=True) \n",
    "\n",
    "x = torch.tensor([1.4])\n",
    "y = torch.tensor([2.1])\n",
    "\n",
    "z = torch.add(torch.mul(w, x), b)\n",
    " \n",
    "loss = (y-z).pow(2).sum()\n",
    "loss.backward()\n",
    "\n",
    "print('dL/dw : ', w.grad)\n",
    "print('dL/db : ', b.grad)\n",
    "\n",
    "# Verifying the computed gradient dL/dw - manually.\n",
    "print(2 * x * ((w * x + b) - y))"
   ]
  },
  {
   "cell_type": "code",
   "execution_count": null,
   "id": "6d5bdbe6",
   "metadata": {},
   "outputs": [],
   "source": []
  },
  {
   "cell_type": "markdown",
   "id": "fcf1bd08",
   "metadata": {},
   "source": [
    "### Tensors and Computational graphs\n",
    "- Consider $y_1 = (wx + b + 1)^{\\intercal} (wx)$ + 3 where $w$ and $b$ are parameters.\n",
    " - $y_1$ is of dimension $1$.\n",
    "- Consider $y_2 = (wx + b + 1) * (wx)$ + 3 where $w$ and $b$ are parameters.\n",
    " - $y_2$ is of dimension $2 \\times 1$."
   ]
  },
  {
   "cell_type": "code",
   "execution_count": null,
   "id": "39fbce6a",
   "metadata": {},
   "outputs": [
    {
     "name": "stdout",
     "output_type": "stream",
     "text": [
      "Type: torch.FloatTensor\n",
      "Shape/size: torch.Size([2, 2])\n",
      "Values: \n",
      " tensor([[1., 1.],\n",
      "        [1., 1.]], requires_grad=True)\n"
     ]
    }
   ],
   "source": [
    "x = torch.ones(2, 1, requires_grad=False)\n",
    "w = torch.ones(2, 2, requires_grad=True)\n",
    "b = torch.ones(2, 1, requires_grad=True)\n",
    "\n",
    "describe(w)\n",
    "assert(w.grad is None)\n",
    "assert(x.grad is None)"
   ]
  },
  {
   "cell_type": "code",
   "execution_count": null,
   "id": "56f068f6",
   "metadata": {},
   "outputs": [],
   "source": [
    "y1 = (torch.mm(w, x) + b + 1).t() @ (torch.mm(w, x)) + 3\n",
    "y2 = (w @ x + b + 1) * (w @ x) + 3"
   ]
  },
  {
   "cell_type": "code",
   "execution_count": null,
   "id": "a860a55f",
   "metadata": {},
   "outputs": [
    {
     "name": "stdout",
     "output_type": "stream",
     "text": [
      "Type: torch.FloatTensor\n",
      "Shape/size: torch.Size([1, 1])\n",
      "Values: \n",
      " tensor([[19.]], grad_fn=<AddBackward0>)\n"
     ]
    }
   ],
   "source": [
    "describe(y1)"
   ]
  },
  {
   "cell_type": "code",
   "execution_count": null,
   "id": "09cbed2d",
   "metadata": {},
   "outputs": [
    {
     "name": "stdout",
     "output_type": "stream",
     "text": [
      "Type: torch.FloatTensor\n",
      "Shape/size: torch.Size([])\n",
      "Values: \n",
      " 19.0\n",
      "tensor([[6., 6.],\n",
      "        [6., 6.]]) tensor([[2.],\n",
      "        [2.]])\n"
     ]
    }
   ],
   "source": [
    "# Forward pass.\n",
    "z1 = y1.mean()\n",
    "describe(z1)\n",
    "# Backward pass - chain rule!\n",
    "z1.backward()\n",
    "assert(w.grad is not None)\n",
    "print(w.grad, b.grad)"
   ]
  },
  {
   "cell_type": "code",
   "execution_count": null,
   "id": "16f2f7ee",
   "metadata": {},
   "outputs": [
    {
     "name": "stdout",
     "output_type": "stream",
     "text": [
      "Type: torch.FloatTensor\n",
      "Shape/size: torch.Size([])\n",
      "Values: \n",
      " 11.0\n"
     ]
    },
    {
     "ename": "RuntimeError",
     "evalue": "element 0 of tensors does not require grad and does not have a grad_fn",
     "output_type": "error",
     "traceback": [
      "\u001b[0;31m---------------------------------------------------------------------------\u001b[0m",
      "\u001b[0;31mRuntimeError\u001b[0m                              Traceback (most recent call last)",
      "Cell \u001b[0;32mIn[45], line 5\u001b[0m\n\u001b[1;32m      3\u001b[0m z2 \u001b[38;5;241m=\u001b[39m y2\u001b[38;5;241m.\u001b[39mmean()\n\u001b[1;32m      4\u001b[0m describe(z2)\n\u001b[0;32m----> 5\u001b[0m \u001b[43mz2\u001b[49m\u001b[38;5;241;43m.\u001b[39;49m\u001b[43mbackward\u001b[49m\u001b[43m(\u001b[49m\u001b[43m)\u001b[49m\n\u001b[1;32m      6\u001b[0m \u001b[38;5;28;01massert\u001b[39;00m(w\u001b[38;5;241m.\u001b[39mgrad \u001b[38;5;129;01mis\u001b[39;00m \u001b[38;5;129;01mnot\u001b[39;00m \u001b[38;5;28;01mNone\u001b[39;00m)\n\u001b[1;32m      7\u001b[0m \u001b[38;5;28mprint\u001b[39m(w\u001b[38;5;241m.\u001b[39mgrad, b\u001b[38;5;241m.\u001b[39mgrad)\n",
      "File \u001b[0;32m~/miniforge3/envs/mlenv/lib/python3.8/site-packages/torch/_tensor.py:487\u001b[0m, in \u001b[0;36mTensor.backward\u001b[0;34m(self, gradient, retain_graph, create_graph, inputs)\u001b[0m\n\u001b[1;32m    477\u001b[0m \u001b[38;5;28;01mif\u001b[39;00m has_torch_function_unary(\u001b[38;5;28mself\u001b[39m):\n\u001b[1;32m    478\u001b[0m     \u001b[38;5;28;01mreturn\u001b[39;00m handle_torch_function(\n\u001b[1;32m    479\u001b[0m         Tensor\u001b[38;5;241m.\u001b[39mbackward,\n\u001b[1;32m    480\u001b[0m         (\u001b[38;5;28mself\u001b[39m,),\n\u001b[0;32m   (...)\u001b[0m\n\u001b[1;32m    485\u001b[0m         inputs\u001b[38;5;241m=\u001b[39minputs,\n\u001b[1;32m    486\u001b[0m     )\n\u001b[0;32m--> 487\u001b[0m \u001b[43mtorch\u001b[49m\u001b[38;5;241;43m.\u001b[39;49m\u001b[43mautograd\u001b[49m\u001b[38;5;241;43m.\u001b[39;49m\u001b[43mbackward\u001b[49m\u001b[43m(\u001b[49m\n\u001b[1;32m    488\u001b[0m \u001b[43m    \u001b[49m\u001b[38;5;28;43mself\u001b[39;49m\u001b[43m,\u001b[49m\u001b[43m \u001b[49m\u001b[43mgradient\u001b[49m\u001b[43m,\u001b[49m\u001b[43m \u001b[49m\u001b[43mretain_graph\u001b[49m\u001b[43m,\u001b[49m\u001b[43m \u001b[49m\u001b[43mcreate_graph\u001b[49m\u001b[43m,\u001b[49m\u001b[43m \u001b[49m\u001b[43minputs\u001b[49m\u001b[38;5;241;43m=\u001b[39;49m\u001b[43minputs\u001b[49m\n\u001b[1;32m    489\u001b[0m \u001b[43m\u001b[49m\u001b[43m)\u001b[49m\n",
      "File \u001b[0;32m~/miniforge3/envs/mlenv/lib/python3.8/site-packages/torch/autograd/__init__.py:197\u001b[0m, in \u001b[0;36mbackward\u001b[0;34m(tensors, grad_tensors, retain_graph, create_graph, grad_variables, inputs)\u001b[0m\n\u001b[1;32m    192\u001b[0m     retain_graph \u001b[38;5;241m=\u001b[39m create_graph\n\u001b[1;32m    194\u001b[0m \u001b[38;5;66;03m# The reason we repeat same the comment below is that\u001b[39;00m\n\u001b[1;32m    195\u001b[0m \u001b[38;5;66;03m# some Python versions print out the first line of a multi-line function\u001b[39;00m\n\u001b[1;32m    196\u001b[0m \u001b[38;5;66;03m# calls in the traceback and some print out the last line\u001b[39;00m\n\u001b[0;32m--> 197\u001b[0m \u001b[43mVariable\u001b[49m\u001b[38;5;241;43m.\u001b[39;49m\u001b[43m_execution_engine\u001b[49m\u001b[38;5;241;43m.\u001b[39;49m\u001b[43mrun_backward\u001b[49m\u001b[43m(\u001b[49m\u001b[43m  \u001b[49m\u001b[38;5;66;43;03m# Calls into the C++ engine to run the backward pass\u001b[39;49;00m\n\u001b[1;32m    198\u001b[0m \u001b[43m    \u001b[49m\u001b[43mtensors\u001b[49m\u001b[43m,\u001b[49m\u001b[43m \u001b[49m\u001b[43mgrad_tensors_\u001b[49m\u001b[43m,\u001b[49m\u001b[43m \u001b[49m\u001b[43mretain_graph\u001b[49m\u001b[43m,\u001b[49m\u001b[43m \u001b[49m\u001b[43mcreate_graph\u001b[49m\u001b[43m,\u001b[49m\u001b[43m \u001b[49m\u001b[43minputs\u001b[49m\u001b[43m,\u001b[49m\n\u001b[1;32m    199\u001b[0m \u001b[43m    \u001b[49m\u001b[43mallow_unreachable\u001b[49m\u001b[38;5;241;43m=\u001b[39;49m\u001b[38;5;28;43;01mTrue\u001b[39;49;00m\u001b[43m,\u001b[49m\u001b[43m \u001b[49m\u001b[43maccumulate_grad\u001b[49m\u001b[38;5;241;43m=\u001b[39;49m\u001b[38;5;28;43;01mTrue\u001b[39;49;00m\u001b[43m)\u001b[49m\n",
      "\u001b[0;31mRuntimeError\u001b[0m: element 0 of tensors does not require grad and does not have a grad_fn"
     ]
    }
   ],
   "source": [
    "# You can't do gradients if gradients are disabled!\n",
    "with torch.no_grad():\n",
    "    z2 = y2.mean()\n",
    "    describe(z2)\n",
    "    z2.backward()\n",
    "    assert(w.grad is not None)\n",
    "    print(w.grad, b.grad)"
   ]
  },
  {
   "cell_type": "code",
   "execution_count": null,
   "id": "ed5ad199",
   "metadata": {},
   "outputs": [],
   "source": []
  },
  {
   "cell_type": "markdown",
   "id": "4bfb949c",
   "metadata": {},
   "source": [
    "### Using PyTorch as an Optimizer"
   ]
  },
  {
   "cell_type": "markdown",
   "id": "a61c443d",
   "metadata": {},
   "source": [
    "We want to optimize the function $f(x) = a e^{-bx} + c$ over $(a, b, c)$ where $y$ is generated like $0.7 * e^{-0.01 * x} + 0.2 + Z(0, 1)$ where $Z$ is a standard normal and $x$ is in $[1, 2, \\ldots, n]$. So, $x_i = i$.\n",
    "\n",
    "Do we converge to the right values?\n",
    "\n",
    "Generally, the pattern to get the converge to the right answer is:\n",
    "- Pick some learning rate $\\lambda$\n",
    "- Specify a loss. Here, we use a mean squared error loss, given $x_i$ and true $y_i$, find $a, b, c$ so that $L(a, b, c) = \\sum_{i=1}^{n}{(f(x_i) - y_i)^2}$ is as small as possible.\n",
    "\n",
    "Then you have:\n",
    "- While you keep making progress on $L(a, b, c)$\n",
    " - Compute $\\frac{dL}{da}$, $\\frac{dL}{db}$, $\\frac{dL}{dc}$ by the chain rule.\n",
    " -  Set $a = a - \\lambda \\frac{dL}{da}$ and similarly for other parameters.\n",
    " - Continue this process (loop over the entire data over and over again) for as many iterations as needed: look at $L(a, b, c)$ and see when there is no more progress.\n",
    "\n",
    "At a high level, this is what is happenig when you optimize. Other optimizers might have more complicated rules.\n",
    "\n",
    "When you have lots of data, $n$ is large, computing $L(a, b, c)$ over the entire data set is expensive. You don't want to pass over the entire dataset.\n",
    "\n",
    "What you can do is divide the data into batches of size $B << n$ and make the above updates over batches over and over until you cover the entire dataset. I.e., You find $B_1, B_2, \\ldots, B_K$ that cover $\\{1, 2, \\ldots, n\\}$ and $B_k$ are disjoint. Then you do the above loop over each batch, until you get to the entie set of size $n$.\n",
    "\n",
    "Effectively, you have two loops: one for $n$ (how may times do you go over the entire data) and one for $i$ (the batch iterator).\n",
    "\n",
    "- While you keep making progress on $L(a, b, c)$\n",
    " - For each $B_k$ until you cover the entire data.\n",
    "   - Compute $\\frac{dL}{da}$, $\\frac{dL}{db}$, $\\frac{dL}{dc}$ by the chain rule on B_i.\n",
    "   - Set $a = a - \\lambda \\frac{dL}{da}$ and similarly for other parameters.\n",
    "   - Continue this process (loop over the entire data over and over again) for as many iterations as needed: look at $L(a, b, c)$ and see when there is no more progress\n",
    "   \n",
    "PyTorch does all this for us!"
   ]
  },
  {
   "cell_type": "code",
   "execution_count": null,
   "id": "1f5015dd",
   "metadata": {},
   "outputs": [
    {
     "data": {
      "text/plain": [
       "<matplotlib.collections.PathCollection at 0x28b3248b0>"
      ]
     },
     "execution_count": 118,
     "metadata": {},
     "output_type": "execute_result"
    },
    {
     "data": {
      "image/png": "[encoded data removed]",
      "text/plain": [
       "<Figure size 1400x700 with 1 Axes>"
      ]
     },
     "metadata": {},
     "output_type": "display_data"
    }
   ],
   "source": [
    "sns.set_style(\"whitegrid\")\n",
    "n = 1000\n",
    "noise = torch.Tensor(np.random.normal(0, 0.02, size=n))\n",
    "x = torch.arange(n)\n",
    "# Ground truth parameters.\n",
    "a, b, c = 0.7, .01, 0.2\n",
    "y = a * np.exp(-b * x) + c + noise\n",
    "plt.figure(figsize=(14, 7))\n",
    "plt.scatter(x, y, alpha=0.4)"
   ]
  },
  {
   "cell_type": "code",
   "execution_count": null,
   "id": "cac1666f",
   "metadata": {},
   "outputs": [],
   "source": []
  },
  {
   "cell_type": "code",
   "execution_count": null,
   "id": "d7a8e98b",
   "metadata": {},
   "outputs": [],
   "source": [
    "class Model(nn.Module):\n",
    "    \"\"\"Custom Pytorch model for gradient optimization.\n",
    "    \"\"\"\n",
    "    def __init__(self):\n",
    "        \n",
    "        super().__init__()\n",
    "        # Initialize weights with random numbers.\n",
    "        weights = torch.distributions.Uniform(0, 0.1).sample((3,))\n",
    "        # Make weights torch parameters.\n",
    "        self.weights = nn.Parameter(weights)        \n",
    "        \n",
    "    def forward(self, X):\n",
    "        \"\"\"\n",
    "        Implement function to be optimised. In this case, an exponential decay\n",
    "        function (a + exp(-b * x) + b),\n",
    "        \"\"\"\n",
    "        a, b, c = self.weights\n",
    "        return a * torch.exp(-b * x) + c"
   ]
  },
  {
   "cell_type": "code",
   "execution_count": null,
   "id": "b5b2cbdd",
   "metadata": {},
   "outputs": [],
   "source": []
  },
  {
   "cell_type": "markdown",
   "id": "fd1347c8",
   "metadata": {},
   "source": [
    "Set up a training loop."
   ]
  },
  {
   "cell_type": "code",
   "execution_count": null,
   "id": "a9483556",
   "metadata": {},
   "outputs": [],
   "source": [
    "def train(model, optimizer, epochs=10000):\n",
    "    \"Training loop for torch model.\"\n",
    "    losses = []\n",
    "    for _ in range(epochs):\n",
    "        preds = model(x)\n",
    "        # Could have also used nn.MSELoss()(preds, y) below.\n",
    "        loss = F.mse_loss(preds, y)\n",
    "        loss.backward()\n",
    "        optimizer.step()\n",
    "        optimizer.zero_grad()\n",
    "        losses.append(loss)  \n",
    "    return losses"
   ]
  },
  {
   "cell_type": "code",
   "execution_count": null,
   "id": "f3296e7f",
   "metadata": {},
   "outputs": [],
   "source": []
  },
  {
   "cell_type": "markdown",
   "id": "54274e0a",
   "metadata": {},
   "source": [
    "Print the loss function and the final parameters."
   ]
  },
  {
   "cell_type": "code",
   "execution_count": null,
   "id": "ad5a2081",
   "metadata": {},
   "outputs": [
    {
     "name": "stdout",
     "output_type": "stream",
     "text": [
      "Parameter containing:\n",
      "tensor([0.6838, 0.0097, 0.1994], requires_grad=True)\n"
     ]
    },
    {
     "data": {
      "image/png": "[encoded data removed]",
      "text/plain": [
       "<Figure size 1400x700 with 1 Axes>"
      ]
     },
     "metadata": {},
     "output_type": "display_data"
    }
   ],
   "source": [
    "# Instantiate model\n",
    "model = Model()\n",
    "# Instantiate optimizer - you can use SGD or Adam.\n",
    "optimizer = torch.optim.Adam(model.parameters(), lr=0.0001)\n",
    "\n",
    "losses = train(model, optimizer)\n",
    "\n",
    "with torch.no_grad():\n",
    "    plt.figure(figsize=(14, 7))\n",
    "    plt.plot(losses)\n",
    "    print(model.weights)"
   ]
  },
  {
   "cell_type": "code",
   "execution_count": null,
   "id": "5b2c4ede",
   "metadata": {},
   "outputs": [],
   "source": []
  },
  {
   "cell_type": "markdown",
   "id": "4819fa5a",
   "metadata": {},
   "source": [
    "### Basic NN building blocks"
   ]
  },
  {
   "cell_type": "markdown",
   "id": "80697c06",
   "metadata": {},
   "source": [
    "We want to add nonlinearities to the data when we build models, nonlinearities are the $key$.\n",
    "\n",
    "Basically, you take your neurons $z$ through layers of different nonlinearities.\n",
    "\n",
    "Usually z, whatever goes in before the (specifically, sigmoid) activation, is called a \"logit\". "
   ]
  },
  {
   "cell_type": "code",
   "execution_count": null,
   "id": "b75fc441",
   "metadata": {},
   "outputs": [
    {
     "data": {
      "image/png": "[encoded data removed]",
      "text/plain": [
       "<Figure size 640x480 with 1 Axes>"
      ]
     },
     "metadata": {},
     "output_type": "display_data"
    }
   ],
   "source": [
    "# Sigmoid.\n",
    "# Maps to the range [0, 1]. Notice that large and small values have a gradient of 0!\n",
    "x = torch.arange(-5., 5., 0.1)\n",
    "y = torch.sigmoid(x)\n",
    "plt.plot(x.numpy(), y.detach().numpy())\n",
    "plt.show()"
   ]
  },
  {
   "cell_type": "code",
   "execution_count": null,
   "id": "e8ed10ed",
   "metadata": {},
   "outputs": [
    {
     "data": {
      "image/png": "[encoded data removed]",
      "text/plain": [
       "<Figure size 640x480 with 1 Axes>"
      ]
     },
     "metadata": {},
     "output_type": "display_data"
    }
   ],
   "source": [
    "# Tanh - sort of like sigmoid but maps to [-1, 1].\n",
    "x = torch.arange(-5., 5., 0.1)\n",
    "y = torch.tanh(x)\n",
    "\n",
    "plt.plot(x.numpy(), y.detach().numpy())\n",
    "plt.show()"
   ]
  },
  {
   "cell_type": "code",
   "execution_count": null,
   "id": "451edc78",
   "metadata": {},
   "outputs": [
    {
     "data": {
      "image/png": "[encoded data removed]",
      "text/plain": [
       "<Figure size 640x480 with 1 Axes>"
      ]
     },
     "metadata": {},
     "output_type": "display_data"
    }
   ],
   "source": [
    "# ReLU - notice that anything > 0 has a gradient of 1.\n",
    "relu = torch.nn.ReLU()\n",
    "x = torch.arange(-5., 5., 0.1)\n",
    "y = relu(x)\n",
    "\n",
    "plt.plot(x.numpy(), y.detach().numpy())\n",
    "plt.show()"
   ]
  },
  {
   "cell_type": "code",
   "execution_count": null,
   "id": "89c43a57",
   "metadata": {},
   "outputs": [
    {
     "data": {
      "image/png": "[encoded data removed]",
      "text/plain": [
       "<Figure size 640x480 with 1 Axes>"
      ]
     },
     "metadata": {},
     "output_type": "display_data"
    }
   ],
   "source": [
    "# PReLU - now negative values also have a nonzero gradient.\n",
    "prelu = nn.PReLU(num_parameters=1)\n",
    "x = torch.arange(-5., 5., 0.1)\n",
    "y = prelu(x)\n",
    "\n",
    "plt.plot(x.numpy(), y.detach().numpy())\n",
    "plt.show()"
   ]
  },
  {
   "cell_type": "code",
   "execution_count": null,
   "id": "c6c52be9",
   "metadata": {},
   "outputs": [
    {
     "data": {
      "image/png": "[encoded data removed]",
      "text/plain": [
       "<Figure size 640x480 with 1 Axes>"
      ]
     },
     "metadata": {},
     "output_type": "display_data"
    }
   ],
   "source": [
    "# GeLU - A continuus ReLU.\n",
    "gelu = torch.nn.GELU()\n",
    "x = torch.arange(-5., 5., 0.1)\n",
    "y = gelu(x)\n",
    "\n",
    "plt.plot(x.numpy(), y.detach().numpy())\n",
    "plt.show()"
   ]
  },
  {
   "cell_type": "code",
   "execution_count": null,
   "id": "e2967a07",
   "metadata": {},
   "outputs": [
    {
     "name": "stdout",
     "output_type": "stream",
     "text": [
      "tensor([[1.2989, 0.5971, 0.9549]])\n",
      "tensor([[0.4536, 0.2248, 0.3216]])\n",
      "tensor([1.])\n"
     ]
    }
   ],
   "source": [
    "# Softmax - how to go from any values to a probability vector.\n",
    "softmax = nn.Softmax(dim=1)\n",
    "x_input = torch.randn(1, 3)\n",
    "y_output = softmax(x_input)\n",
    "# The logits.\n",
    "print(x_input)\n",
    "print(y_output)\n",
    "# This is 1, as expected-> nn.Softmax(dim=k)(y).sum(axis=k) == vector of ones.\n",
    "print(torch.sum(y_output, dim=1))"
   ]
  },
  {
   "cell_type": "markdown",
   "id": "27ab89e1",
   "metadata": {},
   "source": [
    "## The below is $\\frac{\\sum_{i=1}^{3}{\\sum_{j=1}^{5}(\\hat{y}_{ij} - y_{ij})^{2}}}{15}$."
   ]
  },
  {
   "cell_type": "code",
   "execution_count": 78,
   "id": "15a7bd6d",
   "metadata": {},
   "outputs": [
    {
     "name": "stdout",
     "output_type": "stream",
     "text": [
      "tensor(2.0464, grad_fn=<MseLossBackward0>)\n"
     ]
    }
   ],
   "source": [
    "# Mean squared error: used to get (y^ - y)^2. A Useful metric for regression problems.\n",
    "mse_loss = nn.MSELoss(reduction='mean')\n",
    "outputs = torch.randn(3, 5, requires_grad=True)\n",
    "targets = torch.randn(3, 5)\n",
    "loss = mse_loss(outputs, targets)\n",
    "loss.backward()\n",
    "print(loss)"
   ]
  },
  {
   "cell_type": "markdown",
   "id": "0674285d",
   "metadata": {},
   "source": [
    "Given a model that gives us probabilitities of a certain class $(p_1, \\ldots, p_K)$ we want to know if this is a ood model. For a fixed $y$ which is a vector that is 1 for the true class and 0 for all other classes we can compute $$L = -\\sum_{k=1}^{K}{y_k \\log{p_k}}$$ The idea is that only one of these $y_k$ will be 1 all all others will be 0 so this reduces; let the true class be $k^{*}$ so this is $-\\log{p_{k^{*}}}$. We basically want this to be $low$ so that $p_{k^{*}}$ is \\textit{large} (and vice versa). The Cross Entropy basically is a measure of how good your log probabilities align with the truth, represented by the $y$ vector.\n",
    "\n",
    "For the binary case, we have binary cross entropy, which is $-(1-y) \\log(1-p) - y \\log p$. Notive this is the same thing as above if we let $(y_0, y_1) = (1-y, y)$ and $(p_0, p_1) = (1-p, p)$."
   ]
  },
  {
   "cell_type": "code",
   "execution_count": 39,
   "id": "0a47f659",
   "metadata": {},
   "outputs": [
    {
     "name": "stdout",
     "output_type": "stream",
     "text": [
      "tensor(2.7697, grad_fn=<NllLossBackward0>)\n"
     ]
    }
   ],
   "source": [
    "ce_loss = nn.CrossEntropyLoss()\n",
    "# A data of size batch 3 over 5 classes. Notice these are logits - no softmax applied yet!\n",
    "outputs = torch.randn(3, 5, requires_grad=True)\n",
    "# The true labels.\n",
    "targets = torch.tensor([1, 0, 3], dtype=torch.int64)\n",
    "loss = ce_loss(outputs, targets)\n",
    "loss.backward()\n",
    "print (loss)"
   ]
  },
  {
   "cell_type": "code",
   "execution_count": 80,
   "id": "cc2a0638",
   "metadata": {},
   "outputs": [
    {
     "name": "stdout",
     "output_type": "stream",
     "text": [
      "tensor([[0.3919],\n",
      "        [0.4455],\n",
      "        [0.5090],\n",
      "        [0.6637]], grad_fn=<SigmoidBackward0>)\n",
      "tensor(0.8229, grad_fn=<BinaryCrossEntropyBackward0>)\n"
     ]
    }
   ],
   "source": [
    "# Here, we need to use probabilities.\n",
    "bce_loss = nn.BCELoss()\n",
    "sigmoid = nn.Sigmoid()\n",
    "probabilities = sigmoid(torch.randn(4, 1, requires_grad=True))\n",
    "print(probabilities)\n",
    "\n",
    "targets = torch.tensor([1, 0, 1, 0], dtype=torch.float32).view(4, 1)\n",
    "loss = bce_loss(probabilities, targets)\n",
    "loss.backward()\n",
    "print(loss)"
   ]
  },
  {
   "cell_type": "code",
   "execution_count": null,
   "id": "e259ac2a",
   "metadata": {},
   "outputs": [],
   "source": []
  },
  {
   "cell_type": "markdown",
   "id": "1b61e80f",
   "metadata": {},
   "source": [
    "### Basic Neural Network Classification Objectives"
   ]
  },
  {
   "cell_type": "markdown",
   "id": "b064e969",
   "metadata": {},
   "source": [
    "Watch out for this in the case of binary classsification problems:\n",
    "- nn.BCEWithLogitsLoss()(logits, target) == nn.BCELoss()(nn.Sigmoid()(logits), target)"
   ]
  },
  {
   "cell_type": "code",
   "execution_count": 40,
   "id": "5361bc5f",
   "metadata": {},
   "outputs": [],
   "source": [
    "with torch.no_grad():\n",
    "    logits = torch.randn(3, requires_grad=True)\n",
    "    target = torch.empty(3).random_(2)\n",
    "    \n",
    "    # This expects raw logits. This is preferred.\n",
    "    loss_1 = nn.BCEWithLogitsLoss()\n",
    "    output_1 = loss_1(logits, target)\n",
    "    \n",
    "    # This expects tat you took the sigmoid of the logits and then gave the probabilities.\n",
    "    loss_2 = nn.BCELoss()\n",
    "    output_2 = loss_2(nn.Sigmoid()(logits), target)\n",
    "    \n",
    "    assert((output_1.item() - output_2.item()) <= 0.0001)    "
   ]
  },
  {
   "cell_type": "markdown",
   "id": "f1abd357",
   "metadata": {},
   "source": [
    "Watch out for this in the case of multiclass problems:\n",
    "- torch.log(nn.Softmax(dim=1)(logits)) = nn.LogSoftmax()(logits)\n",
    "- nn.CrossEntropyLoss()(logits, target) == nn.NLLLoss()(nn.LogSoftmax(logits), target)"
   ]
  },
  {
   "cell_type": "code",
   "execution_count": 82,
   "id": "760c9d35",
   "metadata": {},
   "outputs": [],
   "source": [
    "with torch.no_grad():\n",
    "    # Example of target with class indices\n",
    "    logits = torch.randn(3, 5, requires_grad=True)\n",
    "    # Targets are ints here; they can also be class probabilities.\n",
    "    target = torch.empty(3, dtype=torch.long).random_(5)\n",
    "    \n",
    "    loss_1 = nn.CrossEntropyLoss()\n",
    "    output_1 = loss_1(logits, target)\n",
    "    \n",
    "    loss_2 = nn.NLLLoss()\n",
    "    output_2 = loss_1(nn.LogSoftmax(dim=1)(logits), target)\n",
    "    \n",
    "    # torch.log + nn.Softmax = nn.LogSoftmax\n",
    "    # Basically equal but if you dig in you'll see torch.eq is false.\n",
    "    assert(\n",
    "        (\n",
    "            (torch.log(nn.Softmax(dim=1)(logits)) - nn.LogSoftmax(dim=1)(logits))**2\n",
    "        ).sum() <= 0.0001\n",
    "    )\n",
    "    \n",
    "    \n",
    "    # nn.CrossEntropyLoss on logits == nn.NLLLoss + nn.LogSoftmax on logits\n",
    "    assert(output_1.item() == output_2.item())"
   ]
  },
  {
   "cell_type": "markdown",
   "id": "7ffe0715",
   "metadata": {},
   "source": [
    "### Summary:\n",
    "- CrossEntropyLoss wants logits (before softmax).\n",
    "- BCELoss wants probabilities.\n",
    "- Be careful."
   ]
  },
  {
   "cell_type": "code",
   "execution_count": null,
   "id": "300cae4e",
   "metadata": {},
   "outputs": [],
   "source": []
  }
 ],
 "metadata": {
  "kernelspec": {
   "display_name": "torch-gpu",
   "language": "python",
   "name": "python3"
  },
  "language_info": {
   "codemirror_mode": {
    "name": "ipython",
    "version": 3
   },
   "file_extension": ".py",
   "mimetype": "text/x-python",
   "name": "python",
   "nbconvert_exporter": "python",
   "pygments_lexer": "ipython3",
   "version": "3.9.15 (main, Nov 24 2022, 08:28:41) \n[Clang 14.0.6 ]"
  },
  "vscode": {
   "interpreter": {
    "hash": "e1cb4ba5f411cfa4a68a7ea6c2f9ba3655e2604bd37447d058a856eda531fd15"
   }
  }
 },
 "nbformat": 4,
 "nbformat_minor": 5
}
