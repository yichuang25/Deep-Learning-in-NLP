{
 "cells": [
  {
   "cell_type": "code",
   "execution_count": 136,
   "id": "080d50fc",
   "metadata": {},
   "outputs": [],
   "source": [
    "import time\n",
    "import torch\n",
    "from torch.utils.data import DataLoader, TensorDataset\n",
    "from torchtext.data.utils import get_tokenizer\n",
    "from torchtext.datasets import DATASETS\n",
    "from torchtext.vocab import build_vocab_from_iterator\n",
    "import torch.nn as nn\n",
    "from tqdm import tqdm\n",
    "import pickle\n",
    "import random\n",
    "import numpy as np\n",
    "from collections import Counter, defaultdict\n",
    "import numpy as np\n",
    "import matplotlib.pyplot as plt\n",
    "from sklearn.decomposition import PCA\n",
    "from gensim.test.utils import datapath, get_tmpfile\n",
    "from gensim.models import KeyedVectors\n",
    "import gensim.downloader\n",
    "from torch import FloatTensor as FT\n",
    "\n",
    "# Get the interactive Tools for Matplotlib\n",
    "%matplotlib notebook\n",
    "%matplotlib inline\n",
    "\n",
    "plt.style.use('ggplot')"
   ]
  },
  {
   "cell_type": "markdown",
   "id": "29a9d66b",
   "metadata": {},
   "source": [
    "# Visualize some pretrained models.\n",
    "- See: https://radimrehurek.com/gensim/models/word2vec.html"
   ]
  },
  {
   "cell_type": "code",
   "execution_count": 62,
   "id": "b2fe2dcd",
   "metadata": {},
   "outputs": [
    {
     "name": "stdout",
     "output_type": "stream",
     "text": [
      "['fasttext-wiki-news-subwords-300', 'conceptnet-numberbatch-17-06-300', 'word2vec-ruscorpora-300', 'word2vec-google-news-300', 'glove-wiki-gigaword-50', 'glove-wiki-gigaword-100', 'glove-wiki-gigaword-200', 'glove-wiki-gigaword-300', 'glove-twitter-25', 'glove-twitter-50', 'glove-twitter-100', 'glove-twitter-200', '__testing_word2vec-matrix-synopsis']\n"
     ]
    }
   ],
   "source": [
    "# Pretrained models!\n",
    "print(list(gensim.downloader.info()['models'].keys()))"
   ]
  },
  {
   "cell_type": "code",
   "execution_count": 63,
   "id": "ca7a34b0",
   "metadata": {},
   "outputs": [],
   "source": [
    "model = gensim.downloader.load('word2vec-google-news-300')"
   ]
  },
  {
   "cell_type": "code",
   "execution_count": 64,
   "id": "9a843725",
   "metadata": {},
   "outputs": [
    {
     "data": {
      "text/plain": [
       "[('bananas', 0.752377450466156),\n",
       " ('pineapple', 0.6587537527084351),\n",
       " ('mango', 0.6365211009979248),\n",
       " ('pineapples', 0.6313878297805786),\n",
       " ('papaya', 0.6063666343688965),\n",
       " ('coconut', 0.6035483479499817),\n",
       " ('potato', 0.5747568607330322),\n",
       " ('melon', 0.5625776052474976),\n",
       " ('cashew', 0.562165379524231),\n",
       " ('tomato', 0.5590205788612366)]"
      ]
     },
     "execution_count": 64,
     "metadata": {},
     "output_type": "execute_result"
    }
   ],
   "source": [
    "# This takes the vector for a word and gets the most similar words to this vector.\n",
    "model.most_similar('banana')"
   ]
  },
  {
   "cell_type": "code",
   "execution_count": 65,
   "id": "5c0e202b",
   "metadata": {},
   "outputs": [
    {
     "data": {
      "text/plain": [
       "[('mccain', 0.731901228427887),\n",
       " ('hillary', 0.7284600138664246),\n",
       " ('obamas', 0.7229631543159485),\n",
       " ('george_bush', 0.7205674648284912),\n",
       " ('barack_obama', 0.7045838832855225),\n",
       " ('palin', 0.7043113708496094),\n",
       " ('clinton', 0.6934448480606079),\n",
       " ('clintons', 0.6816834807395935),\n",
       " ('sarah_palin', 0.6815145015716553),\n",
       " ('john_mccain', 0.6800708174705505)]"
      ]
     },
     "execution_count": 65,
     "metadata": {},
     "output_type": "execute_result"
    }
   ],
   "source": [
    "model.most_similar('obama')"
   ]
  },
  {
   "cell_type": "code",
   "execution_count": 66,
   "id": "25c94d3c",
   "metadata": {},
   "outputs": [],
   "source": [
    "# x2 - x1 = y2 - y1 ... So y2 = x2 - x1 + y1 ... Consider all neighbors of x2 - x1 + y1, get y2. \n",
    "def analogy(model, x1, x2, y1):\n",
    "    result = model.most_similar(positive=[y1, x2], negative=[x1])\n",
    "    return result[0][0]"
   ]
  },
  {
   "cell_type": "code",
   "execution_count": 67,
   "id": "1a020de3",
   "metadata": {},
   "outputs": [
    {
     "data": {
      "text/plain": [
       "'canada'"
      ]
     },
     "execution_count": 67,
     "metadata": {},
     "output_type": "execute_result"
    }
   ],
   "source": [
    "analogy(model, 'japan', 'japanese', 'australia')"
   ]
  },
  {
   "cell_type": "code",
   "execution_count": 68,
   "id": "6f23e72a",
   "metadata": {},
   "outputs": [
    {
     "data": {
      "text/plain": [
       "'kerry'"
      ]
     },
     "execution_count": 68,
     "metadata": {},
     "output_type": "execute_result"
    }
   ],
   "source": [
    "analogy(model, 'obama', 'clinton', 'reagan')"
   ]
  },
  {
   "cell_type": "code",
   "execution_count": 69,
   "id": "09b520f6",
   "metadata": {},
   "outputs": [
    {
     "data": {
      "text/plain": [
       "'longest'"
      ]
     },
     "execution_count": 69,
     "metadata": {},
     "output_type": "execute_result"
    }
   ],
   "source": [
    "analogy(model, 'tall', 'tallest', 'long')\n"
   ]
  },
  {
   "cell_type": "code",
   "execution_count": 25,
   "id": "fb0676a8",
   "metadata": {},
   "outputs": [
    {
     "name": "stdout",
     "output_type": "stream",
     "text": [
      "cereal\n"
     ]
    }
   ],
   "source": [
    "# Which word from the given list doesn’t go with the others?\n",
    "print(model.doesnt_match(\"breakfast cereal dinner lunch\".split()))"
   ]
  },
  {
   "cell_type": "code",
   "execution_count": 70,
   "id": "078884bd",
   "metadata": {},
   "outputs": [],
   "source": [
    "def display_pca_scatterplot(model, words=None, sample=0):\n",
    "    if words == None:\n",
    "        if sample > 0:\n",
    "            words = np.random.choice(list(model.vocab.keys()), sample)\n",
    "        else:\n",
    "            words = [ word for word in model.vocab ]\n",
    "        \n",
    "    word_vectors = np.array([model[w] for w in words])\n",
    "\n",
    "    twodim = PCA().fit_transform(word_vectors)[:,:2]\n",
    "    \n",
    "    plt.figure(figsize=(6,6))\n",
    "    plt.scatter(twodim[:,0], twodim[:,1], edgecolors='k', c='r')\n",
    "    for word, (x,y) in zip(words, twodim):\n",
    "        plt.text(x+0.05, y+0.05, word)"
   ]
  },
  {
   "cell_type": "markdown",
   "id": "3ddabe0a",
   "metadata": {},
   "source": [
    "### Let's project to two dimensions and see if thee are any patterns.\n",
    "We see some clusters:\n",
    "- Countries are together.\n",
    "- Drinks are together.\n",
    "- Foods.\n",
    "- Etc."
   ]
  },
  {
   "cell_type": "code",
   "execution_count": 71,
   "id": "cc836fea",
   "metadata": {},
   "outputs": [
    {
     "data": {
      "image/png": "[encoded data removed]",
      "text/plain": [
       "<Figure size 600x600 with 1 Axes>"
      ]
     },
     "metadata": {},
     "output_type": "display_data"
    }
   ],
   "source": [
    "display_pca_scatterplot(\n",
    "    model, \n",
    "    [\n",
    "        'coffee', 'tea', 'beer', 'wine', 'brandy', 'rum', 'champagne', 'water',\n",
    "        'spaghetti', 'borscht', 'hamburger', 'pizza', 'falafel', 'sushi', 'meatballs',\n",
    "        'dog', 'horse', 'cat', 'monkey', 'parrot', 'koala', 'lizard',\n",
    "        'frog', 'toad', 'monkey', 'ape', 'kangaroo', 'wombat', 'wolf',\n",
    "        'france', 'germany', 'hungary', 'france', 'australia', 'fiji', 'china',\n",
    "        'homework', 'assignment', 'problem', 'exam', 'test', 'class',\n",
    "        'school', 'college', 'university', 'institute'\n",
    "    ]\n",
    ")"
   ]
  },
  {
   "cell_type": "code",
   "execution_count": null,
   "id": "f5419c32",
   "metadata": {},
   "outputs": [],
   "source": []
  },
  {
   "cell_type": "markdown",
   "id": "66eb271d",
   "metadata": {},
   "source": [
    "### Information\n",
    "- torchtext repo: https://github.com/pytorch/text/tree/main/torchtext\n",
    "- torchtext documentation: https://pytorch.org/text/stable/index.html"
   ]
  },
  {
   "cell_type": "code",
   "execution_count": 117,
   "id": "31b412ca",
   "metadata": {},
   "outputs": [],
   "source": [
    "# Where do I want to run my job. You can do \"cuda\" on linux machines.\n",
    "DEVICE = \"mps\" if torch.backends.mps.is_available() else  \"cpu\"\n",
    "# The batch size in Adam or SGD.\n",
    "BATCH_SIZE = 512\n",
    "# Number of epochs.\n",
    "NUM_EPOCHS = 10\n",
    "# Predict from 2 words the inner word for CBOW.\n",
    "# I.e. I'll have a window like [\"a\", \"b\", \"c\"] of continuous text (each is a word).\n",
    "# We'll predict each of wc = [\"a\", \"c\"] from \"b\" = wc for Skip-Gram.\n",
    "# For CBOW, we'll use [\"a\", \"c\"] to predict \"b\" = wo.\n",
    "\n",
    "# This is *NOT* used. This is \"m\" in lecture. It is random for each center word. See below.\n",
    "WINDOW = 1\n",
    "\n",
    "# Negative samples.\n",
    "K = 4"
   ]
  },
  {
   "cell_type": "code",
   "execution_count": null,
   "id": "f1e88237",
   "metadata": {},
   "outputs": [],
   "source": []
  },
  {
   "cell_type": "markdown",
   "id": "3856763a",
   "metadata": {},
   "source": [
    "The text8 Wikipedia corpus. 100M characters."
   ]
  },
  {
   "cell_type": "code",
   "execution_count": 118,
   "id": "87fa8c9b",
   "metadata": {},
   "outputs": [
    {
     "name": "stdout",
     "output_type": "stream",
     "text": [
      " 95M\ttext8\r\n"
     ]
    }
   ],
   "source": [
    "!du -h text8"
   ]
  },
  {
   "cell_type": "code",
   "execution_count": 119,
   "id": "33db9751",
   "metadata": {},
   "outputs": [
    {
     "name": "stdout",
     "output_type": "stream",
     "text": [
      "100000000\n"
     ]
    }
   ],
   "source": [
    "f = open('text8', 'r')\n",
    "text = f.read()\n",
    "# One big string of size 100M.\n",
    "print(len(text))"
   ]
  },
  {
   "cell_type": "code",
   "execution_count": 121,
   "id": "1ac4e787",
   "metadata": {},
   "outputs": [],
   "source": [
    "punc = '!\"#$%&()*+,-./:;<=>?@[\\\\]^_\\'{|}~\\t\\n'\n",
    "\n",
    "# Can do regular expressions here too.\n",
    "for c in punc:\n",
    "    if c in text:\n",
    "        text.replace(c, ' ')"
   ]
  },
  {
   "cell_type": "code",
   "execution_count": null,
   "id": "a901365f",
   "metadata": {},
   "outputs": [],
   "source": []
  },
  {
   "cell_type": "code",
   "execution_count": 122,
   "id": "f3f2f4d4",
   "metadata": {},
   "outputs": [],
   "source": [
    "# A very crude tokenizer you get for free: lower case and also split on spaces.\n",
    "TOKENIZER = get_tokenizer(\"basic_english\")"
   ]
  },
  {
   "cell_type": "code",
   "execution_count": 123,
   "id": "a7695b95",
   "metadata": {},
   "outputs": [],
   "source": [
    "words = TOKENIZER(text)\n",
    "f = Counter(words)"
   ]
  },
  {
   "cell_type": "code",
   "execution_count": 124,
   "id": "2c5f9ce8",
   "metadata": {},
   "outputs": [
    {
     "data": {
      "text/plain": [
       "17005207"
      ]
     },
     "execution_count": 124,
     "metadata": {},
     "output_type": "execute_result"
    }
   ],
   "source": [
    "len(words)"
   ]
  },
  {
   "cell_type": "code",
   "execution_count": 127,
   "id": "6128f0aa",
   "metadata": {},
   "outputs": [],
   "source": [
    "# Do a very crude filter on the text which remoes all words whuch \n",
    "text = [word for word in words if f[word] > 5]"
   ]
  },
  {
   "cell_type": "code",
   "execution_count": 128,
   "id": "d089d13d",
   "metadata": {},
   "outputs": [
    {
     "data": {
      "text/plain": [
       "['anarchism', 'originated', 'as', 'a', 'term']"
      ]
     },
     "execution_count": 128,
     "metadata": {},
     "output_type": "execute_result"
    }
   ],
   "source": [
    "text[0:5]"
   ]
  },
  {
   "cell_type": "code",
   "execution_count": 129,
   "id": "11f47bda",
   "metadata": {},
   "outputs": [],
   "source": [
    "VOCAB = build_vocab_from_iterator([text])"
   ]
  },
  {
   "cell_type": "code",
   "execution_count": 130,
   "id": "9df4fcbe",
   "metadata": {},
   "outputs": [],
   "source": [
    "# word -> int hash map.\n",
    "stoi = VOCAB.get_stoi()\n",
    "# int -> word hash map.\n",
    "itos = VOCAB.get_itos() "
   ]
  },
  {
   "cell_type": "code",
   "execution_count": 131,
   "id": "53bba0d1",
   "metadata": {},
   "outputs": [
    {
     "data": {
      "text/plain": [
       "11"
      ]
     },
     "execution_count": 131,
     "metadata": {},
     "output_type": "execute_result"
    }
   ],
   "source": [
    "stoi['as']"
   ]
  },
  {
   "cell_type": "code",
   "execution_count": 92,
   "id": "8e2ff447",
   "metadata": {},
   "outputs": [
    {
     "data": {
      "text/plain": [
       "63641"
      ]
     },
     "execution_count": 92,
     "metadata": {},
     "output_type": "execute_result"
    }
   ],
   "source": [
    "# Total number of words.\n",
    "len(stoi)"
   ]
  },
  {
   "cell_type": "code",
   "execution_count": 132,
   "id": "b4f4d652",
   "metadata": {},
   "outputs": [],
   "source": [
    "f = Counter(text)\n",
    "# This is the probability that we pick a word in the corpus.\n",
    "z = {word: f[word] / len(text) for word in f}"
   ]
  },
  {
   "cell_type": "code",
   "execution_count": 133,
   "id": "13c8c565",
   "metadata": {},
   "outputs": [],
   "source": [
    "threshold = 1e-5\n",
    "# Probability that word is kept while subsampling.\n",
    "# This is explained here and sightly differet from the paper: http://mccormickml.com/2017/01/11/word2vec-tutorial-part-2-negative-sampling/\n",
    "p_keep = {word: (np.sqrt(z[word] / 0.001) + 1)*(0.0001 / z[word]) for word in f}"
   ]
  },
  {
   "cell_type": "code",
   "execution_count": 134,
   "id": "368bb139",
   "metadata": {},
   "outputs": [],
   "source": [
    "# This is in the integer space.\n",
    "train_dataset = [word for word in text if random.random() < p_keep[word]]\n",
    "\n",
    "# Rebuild the vocabulary.\n",
    "VOCAB = build_vocab_from_iterator([train_dataset])"
   ]
  },
  {
   "cell_type": "code",
   "execution_count": 135,
   "id": "bcf29691",
   "metadata": {},
   "outputs": [
    {
     "data": {
      "text/plain": [
       "7847726"
      ]
     },
     "execution_count": 135,
     "metadata": {},
     "output_type": "execute_result"
    }
   ],
   "source": [
    "len(train_dataset)"
   ]
  },
  {
   "cell_type": "code",
   "execution_count": 99,
   "id": "507940fc",
   "metadata": {},
   "outputs": [],
   "source": [
    "# word -> int mapping.\n",
    "stoi = VOCAB.get_stoi()\n",
    "# int -> word mapping.\n",
    "itos = VOCAB.get_itos() "
   ]
  },
  {
   "cell_type": "code",
   "execution_count": 102,
   "id": "3a444e83",
   "metadata": {},
   "outputs": [
    {
     "data": {
      "text/plain": [
       "63641"
      ]
     },
     "execution_count": 102,
     "metadata": {},
     "output_type": "execute_result"
    }
   ],
   "source": [
    "# The vocabulary size after we do all the filters.\n",
    "len(VOCAB)"
   ]
  },
  {
   "cell_type": "code",
   "execution_count": 101,
   "id": "41cbbc14",
   "metadata": {},
   "outputs": [],
   "source": [
    "# The probability we draw something for negative sampling.\n",
    "f = Counter(train_dataset)\n",
    "p = torch.zeros(len(VOCAB))\n",
    "\n",
    "# Downsample frequent words and upsample less frequent.\n",
    "s = sum([np.power(freq, 0.75) for word, freq in f.items()])        \n",
    "\n",
    "for word in f:\n",
    "    p[stoi[word]] = np.power(f[word], 0.75) / s"
   ]
  },
  {
   "cell_type": "code",
   "execution_count": 103,
   "id": "4a2e7296",
   "metadata": {},
   "outputs": [],
   "source": [
    "# Map everything to integers.\n",
    "train_dataset = [stoi[word] for word in text]"
   ]
  },
  {
   "cell_type": "code",
   "execution_count": 104,
   "id": "8e96c0c4",
   "metadata": {},
   "outputs": [],
   "source": [
    "# This just gets the (wc, wo) pairs that are positive - they are seen together!\n",
    "def get_tokenized_dataset(dataset, verbose=False):\n",
    "    x_list = []\n",
    "        \n",
    "    for i, token in enumerate(dataset):\n",
    "        # Pick a RANDOM window around the center word.\n",
    "        m = random.randint(1, 5)\n",
    "        \n",
    "        start = max(0,i-m)\n",
    "        \n",
    "        end = min(i+m,len(dataset)-1)\n",
    "        \n",
    "        target_tokens = dataset[start:i] + dataset[i+1:end+1]\n",
    "            \n",
    "        wc = token\n",
    "            \n",
    "        x_list.extend([\n",
    "            [wc, wo] for wo in target_tokens\n",
    "        ])\n",
    "            \n",
    "    return x_list"
   ]
  },
  {
   "cell_type": "code",
   "execution_count": 105,
   "id": "3eb82aad",
   "metadata": {},
   "outputs": [],
   "source": [
    "train_x_list = get_tokenized_dataset(train_dataset, verbose=False)"
   ]
  },
  {
   "cell_type": "code",
   "execution_count": 106,
   "id": "8412ee4d",
   "metadata": {},
   "outputs": [],
   "source": [
    "pickle.dump(train_x_list, open('train_x_list.pkl', 'wb'))"
   ]
  },
  {
   "cell_type": "code",
   "execution_count": 107,
   "id": "3fd54caf",
   "metadata": {},
   "outputs": [],
   "source": [
    "train_x_list = pickle.load(open('train_x_list.pkl', 'rb'))"
   ]
  },
  {
   "cell_type": "code",
   "execution_count": 108,
   "id": "576765f3",
   "metadata": {},
   "outputs": [
    {
     "data": {
      "text/plain": [
       "[[5233, 3083],\n",
       " [5233, 11],\n",
       " [5233, 6],\n",
       " [5233, 201],\n",
       " [3083, 5233],\n",
       " [3083, 11],\n",
       " [11, 5233],\n",
       " [11, 3083],\n",
       " [11, 6],\n",
       " [6, 3083]]"
      ]
     },
     "execution_count": 108,
     "metadata": {},
     "output_type": "execute_result"
    }
   ],
   "source": [
    "# These are (wc, wo) pairs. All are y = +1 by design.\n",
    "train_x_list[:10]"
   ]
  },
  {
   "cell_type": "code",
   "execution_count": 109,
   "id": "8137dbd6",
   "metadata": {},
   "outputs": [
    {
     "data": {
      "text/plain": [
       "162946"
      ]
     },
     "execution_count": 109,
     "metadata": {},
     "output_type": "execute_result"
    }
   ],
   "source": [
    "# The number of things of BATCH_SIZE = 512.\n",
    "len(train_x_list) // BATCH_SIZE"
   ]
  },
  {
   "cell_type": "code",
   "execution_count": null,
   "id": "9952d8d5",
   "metadata": {},
   "outputs": [],
   "source": []
  },
  {
   "cell_type": "markdown",
   "id": "77f04be5",
   "metadata": {},
   "source": [
    "### Set up the dataloader."
   ]
  },
  {
   "cell_type": "code",
   "execution_count": 34,
   "id": "2e31ae4b",
   "metadata": {},
   "outputs": [],
   "source": [
    "train_dl = DataLoader(\n",
    "    TensorDataset(\n",
    "        torch.tensor(train_x_list).to(DEVICE),\n",
    "    ),\n",
    "    batch_size=BATCH_SIZE,\n",
    "    shuffle=True\n",
    ")"
   ]
  },
  {
   "cell_type": "code",
   "execution_count": null,
   "id": "8c949153",
   "metadata": {},
   "outputs": [],
   "source": []
  },
  {
   "cell_type": "markdown",
   "id": "12d93d22",
   "metadata": {},
   "source": [
    "### Words we'll use to asses the quality of the model ..."
   ]
  },
  {
   "cell_type": "code",
   "execution_count": 35,
   "id": "ffada8d0",
   "metadata": {},
   "outputs": [],
   "source": [
    "valid_ids = torch.tensor([\n",
    "    stoi['money'],\n",
    "    stoi['lion'],\n",
    "    stoi['africa'],\n",
    "    stoi['musician'],\n",
    "    stoi['dance'],\n",
    "])"
   ]
  },
  {
   "cell_type": "code",
   "execution_count": null,
   "id": "13f64b87",
   "metadata": {},
   "outputs": [],
   "source": []
  },
  {
   "cell_type": "markdown",
   "id": "64096cd8",
   "metadata": {},
   "source": [
    "### Get the model."
   ]
  },
  {
   "cell_type": "code",
   "execution_count": 110,
   "id": "dc51c359",
   "metadata": {},
   "outputs": [],
   "source": [
    "class SkipGramNegativeSampling(nn.Module):\n",
    "    def __init__(self, vocab_size, embed_dim):\n",
    "        super(SkipGramNegativeSampling, self).__init__()\n",
    "        self.A = nn.Embedding(vocab_size, embed_dim) # Context vectors - center word.\n",
    "        self.B = nn.Embedding(vocab_size, embed_dim) # Output vectors - words around the center word.\n",
    "        self.init_weights()\n",
    "\n",
    "    def init_weights(self):\n",
    "        # Is this the best way? Not sure.\n",
    "        initrange = 0.5\n",
    "        self.A.weight.data.uniform_(-initrange, initrange)\n",
    "        self.B.weight.data.uniform_(-initrange, initrange)\n",
    "\n",
    "    def forward(self, x):\n",
    "        # N is the batch size.\n",
    "        # x is (N, 2)\n",
    "        \n",
    "        # Each of these is (N, 1)\n",
    "        wc, wo = x[:, 0], x[:, 1]\n",
    "        \n",
    "        # Each of these is (N, 1, D) since each context has 1 word.\n",
    "        a = self.A(wc)\n",
    "        \n",
    "        # Each of these is (N, 1, D) since each target has 1 word.\n",
    "        b = self.B(wo)\n",
    "                \n",
    "        # The product between each context and target vector.\n",
    "        # Each of these is (N, 1, D) since each batch has 1 word.\n",
    "        # The logits is now (N, 1) since we sum across the final dimension.\n",
    "        logits = (a * b).sum(axis=-1)\n",
    "                \n",
    "        return logits"
   ]
  },
  {
   "cell_type": "code",
   "execution_count": null,
   "id": "7ae817c1",
   "metadata": {},
   "outputs": [],
   "source": []
  },
  {
   "cell_type": "code",
   "execution_count": 111,
   "id": "ed9c509d",
   "metadata": {},
   "outputs": [],
   "source": [
    "@torch.no_grad()\n",
    "def validate_embeddings(\n",
    "    model,\n",
    "    valid_ids,\n",
    "    itos\n",
    "):\n",
    "    \"\"\" Validation logic \"\"\"\n",
    "\n",
    "    # We will use context embeddings to get the most similar words\n",
    "    # Other strategies include: using target embeddings, mean embeddings after avaraging context/target\n",
    "    embedding_weights = model.A.weight\n",
    "        \n",
    "    normalized_embeddings = embedding_weights.cpu() / np.sqrt(\n",
    "        np.sum(embedding_weights.cpu().numpy()**2, axis=1, keepdims=True)\n",
    "    )\n",
    "\n",
    "    # Get the embeddings corresponding to valid_term_ids\n",
    "    valid_embeddings = normalized_embeddings[valid_ids, :]\n",
    "\n",
    "    # Compute the similarity between valid_term_ids (S) and all the embeddings (V).\n",
    "    # We do S x d (d x V) => S x D and sort by negative similarity.\n",
    "    top_k = 10 # Top k items will be displayed.\n",
    "    similarity = np.dot(valid_embeddings.cpu().numpy(), normalized_embeddings.cpu().numpy().T)\n",
    "\n",
    "    # Invert similarity matrix to negative\n",
    "    # Ignore the first one because that would be the same word as the probe word\n",
    "    similarity_top_k = np.argsort(-similarity, axis=1)[:, 1: top_k+1]\n",
    "\n",
    "    # Print the output.\n",
    "    for i, word_id in enumerate(valid_ids):\n",
    "        # j >= 1 here since we don't want to include the word itself.\n",
    "        similar_word_str = ', '.join([itos[j] for j in similarity_top_k[i, :] if j >= 1])\n",
    "        print(f\"{itos[word_id]}: {similar_word_str}\")\n",
    "\n",
    "    print('\\n')"
   ]
  },
  {
   "cell_type": "code",
   "execution_count": null,
   "id": "b0c194b8",
   "metadata": {},
   "outputs": [],
   "source": []
  },
  {
   "cell_type": "markdown",
   "id": "3b3c6ed5",
   "metadata": {},
   "source": [
    "### Set up the model"
   ]
  },
  {
   "cell_type": "code",
   "execution_count": 112,
   "id": "95118499",
   "metadata": {},
   "outputs": [],
   "source": [
    "LR = 10.0\n",
    "NUM_EPOCHS = 10\n",
    "EMBED_DIM = 300"
   ]
  },
  {
   "cell_type": "code",
   "execution_count": 113,
   "id": "cef585f4",
   "metadata": {},
   "outputs": [],
   "source": [
    "model = SkipGramNegativeSampling(len(VOCAB), EMBED_DIM).to(DEVICE)\n",
    "optimizer = torch.optim.SGD(model.parameters(), lr=LR)\n",
    "# The learning rate is lowered every epoch by 1/10.\n",
    "# Is this a good idea?\n",
    "scheduler = torch.optim.lr_scheduler.StepLR(optimizer, 1, gamma=0.1)"
   ]
  },
  {
   "cell_type": "code",
   "execution_count": 114,
   "id": "f8a642bf",
   "metadata": {},
   "outputs": [
    {
     "data": {
      "text/plain": [
       "SkipGramNegativeSampling(\n",
       "  (A): Embedding(63641, 300)\n",
       "  (B): Embedding(63641, 300)\n",
       ")"
      ]
     },
     "execution_count": 114,
     "metadata": {},
     "output_type": "execute_result"
    }
   ],
   "source": [
    "model"
   ]
  },
  {
   "cell_type": "code",
   "execution_count": 115,
   "id": "85773616",
   "metadata": {},
   "outputs": [
    {
     "name": "stdout",
     "output_type": "stream",
     "text": [
      "money: bogies, prop, purist, restructure, mates, destroyed, sfa, vpn, naturalis, drill\n",
      "lion: cumulative, tricolor, yury, dragged, orthodox, undergo, amman, pdv, carroll, spoilage\n",
      "low: houma, ideologies, thurston, operands, kessinger, wanderer, oscar, consultancy, stranding, anemic\n",
      "musician: forwarded, pessoa, analects, golf, inseparable, erasing, petitioned, cater, transitional, cnn\n",
      "dance: sutton, phosphor, faltering, johore, trackless, marne, nemours, consequence, relapsed, nisan\n",
      "\n",
      "\n"
     ]
    }
   ],
   "source": [
    "validate_embeddings(model, valid_ids, itos)"
   ]
  },
  {
   "cell_type": "code",
   "execution_count": null,
   "id": "7867ee3c",
   "metadata": {},
   "outputs": [],
   "source": []
  },
  {
   "cell_type": "markdown",
   "id": "86476e2a",
   "metadata": {},
   "source": [
    "### Train the model"
   ]
  },
  {
   "cell_type": "code",
   "execution_count": 54,
   "id": "24950481",
   "metadata": {},
   "outputs": [],
   "source": [
    "ratios = []\n",
    "\n",
    "def train(dataloader, model, optimizer, epoch):\n",
    "    model.train()\n",
    "    total_acc, total_count, total_loss, total_batches = 0, 0, 0.0, 0.0\n",
    "    log_interval = 500\n",
    "    \n",
    "    for idx, x_batch in tqdm(enumerate(dataloader)):\n",
    "        \n",
    "        x_batch = x_batch[0]\n",
    "        \n",
    "        batch_size = x_batch.shape[0]\n",
    "                \n",
    "        optimizer.zero_grad()\n",
    "        \n",
    "        logits = model(x_batch)\n",
    "                \n",
    "        # Get the positive samples loss. Notice we use weights here.\n",
    "        positive_loss = torch.nn.BCEWithLogitsLoss()(input=logits, target=torch.ones(batch_size).to(DEVICE).float())\n",
    "        \n",
    "        # For each batch, get some negative samples.\n",
    "        # We need a total of len(y_batch) * 2* WINDOW * K samples across a batch.\n",
    "        # We then reshape this batch.\n",
    "        # These are effectively the output words.\n",
    "        negative_samples = torch.multinomial(p, batch_size * K, replacement=True)\n",
    "        \n",
    "        # Repeat the center word enough times so we can merge as needed.\n",
    "        # Repeat does not work on MPS apparently.\n",
    "        wc = x_batch[:, 0].to(\"cpu\").repeat(K).sort().values\n",
    "        wo = negative_samples\n",
    "        \n",
    "        # Get the negative samples.\n",
    "        x_batch_negative = torch.stack([wc, wo], axis=1).to(DEVICE)\n",
    "        \n",
    "        \"\"\"\n",
    "        Note the way we formulated the targets: they are all 0 since these are negative samples.\n",
    "        We do the BCEWithLogitsLoss by hand basically here.\n",
    "        Notice we sum across the negative samples, per positive word.\n",
    "        \n",
    "        This is literally the equation in the lecture notes.\n",
    "        \"\"\"\n",
    "        negative_loss = model(x_batch_negative).neg().sigmoid().log().reshape(\n",
    "            batch_size, K\n",
    "        ).sum(1).mean().neg().to(DEVICE)\n",
    "        \n",
    "        loss = (positive_loss + negative_loss).mean()\n",
    "                \n",
    "        # Get the gradients via back propagation. \n",
    "        loss.backward()\n",
    "                        \n",
    "        # Clip the gradients? Generally a good idea.\n",
    "        torch.nn.utils.clip_grad_norm_(model.parameters(), 0.1)\n",
    "        \n",
    "        # Used for optimization. This should be roughly 0.001, on average.\n",
    "        # You can use this to see if your learning rate is right - you can also plot the loss performance.\n",
    "        with torch.no_grad():\n",
    "            r = [\n",
    "                (LR * p.grad.std() / p.data.std()).log10().item() for _, p in model.named_parameters()\n",
    "            ]\n",
    "            ratios.append(r)  \n",
    "        \n",
    "        # Do an optimization step. Update the parameters A and B.\n",
    "        optimizer.step()\n",
    "        total_loss += loss.item()\n",
    "        total_batches += 1\n",
    "                \n",
    "        if idx % log_interval == 0:\n",
    "            print(\n",
    "                \"| epoch {:3d} | {:5d}/{:5d} batches \"\n",
    "                \"| loss {:8.3f} \".format(\n",
    "                    epoch,\n",
    "                    idx,\n",
    "                    len(dataloader),\n",
    "                    total_loss / total_batches\n",
    "                )\n",
    "            )\n",
    "            validate_embeddings(model, valid_ids, itos)\n",
    "            total_loss, total_batches = 0.0, 0.0"
   ]
  },
  {
   "attachments": {
    "Results.png": {
     "image/png": "[encoded data removed]"
    }
   },
   "cell_type": "markdown",
   "id": "61fe7e0d",
   "metadata": {},
   "source": [
    "### Some results from the run look like below:\n",
    "\n",
    "![Results.png](attachment:Results.png)"
   ]
  },
  {
   "cell_type": "code",
   "execution_count": 55,
   "id": "a9e02c09",
   "metadata": {},
   "outputs": [
    {
     "name": "stderr",
     "output_type": "stream",
     "text": [
      "1it [00:03,  3.14s/it]"
     ]
    },
    {
     "name": "stdout",
     "output_type": "stream",
     "text": [
      "| epoch   1 |     0/162913 batches | loss    4.418 \n",
      "money: heapsort, browne, sidi, overridden, dugme, fiji, deol, dystrophy, plotting, stringent\n",
      "lion: treasures, mulligan, gauntlet, cramped, interchanged, vanderbilt, inducted, smelting, koenig, firmly\n",
      "africa: regrets, hasek, privacy, xiongnu, fermenting, abv, reason, freude, staunton, interest\n",
      "musician: prussians, palaces, walnut, lamborghini, vigor, tbms, char, cela, swiftness, cga\n",
      "dance: francois, deadweight, leuven, dispatch, ii, medalist, carty, mickey, charred, ostrich\n",
      "\n",
      "\n"
     ]
    },
    {
     "name": "stderr",
     "output_type": "stream",
     "text": [
      "503it [00:36, 13.90it/s]"
     ]
    },
    {
     "name": "stdout",
     "output_type": "stream",
     "text": [
      "| epoch   1 |   500/162913 batches | loss    4.145 \n",
      "money: heapsort, sidi, browne, overridden, dugme, plotting, deol, stringent, renounces, fiji\n",
      "lion: treasures, mulligan, gauntlet, cramped, interchanged, vanderbilt, smelting, inducted, koenig, firmly\n",
      "africa: regrets, hasek, abv, reason, privacy, fermenting, xiongnu, staunton, freude, bum\n",
      "musician: prussians, palaces, walnut, lamborghini, vigor, tbms, char, waring, cga, swiftness\n",
      "dance: francois, deadweight, leuven, ii, dispatch, mickey, medalist, carty, charred, roommates\n",
      "\n",
      "\n"
     ]
    },
    {
     "name": "stderr",
     "output_type": "stream",
     "text": [
      "1003it [01:09, 13.58it/s]"
     ]
    },
    {
     "name": "stdout",
     "output_type": "stream",
     "text": [
      "| epoch   1 |  1000/162913 batches | loss    3.876 \n",
      "money: heapsort, browne, sidi, overridden, dugme, plotting, deol, fields, stringent, maga\n",
      "lion: treasures, mulligan, gauntlet, cramped, interchanged, vanderbilt, smelting, inducted, koenig, firmly\n",
      "africa: regrets, hasek, fermenting, abv, privacy, xiongnu, freude, bum, reason, staunton\n",
      "musician: prussians, palaces, lamborghini, tbms, walnut, vigor, char, swiftness, cga, waring\n",
      "dance: francois, deadweight, leuven, ii, dispatch, mickey, medalist, carty, charred, ostrich\n",
      "\n",
      "\n"
     ]
    },
    {
     "name": "stderr",
     "output_type": "stream",
     "text": [
      "1501it [01:43, 12.91it/s]"
     ]
    },
    {
     "name": "stdout",
     "output_type": "stream",
     "text": [
      "| epoch   1 |  1500/162913 batches | loss    3.670 \n",
      "money: heapsort, browne, sidi, overridden, dugme, stringent, plotting, fields, deol, trifles\n",
      "lion: treasures, mulligan, gauntlet, cramped, interchanged, vanderbilt, smelting, koenig, inducted, abductions\n",
      "africa: abv, fermenting, hasek, regrets, xiongnu, bum, privacy, freude, reason, staunton\n",
      "musician: prussians, palaces, tbms, lamborghini, walnut, vigor, char, swiftness, waring, benefices\n",
      "dance: francois, ii, deadweight, leuven, dispatch, mickey, medalist, carty, charred, galba\n",
      "\n",
      "\n"
     ]
    },
    {
     "name": "stderr",
     "output_type": "stream",
     "text": [
      "2003it [02:16, 13.99it/s]"
     ]
    },
    {
     "name": "stdout",
     "output_type": "stream",
     "text": [
      "| epoch   1 |  2000/162913 batches | loss    3.483 \n",
      "money: heapsort, browne, sidi, overridden, dugme, fields, plotting, stringent, trifles, vig\n",
      "lion: treasures, mulligan, gauntlet, cramped, interchanged, vanderbilt, koenig, smelting, abductions, forgiveness\n",
      "africa: abv, fermenting, hasek, bum, freude, regrets, reason, privacy, xiongnu, staunton\n",
      "musician: prussians, palaces, tbms, lamborghini, walnut, vigor, char, swiftness, twilight, cga\n",
      "dance: ii, francois, deadweight, leuven, dispatch, mickey, medalist, charred, carty, galba\n",
      "\n",
      "\n"
     ]
    },
    {
     "name": "stderr",
     "output_type": "stream",
     "text": [
      "2501it [02:49, 12.79it/s]"
     ]
    },
    {
     "name": "stdout",
     "output_type": "stream",
     "text": [
      "| epoch   1 |  2500/162913 batches | loss    3.327 \n",
      "money: heapsort, browne, sidi, overridden, its, dugme, plotting, fields, vig, foley\n",
      "lion: treasures, mulligan, gauntlet, cramped, vanderbilt, interchanged, koenig, smelting, forgiveness, abductions\n",
      "africa: abv, fermenting, reason, renamed, privacy, freude, gm, forwarded, uncaring, wei\n",
      "musician: prussians, tbms, palaces, walnut, lamborghini, char, vigor, would, cga, footing\n",
      "dance: ii, francois, leuven, deadweight, dispatch, medalist, mickey, carty, charred, galba\n",
      "\n",
      "\n"
     ]
    },
    {
     "name": "stderr",
     "output_type": "stream",
     "text": [
      "3003it [03:22, 13.95it/s]"
     ]
    },
    {
     "name": "stdout",
     "output_type": "stream",
     "text": [
      "| epoch   1 |  3000/162913 batches | loss    3.200 \n",
      "money: heapsort, sidi, browne, as, overridden, its, also, fields, number, deol\n",
      "lion: mulligan, treasures, gauntlet, cramped, vanderbilt, interchanged, koenig, forgiveness, abductions, smelting\n",
      "africa: reason, their, life, fermenting, renamed, abv, freude, forwarded, gm, uncaring\n",
      "musician: prussians, tbms, palaces, walnut, lamborghini, char, would, vigor, cga, footing\n",
      "dance: ii, francois, deadweight, leuven, medalist, mickey, dispatch, used, start, galba\n",
      "\n",
      "\n"
     ]
    },
    {
     "name": "stderr",
     "output_type": "stream",
     "text": [
      "3503it [03:55, 13.95it/s]"
     ]
    },
    {
     "name": "stdout",
     "output_type": "stream",
     "text": [
      "| epoch   1 |  3500/162913 batches | loss    3.091 \n",
      "money: as, also, their, is, made, its, sidi, some, number, this\n",
      "lion: mulligan, treasures, gauntlet, cramped, vanderbilt, interchanged, koenig, forgiveness, abductions, smelting\n",
      "africa: reason, life, their, renamed, abv, fermenting, freude, gm, forwarded, interest\n",
      "musician: prussians, tbms, palaces, would, lamborghini, walnut, char, vigor, cga, nonconfirmative\n",
      "dance: ii, francois, deadweight, leuven, used, can, medalist, mickey, dispatch, start\n",
      "\n",
      "\n"
     ]
    },
    {
     "name": "stderr",
     "output_type": "stream",
     "text": [
      "4003it [04:28, 13.92it/s]"
     ]
    },
    {
     "name": "stdout",
     "output_type": "stream",
     "text": [
      "| epoch   1 |  4000/162913 batches | loss    2.995 \n",
      "money: also, some, their, as, is, made, its, city, all, s\n",
      "lion: mulligan, gauntlet, treasures, cramped, vanderbilt, interchanged, koenig, abductions, forgiveness, spilled\n",
      "africa: their, life, reason, called, renamed, it, when, particular, city, has\n",
      "musician: prussians, tbms, would, palaces, u, lamborghini, walnut, char, some, vigor\n",
      "dance: ii, francois, used, deadweight, leuven, medalist, can, be, mickey, start\n",
      "\n",
      "\n"
     ]
    },
    {
     "name": "stderr",
     "output_type": "stream",
     "text": [
      "4503it [05:01, 14.17it/s]"
     ]
    },
    {
     "name": "stdout",
     "output_type": "stream",
     "text": [
      "| epoch   1 |  4500/162913 batches | loss    2.911 \n",
      "money: their, to, made, its, also, all, some, city, number, after\n",
      "lion: mulligan, gauntlet, treasures, cramped, koenig, vanderbilt, interchanged, abductions, spilled, forgiveness\n",
      "africa: life, their, called, city, reason, for, has, may, age, see\n",
      "musician: prussians, tbms, would, some, first, u, be, use, even, palaces\n",
      "dance: ii, francois, used, can, be, but, although, is, while, start\n",
      "\n",
      "\n"
     ]
    },
    {
     "name": "stderr",
     "output_type": "stream",
     "text": [
      "5003it [05:33, 14.03it/s]"
     ]
    },
    {
     "name": "stdout",
     "output_type": "stream",
     "text": [
      "| epoch   1 |  5000/162913 batches | loss    2.841 \n",
      "money: made, some, their, number, as, all, after, city, are, its\n",
      "lion: mulligan, treasures, gauntlet, cramped, interchanged, vanderbilt, koenig, spilled, abductions, forgiveness\n",
      "africa: life, their, called, city, this, when, some, been, time, age\n",
      "musician: would, use, first, prussians, tbms, out, have, even, u, been\n",
      "dance: ii, used, can, although, but, francois, be, while, against, house\n",
      "\n",
      "\n"
     ]
    },
    {
     "name": "stderr",
     "output_type": "stream",
     "text": [
      "5503it [06:06, 14.00it/s]"
     ]
    },
    {
     "name": "stdout",
     "output_type": "stream",
     "text": [
      "| epoch   1 |  5500/162913 batches | loss    2.777 \n",
      "money: made, all, it, number, city, their, its, under, some, after\n",
      "lion: mulligan, gauntlet, treasures, cramped, vanderbilt, interchanged, koenig, spilled, abductions, forgiveness\n",
      "africa: life, their, called, city, other, been, has, may, with, time\n",
      "musician: use, out, first, would, three, even, e, u, been, tbms\n",
      "dance: ii, can, used, but, while, house, against, when, although\n",
      "\n",
      "\n"
     ]
    },
    {
     "name": "stderr",
     "output_type": "stream",
     "text": [
      "6003it [06:38, 13.87it/s]"
     ]
    },
    {
     "name": "stdout",
     "output_type": "stream",
     "text": [
      "| epoch   1 |  6000/162913 batches | loss    2.709 \n",
      "money: made, under, group, number, all, city, their, it, its, have\n",
      "lion: mulligan, gauntlet, treasures, cramped, vanderbilt, spilled, interchanged, koenig, forgiveness, nzd\n",
      "africa: life, their, called, city, some, th, day, and, other\n",
      "musician: use, out, is, first, even, following, e, would, eight, or\n",
      "dance: ii, can, used, while, but, house, more, against, although, as\n",
      "\n",
      "\n"
     ]
    },
    {
     "name": "stderr",
     "output_type": "stream",
     "text": [
      "6503it [25:35, 13.88it/s] "
     ]
    },
    {
     "name": "stdout",
     "output_type": "stream",
     "text": [
      "| epoch   1 |  6500/162913 batches | loss    2.651 \n",
      "money: under, group, made, number, all, city, it, its, there, world\n",
      "lion: mulligan, gauntlet, cramped, treasures, vanderbilt, interchanged, koenig, spilled, forgiveness, nzd\n",
      "africa: city, some, called, their, life, and, year, time, its, may\n",
      "musician: out, use, following, is, even, e, book, u, has, six\n",
      "dance: ii, while, can, used, from, but, against, although, house, as\n",
      "\n",
      "\n"
     ]
    },
    {
     "name": "stderr",
     "output_type": "stream",
     "text": [
      "7003it [27:00, 13.86it/s]"
     ]
    },
    {
     "name": "stdout",
     "output_type": "stream",
     "text": [
      "| epoch   1 |  7000/162913 batches | loss    2.608 \n",
      "money: group, number, made, under, all, city, its, also, are, some\n",
      "lion: mulligan, gauntlet, cramped, treasures, vanderbilt, interchanged, koenig, spilled, forgiveness, inducted\n",
      "africa: life, called, city, their, since, some, day, year, this, there\n",
      "musician: use, out, eight, would, has, is, following, e, six, seven\n",
      "dance: ii, used, can, while, against, day, both, when, year, work\n",
      "\n",
      "\n"
     ]
    },
    {
     "name": "stderr",
     "output_type": "stream",
     "text": [
      "7503it [27:33, 13.99it/s]"
     ]
    },
    {
     "name": "stdout",
     "output_type": "stream",
     "text": [
      "| epoch   1 |  7500/162913 batches | loss    2.566 \n",
      "money: group, made, under, number, city, it, all, its, s, age\n",
      "lion: mulligan, cramped, gauntlet, treasures, vanderbilt, interchanged, spilled, koenig, nzd, inducted\n",
      "africa: called, city, their, life, since, and, were, known, day, year\n",
      "musician: use, out, e, would, u, book, four, th, five, x\n",
      "dance: ii, against, both, when, while, country, can, used, year, more\n",
      "\n",
      "\n"
     ]
    },
    {
     "name": "stderr",
     "output_type": "stream",
     "text": [
      "8003it [28:06, 14.06it/s]"
     ]
    },
    {
     "name": "stdout",
     "output_type": "stream",
     "text": [
      "| epoch   1 |  8000/162913 batches | loss    2.528 \n",
      "money: group, made, under, number, time, its, city, all, after, as\n",
      "lion: cramped, mulligan, gauntlet, treasures, vanderbilt, interchanged, nzd, spilled, koenig, forgiveness\n",
      "africa: called, city, life, since, day, who, year, known, their, government\n",
      "musician: use, out, e, five, four, would, six, th, three, x\n",
      "dance: ii, can, when, against, year, used, country, both, day, although\n",
      "\n",
      "\n"
     ]
    },
    {
     "name": "stderr",
     "output_type": "stream",
     "text": [
      "8503it [28:38, 13.92it/s]"
     ]
    },
    {
     "name": "stdout",
     "output_type": "stream",
     "text": [
      "| epoch   1 |  8500/162913 batches | loss    2.484 \n",
      "money: made, group, time, number, all, under, its, after, city, their\n",
      "lion: cramped, mulligan, gauntlet, treasures, vanderbilt, interchanged, spilled, nzd, inducted, koenig\n",
      "africa: called, life, since, day, year, government, city, and, their, there\n",
      "musician: use, one, out, e, four, would, seven, three, is, while\n",
      "dance: ii, against, used, when, although, can, both, year, called, country\n",
      "\n",
      "\n"
     ]
    },
    {
     "name": "stderr",
     "output_type": "stream",
     "text": [
      "9003it [29:11, 13.97it/s]"
     ]
    },
    {
     "name": "stdout",
     "output_type": "stream",
     "text": [
      "| epoch   1 |  9000/162913 batches | loss    2.452 \n",
      "money: time, group, under, number, called, all, also, their, made, europe\n",
      "lion: cramped, mulligan, gauntlet, treasures, vanderbilt, spilled, interchanged, nzd, inducted, forgiveness\n",
      "africa: called, since, life, day, city, government, year, their, while, there\n",
      "musician: use, e, seven, out, one, would, john, eight, so, book\n",
      "dance: ii, can, against, year, although, called, day, its, more, used\n",
      "\n",
      "\n"
     ]
    },
    {
     "name": "stderr",
     "output_type": "stream",
     "text": [
      "9503it [29:44, 14.03it/s]"
     ]
    },
    {
     "name": "stdout",
     "output_type": "stream",
     "text": [
      "| epoch   1 |  9500/162913 batches | loss    2.426 \n",
      "money: group, called, under, also, number, time, its, age, a, europe\n",
      "lion: cramped, mulligan, gauntlet, treasures, vanderbilt, inducted, spilled, interchanged, nzd, forgiveness\n",
      "africa: called, since, and, life, while, year, city, day, people, age\n",
      "musician: use, e, seven, french, john, four, out, book, new, eight\n",
      "dance: ii, although, against, can, year, its, day, both, called, country\n",
      "\n",
      "\n"
     ]
    },
    {
     "name": "stderr",
     "output_type": "stream",
     "text": [
      "10003it [30:16, 14.07it/s]"
     ]
    },
    {
     "name": "stdout",
     "output_type": "stream",
     "text": [
      "| epoch   1 | 10000/162913 batches | loss    2.391 \n",
      "money: number, under, group, time, called, also, age, europe, city, new\n",
      "lion: cramped, mulligan, gauntlet, treasures, vanderbilt, inducted, spilled, nzd, interchanged, koenig\n",
      "africa: called, since, people, while, city, day, over, th, life, age\n",
      "musician: seven, john, use, e, french, four, book, following, three, six\n",
      "dance: both, although, ii, more, day, country, against, year, called, house\n",
      "\n",
      "\n"
     ]
    },
    {
     "name": "stderr",
     "output_type": "stream",
     "text": [
      "10503it [30:49, 13.87it/s]"
     ]
    },
    {
     "name": "stdout",
     "output_type": "stream",
     "text": [
      "| epoch   1 | 10500/162913 batches | loss    2.368 \n",
      "money: number, group, time, under, called, also, city, age, all, other\n",
      "lion: cramped, mulligan, gauntlet, treasures, vanderbilt, spilled, inducted, nzd, interchanged, koenig\n",
      "africa: city, called, since, while, day, with, people, over, year, life\n",
      "musician: john, seven, use, french, e, book, is, six, x, four\n",
      "dance: country, both, although, and, ii, year, more, against, day, house\n",
      "\n",
      "\n"
     ]
    },
    {
     "name": "stderr",
     "output_type": "stream",
     "text": [
      "11003it [31:22, 14.12it/s]"
     ]
    },
    {
     "name": "stdout",
     "output_type": "stream",
     "text": [
      "| epoch   1 | 11000/162913 batches | loss    2.343 \n",
      "money: number, group, under, age, time, after, both, all, city, found\n",
      "lion: cramped, mulligan, gauntlet, treasures, vanderbilt, inducted, spilled, interchanged, nzd, koenig\n",
      "africa: called, since, city, while, with, th, age, over, year, day\n",
      "musician: seven, john, use, six, french, three, e, book, two, x\n",
      "dance: both, country, year, house, against, than, more, work, although, day\n",
      "\n",
      "\n"
     ]
    },
    {
     "name": "stderr",
     "output_type": "stream",
     "text": [
      "11503it [31:54, 14.15it/s]"
     ]
    },
    {
     "name": "stdout",
     "output_type": "stream",
     "text": [
      "| epoch   1 | 11500/162913 batches | loss    2.318 \n",
      "money: group, number, age, both, under, found, after, also, those, called\n",
      "lion: cramped, mulligan, gauntlet, treasures, inducted, vanderbilt, spilled, nzd, professional, interchanged\n",
      "africa: called, since, city, history, while, age, over, th, also, a\n",
      "musician: john, use, six, seven, french, e, x, two, b, book\n",
      "dance: country, both, house, more, year, work, when, against, but, than\n",
      "\n",
      "\n"
     ]
    },
    {
     "name": "stderr",
     "output_type": "stream",
     "text": [
      "12003it [32:26, 14.01it/s]"
     ]
    },
    {
     "name": "stdout",
     "output_type": "stream",
     "text": [
      "| epoch   1 | 12000/162913 batches | loss    2.293 \n",
      "money: group, number, age, those, found, under, after, both, called, time\n",
      "lion: cramped, mulligan, gauntlet, treasures, inducted, spilled, vanderbilt, professional, nzd, interchanged\n",
      "africa: city, history, since, called, and, age, state, people, over, country\n",
      "musician: john, five, x, seven, two, french, four, use, new, book\n",
      "dance: country, both, house, most, year, ii, against, more, although, work\n",
      "\n",
      "\n"
     ]
    },
    {
     "name": "stderr",
     "output_type": "stream",
     "text": [
      "12503it [32:58, 14.43it/s]"
     ]
    },
    {
     "name": "stdout",
     "output_type": "stream",
     "text": [
      "| epoch   1 | 12500/162913 batches | loss    2.276 \n",
      "money: group, number, age, those, both, called, found, under, other, europe\n",
      "lion: mulligan, cramped, gauntlet, treasures, inducted, vanderbilt, professional, spilled, nzd, museum\n",
      "africa: called, city, since, history, with, age, state, these, people, country\n",
      "musician: john, seven, x, five, two, french, four, e, book, nine\n",
      "dance: country, both, more, although, when, work, house, year, century, against\n",
      "\n",
      "\n"
     ]
    },
    {
     "name": "stderr",
     "output_type": "stream",
     "text": [
      "13003it [33:30, 14.52it/s]"
     ]
    },
    {
     "name": "stdout",
     "output_type": "stream",
     "text": [
      "| epoch   1 | 13000/162913 batches | loss    2.254 \n",
      "money: group, number, age, those, called, found, only, under, both, non\n",
      "lion: mulligan, cramped, gauntlet, treasures, inducted, professional, vanderbilt, spilled, nzd, museum\n",
      "africa: city, history, called, state, since, th, while, people, country, at\n",
      "musician: john, x, french, four, seven, book, e, two, one, july\n",
      "dance: country, although, year, house, both, more, century, but, ii, when\n",
      "\n",
      "\n"
     ]
    },
    {
     "name": "stderr",
     "output_type": "stream",
     "text": [
      "13503it [34:01, 14.41it/s]"
     ]
    },
    {
     "name": "stdout",
     "output_type": "stream",
     "text": [
      "| epoch   1 | 13500/162913 batches | loss    2.248 \n",
      "money: group, number, those, both, under, found, age, after, called, use\n",
      "lion: mulligan, cramped, gauntlet, treasures, professional, inducted, museum, nzd, spilled, vanderbilt\n",
      "africa: city, four, state, th, called, history, country, people, year, while\n",
      "musician: john, four, x, e, two, one, seven, book, july, french\n",
      "dance: country, but, although, year, house, most, both, ii, century, work\n",
      "\n",
      "\n"
     ]
    },
    {
     "name": "stderr",
     "output_type": "stream",
     "text": [
      "14003it [34:33, 14.26it/s]"
     ]
    },
    {
     "name": "stdout",
     "output_type": "stream",
     "text": [
      "| epoch   1 | 14000/162913 batches | loss    2.220 \n",
      "money: group, number, those, under, called, were, there, age, both, found\n",
      "lion: mulligan, cramped, gauntlet, professional, treasures, inducted, museum, nzd, friend, vanderbilt\n",
      "africa: city, four, while, th, year, history, state, age, called, at\n",
      "musician: four, john, seven, x, two, three, eight, is, e, french\n",
      "dance: country, most, year, although, both, century, but, house, are, music\n",
      "\n",
      "\n"
     ]
    },
    {
     "name": "stderr",
     "output_type": "stream",
     "text": [
      "14503it [35:05, 14.19it/s]"
     ]
    },
    {
     "name": "stdout",
     "output_type": "stream",
     "text": [
      "| epoch   1 | 14500/162913 batches | loss    2.203 \n",
      "money: group, number, those, age, both, were, found, under, other, only\n",
      "lion: mulligan, cramped, professional, gauntlet, treasures, inducted, museum, friend, dna, nzd\n",
      "africa: city, history, while, th, four, and, in, age, since\n",
      "musician: four, john, three, e, x, five, seven, is, book, zero\n",
      "dance: country, both, year, most, although, century, are, music, house, including\n",
      "\n",
      "\n"
     ]
    },
    {
     "name": "stderr",
     "output_type": "stream",
     "text": [
      "15003it [35:37, 14.04it/s]"
     ]
    },
    {
     "name": "stdout",
     "output_type": "stream",
     "text": [
      "| epoch   1 | 15000/162913 batches | loss    2.191 \n",
      "money: group, number, those, were, age, their, both, found, there, other\n",
      "lion: cramped, mulligan, professional, gauntlet, treasures, inducted, museum, dna, friend, hall\n",
      "africa: city, th, while, age, since, history, number, part, people, four\n",
      "musician: three, john, four, seven, two, e, x, six, d, book\n",
      "dance: country, most, year, music, although, both, century, are, including, other\n",
      "\n",
      "\n"
     ]
    },
    {
     "name": "stderr",
     "output_type": "stream",
     "text": [
      "15503it [36:09, 13.99it/s]"
     ]
    },
    {
     "name": "stdout",
     "output_type": "stream",
     "text": [
      "| epoch   1 | 15500/162913 batches | loss    2.176 \n",
      "money: number, group, those, age, both, found, there, were, other, their\n",
      "lion: cramped, mulligan, professional, gauntlet, treasures, inducted, museum, friend, dna, hall\n",
      "africa: city, history, th, people, since, over, age, around, while\n",
      "musician: three, john, seven, four, e, b, one, five, eight, x\n",
      "dance: country, most, music, year, both, are, although, more, century, including\n",
      "\n",
      "\n"
     ]
    },
    {
     "name": "stderr",
     "output_type": "stream",
     "text": [
      "16003it [36:41, 14.10it/s]"
     ]
    },
    {
     "name": "stdout",
     "output_type": "stream",
     "text": [
      "| epoch   1 | 16000/162913 batches | loss    2.165 \n",
      "money: group, number, those, and, is, both, their, age, there, found\n",
      "lion: cramped, mulligan, professional, gauntlet, museum, inducted, treasures, friend, dna, hall\n",
      "africa: and, city, people, th, history, south, around, since, part, age\n",
      "musician: john, three, b, seven, four, e, eight, book, one, july\n",
      "dance: country, most, year, music, both, are, or, more, although, century\n",
      "\n",
      "\n"
     ]
    },
    {
     "name": "stderr",
     "output_type": "stream",
     "text": [
      "16503it [37:14, 14.11it/s]"
     ]
    },
    {
     "name": "stdout",
     "output_type": "stream",
     "text": [
      "| epoch   1 | 16500/162913 batches | loss    2.157 \n",
      "money: group, those, number, only, age, their, found, were, both, c\n",
      "lion: professional, cramped, mulligan, museum, inducted, gauntlet, treasures, friend, dna, hall\n",
      "africa: city, history, th, people, south, part, in, around, first, and\n",
      "musician: john, four, seven, eight, e, d, b, book, one, five\n",
      "dance: country, music, most, year, more, known, or, other, both, when\n",
      "\n",
      "\n"
     ]
    },
    {
     "name": "stderr",
     "output_type": "stream",
     "text": [
      "17003it [37:46, 14.24it/s]"
     ]
    },
    {
     "name": "stdout",
     "output_type": "stream",
     "text": [
      "| epoch   1 | 17000/162913 batches | loss    2.141 \n",
      "money: group, number, those, their, there, found, use, only, c, age\n",
      "lion: professional, cramped, mulligan, inducted, museum, friend, treasures, gauntlet, hall, dna\n",
      "africa: city, history, and, th, south, part, people, around, over, during\n",
      "musician: john, seven, four, eight, three, english, b, july, e, six\n",
      "dance: country, music, most, year, more, both, known, although, like, day\n",
      "\n",
      "\n"
     ]
    },
    {
     "name": "stderr",
     "output_type": "stream",
     "text": [
      "17503it [38:18, 13.90it/s]"
     ]
    },
    {
     "name": "stdout",
     "output_type": "stream",
     "text": [
      "| epoch   1 | 17500/162913 batches | loss    2.130 \n",
      "money: group, those, use, number, who, found, age, both, life, europe\n",
      "lion: professional, museum, cramped, mulligan, inducted, dna, friend, hall, treasures, references\n",
      "africa: history, city, th, part, people, over, south, of, around, north\n",
      "musician: john, seven, four, eight, nine, one, b, e, english, d\n",
      "dance: country, music, most, more, year, although, like, both, known, she\n",
      "\n",
      "\n"
     ]
    },
    {
     "name": "stderr",
     "output_type": "stream",
     "text": [
      "18003it [38:51, 14.01it/s]"
     ]
    },
    {
     "name": "stdout",
     "output_type": "stream",
     "text": [
      "| epoch   1 | 18000/162913 batches | loss    2.115 \n",
      "money: group, those, use, age, who, number, found, both, there, only\n",
      "lion: professional, museum, inducted, hall, friend, dna, mulligan, cramped, references, treasures\n",
      "africa: city, th, history, south, over, people, north, part, country, since\n",
      "musician: seven, eight, john, four, one, b, d, six, nine, five\n",
      "dance: country, more, most, music, both, known, year, including, like, century\n",
      "\n",
      "\n"
     ]
    },
    {
     "name": "stderr",
     "output_type": "stream",
     "text": [
      "18503it [39:23, 14.04it/s]"
     ]
    },
    {
     "name": "stdout",
     "output_type": "stream",
     "text": [
      "| epoch   1 | 18500/162913 batches | loss    2.103 \n",
      "money: group, those, age, number, who, found, only, both, as, there\n",
      "lion: professional, museum, inducted, friend, dna, hall, mulligan, cramped, references, treasures\n",
      "africa: city, south, th, part, history, and, over, since, people, country\n",
      "musician: john, eight, seven, b, four, d, six, zero, five, one\n",
      "dance: country, more, music, both, known, including, year, most, although, century\n",
      "\n",
      "\n"
     ]
    },
    {
     "name": "stderr",
     "output_type": "stream",
     "text": [
      "19003it [40:02, 14.21it/s]"
     ]
    },
    {
     "name": "stdout",
     "output_type": "stream",
     "text": [
      "| epoch   1 | 19000/162913 batches | loss    2.094 \n",
      "money: group, those, who, age, number, fact, europe, as, found, while\n",
      "lion: professional, inducted, friend, museum, dna, hall, mulligan, cramped, references, running\n",
      "africa: south, city, part, around, history, east, th, people, country\n",
      "musician: seven, eight, d, john, b, zero, e, six, four, one\n",
      "dance: country, more, both, music, known, year, most, considered, although, including\n",
      "\n",
      "\n"
     ]
    },
    {
     "name": "stderr",
     "output_type": "stream",
     "text": [
      "19503it [40:33, 14.15it/s]"
     ]
    },
    {
     "name": "stdout",
     "output_type": "stream",
     "text": [
      "| epoch   1 | 19500/162913 batches | loss    2.087 \n",
      "money: group, those, who, there, as, found, age, fact, made, europe\n",
      "lion: professional, inducted, friend, hall, museum, dna, mulligan, cramped, workers, references\n",
      "africa: south, city, part, east, north, country, history, th, people\n",
      "musician: eight, john, seven, d, four, e, b, six, m, french\n",
      "dance: country, more, known, both, music, year, considered, although, modern, including\n",
      "\n",
      "\n"
     ]
    },
    {
     "name": "stderr",
     "output_type": "stream",
     "text": [
      "20003it [41:06, 14.35it/s]"
     ]
    },
    {
     "name": "stdout",
     "output_type": "stream",
     "text": [
      "| epoch   1 | 20000/162913 batches | loss    2.083 \n",
      "money: group, who, those, found, under, age, there, europe, fact, made\n",
      "lion: professional, inducted, dna, hall, museum, friend, mulligan, workers, cramped, foreign\n",
      "africa: south, east, part, city, north, history, people, and, country, th\n",
      "musician: seven, d, john, e, eight, four, one, b, born, zero\n",
      "dance: country, more, music, known, both, as, although, considered, such, year\n",
      "\n",
      "\n"
     ]
    },
    {
     "name": "stderr",
     "output_type": "stream",
     "text": [
      "20503it [41:37, 14.34it/s]"
     ]
    },
    {
     "name": "stdout",
     "output_type": "stream",
     "text": [
      "| epoch   1 | 20500/162913 batches | loss    2.070 \n",
      "money: group, who, those, found, to, made, europe, them, age, fact\n",
      "lion: professional, inducted, museum, dna, hall, friend, foreign, workers, mulligan, cramped\n",
      "africa: south, city, east, north, history, part, country, in, th, people\n",
      "musician: seven, e, d, john, four, one, eight, born, b, zero\n",
      "dance: country, more, music, use, although, century, year, considered, both, modern\n",
      "\n",
      "\n"
     ]
    },
    {
     "name": "stderr",
     "output_type": "stream",
     "text": [
      "21003it [42:09, 14.39it/s]"
     ]
    },
    {
     "name": "stdout",
     "output_type": "stream",
     "text": [
      "| epoch   1 | 21000/162913 batches | loss    2.058 \n",
      "money: group, who, those, them, found, made, there, its, order, europe\n",
      "lion: professional, friend, inducted, hall, dna, museum, foreign, workers, by, rather\n",
      "africa: south, north, part, city, country, east, history, west, th, over\n",
      "musician: seven, e, john, d, b, four, eight, born, five, nine\n",
      "dance: country, more, music, and, use, considered, although, including, century, year\n",
      "\n",
      "\n"
     ]
    },
    {
     "name": "stderr",
     "output_type": "stream",
     "text": [
      "21503it [42:41, 14.43it/s]"
     ]
    },
    {
     "name": "stdout",
     "output_type": "stream",
     "text": [
      "| epoch   1 | 21500/162913 batches | loss    2.044 \n",
      "money: group, who, those, found, order, made, them, europe, now, age\n",
      "lion: professional, friend, inducted, museum, hall, dna, foreign, workers, intended, running\n",
      "africa: south, north, city, part, east, country, history, th, west, since\n",
      "musician: seven, john, d, four, eight, e, english, nine, one, b\n",
      "dance: country, more, and, music, considered, century, year, including, both, use\n",
      "\n",
      "\n"
     ]
    },
    {
     "name": "stderr",
     "output_type": "stream",
     "text": [
      "22001it [43:15, 12.83it/s]"
     ]
    },
    {
     "name": "stdout",
     "output_type": "stream",
     "text": [
      "| epoch   1 | 22000/162913 batches | loss    2.041 \n",
      "money: group, those, order, found, number, who, now, this, europe, its\n",
      "lion: professional, inducted, friend, museum, hall, dna, foreign, intended, workers, references\n",
      "africa: south, north, east, history, city, part, country, th, over, west\n",
      "musician: seven, nine, one, d, eight, john, four, e, english, six\n",
      "dance: more, country, music, considered, century, both, although, use, year, known\n",
      "\n",
      "\n"
     ]
    },
    {
     "name": "stderr",
     "output_type": "stream",
     "text": [
      "22503it [43:49, 14.28it/s]"
     ]
    },
    {
     "name": "stdout",
     "output_type": "stream",
     "text": [
      "| epoch   1 | 22500/162913 batches | loss    2.034 \n",
      "money: group, order, those, found, number, will, now, from, fact, age\n",
      "lion: professional, friend, inducted, museum, hall, dna, foreign, intended, workers, references\n",
      "africa: north, south, east, city, country, part, history, united, west, over\n",
      "musician: seven, one, eight, john, nine, four, d, french, b, e\n",
      "dance: more, country, music, although, considered, nine, both, century, use, most\n",
      "\n",
      "\n"
     ]
    },
    {
     "name": "stderr",
     "output_type": "stream",
     "text": [
      "23003it [44:22, 13.40it/s]"
     ]
    },
    {
     "name": "stdout",
     "output_type": "stream",
     "text": [
      "| epoch   1 | 23000/162913 batches | loss    2.027 \n",
      "money: group, those, found, now, and, will, order, age, them, number\n",
      "lion: professional, inducted, museum, friend, hall, dna, intended, foreign, rather, workers\n",
      "africa: north, south, east, city, country, united, during, part, history, west\n",
      "musician: seven, john, d, nine, eight, french, one, b, zero, three\n",
      "dance: more, country, music, considered, most, although, use, modern, century, both\n",
      "\n",
      "\n"
     ]
    },
    {
     "name": "stderr",
     "output_type": "stream",
     "text": [
      "23503it [44:57, 13.41it/s]"
     ]
    },
    {
     "name": "stdout",
     "output_type": "stream",
     "text": [
      "| epoch   1 | 23500/162913 batches | loss    2.022 \n",
      "money: group, number, will, order, from, found, those, europe, more, for\n",
      "lion: professional, museum, inducted, friend, hall, dna, foreign, intended, rather, workers\n",
      "africa: north, south, east, city, country, part, west, since, history\n",
      "musician: seven, nine, john, eight, one, french, d, b, english, born\n",
      "dance: more, country, music, both, considered, modern, although, house, as, century\n",
      "\n",
      "\n"
     ]
    },
    {
     "name": "stderr",
     "output_type": "stream",
     "text": [
      "24003it [45:31, 14.24it/s]"
     ]
    },
    {
     "name": "stdout",
     "output_type": "stream",
     "text": [
      "| epoch   1 | 24000/162913 batches | loss    2.015 \n",
      "money: group, europe, order, found, now, called, will, under, from, but\n",
      "lion: professional, museum, inducted, friend, hall, dna, foreign, intended, workers, references\n",
      "africa: north, south, east, country, city, part, during, west, history, united\n",
      "musician: seven, john, eight, nine, d, b, e, english, french, one\n",
      "dance: music, country, more, both, considered, although, house, most, modern, century\n",
      "\n",
      "\n"
     ]
    },
    {
     "name": "stderr",
     "output_type": "stream",
     "text": [
      "24503it [46:03, 14.36it/s]"
     ]
    },
    {
     "name": "stdout",
     "output_type": "stream",
     "text": [
      "| epoch   1 | 24500/162913 batches | loss    2.008 \n",
      "money: group, europe, found, order, from, called, will, but, are, made\n",
      "lion: professional, museum, inducted, friend, hall, foreign, dna, workers, intended, running\n",
      "africa: north, south, east, country, part, city, west, europe, since, during\n",
      "musician: seven, john, eight, d, english, four, nine, one, french, b\n",
      "dance: music, country, more, considered, although, most, both, house, as, from\n",
      "\n",
      "\n"
     ]
    },
    {
     "name": "stderr",
     "output_type": "stream",
     "text": [
      "25003it [46:35, 14.39it/s]"
     ]
    },
    {
     "name": "stdout",
     "output_type": "stream",
     "text": [
      "| epoch   1 | 25000/162913 batches | loss    2.004 \n",
      "money: group, order, europe, now, will, called, found, those, more, not\n",
      "lion: professional, inducted, friend, museum, foreign, hall, dna, workers, intended, reason\n",
      "africa: south, north, east, country, europe, city, part, west, united, in\n",
      "musician: john, seven, nine, eight, d, one, four, e, b, english\n",
      "dance: music, country, although, more, from, in, both, considered, modern, house\n",
      "\n",
      "\n"
     ]
    },
    {
     "name": "stderr",
     "output_type": "stream",
     "text": [
      "25503it [47:07, 14.23it/s]"
     ]
    },
    {
     "name": "stdout",
     "output_type": "stream",
     "text": [
      "| epoch   1 | 25500/162913 batches | loss    1.992 \n",
      "money: group, and, europe, order, now, called, made, will, its, however\n",
      "lion: professional, inducted, friend, museum, foreign, dna, hall, workers, references, intended\n",
      "africa: south, east, north, country, city, europe, part, west, united, in\n",
      "musician: john, seven, nine, d, eight, four, b, e, english, one\n",
      "dance: music, country, from, more, although, as, considered, house, both, century\n",
      "\n",
      "\n"
     ]
    },
    {
     "name": "stderr",
     "output_type": "stream",
     "text": [
      "26003it [47:39, 14.39it/s]"
     ]
    },
    {
     "name": "stdout",
     "output_type": "stream",
     "text": [
      "| epoch   1 | 26000/162913 batches | loss    1.990 \n",
      "money: group, called, order, now, made, europe, more, them, number, those\n",
      "lion: professional, inducted, museum, friend, foreign, dna, hall, references, workers, intended\n",
      "africa: south, east, north, country, part, europe, united, city, west, history\n",
      "musician: john, seven, b, nine, d, eight, six, english, two, four\n",
      "dance: music, country, from, more, although, both, considered, as, house, century\n",
      "\n",
      "\n"
     ]
    },
    {
     "name": "stderr",
     "output_type": "stream",
     "text": [
      "26503it [48:11, 14.34it/s]"
     ]
    },
    {
     "name": "stdout",
     "output_type": "stream",
     "text": [
      "| epoch   1 | 26500/162913 batches | loss    1.987 \n",
      "money: group, order, made, will, europe, called, now, those, under, more\n",
      "lion: professional, inducted, friend, museum, foreign, dna, hall, references, intended, workers\n",
      "africa: east, south, north, europe, country, west, city, history, part, central\n",
      "musician: john, seven, eight, nine, six, one, d, four, e, five\n",
      "dance: music, country, more, although, and, from, both, considered, many, century\n",
      "\n",
      "\n"
     ]
    },
    {
     "name": "stderr",
     "output_type": "stream",
     "text": [
      "27003it [48:42, 14.36it/s]"
     ]
    },
    {
     "name": "stdout",
     "output_type": "stream",
     "text": [
      "| epoch   1 | 27000/162913 batches | loss    1.981 \n",
      "money: group, made, will, order, now, its, is, still, europe, called\n",
      "lion: professional, inducted, friend, museum, foreign, hall, dna, intended, references, workers\n",
      "africa: east, south, north, country, west, europe, central, city, history, part\n",
      "musician: john, seven, six, nine, eight, one, d, four, l, five\n",
      "dance: music, country, more, although, both, and, often, from, house, century\n",
      "\n",
      "\n"
     ]
    },
    {
     "name": "stderr",
     "output_type": "stream",
     "text": [
      "27503it [49:14, 14.23it/s]"
     ]
    },
    {
     "name": "stdout",
     "output_type": "stream",
     "text": [
      "| epoch   1 | 27500/162913 batches | loss    1.972 \n",
      "money: made, order, group, now, its, still, small, more, europe, will\n",
      "lion: professional, inducted, museum, friend, foreign, hall, intended, dna, workers, reason\n",
      "africa: east, south, north, europe, in, country, west, central, history, part\n",
      "musician: john, seven, one, eight, six, three, four, nine, two, l\n",
      "dance: music, country, more, both, although, often, most, in, century, house\n",
      "\n",
      "\n"
     ]
    },
    {
     "name": "stderr",
     "output_type": "stream",
     "text": [
      "28003it [49:46, 14.20it/s]"
     ]
    },
    {
     "name": "stdout",
     "output_type": "stream",
     "text": [
      "| epoch   1 | 28000/162913 batches | loss    1.969 \n",
      "money: group, its, order, made, will, now, europe, small, still, fact\n",
      "lion: professional, inducted, friend, museum, foreign, intended, hall, workers, dna, suicide\n",
      "africa: east, south, north, europe, west, country, central, city, part, history\n",
      "musician: john, seven, one, six, four, three, two, d, english, b\n",
      "dance: music, country, more, although, both, often, century, its, house, most\n",
      "\n",
      "\n"
     ]
    },
    {
     "name": "stderr",
     "output_type": "stream",
     "text": [
      "28503it [50:18, 14.35it/s]"
     ]
    },
    {
     "name": "stdout",
     "output_type": "stream",
     "text": [
      "| epoch   1 | 28500/162913 batches | loss    1.966 \n",
      "money: order, its, now, group, made, will, europe, become, still, fact\n",
      "lion: professional, inducted, friend, museum, foreign, intended, hall, workers, suicide, references\n",
      "africa: south, north, east, europe, country, west, central, history, part, united\n",
      "musician: john, seven, six, eight, nine, five, d, english, l, three\n",
      "dance: music, more, country, although, both, modern, century, most, in, often\n",
      "\n",
      "\n"
     ]
    },
    {
     "name": "stderr",
     "output_type": "stream",
     "text": [
      "29003it [50:49, 14.34it/s]"
     ]
    },
    {
     "name": "stdout",
     "output_type": "stream",
     "text": [
      "| epoch   1 | 29000/162913 batches | loss    1.959 \n",
      "money: will, now, group, its, made, order, fact, europe, become, still\n",
      "lion: professional, inducted, friend, foreign, museum, intended, hall, workers, references, suicide\n",
      "africa: south, east, north, europe, country, west, central, history, in, part\n",
      "musician: john, six, eight, d, nine, seven, b, zero, three, english\n",
      "dance: country, music, more, although, both, modern, usually, work, in, century\n",
      "\n",
      "\n"
     ]
    },
    {
     "name": "stderr",
     "output_type": "stream",
     "text": [
      "29503it [51:21, 14.46it/s]"
     ]
    },
    {
     "name": "stdout",
     "output_type": "stream",
     "text": [
      "| epoch   1 | 29500/162913 batches | loss    1.950 \n",
      "money: will, group, its, fact, made, now, europe, and, become, order\n",
      "lion: professional, inducted, intended, friend, hall, workers, references, foreign, museum, similar\n",
      "africa: south, east, north, europe, country, west, history, central, part, germany\n",
      "musician: john, eight, six, one, b, d, nine, four, three, five\n",
      "dance: music, country, both, although, often, more, modern, work, century, zero\n",
      "\n",
      "\n"
     ]
    },
    {
     "name": "stderr",
     "output_type": "stream",
     "text": [
      "30003it [51:53, 14.52it/s]"
     ]
    },
    {
     "name": "stdout",
     "output_type": "stream",
     "text": [
      "| epoch   1 | 30000/162913 batches | loss    1.947 \n",
      "money: its, group, all, will, fact, now, made, very, still, others\n",
      "lion: professional, inducted, foreign, intended, friend, workers, hall, museum, political, suicide\n",
      "africa: east, south, north, europe, history, west, central, country, germany, eastern\n",
      "musician: john, one, six, eight, nine, b, l, three, five, d\n",
      "dance: music, country, more, both, often, although, modern, usually, around, considered\n",
      "\n",
      "\n"
     ]
    },
    {
     "name": "stderr",
     "output_type": "stream",
     "text": [
      "30503it [52:25, 14.27it/s]"
     ]
    },
    {
     "name": "stdout",
     "output_type": "stream",
     "text": [
      "| epoch   1 | 30500/162913 batches | loss    1.946 \n",
      "money: group, its, now, fact, order, made, small, all, europe, will\n",
      "lion: professional, inducted, museum, workers, intended, hall, friend, political, suicide, foreign\n",
      "africa: south, north, east, central, west, europe, history, country, germany, india\n",
      "musician: john, one, eight, six, l, five, d, b, english, seven\n",
      "dance: music, country, both, more, although, modern, considered, often, popular, from\n",
      "\n",
      "\n"
     ]
    },
    {
     "name": "stderr",
     "output_type": "stream",
     "text": [
      "31003it [52:57, 14.29it/s]"
     ]
    },
    {
     "name": "stdout",
     "output_type": "stream",
     "text": [
      "| epoch   1 | 31000/162913 batches | loss    1.944 \n",
      "money: its, now, very, group, fact, small, found, order, both, become\n",
      "lion: professional, inducted, museum, friend, hall, workers, intended, political, suicide, foreign\n",
      "africa: south, north, east, central, west, history, europe, country, germany, united\n",
      "musician: john, six, one, eight, five, d, l, b, four, seven\n",
      "dance: music, more, country, both, although, modern, often, known, from, work\n",
      "\n",
      "\n"
     ]
    },
    {
     "name": "stderr",
     "output_type": "stream",
     "text": [
      "31503it [53:28, 14.44it/s]"
     ]
    },
    {
     "name": "stdout",
     "output_type": "stream",
     "text": [
      "| epoch   1 | 31500/162913 batches | loss    1.935 \n",
      "money: now, its, very, fact, order, still, this, become, small, will\n",
      "lion: inducted, professional, workers, hall, political, foreign, friend, intended, museum, suicide\n",
      "africa: north, east, south, central, europe, west, history, in, country, germany\n",
      "musician: john, six, eight, one, five, d, four, l, b, seven\n",
      "dance: music, more, country, modern, although, often, both, culture, known, considered\n",
      "\n",
      "\n"
     ]
    },
    {
     "name": "stderr",
     "output_type": "stream",
     "text": [
      "32003it [54:01, 14.36it/s]"
     ]
    },
    {
     "name": "stdout",
     "output_type": "stream",
     "text": [
      "| epoch   1 | 32000/162913 batches | loss    1.929 \n",
      "money: now, very, its, will, this, fact, still, and, all, what\n",
      "lion: inducted, professional, workers, friend, hall, foreign, museum, intended, political, suicide\n",
      "africa: north, east, south, west, central, europe, germany, history, in, country\n",
      "musician: eight, six, john, five, one, l, d, four, seven, b\n",
      "dance: music, country, more, although, often, modern, both, usually, culture, considered\n",
      "\n",
      "\n"
     ]
    },
    {
     "name": "stderr",
     "output_type": "stream",
     "text": [
      "32502it [54:44, 13.82it/s]"
     ]
    },
    {
     "name": "stdout",
     "output_type": "stream",
     "text": [
      "| epoch   1 | 32500/162913 batches | loss    1.930 \n",
      "money: now, very, will, still, for, fact, group, this, others, much\n",
      "lion: inducted, professional, workers, foreign, friend, political, intended, museum, hall, suicide\n",
      "africa: north, east, south, west, central, europe, history, germany, country, and\n",
      "musician: six, john, eight, three, five, d, one, seven, b, l\n",
      "dance: more, music, country, although, and, often, modern, considered, both, than\n",
      "\n",
      "\n"
     ]
    },
    {
     "name": "stderr",
     "output_type": "stream",
     "text": [
      "33002it [55:16, 13.83it/s]"
     ]
    },
    {
     "name": "stdout",
     "output_type": "stream",
     "text": [
      "| epoch   1 | 33000/162913 batches | loss    1.923 \n",
      "money: now, very, still, will, its, them, what, fact, group, much\n",
      "lion: inducted, professional, foreign, workers, friend, intended, hall, suicide, museum, political\n",
      "africa: north, east, south, europe, west, central, germany, in, country, united\n",
      "musician: john, eight, six, one, three, four, seven, b, five, nine\n",
      "dance: music, country, often, more, modern, considered, both, usually, known, although\n",
      "\n",
      "\n"
     ]
    },
    {
     "name": "stderr",
     "output_type": "stream",
     "text": [
      "33502it [55:48, 13.79it/s]"
     ]
    },
    {
     "name": "stdout",
     "output_type": "stream",
     "text": [
      "| epoch   1 | 33500/162913 batches | loss    1.918 \n",
      "money: now, very, for, them, still, will, fact, what, group, thus\n",
      "lion: inducted, foreign, professional, workers, friend, intended, suicide, museum, hall, word\n",
      "africa: east, south, north, europe, west, central, country, germany, united, history\n",
      "musician: john, six, one, eight, three, four, l, seven, d, five\n",
      "dance: music, country, often, modern, considered, more, culture, although, both, usually\n",
      "\n",
      "\n"
     ]
    },
    {
     "name": "stderr",
     "output_type": "stream",
     "text": [
      "34002it [56:20, 13.76it/s]"
     ]
    },
    {
     "name": "stdout",
     "output_type": "stream",
     "text": [
      "| epoch   1 | 34000/162913 batches | loss    1.917 \n",
      "money: now, still, very, fact, similar, will, them, order, thus, become\n",
      "lion: inducted, professional, workers, suicide, foreign, friend, intended, hall, as, museum\n",
      "africa: east, north, south, europe, west, central, germany, country, india, history\n",
      "musician: john, six, eight, three, one, l, five, four, seven, nine\n",
      "dance: music, country, often, modern, more, considered, although, less, culture, than\n",
      "\n",
      "\n"
     ]
    },
    {
     "name": "stderr",
     "output_type": "stream",
     "text": [
      "34502it [56:53, 12.88it/s]"
     ]
    },
    {
     "name": "stdout",
     "output_type": "stream",
     "text": [
      "| epoch   1 | 34500/162913 batches | loss    1.906 \n",
      "money: now, and, still, fact, similar, what, will, very, thus, them\n",
      "lion: inducted, professional, workers, friend, suicide, foreign, intended, hall, museum, some\n",
      "africa: east, north, south, europe, west, central, germany, country, america, population\n",
      "musician: john, six, eight, one, three, nine, four, five, seven, l\n",
      "dance: music, country, more, modern, often, than, less, in, considered, culture\n",
      "\n",
      "\n"
     ]
    },
    {
     "name": "stderr",
     "output_type": "stream",
     "text": [
      "35002it [57:26, 13.41it/s]"
     ]
    },
    {
     "name": "stdout",
     "output_type": "stream",
     "text": [
      "| epoch   1 | 35000/162913 batches | loss    1.905 \n",
      "money: now, still, similar, will, fact, not, others, them, very, to\n",
      "lion: inducted, workers, professional, suicide, intended, foreign, friend, hall, and, well\n",
      "africa: south, north, east, europe, west, central, germany, country, america, population\n",
      "musician: john, eight, six, four, seven, zero, three, nine, one, five\n",
      "dance: music, country, and, more, modern, often, less, than, even, considered\n",
      "\n",
      "\n"
     ]
    },
    {
     "name": "stderr",
     "output_type": "stream",
     "text": [
      "35502it [57:59, 13.40it/s]"
     ]
    },
    {
     "name": "stdout",
     "output_type": "stream",
     "text": [
      "| epoch   1 | 35500/162913 batches | loss    1.903 \n",
      "money: still, them, now, fact, others, will, similar, there, thus, become\n",
      "lion: inducted, workers, professional, well, suicide, intended, friend, foreign, political, dna\n",
      "africa: south, east, north, europe, west, central, germany, country, population, america\n",
      "musician: john, eight, six, nine, zero, five, seven, four, d, two\n",
      "dance: music, more, often, country, modern, less, according, culture, considered, than\n",
      "\n",
      "\n"
     ]
    },
    {
     "name": "stderr",
     "output_type": "stream",
     "text": [
      "36002it [58:31, 13.05it/s]"
     ]
    },
    {
     "name": "stdout",
     "output_type": "stream",
     "text": [
      "| epoch   1 | 36000/162913 batches | loss    1.898 \n",
      "money: still, now, thus, them, will, fact, similar, very, become, others\n",
      "lion: inducted, well, workers, professional, suicide, intended, political, friend, foreign, chinese\n",
      "africa: south, east, north, europe, west, central, germany, population, country, america\n",
      "musician: john, six, eight, five, nine, zero, four, seven, d, l\n",
      "dance: music, more, country, modern, less, often, considered, culture, than, according\n",
      "\n",
      "\n"
     ]
    },
    {
     "name": "stderr",
     "output_type": "stream",
     "text": [
      "36502it [59:04, 13.65it/s]"
     ]
    },
    {
     "name": "stdout",
     "output_type": "stream",
     "text": [
      "| epoch   1 | 36500/162913 batches | loss    1.896 \n",
      "money: still, thus, now, become, much, very, fact, similar, will, them\n",
      "lion: inducted, workers, professional, intended, well, suicide, political, friend, chinese, foreign\n",
      "africa: south, east, north, europe, west, central, country, germany, america, population\n",
      "musician: john, six, five, eight, four, one, seven, nine, d, l\n",
      "dance: music, country, often, modern, more, known, culture, less, well, considered\n",
      "\n",
      "\n"
     ]
    },
    {
     "name": "stderr",
     "output_type": "stream",
     "text": [
      "37002it [59:36, 13.64it/s]"
     ]
    },
    {
     "name": "stdout",
     "output_type": "stream",
     "text": [
      "| epoch   1 | 37000/162913 batches | loss    1.893 \n",
      "money: still, now, thus, order, much, become, very, it, there, fact\n",
      "lion: inducted, political, professional, intended, workers, well, suicide, friend, foreign, dna\n",
      "africa: east, south, north, europe, west, central, germany, america, country, western\n",
      "musician: four, john, five, six, eight, seven, d, nine, one, l\n",
      "dance: music, country, more, as, modern, less, culture, often, known, developed\n",
      "\n",
      "\n"
     ]
    },
    {
     "name": "stderr",
     "output_type": "stream",
     "text": [
      "37502it [1:00:08, 13.73it/s]"
     ]
    },
    {
     "name": "stdout",
     "output_type": "stream",
     "text": [
      "| epoch   1 | 37500/162913 batches | loss    1.891 \n",
      "money: still, very, to, thus, it, now, order, similar, fact\n",
      "lion: inducted, intended, well, professional, political, workers, suicide, friend, foreign, hall\n",
      "africa: east, south, europe, north, west, central, country, germany, america, united\n",
      "musician: john, four, six, five, eight, one, seven, d, nine, born\n",
      "dance: music, more, country, modern, less, culture, according, known, some, zero\n",
      "\n",
      "\n"
     ]
    },
    {
     "name": "stderr",
     "output_type": "stream",
     "text": [
      "38002it [1:00:41, 13.14it/s]"
     ]
    },
    {
     "name": "stdout",
     "output_type": "stream",
     "text": [
      "| epoch   1 | 38000/162913 batches | loss    1.884 \n",
      "money: still, it, thus, order, very, them, similar, become, what, to\n",
      "lion: inducted, intended, well, professional, political, foreign, suicide, workers, hall, friend\n",
      "africa: east, south, north, west, europe, central, germany, america, western, population\n",
      "musician: john, six, four, eight, five, d, one, seven, zero, b\n",
      "dance: music, more, country, modern, less, culture, even, according, rock, known\n",
      "\n",
      "\n"
     ]
    },
    {
     "name": "stderr",
     "output_type": "stream",
     "text": [
      "38502it [1:01:13, 13.87it/s]"
     ]
    },
    {
     "name": "stdout",
     "output_type": "stream",
     "text": [
      "| epoch   1 | 38500/162913 batches | loss    1.889 \n",
      "money: still, thus, what, order, to, very, become, similar, fact, it\n",
      "lion: inducted, political, intended, professional, however, foreign, well, suicide, workers, dna\n",
      "africa: east, south, north, west, europe, central, germany, america, united, western\n",
      "musician: john, four, six, eight, seven, d, five, three, b, nine\n",
      "dance: music, more, country, modern, less, culture, according, however, rock, developed\n",
      "\n",
      "\n"
     ]
    },
    {
     "name": "stderr",
     "output_type": "stream",
     "text": [
      "39002it [1:01:44, 13.92it/s]"
     ]
    },
    {
     "name": "stdout",
     "output_type": "stream",
     "text": [
      "| epoch   1 | 39000/162913 batches | loss    1.881 \n",
      "money: still, what, very, it, thus, them, order, not, support, become\n",
      "lion: inducted, political, intended, well, professional, foreign, suicide, full, dna, workers\n",
      "africa: east, south, north, west, europe, germany, central, western, united, america\n",
      "musician: john, eight, four, seven, d, five, six, three, singer, nine\n",
      "dance: music, more, country, modern, or, as, less, according, culture, rock\n",
      "\n",
      "\n"
     ]
    },
    {
     "name": "stderr",
     "output_type": "stream",
     "text": [
      "39502it [1:02:16, 13.93it/s]"
     ]
    },
    {
     "name": "stdout",
     "output_type": "stream",
     "text": [
      "| epoch   1 | 39500/162913 batches | loss    1.880 \n",
      "money: still, it, what, very, thus, not, them, order, fact, just\n",
      "lion: inducted, well, political, intended, full, professional, suicide, chinese, dna, by\n",
      "africa: east, south, west, europe, north, germany, western, central, america, eastern\n",
      "musician: john, seven, eight, four, d, nine, five, one, six, zero\n",
      "dance: music, more, country, modern, less, according, very, rock, or, other\n",
      "\n",
      "\n"
     ]
    },
    {
     "name": "stderr",
     "output_type": "stream",
     "text": [
      "40002it [1:02:49, 13.81it/s]"
     ]
    },
    {
     "name": "stdout",
     "output_type": "stream",
     "text": [
      "| epoch   1 | 40000/162913 batches | loss    1.875 \n",
      "money: it, still, them, thus, very, what, order, fact, support, become\n",
      "lion: inducted, political, professional, full, intended, chinese, well, suicide, dna, foreign\n",
      "africa: east, south, europe, west, north, germany, western, america, central, population\n",
      "musician: john, seven, d, three, one, five, eight, four, nine, singer\n",
      "dance: music, more, modern, as, in, or, very, country, rock, culture\n",
      "\n",
      "\n"
     ]
    },
    {
     "name": "stderr",
     "output_type": "stream",
     "text": [
      "40502it [1:03:21, 13.58it/s]"
     ]
    },
    {
     "name": "stdout",
     "output_type": "stream",
     "text": [
      "| epoch   1 | 40500/162913 batches | loss    1.870 \n",
      "money: still, it, thus, them, what, order, will, fact, very, become\n",
      "lion: inducted, well, political, professional, intended, suicide, foreign, chinese, full, dna\n",
      "africa: east, europe, south, west, north, germany, america, western, central, country\n",
      "musician: john, seven, one, five, eight, d, nine, three, singer, four\n",
      "dance: music, more, or, modern, country, very, as, rock, less, according\n",
      "\n",
      "\n"
     ]
    },
    {
     "name": "stderr",
     "output_type": "stream",
     "text": [
      "41002it [1:03:53, 13.73it/s]"
     ]
    },
    {
     "name": "stdout",
     "output_type": "stream",
     "text": [
      "| epoch   1 | 41000/162913 batches | loss    1.867 \n",
      "money: still, them, it, thus, what, become, order, very, fact, certain\n",
      "lion: inducted, well, political, however, professional, suicide, intended, foreign, today, dna\n",
      "africa: east, europe, south, north, west, germany, western, america, central, history\n",
      "musician: john, seven, five, d, singer, one, nine, eight, american, born\n",
      "dance: music, more, modern, country, rock, or, less, culture, very, considered\n",
      "\n",
      "\n"
     ]
    },
    {
     "name": "stderr",
     "output_type": "stream",
     "text": [
      "41502it [1:04:26, 13.71it/s]"
     ]
    },
    {
     "name": "stdout",
     "output_type": "stream",
     "text": [
      "| epoch   1 | 41500/162913 batches | loss    1.872 \n",
      "money: them, still, become, it, what, very, order, fact, thus, must\n",
      "lion: inducted, well, however, professional, political, suicide, foreign, dna, intended, is\n",
      "africa: east, europe, south, north, west, western, central, germany, america, country\n",
      "musician: john, five, seven, one, nine, d, singer, eight, born, actor\n",
      "dance: music, more, country, modern, very, rock, culture, and, according\n",
      "\n",
      "\n"
     ]
    },
    {
     "name": "stderr",
     "output_type": "stream",
     "text": [
      "42002it [1:04:58, 13.70it/s]"
     ]
    },
    {
     "name": "stdout",
     "output_type": "stream",
     "text": [
      "| epoch   1 | 42000/162913 batches | loss    1.866 \n",
      "money: still, them, it, become, fact, what, order, thus, certain, its\n",
      "lion: inducted, well, however, professional, foreign, political, suicide, dna, intended, chinese\n",
      "africa: east, europe, south, north, west, western, germany, central, america, eastern\n",
      "musician: seven, john, d, five, singer, born, one, nine, actor, three\n",
      "dance: music, more, country, modern, rock, known, culture, very, according, most\n",
      "\n",
      "\n"
     ]
    },
    {
     "name": "stderr",
     "output_type": "stream",
     "text": [
      "42502it [1:05:29, 13.67it/s]"
     ]
    },
    {
     "name": "stdout",
     "output_type": "stream",
     "text": [
      "| epoch   1 | 42500/162913 batches | loss    1.861 \n",
      "money: still, them, it, fact, what, its, order, but, similar, become\n",
      "lion: inducted, well, professional, foreign, suicide, dna, however, and, today, intended\n",
      "africa: east, europe, south, north, west, western, central, america, eastern, germany\n",
      "musician: john, eight, seven, d, five, singer, three, nine, born, one\n",
      "dance: music, modern, more, very, country, or, rock, known, culture, musical\n",
      "\n",
      "\n"
     ]
    },
    {
     "name": "stderr",
     "output_type": "stream",
     "text": [
      "43002it [1:06:01, 13.90it/s]"
     ]
    },
    {
     "name": "stdout",
     "output_type": "stream",
     "text": [
      "| epoch   1 | 43000/162913 batches | loss    1.859 \n",
      "money: still, fact, it, but, what, thus, order, certain, its, similar\n",
      "lion: inducted, well, professional, foreign, suicide, intended, dna, however, specifically, political\n",
      "africa: europe, east, south, north, west, western, central, america, eastern, throughout\n",
      "musician: john, eight, d, seven, singer, nine, one, born, five, actor\n",
      "dance: music, or, modern, more, rock, very, culture, country, musical\n",
      "\n",
      "\n"
     ]
    },
    {
     "name": "stderr",
     "output_type": "stream",
     "text": [
      "43502it [1:06:34, 13.61it/s]"
     ]
    },
    {
     "name": "stdout",
     "output_type": "stream",
     "text": [
      "| epoch   1 | 43500/162913 batches | loss    1.861 \n",
      "money: still, fact, what, them, but, certain, it, order, rather, thus\n",
      "lion: inducted, well, foreign, professional, suicide, intended, specifically, dna, chinese, him\n",
      "africa: east, europe, north, south, west, western, central, eastern, america, germany\n",
      "musician: john, seven, eight, singer, d, five, born, actor, nine, three\n",
      "dance: music, rock, modern, more, country, very, culture, musical, less, as\n",
      "\n",
      "\n"
     ]
    },
    {
     "name": "stderr",
     "output_type": "stream",
     "text": [
      "44002it [1:07:06, 13.79it/s]"
     ]
    },
    {
     "name": "stdout",
     "output_type": "stream",
     "text": [
      "| epoch   1 | 44000/162913 batches | loss    1.857 \n",
      "money: still, fact, but, so, what, them, order, certain, thus, rather\n",
      "lion: inducted, well, foreign, professional, suicide, however, intended, political, dna, chinese\n",
      "africa: east, europe, north, south, west, western, eastern, america, central, india\n",
      "musician: john, seven, eight, singer, d, american, born, nine, actor, four\n",
      "dance: music, modern, country, rock, musical, less, very, or, culture, an\n",
      "\n",
      "\n"
     ]
    },
    {
     "name": "stderr",
     "output_type": "stream",
     "text": [
      "44502it [1:07:38, 13.84it/s]"
     ]
    },
    {
     "name": "stdout",
     "output_type": "stream",
     "text": [
      "| epoch   1 | 44500/162913 batches | loss    1.851 \n",
      "money: fact, still, so, what, them, certain, it, but, rather, order\n",
      "lion: inducted, well, foreign, suicide, today, however, intended, professional, chinese, specifically\n",
      "africa: east, europe, north, south, west, western, america, eastern, india, central\n",
      "musician: john, seven, singer, eight, d, american, actor, born, four, six\n",
      "dance: music, other, musical, country, rock, modern, more, of, less, very\n",
      "\n",
      "\n"
     ]
    },
    {
     "name": "stderr",
     "output_type": "stream",
     "text": [
      "45002it [1:08:09, 13.79it/s]"
     ]
    },
    {
     "name": "stdout",
     "output_type": "stream",
     "text": [
      "| epoch   1 | 45000/162913 batches | loss    1.852 \n",
      "money: fact, what, still, them, so, certain, much, its, order, more\n",
      "lion: inducted, however, foreign, well, suicide, chinese, intended, professional, today, dna\n",
      "africa: east, north, europe, south, west, america, western, central, germany, eastern\n",
      "musician: john, nine, d, seven, singer, american, eight, four, actor, born\n",
      "dance: music, musical, country, rock, less, modern, very, more, other, culture\n",
      "\n",
      "\n"
     ]
    },
    {
     "name": "stderr",
     "output_type": "stream",
     "text": [
      "45502it [1:08:41, 13.74it/s]"
     ]
    },
    {
     "name": "stdout",
     "output_type": "stream",
     "text": [
      "| epoch   1 | 45500/162913 batches | loss    1.853 \n",
      "money: fact, still, what, order, more, so, certain, rather, them, thus\n",
      "lion: inducted, however, foreign, chinese, suicide, intended, professional, today, republic, hall\n",
      "africa: east, north, europe, south, west, america, western, germany, country, central\n",
      "musician: john, d, singer, seven, eight, actor, born, american, four, one\n",
      "dance: music, musical, country, rock, modern, more, very, and, in, as\n",
      "\n",
      "\n"
     ]
    },
    {
     "name": "stderr",
     "output_type": "stream",
     "text": [
      "46002it [1:09:14, 13.73it/s]"
     ]
    },
    {
     "name": "stdout",
     "output_type": "stream",
     "text": [
      "| epoch   1 | 46000/162913 batches | loss    1.847 \n",
      "money: it, fact, what, certain, still, so, much, them, order, possible\n",
      "lion: inducted, suicide, foreign, intended, professional, chinese, political, support, spanish, republic\n",
      "africa: east, europe, north, south, west, america, western, central, country, eastern\n",
      "musician: john, singer, d, actor, seven, nine, eight, born, american, four\n",
      "dance: music, other, country, musical, modern, rock, also, more, culture\n",
      "\n",
      "\n"
     ]
    },
    {
     "name": "stderr",
     "output_type": "stream",
     "text": [
      "46502it [1:09:46, 13.72it/s]"
     ]
    },
    {
     "name": "stdout",
     "output_type": "stream",
     "text": [
      "| epoch   1 | 46500/162913 batches | loss    1.846 \n",
      "money: still, it, fact, so, what, them, certain, much, but, any\n",
      "lion: inducted, suicide, chinese, foreign, intended, support, however, political, professional, spanish\n",
      "africa: north, east, europe, south, west, america, western, country, central, eastern\n",
      "musician: john, singer, actor, seven, nine, d, eight, born, six, american\n",
      "dance: music, country, modern, musical, other, very, rock, more, less, most\n",
      "\n",
      "\n"
     ]
    },
    {
     "name": "stderr",
     "output_type": "stream",
     "text": [
      "47002it [1:10:18, 13.75it/s]"
     ]
    },
    {
     "name": "stdout",
     "output_type": "stream",
     "text": [
      "| epoch   1 | 47000/162913 batches | loss    1.841 \n",
      "money: fact, it, much, what, still, so, them, certain, however, more\n",
      "lion: inducted, suicide, chinese, however, foreign, spanish, intended, political, professional, republic\n",
      "africa: north, east, europe, south, west, western, america, country, eastern, india\n",
      "musician: john, seven, actor, singer, eight, nine, d, six, one, born\n",
      "dance: music, country, modern, musical, less, rock, more, other, very, in\n",
      "\n",
      "\n"
     ]
    },
    {
     "name": "stderr",
     "output_type": "stream",
     "text": [
      "47502it [1:10:49, 13.72it/s]"
     ]
    },
    {
     "name": "stdout",
     "output_type": "stream",
     "text": [
      "| epoch   1 | 47500/162913 batches | loss    1.836 \n",
      "money: so, fact, much, what, it, still, them, its, however, certain\n",
      "lion: inducted, however, chinese, suicide, intended, political, foreign, spanish, republic, professional\n",
      "africa: east, north, europe, south, west, western, america, eastern, central, india\n",
      "musician: john, actor, singer, seven, born, one, five, nine, eight, american\n",
      "dance: music, modern, musical, country, less, more, rock, culture, very, other\n",
      "\n",
      "\n"
     ]
    },
    {
     "name": "stderr",
     "output_type": "stream",
     "text": [
      "48002it [1:11:21, 13.48it/s]"
     ]
    },
    {
     "name": "stdout",
     "output_type": "stream",
     "text": [
      "| epoch   1 | 48000/162913 batches | loss    1.833 \n",
      "money: so, them, fact, much, to, what, still, even, it, thus\n",
      "lion: inducted, suicide, chinese, foreign, intended, however, republic, professional, support, spanish\n",
      "africa: east, north, europe, south, west, america, western, eastern, central, country\n",
      "musician: john, actor, seven, nine, singer, one, born, american, six, eight\n",
      "dance: music, musical, other, modern, country, more, less, most, rock, culture\n",
      "\n",
      "\n"
     ]
    },
    {
     "name": "stderr",
     "output_type": "stream",
     "text": [
      "48502it [1:11:54, 13.54it/s]"
     ]
    },
    {
     "name": "stdout",
     "output_type": "stream",
     "text": [
      "| epoch   1 | 48500/162913 batches | loss    1.837 \n",
      "money: fact, them, so, much, thus, what, would, to, will, its\n",
      "lion: inducted, chinese, suicide, foreign, intended, professional, spanish, however, reason, support\n",
      "africa: east, north, europe, south, west, western, eastern, america, central, germany\n",
      "musician: john, seven, actor, one, singer, born, nine, eight, american, six\n",
      "dance: music, musical, more, most, country, rock, use, also, less, culture\n",
      "\n",
      "\n"
     ]
    },
    {
     "name": "stderr",
     "output_type": "stream",
     "text": [
      "49002it [1:12:26, 13.88it/s]"
     ]
    },
    {
     "name": "stdout",
     "output_type": "stream",
     "text": [
      "| epoch   1 | 49000/162913 batches | loss    1.833 \n",
      "money: fact, would, to, them, so, what, thus, take, it, very\n",
      "lion: inducted, also, suicide, chinese, intended, support, foreign, reason, spanish, professional\n",
      "africa: east, south, north, europe, west, eastern, central, western, india, germany\n",
      "musician: john, actor, seven, singer, eight, born, nine, six, one, five\n",
      "dance: music, musical, country, more, rock, many, modern, use, most, also\n",
      "\n",
      "\n"
     ]
    },
    {
     "name": "stderr",
     "output_type": "stream",
     "text": [
      "49502it [1:12:58, 13.81it/s]"
     ]
    },
    {
     "name": "stdout",
     "output_type": "stream",
     "text": [
      "| epoch   1 | 49500/162913 batches | loss    1.830 \n",
      "money: fact, thus, them, what, it, would, so, to, more, very\n",
      "lion: inducted, chinese, suicide, intended, reason, support, state, spanish, also, specifically\n",
      "africa: south, east, north, europe, west, central, eastern, western, america, india\n",
      "musician: actor, john, nine, singer, seven, one, born, eight, american, five\n",
      "dance: music, musical, many, rock, more, modern, country, use, less, culture\n",
      "\n",
      "\n"
     ]
    },
    {
     "name": "stderr",
     "output_type": "stream",
     "text": [
      "50002it [1:13:30, 14.17it/s]"
     ]
    },
    {
     "name": "stdout",
     "output_type": "stream",
     "text": [
      "| epoch   1 | 50000/162913 batches | loss    1.831 \n",
      "money: fact, them, so, thus, it, what, more, rather, good, very\n",
      "lion: inducted, chinese, suicide, intended, also, reason, but, state, specifically, foreign\n",
      "africa: east, south, europe, north, west, western, eastern, central, america, germany\n",
      "musician: john, actor, one, singer, born, six, eight, seven, nine, d\n",
      "dance: music, musical, rock, more, country, many, use, style, less, modern\n",
      "\n",
      "\n"
     ]
    },
    {
     "name": "stderr",
     "output_type": "stream",
     "text": [
      "50502it [1:14:01, 13.63it/s]"
     ]
    },
    {
     "name": "stdout",
     "output_type": "stream",
     "text": [
      "| epoch   1 | 50500/162913 batches | loss    1.827 \n",
      "money: so, fact, them, thus, good, for, rather, what, more, however\n",
      "lion: inducted, chinese, suicide, intended, system, support, state, republic, professional, specifically\n",
      "africa: east, south, europe, north, west, western, america, eastern, central, india\n",
      "musician: actor, john, singer, born, nine, one, eight, six, four, d\n",
      "dance: music, musical, rock, country, use, style, more, work, modern, includes\n",
      "\n",
      "\n"
     ]
    },
    {
     "name": "stderr",
     "output_type": "stream",
     "text": [
      "51002it [1:14:34, 13.48it/s]"
     ]
    },
    {
     "name": "stdout",
     "output_type": "stream",
     "text": [
      "| epoch   1 | 51000/162913 batches | loss    1.825 \n",
      "money: so, fact, it, good, large, would, very, them, thus, for\n",
      "lion: inducted, chinese, but, suicide, intended, support, spanish, although, professional, specifically\n",
      "africa: south, east, europe, north, west, central, eastern, western, america, india\n",
      "musician: actor, john, singer, born, nine, eight, american, four, seven, six\n",
      "dance: music, musical, rock, style, modern, more, country, work, also, includes\n",
      "\n",
      "\n"
     ]
    },
    {
     "name": "stderr",
     "output_type": "stream",
     "text": [
      "51502it [1:15:06, 13.85it/s]"
     ]
    },
    {
     "name": "stdout",
     "output_type": "stream",
     "text": [
      "| epoch   1 | 51500/162913 batches | loss    1.827 \n",
      "money: so, fact, very, take, would, for, any, large, good, them\n",
      "lion: inducted, chinese, suicide, intended, support, state, only, system, professional, as\n",
      "africa: east, south, europe, north, west, central, western, india, eastern, america\n",
      "musician: actor, singer, john, born, nine, six, eight, seven, american, four\n",
      "dance: music, rock, musical, style, more, in, modern, use, work, includes\n",
      "\n",
      "\n"
     ]
    },
    {
     "name": "stderr",
     "output_type": "stream",
     "text": [
      "52002it [1:15:38, 13.90it/s]"
     ]
    },
    {
     "name": "stdout",
     "output_type": "stream",
     "text": [
      "| epoch   1 | 52000/162913 batches | loss    1.820 \n",
      "money: fact, so, very, them, would, good, take, large, it, rather\n",
      "lion: inducted, suicide, chinese, been, intended, only, support, reason, system, professional\n",
      "africa: east, south, europe, north, west, central, eastern, america, african, india\n",
      "musician: actor, john, singer, born, six, nine, eight, seven, american, four\n",
      "dance: music, musical, rock, more, style, use, includes, modern, work, less\n",
      "\n",
      "\n"
     ]
    },
    {
     "name": "stderr",
     "output_type": "stream",
     "text": [
      "52502it [1:16:09, 13.90it/s]"
     ]
    },
    {
     "name": "stdout",
     "output_type": "stream",
     "text": [
      "| epoch   1 | 52500/162913 batches | loss    1.821 \n",
      "money: fact, so, very, them, good, would, much, take, large, what\n",
      "lion: inducted, suicide, system, been, chinese, intended, only, professional, however, reason\n",
      "africa: east, south, europe, north, west, central, america, african, india, eastern\n",
      "musician: actor, john, singer, seven, born, nine, eight, american, six, d\n",
      "dance: music, musical, rock, more, or, style, less, includes, study, use\n",
      "\n",
      "\n"
     ]
    },
    {
     "name": "stderr",
     "output_type": "stream",
     "text": [
      "53002it [1:16:41, 13.91it/s]"
     ]
    },
    {
     "name": "stdout",
     "output_type": "stream",
     "text": [
      "| epoch   1 | 53000/162913 batches | loss    1.817 \n",
      "money: fact, so, would, very, good, their, much, take, any, possible\n",
      "lion: inducted, although, suicide, intended, been, chinese, system, support, reason, professional\n",
      "africa: east, south, north, europe, west, central, america, india, african, eastern\n",
      "musician: actor, john, singer, seven, born, nine, american, eight, six, one\n",
      "dance: music, musical, rock, more, and, work, or, style, study, includes\n",
      "\n",
      "\n"
     ]
    },
    {
     "name": "stderr",
     "output_type": "stream",
     "text": [
      "53502it [1:17:13, 13.69it/s]"
     ]
    },
    {
     "name": "stdout",
     "output_type": "stream",
     "text": [
      "| epoch   1 | 53500/162913 batches | loss    1.816 \n",
      "money: fact, would, their, so, good, very, possible, much, take, but\n",
      "lion: inducted, although, been, suicide, reason, only, support, intended, chinese, professional\n",
      "africa: east, south, europe, north, west, central, america, african, india, eastern\n",
      "musician: actor, john, singer, born, american, nine, seven, eight, four, one\n",
      "dance: music, musical, rock, or, modern, more, less, includes, work, study\n",
      "\n",
      "\n"
     ]
    },
    {
     "name": "stderr",
     "output_type": "stream",
     "text": [
      "54002it [1:17:47, 12.13it/s]"
     ]
    },
    {
     "name": "stdout",
     "output_type": "stream",
     "text": [
      "| epoch   1 | 54000/162913 batches | loss    1.810 \n",
      "money: fact, their, would, good, very, so, possible, too, much, any\n",
      "lion: inducted, although, been, chinese, suicide, professional, only, support, reason, intended\n",
      "africa: east, south, europe, north, west, central, america, african, india, eastern\n",
      "musician: actor, singer, john, nine, born, eight, one, american, seven, five\n",
      "dance: music, musical, rock, modern, study, or, work, includes, as, less\n",
      "\n",
      "\n"
     ]
    },
    {
     "name": "stderr",
     "output_type": "stream",
     "text": [
      "54502it [1:18:23, 12.12it/s]"
     ]
    },
    {
     "name": "stdout",
     "output_type": "stream",
     "text": [
      "| epoch   1 | 54500/162913 batches | loss    1.807 \n",
      "money: their, fact, would, so, any, for, possible, those, too, good\n",
      "lion: inducted, chinese, although, suicide, support, only, been, history, professional, intended\n",
      "africa: east, south, north, europe, west, central, america, african, india, eastern\n",
      "musician: actor, john, singer, eight, born, nine, american, one, seven, five\n",
      "dance: music, musical, rock, study, modern, less, includes, work, style, developed\n",
      "\n",
      "\n"
     ]
    },
    {
     "name": "stderr",
     "output_type": "stream",
     "text": [
      "55002it [1:18:57, 13.32it/s]"
     ]
    },
    {
     "name": "stdout",
     "output_type": "stream",
     "text": [
      "| epoch   1 | 55000/162913 batches | loss    1.812 \n",
      "money: their, fact, which, would, possible, any, it, so, good, too\n",
      "lion: inducted, although, also, chinese, suicide, support, history, professional, intended, full\n",
      "africa: south, east, north, europe, west, central, america, african, india, eastern\n",
      "musician: actor, john, singer, born, eight, seven, d, american, five, nine\n",
      "dance: music, musical, rock, study, less, includes, style, modern, although, culture\n",
      "\n",
      "\n"
     ]
    },
    {
     "name": "stderr",
     "output_type": "stream",
     "text": [
      "55502it [1:19:30, 13.26it/s]"
     ]
    },
    {
     "name": "stdout",
     "output_type": "stream",
     "text": [
      "| epoch   1 | 55500/162913 batches | loss    1.811 \n",
      "money: their, fact, any, possible, would, good, which, so, too, result\n",
      "lion: inducted, although, suicide, chinese, support, intended, an, also, been, specifically\n",
      "africa: south, east, europe, north, west, central, america, african, india, germany\n",
      "musician: actor, singer, john, one, born, nine, american, eight, d, seven\n",
      "dance: music, musical, rock, modern, study, includes, less, style, developed, culture\n",
      "\n",
      "\n"
     ]
    },
    {
     "name": "stderr",
     "output_type": "stream",
     "text": [
      "56002it [1:20:03, 12.56it/s]"
     ]
    },
    {
     "name": "stdout",
     "output_type": "stream",
     "text": [
      "| epoch   1 | 56000/162913 batches | loss    1.808 \n",
      "money: fact, any, would, possible, their, good, take, much, so, which\n",
      "lion: inducted, although, chinese, suicide, also, beyond, which, intended, specifically, usually\n",
      "africa: south, east, europe, north, central, west, america, african, india, eastern\n",
      "musician: actor, singer, john, seven, born, d, one, eight, four, five\n",
      "dance: music, musical, rock, modern, includes, less, study, material, work, most\n",
      "\n",
      "\n"
     ]
    },
    {
     "name": "stderr",
     "output_type": "stream",
     "text": [
      "56502it [1:20:37, 13.09it/s]"
     ]
    },
    {
     "name": "stdout",
     "output_type": "stream",
     "text": [
      "| epoch   1 | 56500/162913 batches | loss    1.810 \n",
      "money: any, fact, possible, good, their, so, take, its, would, thus\n",
      "lion: inducted, chinese, also, suicide, although, britain, beyond, spanish, history, full\n",
      "africa: south, east, europe, north, west, america, central, african, india, germany\n",
      "musician: actor, singer, john, seven, born, five, four, d, american, eight\n",
      "dance: music, musical, in, rock, includes, modern, less, study, material, earlier\n",
      "\n",
      "\n"
     ]
    },
    {
     "name": "stderr",
     "output_type": "stream",
     "text": [
      "57002it [1:21:10, 13.07it/s]"
     ]
    },
    {
     "name": "stdout",
     "output_type": "stream",
     "text": [
      "| epoch   1 | 57000/162913 batches | loss    1.804 \n",
      "money: fact, possible, any, good, take, its, much, so, their, very\n",
      "lion: inducted, chinese, also, suicide, although, spanish, britain, intended, beyond, friend\n",
      "africa: south, east, europe, north, west, america, central, african, india, germany\n",
      "musician: actor, singer, john, seven, born, d, eight, five, american, four\n",
      "dance: music, musical, rock, modern, includes, less, earlier, study, style, culture\n",
      "\n",
      "\n"
     ]
    },
    {
     "name": "stderr",
     "output_type": "stream",
     "text": [
      "57502it [1:21:46, 11.13it/s]"
     ]
    },
    {
     "name": "stdout",
     "output_type": "stream",
     "text": [
      "| epoch   1 | 57500/162913 batches | loss    1.802 \n",
      "money: fact, possible, any, good, take, it, much, so, however, too\n",
      "lion: inducted, chinese, suicide, although, spanish, britain, also, friend, intended, beyond\n",
      "africa: south, east, europe, north, america, west, central, african, india, country\n",
      "musician: actor, singer, john, seven, born, nine, five, d, four, six\n",
      "dance: music, musical, rock, modern, includes, less, study, culture, song, earlier\n",
      "\n",
      "\n"
     ]
    },
    {
     "name": "stderr",
     "output_type": "stream",
     "text": [
      "58002it [1:22:21, 12.67it/s]"
     ]
    },
    {
     "name": "stdout",
     "output_type": "stream",
     "text": [
      "| epoch   1 | 58000/162913 batches | loss    1.800 \n",
      "money: fact, take, it, any, possible, much, good, so, to, would\n",
      "lion: inducted, chinese, although, suicide, also, full, spanish, friend, britain, westminster\n",
      "africa: europe, east, south, north, america, west, central, african, country, germany\n",
      "musician: actor, singer, john, seven, born, five, d, nine, four, american\n",
      "dance: music, musical, rock, modern, includes, culture, study, in, less, band\n",
      "\n",
      "\n"
     ]
    },
    {
     "name": "stderr",
     "output_type": "stream",
     "text": [
      "58502it [1:22:56, 11.46it/s]"
     ]
    },
    {
     "name": "stdout",
     "output_type": "stream",
     "text": [
      "| epoch   1 | 58500/162913 batches | loss    1.797 \n",
      "money: fact, to, take, so, good, any, possible, it, much, too\n",
      "lion: inducted, chinese, although, suicide, full, spanish, britain, friend, history, numerous\n",
      "africa: south, east, europe, north, america, west, african, central, germany, southern\n",
      "musician: singer, actor, john, born, seven, nine, d, four, five, american\n",
      "dance: music, musical, rock, modern, culture, includes, study, song, country, style\n",
      "\n",
      "\n"
     ]
    },
    {
     "name": "stderr",
     "output_type": "stream",
     "text": [
      "59002it [1:23:32, 12.65it/s]"
     ]
    },
    {
     "name": "stdout",
     "output_type": "stream",
     "text": [
      "| epoch   1 | 59000/162913 batches | loss    1.792 \n",
      "money: it, fact, so, take, possible, any, good, much, their, thus\n",
      "lion: inducted, chinese, suicide, spanish, full, also, usually, history, although\n",
      "africa: east, south, europe, north, america, west, african, central, germany, southern\n",
      "musician: singer, actor, john, born, nine, seven, d, six, four, american\n",
      "dance: music, musical, rock, includes, modern, study, song, culture, style, material\n",
      "\n",
      "\n"
     ]
    },
    {
     "name": "stderr",
     "output_type": "stream",
     "text": [
      "59502it [1:24:06, 12.60it/s]"
     ]
    },
    {
     "name": "stdout",
     "output_type": "stream",
     "text": [
      "| epoch   1 | 59500/162913 batches | loss    1.796 \n",
      "money: fact, take, so, any, possible, it, good, much, however, too\n",
      "lion: inducted, chinese, also, spanish, suicide, republic, history, although, friend, intended\n",
      "africa: south, east, europe, north, america, west, african, germany, southern, central\n",
      "musician: singer, actor, john, born, nine, one, seven, five, d, american\n",
      "dance: music, musical, rock, includes, study, culture, modern, style, material\n",
      "\n",
      "\n"
     ]
    },
    {
     "name": "stderr",
     "output_type": "stream",
     "text": [
      "60002it [1:24:41, 12.63it/s]"
     ]
    },
    {
     "name": "stdout",
     "output_type": "stream",
     "text": [
      "| epoch   1 | 60000/162913 batches | loss    1.791 \n",
      "money: take, so, fact, it, possible, much, any, good, too, their\n",
      "lion: inducted, chinese, also, spanish, suicide, although, republic, intended, indian, practice\n",
      "africa: east, south, europe, north, america, african, west, southern, germany, central\n",
      "musician: singer, actor, john, nine, born, seven, five, six, d, one\n",
      "dance: music, musical, rock, modern, includes, study, culture, style, nation, material\n",
      "\n",
      "\n"
     ]
    },
    {
     "name": "stderr",
     "output_type": "stream",
     "text": [
      "60502it [1:25:15, 13.47it/s]"
     ]
    },
    {
     "name": "stdout",
     "output_type": "stream",
     "text": [
      "| epoch   1 | 60500/162913 batches | loss    1.791 \n",
      "money: take, possible, fact, much, so, it, any, however, would, good\n",
      "lion: inducted, also, chinese, or, suicide, and, spanish, republic, first, westminster\n",
      "africa: east, south, north, europe, america, african, west, southern, germany, central\n",
      "musician: singer, actor, john, born, nine, six, five, seven, d, one\n",
      "dance: music, musical, rock, and, modern, includes, study, culture, style, material\n",
      "\n",
      "\n"
     ]
    },
    {
     "name": "stderr",
     "output_type": "stream",
     "text": [
      "61002it [1:25:47, 13.12it/s]"
     ]
    },
    {
     "name": "stdout",
     "output_type": "stream",
     "text": [
      "| epoch   1 | 61000/162913 batches | loss    1.788 \n",
      "money: take, so, possible, fact, much, however, too, did, good, would\n",
      "lion: inducted, chinese, also, suicide, spanish, republic, christian, westminster, practice, intended\n",
      "africa: east, south, europe, north, african, west, southern, america, central, eastern\n",
      "musician: actor, singer, john, nine, born, seven, d, six, american, five\n",
      "dance: music, musical, rock, includes, more, study, modern, style, culture, material\n",
      "\n",
      "\n"
     ]
    },
    {
     "name": "stderr",
     "output_type": "stream",
     "text": [
      "61502it [1:26:20, 13.13it/s]"
     ]
    },
    {
     "name": "stdout",
     "output_type": "stream",
     "text": [
      "| epoch   1 | 61500/162913 batches | loss    1.788 \n",
      "money: take, possible, would, so, however, fact, much, even, they, good\n",
      "lion: inducted, chinese, suicide, also, spanish, although, republic, foreign, westminster, elements\n",
      "africa: east, south, europe, north, african, west, southern, america, central, eastern\n",
      "musician: actor, singer, john, nine, born, one, seven, six, five, d\n",
      "dance: music, musical, rock, more, includes, style, study, culture, material\n",
      "\n",
      "\n"
     ]
    },
    {
     "name": "stderr",
     "output_type": "stream",
     "text": [
      "62002it [1:26:54, 13.21it/s]"
     ]
    },
    {
     "name": "stdout",
     "output_type": "stream",
     "text": [
      "| epoch   1 | 62000/162913 batches | loss    1.789 \n",
      "money: take, possible, so, much, however, fact, would, any, even, too\n",
      "lion: inducted, chinese, suicide, spanish, also, republic, practice, elements, foreign, subject\n",
      "africa: east, south, europe, north, african, west, southern, america, germany, central\n",
      "musician: singer, actor, john, born, nine, six, one, eight, d, seven\n",
      "dance: music, musical, rock, includes, more, style, study, in, culture, usually\n",
      "\n",
      "\n"
     ]
    },
    {
     "name": "stderr",
     "output_type": "stream",
     "text": [
      "62502it [1:27:27, 13.00it/s]"
     ]
    },
    {
     "name": "stdout",
     "output_type": "stream",
     "text": [
      "| epoch   1 | 62500/162913 batches | loss    1.791 \n",
      "money: take, possible, much, it, any, to, so, however, fact, would\n",
      "lion: inducted, chinese, also, suicide, spanish, republic, intended, subject, friend, britain\n",
      "africa: east, europe, south, north, west, african, southern, america, germany, india\n",
      "musician: singer, actor, john, nine, born, seven, six, d, four, eight\n",
      "dance: music, musical, rock, includes, style, study, culture, usually, group, band\n",
      "\n",
      "\n"
     ]
    },
    {
     "name": "stderr",
     "output_type": "stream",
     "text": [
      "63002it [1:28:01, 13.19it/s]"
     ]
    },
    {
     "name": "stdout",
     "output_type": "stream",
     "text": [
      "| epoch   1 | 63000/162913 batches | loss    1.787 \n",
      "money: take, possible, however, to, any, so, their, much, fact, even\n",
      "lion: inducted, chinese, spanish, suicide, also, republic, friend, although, intended, subject\n",
      "africa: europe, east, south, north, west, southern, african, america, germany, india\n",
      "musician: singer, actor, john, seven, nine, four, born, eight, five, d\n",
      "dance: music, musical, rock, includes, style, study, and, culture, group, usually\n",
      "\n",
      "\n"
     ]
    },
    {
     "name": "stderr",
     "output_type": "stream",
     "text": [
      "63502it [1:28:34, 13.34it/s]"
     ]
    },
    {
     "name": "stdout",
     "output_type": "stream",
     "text": [
      "| epoch   1 | 63500/162913 batches | loss    1.783 \n",
      "money: take, possible, much, their, so, however, fact, any, good, them\n",
      "lion: inducted, chinese, suicide, spanish, republic, westminster, intended, history, specifically, but\n",
      "africa: europe, east, south, north, african, west, southern, america, germany, india\n",
      "musician: singer, actor, john, nine, seven, six, eight, born, d, five\n",
      "dance: music, musical, rock, includes, study, style, usually, as, band, nation\n",
      "\n",
      "\n"
     ]
    },
    {
     "name": "stderr",
     "output_type": "stream",
     "text": [
      "64002it [1:29:07, 12.43it/s]"
     ]
    },
    {
     "name": "stdout",
     "output_type": "stream",
     "text": [
      "| epoch   1 | 64000/162913 batches | loss    1.782 \n",
      "money: take, much, possible, their, so, however, would, fact, any, to\n",
      "lion: inducted, chinese, was, suicide, spanish, republic, him, westminster, also, numerous\n",
      "africa: east, europe, south, african, north, southern, west, america, germany, india\n",
      "musician: singer, actor, john, eight, seven, american, nine, d, born, four\n",
      "dance: music, musical, rock, includes, study, usually, style, culture, band, group\n",
      "\n",
      "\n"
     ]
    },
    {
     "name": "stderr",
     "output_type": "stream",
     "text": [
      "64502it [1:29:42, 12.64it/s]"
     ]
    },
    {
     "name": "stdout",
     "output_type": "stream",
     "text": [
      "| epoch   1 | 64500/162913 batches | loss    1.785 \n",
      "money: take, possible, much, their, so, any, however, did, would, them\n",
      "lion: inducted, chinese, suicide, spanish, was, him, republic, friend, intended, westminster\n",
      "africa: europe, east, south, african, north, southern, west, america, germany, india\n",
      "musician: singer, actor, john, eight, d, american, seven, born, six, nine\n",
      "dance: music, musical, rock, study, includes, style, usually, culture, band, modern\n",
      "\n",
      "\n"
     ]
    },
    {
     "name": "stderr",
     "output_type": "stream",
     "text": [
      "65002it [1:30:17, 12.64it/s]"
     ]
    },
    {
     "name": "stdout",
     "output_type": "stream",
     "text": [
      "| epoch   1 | 65000/162913 batches | loss    1.781 \n",
      "money: take, possible, would, so, much, any, good, their, however, fact\n",
      "lion: inducted, chinese, suicide, also, spanish, him, catholic, republic, history, elements\n",
      "africa: europe, east, south, african, north, west, southern, america, india, germany\n",
      "musician: singer, actor, john, d, american, eight, seven, born, five, four\n",
      "dance: music, musical, rock, includes, study, usually, style, culture, band, in\n",
      "\n",
      "\n"
     ]
    },
    {
     "name": "stderr",
     "output_type": "stream",
     "text": [
      "65502it [1:30:52, 12.48it/s]"
     ]
    },
    {
     "name": "stdout",
     "output_type": "stream",
     "text": [
      "| epoch   1 | 65500/162913 batches | loss    1.783 \n",
      "money: take, possible, so, would, it, any, much, fact, even, them\n",
      "lion: inducted, chinese, suicide, spanish, elements, catholic, him, friend, intended, westminster\n",
      "africa: europe, east, south, african, southern, north, west, america, germany, india\n",
      "musician: singer, actor, seven, john, american, one, eight, d, six, born\n",
      "dance: music, musical, rock, study, includes, style, culture, usually, more, band\n",
      "\n",
      "\n"
     ]
    },
    {
     "name": "stderr",
     "output_type": "stream",
     "text": [
      "66002it [1:31:27, 12.49it/s]"
     ]
    },
    {
     "name": "stdout",
     "output_type": "stream",
     "text": [
      "| epoch   1 | 66000/162913 batches | loss    1.778 \n",
      "money: take, any, possible, much, would, so, fact, how, more, for\n",
      "lion: inducted, chinese, first, suicide, spanish, elements, catholic, friend, westminster, also\n",
      "africa: europe, east, south, african, southern, north, west, america, india, germany\n",
      "musician: singer, actor, seven, john, eight, american, born, nine, six, d\n",
      "dance: music, musical, rock, study, style, includes, culture, usually, band, more\n",
      "\n",
      "\n"
     ]
    },
    {
     "name": "stderr",
     "output_type": "stream",
     "text": [
      "66502it [1:32:02, 12.65it/s]"
     ]
    },
    {
     "name": "stdout",
     "output_type": "stream",
     "text": [
      "| epoch   1 | 66500/162913 batches | loss    1.776 \n",
      "money: take, much, any, possible, would, fact, how, more, however, rather\n",
      "lion: inducted, chinese, suicide, spanish, westminster, friend, intended, written, numerous, catholic\n",
      "africa: europe, east, south, african, north, southern, west, america, india, eastern\n",
      "musician: singer, actor, john, seven, eight, born, american, six, nine, d\n",
      "dance: music, musical, rock, includes, study, style, band, culture, usually, earlier\n",
      "\n",
      "\n"
     ]
    },
    {
     "name": "stderr",
     "output_type": "stream",
     "text": [
      "67002it [1:32:37, 12.58it/s]"
     ]
    },
    {
     "name": "stdout",
     "output_type": "stream",
     "text": [
      "| epoch   1 | 67000/162913 batches | loss    1.779 \n",
      "money: take, much, possible, fact, rather, any, how, would, however, so\n",
      "lion: inducted, chinese, suicide, first, spanish, intended, westminster, written, numerous, friend\n",
      "africa: europe, east, south, african, north, southern, west, america, india, eastern\n",
      "musician: singer, actor, seven, john, eight, six, born, d, american, one\n",
      "dance: music, musical, rock, includes, band, study, style, culture, earlier, example\n",
      "\n",
      "\n"
     ]
    },
    {
     "name": "stderr",
     "output_type": "stream",
     "text": [
      "67502it [1:33:11, 12.68it/s]"
     ]
    },
    {
     "name": "stdout",
     "output_type": "stream",
     "text": [
      "| epoch   1 | 67500/162913 batches | loss    1.773 \n",
      "money: take, for, to, much, possible, rather, how, any, fact, good\n",
      "lion: inducted, chinese, suicide, intended, written, elements, westminster, spanish, practice, numerous\n",
      "africa: europe, south, east, african, north, southern, america, india, west, eastern\n",
      "musician: singer, actor, eight, seven, john, born, one, d, american, b\n",
      "dance: music, musical, rock, includes, band, style, study, in, earlier, culture\n",
      "\n",
      "\n"
     ]
    },
    {
     "name": "stderr",
     "output_type": "stream",
     "text": [
      "68002it [1:33:45, 13.11it/s]"
     ]
    },
    {
     "name": "stdout",
     "output_type": "stream",
     "text": [
      "| epoch   1 | 68000/162913 batches | loss    1.774 \n",
      "money: take, to, much, rather, possible, any, fact, its, give, would\n",
      "lion: inducted, chinese, suicide, and, first, written, intended, elements, fourth, practice\n",
      "africa: europe, south, east, african, southern, america, north, india, west, eastern\n",
      "musician: singer, actor, seven, eight, john, one, nine, born, d, b\n",
      "dance: music, musical, rock, includes, style, study, band, as, culture, zero\n",
      "\n",
      "\n"
     ]
    },
    {
     "name": "stderr",
     "output_type": "stream",
     "text": [
      "68502it [1:34:19, 12.76it/s]"
     ]
    },
    {
     "name": "stdout",
     "output_type": "stream",
     "text": [
      "| epoch   1 | 68500/162913 batches | loss    1.773 \n",
      "money: take, its, rather, possible, much, give, fact, how, for, return\n",
      "lion: inducted, chinese, first, suicide, intended, elements, practice, written, them, westminster\n",
      "africa: europe, south, east, african, north, southern, america, india, west, northern\n",
      "musician: singer, actor, seven, john, born, nine, eight, american, b, d\n",
      "dance: music, musical, rock, style, includes, band, study, culture, community, pop\n",
      "\n",
      "\n"
     ]
    },
    {
     "name": "stderr",
     "output_type": "stream",
     "text": [
      "69002it [1:34:54, 12.78it/s]"
     ]
    },
    {
     "name": "stdout",
     "output_type": "stream",
     "text": [
      "| epoch   1 | 69000/162913 batches | loss    1.769 \n",
      "money: take, to, much, it, possible, rather, give, for, good, better\n",
      "lion: inducted, chinese, first, suicide, intended, elements, son, practice, spanish\n",
      "africa: europe, south, east, african, southern, north, america, west, india, eastern\n",
      "musician: singer, actor, seven, john, born, b, nine, d, eight, six\n",
      "dance: musical, music, rock, style, band, includes, study, as, forms, earlier\n",
      "\n",
      "\n"
     ]
    },
    {
     "name": "stderr",
     "output_type": "stream",
     "text": [
      "69502it [1:35:28, 12.68it/s]"
     ]
    },
    {
     "name": "stdout",
     "output_type": "stream",
     "text": [
      "| epoch   1 | 69500/162913 batches | loss    1.772 \n",
      "money: take, for, to, much, give, possible, it, would, better, thus\n",
      "lion: inducted, chinese, first, suicide, intended, written, him, spanish, son, westminster\n",
      "africa: europe, south, east, african, america, southern, west, india, north, eastern\n",
      "musician: singer, actor, john, nine, seven, b, born, six, eight, d\n",
      "dance: music, musical, rock, style, band, includes, study, song, original, culture\n",
      "\n",
      "\n"
     ]
    },
    {
     "name": "stderr",
     "output_type": "stream",
     "text": [
      "70002it [1:36:03, 12.70it/s]"
     ]
    },
    {
     "name": "stdout",
     "output_type": "stream",
     "text": [
      "| epoch   1 | 70000/162913 batches | loss    1.764 \n",
      "money: take, it, give, not, for, better, much, possible, would, thus\n",
      "lion: inducted, suicide, chinese, written, intended, first, him, britain, elements, son\n",
      "africa: europe, south, east, african, america, southern, india, west, north, eastern\n",
      "musician: singer, actor, nine, john, b, eight, seven, born, d, american\n",
      "dance: music, musical, rock, style, includes, in, song, band, original, study\n",
      "\n",
      "\n"
     ]
    },
    {
     "name": "stderr",
     "output_type": "stream",
     "text": [
      "70502it [1:36:37, 12.64it/s]"
     ]
    },
    {
     "name": "stdout",
     "output_type": "stream",
     "text": [
      "| epoch   1 | 70500/162913 batches | loss    1.769 \n",
      "money: take, not, give, it, return, thus, better, more, would, to\n",
      "lion: inducted, suicide, written, spanish, elements, intended, britain, son, westminster, chinese\n",
      "africa: europe, south, east, african, southern, america, west, india, north, region\n",
      "musician: singer, actor, seven, john, b, nine, born, american, four, one\n",
      "dance: music, musical, rock, style, includes, song, is, more, band, original\n",
      "\n",
      "\n"
     ]
    },
    {
     "name": "stderr",
     "output_type": "stream",
     "text": [
      "71002it [1:37:12, 12.45it/s]"
     ]
    },
    {
     "name": "stdout",
     "output_type": "stream",
     "text": [
      "| epoch   1 | 71000/162913 batches | loss    1.763 \n",
      "money: take, more, it, only, give, better, not, return, again, much\n",
      "lion: inducted, suicide, spanish, written, him, chinese, westminster, intended, elements, britain\n",
      "africa: europe, south, east, african, southern, america, india, west, north, region\n",
      "musician: singer, actor, nine, seven, b, john, born, american, d, six\n",
      "dance: music, musical, rock, style, song, includes, more, culture, band, study\n",
      "\n",
      "\n"
     ]
    },
    {
     "name": "stderr",
     "output_type": "stream",
     "text": [
      "71502it [1:37:47, 12.71it/s]"
     ]
    },
    {
     "name": "stdout",
     "output_type": "stream",
     "text": [
      "| epoch   1 | 71500/162913 batches | loss    1.766 \n",
      "money: take, to, more, give, better, it, much, good, again, only\n",
      "lion: inducted, spanish, him, suicide, elements, son, westminster, written, chinese, intended\n",
      "africa: europe, south, east, african, southern, india, america, west, eastern, north\n",
      "musician: singer, actor, b, american, john, d, born, six, nine, seven\n",
      "dance: music, musical, rock, style, more, song, while, study, band, culture\n",
      "\n",
      "\n"
     ]
    },
    {
     "name": "stderr",
     "output_type": "stream",
     "text": [
      "72002it [1:38:21, 12.95it/s]"
     ]
    },
    {
     "name": "stdout",
     "output_type": "stream",
     "text": [
      "| epoch   1 | 72000/162913 batches | loss    1.763 \n",
      "money: take, to, give, better, much, would, only, good, thus, more\n",
      "lion: inducted, spanish, him, son, suicide, elements, westminster, chinese, intended, written\n",
      "africa: europe, south, east, african, india, southern, america, west, north, eastern\n",
      "musician: singer, actor, john, american, d, b, born, seven, one, nine\n",
      "dance: music, musical, rock, style, more, while, song, band, pop, original\n",
      "\n",
      "\n"
     ]
    },
    {
     "name": "stderr",
     "output_type": "stream",
     "text": [
      "72502it [1:38:55, 12.72it/s]"
     ]
    },
    {
     "name": "stdout",
     "output_type": "stream",
     "text": [
      "| epoch   1 | 72500/162913 batches | loss    1.761 \n",
      "money: take, give, better, much, again, rather, thus, would, even, good\n",
      "lion: inducted, spanish, him, also, chinese, suicide, elements, son, westminster, intended\n",
      "africa: europe, south, east, african, india, southern, america, west, region, eastern\n",
      "musician: singer, actor, john, american, nine, d, born, b, seven, six\n",
      "dance: music, musical, rock, style, in, more, band, song, pop, modern\n",
      "\n",
      "\n"
     ]
    },
    {
     "name": "stderr",
     "output_type": "stream",
     "text": [
      "73002it [1:39:29, 12.86it/s]"
     ]
    },
    {
     "name": "stdout",
     "output_type": "stream",
     "text": [
      "| epoch   1 | 73000/162913 batches | loss    1.763 \n",
      "money: take, give, much, thus, better, rather, again, continued, return, good\n",
      "lion: inducted, also, spanish, him, chinese, suicide, them, son, elements, westminster\n",
      "africa: europe, south, east, african, india, southern, america, west, region, north\n",
      "musician: singer, actor, john, american, nine, d, b, seven, born, eight\n",
      "dance: music, musical, rock, style, band, modern, pop, song, show, in\n",
      "\n",
      "\n"
     ]
    },
    {
     "name": "stderr",
     "output_type": "stream",
     "text": [
      "73502it [1:56:15,  4.20s/it] "
     ]
    },
    {
     "name": "stdout",
     "output_type": "stream",
     "text": [
      "| epoch   1 | 73500/162913 batches | loss    1.761 \n",
      "money: take, much, better, give, rather, interest, thus, good, longer, even\n",
      "lion: inducted, also, chinese, spanish, him, suicide, were, son, full, westminster\n",
      "africa: europe, south, east, african, india, southern, west, region, america, north\n",
      "musician: singer, actor, john, one, american, seven, d, nine, born, eight\n",
      "dance: music, musical, rock, style, band, modern, pop, song, study, original\n",
      "\n",
      "\n"
     ]
    },
    {
     "name": "stderr",
     "output_type": "stream",
     "text": [
      "74002it [3:18:36, 12.49it/s] "
     ]
    },
    {
     "name": "stdout",
     "output_type": "stream",
     "text": [
      "| epoch   1 | 74000/162913 batches | loss    1.757 \n",
      "money: take, better, much, give, continued, return, rather, thus, again, to\n",
      "lion: inducted, also, him, chinese, son, suicide, spanish, westminster, them, elements\n",
      "africa: south, europe, east, india, southern, west, african, region, america, north\n",
      "musician: singer, actor, nine, john, american, one, born, d, seven, b\n",
      "dance: music, musical, rock, style, band, in, pop, modern, study, song\n",
      "\n",
      "\n"
     ]
    },
    {
     "name": "stderr",
     "output_type": "stream",
     "text": [
      "74502it [4:21:18, 47.30s/it] "
     ]
    },
    {
     "name": "stdout",
     "output_type": "stream",
     "text": [
      "| epoch   1 | 74500/162913 batches | loss    1.754 \n",
      "money: take, much, give, own, its, better, rather, thus, longer, even\n",
      "lion: inducted, was, also, him, chinese, westminster, son, suicide, spanish, them\n",
      "africa: europe, south, east, southern, india, african, west, region, america, north\n",
      "musician: singer, actor, american, seven, john, born, d, nine, b, six\n",
      "dance: music, musical, rock, style, band, pop, modern, song, study, while\n",
      "\n",
      "\n"
     ]
    },
    {
     "name": "stderr",
     "output_type": "stream",
     "text": [
      "75001it [4:37:03, 12.56it/s] "
     ]
    },
    {
     "name": "stdout",
     "output_type": "stream",
     "text": [
      "| epoch   1 | 75000/162913 batches | loss    1.757 \n",
      "money: take, give, own, much, better, rather, its, longer, continued, again\n",
      "lion: inducted, also, chinese, him, suicide, son, westminster, spanish, by, were\n",
      "africa: europe, south, east, african, southern, india, america, region, west, north\n",
      "musician: singer, actor, seven, american, nine, john, born, b, d, four\n",
      "dance: music, musical, rock, style, band, modern, pop, song, study, classical\n",
      "\n",
      "\n"
     ]
    },
    {
     "name": "stderr",
     "output_type": "stream",
     "text": [
      "75501it [4:37:38, 12.67it/s]"
     ]
    },
    {
     "name": "stdout",
     "output_type": "stream",
     "text": [
      "| epoch   1 | 75500/162913 batches | loss    1.753 \n",
      "money: take, give, rather, better, own, again, continued, longer, even, thus\n",
      "lion: inducted, son, chinese, suicide, westminster, s, written, also, full, them\n",
      "africa: south, europe, east, southern, african, india, west, north, america, region\n",
      "musician: singer, actor, nine, born, american, seven, john, d, eight, b\n",
      "dance: music, musical, rock, style, band, pop, modern, study, song, electronic\n",
      "\n",
      "\n"
     ]
    },
    {
     "name": "stderr",
     "output_type": "stream",
     "text": [
      "76003it [4:38:12, 13.33it/s]"
     ]
    },
    {
     "name": "stdout",
     "output_type": "stream",
     "text": [
      "| epoch   1 | 76000/162913 batches | loss    1.756 \n",
      "money: take, rather, give, better, even, so, still, own, time, continued\n",
      "lion: inducted, westminster, suicide, catholic, though, chinese, son, friend, written, births\n",
      "africa: south, europe, east, southern, india, african, america, west, north, region\n",
      "musician: singer, actor, nine, born, american, seven, eight, john, d, b\n",
      "dance: music, musical, rock, style, band, pop, song, modern, electronic, study\n",
      "\n",
      "\n"
     ]
    },
    {
     "name": "stderr",
     "output_type": "stream",
     "text": [
      "76501it [4:38:46, 12.62it/s]"
     ]
    },
    {
     "name": "stdout",
     "output_type": "stream",
     "text": [
      "| epoch   1 | 76500/162913 batches | loss    1.757 \n",
      "money: take, rather, give, time, better, even, own, continued, thus, while\n",
      "lion: inducted, also, westminster, them, catholic, suicide, or, by, friend, son\n",
      "africa: south, europe, east, southern, india, african, north, west, america, region\n",
      "musician: singer, actor, born, eight, nine, seven, american, d, john, b\n",
      "dance: music, musical, rock, style, band, pop, song, electronic, modern, sound\n",
      "\n",
      "\n"
     ]
    },
    {
     "name": "stderr",
     "output_type": "stream",
     "text": [
      "77001it [4:39:21, 12.57it/s]"
     ]
    },
    {
     "name": "stdout",
     "output_type": "stream",
     "text": [
      "| epoch   1 | 77000/162913 batches | loss    1.755 \n",
      "money: take, time, rather, give, even, better, would, own, longer, still\n",
      "lion: inducted, also, westminster, catholic, them, suicide, friend, written, wife, though\n",
      "africa: south, europe, east, north, southern, african, india, west, america, region\n",
      "musician: singer, actor, born, seven, american, eight, d, one, nine, b\n",
      "dance: music, musical, rock, style, band, pop, modern, song, more, electronic\n",
      "\n",
      "\n"
     ]
    },
    {
     "name": "stderr",
     "output_type": "stream",
     "text": [
      "77501it [4:39:55, 12.63it/s]"
     ]
    },
    {
     "name": "stdout",
     "output_type": "stream",
     "text": [
      "| epoch   1 | 77500/162913 batches | loss    1.751 \n",
      "money: take, rather, better, even, give, own, too, not, still, their\n",
      "lion: inducted, also, him, catholic, westminster, them, suicide, friend, by, practice\n",
      "africa: europe, south, east, north, southern, india, african, america, west, region\n",
      "musician: singer, actor, born, seven, american, nine, john, d, one, eight\n",
      "dance: music, musical, rock, style, band, pop, song, electronic, more, modern\n",
      "\n",
      "\n"
     ]
    },
    {
     "name": "stderr",
     "output_type": "stream",
     "text": [
      "78001it [4:40:30, 12.69it/s]"
     ]
    },
    {
     "name": "stdout",
     "output_type": "stream",
     "text": [
      "| epoch   1 | 78000/162913 batches | loss    1.749 \n",
      "money: take, their, to, better, give, time, even, interest, rather, still\n",
      "lion: inducted, him, or, by, catholic, westminster, suicide, practice, friend, though\n",
      "africa: south, europe, east, north, african, southern, india, america, region, west\n",
      "musician: singer, actor, born, seven, american, eight, d, nine, john, b\n",
      "dance: music, musical, rock, style, band, pop, electronic, song, film, classical\n",
      "\n",
      "\n"
     ]
    },
    {
     "name": "stderr",
     "output_type": "stream",
     "text": [
      "78501it [4:41:05, 12.27it/s]"
     ]
    },
    {
     "name": "stdout",
     "output_type": "stream",
     "text": [
      "| epoch   1 | 78500/162913 batches | loss    1.749 \n",
      "money: take, for, give, better, continued, time, their, even, interest, rather\n",
      "lion: inducted, suicide, catholic, him, westminster, also, friend, them, intended\n",
      "africa: europe, south, north, east, southern, african, india, america, region, west\n",
      "musician: singer, actor, american, born, seven, nine, d, eight, one, b\n",
      "dance: music, musical, rock, style, band, song, pop, film, electronic, forms\n",
      "\n",
      "\n"
     ]
    },
    {
     "name": "stderr",
     "output_type": "stream",
     "text": [
      "79001it [4:41:40, 12.70it/s]"
     ]
    },
    {
     "name": "stdout",
     "output_type": "stream",
     "text": [
      "| epoch   1 | 79000/162913 batches | loss    1.750 \n",
      "money: take, time, continued, give, for, better, even, interest, still, own\n",
      "lion: inducted, him, suicide, fact, westminster, catholic, friend, intended, practice, elements\n",
      "africa: south, europe, north, east, southern, india, african, america, region, west\n",
      "musician: singer, actor, american, born, d, eight, seven, six, b, nine\n",
      "dance: music, musical, rock, style, band, song, pop, film, electronic, forms\n",
      "\n",
      "\n"
     ]
    },
    {
     "name": "stderr",
     "output_type": "stream",
     "text": [
      "79503it [4:42:15, 13.25it/s]"
     ]
    },
    {
     "name": "stdout",
     "output_type": "stream",
     "text": [
      "| epoch   1 | 79500/162913 batches | loss    1.748 \n",
      "money: take, continued, still, better, issue, give, even, for, interest, time\n",
      "lion: inducted, catholic, suicide, also, him, westminster, friend, intended, practice, fourth\n",
      "africa: south, europe, east, north, southern, african, india, america, west, eastern\n",
      "musician: singer, actor, american, born, seven, eight, d, nine, b, john\n",
      "dance: music, musical, rock, style, band, song, film, pop, album, electronic\n",
      "\n",
      "\n"
     ]
    },
    {
     "name": "stderr",
     "output_type": "stream",
     "text": [
      "80003it [4:42:48, 13.46it/s]"
     ]
    },
    {
     "name": "stdout",
     "output_type": "stream",
     "text": [
      "| epoch   1 | 80000/162913 batches | loss    1.750 \n",
      "money: take, continued, still, better, issue, for, give, interest, return, own\n",
      "lion: inducted, him, catholic, suicide, political, friend, practice, westminster, them, fourth\n",
      "africa: south, europe, east, southern, north, african, india, america, region, west\n",
      "musician: singer, actor, born, american, seven, eight, nine, d, one, john\n",
      "dance: music, musical, rock, band, style, song, electronic, pop, film, in\n",
      "\n",
      "\n"
     ]
    },
    {
     "name": "stderr",
     "output_type": "stream",
     "text": [
      "80503it [4:43:23, 13.31it/s]"
     ]
    },
    {
     "name": "stdout",
     "output_type": "stream",
     "text": [
      "| epoch   1 | 80500/162913 batches | loss    1.747 \n",
      "money: take, any, own, continued, support, better, interest, even, still, issue\n",
      "lion: inducted, him, well, political, suicide, them, catholic, westminster, fact, elements\n",
      "africa: south, europe, east, southern, north, india, african, america, region, west\n",
      "musician: singer, actor, seven, eight, american, born, nine, d, writer, one\n",
      "dance: music, musical, rock, band, style, song, modern, in, pop, film\n",
      "\n",
      "\n"
     ]
    },
    {
     "name": "stderr",
     "output_type": "stream",
     "text": [
      "81001it [4:43:57, 12.77it/s]"
     ]
    },
    {
     "name": "stdout",
     "output_type": "stream",
     "text": [
      "| epoch   1 | 81000/162913 batches | loss    1.746 \n",
      "money: take, continued, support, own, better, give, thus, interest, longer, still\n",
      "lion: inducted, well, him, suicide, elements, westminster, catholic, intended, political\n",
      "africa: south, europe, east, southern, north, india, african, america, west, region\n",
      "musician: singer, actor, eight, born, one, american, nine, d, seven, six\n",
      "dance: music, musical, rock, band, style, song, pop, album, folk, modern\n",
      "\n",
      "\n"
     ]
    },
    {
     "name": "stderr",
     "output_type": "stream",
     "text": [
      "81501it [4:44:32, 12.71it/s]"
     ]
    },
    {
     "name": "stdout",
     "output_type": "stream",
     "text": [
      "| epoch   1 | 81500/162913 batches | loss    1.749 \n",
      "money: take, to, own, continued, better, support, give, interest, return, any\n",
      "lion: inducted, him, catholic, suicide, well, intended, westminster, political, daughter\n",
      "africa: south, europe, east, india, southern, north, america, african, region, northern\n",
      "musician: singer, actor, nine, eight, born, american, d, seven, six, writer\n",
      "dance: music, musical, rock, band, style, song, pop, album, folk, film\n",
      "\n",
      "\n"
     ]
    },
    {
     "name": "stderr",
     "output_type": "stream",
     "text": [
      "82001it [4:45:06, 12.57it/s]"
     ]
    },
    {
     "name": "stdout",
     "output_type": "stream",
     "text": [
      "| epoch   1 | 82000/162913 batches | loss    1.743 \n",
      "money: take, to, continued, better, own, any, give, longer, return, interest\n",
      "lion: inducted, fact, well, suicide, catholic, westminster, intended, him, births, daughter\n",
      "africa: south, europe, southern, east, india, north, african, america, region, west\n",
      "musician: singer, actor, nine, american, born, seven, six, one, eight, writer\n",
      "dance: music, musical, rock, band, style, song, pop, in, album, modern\n",
      "\n",
      "\n"
     ]
    },
    {
     "name": "stderr",
     "output_type": "stream",
     "text": [
      "82501it [4:45:41, 12.78it/s]"
     ]
    },
    {
     "name": "stdout",
     "output_type": "stream",
     "text": [
      "| epoch   1 | 82500/162913 batches | loss    1.742 \n",
      "money: take, better, continued, even, give, their, own, return, any, too\n",
      "lion: inducted, fact, suicide, catholic, westminster, intended, well, births, friend, daughter\n",
      "africa: south, europe, east, southern, india, african, north, america, west, northern\n",
      "musician: singer, actor, nine, born, seven, american, six, d, eight, writer\n",
      "dance: music, musical, rock, band, style, song, pop, modern, folk, though\n",
      "\n",
      "\n"
     ]
    },
    {
     "name": "stderr",
     "output_type": "stream",
     "text": [
      "83003it [4:46:16, 13.34it/s]"
     ]
    },
    {
     "name": "stdout",
     "output_type": "stream",
     "text": [
      "| epoch   1 | 83000/162913 batches | loss    1.743 \n",
      "money: take, continued, their, even, better, return, give, interest, issue, support\n",
      "lion: inducted, fact, suicide, births, westminster, catholic, intended, daughter, friend, elements\n",
      "africa: south, europe, southern, east, india, north, african, america, west, region\n",
      "musician: singer, actor, seven, born, one, writer, d, american, nine, eight\n",
      "dance: music, musical, rock, band, style, song, modern, pop, folk, in\n",
      "\n",
      "\n"
     ]
    },
    {
     "name": "stderr",
     "output_type": "stream",
     "text": [
      "83503it [4:46:51, 13.42it/s]"
     ]
    },
    {
     "name": "stdout",
     "output_type": "stream",
     "text": [
      "| epoch   1 | 83500/162913 batches | loss    1.740 \n",
      "money: take, continued, their, better, return, interest, give, time, issue, own\n",
      "lion: inducted, suicide, fact, births, catholic, intended, daughter, westminster, friend, well\n",
      "africa: south, europe, southern, east, india, north, african, west, america, region\n",
      "musician: singer, actor, born, nine, seven, d, writer, six, eight, actress\n",
      "dance: music, musical, rock, style, band, song, pop, modern, folk, album\n",
      "\n",
      "\n"
     ]
    },
    {
     "name": "stderr",
     "output_type": "stream",
     "text": [
      "84003it [4:47:24, 13.61it/s]"
     ]
    },
    {
     "name": "stdout",
     "output_type": "stream",
     "text": [
      "| epoch   1 | 84000/162913 batches | loss    1.741 \n",
      "money: take, better, continued, give, their, return, interest, issue, time, own\n",
      "lion: inducted, intended, friend, suicide, catholic, births, well, daughter, fact, westminster\n",
      "africa: south, europe, east, southern, india, north, west, african, northern, america\n",
      "musician: singer, actor, born, six, five, seven, writer, d, nine, eight\n",
      "dance: music, musical, rock, style, band, song, pop, folk, more, album\n",
      "\n",
      "\n"
     ]
    },
    {
     "name": "stderr",
     "output_type": "stream",
     "text": [
      "84503it [4:47:59, 13.14it/s]"
     ]
    },
    {
     "name": "stdout",
     "output_type": "stream",
     "text": [
      "| epoch   1 | 84500/162913 batches | loss    1.736 \n",
      "money: take, interest, give, return, better, continued, time, provide, issue, their\n",
      "lion: inducted, friend, catholic, intended, suicide, births, westminster, fact, daughter, elements\n",
      "africa: south, europe, southern, east, india, north, african, west, america, northern\n",
      "musician: singer, actor, born, seven, eight, writer, six, five, author, american\n",
      "dance: music, musical, rock, style, band, song, more, pop, folk, album\n",
      "\n",
      "\n"
     ]
    },
    {
     "name": "stderr",
     "output_type": "stream",
     "text": [
      "85001it [4:48:33, 12.48it/s]"
     ]
    },
    {
     "name": "stdout",
     "output_type": "stream",
     "text": [
      "| epoch   1 | 85000/162913 batches | loss    1.741 \n",
      "money: take, interest, continued, better, return, give, issue, their, provide, despite\n",
      "lion: inducted, friend, births, intended, catholic, westminster, suicide, fact, now, elements\n",
      "africa: south, europe, southern, east, north, india, region, west, northern, african\n",
      "musician: singer, actor, born, writer, american, seven, five, six, author, eight\n",
      "dance: music, musical, band, rock, style, song, pop, folk, playing, album\n",
      "\n",
      "\n"
     ]
    },
    {
     "name": "stderr",
     "output_type": "stream",
     "text": [
      "85503it [4:49:08, 13.29it/s]"
     ]
    },
    {
     "name": "stdout",
     "output_type": "stream",
     "text": [
      "| epoch   1 | 85500/162913 batches | loss    1.737 \n",
      "money: take, interest, better, return, give, their, continued, issue, despite, own\n",
      "lion: inducted, friend, births, westminster, catholic, intended, suicide, fact, elements, been\n",
      "africa: south, europe, southern, east, india, north, northern, region, west, america\n",
      "musician: singer, actor, born, writer, seven, nine, american, author, four, d\n",
      "dance: music, musical, band, rock, song, pop, style, folk, playing, play\n",
      "\n",
      "\n"
     ]
    },
    {
     "name": "stderr",
     "output_type": "stream",
     "text": [
      "86003it [4:49:43, 13.30it/s]"
     ]
    },
    {
     "name": "stdout",
     "output_type": "stream",
     "text": [
      "| epoch   1 | 86000/162913 batches | loss    1.738 \n",
      "money: take, interest, better, return, give, their, own, continued, issue, it\n",
      "lion: inducted, friend, births, suicide, westminster, catholic, intended, fact, elements, also\n",
      "africa: south, europe, southern, east, india, north, region, northern, west, america\n",
      "musician: singer, actor, born, seven, american, writer, one, nine, six, d\n",
      "dance: music, musical, band, rock, song, pop, style, folk, play, playing\n",
      "\n",
      "\n"
     ]
    },
    {
     "name": "stderr",
     "output_type": "stream",
     "text": [
      "86501it [4:50:18, 12.70it/s]"
     ]
    },
    {
     "name": "stdout",
     "output_type": "stream",
     "text": [
      "| epoch   1 | 86500/162913 batches | loss    1.735 \n",
      "money: take, better, interest, return, give, own, issue, limited, provide, continued\n",
      "lion: inducted, also, friend, fact, births, westminster, suicide, intended, catholic, having\n",
      "africa: south, europe, southern, east, north, region, northern, india, west, african\n",
      "musician: singer, actor, born, american, one, writer, seven, author, d, actress\n",
      "dance: music, musical, band, rock, song, pop, more, folk, style, electronic\n",
      "\n",
      "\n"
     ]
    },
    {
     "name": "stderr",
     "output_type": "stream",
     "text": [
      "87001it [4:50:52, 12.70it/s]"
     ]
    },
    {
     "name": "stdout",
     "output_type": "stream",
     "text": [
      "| epoch   1 | 87000/162913 batches | loss    1.730 \n",
      "money: take, better, interest, return, give, issue, limited, provide, continued, own\n",
      "lion: inducted, friend, intended, also, births, westminster, suicide, catholic, hand, fact\n",
      "africa: south, europe, southern, east, region, india, north, northern, west, america\n",
      "musician: singer, actor, born, one, writer, d, author, american, seven, actress\n",
      "dance: musical, music, band, rock, song, pop, folk, style, electronic, more\n",
      "\n",
      "\n"
     ]
    },
    {
     "name": "stderr",
     "output_type": "stream",
     "text": [
      "87501it [4:51:27, 12.67it/s]"
     ]
    },
    {
     "name": "stdout",
     "output_type": "stream",
     "text": [
      "| epoch   1 | 87500/162913 batches | loss    1.734 \n",
      "money: take, better, return, give, interest, continued, issue, longer, limited, own\n",
      "lion: inducted, intended, westminster, fact, births, friend, suicide, hand, catholic, full\n",
      "africa: south, europe, southern, east, region, northern, india, west, north, america\n",
      "musician: singer, actor, born, nine, writer, author, american, actress, d, six\n",
      "dance: musical, music, band, song, rock, pop, style, electronic, folk, play\n",
      "\n",
      "\n"
     ]
    },
    {
     "name": "stderr",
     "output_type": "stream",
     "text": [
      "88001it [4:52:01, 12.77it/s]"
     ]
    },
    {
     "name": "stdout",
     "output_type": "stream",
     "text": [
      "| epoch   1 | 88000/162913 batches | loss    1.735 \n",
      "money: take, better, return, interest, give, longer, continued, limited, issue, they\n",
      "lion: inducted, intended, fact, friend, westminster, births, suicide, catholic, now, him\n",
      "africa: south, europe, southern, east, northern, india, north, region, west, america\n",
      "musician: singer, actor, born, writer, seven, american, author, nine, actress, six\n",
      "dance: musical, music, band, song, pop, rock, folk, electronic, style, play\n",
      "\n",
      "\n"
     ]
    },
    {
     "name": "stderr",
     "output_type": "stream",
     "text": [
      "88501it [4:52:35, 12.52it/s]"
     ]
    },
    {
     "name": "stdout",
     "output_type": "stream",
     "text": [
      "| epoch   1 | 88500/162913 batches | loss    1.732 \n",
      "money: take, better, return, give, they, interest, longer, continued, limited, issue\n",
      "lion: inducted, intended, fact, friend, westminster, births, suicide, catholic, now\n",
      "africa: south, europe, southern, east, india, northern, north, west, region, america\n",
      "musician: singer, actor, born, nine, writer, seven, american, author, six, actress\n",
      "dance: musical, music, band, song, pop, rock, folk, electronic, style, play\n",
      "\n",
      "\n"
     ]
    },
    {
     "name": "stderr",
     "output_type": "stream",
     "text": [
      "89001it [4:53:10, 12.54it/s]"
     ]
    },
    {
     "name": "stdout",
     "output_type": "stream",
     "text": [
      "| epoch   1 | 89000/162913 batches | loss    1.733 \n",
      "money: take, better, return, give, interest, continued, longer, limited, they, issue\n",
      "lion: inducted, friend, intended, fact, westminster, suicide, births, catholic, now, also\n",
      "africa: south, europe, southern, northern, india, east, north, west, region, america\n",
      "musician: singer, actor, born, writer, american, nine, seven, author, actress, eight\n",
      "dance: musical, music, band, pop, folk, song, rock, style, electronic, play\n",
      "\n",
      "\n"
     ]
    },
    {
     "name": "stderr",
     "output_type": "stream",
     "text": [
      "89501it [4:53:44, 12.64it/s]"
     ]
    },
    {
     "name": "stdout",
     "output_type": "stream",
     "text": [
      "| epoch   1 | 89500/162913 batches | loss    1.729 \n",
      "money: take, better, to, give, interest, return, longer, limited, continued, issue\n",
      "lion: inducted, friend, fact, intended, westminster, suicide, births, catholic, now, been\n",
      "africa: south, europe, southern, northern, india, north, west, east, region, african\n",
      "musician: singer, actor, born, nine, american, writer, eight, author, seven, actress\n",
      "dance: musical, music, band, pop, folk, rock, song, electronic, style, culture\n",
      "\n",
      "\n"
     ]
    },
    {
     "name": "stderr",
     "output_type": "stream",
     "text": [
      "90001it [4:54:19, 12.66it/s]"
     ]
    },
    {
     "name": "stdout",
     "output_type": "stream",
     "text": [
      "| epoch   1 | 90000/162913 batches | loss    1.732 \n",
      "money: take, better, give, interest, to, return, longer, continued, limited, issue\n",
      "lion: inducted, intended, westminster, fact, suicide, births, friend, catholic, him, wife\n",
      "africa: south, europe, southern, northern, east, india, west, north, region, america\n",
      "musician: singer, actor, born, nine, one, writer, american, author, seven, actress\n",
      "dance: music, musical, band, folk, pop, rock, song, style, electronic, play\n",
      "\n",
      "\n"
     ]
    },
    {
     "name": "stderr",
     "output_type": "stream",
     "text": [
      "90501it [4:54:54, 12.55it/s]"
     ]
    },
    {
     "name": "stdout",
     "output_type": "stream",
     "text": [
      "| epoch   1 | 90500/162913 batches | loss    1.731 \n",
      "money: better, take, interest, give, to, return, longer, provide, issue, continued\n",
      "lion: inducted, fact, intended, friend, westminster, suicide, catholic, births, him\n",
      "africa: south, europe, southern, india, northern, east, america, west, north, region\n",
      "musician: singer, actor, born, writer, nine, american, eight, one, author, seven\n",
      "dance: music, musical, band, pop, folk, rock, play, style, song, modern\n",
      "\n",
      "\n"
     ]
    },
    {
     "name": "stderr",
     "output_type": "stream",
     "text": [
      "91001it [4:55:28, 12.48it/s]"
     ]
    },
    {
     "name": "stdout",
     "output_type": "stream",
     "text": [
      "| epoch   1 | 91000/162913 batches | loss    1.731 \n",
      "money: better, take, interest, give, return, longer, issue, time, provide, continued\n",
      "lion: inducted, fact, friend, intended, suicide, westminster, births, catholic, daughter, laureate\n",
      "africa: south, europe, southern, india, east, northern, america, west, north, region\n",
      "musician: singer, actor, born, writer, american, one, author, nine, eight, actress\n",
      "dance: music, musical, band, pop, folk, rock, play, song, style, electronic\n",
      "\n",
      "\n"
     ]
    },
    {
     "name": "stderr",
     "output_type": "stream",
     "text": [
      "91501it [4:56:03, 12.74it/s]"
     ]
    },
    {
     "name": "stdout",
     "output_type": "stream",
     "text": [
      "| epoch   1 | 91500/162913 batches | loss    1.731 \n",
      "money: better, take, to, give, interest, longer, return, issue, time, despite\n",
      "lion: inducted, fact, westminster, suicide, intended, friend, births, catholic, wife, daughter\n",
      "africa: south, europe, southern, india, northern, america, east, north, west, region\n",
      "musician: singer, actor, born, writer, one, american, author, nine, actress, d\n",
      "dance: music, musical, band, pop, folk, rock, play, song, style, playing\n",
      "\n",
      "\n"
     ]
    },
    {
     "name": "stderr",
     "output_type": "stream",
     "text": [
      "92003it [4:56:37, 13.45it/s]"
     ]
    },
    {
     "name": "stdout",
     "output_type": "stream",
     "text": [
      "| epoch   1 | 92000/162913 batches | loss    1.728 \n",
      "money: better, take, give, interest, longer, continued, issue, their, over, return\n",
      "lion: inducted, suicide, westminster, fact, intended, friend, births, catholic, wife, perhaps\n",
      "africa: south, europe, southern, east, america, northern, india, north, west, region\n",
      "musician: singer, actor, born, writer, nine, seven, author, actress, american, d\n",
      "dance: music, musical, band, pop, folk, rock, song, play, electronic, playing\n",
      "\n",
      "\n"
     ]
    },
    {
     "name": "stderr",
     "output_type": "stream",
     "text": [
      "92501it [4:57:11, 12.73it/s]"
     ]
    },
    {
     "name": "stdout",
     "output_type": "stream",
     "text": [
      "| epoch   1 | 92500/162913 batches | loss    1.728 \n",
      "money: take, better, give, interest, longer, return, continued, issue, their, time\n",
      "lion: inducted, westminster, suicide, fact, friend, intended, births, wife, catholic, nine\n",
      "africa: south, europe, southern, west, northern, america, east, india, north, region\n",
      "musician: singer, actor, born, writer, nine, seven, author, american, actress, one\n",
      "dance: music, musical, band, pop, folk, song, play, rock, style, jazz\n",
      "\n",
      "\n"
     ]
    },
    {
     "name": "stderr",
     "output_type": "stream",
     "text": [
      "93001it [4:57:45, 12.77it/s]"
     ]
    },
    {
     "name": "stdout",
     "output_type": "stream",
     "text": [
      "| epoch   1 | 93000/162913 batches | loss    1.726 \n",
      "money: take, better, give, interest, return, time, longer, their, continued, despite\n",
      "lion: inducted, westminster, friend, suicide, births, intended, catholic, fact, now, laureate\n",
      "africa: south, europe, southern, india, east, america, west, northern, north, region\n",
      "musician: singer, actor, born, writer, nine, one, seven, author, actress, american\n",
      "dance: music, musical, band, pop, folk, play, song, rock, electronic, style\n",
      "\n",
      "\n"
     ]
    },
    {
     "name": "stderr",
     "output_type": "stream",
     "text": [
      "93501it [4:58:20, 12.72it/s]"
     ]
    },
    {
     "name": "stdout",
     "output_type": "stream",
     "text": [
      "| epoch   1 | 93500/162913 batches | loss    1.723 \n",
      "money: better, take, give, interest, time, longer, return, their, despite, continued\n",
      "lion: inducted, suicide, friend, westminster, fact, births, intended, catholic, majority, now\n",
      "africa: south, southern, europe, india, america, west, east, northern, north, region\n",
      "musician: singer, actor, born, writer, one, nine, seven, d, actress, author\n",
      "dance: music, musical, band, pop, folk, song, rock, play, style, electronic\n",
      "\n",
      "\n"
     ]
    },
    {
     "name": "stderr",
     "output_type": "stream",
     "text": [
      "94002it [5:27:29, 17.97s/it] "
     ]
    },
    {
     "name": "stdout",
     "output_type": "stream",
     "text": [
      "| epoch   1 | 94000/162913 batches | loss    1.724 \n",
      "money: better, give, take, interest, their, time, return, longer, continued, issue\n",
      "lion: inducted, suicide, westminster, friend, fact, intended, births, one, catholic, daughter\n",
      "africa: south, europe, southern, india, east, america, northern, west, north, region\n",
      "musician: singer, actor, born, seven, writer, nine, eight, d, actress, author\n",
      "dance: music, musical, band, pop, folk, play, style, song, rock, jazz\n",
      "\n",
      "\n"
     ]
    },
    {
     "name": "stderr",
     "output_type": "stream",
     "text": [
      "94502it [5:57:26, 10.19it/s] "
     ]
    },
    {
     "name": "stdout",
     "output_type": "stream",
     "text": [
      "| epoch   1 | 94500/162913 batches | loss    1.728 \n",
      "money: better, give, take, interest, their, longer, return, if, time, issue\n",
      "lion: inducted, westminster, fact, suicide, friend, intended, catholic, births, daughter, laureate\n",
      "africa: south, europe, southern, india, northern, east, america, west, north, region\n",
      "musician: singer, actor, born, seven, writer, nine, d, american, actress, author\n",
      "dance: music, musical, band, pop, folk, song, play, style, rock, electronic\n",
      "\n",
      "\n"
     ]
    },
    {
     "name": "stderr",
     "output_type": "stream",
     "text": [
      "95002it [6:52:25, 12.59it/s] "
     ]
    },
    {
     "name": "stdout",
     "output_type": "stream",
     "text": [
      "| epoch   1 | 95000/162913 batches | loss    1.727 \n",
      "money: better, give, interest, take, return, longer, time, issue, limited, despite\n",
      "lion: inducted, westminster, fact, suicide, friend, intended, births, daughter, catholic, reason\n",
      "africa: south, southern, europe, india, northern, america, west, east, north, region\n",
      "musician: singer, actor, born, seven, american, writer, d, nine, eight, one\n",
      "dance: music, musical, band, pop, folk, song, style, rock, electronic, jazz\n",
      "\n",
      "\n"
     ]
    },
    {
     "name": "stderr",
     "output_type": "stream",
     "text": [
      "95502it [8:22:38,  8.44it/s] "
     ]
    },
    {
     "name": "stdout",
     "output_type": "stream",
     "text": [
      "| epoch   1 | 95500/162913 batches | loss    1.720 \n",
      "money: better, give, take, time, return, interest, longer, despite, issue, their\n",
      "lion: inducted, westminster, suicide, friend, fact, daughter, intended, births, catholic, laureate\n",
      "africa: south, southern, india, europe, northern, america, west, north, east, region\n",
      "musician: singer, actor, born, american, writer, seven, nine, d, author, six\n",
      "dance: music, musical, band, pop, folk, song, rock, style, jazz, play\n",
      "\n",
      "\n"
     ]
    },
    {
     "name": "stderr",
     "output_type": "stream",
     "text": [
      "96002it [8:40:36,  3.71s/it]"
     ]
    },
    {
     "name": "stdout",
     "output_type": "stream",
     "text": [
      "| epoch   1 | 96000/162913 batches | loss    1.722 \n",
      "money: better, take, give, interest, time, return, their, despite, longer, issue\n",
      "lion: inducted, friend, suicide, westminster, daughter, births, wife, fact, golden, laureate\n",
      "africa: south, southern, europe, northern, india, america, west, north, region, east\n",
      "musician: singer, actor, born, american, nine, writer, seven, six, d, author\n",
      "dance: music, musical, band, pop, folk, song, rock, jazz, style, play\n",
      "\n",
      "\n"
     ]
    },
    {
     "name": "stderr",
     "output_type": "stream",
     "text": [
      "96502it [9:32:54,  9.90it/s] "
     ]
    },
    {
     "name": "stdout",
     "output_type": "stream",
     "text": [
      "| epoch   1 | 96500/162913 batches | loss    1.721 \n",
      "money: take, better, give, interest, time, despite, return, longer, their, to\n",
      "lion: inducted, also, friend, daughter, suicide, westminster, fact, zero, births\n",
      "africa: south, southern, europe, northern, america, india, west, north, east, region\n",
      "musician: singer, actor, born, seven, nine, writer, american, author, six, actress\n",
      "dance: music, musical, band, pop, folk, song, rock, jazz, play, style\n",
      "\n",
      "\n"
     ]
    },
    {
     "name": "stderr",
     "output_type": "stream",
     "text": [
      "97002it [10:15:24, 51.02s/it] "
     ]
    },
    {
     "name": "stdout",
     "output_type": "stream",
     "text": [
      "| epoch   1 | 97000/162913 batches | loss    1.716 \n",
      "money: give, take, better, interest, return, time, longer, despite, when, but\n",
      "lion: inducted, friend, daughter, westminster, suicide, also, fact, births, wife, catholic\n",
      "africa: south, southern, europe, northern, india, america, west, north, region, east\n",
      "musician: singer, actor, born, writer, seven, eight, nine, american, author, actress\n",
      "dance: music, musical, band, pop, folk, rock, song, jazz, play, album\n",
      "\n",
      "\n"
     ]
    },
    {
     "name": "stderr",
     "output_type": "stream",
     "text": [
      "97502it [10:31:49, 12.76it/s] "
     ]
    },
    {
     "name": "stdout",
     "output_type": "stream",
     "text": [
      "| epoch   1 | 97500/162913 batches | loss    1.723 \n",
      "money: give, better, take, interest, time, return, despite, longer, but, put\n",
      "lion: inducted, friend, also, suicide, daughter, westminster, fact, births, wife, catholic\n",
      "africa: south, europe, southern, india, west, northern, america, north, east, region\n",
      "musician: singer, actor, born, writer, nine, author, six, actress, american, d\n",
      "dance: music, musical, band, pop, song, rock, folk, jazz, play, album\n",
      "\n",
      "\n"
     ]
    },
    {
     "name": "stderr",
     "output_type": "stream",
     "text": [
      "98002it [10:32:23, 12.91it/s]"
     ]
    },
    {
     "name": "stdout",
     "output_type": "stream",
     "text": [
      "| epoch   1 | 98000/162913 batches | loss    1.718 \n",
      "money: better, give, take, interest, time, return, despite, longer, much, his\n",
      "lion: inducted, also, suicide, friend, westminster, fact, daughter, wife, births, intended\n",
      "africa: south, europe, southern, northern, india, west, america, east, region, north\n",
      "musician: singer, actor, born, writer, author, american, actress, nine, seven, d\n",
      "dance: music, musical, band, pop, rock, folk, song, play, jazz, style\n",
      "\n",
      "\n"
     ]
    },
    {
     "name": "stderr",
     "output_type": "stream",
     "text": [
      "98502it [10:32:57, 12.83it/s]"
     ]
    },
    {
     "name": "stdout",
     "output_type": "stream",
     "text": [
      "| epoch   1 | 98500/162913 batches | loss    1.717 \n",
      "money: better, give, take, interest, time, longer, despite, return, much, when\n",
      "lion: inducted, fact, westminster, suicide, also, friend, wife, births, daughter, golden\n",
      "africa: south, europe, southern, northern, west, america, india, north, east, region\n",
      "musician: singer, actor, born, writer, nine, seven, american, one, author, actress\n",
      "dance: music, musical, band, pop, folk, rock, song, jazz, play, style\n",
      "\n",
      "\n"
     ]
    },
    {
     "name": "stderr",
     "output_type": "stream",
     "text": [
      "99002it [10:33:33, 12.63it/s]"
     ]
    },
    {
     "name": "stdout",
     "output_type": "stream",
     "text": [
      "| epoch   1 | 99000/162913 batches | loss    1.717 \n",
      "money: better, interest, give, take, time, longer, despite, when, return, much\n",
      "lion: inducted, also, by, fact, suicide, westminster, friend, daughter, wife, golden\n",
      "africa: south, europe, southern, northern, india, west, east, america, north, region\n",
      "musician: singer, actor, born, nine, writer, one, american, actress, author, william\n",
      "dance: music, musical, band, pop, folk, rock, song, jazz, play, style\n",
      "\n",
      "\n"
     ]
    },
    {
     "name": "stderr",
     "output_type": "stream",
     "text": [
      "99502it [10:34:08, 12.54it/s]"
     ]
    },
    {
     "name": "stdout",
     "output_type": "stream",
     "text": [
      "| epoch   1 | 99500/162913 batches | loss    1.714 \n",
      "money: better, interest, give, take, time, longer, despite, thus, return, quickly\n",
      "lion: inducted, eight, suicide, wife, westminster, friend, daughter, fact, golden, births\n",
      "africa: south, southern, europe, northern, india, west, east, america, african, region\n",
      "musician: singer, actor, born, writer, six, american, d, seven, actress, author\n",
      "dance: music, musical, band, pop, folk, rock, song, jazz, play, playing\n",
      "\n",
      "\n"
     ]
    },
    {
     "name": "stderr",
     "output_type": "stream",
     "text": [
      "100002it [10:34:42, 12.99it/s]"
     ]
    },
    {
     "name": "stdout",
     "output_type": "stream",
     "text": [
      "| epoch   1 | 100000/162913 batches | loss    1.718 \n",
      "money: interest, better, take, give, time, longer, their, much, return, despite\n",
      "lion: inducted, suicide, fact, westminster, wife, friend, daughter, golden, births, also\n",
      "africa: south, europe, southern, northern, india, west, east, america, african, region\n",
      "musician: singer, actor, born, writer, seven, american, nine, six, actress, author\n",
      "dance: music, musical, band, pop, folk, rock, song, jazz, play, style\n",
      "\n",
      "\n"
     ]
    },
    {
     "name": "stderr",
     "output_type": "stream",
     "text": [
      "100502it [10:35:16, 12.53it/s]"
     ]
    },
    {
     "name": "stdout",
     "output_type": "stream",
     "text": [
      "| epoch   1 | 100500/162913 batches | loss    1.717 \n",
      "money: interest, take, better, give, time, longer, return, despite, help, their\n",
      "lion: inducted, suicide, eight, wife, friend, westminster, daughter, was, births, golden\n",
      "africa: south, southern, europe, northern, india, west, america, east, african, region\n",
      "musician: singer, actor, born, writer, seven, american, nine, actress, eight, william\n",
      "dance: music, musical, band, rock, pop, folk, song, jazz, playing, play\n",
      "\n",
      "\n"
     ]
    },
    {
     "name": "stderr",
     "output_type": "stream",
     "text": [
      "101002it [10:35:51, 12.71it/s]"
     ]
    },
    {
     "name": "stdout",
     "output_type": "stream",
     "text": [
      "| epoch   1 | 101000/162913 batches | loss    1.716 \n",
      "money: take, interest, time, give, better, return, longer, despite, thus, help\n",
      "lion: inducted, was, suicide, westminster, wife, friend, daughter, eight, fact, golden\n",
      "africa: south, europe, southern, northern, east, india, west, america, african, region\n",
      "musician: singer, actor, born, writer, american, seven, nine, actress, william, eight\n",
      "dance: music, musical, pop, rock, band, folk, song, jazz, album, playing\n",
      "\n",
      "\n"
     ]
    },
    {
     "name": "stderr",
     "output_type": "stream",
     "text": [
      "101502it [10:36:26, 11.96it/s]"
     ]
    },
    {
     "name": "stdout",
     "output_type": "stream",
     "text": [
      "| epoch   1 | 101500/162913 batches | loss    1.712 \n",
      "money: take, interest, better, give, time, their, return, thus, longer, help\n",
      "lion: inducted, wife, suicide, was, westminster, friend, intended, daughter, fact\n",
      "africa: south, europe, northern, southern, india, east, west, america, north, african\n",
      "musician: singer, actor, born, writer, eight, actress, william, american, author, seven\n",
      "dance: music, musical, rock, pop, folk, band, song, jazz, album, playing\n",
      "\n",
      "\n"
     ]
    },
    {
     "name": "stderr",
     "output_type": "stream",
     "text": [
      "102002it [10:37:01, 12.48it/s]"
     ]
    },
    {
     "name": "stdout",
     "output_type": "stream",
     "text": [
      "| epoch   1 | 102000/162913 batches | loss    1.714 \n",
      "money: take, interest, time, better, give, return, thus, longer, help, enough\n",
      "lion: inducted, suicide, wife, westminster, friend, intended, daughter, fact, wing, golden\n",
      "africa: south, europe, northern, southern, east, india, west, north, america, african\n",
      "musician: singer, actor, born, american, eight, writer, nine, actress, william, author\n",
      "dance: music, musical, rock, pop, folk, band, jazz, album, playing, song\n",
      "\n",
      "\n"
     ]
    },
    {
     "name": "stderr",
     "output_type": "stream",
     "text": [
      "102502it [10:37:37, 12.54it/s]"
     ]
    },
    {
     "name": "stdout",
     "output_type": "stream",
     "text": [
      "| epoch   1 | 102500/162913 batches | loss    1.717 \n",
      "money: take, interest, better, time, give, return, help, longer, thus, enough\n",
      "lion: inducted, suicide, friend, westminster, wife, fact, daughter, by, wing, intended\n",
      "africa: south, europe, northern, southern, east, india, african, north, west, america\n",
      "musician: singer, actor, born, american, eight, writer, nine, actress, william, d\n",
      "dance: music, musical, pop, rock, folk, band, jazz, song, playing, album\n",
      "\n",
      "\n"
     ]
    },
    {
     "name": "stderr",
     "output_type": "stream",
     "text": [
      "103002it [10:38:11, 12.49it/s]"
     ]
    },
    {
     "name": "stdout",
     "output_type": "stream",
     "text": [
      "| epoch   1 | 103000/162913 batches | loss    1.713 \n",
      "money: interest, take, time, better, give, return, rather, despite, amount, enough\n",
      "lion: inducted, westminster, suicide, friend, daughter, wife, fact, births, probably, intended\n",
      "africa: south, southern, europe, northern, east, india, west, african, north, america\n",
      "musician: singer, actor, born, american, eight, seven, writer, actress, d, william\n",
      "dance: music, musical, pop, rock, folk, band, playing, jazz, song, album\n",
      "\n",
      "\n"
     ]
    },
    {
     "name": "stderr",
     "output_type": "stream",
     "text": [
      "103502it [10:38:46, 11.87it/s]"
     ]
    },
    {
     "name": "stdout",
     "output_type": "stream",
     "text": [
      "| epoch   1 | 103500/162913 batches | loss    1.710 \n",
      "money: take, interest, time, better, give, only, rather, enough, despite, amount\n",
      "lion: inducted, suicide, westminster, friend, daughter, fact, wife, births, of, golden\n",
      "africa: south, europe, southern, northern, east, india, african, north, america, eastern\n",
      "musician: singer, actor, born, seven, d, writer, american, actress, william, author\n",
      "dance: music, musical, pop, rock, folk, band, playing, jazz, song, scene\n",
      "\n",
      "\n"
     ]
    },
    {
     "name": "stderr",
     "output_type": "stream",
     "text": [
      "104002it [10:39:21, 13.12it/s]"
     ]
    },
    {
     "name": "stdout",
     "output_type": "stream",
     "text": [
      "| epoch   1 | 104000/162913 batches | loss    1.710 \n",
      "money: take, interest, time, better, give, rather, enough, thus, issue, return\n",
      "lion: inducted, suicide, friend, westminster, wife, fact, daughter, births, intended, golden\n",
      "africa: south, europe, southern, northern, east, india, america, african, north, eastern\n",
      "musician: singer, actor, born, d, writer, actress, american, william, author, one\n",
      "dance: music, musical, pop, folk, rock, playing, band, song, jazz, album\n",
      "\n",
      "\n"
     ]
    },
    {
     "name": "stderr",
     "output_type": "stream",
     "text": [
      "104502it [10:39:55, 13.66it/s]"
     ]
    },
    {
     "name": "stdout",
     "output_type": "stream",
     "text": [
      "| epoch   1 | 104500/162913 batches | loss    1.710 \n",
      "money: take, interest, give, better, time, thus, rather, their, amount, return\n",
      "lion: inducted, friend, suicide, westminster, daughter, wife, fact, also, births, golden\n",
      "africa: south, europe, northern, southern, east, india, eastern, america, region, african\n",
      "musician: singer, actor, born, d, american, eight, writer, william, actress, author\n",
      "dance: music, musical, pop, folk, rock, playing, jazz, band, song, scene\n",
      "\n",
      "\n"
     ]
    },
    {
     "name": "stderr",
     "output_type": "stream",
     "text": [
      "105002it [10:40:28, 12.65it/s]"
     ]
    },
    {
     "name": "stdout",
     "output_type": "stream",
     "text": [
      "| epoch   1 | 105000/162913 batches | loss    1.708 \n",
      "money: take, interest, better, give, time, rather, their, amount, issue, return\n",
      "lion: inducted, friend, westminster, suicide, wife, daughter, probably, fact, births, golden\n",
      "africa: south, europe, northern, southern, east, india, eastern, region, america, north\n",
      "musician: singer, actor, born, american, d, nine, eight, william, writer, actress\n",
      "dance: music, musical, pop, folk, rock, playing, jazz, band, song, songs\n",
      "\n",
      "\n"
     ]
    },
    {
     "name": "stderr",
     "output_type": "stream",
     "text": [
      "105502it [10:41:01, 12.75it/s]"
     ]
    },
    {
     "name": "stdout",
     "output_type": "stream",
     "text": [
      "| epoch   1 | 105500/162913 batches | loss    1.707 \n",
      "money: interest, take, better, give, time, rather, amount, thus, issue, enough\n",
      "lion: inducted, friend, westminster, suicide, wife, daughter, fact, births, golden, probably\n",
      "africa: south, northern, europe, southern, east, india, eastern, america, north, region\n",
      "musician: singer, actor, born, american, d, nine, writer, eight, seven, actress\n",
      "dance: music, musical, pop, folk, rock, playing, jazz, band, songs, song\n",
      "\n",
      "\n"
     ]
    },
    {
     "name": "stderr",
     "output_type": "stream",
     "text": [
      "106002it [10:41:35, 12.24it/s]"
     ]
    },
    {
     "name": "stdout",
     "output_type": "stream",
     "text": [
      "| epoch   1 | 106000/162913 batches | loss    1.704 \n",
      "money: interest, take, better, for, give, rather, thus, amount, time, issue\n",
      "lion: inducted, friend, wife, suicide, westminster, daughter, fact, probably, births, intended\n",
      "africa: south, europe, northern, southern, east, india, eastern, north, region, west\n",
      "musician: singer, actor, born, american, nine, writer, seven, d, eight, author\n",
      "dance: music, musical, pop, folk, rock, band, playing, jazz, song, songs\n",
      "\n",
      "\n"
     ]
    },
    {
     "name": "stderr",
     "output_type": "stream",
     "text": [
      "106502it [10:42:12, 13.57it/s]"
     ]
    },
    {
     "name": "stdout",
     "output_type": "stream",
     "text": [
      "| epoch   1 | 106500/162913 batches | loss    1.709 \n",
      "money: interest, take, better, give, rather, amount, personal, enough, thus, time\n",
      "lion: inducted, friend, wife, suicide, westminster, daughter, births, probably, fact, well\n",
      "africa: south, europe, india, northern, southern, east, eastern, north, america, west\n",
      "musician: singer, actor, born, american, writer, nine, seven, author, actress, poet\n",
      "dance: music, musical, pop, rock, folk, band, jazz, playing, song, songs\n",
      "\n",
      "\n"
     ]
    },
    {
     "name": "stderr",
     "output_type": "stream",
     "text": [
      "107002it [10:42:44, 13.41it/s]"
     ]
    },
    {
     "name": "stdout",
     "output_type": "stream",
     "text": [
      "| epoch   1 | 107000/162913 batches | loss    1.706 \n",
      "money: interest, better, take, give, time, amount, personal, little, enough, issue\n",
      "lion: inducted, friend, suicide, daughter, wife, westminster, fact, births, probably, golden\n",
      "africa: south, europe, southern, east, india, northern, eastern, african, west, north\n",
      "musician: singer, actor, born, american, nine, writer, seven, author, actress, six\n",
      "dance: music, musical, pop, rock, band, folk, jazz, playing, song, album\n",
      "\n",
      "\n"
     ]
    },
    {
     "name": "stderr",
     "output_type": "stream",
     "text": [
      "107502it [10:43:17, 13.51it/s]"
     ]
    },
    {
     "name": "stdout",
     "output_type": "stream",
     "text": [
      "| epoch   1 | 107500/162913 batches | loss    1.706 \n",
      "money: interest, take, better, give, enough, little, time, longer, for, amount\n",
      "lion: inducted, friend, suicide, westminster, wife, daughter, births, well, golden, probably\n",
      "africa: south, europe, southern, northern, east, india, eastern, african, west, north\n",
      "musician: singer, actor, born, american, writer, author, nine, seven, actress, william\n",
      "dance: music, musical, pop, rock, band, folk, jazz, playing, song, album\n",
      "\n",
      "\n"
     ]
    },
    {
     "name": "stderr",
     "output_type": "stream",
     "text": [
      "108002it [10:43:49, 13.65it/s]"
     ]
    },
    {
     "name": "stdout",
     "output_type": "stream",
     "text": [
      "| epoch   1 | 108000/162913 batches | loss    1.707 \n",
      "money: interest, take, better, give, enough, little, amount, their, longer, issue\n",
      "lion: inducted, friend, suicide, wife, westminster, daughter, births, golden, catholic, probably\n",
      "africa: south, europe, southern, northern, india, east, eastern, african, west, north\n",
      "musician: singer, actor, born, american, nine, writer, author, actress, eight, william\n",
      "dance: music, musical, pop, rock, band, folk, jazz, playing, song, album\n",
      "\n",
      "\n"
     ]
    },
    {
     "name": "stderr",
     "output_type": "stream",
     "text": [
      "108502it [10:44:21, 13.46it/s]"
     ]
    },
    {
     "name": "stdout",
     "output_type": "stream",
     "text": [
      "| epoch   1 | 108500/162913 batches | loss    1.708 \n",
      "money: interest, better, take, give, enough, return, amount, longer, little, needed\n",
      "lion: inducted, friend, suicide, westminster, wife, daughter, births, which, golden, intended\n",
      "africa: south, europe, southern, india, east, northern, north, eastern, african, america\n",
      "musician: singer, actor, born, nine, american, writer, actress, author, eight, william\n",
      "dance: music, musical, pop, rock, folk, jazz, band, playing, album, song\n",
      "\n",
      "\n"
     ]
    },
    {
     "name": "stderr",
     "output_type": "stream",
     "text": [
      "109002it [10:44:54, 13.67it/s]"
     ]
    },
    {
     "name": "stdout",
     "output_type": "stream",
     "text": [
      "| epoch   1 | 109000/162913 batches | loss    1.703 \n",
      "money: interest, better, take, give, amount, rather, return, longer, little, enough\n",
      "lion: inducted, friend, suicide, westminster, daughter, wife, births, golden, which, intended\n",
      "africa: south, europe, southern, india, east, northern, north, america, eastern, australia\n",
      "musician: singer, actor, born, nine, writer, american, actress, author, poet, composer\n",
      "dance: music, musical, pop, rock, folk, jazz, playing, band, album, song\n",
      "\n",
      "\n"
     ]
    },
    {
     "name": "stderr",
     "output_type": "stream",
     "text": [
      "109502it [10:45:26, 13.19it/s]"
     ]
    },
    {
     "name": "stdout",
     "output_type": "stream",
     "text": [
      "| epoch   1 | 109500/162913 batches | loss    1.705 \n",
      "money: interest, give, better, take, amount, their, longer, needed, little, help\n",
      "lion: inducted, friend, suicide, westminster, daughter, also, wife, births, golden, britain\n",
      "africa: south, europe, southern, east, northern, india, eastern, america, north, australia\n",
      "musician: singer, actor, born, american, writer, nine, actress, author, poet, william\n",
      "dance: music, musical, rock, pop, folk, jazz, playing, band, song, album\n",
      "\n",
      "\n"
     ]
    },
    {
     "name": "stderr",
     "output_type": "stream",
     "text": [
      "110002it [10:45:59, 13.46it/s]"
     ]
    },
    {
     "name": "stdout",
     "output_type": "stream",
     "text": [
      "| epoch   1 | 110000/162913 batches | loss    1.704 \n",
      "money: interest, their, give, better, amount, take, needed, longer, enough, little\n",
      "lion: inducted, friend, suicide, westminster, daughter, births, great, golden, wife, catholic\n",
      "africa: south, europe, southern, east, india, northern, eastern, north, african, america\n",
      "musician: singer, actor, born, writer, actress, american, author, poet, composer, william\n",
      "dance: music, musical, pop, rock, folk, jazz, band, playing, songs, album\n",
      "\n",
      "\n"
     ]
    },
    {
     "name": "stderr",
     "output_type": "stream",
     "text": [
      "110502it [10:46:31, 13.72it/s]"
     ]
    },
    {
     "name": "stdout",
     "output_type": "stream",
     "text": [
      "| epoch   1 | 110500/162913 batches | loss    1.702 \n",
      "money: interest, their, give, better, amount, needed, longer, take, enough, little\n",
      "lion: inducted, friend, suicide, westminster, daughter, births, golden, catholic, novel, great\n",
      "africa: south, east, southern, europe, eastern, india, northern, african, north, west\n",
      "musician: singer, actor, born, actress, writer, american, nine, author, poet, composer\n",
      "dance: music, musical, pop, rock, folk, jazz, playing, band, songs, album\n",
      "\n",
      "\n"
     ]
    },
    {
     "name": "stderr",
     "output_type": "stream",
     "text": [
      "111002it [10:47:03, 13.82it/s]"
     ]
    },
    {
     "name": "stdout",
     "output_type": "stream",
     "text": [
      "| epoch   1 | 111000/162913 batches | loss    1.702 \n",
      "money: interest, better, give, their, amount, enough, needed, longer, take, help\n",
      "lion: inducted, suicide, friend, daughter, westminster, births, golden, wife, sons, novel\n",
      "africa: south, southern, europe, east, eastern, northern, india, african, west, north\n",
      "musician: singer, actor, born, writer, american, actress, nine, author, d, poet\n",
      "dance: music, musical, pop, rock, folk, jazz, playing, band, album, songs\n",
      "\n",
      "\n"
     ]
    },
    {
     "name": "stderr",
     "output_type": "stream",
     "text": [
      "111502it [10:47:35, 13.70it/s]"
     ]
    },
    {
     "name": "stdout",
     "output_type": "stream",
     "text": [
      "| epoch   1 | 111500/162913 batches | loss    1.700 \n",
      "money: interest, give, better, their, amount, enough, take, its, needed, help\n",
      "lion: inducted, suicide, daughter, friend, westminster, births, golden, novel, great, sons\n",
      "africa: south, east, europe, southern, eastern, northern, india, west, african, north\n",
      "musician: singer, actor, born, american, actress, writer, author, poet, william, composer\n",
      "dance: music, musical, pop, rock, folk, jazz, playing, band, songs, album\n",
      "\n",
      "\n"
     ]
    },
    {
     "name": "stderr",
     "output_type": "stream",
     "text": [
      "112002it [10:48:07, 13.82it/s]"
     ]
    },
    {
     "name": "stdout",
     "output_type": "stream",
     "text": [
      "| epoch   1 | 112000/162913 batches | loss    1.701 \n",
      "money: interest, give, its, their, better, amount, needed, help, enough, take\n",
      "lion: inducted, suicide, friend, daughter, westminster, births, golden, novel, sons, wife\n",
      "africa: south, east, europe, southern, eastern, west, india, north, northern, african\n",
      "musician: singer, actor, born, writer, actress, american, author, poet, william, nine\n",
      "dance: music, musical, pop, rock, folk, jazz, playing, band, album, songs\n",
      "\n",
      "\n"
     ]
    },
    {
     "name": "stderr",
     "output_type": "stream",
     "text": [
      "112502it [10:48:38, 13.51it/s]"
     ]
    },
    {
     "name": "stdout",
     "output_type": "stream",
     "text": [
      "| epoch   1 | 112500/162913 batches | loss    1.704 \n",
      "money: interest, give, better, its, amount, needed, their, take, help, enough\n",
      "lion: inducted, suicide, friend, daughter, westminster, probably, golden, births, father, sons\n",
      "africa: south, east, europe, southern, india, eastern, north, northern, west, african\n",
      "musician: singer, actor, born, american, writer, actress, author, poet, william, seven\n",
      "dance: music, musical, pop, folk, rock, jazz, playing, band, album, electronic\n",
      "\n",
      "\n"
     ]
    },
    {
     "name": "stderr",
     "output_type": "stream",
     "text": [
      "113002it [10:49:10, 13.86it/s]"
     ]
    },
    {
     "name": "stdout",
     "output_type": "stream",
     "text": [
      "| epoch   1 | 113000/162913 batches | loss    1.699 \n",
      "money: interest, better, give, amount, needed, help, take, their, longer, move\n",
      "lion: inducted, suicide, friend, daughter, three, westminster, births, probably, sons, golden\n",
      "africa: south, east, europe, southern, india, eastern, west, north, northern, african\n",
      "musician: singer, actor, born, writer, american, actress, author, nine, poet, composer\n",
      "dance: music, musical, pop, folk, rock, jazz, playing, band, electronic, album\n",
      "\n",
      "\n"
     ]
    },
    {
     "name": "stderr",
     "output_type": "stream",
     "text": [
      "113502it [10:49:42, 13.80it/s]"
     ]
    },
    {
     "name": "stdout",
     "output_type": "stream",
     "text": [
      "| epoch   1 | 113500/162913 batches | loss    1.703 \n",
      "money: interest, give, amount, better, their, take, enough, help, needed, financial\n",
      "lion: inducted, suicide, also, friend, westminster, daughter, three, births, father, by\n",
      "africa: south, east, europe, southern, india, eastern, north, west, african, northern\n",
      "musician: singer, actor, born, american, actress, writer, author, nine, poet, eight\n",
      "dance: music, musical, pop, folk, rock, jazz, playing, band, electronic, album\n",
      "\n",
      "\n"
     ]
    },
    {
     "name": "stderr",
     "output_type": "stream",
     "text": [
      "114002it [10:50:14, 13.59it/s]"
     ]
    },
    {
     "name": "stdout",
     "output_type": "stream",
     "text": [
      "| epoch   1 | 114000/162913 batches | loss    1.701 \n",
      "money: interest, give, amount, better, help, take, attention, for, enough, needed\n",
      "lion: inducted, suicide, westminster, friend, father, daughter, births, golden, wife, sons\n",
      "africa: south, east, europe, southern, india, north, west, eastern, african, northern\n",
      "musician: singer, actor, born, american, actress, writer, author, nine, seven, eight\n",
      "dance: music, musical, pop, rock, folk, jazz, playing, band, electronic, songs\n",
      "\n",
      "\n"
     ]
    },
    {
     "name": "stderr",
     "output_type": "stream",
     "text": [
      "114502it [10:50:46, 13.67it/s]"
     ]
    },
    {
     "name": "stdout",
     "output_type": "stream",
     "text": [
      "| epoch   1 | 114500/162913 batches | loss    1.699 \n",
      "money: interest, give, amount, better, help, attention, enough, move, needed, take\n",
      "lion: inducted, suicide, father, daughter, westminster, three, friend, births, probably, wife\n",
      "africa: south, east, southern, north, europe, india, eastern, west, northern, african\n",
      "musician: singer, actor, born, american, nine, actress, writer, author, eight, seven\n",
      "dance: music, musical, pop, rock, folk, jazz, playing, band, electronic, songs\n",
      "\n",
      "\n"
     ]
    },
    {
     "name": "stderr",
     "output_type": "stream",
     "text": [
      "115002it [10:51:18, 13.75it/s]"
     ]
    },
    {
     "name": "stdout",
     "output_type": "stream",
     "text": [
      "| epoch   1 | 115000/162913 batches | loss    1.699 \n",
      "money: interest, give, amount, better, attention, their, help, needed, enough, financial\n",
      "lion: inducted, suicide, friend, daughter, father, births, westminster, probably, novel\n",
      "africa: south, east, southern, europe, north, india, eastern, west, america, northern\n",
      "musician: singer, actor, american, born, actress, writer, author, seven, nine, poet\n",
      "dance: music, musical, pop, folk, jazz, rock, playing, band, electronic, songs\n",
      "\n",
      "\n"
     ]
    },
    {
     "name": "stderr",
     "output_type": "stream",
     "text": [
      "115502it [10:51:51, 13.67it/s]"
     ]
    },
    {
     "name": "stdout",
     "output_type": "stream",
     "text": [
      "| epoch   1 | 115500/162913 batches | loss    1.697 \n",
      "money: interest, give, amount, attention, better, help, enough, longer, needed, financial\n",
      "lion: inducted, suicide, friend, daughter, westminster, father, probably, births, and, golden\n",
      "africa: south, east, southern, north, india, europe, west, america, eastern, northern\n",
      "musician: singer, actor, born, american, actress, writer, author, poet, composer, peter\n",
      "dance: music, musical, pop, folk, jazz, rock, playing, band, electronic, songs\n",
      "\n",
      "\n"
     ]
    },
    {
     "name": "stderr",
     "output_type": "stream",
     "text": [
      "116002it [10:52:24, 12.93it/s]"
     ]
    },
    {
     "name": "stdout",
     "output_type": "stream",
     "text": [
      "| epoch   1 | 116000/162913 batches | loss    1.694 \n",
      "money: give, interest, help, amount, attention, enough, longer, better, financial, move\n",
      "lion: inducted, suicide, friend, daughter, father, westminster, births, novel, probably, golden\n",
      "africa: south, east, north, europe, southern, india, america, west, eastern, northern\n",
      "musician: singer, actor, american, born, actress, author, writer, nine, poet, seven\n",
      "dance: music, musical, pop, folk, jazz, rock, playing, electronic, songs, contemporary\n",
      "\n",
      "\n"
     ]
    },
    {
     "name": "stderr",
     "output_type": "stream",
     "text": [
      "116502it [10:52:58, 12.97it/s]"
     ]
    },
    {
     "name": "stdout",
     "output_type": "stream",
     "text": [
      "| epoch   1 | 116500/162913 batches | loss    1.696 \n",
      "money: give, interest, longer, amount, help, enough, its, financial, attention, better\n",
      "lion: inducted, suicide, friend, daughter, westminster, novel, probably, father, births, golden\n",
      "africa: south, east, north, europe, india, southern, eastern, west, america, western\n",
      "musician: singer, actor, american, born, actress, author, writer, composer, poet, seven\n",
      "dance: music, musical, folk, pop, jazz, rock, playing, contemporary, electronic, band\n",
      "\n",
      "\n"
     ]
    },
    {
     "name": "stderr",
     "output_type": "stream",
     "text": [
      "117002it [10:53:32, 12.92it/s]"
     ]
    },
    {
     "name": "stdout",
     "output_type": "stream",
     "text": [
      "| epoch   1 | 117000/162913 batches | loss    1.700 \n",
      "money: interest, give, enough, financial, amount, help, its, needed, longer, attention\n",
      "lion: inducted, suicide, friend, daughter, westminster, father, births, golden, probably, side\n",
      "africa: south, east, europe, north, india, southern, america, eastern, west, western\n",
      "musician: singer, actor, american, born, actress, writer, author, seven, composer, nine\n",
      "dance: music, musical, folk, jazz, pop, rock, playing, band, contemporary, electronic\n",
      "\n",
      "\n"
     ]
    },
    {
     "name": "stderr",
     "output_type": "stream",
     "text": [
      "117502it [10:54:06, 12.94it/s]"
     ]
    },
    {
     "name": "stdout",
     "output_type": "stream",
     "text": [
      "| epoch   1 | 117500/162913 batches | loss    1.699 \n",
      "money: give, interest, help, enough, financial, amount, better, attention, needed, longer\n",
      "lion: inducted, friend, daughter, suicide, westminster, golden, probably, births, father, novel\n",
      "africa: south, east, north, europe, southern, india, eastern, west, america, african\n",
      "musician: singer, actor, born, american, actress, nine, writer, author, seven, composer\n",
      "dance: music, musical, folk, jazz, pop, rock, playing, contemporary, electronic, band\n",
      "\n",
      "\n"
     ]
    },
    {
     "name": "stderr",
     "output_type": "stream",
     "text": [
      "118002it [10:54:39, 12.76it/s]"
     ]
    },
    {
     "name": "stdout",
     "output_type": "stream",
     "text": [
      "| epoch   1 | 118000/162913 batches | loss    1.694 \n",
      "money: give, interest, help, financial, enough, amount, attention, investment, needed, longer\n",
      "lion: inducted, daughter, friend, suicide, westminster, novel, probably, births, golden, story\n",
      "africa: south, east, north, europe, southern, india, america, eastern, african, west\n",
      "musician: singer, actor, american, actress, born, writer, seven, author, composer, poet\n",
      "dance: music, musical, folk, jazz, pop, rock, contemporary, electronic, playing, songs\n",
      "\n",
      "\n"
     ]
    },
    {
     "name": "stderr",
     "output_type": "stream",
     "text": [
      "118502it [10:55:12, 13.40it/s]"
     ]
    },
    {
     "name": "stdout",
     "output_type": "stream",
     "text": [
      "| epoch   1 | 118500/162913 batches | loss    1.697 \n",
      "money: give, help, enough, financial, interest, amount, longer, investment, attention, needed\n",
      "lion: inducted, friend, daughter, suicide, westminster, probably, story, births, golden, novel\n",
      "africa: south, east, north, india, europe, america, southern, african, west, eastern\n",
      "musician: singer, actor, actress, born, american, writer, author, composer, nine, peter\n",
      "dance: music, musical, jazz, pop, folk, rock, playing, contemporary, electronic, songs\n",
      "\n",
      "\n"
     ]
    },
    {
     "name": "stderr",
     "output_type": "stream",
     "text": [
      "119002it [10:55:45, 13.34it/s]"
     ]
    },
    {
     "name": "stdout",
     "output_type": "stream",
     "text": [
      "| epoch   1 | 119000/162913 batches | loss    1.697 \n",
      "money: give, help, their, financial, interest, enough, amount, investment, longer, attention\n",
      "lion: inducted, friend, daughter, suicide, westminster, probably, golden, births, fourth, father\n",
      "africa: south, east, north, india, southern, europe, america, african, west, eastern\n",
      "musician: singer, actor, born, american, actress, writer, author, composer, poet, peter\n",
      "dance: music, musical, jazz, pop, folk, rock, playing, contemporary, electronic, album\n",
      "\n",
      "\n"
     ]
    },
    {
     "name": "stderr",
     "output_type": "stream",
     "text": [
      "119502it [10:56:18, 13.56it/s]"
     ]
    },
    {
     "name": "stdout",
     "output_type": "stream",
     "text": [
      "| epoch   1 | 119500/162913 batches | loss    1.693 \n",
      "money: financial, give, help, interest, enough, attention, investment, amount, longer, better\n",
      "lion: inducted, friend, daughter, suicide, westminster, probably, golden, fourth, births, father\n",
      "africa: south, east, north, india, america, europe, southern, west, african, eastern\n",
      "musician: singer, actor, born, actress, american, writer, author, composer, poet, peter\n",
      "dance: music, musical, folk, jazz, pop, rock, playing, contemporary, electronic, songs\n",
      "\n",
      "\n"
     ]
    },
    {
     "name": "stderr",
     "output_type": "stream",
     "text": [
      "120002it [10:56:50, 13.15it/s]"
     ]
    },
    {
     "name": "stdout",
     "output_type": "stream",
     "text": [
      "| epoch   1 | 120000/162913 batches | loss    1.687 \n",
      "money: financial, give, help, amount, interest, enough, attention, investment, longer, better\n",
      "lion: inducted, friend, suicide, daughter, probably, westminster, fourth, golden, births, novel\n",
      "africa: south, east, north, america, southern, india, europe, west, african, australia\n",
      "musician: singer, actor, born, actress, american, writer, author, composer, poet, seven\n",
      "dance: music, musical, folk, jazz, pop, rock, contemporary, playing, songs, band\n",
      "\n",
      "\n"
     ]
    },
    {
     "name": "stderr",
     "output_type": "stream",
     "text": [
      "120502it [10:57:23, 13.17it/s]"
     ]
    },
    {
     "name": "stdout",
     "output_type": "stream",
     "text": [
      "| epoch   1 | 120500/162913 batches | loss    1.691 \n",
      "money: financial, give, amount, interest, help, enough, attention, investment, private, needed\n",
      "lion: inducted, friend, suicide, daughter, probably, westminster, fourth, golden, father, births\n",
      "africa: south, america, east, north, southern, india, europe, west, african, eastern\n",
      "musician: singer, actor, born, actress, writer, author, american, nine, composer, peter\n",
      "dance: music, musical, jazz, folk, pop, rock, contemporary, songs, playing, electronic\n",
      "\n",
      "\n"
     ]
    },
    {
     "name": "stderr",
     "output_type": "stream",
     "text": [
      "121002it [10:57:56, 13.07it/s]"
     ]
    },
    {
     "name": "stdout",
     "output_type": "stream",
     "text": [
      "| epoch   1 | 121000/162913 batches | loss    1.694 \n",
      "money: financial, interest, help, amount, give, enough, investment, needed, attention, tax\n",
      "lion: inducted, friend, probably, suicide, daughter, westminster, fourth, father, golden, novel\n",
      "africa: south, america, east, southern, india, north, europe, west, african, northern\n",
      "musician: singer, actor, born, american, actress, writer, author, composer, poet, john\n",
      "dance: music, musical, jazz, folk, pop, rock, contemporary, playing, electronic, songs\n",
      "\n",
      "\n"
     ]
    },
    {
     "name": "stderr",
     "output_type": "stream",
     "text": [
      "121502it [10:58:28, 13.01it/s]"
     ]
    },
    {
     "name": "stdout",
     "output_type": "stream",
     "text": [
      "| epoch   1 | 121500/162913 batches | loss    1.696 \n",
      "money: interest, financial, help, amount, investment, needed, enough, give, tax, attention\n",
      "lion: inducted, friend, suicide, daughter, westminster, probably, father, fourth, golden, novel\n",
      "africa: south, north, america, east, southern, india, europe, west, northern, eastern\n",
      "musician: singer, actor, born, american, actress, author, writer, john, composer, poet\n",
      "dance: music, musical, jazz, folk, pop, contemporary, rock, band, songs, electronic\n",
      "\n",
      "\n"
     ]
    },
    {
     "name": "stderr",
     "output_type": "stream",
     "text": [
      "122002it [10:59:01, 13.57it/s]"
     ]
    },
    {
     "name": "stdout",
     "output_type": "stream",
     "text": [
      "| epoch   1 | 122000/162913 batches | loss    1.687 \n",
      "money: interest, financial, help, amount, investment, needed, enough, tax, longer, give\n",
      "lion: inducted, friend, suicide, daughter, father, westminster, golden, him, probably, fourth\n",
      "africa: south, north, southern, america, east, europe, india, west, eastern, northern\n",
      "musician: singer, actor, born, actress, american, author, writer, composer, john, poet\n",
      "dance: music, musical, jazz, folk, pop, contemporary, rock, band, electronic, songs\n",
      "\n",
      "\n"
     ]
    },
    {
     "name": "stderr",
     "output_type": "stream",
     "text": [
      "122502it [10:59:34, 13.21it/s]"
     ]
    },
    {
     "name": "stdout",
     "output_type": "stream",
     "text": [
      "| epoch   1 | 122500/162913 batches | loss    1.693 \n",
      "money: interest, financial, amount, longer, help, needed, tax, investment, give, enough\n",
      "lion: inducted, friend, suicide, daughter, father, golden, westminster, probably, fourth, him\n",
      "africa: south, north, east, southern, europe, america, west, india, northern, eastern\n",
      "musician: singer, actor, born, american, actress, author, writer, composer, poet, john\n",
      "dance: music, musical, jazz, folk, pop, contemporary, rock, band, electronic, songs\n",
      "\n",
      "\n"
     ]
    },
    {
     "name": "stderr",
     "output_type": "stream",
     "text": [
      "123002it [11:00:06, 13.68it/s]"
     ]
    },
    {
     "name": "stdout",
     "output_type": "stream",
     "text": [
      "| epoch   1 | 123000/162913 batches | loss    1.693 \n",
      "money: interest, amount, financial, needed, longer, help, tax, investment, enough, give\n",
      "lion: inducted, friend, suicide, golden, daughter, him, probably, fourth, westminster, father\n",
      "africa: south, north, southern, europe, east, america, west, india, northern, african\n",
      "musician: singer, actor, american, born, actress, author, writer, composer, poet, peter\n",
      "dance: music, musical, jazz, folk, pop, contemporary, rock, band, electronic, playing\n",
      "\n",
      "\n"
     ]
    },
    {
     "name": "stderr",
     "output_type": "stream",
     "text": [
      "123502it [11:00:38, 13.14it/s]"
     ]
    },
    {
     "name": "stdout",
     "output_type": "stream",
     "text": [
      "| epoch   1 | 123500/162913 batches | loss    1.688 \n",
      "money: interest, amount, financial, longer, enough, investment, needed, help, tax, give\n",
      "lion: inducted, friend, him, suicide, golden, probably, daughter, fourth, westminster, births\n",
      "africa: south, north, east, america, europe, southern, india, west, northern, australia\n",
      "musician: singer, actor, american, born, actress, author, writer, composer, poet, peter\n",
      "dance: music, musical, folk, jazz, pop, contemporary, rock, band, electronic, scene\n",
      "\n",
      "\n"
     ]
    },
    {
     "name": "stderr",
     "output_type": "stream",
     "text": [
      "124002it [11:01:11, 13.58it/s]"
     ]
    },
    {
     "name": "stdout",
     "output_type": "stream",
     "text": [
      "| epoch   1 | 124000/162913 batches | loss    1.686 \n",
      "money: interest, financial, amount, enough, investment, longer, give, needed, tax, better\n",
      "lion: inducted, friend, probably, golden, suicide, him, daughter, fourth, westminster, births\n",
      "africa: south, north, america, southern, east, europe, west, india, northern, australia\n",
      "musician: singer, actor, american, born, actress, author, writer, poet, composer, john\n",
      "dance: music, musical, folk, jazz, pop, contemporary, rock, band, electronic, playing\n",
      "\n",
      "\n"
     ]
    },
    {
     "name": "stderr",
     "output_type": "stream",
     "text": [
      "124502it [11:01:43, 13.28it/s]"
     ]
    },
    {
     "name": "stdout",
     "output_type": "stream",
     "text": [
      "| epoch   1 | 124500/162913 batches | loss    1.689 \n",
      "money: interest, financial, amount, enough, investment, needed, better, longer, tax, help\n",
      "lion: inducted, friend, probably, daughter, golden, suicide, fourth, him, births, westminster\n",
      "africa: south, north, southern, america, europe, west, east, india, australia, northern\n",
      "musician: singer, actor, american, born, actress, writer, author, poet, composer, peter\n",
      "dance: music, musical, jazz, folk, pop, rock, contemporary, band, electronic, playing\n",
      "\n",
      "\n"
     ]
    },
    {
     "name": "stderr",
     "output_type": "stream",
     "text": [
      "125002it [11:02:15, 13.39it/s]"
     ]
    },
    {
     "name": "stdout",
     "output_type": "stream",
     "text": [
      "| epoch   1 | 125000/162913 batches | loss    1.689 \n",
      "money: financial, amount, better, investment, longer, needed, interest, tax, enough, required\n",
      "lion: inducted, friend, probably, golden, daughter, suicide, him, births, fourth, westminster\n",
      "africa: south, north, southern, america, europe, west, east, northern, india, australia\n",
      "musician: singer, actor, born, american, actress, writer, author, composer, poet, peter\n",
      "dance: music, musical, jazz, folk, pop, contemporary, rock, band, electronic, playing\n",
      "\n",
      "\n"
     ]
    },
    {
     "name": "stderr",
     "output_type": "stream",
     "text": [
      "125502it [11:02:48, 13.23it/s]"
     ]
    },
    {
     "name": "stdout",
     "output_type": "stream",
     "text": [
      "| epoch   1 | 125500/162913 batches | loss    1.688 \n",
      "money: financial, amount, needed, better, interest, investment, tax, enough, help, longer\n",
      "lion: inducted, friend, nine, golden, probably, him, daughter, suicide, births, wife\n",
      "africa: south, north, southern, america, europe, east, west, australia, india, african\n",
      "musician: singer, actor, born, american, actress, writer, author, poet, composer, peter\n",
      "dance: music, musical, jazz, pop, folk, contemporary, band, rock, electronic, playing\n",
      "\n",
      "\n"
     ]
    },
    {
     "name": "stderr",
     "output_type": "stream",
     "text": [
      "126002it [11:03:20, 13.64it/s]"
     ]
    },
    {
     "name": "stdout",
     "output_type": "stream",
     "text": [
      "| epoch   1 | 126000/162913 batches | loss    1.686 \n",
      "money: financial, amount, interest, investment, needed, tax, enough, better, help, required\n",
      "lion: inducted, friend, him, probably, nine, golden, suicide, daughter, births, wife\n",
      "africa: south, southern, north, america, europe, west, east, eastern, india, northern\n",
      "musician: singer, actor, born, actress, american, writer, author, poet, composer, peter\n",
      "dance: music, musical, jazz, folk, pop, contemporary, rock, band, electronic, playing\n",
      "\n",
      "\n"
     ]
    },
    {
     "name": "stderr",
     "output_type": "stream",
     "text": [
      "126502it [11:03:52, 13.51it/s]"
     ]
    },
    {
     "name": "stdout",
     "output_type": "stream",
     "text": [
      "| epoch   1 | 126500/162913 batches | loss    1.690 \n",
      "money: financial, amount, interest, investment, needed, tax, better, enough, help, give\n",
      "lion: inducted, probably, friend, daughter, him, golden, wife, suicide, births, westminster\n",
      "africa: south, southern, north, america, europe, east, west, eastern, australia, northern\n",
      "musician: singer, actor, born, actress, writer, american, author, composer, poet, peter\n",
      "dance: music, musical, folk, jazz, pop, rock, contemporary, electronic, playing, band\n",
      "\n",
      "\n"
     ]
    },
    {
     "name": "stderr",
     "output_type": "stream",
     "text": [
      "127002it [11:04:25, 13.44it/s]"
     ]
    },
    {
     "name": "stdout",
     "output_type": "stream",
     "text": [
      "| epoch   1 | 127000/162913 batches | loss    1.684 \n",
      "money: financial, amount, investment, interest, help, needed, enough, better, tax, give\n",
      "lion: inducted, probably, daughter, friend, golden, him, wife, westminster, births, suicide\n",
      "africa: south, america, southern, north, east, europe, west, eastern, northern, australia\n",
      "musician: singer, actor, born, american, actress, writer, poet, author, composer, peter\n",
      "dance: music, musical, folk, jazz, pop, contemporary, rock, electronic, playing, hop\n",
      "\n",
      "\n"
     ]
    },
    {
     "name": "stderr",
     "output_type": "stream",
     "text": [
      "127502it [11:04:57, 13.41it/s]"
     ]
    },
    {
     "name": "stdout",
     "output_type": "stream",
     "text": [
      "| epoch   1 | 127500/162913 batches | loss    1.683 \n",
      "money: financial, help, interest, amount, investment, better, needed, enough, tax, give\n",
      "lion: inducted, probably, daughter, friend, golden, births, wife, westminster, him, suicide\n",
      "africa: south, southern, america, north, east, europe, west, northern, eastern, australia\n",
      "musician: singer, actor, born, actress, writer, american, author, composer, poet, peter\n",
      "dance: music, musical, jazz, folk, pop, contemporary, rock, electronic, band, hop\n",
      "\n",
      "\n"
     ]
    },
    {
     "name": "stderr",
     "output_type": "stream",
     "text": [
      "128002it [11:05:30, 12.92it/s]"
     ]
    },
    {
     "name": "stdout",
     "output_type": "stream",
     "text": [
      "| epoch   1 | 128000/162913 batches | loss    1.686 \n",
      "money: help, financial, interest, amount, better, needed, investment, give, enough, tax\n",
      "lion: inducted, friend, probably, daughter, golden, wife, westminster, births, him, suicide\n",
      "africa: south, southern, north, america, east, europe, northern, eastern, west, india\n",
      "musician: singer, actor, actress, born, writer, american, author, peter, composer, poet\n",
      "dance: music, musical, jazz, folk, pop, contemporary, rock, electronic, hop, band\n",
      "\n",
      "\n"
     ]
    },
    {
     "name": "stderr",
     "output_type": "stream",
     "text": [
      "128502it [11:06:02, 13.36it/s]"
     ]
    },
    {
     "name": "stdout",
     "output_type": "stream",
     "text": [
      "| epoch   1 | 128500/162913 batches | loss    1.685 \n",
      "money: help, financial, needed, give, better, interest, amount, investment, tax, enough\n",
      "lion: inducted, friend, probably, daughter, him, golden, westminster, wife, suicide, births\n",
      "africa: south, southern, north, america, east, europe, eastern, northern, west, india\n",
      "musician: singer, actor, actress, writer, born, american, author, peter, composer, poet\n",
      "dance: music, musical, jazz, folk, pop, contemporary, rock, electronic, playing, band\n",
      "\n",
      "\n"
     ]
    },
    {
     "name": "stderr",
     "output_type": "stream",
     "text": [
      "129002it [11:06:35, 13.60it/s]"
     ]
    },
    {
     "name": "stdout",
     "output_type": "stream",
     "text": [
      "| epoch   1 | 129000/162913 batches | loss    1.690 \n",
      "money: help, interest, needed, financial, better, amount, give, enough, investment, tax\n",
      "lion: inducted, friend, daughter, probably, him, golden, westminster, suicide, brother, births\n",
      "africa: south, southern, north, east, america, europe, eastern, northern, west, australia\n",
      "musician: singer, actor, actress, writer, american, born, author, composer, peter, poet\n",
      "dance: music, musical, jazz, folk, pop, rock, contemporary, electronic, playing, traditional\n",
      "\n",
      "\n"
     ]
    },
    {
     "name": "stderr",
     "output_type": "stream",
     "text": [
      "129502it [11:07:07, 13.58it/s]"
     ]
    },
    {
     "name": "stdout",
     "output_type": "stream",
     "text": [
      "| epoch   1 | 129500/162913 batches | loss    1.684 \n",
      "money: help, needed, interest, financial, investment, amount, give, tax, better, enough\n",
      "lion: inducted, daughter, friend, him, probably, father, golden, westminster, brother, suicide\n",
      "africa: south, north, southern, east, europe, america, eastern, west, northern, australia\n",
      "musician: singer, actor, actress, american, writer, born, author, composer, peter, poet\n",
      "dance: music, musical, folk, jazz, pop, contemporary, rock, electronic, playing, traditional\n",
      "\n",
      "\n"
     ]
    },
    {
     "name": "stderr",
     "output_type": "stream",
     "text": [
      "130002it [11:07:39, 13.63it/s]"
     ]
    },
    {
     "name": "stdout",
     "output_type": "stream",
     "text": [
      "| epoch   1 | 130000/162913 batches | loss    1.684 \n",
      "money: help, financial, interest, investment, needed, amount, better, tax, give, enough\n",
      "lion: inducted, daughter, friend, father, him, probably, golden, brother, westminster, suicide\n",
      "africa: south, southern, north, europe, east, america, eastern, west, australia, india\n",
      "musician: singer, actor, writer, actress, american, born, author, peter, composer, poet\n",
      "dance: music, musical, folk, jazz, pop, contemporary, rock, electronic, band, playing\n",
      "\n",
      "\n"
     ]
    },
    {
     "name": "stderr",
     "output_type": "stream",
     "text": [
      "130502it [11:08:12, 13.52it/s]"
     ]
    },
    {
     "name": "stdout",
     "output_type": "stream",
     "text": [
      "| epoch   1 | 130500/162913 batches | loss    1.682 \n",
      "money: help, financial, investment, tax, amount, interest, better, needed, private, give\n",
      "lion: inducted, friend, daughter, father, brother, probably, golden, westminster, suicide, him\n",
      "africa: south, southern, north, east, america, europe, eastern, west, australia, india\n",
      "musician: singer, actor, actress, writer, american, born, author, peter, composer, poet\n",
      "dance: music, musical, jazz, folk, pop, contemporary, rock, electronic, band, playing\n",
      "\n",
      "\n"
     ]
    },
    {
     "name": "stderr",
     "output_type": "stream",
     "text": [
      "131002it [11:08:44, 13.47it/s]"
     ]
    },
    {
     "name": "stdout",
     "output_type": "stream",
     "text": [
      "| epoch   1 | 131000/162913 batches | loss    1.682 \n",
      "money: help, financial, investment, tax, private, interest, needed, amount, enough, give\n",
      "lion: inducted, friend, daughter, father, him, probably, westminster, brother, suicide, golden\n",
      "africa: south, southern, north, america, europe, east, australia, eastern, india, west\n",
      "musician: singer, actor, actress, american, writer, born, author, composer, peter, nine\n",
      "dance: music, musical, jazz, folk, pop, contemporary, rock, electronic, playing, band\n",
      "\n",
      "\n"
     ]
    },
    {
     "name": "stderr",
     "output_type": "stream",
     "text": [
      "131502it [11:09:17, 13.40it/s]"
     ]
    },
    {
     "name": "stdout",
     "output_type": "stream",
     "text": [
      "| epoch   1 | 131500/162913 batches | loss    1.680 \n",
      "money: help, financial, private, tax, investment, needed, amount, enough, interest, give\n",
      "lion: inducted, friend, father, daughter, probably, westminster, suicide, wife, son, golden\n",
      "africa: south, north, southern, east, america, europe, eastern, australia, india, west\n",
      "musician: singer, actor, actress, writer, american, born, author, composer, peter, poet\n",
      "dance: music, musical, jazz, folk, pop, contemporary, rock, electronic, band, playing\n",
      "\n",
      "\n"
     ]
    },
    {
     "name": "stderr",
     "output_type": "stream",
     "text": [
      "132002it [11:09:49, 13.47it/s]"
     ]
    },
    {
     "name": "stdout",
     "output_type": "stream",
     "text": [
      "| epoch   1 | 132000/162913 batches | loss    1.685 \n",
      "money: help, financial, tax, private, amount, enough, investment, needed, give, interest\n",
      "lion: inducted, friend, probably, daughter, father, westminster, suicide, golden, him, births\n",
      "africa: south, north, southern, east, europe, america, australia, india, west, eastern\n",
      "musician: singer, actor, american, actress, writer, born, author, composer, peter, poet\n",
      "dance: music, musical, folk, jazz, pop, contemporary, rock, electronic, band, playing\n",
      "\n",
      "\n"
     ]
    },
    {
     "name": "stderr",
     "output_type": "stream",
     "text": [
      "132502it [11:10:22, 13.53it/s]"
     ]
    },
    {
     "name": "stdout",
     "output_type": "stream",
     "text": [
      "| epoch   1 | 132500/162913 batches | loss    1.681 \n",
      "money: help, financial, tax, private, amount, investment, enough, give, needed, interest\n",
      "lion: inducted, friend, father, daughter, probably, westminster, novel, births, suicide, golden\n",
      "africa: south, north, southern, east, europe, america, west, india, eastern, australia\n",
      "musician: singer, actor, actress, american, writer, author, born, peter, composer, poet\n",
      "dance: music, musical, folk, jazz, pop, contemporary, rock, electronic, playing, band\n",
      "\n",
      "\n"
     ]
    },
    {
     "name": "stderr",
     "output_type": "stream",
     "text": [
      "133002it [11:10:54, 13.45it/s]"
     ]
    },
    {
     "name": "stdout",
     "output_type": "stream",
     "text": [
      "| epoch   1 | 133000/162913 batches | loss    1.683 \n",
      "money: help, financial, private, tax, give, amount, enough, needed, interest, better\n",
      "lion: inducted, friend, father, probably, westminster, son, also, daughter, suicide, brother\n",
      "africa: south, north, southern, europe, east, america, west, eastern, region, african\n",
      "musician: singer, actor, actress, american, writer, born, author, peter, composer, poet\n",
      "dance: music, musical, folk, jazz, pop, contemporary, rock, electronic, playing, hop\n",
      "\n",
      "\n"
     ]
    },
    {
     "name": "stderr",
     "output_type": "stream",
     "text": [
      "133502it [11:11:27, 13.42it/s]"
     ]
    },
    {
     "name": "stdout",
     "output_type": "stream",
     "text": [
      "| epoch   1 | 133500/162913 batches | loss    1.685 \n",
      "money: help, financial, tax, private, enough, interest, amount, give, needed, investment\n",
      "lion: inducted, friend, probably, father, son, brother, suicide, westminster, daughter, novel\n",
      "africa: south, southern, north, europe, america, east, region, india, west, northern\n",
      "musician: singer, actor, actress, american, born, author, writer, peter, composer, poet\n",
      "dance: music, musical, folk, pop, jazz, contemporary, electronic, rock, playing, band\n",
      "\n",
      "\n"
     ]
    },
    {
     "name": "stderr",
     "output_type": "stream",
     "text": [
      "134002it [11:11:59, 13.47it/s]"
     ]
    },
    {
     "name": "stdout",
     "output_type": "stream",
     "text": [
      "| epoch   1 | 134000/162913 batches | loss    1.681 \n",
      "money: help, financial, tax, private, enough, investment, amount, needed, interest, give\n",
      "lion: inducted, friend, probably, father, westminster, suicide, daughter, son, brother, golden\n",
      "africa: south, southern, north, europe, america, east, india, west, eastern, region\n",
      "musician: singer, actor, actress, american, writer, author, born, composer, peter, poet\n",
      "dance: music, musical, folk, pop, jazz, contemporary, electronic, rock, playing, band\n",
      "\n",
      "\n"
     ]
    },
    {
     "name": "stderr",
     "output_type": "stream",
     "text": [
      "134502it [11:12:32, 13.62it/s]"
     ]
    },
    {
     "name": "stdout",
     "output_type": "stream",
     "text": [
      "| epoch   1 | 134500/162913 batches | loss    1.680 \n",
      "money: help, private, financial, tax, enough, amount, to, investment, needed, better\n",
      "lion: inducted, probably, friend, father, suicide, daughter, westminster, son, his, births\n",
      "africa: south, southern, north, europe, america, india, west, east, australia, asia\n",
      "musician: singer, actor, actress, writer, american, author, born, peter, composer, poet\n",
      "dance: music, musical, jazz, pop, folk, contemporary, electronic, rock, band, playing\n",
      "\n",
      "\n"
     ]
    },
    {
     "name": "stderr",
     "output_type": "stream",
     "text": [
      "135002it [11:13:04, 13.55it/s]"
     ]
    },
    {
     "name": "stdout",
     "output_type": "stream",
     "text": [
      "| epoch   1 | 135000/162913 batches | loss    1.679 \n",
      "money: help, private, tax, financial, investment, amount, needed, enough, better, interest\n",
      "lion: inducted, probably, friend, father, suicide, son, his, daughter, westminster, golden\n",
      "africa: south, north, southern, america, west, europe, india, east, australia, asia\n",
      "musician: singer, actor, actress, writer, american, born, composer, peter, author, poet\n",
      "dance: music, musical, pop, folk, jazz, contemporary, electronic, rock, band, scene\n",
      "\n",
      "\n"
     ]
    },
    {
     "name": "stderr",
     "output_type": "stream",
     "text": [
      "135502it [11:13:37, 13.53it/s]"
     ]
    },
    {
     "name": "stdout",
     "output_type": "stream",
     "text": [
      "| epoch   1 | 135500/162913 batches | loss    1.680 \n",
      "money: financial, help, investment, private, tax, enough, amount, better, needed, interest\n",
      "lion: inducted, probably, friend, father, suicide, son, daughter, golden, westminster, brother\n",
      "africa: south, north, southern, america, europe, india, west, asia, east, eastern\n",
      "musician: singer, actor, american, actress, writer, born, author, composer, peter, poet\n",
      "dance: music, musical, pop, jazz, folk, contemporary, band, electronic, scene, rock\n",
      "\n",
      "\n"
     ]
    },
    {
     "name": "stderr",
     "output_type": "stream",
     "text": [
      "136002it [11:14:09, 13.68it/s]"
     ]
    },
    {
     "name": "stdout",
     "output_type": "stream",
     "text": [
      "| epoch   1 | 136000/162913 batches | loss    1.678 \n",
      "money: financial, help, investment, private, amount, tax, enough, better, needed, give\n",
      "lion: inducted, friend, probably, father, suicide, daughter, golden, son, brother, novel\n",
      "africa: south, north, southern, america, europe, india, west, asia, east, eastern\n",
      "musician: singer, actor, actress, writer, american, born, author, peter, composer, poet\n",
      "dance: music, musical, jazz, pop, folk, contemporary, band, electronic, hop, scene\n",
      "\n",
      "\n"
     ]
    },
    {
     "name": "stderr",
     "output_type": "stream",
     "text": [
      "136502it [11:14:42, 13.50it/s]"
     ]
    },
    {
     "name": "stdout",
     "output_type": "stream",
     "text": [
      "| epoch   1 | 136500/162913 batches | loss    1.677 \n",
      "money: financial, help, private, investment, needed, tax, amount, better, enough, give\n",
      "lion: inducted, friend, father, daughter, probably, suicide, golden, novel, westminster, brother\n",
      "africa: south, north, europe, southern, america, india, australia, west, asia, western\n",
      "musician: singer, actor, actress, american, writer, author, peter, poet, composer, born\n",
      "dance: music, musical, jazz, folk, pop, contemporary, band, electronic, hop, scene\n",
      "\n",
      "\n"
     ]
    },
    {
     "name": "stderr",
     "output_type": "stream",
     "text": [
      "137002it [11:15:14, 13.66it/s]"
     ]
    },
    {
     "name": "stdout",
     "output_type": "stream",
     "text": [
      "| epoch   1 | 137000/162913 batches | loss    1.677 \n",
      "money: financial, help, private, needed, investment, better, interest, tax, amount, give\n",
      "lion: inducted, friend, daughter, probably, suicide, father, golden, novel, westminster, her\n",
      "africa: south, north, america, europe, india, southern, west, australia, asia, eastern\n",
      "musician: singer, actor, actress, writer, american, author, peter, poet, composer, born\n",
      "dance: music, musical, jazz, folk, pop, contemporary, band, electronic, songs, hop\n",
      "\n",
      "\n"
     ]
    },
    {
     "name": "stderr",
     "output_type": "stream",
     "text": [
      "137502it [11:15:46, 13.46it/s]"
     ]
    },
    {
     "name": "stdout",
     "output_type": "stream",
     "text": [
      "| epoch   1 | 137500/162913 batches | loss    1.676 \n",
      "money: financial, help, private, better, amount, investment, interest, tax, needed, give\n",
      "lion: inducted, friend, probably, daughter, suicide, father, golden, novel, westminster, son\n",
      "africa: south, north, america, india, europe, southern, west, australia, african, asia\n",
      "musician: singer, actor, actress, writer, author, peter, american, poet, composer, politician\n",
      "dance: music, musical, jazz, folk, pop, contemporary, electronic, band, hop, songs\n",
      "\n",
      "\n"
     ]
    },
    {
     "name": "stderr",
     "output_type": "stream",
     "text": [
      "138002it [11:16:17, 13.59it/s]"
     ]
    },
    {
     "name": "stdout",
     "output_type": "stream",
     "text": [
      "| epoch   1 | 138000/162913 batches | loss    1.678 \n",
      "money: help, private, financial, better, amount, tax, investment, interest, needed, give\n",
      "lion: inducted, friend, probably, daughter, father, suicide, golden, westminster, novel, his\n",
      "africa: south, north, america, europe, india, southern, african, west, asia, australia\n",
      "musician: singer, actor, actress, writer, author, american, peter, composer, poet, politician\n",
      "dance: music, musical, jazz, folk, pop, contemporary, electronic, band, songs, hop\n",
      "\n",
      "\n"
     ]
    },
    {
     "name": "stderr",
     "output_type": "stream",
     "text": [
      "138502it [11:16:49, 13.36it/s]"
     ]
    },
    {
     "name": "stdout",
     "output_type": "stream",
     "text": [
      "| epoch   1 | 138500/162913 batches | loss    1.674 \n",
      "money: help, private, financial, tax, investment, interest, better, amount, give, needed\n",
      "lion: inducted, probably, friend, father, daughter, suicide, golden, westminster, novel, his\n",
      "africa: south, north, america, europe, india, southern, african, west, asia, australia\n",
      "musician: singer, actor, actress, american, writer, author, composer, peter, poet, politician\n",
      "dance: music, musical, jazz, folk, pop, contemporary, electronic, hop, band, rock\n",
      "\n",
      "\n"
     ]
    },
    {
     "name": "stderr",
     "output_type": "stream",
     "text": [
      "139002it [11:17:22, 13.73it/s]"
     ]
    },
    {
     "name": "stdout",
     "output_type": "stream",
     "text": [
      "| epoch   1 | 139000/162913 batches | loss    1.676 \n",
      "money: help, private, financial, tax, investment, amount, interest, needed, better, give\n",
      "lion: inducted, friend, probably, father, golden, suicide, daughter, his, novel, westminster\n",
      "africa: south, america, europe, north, southern, india, west, asia, african, eastern\n",
      "musician: singer, actor, american, actress, writer, author, composer, peter, poet, politician\n",
      "dance: music, musical, jazz, folk, pop, contemporary, electronic, hop, band, scene\n",
      "\n",
      "\n"
     ]
    },
    {
     "name": "stderr",
     "output_type": "stream",
     "text": [
      "139502it [11:17:54, 13.80it/s]"
     ]
    },
    {
     "name": "stdout",
     "output_type": "stream",
     "text": [
      "| epoch   1 | 139500/162913 batches | loss    1.675 \n",
      "money: help, private, financial, tax, investment, interest, amount, give, needed, better\n",
      "lion: inducted, friend, father, probably, golden, suicide, daughter, novel, his, westminster\n",
      "africa: south, america, europe, north, southern, india, west, asia, african, east\n",
      "musician: singer, actor, american, actress, author, writer, composer, peter, poet, born\n",
      "dance: music, musical, jazz, folk, pop, contemporary, electronic, hop, scene, playing\n",
      "\n",
      "\n"
     ]
    },
    {
     "name": "stderr",
     "output_type": "stream",
     "text": [
      "140002it [11:18:26, 13.53it/s]"
     ]
    },
    {
     "name": "stdout",
     "output_type": "stream",
     "text": [
      "| epoch   1 | 140000/162913 batches | loss    1.676 \n",
      "money: help, financial, tax, give, amount, investment, interest, private, needed, enough\n",
      "lion: inducted, friend, probably, father, golden, suicide, daughter, novel, his, westminster\n",
      "africa: south, north, america, europe, southern, india, west, australia, east, asia\n",
      "musician: singer, actor, actress, american, author, writer, composer, poet, born, peter\n",
      "dance: music, musical, jazz, folk, pop, contemporary, electronic, hop, scene, rock\n",
      "\n",
      "\n"
     ]
    },
    {
     "name": "stderr",
     "output_type": "stream",
     "text": [
      "140502it [11:18:59, 13.60it/s]"
     ]
    },
    {
     "name": "stdout",
     "output_type": "stream",
     "text": [
      "| epoch   1 | 140500/162913 batches | loss    1.673 \n",
      "money: help, financial, tax, private, investment, give, amount, interest, needed, enough\n",
      "lion: inducted, friend, father, probably, golden, suicide, novel, daughter, his, westminster\n",
      "africa: south, north, europe, america, southern, india, east, west, eastern, african\n",
      "musician: singer, actor, american, actress, writer, author, composer, peter, born, poet\n",
      "dance: music, musical, jazz, folk, pop, contemporary, electronic, hop, scene, playing\n",
      "\n",
      "\n"
     ]
    },
    {
     "name": "stderr",
     "output_type": "stream",
     "text": [
      "141002it [11:19:31, 13.84it/s]"
     ]
    },
    {
     "name": "stdout",
     "output_type": "stream",
     "text": [
      "| epoch   1 | 141000/162913 batches | loss    1.678 \n",
      "money: help, financial, tax, amount, interest, needed, investment, give, enough, better\n",
      "lion: inducted, friend, father, probably, suicide, golden, novel, daughter, his, westminster\n",
      "africa: south, north, europe, america, southern, india, west, east, asia, eastern\n",
      "musician: singer, actor, american, actress, writer, author, peter, composer, born, poet\n",
      "dance: music, musical, jazz, folk, pop, contemporary, electronic, hop, playing, scene\n",
      "\n",
      "\n"
     ]
    },
    {
     "name": "stderr",
     "output_type": "stream",
     "text": [
      "141502it [11:20:03, 13.71it/s]"
     ]
    },
    {
     "name": "stdout",
     "output_type": "stream",
     "text": [
      "| epoch   1 | 141500/162913 batches | loss    1.676 \n",
      "money: help, financial, tax, investment, interest, amount, needed, enough, private, give\n",
      "lion: inducted, friend, father, probably, novel, suicide, golden, his, westminster, daughter\n",
      "africa: south, north, america, europe, india, southern, asia, eastern, west, east\n",
      "musician: singer, actor, american, actress, writer, composer, author, peter, poet, born\n",
      "dance: music, musical, jazz, folk, pop, contemporary, electronic, hop, rock, scene\n",
      "\n",
      "\n"
     ]
    },
    {
     "name": "stderr",
     "output_type": "stream",
     "text": [
      "142002it [11:20:36, 13.37it/s]"
     ]
    },
    {
     "name": "stdout",
     "output_type": "stream",
     "text": [
      "| epoch   1 | 142000/162913 batches | loss    1.673 \n",
      "money: help, financial, tax, investment, interest, amount, needed, private, enough, give\n",
      "lion: inducted, friend, father, probably, suicide, novel, golden, her, westminster, daughter\n",
      "africa: south, north, america, europe, southern, india, west, asia, eastern, australia\n",
      "musician: singer, actor, american, actress, writer, composer, author, peter, born, poet\n",
      "dance: music, musical, jazz, folk, pop, contemporary, electronic, hop, rock, playing\n",
      "\n",
      "\n"
     ]
    },
    {
     "name": "stderr",
     "output_type": "stream",
     "text": [
      "142502it [11:21:08, 13.46it/s]"
     ]
    },
    {
     "name": "stdout",
     "output_type": "stream",
     "text": [
      "| epoch   1 | 142500/162913 batches | loss    1.679 \n",
      "money: help, financial, tax, investment, interest, private, amount, give, needed, enough\n",
      "lion: inducted, friend, probably, father, novel, suicide, golden, her, daughter, westminster\n",
      "africa: south, north, america, europe, southern, india, west, asia, australia, eastern\n",
      "musician: singer, actor, american, actress, writer, composer, born, peter, poet, author\n",
      "dance: music, musical, jazz, folk, pop, contemporary, electronic, hop, rock, scene\n",
      "\n",
      "\n"
     ]
    },
    {
     "name": "stderr",
     "output_type": "stream",
     "text": [
      "143002it [11:21:40, 13.65it/s]"
     ]
    },
    {
     "name": "stdout",
     "output_type": "stream",
     "text": [
      "| epoch   1 | 143000/162913 batches | loss    1.673 \n",
      "money: help, financial, tax, interest, investment, amount, give, private, needed, need\n",
      "lion: inducted, friend, probably, father, novel, golden, suicide, her, daughter, westminster\n",
      "africa: south, america, north, europe, southern, west, india, asia, eastern, east\n",
      "musician: singer, actor, american, actress, writer, composer, born, author, peter, poet\n",
      "dance: music, musical, jazz, pop, folk, contemporary, hop, electronic, rock, scene\n",
      "\n",
      "\n"
     ]
    },
    {
     "name": "stderr",
     "output_type": "stream",
     "text": [
      "143502it [11:22:13, 13.45it/s]"
     ]
    },
    {
     "name": "stdout",
     "output_type": "stream",
     "text": [
      "| epoch   1 | 143500/162913 batches | loss    1.673 \n",
      "money: help, financial, interest, tax, investment, amount, needed, give, property, private\n",
      "lion: inducted, friend, probably, father, novel, golden, suicide, her, westminster, daughter\n",
      "africa: south, america, north, europe, west, india, southern, asia, eastern, northern\n",
      "musician: singer, actor, american, actress, composer, writer, born, peter, politician, author\n",
      "dance: music, musical, jazz, pop, folk, contemporary, hop, electronic, scene, rock\n",
      "\n",
      "\n"
     ]
    },
    {
     "name": "stderr",
     "output_type": "stream",
     "text": [
      "144002it [11:22:46, 13.55it/s]"
     ]
    },
    {
     "name": "stdout",
     "output_type": "stream",
     "text": [
      "| epoch   1 | 144000/162913 batches | loss    1.673 \n",
      "money: help, financial, interest, amount, needed, tax, investment, give, private, better\n",
      "lion: inducted, friend, probably, novel, father, suicide, golden, her, daughter, his\n",
      "africa: south, america, north, europe, west, southern, india, asia, australia, eastern\n",
      "musician: singer, actor, american, actress, writer, composer, born, peter, poet, author\n",
      "dance: music, musical, jazz, pop, folk, contemporary, scene, electronic, hop, rock\n",
      "\n",
      "\n"
     ]
    },
    {
     "name": "stderr",
     "output_type": "stream",
     "text": [
      "144502it [11:23:18, 13.70it/s]"
     ]
    },
    {
     "name": "stdout",
     "output_type": "stream",
     "text": [
      "| epoch   1 | 144500/162913 batches | loss    1.673 \n",
      "money: help, financial, interest, amount, private, needed, tax, give, investment, better\n",
      "lion: inducted, friend, his, probably, father, novel, suicide, daughter, golden, her\n",
      "africa: south, america, europe, north, west, southern, india, asia, east, northern\n",
      "musician: singer, actor, actress, american, writer, composer, born, peter, poet, politician\n",
      "dance: music, musical, jazz, folk, pop, contemporary, electronic, hop, scene, rock\n",
      "\n",
      "\n"
     ]
    },
    {
     "name": "stderr",
     "output_type": "stream",
     "text": [
      "145002it [11:23:50, 12.54it/s]"
     ]
    },
    {
     "name": "stdout",
     "output_type": "stream",
     "text": [
      "| epoch   1 | 145000/162913 batches | loss    1.672 \n",
      "money: help, financial, interest, amount, private, needed, better, give, investment, tax\n",
      "lion: inducted, friend, father, probably, daughter, suicide, novel, golden, her, his\n",
      "africa: south, america, europe, north, india, west, asia, australia, east, southern\n",
      "musician: singer, actor, actress, american, composer, writer, born, poet, peter, author\n",
      "dance: music, musical, jazz, folk, pop, contemporary, electronic, scene, hop, rock\n",
      "\n",
      "\n"
     ]
    },
    {
     "name": "stderr",
     "output_type": "stream",
     "text": [
      "145502it [11:24:23, 12.97it/s]"
     ]
    },
    {
     "name": "stdout",
     "output_type": "stream",
     "text": [
      "| epoch   1 | 145500/162913 batches | loss    1.671 \n",
      "money: help, financial, interest, private, amount, needed, give, better, investment, tax\n",
      "lion: inducted, friend, probably, daughter, father, her, suicide, novel, golden, brother\n",
      "africa: south, europe, america, north, india, west, east, australia, asia, african\n",
      "musician: singer, actor, actress, american, composer, writer, born, peter, poet, author\n",
      "dance: musical, music, jazz, folk, pop, contemporary, hop, scene, electronic, rock\n",
      "\n",
      "\n"
     ]
    },
    {
     "name": "stderr",
     "output_type": "stream",
     "text": [
      "146002it [11:24:55, 13.70it/s]"
     ]
    },
    {
     "name": "stdout",
     "output_type": "stream",
     "text": [
      "| epoch   1 | 146000/162913 batches | loss    1.672 \n",
      "money: help, financial, interest, amount, needed, investment, private, better, give, tax\n",
      "lion: inducted, friend, probably, daughter, suicide, father, novel, her, golden, brother\n",
      "africa: south, europe, america, north, india, east, australia, northern, african, southern\n",
      "musician: singer, actor, actress, american, composer, writer, born, poet, politician, peter\n",
      "dance: musical, music, jazz, folk, pop, contemporary, hop, scene, rock, electronic\n",
      "\n",
      "\n"
     ]
    },
    {
     "name": "stderr",
     "output_type": "stream",
     "text": [
      "146502it [11:25:28, 13.58it/s]"
     ]
    },
    {
     "name": "stdout",
     "output_type": "stream",
     "text": [
      "| epoch   1 | 146500/162913 batches | loss    1.671 \n",
      "money: help, financial, investment, private, interest, needed, amount, give, better, tax\n",
      "lion: inducted, friend, probably, father, daughter, suicide, novel, her, brother, golden\n",
      "africa: south, america, europe, north, india, australia, east, southern, asia, west\n",
      "musician: singer, actor, american, actress, composer, writer, born, politician, poet, peter\n",
      "dance: musical, music, jazz, folk, pop, contemporary, scene, hop, electronic, rock\n",
      "\n",
      "\n"
     ]
    },
    {
     "name": "stderr",
     "output_type": "stream",
     "text": [
      "147002it [11:26:00, 13.55it/s]"
     ]
    },
    {
     "name": "stdout",
     "output_type": "stream",
     "text": [
      "| epoch   1 | 147000/162913 batches | loss    1.674 \n",
      "money: help, investment, interest, needed, amount, financial, private, better, enough, give\n",
      "lion: friend, inducted, probably, father, daughter, suicide, novel, golden, her, brother\n",
      "africa: south, europe, america, india, north, australia, southern, asia, east, african\n",
      "musician: singer, actor, american, actress, composer, writer, born, poet, politician, artist\n",
      "dance: music, musical, jazz, folk, pop, contemporary, hop, scene, electronic, rock\n",
      "\n",
      "\n"
     ]
    },
    {
     "name": "stderr",
     "output_type": "stream",
     "text": [
      "147502it [11:26:32, 13.51it/s]"
     ]
    },
    {
     "name": "stdout",
     "output_type": "stream",
     "text": [
      "| epoch   1 | 147500/162913 batches | loss    1.672 \n",
      "money: help, investment, financial, interest, amount, needed, private, better, tax, property\n",
      "lion: inducted, friend, father, probably, daughter, suicide, novel, her, brother, golden\n",
      "africa: south, europe, america, north, india, african, australia, southern, east, west\n",
      "musician: singer, actor, american, actress, composer, writer, born, politician, poet, artist\n",
      "dance: music, musical, jazz, folk, pop, contemporary, scene, hop, rock, electronic\n",
      "\n",
      "\n"
     ]
    },
    {
     "name": "stderr",
     "output_type": "stream",
     "text": [
      "148002it [11:27:04, 13.57it/s]"
     ]
    },
    {
     "name": "stdout",
     "output_type": "stream",
     "text": [
      "| epoch   1 | 148000/162913 batches | loss    1.669 \n",
      "money: help, investment, financial, interest, amount, needed, private, tax, give, property\n",
      "lion: inducted, friend, probably, father, daughter, novel, suicide, golden, her, brother\n",
      "africa: south, europe, america, india, north, southern, australia, asia, east, african\n",
      "musician: singer, actor, american, actress, composer, writer, born, politician, poet, author\n",
      "dance: music, musical, jazz, folk, pop, contemporary, scene, hop, rock, electronic\n",
      "\n",
      "\n"
     ]
    },
    {
     "name": "stderr",
     "output_type": "stream",
     "text": [
      "148502it [11:27:37, 13.52it/s]"
     ]
    },
    {
     "name": "stdout",
     "output_type": "stream",
     "text": [
      "| epoch   1 | 148500/162913 batches | loss    1.670 \n",
      "money: help, financial, investment, amount, needed, tax, private, interest, give, attention\n",
      "lion: inducted, friend, father, daughter, probably, suicide, golden, novel, brother, her\n",
      "africa: south, america, europe, india, asia, southern, east, australia, north, west\n",
      "musician: singer, actor, actress, composer, american, writer, born, politician, poet, author\n",
      "dance: music, musical, jazz, folk, pop, contemporary, hop, scene, electronic, rock\n",
      "\n",
      "\n"
     ]
    },
    {
     "name": "stderr",
     "output_type": "stream",
     "text": [
      "149002it [11:28:11, 12.99it/s]"
     ]
    },
    {
     "name": "stdout",
     "output_type": "stream",
     "text": [
      "| epoch   1 | 149000/162913 batches | loss    1.670 \n",
      "money: help, financial, investment, tax, amount, private, needed, interest, give, attention\n",
      "lion: inducted, friend, father, daughter, probably, suicide, golden, brother, her, novel\n",
      "africa: south, america, europe, asia, north, east, india, southern, australia, african\n",
      "musician: singer, actor, actress, composer, writer, american, politician, poet, born, author\n",
      "dance: music, musical, jazz, pop, folk, contemporary, scene, hop, electronic, rock\n",
      "\n",
      "\n"
     ]
    },
    {
     "name": "stderr",
     "output_type": "stream",
     "text": [
      "149502it [11:28:43, 13.61it/s]"
     ]
    },
    {
     "name": "stdout",
     "output_type": "stream",
     "text": [
      "| epoch   1 | 149500/162913 batches | loss    1.670 \n",
      "money: financial, help, investment, tax, private, amount, needed, interest, give, attention\n",
      "lion: inducted, friend, father, probably, daughter, brother, novel, suicide, golden, westminster\n",
      "africa: south, america, europe, east, asia, north, southern, india, australia, northern\n",
      "musician: singer, actor, composer, actress, writer, politician, american, poet, born, artist\n",
      "dance: music, musical, jazz, folk, pop, contemporary, hop, scene, electronic, rock\n",
      "\n",
      "\n"
     ]
    },
    {
     "name": "stderr",
     "output_type": "stream",
     "text": [
      "150002it [11:29:16, 13.53it/s]"
     ]
    },
    {
     "name": "stdout",
     "output_type": "stream",
     "text": [
      "| epoch   1 | 150000/162913 batches | loss    1.670 \n",
      "money: financial, help, investment, private, tax, interest, needed, amount, attention, give\n",
      "lion: inducted, friend, daughter, father, probably, golden, suicide, brother, novel, westminster\n",
      "africa: south, america, east, europe, southern, asia, north, india, african, northern\n",
      "musician: singer, actor, actress, composer, writer, american, politician, born, poet, artist\n",
      "dance: music, musical, jazz, folk, pop, contemporary, scene, hop, electronic, rock\n",
      "\n",
      "\n"
     ]
    },
    {
     "name": "stderr",
     "output_type": "stream",
     "text": [
      "150502it [11:29:48, 13.23it/s]"
     ]
    },
    {
     "name": "stdout",
     "output_type": "stream",
     "text": [
      "| epoch   1 | 150500/162913 batches | loss    1.669 \n",
      "money: financial, help, investment, tax, interest, needed, private, amount, attention, property\n",
      "lion: inducted, friend, daughter, golden, probably, father, suicide, novel, brother, westminster\n",
      "africa: south, america, east, asia, southern, india, north, europe, northern, african\n",
      "musician: singer, actor, actress, composer, writer, american, born, politician, poet, peter\n",
      "dance: music, musical, jazz, folk, pop, contemporary, electronic, hop, scene, rock\n",
      "\n",
      "\n"
     ]
    },
    {
     "name": "stderr",
     "output_type": "stream",
     "text": [
      "151002it [11:30:21, 13.50it/s]"
     ]
    },
    {
     "name": "stdout",
     "output_type": "stream",
     "text": [
      "| epoch   1 | 151000/162913 batches | loss    1.667 \n",
      "money: financial, help, investment, tax, private, interest, amount, needed, property, lack\n",
      "lion: inducted, friend, probably, golden, daughter, father, novel, suicide, westminster, brother\n",
      "africa: south, america, east, north, asia, southern, europe, india, northern, african\n",
      "musician: singer, actor, actress, composer, writer, poet, american, politician, born, artist\n",
      "dance: music, musical, jazz, folk, pop, contemporary, electronic, hop, scene, musicians\n",
      "\n",
      "\n"
     ]
    },
    {
     "name": "stderr",
     "output_type": "stream",
     "text": [
      "151502it [11:30:54, 13.64it/s]"
     ]
    },
    {
     "name": "stdout",
     "output_type": "stream",
     "text": [
      "| epoch   1 | 151500/162913 batches | loss    1.668 \n",
      "money: financial, help, interest, private, investment, tax, amount, needed, lack, income\n",
      "lion: inducted, friend, golden, daughter, probably, novel, father, suicide, brother, westminster\n",
      "africa: south, america, north, east, europe, asia, india, southern, african, northern\n",
      "musician: singer, actor, actress, composer, writer, born, american, poet, politician, peter\n",
      "dance: music, musical, jazz, folk, pop, contemporary, hop, scene, electronic, musicians\n",
      "\n",
      "\n"
     ]
    },
    {
     "name": "stderr",
     "output_type": "stream",
     "text": [
      "152002it [11:31:26, 13.29it/s]"
     ]
    },
    {
     "name": "stdout",
     "output_type": "stream",
     "text": [
      "| epoch   1 | 152000/162913 batches | loss    1.664 \n",
      "money: financial, help, private, interest, investment, tax, amount, lack, needed, give\n",
      "lion: inducted, friend, golden, probably, daughter, father, novel, suicide, westminster, brother\n",
      "africa: south, america, east, north, asia, europe, india, southern, northern, african\n",
      "musician: singer, actor, actress, composer, writer, born, american, politician, poet, peter\n",
      "dance: music, musical, jazz, folk, pop, contemporary, scene, hop, electronic, musicians\n",
      "\n",
      "\n"
     ]
    },
    {
     "name": "stderr",
     "output_type": "stream",
     "text": [
      "152502it [11:31:59, 12.63it/s]"
     ]
    },
    {
     "name": "stdout",
     "output_type": "stream",
     "text": [
      "| epoch   1 | 152500/162913 batches | loss    1.668 \n",
      "money: financial, help, investment, private, tax, interest, amount, needed, lack, give\n",
      "lion: inducted, friend, father, daughter, golden, probably, suicide, novel, king, brother\n",
      "africa: south, east, north, asia, america, europe, india, southern, northern, african\n",
      "musician: singer, actor, actress, composer, writer, born, poet, politician, american, peter\n",
      "dance: music, musical, jazz, folk, pop, contemporary, scene, hop, electronic, musicians\n",
      "\n",
      "\n"
     ]
    },
    {
     "name": "stderr",
     "output_type": "stream",
     "text": [
      "153002it [11:32:32, 13.72it/s]"
     ]
    },
    {
     "name": "stdout",
     "output_type": "stream",
     "text": [
      "| epoch   1 | 153000/162913 batches | loss    1.668 \n",
      "money: financial, help, investment, interest, tax, private, amount, needed, give, property\n",
      "lion: inducted, friend, daughter, probably, father, golden, suicide, brother, novel, king\n",
      "africa: south, north, asia, america, east, europe, northern, india, southern, african\n",
      "musician: singer, actor, actress, composer, writer, born, poet, politician, american, peter\n",
      "dance: music, musical, jazz, folk, contemporary, pop, scene, hop, electronic, play\n",
      "\n",
      "\n"
     ]
    },
    {
     "name": "stderr",
     "output_type": "stream",
     "text": [
      "153502it [11:33:04, 13.43it/s]"
     ]
    },
    {
     "name": "stdout",
     "output_type": "stream",
     "text": [
      "| epoch   1 | 153500/162913 batches | loss    1.672 \n",
      "money: financial, help, interest, amount, private, investment, needed, property, tax, lack\n",
      "lion: inducted, friend, father, daughter, probably, golden, brother, suicide, novel, sons\n",
      "africa: south, north, asia, america, east, europe, southern, northern, african, west\n",
      "musician: singer, actor, actress, composer, writer, poet, born, politician, american, peter\n",
      "dance: music, musical, jazz, folk, pop, contemporary, scene, hop, electronic, play\n",
      "\n",
      "\n"
     ]
    },
    {
     "name": "stderr",
     "output_type": "stream",
     "text": [
      "154002it [11:33:37, 13.50it/s]"
     ]
    },
    {
     "name": "stdout",
     "output_type": "stream",
     "text": [
      "| epoch   1 | 154000/162913 batches | loss    1.666 \n",
      "money: financial, interest, investment, private, amount, tax, help, needed, property, market\n",
      "lion: inducted, friend, father, daughter, probably, golden, brother, suicide, sons, westminster\n",
      "africa: south, north, asia, america, east, europe, southern, west, northern, india\n",
      "musician: singer, actor, actress, composer, writer, poet, american, politician, born, artist\n",
      "dance: music, musical, jazz, folk, pop, scene, contemporary, hop, electronic, play\n",
      "\n",
      "\n"
     ]
    },
    {
     "name": "stderr",
     "output_type": "stream",
     "text": [
      "154502it [11:34:10, 13.64it/s]"
     ]
    },
    {
     "name": "stdout",
     "output_type": "stream",
     "text": [
      "| epoch   1 | 154500/162913 batches | loss    1.667 \n",
      "money: financial, investment, interest, private, tax, help, amount, needed, property, necessary\n",
      "lion: inducted, daughter, father, friend, probably, golden, brother, sons, who, novel\n",
      "africa: south, north, asia, america, east, europe, southern, northern, west, african\n",
      "musician: singer, actor, actress, composer, american, writer, politician, poet, born, journalist\n",
      "dance: music, musical, jazz, folk, pop, contemporary, scene, hop, electronic, play\n",
      "\n",
      "\n"
     ]
    },
    {
     "name": "stderr",
     "output_type": "stream",
     "text": [
      "155002it [11:34:42, 13.39it/s]"
     ]
    },
    {
     "name": "stdout",
     "output_type": "stream",
     "text": [
      "| epoch   1 | 155000/162913 batches | loss    1.660 \n",
      "money: financial, investment, interest, tax, private, help, property, amount, needed, give\n",
      "lion: inducted, friend, daughter, father, probably, golden, brother, sons, suicide, novel\n",
      "africa: south, asia, north, america, europe, east, northern, southern, west, african\n",
      "musician: singer, actor, actress, composer, american, writer, politician, poet, born, journalist\n",
      "dance: music, musical, jazz, folk, pop, contemporary, scene, hop, electronic, play\n",
      "\n",
      "\n"
     ]
    },
    {
     "name": "stderr",
     "output_type": "stream",
     "text": [
      "155502it [11:35:16, 13.25it/s]"
     ]
    },
    {
     "name": "stdout",
     "output_type": "stream",
     "text": [
      "| epoch   1 | 155500/162913 batches | loss    1.664 \n",
      "money: financial, investment, interest, tax, amount, private, help, give, property, needed\n",
      "lion: friend, inducted, daughter, father, probably, golden, brother, novel, suicide, sons\n",
      "africa: south, asia, north, america, europe, east, northern, southern, african, india\n",
      "musician: singer, actor, actress, composer, american, writer, politician, poet, born, author\n",
      "dance: music, musical, jazz, folk, pop, hop, scene, contemporary, electronic, play\n",
      "\n",
      "\n"
     ]
    },
    {
     "name": "stderr",
     "output_type": "stream",
     "text": [
      "156002it [11:35:48, 13.35it/s]"
     ]
    },
    {
     "name": "stdout",
     "output_type": "stream",
     "text": [
      "| epoch   1 | 156000/162913 batches | loss    1.665 \n",
      "money: financial, investment, amount, tax, give, interest, help, property, needed, private\n",
      "lion: inducted, friend, daughter, father, golden, probably, brother, novel, suicide, sons\n",
      "africa: south, asia, north, america, europe, east, southern, northern, african, india\n",
      "musician: singer, actor, actress, composer, american, writer, politician, poet, born, author\n",
      "dance: music, musical, jazz, folk, pop, hop, contemporary, scene, electronic, play\n",
      "\n",
      "\n"
     ]
    },
    {
     "name": "stderr",
     "output_type": "stream",
     "text": [
      "156502it [11:36:21, 13.46it/s]"
     ]
    },
    {
     "name": "stdout",
     "output_type": "stream",
     "text": [
      "| epoch   1 | 156500/162913 batches | loss    1.665 \n",
      "money: investment, amount, financial, tax, give, private, help, interest, needed, property\n",
      "lion: inducted, friend, daughter, father, golden, probably, novel, brother, sons, suicide\n",
      "africa: south, asia, east, north, america, southern, europe, northern, african, eastern\n",
      "musician: singer, actor, actress, american, composer, writer, politician, poet, born, author\n",
      "dance: music, musical, jazz, folk, pop, hop, contemporary, electronic, play, scene\n",
      "\n",
      "\n"
     ]
    },
    {
     "name": "stderr",
     "output_type": "stream",
     "text": [
      "157002it [11:36:54, 13.52it/s]"
     ]
    },
    {
     "name": "stdout",
     "output_type": "stream",
     "text": [
      "| epoch   1 | 157000/162913 batches | loss    1.661 \n",
      "money: amount, financial, investment, interest, needed, tax, help, private, lack, give\n",
      "lion: inducted, friend, daughter, father, golden, probably, novel, suicide, brother, sons\n",
      "africa: south, asia, southern, east, north, america, europe, northern, african, india\n",
      "musician: singer, actor, actress, american, composer, writer, politician, poet, born, journalist\n",
      "dance: music, musical, jazz, folk, pop, hop, electronic, contemporary, scene, play\n",
      "\n",
      "\n"
     ]
    },
    {
     "name": "stderr",
     "output_type": "stream",
     "text": [
      "157502it [11:37:26, 13.41it/s]"
     ]
    },
    {
     "name": "stdout",
     "output_type": "stream",
     "text": [
      "| epoch   1 | 157500/162913 batches | loss    1.664 \n",
      "money: amount, financial, investment, needed, interest, tax, necessary, lack, help, private\n",
      "lion: inducted, friend, father, daughter, probably, golden, novel, suicide, brother, sons\n",
      "africa: south, asia, southern, north, east, america, india, europe, northern, african\n",
      "musician: singer, actor, actress, composer, american, poet, politician, writer, born, author\n",
      "dance: music, musical, jazz, folk, pop, hop, electronic, contemporary, scene, play\n",
      "\n",
      "\n"
     ]
    },
    {
     "name": "stderr",
     "output_type": "stream",
     "text": [
      "158002it [11:37:59, 12.78it/s]"
     ]
    },
    {
     "name": "stdout",
     "output_type": "stream",
     "text": [
      "| epoch   1 | 158000/162913 batches | loss    1.662 \n",
      "money: financial, needed, investment, amount, interest, tax, necessary, help, give, private\n",
      "lion: inducted, friend, daughter, father, golden, probably, novel, suicide, sons, brother\n",
      "africa: south, asia, southern, north, america, east, india, europe, northern, african\n",
      "musician: singer, actor, actress, composer, writer, poet, american, politician, born, author\n",
      "dance: music, musical, jazz, folk, pop, hop, electronic, contemporary, scene, play\n",
      "\n",
      "\n"
     ]
    },
    {
     "name": "stderr",
     "output_type": "stream",
     "text": [
      "158502it [11:38:31, 13.11it/s]"
     ]
    },
    {
     "name": "stdout",
     "output_type": "stream",
     "text": [
      "| epoch   1 | 158500/162913 batches | loss    1.665 \n",
      "money: financial, amount, needed, investment, interest, tax, necessary, give, help, lack\n",
      "lion: friend, inducted, daughter, father, probably, golden, suicide, sons, brother, westminster\n",
      "africa: south, asia, east, north, southern, america, europe, india, northern, eastern\n",
      "musician: singer, actor, actress, composer, american, writer, politician, poet, author, born\n",
      "dance: music, musical, jazz, folk, pop, hop, electronic, contemporary, scene, songs\n",
      "\n",
      "\n"
     ]
    },
    {
     "name": "stderr",
     "output_type": "stream",
     "text": [
      "159002it [11:39:05, 12.88it/s]"
     ]
    },
    {
     "name": "stdout",
     "output_type": "stream",
     "text": [
      "| epoch   1 | 159000/162913 batches | loss    1.660 \n",
      "money: needed, financial, amount, investment, interest, tax, necessary, help, give, lack\n",
      "lion: friend, inducted, father, daughter, golden, probably, suicide, brother, sons, westminster\n",
      "africa: south, asia, north, southern, east, america, india, europe, northern, eastern\n",
      "musician: singer, actor, actress, composer, writer, american, author, poet, politician, born\n",
      "dance: music, musical, jazz, folk, pop, hop, electronic, contemporary, scene, play\n",
      "\n",
      "\n"
     ]
    },
    {
     "name": "stderr",
     "output_type": "stream",
     "text": [
      "159502it [11:39:38, 13.69it/s]"
     ]
    },
    {
     "name": "stdout",
     "output_type": "stream",
     "text": [
      "| epoch   1 | 159500/162913 batches | loss    1.664 \n",
      "money: needed, amount, financial, investment, interest, necessary, help, lack, give, tax\n",
      "lion: friend, inducted, father, daughter, golden, suicide, probably, brother, him, sons\n",
      "africa: south, asia, southern, east, north, america, india, northern, eastern, europe\n",
      "musician: singer, actor, actress, composer, writer, american, politician, author, poet, born\n",
      "dance: music, musical, jazz, folk, pop, hop, electronic, contemporary, scene, play\n",
      "\n",
      "\n"
     ]
    },
    {
     "name": "stderr",
     "output_type": "stream",
     "text": [
      "160002it [11:40:10, 12.95it/s]"
     ]
    },
    {
     "name": "stdout",
     "output_type": "stream",
     "text": [
      "| epoch   1 | 160000/162913 batches | loss    1.657 \n",
      "money: needed, amount, financial, investment, interest, necessary, give, lack, private, tax\n",
      "lion: friend, inducted, father, daughter, golden, suicide, probably, brother, sons, westminster\n",
      "africa: south, asia, southern, north, america, east, northern, india, europe, eastern\n",
      "musician: singer, actor, actress, composer, writer, american, politician, born, author, poet\n",
      "dance: music, musical, jazz, folk, pop, hop, contemporary, electronic, scene, play\n",
      "\n",
      "\n"
     ]
    },
    {
     "name": "stderr",
     "output_type": "stream",
     "text": [
      "160502it [11:40:43, 13.08it/s]"
     ]
    },
    {
     "name": "stdout",
     "output_type": "stream",
     "text": [
      "| epoch   1 | 160500/162913 batches | loss    1.666 \n",
      "money: needed, amount, financial, interest, investment, necessary, give, lack, tax, help\n",
      "lion: friend, inducted, father, golden, daughter, suicide, probably, his, him, brother\n",
      "africa: south, asia, east, southern, america, india, north, northern, europe, african\n",
      "musician: singer, actor, actress, composer, writer, author, politician, born, american, poet\n",
      "dance: music, musical, jazz, folk, pop, hop, contemporary, electronic, scene, play\n",
      "\n",
      "\n"
     ]
    },
    {
     "name": "stderr",
     "output_type": "stream",
     "text": [
      "161002it [11:41:16, 13.56it/s]"
     ]
    },
    {
     "name": "stdout",
     "output_type": "stream",
     "text": [
      "| epoch   1 | 161000/162913 batches | loss    1.658 \n",
      "money: needed, amount, financial, interest, investment, necessary, lack, help, give, tax\n",
      "lion: friend, inducted, father, daughter, golden, suicide, probably, brother, woman, his\n",
      "africa: south, asia, east, southern, america, northern, india, north, europe, mexico\n",
      "musician: singer, actor, actress, composer, writer, american, politician, author, born, nine\n",
      "dance: music, musical, jazz, folk, pop, hop, contemporary, electronic, scene, play\n",
      "\n",
      "\n"
     ]
    },
    {
     "name": "stderr",
     "output_type": "stream",
     "text": [
      "161502it [11:41:48, 13.57it/s]"
     ]
    },
    {
     "name": "stdout",
     "output_type": "stream",
     "text": [
      "| epoch   1 | 161500/162913 batches | loss    1.663 \n",
      "money: needed, amount, financial, interest, investment, help, private, necessary, tax, property\n",
      "lion: friend, inducted, golden, daughter, father, suicide, brother, probably, westminster, woman\n",
      "africa: south, asia, east, southern, northern, america, india, north, europe, mexico\n",
      "musician: singer, actor, actress, composer, american, writer, politician, born, author, poet\n",
      "dance: music, musical, jazz, folk, hop, pop, contemporary, electronic, scene, play\n",
      "\n",
      "\n"
     ]
    },
    {
     "name": "stderr",
     "output_type": "stream",
     "text": [
      "162002it [11:42:20, 13.45it/s]"
     ]
    },
    {
     "name": "stdout",
     "output_type": "stream",
     "text": [
      "| epoch   1 | 162000/162913 batches | loss    1.661 \n",
      "money: needed, amount, financial, interest, investment, help, private, necessary, tax, property\n",
      "lion: friend, inducted, golden, daughter, suicide, father, novel, brother, probably, sons\n",
      "africa: south, asia, east, southern, america, northern, india, north, europe, mexico\n",
      "musician: singer, actor, actress, composer, american, writer, politician, born, author, poet\n",
      "dance: music, musical, jazz, folk, hop, pop, contemporary, scene, play, electronic\n",
      "\n",
      "\n"
     ]
    },
    {
     "name": "stderr",
     "output_type": "stream",
     "text": [
      "162502it [11:42:52, 13.73it/s]"
     ]
    },
    {
     "name": "stdout",
     "output_type": "stream",
     "text": [
      "| epoch   1 | 162500/162913 batches | loss    1.657 \n",
      "money: amount, needed, investment, financial, interest, help, tax, necessary, income, property\n",
      "lion: friend, inducted, golden, daughter, father, suicide, probably, brother, novel, westminster\n",
      "africa: south, asia, east, america, southern, north, northern, india, europe, african\n",
      "musician: singer, actor, actress, composer, politician, writer, born, american, poet, journalist\n",
      "dance: music, musical, jazz, folk, hop, play, scene, contemporary, pop, electronic\n",
      "\n",
      "\n"
     ]
    },
    {
     "name": "stderr",
     "output_type": "stream",
     "text": [
      "162913it [11:43:22,  3.86it/s]\n",
      "3it [00:02,  1.37it/s]"
     ]
    },
    {
     "name": "stdout",
     "output_type": "stream",
     "text": [
      "| epoch   2 |     0/162913 batches | loss    1.717 \n",
      "money: amount, needed, investment, financial, interest, help, tax, private, give, income\n",
      "lion: friend, inducted, daughter, golden, father, probably, suicide, westminster, brother, novel\n",
      "africa: south, asia, east, america, southern, northern, north, europe, india, african\n",
      "musician: singer, actor, actress, composer, politician, writer, born, american, poet, journalist\n",
      "dance: music, musical, jazz, folk, hop, play, scene, pop, contemporary, electronic\n",
      "\n",
      "\n"
     ]
    },
    {
     "name": "stderr",
     "output_type": "stream",
     "text": [
      "503it [00:34, 14.24it/s]"
     ]
    },
    {
     "name": "stdout",
     "output_type": "stream",
     "text": [
      "| epoch   2 |   500/162913 batches | loss    1.629 \n",
      "money: amount, needed, investment, financial, interest, help, tax, private, income, property\n",
      "lion: friend, inducted, daughter, golden, father, suicide, probably, westminster, novel, brother\n",
      "africa: south, asia, east, america, southern, northern, north, europe, india, african\n",
      "musician: singer, actor, actress, composer, writer, politician, american, born, poet, journalist\n",
      "dance: music, musical, jazz, folk, hop, play, scene, pop, contemporary, electronic\n",
      "\n",
      "\n"
     ]
    },
    {
     "name": "stderr",
     "output_type": "stream",
     "text": [
      "1003it [01:06, 14.37it/s]"
     ]
    },
    {
     "name": "stdout",
     "output_type": "stream",
     "text": [
      "| epoch   2 |  1000/162913 batches | loss    1.625 \n",
      "money: amount, needed, investment, financial, interest, help, tax, private, property, income\n",
      "lion: friend, inducted, daughter, golden, father, suicide, probably, westminster, novel, brother\n",
      "africa: south, asia, east, america, southern, northern, europe, north, india, african\n",
      "musician: singer, actor, actress, composer, writer, politician, american, born, poet, journalist\n",
      "dance: music, musical, jazz, folk, hop, play, pop, scene, contemporary, electronic\n",
      "\n",
      "\n"
     ]
    },
    {
     "name": "stderr",
     "output_type": "stream",
     "text": [
      "1503it [01:38, 14.15it/s]"
     ]
    },
    {
     "name": "stdout",
     "output_type": "stream",
     "text": [
      "| epoch   2 |  1500/162913 batches | loss    1.622 \n",
      "money: amount, needed, investment, financial, interest, help, tax, private, property, income\n",
      "lion: friend, inducted, daughter, golden, father, suicide, probably, westminster, novel, brother\n",
      "africa: south, asia, east, america, southern, northern, europe, north, india, african\n",
      "musician: singer, actor, actress, composer, writer, politician, american, born, poet, journalist\n",
      "dance: music, musical, jazz, folk, hop, play, pop, scene, contemporary, electronic\n",
      "\n",
      "\n"
     ]
    },
    {
     "name": "stderr",
     "output_type": "stream",
     "text": [
      "2003it [02:10, 14.31it/s]"
     ]
    },
    {
     "name": "stdout",
     "output_type": "stream",
     "text": [
      "| epoch   2 |  2000/162913 batches | loss    1.625 \n",
      "money: amount, needed, investment, financial, interest, help, tax, private, property, income\n",
      "lion: friend, inducted, daughter, golden, father, suicide, probably, westminster, novel, brother\n",
      "africa: south, asia, east, southern, america, northern, europe, north, india, african\n",
      "musician: singer, actor, actress, composer, writer, politician, american, born, poet, journalist\n",
      "dance: music, musical, jazz, folk, hop, play, pop, scene, contemporary, electronic\n",
      "\n",
      "\n"
     ]
    },
    {
     "name": "stderr",
     "output_type": "stream",
     "text": [
      "2503it [02:42, 14.07it/s]"
     ]
    },
    {
     "name": "stdout",
     "output_type": "stream",
     "text": [
      "| epoch   2 |  2500/162913 batches | loss    1.624 \n",
      "money: amount, needed, investment, financial, interest, help, tax, private, property, income\n",
      "lion: friend, inducted, daughter, golden, father, suicide, probably, westminster, novel, sons\n",
      "africa: south, asia, east, southern, america, northern, europe, north, india, african\n",
      "musician: singer, actor, actress, composer, writer, politician, american, born, poet, journalist\n",
      "dance: music, musical, jazz, folk, hop, play, pop, scene, contemporary, electronic\n",
      "\n",
      "\n"
     ]
    },
    {
     "name": "stderr",
     "output_type": "stream",
     "text": [
      "3003it [03:15, 14.01it/s]"
     ]
    },
    {
     "name": "stdout",
     "output_type": "stream",
     "text": [
      "| epoch   2 |  3000/162913 batches | loss    1.625 \n",
      "money: amount, needed, investment, financial, interest, help, tax, property, private, income\n",
      "lion: friend, inducted, daughter, golden, father, suicide, probably, westminster, novel, sons\n",
      "africa: south, asia, east, southern, america, northern, europe, north, india, african\n",
      "musician: singer, actor, actress, composer, writer, politician, american, born, poet, journalist\n",
      "dance: music, musical, jazz, folk, hop, pop, play, scene, contemporary, electronic\n",
      "\n",
      "\n"
     ]
    },
    {
     "name": "stderr",
     "output_type": "stream",
     "text": [
      "3503it [03:47, 14.13it/s]"
     ]
    },
    {
     "name": "stdout",
     "output_type": "stream",
     "text": [
      "| epoch   2 |  3500/162913 batches | loss    1.622 \n",
      "money: needed, amount, investment, financial, interest, help, tax, property, private, income\n",
      "lion: friend, inducted, daughter, golden, father, suicide, probably, westminster, sons, novel\n",
      "africa: south, asia, east, southern, america, europe, northern, north, india, african\n",
      "musician: singer, actor, actress, composer, writer, politician, american, born, poet, journalist\n",
      "dance: music, musical, jazz, folk, hop, pop, play, scene, contemporary, electronic\n",
      "\n",
      "\n"
     ]
    },
    {
     "name": "stderr",
     "output_type": "stream",
     "text": [
      "4001it [04:19, 13.23it/s]"
     ]
    },
    {
     "name": "stdout",
     "output_type": "stream",
     "text": [
      "| epoch   2 |  4000/162913 batches | loss    1.621 \n",
      "money: needed, amount, investment, financial, interest, help, tax, property, income, give\n",
      "lion: friend, inducted, daughter, golden, father, suicide, probably, westminster, sons, novel\n",
      "africa: south, asia, east, southern, america, europe, northern, north, india, african\n",
      "musician: singer, actor, actress, composer, writer, politician, american, born, poet, journalist\n",
      "dance: music, musical, jazz, folk, hop, pop, scene, play, contemporary, electronic\n",
      "\n",
      "\n"
     ]
    },
    {
     "name": "stderr",
     "output_type": "stream",
     "text": [
      "4503it [04:51, 14.12it/s]"
     ]
    },
    {
     "name": "stdout",
     "output_type": "stream",
     "text": [
      "| epoch   2 |  4500/162913 batches | loss    1.622 \n",
      "money: needed, amount, investment, financial, interest, help, tax, income, property, give\n",
      "lion: friend, inducted, daughter, golden, father, suicide, probably, westminster, novel, sons\n",
      "africa: south, asia, east, southern, america, europe, northern, north, india, african\n",
      "musician: singer, actor, actress, composer, writer, politician, american, born, poet, journalist\n",
      "dance: music, musical, jazz, folk, hop, scene, pop, play, contemporary, electronic\n",
      "\n",
      "\n"
     ]
    },
    {
     "name": "stderr",
     "output_type": "stream",
     "text": [
      "5003it [05:24, 14.03it/s]"
     ]
    },
    {
     "name": "stdout",
     "output_type": "stream",
     "text": [
      "| epoch   2 |  5000/162913 batches | loss    1.622 \n",
      "money: needed, amount, investment, financial, interest, help, tax, property, income, give\n",
      "lion: friend, inducted, daughter, golden, father, suicide, probably, westminster, sons, novel\n",
      "africa: south, asia, east, southern, america, europe, northern, north, india, african\n",
      "musician: singer, actor, actress, composer, writer, politician, american, born, poet, journalist\n",
      "dance: music, musical, jazz, folk, hop, scene, pop, play, contemporary, electronic\n",
      "\n",
      "\n"
     ]
    },
    {
     "name": "stderr",
     "output_type": "stream",
     "text": [
      "5501it [05:56, 13.00it/s]"
     ]
    },
    {
     "name": "stdout",
     "output_type": "stream",
     "text": [
      "| epoch   2 |  5500/162913 batches | loss    1.620 \n",
      "money: needed, amount, investment, financial, interest, help, tax, property, income, give\n",
      "lion: friend, inducted, daughter, golden, father, suicide, probably, westminster, novel, sons\n",
      "africa: south, asia, east, southern, america, europe, northern, north, india, african\n",
      "musician: singer, actor, actress, composer, american, writer, politician, born, poet, journalist\n",
      "dance: music, musical, jazz, folk, hop, scene, pop, play, contemporary, electronic\n",
      "\n",
      "\n"
     ]
    },
    {
     "name": "stderr",
     "output_type": "stream",
     "text": [
      "6003it [06:29, 14.03it/s]"
     ]
    },
    {
     "name": "stdout",
     "output_type": "stream",
     "text": [
      "| epoch   2 |  6000/162913 batches | loss    1.623 \n",
      "money: needed, amount, investment, financial, interest, help, tax, property, income, give\n",
      "lion: friend, inducted, daughter, golden, father, suicide, probably, westminster, sons, novel\n",
      "africa: south, asia, east, southern, america, europe, northern, north, india, african\n",
      "musician: singer, actor, actress, composer, american, writer, politician, born, poet, nine\n",
      "dance: music, musical, jazz, folk, hop, scene, pop, play, contemporary, electronic\n",
      "\n",
      "\n"
     ]
    },
    {
     "name": "stderr",
     "output_type": "stream",
     "text": [
      "6503it [07:01, 13.89it/s]"
     ]
    },
    {
     "name": "stdout",
     "output_type": "stream",
     "text": [
      "| epoch   2 |  6500/162913 batches | loss    1.623 \n",
      "money: needed, amount, investment, financial, interest, help, property, tax, income, give\n",
      "lion: friend, inducted, daughter, golden, father, suicide, probably, westminster, sons, novel\n",
      "africa: south, asia, east, southern, america, europe, northern, north, india, african\n",
      "musician: singer, actor, actress, composer, american, writer, politician, born, poet, nine\n",
      "dance: music, musical, jazz, folk, hop, scene, pop, play, contemporary, electronic\n",
      "\n",
      "\n"
     ]
    },
    {
     "name": "stderr",
     "output_type": "stream",
     "text": [
      "7003it [07:34, 13.85it/s]"
     ]
    },
    {
     "name": "stdout",
     "output_type": "stream",
     "text": [
      "| epoch   2 |  7000/162913 batches | loss    1.621 \n",
      "money: needed, amount, investment, financial, interest, help, give, property, tax, income\n",
      "lion: friend, inducted, daughter, golden, father, suicide, probably, westminster, him, novel\n",
      "africa: south, asia, east, southern, america, europe, northern, north, india, african\n",
      "musician: singer, actor, actress, composer, american, writer, politician, born, poet, nine\n",
      "dance: music, musical, jazz, folk, hop, scene, pop, play, contemporary, electronic\n",
      "\n",
      "\n"
     ]
    },
    {
     "name": "stderr",
     "output_type": "stream",
     "text": [
      "7503it [08:06, 14.18it/s]"
     ]
    },
    {
     "name": "stdout",
     "output_type": "stream",
     "text": [
      "| epoch   2 |  7500/162913 batches | loss    1.618 \n",
      "money: amount, needed, investment, financial, interest, help, give, tax, property, income\n",
      "lion: friend, inducted, daughter, golden, father, suicide, probably, westminster, him, novel\n",
      "africa: south, asia, east, southern, america, europe, northern, north, india, african\n",
      "musician: singer, actor, actress, composer, american, writer, politician, born, poet, nine\n",
      "dance: music, musical, jazz, folk, hop, scene, pop, play, contemporary, electronic\n",
      "\n",
      "\n"
     ]
    },
    {
     "name": "stderr",
     "output_type": "stream",
     "text": [
      "8003it [08:38, 14.17it/s]"
     ]
    },
    {
     "name": "stdout",
     "output_type": "stream",
     "text": [
      "| epoch   2 |  8000/162913 batches | loss    1.618 \n",
      "money: amount, needed, investment, financial, help, interest, give, tax, property, income\n",
      "lion: friend, inducted, daughter, golden, father, suicide, probably, westminster, him, novel\n",
      "africa: south, asia, east, southern, america, europe, northern, north, india, african\n",
      "musician: singer, actor, actress, composer, american, writer, politician, born, nine, poet\n",
      "dance: music, musical, jazz, folk, hop, scene, pop, play, contemporary, electronic\n",
      "\n",
      "\n"
     ]
    },
    {
     "name": "stderr",
     "output_type": "stream",
     "text": [
      "8503it [09:10, 13.85it/s]"
     ]
    },
    {
     "name": "stdout",
     "output_type": "stream",
     "text": [
      "| epoch   2 |  8500/162913 batches | loss    1.624 \n",
      "money: amount, needed, investment, financial, help, interest, tax, give, property, income\n",
      "lion: friend, inducted, daughter, golden, father, suicide, probably, westminster, him, novel\n",
      "africa: south, asia, east, southern, america, europe, northern, north, india, african\n",
      "musician: singer, actor, actress, composer, american, writer, politician, born, nine, poet\n",
      "dance: music, musical, jazz, folk, hop, scene, pop, play, contemporary, electronic\n",
      "\n",
      "\n"
     ]
    },
    {
     "name": "stderr",
     "output_type": "stream",
     "text": [
      "9003it [09:42, 14.10it/s]"
     ]
    },
    {
     "name": "stdout",
     "output_type": "stream",
     "text": [
      "| epoch   2 |  9000/162913 batches | loss    1.618 \n",
      "money: needed, amount, investment, financial, help, interest, tax, give, income, property\n",
      "lion: friend, inducted, daughter, golden, father, suicide, probably, him, westminster, novel\n",
      "africa: south, asia, east, southern, america, europe, north, northern, india, african\n",
      "musician: singer, actor, actress, composer, american, writer, politician, born, nine, poet\n",
      "dance: music, musical, jazz, folk, hop, scene, pop, play, contemporary, electronic\n",
      "\n",
      "\n"
     ]
    },
    {
     "name": "stderr",
     "output_type": "stream",
     "text": [
      "9503it [10:15, 14.10it/s]"
     ]
    },
    {
     "name": "stdout",
     "output_type": "stream",
     "text": [
      "| epoch   2 |  9500/162913 batches | loss    1.621 \n",
      "money: needed, amount, investment, financial, help, interest, tax, income, give, property\n",
      "lion: friend, inducted, daughter, golden, father, suicide, probably, him, westminster, novel\n",
      "africa: south, asia, east, southern, america, europe, north, northern, india, african\n",
      "musician: singer, actor, actress, composer, american, writer, politician, born, poet, nine\n",
      "dance: music, musical, jazz, folk, hop, scene, pop, play, electronic, contemporary\n",
      "\n",
      "\n"
     ]
    },
    {
     "name": "stderr",
     "output_type": "stream",
     "text": [
      "10003it [10:47, 14.16it/s]"
     ]
    },
    {
     "name": "stdout",
     "output_type": "stream",
     "text": [
      "| epoch   2 | 10000/162913 batches | loss    1.619 \n",
      "money: needed, amount, investment, financial, help, interest, tax, income, give, property\n",
      "lion: friend, inducted, daughter, golden, father, suicide, probably, him, westminster, novel\n",
      "africa: south, asia, east, southern, america, europe, northern, north, india, african\n",
      "musician: singer, actor, actress, composer, american, writer, politician, born, poet, nine\n",
      "dance: music, musical, jazz, folk, hop, scene, pop, play, electronic, contemporary\n",
      "\n",
      "\n"
     ]
    },
    {
     "name": "stderr",
     "output_type": "stream",
     "text": [
      "10503it [11:20, 13.90it/s]"
     ]
    },
    {
     "name": "stdout",
     "output_type": "stream",
     "text": [
      "| epoch   2 | 10500/162913 batches | loss    1.619 \n",
      "money: needed, amount, investment, financial, help, interest, tax, income, give, property\n",
      "lion: friend, inducted, daughter, golden, father, suicide, probably, him, novel, westminster\n",
      "africa: south, asia, east, southern, america, europe, northern, north, india, african\n",
      "musician: singer, actor, actress, composer, american, writer, politician, born, poet, nine\n",
      "dance: music, musical, jazz, folk, hop, scene, pop, play, contemporary, electronic\n",
      "\n",
      "\n"
     ]
    },
    {
     "name": "stderr",
     "output_type": "stream",
     "text": [
      "11003it [11:52, 13.99it/s]"
     ]
    },
    {
     "name": "stdout",
     "output_type": "stream",
     "text": [
      "| epoch   2 | 11000/162913 batches | loss    1.619 \n",
      "money: needed, amount, investment, financial, help, interest, tax, income, give, property\n",
      "lion: friend, inducted, daughter, golden, father, suicide, probably, him, novel, westminster\n",
      "africa: south, asia, east, southern, america, europe, northern, north, india, african\n",
      "musician: singer, actor, actress, composer, american, writer, politician, born, poet, nine\n",
      "dance: music, musical, jazz, folk, hop, scene, pop, play, contemporary, electronic\n",
      "\n",
      "\n"
     ]
    },
    {
     "name": "stderr",
     "output_type": "stream",
     "text": [
      "11503it [12:25, 14.11it/s]"
     ]
    },
    {
     "name": "stdout",
     "output_type": "stream",
     "text": [
      "| epoch   2 | 11500/162913 batches | loss    1.621 \n",
      "money: needed, amount, investment, financial, help, interest, tax, income, give, property\n",
      "lion: friend, inducted, daughter, golden, father, suicide, probably, him, novel, westminster\n",
      "africa: south, asia, east, southern, america, europe, northern, north, india, african\n",
      "musician: singer, actor, actress, composer, american, writer, politician, born, nine, poet\n",
      "dance: music, musical, jazz, folk, hop, scene, pop, play, contemporary, electronic\n",
      "\n",
      "\n"
     ]
    },
    {
     "name": "stderr",
     "output_type": "stream",
     "text": [
      "12003it [12:58, 13.88it/s]"
     ]
    },
    {
     "name": "stdout",
     "output_type": "stream",
     "text": [
      "| epoch   2 | 12000/162913 batches | loss    1.619 \n",
      "money: needed, amount, investment, financial, help, interest, tax, income, property, give\n",
      "lion: friend, inducted, daughter, golden, father, suicide, probably, him, westminster, novel\n",
      "africa: south, asia, east, southern, america, europe, northern, north, india, african\n",
      "musician: singer, actor, actress, composer, american, writer, politician, born, nine, poet\n",
      "dance: music, musical, jazz, folk, hop, scene, pop, play, contemporary, electronic\n",
      "\n",
      "\n"
     ]
    },
    {
     "name": "stderr",
     "output_type": "stream",
     "text": [
      "12501it [13:30, 13.03it/s]"
     ]
    },
    {
     "name": "stdout",
     "output_type": "stream",
     "text": [
      "| epoch   2 | 12500/162913 batches | loss    1.617 \n",
      "money: needed, amount, investment, financial, help, interest, tax, income, property, give\n",
      "lion: friend, inducted, daughter, golden, father, suicide, probably, him, sons, westminster\n",
      "africa: south, asia, east, southern, america, europe, northern, india, north, african\n",
      "musician: singer, actor, actress, composer, american, writer, politician, born, poet, nine\n",
      "dance: music, musical, jazz, folk, hop, scene, pop, play, electronic, contemporary\n",
      "\n",
      "\n"
     ]
    },
    {
     "name": "stderr",
     "output_type": "stream",
     "text": [
      "13003it [14:03, 14.12it/s]"
     ]
    },
    {
     "name": "stdout",
     "output_type": "stream",
     "text": [
      "| epoch   2 | 13000/162913 batches | loss    1.614 \n",
      "money: needed, amount, investment, financial, help, interest, tax, income, property, give\n",
      "lion: friend, inducted, daughter, golden, father, suicide, probably, him, westminster, novel\n",
      "africa: south, asia, east, southern, america, europe, northern, india, north, african\n",
      "musician: singer, actor, actress, composer, american, writer, politician, born, nine, poet\n",
      "dance: music, musical, jazz, folk, hop, scene, pop, play, contemporary, electronic\n",
      "\n",
      "\n"
     ]
    },
    {
     "name": "stderr",
     "output_type": "stream",
     "text": [
      "13503it [14:35, 14.17it/s]"
     ]
    },
    {
     "name": "stdout",
     "output_type": "stream",
     "text": [
      "| epoch   2 | 13500/162913 batches | loss    1.621 \n",
      "money: needed, amount, investment, financial, help, interest, tax, income, property, give\n",
      "lion: friend, inducted, daughter, golden, father, suicide, probably, him, novel, sons\n",
      "africa: south, asia, east, southern, america, europe, northern, india, north, african\n",
      "musician: singer, actor, actress, composer, american, writer, politician, born, nine, poet\n",
      "dance: music, musical, jazz, folk, hop, scene, pop, play, contemporary, electronic\n",
      "\n",
      "\n"
     ]
    },
    {
     "name": "stderr",
     "output_type": "stream",
     "text": [
      "14003it [15:08, 14.15it/s]"
     ]
    },
    {
     "name": "stdout",
     "output_type": "stream",
     "text": [
      "| epoch   2 | 14000/162913 batches | loss    1.617 \n",
      "money: needed, amount, investment, financial, help, interest, tax, income, property, give\n",
      "lion: friend, inducted, daughter, golden, father, suicide, probably, him, sons, westminster\n",
      "africa: south, asia, east, southern, america, europe, northern, india, north, african\n",
      "musician: singer, actor, actress, composer, american, writer, politician, born, nine, poet\n",
      "dance: music, musical, jazz, folk, hop, scene, pop, play, contemporary, electronic\n",
      "\n",
      "\n"
     ]
    },
    {
     "name": "stderr",
     "output_type": "stream",
     "text": [
      "14503it [15:40, 14.15it/s]"
     ]
    },
    {
     "name": "stdout",
     "output_type": "stream",
     "text": [
      "| epoch   2 | 14500/162913 batches | loss    1.622 \n",
      "money: needed, amount, investment, financial, help, interest, tax, property, income, give\n",
      "lion: friend, inducted, daughter, golden, father, suicide, probably, him, sons, novel\n",
      "africa: south, asia, east, southern, america, europe, northern, north, india, african\n",
      "musician: singer, actor, actress, composer, american, writer, politician, nine, born, poet\n",
      "dance: music, musical, jazz, folk, hop, scene, pop, play, contemporary, electronic\n",
      "\n",
      "\n"
     ]
    },
    {
     "name": "stderr",
     "output_type": "stream",
     "text": [
      "15003it [16:12, 14.30it/s]"
     ]
    },
    {
     "name": "stdout",
     "output_type": "stream",
     "text": [
      "| epoch   2 | 15000/162913 batches | loss    1.618 \n",
      "money: needed, amount, investment, financial, help, interest, tax, income, property, give\n",
      "lion: friend, inducted, daughter, golden, father, suicide, probably, him, sons, novel\n",
      "africa: south, asia, east, southern, america, europe, northern, north, india, african\n",
      "musician: singer, actor, actress, composer, american, writer, politician, nine, born, poet\n",
      "dance: music, musical, jazz, folk, hop, scene, pop, play, contemporary, electronic\n",
      "\n",
      "\n"
     ]
    },
    {
     "name": "stderr",
     "output_type": "stream",
     "text": [
      "15503it [16:44, 14.14it/s]"
     ]
    },
    {
     "name": "stdout",
     "output_type": "stream",
     "text": [
      "| epoch   2 | 15500/162913 batches | loss    1.613 \n",
      "money: needed, amount, investment, financial, help, interest, tax, income, property, give\n",
      "lion: friend, inducted, daughter, golden, father, suicide, probably, him, sons, novel\n",
      "africa: south, asia, east, southern, america, europe, north, northern, india, african\n",
      "musician: singer, actor, actress, composer, american, writer, politician, born, nine, poet\n",
      "dance: music, musical, jazz, folk, hop, scene, pop, play, contemporary, electronic\n",
      "\n",
      "\n"
     ]
    },
    {
     "name": "stderr",
     "output_type": "stream",
     "text": [
      "16003it [17:16, 13.76it/s]"
     ]
    },
    {
     "name": "stdout",
     "output_type": "stream",
     "text": [
      "| epoch   2 | 16000/162913 batches | loss    1.617 \n",
      "money: needed, amount, investment, financial, help, interest, tax, property, income, give\n",
      "lion: friend, inducted, daughter, golden, father, suicide, probably, him, novel, sons\n",
      "africa: south, asia, east, southern, america, europe, north, northern, india, african\n",
      "musician: singer, actor, actress, composer, american, writer, politician, born, nine, poet\n",
      "dance: music, musical, jazz, folk, hop, scene, pop, play, contemporary, electronic\n",
      "\n",
      "\n"
     ]
    },
    {
     "name": "stderr",
     "output_type": "stream",
     "text": [
      "16503it [17:49, 14.07it/s]"
     ]
    },
    {
     "name": "stdout",
     "output_type": "stream",
     "text": [
      "| epoch   2 | 16500/162913 batches | loss    1.619 \n",
      "money: needed, amount, investment, financial, help, interest, tax, income, property, give\n",
      "lion: friend, inducted, daughter, golden, father, suicide, probably, him, sons, novel\n",
      "africa: south, asia, east, southern, america, europe, north, northern, india, african\n",
      "musician: singer, actor, actress, composer, american, writer, politician, nine, born, poet\n",
      "dance: music, musical, jazz, folk, hop, scene, pop, play, contemporary, electronic\n",
      "\n",
      "\n"
     ]
    },
    {
     "name": "stderr",
     "output_type": "stream",
     "text": [
      "17003it [18:21, 13.82it/s]"
     ]
    },
    {
     "name": "stdout",
     "output_type": "stream",
     "text": [
      "| epoch   2 | 17000/162913 batches | loss    1.617 \n",
      "money: needed, amount, investment, financial, help, interest, tax, income, property, give\n",
      "lion: friend, inducted, daughter, golden, father, suicide, probably, him, sons, novel\n",
      "africa: south, asia, east, southern, america, europe, north, northern, india, african\n",
      "musician: singer, actor, actress, composer, american, writer, politician, born, nine, poet\n",
      "dance: music, musical, jazz, folk, hop, scene, pop, play, electronic, contemporary\n",
      "\n",
      "\n"
     ]
    },
    {
     "name": "stderr",
     "output_type": "stream",
     "text": [
      "17503it [18:54, 13.94it/s]"
     ]
    },
    {
     "name": "stdout",
     "output_type": "stream",
     "text": [
      "| epoch   2 | 17500/162913 batches | loss    1.612 \n",
      "money: needed, amount, investment, financial, help, interest, tax, property, income, give\n",
      "lion: friend, inducted, daughter, golden, father, suicide, probably, him, sons, novel\n",
      "africa: south, asia, east, southern, america, europe, north, northern, india, african\n",
      "musician: singer, actor, actress, composer, american, writer, politician, born, nine, poet\n",
      "dance: music, musical, jazz, folk, hop, pop, scene, play, electronic, contemporary\n",
      "\n",
      "\n"
     ]
    },
    {
     "name": "stderr",
     "output_type": "stream",
     "text": [
      "18003it [19:26, 14.06it/s]"
     ]
    },
    {
     "name": "stdout",
     "output_type": "stream",
     "text": [
      "| epoch   2 | 18000/162913 batches | loss    1.617 \n",
      "money: needed, amount, investment, financial, help, interest, tax, income, give, property\n",
      "lion: friend, inducted, daughter, golden, father, suicide, probably, him, sons, novel\n",
      "africa: south, asia, east, southern, america, north, europe, northern, india, african\n",
      "musician: singer, actor, actress, composer, american, writer, politician, born, nine, poet\n",
      "dance: music, musical, jazz, folk, hop, pop, scene, play, electronic, contemporary\n",
      "\n",
      "\n"
     ]
    },
    {
     "name": "stderr",
     "output_type": "stream",
     "text": [
      "18503it [19:58, 13.93it/s]"
     ]
    },
    {
     "name": "stdout",
     "output_type": "stream",
     "text": [
      "| epoch   2 | 18500/162913 batches | loss    1.613 \n",
      "money: needed, amount, investment, financial, help, interest, tax, give, property, income\n",
      "lion: friend, inducted, daughter, golden, father, suicide, probably, him, sons, novel\n",
      "africa: south, asia, east, southern, america, north, europe, northern, india, african\n",
      "musician: singer, actor, actress, composer, american, writer, politician, born, nine, poet\n",
      "dance: music, musical, jazz, folk, hop, pop, scene, play, electronic, contemporary\n",
      "\n",
      "\n"
     ]
    },
    {
     "name": "stderr",
     "output_type": "stream",
     "text": [
      "19003it [20:31, 14.04it/s]"
     ]
    },
    {
     "name": "stdout",
     "output_type": "stream",
     "text": [
      "| epoch   2 | 19000/162913 batches | loss    1.615 \n",
      "money: needed, amount, investment, financial, help, interest, tax, income, give, property\n",
      "lion: friend, inducted, daughter, golden, father, suicide, probably, him, sons, novel\n",
      "africa: south, asia, east, southern, america, north, europe, northern, india, african\n",
      "musician: singer, actor, actress, composer, american, writer, politician, born, nine, poet\n",
      "dance: music, musical, jazz, folk, hop, pop, scene, play, electronic, contemporary\n",
      "\n",
      "\n"
     ]
    },
    {
     "name": "stderr",
     "output_type": "stream",
     "text": [
      "19503it [21:03, 14.17it/s]"
     ]
    },
    {
     "name": "stdout",
     "output_type": "stream",
     "text": [
      "| epoch   2 | 19500/162913 batches | loss    1.615 \n",
      "money: needed, amount, investment, financial, help, interest, tax, income, give, property\n",
      "lion: friend, inducted, daughter, golden, father, suicide, probably, him, sons, novel\n",
      "africa: south, asia, east, southern, america, north, europe, northern, india, african\n",
      "musician: singer, actor, actress, composer, american, writer, politician, born, nine, poet\n",
      "dance: music, musical, jazz, folk, hop, scene, pop, play, electronic, contemporary\n",
      "\n",
      "\n"
     ]
    },
    {
     "name": "stderr",
     "output_type": "stream",
     "text": [
      "20003it [21:36, 14.20it/s]"
     ]
    },
    {
     "name": "stdout",
     "output_type": "stream",
     "text": [
      "| epoch   2 | 20000/162913 batches | loss    1.613 \n",
      "money: needed, amount, investment, financial, help, interest, tax, income, give, property\n",
      "lion: friend, inducted, daughter, golden, father, suicide, probably, him, sons, novel\n",
      "africa: south, asia, east, southern, america, north, europe, northern, india, african\n",
      "musician: singer, actor, actress, composer, american, writer, politician, born, nine, poet\n",
      "dance: music, musical, jazz, folk, hop, pop, scene, play, electronic, contemporary\n",
      "\n",
      "\n"
     ]
    },
    {
     "name": "stderr",
     "output_type": "stream",
     "text": [
      "20503it [22:08, 14.12it/s]"
     ]
    },
    {
     "name": "stdout",
     "output_type": "stream",
     "text": [
      "| epoch   2 | 20500/162913 batches | loss    1.618 \n",
      "money: needed, amount, investment, financial, help, interest, tax, income, give, property\n",
      "lion: friend, inducted, daughter, golden, father, suicide, probably, him, sons, novel\n",
      "africa: south, asia, east, southern, america, europe, north, northern, india, african\n",
      "musician: singer, actor, actress, composer, american, writer, politician, born, nine, poet\n",
      "dance: music, musical, jazz, folk, hop, pop, scene, play, electronic, contemporary\n",
      "\n",
      "\n"
     ]
    },
    {
     "name": "stderr",
     "output_type": "stream",
     "text": [
      "21003it [22:40, 14.22it/s]"
     ]
    },
    {
     "name": "stdout",
     "output_type": "stream",
     "text": [
      "| epoch   2 | 21000/162913 batches | loss    1.614 \n",
      "money: needed, amount, investment, financial, help, interest, tax, income, property, give\n",
      "lion: friend, inducted, daughter, golden, father, suicide, probably, him, sons, westminster\n",
      "africa: south, asia, east, southern, america, north, europe, india, northern, african\n",
      "musician: singer, actor, actress, composer, american, writer, politician, born, nine, poet\n",
      "dance: music, musical, jazz, folk, hop, scene, pop, play, electronic, contemporary\n",
      "\n",
      "\n"
     ]
    },
    {
     "name": "stderr",
     "output_type": "stream",
     "text": [
      "21503it [23:12, 14.01it/s]"
     ]
    },
    {
     "name": "stdout",
     "output_type": "stream",
     "text": [
      "| epoch   2 | 21500/162913 batches | loss    1.620 \n",
      "money: needed, amount, investment, financial, help, interest, tax, income, property, give\n",
      "lion: friend, inducted, daughter, golden, father, suicide, probably, him, sons, westminster\n",
      "africa: south, asia, east, southern, america, europe, north, northern, india, african\n",
      "musician: singer, actor, actress, composer, american, writer, politician, born, nine, poet\n",
      "dance: music, musical, jazz, folk, hop, pop, scene, play, electronic, contemporary\n",
      "\n",
      "\n"
     ]
    },
    {
     "name": "stderr",
     "output_type": "stream",
     "text": [
      "22003it [23:44, 14.26it/s]"
     ]
    },
    {
     "name": "stdout",
     "output_type": "stream",
     "text": [
      "| epoch   2 | 22000/162913 batches | loss    1.617 \n",
      "money: needed, amount, investment, financial, help, interest, tax, for, income, property\n",
      "lion: friend, inducted, daughter, golden, father, suicide, probably, him, sons, westminster\n",
      "africa: south, asia, east, southern, america, europe, north, india, northern, african\n",
      "musician: singer, actor, actress, composer, american, writer, politician, born, nine, poet\n",
      "dance: music, musical, jazz, folk, hop, pop, scene, play, electronic, contemporary\n",
      "\n",
      "\n"
     ]
    },
    {
     "name": "stderr",
     "output_type": "stream",
     "text": [
      "22503it [24:16, 14.07it/s]"
     ]
    },
    {
     "name": "stdout",
     "output_type": "stream",
     "text": [
      "| epoch   2 | 22500/162913 batches | loss    1.619 \n",
      "money: needed, amount, investment, financial, help, interest, tax, income, for, property\n",
      "lion: friend, inducted, daughter, golden, father, suicide, probably, him, sons, novel\n",
      "africa: south, asia, east, southern, america, north, europe, northern, india, african\n",
      "musician: singer, actor, actress, composer, american, writer, politician, born, nine, poet\n",
      "dance: music, musical, jazz, folk, hop, pop, scene, play, electronic, contemporary\n",
      "\n",
      "\n"
     ]
    },
    {
     "name": "stderr",
     "output_type": "stream",
     "text": [
      "23003it [24:49, 14.13it/s]"
     ]
    },
    {
     "name": "stdout",
     "output_type": "stream",
     "text": [
      "| epoch   2 | 23000/162913 batches | loss    1.616 \n",
      "money: needed, amount, investment, financial, help, interest, tax, for, income, property\n",
      "lion: friend, inducted, daughter, golden, father, suicide, probably, him, sons, westminster\n",
      "africa: south, asia, east, southern, america, north, europe, northern, india, african\n",
      "musician: singer, actor, actress, composer, american, writer, politician, nine, born, poet\n",
      "dance: music, musical, jazz, folk, hop, pop, scene, play, electronic, contemporary\n",
      "\n",
      "\n"
     ]
    },
    {
     "name": "stderr",
     "output_type": "stream",
     "text": [
      "23503it [25:21, 13.97it/s]"
     ]
    },
    {
     "name": "stdout",
     "output_type": "stream",
     "text": [
      "| epoch   2 | 23500/162913 batches | loss    1.618 \n",
      "money: needed, amount, investment, financial, help, interest, tax, income, property, give\n",
      "lion: friend, inducted, daughter, golden, father, suicide, probably, him, sons, westminster\n",
      "africa: south, asia, east, southern, america, north, europe, northern, india, african\n",
      "musician: singer, actor, actress, composer, american, writer, politician, born, nine, poet\n",
      "dance: music, musical, jazz, folk, hop, pop, scene, play, electronic, contemporary\n",
      "\n",
      "\n"
     ]
    },
    {
     "name": "stderr",
     "output_type": "stream",
     "text": [
      "24003it [25:54, 13.85it/s]"
     ]
    },
    {
     "name": "stdout",
     "output_type": "stream",
     "text": [
      "| epoch   2 | 24000/162913 batches | loss    1.612 \n",
      "money: needed, amount, investment, financial, help, interest, tax, income, property, give\n",
      "lion: friend, inducted, daughter, golden, father, suicide, probably, him, sons, westminster\n",
      "africa: south, asia, east, southern, america, north, europe, northern, india, african\n",
      "musician: singer, actor, actress, composer, american, writer, politician, nine, born, poet\n",
      "dance: music, musical, jazz, folk, hop, pop, scene, play, electronic, contemporary\n",
      "\n",
      "\n"
     ]
    },
    {
     "name": "stderr",
     "output_type": "stream",
     "text": [
      "24503it [26:26, 14.02it/s]"
     ]
    },
    {
     "name": "stdout",
     "output_type": "stream",
     "text": [
      "| epoch   2 | 24500/162913 batches | loss    1.615 \n",
      "money: needed, amount, investment, financial, help, interest, tax, income, property, give\n",
      "lion: friend, inducted, daughter, golden, father, suicide, probably, him, sons, novel\n",
      "africa: south, asia, east, southern, america, europe, north, northern, india, african\n",
      "musician: singer, actor, actress, composer, american, writer, politician, nine, born, poet\n",
      "dance: music, musical, jazz, folk, hop, pop, scene, play, contemporary, electronic\n",
      "\n",
      "\n"
     ]
    },
    {
     "name": "stderr",
     "output_type": "stream",
     "text": [
      "25003it [26:59, 14.04it/s]"
     ]
    },
    {
     "name": "stdout",
     "output_type": "stream",
     "text": [
      "| epoch   2 | 25000/162913 batches | loss    1.616 \n",
      "money: amount, needed, investment, financial, help, interest, tax, income, property, give\n",
      "lion: friend, inducted, daughter, golden, father, suicide, probably, him, sons, novel\n",
      "africa: south, asia, east, southern, america, europe, north, northern, india, african\n",
      "musician: singer, actor, actress, composer, american, writer, politician, nine, born, poet\n",
      "dance: music, musical, jazz, folk, hop, pop, play, scene, electronic, contemporary\n",
      "\n",
      "\n"
     ]
    },
    {
     "name": "stderr",
     "output_type": "stream",
     "text": [
      "25503it [27:31, 14.19it/s]"
     ]
    },
    {
     "name": "stdout",
     "output_type": "stream",
     "text": [
      "| epoch   2 | 25500/162913 batches | loss    1.613 \n",
      "money: amount, needed, investment, financial, help, interest, tax, income, property, give\n",
      "lion: friend, inducted, daughter, golden, father, suicide, probably, him, sons, novel\n",
      "africa: south, asia, east, southern, america, europe, north, northern, india, african\n",
      "musician: singer, actor, actress, composer, american, writer, politician, nine, born, poet\n",
      "dance: music, musical, jazz, folk, hop, pop, play, scene, contemporary, electronic\n",
      "\n",
      "\n"
     ]
    },
    {
     "name": "stderr",
     "output_type": "stream",
     "text": [
      "26003it [28:03, 14.13it/s]"
     ]
    },
    {
     "name": "stdout",
     "output_type": "stream",
     "text": [
      "| epoch   2 | 26000/162913 batches | loss    1.620 \n",
      "money: needed, amount, investment, financial, help, interest, tax, income, property, give\n",
      "lion: friend, inducted, daughter, golden, father, suicide, probably, him, sons, novel\n",
      "africa: south, asia, east, southern, america, europe, north, india, northern, african\n",
      "musician: singer, actor, actress, composer, american, writer, politician, born, nine, poet\n",
      "dance: music, musical, jazz, folk, hop, pop, play, scene, contemporary, electronic\n",
      "\n",
      "\n"
     ]
    },
    {
     "name": "stderr",
     "output_type": "stream",
     "text": [
      "26503it [28:35, 14.07it/s]"
     ]
    },
    {
     "name": "stdout",
     "output_type": "stream",
     "text": [
      "| epoch   2 | 26500/162913 batches | loss    1.616 \n",
      "money: needed, amount, investment, financial, help, interest, tax, income, property, give\n",
      "lion: friend, inducted, daughter, golden, father, suicide, probably, him, sons, novel\n",
      "africa: south, asia, east, southern, america, europe, north, india, northern, african\n",
      "musician: singer, actor, actress, composer, american, writer, politician, born, nine, poet\n",
      "dance: music, musical, jazz, folk, hop, pop, play, scene, contemporary, electronic\n",
      "\n",
      "\n"
     ]
    },
    {
     "name": "stderr",
     "output_type": "stream",
     "text": [
      "27003it [29:08, 14.27it/s]"
     ]
    },
    {
     "name": "stdout",
     "output_type": "stream",
     "text": [
      "| epoch   2 | 27000/162913 batches | loss    1.616 \n",
      "money: needed, amount, investment, financial, help, interest, tax, income, property, give\n",
      "lion: friend, inducted, daughter, golden, father, suicide, probably, him, sons, novel\n",
      "africa: south, asia, east, southern, europe, america, north, india, northern, african\n",
      "musician: singer, actor, actress, composer, american, writer, politician, born, nine, poet\n",
      "dance: music, musical, jazz, folk, hop, pop, play, scene, contemporary, electronic\n",
      "\n",
      "\n"
     ]
    },
    {
     "name": "stderr",
     "output_type": "stream",
     "text": [
      "27501it [29:40, 13.12it/s]"
     ]
    },
    {
     "name": "stdout",
     "output_type": "stream",
     "text": [
      "| epoch   2 | 27500/162913 batches | loss    1.618 \n",
      "money: needed, amount, investment, financial, help, interest, tax, income, property, give\n",
      "lion: friend, inducted, daughter, golden, father, suicide, probably, him, sons, novel\n",
      "africa: south, asia, east, southern, europe, america, north, india, northern, african\n",
      "musician: singer, actor, actress, composer, american, writer, politician, born, nine, poet\n",
      "dance: music, musical, jazz, folk, hop, pop, play, scene, contemporary, electronic\n",
      "\n",
      "\n"
     ]
    },
    {
     "name": "stderr",
     "output_type": "stream",
     "text": [
      "28003it [30:12, 14.03it/s]"
     ]
    },
    {
     "name": "stdout",
     "output_type": "stream",
     "text": [
      "| epoch   2 | 28000/162913 batches | loss    1.615 \n",
      "money: needed, amount, investment, financial, help, interest, tax, income, property, give\n",
      "lion: friend, inducted, daughter, golden, father, suicide, probably, him, sons, novel\n",
      "africa: south, asia, east, southern, europe, america, north, india, northern, african\n",
      "musician: singer, actor, actress, composer, american, writer, politician, born, nine, poet\n",
      "dance: music, musical, jazz, folk, hop, pop, play, scene, electronic, contemporary\n",
      "\n",
      "\n"
     ]
    },
    {
     "name": "stderr",
     "output_type": "stream",
     "text": [
      "28503it [30:45, 14.03it/s]"
     ]
    },
    {
     "name": "stdout",
     "output_type": "stream",
     "text": [
      "| epoch   2 | 28500/162913 batches | loss    1.614 \n",
      "money: needed, amount, investment, financial, help, interest, tax, income, give, property\n",
      "lion: friend, inducted, daughter, golden, father, suicide, probably, him, sons, novel\n",
      "africa: south, asia, east, southern, america, europe, north, india, northern, african\n",
      "musician: singer, actor, actress, composer, american, writer, politician, born, nine, poet\n",
      "dance: music, musical, jazz, folk, hop, pop, scene, play, electronic, contemporary\n",
      "\n",
      "\n"
     ]
    },
    {
     "name": "stderr",
     "output_type": "stream",
     "text": [
      "29003it [31:17, 14.33it/s]"
     ]
    },
    {
     "name": "stdout",
     "output_type": "stream",
     "text": [
      "| epoch   2 | 29000/162913 batches | loss    1.613 \n",
      "money: needed, amount, investment, financial, help, interest, tax, income, property, give\n",
      "lion: friend, inducted, daughter, golden, father, suicide, probably, him, sons, novel\n",
      "africa: south, asia, east, southern, america, europe, north, india, northern, african\n",
      "musician: singer, actor, actress, composer, american, writer, politician, born, nine, poet\n",
      "dance: music, musical, jazz, folk, hop, pop, play, scene, electronic, contemporary\n",
      "\n",
      "\n"
     ]
    },
    {
     "name": "stderr",
     "output_type": "stream",
     "text": [
      "29503it [31:49, 14.14it/s]"
     ]
    },
    {
     "name": "stdout",
     "output_type": "stream",
     "text": [
      "| epoch   2 | 29500/162913 batches | loss    1.615 \n",
      "money: needed, amount, investment, financial, help, interest, tax, income, property, give\n",
      "lion: friend, inducted, daughter, golden, father, suicide, probably, him, sons, novel\n",
      "africa: south, asia, east, southern, america, north, europe, india, northern, african\n",
      "musician: singer, actor, actress, composer, american, writer, politician, born, nine, poet\n",
      "dance: music, musical, jazz, folk, hop, pop, play, scene, electronic, contemporary\n",
      "\n",
      "\n"
     ]
    },
    {
     "name": "stderr",
     "output_type": "stream",
     "text": [
      "30003it [32:22, 14.01it/s]"
     ]
    },
    {
     "name": "stdout",
     "output_type": "stream",
     "text": [
      "| epoch   2 | 30000/162913 batches | loss    1.616 \n",
      "money: needed, amount, investment, financial, help, interest, tax, income, property, give\n",
      "lion: friend, daughter, inducted, golden, father, suicide, probably, him, sons, novel\n",
      "africa: south, asia, east, southern, america, north, europe, india, northern, african\n",
      "musician: singer, actor, actress, composer, american, writer, politician, born, nine, poet\n",
      "dance: music, musical, jazz, folk, hop, pop, play, scene, electronic, contemporary\n",
      "\n",
      "\n"
     ]
    },
    {
     "name": "stderr",
     "output_type": "stream",
     "text": [
      "30503it [32:55, 13.86it/s]"
     ]
    },
    {
     "name": "stdout",
     "output_type": "stream",
     "text": [
      "| epoch   2 | 30500/162913 batches | loss    1.612 \n",
      "money: needed, amount, investment, financial, help, interest, tax, income, property, give\n",
      "lion: friend, daughter, inducted, golden, father, suicide, probably, him, sons, novel\n",
      "africa: south, asia, east, southern, america, europe, north, india, northern, african\n",
      "musician: singer, actor, actress, composer, american, writer, politician, born, poet, nine\n",
      "dance: music, musical, jazz, folk, hop, pop, play, scene, electronic, contemporary\n",
      "\n",
      "\n"
     ]
    },
    {
     "name": "stderr",
     "output_type": "stream",
     "text": [
      "31003it [33:27, 13.74it/s]"
     ]
    },
    {
     "name": "stdout",
     "output_type": "stream",
     "text": [
      "| epoch   2 | 31000/162913 batches | loss    1.615 \n",
      "money: needed, amount, investment, financial, help, interest, tax, income, property, give\n",
      "lion: friend, inducted, daughter, golden, father, suicide, probably, him, sons, novel\n",
      "africa: south, asia, east, southern, america, north, europe, india, northern, african\n",
      "musician: singer, actor, actress, composer, american, writer, politician, born, nine, poet\n",
      "dance: music, musical, jazz, folk, hop, pop, play, scene, electronic, contemporary\n",
      "\n",
      "\n"
     ]
    },
    {
     "name": "stderr",
     "output_type": "stream",
     "text": [
      "31503it [34:00, 14.01it/s]"
     ]
    },
    {
     "name": "stdout",
     "output_type": "stream",
     "text": [
      "| epoch   2 | 31500/162913 batches | loss    1.616 \n",
      "money: needed, amount, investment, financial, help, interest, tax, income, property, give\n",
      "lion: friend, daughter, inducted, golden, father, suicide, probably, him, sons, novel\n",
      "africa: south, asia, east, southern, america, north, europe, india, northern, african\n",
      "musician: singer, actor, actress, composer, american, writer, politician, born, nine, poet\n",
      "dance: music, musical, jazz, folk, hop, pop, play, scene, electronic, contemporary\n",
      "\n",
      "\n"
     ]
    },
    {
     "name": "stderr",
     "output_type": "stream",
     "text": [
      "32003it [34:32, 13.91it/s]"
     ]
    },
    {
     "name": "stdout",
     "output_type": "stream",
     "text": [
      "| epoch   2 | 32000/162913 batches | loss    1.616 \n",
      "money: needed, amount, investment, financial, help, interest, tax, income, property, give\n",
      "lion: friend, daughter, inducted, golden, father, suicide, probably, him, sons, novel\n",
      "africa: south, asia, east, southern, north, america, india, europe, northern, african\n",
      "musician: singer, actor, actress, composer, american, writer, politician, born, nine, poet\n",
      "dance: music, musical, jazz, folk, hop, pop, play, scene, electronic, contemporary\n",
      "\n",
      "\n"
     ]
    },
    {
     "name": "stderr",
     "output_type": "stream",
     "text": [
      "32503it [35:04, 13.86it/s]"
     ]
    },
    {
     "name": "stdout",
     "output_type": "stream",
     "text": [
      "| epoch   2 | 32500/162913 batches | loss    1.618 \n",
      "money: needed, amount, investment, financial, help, interest, tax, income, property, give\n",
      "lion: friend, daughter, inducted, golden, father, suicide, probably, him, sons, novel\n",
      "africa: south, asia, east, southern, north, america, europe, india, northern, african\n",
      "musician: singer, actor, actress, composer, american, writer, politician, born, nine, poet\n",
      "dance: music, musical, jazz, folk, hop, pop, scene, play, electronic, contemporary\n",
      "\n",
      "\n"
     ]
    },
    {
     "name": "stderr",
     "output_type": "stream",
     "text": [
      "33003it [35:37, 13.54it/s]"
     ]
    },
    {
     "name": "stdout",
     "output_type": "stream",
     "text": [
      "| epoch   2 | 33000/162913 batches | loss    1.614 \n",
      "money: needed, amount, investment, financial, help, interest, tax, income, property, give\n",
      "lion: friend, daughter, inducted, golden, father, suicide, probably, him, sons, novel\n",
      "africa: south, asia, east, southern, north, europe, america, india, northern, african\n",
      "musician: singer, actor, actress, composer, american, writer, politician, born, nine, poet\n",
      "dance: music, musical, jazz, folk, hop, pop, scene, play, electronic, contemporary\n",
      "\n",
      "\n"
     ]
    },
    {
     "name": "stderr",
     "output_type": "stream",
     "text": [
      "33503it [36:09, 14.18it/s]"
     ]
    },
    {
     "name": "stdout",
     "output_type": "stream",
     "text": [
      "| epoch   2 | 33500/162913 batches | loss    1.618 \n",
      "money: needed, amount, investment, financial, help, interest, tax, income, for, property\n",
      "lion: friend, daughter, inducted, golden, father, suicide, probably, him, sons, novel\n",
      "africa: south, asia, east, southern, europe, north, america, india, northern, african\n",
      "musician: singer, actor, actress, composer, american, writer, politician, born, nine, poet\n",
      "dance: music, musical, jazz, folk, hop, pop, scene, play, electronic, contemporary\n",
      "\n",
      "\n"
     ]
    },
    {
     "name": "stderr",
     "output_type": "stream",
     "text": [
      "34003it [36:41, 14.05it/s]"
     ]
    },
    {
     "name": "stdout",
     "output_type": "stream",
     "text": [
      "| epoch   2 | 34000/162913 batches | loss    1.616 \n",
      "money: needed, amount, investment, financial, help, interest, tax, income, property, for\n",
      "lion: friend, daughter, inducted, golden, father, suicide, probably, him, sons, novel\n",
      "africa: south, asia, east, southern, europe, north, india, america, northern, african\n",
      "musician: singer, actor, actress, composer, american, writer, politician, born, nine, poet\n",
      "dance: music, musical, jazz, folk, hop, pop, scene, play, electronic, contemporary\n",
      "\n",
      "\n"
     ]
    },
    {
     "name": "stderr",
     "output_type": "stream",
     "text": [
      "34503it [37:14, 14.13it/s]"
     ]
    },
    {
     "name": "stdout",
     "output_type": "stream",
     "text": [
      "| epoch   2 | 34500/162913 batches | loss    1.617 \n",
      "money: needed, amount, investment, financial, help, interest, tax, income, property, for\n",
      "lion: friend, inducted, daughter, golden, father, suicide, probably, him, sons, novel\n",
      "africa: south, asia, east, southern, europe, india, north, america, northern, african\n",
      "musician: singer, actor, actress, composer, american, writer, politician, born, nine, poet\n",
      "dance: music, musical, jazz, folk, hop, pop, play, scene, electronic, contemporary\n",
      "\n",
      "\n"
     ]
    },
    {
     "name": "stderr",
     "output_type": "stream",
     "text": [
      "35003it [37:46, 14.20it/s]"
     ]
    },
    {
     "name": "stdout",
     "output_type": "stream",
     "text": [
      "| epoch   2 | 35000/162913 batches | loss    1.615 \n",
      "money: needed, amount, investment, financial, help, interest, tax, income, property, for\n",
      "lion: friend, daughter, inducted, golden, father, suicide, probably, him, sons, novel\n",
      "africa: south, asia, east, southern, europe, india, north, america, northern, african\n",
      "musician: singer, actor, actress, composer, american, writer, politician, born, nine, poet\n",
      "dance: music, musical, jazz, folk, hop, pop, play, scene, electronic, contemporary\n",
      "\n",
      "\n"
     ]
    },
    {
     "name": "stderr",
     "output_type": "stream",
     "text": [
      "35503it [38:18, 14.01it/s]"
     ]
    },
    {
     "name": "stdout",
     "output_type": "stream",
     "text": [
      "| epoch   2 | 35500/162913 batches | loss    1.615 \n",
      "money: needed, amount, investment, financial, help, interest, tax, income, property, for\n",
      "lion: friend, daughter, inducted, golden, father, suicide, probably, him, sons, novel\n",
      "africa: south, asia, east, southern, north, europe, india, america, northern, african\n",
      "musician: singer, actor, actress, composer, american, writer, politician, born, nine, poet\n",
      "dance: music, musical, jazz, folk, hop, pop, play, scene, electronic, contemporary\n",
      "\n",
      "\n"
     ]
    },
    {
     "name": "stderr",
     "output_type": "stream",
     "text": [
      "36003it [38:51, 13.99it/s]"
     ]
    },
    {
     "name": "stdout",
     "output_type": "stream",
     "text": [
      "| epoch   2 | 36000/162913 batches | loss    1.612 \n",
      "money: needed, amount, investment, financial, help, interest, tax, income, property, for\n",
      "lion: friend, daughter, inducted, golden, father, suicide, probably, him, sons, novel\n",
      "africa: south, asia, east, southern, north, america, europe, india, northern, african\n",
      "musician: singer, actor, actress, composer, american, writer, politician, born, nine, poet\n",
      "dance: music, musical, jazz, folk, hop, pop, play, scene, electronic, contemporary\n",
      "\n",
      "\n"
     ]
    },
    {
     "name": "stderr",
     "output_type": "stream",
     "text": [
      "36503it [39:23, 14.06it/s]"
     ]
    },
    {
     "name": "stdout",
     "output_type": "stream",
     "text": [
      "| epoch   2 | 36500/162913 batches | loss    1.615 \n",
      "money: needed, amount, investment, financial, help, interest, tax, income, property, attention\n",
      "lion: friend, daughter, inducted, golden, father, suicide, probably, sons, him, novel\n",
      "africa: south, asia, east, southern, north, america, europe, india, northern, african\n",
      "musician: singer, actor, actress, composer, american, writer, politician, born, nine, poet\n",
      "dance: music, musical, jazz, folk, hop, pop, play, scene, electronic, contemporary\n",
      "\n",
      "\n"
     ]
    },
    {
     "name": "stderr",
     "output_type": "stream",
     "text": [
      "37003it [39:56, 14.05it/s]"
     ]
    },
    {
     "name": "stdout",
     "output_type": "stream",
     "text": [
      "| epoch   2 | 37000/162913 batches | loss    1.612 \n",
      "money: needed, amount, investment, financial, help, interest, tax, income, property, attention\n",
      "lion: friend, daughter, inducted, golden, father, suicide, probably, sons, him, novel\n",
      "africa: south, asia, east, southern, north, america, europe, india, northern, african\n",
      "musician: singer, actor, actress, composer, american, writer, politician, born, nine, poet\n",
      "dance: music, musical, jazz, folk, hop, pop, play, scene, electronic, contemporary\n",
      "\n",
      "\n"
     ]
    },
    {
     "name": "stderr",
     "output_type": "stream",
     "text": [
      "37503it [40:28, 14.23it/s]"
     ]
    },
    {
     "name": "stdout",
     "output_type": "stream",
     "text": [
      "| epoch   2 | 37500/162913 batches | loss    1.615 \n",
      "money: needed, amount, investment, financial, help, interest, tax, income, property, attention\n",
      "lion: friend, daughter, inducted, golden, father, suicide, probably, sons, him, novel\n",
      "africa: south, asia, east, southern, north, america, europe, india, northern, african\n",
      "musician: singer, actor, actress, composer, american, writer, politician, born, nine, poet\n",
      "dance: music, musical, jazz, folk, hop, pop, play, scene, electronic, contemporary\n",
      "\n",
      "\n"
     ]
    },
    {
     "name": "stderr",
     "output_type": "stream",
     "text": [
      "38003it [41:00, 14.16it/s]"
     ]
    },
    {
     "name": "stdout",
     "output_type": "stream",
     "text": [
      "| epoch   2 | 38000/162913 batches | loss    1.617 \n",
      "money: needed, amount, investment, financial, help, interest, income, tax, property, attention\n",
      "lion: friend, daughter, inducted, golden, father, suicide, probably, sons, him, novel\n",
      "africa: south, asia, east, southern, north, america, europe, india, northern, african\n",
      "musician: singer, actor, actress, composer, american, writer, politician, nine, born, poet\n",
      "dance: music, musical, jazz, folk, hop, pop, play, scene, electronic, contemporary\n",
      "\n",
      "\n"
     ]
    },
    {
     "name": "stderr",
     "output_type": "stream",
     "text": [
      "38503it [41:32, 13.96it/s]"
     ]
    },
    {
     "name": "stdout",
     "output_type": "stream",
     "text": [
      "| epoch   2 | 38500/162913 batches | loss    1.613 \n",
      "money: needed, amount, investment, financial, help, interest, tax, income, property, attention\n",
      "lion: friend, inducted, daughter, golden, father, suicide, probably, him, sons, novel\n",
      "africa: south, asia, east, southern, north, america, europe, india, northern, african\n",
      "musician: singer, actor, actress, composer, american, writer, politician, nine, born, poet\n",
      "dance: music, musical, jazz, folk, hop, pop, scene, play, electronic, contemporary\n",
      "\n",
      "\n"
     ]
    },
    {
     "name": "stderr",
     "output_type": "stream",
     "text": [
      "39003it [42:06, 14.07it/s]"
     ]
    },
    {
     "name": "stdout",
     "output_type": "stream",
     "text": [
      "| epoch   2 | 39000/162913 batches | loss    1.613 \n",
      "money: needed, amount, investment, financial, help, interest, tax, income, property, attention\n",
      "lion: friend, inducted, daughter, golden, father, suicide, probably, sons, him, westminster\n",
      "africa: south, asia, east, southern, north, europe, america, india, northern, african\n",
      "musician: singer, actor, actress, composer, american, writer, politician, nine, born, poet\n",
      "dance: music, musical, jazz, folk, hop, pop, scene, play, contemporary, electronic\n",
      "\n",
      "\n"
     ]
    },
    {
     "name": "stderr",
     "output_type": "stream",
     "text": [
      "39503it [42:39, 13.81it/s]"
     ]
    },
    {
     "name": "stdout",
     "output_type": "stream",
     "text": [
      "| epoch   2 | 39500/162913 batches | loss    1.609 \n",
      "money: needed, amount, investment, financial, help, interest, tax, income, property, attention\n",
      "lion: friend, inducted, daughter, golden, father, suicide, probably, sons, him, novel\n",
      "africa: south, asia, east, southern, america, north, europe, india, northern, african\n",
      "musician: singer, actor, actress, composer, american, writer, politician, nine, born, poet\n",
      "dance: music, musical, jazz, folk, hop, pop, scene, play, contemporary, electronic\n",
      "\n",
      "\n"
     ]
    },
    {
     "name": "stderr",
     "output_type": "stream",
     "text": [
      "40003it [43:12, 13.71it/s]"
     ]
    },
    {
     "name": "stdout",
     "output_type": "stream",
     "text": [
      "| epoch   2 | 40000/162913 batches | loss    1.614 \n",
      "money: needed, amount, investment, financial, help, interest, tax, income, property, attention\n",
      "lion: friend, inducted, daughter, golden, father, suicide, probably, him, sons, novel\n",
      "africa: south, asia, east, southern, america, north, india, europe, northern, african\n",
      "musician: singer, actor, actress, composer, american, writer, politician, nine, born, poet\n",
      "dance: music, musical, jazz, folk, hop, pop, scene, play, contemporary, electronic\n",
      "\n",
      "\n"
     ]
    },
    {
     "name": "stderr",
     "output_type": "stream",
     "text": [
      "40501it [43:45, 12.06it/s]"
     ]
    },
    {
     "name": "stdout",
     "output_type": "stream",
     "text": [
      "| epoch   2 | 40500/162913 batches | loss    1.613 \n",
      "money: needed, amount, investment, financial, help, interest, tax, income, property, attention\n",
      "lion: friend, inducted, daughter, golden, father, suicide, probably, him, sons, westminster\n",
      "africa: south, asia, east, southern, north, india, america, europe, northern, african\n",
      "musician: singer, actor, actress, composer, american, writer, politician, nine, born, poet\n",
      "dance: music, musical, jazz, folk, hop, pop, scene, play, contemporary, electronic\n",
      "\n",
      "\n"
     ]
    },
    {
     "name": "stderr",
     "output_type": "stream",
     "text": [
      "41003it [44:19, 13.85it/s]"
     ]
    },
    {
     "name": "stdout",
     "output_type": "stream",
     "text": [
      "| epoch   2 | 41000/162913 batches | loss    1.611 \n",
      "money: needed, amount, investment, financial, help, interest, tax, income, property, attention\n",
      "lion: friend, inducted, daughter, golden, father, suicide, probably, him, sons, westminster\n",
      "africa: south, asia, east, southern, north, india, europe, america, northern, african\n",
      "musician: singer, actor, actress, composer, american, writer, politician, nine, born, poet\n",
      "dance: music, musical, jazz, folk, hop, pop, scene, play, contemporary, electronic\n",
      "\n",
      "\n"
     ]
    },
    {
     "name": "stderr",
     "output_type": "stream",
     "text": [
      "41503it [44:52, 13.81it/s]"
     ]
    },
    {
     "name": "stdout",
     "output_type": "stream",
     "text": [
      "| epoch   2 | 41500/162913 batches | loss    1.614 \n",
      "money: needed, amount, investment, financial, help, interest, tax, income, property, attention\n",
      "lion: friend, inducted, daughter, golden, father, suicide, probably, him, sons, westminster\n",
      "africa: south, asia, east, southern, north, india, europe, america, northern, african\n",
      "musician: singer, actor, actress, composer, american, writer, politician, born, nine, poet\n",
      "dance: music, musical, jazz, folk, hop, pop, scene, play, contemporary, electronic\n",
      "\n",
      "\n"
     ]
    },
    {
     "name": "stderr",
     "output_type": "stream",
     "text": [
      "42003it [45:24, 14.01it/s]"
     ]
    },
    {
     "name": "stdout",
     "output_type": "stream",
     "text": [
      "| epoch   2 | 42000/162913 batches | loss    1.618 \n",
      "money: needed, amount, investment, financial, help, interest, tax, income, property, attention\n",
      "lion: friend, inducted, daughter, golden, father, suicide, probably, sons, him, novel\n",
      "africa: south, asia, east, southern, north, india, europe, america, northern, african\n",
      "musician: singer, actor, actress, composer, american, writer, politician, nine, born, poet\n",
      "dance: music, musical, jazz, folk, hop, pop, scene, play, contemporary, electronic\n",
      "\n",
      "\n"
     ]
    },
    {
     "name": "stderr",
     "output_type": "stream",
     "text": [
      "42503it [45:56, 14.06it/s]"
     ]
    },
    {
     "name": "stdout",
     "output_type": "stream",
     "text": [
      "| epoch   2 | 42500/162913 batches | loss    1.612 \n",
      "money: needed, amount, investment, financial, help, interest, tax, income, property, attention\n",
      "lion: friend, inducted, daughter, golden, father, suicide, probably, sons, him, novel\n",
      "africa: south, asia, east, southern, north, india, europe, america, northern, african\n",
      "musician: singer, actor, actress, composer, american, writer, politician, born, nine, poet\n",
      "dance: music, musical, jazz, folk, hop, pop, scene, play, contemporary, electronic\n",
      "\n",
      "\n"
     ]
    },
    {
     "name": "stderr",
     "output_type": "stream",
     "text": [
      "43003it [46:29, 14.01it/s]"
     ]
    },
    {
     "name": "stdout",
     "output_type": "stream",
     "text": [
      "| epoch   2 | 43000/162913 batches | loss    1.615 \n",
      "money: needed, amount, investment, financial, help, interest, tax, income, property, attention\n",
      "lion: friend, inducted, daughter, golden, father, suicide, probably, him, sons, novel\n",
      "africa: south, asia, east, southern, north, india, america, europe, northern, african\n",
      "musician: singer, actor, actress, composer, american, writer, politician, nine, born, poet\n",
      "dance: music, musical, jazz, folk, hop, pop, scene, play, contemporary, electronic\n",
      "\n",
      "\n"
     ]
    },
    {
     "name": "stderr",
     "output_type": "stream",
     "text": [
      "43503it [47:01, 14.13it/s]"
     ]
    },
    {
     "name": "stdout",
     "output_type": "stream",
     "text": [
      "| epoch   2 | 43500/162913 batches | loss    1.613 \n",
      "money: needed, amount, investment, financial, help, interest, tax, income, property, attention\n",
      "lion: friend, inducted, daughter, golden, father, suicide, probably, him, sons, novel\n",
      "africa: south, asia, east, southern, north, india, america, europe, northern, african\n",
      "musician: singer, actor, actress, composer, american, writer, politician, born, nine, poet\n",
      "dance: music, musical, jazz, folk, hop, pop, scene, play, contemporary, electronic\n",
      "\n",
      "\n"
     ]
    },
    {
     "name": "stderr",
     "output_type": "stream",
     "text": [
      "44003it [47:33, 14.16it/s]"
     ]
    },
    {
     "name": "stdout",
     "output_type": "stream",
     "text": [
      "| epoch   2 | 44000/162913 batches | loss    1.616 \n",
      "money: needed, amount, investment, financial, help, interest, tax, income, property, attention\n",
      "lion: friend, inducted, daughter, golden, father, suicide, probably, him, sons, novel\n",
      "africa: south, asia, east, southern, north, india, europe, america, northern, african\n",
      "musician: singer, actor, actress, composer, american, writer, politician, born, nine, poet\n",
      "dance: music, musical, jazz, folk, hop, pop, scene, play, contemporary, electronic\n",
      "\n",
      "\n"
     ]
    },
    {
     "name": "stderr",
     "output_type": "stream",
     "text": [
      "44503it [48:05, 14.04it/s]"
     ]
    },
    {
     "name": "stdout",
     "output_type": "stream",
     "text": [
      "| epoch   2 | 44500/162913 batches | loss    1.613 \n",
      "money: needed, amount, investment, financial, help, interest, tax, income, property, attention\n",
      "lion: friend, inducted, daughter, golden, father, suicide, probably, him, sons, novel\n",
      "africa: south, asia, east, southern, north, india, america, europe, northern, african\n",
      "musician: singer, actor, actress, composer, american, writer, politician, born, nine, poet\n",
      "dance: music, musical, jazz, folk, hop, pop, scene, play, contemporary, electronic\n",
      "\n",
      "\n"
     ]
    },
    {
     "name": "stderr",
     "output_type": "stream",
     "text": [
      "45003it [48:37, 14.01it/s]"
     ]
    },
    {
     "name": "stdout",
     "output_type": "stream",
     "text": [
      "| epoch   2 | 45000/162913 batches | loss    1.611 \n",
      "money: needed, amount, investment, financial, help, interest, tax, income, give, property\n",
      "lion: friend, inducted, daughter, golden, father, suicide, him, probably, sons, woman\n",
      "africa: south, asia, east, southern, north, europe, india, america, northern, african\n",
      "musician: singer, actor, actress, composer, american, writer, politician, born, nine, poet\n",
      "dance: music, musical, jazz, folk, hop, pop, scene, play, contemporary, electronic\n",
      "\n",
      "\n"
     ]
    },
    {
     "name": "stderr",
     "output_type": "stream",
     "text": [
      "45503it [49:09, 14.18it/s]"
     ]
    },
    {
     "name": "stdout",
     "output_type": "stream",
     "text": [
      "| epoch   2 | 45500/162913 batches | loss    1.619 \n",
      "money: needed, amount, investment, financial, help, interest, tax, income, give, property\n",
      "lion: friend, inducted, daughter, golden, father, suicide, probably, him, sons, woman\n",
      "africa: south, asia, east, southern, north, europe, india, america, northern, african\n",
      "musician: singer, actor, actress, composer, american, writer, politician, born, nine, poet\n",
      "dance: music, musical, jazz, folk, hop, pop, scene, play, contemporary, electronic\n",
      "\n",
      "\n"
     ]
    },
    {
     "name": "stderr",
     "output_type": "stream",
     "text": [
      "46003it [49:42, 13.89it/s]"
     ]
    },
    {
     "name": "stdout",
     "output_type": "stream",
     "text": [
      "| epoch   2 | 46000/162913 batches | loss    1.612 \n",
      "money: needed, amount, investment, financial, help, interest, tax, income, give, property\n",
      "lion: friend, inducted, daughter, golden, father, suicide, probably, him, sons, woman\n",
      "africa: south, asia, east, southern, north, europe, india, america, northern, african\n",
      "musician: singer, actor, actress, composer, american, writer, politician, born, nine, poet\n",
      "dance: music, musical, jazz, folk, hop, pop, scene, play, contemporary, electronic\n",
      "\n",
      "\n"
     ]
    },
    {
     "name": "stderr",
     "output_type": "stream",
     "text": [
      "46503it [50:14, 14.18it/s]"
     ]
    },
    {
     "name": "stdout",
     "output_type": "stream",
     "text": [
      "| epoch   2 | 46500/162913 batches | loss    1.610 \n",
      "money: needed, amount, investment, financial, help, interest, tax, income, property, give\n",
      "lion: friend, inducted, daughter, golden, father, suicide, him, probably, sons, woman\n",
      "africa: south, asia, east, southern, north, europe, india, america, northern, african\n",
      "musician: singer, actor, actress, composer, american, writer, politician, born, nine, poet\n",
      "dance: music, musical, jazz, folk, hop, pop, scene, play, contemporary, electronic\n",
      "\n",
      "\n"
     ]
    },
    {
     "name": "stderr",
     "output_type": "stream",
     "text": [
      "47003it [50:46, 14.11it/s]"
     ]
    },
    {
     "name": "stdout",
     "output_type": "stream",
     "text": [
      "| epoch   2 | 47000/162913 batches | loss    1.617 \n",
      "money: needed, amount, investment, financial, help, interest, tax, income, property, give\n",
      "lion: friend, inducted, daughter, golden, father, suicide, probably, him, sons, woman\n",
      "africa: south, asia, east, southern, north, europe, india, america, northern, african\n",
      "musician: singer, actor, actress, composer, american, writer, politician, born, nine, poet\n",
      "dance: music, musical, jazz, folk, hop, pop, scene, play, contemporary, electronic\n",
      "\n",
      "\n"
     ]
    },
    {
     "name": "stderr",
     "output_type": "stream",
     "text": [
      "47503it [51:18, 14.10it/s]"
     ]
    },
    {
     "name": "stdout",
     "output_type": "stream",
     "text": [
      "| epoch   2 | 47500/162913 batches | loss    1.613 \n",
      "money: needed, amount, investment, financial, help, interest, tax, income, give, property\n",
      "lion: friend, inducted, daughter, golden, father, suicide, him, probably, sons, woman\n",
      "africa: south, asia, east, southern, north, europe, america, india, northern, african\n",
      "musician: singer, actor, actress, composer, american, writer, politician, born, nine, poet\n",
      "dance: music, musical, jazz, folk, hop, pop, scene, play, contemporary, electronic\n",
      "\n",
      "\n"
     ]
    },
    {
     "name": "stderr",
     "output_type": "stream",
     "text": [
      "48003it [51:50, 14.01it/s]"
     ]
    },
    {
     "name": "stdout",
     "output_type": "stream",
     "text": [
      "| epoch   2 | 48000/162913 batches | loss    1.616 \n",
      "money: needed, amount, investment, financial, help, interest, tax, income, property, give\n",
      "lion: friend, inducted, daughter, golden, father, suicide, him, probably, sons, woman\n",
      "africa: south, asia, east, southern, north, america, europe, india, northern, african\n",
      "musician: singer, actor, actress, composer, american, writer, politician, born, poet, nine\n",
      "dance: music, musical, jazz, folk, hop, pop, scene, play, contemporary, electronic\n",
      "\n",
      "\n"
     ]
    },
    {
     "name": "stderr",
     "output_type": "stream",
     "text": [
      "48503it [52:23, 14.10it/s]"
     ]
    },
    {
     "name": "stdout",
     "output_type": "stream",
     "text": [
      "| epoch   2 | 48500/162913 batches | loss    1.616 \n",
      "money: needed, amount, investment, financial, help, interest, tax, income, property, give\n",
      "lion: friend, inducted, daughter, golden, father, suicide, him, probably, sons, woman\n",
      "africa: south, asia, east, southern, north, europe, america, india, northern, african\n",
      "musician: singer, actor, actress, composer, american, writer, politician, born, nine, poet\n",
      "dance: music, musical, jazz, folk, hop, pop, scene, play, contemporary, electronic\n",
      "\n",
      "\n"
     ]
    },
    {
     "name": "stderr",
     "output_type": "stream",
     "text": [
      "49003it [52:55, 14.15it/s]"
     ]
    },
    {
     "name": "stdout",
     "output_type": "stream",
     "text": [
      "| epoch   2 | 49000/162913 batches | loss    1.610 \n",
      "money: needed, amount, investment, financial, help, interest, tax, income, give, property\n",
      "lion: friend, inducted, daughter, golden, father, suicide, probably, him, sons, woman\n",
      "africa: south, asia, east, southern, north, europe, america, india, northern, african\n",
      "musician: singer, actor, actress, composer, american, writer, politician, born, nine, poet\n",
      "dance: music, musical, jazz, folk, hop, pop, scene, play, contemporary, electronic\n",
      "\n",
      "\n"
     ]
    },
    {
     "name": "stderr",
     "output_type": "stream",
     "text": [
      "49503it [53:27, 14.00it/s]"
     ]
    },
    {
     "name": "stdout",
     "output_type": "stream",
     "text": [
      "| epoch   2 | 49500/162913 batches | loss    1.616 \n",
      "money: needed, amount, investment, financial, help, interest, tax, income, give, property\n",
      "lion: friend, inducted, daughter, golden, father, suicide, him, probably, sons, woman\n",
      "africa: south, asia, east, southern, north, europe, america, india, northern, african\n",
      "musician: singer, actor, actress, composer, american, writer, politician, born, nine, poet\n",
      "dance: music, musical, jazz, folk, hop, pop, scene, play, contemporary, electronic\n",
      "\n",
      "\n"
     ]
    },
    {
     "name": "stderr",
     "output_type": "stream",
     "text": [
      "50003it [54:00, 13.89it/s]"
     ]
    },
    {
     "name": "stdout",
     "output_type": "stream",
     "text": [
      "| epoch   2 | 50000/162913 batches | loss    1.611 \n",
      "money: needed, amount, investment, financial, help, interest, tax, income, give, property\n",
      "lion: friend, inducted, daughter, golden, father, suicide, him, probably, sons, woman\n",
      "africa: south, asia, east, southern, north, america, europe, india, northern, african\n",
      "musician: singer, actor, actress, composer, american, writer, politician, born, nine, poet\n",
      "dance: music, musical, jazz, folk, hop, pop, scene, play, contemporary, electronic\n",
      "\n",
      "\n"
     ]
    },
    {
     "name": "stderr",
     "output_type": "stream",
     "text": [
      "50503it [54:33, 14.12it/s]"
     ]
    },
    {
     "name": "stdout",
     "output_type": "stream",
     "text": [
      "| epoch   2 | 50500/162913 batches | loss    1.611 \n",
      "money: needed, amount, investment, financial, help, interest, tax, income, give, property\n",
      "lion: friend, inducted, daughter, golden, father, suicide, him, probably, sons, woman\n",
      "africa: south, asia, east, southern, north, america, europe, india, northern, african\n",
      "musician: singer, actor, actress, composer, american, writer, politician, born, nine, poet\n",
      "dance: music, musical, jazz, folk, hop, pop, scene, play, contemporary, electronic\n",
      "\n",
      "\n"
     ]
    },
    {
     "name": "stderr",
     "output_type": "stream",
     "text": [
      "51003it [55:05, 14.12it/s]"
     ]
    },
    {
     "name": "stdout",
     "output_type": "stream",
     "text": [
      "| epoch   2 | 51000/162913 batches | loss    1.614 \n",
      "money: needed, amount, investment, financial, interest, help, tax, income, give, property\n",
      "lion: friend, inducted, daughter, golden, father, suicide, probably, him, sons, woman\n",
      "africa: south, asia, east, southern, north, america, europe, india, northern, african\n",
      "musician: singer, actor, actress, composer, american, writer, politician, born, nine, poet\n",
      "dance: music, musical, jazz, folk, hop, pop, scene, play, contemporary, electronic\n",
      "\n",
      "\n"
     ]
    },
    {
     "name": "stderr",
     "output_type": "stream",
     "text": [
      "51503it [55:38, 13.99it/s]"
     ]
    },
    {
     "name": "stdout",
     "output_type": "stream",
     "text": [
      "| epoch   2 | 51500/162913 batches | loss    1.616 \n",
      "money: needed, amount, investment, financial, interest, help, tax, income, give, attention\n",
      "lion: friend, inducted, daughter, golden, father, him, probably, suicide, sons, woman\n",
      "africa: south, asia, east, southern, north, america, europe, india, northern, african\n",
      "musician: singer, actor, actress, composer, american, writer, politician, born, nine, poet\n",
      "dance: music, musical, jazz, folk, hop, pop, scene, play, contemporary, electronic\n",
      "\n",
      "\n"
     ]
    },
    {
     "name": "stderr",
     "output_type": "stream",
     "text": [
      "52003it [56:11, 13.74it/s]"
     ]
    },
    {
     "name": "stdout",
     "output_type": "stream",
     "text": [
      "| epoch   2 | 52000/162913 batches | loss    1.619 \n",
      "money: needed, amount, investment, financial, interest, help, tax, income, give, attention\n",
      "lion: friend, inducted, daughter, golden, father, him, probably, suicide, sons, woman\n",
      "africa: south, asia, east, southern, north, america, europe, india, northern, african\n",
      "musician: singer, actor, actress, composer, american, writer, politician, born, nine, poet\n",
      "dance: music, musical, jazz, folk, hop, pop, scene, play, contemporary, electronic\n",
      "\n",
      "\n"
     ]
    },
    {
     "name": "stderr",
     "output_type": "stream",
     "text": [
      "52503it [56:43, 13.81it/s]"
     ]
    },
    {
     "name": "stdout",
     "output_type": "stream",
     "text": [
      "| epoch   2 | 52500/162913 batches | loss    1.615 \n",
      "money: needed, amount, investment, financial, interest, help, tax, income, private, give\n",
      "lion: friend, inducted, daughter, golden, father, him, probably, suicide, sons, woman\n",
      "africa: south, asia, east, southern, north, america, europe, india, northern, african\n",
      "musician: singer, actor, actress, composer, american, writer, politician, born, nine, poet\n",
      "dance: music, musical, jazz, folk, hop, pop, scene, play, contemporary, electronic\n",
      "\n",
      "\n"
     ]
    },
    {
     "name": "stderr",
     "output_type": "stream",
     "text": [
      "53003it [57:16, 13.87it/s]"
     ]
    },
    {
     "name": "stdout",
     "output_type": "stream",
     "text": [
      "| epoch   2 | 53000/162913 batches | loss    1.611 \n",
      "money: needed, amount, investment, financial, interest, help, tax, income, attention, private\n",
      "lion: friend, inducted, daughter, golden, father, him, suicide, probably, sons, woman\n",
      "africa: south, asia, east, southern, north, america, europe, india, northern, african\n",
      "musician: singer, actor, actress, composer, american, writer, politician, born, nine, poet\n",
      "dance: music, musical, jazz, folk, hop, pop, scene, play, contemporary, electronic\n",
      "\n",
      "\n"
     ]
    },
    {
     "name": "stderr",
     "output_type": "stream",
     "text": [
      "53503it [57:48, 13.91it/s]"
     ]
    },
    {
     "name": "stdout",
     "output_type": "stream",
     "text": [
      "| epoch   2 | 53500/162913 batches | loss    1.611 \n",
      "money: needed, amount, investment, financial, interest, help, tax, income, give, attention\n",
      "lion: friend, inducted, daughter, golden, father, him, suicide, probably, sons, woman\n",
      "africa: south, asia, east, southern, north, europe, america, india, northern, african\n",
      "musician: singer, actor, actress, composer, american, writer, politician, born, poet, nine\n",
      "dance: music, musical, jazz, folk, hop, pop, scene, play, contemporary, electronic\n",
      "\n",
      "\n"
     ]
    },
    {
     "name": "stderr",
     "output_type": "stream",
     "text": [
      "54003it [58:21, 14.23it/s]"
     ]
    },
    {
     "name": "stdout",
     "output_type": "stream",
     "text": [
      "| epoch   2 | 54000/162913 batches | loss    1.613 \n",
      "money: needed, amount, investment, financial, interest, help, tax, income, private, give\n",
      "lion: friend, inducted, daughter, golden, father, him, probably, suicide, sons, woman\n",
      "africa: south, asia, east, southern, north, europe, america, india, northern, african\n",
      "musician: singer, actor, actress, composer, american, writer, politician, born, nine, poet\n",
      "dance: music, musical, jazz, folk, hop, pop, scene, play, contemporary, electronic\n",
      "\n",
      "\n"
     ]
    },
    {
     "name": "stderr",
     "output_type": "stream",
     "text": [
      "54503it [58:53, 14.17it/s]"
     ]
    },
    {
     "name": "stdout",
     "output_type": "stream",
     "text": [
      "| epoch   2 | 54500/162913 batches | loss    1.612 \n",
      "money: needed, amount, investment, financial, interest, help, tax, income, give, attention\n",
      "lion: friend, inducted, daughter, golden, father, him, probably, suicide, sons, woman\n",
      "africa: south, asia, east, southern, north, america, europe, india, northern, african\n",
      "musician: singer, actor, actress, composer, american, writer, politician, born, nine, poet\n",
      "dance: music, musical, jazz, folk, hop, pop, scene, play, contemporary, electronic\n",
      "\n",
      "\n"
     ]
    },
    {
     "name": "stderr",
     "output_type": "stream",
     "text": [
      "55003it [59:25, 14.20it/s]"
     ]
    },
    {
     "name": "stdout",
     "output_type": "stream",
     "text": [
      "| epoch   2 | 55000/162913 batches | loss    1.615 \n",
      "money: needed, amount, investment, financial, interest, help, tax, income, give, private\n",
      "lion: friend, inducted, daughter, golden, father, him, probably, suicide, sons, woman\n",
      "africa: south, asia, east, southern, north, europe, america, india, northern, african\n",
      "musician: singer, actor, actress, composer, american, writer, politician, born, nine, poet\n",
      "dance: music, musical, jazz, folk, hop, pop, scene, play, contemporary, electronic\n",
      "\n",
      "\n"
     ]
    },
    {
     "name": "stderr",
     "output_type": "stream",
     "text": [
      "55499it [59:57, 15.43it/s]\n"
     ]
    },
    {
     "ename": "KeyboardInterrupt",
     "evalue": "",
     "output_type": "error",
     "traceback": [
      "\u001b[0;31m---------------------------------------------------------------------------\u001b[0m",
      "\u001b[0;31mKeyboardInterrupt\u001b[0m                         Traceback (most recent call last)",
      "Cell \u001b[0;32mIn[55], line 4\u001b[0m\n\u001b[1;32m      1\u001b[0m \u001b[38;5;28;01mfor\u001b[39;00m epoch \u001b[38;5;129;01min\u001b[39;00m \u001b[38;5;28mrange\u001b[39m(\u001b[38;5;241m1\u001b[39m, NUM_EPOCHS \u001b[38;5;241m+\u001b[39m \u001b[38;5;241m1\u001b[39m):\n\u001b[1;32m      2\u001b[0m     epoch_start_time \u001b[38;5;241m=\u001b[39m time\u001b[38;5;241m.\u001b[39mtime()\n\u001b[0;32m----> 4\u001b[0m     \u001b[43mtrain\u001b[49m\u001b[43m(\u001b[49m\u001b[43mtrain_dl\u001b[49m\u001b[43m,\u001b[49m\u001b[43m \u001b[49m\u001b[43mmodel\u001b[49m\u001b[43m,\u001b[49m\u001b[43m \u001b[49m\u001b[43moptimizer\u001b[49m\u001b[43m,\u001b[49m\u001b[43m \u001b[49m\u001b[43mepoch\u001b[49m\u001b[43m)\u001b[49m\n\u001b[1;32m      5\u001b[0m     \u001b[38;5;66;03m# We have a learning rate scheduler here.\u001b[39;00m\n\u001b[1;32m      6\u001b[0m     \u001b[38;5;66;03m# Basically, given the state of the optimizer, this lowers the learning rate in a smart way.\u001b[39;00m\n\u001b[1;32m      7\u001b[0m     scheduler\u001b[38;5;241m.\u001b[39mstep()\n",
      "Cell \u001b[0;32mIn[54], line 51\u001b[0m, in \u001b[0;36mtrain\u001b[0;34m(dataloader, model, optimizer, epoch)\u001b[0m\n\u001b[1;32m     48\u001b[0m loss\u001b[38;5;241m.\u001b[39mbackward()\n\u001b[1;32m     50\u001b[0m \u001b[38;5;66;03m# Clip the gradients? Generally a good idea.\u001b[39;00m\n\u001b[0;32m---> 51\u001b[0m \u001b[43mtorch\u001b[49m\u001b[38;5;241;43m.\u001b[39;49m\u001b[43mnn\u001b[49m\u001b[38;5;241;43m.\u001b[39;49m\u001b[43mutils\u001b[49m\u001b[38;5;241;43m.\u001b[39;49m\u001b[43mclip_grad_norm_\u001b[49m\u001b[43m(\u001b[49m\u001b[43mmodel\u001b[49m\u001b[38;5;241;43m.\u001b[39;49m\u001b[43mparameters\u001b[49m\u001b[43m(\u001b[49m\u001b[43m)\u001b[49m\u001b[43m,\u001b[49m\u001b[43m \u001b[49m\u001b[38;5;241;43m0.1\u001b[39;49m\u001b[43m)\u001b[49m\n\u001b[1;32m     53\u001b[0m \u001b[38;5;66;03m# Used for optimization. This should be roughly 0.001, on average.\u001b[39;00m\n\u001b[1;32m     54\u001b[0m \u001b[38;5;28;01mwith\u001b[39;00m torch\u001b[38;5;241m.\u001b[39mno_grad():\n",
      "File \u001b[0;32m~/miniforge3/envs/mlenv/lib/python3.8/site-packages/torch/nn/utils/clip_grad.py:43\u001b[0m, in \u001b[0;36mclip_grad_norm_\u001b[0;34m(parameters, max_norm, norm_type, error_if_nonfinite)\u001b[0m\n\u001b[1;32m     41\u001b[0m     total_norm \u001b[38;5;241m=\u001b[39m norms[\u001b[38;5;241m0\u001b[39m] \u001b[38;5;28;01mif\u001b[39;00m \u001b[38;5;28mlen\u001b[39m(norms) \u001b[38;5;241m==\u001b[39m \u001b[38;5;241m1\u001b[39m \u001b[38;5;28;01melse\u001b[39;00m torch\u001b[38;5;241m.\u001b[39mmax(torch\u001b[38;5;241m.\u001b[39mstack(norms))\n\u001b[1;32m     42\u001b[0m \u001b[38;5;28;01melse\u001b[39;00m:\n\u001b[0;32m---> 43\u001b[0m     total_norm \u001b[38;5;241m=\u001b[39m torch\u001b[38;5;241m.\u001b[39mnorm(torch\u001b[38;5;241m.\u001b[39mstack([torch\u001b[38;5;241m.\u001b[39mnorm(g\u001b[38;5;241m.\u001b[39mdetach(), norm_type)\u001b[38;5;241m.\u001b[39mto(device) \u001b[38;5;28;01mfor\u001b[39;00m g \u001b[38;5;129;01min\u001b[39;00m grads]), norm_type)\n\u001b[1;32m     44\u001b[0m \u001b[38;5;28;01mif\u001b[39;00m error_if_nonfinite \u001b[38;5;129;01mand\u001b[39;00m torch\u001b[38;5;241m.\u001b[39mlogical_or(total_norm\u001b[38;5;241m.\u001b[39misnan(), total_norm\u001b[38;5;241m.\u001b[39misinf()):\n\u001b[1;32m     45\u001b[0m     \u001b[38;5;28;01mraise\u001b[39;00m \u001b[38;5;167;01mRuntimeError\u001b[39;00m(\n\u001b[1;32m     46\u001b[0m         \u001b[38;5;124mf\u001b[39m\u001b[38;5;124m'\u001b[39m\u001b[38;5;124mThe total norm of order \u001b[39m\u001b[38;5;132;01m{\u001b[39;00mnorm_type\u001b[38;5;132;01m}\u001b[39;00m\u001b[38;5;124m for gradients from \u001b[39m\u001b[38;5;124m'\u001b[39m\n\u001b[1;32m     47\u001b[0m         \u001b[38;5;124m'\u001b[39m\u001b[38;5;124m`parameters` is non-finite, so it cannot be clipped. To disable \u001b[39m\u001b[38;5;124m'\u001b[39m\n\u001b[1;32m     48\u001b[0m         \u001b[38;5;124m'\u001b[39m\u001b[38;5;124mthis error and scale the gradients by the non-finite norm anyway, \u001b[39m\u001b[38;5;124m'\u001b[39m\n\u001b[1;32m     49\u001b[0m         \u001b[38;5;124m'\u001b[39m\u001b[38;5;124mset `error_if_nonfinite=False`\u001b[39m\u001b[38;5;124m'\u001b[39m)\n",
      "File \u001b[0;32m~/miniforge3/envs/mlenv/lib/python3.8/site-packages/torch/nn/utils/clip_grad.py:43\u001b[0m, in \u001b[0;36m<listcomp>\u001b[0;34m(.0)\u001b[0m\n\u001b[1;32m     41\u001b[0m     total_norm \u001b[38;5;241m=\u001b[39m norms[\u001b[38;5;241m0\u001b[39m] \u001b[38;5;28;01mif\u001b[39;00m \u001b[38;5;28mlen\u001b[39m(norms) \u001b[38;5;241m==\u001b[39m \u001b[38;5;241m1\u001b[39m \u001b[38;5;28;01melse\u001b[39;00m torch\u001b[38;5;241m.\u001b[39mmax(torch\u001b[38;5;241m.\u001b[39mstack(norms))\n\u001b[1;32m     42\u001b[0m \u001b[38;5;28;01melse\u001b[39;00m:\n\u001b[0;32m---> 43\u001b[0m     total_norm \u001b[38;5;241m=\u001b[39m torch\u001b[38;5;241m.\u001b[39mnorm(torch\u001b[38;5;241m.\u001b[39mstack([\u001b[43mtorch\u001b[49m\u001b[38;5;241;43m.\u001b[39;49m\u001b[43mnorm\u001b[49m\u001b[43m(\u001b[49m\u001b[43mg\u001b[49m\u001b[38;5;241;43m.\u001b[39;49m\u001b[43mdetach\u001b[49m\u001b[43m(\u001b[49m\u001b[43m)\u001b[49m\u001b[43m,\u001b[49m\u001b[43m \u001b[49m\u001b[43mnorm_type\u001b[49m\u001b[43m)\u001b[49m\u001b[38;5;241m.\u001b[39mto(device) \u001b[38;5;28;01mfor\u001b[39;00m g \u001b[38;5;129;01min\u001b[39;00m grads]), norm_type)\n\u001b[1;32m     44\u001b[0m \u001b[38;5;28;01mif\u001b[39;00m error_if_nonfinite \u001b[38;5;129;01mand\u001b[39;00m torch\u001b[38;5;241m.\u001b[39mlogical_or(total_norm\u001b[38;5;241m.\u001b[39misnan(), total_norm\u001b[38;5;241m.\u001b[39misinf()):\n\u001b[1;32m     45\u001b[0m     \u001b[38;5;28;01mraise\u001b[39;00m \u001b[38;5;167;01mRuntimeError\u001b[39;00m(\n\u001b[1;32m     46\u001b[0m         \u001b[38;5;124mf\u001b[39m\u001b[38;5;124m'\u001b[39m\u001b[38;5;124mThe total norm of order \u001b[39m\u001b[38;5;132;01m{\u001b[39;00mnorm_type\u001b[38;5;132;01m}\u001b[39;00m\u001b[38;5;124m for gradients from \u001b[39m\u001b[38;5;124m'\u001b[39m\n\u001b[1;32m     47\u001b[0m         \u001b[38;5;124m'\u001b[39m\u001b[38;5;124m`parameters` is non-finite, so it cannot be clipped. To disable \u001b[39m\u001b[38;5;124m'\u001b[39m\n\u001b[1;32m     48\u001b[0m         \u001b[38;5;124m'\u001b[39m\u001b[38;5;124mthis error and scale the gradients by the non-finite norm anyway, \u001b[39m\u001b[38;5;124m'\u001b[39m\n\u001b[1;32m     49\u001b[0m         \u001b[38;5;124m'\u001b[39m\u001b[38;5;124mset `error_if_nonfinite=False`\u001b[39m\u001b[38;5;124m'\u001b[39m)\n",
      "File \u001b[0;32m~/miniforge3/envs/mlenv/lib/python3.8/site-packages/torch/functional.py:1485\u001b[0m, in \u001b[0;36mnorm\u001b[0;34m(input, p, dim, keepdim, out, dtype)\u001b[0m\n\u001b[1;32m   1483\u001b[0m     \u001b[38;5;28;01mif\u001b[39;00m \u001b[38;5;129;01mnot\u001b[39;00m \u001b[38;5;28misinstance\u001b[39m(p, \u001b[38;5;28mstr\u001b[39m):\n\u001b[1;32m   1484\u001b[0m         _dim \u001b[38;5;241m=\u001b[39m [i \u001b[38;5;28;01mfor\u001b[39;00m i \u001b[38;5;129;01min\u001b[39;00m \u001b[38;5;28mrange\u001b[39m(ndim)]  \u001b[38;5;66;03m# noqa: C416 TODO: rewrite as list(range(m))\u001b[39;00m\n\u001b[0;32m-> 1485\u001b[0m         \u001b[38;5;28;01mreturn\u001b[39;00m \u001b[43m_VF\u001b[49m\u001b[38;5;241;43m.\u001b[39;49m\u001b[43mnorm\u001b[49m\u001b[43m(\u001b[49m\u001b[38;5;28;43minput\u001b[39;49m\u001b[43m,\u001b[49m\u001b[43m \u001b[49m\u001b[43mp\u001b[49m\u001b[43m,\u001b[49m\u001b[43m \u001b[49m\u001b[43mdim\u001b[49m\u001b[38;5;241;43m=\u001b[39;49m\u001b[43m_dim\u001b[49m\u001b[43m,\u001b[49m\u001b[43m \u001b[49m\u001b[43mkeepdim\u001b[49m\u001b[38;5;241;43m=\u001b[39;49m\u001b[43mkeepdim\u001b[49m\u001b[43m)\u001b[49m  \u001b[38;5;66;03m# type: ignore[attr-defined]\u001b[39;00m\n\u001b[1;32m   1487\u001b[0m \u001b[38;5;66;03m# TODO: when https://github.com/pytorch/pytorch/issues/33782 is fixed\u001b[39;00m\n\u001b[1;32m   1488\u001b[0m \u001b[38;5;66;03m# remove the overloads where dim is an int and replace with BraodcastingList1\u001b[39;00m\n\u001b[1;32m   1489\u001b[0m \u001b[38;5;66;03m# and remove next four lines, replace _dim with dim\u001b[39;00m\n\u001b[1;32m   1490\u001b[0m \u001b[38;5;28;01mif\u001b[39;00m dim \u001b[38;5;129;01mis\u001b[39;00m \u001b[38;5;129;01mnot\u001b[39;00m \u001b[38;5;28;01mNone\u001b[39;00m:\n",
      "\u001b[0;31mKeyboardInterrupt\u001b[0m: "
     ]
    }
   ],
   "source": [
    "for epoch in range(1, NUM_EPOCHS + 1):\n",
    "    epoch_start_time = time.time()\n",
    "    \n",
    "    train(train_dl, model, optimizer, epoch)\n",
    "    # We have a learning rate scheduler here.\n",
    "    # Basically, given the state of the optimizer, this lowers the learning rate in a smart way.\n",
    "    scheduler.step()"
   ]
  },
  {
   "cell_type": "code",
   "execution_count": null,
   "id": "b0227888",
   "metadata": {},
   "outputs": [],
   "source": []
  },
  {
   "cell_type": "markdown",
   "id": "7187dcf9",
   "metadata": {},
   "source": [
    "### Some diagnostics."
   ]
  },
  {
   "cell_type": "markdown",
   "id": "ae40d972",
   "metadata": {},
   "source": [
    "Sometimes you want to add diagnostics to your NN.\n",
    "- For each iteration, get the $L_2$ norm of the gradients* learning_rate and divide this by the parameters. This should be about -3 on the log scale, i.e. the ratio should be about 0.001. If the ratios are smaller, the learning rate might be too small, otherwise too large. Below we do this for the Skip-Gram model above.\n"
   ]
  },
  {
   "cell_type": "code",
   "execution_count": 56,
   "id": "f5d9d9e3",
   "metadata": {},
   "outputs": [
    {
     "data": {
      "text/plain": [
       "<matplotlib.legend.Legend at 0x4a5b6f7f0>"
      ]
     },
     "execution_count": 56,
     "metadata": {},
     "output_type": "execute_result"
    },
    {
     "data": {
      "image/png": "[encoded data removed]",
      "text/plain": [
       "<Figure size 2000x400 with 1 Axes>"
      ]
     },
     "metadata": {},
     "output_type": "display_data"
    }
   ],
   "source": [
    "import matplotlib.pyplot as plt\n",
    "plt.figure(figsize=(20, 4))\n",
    "legends = []\n",
    "for i, (name, p) in enumerate(model.named_parameters()):\n",
    "    plt.plot([ratios[j][i] for j in range(len(ratios))])\n",
    "    legends.append('param {}'.format(name))\n",
    "plt.plot([0, len(ratios)], [-3, -3], 'r')\n",
    "plt.legend(legends)"
   ]
  },
  {
   "cell_type": "markdown",
   "id": "987e2ca5",
   "metadata": {},
   "source": [
    "How do you make sure the learing rate is good? Look at the above plots and suppose we have $log(LR * ratio) = -5$. Then $LR * ratio = 10^{-5}$. Assuming the ratio does not vary much, this probably means we need to increase the learing rate $LR$. Similarly for a reverse direction."
   ]
  },
  {
   "cell_type": "code",
   "execution_count": null,
   "id": "c08e311d",
   "metadata": {},
   "outputs": [],
   "source": []
  }
 ],
 "metadata": {
  "kernelspec": {
   "display_name": "Python 3 (ipykernel)",
   "language": "python",
   "name": "python3"
  },
  "language_info": {
   "codemirror_mode": {
    "name": "ipython",
    "version": 3
   },
   "file_extension": ".py",
   "mimetype": "text/x-python",
   "name": "python",
   "nbconvert_exporter": "python",
   "pygments_lexer": "ipython3",
   "version": "3.8.15"
  }
 },
 "nbformat": 4,
 "nbformat_minor": 5
}
