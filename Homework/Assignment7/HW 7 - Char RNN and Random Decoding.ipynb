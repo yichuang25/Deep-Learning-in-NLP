{
 "cells": [
  {
   "attachments": {},
   "cell_type": "markdown",
   "id": "4341fdcc",
   "metadata": {},
   "source": [
    "# Yichen Huang\n",
    "# yh3550"
   ]
  },
  {
   "cell_type": "code",
   "execution_count": 1,
   "id": "97ab5757",
   "metadata": {},
   "outputs": [],
   "source": [
    "from tqdm import tqdm\n",
    "import torch.nn as nn\n",
    "import numpy as np\n",
    "import torch\n",
    "from torch.utils.data import Dataset\n",
    "from torch.utils.data import DataLoader"
   ]
  },
  {
   "cell_type": "code",
   "execution_count": 2,
   "id": "9ffd0ed7",
   "metadata": {},
   "outputs": [],
   "source": [
    "FILL_IN = \"FILL_IN\""
   ]
  },
  {
   "cell_type": "markdown",
   "id": "64c0320b",
   "metadata": {},
   "source": [
    "### Get the data and process\n",
    "- This is the Mysterious island found in Project Gutenberg."
   ]
  },
  {
   "cell_type": "code",
   "execution_count": 3,
   "id": "d4e64a98",
   "metadata": {},
   "outputs": [
    {
     "name": "stdout",
     "output_type": "stream",
     "text": [
      "Total Length: 1130711\n",
      "Unique Characters: 85\n"
     ]
    }
   ],
   "source": [
    "## Reading and processing text\n",
    "with open('1268-0.txt', 'r', encoding=\"utf8\") as fp:\n",
    "    text=fp.read()\n",
    "\n",
    "# Get the index of 'THE MYSTERIOUS ISLAND'\n",
    "start_indx = text.index('THE MYSTERIOUS ISLAND')\n",
    "# Get the index of 'End of the Project Gutenberg'\n",
    "end_indx = text.find('End of the Project Gutenberg')\n",
    "\n",
    "# Set text to the text between start and end idx.\n",
    "text = text[start_indx:end_indx]\n",
    "# Get the unique set of characters.\n",
    "char_set = set(text)\n",
    "print('Total Length:', len(text))\n",
    "print('Unique Characters:', len(char_set))\n",
    "assert(len(text) == 1130711)\n",
    "assert(len(char_set) == 85)"
   ]
  },
  {
   "cell_type": "markdown",
   "id": "76393bdb",
   "metadata": {},
   "source": [
    "### Tokenze and get other helpers\n",
    "- We do this manually since everything is character based."
   ]
  },
  {
   "cell_type": "code",
   "execution_count": 4,
   "id": "3a445114",
   "metadata": {},
   "outputs": [
    {
     "name": "stdout",
     "output_type": "stream",
     "text": [
      "Text encoded shape:  (1130711,)\n",
      "THE MYSTERIOUS       == Encoding ==>  [48 36 33  1 41 53 47 48 33 46 37 43 49 47  1]\n",
      "[37 47 40 29 42 32]  == Reverse  ==>  ISLAND\n"
     ]
    }
   ],
   "source": [
    "# The universe of words.\n",
    "chars_sorted = sorted(char_set)\n",
    "\n",
    "# Effectively, these maps are the tokenizer.\n",
    "# Map each char to a unique int. This is a dict.\n",
    "char2int = {c: i for i, c in enumerate(chars_sorted)}\n",
    "# Do the revverse of the above, this should be a np array.\n",
    "int2char = np.array(chars_sorted)\n",
    "\n",
    "# Tokenize the entire corpus. This should be an np array of np.int32 type.\n",
    "text_encoded = np.array([char2int[c] for c in text], dtype=np.int32)\n",
    "\n",
    "print('Text encoded shape: ', text_encoded.shape)\n",
    "\n",
    "print(text[:15], '     == Encoding ==> ', text_encoded[:15])\n",
    "print(text_encoded[15:21], ' == Reverse  ==> ', ''.join(int2char[text_encoded[15:21]]))"
   ]
  },
  {
   "cell_type": "markdown",
   "id": "720cd752",
   "metadata": {},
   "source": [
    "#### Examples"
   ]
  },
  {
   "cell_type": "code",
   "execution_count": 5,
   "id": "e2743a57",
   "metadata": {},
   "outputs": [
    {
     "name": "stdout",
     "output_type": "stream",
     "text": [
      "Text encoded shape:  (1130711,)\n",
      "THE MYSTERIOUS       == Encoding ==>  [48 36 33  1 41 53 47 48 33 46 37 43 49 47  1]\n",
      "[37 47 40 29 42 32]  == Reverse  ==>  ISLAND\n"
     ]
    }
   ],
   "source": [
    "print('Text encoded shape: ', text_encoded.shape)\n",
    "print(text[:15], '     == Encoding ==> ', text_encoded[:15])\n",
    "print(text_encoded[15:21], ' == Reverse  ==> ', ''.join(int2char[text_encoded[15:21]]))"
   ]
  },
  {
   "cell_type": "code",
   "execution_count": 6,
   "id": "367e733d",
   "metadata": {},
   "outputs": [],
   "source": [
    "assert(\n",
    "    np.array_equal(\n",
    "    text_encoded[:15],\n",
    "        [48, 36, 33, 1, 41, 53, 47, 48, 33, 46, 37, 43, 49, 47,  1]\n",
    "    )\n",
    ")"
   ]
  },
  {
   "cell_type": "code",
   "execution_count": null,
   "id": "2cdcafe4",
   "metadata": {},
   "outputs": [],
   "source": []
  },
  {
   "cell_type": "markdown",
   "id": "0c418ca0",
   "metadata": {},
   "source": [
    "### Process the data and get the data loader"
   ]
  },
  {
   "cell_type": "code",
   "execution_count": 7,
   "id": "f429dc3d",
   "metadata": {},
   "outputs": [],
   "source": [
    "seq_length = 40\n",
    "chunk_size = seq_length + 1\n",
    "\n",
    "# Break up the data into chunks of size 41. This should be a list of lists.\n",
    "# Use text_encoded. This will be used to get (x, y) pairs.\n",
    "text_chunks = [text_encoded[i:i+chunk_size] for i in range(0, len(text_encoded)-chunk_size)] "
   ]
  },
  {
   "cell_type": "code",
   "execution_count": 8,
   "id": "e329fffd",
   "metadata": {},
   "outputs": [
    {
     "name": "stderr",
     "output_type": "stream",
     "text": [
      "/var/folders/f8/mb2zprsj5wj1n9ygh0fcr3nw0000gn/T/ipykernel_55441/317277617.py:15: UserWarning: Creating a tensor from a list of numpy.ndarrays is extremely slow. Please consider converting the list to a single numpy.ndarray with numpy.array() before converting to a tensor. (Triggered internally at /Users/runner/work/pytorch/pytorch/pytorch/torch/csrc/utils/tensor_new.cpp:248.)\n",
      "  seq_dataset = TextDataset(torch.tensor(text_chunks))\n"
     ]
    }
   ],
   "source": [
    "class TextDataset(Dataset):\n",
    "    def __init__(self, text_chunks):\n",
    "        self.text_chunks = text_chunks\n",
    "\n",
    "    def __len__(self):\n",
    "        return len(self.text_chunks)\n",
    "    \n",
    "    def __getitem__(self, idx):\n",
    "        # Get the text chunk at index idx.\n",
    "        text_chunk = self.text_chunks[idx]\n",
    "        # Return (x, y) where x has length 40 and y has length 40.\n",
    "        # y should be x shifted by 1 time.\n",
    "        return text_chunk[:-1], text_chunk[1:]\n",
    "    \n",
    "seq_dataset = TextDataset(torch.tensor(text_chunks))"
   ]
  },
  {
   "cell_type": "code",
   "execution_count": 9,
   "id": "71328555",
   "metadata": {},
   "outputs": [
    {
     "name": "stdout",
     "output_type": "stream",
     "text": [
      "torch.Size([40]) torch.Size([40])\n",
      "Input (x): 'THE MYSTERIOUS ISLAND ***\\n\\n\\n\\n\\nTHE MYSTER'\n",
      "Target (y): 'HE MYSTERIOUS ISLAND ***\\n\\n\\n\\n\\nTHE MYSTERI'\n",
      "\n",
      "torch.Size([40]) torch.Size([40])\n",
      "Input (x): 'HE MYSTERIOUS ISLAND ***\\n\\n\\n\\n\\nTHE MYSTERI'\n",
      "Target (y): 'E MYSTERIOUS ISLAND ***\\n\\n\\n\\n\\nTHE MYSTERIO'\n",
      "\n"
     ]
    }
   ],
   "source": [
    "for i, (seq, target) in enumerate(seq_dataset):\n",
    "    # 40 characters for source and target ...\n",
    "    print(seq.shape, target.shape)\n",
    "    print('Input (x):', repr(''.join(int2char[seq])))\n",
    "    print('Target (y):', repr(''.join(int2char[target])))\n",
    "    print()\n",
    "    if i == 1:\n",
    "        break "
   ]
  },
  {
   "cell_type": "code",
   "execution_count": 10,
   "id": "ebb989c3",
   "metadata": {},
   "outputs": [],
   "source": [
    "device = torch.device(\"mps\")"
   ]
  },
  {
   "cell_type": "code",
   "execution_count": 11,
   "id": "a881b316",
   "metadata": {},
   "outputs": [],
   "source": [
    "batch_size = 64\n",
    "torch.manual_seed(1)\n",
    "seq_dl = DataLoader(seq_dataset, batch_size=batch_size, shuffle=True, drop_last=True)"
   ]
  },
  {
   "cell_type": "markdown",
   "id": "45ed0b2f",
   "metadata": {},
   "source": [
    "### Write the models"
   ]
  },
  {
   "cell_type": "code",
   "execution_count": 12,
   "id": "1b4cbf1e",
   "metadata": {},
   "outputs": [],
   "source": [
    "class RNN(nn.Module):\n",
    "    def __init__(self, vocab_size, embed_dim, rnn_hidden_size):\n",
    "        super().__init__()\n",
    "        # Set to an embedding layer of vocab_size by embed_dim.\n",
    "        self.embedding = nn.Embedding(vocab_size, embed_dim) \n",
    "        self.rnn_hidden_size = rnn_hidden_size\n",
    "        # Set to an LSTM with x having embed_dim and h dimension rnn_hidden_size.\n",
    "        # batch_first shoould be true.\n",
    "        self.rnn = nn.LSTM(embed_dim, rnn_hidden_size, batch_first=True)\n",
    "        \n",
    "        # Make a linear layer from rnn_hidden_size to vocab_size.\n",
    "        # This will be used to get the yt for each xt.\n",
    "        self.fc = nn.Linear(rnn_hidden_size, vocab_size)\n",
    "\n",
    "    def forward(self, text, hidden=None, cell=None):\n",
    "        # Get the embeddings for text.\n",
    "        out = self.embedding(text)\n",
    "        \n",
    "        # Pass out, hidden and cell through the rnn.\n",
    "        # If hidden is None, don't specify it and just use out.\n",
    "        if hidden is not None:\n",
    "            out, (hidden, cell) = self.rnn(out, (hidden, cell))\n",
    "        else:\n",
    "            out, (hidden, cell) = self.rnn(out)\n",
    "        \n",
    "        # Pass out through fc.\n",
    "        out = self.fc(out)\n",
    "        \n",
    "        return out, (hidden, cell)\n",
    "\n",
    "    def init_hidden(self, batch_size):\n",
    "        # Initialize to zeros of 1 by ??? appropriate dimensions.\n",
    "        hidden = torch.zeros(1, batch_size, self.rnn_hidden_size)\n",
    "        cell = torch.zeros(1, batch_size, self.rnn_hidden_size)\n",
    "        return hidden.to(device), cell.to(device)"
   ]
  },
  {
   "cell_type": "markdown",
   "id": "00789dfd",
   "metadata": {},
   "source": [
    "### Do this right way - across all data all at once!"
   ]
  },
  {
   "cell_type": "code",
   "execution_count": 13,
   "id": "33380607",
   "metadata": {},
   "outputs": [
    {
     "data": {
      "text/plain": [
       "RNN(\n",
       "  (embedding): Embedding(85, 256)\n",
       "  (rnn): LSTM(256, 512, batch_first=True)\n",
       "  (fc): Linear(in_features=512, out_features=85, bias=True)\n",
       ")"
      ]
     },
     "execution_count": 13,
     "metadata": {},
     "output_type": "execute_result"
    }
   ],
   "source": [
    "vocab_size = len(int2char)\n",
    "embed_dim = 256\n",
    "rnn_hidden_size = 512\n",
    "\n",
    "torch.manual_seed(1)\n",
    "model = RNN(vocab_size, embed_dim, rnn_hidden_size) \n",
    "model = model.to(device)\n",
    "model"
   ]
  },
  {
   "cell_type": "code",
   "execution_count": 14,
   "id": "2f47f48a",
   "metadata": {},
   "outputs": [
    {
     "name": "stdout",
     "output_type": "stream",
     "text": [
      "Epoch 0 loss: 4.4368\n",
      "Epoch 100 loss: 1.7288\n",
      "Epoch 200 loss: 1.4740\n",
      "Epoch 300 loss: 1.4418\n",
      "Epoch 400 loss: 1.3768\n",
      "Epoch 500 loss: 1.3782\n",
      "Epoch 600 loss: 1.3321\n",
      "Epoch 700 loss: 1.3746\n",
      "Epoch 800 loss: 1.3011\n",
      "Epoch 900 loss: 1.2784\n",
      "Epoch 1000 loss: 1.2472\n",
      "Epoch 1100 loss: 1.2824\n",
      "Epoch 1200 loss: 1.2846\n",
      "Epoch 1300 loss: 1.2090\n",
      "Epoch 1400 loss: 1.2205\n",
      "Epoch 1500 loss: 1.2865\n",
      "Epoch 1600 loss: 1.2030\n",
      "Epoch 1700 loss: 1.1948\n",
      "Epoch 1800 loss: 1.2654\n",
      "Epoch 1900 loss: 1.2008\n",
      "Epoch 2000 loss: 1.1833\n",
      "Epoch 2100 loss: 1.2330\n",
      "Epoch 2200 loss: 1.2334\n",
      "Epoch 2300 loss: 1.1845\n",
      "Epoch 2400 loss: 1.2446\n",
      "Epoch 2500 loss: 1.1915\n",
      "Epoch 2600 loss: 1.1962\n",
      "Epoch 2700 loss: 1.1873\n",
      "Epoch 2800 loss: 1.2644\n",
      "Epoch 2900 loss: 1.1577\n",
      "Epoch 3000 loss: 1.1887\n",
      "Epoch 3100 loss: 1.1543\n",
      "Epoch 3200 loss: 1.2065\n",
      "Epoch 3300 loss: 1.1609\n",
      "Epoch 3400 loss: 1.1210\n",
      "Epoch 3500 loss: 1.1603\n",
      "Epoch 3600 loss: 1.1599\n",
      "Epoch 3700 loss: 1.1303\n",
      "Epoch 3800 loss: 1.1092\n",
      "Epoch 3900 loss: 1.1642\n",
      "Epoch 4000 loss: 1.1731\n",
      "Epoch 4100 loss: 1.1908\n",
      "Epoch 4200 loss: 1.1557\n",
      "Epoch 4300 loss: 1.1824\n",
      "Epoch 4400 loss: 1.2190\n",
      "Epoch 4500 loss: 1.1615\n",
      "Epoch 4600 loss: 1.1572\n",
      "Epoch 4700 loss: 1.1271\n",
      "Epoch 4800 loss: 1.1419\n",
      "Epoch 4900 loss: 1.1851\n",
      "Epoch 5000 loss: 1.1539\n",
      "Epoch 5100 loss: 1.1262\n",
      "Epoch 5200 loss: 1.1150\n",
      "Epoch 5300 loss: 1.1375\n",
      "Epoch 5400 loss: 1.1759\n",
      "Epoch 5500 loss: 1.0807\n",
      "Epoch 5600 loss: 1.1550\n",
      "Epoch 5700 loss: 1.1785\n",
      "Epoch 5800 loss: 1.1652\n",
      "Epoch 5900 loss: 1.1292\n",
      "Epoch 6000 loss: 1.1879\n",
      "Epoch 6100 loss: 1.1496\n",
      "Epoch 6200 loss: 1.1471\n",
      "Epoch 6300 loss: 1.1650\n",
      "Epoch 6400 loss: 1.1111\n",
      "Epoch 6500 loss: 1.1537\n",
      "Epoch 6600 loss: 1.1518\n",
      "Epoch 6700 loss: 1.1790\n",
      "Epoch 6800 loss: 1.1456\n",
      "Epoch 6900 loss: 1.1561\n",
      "Epoch 7000 loss: 1.1588\n",
      "Epoch 7100 loss: 1.1336\n",
      "Epoch 7200 loss: 1.1351\n",
      "Epoch 7300 loss: 1.1763\n",
      "Epoch 7400 loss: 1.1808\n",
      "Epoch 7500 loss: 1.1566\n",
      "Epoch 7600 loss: 1.1295\n",
      "Epoch 7700 loss: 1.1101\n",
      "Epoch 7800 loss: 1.0842\n",
      "Epoch 7900 loss: 1.1393\n",
      "Epoch 8000 loss: 1.1810\n",
      "Epoch 8100 loss: 1.1425\n",
      "Epoch 8200 loss: 1.1401\n",
      "Epoch 8300 loss: 1.0950\n",
      "Epoch 8400 loss: 1.1193\n",
      "Epoch 8500 loss: 1.1132\n",
      "Epoch 8600 loss: 1.1343\n",
      "Epoch 8700 loss: 1.1081\n",
      "Epoch 8800 loss: 1.1495\n",
      "Epoch 8900 loss: 1.1622\n",
      "Epoch 9000 loss: 1.0969\n",
      "Epoch 9100 loss: 1.1585\n",
      "Epoch 9200 loss: 1.1788\n",
      "Epoch 9300 loss: 1.2148\n",
      "Epoch 9400 loss: 1.1597\n",
      "Epoch 9500 loss: 1.2070\n",
      "Epoch 9600 loss: 1.0717\n",
      "Epoch 9700 loss: 1.1226\n",
      "Epoch 9800 loss: 1.1454\n",
      "Epoch 9900 loss: 1.1009\n"
     ]
    }
   ],
   "source": [
    "criterion = nn.CrossEntropyLoss()\n",
    "optimizer = torch.optim.Adam(model.parameters(), lr=0.005)\n",
    "\n",
    "# Set to 10000.\n",
    "num_epochs = 10000\n",
    "\n",
    "torch.manual_seed(1)\n",
    "\n",
    "# epochs here will mean batches.\n",
    "# If the above takes too long, use 1000.\n",
    "\n",
    "for epoch in range(num_epochs):\n",
    "    hidden, cell = model.init_hidden(batch_size)\n",
    "    \n",
    "    # Get the next batch from seq_dl\n",
    "    seq_batch, target_batch = next(iter(seq_dl))\n",
    "        \n",
    "    seq_batch = seq_batch.to(device)\n",
    "    target_batch = target_batch.to(device)\n",
    "    \n",
    "    optimizer.zero_grad()\n",
    "    \n",
    "    loss = 0\n",
    "\n",
    "    # Pass through the model.\n",
    "    logits, _ = model(seq_batch, hidden, cell) \n",
    "    \n",
    "    # Get the loss.\n",
    "    # You'll need to reshape / view things to make this work.\n",
    "    loss += criterion(logits.view(-1, vocab_size), target_batch.view(-1))\n",
    "        \n",
    "    # Do back prop.\n",
    "    loss.backward()\n",
    "    optimizer.step()\n",
    "    # Get the value in the tensor loss.\n",
    "    loss = loss.item()\n",
    "    \n",
    "    if epoch % 100 == 0:\n",
    "        print(f'Epoch {epoch} loss: {loss:.4f}')"
   ]
  },
  {
   "cell_type": "code",
   "execution_count": 15,
   "id": "af9092e0",
   "metadata": {},
   "outputs": [
    {
     "name": "stdout",
     "output_type": "stream",
     "text": [
      "Probabilities: [[0.01587624 0.11731043 0.86681336]]\n",
      "[[1]\n",
      " [2]\n",
      " [2]\n",
      " [2]\n",
      " [2]\n",
      " [1]\n",
      " [2]\n",
      " [2]\n",
      " [2]\n",
      " [2]]\n"
     ]
    }
   ],
   "source": [
    "from torch.distributions.categorical import Categorical\n",
    "\n",
    "torch.manual_seed(1)\n",
    "\n",
    "logits = torch.tensor([[-1.0, 1.0, 3.0]])\n",
    "\n",
    "# Get the probabilities for these logits.\n",
    "print('Probabilities:', nn.Softmax(dim=1)(logits).numpy())\n",
    "\n",
    "# Get a Categorical random variable with the above probabilities for each of the classes.\n",
    "m = Categorical(logits=logits)\n",
    "# Generate 10 things.\n",
    "samples = m.sample(torch.Size([10]))\n",
    " \n",
    "print(samples.numpy())"
   ]
  },
  {
   "cell_type": "markdown",
   "id": "0547467d",
   "metadata": {},
   "source": [
    "### Random decoding.\n",
    "- This compounds problems: once you make a mistake, you can't undo it."
   ]
  },
  {
   "cell_type": "code",
   "execution_count": 16,
   "id": "83f58492",
   "metadata": {},
   "outputs": [
    {
     "name": "stdout",
     "output_type": "stream",
     "text": [
      "The island. Neb and\n",
      "Ayrton was talking to gather everyer, “wings are about the corral from\n",
      "there? Was it, by its ore was not at general occupations, which had not left utensils, great number was rather, the cart had\n",
      "inhabited,\n",
      "assumed to sent back glidently to lead riving him, captain, Cyrus Harding had been rent off behind the\n",
      "wreced flint-after the promontory or twenty.”\n",
      "\n",
      "“What,” answered the qacidous mass and true, no mile, and in cross? Harding and Herbert hastened him in inside. This imperature the w\n"
     ]
    }
   ],
   "source": [
    "def random_sample(\n",
    "    model,\n",
    "    starting_str, \n",
    "    len_generated_text=500, \n",
    "):\n",
    "\n",
    "    # Encode starting string into a tensor using char2str.\n",
    "    encoded_input = torch.tensor([char2int[s] for s in starting_str]).to(device)\n",
    "    \n",
    "    # Reshape to be 1 by ??? - let PyTorch figure this out.\n",
    "    encoded_input = encoded_input.view(1, -1)\n",
    "\n",
    "    # This will be what you generate, but it starts off with something.\n",
    "    generated_str = starting_str\n",
    "\n",
    "    # Put model in eval mode. This matters if we had dropout o batch / layer norms.\n",
    "    model.eval()\n",
    "    \n",
    "    hidden, cell = model.init_hidden(1)\n",
    "    \n",
    "    hidden = hidden.to(device)\n",
    "    \n",
    "    cell = cell.to(device)\n",
    "        \n",
    "    # Build up the starting hidden and cell states.\n",
    "    # You can do this all in one go?\n",
    "    for c in range(len(starting_str)-1):\n",
    "        # Feed each letter 1 by 1 and then get the final hidden state.\n",
    "        out = encoded_input[:, c].unsqueeze(0)\n",
    "        # Pass out through, note we update hidden and cell and use them again\n",
    "        _, (hidden, cell) = model(out, hidden, cell)\n",
    "    \n",
    "    # Gte the last char; note we did not do go to the last char above.\n",
    "    last_char = encoded_input[:, -1]\n",
    "    # Generate chars one at a time, add them to generated_str.\n",
    "    # Do this over and over until you get the desired length.\n",
    "    for i in range(len_generated_text):\n",
    "        last_char = last_char.unsqueeze(0)\n",
    "        # Use hidden and cell from the above.\n",
    "        # Use last_char, which will be updated over and over.\n",
    "        logits, (hidden, cell) = model(last_char, hidden, cell) \n",
    "        # Get the logits.\n",
    "        logits = logits.squeeze()\n",
    "        \n",
    "        # m is a random variable with probabilities based on the softmax of the logits.\n",
    "        m = Categorical(logits=logits)\n",
    "        \n",
    "        # Generate from m 1 char.\n",
    "        last_char = m.sample().unsqueeze(0)\n",
    "        # Add the geenrated char to generated_str, but pass it through int2str so that \n",
    "        generated_str += int2char[last_char.squeeze(0).item()]\n",
    "        \n",
    "    return generated_str\n",
    "\n",
    "torch.manual_seed(1)\n",
    "model.to(device)\n",
    "print(random_sample(model, starting_str='The island'))"
   ]
  },
  {
   "cell_type": "code",
   "execution_count": null,
   "id": "f1d6c39f",
   "metadata": {},
   "outputs": [],
   "source": []
  }
 ],
 "metadata": {
  "kernelspec": {
   "display_name": "pytorch2",
   "language": "python",
   "name": "python3"
  },
  "language_info": {
   "codemirror_mode": {
    "name": "ipython",
    "version": 3
   },
   "file_extension": ".py",
   "mimetype": "text/x-python",
   "name": "python",
   "nbconvert_exporter": "python",
   "pygments_lexer": "ipython3",
   "version": "3.11.0 (main, Mar  1 2023, 12:33:14) [Clang 14.0.6 ]"
  },
  "vscode": {
   "interpreter": {
    "hash": "c5702c48ecd7f015dfce7c460d8f4a2fc027f62144b4929be851a4509d67088e"
   }
  }
 },
 "nbformat": 4,
 "nbformat_minor": 5
}
