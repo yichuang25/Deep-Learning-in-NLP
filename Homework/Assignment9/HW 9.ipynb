{
 "cells": [
  {
   "cell_type": "code",
   "execution_count": 1,
   "id": "0abae0e4",
   "metadata": {},
   "outputs": [
    {
     "name": "stderr",
     "output_type": "stream",
     "text": [
      "c:\\Users\\Alex\\miniconda3\\lib\\site-packages\\tqdm\\auto.py:22: TqdmWarning: IProgress not found. Please update jupyter and ipywidgets. See https://ipywidgets.readthedocs.io/en/stable/user_install.html\n",
      "  from .autonotebook import tqdm as notebook_tqdm\n"
     ]
    }
   ],
   "source": [
    "from __future__ import unicode_literals, print_function, division\n",
    "from io import open\n",
    "import unicodedata\n",
    "import string\n",
    "import re\n",
    "import random\n",
    "\n",
    "import torch\n",
    "import torch.nn as nn\n",
    "from torch import optim\n",
    "import torch.nn.functional as F\n",
    "\n",
    "# Change to MPS logic if on mac\n",
    "device = torch.device(\"cuda:0\")"
   ]
  },
  {
   "cell_type": "markdown",
   "id": "15cd0d19",
   "metadata": {},
   "source": [
    "For this notebook, use the hints to fill in the missing code."
   ]
  },
  {
   "cell_type": "code",
   "execution_count": 2,
   "id": "ca4546b6",
   "metadata": {},
   "outputs": [],
   "source": [
    "FILL_IN = \"FILL IN\""
   ]
  },
  {
   "cell_type": "code",
   "execution_count": 3,
   "id": "76eb1756",
   "metadata": {},
   "outputs": [],
   "source": [
    "SOS_token = 0\n",
    "EOS_token = 1\n",
    "\n",
    "class Lang:\n",
    "    def __init__(self, name):\n",
    "        self.name = name\n",
    "        self.word2index = {}\n",
    "        self.word2count = {}\n",
    "        self.index2word = {0: \"SOS\", 1: \"EOS\"}\n",
    "        self.n_words = 2  # Count SOS and EOS\n",
    "    \n",
    "    def addSentence(self, sentence):\n",
    "        for word in sentence.split(' '):\n",
    "            self.addWord(word)\n",
    "\n",
    "    def addWord(self, word):\n",
    "        if word not in self.word2index:\n",
    "            self.word2index[word] = self.n_words\n",
    "            self.word2count[word] = 1\n",
    "            self.index2word[self.n_words] = word\n",
    "            self.n_words += 1\n",
    "        else:\n",
    "            self.word2count[word] += 1"
   ]
  },
  {
   "cell_type": "code",
   "execution_count": 4,
   "id": "2771ae34",
   "metadata": {},
   "outputs": [],
   "source": [
    "# Turn a Unicode string to plain ASCII, thanks to\n",
    "# https://stackoverflow.com/a/518232/2809427\n",
    "def unicodeToAscii(s):\n",
    "    return ''.join(\n",
    "        c for c in unicodedata.normalize('NFD', s)\n",
    "        if unicodedata.category(c) != 'Mn'\n",
    "    )\n",
    "\n",
    "# Lowercase, trim, and remove non-letter characters\n",
    "\n",
    "def normalizeString(s):\n",
    "    s = unicodeToAscii(s.lower().strip())\n",
    "    s = re.sub(r\"([.!?])\", r\" \\1\", s)\n",
    "    s = re.sub(r\"[^a-zA-Z.!?]+\", r\" \", s)\n",
    "    return s"
   ]
  },
  {
   "cell_type": "code",
   "execution_count": 5,
   "id": "a64a592d",
   "metadata": {},
   "outputs": [],
   "source": [
    "def readLangs(lang1, lang2, reverse=False):\n",
    "    print(\"Reading lines...\")\n",
    "\n",
    "    # Read the file and split into lines\n",
    "    lines = open('data/%s-%s.txt' % (lang1, lang2), encoding='utf-8').\\\n",
    "        read().strip().split('\\n')\n",
    "\n",
    "    # Split every line into pairs and normalize\n",
    "    pairs = [[normalizeString(s) for s in l.split('\\t')] for l in lines]\n",
    "\n",
    "    # Reverse pairs, make Lang instances\n",
    "    if reverse:\n",
    "        pairs = [list(reversed(p)) for p in pairs]\n",
    "        input_lang = Lang(lang2)\n",
    "        output_lang = Lang(lang1)\n",
    "    else:\n",
    "        input_lang = Lang(lang1)\n",
    "        output_lang = Lang(lang2)\n",
    "\n",
    "    return input_lang, output_lang, pairs"
   ]
  },
  {
   "cell_type": "code",
   "execution_count": 6,
   "id": "247eaa96",
   "metadata": {},
   "outputs": [],
   "source": [
    "MAX_LENGTH = 10\n",
    "\n",
    "# We'll just read in data with these prefixes so we have easier data to deal with\n",
    "# These are \"target\" prefixes\n",
    "eng_prefixes = (\n",
    "    \"i am \", \"i m \",\n",
    "    \"he is\", \"he s \",\n",
    "    \"she is\", \"she s \",\n",
    "    \"you are\", \"you re \",\n",
    "    \"we are\", \"we re \",\n",
    "    \"they are\", \"they re \"\n",
    ")\n",
    "\n",
    "# Only use pairs where the english data (pair[1]) has the prefix above\n",
    "# Also, only consider data where pair[0] and pair[1] have length less than MAX_LENGTH\n",
    "# Split on space first here also as MAX_LENGTH means the number of tokens (words), not number of chars\n",
    "def filterPair(p):\n",
    "    return (p[1].startswith(eng_prefixes)) & (len(p[0].split(' ')) < MAX_LENGTH) & (len(p[1].split(' ')) < MAX_LENGTH)\n",
    "\n",
    "def filterPairs(pairs):\n",
    "    return [pair for pair in pairs if filterPair(pair)]"
   ]
  },
  {
   "cell_type": "code",
   "execution_count": 29,
   "id": "886fd4e7",
   "metadata": {},
   "outputs": [
    {
     "name": "stdout",
     "output_type": "stream",
     "text": [
      "Reading lines...\n",
      "Read 135842 sentence pairs\n",
      "Trimmed to 10599 sentence pairs\n",
      "Counting words...\n",
      "Counted words:\n",
      "fra 4345\n",
      "eng 2803\n",
      "['je ne suis pas different .', 'i m no different .']\n"
     ]
    }
   ],
   "source": [
    "def prepareData(lang1, lang2, reverse=False):\n",
    "    input_lang, output_lang, pairs = readLangs(lang1, lang2, reverse)\n",
    "    print(\"Read %s sentence pairs\" % len(pairs))\n",
    "    pairs = filterPairs(pairs)\n",
    "    print(\"Trimmed to %s sentence pairs\" % len(pairs))\n",
    "    print(\"Counting words...\")\n",
    "    for pair in pairs:\n",
    "        input_lang.addSentence(pair[0])\n",
    "        output_lang.addSentence(pair[1])\n",
    "    print(\"Counted words:\")\n",
    "    print(input_lang.name, input_lang.n_words)\n",
    "    print(output_lang.name, output_lang.n_words)\n",
    "    return input_lang, output_lang, pairs\n",
    "\n",
    "\n",
    "input_lang, output_lang, pairs = prepareData('eng', 'fra', True)\n",
    "print(random.choice(pairs))"
   ]
  },
  {
   "cell_type": "code",
   "execution_count": 48,
   "id": "81d97f36",
   "metadata": {},
   "outputs": [],
   "source": [
    "(inp, tar) = tensorsFromPair(pairs[0])\n",
    "test_tensor = inp[0]"
   ]
  },
  {
   "cell_type": "code",
   "execution_count": null,
   "id": "e737d0b6",
   "metadata": {},
   "outputs": [
    {
     "data": {
      "text/plain": [
       "device(type='cuda', index=0)"
      ]
     },
     "execution_count": 111,
     "metadata": {},
     "output_type": "execute_result"
    }
   ],
   "source": [
    "test_tensor.device"
   ]
  },
  {
   "cell_type": "code",
   "execution_count": null,
   "id": "dc21ba6f",
   "metadata": {},
   "outputs": [
    {
     "data": {
      "text/plain": [
       "torch.Size([1, 1, 256])"
      ]
     },
     "execution_count": 118,
     "metadata": {},
     "output_type": "execute_result"
    }
   ],
   "source": [
    "emb_test = torch.nn.Embedding(input_lang.n_words, 256).to(device)\n",
    "test = emb_test(test_tensor)\n",
    "test = test.view(1,1,-1)\n",
    "test.shape"
   ]
  },
  {
   "cell_type": "code",
   "execution_count": null,
   "id": "9f3214cd",
   "metadata": {},
   "outputs": [
    {
     "data": {
      "text/plain": [
       "torch.Size([1, 2803])"
      ]
     },
     "execution_count": 121,
     "metadata": {},
     "output_type": "execute_result"
    }
   ],
   "source": [
    "lstm_test = torch.nn.LSTM(input_size = 256,\n",
    "                                  hidden_size = 256,\n",
    "                                  batch_first=True).to(device)\n",
    "test = test.view(1,1,-1)\n",
    "output, hidden_cell = lstm_test(test, (torch.zeros(1, 1, 256).to(device), torch.zeros(1, 1, 256).to(device)))\n",
    "output = torch.nn.Linear(256, output_lang.n_words).to(device)(output)\n",
    "# output = torch.argmax(output, dim=2).view(-1)\n",
    "output = output.squeeze(0)\n",
    "output.shape"
   ]
  },
  {
   "cell_type": "code",
   "execution_count": null,
   "id": "e2393913",
   "metadata": {},
   "outputs": [
    {
     "data": {
      "text/plain": [
       "tensor([1156], device='cuda:0')"
      ]
     },
     "execution_count": 122,
     "metadata": {},
     "output_type": "execute_result"
    }
   ],
   "source": [
    "output = torch.argmax(output, dim=-1)\n",
    "output"
   ]
  },
  {
   "cell_type": "code",
   "execution_count": null,
   "id": "05e461d7",
   "metadata": {},
   "outputs": [
    {
     "data": {
      "text/plain": [
       "tensor([1156], device='cuda:0')"
      ]
     },
     "execution_count": 123,
     "metadata": {},
     "output_type": "execute_result"
    }
   ],
   "source": [
    "output = output.detach()\n",
    "output.to(device)"
   ]
  },
  {
   "cell_type": "code",
   "execution_count": null,
   "id": "a394240a",
   "metadata": {},
   "outputs": [
    {
     "data": {
      "text/plain": [
       "tensor([   0, 1156], device='cuda:0')"
      ]
     },
     "execution_count": 125,
     "metadata": {},
     "output_type": "execute_result"
    }
   ],
   "source": [
    "decoder_input = torch.tensor([SOS_token]).to(device)\n",
    "\n",
    "decoder_input = torch.cat((decoder_input, output))\n",
    "decoder_input"
   ]
  },
  {
   "cell_type": "code",
   "execution_count": null,
   "id": "986c9b61",
   "metadata": {},
   "outputs": [
    {
     "data": {
      "text/plain": [
       "tensor([2])"
      ]
     },
     "execution_count": 63,
     "metadata": {},
     "output_type": "execute_result"
    }
   ],
   "source": [
    "inp[0].view(-1).long()"
   ]
  },
  {
   "cell_type": "code",
   "execution_count": null,
   "id": "d7b30bbc",
   "metadata": {},
   "outputs": [
    {
     "data": {
      "text/plain": [
       "tensor(7.9562, grad_fn=<NllLossBackward0>)"
      ]
     },
     "execution_count": 49,
     "metadata": {},
     "output_type": "execute_result"
    }
   ],
   "source": [
    "criterion = torch.nn.CrossEntropyLoss()\n",
    "\n",
    "criterion(output, inp[0].view(-1))"
   ]
  },
  {
   "cell_type": "code",
   "execution_count": null,
   "id": "c583f543",
   "metadata": {},
   "outputs": [
    {
     "data": {
      "text/plain": [
       "torch.Size([5, 1])"
      ]
     },
     "execution_count": 68,
     "metadata": {},
     "output_type": "execute_result"
    }
   ],
   "source": [
    "inp.shape"
   ]
  },
  {
   "cell_type": "code",
   "execution_count": null,
   "id": "f64507e7",
   "metadata": {},
   "outputs": [
    {
     "data": {
      "text/plain": [
       "tensor([[2],\n",
       "        [3],\n",
       "        [4],\n",
       "        [5],\n",
       "        [1]])"
      ]
     },
     "execution_count": 87,
     "metadata": {},
     "output_type": "execute_result"
    }
   ],
   "source": [
    "inp"
   ]
  },
  {
   "cell_type": "code",
   "execution_count": null,
   "id": "7696daca",
   "metadata": {},
   "outputs": [
    {
     "data": {
      "text/plain": [
       "tensor([[2],\n",
       "        [3],\n",
       "        [4],\n",
       "        [1]])"
      ]
     },
     "execution_count": 88,
     "metadata": {},
     "output_type": "execute_result"
    }
   ],
   "source": [
    "tar"
   ]
  },
  {
   "cell_type": "code",
   "execution_count": 56,
   "id": "138cf5e5",
   "metadata": {},
   "outputs": [],
   "source": [
    "class EncoderRNN(nn.Module):\n",
    "    def __init__(self, input_size, hidden_size):\n",
    "        super(EncoderRNN, self).__init__()\n",
    "        self.hidden_size = hidden_size\n",
    "\n",
    "        # Initialize the embedding and lstm; use batch_first=True\n",
    "        self.embedding = torch.nn.Embedding(input_size, self.hidden_size)\n",
    "        self.lstm = torch.nn.LSTM(input_size = self.hidden_size,\n",
    "                                  hidden_size = self.hidden_size,\n",
    "                                  batch_first=True)\n",
    "\n",
    "    def forward(self, input, hidden_cell):\n",
    "        # Get the embeddings and reshape to be (1, 1, -1)\n",
    "        # Why? remember we use batch size = 1 in this HW for simplicity\n",
    "        embedded = self.embedding(input)\n",
    "        output = embedded.view(1, 1, -1)\n",
    "        # Push through the lstm\n",
    "        output, hidden_cell = self.lstm(output, hidden_cell)\n",
    "        return output, hidden_cell\n",
    "\n",
    "    def initHidden(self):\n",
    "        return torch.zeros(1, 1, self.hidden_size, device=device)"
   ]
  },
  {
   "cell_type": "code",
   "execution_count": 59,
   "id": "c1d6ee6c",
   "metadata": {},
   "outputs": [],
   "source": [
    "class DecoderRNN(nn.Module):\n",
    "    def __init__(self, hidden_size, output_size):\n",
    "        super(DecoderRNN, self).__init__()\n",
    "        self.hidden_size = hidden_size\n",
    "\n",
    "        # Initialize the embedding\n",
    "        self.embedding = torch.nn.Embedding(output_size, self.hidden_size)\n",
    "        # Initialize an LSTM with yt and kt dimensions hidden_size\n",
    "        # Use batch_first=True\n",
    "        self.lstm = torch.nn.LSTM(input_size = self.hidden_size,\n",
    "                                  hidden_size = self.hidden_size,\n",
    "                                  batch_first=True)\n",
    "        # Initialize a Linear layer going to the appropriate vocabulary size\n",
    "        self.out = torch.nn.Linear(self.hidden_size, output_size)\n",
    "        # Optional: If you use NLLLoss, initialize LogSoftmax here\n",
    "        # What dimension?\n",
    "\n",
    "    def forward(self, input, hidden_cell):\n",
    "        output = self.embedding(input).view(1, 1, -1)\n",
    "        # Push through relu\n",
    "        output = torch.nn.ReLU()(output)\n",
    "        # Push output and hidden_cell tuple through the lstm\n",
    "        output, hidden_cell = self.lstm(output, hidden_cell)\n",
    "        # Apply LogSoftmax to output (?)\n",
    "        # Note you can leave this out if you wor with logits and CrossEntropyLoss\n",
    "        output = self.out(output)\n",
    "        output = output.squeeze(0)\n",
    "        # output = torch.argmax(output, dim=2).squeeze()\n",
    "        # output = self.softmax(output)\n",
    "        return output, hidden_cell\n",
    "\n",
    "    def initHidden(self):\n",
    "        # Used to initialize the hidden state (or cell state) to a tensor of dimension (1, 1, hidden_size)\n",
    "        # Just return a tensor here\n",
    "        return torch.zeros(1, 1, self.hidden_size, device=device)"
   ]
  },
  {
   "cell_type": "code",
   "execution_count": 60,
   "id": "bfaf0877",
   "metadata": {},
   "outputs": [],
   "source": [
    "# Split a sentence by ' ' and return a list of the tokens (int ids) for each word\n",
    "# Use word2index\n",
    "def indexesFromSentence(lang, sentence):\n",
    "    return [lang.word2index[word] for word in sentence.split(' ')]\n",
    "\n",
    "# Call the above on a sentence\n",
    "# After calling, add the EOS_token (int id) to the gotten list\n",
    "# Return a tensor, but reshape it so it's dimensions (-1, 1)\n",
    "def tensorFromSentence(lang, sentence):\n",
    "    indexes = indexesFromSentence(lang, sentence)\n",
    "    indexes.append(1)\n",
    "    return torch.tensor(indexes).view(-1,1).to(device)\n",
    "\n",
    "# For a source, target pair, call the above. Return a tuple of 2 tensors, one input_tensor and another an output_tensor\n",
    "def tensorsFromPair(pair):\n",
    "    input_tensor = tensorFromSentence(input_lang, pair[0])\n",
    "    target_tensor = tensorFromSentence(output_lang, pair[1])\n",
    "    return (input_tensor, target_tensor)"
   ]
  },
  {
   "cell_type": "code",
   "execution_count": 71,
   "id": "c1d6a39b",
   "metadata": {},
   "outputs": [],
   "source": [
    "# For 50% of pairs, use teacher forcing so that we predict (y_1, y_2, ..., y_{T}) from (y_0, y_1, ..., y_{T-1}) on the decoder side\n",
    "# Without techer forcing, we start with y_0 = SOS_token and then use \\hat{y}_1, the prediction at time step 0 as the input to time step 1 on the decoder side\n",
    "# For this case, we'll predict (\\hat{y}_1, \\hat{y}_2, ..., \\hat{y}_{T}) from (y_0, \\hat{y}_1, ..., \\hat{y}_{T-1}) on the decoder side\n",
    "# The crucial thing to realize here is that \\hat{y}_t is stochastic, and dependent on what the model predicts - mistakes propegate!\n",
    "teacher_forcing_ratio = 0.5\n",
    "\n",
    "def train(\n",
    "    input_tensor,\n",
    "    target_tensor,\n",
    "    encoder,\n",
    "    decoder,\n",
    "    encoder_optimizer,\n",
    "    decoder_optimizer,\n",
    "    criterion,\n",
    "    max_length=MAX_LENGTH\n",
    "):\n",
    "    # Initialize the hidden and cell states\n",
    "    encoder_hidden = encoder.initHidden()\n",
    "    encoder_cell = encoder.initHidden()\n",
    "\n",
    "    # Reset the optimizer gradients to 0\n",
    "    encoder_optimizer.zero_grad()\n",
    "    decoder_optimizer.zero_grad()\n",
    "\n",
    "    input_length = input_tensor.size(0)\n",
    "    target_length = target_tensor.size(0)\n",
    "\n",
    "    loss = 0\n",
    "    \n",
    "    # Reverse the input here, see below\n",
    "    input_tensor = torch.flip(input_tensor, dims=(0,))\n",
    "        \n",
    "    # If we want to predict [x, y, z] from [a, b, c], we should feed in [c, b, a] on the encoder side so that a is as close to x as possible\n",
    "    # The above trick was noted in making a big difference\n",
    "    for it in range(input_length):\n",
    "        encoder_output, (encoder_hidden, encoder_cell) = encoder.forward(input_tensor[it], (encoder_hidden, encoder_cell))\n",
    "\n",
    "    # Initialize the decoder input to the SOS_token\n",
    "    decoder_input = torch.tensor([SOS_token], device=device)\n",
    "\n",
    "    # Initialize the hidden states of the decoder with the hidden states of the encoder\n",
    "    decoder_hidden = encoder_hidden\n",
    "    decoder_cell = encoder_cell\n",
    "\n",
    "    # For this pair, use teacher forcing with 50% probability, else don't\n",
    "    use_teacher_forcing = True if torch.rand(1).item() > teacher_forcing_ratio else False\n",
    "    \n",
    "    target_length_used = 0\n",
    "\n",
    "    if use_teacher_forcing:\n",
    "        # Teacher forcing: Feed the target as the next input\n",
    "        target_length_used = target_length\n",
    "        #TODO loop iteration may need to -1\n",
    "        for jt in range(target_length):\n",
    "            # Push decoder_input, decoder_hidden, and decoder_cell through the decoder\n",
    "            decoder_output, (decoder_hidden, decoder_cell) = decoder.forward(decoder_input, (decoder_hidden, decoder_cell))\n",
    "            # Update the loss\n",
    "            loss += criterion(decoder_output, target_tensor[jt].view(-1))\n",
    "            # Set the next decoder_input to the current y_t\n",
    "            decoder_input = target_tensor[jt] # Teacher forcing\n",
    "\n",
    "    else:\n",
    "        # Without teacher forcing: use its own predictions as the next input\n",
    "        # Note that in this case we feed in at most target_length words\n",
    "        # If, however, we predict EOS_token, we break out\n",
    "        # You need to also carefully get the target lenght used since it might not be target_length\n",
    "        for jt in range(target_length):\n",
    "            # As before\n",
    "            decoder_output, (decoder_hidden, decoder_cell) = decoder.forward(decoder_input, (decoder_hidden, decoder_cell))\n",
    "            \n",
    "            # Get the top index, \\hat{y}_t; this will be the next decoder_input\n",
    "            topv, topi = output_lang.index2word[torch.argmax(decoder_output, dim=-1).item()], torch.argmax(decoder_output, dim=-1)\n",
    "            decoder_input = topi.detach().to(device)  # Detach from history as input\n",
    "\n",
    "            loss += criterion(decoder_output, target_tensor[jt].view(-1))\n",
    "            \n",
    "            # Update the target_length_used\n",
    "            target_length_used += 1\n",
    "            \n",
    "            # If the EOS_token was generated, exit\n",
    "            if topv == 'EOS':\n",
    "                break\n",
    "\n",
    "    # Collect gradients\n",
    "    loss.backward()\n",
    "\n",
    "    # Do a step; do this both for the encoder and the decoder\n",
    "    encoder_optimizer.step()\n",
    "    decoder_optimizer.step()\n",
    "\n",
    "    # Return the loss for this pair. Note that you'll need to use target_length_used not target_length; why?\n",
    "    return loss.item()/target_length_used"
   ]
  },
  {
   "cell_type": "code",
   "execution_count": null,
   "id": "047885f4",
   "metadata": {},
   "outputs": [],
   "source": []
  },
  {
   "cell_type": "code",
   "execution_count": 72,
   "id": "5b0a1103",
   "metadata": {},
   "outputs": [],
   "source": [
    "# Helper functions used to time the optimizations\n",
    "import time\n",
    "import math\n",
    "\n",
    "def asMinutes(s):\n",
    "    m = math.floor(s / 60)\n",
    "    s -= m * 60\n",
    "    return '%dm %ds' % (m, s)\n",
    "\n",
    "def timeSince(since, percent):\n",
    "    now = time.time()\n",
    "    s = now - since\n",
    "    es = s / (percent)\n",
    "    rs = es - s\n",
    "    return '%s (- %s)' % (asMinutes(s), asMinutes(rs))"
   ]
  },
  {
   "cell_type": "markdown",
   "id": "b9bd0eda",
   "metadata": {},
   "source": [
    "trainIters below does SGD (batch 1) on the data."
   ]
  },
  {
   "cell_type": "code",
   "execution_count": 73,
   "id": "8763fc7e",
   "metadata": {},
   "outputs": [],
   "source": [
    "import matplotlib.pyplot as plt\n",
    "plt.switch_backend('agg')\n",
    "import matplotlib.ticker as ticker\n",
    "import numpy as np\n",
    "\n",
    "def showPlot(points):\n",
    "    plt.figure()\n",
    "    fig, ax = plt.subplots()\n",
    "    # this locator puts ticks at regular intervals\n",
    "    loc = ticker.MultipleLocator(base=0.2)\n",
    "    ax.yaxis.set_major_locator(loc)\n",
    "    plt.plot(points)\n",
    "\n",
    "def trainIters(\n",
    "    encoder,\n",
    "    decoder,\n",
    "    n_iters,\n",
    "    print_every=1000,\n",
    "    plot_every=100,\n",
    "    learning_rate=0.01\n",
    "):\n",
    "    start = time.time()\n",
    "    plot_losses = []\n",
    "    print_loss_total = 0  # Reset every print_every\n",
    "    plot_loss_total = 0  # Reset every plot_every\n",
    "\n",
    "    # Initialize the encoder and decoder optimizers with the above learning rate\n",
    "    encoder_optimizer = torch.optim.Adam(encoder.parameters(), lr=learning_rate)\n",
    "    decoder_optimizer = torch.optim.Adam(decoder.parameters(), lr=learning_rate)\n",
    "    \n",
    "    # Get n_iters training pairs\n",
    "    # In this example, we are effectively doing SGD with batch size 1\n",
    "    training_pairs = random.choices(pairs, k = n_iters)\n",
    "    \n",
    "    print(len(training_pairs))\n",
    "    \n",
    "    # The loss; either NLLLoss if you use log sigmoids or CrossEntropyLoss if you use logits\n",
    "    criterion = torch.nn.CrossEntropyLoss()\n",
    "\n",
    "    for it in range(1, n_iters + 1):\n",
    "        training_pair = tensorsFromPair(training_pairs[it-1])\n",
    "        input_tensor = training_pair[0]\n",
    "        target_tensor = training_pair[1]\n",
    "\n",
    "        # Train on the input, target pair\n",
    "        loss = train(input_tensor, target_tensor, \n",
    "                     encoder, decoder, \n",
    "                     encoder_optimizer, decoder_optimizer,\n",
    "                     criterion)\n",
    "        \n",
    "        # Update the total loss and the plot loss\n",
    "        # We can plot and print at different granularities\n",
    "        print_loss_total += loss\n",
    "        plot_loss_total += loss\n",
    "\n",
    "        if it % print_every == 0:\n",
    "            print_loss_avg = print_loss_total / print_every\n",
    "            print_loss_total = 0\n",
    "            print(\n",
    "                '%s (%d %d%%) %.4f' % (\n",
    "                    timeSince(start, it / n_iters),\n",
    "                    it, it / n_iters * 100, print_loss_avg)\n",
    "            )\n",
    "\n",
    "        if it % plot_every == 0:\n",
    "            plot_loss_avg = plot_loss_total / plot_every\n",
    "            plot_losses.append(plot_loss_avg)\n",
    "            plot_loss_total = 0\n",
    "\n",
    "            showPlot(plot_losses)"
   ]
  },
  {
   "cell_type": "markdown",
   "id": "c5aed258",
   "metadata": {},
   "source": [
    "Fill in the evaluation function using the hints below."
   ]
  },
  {
   "cell_type": "code",
   "execution_count": 74,
   "id": "d1990413",
   "metadata": {},
   "outputs": [],
   "source": [
    "# For a certain input, get the predicted output sentence\n",
    "def evaluate(encoder, decoder, sentence, max_length=MAX_LENGTH):\n",
    "    with torch.no_grad():\n",
    "        # Transform the input sentence into a tensor\n",
    "        input_tensor = tensorFromSentence(sentence)\n",
    "        input_length = input_tensor.size()[0]\n",
    "        # Initilize the hidden and cell states of the LSTM\n",
    "        encoder_hidden = encoder.initHidden()\n",
    "        encoder_cell = encoder.initHidden()\n",
    "        \n",
    "        # Run the data through the LSTM word by word manually\n",
    "        # At each step, feed in the input, the hidden state, and the cell state and calture the new hidden / cell states\n",
    "        for it in range(input_length):\n",
    "            encoder_output, (encoder_hidden, encoder_cell) = encoder.forward(input_tensor[it], \n",
    "                                                                             (encoder_hidden, encoder_cell))\n",
    "        \n",
    "        # Initialize the decoder input with the SOS token\n",
    "        # This is y_0\n",
    "        decoder_input = torch.tensor([SOS_token], device=device) # SOS\n",
    "\n",
    "        # Initialize the decoder hidden and cell states with the final encoder hidden and cell states\n",
    "        decoder_hidden = encoder_hidden\n",
    "        decoder_cell = encoder_cell\n",
    "\n",
    "        decoded_words = []\n",
    "\n",
    "        for jt in range(max_length):\n",
    "            # As with the encoder run the \\hat{y}_{t-1}, hidden, and state cells through the decoder\n",
    "            # Capture the new hidden and cell states and the logits or log_softmax for the vocabulary\n",
    "            decoder_output, (decoder_hidden, decoder_cell) = FILL_IN\n",
    "            # Get the top y for the decoder, this will be the new \\hat{y}_t which we can use at the next step\n",
    "            _, topi = FILL_IN\n",
    "            \n",
    "            # Put logic so that if we get topi == EOS_token, we add this and break\n",
    "            # Otherwise, we map the index topi to the word in output_lang via index2word\n",
    "            FILL_IN\n",
    "\n",
    "            decoder_input = topi.squeeze().detach()\n",
    "\n",
    "        return decoded_words"
   ]
  },
  {
   "cell_type": "code",
   "execution_count": 75,
   "id": "eb66cef2",
   "metadata": {},
   "outputs": [
    {
     "name": "stdout",
     "output_type": "stream",
     "text": [
      "75000\n",
      "0m 14s (- 17m 37s) (1000 1%) 3.5744\n"
     ]
    },
    {
     "name": "stderr",
     "output_type": "stream",
     "text": [
      "C:\\Users\\Alex\\AppData\\Local\\Temp\\ipykernel_23420\\3857552575.py:7: RuntimeWarning: More than 20 figures have been opened. Figures created through the pyplot interface (`matplotlib.pyplot.figure`) are retained until explicitly closed and may consume too much memory. (To control this warning, see the rcParam `figure.max_open_warning`). Consider using `matplotlib.pyplot.close()`.\n",
      "  plt.figure()\n"
     ]
    },
    {
     "name": "stdout",
     "output_type": "stream",
     "text": [
      "0m 27s (- 16m 50s) (2000 2%) 3.8943\n",
      "0m 41s (- 16m 45s) (3000 4%) 3.9493\n",
      "0m 55s (- 16m 30s) (4000 5%) 3.8548\n",
      "1m 10s (- 16m 20s) (5000 6%) 3.8089\n",
      "1m 23s (- 16m 2s) (6000 8%) 3.8986\n",
      "1m 37s (- 15m 50s) (7000 9%) 4.0283\n",
      "1m 52s (- 15m 43s) (8000 10%) 4.1070\n",
      "2m 6s (- 15m 25s) (9000 12%) 4.0509\n",
      "2m 19s (- 15m 8s) (10000 13%) 4.0118\n"
     ]
    },
    {
     "ename": "KeyboardInterrupt",
     "evalue": "",
     "output_type": "error",
     "traceback": [
      "\u001b[1;31m---------------------------------------------------------------------------\u001b[0m",
      "\u001b[1;31mKeyboardInterrupt\u001b[0m                         Traceback (most recent call last)",
      "Cell \u001b[1;32mIn[75], line 7\u001b[0m\n\u001b[0;32m      4\u001b[0m encoder \u001b[39m=\u001b[39m EncoderRNN(input_lang\u001b[39m.\u001b[39mn_words, hidden_size)\u001b[39m.\u001b[39mto(device)\n\u001b[0;32m      5\u001b[0m decoder \u001b[39m=\u001b[39m DecoderRNN(hidden_size, output_lang\u001b[39m.\u001b[39mn_words)\u001b[39m.\u001b[39mto(device)\n\u001b[1;32m----> 7\u001b[0m trainIters(encoder, decoder, \u001b[39m75000\u001b[39;49m, print_every\u001b[39m=\u001b[39;49m\u001b[39m1000\u001b[39;49m)\n",
      "Cell \u001b[1;32mIn[73], line 46\u001b[0m, in \u001b[0;36mtrainIters\u001b[1;34m(encoder, decoder, n_iters, print_every, plot_every, learning_rate)\u001b[0m\n\u001b[0;32m     43\u001b[0m target_tensor \u001b[39m=\u001b[39m training_pair[\u001b[39m1\u001b[39m]\n\u001b[0;32m     45\u001b[0m \u001b[39m# Train on the input, target pair\u001b[39;00m\n\u001b[1;32m---> 46\u001b[0m loss \u001b[39m=\u001b[39m train(input_tensor, target_tensor, \n\u001b[0;32m     47\u001b[0m              encoder, decoder, \n\u001b[0;32m     48\u001b[0m              encoder_optimizer, decoder_optimizer,\n\u001b[0;32m     49\u001b[0m              criterion)\n\u001b[0;32m     51\u001b[0m \u001b[39m# Update the total loss and the plot loss\u001b[39;00m\n\u001b[0;32m     52\u001b[0m \u001b[39m# We can plot and print at different granularities\u001b[39;00m\n\u001b[0;32m     53\u001b[0m print_loss_total \u001b[39m+\u001b[39m\u001b[39m=\u001b[39m loss\n",
      "Cell \u001b[1;32mIn[71], line 72\u001b[0m, in \u001b[0;36mtrain\u001b[1;34m(input_tensor, target_tensor, encoder, decoder, encoder_optimizer, decoder_optimizer, criterion, max_length)\u001b[0m\n\u001b[0;32m     69\u001b[0m decoder_output, (decoder_hidden, decoder_cell) \u001b[39m=\u001b[39m decoder\u001b[39m.\u001b[39mforward(decoder_input, (decoder_hidden, decoder_cell))\n\u001b[0;32m     71\u001b[0m \u001b[39m# Get the top index, \\hat{y}_t; this will be the next decoder_input\u001b[39;00m\n\u001b[1;32m---> 72\u001b[0m topv, topi \u001b[39m=\u001b[39m output_lang\u001b[39m.\u001b[39mindex2word[torch\u001b[39m.\u001b[39margmax(decoder_output, dim\u001b[39m=\u001b[39m\u001b[39m-\u001b[39m\u001b[39m1\u001b[39m)\u001b[39m.\u001b[39mitem()], torch\u001b[39m.\u001b[39;49margmax(decoder_output, dim\u001b[39m=\u001b[39;49m\u001b[39m-\u001b[39;49m\u001b[39m1\u001b[39;49m)\n\u001b[0;32m     73\u001b[0m decoder_input \u001b[39m=\u001b[39m topi\u001b[39m.\u001b[39mdetach()\u001b[39m.\u001b[39mto(device)  \u001b[39m# Detach from history as input\u001b[39;00m\n\u001b[0;32m     75\u001b[0m loss \u001b[39m+\u001b[39m\u001b[39m=\u001b[39m criterion(decoder_output, target_tensor[jt]\u001b[39m.\u001b[39mview(\u001b[39m-\u001b[39m\u001b[39m1\u001b[39m))\n",
      "\u001b[1;31mKeyboardInterrupt\u001b[0m: "
     ]
    }
   ],
   "source": [
    "hidden_size = 256\n",
    "cell_size = 256\n",
    "# Initialize the encoder and decoder and run them through the trainIters function\n",
    "encoder = EncoderRNN(input_lang.n_words, hidden_size).to(device)\n",
    "decoder = DecoderRNN(hidden_size, output_lang.n_words).to(device)\n",
    "\n",
    "trainIters(encoder, decoder, 75000, print_every=1000)"
   ]
  },
  {
   "cell_type": "code",
   "execution_count": 25,
   "id": "d9467ede",
   "metadata": {},
   "outputs": [
    {
     "name": "stdout",
     "output_type": "stream",
     "text": [
      "1m 4s (- 14m 58s) (5000 6%) 2.8336\n",
      "2m 6s (- 13m 41s) (10000 13%) 2.3788\n",
      "3m 16s (- 13m 5s) (15000 20%) 2.1190\n",
      "4m 22s (- 12m 1s) (20000 26%) 1.9225\n",
      "5m 25s (- 10m 51s) (25000 33%) 1.7266\n",
      "6m 30s (- 9m 46s) (30000 40%) 1.5689\n",
      "7m 36s (- 8m 41s) (35000 46%) 1.4171\n",
      "8m 39s (- 7m 34s) (40000 53%) 1.3130\n",
      "9m 42s (- 6m 28s) (45000 60%) 1.1897\n",
      "10m 45s (- 5m 22s) (50000 66%) 1.0888\n",
      "11m 49s (- 4m 17s) (55000 73%) 0.9790\n",
      "12m 52s (- 3m 13s) (60000 80%) 0.9047\n",
      "13m 55s (- 2m 8s) (65000 86%) 0.8080\n",
      "47m 11s (- 3m 22s) (70000 93%) 0.7385\n",
      "235m 55s (- 0m 0s) (75000 100%) 0.6681\n"
     ]
    }
   ],
   "source": [
    "hidden_size = 256\n",
    "cell_size = 256\n",
    "# Initialize the encoder and decoder and run them through the trainIters function\n",
    "encoder = FILL_IN\n",
    "decoder = FILL_IN\n",
    "\n",
    "trainIters(encoder, decoder, 75000, print_every=5000)"
   ]
  },
  {
   "cell_type": "code",
   "execution_count": null,
   "id": "c0596845",
   "metadata": {},
   "outputs": [],
   "source": []
  },
  {
   "cell_type": "markdown",
   "id": "3456cd29",
   "metadata": {},
   "source": [
    "Here we will do an evaluation.\n",
    "Gather up n=7500 random pairs and for each pair get te BLEU score.\n",
    "For this exercise, don't use BLUE based on 4-grams, use just 2-grams (you need to figure out how to specify this in $sentence\\_bleu$ below). \n",
    "Investigate how this can be done with \"sentence_bleu\" in nltk - you can also find other implementations.\n",
    "Print the average BLEU score after you've randomly drawn the sentences. You should be a BLEU of about 10 or slightly more.\n",
    "Note that is is training BLEU, which is all I'd like you to get."
   ]
  },
  {
   "cell_type": "code",
   "execution_count": 29,
   "id": "3c2e1060",
   "metadata": {},
   "outputs": [],
   "source": [
    "from nltk.translate.bleu_score import sentence_bleu\n",
    "\n",
    "def evaluateRandomly(encoder, decoder, n=7500, debug=False):\n",
    "    bleu_scores = []\n",
    "    for i in range(n):\n",
    "        # Randomly choose a pair of sentences\n",
    "        pair = FILL_IN\n",
    "        if debug:\n",
    "            print('French Original: ', pair[0])\n",
    "            print('English Reference: ', pair[1])\n",
    "        # Leave out the <EOS> symbol\n",
    "        # Run the source French sentence through the encoder-decoder and get the output_words\n",
    "        output_words = FILL_IN\n",
    "        \n",
    "        # If <EOS> is at the end of output_words, remove it\n",
    "        FILL_IN\n",
    "                \n",
    "        output_sentence = ' '.join(output_words)\n",
    "        # Get the BLEU score based on 1 and 2 grams (words, bigrams); use 50% weight on each\n",
    "        # Use pair[1] as the reference\n",
    "        score = FILL_IN\n",
    "        # Append the BLEU score you got to the list of BLEU scores you keep\n",
    "        FILL_IN\n",
    "        if debug:\n",
    "            print('Candidate Translation: ', output_sentence)\n",
    "            print('BLEU: ', score)\n",
    "            print('')\n",
    "    # Return the mean of the BLEU scores\n",
    "    print('The mean BLEU score is: ', FILL_IN)"
   ]
  },
  {
   "cell_type": "code",
   "execution_count": null,
   "id": "fed06094",
   "metadata": {},
   "outputs": [],
   "source": []
  },
  {
   "cell_type": "code",
   "execution_count": 30,
   "id": "3277fc96",
   "metadata": {},
   "outputs": [
    {
     "name": "stdout",
     "output_type": "stream",
     "text": [
      "The mean BLEU score is:  10.651690951283388\n"
     ]
    }
   ],
   "source": [
    "evaluateRandomly(encoder, decoder)"
   ]
  },
  {
   "cell_type": "code",
   "execution_count": null,
   "id": "6e4f81ab",
   "metadata": {},
   "outputs": [],
   "source": []
  }
 ],
 "metadata": {
  "kernelspec": {
   "display_name": "Python 3.10.8 ('base')",
   "language": "python",
   "name": "python3"
  },
  "language_info": {
   "codemirror_mode": {
    "name": "ipython",
    "version": 3
   },
   "file_extension": ".py",
   "mimetype": "text/x-python",
   "name": "python",
   "nbconvert_exporter": "python",
   "pygments_lexer": "ipython3",
   "version": "3.10.8"
  },
  "vscode": {
   "interpreter": {
    "hash": "16ed27859114ec3a2ea86330879d9bf5297ca3d5c6dfd17134827f43bf0b03b0"
   }
  }
 },
 "nbformat": 4,
 "nbformat_minor": 5
}
