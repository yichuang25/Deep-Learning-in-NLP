{
  "cells": [
    {
      "cell_type": "code",
      "execution_count": 19,
      "id": "f13ded9f",
      "metadata": {
        "id": "f13ded9f"
      },
      "outputs": [],
      "source": [
        "# These are all the modules we'll be using later. Make sure you can import them\n",
        "# before proceeding further.\n",
        "%matplotlib inline\n",
        "import collections\n",
        "import math\n",
        "import numpy as np\n",
        "import pandas as pd\n",
        "import os\n",
        "import random\n",
        "import torch\n",
        "import torch.nn as nn\n",
        "import zipfile\n",
        "from matplotlib import pylab\n",
        "from six.moves import range\n",
        "from six.moves.urllib.request import urlretrieve\n",
        "from torch.nn.utils.rnn import pad_sequence\n",
        "import torch\n",
        "from torch.utils.data import DataLoader\n",
        "from torch.utils.data.dataset import random_split\n",
        "from torchtext.data.functional import to_map_style_dataset\n",
        "from torchtext.data.utils import get_tokenizer, ngrams_iterator\n",
        "from torchtext.datasets import DATASETS\n",
        "from torchtext.utils import download_from_url\n",
        "from torchtext.vocab import build_vocab_from_iterator\n",
        "import torch.nn as nn\n",
        "from torchtext.data.utils import get_tokenizer\n",
        "from torch.nn.utils.rnn import pad_sequence\n",
        "import torch.nn.functional as F\n",
        "from torchtext.vocab import FastText, CharNGram\n",
        "from itertools import chain\n",
        "\n",
        "seed = 54321"
      ]
    },
    {
      "cell_type": "markdown",
      "source": [
        "This notebook has you fitting a model for NER that uses both word embeddings and character level embeddings. Each word will get an embedding, and so will each character. In the end, a word's embedding will be the concatenation of the word embedding and the character embedding. \n",
        "\n",
        "For each sentence, the goal is to identity the NER tag for the word. Most words are marked \"O\", meaning that the tag is non informative. There are other tags, of the form B-tag and I-tag where tag can be 1 of 4 things. If a $y_{t}$ is labeled B-tag and next $y_{t+1}$ is the same tag type, then it should be marked I-tag not B-tag since we have the continuation of the same type of tag. NER is used to identify people, organizations, and other entities in long documents.\n",
        "\n",
        "For this problem, we should technically have a CRF layer on top of the GRU you build. This is because we are predicting a sequence for $y_t$, each $y_t$ is not independent but depends on the one before it (see above). However, since we did not do CRFs, you can just put a softmax layer as the prediction layer, per token you want to predict. If interested, it is easy to modify this HW to get it to work with a CRF, and prediction will improve from 80% to 96%, so it really is important. But you don't need to do that."
      ],
      "metadata": {
        "id": "yzQDVzXXi3Gg"
      },
      "id": "yzQDVzXXi3Gg"
    },
    {
      "cell_type": "code",
      "source": [
        "# Fill in the code below using the hints\n",
        "FILL_IN = \"FILL_IN\""
      ],
      "metadata": {
        "id": "E2MrC7WRixii"
      },
      "id": "E2MrC7WRixii",
      "execution_count": 20,
      "outputs": []
    },
    {
      "cell_type": "markdown",
      "id": "1edcf51b",
      "metadata": {
        "id": "1edcf51b"
      },
      "source": [
        "### Download the data"
      ]
    },
    {
      "cell_type": "code",
      "execution_count": 21,
      "id": "4eea599c",
      "metadata": {
        "colab": {
          "base_uri": "https://localhost:8080/"
        },
        "id": "4eea599c",
        "outputId": "a8b9bd3e-eaf2-4153-e2c3-4d74017c693f"
      },
      "outputs": [
        {
          "output_type": "stream",
          "name": "stdout",
          "text": [
            "Found and verified data/conllpp_train.txt\n",
            "Found and verified data/conllpp_dev.txt\n",
            "Found and verified data/conllpp_test.txt\n"
          ]
        }
      ],
      "source": [
        "url = 'https://github.com/ZihanWangKi/CrossWeigh/raw/master/data/'\n",
        "dir_name = 'data'\n",
        "def download_data(url, filename, download_dir, expected_bytes):\n",
        "    \"\"\"Download a file if not present, and make sure it's the right size.\"\"\"\n",
        "      \n",
        "    # Create directories if doesn't exist\n",
        "    os.makedirs(download_dir, exist_ok=True)\n",
        "    \n",
        "    # If file doesn't exist download\n",
        "    if not os.path.exists(os.path.join(download_dir,filename)):\n",
        "        filepath, _ = urlretrieve(url + filename, os.path.join(download_dir,filename))\n",
        "    else:\n",
        "        filepath = os.path.join(download_dir, filename)\n",
        "    \n",
        "    # Check the file size\n",
        "    statinfo = os.stat(filepath)\n",
        "    if statinfo.st_size == expected_bytes:\n",
        "        print('Found and verified %s' % filepath)\n",
        "    else:\n",
        "        print(statinfo.st_size)\n",
        "        raise Exception(\n",
        "          'Failed to verify ' + filepath + '. Can you get to it with a browser?')\n",
        "        \n",
        "    return filepath\n",
        "\n",
        "# Filepaths to train/valid/test data\n",
        "train_filepath = download_data(url, 'conllpp_train.txt', dir_name, 3283420)\n",
        "dev_filepath = download_data(url, 'conllpp_dev.txt', dir_name, 827443)\n",
        "test_filepath = download_data(url, 'conllpp_test.txt', dir_name, 748737)"
      ]
    },
    {
      "cell_type": "code",
      "execution_count": 22,
      "id": "dc3af9ed",
      "metadata": {
        "colab": {
          "base_uri": "https://localhost:8080/"
        },
        "id": "dc3af9ed",
        "outputId": "261782b9-15a6-4f9e-f571-0c10194002b3"
      },
      "outputs": [
        {
          "output_type": "stream",
          "name": "stdout",
          "text": [
            "-DOCSTART- -X- -X- O\n",
            "\n",
            "EU NNP B-NP B-ORG\n",
            "rejects VBZ B-VP O\n",
            "German JJ B-NP B-MISC\n",
            "call NN I-NP O\n",
            "to TO B-VP O\n",
            "boycott VB I-VP O\n",
            "British JJ B-NP B-MISC\n",
            "lamb NN I-NP O\n"
          ]
        }
      ],
      "source": [
        "!head data/conllpp_train.txt"
      ]
    },
    {
      "cell_type": "markdown",
      "id": "e4203ce6",
      "metadata": {
        "id": "e4203ce6"
      },
      "source": [
        "### Read the data"
      ]
    },
    {
      "cell_type": "code",
      "execution_count": 23,
      "id": "4db2c06f",
      "metadata": {
        "colab": {
          "base_uri": "https://localhost:8080/"
        },
        "id": "4db2c06f",
        "outputId": "10870ef9-cdc1-4637-baa8-f40adbb7c51e"
      },
      "outputs": [
        {
          "output_type": "stream",
          "name": "stdout",
          "text": [
            "Reading data ...\n",
            "\tDone\n",
            "Reading data ...\n",
            "\tDone\n",
            "Reading data ...\n",
            "\tDone\n",
            "Train size: 14041\n",
            "Valid size: 3250\n",
            "Test size: 3452\n",
            "\n",
            "Sample data\n",
            "\n",
            "Sentence: CRICKET - LEICESTERSHIRE TAKE OVER AT TOP AFTER INNINGS VICTORY .\n",
            "Labels: ['O', 'O', 'B-ORG', 'O', 'O', 'O', 'O', 'O', 'O', 'O', 'O']\n",
            "\n",
            "\n",
            "Sentence: LONDON 1996-08-30\n",
            "Labels: ['B-LOC', 'O']\n",
            "\n",
            "\n",
            "Sentence: West Indian all-rounder Phil Simmons took four for 38 on Friday as Leicestershire beat Somerset by an innings and 39 runs in two days to take over at the head of the county championship .\n",
            "Labels: ['B-MISC', 'I-MISC', 'O', 'B-PER', 'I-PER', 'O', 'O', 'O', 'O', 'O', 'O', 'O', 'B-ORG', 'O', 'B-ORG', 'O', 'O', 'O', 'O', 'O', 'O', 'O', 'O', 'O', 'O', 'O', 'O', 'O', 'O', 'O', 'O', 'O', 'O', 'O', 'O']\n",
            "\n",
            "\n",
            "Sentence: Their stay on top , though , may be short-lived as title rivals Essex , Derbyshire and Surrey all closed in on victory while Kent made up for lost time in their rain-affected match against Nottinghamshire .\n",
            "Labels: ['O', 'O', 'O', 'O', 'O', 'O', 'O', 'O', 'O', 'O', 'O', 'O', 'O', 'B-ORG', 'O', 'B-ORG', 'O', 'B-ORG', 'O', 'O', 'O', 'O', 'O', 'O', 'B-ORG', 'O', 'O', 'O', 'O', 'O', 'O', 'O', 'O', 'O', 'O', 'B-ORG', 'O']\n",
            "\n",
            "\n",
            "Sentence: After bowling Somerset out for 83 on the opening morning at Grace Road , Leicestershire extended their first innings by 94 runs before being bowled out for 296 with England discard Andy Caddick taking three for 83 .\n",
            "Labels: ['O', 'O', 'B-ORG', 'O', 'O', 'O', 'O', 'O', 'O', 'O', 'O', 'B-LOC', 'I-LOC', 'O', 'B-ORG', 'O', 'O', 'O', 'O', 'O', 'O', 'O', 'O', 'O', 'O', 'O', 'O', 'O', 'O', 'B-LOC', 'O', 'B-PER', 'I-PER', 'O', 'O', 'O', 'O', 'O']\n",
            "\n",
            "\n"
          ]
        }
      ],
      "source": [
        "def read_data(filename):\n",
        "    '''\n",
        "    Read data from a file with given filename\n",
        "    Returns a list of sentences (each sentence a string), \n",
        "    and list of ner labels for each string\n",
        "    '''\n",
        "\n",
        "    print(\"Reading data ...\")\n",
        "    # master lists - Holds sentences (list of tokens), ner_labels (for each token an NER label)\n",
        "    sentences, ner_labels = [], [] \n",
        "    \n",
        "    # Open the file\n",
        "    with open(filename,'r',encoding='latin-1') as f:        \n",
        "        # Read each line\n",
        "        is_sos = True # We record at each line if we are seeing the beginning of a sentence\n",
        "        \n",
        "        # Tokens and labels of a single sentence, flushed when encountered a new one\n",
        "        sentence_tokens = []\n",
        "        sentence_labels = []\n",
        "        i = 0\n",
        "        for row in f:\n",
        "            # If we are seeing an empty line or -DOCSTART- that's a new line\n",
        "            if len(row.strip()) == 0 or row.split(' ')[0] == '-DOCSTART-':\n",
        "                is_sos = False\n",
        "            # Otherwise keep capturing tokens and labels\n",
        "            else:\n",
        "                is_sos = True\n",
        "                token, _, _, ner_tag = row.split(' ')\n",
        "                sentence_tokens.append(token)\n",
        "                sentence_labels.append(ner_tag.strip())\n",
        "            \n",
        "            # When we reach the end / or reach the beginning of next\n",
        "            # add the data to the master lists, flush the temporary one\n",
        "            if not is_sos and len(sentence_tokens)>0:\n",
        "                sentences.append(' '.join(sentence_tokens))\n",
        "                ner_labels.append(sentence_labels)\n",
        "                sentence_tokens, sentence_labels = [], []\n",
        "    \n",
        "    print('\\tDone')\n",
        "    return sentences, ner_labels\n",
        "\n",
        "# Train data\n",
        "train_sentences, train_labels = read_data(train_filepath) \n",
        "# Validation data\n",
        "valid_sentences, valid_labels = read_data(dev_filepath) \n",
        "# Test data\n",
        "test_sentences, test_labels = read_data(test_filepath) \n",
        "\n",
        "# Print some stats\n",
        "print(f\"Train size: {len(train_labels)}\")\n",
        "print(f\"Valid size: {len(valid_labels)}\")\n",
        "print(f\"Test size: {len(test_labels)}\")\n",
        "\n",
        "# Print some data\n",
        "print('\\nSample data\\n')\n",
        "for v_sent, v_labels in zip(valid_sentences[:5], valid_labels[:5]):\n",
        "    print(f\"Sentence: {v_sent}\")\n",
        "    print(f\"Labels: {v_labels}\")\n",
        "    assert(len(v_sent.split(' ')) == len(v_labels))\n",
        "    print('\\n')"
      ]
    },
    {
      "cell_type": "code",
      "source": [
        "assert(len(train_labels) == 14041)\n",
        "assert(len(valid_labels) == 3250)\n",
        "assert(len(test_labels) == 3452)"
      ],
      "metadata": {
        "id": "o4gWY5fwOggZ"
      },
      "id": "o4gWY5fwOggZ",
      "execution_count": 24,
      "outputs": []
    },
    {
      "cell_type": "code",
      "execution_count": 59,
      "id": "f25d7ec1",
      "metadata": {
        "id": "f25d7ec1"
      },
      "outputs": [],
      "source": [
        "# We build these since the basic english tokenizer does get rid of some tokens that are useful.\n",
        "# Lowercase everything to make it easier - all strings should be lowercased\n",
        "class SentenceTokenizer():\n",
        "    def __call__(self, sentence):\n",
        "        # Return a list of tokens, \n",
        "        return FILL_IN\n",
        "    \n",
        "class WordTokenizer():\n",
        "    def __call__(self, word):\n",
        "        # Return a list of charcters\n",
        "        return FILL_IN"
      ]
    },
    {
      "cell_type": "code",
      "source": [
        "# Initialize to sentence and word tokenizers\n",
        "SENTENCE_TOKENIZER = FILL_IN\n",
        "WORD_TOKENIZER = FILL_IN"
      ],
      "metadata": {
        "id": "zWiq0llwObJ4"
      },
      "id": "zWiq0llwObJ4",
      "execution_count": 26,
      "outputs": []
    },
    {
      "cell_type": "code",
      "execution_count": 26,
      "id": "d4a21863",
      "metadata": {
        "id": "d4a21863"
      },
      "outputs": [],
      "source": []
    },
    {
      "cell_type": "code",
      "execution_count": 27,
      "id": "29dce365",
      "metadata": {
        "id": "29dce365"
      },
      "outputs": [],
      "source": [
        "assert(len(WORD_TOKENIZER(\"this is a sentence\")) == 18)\n",
        "assert(len(SENTENCE_TOKENIZER(\"this is a sentence\")) == 4)  "
      ]
    },
    {
      "cell_type": "code",
      "execution_count": 27,
      "id": "e6e3a1c9",
      "metadata": {
        "id": "e6e3a1c9"
      },
      "outputs": [],
      "source": []
    },
    {
      "cell_type": "code",
      "execution_count": 28,
      "id": "2eee65e3",
      "metadata": {
        "id": "2eee65e3"
      },
      "outputs": [],
      "source": [
        "# Get all the sentences, train, test, and validation\n",
        "sentences = FILL_IN\n",
        "# Get all the labels across the above 3 sets\n",
        "labels = FILL_IN\n",
        "\n",
        "# For each sentence, tokenize and return the list of tokens via \"yield\"\n",
        "def yield_word_tokens(sentences):\n",
        "    for sentence in sentences:\n",
        "        FILL_IN\n",
        "        # A list of word tokens\n",
        "        FILL_IN\n",
        "\n",
        "# Same thing bt for characters        \n",
        "def yield_char_tokens(sentences):\n",
        "    for word_tokens in yield_word_tokens(sentences):\n",
        "        for word_token in word_tokens:\n",
        "            FILL_IN\n",
        "            FILL_IN"
      ]
    },
    {
      "cell_type": "code",
      "execution_count": 29,
      "id": "b2861dab",
      "metadata": {
        "id": "b2861dab"
      },
      "outputs": [],
      "source": [
        "# Build the word vocabulary\n",
        "WORD_VOCAB = FILL_IN\n",
        "\n",
        "# Build the char vocabulary\n",
        "CHAR_VOCAB = FILL_IN"
      ]
    },
    {
      "cell_type": "code",
      "execution_count": 30,
      "id": "e3993201",
      "metadata": {
        "colab": {
          "base_uri": "https://localhost:8080/"
        },
        "id": "e3993201",
        "outputId": "6df335fc-f21f-4531-8c8e-87267ff2ef5d"
      },
      "outputs": [
        {
          "output_type": "execute_result",
          "data": {
            "text/plain": [
              "[64, 31, 8, 1780]"
            ]
          },
          "metadata": {},
          "execution_count": 30
        }
      ],
      "source": [
        "# Example: You should see 4 integer tokens below.\n",
        "WORD_VOCAB(SENTENCE_TOKENIZER(\"this is a sentence\"))"
      ]
    },
    {
      "cell_type": "code",
      "source": [
        "# Example: You should see 4 integer tokens below.\n",
        "CHAR_VOCAB(WORD_TOKENIZER(\"Xhis\"))"
      ],
      "metadata": {
        "id": "7aWc684EpwxG"
      },
      "id": "7aWc684EpwxG",
      "execution_count": null,
      "outputs": []
    },
    {
      "cell_type": "code",
      "execution_count": 30,
      "id": "9c1e86cd",
      "metadata": {
        "id": "9c1e86cd"
      },
      "outputs": [],
      "source": []
    },
    {
      "cell_type": "code",
      "execution_count": 31,
      "id": "f5dc348d",
      "metadata": {
        "id": "f5dc348d"
      },
      "outputs": [],
      "source": [
        "# Get the word to idx and idx to char dictionaries\n",
        "wtoi = FILL_IN\n",
        "itow = FILL_IN\n",
        "# Get the char to idx and idx to char dictionaries\n",
        "ctoi = FILL_IN\n",
        "itoc = FILL_IN"
      ]
    },
    {
      "cell_type": "code",
      "execution_count": 31,
      "id": "2abb364f",
      "metadata": {
        "id": "2abb364f"
      },
      "outputs": [],
      "source": []
    },
    {
      "cell_type": "code",
      "execution_count": 32,
      "id": "081c5ee8",
      "metadata": {
        "id": "081c5ee8"
      },
      "outputs": [],
      "source": [
        "assert(len(wtoi) == 26871)\n",
        "assert(len(ctoi) == 61)"
      ]
    },
    {
      "cell_type": "code",
      "execution_count": 32,
      "id": "f5398c46",
      "metadata": {
        "id": "f5398c46"
      },
      "outputs": [],
      "source": []
    },
    {
      "cell_type": "code",
      "execution_count": 33,
      "id": "ac468388",
      "metadata": {
        "id": "ac468388",
        "outputId": "54cbaaad-f083-4fb9-ddfb-b95ad9b50c28",
        "colab": {
          "base_uri": "https://localhost:8080/"
        }
      },
      "outputs": [
        {
          "output_type": "execute_result",
          "data": {
            "text/plain": [
              "(0, 0)"
            ]
          },
          "metadata": {},
          "execution_count": 33
        }
      ],
      "source": [
        "# You should see 0 and 0 below\n",
        "WORD_VOCAB['<pad>'], CHAR_VOCAB['<pad>']"
      ]
    },
    {
      "cell_type": "code",
      "execution_count": 34,
      "id": "d4227a0f",
      "metadata": {
        "id": "d4227a0f",
        "outputId": "ed5ba3e7-50c5-4450-ec44-1171f16ba84d",
        "colab": {
          "base_uri": "https://localhost:8080/"
        }
      },
      "outputs": [
        {
          "output_type": "execute_result",
          "data": {
            "text/plain": [
              "(1, 1)"
            ]
          },
          "metadata": {},
          "execution_count": 34
        }
      ],
      "source": [
        "# You should see 1 and 1 below\n",
        "WORD_VOCAB['<unk>'], CHAR_VOCAB['<unk>']"
      ]
    },
    {
      "cell_type": "code",
      "execution_count": 34,
      "id": "931d9064",
      "metadata": {
        "id": "931d9064"
      },
      "outputs": [],
      "source": []
    },
    {
      "cell_type": "code",
      "execution_count": 35,
      "id": "d81a25c9",
      "metadata": {
        "id": "d81a25c9"
      },
      "outputs": [],
      "source": [
        "# We need to carefully weight all the classes \n",
        "# We use w(c) = min(freq(l)) / freq(c); lower frequency classes \n",
        "# So a low class gets a weight that's higher, a higher class a lower weight\n",
        "# This function need to return 3 dictionaries\n",
        "def get_label_id_map(labels):\n",
        "    # Get the unique list of labels\n",
        "    unique_labels = FILL_IN\n",
        "    # Create a dictionary label to idx, starting with idx 0\n",
        "    ltoi = FILL_IN\n",
        "    # Make a map from idx to label\n",
        "    itol = FILL_IN\n",
        "    \n",
        "    itolw = {}\n",
        "    \n",
        "    label_to_count = FILL_IN\n",
        "    \n",
        "    for label, count in label_to_count.items():\n",
        "        FILL_IN\n",
        "    \n",
        "    # Return (ltoi, itol, itolw)\n",
        "    return ltoi, itol, itolw"
      ]
    },
    {
      "cell_type": "code",
      "execution_count": 36,
      "id": "546db172",
      "metadata": {
        "id": "546db172"
      },
      "outputs": [],
      "source": [
        "assert(len(pd.Series(chain(*train_labels)).unique()) == 9)"
      ]
    },
    {
      "cell_type": "code",
      "execution_count": 37,
      "id": "fa3b9fc5",
      "metadata": {
        "id": "fa3b9fc5"
      },
      "outputs": [],
      "source": [
        "ltoi, itol, itolw = get_label_id_map(train_labels)"
      ]
    },
    {
      "cell_type": "code",
      "source": [
        "for l, idx in ltoi.items():\n",
        "  assert(l == itol[idx])\n",
        "  assert(idx in itolw)"
      ],
      "metadata": {
        "id": "KMsQOeBSguWx"
      },
      "id": "KMsQOeBSguWx",
      "execution_count": 38,
      "outputs": []
    },
    {
      "cell_type": "code",
      "execution_count": 39,
      "id": "a9494010",
      "metadata": {
        "id": "a9494010",
        "outputId": "533fedd3-32b9-4559-e353-33a1f553f7d0",
        "colab": {
          "base_uri": "https://localhost:8080/"
        }
      },
      "outputs": [
        {
          "output_type": "execute_result",
          "data": {
            "text/plain": [
              "{1: 0.006811025015037328,\n",
              " 5: 0.16176470588235295,\n",
              " 3: 0.175,\n",
              " 0: 0.18272425249169436,\n",
              " 4: 0.25507950530035334,\n",
              " 6: 0.31182505399568033,\n",
              " 2: 0.33595113438045376,\n",
              " 8: 0.9982713915298185,\n",
              " 7: 1.0}"
            ]
          },
          "metadata": {},
          "execution_count": 39
        }
      ],
      "source": [
        "# Look at the weights per tag\n",
        "itolw"
      ]
    },
    {
      "cell_type": "code",
      "source": [
        "ltoi"
      ],
      "metadata": {
        "colab": {
          "base_uri": "https://localhost:8080/"
        },
        "id": "F5EtHfsQg7mB",
        "outputId": "42131c87-8ac0-40b3-f018-8c44eff9e9f9"
      },
      "id": "F5EtHfsQg7mB",
      "execution_count": 40,
      "outputs": [
        {
          "output_type": "execute_result",
          "data": {
            "text/plain": [
              "{'B-ORG': 0,\n",
              " 'O': 1,\n",
              " 'B-MISC': 2,\n",
              " 'B-PER': 3,\n",
              " 'I-PER': 4,\n",
              " 'B-LOC': 5,\n",
              " 'I-ORG': 6,\n",
              " 'I-MISC': 7,\n",
              " 'I-LOC': 8}"
            ]
          },
          "metadata": {},
          "execution_count": 40
        }
      ]
    },
    {
      "cell_type": "code",
      "source": [
        "assert(min(itolw.values()) == 0.006811025015037328)"
      ],
      "metadata": {
        "id": "BsJx4RzDRvk5"
      },
      "id": "BsJx4RzDRvk5",
      "execution_count": 41,
      "outputs": []
    },
    {
      "cell_type": "code",
      "execution_count": 42,
      "id": "96393bb8",
      "metadata": {
        "id": "96393bb8"
      },
      "outputs": [],
      "source": [
        "# Get the weights per class as a tensor of length 9; this will be needed in the loss to give different class elemets a different weight\n",
        "weights = FILL_IN\n",
        "for i, lw in itolw.items():\n",
        "    FILL_IN"
      ]
    },
    {
      "cell_type": "code",
      "execution_count": 42,
      "id": "aaf2e8d9",
      "metadata": {
        "id": "aaf2e8d9"
      },
      "outputs": [],
      "source": []
    },
    {
      "cell_type": "code",
      "execution_count": 43,
      "id": "4b964cf9",
      "metadata": {
        "id": "4b964cf9"
      },
      "outputs": [],
      "source": [
        "# Set labels as a series\n",
        "labels = FILL_IN"
      ]
    },
    {
      "cell_type": "code",
      "source": [
        "print(labels)"
      ],
      "metadata": {
        "colab": {
          "base_uri": "https://localhost:8080/"
        },
        "id": "r1hus59XV0Fy",
        "outputId": "1b0780b2-8928-4b05-df58-aa19119a777d"
      },
      "id": "r1hus59XV0Fy",
      "execution_count": 44,
      "outputs": [
        {
          "output_type": "stream",
          "name": "stdout",
          "text": [
            "0          B-ORG\n",
            "1              O\n",
            "2         B-MISC\n",
            "3              O\n",
            "4              O\n",
            "           ...  \n",
            "203616         O\n",
            "203617     B-ORG\n",
            "203618         O\n",
            "203619     B-ORG\n",
            "203620         O\n",
            "Length: 203621, dtype: object\n"
          ]
        }
      ]
    },
    {
      "cell_type": "code",
      "execution_count": 45,
      "id": "80c8bf01",
      "metadata": {
        "id": "80c8bf01",
        "outputId": "813e660c-1777-4891-ac70-7229b83d62a7",
        "colab": {
          "base_uri": "https://localhost:8080/"
        }
      },
      "outputs": [
        {
          "output_type": "stream",
          "name": "stdout",
          "text": [
            "O 169578\n",
            "B-LOC 7140\n",
            "B-PER 6600\n",
            "B-ORG 6321\n",
            "I-PER 4528\n",
            "I-ORG 3704\n",
            "B-MISC 3438\n",
            "I-LOC 1157\n",
            "I-MISC 1155\n"
          ]
        }
      ],
      "source": [
        "# Get a count of labels and counts and print this below\n",
        "FILL_IN"
      ]
    },
    {
      "cell_type": "code",
      "execution_count": 46,
      "id": "8f2546c1",
      "metadata": {
        "id": "8f2546c1"
      },
      "outputs": [],
      "source": [
        "assert(labels.value_counts().min() == 1155)"
      ]
    },
    {
      "cell_type": "code",
      "execution_count": 46,
      "id": "ebb5a61d",
      "metadata": {
        "id": "ebb5a61d"
      },
      "outputs": [],
      "source": []
    },
    {
      "cell_type": "markdown",
      "id": "bddf6405",
      "metadata": {
        "id": "bddf6405"
      },
      "source": [
        "### Check for class balance"
      ]
    },
    {
      "cell_type": "code",
      "execution_count": 47,
      "id": "13522bf0",
      "metadata": {
        "id": "13522bf0",
        "outputId": "e13deb2c-8ca5-40cd-cb42-bf0a5a0816fb",
        "colab": {
          "base_uri": "https://localhost:8080/"
        }
      },
      "outputs": [
        {
          "output_type": "stream",
          "name": "stdout",
          "text": [
            "Training data label counts\n",
            "O         169578\n",
            "B-LOC       7140\n",
            "B-PER       6600\n",
            "B-ORG       6321\n",
            "I-PER       4528\n",
            "I-ORG       3704\n",
            "B-MISC      3438\n",
            "I-LOC       1157\n",
            "I-MISC      1155\n",
            "dtype: int64\n",
            "\n",
            "Validation data label counts\n",
            "O         42759\n",
            "B-PER      1842\n",
            "B-LOC      1837\n",
            "B-ORG      1341\n",
            "I-PER      1307\n",
            "B-MISC      922\n",
            "I-ORG       751\n",
            "I-MISC      346\n",
            "I-LOC       257\n",
            "dtype: int64\n",
            "\n",
            "Test data label counts\n",
            "O         38143\n",
            "B-ORG      1714\n",
            "B-LOC      1645\n",
            "B-PER      1617\n",
            "I-PER      1161\n",
            "I-ORG       881\n",
            "B-MISC      722\n",
            "I-LOC       259\n",
            "I-MISC      252\n",
            "dtype: int64\n"
          ]
        }
      ],
      "source": [
        "# Print the value count for each label\n",
        "print(\"Training data label counts\")\n",
        "print(pd.Series(chain(*train_labels)).value_counts())\n",
        "\n",
        "print(\"\\nValidation data label counts\")\n",
        "print(pd.Series(chain(*valid_labels)).value_counts())\n",
        "\n",
        "print(\"\\nTest data label counts\")\n",
        "print(pd.Series(chain(*test_labels)).value_counts())"
      ]
    },
    {
      "cell_type": "code",
      "source": [],
      "metadata": {
        "id": "GVHS06FSWQs3"
      },
      "id": "GVHS06FSWQs3",
      "execution_count": 47,
      "outputs": []
    },
    {
      "cell_type": "markdown",
      "id": "ce51d1f7",
      "metadata": {
        "id": "ce51d1f7"
      },
      "source": [
        "### Series length."
      ]
    },
    {
      "cell_type": "code",
      "execution_count": 48,
      "id": "eb6a72e7",
      "metadata": {
        "id": "eb6a72e7",
        "outputId": "06285de4-093a-4a74-b23d-1b222da2eaab",
        "colab": {
          "base_uri": "https://localhost:8080/"
        }
      },
      "outputs": [
        {
          "output_type": "execute_result",
          "data": {
            "text/plain": [
              "count    14041.000000\n",
              "mean        14.501887\n",
              "std         11.602756\n",
              "min          1.000000\n",
              "5%           2.000000\n",
              "50%         10.000000\n",
              "95%         37.000000\n",
              "max        113.000000\n",
              "dtype: float64"
            ]
          },
          "metadata": {},
          "execution_count": 48
        }
      ],
      "source": [
        "# Display the mean sentence length for the training samples\n",
        "# You should get around 15 mean ...  What about median, 95%, etc?\n",
        "# .describe applied to a certain series is a good idea ...\n",
        "FILL_IN"
      ]
    },
    {
      "cell_type": "markdown",
      "id": "ec9ef51e",
      "metadata": {
        "id": "ec9ef51e"
      },
      "source": [
        "### Parameters"
      ]
    },
    {
      "cell_type": "code",
      "execution_count": 49,
      "id": "dc9dad21",
      "metadata": {
        "id": "dc9dad21",
        "colab": {
          "base_uri": "https://localhost:8080/"
        },
        "outputId": "74111c83-7c3e-4626-ba46-b8514d362fbc"
      },
      "outputs": [
        {
          "output_type": "stream",
          "name": "stderr",
          "text": [
            ".vector_cache/wiki.simple.vec: 293MB [00:01, 171MB/s]                           \n",
            "  0%|          | 0/111051 [00:00<?, ?it/s]WARNING:torchtext.vocab.vectors:Skipping token b'111051' with 1-dimensional vector [b'300']; likely a header\n",
            "100%|██████████| 111051/111051 [00:13<00:00, 8154.50it/s]\n"
          ]
        }
      ],
      "source": [
        "# Size of token embeddings\n",
        "d_model = 300\n",
        "\n",
        "# Number of hidden units in the GRU layer\n",
        "d_hidden = 64\n",
        "\n",
        "# Number of hidden units in the GRU layer\n",
        "d_char = 32\n",
        "\n",
        "# Number of output nodes in the last layer\n",
        "num_classes = len(itol)\n",
        "\n",
        "# Number of samples in a batch\n",
        "BATCH_SIZE = 128\n",
        "\n",
        "# Number of training epochs.\n",
        "EPOCHS = 25\n",
        "\n",
        "# FastText embeddings\n",
        "FAST_TEXT = FastText(\"simple\")\n",
        "\n",
        "# Learning rate\n",
        "LR = 1.0\n",
        "\n",
        "# Get the weights per class\n",
        "weight = weights\n",
        "\n",
        "# Maximum word length; critical for convolutions\n",
        "MAX_WORD_LENGTH = 12\n",
        "\n",
        "# The device to run on\n",
        "# Change this to 'mps' if you are on a mac with MPS\n",
        "DEVICE = 'cuda:0' if torch.cuda.is_available() else 'cpu'"
      ]
    },
    {
      "cell_type": "code",
      "execution_count": 50,
      "id": "380ba279",
      "metadata": {
        "id": "380ba279"
      },
      "outputs": [],
      "source": [
        "assert(len(train_sentences) // BATCH_SIZE == 109)"
      ]
    },
    {
      "cell_type": "code",
      "execution_count": 50,
      "id": "23b33852",
      "metadata": {
        "id": "23b33852"
      },
      "outputs": [],
      "source": []
    },
    {
      "cell_type": "code",
      "execution_count": 51,
      "id": "7e6822d8",
      "metadata": {
        "id": "7e6822d8"
      },
      "outputs": [],
      "source": [
        "def collate_batch(batch):\n",
        "    label_list, sentence_list, sentence_lengths = [], [], []\n",
        "    word_list = []\n",
        "    # The sentence below is already transformed to int tokens\n",
        "    for sentence, words, labels in batch:\n",
        "        # Add the sentence to sentence_list list; you are added a tensor\n",
        "        FILL_IN\n",
        "        # Add the sentence length to the right list\n",
        "        FILL_IN\n",
        "        # Add the labels to the right list\n",
        "        FILL_IN\n",
        "        # Add the words to the right list\n",
        "        FILL_IN\n",
        "\n",
        "    # Return padded versions of the above; this function processes a batch remember so we need  to return padded tensors\n",
        "    # batch_first=True below        \n",
        "    return (\n",
        "        # (N, L_sentence) with the words \n",
        "        FILL_IN,\n",
        "        # (N, L_sentence) with the labels; set padding_val=-1 to ignore this in the loss\n",
        "        FILL_IN,\n",
        "        FILL_IN,\n",
        "        # (N, L_sentence, L_word) where L_word (max) = 12\n",
        "        # This is padded at the word level, but not sentence level\n",
        "        FILL_IN\n",
        "    )"
      ]
    },
    {
      "cell_type": "code",
      "execution_count": 52,
      "id": "0a141dd7",
      "metadata": {
        "id": "0a141dd7"
      },
      "outputs": [],
      "source": [
        "def get_dl(sentences, labels):\n",
        "    # Maybe sort by the sentences by length so batches have roughly the same data?\n",
        "    \n",
        "    data = []\n",
        "    \n",
        "    # Note that we need to do our own \n",
        "    for sentence, labels in zip(sentences, labels):\n",
        "        word_tokens = FILL_IN\n",
        "        # Pass the word tokens through WORD_VOCAB\n",
        "        int_sentence = FILL_IN\n",
        "        int_words = []\n",
        "        for word_token in word_tokens:\n",
        "            # Append to word_tokento int_words but tokenized; see below\n",
        "            int_words.append(\n",
        "                # Taking at most MAX_WORD_LENGTH tokens, get the list of tokens per character \n",
        "                # Note you need to add a list of variable '<pad>'s to make sure each element you add here has MAX_WORD_LENGTH\n",
        "                # You are adding to int_words a list of length MAX_WORD_LENGTH representing ints\n",
        "                # For example, if word_token = \"abc\", MAX_WORD_LENGTH = 5, this becomes \"abc<pad><pad>\" -> [1, 2, 3, 0, 0]\n",
        "                FILL_IN\n",
        "            )\n",
        "\n",
        "        # Create a list of int tokens for each label, use ltoi            \n",
        "        labels = FILL_IN\n",
        "        # You can remove these later\n",
        "        assert(len(int_sentence) == len(labels))\n",
        "        for int_word in int_words:\n",
        "          assert(len(int_word) == MAX_WORD_LENGTH)\n",
        "        data.append([int_sentence, int_words, labels])\n",
        "\n",
        "    # Return a DataLoader with batch_size=BATCH_SIZE, shuffle=True, and collate_fn=collate_batch    \n",
        "    return FILL_IN\n",
        "\n",
        "train_dl = get_dl(train_sentences, train_labels)\n",
        "valid_dl = get_dl(valid_sentences, valid_labels)\n",
        "test_dl = get_dl(test_sentences, test_labels)"
      ]
    },
    {
      "cell_type": "code",
      "execution_count": 53,
      "id": "cfda3844",
      "metadata": {
        "id": "cfda3844"
      },
      "outputs": [],
      "source": [
        "assert(len(train_dl) == 110)"
      ]
    },
    {
      "cell_type": "code",
      "execution_count": 53,
      "id": "8c0f1dad",
      "metadata": {
        "id": "8c0f1dad"
      },
      "outputs": [],
      "source": []
    },
    {
      "cell_type": "code",
      "execution_count": 54,
      "id": "9b308741",
      "metadata": {
        "id": "9b308741"
      },
      "outputs": [],
      "source": [
        "class GRUNERModel(nn.Module):\n",
        "    def __init__(\n",
        "        self,\n",
        "        num_class,\n",
        "        d_model, \n",
        "        d_hidden,\n",
        "        initialize = True,\n",
        "        fine_tune_embeddings = True,\n",
        "        use_conv_embeddings = True,\n",
        "    ):\n",
        "        \n",
        "        super(GRUNERModel, self).__init__()\n",
        "        self.vocab_size = len(WORD_VOCAB)\n",
        "        self.d_model = d_model\n",
        "        self.d_hidden = d_hidden\n",
        "        self.d_char = 32\n",
        "        self.kernel = 5\n",
        "        self.max_word_length = MAX_WORD_LENGTH\n",
        "        self.use_conv_embeddings = use_conv_embeddings\n",
        "        \n",
        "        if self.use_conv_embeddings:\n",
        "            # 12 - 5 + 1 = 8\n",
        "            # Input data will be (N * L_sentence, D_char, L_word)\n",
        "            # L_word = 12 here\n",
        "            # We want output to be d_char by 8 for self.kernel=5\n",
        "            self.conv = FILL_IN\n",
        "            # Will results in (N * L_sentence, D_char, 8) data.\n",
        "            # H_char is 32.\n",
        "            # Will result is (32, 1) vector for each word.\n",
        "            # Define a max pooling layer so the above holds\n",
        "            self.max_pool = FILL_IN\n",
        "    \n",
        "        # Create a word embedding layer with len(WORD_VOCAB) vectors; padding_idx=0 and set the length to 300 unless initialize=False in which case it is d_model\n",
        "        self.embedding = FILL_IN\n",
        "        \n",
        "        # Create a char embedding layer with len(CHAR_VOCAB) vectors; same as above but don't initialize with anything, make them d_char dimension\n",
        "        self.char_embedding = FILL_IN\n",
        "        \n",
        "        # Put in logic here to initialize the word embeddings or not with FAST_TEXT\n",
        "        # Make sure you map a word to its corrent word embedding in FAST_TEXT\n",
        "        if initialize:\n",
        "            FILL_IN\n",
        "        else:\n",
        "            self.init_weights()\n",
        "\n",
        "        # If fine_time_embeddings=False, turn off gradients for the word embeddings, they will be static\n",
        "        FILL_IN\n",
        "        \n",
        "        # Initialize a bidirectional GRU\n",
        "        # input is d_model + d_char (some other logic might be needed here if d_model != 300 given the above, but you can ignore this)\n",
        "        # Make batch_first=True; use self.d_hidden as the hidden dimension\n",
        "        self.rnn = FILL_IN\n",
        "\n",
        "        # Bidirectional GRU; so, we go from 2 * d_hidden to num_class via a linear layer\n",
        "        self.fc = FILL_IN\n",
        "\n",
        "        # Note: for drop out + ReLu, order does not matters\n",
        "        # Use 0.3 for the dropout probability\n",
        "        self.dropout = FILL_IN\n",
        "        \n",
        "    def init_weights(self):\n",
        "        # Initialize the word embedding layer with uniform random variables between (-initrange, initrange)\n",
        "        initrange = 0.5\n",
        "        # Add logic for the char embeddings also\n",
        "        FILL_IN\n",
        "\n",
        "    # N = batch_size,\n",
        "    # L_sentence = sequence length\n",
        "    # D_word = word embedding length\n",
        "    # D_char = char embedding length\n",
        "    # Hout = hidden dimenson from bidirectional GRU\n",
        "    # C = number of classes\n",
        "    def forward(self, sentences, lengths, words):\n",
        "        # (N, L_sentence, D_word)\n",
        "        embedded_sentences = self.embedding(sentences.int()) \n",
        "        \n",
        "        if self.use_conv_embeddings:                        \n",
        "            # (N, L_sentence, L_word, D_char)\n",
        "            # Pass words through the char_embeddings to get them\n",
        "            embedded_words = FILL_IN\n",
        "                                                \n",
        "            N, L_sentence, L_word, D_char = embedded_words.shape\n",
        "            \n",
        "            # (N * L_sentence, L_word, D_char)\n",
        "            # Reshape to the above dimension\n",
        "            embedded_words = FILL_IN\n",
        "\n",
        "            # (N * L_sentence, D_char, L_word)\n",
        "            # Do something to get the above dimension                        \n",
        "            embedded_words = FILL_IN\n",
        "                        \n",
        "            # 12 - 4, since kernel size is 5\n",
        "            # (N * L_sentence, D_char, L_word - kernel_size + 1 )\n",
        "            # Apply conv\n",
        "            embedded_words = FILL_IN\n",
        "                        \n",
        "            # (N * L_sentence, D_char, 1)\n",
        "            # Apply max pool and squeeze the result\n",
        "            embedded_words = FILL_IN\n",
        "                        \n",
        "            # (N, L_sentence, D_char)\n",
        "            # Reshape\n",
        "            embedded_words = FILL_IN\n",
        "\n",
        "            # (N, L_sentence, D_char + D_word)\n",
        "            # Concatenate a word's word vector and the character based word vector together\n",
        "            embedded_sentences = FILL_IN\n",
        "            \n",
        "        # This is a key for efficient computation. \n",
        "        # Pack the padded embeddings. Magic\n",
        "        embedded_sentences = FILL_IN\n",
        "        \n",
        "        # (N * L_sentence sort of, Hout)\n",
        "        logits, _ = FILL_IN\n",
        "        \n",
        "         # (N, L_sentence, Hout) \n",
        "         # Apply pad_packed_sequence to logits\n",
        "        logits, _ = FILL_IN\n",
        "\n",
        "        # (N, L_sentence, C)\n",
        "        # Apply self.fc\n",
        "        logits = FILL_IN\n",
        "        \n",
        "        return logits"
      ]
    },
    {
      "cell_type": "code",
      "execution_count": 54,
      "id": "fb46b149",
      "metadata": {
        "id": "fb46b149"
      },
      "outputs": [],
      "source": []
    },
    {
      "cell_type": "code",
      "execution_count": 55,
      "id": "ccdb26b8",
      "metadata": {
        "id": "ccdb26b8"
      },
      "outputs": [],
      "source": [
        "# Used so we do not include padding indices.\n",
        "# Also, give different weights to different classes to account for class imbalance.\n",
        "# Use ignore_index=-1 since this is the \"pad\" index for labels\n",
        "criterion = FILL_IN\n",
        "\n",
        "# Define the model; use initialize=True, fine_tune=True, use_conv=True\n",
        "# I'm unsure if all these decisions are optimal, the point of this exercise is to make conv embeddings work\n",
        "model = FILL_IN\n",
        "\n",
        "optimizer = torch.optim.SGD(model.parameters(), lr=LR)\n",
        "\n",
        "scheduler = torch.optim.lr_scheduler.StepLR(optimizer, 1.0, gamma=0.1)"
      ]
    },
    {
      "cell_type": "code",
      "execution_count": 55,
      "id": "09270189",
      "metadata": {
        "id": "09270189"
      },
      "outputs": [],
      "source": []
    },
    {
      "cell_type": "code",
      "execution_count": 56,
      "id": "7754793c",
      "metadata": {
        "id": "7754793c"
      },
      "outputs": [],
      "source": [
        "from re import escape\n",
        "def train(dl, model, optimizer, criterion, epoch):\n",
        "    model.train()\n",
        "    total_acc, total_count = 0, 0\n",
        "    total_loss, total_batches = 0.0, 0.0\n",
        "    log_interval = 50\n",
        "\n",
        "    for idx, (sentences, labels, lengths, words) in enumerate(dl):\n",
        "        optimizer.zero_grad()\n",
        "                        \n",
        "        logits = model(sentences, lengths, words)\n",
        "                           \n",
        "        # Get the loss\n",
        "        N, L, _ = logits.shape\n",
        "        # Reshape to the right dimensons, and get the loss\n",
        "        logits = FILL_IN\n",
        "        labels = FILL_IN\n",
        "        loss = criterion(input=logits, target=labels)\n",
        "        \n",
        "        total_loss += loss.item()\n",
        "        total_batches += 1\n",
        "        \n",
        "        # Do back propagation\n",
        "        FILL_IN\n",
        "        \n",
        "        # Clip the gradients at 0.1\n",
        "        FILL_IN\n",
        "        \n",
        "        # Do an optimization step\n",
        "        FILL_IN\n",
        "\n",
        "        # Put in eval to get accuracies as below\n",
        "        FILL_IN\n",
        "\n",
        "        # Get the mask and then find out the predictions for things that are NOT masked\n",
        "        masks = FILL_IN\n",
        "        total_acc += FILL_IN\n",
        "        total_count += FILL_IN\n",
        "\n",
        "        model.train()\n",
        "        if idx % log_interval == 0 and idx > 0:\n",
        "            print(\n",
        "                \"| epoch {:3d} | {:5d}/{:5d} batches \"\n",
        "                \"| accuracy {:8.3f} \"\n",
        "                \"| loss {:8.3f}\".format(\n",
        "                    epoch,\n",
        "                    idx,\n",
        "                    len(dl),\n",
        "                    total_acc / total_count,\n",
        "                    total_loss / total_batches\n",
        "                )\n",
        "            )\n",
        "            total_acc, total_count = 0, 0\n",
        "            total_loss, total_batches  = 0.0, 0.0"
      ]
    },
    {
      "cell_type": "code",
      "source": [],
      "metadata": {
        "id": "apQly1mOtfOe"
      },
      "id": "apQly1mOtfOe",
      "execution_count": 56,
      "outputs": []
    },
    {
      "cell_type": "code",
      "execution_count": 57,
      "id": "e3cd7dc9",
      "metadata": {
        "id": "e3cd7dc9"
      },
      "outputs": [],
      "source": [
        "def evaluate(dl, model):\n",
        "    model.eval()\n",
        "    total_acc, total_count = 0, 0\n",
        "    total_loss, total_batches = 0.0, 0.0\n",
        "\n",
        "    with torch.no_grad():\n",
        "        for idx, (sentences, labels, lengths, words) in enumerate(dl):\n",
        "            logits = model(sentences, lengths, words)\n",
        "            N, L, _ = logits.shape\n",
        "            # Very similar to train - reshape, get the accuracy for unmaked labels, etc\n",
        "            logits = FILL_IN\n",
        "            labels = FILL_IN\n",
        "            \n",
        "            total_loss += FILL_IN\n",
        "            total_batches += 1\n",
        "            \n",
        "            masks = FILL_IN\n",
        "            total_acc += FILL_IN\n",
        "            total_count += FILL_IN\n",
        "            \n",
        "    return total_acc / total_count, total_loss / total_batches"
      ]
    },
    {
      "cell_type": "code",
      "execution_count": 57,
      "id": "8b5d9836",
      "metadata": {
        "id": "8b5d9836"
      },
      "outputs": [],
      "source": []
    },
    {
      "cell_type": "code",
      "execution_count": 58,
      "id": "bb9e1f47",
      "metadata": {
        "id": "bb9e1f47",
        "colab": {
          "base_uri": "https://localhost:8080/"
        },
        "outputId": "5f8c47d0-efff-41ba-d1c3-a347eb5d730c"
      },
      "outputs": [
        {
          "output_type": "stream",
          "name": "stdout",
          "text": [
            "| epoch   1 |    50/  110 batches | accuracy    0.483 | loss    1.935\n",
            "| epoch   1 |   100/  110 batches | accuracy    0.701 | loss    1.439\n",
            "-----------------------------------------------------------\n",
            "| end of epoch   1 | time: 33.54s | valid accuracy    0.733 | valid loss    1.185 \n",
            "-----------------------------------------------------------\n",
            "| epoch   2 |    50/  110 batches | accuracy    0.754 | loss    1.156\n",
            "| epoch   2 |   100/  110 batches | accuracy    0.758 | loss    1.155\n",
            "-----------------------------------------------------------\n",
            "| end of epoch   2 | time: 39.87s | valid accuracy    0.759 | valid loss    1.132 \n",
            "-----------------------------------------------------------\n",
            "| epoch   3 |    50/  110 batches | accuracy    0.753 | loss    1.124\n",
            "| epoch   3 |   100/  110 batches | accuracy    0.757 | loss    1.121\n",
            "-----------------------------------------------------------\n",
            "| end of epoch   3 | time: 34.75s | valid accuracy    0.765 | valid loss    1.126 \n",
            "-----------------------------------------------------------\n",
            "| epoch   4 |    50/  110 batches | accuracy    0.755 | loss    1.130\n",
            "| epoch   4 |   100/  110 batches | accuracy    0.757 | loss    1.113\n",
            "-----------------------------------------------------------\n",
            "| end of epoch   4 | time: 36.45s | valid accuracy    0.765 | valid loss    1.123 \n",
            "-----------------------------------------------------------\n",
            "| epoch   5 |    50/  110 batches | accuracy    0.756 | loss    1.117\n",
            "| epoch   5 |   100/  110 batches | accuracy    0.759 | loss    1.124\n",
            "-----------------------------------------------------------\n",
            "| end of epoch   5 | time: 33.56s | valid accuracy    0.765 | valid loss    1.126 \n",
            "-----------------------------------------------------------\n",
            "| epoch   6 |    50/  110 batches | accuracy    0.759 | loss    1.109\n",
            "| epoch   6 |   100/  110 batches | accuracy    0.757 | loss    1.125\n",
            "-----------------------------------------------------------\n",
            "| end of epoch   6 | time: 35.08s | valid accuracy    0.765 | valid loss    1.125 \n",
            "-----------------------------------------------------------\n",
            "| epoch   7 |    50/  110 batches | accuracy    0.758 | loss    1.121\n",
            "| epoch   7 |   100/  110 batches | accuracy    0.758 | loss    1.120\n",
            "-----------------------------------------------------------\n",
            "| end of epoch   7 | time: 34.88s | valid accuracy    0.765 | valid loss    1.128 \n",
            "-----------------------------------------------------------\n",
            "| epoch   8 |    50/  110 batches | accuracy    0.757 | loss    1.119\n",
            "| epoch   8 |   100/  110 batches | accuracy    0.758 | loss    1.124\n",
            "-----------------------------------------------------------\n",
            "| end of epoch   8 | time: 35.10s | valid accuracy    0.765 | valid loss    1.128 \n",
            "-----------------------------------------------------------\n",
            "| epoch   9 |    50/  110 batches | accuracy    0.756 | loss    1.127\n",
            "| epoch   9 |   100/  110 batches | accuracy    0.759 | loss    1.116\n",
            "-----------------------------------------------------------\n",
            "| end of epoch   9 | time: 34.77s | valid accuracy    0.765 | valid loss    1.131 \n",
            "-----------------------------------------------------------\n",
            "| epoch  10 |    50/  110 batches | accuracy    0.759 | loss    1.125\n",
            "| epoch  10 |   100/  110 batches | accuracy    0.758 | loss    1.112\n",
            "-----------------------------------------------------------\n",
            "| end of epoch  10 | time: 32.67s | valid accuracy    0.765 | valid loss    1.122 \n",
            "-----------------------------------------------------------\n",
            "| epoch  11 |    50/  110 batches | accuracy    0.759 | loss    1.123\n",
            "| epoch  11 |   100/  110 batches | accuracy    0.756 | loss    1.116\n",
            "-----------------------------------------------------------\n",
            "| end of epoch  11 | time: 39.97s | valid accuracy    0.765 | valid loss    1.127 \n",
            "-----------------------------------------------------------\n",
            "| epoch  12 |    50/  110 batches | accuracy    0.759 | loss    1.120\n",
            "| epoch  12 |   100/  110 batches | accuracy    0.756 | loss    1.127\n",
            "-----------------------------------------------------------\n",
            "| end of epoch  12 | time: 33.70s | valid accuracy    0.765 | valid loss    1.124 \n",
            "-----------------------------------------------------------\n",
            "| epoch  13 |    50/  110 batches | accuracy    0.757 | loss    1.120\n",
            "| epoch  13 |   100/  110 batches | accuracy    0.757 | loss    1.122\n",
            "-----------------------------------------------------------\n",
            "| end of epoch  13 | time: 34.53s | valid accuracy    0.765 | valid loss    1.126 \n",
            "-----------------------------------------------------------\n",
            "| epoch  14 |    50/  110 batches | accuracy    0.759 | loss    1.111\n",
            "| epoch  14 |   100/  110 batches | accuracy    0.755 | loss    1.131\n",
            "-----------------------------------------------------------\n",
            "| end of epoch  14 | time: 33.40s | valid accuracy    0.765 | valid loss    1.123 \n",
            "-----------------------------------------------------------\n",
            "| epoch  15 |    50/  110 batches | accuracy    0.758 | loss    1.127\n",
            "| epoch  15 |   100/  110 batches | accuracy    0.756 | loss    1.111\n",
            "-----------------------------------------------------------\n",
            "| end of epoch  15 | time: 44.71s | valid accuracy    0.765 | valid loss    1.124 \n",
            "-----------------------------------------------------------\n",
            "| epoch  16 |    50/  110 batches | accuracy    0.757 | loss    1.123\n",
            "| epoch  16 |   100/  110 batches | accuracy    0.757 | loss    1.119\n",
            "-----------------------------------------------------------\n",
            "| end of epoch  16 | time: 37.30s | valid accuracy    0.765 | valid loss    1.123 \n",
            "-----------------------------------------------------------\n",
            "| epoch  17 |    50/  110 batches | accuracy    0.759 | loss    1.119\n",
            "| epoch  17 |   100/  110 batches | accuracy    0.757 | loss    1.121\n",
            "-----------------------------------------------------------\n",
            "| end of epoch  17 | time: 36.34s | valid accuracy    0.765 | valid loss    1.124 \n",
            "-----------------------------------------------------------\n",
            "| epoch  18 |    50/  110 batches | accuracy    0.758 | loss    1.120\n",
            "| epoch  18 |   100/  110 batches | accuracy    0.758 | loss    1.116\n",
            "-----------------------------------------------------------\n",
            "| end of epoch  18 | time: 41.70s | valid accuracy    0.765 | valid loss    1.126 \n",
            "-----------------------------------------------------------\n",
            "| epoch  19 |    50/  110 batches | accuracy    0.759 | loss    1.105\n",
            "| epoch  19 |   100/  110 batches | accuracy    0.757 | loss    1.143\n",
            "-----------------------------------------------------------\n",
            "| end of epoch  19 | time: 40.58s | valid accuracy    0.765 | valid loss    1.127 \n",
            "-----------------------------------------------------------\n",
            "| epoch  20 |    50/  110 batches | accuracy    0.757 | loss    1.127\n",
            "| epoch  20 |   100/  110 batches | accuracy    0.758 | loss    1.112\n",
            "-----------------------------------------------------------\n",
            "| end of epoch  20 | time: 40.17s | valid accuracy    0.765 | valid loss    1.124 \n",
            "-----------------------------------------------------------\n",
            "| epoch  21 |    50/  110 batches | accuracy    0.758 | loss    1.130\n",
            "| epoch  21 |   100/  110 batches | accuracy    0.757 | loss    1.103\n",
            "-----------------------------------------------------------\n",
            "| end of epoch  21 | time: 40.64s | valid accuracy    0.765 | valid loss    1.130 \n",
            "-----------------------------------------------------------\n",
            "| epoch  22 |    50/  110 batches | accuracy    0.758 | loss    1.116\n",
            "| epoch  22 |   100/  110 batches | accuracy    0.758 | loss    1.121\n",
            "-----------------------------------------------------------\n",
            "| end of epoch  22 | time: 38.26s | valid accuracy    0.765 | valid loss    1.127 \n",
            "-----------------------------------------------------------\n",
            "| epoch  23 |    50/  110 batches | accuracy    0.758 | loss    1.123\n",
            "| epoch  23 |   100/  110 batches | accuracy    0.758 | loss    1.126\n",
            "-----------------------------------------------------------\n",
            "| end of epoch  23 | time: 42.33s | valid accuracy    0.765 | valid loss    1.121 \n",
            "-----------------------------------------------------------\n",
            "| epoch  24 |    50/  110 batches | accuracy    0.760 | loss    1.115\n",
            "| epoch  24 |   100/  110 batches | accuracy    0.756 | loss    1.127\n",
            "-----------------------------------------------------------\n",
            "| end of epoch  24 | time: 43.65s | valid accuracy    0.765 | valid loss    1.128 \n",
            "-----------------------------------------------------------\n",
            "| epoch  25 |    50/  110 batches | accuracy    0.758 | loss    1.123\n",
            "| epoch  25 |   100/  110 batches | accuracy    0.758 | loss    1.119\n",
            "-----------------------------------------------------------\n",
            "| end of epoch  25 | time: 40.53s | valid accuracy    0.765 | valid loss    1.123 \n",
            "-----------------------------------------------------------\n",
            "Checking the results of test dataset.\n",
            "test accuracy    0.754 | test loss    1.133\n"
          ]
        }
      ],
      "source": [
        "from time import time\n",
        "import time\n",
        "\n",
        "for epoch in range(1, EPOCHS + 1):\n",
        "    epoch_start_time = time.time()\n",
        "    train(train_dl, model, optimizer, criterion, epoch)\n",
        "    accu_val, loss_val = evaluate(valid_dl, model)\n",
        "    scheduler.step()\n",
        "    print(\"-\" * 59)\n",
        "    print(\n",
        "        \"| end of epoch {:3d} | time: {:5.2f}s \"\n",
        "        \"| valid accuracy {:8.3f} \"\n",
        "        \"| valid loss {:8.3f} \".format(\n",
        "            epoch,\n",
        "            time.time() - epoch_start_time,\n",
        "            accu_val,\n",
        "            loss_val\n",
        "        )\n",
        "    )\n",
        "    print(\"-\" * 59)\n",
        "\n",
        "print(\"Checking the results of test dataset.\")\n",
        "accu_test, loss_test = evaluate(test_dl, model)\n",
        "print(\"test accuracy {:8.3f} | test loss {:8.3f}\".format(accu_test, loss_test))"
      ]
    }
  ],
  "metadata": {
    "kernelspec": {
      "display_name": "Python 3 (ipykernel)",
      "language": "python",
      "name": "python3"
    },
    "language_info": {
      "codemirror_mode": {
        "name": "ipython",
        "version": 3
      },
      "file_extension": ".py",
      "mimetype": "text/x-python",
      "name": "python",
      "nbconvert_exporter": "python",
      "pygments_lexer": "ipython3",
      "version": "3.8.15"
    },
    "colab": {
      "provenance": []
    }
  },
  "nbformat": 4,
  "nbformat_minor": 5
}