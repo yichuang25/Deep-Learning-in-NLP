{
 "cells": [
  {
   "cell_type": "code",
   "execution_count": 1,
   "id": "080d50fc",
   "metadata": {},
   "outputs": [],
   "source": [
    "import argparse\n",
    "import logging\n",
    "import time\n",
    "\n",
    "import torch\n",
    "from torch.utils.data import DataLoader\n",
    "from torch.utils.data.dataset import random_split\n",
    "from torchtext.data.functional import to_map_style_dataset\n",
    "from torchtext.data.utils import get_tokenizer, ngrams_iterator\n",
    "from torchtext.datasets import DATASETS\n",
    "from torchtext.prototype.transforms import load_sp_model, PRETRAINED_SP_MODEL, SentencePieceTokenizer\n",
    "from torchtext.utils import download_from_url\n",
    "from torchtext.vocab import build_vocab_from_iterator\n",
    "import torch.nn as nn\n",
    "from torch.nn.utils.rnn import pad_sequence\n",
    "import torch.nn.functional as F\n",
    "from torchtext.vocab import FastText, GloVe\n",
    "from tqdm import tqdm"
   ]
  },
  {
   "cell_type": "markdown",
   "id": "66eb271d",
   "metadata": {},
   "source": [
    "### Information\n",
    "- torchtext repo: https://github.com/pytorch/text/tree/main/torchtext\n",
    "- torchtext documentation: https://pytorch.org/text/stable/index.html\n",
    "\n",
    "Fill in the code below to make both the CNN1d and CNN2d model work. They should be equivalent."
   ]
  },
  {
   "cell_type": "code",
   "execution_count": 2,
   "id": "af0b4816",
   "metadata": {},
   "outputs": [],
   "source": [
    "FILL_IN = \"FILL IN\""
   ]
  },
  {
   "cell_type": "code",
   "execution_count": null,
   "id": "8c949153",
   "metadata": {},
   "outputs": [],
   "source": []
  },
  {
   "cell_type": "markdown",
   "id": "12d93d22",
   "metadata": {},
   "source": [
    "### Constants"
   ]
  },
  {
   "cell_type": "code",
   "execution_count": 3,
   "id": "329c056d",
   "metadata": {},
   "outputs": [],
   "source": [
    "DATASET = \"AG_NEWS\"\n",
    "DATA_DIR = \".data\"\n",
    "DEVICE = \"mps\"\n",
    "EMBED_DIM = 300\n",
    "LR = 4.0\n",
    "BATCH_SIZE = 16\n",
    "NUM_EPOCHS = 5\n",
    "PADDING_VALUE = 0\n",
    "PADDING_IDX = PADDING_VALUE"
   ]
  },
  {
   "cell_type": "code",
   "execution_count": null,
   "id": "ffada8d0",
   "metadata": {},
   "outputs": [],
   "source": []
  },
  {
   "cell_type": "markdown",
   "id": "1a61aede",
   "metadata": {},
   "source": [
    "### Get the tokenizer\n",
    "- Use the WordLevel tokenizer.\n"
   ]
  },
  {
   "cell_type": "code",
   "execution_count": 4,
   "id": "93e3b7cb",
   "metadata": {},
   "outputs": [],
   "source": [
    "basic_english_tokenizer = get_tokenizer(\"basic_english\")"
   ]
  },
  {
   "cell_type": "code",
   "execution_count": 5,
   "id": "aa4b78e4",
   "metadata": {},
   "outputs": [
    {
     "data": {
      "text/plain": [
       "['this', 'is', 'some', 'text', '.', '.', '.']"
      ]
     },
     "execution_count": 5,
     "metadata": {},
     "output_type": "execute_result"
    }
   ],
   "source": [
    "basic_english_tokenizer(\"This is some text ...\")"
   ]
  },
  {
   "cell_type": "code",
   "execution_count": 6,
   "id": "505cf5ec",
   "metadata": {},
   "outputs": [],
   "source": [
    "# Needed later.\n",
    "TOKENIZER = basic_english_tokenizer"
   ]
  },
  {
   "cell_type": "code",
   "execution_count": null,
   "id": "f8750260",
   "metadata": {},
   "outputs": [],
   "source": []
  },
  {
   "cell_type": "markdown",
   "id": "64096cd8",
   "metadata": {},
   "source": [
    "### Get the data and get the vocabulary"
   ]
  },
  {
   "cell_type": "code",
   "execution_count": 7,
   "id": "ce4a0578",
   "metadata": {},
   "outputs": [],
   "source": [
    "def yield_tokens(data_iter):\n",
    "    token_text = []\n",
    "    for _, text in data_iter:\n",
    "        # Return the tokenized text.\n",
    "        # text is a string above.\n",
    "        token_text.append(TOKENIZER(text))\n",
    "    return token_text"
   ]
  },
  {
   "cell_type": "code",
   "execution_count": 8,
   "id": "f48f23ab",
   "metadata": {},
   "outputs": [],
   "source": [
    "train_iter = DATASETS[DATASET](root=DATA_DIR, split=\"train\")\n",
    "# Build the vocabulary, adding two special tokens. One for <pad> and another <unk>.\n",
    "VOCAB = build_vocab_from_iterator(yield_tokens(train_iter), specials=['<pad>', '<unk>'])\n",
    "\n",
    "# Make the default index the same as that of the unk_token.\n",
    "VOCAB.set_default_index(VOCAB['<unk>'])"
   ]
  },
  {
   "cell_type": "markdown",
   "id": "31ce9367",
   "metadata": {},
   "source": [
    "### Get FastText embeddings"
   ]
  },
  {
   "cell_type": "code",
   "execution_count": 9,
   "id": "a43f0226",
   "metadata": {},
   "outputs": [],
   "source": [
    "# Get the FastText and CharNGram embeddings from torchtext.\n",
    "FAST_TEXT = FastText()\n",
    "GLOVE = GloVe()"
   ]
  },
  {
   "cell_type": "code",
   "execution_count": 10,
   "id": "5b83098c",
   "metadata": {},
   "outputs": [
    {
     "data": {
      "text/plain": [
       "tensor([-1.7310e-01,  2.0663e-01,  1.6543e-02, -3.1026e-01,  1.9719e-02,\n",
       "         2.7791e-01,  1.2283e-01, -2.6328e-01,  1.2522e-01,  3.1894e+00,\n",
       "        -1.6291e-01, -8.8759e-02,  3.3067e-03, -2.9483e-03, -3.4398e-01,\n",
       "         1.2779e-01, -9.4536e-02,  4.3467e-01,  4.9742e-01,  2.5068e-01,\n",
       "        -2.0901e-01, -5.8931e-01,  6.1615e-02,  1.0434e-01,  2.4424e-01,\n",
       "        -2.9120e-01,  3.0746e-01,  3.6276e-01,  7.1151e-01, -8.0523e-02,\n",
       "        -5.9524e-01,  3.4834e-01, -3.3048e-01,  7.0316e-02,  5.3329e-01,\n",
       "        -2.9081e-01,  1.3459e-01, -3.9856e-01, -3.2435e-01,  1.1867e-01,\n",
       "        -1.4938e-01, -3.8256e-01,  3.3116e-01, -3.1488e-01, -9.4491e-02,\n",
       "        -6.1319e-02,  1.5518e-01, -2.5523e-01, -1.1813e-01,  2.5296e-01,\n",
       "        -9.5174e-02, -1.6596e-01, -1.0840e-01,  8.8803e-02,  2.0890e-01,\n",
       "         4.3981e-01,  1.0476e-03, -4.0666e-02,  2.6487e-01, -6.1009e-01,\n",
       "        -1.4405e-01, -8.1185e-02,  7.5475e-03,  2.3373e-01, -2.7772e-02,\n",
       "        -2.9315e-01, -1.1744e-01, -8.3193e-02, -2.3768e-01,  1.5735e-01,\n",
       "        -5.6408e-01, -2.9323e-01,  1.6387e-02, -7.8160e-02, -2.1301e-01,\n",
       "        -1.7845e-01, -3.0769e-01, -4.6203e-01, -2.5220e-03,  4.2973e-01,\n",
       "        -4.5647e-02,  4.3434e-01,  2.9144e-01, -2.0231e-01,  6.5217e-02,\n",
       "        -4.2321e-01,  7.1227e-01, -5.5498e-01, -3.6118e-01, -1.4849e-01,\n",
       "        -1.0082e-01, -1.0045e-01, -1.7666e-01,  2.7141e-02, -1.4148e-01,\n",
       "        -5.2112e-01, -4.8785e-02, -2.9672e-01, -1.4418e-01, -2.8042e-01,\n",
       "        -6.8216e-02,  6.4455e-01,  9.4982e-02,  8.4994e-02,  8.2954e-02,\n",
       "        -2.5255e-01, -4.6606e-01,  2.7432e-01,  1.4998e-01,  5.6889e-02,\n",
       "         3.4382e-01, -3.5301e-01, -4.0666e-01,  1.3636e-02,  6.3070e-02,\n",
       "         3.4924e-01,  1.7517e-01, -1.7623e-01, -8.0157e-02,  1.2179e-01,\n",
       "        -1.4025e-01, -2.6541e-01,  1.7016e-01,  1.2596e-01, -2.1399e-01,\n",
       "        -2.1077e-01, -4.6861e-01, -2.2138e-01,  1.6753e-03, -1.4527e-01,\n",
       "         1.1256e-01, -2.4644e-02, -2.5005e-01, -4.3965e-01,  4.6923e-01,\n",
       "         2.0156e-01,  3.2739e-01,  6.8498e-02, -2.0121e-01, -7.8691e-02,\n",
       "        -2.6755e+00,  1.4326e-01,  6.9114e-02,  3.6917e-01, -1.1858e-01,\n",
       "        -2.1332e-01,  2.4918e-01, -1.2622e-01,  5.5950e-02, -2.8807e-01,\n",
       "        -5.9173e-01, -9.0193e-02, -1.8155e-01, -3.3470e-01, -7.4857e-02,\n",
       "         1.1898e-01, -4.1698e-01, -1.9773e-01,  1.9724e-01,  1.1124e-01,\n",
       "         2.6915e-01, -4.3901e-01, -5.8556e-02,  4.2020e-01,  2.7380e-01,\n",
       "        -9.7767e-02,  7.5527e-02, -2.1164e-01, -1.9093e-01,  3.5376e-01,\n",
       "        -6.9182e-01, -2.5014e-02,  5.8887e-02, -1.7279e-01, -4.4822e-01,\n",
       "        -1.5286e-01, -2.1873e-01,  2.2586e-01, -1.3494e-01,  7.7586e-03,\n",
       "        -2.8582e-01,  6.0300e-02, -6.1573e-03, -3.0737e-01, -8.2510e-01,\n",
       "         5.8975e-01, -4.1435e-01,  9.8575e-02, -8.0579e-02, -6.0510e-01,\n",
       "        -3.1138e-01,  2.3793e-01, -3.3706e-01,  9.7126e-02,  4.1277e-01,\n",
       "         2.7025e-01, -7.1067e-02, -5.1049e-01, -8.0376e-02, -1.6188e-01,\n",
       "         1.3121e-02,  2.1678e-01, -2.7958e-01, -1.9755e-01, -3.4668e-01,\n",
       "         1.0901e-01, -1.5878e-01,  1.1535e-02, -2.5060e-02, -2.4669e-01,\n",
       "         2.7795e-02, -4.6083e-01, -1.6082e-01, -1.6443e-01,  3.4003e-01,\n",
       "        -6.1288e-01,  1.3028e-03, -1.2118e-01,  3.8965e-01, -4.3394e-01,\n",
       "         6.6747e-02,  2.4109e-01, -3.1253e-01,  2.7997e-01,  1.4047e-01,\n",
       "        -1.6265e-02, -6.0792e-02,  6.5612e-01, -7.1277e-02,  8.2271e-02,\n",
       "         8.5240e-02,  1.5606e-01, -2.1927e-01, -1.2083e-01, -2.0386e-01,\n",
       "        -3.9694e-03, -4.3643e-02,  4.2532e-01, -3.3641e-01,  3.0292e-01,\n",
       "         2.9297e-01,  1.2963e-01,  1.5872e-01, -3.1301e-01,  2.6109e-01,\n",
       "         2.4433e-01, -1.9605e-02, -4.4197e-01,  4.5351e-01,  2.2184e-01,\n",
       "         3.6002e-02,  3.0979e-01,  2.8024e-02,  2.9232e-01,  8.8706e-02,\n",
       "         1.3376e-01,  5.6731e-01, -1.7374e-01,  3.7015e-01, -2.9521e-01,\n",
       "         3.4110e-02,  4.1392e-01,  1.5641e-02, -3.1128e-01, -3.4823e-01,\n",
       "         3.3560e-01,  1.7200e-01,  4.1568e-01, -2.6028e-01,  3.3601e-01,\n",
       "        -4.1509e-03, -1.6774e-02, -2.6867e-01,  5.0892e-02, -1.2670e-01,\n",
       "         4.6916e-01, -1.1842e-01,  2.9402e-01,  3.5544e-01,  7.3157e-02,\n",
       "        -1.9305e-01,  2.3060e-01, -2.6933e-01,  6.2013e-02, -5.4700e-02,\n",
       "        -3.8535e-01, -1.3039e-01, -8.4836e-02,  9.8583e-02, -1.5403e-01,\n",
       "        -3.6347e-01, -1.9985e-01, -2.2663e-01, -5.3781e-01, -2.4666e-01,\n",
       "         1.9266e-02,  2.1319e-01,  1.6665e-01, -3.8341e-01, -7.3803e-02])"
      ]
     },
     "execution_count": 10,
     "metadata": {},
     "output_type": "execute_result"
    }
   ],
   "source": [
    "GLOVE['man']"
   ]
  },
  {
   "cell_type": "code",
   "execution_count": 11,
   "id": "69a99594",
   "metadata": {},
   "outputs": [
    {
     "data": {
      "text/plain": [
       "tensor([-1.1586e-02, -7.6437e-02, -2.4990e-01,  2.8163e-02, -3.5323e-01,\n",
       "         1.5216e-03, -2.0837e-02, -7.6733e-02,  2.2877e-01,  1.8065e-01,\n",
       "         3.8324e-01,  3.9388e-01,  1.9390e-01, -6.7518e-02, -1.9435e-02,\n",
       "        -3.3318e-01, -4.1170e-01,  9.2621e-02, -8.2841e-03,  1.6280e-01,\n",
       "        -1.0092e-01, -1.8395e-01, -2.4474e-01, -2.0096e-01,  1.7002e-01,\n",
       "         1.0390e-01, -1.6293e-01, -3.5478e-02,  6.1456e-02, -5.2501e-02,\n",
       "         3.6431e-02,  3.8296e-01, -2.0610e-01,  9.0258e-03, -3.0089e-02,\n",
       "        -4.6130e-01,  1.5610e-01, -7.4393e-02,  5.5539e-02,  2.7400e-01,\n",
       "         1.0643e-01, -2.2214e-01,  8.2432e-02, -1.7137e-01, -1.0055e-01,\n",
       "        -2.4462e-01, -2.5799e-01, -1.0788e-01,  5.8723e-02,  3.8408e-02,\n",
       "        -2.5064e-01,  1.6206e-01,  9.0334e-02, -9.7423e-02, -1.2217e-01,\n",
       "        -8.5929e-02,  3.1295e-01,  1.5443e-01,  3.8319e-01,  2.7565e-02,\n",
       "         2.9553e-01, -1.0904e-01,  1.7643e-01,  2.4874e-01, -2.3022e-01,\n",
       "        -2.8496e-02,  1.4229e-01,  4.2295e-02,  2.6943e-01,  9.2042e-02,\n",
       "         2.4195e-02,  4.6506e-02,  2.1664e-01, -2.6173e-01,  1.6751e-01,\n",
       "         9.6188e-02,  3.7783e-01,  5.4871e-02, -2.0953e-01,  3.2722e-01,\n",
       "         3.9667e-02, -4.5970e-02,  1.6423e-01,  2.3300e-01, -1.7489e-01,\n",
       "         1.7141e-01,  6.4267e-02,  3.5310e-01, -1.5989e-01, -4.1379e-02,\n",
       "        -3.8355e-02, -2.1534e-01,  1.9110e-01, -1.5930e-01,  3.3516e-03,\n",
       "         2.5881e-01,  1.2536e-01, -1.2451e-01, -3.8787e-01, -2.4714e-01,\n",
       "         9.1701e-02, -8.5183e-03, -2.2673e-01, -2.0696e-01, -1.1759e-01,\n",
       "        -1.0783e-02,  3.8153e-02,  1.1652e-01, -8.5587e-02,  1.8375e-02,\n",
       "         3.1746e-01, -3.0004e-02, -2.3258e-01,  1.4983e-02, -9.5409e-02,\n",
       "        -7.7533e-02,  1.9531e-01,  1.8157e-02, -2.6235e-01, -1.6453e-01,\n",
       "         5.7742e-02, -1.9879e-02,  3.2293e-01,  4.2378e-01,  1.0936e-01,\n",
       "         9.7504e-02,  6.4009e-02,  4.2667e-01, -3.5665e-02, -1.0773e-02,\n",
       "        -2.6843e-01,  4.3721e-01, -3.7881e-01, -7.8600e-02, -1.5344e-01,\n",
       "        -2.2739e-01,  5.0575e-03, -1.1062e-02, -7.3137e-04, -4.2164e-02,\n",
       "        -2.4155e-02,  1.6235e-01,  3.0068e-01, -1.2953e-01, -2.6341e-01,\n",
       "         1.0234e-02, -1.4002e-01, -9.3652e-02,  1.8862e-02,  9.8197e-02,\n",
       "         2.8767e-01, -8.3041e-02, -3.2041e-01,  1.3331e-02, -2.5515e-01,\n",
       "         2.6042e-01, -3.0086e-01, -1.9617e-01, -2.7478e-01, -2.6668e-01,\n",
       "        -1.2631e-01,  9.4942e-02, -2.5638e-01,  1.8657e-01, -2.1505e-01,\n",
       "         2.2119e-02,  9.5023e-02,  1.0242e-01,  3.9851e-01,  1.3710e-01,\n",
       "         3.3440e-03,  8.8287e-02, -3.8237e-01, -1.9548e-02, -9.3540e-02,\n",
       "        -6.4701e-02,  1.2360e-01,  1.0178e-01,  3.2725e-01, -2.5036e-01,\n",
       "         2.0104e-01, -2.5627e-01,  7.7346e-02,  1.5118e-01, -2.4981e-01,\n",
       "         1.7627e-01, -5.6551e-02, -4.9694e-02,  7.1491e-02,  3.1547e-01,\n",
       "         6.9018e-02, -4.6402e-01,  1.3838e-01,  1.5687e-01, -4.4610e-03,\n",
       "        -3.7181e-02, -3.4827e-01, -2.9883e-02, -1.7194e-01, -1.0816e-01,\n",
       "         4.2917e-02, -4.6502e-04,  3.4992e-02,  2.9240e-05, -2.0420e-01,\n",
       "        -2.7769e-01, -2.7173e-01,  8.6789e-02,  2.0307e-01,  3.5392e-02,\n",
       "         5.7261e-01, -4.3675e-01, -8.4851e-02, -2.1241e-01,  3.1962e-01,\n",
       "         4.3106e-03,  5.7750e-02, -2.0493e-01, -2.5540e-01,  1.8598e-01,\n",
       "        -2.3500e-01,  2.5769e-02, -2.6411e-01,  2.3684e-01,  6.4120e-02,\n",
       "        -1.5462e-01, -2.2584e-01,  2.4110e-01,  6.9288e-02,  1.1903e-01,\n",
       "         3.1945e-01,  1.7558e-01, -1.1544e-01, -2.4393e-01,  2.0154e-01,\n",
       "         2.6057e-01, -2.1812e-01,  1.4878e-01,  1.0270e-01, -7.5421e-02,\n",
       "         2.4544e-01,  3.4394e-02,  3.2857e-01,  5.0636e-01,  1.4161e-01,\n",
       "         2.3339e-02, -6.7963e-02,  8.2174e-02, -1.7169e-01, -1.7074e-01,\n",
       "        -2.4005e-01, -7.8143e-02, -3.3855e-01, -1.3268e-01, -5.8294e-02,\n",
       "         1.4581e-01, -3.6785e-01,  4.4539e-02,  1.9181e-01,  7.2019e-02,\n",
       "        -4.6513e-01,  6.1973e-02, -1.1415e-03, -1.6149e-01, -3.6268e-01,\n",
       "        -4.4320e-02, -1.3558e-01, -3.6366e-02,  3.3871e-02, -1.2284e-01,\n",
       "        -1.1877e-01,  8.4805e-02,  1.5273e-01, -7.6092e-02, -4.4596e-01,\n",
       "        -1.1950e-01,  2.7857e-03,  1.2494e-01,  7.1417e-03, -2.6448e-01,\n",
       "         4.0404e-01, -8.3152e-02,  2.9999e-01,  4.9121e-02, -9.4729e-03,\n",
       "         2.3589e-01,  1.6711e-01,  4.4510e-02, -2.5253e-01, -2.6354e-01,\n",
       "        -2.1692e-01, -4.5808e-01,  1.2982e-01, -4.8980e-02,  1.8055e-02,\n",
       "        -9.5581e-02, -4.3803e-01,  1.5718e-01,  2.1977e-01,  1.2105e-01])"
      ]
     },
     "execution_count": 11,
     "metadata": {},
     "output_type": "execute_result"
    }
   ],
   "source": [
    "FAST_TEXT['man']"
   ]
  },
  {
   "cell_type": "code",
   "execution_count": 12,
   "id": "804faaa1",
   "metadata": {},
   "outputs": [
    {
     "name": "stdout",
     "output_type": "stream",
     "text": [
      "torch.Size([2519370, 300])\n"
     ]
    }
   ],
   "source": [
    "# How many tokens does FAST_TEXT have? How many dimensios per word embedding?\n",
    "print(FAST_TEXT.vectors.shape)"
   ]
  },
  {
   "cell_type": "code",
   "execution_count": 13,
   "id": "6302f433",
   "metadata": {},
   "outputs": [
    {
     "name": "stdout",
     "output_type": "stream",
     "text": [
      "torch.Size([2196017, 300])\n"
     ]
    }
   ],
   "source": [
    "# Same for CHAR_N_GRAM\n",
    "print(GLOVE.vectors.shape)"
   ]
  },
  {
   "cell_type": "markdown",
   "id": "200b05fc",
   "metadata": {},
   "source": [
    "### Helper functions"
   ]
  },
  {
   "cell_type": "code",
   "execution_count": 14,
   "id": "16ca1ef5",
   "metadata": {},
   "outputs": [],
   "source": [
    "def text_pipeline(text):\n",
    "    # Return a tokenized and int version of the string text.\n",
    "    # This should work like text=\"some sentence\" -> [0, 1] where \"some\" is 0 and \"sentence\" is 1 in the VOCAB.\n",
    "    return [VOCAB[token] for token in TOKENIZER(text)]\n",
    "\n",
    "# Return a int version of the label, mapping {1-> 0, 2->1, etc}\n",
    "def label_pipeline(label):\n",
    "    return int(label) - 1"
   ]
  },
  {
   "cell_type": "markdown",
   "id": "67ef6734",
   "metadata": {},
   "source": [
    "Nice link on collate_fn and DataLoader in PyTorch: https://python.plainenglish.io/understanding-collate-fn-in-pytorch-f9d1742647d3"
   ]
  },
  {
   "cell_type": "code",
   "execution_count": 15,
   "id": "ff479986",
   "metadata": {},
   "outputs": [],
   "source": [
    "# What does this do?\n",
    "# How can this be improved?\n",
    "# This should take a batch of data and return 2 tensors.\n",
    "# One sentor is a label tensor.\n",
    "# Another is a padded version of the text.\n",
    "# I.e. label_list should be [0, 1, 2]\n",
    "# text_list might be [[1,2,3,4], [1, 2, 0, 0], [6,7,8,0]]\n",
    "# Note that the first text was length 4, the next length 2, and the last length 3.\n",
    "# Padding is necessary since tensors cannot have different lengths in a multidimensional tensor.\n",
    "# This is not the only way, ideally you'd have minimal padding per batch. Don't worry about that.\n",
    "def collate_batch(batch):\n",
    "    label_list, text_list = [], []\n",
    "    for (_label, _text) in batch:\n",
    "        label_list.append(label_pipeline(_label))\n",
    "        processed_text = torch.tensor(text_pipeline(_text))\n",
    "        text_list.append(processed_text)\n",
    "    \n",
    "    label_list = torch.tensor(label_list)\n",
    "    # Make sure you use pad_sequence and use batch first.\n",
    "    text_list = pad_sequence(text_list, batch_first=True, padding_value=PADDING_VALUE)\n",
    "            \n",
    "    return label_list.to(DEVICE), text_list.to(DEVICE)"
   ]
  },
  {
   "cell_type": "code",
   "execution_count": null,
   "id": "aa668c1e",
   "metadata": {},
   "outputs": [],
   "source": []
  },
  {
   "cell_type": "markdown",
   "id": "c7fcf425",
   "metadata": {},
   "source": [
    "### Get the data"
   ]
  },
  {
   "cell_type": "code",
   "execution_count": 16,
   "id": "e617ddce",
   "metadata": {},
   "outputs": [
    {
     "name": "stdout",
     "output_type": "stream",
     "text": [
      "The number of classes is 4 ...\n"
     ]
    }
   ],
   "source": [
    "train_iter = DATASETS[DATASET](root=DATA_DIR, split=\"train\")\n",
    "num_class = len(set([label for (label, text) in train_iter]))\n",
    "# What are the classes?\n",
    "print(f\"The number of classes is {num_class} ...\")"
   ]
  },
  {
   "cell_type": "code",
   "execution_count": null,
   "id": "7770ac24",
   "metadata": {},
   "outputs": [],
   "source": []
  },
  {
   "cell_type": "markdown",
   "id": "5aa8a40d",
   "metadata": {},
   "source": [
    "### Set up the model"
   ]
  },
  {
   "cell_type": "markdown",
   "id": "8abf2ede",
   "metadata": {},
   "source": [
    "Good reference on this type of model\n",
    "- CNN for Sentence Classification: https://arxiv.org/pdf/1408.5882.pdf\n",
    "\n",
    "You can build CNN models with either CNN1d or CNN2d."
   ]
  },
  {
   "cell_type": "code",
   "execution_count": 17,
   "id": "227a9a6f",
   "metadata": {},
   "outputs": [
    {
     "name": "stdout",
     "output_type": "stream",
     "text": [
      "torch.Size([1, 9])\n",
      "torch.Size([1, 1, 9])\n"
     ]
    }
   ],
   "source": [
    "# Data is of 128 word vector dimension and contains 10 words.\n",
    "fake_sentence = torch.randn(128, 10)\n",
    "\n",
    "# Build a 1d kernel which has 128 in channels and 1 out channels and a kernel size of 2.\n",
    "# The number of word vector dimensions is 128.\n",
    "# There is no padding here - what is the word dimension?\n",
    "# Should be [1, 9].\n",
    "print(torch.nn.Conv1d(128, 1, 2)(fake_sentence).shape)\n",
    "\n",
    "# Do the same thing using a 2d kernel. Use 1 in channel, 1 out\n",
    "# Make the filter size so that it's equivalent to the above.\n",
    "# You might need to unsqueeze(0) here on fake_sentence - Conv2d wants a box, an \"image\". \n",
    "# Note that text = image with 1 channel.\n",
    "# Should be [1, 1, 9].\n",
    "print(torch.nn.Conv2d(1, 1, (128, 2))(fake_sentence.unsqueeze(0)).shape)"
   ]
  },
  {
   "cell_type": "code",
   "execution_count": null,
   "id": "b9b557c5",
   "metadata": {},
   "outputs": [],
   "source": []
  },
  {
   "cell_type": "markdown",
   "id": "ff990b81",
   "metadata": {},
   "source": [
    "This is just a nice picture to recall what is going on here.\n",
    "\n",
    "This shows 4 filters, of sizes 2 and 3. We will use 3 filters."
   ]
  },
  {
   "attachments": {
    "CNNYoonKim.png": {
     "image/png": "[encoded data removed]"
    }
   },
   "cell_type": "markdown",
   "id": "7efc84e7",
   "metadata": {},
   "source": [
    "![CNNYoonKim.png](attachment:CNNYoonKim.png)"
   ]
  },
  {
   "cell_type": "code",
   "execution_count": 18,
   "id": "dc51c359",
   "metadata": {},
   "outputs": [],
   "source": [
    "# If you want to use the CharNGram 100 dimensional embeddings, you need to modif the below code.\n",
    "class CNN1dTextClassificationModel(nn.Module):\n",
    "    def __init__(\n",
    "        self,\n",
    "        vocab_size,\n",
    "        num_class,\n",
    "        embed_dim = 300, \n",
    "        use_pretrained = True,\n",
    "        fine_tune_embeddings = True\n",
    "    ):\n",
    "        \n",
    "        super(CNN1dTextClassificationModel, self).__init__()\n",
    "        \n",
    "        self.embedding = nn.Embedding(\n",
    "            vocab_size,\n",
    "            embed_dim,\n",
    "            padding_idx=PADDING_IDX\n",
    "        )\n",
    "        \n",
    "        if use_pretrained:\n",
    "            self.embedding.weight.requires_grad = False\n",
    "            for i in range(vocab_size):\n",
    "                # Get the token for the index i.\n",
    "                token = VOCAB.get_itos()[i]\n",
    "                \n",
    "                # Get the embedding for the token and put it in index i.\n",
    "                self.embedding.weight[i, :] = FAST_TEXT[token]\n",
    "            self.embedding.weight.requires_grad = True\n",
    "        else:\n",
    "            self.init_weights()\n",
    "                \n",
    "        if not fine_tune_embeddings:\n",
    "            self.embedding.weight.requires_grad = False\n",
    "        \n",
    "        \n",
    "        # Set up 3 Conv1d layers. Use kernel size 2, 3, 4.\n",
    "        # There is only 1 filter for each kernel size.\n",
    "        self.cnn2 = torch.nn.Conv1d(embed_dim, 1, 2)\n",
    "        self.cnn3 = torch.nn.Conv1d(embed_dim, 1, 3)\n",
    "        self.cnn4 = torch.nn.Conv1d(embed_dim, 1, 4)\n",
    "        \n",
    "        # This should be linear mapping to the number of output classes.\n",
    "        self.fc = nn.Linear(3, num_class)\n",
    "        \n",
    "        # For drop out + ReLu, order does not matter.\n",
    "        # Use 0.3\n",
    "        self.dropout = nn.Dropout(0.3)\n",
    "        self.relu = nn.ReLU()\n",
    "        \n",
    "        # Set to True at first, then set to False.\n",
    "        self.debug = True\n",
    "        \n",
    "    def init_weights(self):\n",
    "        initrange = 0.5\n",
    "        self.embedding.weight.data.uniform_(-initrange, initrange)\n",
    "        self.fc.weight.data.uniform_(-initrange, initrange)\n",
    "        self.fc.bias.data.zero_()\n",
    "\n",
    "    # N = batch_size, L = sequence length, D = embed_dim\n",
    "    def forward(self, text):\n",
    "        \n",
    "        # N X L X embed_dim\n",
    "        embedded = self.embedding(text)\n",
    "        \n",
    "        if self.debug:\n",
    "            print('embedding', embedded.shape)\n",
    "        \n",
    "        # N X embed_dim X L\n",
    "        # Here we need to transpose because conv takes data with embed_dim number of channels.\n",
    "        embedded = embedded.transpose(1, 2)\n",
    "        \n",
    "        # Apply the filters, then ReLU.\n",
    "        \n",
    "        # N X 1 X L - 1\n",
    "        cnn2 = self.cnn2(embedded)\n",
    "        if self.debug:\n",
    "            print('cnn2', cnn2.shape)\n",
    "        \n",
    "        # N X 1 X L - 2\n",
    "        cnn3 = self.cnn3(embedded)\n",
    "        if self.debug:\n",
    "            print('cnn3', cnn3.shape)\n",
    "        \n",
    "        # N X 1 X L - 3\n",
    "        cnn4 = self.cnn4(embedded)\n",
    "        if self.debug:\n",
    "            print('cnn4', cnn4.shape)\n",
    "        \n",
    "        # N X 1 in all cases. Fun each filter through a max pooling layer.\n",
    "        cnn2 = nn.MaxPool1d((cnn2.shape[2]))(cnn2)\n",
    "        cnn3 = nn.MaxPool1d((cnn3.shape[2]))(cnn3)\n",
    "        cnn4 = nn.MaxPool1d((cnn4.shape[2]))(cnn4)\n",
    "        if self.debug:\n",
    "            print('cnn2 after max', cnn2.shape)\n",
    "        \n",
    "        # N X 3\n",
    "        # Concatenate these, and apply dropout.\n",
    "        cnn_concat = torch.cat((cnn2, cnn3, cnn4), dim=1).squeeze(2)\n",
    "        if self.debug:\n",
    "            print('cnn concat', cnn_concat.shape)\n",
    "        \n",
    "        # Use fc to map to the output number.\n",
    "        out = self.fc(self.relu(self.dropout(cnn_concat)))\n",
    "        \n",
    "        # Set this to False after going through one batch od data.\n",
    "        self.debug = False\n",
    "        \n",
    "        return out\n",
    "    \n",
    "# If you want to use the CharNGram 100 dimensional embeddings, you need to modif the below code.\n",
    "# For CNN2d the data should be of shape B X 1 X embed_dim X L instead of B X embed_dim X L .\n",
    "# This is since the \"channel\" is 1 dimensional.\n",
    "class CNN2dTextClassificationModel(nn.Module):\n",
    "    def __init__(\n",
    "        self,\n",
    "        vocab_size,\n",
    "        num_class,\n",
    "        embed_dim = 300, \n",
    "        use_pretrained = False,\n",
    "        fine_tune_embeddings = True\n",
    "    ):\n",
    "        \n",
    "        super(CNN2dTextClassificationModel, self).__init__()\n",
    "        \n",
    "        self.embedding = nn.Embedding(\n",
    "            vocab_size,\n",
    "            embed_dim,\n",
    "            padding_idx=PADDING_IDX\n",
    "        )\n",
    "        \n",
    "        if use_pretrained:\n",
    "            self.embedding.weight.requires_grad = False\n",
    "            for i in range(vocab_size):\n",
    "                token = VOCAB.get_itos()[i]\n",
    "                \n",
    "                self.embedding.weight[i, :] = FAST_TEXT[token]\n",
    "            self.embedding.weight.requires_grad = True\n",
    "        else:\n",
    "            self.init_weights()\n",
    "                \n",
    "        if not fine_tune_embeddings:\n",
    "            self.embedding.weight.requires_grad = False\n",
    "        \n",
    "        # In C X H X W \"image\", we have C = 1, H = embed_dim, W = k for text.\n",
    "        # We can also swap H and W but this is to make this \"look\" like the case when we do 1d convolutions.\n",
    "        self.convs = torch.nn.ModuleList([nn.Conv2d(1, 1, (embed_dim, 2)),\n",
    "                      nn.Conv2d(1, 1, (embed_dim, 3)),\n",
    "                      nn.Conv2d(1, 1, (embed_dim, 4))\n",
    "                     ])\n",
    "        \n",
    "        self.fc = nn.Linear(3, num_class)\n",
    "        \n",
    "        # For drop out + ReLu, order does not matter.\n",
    "        self.dropout = nn.Sequential(\n",
    "            nn.Dropout(0.3),\n",
    "            nn.ReLU()\n",
    "        )\n",
    "        \n",
    "        self.relu = nn.ReLU()\n",
    "        \n",
    "        self.debug = True\n",
    "        \n",
    "    def init_weights(self):\n",
    "        initrange = 0.5\n",
    "        self.embedding.weight.data.uniform_(-initrange, initrange)\n",
    "        self.fc.weight.data.uniform_(-initrange, initrange)\n",
    "        self.fc.bias.data.zero_()\n",
    "    \n",
    "    # B = batch_size, L = sequence length, D = vector dimension\n",
    "    def forward(self, text):\n",
    "        # text is originally N X L\n",
    "        \n",
    "        # N X L X embed_dim\n",
    "        embedded = self.embedding(text)\n",
    "        \n",
    "        if self.debug:\n",
    "            print('embedded ', embedded.shape)\n",
    "        \n",
    "        # N X embed_dim X L\n",
    "        embedded = embedded.transpose(1, 2)\n",
    "        \n",
    "        if self.debug:\n",
    "            print('embedded ', embedded.shape)\n",
    "        \n",
    "        # This is N X 1 X (L - k + 1), where k is the filter size.\n",
    "        # We need to add a dimension to \"embedded\".\n",
    "        # Use loop comprehension - no need to parrallelize.\n",
    "        # Apply each conv to embedded and also do a ReLU. \n",
    "        embedded_temp = embedded.unsqueeze(1)\n",
    "        convs = [self.relu((conv(embedded_temp).squeeze(1))) for conv in self.convs]\n",
    "        \n",
    "        if self.debug:\n",
    "            print('conv ', [conv.shape for conv in convs])\n",
    "        \n",
    "        # Across all time steps. This is a list and each is dimension 3.\n",
    "        # Use loop comprehension.\n",
    "        maxes = [nn.MaxPool1d(conv.shape[-1])(conv).squeeze(-1) for conv in convs]\n",
    "        \n",
    "        if self.debug:\n",
    "            print('max ', [conv_max.shape for conv_max in maxes])\n",
    "        \n",
    "        # N X 3\n",
    "        maxes_stack = torch.cat(maxes, dim=-1)\n",
    "        \n",
    "        if self.debug:\n",
    "            print('max_stack ', maxes_stack.shape)\n",
    "            \n",
    "                        \n",
    "        out = self.fc(self.dropout(maxes_stack))\n",
    "        \n",
    "        # Set to False after the first batch goes through.\n",
    "        self.debug = False\n",
    "        \n",
    "        return out"
   ]
  },
  {
   "cell_type": "markdown",
   "id": "3b3c6ed5",
   "metadata": {},
   "source": [
    "### Set up the model"
   ]
  },
  {
   "cell_type": "code",
   "execution_count": 19,
   "id": "cef585f4",
   "metadata": {},
   "outputs": [],
   "source": [
    "criterion = torch.nn.CrossEntropyLoss().to(DEVICE)\n",
    "# Conv1d model.\n",
    "model1 = CNN1dTextClassificationModel(len(VOCAB), num_class, use_pretrained=True, fine_tune_embeddings=True)\n"
   ]
  },
  {
   "cell_type": "markdown",
   "id": "50933496",
   "metadata": {},
   "source": [
    "### Set the model to either the CNN1d or the CNN2d model"
   ]
  },
  {
   "cell_type": "code",
   "execution_count": 20,
   "id": "8af5916e",
   "metadata": {},
   "outputs": [],
   "source": [
    "model = model1.to(DEVICE)"
   ]
  },
  {
   "cell_type": "code",
   "execution_count": 21,
   "id": "f8a642bf",
   "metadata": {},
   "outputs": [],
   "source": [
    "optimizer = torch.optim.SGD(model.parameters(), lr=LR)\n",
    "scheduler = torch.optim.lr_scheduler.StepLR(optimizer, 1.0, gamma=0.1)"
   ]
  },
  {
   "cell_type": "markdown",
   "id": "26266d8a",
   "metadata": {},
   "source": [
    "### Set up the data"
   ]
  },
  {
   "cell_type": "code",
   "execution_count": 19,
   "id": "9c0aebb5",
   "metadata": {},
   "outputs": [],
   "source": [
    "train_iter, test_iter = DATASETS[DATASET]()\n",
    "train_dataset = to_map_style_dataset(train_iter)\n",
    "test_dataset = to_map_style_dataset(test_iter)\n",
    "\n",
    "num_train = int(len(train_dataset) * 0.95)\n",
    "split_train_, split_valid_ = random_split(train_dataset, [num_train, len(train_dataset) - num_train])\n",
    "\n",
    "# Build a DataLoader in each base. Make sure you pass in the batch size and collate_batch.\n",
    "train_dataloader = DataLoader(split_train_, batch_size=BATCH_SIZE, collate_fn=collate_batch)\n",
    "valid_dataloader = DataLoader(split_valid_, batch_size=BATCH_SIZE, collate_fn=collate_batch)\n",
    "test_dataloader = DataLoader(test_dataset, batch_size=BATCH_SIZE, collate_fn=collate_batch)"
   ]
  },
  {
   "cell_type": "markdown",
   "id": "86476e2a",
   "metadata": {},
   "source": [
    "### Train the model"
   ]
  },
  {
   "cell_type": "code",
   "execution_count": 20,
   "id": "24950481",
   "metadata": {},
   "outputs": [],
   "source": [
    "def train(dataloader, model, optimizer, criterion, epoch):\n",
    "    model.train()\n",
    "    total_acc, total_count = 0, 0\n",
    "    log_interval = 1000\n",
    "\n",
    "    for idx, (label, text) in tqdm(enumerate(dataloader), total=len(dataloader), mininterval=3):\n",
    "        # QUESTION: You need to do something here with the optimizer, for each batch. What?\n",
    "        # HINT: Not .step.\n",
    "        optimizer.zero_grad()\n",
    "        predicted_label = model(text)\n",
    "                \n",
    "        # Get the loss.\n",
    "        loss = criterion(predicted_label, label)\n",
    "        \n",
    "        # Do back propagation.\n",
    "        loss.backward()\n",
    "        \n",
    "        # Clip the gradients at 0.1.\n",
    "        torch.nn.utils.clip_grad_norm_(model.parameters(), 0.1)\n",
    "        \n",
    "        # Do an optimization step.\n",
    "        optimizer.step()\n",
    "        total_acc += (predicted_label.argmax(1) == label).sum().item()\n",
    "        total_count += label.size(0)\n",
    "        if idx % log_interval == 0 and idx > 0:\n",
    "            print(\n",
    "                \"| epoch {:3d} | {:5d}/{:5d} batches \"\n",
    "                \"| accuracy {:8.3f}\".format(epoch, idx, len(dataloader), total_acc / total_count)\n",
    "            )\n",
    "            total_acc, total_count = 0, 0"
   ]
  },
  {
   "cell_type": "code",
   "execution_count": 21,
   "id": "39a702be",
   "metadata": {},
   "outputs": [],
   "source": [
    "def evaluate(dataloader, model):\n",
    "    model.eval()\n",
    "    total_acc, total_count = 0, 0\n",
    "\n",
    "    with torch.no_grad():\n",
    "        for idx, (label, text) in enumerate(dataloader):\n",
    "            predited_label = model(text)\n",
    "            total_acc += (predited_label.argmax(1) == label).sum().item()\n",
    "            total_count += label.size(0)\n",
    "    return total_acc / total_count"
   ]
  },
  {
   "cell_type": "code",
   "execution_count": 25,
   "id": "bceb855a",
   "metadata": {},
   "outputs": [
    {
     "name": "stderr",
     "output_type": "stream",
     "text": [
      "  0%|          | 0/7125 [00:00<?, ?it/s]"
     ]
    },
    {
     "name": "stdout",
     "output_type": "stream",
     "text": [
      "embedding torch.Size([16, 79, 300])\n",
      "cnn2 torch.Size([16, 1, 78])\n",
      "cnn3 torch.Size([16, 1, 77])\n",
      "cnn4 torch.Size([16, 1, 76])\n",
      "cnn2 after max torch.Size([16, 1, 1])\n",
      "cnn concat torch.Size([16, 3])\n"
     ]
    },
    {
     "name": "stderr",
     "output_type": "stream",
     "text": [
      " 14%|█▍        | 1001/7125 [00:52<05:09, 19.79it/s]"
     ]
    },
    {
     "name": "stdout",
     "output_type": "stream",
     "text": [
      "| epoch   1 |  1000/ 7125 batches | accuracy    0.572\n"
     ]
    },
    {
     "name": "stderr",
     "output_type": "stream",
     "text": [
      " 28%|██▊       | 1979/7125 [01:42<04:23, 19.51it/s]"
     ]
    },
    {
     "name": "stdout",
     "output_type": "stream",
     "text": [
      "| epoch   1 |  2000/ 7125 batches | accuracy    0.649\n"
     ]
    },
    {
     "name": "stderr",
     "output_type": "stream",
     "text": [
      " 42%|████▏     | 2989/7125 [02:35<03:42, 18.56it/s]"
     ]
    },
    {
     "name": "stdout",
     "output_type": "stream",
     "text": [
      "| epoch   1 |  3000/ 7125 batches | accuracy    0.663\n"
     ]
    },
    {
     "name": "stderr",
     "output_type": "stream",
     "text": [
      " 55%|█████▌    | 3950/7125 [03:25<02:46, 19.06it/s]"
     ]
    },
    {
     "name": "stdout",
     "output_type": "stream",
     "text": [
      "| epoch   1 |  4000/ 7125 batches | accuracy    0.658\n"
     ]
    },
    {
     "name": "stderr",
     "output_type": "stream",
     "text": [
      " 70%|██████▉   | 4955/7125 [04:18<01:53, 19.13it/s]"
     ]
    },
    {
     "name": "stdout",
     "output_type": "stream",
     "text": [
      "| epoch   1 |  5000/ 7125 batches | accuracy    0.670\n"
     ]
    },
    {
     "name": "stderr",
     "output_type": "stream",
     "text": [
      " 84%|████████▎ | 5962/7125 [05:11<01:00, 19.13it/s]"
     ]
    },
    {
     "name": "stdout",
     "output_type": "stream",
     "text": [
      "| epoch   1 |  6000/ 7125 batches | accuracy    0.669\n"
     ]
    },
    {
     "name": "stderr",
     "output_type": "stream",
     "text": [
      " 98%|█████████▊| 6974/7125 [06:03<00:07, 19.78it/s]"
     ]
    },
    {
     "name": "stdout",
     "output_type": "stream",
     "text": [
      "| epoch   1 |  7000/ 7125 batches | accuracy    0.664\n"
     ]
    },
    {
     "name": "stderr",
     "output_type": "stream",
     "text": [
      "100%|██████████| 7125/7125 [06:11<00:00, 19.18it/s]\n"
     ]
    },
    {
     "name": "stdout",
     "output_type": "stream",
     "text": [
      "-----------------------------------------------------------\n",
      "| end of epoch   1 | time: 373.09s | valid accuracy    0.812 \n",
      "-----------------------------------------------------------\n"
     ]
    },
    {
     "name": "stderr",
     "output_type": "stream",
     "text": [
      " 14%|█▎        | 967/7125 [00:49<05:14, 19.57it/s]"
     ]
    },
    {
     "name": "stdout",
     "output_type": "stream",
     "text": [
      "| epoch   2 |  1000/ 7125 batches | accuracy    0.681\n"
     ]
    },
    {
     "name": "stderr",
     "output_type": "stream",
     "text": [
      " 28%|██▊       | 1987/7125 [01:42<04:27, 19.20it/s]"
     ]
    },
    {
     "name": "stdout",
     "output_type": "stream",
     "text": [
      "| epoch   2 |  2000/ 7125 batches | accuracy    0.695\n"
     ]
    },
    {
     "name": "stderr",
     "output_type": "stream",
     "text": [
      " 42%|████▏     | 2981/7125 [02:34<03:43, 18.57it/s]"
     ]
    },
    {
     "name": "stdout",
     "output_type": "stream",
     "text": [
      "| epoch   2 |  3000/ 7125 batches | accuracy    0.692\n"
     ]
    },
    {
     "name": "stderr",
     "output_type": "stream",
     "text": [
      " 56%|█████▌    | 3998/7125 [03:27<02:45, 18.91it/s]"
     ]
    },
    {
     "name": "stdout",
     "output_type": "stream",
     "text": [
      "| epoch   2 |  4000/ 7125 batches | accuracy    0.689\n"
     ]
    },
    {
     "name": "stderr",
     "output_type": "stream",
     "text": [
      " 70%|██████▉   | 4959/7125 [04:16<01:49, 19.78it/s]"
     ]
    },
    {
     "name": "stdout",
     "output_type": "stream",
     "text": [
      "| epoch   2 |  5000/ 7125 batches | accuracy    0.692\n"
     ]
    },
    {
     "name": "stderr",
     "output_type": "stream",
     "text": [
      " 84%|████████▍ | 5976/7125 [05:10<01:00, 19.05it/s]"
     ]
    },
    {
     "name": "stdout",
     "output_type": "stream",
     "text": [
      "| epoch   2 |  6000/ 7125 batches | accuracy    0.696\n"
     ]
    },
    {
     "name": "stderr",
     "output_type": "stream",
     "text": [
      " 98%|█████████▊| 7000/7125 [06:02<00:06, 20.00it/s]"
     ]
    },
    {
     "name": "stdout",
     "output_type": "stream",
     "text": [
      "| epoch   2 |  7000/ 7125 batches | accuracy    0.697\n"
     ]
    },
    {
     "name": "stderr",
     "output_type": "stream",
     "text": [
      "100%|██████████| 7125/7125 [06:08<00:00, 19.32it/s]\n"
     ]
    },
    {
     "name": "stdout",
     "output_type": "stream",
     "text": [
      "-----------------------------------------------------------\n",
      "| end of epoch   2 | time: 370.29s | valid accuracy    0.859 \n",
      "-----------------------------------------------------------\n"
     ]
    },
    {
     "name": "stderr",
     "output_type": "stream",
     "text": [
      " 14%|█▎        | 967/7125 [00:49<05:14, 19.56it/s]"
     ]
    },
    {
     "name": "stdout",
     "output_type": "stream",
     "text": [
      "| epoch   3 |  1000/ 7125 batches | accuracy    0.700\n"
     ]
    },
    {
     "name": "stderr",
     "output_type": "stream",
     "text": [
      " 28%|██▊       | 1976/7125 [01:41<04:28, 19.16it/s]"
     ]
    },
    {
     "name": "stdout",
     "output_type": "stream",
     "text": [
      "| epoch   3 |  2000/ 7125 batches | accuracy    0.693\n"
     ]
    },
    {
     "name": "stderr",
     "output_type": "stream",
     "text": [
      " 42%|████▏     | 2967/7125 [02:34<03:45, 18.48it/s]"
     ]
    },
    {
     "name": "stdout",
     "output_type": "stream",
     "text": [
      "| epoch   3 |  3000/ 7125 batches | accuracy    0.700\n"
     ]
    },
    {
     "name": "stderr",
     "output_type": "stream",
     "text": [
      " 56%|█████▌    | 3991/7125 [03:27<02:45, 18.99it/s]"
     ]
    },
    {
     "name": "stdout",
     "output_type": "stream",
     "text": [
      "| epoch   3 |  4000/ 7125 batches | accuracy    0.697\n"
     ]
    },
    {
     "name": "stderr",
     "output_type": "stream",
     "text": [
      " 70%|██████▉   | 4955/7125 [04:16<01:50, 19.67it/s]"
     ]
    },
    {
     "name": "stdout",
     "output_type": "stream",
     "text": [
      "| epoch   3 |  5000/ 7125 batches | accuracy    0.691\n"
     ]
    },
    {
     "name": "stderr",
     "output_type": "stream",
     "text": [
      " 84%|████████▍ | 5973/7125 [05:09<00:59, 19.24it/s]"
     ]
    },
    {
     "name": "stdout",
     "output_type": "stream",
     "text": [
      "| epoch   3 |  6000/ 7125 batches | accuracy    0.706\n"
     ]
    },
    {
     "name": "stderr",
     "output_type": "stream",
     "text": [
      " 98%|█████████▊| 6997/7125 [06:02<00:06, 19.94it/s]"
     ]
    },
    {
     "name": "stdout",
     "output_type": "stream",
     "text": [
      "| epoch   3 |  7000/ 7125 batches | accuracy    0.700\n"
     ]
    },
    {
     "name": "stderr",
     "output_type": "stream",
     "text": [
      "100%|██████████| 7125/7125 [06:08<00:00, 19.33it/s]\n"
     ]
    },
    {
     "name": "stdout",
     "output_type": "stream",
     "text": [
      "-----------------------------------------------------------\n",
      "| end of epoch   3 | time: 370.09s | valid accuracy    0.859 \n",
      "-----------------------------------------------------------\n"
     ]
    },
    {
     "name": "stderr",
     "output_type": "stream",
     "text": [
      " 14%|█▎        | 977/7125 [00:49<05:12, 19.65it/s]"
     ]
    },
    {
     "name": "stdout",
     "output_type": "stream",
     "text": [
      "| epoch   4 |  1000/ 7125 batches | accuracy    0.696\n"
     ]
    },
    {
     "name": "stderr",
     "output_type": "stream",
     "text": [
      " 28%|██▊       | 1992/7125 [01:42<04:29, 19.03it/s]"
     ]
    },
    {
     "name": "stdout",
     "output_type": "stream",
     "text": [
      "| epoch   4 |  2000/ 7125 batches | accuracy    0.698\n"
     ]
    },
    {
     "name": "stderr",
     "output_type": "stream",
     "text": [
      " 42%|████▏     | 2990/7125 [02:34<03:39, 18.86it/s]"
     ]
    },
    {
     "name": "stdout",
     "output_type": "stream",
     "text": [
      "| epoch   4 |  3000/ 7125 batches | accuracy    0.694\n"
     ]
    },
    {
     "name": "stderr",
     "output_type": "stream",
     "text": [
      " 56%|█████▌    | 3962/7125 [03:24<02:45, 19.14it/s]"
     ]
    },
    {
     "name": "stdout",
     "output_type": "stream",
     "text": [
      "| epoch   4 |  4000/ 7125 batches | accuracy    0.698\n"
     ]
    },
    {
     "name": "stderr",
     "output_type": "stream",
     "text": [
      " 70%|███████   | 4998/7125 [04:16<01:48, 19.65it/s]"
     ]
    },
    {
     "name": "stdout",
     "output_type": "stream",
     "text": [
      "| epoch   4 |  5000/ 7125 batches | accuracy    0.702\n"
     ]
    },
    {
     "name": "stderr",
     "output_type": "stream",
     "text": [
      " 84%|████████▎ | 5958/7125 [05:06<00:59, 19.56it/s]"
     ]
    },
    {
     "name": "stdout",
     "output_type": "stream",
     "text": [
      "| epoch   4 |  6000/ 7125 batches | accuracy    0.706\n"
     ]
    },
    {
     "name": "stderr",
     "output_type": "stream",
     "text": [
      " 98%|█████████▊| 6986/7125 [05:58<00:06, 20.07it/s]"
     ]
    },
    {
     "name": "stdout",
     "output_type": "stream",
     "text": [
      "| epoch   4 |  7000/ 7125 batches | accuracy    0.701\n"
     ]
    },
    {
     "name": "stderr",
     "output_type": "stream",
     "text": [
      "100%|██████████| 7125/7125 [06:05<00:00, 19.47it/s]\n"
     ]
    },
    {
     "name": "stdout",
     "output_type": "stream",
     "text": [
      "-----------------------------------------------------------\n",
      "| end of epoch   4 | time: 367.34s | valid accuracy    0.860 \n",
      "-----------------------------------------------------------\n"
     ]
    },
    {
     "name": "stderr",
     "output_type": "stream",
     "text": [
      " 14%|█▎        | 977/7125 [00:49<05:11, 19.73it/s]"
     ]
    },
    {
     "name": "stdout",
     "output_type": "stream",
     "text": [
      "| epoch   5 |  1000/ 7125 batches | accuracy    0.699\n"
     ]
    },
    {
     "name": "stderr",
     "output_type": "stream",
     "text": [
      " 28%|██▊       | 1996/7125 [01:42<04:26, 19.23it/s]"
     ]
    },
    {
     "name": "stdout",
     "output_type": "stream",
     "text": [
      "| epoch   5 |  2000/ 7125 batches | accuracy    0.706\n"
     ]
    },
    {
     "name": "stderr",
     "output_type": "stream",
     "text": [
      " 42%|████▏     | 3004/7125 [02:34<03:36, 19.02it/s]"
     ]
    },
    {
     "name": "stdout",
     "output_type": "stream",
     "text": [
      "| epoch   5 |  3000/ 7125 batches | accuracy    0.697\n"
     ]
    },
    {
     "name": "stderr",
     "output_type": "stream",
     "text": [
      " 56%|█████▌    | 3974/7125 [03:23<02:42, 19.44it/s]"
     ]
    },
    {
     "name": "stdout",
     "output_type": "stream",
     "text": [
      "| epoch   5 |  4000/ 7125 batches | accuracy    0.694\n"
     ]
    },
    {
     "name": "stderr",
     "output_type": "stream",
     "text": [
      " 69%|██████▉   | 4950/7125 [04:13<01:48, 20.02it/s]"
     ]
    },
    {
     "name": "stdout",
     "output_type": "stream",
     "text": [
      "| epoch   5 |  5000/ 7125 batches | accuracy    0.697\n"
     ]
    },
    {
     "name": "stderr",
     "output_type": "stream",
     "text": [
      " 84%|████████▍ | 5974/7125 [05:06<00:59, 19.33it/s]"
     ]
    },
    {
     "name": "stdout",
     "output_type": "stream",
     "text": [
      "| epoch   5 |  6000/ 7125 batches | accuracy    0.705\n"
     ]
    },
    {
     "name": "stderr",
     "output_type": "stream",
     "text": [
      " 98%|█████████▊| 7003/7125 [05:58<00:06, 20.12it/s]"
     ]
    },
    {
     "name": "stdout",
     "output_type": "stream",
     "text": [
      "| epoch   5 |  7000/ 7125 batches | accuracy    0.709\n"
     ]
    },
    {
     "name": "stderr",
     "output_type": "stream",
     "text": [
      "100%|██████████| 7125/7125 [06:04<00:00, 19.53it/s]\n"
     ]
    },
    {
     "name": "stdout",
     "output_type": "stream",
     "text": [
      "-----------------------------------------------------------\n",
      "| end of epoch   5 | time: 366.28s | valid accuracy    0.860 \n",
      "-----------------------------------------------------------\n",
      "Checking the results of test dataset.\n",
      "test accuracy    0.868\n"
     ]
    }
   ],
   "source": [
    "for epoch in range(1, NUM_EPOCHS + 1):\n",
    "    epoch_start_time = time.time()\n",
    "    train(train_dataloader, model, optimizer, criterion, epoch)\n",
    "    accu_val = evaluate(valid_dataloader, model)\n",
    "    scheduler.step()\n",
    "    print(\"-\" * 59)\n",
    "    print(\n",
    "        \"| end of epoch {:3d} | time: {:5.2f}s | \"\n",
    "        \"valid accuracy {:8.3f} \".format(epoch, time.time() - epoch_start_time, accu_val)\n",
    "    )\n",
    "    print(\"-\" * 59)\n",
    "\n",
    "print(\"Checking the results of test dataset.\")\n",
    "accu_test = evaluate(test_dataloader, model)\n",
    "print(\"test accuracy {:8.3f}\".format(accu_test))"
   ]
  },
  {
   "cell_type": "code",
   "execution_count": 22,
   "id": "6a6d5c9f",
   "metadata": {},
   "outputs": [],
   "source": [
    "model2 = CNN2dTextClassificationModel(len(VOCAB), num_class, use_pretrained=True, fine_tune_embeddings=True)"
   ]
  },
  {
   "cell_type": "code",
   "execution_count": 23,
   "id": "9f3b2754",
   "metadata": {},
   "outputs": [],
   "source": [
    "# Conv2d model.\n",
    "criterion = torch.nn.CrossEntropyLoss().to(DEVICE)\n",
    "model = model2.to(DEVICE)"
   ]
  },
  {
   "cell_type": "code",
   "execution_count": 24,
   "id": "991a1648",
   "metadata": {},
   "outputs": [],
   "source": [
    "optimizer = torch.optim.SGD(model.parameters(), lr=LR)\n",
    "scheduler = torch.optim.lr_scheduler.StepLR(optimizer, 1.0, gamma=0.1)"
   ]
  },
  {
   "cell_type": "code",
   "execution_count": 25,
   "id": "692def3b",
   "metadata": {},
   "outputs": [
    {
     "name": "stderr",
     "output_type": "stream",
     "text": [
      "  0%|          | 0/7125 [00:00<?, ?it/s]"
     ]
    },
    {
     "name": "stdout",
     "output_type": "stream",
     "text": [
      "embedded  torch.Size([16, 89, 300])\n",
      "embedded  torch.Size([16, 300, 89])\n",
      "conv  [torch.Size([16, 1, 88]), torch.Size([16, 1, 87]), torch.Size([16, 1, 86])]\n",
      "max  [torch.Size([16, 1]), torch.Size([16, 1]), torch.Size([16, 1])]\n",
      "max_stack  torch.Size([16, 3])\n"
     ]
    },
    {
     "name": "stderr",
     "output_type": "stream",
     "text": [
      " 14%|█▍        | 995/7125 [00:59<06:09, 16.59it/s]"
     ]
    },
    {
     "name": "stdout",
     "output_type": "stream",
     "text": [
      "| epoch   1 |  1000/ 7125 batches | accuracy    0.637\n"
     ]
    },
    {
     "name": "stderr",
     "output_type": "stream",
     "text": [
      " 27%|██▋       | 1956/7125 [01:56<05:12, 16.55it/s]"
     ]
    },
    {
     "name": "stdout",
     "output_type": "stream",
     "text": [
      "| epoch   1 |  2000/ 7125 batches | accuracy    0.657\n"
     ]
    },
    {
     "name": "stderr",
     "output_type": "stream",
     "text": [
      " 42%|████▏     | 2967/7125 [02:52<03:59, 17.34it/s]"
     ]
    },
    {
     "name": "stdout",
     "output_type": "stream",
     "text": [
      "| epoch   1 |  3000/ 7125 batches | accuracy    0.667\n"
     ]
    },
    {
     "name": "stderr",
     "output_type": "stream",
     "text": [
      " 56%|█████▌    | 3972/7125 [03:44<02:37, 19.96it/s]"
     ]
    },
    {
     "name": "stdout",
     "output_type": "stream",
     "text": [
      "| epoch   1 |  4000/ 7125 batches | accuracy    0.663\n"
     ]
    },
    {
     "name": "stderr",
     "output_type": "stream",
     "text": [
      " 70%|███████   | 5005/7125 [04:37<01:47, 19.75it/s]"
     ]
    },
    {
     "name": "stdout",
     "output_type": "stream",
     "text": [
      "| epoch   1 |  5000/ 7125 batches | accuracy    0.667\n"
     ]
    },
    {
     "name": "stderr",
     "output_type": "stream",
     "text": [
      " 84%|████████▍ | 5999/7125 [05:30<01:00, 18.51it/s]"
     ]
    },
    {
     "name": "stdout",
     "output_type": "stream",
     "text": [
      "| epoch   1 |  6000/ 7125 batches | accuracy    0.670\n"
     ]
    },
    {
     "name": "stderr",
     "output_type": "stream",
     "text": [
      " 98%|█████████▊| 7002/7125 [06:24<00:06, 18.30it/s]"
     ]
    },
    {
     "name": "stdout",
     "output_type": "stream",
     "text": [
      "| epoch   1 |  7000/ 7125 batches | accuracy    0.669\n"
     ]
    },
    {
     "name": "stderr",
     "output_type": "stream",
     "text": [
      "100%|██████████| 7125/7125 [06:30<00:00, 18.25it/s]\n"
     ]
    },
    {
     "name": "stdout",
     "output_type": "stream",
     "text": [
      "-----------------------------------------------------------\n",
      "| end of epoch   1 | time: 393.36s | valid accuracy    0.850 \n",
      "-----------------------------------------------------------\n"
     ]
    },
    {
     "name": "stderr",
     "output_type": "stream",
     "text": [
      " 14%|█▍        | 1002/7125 [00:52<05:31, 18.49it/s]"
     ]
    },
    {
     "name": "stdout",
     "output_type": "stream",
     "text": [
      "| epoch   2 |  1000/ 7125 batches | accuracy    0.691\n"
     ]
    },
    {
     "name": "stderr",
     "output_type": "stream",
     "text": [
      " 28%|██▊       | 1962/7125 [01:45<04:47, 17.97it/s]"
     ]
    },
    {
     "name": "stdout",
     "output_type": "stream",
     "text": [
      "| epoch   2 |  2000/ 7125 batches | accuracy    0.685\n"
     ]
    },
    {
     "name": "stderr",
     "output_type": "stream",
     "text": [
      " 42%|████▏     | 2963/7125 [02:38<03:47, 18.27it/s]"
     ]
    },
    {
     "name": "stdout",
     "output_type": "stream",
     "text": [
      "| epoch   2 |  3000/ 7125 batches | accuracy    0.690\n"
     ]
    },
    {
     "name": "stderr",
     "output_type": "stream",
     "text": [
      " 55%|█████▌    | 3948/7125 [03:31<02:44, 19.29it/s]"
     ]
    },
    {
     "name": "stdout",
     "output_type": "stream",
     "text": [
      "| epoch   2 |  4000/ 7125 batches | accuracy    0.692\n"
     ]
    },
    {
     "name": "stderr",
     "output_type": "stream",
     "text": [
      " 70%|██████▉   | 4980/7125 [04:23<01:47, 19.98it/s]"
     ]
    },
    {
     "name": "stdout",
     "output_type": "stream",
     "text": [
      "| epoch   2 |  5000/ 7125 batches | accuracy    0.691\n"
     ]
    },
    {
     "name": "stderr",
     "output_type": "stream",
     "text": [
      " 84%|████████▎ | 5965/7125 [05:16<01:02, 18.58it/s]"
     ]
    },
    {
     "name": "stdout",
     "output_type": "stream",
     "text": [
      "| epoch   2 |  6000/ 7125 batches | accuracy    0.696\n"
     ]
    },
    {
     "name": "stderr",
     "output_type": "stream",
     "text": [
      " 98%|█████████▊| 6950/7125 [06:09<00:09, 18.70it/s]"
     ]
    },
    {
     "name": "stdout",
     "output_type": "stream",
     "text": [
      "| epoch   2 |  7000/ 7125 batches | accuracy    0.696\n"
     ]
    },
    {
     "name": "stderr",
     "output_type": "stream",
     "text": [
      "100%|██████████| 7125/7125 [06:18<00:00, 18.80it/s]\n"
     ]
    },
    {
     "name": "stdout",
     "output_type": "stream",
     "text": [
      "-----------------------------------------------------------\n",
      "| end of epoch   2 | time: 381.83s | valid accuracy    0.867 \n",
      "-----------------------------------------------------------\n"
     ]
    },
    {
     "name": "stderr",
     "output_type": "stream",
     "text": [
      " 14%|█▍        | 993/7125 [00:52<05:26, 18.80it/s]"
     ]
    },
    {
     "name": "stdout",
     "output_type": "stream",
     "text": [
      "| epoch   3 |  1000/ 7125 batches | accuracy    0.696\n"
     ]
    },
    {
     "name": "stderr",
     "output_type": "stream",
     "text": [
      " 27%|██▋       | 1956/7125 [01:45<04:50, 17.82it/s]"
     ]
    },
    {
     "name": "stdout",
     "output_type": "stream",
     "text": [
      "| epoch   3 |  2000/ 7125 batches | accuracy    0.695\n"
     ]
    },
    {
     "name": "stderr",
     "output_type": "stream",
     "text": [
      " 41%|████▏     | 2951/7125 [02:37<03:40, 18.92it/s]"
     ]
    },
    {
     "name": "stdout",
     "output_type": "stream",
     "text": [
      "| epoch   3 |  3000/ 7125 batches | accuracy    0.697\n"
     ]
    },
    {
     "name": "stderr",
     "output_type": "stream",
     "text": [
      " 56%|█████▌    | 4003/7125 [03:33<02:40, 19.42it/s]"
     ]
    },
    {
     "name": "stdout",
     "output_type": "stream",
     "text": [
      "| epoch   3 |  4000/ 7125 batches | accuracy    0.694\n"
     ]
    },
    {
     "name": "stderr",
     "output_type": "stream",
     "text": [
      " 70%|██████▉   | 4953/7125 [04:22<01:52, 19.24it/s]"
     ]
    },
    {
     "name": "stdout",
     "output_type": "stream",
     "text": [
      "| epoch   3 |  5000/ 7125 batches | accuracy    0.696\n"
     ]
    },
    {
     "name": "stderr",
     "output_type": "stream",
     "text": [
      " 84%|████████▍ | 5979/7125 [05:18<01:02, 18.48it/s]"
     ]
    },
    {
     "name": "stdout",
     "output_type": "stream",
     "text": [
      "| epoch   3 |  6000/ 7125 batches | accuracy    0.698\n"
     ]
    },
    {
     "name": "stderr",
     "output_type": "stream",
     "text": [
      " 98%|█████████▊| 6996/7125 [06:14<00:07, 17.78it/s]"
     ]
    },
    {
     "name": "stdout",
     "output_type": "stream",
     "text": [
      "| epoch   3 |  7000/ 7125 batches | accuracy    0.700\n"
     ]
    },
    {
     "name": "stderr",
     "output_type": "stream",
     "text": [
      "100%|██████████| 7125/7125 [06:21<00:00, 18.67it/s]\n"
     ]
    },
    {
     "name": "stdout",
     "output_type": "stream",
     "text": [
      "-----------------------------------------------------------\n",
      "| end of epoch   3 | time: 384.51s | valid accuracy    0.869 \n",
      "-----------------------------------------------------------\n"
     ]
    },
    {
     "name": "stderr",
     "output_type": "stream",
     "text": [
      " 14%|█▎        | 978/7125 [00:52<05:34, 18.39it/s]"
     ]
    },
    {
     "name": "stdout",
     "output_type": "stream",
     "text": [
      "| epoch   4 |  1000/ 7125 batches | accuracy    0.700\n"
     ]
    },
    {
     "name": "stderr",
     "output_type": "stream",
     "text": [
      " 28%|██▊       | 1973/7125 [01:48<04:54, 17.49it/s]"
     ]
    },
    {
     "name": "stdout",
     "output_type": "stream",
     "text": [
      "| epoch   4 |  2000/ 7125 batches | accuracy    0.699\n"
     ]
    },
    {
     "name": "stderr",
     "output_type": "stream",
     "text": [
      " 41%|████▏     | 2946/7125 [02:41<03:52, 17.96it/s]"
     ]
    },
    {
     "name": "stdout",
     "output_type": "stream",
     "text": [
      "| epoch   4 |  3000/ 7125 batches | accuracy    0.700\n"
     ]
    },
    {
     "name": "stderr",
     "output_type": "stream",
     "text": [
      " 56%|█████▌    | 3987/7125 [03:37<02:42, 19.27it/s]"
     ]
    },
    {
     "name": "stdout",
     "output_type": "stream",
     "text": [
      "| epoch   4 |  4000/ 7125 batches | accuracy    0.705\n"
     ]
    },
    {
     "name": "stderr",
     "output_type": "stream",
     "text": [
      " 70%|███████   | 4991/7125 [04:29<01:51, 19.18it/s]"
     ]
    },
    {
     "name": "stdout",
     "output_type": "stream",
     "text": [
      "| epoch   4 |  5000/ 7125 batches | accuracy    0.702\n"
     ]
    },
    {
     "name": "stderr",
     "output_type": "stream",
     "text": [
      " 84%|████████▎ | 5965/7125 [05:22<01:02, 18.61it/s]"
     ]
    },
    {
     "name": "stdout",
     "output_type": "stream",
     "text": [
      "| epoch   4 |  6000/ 7125 batches | accuracy    0.701\n"
     ]
    },
    {
     "name": "stderr",
     "output_type": "stream",
     "text": [
      " 98%|█████████▊| 6999/7125 [06:18<00:06, 18.13it/s]"
     ]
    },
    {
     "name": "stdout",
     "output_type": "stream",
     "text": [
      "| epoch   4 |  7000/ 7125 batches | accuracy    0.705\n"
     ]
    },
    {
     "name": "stderr",
     "output_type": "stream",
     "text": [
      "100%|██████████| 7125/7125 [06:25<00:00, 18.50it/s]\n"
     ]
    },
    {
     "name": "stdout",
     "output_type": "stream",
     "text": [
      "-----------------------------------------------------------\n",
      "| end of epoch   4 | time: 388.05s | valid accuracy    0.869 \n",
      "-----------------------------------------------------------\n"
     ]
    },
    {
     "name": "stderr",
     "output_type": "stream",
     "text": [
      " 14%|█▍        | 987/7125 [00:52<05:32, 18.48it/s]"
     ]
    },
    {
     "name": "stdout",
     "output_type": "stream",
     "text": [
      "| epoch   5 |  1000/ 7125 batches | accuracy    0.702\n"
     ]
    },
    {
     "name": "stderr",
     "output_type": "stream",
     "text": [
      " 28%|██▊       | 1988/7125 [01:48<04:53, 17.52it/s]"
     ]
    },
    {
     "name": "stdout",
     "output_type": "stream",
     "text": [
      "| epoch   5 |  2000/ 7125 batches | accuracy    0.699\n"
     ]
    },
    {
     "name": "stderr",
     "output_type": "stream",
     "text": [
      " 41%|████▏     | 2951/7125 [02:40<03:53, 17.90it/s]"
     ]
    },
    {
     "name": "stdout",
     "output_type": "stream",
     "text": [
      "| epoch   5 |  3000/ 7125 batches | accuracy    0.701\n"
     ]
    },
    {
     "name": "stderr",
     "output_type": "stream",
     "text": [
      " 56%|█████▌    | 3995/7125 [03:36<02:42, 19.27it/s]"
     ]
    },
    {
     "name": "stdout",
     "output_type": "stream",
     "text": [
      "| epoch   5 |  4000/ 7125 batches | accuracy    0.696\n"
     ]
    },
    {
     "name": "stderr",
     "output_type": "stream",
     "text": [
      " 70%|███████   | 4997/7125 [04:29<01:51, 19.04it/s]"
     ]
    },
    {
     "name": "stdout",
     "output_type": "stream",
     "text": [
      "| epoch   5 |  5000/ 7125 batches | accuracy    0.695\n"
     ]
    },
    {
     "name": "stderr",
     "output_type": "stream",
     "text": [
      " 84%|████████▎ | 5965/7125 [05:21<01:02, 18.49it/s]"
     ]
    },
    {
     "name": "stdout",
     "output_type": "stream",
     "text": [
      "| epoch   5 |  6000/ 7125 batches | accuracy    0.700\n"
     ]
    },
    {
     "name": "stderr",
     "output_type": "stream",
     "text": [
      " 98%|█████████▊| 6998/7125 [06:18<00:07, 18.09it/s]"
     ]
    },
    {
     "name": "stdout",
     "output_type": "stream",
     "text": [
      "| epoch   5 |  7000/ 7125 batches | accuracy    0.695\n"
     ]
    },
    {
     "name": "stderr",
     "output_type": "stream",
     "text": [
      "100%|██████████| 7125/7125 [06:24<00:00, 18.52it/s]\n"
     ]
    },
    {
     "name": "stdout",
     "output_type": "stream",
     "text": [
      "-----------------------------------------------------------\n",
      "| end of epoch   5 | time: 387.58s | valid accuracy    0.869 \n",
      "-----------------------------------------------------------\n",
      "Checking the results of test dataset.\n",
      "test accuracy    0.869\n"
     ]
    }
   ],
   "source": [
    "for epoch in range(1, NUM_EPOCHS + 1):\n",
    "    epoch_start_time = time.time()\n",
    "    train(train_dataloader, model, optimizer, criterion, epoch)\n",
    "    accu_val = evaluate(valid_dataloader, model)\n",
    "    scheduler.step()\n",
    "    print(\"-\" * 59)\n",
    "    print(\n",
    "        \"| end of epoch {:3d} | time: {:5.2f}s | \"\n",
    "        \"valid accuracy {:8.3f} \".format(epoch, time.time() - epoch_start_time, accu_val)\n",
    "    )\n",
    "    print(\"-\" * 59)\n",
    "\n",
    "print(\"Checking the results of test dataset.\")\n",
    "accu_test = evaluate(test_dataloader, model)\n",
    "print(\"test accuracy {:8.3f}\".format(accu_test))"
   ]
  }
 ],
 "metadata": {
  "kernelspec": {
   "display_name": "torch-gpu",
   "language": "python",
   "name": "python3"
  },
  "language_info": {
   "codemirror_mode": {
    "name": "ipython",
    "version": 3
   },
   "file_extension": ".py",
   "mimetype": "text/x-python",
   "name": "python",
   "nbconvert_exporter": "python",
   "pygments_lexer": "ipython3",
   "version": "3.9.15 (main, Nov 24 2022, 08:28:41) \n[Clang 14.0.6 ]"
  },
  "vscode": {
   "interpreter": {
    "hash": "e1cb4ba5f411cfa4a68a7ea6c2f9ba3655e2604bd37447d058a856eda531fd15"
   }
  }
 },
 "nbformat": 4,
 "nbformat_minor": 5
}
