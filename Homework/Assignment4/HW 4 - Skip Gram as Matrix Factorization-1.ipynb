{
 "cells": [
  {
   "cell_type": "code",
   "execution_count": 21,
   "metadata": {
    "colab": {
     "base_uri": "https://localhost:8080/",
     "height": 34
    },
    "id": "CDkGUbEyetcF",
    "outputId": "d1cf5554-13c9-441b-c24b-b7bd965afecf"
   },
   "outputs": [],
   "source": [
    "import torch\n",
    "import torch.nn as nn"
   ]
  },
  {
   "cell_type": "markdown",
   "metadata": {
    "id": "jSYqe6vOeyI1"
   },
   "source": [
    "We will begin by making the model, which will be used later within the TF API. In this small example, we will be experimenting with different methods for random initialization of the embeddings, exploring how they may impact learning speed. So, we will use \"init_func\" as a placeholder for a generic initialization function.\n",
    "\n",
    "Please FILL_IN the code below with relevant code to make this notebook run."
   ]
  },
  {
   "cell_type": "code",
   "execution_count": 22,
   "metadata": {},
   "outputs": [],
   "source": [
    "FILL_IN = 'FILL_IN'"
   ]
  },
  {
   "cell_type": "code",
   "execution_count": 166,
   "metadata": {
    "id": "-91EbJk3ev9w"
   },
   "outputs": [],
   "source": [
    "V = 5000\n",
    "E = 50\n",
    "\n",
    "class MFEmbedder(nn.Module):\n",
    "    def __init__(self, vsize, embdim):\n",
    "        super(MFEmbedder, self).__init__()\n",
    "        # Make B a Parameter which has floats of dimension vsize, embdim.\n",
    "        # Same for A.\n",
    "        self.B = nn.Parameter(torch.empty(vsize, embdim))\n",
    "        self.A = nn.Parameter(torch.empty(vsize, embdim))\n",
    "        \n",
    "        nn.init.normal_(self.B)\n",
    "        nn.init.normal_(self.A)\n",
    "   \n",
    "    def forward(self, x=None):\n",
    "        # This should return BA^T, which is qual to the shifted PMI matrix.\n",
    "        return torch.mm(self.B, self.A.t())\n",
    "    "
   ]
  },
  {
   "cell_type": "code",
   "execution_count": 167,
   "metadata": {},
   "outputs": [],
   "source": [
    "model = MFEmbedder(V, E)"
   ]
  },
  {
   "cell_type": "markdown",
   "metadata": {
    "id": "ON0sflVee5sN"
   },
   "source": [
    "Now we need to make the special loss function that we learned to derive from last time. With this made, we will now be ready to learn SGNS vectors!\n",
    "\n",
    "This loss should be the loss in lecture. For the positive term it should be $N_{ij} \\log {\\sigma{(b_j^{\\intercal}a_i)}}$ and similarly for the negative (see lecture). pos_samples should be a scalar, same for negative samples.\n",
    "\n",
    "Remember, we assume $b_j^{\\intercal}a_i = M_{ij}$ due to optimality."
   ]
  },
  {
   "cell_type": "code",
   "execution_count": 191,
   "metadata": {
    "id": "UUVUgt9Ie2f8"
   },
   "outputs": [],
   "source": [
    "\n",
    "class SGNSLoss():\n",
    "    def __init__(self, Nij, Ni, Nj, N, K):\n",
    "        self.Nij = Nij\n",
    "        self.Ni = Ni\n",
    "        self.Nj = Nj\n",
    "        self.N = N\n",
    "        self.K = K\n",
    "        \n",
    "    def __call__(self, BA):\n",
    "        pos_samples = torch.sum(torch.mm(self.Nij, torch.log(nn.Sigmoid()(BA))))\n",
    "        # This should be a 1 by 1 matrix.\n",
    "        #neg_samples = ((self.K * self.Ni.dot(self.Nj))/self.N).dot(torch.log(nn.Sigmoid()(-BA)))\n",
    "        neg_samples = torch.sum(torch.mm((self.K * torch.mm(self.Ni.view(self.Ni.shape[0],1),self.Nj.view(1,self.Nj.shape[0])))/self.N, torch.log(nn.Sigmoid()(-BA))))\n",
    "        \n",
    "        return -(pos_samples + neg_samples) / self.N\n"
   ]
  },
  {
   "cell_type": "markdown",
   "metadata": {
    "id": "f53utQP2e-sH"
   },
   "source": [
    "Now we should declare some of the variables that we want to work with. We are going to need to load one of my pre-made files that performs cooccurrence statistic extraction. Because this is a small example, we will just be using a 5000 word vocabulary so that we don't overload Google's cloud GPUs."
   ]
  },
  {
   "cell_type": "code",
   "execution_count": 26,
   "metadata": {
    "id": "4ChTZkvre8jB"
   },
   "outputs": [],
   "source": [
    "## Boring data downloading stuff.\n",
    "import requests\n",
    "import io\n",
    "import zipfile\n",
    "import pandas as pd\n",
    "\n",
    "def download_extract_zip(file_name):\n",
    "    with zipfile.ZipFile(file_name, 'r') as thezip:\n",
    "        for zipinfo in thezip.infolist():\n",
    "            with thezip.open(zipinfo) as thefile:\n",
    "                return pd.read_csv(\n",
    "                    thefile, \n",
    "                    sep=' ', \n",
    "                    header=None, \n",
    "                    names=['term', 'context', 'Nij']\n",
    "                )\n",
    "\n",
    "df = download_extract_zip('cooc.zip') "
   ]
  },
  {
   "cell_type": "code",
   "execution_count": 27,
   "metadata": {},
   "outputs": [
    {
     "data": {
      "text/html": [
       "<div>\n",
       "<style scoped>\n",
       "    .dataframe tbody tr th:only-of-type {\n",
       "        vertical-align: middle;\n",
       "    }\n",
       "\n",
       "    .dataframe tbody tr th {\n",
       "        vertical-align: top;\n",
       "    }\n",
       "\n",
       "    .dataframe thead th {\n",
       "        text-align: right;\n",
       "    }\n",
       "</style>\n",
       "<table border=\"1\" class=\"dataframe\">\n",
       "  <thead>\n",
       "    <tr style=\"text-align: right;\">\n",
       "      <th></th>\n",
       "      <th>term</th>\n",
       "      <th>context</th>\n",
       "      <th>Nij</th>\n",
       "    </tr>\n",
       "  </thead>\n",
       "  <tbody>\n",
       "    <tr>\n",
       "      <th>0</th>\n",
       "      <td>chief</td>\n",
       "      <td>peace</td>\n",
       "      <td>2072.8</td>\n",
       "    </tr>\n",
       "    <tr>\n",
       "      <th>1</th>\n",
       "      <td>produces</td>\n",
       "      <td>venezuela</td>\n",
       "      <td>109.4</td>\n",
       "    </tr>\n",
       "    <tr>\n",
       "      <th>2</th>\n",
       "      <td>resources</td>\n",
       "      <td>?</td>\n",
       "      <td>411.2</td>\n",
       "    </tr>\n",
       "    <tr>\n",
       "      <th>3</th>\n",
       "      <td>israelis</td>\n",
       "      <td>later</td>\n",
       "      <td>196.2</td>\n",
       "    </tr>\n",
       "    <tr>\n",
       "      <th>4</th>\n",
       "      <td>however</td>\n",
       "      <td>list</td>\n",
       "      <td>1395.2</td>\n",
       "    </tr>\n",
       "  </tbody>\n",
       "</table>\n",
       "</div>"
      ],
      "text/plain": [
       "        term    context     Nij\n",
       "0      chief      peace  2072.8\n",
       "1   produces  venezuela   109.4\n",
       "2  resources          ?   411.2\n",
       "3   israelis      later   196.2\n",
       "4    however       list  1395.2"
      ]
     },
     "execution_count": 27,
     "metadata": {},
     "output_type": "execute_result"
    }
   ],
   "source": [
    "df.head()"
   ]
  },
  {
   "cell_type": "code",
   "execution_count": 28,
   "metadata": {},
   "outputs": [
    {
     "name": "stdout",
     "output_type": "stream",
     "text": [
      "Pandas(Index=0, term='chief', context='peace', Nij=2072.8)\n"
     ]
    }
   ],
   "source": [
    "\n",
    "for tup in df.itertuples(): \n",
    "    print(tup)\n",
    "    break"
   ]
  },
  {
   "cell_type": "code",
   "execution_count": 29,
   "metadata": {
    "id": "yzpcrDNJfB6P"
   },
   "outputs": [],
   "source": [
    "# Now we are loading in the data from the dataframe (quick and kind of dirty).\n",
    "vocab = {\"<unk>\": 0}\n",
    "invvocab = [\"<unk>\"]\n",
    "\n",
    "from collections import defaultdict\n",
    "counts = defaultdict(float)\n",
    "\n",
    "# Fill in counts so that for each term  you get the count of the term.\n",
    "for tup in df.itertuples(): \n",
    "    counts[tup.term] += tup.Nij\n",
    "\n",
    "for w in sorted(counts.keys(), key=lambda x: -counts[x]):\n",
    "    # Update the vocab and invocab maps.\n",
    "    vocab[w] = counts[w]\n",
    "    invvocab.append(w)\n",
    "\n",
    "# Let thi be the length of vocab. Should be 5000\n",
    "V = len(invvocab)\n",
    "\n",
    "# Given the vocabulary mapping above, we now fill in the Nij matrix.\n",
    "# NOTE - with large vocabs, this should be done using a *sparse* matrix!!!\n",
    "import numpy as np\n",
    "# Make this a numpy array of V and V, fill of zeros.\n",
    "Nij_np = np.zeros((V, V))\n",
    "for tup in df.itertuples():\n",
    "    # Fill in with the int token for the term in tup.\n",
    "    i = invvocab.index(tup.term)\n",
    "    # Fill in with the int token for the context in tup.\n",
    "    j = invvocab.index(tup.context)\n",
    "    # Fill in with the count in tup.\n",
    "    Nij_np[i, j] = tup.Nij"
   ]
  },
  {
   "cell_type": "code",
   "execution_count": 52,
   "metadata": {},
   "outputs": [],
   "source": [
    "# NOTE: The data was a collection has a small issue so the row and column sums are not quite equal. This is fine.\n",
    "\n",
    "Nij = torch.tensor(Nij_np, dtype=torch.float32)\n",
    "# marginalize to get the unigram counts\n",
    "N = torch.sum(Nij)\n",
    "\n",
    "# col sums\n",
    "Ni = torch.sum(Nij, dim=1)\n",
    "\n",
    "# row sum\n",
    "Nj = torch.sum(Nij, dim=0)"
   ]
  },
  {
   "cell_type": "code",
   "execution_count": 53,
   "metadata": {
    "id": "7zr8FsaNfDz9"
   },
   "outputs": [],
   "source": [
    "# Get the PMI matrix. Don't use einsum, but the _check version is one way to get what you want.\n",
    "PMI_np_check = np.array(torch.log((N * Nij) / (torch.einsum('i,j->ij', Ni, Nj))))\n",
    "\n",
    "PMI_np = np.array(torch.log((N * Nij) / (torch.outer(Ni, Nj))))"
   ]
  },
  {
   "cell_type": "code",
   "execution_count": 54,
   "metadata": {},
   "outputs": [],
   "source": [
    "# Check the denominators are equal.\n",
    "assert(torch.all(\n",
    "    torch.eq(\n",
    "        torch.einsum('i,j->ij', Ni, Nj),\n",
    "        torch.outer(Ni, Nj)\n",
    ")).item())"
   ]
  },
  {
   "cell_type": "code",
   "execution_count": null,
   "metadata": {},
   "outputs": [],
   "source": []
  },
  {
   "cell_type": "markdown",
   "metadata": {
    "id": "H-yluEf3n_rN"
   },
   "source": [
    "Let's do a sanity check and examine the count statistics with some cool matplotlib visualizations.\n",
    "\n",
    "You should see about 75% of the M matrix is zero."
   ]
  },
  {
   "cell_type": "code",
   "execution_count": 55,
   "metadata": {
    "colab": {
     "base_uri": "https://localhost:8080/",
     "height": 612
    },
    "id": "qTJ6-Urun-_G",
    "outputId": "abb1ab5d-380d-481c-e68b-5b37389eba72"
   },
   "outputs": [
    {
     "name": "stdout",
     "output_type": "stream",
     "text": [
      "Percent -infinities in the PMI matrix: 75.0882%\n",
      "Statistics of PMIs: \n",
      "0.1404 mean, 1.0461 std\n"
     ]
    },
    {
     "data": {
      "image/png": "[encoded data removed]",
      "text/plain": [
       "<Figure size 640x480 with 2 Axes>"
      ]
     },
     "metadata": {},
     "output_type": "display_data"
    },
    {
     "data": {
      "image/png": "[encoded data removed]",
      "text/plain": [
       "<Figure size 640x480 with 1 Axes>"
      ]
     },
     "metadata": {},
     "output_type": "display_data"
    }
   ],
   "source": [
    "from matplotlib import pyplot as plt\n",
    "# Investigate some of the statistics.\n",
    "flat_PMI_np = PMI_np.reshape(-1)\n",
    "pmi_negativeinf = np.sum(flat_PMI_np == -np.inf)\n",
    "total = np.prod(PMI_np.shape)\n",
    "print('Percent -infinities in the PMI matrix: {:.4f}%'.format(\n",
    "    100 * pmi_negativeinf / total))\n",
    "\n",
    "# Visualize the matrix!\n",
    "_ = plt.figure()\n",
    "_ = plt.imshow(PMI_np, cmap=\"coolwarm\")\n",
    "_ = plt.xlabel(\"term index\")\n",
    "_ = plt.colorbar()\n",
    "\n",
    "# Turn the -infinities to something easier to work with.\n",
    "PMI_np[PMI_np == -np.inf] = -4\n",
    "PMI_np[np.isnan(PMI_np)] = -4\n",
    "hist_pmis = flat_PMI_np[flat_PMI_np != -4]\n",
    "_ = plt.figure()\n",
    "n, bins, patches = plt.hist(hist_pmis, \n",
    "                            bins=100,              \n",
    "                            color=\"b\",\n",
    "                            alpha=1)\n",
    "print(\"Statistics of PMIs: \")\n",
    "print(\"{:0.4f} mean, {:0.4f} std\".format(np.mean(hist_pmis), \n",
    "                                         np.std(hist_pmis)))\n",
    "\n",
    "# Add shading to the histogram.\n",
    "cm = plt.cm.get_cmap(\"coolwarm\")\n",
    "bin_centers = 0.5 * (bins[:-1] + bins[1:])\n",
    "col = bin_centers - min(bin_centers)\n",
    "col /= max(col)\n",
    "for c, p in zip(col, patches):\n",
    "    plt.setp(p, 'facecolor', cm(c))\n",
    "_ = plt.xlabel(\"PMI value\")\n",
    "_ = plt.ylabel(\"probability mass\")\n",
    "_ = plt.title(\"Histogram of PMIs (excluding -infinities)\")"
   ]
  },
  {
   "cell_type": "code",
   "execution_count": 56,
   "metadata": {
    "colab": {
     "base_uri": "https://localhost:8080/",
     "height": 340
    },
    "id": "lXPxYsVkwiOV",
    "outputId": "a98c309b-fb1e-4502-f2c2-4a160028d08e"
   },
   "outputs": [
    {
     "name": "stdout",
     "output_type": "stream",
     "text": [
      "--- Word pairs with the notable PMIs ---\n",
      "\n",
      "|        |              (PMI = 9.3956)\n",
      "rico     puerto         (PMI = 8.9204)\n",
      "puerto   rico           (PMI = 8.9190)\n",
      "vegas    las            (PMI = 8.6999)\n",
      "las      vegas          (PMI = 8.6943)\n",
      "laden    bin            (PMI = 8.3082)\n",
      "trim     optional       (PMI = 8.3080)\n",
      "optional trim           (PMI = 8.3073)\n",
      "bin      laden          (PMI = 8.2968)\n",
      "lanka    sri            (PMI = 8.1912)\n",
      "sri      lanka          (PMI = 8.1661)\n",
      "chirac   jacques        (PMI = 8.1148)\n",
      "jacques  chirac         (PMI = 8.0813)\n",
      "racial   makeup         (PMI = 8.0538)\n",
      "makeup   racial         (PMI = 8.0533)\n",
      "nasdaq   composite      (PMI = 8.0437)\n",
      "composite nasdaq         (PMI = 8.0282)\n"
     ]
    }
   ],
   "source": [
    "\"\"\" \n",
    "Note that there was a slight bug when extracting corpus statistics,\n",
    "since the context window (w=5) is symmetric, PMI(i,j) should always equal\n",
    "PMI(j,i); however, due to improper handling of context during the first 5 words\n",
    "of a document, the statistics are ever-so-slightly distorted.\n",
    "\"\"\"\n",
    "# look at the biggest PMIs\n",
    "sorted_ind = np.argsort(PMI_np, axis=None)\n",
    "\n",
    "print('--- Word pairs with the notable PMIs ---\\n')\n",
    "for i in range(1, 18):\n",
    "    ind = np.unravel_index(sorted_ind[-i], PMI_np.shape)\n",
    "    term, context = invvocab[ind[0]], invvocab[ind[1]]\n",
    "    print('{:8} {:14} (PMI = {:0.4f})'.format(term, context, float(PMI_np[ind])))"
   ]
  },
  {
   "cell_type": "code",
   "execution_count": 192,
   "metadata": {},
   "outputs": [],
   "source": [
    "# Create the object representing the loss function. Use SGNSLoss with K = 1.\n",
    "criterion = SGNSLoss(K=1,Nij = Nij,Ni=Ni,Nj=Nj,N=N)\n",
    "\n",
    "# desired embedding dimensionality\n",
    "E = 50\n",
    "\n",
    "# Create the MF model!\n",
    "model = MFEmbedder(V, E)\n",
    "\n",
    "# Instantiate optimizer using Adam and learning rate 0.1\n",
    "optimizer = torch.optim.Adam(lr=0.1, params=model.parameters())\n"
   ]
  },
  {
   "cell_type": "markdown",
   "metadata": {},
   "source": [
    "Here we want to do the unconstrained optimization. "
   ]
  },
  {
   "cell_type": "code",
   "execution_count": 193,
   "metadata": {},
   "outputs": [],
   "source": [
    "def train_step(model, optimizer, n=1000):\n",
    "    \"Training loop for torch model.\"\n",
    "    losses = []\n",
    "    optimizer.zero_grad()\n",
    "    # This is B @ A.t().\n",
    "    BA = model.forward()\n",
    "    loss = criterion(BA)\n",
    "    loss.backward()\n",
    "    optimizer.step()\n",
    "    return loss.item()"
   ]
  },
  {
   "cell_type": "code",
   "execution_count": 194,
   "metadata": {
    "id": "-M1u6d7lhX77"
   },
   "outputs": [],
   "source": [
    "# Grabs the most similar words to the current term. We scale the vectors and then do an inner product.\n",
    "def most_similar(term):\n",
    "    # Grab the token index for the term.\n",
    "    i = invvocab.index(term)\n",
    "    # Grab the vector for the token i from the B matrix.\n",
    "    emb = model.B[i]\n",
    "    # Normalize the embeddings.\n",
    "    embs = nn.functional.normalize(model.B, dim=0)\n",
    "    # Get all the cosine similarities between the emb and embs.\n",
    "    cossims = nn.CosineSimilarity(dim=0)(emb, embs)\n",
    "    # Find the clostest words, sort by cossims.\n",
    "    wordsims = torch.argsort(cossims, descending=True)\n",
    "    # Get the top 6 words. Use invvoc.\n",
    "    return [invvocab[ele] for ele in wordsims[1:7]]\n",
    "# first is the word itself"
   ]
  },
  {
   "cell_type": "code",
   "execution_count": 195,
   "metadata": {
    "colab": {
     "base_uri": "https://localhost:8080/",
     "height": 612
    },
    "id": "qeFvqnruhVYy",
    "outputId": "955fe350-971b-4e2c-95c1-f01a9528f805"
   },
   "outputs": [
    {
     "name": "stdout",
     "output_type": "stream",
     "text": [
      "\n",
      "step    0 - loss: 28541.607421875 (2.0004 seconds)\n",
      "\t similar to \"money\": `` had which and not in\n",
      "\t similar to \"peace\": have new and was in ,\n",
      "\n",
      "step   50 - loss: 6942.67138671875 (95.2415 seconds)\n",
      "\t similar to \"money\": from 's they will said is\n",
      "\t similar to \"peace\": they be was ( '' or\n"
     ]
    },
    {
     "ename": "KeyboardInterrupt",
     "evalue": "",
     "output_type": "error",
     "traceback": [
      "\u001b[0;31m---------------------------------------------------------------------------\u001b[0m",
      "\u001b[0;31mKeyboardInterrupt\u001b[0m                         Traceback (most recent call last)",
      "Cell \u001b[0;32mIn [195], line 14\u001b[0m\n\u001b[1;32m     11\u001b[0m print_every \u001b[39m=\u001b[39m \u001b[39m50\u001b[39m\n\u001b[1;32m     13\u001b[0m \u001b[39mfor\u001b[39;00m i \u001b[39min\u001b[39;00m \u001b[39mrange\u001b[39m(n_iters): \n\u001b[0;32m---> 14\u001b[0m     loss \u001b[39m=\u001b[39m train_step(model, optimizer)\n\u001b[1;32m     15\u001b[0m     results\u001b[39m.\u001b[39mappend(loss)\n\u001b[1;32m     16\u001b[0m     \u001b[39mif\u001b[39;00m i \u001b[39m%\u001b[39m print_every \u001b[39m==\u001b[39m \u001b[39m0\u001b[39m:\n",
      "Cell \u001b[0;32mIn [193], line 8\u001b[0m, in \u001b[0;36mtrain_step\u001b[0;34m(model, optimizer, n)\u001b[0m\n\u001b[1;32m      6\u001b[0m BA \u001b[39m=\u001b[39m model\u001b[39m.\u001b[39mforward()\n\u001b[1;32m      7\u001b[0m loss \u001b[39m=\u001b[39m criterion(BA)\n\u001b[0;32m----> 8\u001b[0m loss\u001b[39m.\u001b[39;49mbackward()\n\u001b[1;32m      9\u001b[0m optimizer\u001b[39m.\u001b[39mstep()\n\u001b[1;32m     10\u001b[0m \u001b[39mreturn\u001b[39;00m loss\u001b[39m.\u001b[39mitem()\n",
      "File \u001b[0;32m/opt/homebrew/Caskroom/miniforge/base/envs/torch-gpu/lib/python3.9/site-packages/torch/_tensor.py:488\u001b[0m, in \u001b[0;36mTensor.backward\u001b[0;34m(self, gradient, retain_graph, create_graph, inputs)\u001b[0m\n\u001b[1;32m    478\u001b[0m \u001b[39mif\u001b[39;00m has_torch_function_unary(\u001b[39mself\u001b[39m):\n\u001b[1;32m    479\u001b[0m     \u001b[39mreturn\u001b[39;00m handle_torch_function(\n\u001b[1;32m    480\u001b[0m         Tensor\u001b[39m.\u001b[39mbackward,\n\u001b[1;32m    481\u001b[0m         (\u001b[39mself\u001b[39m,),\n\u001b[0;32m   (...)\u001b[0m\n\u001b[1;32m    486\u001b[0m         inputs\u001b[39m=\u001b[39minputs,\n\u001b[1;32m    487\u001b[0m     )\n\u001b[0;32m--> 488\u001b[0m torch\u001b[39m.\u001b[39;49mautograd\u001b[39m.\u001b[39;49mbackward(\n\u001b[1;32m    489\u001b[0m     \u001b[39mself\u001b[39;49m, gradient, retain_graph, create_graph, inputs\u001b[39m=\u001b[39;49minputs\n\u001b[1;32m    490\u001b[0m )\n",
      "File \u001b[0;32m/opt/homebrew/Caskroom/miniforge/base/envs/torch-gpu/lib/python3.9/site-packages/torch/autograd/__init__.py:197\u001b[0m, in \u001b[0;36mbackward\u001b[0;34m(tensors, grad_tensors, retain_graph, create_graph, grad_variables, inputs)\u001b[0m\n\u001b[1;32m    192\u001b[0m     retain_graph \u001b[39m=\u001b[39m create_graph\n\u001b[1;32m    194\u001b[0m \u001b[39m# The reason we repeat same the comment below is that\u001b[39;00m\n\u001b[1;32m    195\u001b[0m \u001b[39m# some Python versions print out the first line of a multi-line function\u001b[39;00m\n\u001b[1;32m    196\u001b[0m \u001b[39m# calls in the traceback and some print out the last line\u001b[39;00m\n\u001b[0;32m--> 197\u001b[0m Variable\u001b[39m.\u001b[39;49m_execution_engine\u001b[39m.\u001b[39;49mrun_backward(  \u001b[39m# Calls into the C++ engine to run the backward pass\u001b[39;49;00m\n\u001b[1;32m    198\u001b[0m     tensors, grad_tensors_, retain_graph, create_graph, inputs,\n\u001b[1;32m    199\u001b[0m     allow_unreachable\u001b[39m=\u001b[39;49m\u001b[39mTrue\u001b[39;49;00m, accumulate_grad\u001b[39m=\u001b[39;49m\u001b[39mTrue\u001b[39;49;00m)\n",
      "\u001b[0;31mKeyboardInterrupt\u001b[0m: "
     ]
    }
   ],
   "source": [
    "# Now run a training loop! Note that these embeddings will be trained in less\n",
    "# than 15 minutes - much much much faster than it would take for the original \n",
    "# implementation. But, the speed of this is dependent on the vocabulary size.\n",
    "import time\n",
    "\n",
    "start = time.process_time() \n",
    "estart = time.process_time() \n",
    "results = []\n",
    "\n",
    "n_iters = 500 + 1\n",
    "print_every = 50\n",
    "\n",
    "for i in range(n_iters): \n",
    "    loss = train_step(model, optimizer)\n",
    "    results.append(loss)\n",
    "    if i % print_every == 0:\n",
    "        print('\\nstep {:4} - loss: {} ({:0.4f} seconds)'.format(\n",
    "            i, results[-1], time.process_time()  - estart)\n",
    "             )\n",
    "        print('\\t similar to \\\"money\\\": '+\" \".join(most_similar(\"money\")))\n",
    "        print('\\t similar to \\\"peace\\\": '+\" \".join(most_similar(\"peace\")))\n",
    "\n",
    "        estart = time.process_time() \n",
    "        \n",
    "print('\\nTotal time: {:0.4f} seconds.'.format(time.process_time()  - start))"
   ]
  },
  {
   "cell_type": "code",
   "execution_count": 196,
   "metadata": {
    "colab": {
     "base_uri": "https://localhost:8080/",
     "height": 283
    },
    "id": "4a8pjCQQmA8S",
    "outputId": "154ebfd0-d964-4608-89fa-30a928784f4e"
   },
   "outputs": [
    {
     "data": {
      "image/png": "[encoded data removed]",
      "text/plain": [
       "<Figure size 640x480 with 1 Axes>"
      ]
     },
     "metadata": {},
     "output_type": "display_data"
    }
   ],
   "source": [
    "# Let's look at the loss over time.\n",
    "from matplotlib import pyplot as plt\n",
    "x = np.array(list(range(len(results))))\n",
    "y = np.array(results)\n",
    "\n",
    "# use the underscore to avoid printing to colab\n",
    "_ = plt.figure()\n",
    "_ = plt.plot(x, y, '--r', label=\"loss\")\n",
    "_ = plt.xlabel(\"Iteration\")\n",
    "_ = plt.ylabel(\"Loss value\")\n",
    "# _ = plt.title(\"MF-SGNS loss over time\")\n",
    "_ = plt.legend()"
   ]
  },
  {
   "cell_type": "markdown",
   "metadata": {
    "id": "k_uJxoYpjVuP"
   },
   "source": [
    "Training is finished, and it looks like the model is learning to produce vectors with desirable semantic qualities! The loss is descreasing as well. As a final sanity check, let's do a manual inspection of a few more words, just to double check. "
   ]
  },
  {
   "cell_type": "code",
   "execution_count": 26,
   "metadata": {
    "colab": {
     "base_uri": "https://localhost:8080/",
     "height": 136
    },
    "id": "ixnafiNliM6k",
    "outputId": "0452683e-5b3e-46d5-d251-06f90b820c50"
   },
   "outputs": [
    {
     "name": "stdout",
     "output_type": "stream",
     "text": [
      "drive     : run edge path turn pull\n",
      "america   : asia mexico britain korea south\n",
      "east      : south north west eastern southeast\n",
      "soviet    : communist russian union yugoslav war\n",
      "belgium   : switzerland denmark portugal spain austria\n",
      "brussels  : seoul singapore taipei shanghai rome\n",
      "1914      : 1917 1915 1916 1939 1940\n"
     ]
    }
   ],
   "source": [
    "# More maual inspection.\n",
    "# You should see that this makes sense as below.\n",
    "for w in [\"drive\", \"america\", \"east\", \"soviet\", \"belgium\", \"brussels\", \"1914\"]:\n",
    "    print(\"{:10}: {}\".format(w, \" \".join(most_similar(w))))"
   ]
  }
 ],
 "metadata": {
  "colab": {
   "provenance": []
  },
  "kernelspec": {
   "display_name": "torch-gpu",
   "language": "python",
   "name": "python3"
  },
  "language_info": {
   "codemirror_mode": {
    "name": "ipython",
    "version": 3
   },
   "file_extension": ".py",
   "mimetype": "text/x-python",
   "name": "python",
   "nbconvert_exporter": "python",
   "pygments_lexer": "ipython3",
   "version": "3.9.15"
  },
  "vscode": {
   "interpreter": {
    "hash": "e1cb4ba5f411cfa4a68a7ea6c2f9ba3655e2604bd37447d058a856eda531fd15"
   }
  }
 },
 "nbformat": 4,
 "nbformat_minor": 1
}
