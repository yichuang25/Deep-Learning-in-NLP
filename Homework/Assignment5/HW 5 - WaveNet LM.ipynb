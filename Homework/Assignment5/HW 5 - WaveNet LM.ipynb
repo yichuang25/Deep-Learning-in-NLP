{
 "cells": [
  {
   "attachments": {},
   "cell_type": "markdown",
   "id": "da88f25d",
   "metadata": {},
   "source": [
    "# Name: Yichen Huang\n",
    "# CUID: yh3550"
   ]
  },
  {
   "cell_type": "code",
   "execution_count": 18,
   "id": "e06698ab",
   "metadata": {},
   "outputs": [],
   "source": [
    "import torch\n",
    "import torch.nn as nn\n",
    "from torch.nn import functional as F"
   ]
  },
  {
   "cell_type": "code",
   "execution_count": null,
   "id": "7da08f53",
   "metadata": {},
   "outputs": [],
   "source": []
  },
  {
   "cell_type": "markdown",
   "id": "360db6dd",
   "metadata": {},
   "source": [
    "# Layer Norm by hand\n",
    "- Fill in the Layer Norm application below. Make sure the manual and PyTorch implementations are the same.\n",
    "- As before, FILL_IN the missing code to make this work."
   ]
  },
  {
   "cell_type": "code",
   "execution_count": 19,
   "id": "9220f470",
   "metadata": {},
   "outputs": [],
   "source": [
    "FILL_IN = \"FILL_IN\""
   ]
  },
  {
   "cell_type": "code",
   "execution_count": 20,
   "id": "05d979eb",
   "metadata": {},
   "outputs": [
    {
     "name": "stdout",
     "output_type": "stream",
     "text": [
      "layer_norm_manual @ 0:  tensor([[ 0.5582, -1.2965, -0.5622,  1.3005],\n",
      "        [ 1.4575,  0.2447, -0.4226, -1.2796],\n",
      "        [ 1.5964, -1.1497, -0.1009, -0.3458]])\n",
      "layer_norm_out[0]:  tensor([[ 0.5582, -1.2965, -0.5622,  1.3005],\n",
      "        [ 1.4575,  0.2447, -0.4226, -1.2796],\n",
      "        [ 1.5964, -1.1497, -0.1009, -0.3458]], grad_fn=<SelectBackward0>)\n",
      "layer_norm_manual @ 1:  tensor([[-0.4206, -1.0041, -0.2363,  1.6610],\n",
      "        [-0.7144,  0.7432, -1.2262,  1.1973],\n",
      "        [ 0.8899, -1.6784,  0.1939,  0.5945]])\n",
      "layer_norm_out[1]:  tensor([[-0.4206, -1.0041, -0.2363,  1.6610],\n",
      "        [-0.7144,  0.7432, -1.2262,  1.1973],\n",
      "        [ 0.8899, -1.6784,  0.1939,  0.5945]], grad_fn=<SelectBackward0>)\n"
     ]
    }
   ],
   "source": [
    "# This is (N, T, d_model)\n",
    "# N: batch size\n",
    "# T: sentence_length\n",
    "# d_model: embedding dimension\n",
    "\n",
    "N, T, d_model = 2, 3, 4\n",
    "\n",
    "# An embedding. This is what you might feed into a network.\n",
    "embedding = torch.randn(N, T, d_model)\n",
    "\n",
    "# Create a Layer Norm layer on the embedding dimension.\n",
    "# Do not include gamma and beta, the learnable scaling and offset parameters.\n",
    "# This should act of the dimenson of the model.\n",
    "layer_norm = nn.LayerNorm(d_model)\n",
    "# Run embedding through the layer_norm layer.\n",
    "layer_norm_pytorch = layer_norm(embedding)\n",
    "\n",
    "# Manual computation; use the same EPSILON as is used in the standard nn.LayerNorm.\n",
    "EPSILON = 1e-05\n",
    "\n",
    "# Grab the mean of each vector in the first batch. This should be (3, 1).\n",
    "mean = torch.mean(embedding[0],dim=1).unsqueeze(1)\n",
    "# Grab the var of each vector in the first batch. This should be (3, 1).\n",
    "var = torch.var(embedding[0],dim=1,unbiased=False).unsqueeze(1)\n",
    "# Manually take each vector in the batch and standerdize it.\n",
    "layer_norm_manual = (embedding[0] - mean) / torch.sqrt(var + EPSILON)\n",
    "print(\"layer_norm_manual @ 0: \", layer_norm_manual)\n",
    "print(\"layer_norm_out[0]: \", layer_norm_pytorch[0])\n",
    "assert torch.allclose(layer_norm_pytorch[0], layer_norm_manual), 'Tensors do not match.'\n",
    "\n",
    "mean = torch.mean(embedding[1],dim=1).unsqueeze(1)\n",
    "var = torch.var(embedding[1],dim=1,unbiased=False).unsqueeze(1)\n",
    "layer_norm_manual = (embedding[1] - mean) / torch.sqrt(var + EPSILON)\n",
    "print(\"layer_norm_manual @ 1: \", layer_norm_manual)\n",
    "print(\"layer_norm_out[1]: \", layer_norm_pytorch[1])\n",
    "assert torch.allclose(layer_norm_pytorch[1], layer_norm_manual), 'Tensors do not match.'"
   ]
  },
  {
   "cell_type": "code",
   "execution_count": null,
   "id": "2b889fed",
   "metadata": {},
   "outputs": [],
   "source": []
  },
  {
   "cell_type": "markdown",
   "id": "97961f13",
   "metadata": {},
   "source": [
    "### Wave Net"
   ]
  },
  {
   "cell_type": "code",
   "execution_count": 21,
   "id": "a7d1778b",
   "metadata": {},
   "outputs": [],
   "source": [
    "# Hyperparameters we will use.                                                                                                                                                          \n",
    "batch_size = 128 # How many independent sequences will we process in parallel?                                                                                              \n",
    "context_size = 256 # What is the maximum context length for predictions? This is T below.                                                                                                    \n",
    "epochs = 15000\n",
    "eval_interval = 500\n",
    "# Is this a good one? Can you check?\n",
    "learning_rate = 3e-3\n",
    "device = 'cpu' # Do this if you have a MAC: 'mps' if torch.backends.mps.is_available() else 'cpu'\n",
    "eval_iters = 200\n",
    "d_model = 20\n",
    "d_hidden = 100\n",
    "n_layer = 1\n",
    "dropout = 0.2\n",
    "write_to_file = False\n",
    "norm = 'batch_norm'\n",
    "\n",
    "# Add more pritning to the model.\n",
    "debug = False\n",
    "# ------------        "
   ]
  },
  {
   "cell_type": "code",
   "execution_count": 22,
   "id": "6054eeb7",
   "metadata": {},
   "outputs": [],
   "source": [
    "torch.manual_seed(1337)\n",
    "\n",
    "# Load the Shakespere document input.txt.                                                                          \n",
    "with open('names.txt', 'r', encoding='utf-8') as f:\n",
    "    text = f.read()"
   ]
  },
  {
   "cell_type": "code",
   "execution_count": 23,
   "id": "3caf7f6c",
   "metadata": {},
   "outputs": [],
   "source": [
    "# Get all the unique characters in the text.                                                                                                             \n",
    "chars = sorted(list(set(text)))\n",
    "vocab_size = len(chars)\n",
    "# As usual, create a mapping from a character to a text.                                                                                                                            \n",
    "stoi = {ch: i for i, ch in enumerate(chars)}\n",
    "itos = {i: ch for i, ch in enumerate(chars)}\n",
    "# encode: is a lambda function that takes a string and returns  a list of ints, where each character is mapped to the right int.\n",
    "encode = lambda x: [stoi[c] for c in x]\n",
    "# decode: is the reverse mapping of encode. It takes a list of int, and returns a string.\n",
    "decode = lambda x: ''.join([itos[c] for c in x]) "
   ]
  },
  {
   "cell_type": "code",
   "execution_count": 24,
   "id": "35d31f81",
   "metadata": {},
   "outputs": [],
   "source": [
    "# Do a train-test split with 90% of the data train and 10% test.\n",
    "# You can just use the first 90% of the data as training data.\n",
    "# Run the text through the encode method.\n",
    "data = encode(text)\n",
    "n = int(0.9*len(data)) # first 90% will be train, rest val                                                                                                                 \n",
    "train_data = data[:n]\n",
    "val_data = data[n:]\n"
   ]
  },
  {
   "cell_type": "code",
   "execution_count": 25,
   "id": "2be655fb",
   "metadata": {},
   "outputs": [],
   "source": [
    "# Load the data.\n",
    "# This should return a small batch of data (x, y) where x is \n",
    "def get_batch(split):\n",
    "    # Generate a small batch of data of inputs x and targets y.\n",
    "    # Pick the train data if split == 'train', else the validation data.\n",
    "    data = train_data if split == 'train' else val_data\n",
    "    # Select a random set of ints [0, len(data) - context_size) ; reshape this to be (batch_size, )\n",
    "    # For an index i, a x should be data[i:i+context_size] while a y should be data[i+context_size].\n",
    "    # ix has length batch_size.\n",
    "    ix = torch.randint(0, len(data) - context_size, (batch_size,))\n",
    "    # Stack the batch_size data to be of shape (batch_size, context_size)\n",
    "    x = torch.tensor([data[i.item():i.item()+context_size] for i in ix])\n",
    "    # Stack the y targets; this should be of length batch_size.\n",
    "    # You should pull out the i+context_size element of data; i is an index in ix.\n",
    "    y = torch.tensor([data[i.item()+context_size] for i in ix])                                                                                      \n",
    "    x, y = x.to(device), y.to(device)\n",
    "    return x, y"
   ]
  },
  {
   "cell_type": "code",
   "execution_count": 26,
   "id": "ce7b32c4",
   "metadata": {},
   "outputs": [],
   "source": [
    "# Estimate the loss.\n",
    "@torch.no_grad()\n",
    "def estimate_loss():\n",
    "    out = {}\n",
    "    # Put the model in eval mode. Why?\n",
    "    model.eval()\n",
    "    for split in ['train', 'val']:\n",
    "        losses = torch.zeros(eval_iters)\n",
    "        for k in range(eval_iters):\n",
    "            xb, yb = get_batch(split)\n",
    "            logits, loss = model(xb, yb)\n",
    "            # Get the value in the loss.\n",
    "            losses[k] = loss.item()\n",
    "        # Get the mean of the values in the losses.\n",
    "        out[split] = losses.mean()\n",
    "    # Put the model in train mode.\n",
    "    model.train()\n",
    "    return out"
   ]
  },
  {
   "cell_type": "code",
   "execution_count": 27,
   "id": "34a2f59c",
   "metadata": {},
   "outputs": [],
   "source": [
    "class WaveNetMLPLanguageModel(nn.Module):\n",
    "\n",
    "    def __init__(self):\n",
    "        super().__init__()\n",
    "        # each token directly reads off the logits for the next token from a lookup table                                                                                                                                                                                                                                                                                                                                                                                                                                                                                                                                                                                                                                                                                                                                                                                                                                   \n",
    "        self.token_embedding_table = nn.Embedding(vocab_size, d_model)\n",
    "        \n",
    "        self.linear_layers = []\n",
    "        self.norm_layers = []\n",
    "        self.linear_layers_res = []\n",
    "        \n",
    "        temp_context_size = context_size\n",
    "        \n",
    "        while temp_context_size >= 10:\n",
    "            # Map from 2 * d_model to d_hidden.\n",
    "            if not self.linear_layers:\n",
    "                # Add to linear_layers a layer going 2 * d_model to d_hidden.\n",
    "                self.linear_layers.append(nn.Linear(2 * d_model, d_hidden))\n",
    "                self.linear_layers_res.append(nn.Linear(2 * d_model, d_hidden))\n",
    "            else:\n",
    "                # Map from 2 * d_hidden to d_hidden.\n",
    "                # Add to linear_layers a layer going 2 * d_hidden to d_hidden.\n",
    "                self.linear_layers.append(nn.Linear(2 * d_hidden, d_hidden))\n",
    "                self.linear_layers_res.append(nn.Linear(2 * d_hidden, d_hidden))\n",
    "            # Append to norm_layers a batch norm 1d with vectors of size d_hidden.\n",
    "            self.norm_layers.append(nn.LayerNorm([d_hidden, temp_context_size//2]))\n",
    "            \n",
    "            temp_context_size //= 2\n",
    "        \n",
    "        # Add a final batch norm 1d with vectors of size vocab_size. \n",
    "        self.norm_f = nn.LayerNorm(vocab_size) # Final layer norm.\n",
    "        # Add a Linear layer going from temp_context_size * d_hidden to vocab_size.\n",
    "        self.ff = nn.Linear(temp_context_size * d_hidden, vocab_size,bias=False)\n",
    "        \n",
    "    def forward(self, idx, targets=None):\n",
    "        N, T = idx.shape\n",
    "\n",
    "        # idx and targets are both (N, T) tensor of integers                                                                                                                                                                                                                                                                                                                                                                                                                                                                                                                                                                                                                                                                                                                                                                                                                                                                 \n",
    "        x = self.token_embedding_table(idx) # (N, T, d_model)\n",
    "        \n",
    "        for i, _ in enumerate(self.linear_layers):\n",
    "            N, T, D = x.shape\n",
    "            # Reshape x to be (N, ??). You want to shrink the context window down by two each time.\n",
    "            x = x.reshape(N, T // 2, 2 * D)\n",
    "            # Pass through linear layer i.\n",
    "            x_res = self.linear_layers_res[i](x)\n",
    "            x = self.linear_layers[i](x)\n",
    "            # Transpose appropriate dimensions of x. Look at the expected dimensions of BatchNorm1d.\n",
    "            x = x.transpose(1, 2)\n",
    "            # Pass through the batch norm layer.\n",
    "            x = self.norm_layers[i](x)\n",
    "            # Transpose back to the previous dimensions.\n",
    "            x = x.transpose(1, 2)\n",
    "            # Highway connection.\n",
    "            # Pass through ReLU.\n",
    "            #x = nn.functional.relu(x) + x_res\n",
    "            x = nn.functional.relu(x) + x_res\n",
    "        \n",
    "        # Reshape.\n",
    "        x = torch.flatten(x, start_dim=1)\n",
    "        # (N, [T // (2 ** len(self.linear_layers))] * d_model)\n",
    "        # Apply dropout.\n",
    "        x = nn.Dropout(p=dropout)(x)\n",
    "        # Apply self.ff.\n",
    "        x = self.ff(x) # (N, vocab_size)\n",
    "        \n",
    "        \n",
    "        # Apply batch norm.\n",
    "        x = self.norm_f(x)\n",
    "\n",
    "        # Apply Tanh.\n",
    "        logits = x\n",
    "        #logits = torch.tanh(x) + x_res\n",
    "\n",
    "        if targets is None:\n",
    "            loss = None\n",
    "        else:\n",
    "            _, T = logits.shape\n",
    "\n",
    "            assert(T == vocab_size)\n",
    "\n",
    "            # Apply cross entropy.\n",
    "            loss = nn.functional.cross_entropy(logits, targets)\n",
    "\n",
    "        return logits, loss\n",
    "\n",
    "    def generate(self, idx, max_new_tokens):\n",
    "        # idx is a (N, T) array of indices in the current context.                                                                                                                                                                                                                                                                                                                                                                                                                                                                                                                                                                                                                                                                                                                                                                                                                                                             \n",
    "        for _ in range(max_new_tokens):\n",
    "            # Here, we crop idx to the last context_size tokens.                                                                                                                                                                                                                                                                                                                                                                                                                                                                                                                                                                                                                                                                                                                                                                                                                                                                        \n",
    "            idx_cond = idx[:, -context_size:] # (N, context_size)\n",
    "            # Get the predictions; this is just the last timestep.                                                                                                                                                                                                                                                                                                                                                                                                                                                                                                                                                                                                                                                                                                                                                                                                                                                           \n",
    "            logits, loss = self.forward(idx_cond)\n",
    "            # Apply softmax to get probabilities.                                                                                                                                                                                                                                                                                                                                                                                                                                                                                                                                                                                                                                                                                                                                                                                                                                                                            \n",
    "            probs = nn.functional.softmax(logits, dim=1) # (N, vocab_size)                                                                                                                                                                                                                                                                                                                                                                                                                                                                                                                                                                                                                                                                                                                                                                                                                                                                      \n",
    "            # Sample from the distribution to get the next character's index.                                                                                                                                                                                                                                                                                                                                                                                                                                                                                                                                                                                                                                                                                                                                                                                                                                                                                  \n",
    "            idx_next = torch.multinomial(probs, 1) # (N, 1)                                                                                                                                                                                                                                                                                                                                                                                                                                                                                                                                                                                                                                                                                                                                                                                                                                                     \n",
    "            # Append sampled index to the running sequence.                                                                                                                                                                                                                                                                                                                                                                                                                                                                                                                                                                                                                                                                                                                                                                                                                                                                  \n",
    "            idx = torch.cat([idx, idx_next], dim=1) # (N, T+1)\n",
    "            \n",
    "        return idx # At most, this is (N, T + max_new_tokens) in the second dimension."
   ]
  },
  {
   "cell_type": "markdown",
   "id": "91eeeab8",
   "metadata": {},
   "source": [
    "Train the model."
   ]
  },
  {
   "cell_type": "code",
   "execution_count": 28,
   "id": "25752635",
   "metadata": {},
   "outputs": [
    {
     "name": "stdout",
     "output_type": "stream",
     "text": [
      "0.022194 M parameters\n"
     ]
    }
   ],
   "source": [
    "model = WaveNetMLPLanguageModel().to(device)\n",
    "# Print the number of parameters in the model.\n",
    "print(sum(p.numel() for p in model.parameters())/1000000, 'M parameters')\n",
    "\n",
    "# Create a PyTorch optimizer. Use AdamW.                                                                                                                                                                                                                                        \n",
    "optimizer = torch.optim.AdamW(model.parameters(), lr=learning_rate)"
   ]
  },
  {
   "cell_type": "code",
   "execution_count": 29,
   "id": "15f56432",
   "metadata": {},
   "outputs": [],
   "source": [
    "zero_grad = []\n",
    "zero_grad_res = []"
   ]
  },
  {
   "cell_type": "code",
   "execution_count": 30,
   "id": "05ba09ba",
   "metadata": {},
   "outputs": [],
   "source": [
    "train_loss = []\n",
    "val_loss = []"
   ]
  },
  {
   "cell_type": "code",
   "execution_count": 31,
   "id": "ca598bc9",
   "metadata": {},
   "outputs": [
    {
     "name": "stdout",
     "output_type": "stream",
     "text": [
      "step 0: train loss 3.7404, val loss 3.7469\n",
      "step 500: train loss 2.7538, val loss 2.8637\n",
      "step 1000: train loss 2.6845, val loss 2.7832\n",
      "step 1500: train loss 2.6381, val loss 2.7472\n",
      "step 2000: train loss 2.5861, val loss 2.7162\n",
      "step 2500: train loss 2.5688, val loss 2.6807\n",
      "step 3000: train loss 2.5595, val loss 2.6858\n",
      "step 3500: train loss 2.5449, val loss 2.6739\n",
      "step 4000: train loss 2.5344, val loss 2.6641\n",
      "step 4500: train loss 2.5345, val loss 2.6604\n",
      "step 5000: train loss 2.5077, val loss 2.6397\n",
      "step 5500: train loss 2.4969, val loss 2.6278\n",
      "step 6000: train loss 2.4921, val loss 2.6225\n",
      "step 6500: train loss 2.4845, val loss 2.6059\n",
      "step 7000: train loss 2.4894, val loss 2.6147\n",
      "step 7500: train loss 2.4887, val loss 2.6100\n",
      "step 8000: train loss 2.4696, val loss 2.5882\n",
      "step 8500: train loss 2.4785, val loss 2.6030\n",
      "step 9000: train loss 2.4813, val loss 2.5991\n",
      "step 9500: train loss 2.4716, val loss 2.5977\n",
      "step 10000: train loss 2.4844, val loss 2.6072\n",
      "step 10500: train loss 2.4682, val loss 2.5928\n",
      "step 11000: train loss 2.4762, val loss 2.6036\n",
      "step 11500: train loss 2.4684, val loss 2.5899\n",
      "step 12000: train loss 2.4690, val loss 2.5878\n",
      "step 12500: train loss 2.4650, val loss 2.5918\n",
      "step 13000: train loss 2.4371, val loss 2.5697\n",
      "step 13500: train loss 2.4581, val loss 2.5777\n",
      "step 14000: train loss 2.4358, val loss 2.5621\n",
      "step 14500: train loss 2.4509, val loss 2.5701\n",
      "step 14999: train loss 2.4576, val loss 2.5713\n"
     ]
    }
   ],
   "source": [
    "# Here we loop over max_iters and at each iter we get a batch of data we optimize over.\n",
    "model.train()\n",
    "for epoch in range(epochs):\n",
    "\n",
    "    # every once in a while evaluate the loss on train and val sets                                                                                                                                                                                                 \n",
    "    if epoch % eval_interval == 0 or epoch == epochs - 1: \n",
    "        losses = estimate_loss()\n",
    "        train_loss.append(losses['train'])\n",
    "        val_loss.append(losses['val'])\n",
    "        print(f\"step {epoch}: train loss {losses['train']:.4f}, val loss {losses['val']:.4f}\")\n",
    "        \n",
    "    # Sample a batch of data                                                                                                                                                                                                                                        \n",
    "    xb, yb = get_batch('train')\n",
    "\n",
    "    # evaluate the loss                                                                                                                                                                                                                                         \n",
    "    logits, loss = model(xb, yb)\n",
    "    # Zero the grads.\n",
    "    optimizer.zero_grad()\n",
    "    # Get gradients by backprop; do a parameter update.\n",
    "    loss.backward()\n",
    "    # count the number of zero gradients\n",
    "                \n",
    "    optimizer.step()"
   ]
  },
  {
   "attachments": {},
   "cell_type": "markdown",
   "id": "f46c86a0",
   "metadata": {},
   "source": [
    "# Plot for input.txt"
   ]
  },
  {
   "cell_type": "code",
   "execution_count": 16,
   "id": "f2704860",
   "metadata": {},
   "outputs": [
    {
     "data": {
      "image/png": "[encoded data removed]",
      "text/plain": [
       "<Figure size 640x480 with 1 Axes>"
      ]
     },
     "metadata": {},
     "output_type": "display_data"
    }
   ],
   "source": [
    "import matplotlib.pyplot as plt\n",
    "\n",
    "plt.plot(range(0,20500,500),train_loss, label='train')\n",
    "plt.plot(range(0,20500,500),val_loss, label='val')\n",
    "plt.legend()\n",
    "plt.show()"
   ]
  },
  {
   "cell_type": "code",
   "execution_count": 17,
   "id": "ae0653ec",
   "metadata": {},
   "outputs": [
    {
     "name": "stdout",
     "output_type": "stream",
     "text": [
      "First Citizen:\n",
      "Before we proceed any further, hear me speak.\n",
      "\n",
      "All:\n",
      "Speak, speak.\n",
      "\n",
      "First Citizen:\n",
      "You are all resolved rather to die than to famish?\n",
      "\n",
      "All:\n",
      "Resolved. resolved.\n",
      "\n",
      "First Citizen:\n",
      "First, you know Caius Marcius is chief enemy to the people.\n",
      "\n",
      "All:\n",
      "Wsale po-a savteoee el wedl tiy yy;\n",
      "Bode.\n",
      "\n",
      "IEGII'CN hI UBa pyor moacg doos e'll. Wonle:e tos coso bo Bw m don oI jart n nth me torifcka,l thas goe sesanpt s tonoue ke rorleodifgedduciud\n",
      "s bc Rekeitamf,uyls ths hile mo fewesgHerins eeae gtgerByee eouarn ouftenyol hibh fhen anwratoh\n",
      " teegyd titifehh,\n",
      "CaNh wUA erNe yFy nowsr loftimos ar.\n",
      "LoNu tgbe asl djebf,ginsr mnptry ife; ors has -Yenisedofe hotd yoke nehas wiah, iu gomn fhCriiut phatnu aiejt ab etals  ortretaw ayurbsevxishee, hbsy os.\n",
      "Bos Ieut\n",
      "\n"
     ]
    }
   ],
   "source": [
    "# Generate from the model and save it to wave_net.txt.\n",
    "# We generate a maximum of 1000 tokens. \n",
    "# We feed in a batch of dimenson (1, context_size).\n",
    "# The loss should get to ~ 2.0 on train and validation.\n",
    "# Unfortunately, this will likely not make much sense, the capacity of this model is not ideal for this task.\n",
    "# The name generation task fro HW 1 might be aother data set to use.\n",
    "model.eval()\n",
    "context = torch.tensor(train_data[:256]).reshape(1, 256)\n",
    "print(decode(model.generate(context, max_new_tokens=500)[0].tolist()))\n",
    "if write_to_file:\n",
    "    open('wave_net.txt', 'w').write(decode(model.generate(context, max_new_tokens=10000)[0].tolist()))"
   ]
  },
  {
   "attachments": {},
   "cell_type": "markdown",
   "id": "6711495d",
   "metadata": {},
   "source": [
    "# plot for name.txt"
   ]
  },
  {
   "cell_type": "code",
   "execution_count": 32,
   "id": "30c7cb69",
   "metadata": {},
   "outputs": [
    {
     "data": {
      "image/png": "[encoded data removed]",
      "text/plain": [
       "<Figure size 640x480 with 1 Axes>"
      ]
     },
     "metadata": {},
     "output_type": "display_data"
    }
   ],
   "source": [
    "import matplotlib.pyplot as plt\n",
    "\n",
    "plt.plot(range(0,15500,500),train_loss, label='train')\n",
    "plt.plot(range(0,15500,500),val_loss, label='val')\n",
    "plt.legend()\n",
    "plt.show()"
   ]
  },
  {
   "cell_type": "markdown",
   "id": "279c2f21",
   "metadata": {},
   "source": [
    "Bonus (+5 max - If you do this and it's all right this assignment will be 13/10.)\n",
    "- Add some residual connections. Does this improve gradient zero issues?\n",
    " - Add some logging to figure out the number of zero gradients across the network before and after you add the residual connections.\n",
    "- Add some plots that show the train and validation loss, per k iterations. You might want k < 500.\n",
    "- Use LayerNorm instead of batch norm.\n",
    "- Use the names.txt file from assignment 1. How do the names look?"
   ]
  },
  {
   "cell_type": "code",
   "execution_count": 33,
   "id": "56413f7a",
   "metadata": {},
   "outputs": [
    {
     "name": "stdout",
     "output_type": "stream",
     "text": [
      "emma\n",
      "olivia\n",
      "ava\n",
      "isabella\n",
      "sophia\n",
      "charlotte\n",
      "mia\n",
      "amelia\n",
      "harper\n",
      "evelyn\n",
      "abigail\n",
      "emily\n",
      "elizabeth\n",
      "mila\n",
      "ella\n",
      "avery\n",
      "sofia\n",
      "camila\n",
      "aria\n",
      "scarlett\n",
      "victoria\n",
      "madison\n",
      "luna\n",
      "grace\n",
      "chloe\n",
      "penelope\n",
      "layla\n",
      "riley\n",
      "zoey\n",
      "nora\n",
      "lily\n",
      "eleanor\n",
      "hannah\n",
      "lillian\n",
      "addison\n",
      "aubrey\n",
      "ellie\n",
      "stella\n",
      "nneere\n",
      "taeitlo\n",
      "gleiei\n",
      "\n",
      "kilre\n",
      "tdenai\n",
      "neyvaelti\n",
      "nodat\n",
      "loelariht\n",
      "olymai\n",
      "aelasih\n",
      "rktasran\n",
      "kutara\n",
      "fiavaen\n",
      "anar\n",
      "lareksiclavih\n",
      "masron\n",
      "kynaja\n",
      "eiirnln\n",
      "orndyn\n",
      "kidtle\n",
      "maray\n",
      "ceylaahlagy\n",
      "ealzr\n",
      "leilamh\n",
      "nihai\n",
      "kaley\n",
      "ernaerodalan\n",
      "sadia\n",
      "maruha\n",
      "clrie\n",
      "agyrrsenz\n",
      "mrixanfdi\n",
      "rydir\n",
      "nherte\n",
      "nzieri\n",
      "daensa\n",
      "zawini\n",
      "ryhelo\n",
      "taeri\n",
      "ozhemad\n",
      "elite\n",
      "zer\n",
      "reia\n",
      "ealean\n",
      "exiabon\n",
      "anncay\n",
      "alyan\n",
      "meeeo\n",
      "\n",
      "cyiali\n",
      "saryaa\n",
      "redenar\n",
      "aadvae\n",
      "aaaaaeda\n",
      "kyeka\n",
      "melda\n",
      "aaoyonh\n",
      "aeila\n",
      "ihyehanrlaacalhx\n",
      "neia\n",
      "an\n",
      "anaihade\n",
      "mehdiydan\n",
      "lakelac\n",
      "aevila\n",
      "radai\n",
      "aoyania\n",
      "colire\n",
      "\n"
     ]
    }
   ],
   "source": [
    "model.eval()\n",
    "context = torch.tensor(train_data[:256]).reshape(1, 256)\n",
    "print(decode(model.generate(context, max_new_tokens=500)[0].tolist()))\n",
    "if write_to_file:\n",
    "    open('name_wave_net.txt', 'w').write(decode(model.generate(context, max_new_tokens=10000)[0].tolist()))"
   ]
  }
 ],
 "metadata": {
  "kernelspec": {
   "display_name": "torch-gpu",
   "language": "python",
   "name": "python3"
  },
  "language_info": {
   "codemirror_mode": {
    "name": "ipython",
    "version": 3
   },
   "file_extension": ".py",
   "mimetype": "text/x-python",
   "name": "python",
   "nbconvert_exporter": "python",
   "pygments_lexer": "ipython3",
   "version": "3.9.15"
  },
  "vscode": {
   "interpreter": {
    "hash": "e1cb4ba5f411cfa4a68a7ea6c2f9ba3655e2604bd37447d058a856eda531fd15"
   }
  }
 },
 "nbformat": 4,
 "nbformat_minor": 5
}
