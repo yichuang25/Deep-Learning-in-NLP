{
 "cells": [
  {
   "attachments": {},
   "cell_type": "markdown",
   "id": "da88f25d",
   "metadata": {},
   "source": [
    "# Name: Yichen Huang\n",
    "# CUID: yh3550"
   ]
  },
  {
   "cell_type": "code",
   "execution_count": 15,
   "id": "e06698ab",
   "metadata": {},
   "outputs": [],
   "source": [
    "import torch\n",
    "import torch.nn as nn\n",
    "from torch.nn import functional as F"
   ]
  },
  {
   "cell_type": "code",
   "execution_count": null,
   "id": "7da08f53",
   "metadata": {},
   "outputs": [],
   "source": []
  },
  {
   "cell_type": "markdown",
   "id": "360db6dd",
   "metadata": {},
   "source": [
    "# Layer Norm by hand\n",
    "- Fill in the Layer Norm application below. Make sure the manual and PyTorch implementations are the same.\n",
    "- As before, FILL_IN the missing code to make this work."
   ]
  },
  {
   "cell_type": "code",
   "execution_count": 16,
   "id": "9220f470",
   "metadata": {},
   "outputs": [],
   "source": [
    "FILL_IN = \"FILL_IN\""
   ]
  },
  {
   "cell_type": "code",
   "execution_count": 17,
   "id": "05d979eb",
   "metadata": {},
   "outputs": [
    {
     "name": "stdout",
     "output_type": "stream",
     "text": [
      "layer_norm_manual @ 0:  tensor([[ 0.7499, -1.1125,  1.2143, -0.8517],\n",
      "        [ 0.1187, -1.6203,  1.0921,  0.4095],\n",
      "        [-1.1663,  1.1724,  0.7924, -0.7984]])\n",
      "layer_norm_out[0]:  tensor([[ 0.7499, -1.1125,  1.2143, -0.8517],\n",
      "        [ 0.1187, -1.6203,  1.0921,  0.4095],\n",
      "        [-1.1663,  1.1724,  0.7924, -0.7984]], grad_fn=<SelectBackward0>)\n",
      "layer_norm_manual @ 1:  tensor([[ 0.2798,  1.3995, -0.3138, -1.3655],\n",
      "        [-0.1390,  1.4348,  0.0878, -1.3836],\n",
      "        [-0.1441, -1.4669,  0.2911,  1.3199]])\n",
      "layer_norm_out[1]:  tensor([[ 0.2798,  1.3995, -0.3139, -1.3655],\n",
      "        [-0.1390,  1.4348,  0.0878, -1.3836],\n",
      "        [-0.1441, -1.4669,  0.2911,  1.3199]], grad_fn=<SelectBackward0>)\n"
     ]
    }
   ],
   "source": [
    "# This is (N, T, d_model)\n",
    "# N: batch size\n",
    "# T: sentence_length\n",
    "# d_model: embedding dimension\n",
    "\n",
    "N, T, d_model = 2, 3, 4\n",
    "\n",
    "# An embedding. This is what you might feed into a network.\n",
    "embedding = torch.randn(N, T, d_model)\n",
    "\n",
    "# Create a Layer Norm layer on the embedding dimension.\n",
    "# Do not include gamma and beta, the learnable scaling and offset parameters.\n",
    "# This should act of the dimenson of the model.\n",
    "layer_norm = nn.LayerNorm(d_model)\n",
    "# Run embedding through the layer_norm layer.\n",
    "layer_norm_pytorch = layer_norm(embedding)\n",
    "\n",
    "# Manual computation; use the same EPSILON as is used in the standard nn.LayerNorm.\n",
    "EPSILON = 1e-05\n",
    "\n",
    "# Grab the mean of each vector in the first batch. This should be (3, 1).\n",
    "mean = torch.mean(embedding[0],dim=1).unsqueeze(1)\n",
    "# Grab the var of each vector in the first batch. This should be (3, 1).\n",
    "var = torch.var(embedding[0],dim=1,unbiased=False).unsqueeze(1)\n",
    "# Manually take each vector in the batch and standerdize it.\n",
    "layer_norm_manual = (embedding[0] - mean) / torch.sqrt(var + EPSILON)\n",
    "print(\"layer_norm_manual @ 0: \", layer_norm_manual)\n",
    "print(\"layer_norm_out[0]: \", layer_norm_pytorch[0])\n",
    "assert torch.allclose(layer_norm_pytorch[0], layer_norm_manual), 'Tensors do not match.'\n",
    "\n",
    "mean = torch.mean(embedding[1],dim=1).unsqueeze(1)\n",
    "var = torch.var(embedding[1],dim=1,unbiased=False).unsqueeze(1)\n",
    "layer_norm_manual = (embedding[1] - mean) / torch.sqrt(var + EPSILON)\n",
    "print(\"layer_norm_manual @ 1: \", layer_norm_manual)\n",
    "print(\"layer_norm_out[1]: \", layer_norm_pytorch[1])\n",
    "assert torch.allclose(layer_norm_pytorch[1], layer_norm_manual), 'Tensors do not match.'"
   ]
  },
  {
   "cell_type": "code",
   "execution_count": null,
   "id": "2b889fed",
   "metadata": {},
   "outputs": [],
   "source": []
  },
  {
   "cell_type": "markdown",
   "id": "97961f13",
   "metadata": {},
   "source": [
    "### Wave Net"
   ]
  },
  {
   "cell_type": "code",
   "execution_count": 18,
   "id": "a7d1778b",
   "metadata": {},
   "outputs": [],
   "source": [
    "# Hyperparameters we will use.                                                                                                                                                          \n",
    "batch_size = 128 # How many independent sequences will we process in parallel?                                                                                              \n",
    "context_size = 256 # What is the maximum context length for predictions? This is T below.                                                                                                    \n",
    "epochs = 20000\n",
    "eval_interval = 500\n",
    "# Is this a good one? Can you check?\n",
    "learning_rate = 3e-4\n",
    "device = 'cpu' # Do this if you have a MAC: 'mps' if torch.backends.mps.is_available() else 'cpu'\n",
    "eval_iters = 200\n",
    "d_model = 20\n",
    "d_hidden = 100\n",
    "n_layer = 1\n",
    "dropout = 0.2\n",
    "write_to_file = False\n",
    "norm = 'batch_norm'\n",
    "\n",
    "# Add more pritning to the model.\n",
    "debug = False\n",
    "# ------------        "
   ]
  },
  {
   "cell_type": "code",
   "execution_count": 19,
   "id": "6054eeb7",
   "metadata": {},
   "outputs": [],
   "source": [
    "torch.manual_seed(1337)\n",
    "\n",
    "# Load the Shakespere document input.txt.                                                                          \n",
    "with open('input.txt', 'r', encoding='utf-8') as f:\n",
    "    text = f.read()"
   ]
  },
  {
   "cell_type": "code",
   "execution_count": 20,
   "id": "3caf7f6c",
   "metadata": {},
   "outputs": [],
   "source": [
    "# Get all the unique characters in the text.                                                                                                             \n",
    "chars = sorted(list(set(text)))\n",
    "vocab_size = len(chars)\n",
    "# As usual, create a mapping from a character to a text.                                                                                                                            \n",
    "stoi = {ch: i for i, ch in enumerate(chars)}\n",
    "itos = {i: ch for i, ch in enumerate(chars)}\n",
    "# encode: is a lambda function that takes a string and returns  a list of ints, where each character is mapped to the right int.\n",
    "encode = lambda x: [stoi[c] for c in x]\n",
    "# decode: is the reverse mapping of encode. It takes a list of int, and returns a string.\n",
    "decode = lambda x: ''.join([itos[c] for c in x]) "
   ]
  },
  {
   "cell_type": "code",
   "execution_count": 21,
   "id": "35d31f81",
   "metadata": {},
   "outputs": [],
   "source": [
    "# Do a train-test split with 90% of the data train and 10% test.\n",
    "# You can just use the first 90% of the data as training data.\n",
    "# Run the text through the encode method.\n",
    "data = encode(text)\n",
    "n = int(0.9*len(data)) # first 90% will be train, rest val                                                                                                                 \n",
    "train_data = data[:n]\n",
    "val_data = data[n:]\n"
   ]
  },
  {
   "cell_type": "code",
   "execution_count": 22,
   "id": "2be655fb",
   "metadata": {},
   "outputs": [],
   "source": [
    "# Load the data.\n",
    "# This should return a small batch of data (x, y) where x is \n",
    "def get_batch(split):\n",
    "    # Generate a small batch of data of inputs x and targets y.\n",
    "    # Pick the train data if split == 'train', else the validation data.\n",
    "    data = train_data if split == 'train' else val_data\n",
    "    # Select a random set of ints [0, len(data) - context_size) ; reshape this to be (batch_size, )\n",
    "    # For an index i, a x should be data[i:i+context_size] while a y should be data[i+context_size].\n",
    "    # ix has length batch_size.\n",
    "    ix = torch.randint(0, len(data) - context_size, (batch_size,))\n",
    "    # Stack the batch_size data to be of shape (batch_size, context_size)\n",
    "    x = torch.tensor([data[i.item():i.item()+context_size] for i in ix])\n",
    "    # Stack the y targets; this should be of length batch_size.\n",
    "    # You should pull out the i+context_size element of data; i is an index in ix.\n",
    "    y = torch.tensor([data[i.item()+context_size] for i in ix])                                                                                      \n",
    "    x, y = x.to(device), y.to(device)\n",
    "    return x, y"
   ]
  },
  {
   "cell_type": "code",
   "execution_count": 23,
   "id": "ce7b32c4",
   "metadata": {},
   "outputs": [],
   "source": [
    "# Estimate the loss.\n",
    "@torch.no_grad()\n",
    "def estimate_loss():\n",
    "    out = {}\n",
    "    # Put the model in eval mode. Why?\n",
    "    model.eval()\n",
    "    for split in ['train', 'val']:\n",
    "        losses = torch.zeros(eval_iters)\n",
    "        for k in range(eval_iters):\n",
    "            xb, yb = get_batch(split)\n",
    "            logits, loss = model(xb, yb)\n",
    "            # Get the value in the loss.\n",
    "            losses[k] = loss.item()\n",
    "        # Get the mean of the values in the losses.\n",
    "        out[split] = losses.mean()\n",
    "    # Put the model in train mode.\n",
    "    model.train()\n",
    "    return out"
   ]
  },
  {
   "cell_type": "code",
   "execution_count": 24,
   "id": "34a2f59c",
   "metadata": {},
   "outputs": [],
   "source": [
    "class WaveNetMLPLanguageModel(nn.Module):\n",
    "\n",
    "    def __init__(self):\n",
    "        super().__init__()\n",
    "        # each token directly reads off the logits for the next token from a lookup table                                                                                                                                                                                                                                                                                                                                                                                                                                                                                                                                                                                                                                                                                                                                                                                                                                   \n",
    "        self.token_embedding_table = nn.Embedding(vocab_size, d_model)\n",
    "        \n",
    "        self.linear_layers = []\n",
    "        self.norm_layers = []\n",
    "        \n",
    "        temp_context_size = context_size\n",
    "        \n",
    "        while temp_context_size >= 10:\n",
    "            # Map from 2 * d_model to d_hidden.\n",
    "            if not self.linear_layers:\n",
    "                # Add to linear_layers a layer going 2 * d_model to d_hidden.\n",
    "                self.linear_layers.append(nn.Linear(2 * d_model, d_hidden, bias=False))\n",
    "            else:\n",
    "                # Map from 2 * d_hidden to d_hidden.\n",
    "                # Add to linear_layers a layer going 2 * d_hidden to d_hidden.\n",
    "                self.linear_layers.append(nn.Linear(2 * d_hidden, d_hidden, bias=False))\n",
    "            # Append to norm_layers a batch norm 1d with vectors of size d_hidden.\n",
    "            self.norm_layers.append(nn.BatchNorm1d(d_hidden))\n",
    "            \n",
    "            temp_context_size //= 2\n",
    "        \n",
    "        # Add a final batch norm 1d with vectors of size vocab_size. \n",
    "        self.norm_f = nn.BatchNorm1d(vocab_size) # Final layer norm.\n",
    "        # Add a Linear layer going from temp_context_size * d_hidden to vocab_size.\n",
    "        self.ff = nn.Linear(temp_context_size * d_hidden, vocab_size,bias=False)\n",
    "        \n",
    "    def forward(self, idx, targets=None):\n",
    "        N, T = idx.shape\n",
    "\n",
    "        # idx and targets are both (N, T) tensor of integers                                                                                                                                                                                                                                                                                                                                                                                                                                                                                                                                                                                                                                                                                                                                                                                                                                                                 \n",
    "        x = self.token_embedding_table(idx) # (N, T, d_model)\n",
    "        \n",
    "        for i, _ in enumerate(self.linear_layers):\n",
    "            N, T, D = x.shape\n",
    "            # Reshape x to be (N, ??). You want to shrink the context window down by two each time.\n",
    "            x = x.reshape(N, T // 2, 2 * D)\n",
    "            # Pass through linear layer i.\n",
    "            x = self.linear_layers[i](x)\n",
    "            # Transpose appropriate dimensions of x. Look at the expected dimensions of BatchNorm1d.\n",
    "            x_res = x.clone()\n",
    "            x = x.transpose(1, 2)\n",
    "            # Pass through the batch norm layer.\n",
    "            x = self.norm_layers[i](x)\n",
    "            # Transpose back to the previous dimensions.\n",
    "            x = x.transpose(1, 2)\n",
    "            # Highway connection.\n",
    "            # Pass through ReLU.\n",
    "            x = nn.functional.relu(x) + x_res\n",
    "        \n",
    "        # Reshape.\n",
    "        x = torch.flatten(x, start_dim=1)\n",
    "        # (N, [T // (2 ** len(self.linear_layers))] * d_model)\n",
    "        # Apply dropout.\n",
    "        x = nn.Dropout(p=dropout)(x)\n",
    "        # Apply self.ff.\n",
    "        x = self.ff(x) # (N, vocab_size)\n",
    "        \n",
    "        x_res = x.clone()\n",
    "        \n",
    "        # Apply batch norm.\n",
    "        x = self.norm_f(x)\n",
    "\n",
    "        # Apply Tanh.\n",
    "        logits = x\n",
    "        #logits = torch.tanh(x) + x_res\n",
    "\n",
    "        if targets is None:\n",
    "            loss = None\n",
    "        else:\n",
    "            _, T = logits.shape\n",
    "\n",
    "            assert(T == vocab_size)\n",
    "\n",
    "            # Apply cross entropy.\n",
    "            loss = nn.functional.cross_entropy(logits, targets)\n",
    "\n",
    "        return logits, loss\n",
    "\n",
    "    def generate(self, idx, max_new_tokens):\n",
    "        # idx is a (N, T) array of indices in the current context.                                                                                                                                                                                                                                                                                                                                                                                                                                                                                                                                                                                                                                                                                                                                                                                                                                                             \n",
    "        for _ in range(max_new_tokens):\n",
    "            # Here, we crop idx to the last context_size tokens.                                                                                                                                                                                                                                                                                                                                                                                                                                                                                                                                                                                                                                                                                                                                                                                                                                                                        \n",
    "            idx_cond = idx[:, -context_size:] # (N, context_size)\n",
    "            # Get the predictions; this is just the last timestep.                                                                                                                                                                                                                                                                                                                                                                                                                                                                                                                                                                                                                                                                                                                                                                                                                                                           \n",
    "            logits, loss = self.forward(idx_cond)\n",
    "            # Apply softmax to get probabilities.                                                                                                                                                                                                                                                                                                                                                                                                                                                                                                                                                                                                                                                                                                                                                                                                                                                                            \n",
    "            probs = nn.functional.softmax(logits, dim=1) # (N, vocab_size)                                                                                                                                                                                                                                                                                                                                                                                                                                                                                                                                                                                                                                                                                                                                                                                                                                                                      \n",
    "            # Sample from the distribution to get the next character's index.                                                                                                                                                                                                                                                                                                                                                                                                                                                                                                                                                                                                                                                                                                                                                                                                                                                                                  \n",
    "            idx_next = torch.multinomial(probs, 1) # (N, 1)                                                                                                                                                                                                                                                                                                                                                                                                                                                                                                                                                                                                                                                                                                                                                                                                                                                     \n",
    "            # Append sampled index to the running sequence.                                                                                                                                                                                                                                                                                                                                                                                                                                                                                                                                                                                                                                                                                                                                                                                                                                                                  \n",
    "            idx = torch.cat([idx, idx_next], dim=1) # (N, T+1)\n",
    "            \n",
    "        return idx # At most, this is (N, T + max_new_tokens) in the second dimension."
   ]
  },
  {
   "cell_type": "markdown",
   "id": "91eeeab8",
   "metadata": {},
   "source": [
    "Train the model."
   ]
  },
  {
   "cell_type": "code",
   "execution_count": 25,
   "id": "25752635",
   "metadata": {},
   "outputs": [
    {
     "name": "stdout",
     "output_type": "stream",
     "text": [
      "0.022194 M parameters\n"
     ]
    }
   ],
   "source": [
    "model = WaveNetMLPLanguageModel().to(device)\n",
    "# Print the number of parameters in the model.\n",
    "print(sum(p.numel() for p in model.parameters())/1000000, 'M parameters')\n",
    "\n",
    "# Create a PyTorch optimizer. Use AdamW.                                                                                                                                                                                                                                        \n",
    "optimizer = torch.optim.AdamW(model.parameters(), lr=learning_rate)"
   ]
  },
  {
   "cell_type": "code",
   "execution_count": 26,
   "id": "15f56432",
   "metadata": {},
   "outputs": [],
   "source": [
    "zero_grad = []\n",
    "zero_grad_res = []"
   ]
  },
  {
   "cell_type": "code",
   "execution_count": 27,
   "id": "05ba09ba",
   "metadata": {},
   "outputs": [],
   "source": [
    "train_loss = []\n",
    "val_loss = []"
   ]
  },
  {
   "cell_type": "code",
   "execution_count": 28,
   "id": "ca598bc9",
   "metadata": {},
   "outputs": [
    {
     "name": "stdout",
     "output_type": "stream",
     "text": [
      "step 0: train loss 3.6408, val loss 3.6552\n",
      "step 500: train loss 3.3328, val loss 3.3691\n",
      "step 1000: train loss 3.1001, val loss 3.1427\n",
      "step 1500: train loss 2.9694, val loss 3.0330\n",
      "step 2000: train loss 2.8897, val loss 2.9709\n",
      "step 2500: train loss 2.8259, val loss 2.9189\n",
      "step 3000: train loss 2.7904, val loss 2.8857\n",
      "step 3500: train loss 2.7483, val loss 2.8596\n",
      "step 4000: train loss 2.7117, val loss 2.8206\n",
      "step 4500: train loss 2.6931, val loss 2.8109\n",
      "step 5000: train loss 2.6687, val loss 2.7979\n",
      "step 5500: train loss 2.6508, val loss 2.7869\n",
      "step 6000: train loss 2.6479, val loss 2.7658\n",
      "step 6500: train loss 2.6228, val loss 2.7605\n",
      "step 7000: train loss 2.6136, val loss 2.7451\n",
      "step 7500: train loss 2.6082, val loss 2.7415\n",
      "step 8000: train loss 2.5941, val loss 2.7417\n",
      "step 8500: train loss 2.5832, val loss 2.7344\n",
      "step 9000: train loss 2.5704, val loss 2.7115\n",
      "step 9500: train loss 2.5717, val loss 2.7123\n",
      "step 10000: train loss 2.5581, val loss 2.7097\n",
      "step 10500: train loss 2.5558, val loss 2.6962\n",
      "step 11000: train loss 2.5517, val loss 2.6911\n",
      "step 11500: train loss 2.5426, val loss 2.6874\n",
      "step 12000: train loss 2.5300, val loss 2.6884\n",
      "step 12500: train loss 2.5415, val loss 2.6769\n",
      "step 13000: train loss 2.5242, val loss 2.6707\n",
      "step 13500: train loss 2.5110, val loss 2.6549\n",
      "step 14000: train loss 2.5168, val loss 2.6583\n",
      "step 14500: train loss 2.5067, val loss 2.6678\n",
      "step 15000: train loss 2.5083, val loss 2.6527\n",
      "step 15500: train loss 2.4958, val loss 2.6559\n",
      "step 16000: train loss 2.4974, val loss 2.6508\n",
      "step 16500: train loss 2.4987, val loss 2.6460\n",
      "step 17000: train loss 2.4873, val loss 2.6474\n",
      "step 17500: train loss 2.4937, val loss 2.6495\n",
      "step 18000: train loss 2.4885, val loss 2.6390\n",
      "step 18500: train loss 2.4796, val loss 2.6424\n",
      "step 19000: train loss 2.4902, val loss 2.6332\n",
      "step 19500: train loss 2.4888, val loss 2.6349\n",
      "step 19999: train loss 2.4796, val loss 2.6331\n"
     ]
    }
   ],
   "source": [
    "# Here we loop over max_iters and at each iter we get a batch of data we optimize over.\n",
    "model.train()\n",
    "for epoch in range(epochs):\n",
    "\n",
    "    # every once in a while evaluate the loss on train and val sets                                                                                                                                                                                                 \n",
    "    if epoch % eval_interval == 0 or epoch == epochs - 1: \n",
    "        losses = estimate_loss()\n",
    "        train_loss.append(losses['train'])\n",
    "        val_loss.append(losses['val'])\n",
    "        print(f\"step {epoch}: train loss {losses['train']:.4f}, val loss {losses['val']:.4f}\")\n",
    "        \n",
    "    # Sample a batch of data                                                                                                                                                                                                                                        \n",
    "    xb, yb = get_batch('train')\n",
    "\n",
    "    # evaluate the loss                                                                                                                                                                                                                                             \n",
    "    logits, loss = model(xb, yb)\n",
    "    # Zero the grads.\n",
    "    optimizer.zero_grad()\n",
    "    # Get gradients by backprop; do a parameter update.\n",
    "    loss.backward()\n",
    "    # count the number of zero gradients\n",
    "                \n",
    "    optimizer.step()"
   ]
  },
  {
   "attachments": {},
   "cell_type": "markdown",
   "id": "f46c86a0",
   "metadata": {},
   "source": [
    "# Plot for input.txt"
   ]
  },
  {
   "cell_type": "code",
   "execution_count": null,
   "id": "f2704860",
   "metadata": {},
   "outputs": [
    {
     "data": {
      "image/png": "[encoded data removed]",
      "text/plain": [
       "<Figure size 640x480 with 1 Axes>"
      ]
     },
     "metadata": {},
     "output_type": "display_data"
    }
   ],
   "source": [
    "import matplotlib.pyplot as plt\n",
    "\n",
    "plt.plot(range(0,20500,500),train_loss, label='train')\n",
    "plt.plot(range(0,20500,500),val_loss, label='val')\n",
    "plt.legend()\n",
    "plt.show()"
   ]
  },
  {
   "cell_type": "code",
   "execution_count": null,
   "id": "ae0653ec",
   "metadata": {},
   "outputs": [
    {
     "name": "stdout",
     "output_type": "stream",
     "text": [
      "First Citizen:\n",
      "Before we proceed any further, hear me speak.\n",
      "\n",
      "All:\n",
      "Speak, speak.\n",
      "\n",
      "First Citizen:\n",
      "You are all resolved rather to die than to famish?\n",
      "\n",
      "All:\n",
      "Resolved. resolved.\n",
      "\n",
      "First Citizen:\n",
      "First, you know Caius Marcius is chief enemy to the people.\n",
      "\n",
      "All:\n",
      "IeRt\n",
      " wehe newoaww.m;\n",
      "NBIFUmirafsobnsob\n",
      "T,r,eorf aois!\n",
      "\n",
      "rywhio gs 'ngeuIm eoo foeTefEkoarsu ue gcre ort domsderdsry thos\n",
      "\n",
      "t lo frafettteshsndd hgel eoerWeykWsD,\n",
      " omsTlncahamo Te ldolu\n",
      "Ya ssdehn n  fpe lamahor th;ocedyea; Tness tar tassehs hoea e s,? bwair\n",
      " s trMnUsy todttYsrs\n",
      " aucw bu s oon,\n",
      ";\n",
      " s crI BasItYr Do: ih rehseaco hc dee.\n",
      "\n",
      "D IqXah  he ,tgllpeaw; lidr suer n yhwh,\n",
      "\n",
      "t\n",
      "CGP bate nnessIdpmh vea IlTd Ln  ce  asns time sa eofd, ledm ghu ee s sot? e eomrnL at hnt caLh\n",
      "a l, c rfhol ictil. ns mo\n"
     ]
    }
   ],
   "source": [
    "# Generate from the model and save it to wave_net.txt.\n",
    "# We generate a maximum of 1000 tokens. \n",
    "# We feed in a batch of dimenson (1, context_size).\n",
    "# The loss should get to ~ 2.0 on train and validation.\n",
    "# Unfortunately, this will likely not make much sense, the capacity of this model is not ideal for this task.\n",
    "# The name generation task fro HW 1 might be aother data set to use.\n",
    "model.eval()\n",
    "context = torch.tensor(train_data[:256]).reshape(1, 256)\n",
    "print(decode(model.generate(context, max_new_tokens=500)[0].tolist()))\n",
    "if write_to_file:\n",
    "    open('wave_net.txt', 'w').write(decode(model.generate(context, max_new_tokens=10000)[0].tolist()))"
   ]
  },
  {
   "attachments": {},
   "cell_type": "markdown",
   "id": "6711495d",
   "metadata": {},
   "source": [
    "# plot for name.txt"
   ]
  },
  {
   "cell_type": "code",
   "execution_count": 29,
   "id": "30c7cb69",
   "metadata": {},
   "outputs": [
    {
     "data": {
      "image/png": "[encoded data removed]",
      "text/plain": [
       "<Figure size 640x480 with 1 Axes>"
      ]
     },
     "metadata": {},
     "output_type": "display_data"
    }
   ],
   "source": [
    "import matplotlib.pyplot as plt\n",
    "\n",
    "plt.plot(range(0,20500,500),train_loss, label='train')\n",
    "plt.plot(range(0,20500,500),val_loss, label='val')\n",
    "plt.legend()\n",
    "plt.show()"
   ]
  },
  {
   "cell_type": "markdown",
   "id": "279c2f21",
   "metadata": {},
   "source": [
    "Bonus (+5 max - If you do this and it's all right this assignment will be 13/10.)\n",
    "- Add some residual connections. Does this improve gradient zero issues?\n",
    " - Add some logging to figure out the number of zero gradients across the network before and after you add the residual connections.\n",
    "- Add some plots that show the train and validation loss, per k iterations. You might want k < 500.\n",
    "- Use LayerNorm instead of batch norm.\n",
    "- Use the names.txt file from assignment 1. How do the names look?"
   ]
  },
  {
   "cell_type": "code",
   "execution_count": 30,
   "id": "56413f7a",
   "metadata": {},
   "outputs": [
    {
     "name": "stdout",
     "output_type": "stream",
     "text": [
      "emma\n",
      "olivia\n",
      "ava\n",
      "isabella\n",
      "sophia\n",
      "charlotte\n",
      "mia\n",
      "amelia\n",
      "harper\n",
      "evelyn\n",
      "abigail\n",
      "emily\n",
      "elizabeth\n",
      "mila\n",
      "ella\n",
      "avery\n",
      "sofia\n",
      "camila\n",
      "aria\n",
      "scarlett\n",
      "victoria\n",
      "madison\n",
      "luna\n",
      "grace\n",
      "chloe\n",
      "penelope\n",
      "layla\n",
      "riley\n",
      "zoey\n",
      "nora\n",
      "lily\n",
      "eleanor\n",
      "hannah\n",
      "lillian\n",
      "addison\n",
      "aubrey\n",
      "ellie\n",
      "stella\n",
      "nulsse\n",
      "tu\n",
      "knijhnyn\n",
      "\n",
      "edhtsielen\n",
      "iaoeysh\n",
      "aylorlmhiyieen\n",
      "\n",
      "aleina\n",
      "beahaoes\n",
      "jy\n",
      "iie\n",
      "dylaed\n",
      "bheiaoo\n",
      "msrnbii\n",
      "rcyny\n",
      "rekenn\n",
      "\n",
      "uieny\n",
      "kanhrhn\n",
      "ayaser\n",
      "e\n",
      "darmee\n",
      "sergen\n",
      "nnabit\n",
      "b\n",
      "oeit\n",
      "bn\n",
      "aykyoje\n",
      "ianki\n",
      "harajabmylias\n",
      "gelsri\n",
      "olaaa\n",
      "pas\n",
      "lleal\n",
      "amuamy\n",
      "bella\n",
      "s\n",
      "evonce\n",
      "ieeoh\n",
      "nelreeanntdhlannlve\n",
      "aalsat\n",
      "aeio\n",
      "bfasoya\n",
      "aroaame\n",
      "\n",
      "lodjeinah\n",
      "dandte\n",
      "peleonnlavn\n",
      "alhdrnygalli\n",
      "jiiah\n",
      "gamiaeahmrea\n",
      "bard\n",
      "blailehsgal\n",
      "eaytahlaanenyn\n",
      "erijs\n",
      "aaanyhetn\n",
      "f\n",
      "iezzo\n",
      "sarari\n",
      "eyixisa\n",
      "licwanah\n",
      "hci\n",
      "reyllna\n",
      "haasla\n",
      "nahsoh\n",
      "alilad\n",
      "paysfollemmlrahetkajhea\n",
      "are\n",
      "ra\n"
     ]
    }
   ],
   "source": [
    "model.eval()\n",
    "context = torch.tensor(train_data[:256]).reshape(1, 256)\n",
    "print(decode(model.generate(context, max_new_tokens=500)[0].tolist()))\n",
    "if write_to_file:\n",
    "    open('name_wave_net.txt', 'w').write(decode(model.generate(context, max_new_tokens=10000)[0].tolist()))"
   ]
  }
 ],
 "metadata": {
  "kernelspec": {
   "display_name": "torch-gpu",
   "language": "python",
   "name": "python3"
  },
  "language_info": {
   "codemirror_mode": {
    "name": "ipython",
    "version": 3
   },
   "file_extension": ".py",
   "mimetype": "text/x-python",
   "name": "python",
   "nbconvert_exporter": "python",
   "pygments_lexer": "ipython3",
   "version": "3.9.15 (main, Nov 24 2022, 08:28:41) \n[Clang 14.0.6 ]"
  },
  "vscode": {
   "interpreter": {
    "hash": "e1cb4ba5f411cfa4a68a7ea6c2f9ba3655e2604bd37447d058a856eda531fd15"
   }
  }
 },
 "nbformat": 4,
 "nbformat_minor": 5
}
