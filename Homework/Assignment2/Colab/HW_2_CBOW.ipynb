{
  "cells": [
    {
      "cell_type": "code",
      "execution_count": 22,
      "id": "080d50fc",
      "metadata": {
        "id": "080d50fc"
      },
      "outputs": [],
      "source": [
        "import time\n",
        "import torch\n",
        "from torch.utils.data import DataLoader, TensorDataset\n",
        "from torchtext.data.utils import get_tokenizer\n",
        "from torchtext.datasets import DATASETS\n",
        "from torchtext.vocab import build_vocab_from_iterator\n",
        "import torch.nn as nn\n",
        "from tqdm import tqdm\n",
        "import pickle\n",
        "import random\n",
        "import numpy as np\n",
        "from collections import Counter, defaultdict\n",
        "import numpy as np\n",
        "import matplotlib.pyplot as plt\n",
        "from sklearn.decomposition import PCA\n",
        "from gensim.test.utils import datapath, get_tmpfile\n",
        "from gensim.models import KeyedVectors\n",
        "import gensim.downloader\n",
        "from torch import FloatTensor as FT\n",
        "\n",
        "# Get the interactive Tools for Matplotlib\n",
        "%matplotlib notebook\n",
        "%matplotlib inline\n",
        "\n",
        "plt.style.use('ggplot')"
      ]
    },
    {
      "cell_type": "markdown",
      "id": "66eb271d",
      "metadata": {
        "id": "66eb271d"
      },
      "source": [
        "### Instructions\n",
        "For this part, fill in the required code and make the notebook work. This wll be very similar to the Skip-Gram model, but a little more difficult. Look for the \"\"\" FILL IN \"\"\" string to guide you."
      ]
    },
    {
      "cell_type": "code",
      "source": [],
      "metadata": {
        "id": "mCaXBwoTtuEB"
      },
      "id": "mCaXBwoTtuEB",
      "execution_count": 22,
      "outputs": []
    },
    {
      "cell_type": "code",
      "execution_count": 23,
      "id": "31b412ca",
      "metadata": {
        "id": "31b412ca"
      },
      "outputs": [],
      "source": [
        "# Where do I want to run my job. You can do \"cuda\" on linux machines.\n",
        "DEVICE = \"cuda\" if torch.backends.cuda.is_built() else  \"cpu\"\n",
        "# The batch size in Adam or SGD.\n",
        "BATCH_SIZE = 512\n",
        "# Number of epochs.\n",
        "NUM_EPOCHS = 10\n",
        "# Predict from 2 words the inner word for CBOW.\n",
        "# I.e. I'll have a window like [\"a\", \"b\", \"c\"] of continuous text (each is a word).\n",
        "# We'll predict each of wc = [\"a\", \"c\"] from \"b\" = wc for Skip-Gram.\n",
        "# For CBOW, we'll use [\"a\", \"c\"] to predict \"b\" = wo.\n",
        "WINDOW = 1\n",
        "\n",
        "# Negative samples.\n",
        "K = 4"
      ]
    },
    {
      "cell_type": "code",
      "execution_count": 23,
      "id": "e3311ae5",
      "metadata": {
        "id": "e3311ae5"
      },
      "outputs": [],
      "source": []
    },
    {
      "cell_type": "markdown",
      "id": "3ec9f90a",
      "metadata": {
        "id": "3ec9f90a"
      },
      "source": [
        "The text8 Wikipedia corpus. 100M characters."
      ]
    },
    {
      "cell_type": "code",
      "execution_count": 24,
      "id": "c32bf008",
      "metadata": {
        "colab": {
          "base_uri": "https://localhost:8080/",
          "height": 0
        },
        "id": "c32bf008",
        "outputId": "ba3317fb-0129-4cda-f128-99ce3b2c9579"
      },
      "outputs": [
        {
          "output_type": "stream",
          "name": "stdout",
          "text": [
            "du: cannot access 'text8': No such file or directory\n"
          ]
        }
      ],
      "source": [
        "!du -h text8"
      ]
    },
    {
      "cell_type": "code",
      "source": [
        "from google.colab import drive\n",
        "drive.mount('/content/drive')"
      ],
      "metadata": {
        "colab": {
          "base_uri": "https://localhost:8080/",
          "height": 0
        },
        "id": "2iy5CvuCxUZJ",
        "outputId": "12d334ed-bcef-4180-83e4-12d431e2e0f1"
      },
      "id": "2iy5CvuCxUZJ",
      "execution_count": 25,
      "outputs": [
        {
          "output_type": "stream",
          "name": "stdout",
          "text": [
            "Drive already mounted at /content/drive; to attempt to forcibly remount, call drive.mount(\"/content/drive\", force_remount=True).\n"
          ]
        }
      ]
    },
    {
      "cell_type": "code",
      "execution_count": 26,
      "id": "3217b67b",
      "metadata": {
        "colab": {
          "base_uri": "https://localhost:8080/",
          "height": 0
        },
        "id": "3217b67b",
        "outputId": "47c2bee7-6eb8-4295-ef97-bd31504b757e"
      },
      "outputs": [
        {
          "output_type": "stream",
          "name": "stdout",
          "text": [
            "100000000\n"
          ]
        }
      ],
      "source": [
        "f = open('/content/drive/MyDrive/Colab Notebooks/text8', 'r')\n",
        "text = f.read()\n",
        "# One big string of size 100M.\n",
        "print(len(text))"
      ]
    },
    {
      "cell_type": "code",
      "execution_count": 27,
      "id": "6c1bf892",
      "metadata": {
        "id": "6c1bf892"
      },
      "outputs": [],
      "source": [
        "punc = '!\"#$%&()*+,-./:;<=>?@[\\\\]^_\\'{|}~\\t\\n'\n",
        "\n",
        "# Can do regular expressions here too.\n",
        "for c in punc:\n",
        "    if c in text:\n",
        "        text.replace(c, ' ')"
      ]
    },
    {
      "cell_type": "code",
      "execution_count": 27,
      "id": "451bf3ab",
      "metadata": {
        "id": "451bf3ab"
      },
      "outputs": [],
      "source": []
    },
    {
      "cell_type": "code",
      "execution_count": 28,
      "id": "0bc19b0c",
      "metadata": {
        "id": "0bc19b0c"
      },
      "outputs": [],
      "source": [
        "# A very crude tokenizer you get for free: lower case and also split on spaces.\n",
        "TOKENIZER = get_tokenizer(\"basic_english\")"
      ]
    },
    {
      "cell_type": "code",
      "execution_count": 29,
      "id": "ff8fd598",
      "metadata": {
        "id": "ff8fd598"
      },
      "outputs": [],
      "source": [
        "words = TOKENIZER(text)\n",
        "f = Counter(words)"
      ]
    },
    {
      "cell_type": "code",
      "execution_count": 30,
      "id": "ba7f72f8",
      "metadata": {
        "colab": {
          "base_uri": "https://localhost:8080/",
          "height": 0
        },
        "id": "ba7f72f8",
        "outputId": "5667beb7-7843-44e2-dbed-697eb2405545"
      },
      "outputs": [
        {
          "output_type": "execute_result",
          "data": {
            "text/plain": [
              "17005207"
            ]
          },
          "metadata": {},
          "execution_count": 30
        }
      ],
      "source": [
        "len(words)"
      ]
    },
    {
      "cell_type": "code",
      "execution_count": 31,
      "id": "6916a763",
      "metadata": {
        "colab": {
          "base_uri": "https://localhost:8080/",
          "height": 35
        },
        "id": "6916a763",
        "outputId": "85451243-4f15-4c3a-fa0b-0e16713741b6"
      },
      "outputs": [
        {
          "output_type": "execute_result",
          "data": {
            "text/plain": [
              "' anar'"
            ],
            "application/vnd.google.colaboratory.intrinsic+json": {
              "type": "string"
            }
          },
          "metadata": {},
          "execution_count": 31
        }
      ],
      "source": [
        "text[0:5]"
      ]
    },
    {
      "cell_type": "code",
      "execution_count": 32,
      "id": "16b736a4",
      "metadata": {
        "id": "16b736a4"
      },
      "outputs": [],
      "source": [
        "# Do a very crude filter on the text which removes all very popular words.\n",
        "text = [word for word in words if f[word] > 5]"
      ]
    },
    {
      "cell_type": "code",
      "execution_count": 33,
      "id": "10ad817a",
      "metadata": {
        "id": "10ad817a"
      },
      "outputs": [],
      "source": [
        "VOCAB = build_vocab_from_iterator([text])"
      ]
    },
    {
      "cell_type": "code",
      "execution_count": 34,
      "id": "a7f69fc9",
      "metadata": {
        "id": "a7f69fc9"
      },
      "outputs": [],
      "source": [
        "# word -> int hash map.\n",
        "stoi = VOCAB.get_stoi()\n",
        "# int -> word hash map.\n",
        "itos = VOCAB.get_itos() "
      ]
    },
    {
      "cell_type": "code",
      "execution_count": 35,
      "id": "9991f9ab",
      "metadata": {
        "colab": {
          "base_uri": "https://localhost:8080/",
          "height": 0
        },
        "id": "9991f9ab",
        "outputId": "80d7e67a-032f-45a1-cc98-f4d319af4f97"
      },
      "outputs": [
        {
          "output_type": "execute_result",
          "data": {
            "text/plain": [
              "11"
            ]
          },
          "metadata": {},
          "execution_count": 35
        }
      ],
      "source": [
        "stoi['as']"
      ]
    },
    {
      "cell_type": "code",
      "execution_count": 36,
      "id": "0f49f5fa",
      "metadata": {
        "colab": {
          "base_uri": "https://localhost:8080/",
          "height": 0
        },
        "id": "0f49f5fa",
        "outputId": "9d8e93be-6096-4131-e6ad-e528b642ec1a"
      },
      "outputs": [
        {
          "output_type": "execute_result",
          "data": {
            "text/plain": [
              "63641"
            ]
          },
          "metadata": {},
          "execution_count": 36
        }
      ],
      "source": [
        "# Total number of words.\n",
        "len(stoi)"
      ]
    },
    {
      "cell_type": "code",
      "execution_count": 37,
      "id": "6c5c415a",
      "metadata": {
        "id": "6c5c415a"
      },
      "outputs": [],
      "source": [
        "f = Counter(text)\n",
        "# This is the probability that we pick a word in the corpus.\n",
        "z = {word: f[word] / len(text) for word in f}"
      ]
    },
    {
      "cell_type": "code",
      "execution_count": 38,
      "id": "1e543e1e",
      "metadata": {
        "id": "1e543e1e"
      },
      "outputs": [],
      "source": [
        "threshold = 1e-5\n",
        "# Probability that word is kept while subsampling.\n",
        "# This is explained here and sightly differet from the paper: http://mccormickml.com/2017/01/11/word2vec-tutorial-part-2-negative-sampling/\n",
        "p_keep = {word: (np.sqrt(z[word] / 0.001) + 1)*(0.0001 / z[word]) for word in f}"
      ]
    },
    {
      "cell_type": "code",
      "execution_count": 39,
      "id": "dd22119d",
      "metadata": {
        "id": "dd22119d"
      },
      "outputs": [],
      "source": [
        "# This is in the integer space.\n",
        "train_dataset = [word for word in text if random.random() < p_keep[word]]\n",
        "\n",
        "# Rebuild the vocabulary.\n",
        "VOCAB = build_vocab_from_iterator([train_dataset])"
      ]
    },
    {
      "cell_type": "code",
      "execution_count": 40,
      "id": "a2d695da",
      "metadata": {
        "colab": {
          "base_uri": "https://localhost:8080/",
          "height": 0
        },
        "id": "a2d695da",
        "outputId": "a90dd6ca-e72b-47bd-c6c0-153923bac778"
      },
      "outputs": [
        {
          "output_type": "execute_result",
          "data": {
            "text/plain": [
              "7846301"
            ]
          },
          "metadata": {},
          "execution_count": 40
        }
      ],
      "source": [
        "len(train_dataset)"
      ]
    },
    {
      "cell_type": "code",
      "execution_count": 41,
      "id": "30d67549",
      "metadata": {
        "id": "30d67549"
      },
      "outputs": [],
      "source": [
        "# word -> int mapping.\n",
        "stoi = VOCAB.get_stoi()\n",
        "# int -> word mapping.\n",
        "itos = VOCAB.get_itos() "
      ]
    },
    {
      "cell_type": "code",
      "execution_count": 42,
      "id": "b46337b8",
      "metadata": {
        "colab": {
          "base_uri": "https://localhost:8080/",
          "height": 0
        },
        "id": "b46337b8",
        "outputId": "89025755-5b04-491a-f5c8-fb4be27f145e"
      },
      "outputs": [
        {
          "output_type": "execute_result",
          "data": {
            "text/plain": [
              "63641"
            ]
          },
          "metadata": {},
          "execution_count": 42
        }
      ],
      "source": [
        "# The vocabulary size after we do all the filters.\n",
        "len(VOCAB)"
      ]
    },
    {
      "cell_type": "code",
      "execution_count": 43,
      "id": "c9346f36",
      "metadata": {
        "id": "c9346f36"
      },
      "outputs": [],
      "source": [
        "# The probability we draw something for negative sampling.\n",
        "f = Counter(train_dataset)\n",
        "p = torch.zeros(len(VOCAB))\n",
        "\n",
        "# Downsample frequent words and upsample less frequent.\n",
        "s = sum([np.power(freq, 0.75) for word, freq in f.items()])        \n",
        "\n",
        "for word in f:\n",
        "    p[stoi[word]] = np.power(f[word], 0.75) / s"
      ]
    },
    {
      "cell_type": "code",
      "execution_count": 44,
      "id": "dd713c15",
      "metadata": {
        "id": "dd713c15"
      },
      "outputs": [],
      "source": [
        "# Map everything to integers.\n",
        "train_dataset = [stoi[word] for word in text]"
      ]
    },
    {
      "cell_type": "code",
      "execution_count": 45,
      "id": "8e96c0c4",
      "metadata": {
        "id": "8e96c0c4"
      },
      "outputs": [],
      "source": [
        "# This just gets the (wc, wo) pairs that are positive - they are seen together!\n",
        "def get_tokenized_dataset(dataset, verbose=False):\n",
        "    x_list = []\n",
        "        \n",
        "    for i, token in enumerate(dataset):\n",
        "        m = 1\n",
        "        \n",
        "        # Get the left and right tokens.\n",
        "        start = max(0, i-m)\n",
        "        left_tokens = dataset[start:i]\n",
        "        \n",
        "        end = min(len(dataset)-1, i+m)\n",
        "        right_tokens = dataset[i+1:end+1]\n",
        "        \n",
        "        # Check these are the same length, and if so use them to add a row of data. This should be a list like.\n",
        "        # [a, c, b] where b is the center word.\n",
        "        if len(left_tokens) == len(right_tokens):\n",
        "            w_context = left_tokens + right_tokens\n",
        "            \n",
        "            wc = token\n",
        "                        \n",
        "            x_list.extend(\n",
        "                [w_context + [wc]]\n",
        "            )\n",
        "            \n",
        "    return x_list"
      ]
    },
    {
      "cell_type": "code",
      "execution_count": 46,
      "id": "3eb82aad",
      "metadata": {
        "id": "3eb82aad"
      },
      "outputs": [],
      "source": [
        "train_x_list = get_tokenized_dataset(train_dataset, verbose=False)"
      ]
    },
    {
      "cell_type": "code",
      "execution_count": 47,
      "id": "8412ee4d",
      "metadata": {
        "id": "8412ee4d"
      },
      "outputs": [],
      "source": [
        "pickle.dump(train_x_list, open('train_x_list.pkl', 'wb'))"
      ]
    },
    {
      "cell_type": "code",
      "execution_count": 48,
      "id": "3fd54caf",
      "metadata": {
        "id": "3fd54caf"
      },
      "outputs": [],
      "source": [
        "train_x_list = pickle.load(open('train_x_list.pkl', 'rb'))"
      ]
    },
    {
      "cell_type": "code",
      "execution_count": 49,
      "id": "576765f3",
      "metadata": {
        "colab": {
          "base_uri": "https://localhost:8080/",
          "height": 0
        },
        "id": "576765f3",
        "outputId": "d3d85ea5-ab54-4f1c-86ad-39a8576dfdee"
      },
      "outputs": [
        {
          "output_type": "execute_result",
          "data": {
            "text/plain": [
              "[[5233, 11, 3083],\n",
              " [3083, 5, 11],\n",
              " [11, 207, 5],\n",
              " [5, 1, 207],\n",
              " [207, 3133, 1],\n",
              " [1, 48, 3133],\n",
              " [3133, 60, 48],\n",
              " [48, 163, 60],\n",
              " [60, 140, 163],\n",
              " [163, 741, 140]]"
            ]
          },
          "metadata": {},
          "execution_count": 49
        }
      ],
      "source": [
        "# These are (wc, wo) pairs. All are y = +1 by design.\n",
        "train_x_list[:10]"
      ]
    },
    {
      "cell_type": "code",
      "execution_count": 50,
      "id": "9ed4ffd7",
      "metadata": {
        "colab": {
          "base_uri": "https://localhost:8080/",
          "height": 0
        },
        "id": "9ed4ffd7",
        "outputId": "b29f0256-e9f5-4974-a2dc-54a502cb6955"
      },
      "outputs": [
        {
          "output_type": "execute_result",
          "data": {
            "text/plain": [
              "32579"
            ]
          },
          "metadata": {},
          "execution_count": 50
        }
      ],
      "source": [
        "len(train_x_list)// BATCH_SIZE"
      ]
    },
    {
      "cell_type": "code",
      "execution_count": 51,
      "id": "316df1dc",
      "metadata": {
        "id": "316df1dc"
      },
      "outputs": [],
      "source": [
        "# The number of things of BATCH_SIZE = 512.\n",
        "assert(len(train_x_list) // BATCH_SIZE == 32579)"
      ]
    },
    {
      "cell_type": "code",
      "execution_count": 51,
      "id": "8012d03d",
      "metadata": {
        "id": "8012d03d"
      },
      "outputs": [],
      "source": []
    },
    {
      "cell_type": "markdown",
      "id": "488c3519",
      "metadata": {
        "id": "488c3519"
      },
      "source": [
        "### Set up the dataloader."
      ]
    },
    {
      "cell_type": "code",
      "execution_count": 52,
      "id": "2e31ae4b",
      "metadata": {
        "id": "2e31ae4b"
      },
      "outputs": [],
      "source": [
        "train_dl = DataLoader(\n",
        "    TensorDataset(\n",
        "        torch.tensor(train_x_list).to(DEVICE),\n",
        "    ),\n",
        "    batch_size=BATCH_SIZE,\n",
        "    shuffle=True\n",
        ")"
      ]
    },
    {
      "cell_type": "code",
      "execution_count": 53,
      "id": "e9c42f50",
      "metadata": {
        "id": "e9c42f50"
      },
      "outputs": [],
      "source": [
        "for xb in train_dl:\n",
        "    assert(xb[0].shape == (BATCH_SIZE, 3))\n",
        "    break"
      ]
    },
    {
      "cell_type": "code",
      "execution_count": 53,
      "id": "8c949153",
      "metadata": {
        "id": "8c949153"
      },
      "outputs": [],
      "source": []
    },
    {
      "cell_type": "markdown",
      "id": "12d93d22",
      "metadata": {
        "id": "12d93d22"
      },
      "source": [
        "### Words we'll use to asses the quality of the model ..."
      ]
    },
    {
      "cell_type": "code",
      "execution_count": 54,
      "id": "ffada8d0",
      "metadata": {
        "id": "ffada8d0"
      },
      "outputs": [],
      "source": [
        "valid_ids = torch.tensor([\n",
        "    stoi['money'],\n",
        "    stoi['lion'],\n",
        "    stoi['africa'],\n",
        "    stoi['musician'],\n",
        "    stoi['dance'],\n",
        "])"
      ]
    },
    {
      "cell_type": "code",
      "execution_count": 54,
      "id": "867d3a88",
      "metadata": {
        "id": "867d3a88"
      },
      "outputs": [],
      "source": []
    },
    {
      "cell_type": "markdown",
      "id": "64096cd8",
      "metadata": {
        "id": "64096cd8"
      },
      "source": [
        "### Get the model."
      ]
    },
    {
      "cell_type": "code",
      "execution_count": 55,
      "id": "dc51c359",
      "metadata": {
        "id": "dc51c359"
      },
      "outputs": [],
      "source": [
        "class CBOWNegativeSampling(nn.Module):\n",
        "    def __init__(self, vocab_size, embed_dim):\n",
        "        super(CBOWNegativeSampling, self).__init__()\n",
        "        self.A = nn.Embedding(vocab_size, embed_dim) # Context vectors - center word.\n",
        "        self.B = nn.Embedding(vocab_size, embed_dim) # Output vectors - words around the center word.\n",
        "        self.init_weights()\n",
        "\n",
        "    def init_weights(self):\n",
        "        # Is this the best way? Not sure.\n",
        "        initrange = 0.5\n",
        "        self.A.weight.data.uniform_(-initrange, initrange)\n",
        "        self.B.weight.data.uniform_(-initrange, initrange)\n",
        "\n",
        "    def forward(self, x):\n",
        "        # N is the batch size.\n",
        "        # x is (N, 3)\n",
        "        \n",
        "        # Context words are 2m things, m = 1 so w_context is (N, 2) while wc is (N, 1)\n",
        "        w_context, wc = x[:,0:2], x[:,2]\n",
        "                \n",
        "        # Each of these is (N, 2, D) since each context has 2 word.\n",
        "        # We want this to be (N, D) and this is what we get.\n",
        "        \n",
        "        # (N, 2, D)\n",
        "        a = self.A(w_context)\n",
        "        \n",
        "        # (N, D)\n",
        "        a_avg = torch.mean(a, dim=1)\n",
        "        \n",
        "        # Each of these is (N, D) since each target has 1 word.\n",
        "        b = self.B(wc)\n",
        "                \n",
        "        # The product between each context and target vector. Look at the Skip-Gram code.\n",
        "        # The logits is now (N, 1) since we sum across the final dimension.\n",
        "        logits = torch.sum(a_avg * b, dim=1)\n",
        "                \n",
        "        return logits"
      ]
    },
    {
      "cell_type": "code",
      "execution_count": 55,
      "id": "7ae817c1",
      "metadata": {
        "id": "7ae817c1"
      },
      "outputs": [],
      "source": []
    },
    {
      "cell_type": "code",
      "execution_count": 56,
      "id": "ed9c509d",
      "metadata": {
        "id": "ed9c509d"
      },
      "outputs": [],
      "source": [
        "@torch.no_grad()\n",
        "def validate_embeddings(\n",
        "    model,\n",
        "    valid_ids,\n",
        "    itos\n",
        "):\n",
        "    \"\"\" Validation logic \"\"\"\n",
        "\n",
        "    # We will use context embeddings to get the most similar words\n",
        "    # Other strategies include: using target embeddings, mean embeddings after avaraging context/target\n",
        "    embedding_weights = model.A.weight\n",
        "        \n",
        "    normalized_embeddings = embedding_weights.cpu() / np.sqrt(\n",
        "        np.sum(embedding_weights.cpu().numpy()**2, axis=1, keepdims=True)\n",
        "    )\n",
        "\n",
        "    # Get the embeddings corresponding to valid_term_ids\n",
        "    valid_embeddings = normalized_embeddings[valid_ids, :]\n",
        "\n",
        "    # Compute the similarity between valid_term_ids (S) and all the embeddings (V).\n",
        "    # We do S x d (d x V) => S x D and sort by negative similarity.\n",
        "    top_k = 10 # Top k items will be displayed.\n",
        "    similarity = np.dot(valid_embeddings.cpu().numpy(), normalized_embeddings.cpu().numpy().T)\n",
        "\n",
        "    # Invert similarity matrix to negative\n",
        "    # Ignore the first one because that would be the same word as the probe word\n",
        "    similarity_top_k = np.argsort(-similarity, axis=1)[:, 1: top_k+1]\n",
        "\n",
        "    # Print the output.\n",
        "    for i, word_id in enumerate(valid_ids):\n",
        "        # j >= 1 here since we don't want to include the word itself.\n",
        "        similar_word_str = ', '.join([itos[j] for j in similarity_top_k[i, :] if j >= 1])\n",
        "        print(f\"{itos[word_id]}: {similar_word_str}\")\n",
        "\n",
        "    print('\\n')"
      ]
    },
    {
      "cell_type": "code",
      "execution_count": 56,
      "id": "b0c194b8",
      "metadata": {
        "id": "b0c194b8"
      },
      "outputs": [],
      "source": []
    },
    {
      "cell_type": "markdown",
      "id": "3b3c6ed5",
      "metadata": {
        "id": "3b3c6ed5"
      },
      "source": [
        "### Set up the model"
      ]
    },
    {
      "cell_type": "code",
      "execution_count": 57,
      "id": "16da95d1",
      "metadata": {
        "id": "16da95d1"
      },
      "outputs": [],
      "source": [
        "LR = 10.0\n",
        "NUM_EPOCHS = 10\n",
        "EMBED_DIM = 300"
      ]
    },
    {
      "cell_type": "code",
      "execution_count": 58,
      "id": "cef585f4",
      "metadata": {
        "id": "cef585f4"
      },
      "outputs": [],
      "source": [
        "model = CBOWNegativeSampling(len(VOCAB), EMBED_DIM).to(DEVICE)\n",
        "optimizer = torch.optim.SGD(model.parameters(), lr=LR)\n",
        "# The learning rate is lowered every epoch by 1/10.\n",
        "# Is this a good idea?\n",
        "scheduler = torch.optim.lr_scheduler.StepLR(optimizer, 1, gamma=0.1)"
      ]
    },
    {
      "cell_type": "code",
      "execution_count": 59,
      "id": "f8a642bf",
      "metadata": {
        "id": "f8a642bf",
        "colab": {
          "base_uri": "https://localhost:8080/",
          "height": 0
        },
        "outputId": "a6ab8da3-b3fc-4d74-d937-5ec30f8c21cd"
      },
      "outputs": [
        {
          "output_type": "execute_result",
          "data": {
            "text/plain": [
              "CBOWNegativeSampling(\n",
              "  (A): Embedding(63641, 300)\n",
              "  (B): Embedding(63641, 300)\n",
              ")"
            ]
          },
          "metadata": {},
          "execution_count": 59
        }
      ],
      "source": [
        "model"
      ]
    },
    {
      "cell_type": "code",
      "execution_count": 60,
      "id": "85773616",
      "metadata": {
        "id": "85773616",
        "colab": {
          "base_uri": "https://localhost:8080/",
          "height": 0
        },
        "outputId": "eb7637b8-1deb-450a-b439-c0455896f1b6"
      },
      "outputs": [
        {
          "output_type": "stream",
          "name": "stdout",
          "text": [
            "money: sixtus, rabelais, vampires, salah, peta, knowingly, botc, coercive, vouchers, choctaw\n",
            "lion: yount, iee, probabilities, readily, edom, lir, silja, shielding, autocannon, proofing\n",
            "africa: blount, noir, middleton, fancy, lethe, bitmapped, greenaway, gnat, delimit, relativist\n",
            "musician: chainsaw, christians, boyington, holberg, praises, uan, hamadan, atheneum, peacock, beretta\n",
            "dance: naia, curate, grignard, inquisitorial, dss, upland, monothelitism, lasalle, thema, administrated\n",
            "\n",
            "\n"
          ]
        }
      ],
      "source": [
        "validate_embeddings(model, valid_ids, itos)"
      ]
    },
    {
      "cell_type": "code",
      "execution_count": 60,
      "id": "66075f5e",
      "metadata": {
        "id": "66075f5e"
      },
      "outputs": [],
      "source": []
    },
    {
      "cell_type": "markdown",
      "id": "86476e2a",
      "metadata": {
        "id": "86476e2a"
      },
      "source": [
        "### Train the model"
      ]
    },
    {
      "cell_type": "code",
      "execution_count": 61,
      "id": "24950481",
      "metadata": {
        "id": "24950481"
      },
      "outputs": [],
      "source": [
        "ratios = []\n",
        "\n",
        "def train(dataloader, model, optimizer, epoch):\n",
        "    model.train()\n",
        "    total_acc, total_count, total_loss, total_batches = 0, 0, 0.0, 0.0\n",
        "    log_interval = 500\n",
        "    \n",
        "    for idx, x_batch in tqdm(enumerate(dataloader)):\n",
        "        \n",
        "        x_batch = x_batch[0]\n",
        "                \n",
        "        batch_size = x_batch.shape[0]\n",
        "        \n",
        "        # Zero the gradient so they don't accumulate.\n",
        "        optimizer.zero_grad()\n",
        "        \n",
        "        logits = model(x_batch)\n",
        "                        \n",
        "        # Get the positive samples loss. Notice we use weights here.\n",
        "        positive_loss = torch.nn.BCEWithLogitsLoss()(input=logits, target=torch.ones(batch_size).to(DEVICE).float())\n",
        "        \n",
        "        # For each batch, get some negative samples.\n",
        "        # We need a total of len(y_batch) * 2* WINDOW * K samples across a batch.\n",
        "        # We then reshape this batch.\n",
        "        # These are effectively the output words.\n",
        "        #print(\"Batch size: \", batch_size)\n",
        "        negative_samples = torch.multinomial(p, batch_size*K, replacement=True)\n",
        "        #print(\"negative_samples: \", negative_samples.size())\n",
        "        # Context words are 2m things, m = 1 so w_context is (N, 2) while wc is (N, 1)\n",
        "        w_context, wc =x_batch[:,0:2].to('cpu'), negative_samples\n",
        "        \n",
        "        #print(\"w_context: \", w_context.size())\n",
        "        #print(\"wc: \", wc.size())\n",
        "        \n",
        "        \"\"\"\n",
        "        if w_context looks like below (batch_size = 3)\n",
        "        [\n",
        "        (a, b),\n",
        "        (c, d),\n",
        "        (e, f)\n",
        "        ] and K = 2 we'd like to get:\n",
        "        \n",
        "        [\n",
        "        (a, b),\n",
        "        (a, b),\n",
        "        (c, d), \n",
        "        (c, d),\n",
        "        (e, f),\n",
        "        (e, f)\n",
        "        ]\n",
        "        \n",
        "        This will be batch_size * K rows.\n",
        "        \"\"\"\n",
        "        \n",
        "        # This should be (N * K, 2)\n",
        "        w_context = torch.concat([\n",
        "            w.repeat(K, 1) for w in torch.tensor(w_context).split(1)\n",
        "        ])\n",
        "        #print(\"w_context: \", w_context.size())\n",
        "        # Remove the last dimension 1.\n",
        "        wc = wc.view(wc.size()[0],1)\n",
        "        #print(\"wc: \", wc.size())\n",
        "        # Get the negative samples. This should be (N * K, 3).\n",
        "        # Concatenate the w_context and wc along the column. Make sure everything is on CUDA / MPS or CPU.\n",
        "        x_batch_negative = torch.concat([w_context, wc], axis=1).to(DEVICE)\n",
        "        #print(\"x_batch_negative: \", x_batch_negative.shape)      \n",
        "        \"\"\"\n",
        "        Note the way we formulated the targets: they are all 0 since these are negative samples.\n",
        "        We do the BCEWithLogitsLoss by hand basically here.\n",
        "        Notice we sum across the negative samples, per positive word.\n",
        "        \n",
        "        This is literally the equation in the lecture notes.\n",
        "        \"\"\"\n",
        "        \n",
        "        # (N, K, D) -> (N, D) -> (N)\n",
        "        # Look at the Skip-Gram notebook.\n",
        "        negative_loss = model(x_batch_negative).neg().sigmoid().log().reshape(\n",
        "            batch_size, K\n",
        "        ).sum(1).mean().neg().to(DEVICE)\n",
        "        \n",
        "        loss = (positive_loss + negative_loss).mean()\n",
        "                \n",
        "        # Get the gradients via back propagation. \n",
        "        loss.backward()\n",
        "                        \n",
        "        # Clip the gradients? Generally a good idea.\n",
        "        torch.nn.utils.clip_grad_norm_(model.parameters(), 0.1)\n",
        "        \n",
        "        # Used for optimization. This should be roughly 0.001, on average.\n",
        "        # You can use this to see if your learning rate is right - you can also plot the loss performance.\n",
        "        with torch.no_grad():\n",
        "            r = [\n",
        "                (LR * p.grad.std() / p.data.std()).log10().item() for _, p in model.named_parameters()\n",
        "            ]\n",
        "            ratios.append(r)  \n",
        "        \n",
        "        # Do an optimization step. Update the parameters A and B.\n",
        "        optimizer.step()\n",
        "        # Get the new loss.\n",
        "        total_loss += loss.item()\n",
        "        # Update the batch count.\n",
        "        total_batches += 1\n",
        "                \n",
        "        if idx % log_interval == 0:\n",
        "            print(\n",
        "                \"| epoch {:3d} | {:5d}/{:5d} batches \"\n",
        "                \"| loss {:8.3f} \".format(\n",
        "                    epoch,\n",
        "                    idx,\n",
        "                    len(dataloader),\n",
        "                    total_loss / total_batches\n",
        "                )\n",
        "            )\n",
        "            validate_embeddings(model, valid_ids, itos)\n",
        "            total_loss, total_batches = 0.0, 0.0"
      ]
    },
    {
      "cell_type": "markdown",
      "id": "0764d675",
      "metadata": {
        "id": "0764d675"
      },
      "source": [
        "### Some results from the run look like below:\n",
        "\n",
        "Somewhere inside of 2 iterations you should get sensible associattions.\n",
        "Paste here a screenshot of the closest vectors."
      ]
    },
    {
      "cell_type": "code",
      "execution_count": 62,
      "id": "a9e02c09",
      "metadata": {
        "id": "a9e02c09",
        "colab": {
          "base_uri": "https://localhost:8080/",
          "height": 0
        },
        "outputId": "84a5b320-87a9-4084-c99b-bd72948bc752"
      },
      "outputs": [
        {
          "output_type": "stream",
          "name": "stderr",
          "text": [
            "0it [00:00, ?it/s]<ipython-input-61-af72c1b5bcb7>:57: UserWarning: To copy construct from a tensor, it is recommended to use sourceTensor.clone().detach() or sourceTensor.clone().detach().requires_grad_(True), rather than torch.tensor(sourceTensor).\n",
            "  w.repeat(K, 1) for w in torch.tensor(w_context).split(1)\n",
            "1it [00:01,  1.87s/it]"
          ]
        },
        {
          "output_type": "stream",
          "name": "stdout",
          "text": [
            "| epoch   1 |     0/32580 batches | loss    4.059 \n",
            "money: sixtus, rabelais, vampires, salah, peta, knowingly, botc, coercive, vouchers, choctaw\n",
            "lion: yount, iee, probabilities, readily, edom, lir, silja, shielding, autocannon, proofing\n",
            "africa: blount, noir, middleton, fancy, lethe, bitmapped, greenaway, gnat, delimit, relativist\n",
            "musician: chainsaw, christians, boyington, holberg, praises, uan, hamadan, atheneum, peacock, beretta\n",
            "dance: naia, curate, grignard, inquisitorial, dss, upland, monothelitism, lasalle, thema, administrated\n",
            "\n",
            "\n"
          ]
        },
        {
          "output_type": "stream",
          "name": "stderr",
          "text": [
            "502it [00:07, 71.02it/s]"
          ]
        },
        {
          "output_type": "stream",
          "name": "stdout",
          "text": [
            "| epoch   1 |   500/32580 batches | loss    3.722 \n",
            "money: sixtus, rabelais, vampires, union, salah, choctaw, vouchers, coercive, botc, knowingly\n",
            "lion: yount, readily, iee, probabilities, edom, lir, silja, autocannon, shielding, proofing\n",
            "africa: blount, noir, middleton, fancy, gnat, greenaway, bitmapped, lethe, delimit, relativist\n",
            "musician: chainsaw, christians, boyington, holberg, uan, praises, hamadan, atheneum, peacock, magnum\n",
            "dance: naia, inquisitorial, curate, grignard, dss, upland, monothelitism, administrated, thema, lasalle\n",
            "\n",
            "\n"
          ]
        },
        {
          "output_type": "stream",
          "name": "stderr",
          "text": [
            "1000it [00:12, 90.36it/s]"
          ]
        },
        {
          "output_type": "stream",
          "name": "stdout",
          "text": [
            "| epoch   1 |  1000/32580 batches | loss    3.362 \n",
            "money: rabelais, sixtus, union, salah, vampires, choctaw, coercive, vouchers, botc, abrasives\n",
            "lion: readily, yount, iee, probabilities, edom, lir, silja, shielding, autocannon, proofing\n",
            "africa: blount, noir, middleton, bitmapped, fancy, lethe, greenaway, relativist, mbox, gnat\n",
            "musician: chainsaw, christians, boyington, holberg, uan, praises, hamadan, atheneum, disc, magnum\n",
            "dance: naia, inquisitorial, curate, grignard, dss, upland, monothelitism, lasalle, thema, administrated\n",
            "\n",
            "\n"
          ]
        },
        {
          "output_type": "stream",
          "name": "stderr",
          "text": [
            "1500it [00:18, 95.37it/s]"
          ]
        },
        {
          "output_type": "stream",
          "name": "stdout",
          "text": [
            "| epoch   1 |  1500/32580 batches | loss    3.033 \n",
            "money: union, salah, rabelais, vampires, sixtus, choctaw, coercive, milk, peta, botc\n",
            "lion: readily, yount, iee, probabilities, edom, lir, silja, shielding, autocannon, aldgate\n",
            "africa: blount, noir, fancy, middleton, greenaway, mbox, lethe, bitmapped, cells, relativist\n",
            "musician: christians, chainsaw, boyington, uan, praises, holberg, hamadan, disc, atheneum, acker\n",
            "dance: inquisitorial, naia, curate, grignard, dss, upland, monothelitism, thema, lasalle, interglacial\n",
            "\n",
            "\n"
          ]
        },
        {
          "output_type": "stream",
          "name": "stderr",
          "text": [
            "2000it [00:23, 95.69it/s]"
          ]
        },
        {
          "output_type": "stream",
          "name": "stdout",
          "text": [
            "| epoch   1 |  2000/32580 batches | loss    2.796 \n",
            "money: union, salah, rabelais, vampires, choctaw, milk, coercive, peta, sixtus, velar\n",
            "lion: readily, yount, iee, probabilities, edom, lir, silja, shielding, aldgate, proofing\n",
            "africa: blount, noir, fancy, mbox, greenaway, middleton, cells, lethe, chilly, relativist\n",
            "musician: christians, chainsaw, praises, uan, boyington, holberg, hamadan, disc, catastrophism, acker\n",
            "dance: inquisitorial, curate, grignard, naia, dss, upland, monothelitism, thema, lasalle, interglacial\n",
            "\n",
            "\n"
          ]
        },
        {
          "output_type": "stream",
          "name": "stderr",
          "text": [
            "2500it [00:28, 94.86it/s]"
          ]
        },
        {
          "output_type": "stream",
          "name": "stdout",
          "text": [
            "| epoch   1 |  2500/32580 batches | loss    2.630 \n",
            "money: union, salah, rabelais, vampires, choctaw, milk, rate, coercive, peta, m\n",
            "lion: readily, yount, probabilities, iee, lir, edom, silja, proofing, aldgate, shielding\n",
            "africa: noir, blount, fancy, mbox, cells, middleton, greenaway, honours, chilly, relativist\n",
            "musician: christians, chainsaw, praises, uan, boyington, holberg, hamadan, disc, acker, catastrophism\n",
            "dance: inquisitorial, grignard, naia, curate, dss, upland, monothelitism, thema, lasalle, fulltext\n",
            "\n",
            "\n"
          ]
        },
        {
          "output_type": "stream",
          "name": "stderr",
          "text": [
            "2999it [00:34, 96.55it/s]"
          ]
        },
        {
          "output_type": "stream",
          "name": "stdout",
          "text": [
            "| epoch   1 |  3000/32580 batches | loss    2.488 \n",
            "money: union, salah, m, rate, choctaw, american, vampires, rabelais, milk, known\n",
            "lion: readily, yount, probabilities, iee, lir, edom, silja, proofing, aldgate, shielding\n",
            "africa: noir, blount, many, mbox, fancy, cells, n, team, honours, greenaway\n",
            "musician: christians, chainsaw, uan, praises, boyington, holberg, hamadan, acker, catastrophism, disc\n",
            "dance: inquisitorial, curate, dss, grignard, naia, upland, monothelitism, fulltext, thema, lasalle\n",
            "\n",
            "\n"
          ]
        },
        {
          "output_type": "stream",
          "name": "stderr",
          "text": [
            "3499it [00:39, 94.84it/s]"
          ]
        },
        {
          "output_type": "stream",
          "name": "stdout",
          "text": [
            "| epoch   1 |  3500/32580 batches | loss    2.379 \n",
            "money: union, m, american, known, war, rate, salah, choctaw, use, history\n",
            "lion: readily, yount, probabilities, iee, edom, lir, silja, proofing, giving, aldgate\n",
            "africa: many, n, noir, team, cells, form, mbox, fancy, blount, out\n",
            "musician: christians, chainsaw, uan, praises, boyington, holberg, hamadan, catastrophism, disc, acker\n",
            "dance: inquisitorial, grignard, curate, naia, dss, upland, monothelitism, fulltext, thema, chloride\n",
            "\n",
            "\n"
          ]
        },
        {
          "output_type": "stream",
          "name": "stderr",
          "text": [
            "3999it [00:45, 95.54it/s]"
          ]
        },
        {
          "output_type": "stream",
          "name": "stdout",
          "text": [
            "| epoch   1 |  4000/32580 batches | loss    2.297 \n",
            "money: union, m, known, use, war, american, history, well, rate, an\n",
            "lion: readily, yount, probabilities, iee, lir, edom, x, silja, giving, proofing\n",
            "africa: many, n, team, form, use, if, between, noir, what, even\n",
            "musician: christians, chainsaw, uan, praises, can, x, there, boyington, holberg, hamadan\n",
            "dance: inquisitorial, curate, grignard, dss, naia, upland, monothelitism, fulltext, catnip, thema\n",
            "\n",
            "\n"
          ]
        },
        {
          "output_type": "stream",
          "name": "stderr",
          "text": [
            "4499it [00:50, 95.25it/s]"
          ]
        },
        {
          "output_type": "stream",
          "name": "stdout",
          "text": [
            "| epoch   1 |  4500/32580 batches | loss    2.219 \n",
            "money: union, m, known, war, use, history, well, american, rate, time\n",
            "lion: readily, yount, probabilities, iee, lir, x, edom, giving, silja, proofing\n",
            "africa: many, n, form, use, team, if, what, when, are, between\n",
            "musician: christians, chainsaw, x, can, uan, some, there, praises, zero, only\n",
            "dance: inquisitorial, grignard, curate, dss, naia, fulltext, upland, monothelitism, catnip, chloride\n",
            "\n",
            "\n"
          ]
        },
        {
          "output_type": "stream",
          "name": "stderr",
          "text": [
            "4999it [00:55, 96.89it/s]"
          ]
        },
        {
          "output_type": "stream",
          "name": "stdout",
          "text": [
            "| epoch   1 |  5000/32580 batches | loss    2.158 \n",
            "money: union, m, use, well, known, war, history, way, american, g\n",
            "lion: readily, x, yount, probabilities, lir, giving, sent, iee, edom, among\n",
            "africa: n, form, many, use, if, what, only, when, even, team\n",
            "musician: christians, x, can, chainsaw, there, zero, some, uan, b, english\n",
            "dance: inquisitorial, curate, grignard, contains, dss, naia, fulltext, legacy, catnip, monothelitism\n",
            "\n",
            "\n"
          ]
        },
        {
          "output_type": "stream",
          "name": "stderr",
          "text": [
            "5499it [01:01, 94.78it/s]"
          ]
        },
        {
          "output_type": "stream",
          "name": "stdout",
          "text": [
            "| epoch   1 |  5500/32580 batches | loss    2.107 \n",
            "money: union, m, use, well, known, war, history, way, g, i\n",
            "lion: readily, x, among, giving, probabilities, sent, yount, after, iee, lir\n",
            "africa: form, use, n, when, if, many, and, is, what, only\n",
            "musician: christians, x, zero, can, b, there, english, some, new, n\n",
            "dance: inquisitorial, contains, among, curate, grignard, legacy, conception, naia, catnip, dss\n",
            "\n",
            "\n"
          ]
        },
        {
          "output_type": "stream",
          "name": "stderr",
          "text": [
            "5999it [01:06, 95.66it/s]"
          ]
        },
        {
          "output_type": "stream",
          "name": "stdout",
          "text": [
            "| epoch   1 |  6000/32580 batches | loss    2.059 \n",
            "money: union, m, well, use, war, known, way, history, g, time\n",
            "lion: x, readily, among, giving, as, after, sent, died, probabilities, yount\n",
            "africa: form, use, when, n, and, only, if, even, many, what\n",
            "musician: christians, b, zero, x, can, there, english, n, seven, would\n",
            "dance: contains, inquisitorial, among, legacy, curate, conception, grignard, last, opposed, naia\n",
            "\n",
            "\n"
          ]
        },
        {
          "output_type": "stream",
          "name": "stderr",
          "text": [
            "6499it [01:11, 96.01it/s]"
          ]
        },
        {
          "output_type": "stream",
          "name": "stdout",
          "text": [
            "| epoch   1 |  6500/32580 batches | loss    2.018 \n",
            "money: union, well, use, m, war, known, way, g, history, time\n",
            "lion: x, among, after, readily, giving, died, rule, sent, as, probabilities\n",
            "africa: form, use, only, and, when, n, part, even, what, many\n",
            "musician: christians, x, b, zero, there, n, english, can, would, seven\n",
            "dance: contains, among, inquisitorial, last, conception, legacy, opposed, grignard, curate, usually\n",
            "\n",
            "\n"
          ]
        },
        {
          "output_type": "stream",
          "name": "stderr",
          "text": [
            "6999it [01:17, 93.55it/s]"
          ]
        },
        {
          "output_type": "stream",
          "name": "stdout",
          "text": [
            "| epoch   1 |  7000/32580 batches | loss    1.981 \n",
            "money: union, well, use, m, known, war, way, g, history, time\n",
            "lion: x, among, giving, after, died, readily, sent, rule, three, past\n",
            "africa: use, form, only, when, part, many, even, out, what, based\n",
            "musician: x, christians, b, zero, english, n, new, there, five, only\n",
            "dance: contains, last, among, opposed, conception, inquisitorial, usually, links, legacy, ii\n",
            "\n",
            "\n"
          ]
        },
        {
          "output_type": "stream",
          "name": "stderr",
          "text": [
            "7499it [01:22, 95.65it/s]"
          ]
        },
        {
          "output_type": "stream",
          "name": "stdout",
          "text": [
            "| epoch   1 |  7500/32580 batches | loss    1.945 \n",
            "money: union, use, well, m, war, known, way, history, g, time\n",
            "lion: x, among, died, giving, sent, rule, after, readily, three, eight\n",
            "africa: form, use, part, only, when, even, based, out, those, called\n",
            "musician: x, b, christians, zero, n, english, five, new, seven, then\n",
            "dance: contains, last, among, opposed, usually, conception, links, ii, order, legacy\n",
            "\n",
            "\n"
          ]
        },
        {
          "output_type": "stream",
          "name": "stderr",
          "text": [
            "7999it [01:28, 95.78it/s]"
          ]
        },
        {
          "output_type": "stream",
          "name": "stdout",
          "text": [
            "| epoch   1 |  8000/32580 batches | loss    1.914 \n",
            "money: union, use, well, war, m, known, way, history, others, time\n",
            "lion: x, giving, among, died, sent, three, rule, readily, after, eight\n",
            "africa: use, form, part, only, and, even, when, based, those, used\n",
            "musician: x, b, christians, zero, n, english, five, new, did, seven\n",
            "dance: among, last, contains, opposed, usually, order, links, ii, well, addition\n",
            "\n",
            "\n"
          ]
        },
        {
          "output_type": "stream",
          "name": "stderr",
          "text": [
            "8499it [01:33, 95.40it/s]"
          ]
        },
        {
          "output_type": "stream",
          "name": "stdout",
          "text": [
            "| epoch   1 |  8500/32580 batches | loss    1.884 \n",
            "money: union, use, well, way, known, war, m, others, time, order\n",
            "lion: giving, x, among, died, sent, rule, eight, three, after, readily\n",
            "africa: form, use, part, only, based, even, those, what, nine, called\n",
            "musician: x, b, christians, zero, five, english, seven, n, then, did\n",
            "dance: among, contains, last, usually, order, opposed, links, case, ii, addition\n",
            "\n",
            "\n"
          ]
        },
        {
          "output_type": "stream",
          "name": "stderr",
          "text": [
            "8998it [01:38, 94.56it/s]"
          ]
        },
        {
          "output_type": "stream",
          "name": "stdout",
          "text": [
            "| epoch   1 |  9000/32580 batches | loss    1.858 \n",
            "money: union, use, well, way, known, war, m, others, order, time\n",
            "lion: giving, x, died, among, sent, eight, rule, readily, seven, three\n",
            "africa: use, form, part, those, only, based, what, even, called, south\n",
            "musician: x, zero, b, english, seven, five, christians, n, did, states\n",
            "dance: among, contains, last, order, usually, opposed, links, case, ii, well\n",
            "\n",
            "\n"
          ]
        },
        {
          "output_type": "stream",
          "name": "stderr",
          "text": [
            "9497it [01:46, 93.38it/s]"
          ]
        },
        {
          "output_type": "stream",
          "name": "stdout",
          "text": [
            "| epoch   1 |  9500/32580 batches | loss    1.838 \n",
            "money: union, use, well, way, known, m, others, war, order, time\n",
            "lion: giving, died, among, x, sent, eight, rule, three, six, past\n",
            "africa: use, form, part, those, what, south, called, nine, even, based\n",
            "musician: x, b, zero, english, seven, n, states, christians, did, u\n",
            "dance: contains, last, order, among, links, opposed, usually, addition, case, well\n",
            "\n",
            "\n"
          ]
        },
        {
          "output_type": "stream",
          "name": "stderr",
          "text": [
            "10006it [01:52, 67.18it/s]"
          ]
        },
        {
          "output_type": "stream",
          "name": "stdout",
          "text": [
            "| epoch   1 | 10000/32580 batches | loss    1.819 \n",
            "money: union, use, well, way, others, m, time, known, war, order\n",
            "lion: giving, died, among, x, sent, eight, rule, six, past, three\n",
            "africa: use, form, part, south, those, called, nine, what, north, even\n",
            "musician: x, b, zero, seven, english, n, states, five, u, christians\n",
            "dance: last, among, contains, order, opposed, usually, addition, links, well, region\n",
            "\n",
            "\n"
          ]
        },
        {
          "output_type": "stream",
          "name": "stderr",
          "text": [
            "10506it [01:57, 68.86it/s]"
          ]
        },
        {
          "output_type": "stream",
          "name": "stdout",
          "text": [
            "| epoch   1 | 10500/32580 batches | loss    1.797 \n",
            "money: use, union, well, way, others, time, known, order, m, war\n",
            "lion: giving, died, among, rule, x, sent, three, eight, six, after\n",
            "africa: use, form, part, south, those, nine, north, what, called, even\n",
            "musician: x, zero, b, english, seven, n, states, u, five, example\n",
            "dance: last, order, contains, opposed, among, links, addition, region, line, well\n",
            "\n",
            "\n"
          ]
        },
        {
          "output_type": "stream",
          "name": "stderr",
          "text": [
            "11006it [02:03, 67.99it/s]"
          ]
        },
        {
          "output_type": "stream",
          "name": "stdout",
          "text": [
            "| epoch   1 | 11000/32580 batches | loss    1.777 \n",
            "money: use, union, way, well, others, known, time, order, m, form\n",
            "lion: died, giving, among, x, rule, sent, three, six, eight, after\n",
            "africa: part, use, form, those, south, called, what, nine, north, article\n",
            "musician: x, zero, b, n, states, u, seven, example, english, did\n",
            "dance: order, last, opposed, contains, links, addition, among, well, region, line\n",
            "\n",
            "\n"
          ]
        },
        {
          "output_type": "stream",
          "name": "stderr",
          "text": [
            "11506it [02:08, 68.59it/s]"
          ]
        },
        {
          "output_type": "stream",
          "name": "stdout",
          "text": [
            "| epoch   1 | 11500/32580 batches | loss    1.762 \n",
            "money: use, union, way, well, others, time, known, order, m, form\n",
            "lion: died, giving, sent, among, rule, x, president, after, six, three\n",
            "africa: part, form, use, those, south, called, what, nine, article, north\n",
            "musician: x, zero, b, states, english, n, u, example, seven, did\n",
            "dance: order, last, contains, links, opposed, addition, region, among, well, line\n",
            "\n",
            "\n"
          ]
        },
        {
          "output_type": "stream",
          "name": "stderr",
          "text": [
            "12004it [02:13, 68.64it/s]"
          ]
        },
        {
          "output_type": "stream",
          "name": "stdout",
          "text": [
            "| epoch   1 | 12000/32580 batches | loss    1.739 \n",
            "money: use, union, way, well, others, time, known, form, order, example\n",
            "lion: died, giving, sent, as, among, rule, president, six, x, king\n",
            "africa: part, form, use, south, those, north, called, nine, article, work\n",
            "musician: x, zero, b, u, states, n, seven, example, english, four\n",
            "dance: order, contains, addition, opposed, last, links, region, work, well, line\n",
            "\n",
            "\n"
          ]
        },
        {
          "output_type": "stream",
          "name": "stderr",
          "text": [
            "12503it [02:19, 69.63it/s]"
          ]
        },
        {
          "output_type": "stream",
          "name": "stdout",
          "text": [
            "| epoch   1 | 12500/32580 batches | loss    1.725 \n",
            "money: use, way, union, well, others, form, known, example, fact, order\n",
            "lion: died, giving, sent, rule, among, president, three, x, king, six\n",
            "africa: part, form, use, south, those, north, work, france, article, what\n",
            "musician: x, zero, states, b, u, english, example, n, seven, did\n",
            "dance: order, addition, last, contains, opposed, links, work, region, well, development\n",
            "\n",
            "\n"
          ]
        },
        {
          "output_type": "stream",
          "name": "stderr",
          "text": [
            "13001it [02:24, 71.94it/s]"
          ]
        },
        {
          "output_type": "stream",
          "name": "stdout",
          "text": [
            "| epoch   1 | 13000/32580 batches | loss    1.708 \n",
            "money: use, way, union, well, form, others, example, fact, order, time\n",
            "lion: died, giving, sent, president, six, rule, king, eight, among, past\n",
            "africa: part, form, use, south, north, and, france, those, work, nine\n",
            "musician: x, zero, states, example, b, u, english, did, seven, five\n",
            "dance: order, addition, contains, opposed, last, links, region, french, work, development\n",
            "\n",
            "\n"
          ]
        },
        {
          "output_type": "stream",
          "name": "stderr",
          "text": [
            "13500it [02:30, 95.07it/s]"
          ]
        },
        {
          "output_type": "stream",
          "name": "stdout",
          "text": [
            "| epoch   1 | 13500/32580 batches | loss    1.698 \n",
            "money: way, use, union, well, fact, example, form, time, others, work\n",
            "lion: died, giving, president, eight, sent, rule, six, king, three, father\n",
            "africa: part, form, use, south, north, france, those, nine, article, work\n",
            "musician: x, zero, example, b, u, states, english, n, did, seven\n",
            "dance: order, addition, last, opposed, contains, french, region, links, development, work\n",
            "\n",
            "\n"
          ]
        },
        {
          "output_type": "stream",
          "name": "stderr",
          "text": [
            "13999it [02:35, 92.43it/s]"
          ]
        },
        {
          "output_type": "stream",
          "name": "stdout",
          "text": [
            "| epoch   1 | 14000/32580 batches | loss    1.685 \n",
            "money: way, use, union, well, fact, form, example, time, others, work\n",
            "lion: died, giving, president, six, sent, eight, rule, four, king, as\n",
            "africa: part, form, south, france, north, use, nine, united, those, article\n",
            "musician: x, zero, example, u, b, states, english, five, seven, n\n",
            "dance: order, addition, french, region, last, opposed, links, contains, development, work\n",
            "\n",
            "\n"
          ]
        },
        {
          "output_type": "stream",
          "name": "stderr",
          "text": [
            "14499it [02:40, 95.93it/s]"
          ]
        },
        {
          "output_type": "stream",
          "name": "stdout",
          "text": [
            "| epoch   1 | 14500/32580 batches | loss    1.672 \n",
            "money: way, use, union, well, fact, form, example, work, time, others\n",
            "lion: died, giving, six, president, sent, eight, rule, king, three, father\n",
            "africa: part, form, south, north, france, use, united, nine, europe, end\n",
            "musician: x, zero, example, u, b, english, n, states, fact, christians\n",
            "dance: order, addition, region, opposed, french, links, country, last, development, study\n",
            "\n",
            "\n"
          ]
        },
        {
          "output_type": "stream",
          "name": "stderr",
          "text": [
            "14999it [02:46, 94.52it/s]"
          ]
        },
        {
          "output_type": "stream",
          "name": "stdout",
          "text": [
            "| epoch   1 | 15000/32580 batches | loss    1.659 \n",
            "money: way, use, union, fact, well, example, work, form, found, time\n",
            "lion: died, giving, rule, president, sent, six, eight, king, book, father\n",
            "africa: part, form, south, north, france, use, nine, united, europe, end\n",
            "musician: zero, x, u, example, fact, seven, b, english, states, five\n",
            "dance: order, addition, region, opposed, country, french, development, links, last, study\n",
            "\n",
            "\n"
          ]
        },
        {
          "output_type": "stream",
          "name": "stderr",
          "text": [
            "15499it [02:51, 87.04it/s]"
          ]
        },
        {
          "output_type": "stream",
          "name": "stdout",
          "text": [
            "| epoch   1 | 15500/32580 batches | loss    1.648 \n",
            "money: way, use, fact, union, work, well, example, order, possible, time\n",
            "lion: died, giving, six, president, rule, sent, three, eight, book, five\n",
            "africa: part, form, south, north, france, nine, use, united, europe, end\n",
            "musician: zero, x, u, fact, seven, example, english, states, b, did\n",
            "dance: order, addition, region, french, opposed, country, development, study, links, last\n",
            "\n",
            "\n"
          ]
        },
        {
          "output_type": "stream",
          "name": "stderr",
          "text": [
            "15998it [02:57, 95.95it/s]"
          ]
        },
        {
          "output_type": "stream",
          "name": "stdout",
          "text": [
            "| epoch   1 | 16000/32580 batches | loss    1.635 \n",
            "money: way, use, fact, union, well, work, example, possible, time, found\n",
            "lion: died, giving, sent, rule, president, six, seven, eight, book, king\n",
            "africa: part, south, form, north, france, nine, use, europe, united, end\n",
            "musician: zero, u, fact, x, example, n, seven, states, english, singer\n",
            "dance: order, addition, french, region, country, opposed, study, last, development, links\n",
            "\n",
            "\n"
          ]
        },
        {
          "output_type": "stream",
          "name": "stderr",
          "text": [
            "16497it [03:02, 92.13it/s]"
          ]
        },
        {
          "output_type": "stream",
          "name": "stdout",
          "text": [
            "| epoch   1 | 16500/32580 batches | loss    1.625 \n",
            "money: way, use, fact, well, work, union, example, possible, form, time\n",
            "lion: died, giving, six, sent, rule, president, seven, eight, four, five\n",
            "africa: part, south, form, north, france, europe, end, united, use, nine\n",
            "musician: zero, fact, u, example, five, x, seven, actress, n, singer\n",
            "dance: order, addition, french, country, region, study, links, opposed, last, development\n",
            "\n",
            "\n"
          ]
        },
        {
          "output_type": "stream",
          "name": "stderr",
          "text": [
            "17007it [03:08, 67.46it/s]"
          ]
        },
        {
          "output_type": "stream",
          "name": "stdout",
          "text": [
            "| epoch   1 | 17000/32580 batches | loss    1.616 \n",
            "money: way, use, fact, well, work, time, possible, result, union, example\n",
            "lion: died, giving, six, sent, rule, president, three, seven, eight, four\n",
            "africa: part, south, north, france, form, europe, united, end, nine, use\n",
            "musician: zero, fact, u, seven, actress, singer, actor, n, states, x\n",
            "dance: order, addition, french, country, region, study, links, development, opposed, last\n",
            "\n",
            "\n"
          ]
        },
        {
          "output_type": "stream",
          "name": "stderr",
          "text": [
            "17507it [03:13, 67.58it/s]"
          ]
        },
        {
          "output_type": "stream",
          "name": "stdout",
          "text": [
            "| epoch   1 | 17500/32580 batches | loss    1.607 \n",
            "money: way, use, fact, well, work, result, possible, time, union, example\n",
            "lion: died, giving, six, sent, rule, three, president, seven, father, four\n",
            "africa: part, south, north, france, form, europe, nine, united, end, canada\n",
            "musician: zero, fact, actress, seven, singer, u, actor, states, n, english\n",
            "dance: order, addition, french, country, links, zero, region, study, last, development\n",
            "\n",
            "\n"
          ]
        },
        {
          "output_type": "stream",
          "name": "stderr",
          "text": [
            "17997it [03:18, 96.35it/s]"
          ]
        },
        {
          "output_type": "stream",
          "name": "stdout",
          "text": [
            "| epoch   1 | 18000/32580 batches | loss    1.594 \n",
            "money: way, use, fact, well, time, work, possible, result, union, example\n",
            "lion: died, giving, six, sent, four, rule, three, president, father, eight\n",
            "africa: part, south, north, france, europe, form, united, end, nine, germany\n",
            "musician: zero, fact, actress, actor, singer, u, seven, n, example, x\n",
            "dance: order, addition, french, country, zero, region, development, links, study, music\n",
            "\n",
            "\n"
          ]
        },
        {
          "output_type": "stream",
          "name": "stderr",
          "text": [
            "18497it [03:24, 94.66it/s]"
          ]
        },
        {
          "output_type": "stream",
          "name": "stdout",
          "text": [
            "| epoch   1 | 18500/32580 batches | loss    1.582 \n",
            "money: way, fact, use, work, time, well, result, possible, union, example\n",
            "lion: died, four, giving, six, sent, president, father, rule, three, case\n",
            "africa: part, south, france, north, europe, united, end, form, nine, germany\n",
            "musician: zero, actress, fact, actor, singer, u, n, seven, example, nine\n",
            "dance: addition, order, french, country, study, region, development, music, zero, opposed\n",
            "\n",
            "\n"
          ]
        },
        {
          "output_type": "stream",
          "name": "stderr",
          "text": [
            "19007it [03:29, 68.40it/s]"
          ]
        },
        {
          "output_type": "stream",
          "name": "stdout",
          "text": [
            "| epoch   1 | 19000/32580 batches | loss    1.576 \n",
            "money: way, fact, use, work, well, time, result, possible, union, terms\n",
            "lion: died, six, four, giving, sent, father, president, three, rule, eight\n",
            "africa: south, part, north, france, europe, united, end, form, nine, germany\n",
            "musician: actress, zero, fact, actor, singer, u, n, seven, french, x\n",
            "dance: addition, order, french, country, study, region, zero, development, opposed, last\n",
            "\n",
            "\n"
          ]
        },
        {
          "output_type": "stream",
          "name": "stderr",
          "text": [
            "19497it [03:35, 96.33it/s]"
          ]
        },
        {
          "output_type": "stream",
          "name": "stdout",
          "text": [
            "| epoch   1 | 19500/32580 batches | loss    1.571 \n",
            "money: way, fact, use, work, result, time, well, possible, terms, play\n",
            "lion: died, six, four, giving, president, father, sent, rule, addition, case\n",
            "africa: south, north, part, france, europe, united, end, nine, form, england\n",
            "musician: actress, zero, singer, fact, actor, u, five, n, seven, nine\n",
            "dance: addition, order, country, french, study, region, music, zero, opposed, development\n",
            "\n",
            "\n"
          ]
        },
        {
          "output_type": "stream",
          "name": "stderr",
          "text": [
            "19997it [03:40, 94.72it/s]"
          ]
        },
        {
          "output_type": "stream",
          "name": "stdout",
          "text": [
            "| epoch   1 | 20000/32580 batches | loss    1.559 \n",
            "money: way, fact, use, work, result, time, well, possible, union, play\n",
            "lion: died, four, giving, six, father, president, sent, seven, rule, five\n",
            "africa: south, north, france, part, europe, united, end, nine, india, germany\n",
            "musician: actress, singer, zero, fact, actor, u, seven, n, nine, five\n",
            "dance: addition, order, country, french, study, region, music, development, opposed, spanish\n",
            "\n",
            "\n"
          ]
        },
        {
          "output_type": "stream",
          "name": "stderr",
          "text": [
            "20507it [03:46, 68.60it/s]"
          ]
        },
        {
          "output_type": "stream",
          "name": "stdout",
          "text": [
            "| epoch   1 | 20500/32580 batches | loss    1.552 \n",
            "money: way, fact, use, work, result, time, possible, well, play, example\n",
            "lion: died, six, four, giving, father, sent, seven, rule, president, three\n",
            "africa: south, north, france, europe, united, part, nine, end, india, germany\n",
            "musician: actress, singer, zero, actor, fact, u, n, seven, five, example\n",
            "dance: addition, order, country, french, study, region, opposed, music, development, spanish\n",
            "\n",
            "\n"
          ]
        },
        {
          "output_type": "stream",
          "name": "stderr",
          "text": [
            "20997it [03:51, 95.06it/s]"
          ]
        },
        {
          "output_type": "stream",
          "name": "stdout",
          "text": [
            "| epoch   1 | 21000/32580 batches | loss    1.543 \n",
            "money: way, fact, use, result, work, time, well, possible, play, example\n",
            "lion: died, six, father, giving, four, sent, rule, president, seven, addition\n",
            "africa: south, north, europe, france, united, part, end, india, germany, nine\n",
            "musician: actress, singer, actor, fact, zero, u, n, seven, example, author\n",
            "dance: addition, order, country, french, study, opposed, region, music, five, spanish\n",
            "\n",
            "\n"
          ]
        },
        {
          "output_type": "stream",
          "name": "stderr",
          "text": [
            "21507it [03:59, 68.25it/s]"
          ]
        },
        {
          "output_type": "stream",
          "name": "stdout",
          "text": [
            "| epoch   1 | 21500/32580 batches | loss    1.540 \n",
            "money: way, fact, use, result, well, time, work, possible, play, example\n",
            "lion: died, six, four, father, sent, seven, giving, five, rule, three\n",
            "africa: south, north, europe, france, united, india, part, end, nine, germany\n",
            "musician: actress, actor, singer, fact, zero, u, seven, nine, author, example\n",
            "dance: addition, order, country, french, study, music, opposed, spanish, region, development\n",
            "\n",
            "\n"
          ]
        },
        {
          "output_type": "stream",
          "name": "stderr",
          "text": [
            "22007it [04:04, 68.95it/s]"
          ]
        },
        {
          "output_type": "stream",
          "name": "stdout",
          "text": [
            "| epoch   1 | 22000/32580 batches | loss    1.529 \n",
            "money: way, fact, use, result, time, play, well, work, possible, example\n",
            "lion: died, four, six, father, seven, sent, rule, giving, president, addition\n",
            "africa: north, france, south, europe, india, united, end, nine, part, germany\n",
            "musician: actress, actor, singer, zero, fact, u, seven, five, nine, author\n",
            "dance: addition, country, order, french, study, music, opposed, development, region, spanish\n",
            "\n",
            "\n"
          ]
        },
        {
          "output_type": "stream",
          "name": "stderr",
          "text": [
            "22507it [04:09, 68.56it/s]"
          ]
        },
        {
          "output_type": "stream",
          "name": "stdout",
          "text": [
            "| epoch   1 | 22500/32580 batches | loss    1.523 \n",
            "money: way, fact, result, use, play, well, time, work, possible, seen\n",
            "lion: died, seven, six, four, father, sent, eight, five, rule, giving\n",
            "africa: north, south, france, europe, india, united, end, germany, part, canada\n",
            "musician: actress, actor, singer, fact, u, zero, seven, nine, five, result\n",
            "dance: addition, country, order, study, french, music, opposed, region, seven, development\n",
            "\n",
            "\n"
          ]
        },
        {
          "output_type": "stream",
          "name": "stderr",
          "text": [
            "22997it [04:15, 95.87it/s]"
          ]
        },
        {
          "output_type": "stream",
          "name": "stdout",
          "text": [
            "| epoch   1 | 23000/32580 batches | loss    1.518 \n",
            "money: way, fact, result, use, time, play, well, possible, work, seen\n",
            "lion: died, seven, father, four, six, five, sent, rule, eight, president\n",
            "africa: south, north, france, europe, india, united, end, germany, part, canada\n",
            "musician: actress, actor, singer, fact, zero, u, seven, five, nine, author\n",
            "dance: addition, country, order, french, study, music, opposed, spanish, seven, region\n",
            "\n",
            "\n"
          ]
        },
        {
          "output_type": "stream",
          "name": "stderr",
          "text": [
            "23497it [04:20, 95.38it/s]"
          ]
        },
        {
          "output_type": "stream",
          "name": "stdout",
          "text": [
            "| epoch   1 | 23500/32580 batches | loss    1.511 \n",
            "money: way, fact, result, use, play, time, well, seen, work, possible\n",
            "lion: died, seven, father, four, six, five, sent, eight, rule, addition\n",
            "africa: south, north, france, europe, india, end, united, canada, germany, part\n",
            "musician: actress, actor, singer, fact, zero, u, seven, nine, five, author\n",
            "dance: addition, country, order, study, french, music, opposed, seven, russian, spanish\n",
            "\n",
            "\n"
          ]
        },
        {
          "output_type": "stream",
          "name": "stderr",
          "text": [
            "23997it [04:25, 96.76it/s]"
          ]
        },
        {
          "output_type": "stream",
          "name": "stdout",
          "text": [
            "| epoch   1 | 24000/32580 batches | loss    1.508 \n",
            "money: way, fact, result, use, play, time, well, seen, possible, work\n",
            "lion: seven, died, four, father, six, five, sent, addition, rule, eight\n",
            "africa: south, france, north, europe, india, united, end, germany, canada, america\n",
            "musician: actress, actor, singer, fact, five, zero, u, nine, seven, author\n",
            "dance: addition, country, order, study, french, opposed, music, russian, seven, spanish\n",
            "\n",
            "\n"
          ]
        },
        {
          "output_type": "stream",
          "name": "stderr",
          "text": [
            "24497it [04:31, 94.18it/s]"
          ]
        },
        {
          "output_type": "stream",
          "name": "stdout",
          "text": [
            "| epoch   1 | 24500/32580 batches | loss    1.500 \n",
            "money: way, fact, result, use, time, possible, well, play, seen, meaning\n",
            "lion: died, seven, father, four, five, six, addition, president, sent, eight\n",
            "africa: south, france, europe, north, india, end, united, america, germany, canada\n",
            "musician: actress, actor, singer, fact, zero, u, nine, five, author, seven\n",
            "dance: addition, country, order, study, music, russian, opposed, french, seven, spanish\n",
            "\n",
            "\n"
          ]
        },
        {
          "output_type": "stream",
          "name": "stderr",
          "text": [
            "24997it [04:36, 94.65it/s]"
          ]
        },
        {
          "output_type": "stream",
          "name": "stdout",
          "text": [
            "| epoch   1 | 25000/32580 batches | loss    1.495 \n",
            "money: way, fact, result, use, play, possible, time, well, seen, meaning\n",
            "lion: died, seven, four, father, five, addition, six, eight, sent, president\n",
            "africa: france, south, europe, india, north, end, united, germany, canada, america\n",
            "musician: actress, actor, singer, fact, zero, u, author, seven, nine, five\n",
            "dance: addition, country, order, study, music, seven, russian, opposed, philosophy, french\n",
            "\n",
            "\n"
          ]
        },
        {
          "output_type": "stream",
          "name": "stderr",
          "text": [
            "25506it [04:42, 68.27it/s]"
          ]
        },
        {
          "output_type": "stream",
          "name": "stdout",
          "text": [
            "| epoch   1 | 25500/32580 batches | loss    1.493 \n",
            "money: way, fact, result, use, play, time, possible, well, meaning, seen\n",
            "lion: died, four, seven, eight, father, addition, six, three, five, sent\n",
            "africa: south, france, india, europe, north, end, united, germany, canada, america\n",
            "musician: actress, actor, singer, zero, fact, nine, seven, u, author, result\n",
            "dance: country, addition, order, study, music, russian, french, philosophy, opposed, spanish\n",
            "\n",
            "\n"
          ]
        },
        {
          "output_type": "stream",
          "name": "stderr",
          "text": [
            "26004it [04:47, 68.19it/s]"
          ]
        },
        {
          "output_type": "stream",
          "name": "stdout",
          "text": [
            "| epoch   1 | 26000/32580 batches | loss    1.482 \n",
            "money: way, fact, result, use, play, possible, well, time, meaning, seen\n",
            "lion: eight, died, father, four, three, seven, five, addition, six, president\n",
            "africa: south, france, india, north, europe, end, united, canada, germany, america\n",
            "musician: actress, actor, singer, zero, fact, nine, author, u, seven, eight\n",
            "dance: country, addition, study, order, music, french, spanish, philosophy, eight, russian\n",
            "\n",
            "\n"
          ]
        },
        {
          "output_type": "stream",
          "name": "stderr",
          "text": [
            "26503it [04:53, 68.67it/s]"
          ]
        },
        {
          "output_type": "stream",
          "name": "stdout",
          "text": [
            "| epoch   1 | 26500/32580 batches | loss    1.476 \n",
            "money: way, fact, result, use, possible, well, time, play, meaning, seen\n",
            "lion: died, father, eight, four, five, addition, seven, three, president, sent\n",
            "africa: south, france, india, europe, north, end, united, germany, america, canada\n",
            "musician: actress, actor, singer, zero, fact, author, nine, u, seven, five\n",
            "dance: country, addition, study, music, order, french, philosophy, spanish, russian, eight\n",
            "\n",
            "\n"
          ]
        },
        {
          "output_type": "stream",
          "name": "stderr",
          "text": [
            "27002it [04:58, 71.64it/s]"
          ]
        },
        {
          "output_type": "stream",
          "name": "stdout",
          "text": [
            "| epoch   1 | 27000/32580 batches | loss    1.471 \n",
            "money: fact, way, result, use, possible, time, well, play, others, seen\n",
            "lion: father, died, five, addition, eight, four, three, seven, sent, president\n",
            "africa: south, france, europe, north, india, america, end, united, germany, canada\n",
            "musician: actress, actor, singer, zero, fact, nine, author, u, seven, result\n",
            "dance: country, addition, music, study, order, french, philosophy, spanish, zero, modern\n",
            "\n",
            "\n"
          ]
        },
        {
          "output_type": "stream",
          "name": "stderr",
          "text": [
            "27501it [05:04, 71.25it/s]"
          ]
        },
        {
          "output_type": "stream",
          "name": "stdout",
          "text": [
            "| epoch   1 | 27500/32580 batches | loss    1.463 \n",
            "money: way, fact, result, use, possible, play, time, difficult, others, seen\n",
            "lion: father, addition, died, seven, five, eight, president, four, sent, three\n",
            "africa: south, france, north, india, europe, america, germany, end, united, canada\n",
            "musician: actress, actor, singer, zero, nine, author, fact, u, seven, result\n",
            "dance: country, addition, music, study, order, spanish, philosophy, zero, french, nine\n",
            "\n",
            "\n"
          ]
        },
        {
          "output_type": "stream",
          "name": "stderr",
          "text": [
            "28000it [05:09, 95.44it/s]"
          ]
        },
        {
          "output_type": "stream",
          "name": "stdout",
          "text": [
            "| epoch   1 | 28000/32580 batches | loss    1.462 \n",
            "money: fact, way, result, use, possible, play, time, well, others, difficult\n",
            "lion: father, five, eight, addition, three, died, seven, president, four, sent\n",
            "africa: south, france, india, europe, north, america, germany, end, united, canada\n",
            "musician: actress, actor, singer, zero, author, nine, fact, u, eight, result\n",
            "dance: country, addition, music, study, order, spanish, philosophy, zero, french, development\n",
            "\n",
            "\n"
          ]
        },
        {
          "output_type": "stream",
          "name": "stderr",
          "text": [
            "28500it [05:14, 94.33it/s]"
          ]
        },
        {
          "output_type": "stream",
          "name": "stdout",
          "text": [
            "| epoch   1 | 28500/32580 batches | loss    1.452 \n",
            "money: fact, way, result, use, possible, play, time, others, well, found\n",
            "lion: father, addition, five, died, eight, president, three, seven, six, sent\n",
            "africa: france, india, south, north, europe, america, germany, canada, united, end\n",
            "musician: actress, actor, singer, author, zero, nine, fact, u, seven, writer\n",
            "dance: country, addition, study, music, order, spanish, philosophy, zero, french, development\n",
            "\n",
            "\n"
          ]
        },
        {
          "output_type": "stream",
          "name": "stderr",
          "text": [
            "29000it [05:20, 94.79it/s]"
          ]
        },
        {
          "output_type": "stream",
          "name": "stdout",
          "text": [
            "| epoch   1 | 29000/32580 batches | loss    1.445 \n",
            "money: fact, way, result, use, play, possible, time, even, well, others\n",
            "lion: father, addition, three, five, seven, died, president, eight, sent, rule\n",
            "africa: france, india, south, europe, north, america, germany, canada, united, england\n",
            "musician: actress, actor, singer, author, zero, nine, fact, u, writer, seven\n",
            "dance: country, addition, music, study, spanish, order, french, zero, nine, philosophy\n",
            "\n",
            "\n"
          ]
        },
        {
          "output_type": "stream",
          "name": "stderr",
          "text": [
            "29500it [05:25, 92.57it/s]"
          ]
        },
        {
          "output_type": "stream",
          "name": "stdout",
          "text": [
            "| epoch   1 | 29500/32580 batches | loss    1.446 \n",
            "money: fact, way, result, play, use, time, possible, even, well, others\n",
            "lion: father, five, addition, seven, president, died, sent, eight, three, six\n",
            "africa: india, france, south, europe, north, america, germany, canada, united, england\n",
            "musician: actress, actor, singer, author, zero, nine, writer, fact, u, spanish\n",
            "dance: country, addition, music, study, spanish, order, philosophy, zero, development, art\n",
            "\n",
            "\n"
          ]
        },
        {
          "output_type": "stream",
          "name": "stderr",
          "text": [
            "30000it [05:30, 95.12it/s]"
          ]
        },
        {
          "output_type": "stream",
          "name": "stdout",
          "text": [
            "| epoch   1 | 30000/32580 batches | loss    1.441 \n",
            "money: fact, way, result, use, play, time, possible, even, well, others\n",
            "lion: father, addition, eight, seven, three, sent, president, six, died, five\n",
            "africa: india, south, france, europe, north, america, united, canada, england, germany\n",
            "musician: actress, actor, singer, author, zero, nine, writer, fact, u, seven\n",
            "dance: country, addition, music, study, spanish, order, philosophy, zero, art, french\n",
            "\n",
            "\n"
          ]
        },
        {
          "output_type": "stream",
          "name": "stderr",
          "text": [
            "30500it [05:36, 95.10it/s]"
          ]
        },
        {
          "output_type": "stream",
          "name": "stdout",
          "text": [
            "| epoch   1 | 30500/32580 batches | loss    1.435 \n",
            "money: way, fact, result, play, use, time, others, possible, well, even\n",
            "lion: father, addition, seven, sent, eight, died, president, three, five, six\n",
            "africa: india, france, europe, south, north, america, canada, united, england, china\n",
            "musician: actress, actor, singer, author, zero, nine, writer, fact, seven, u\n",
            "dance: country, addition, music, study, order, spanish, philosophy, nine, development, zero\n",
            "\n",
            "\n"
          ]
        },
        {
          "output_type": "stream",
          "name": "stderr",
          "text": [
            "31000it [05:41, 95.76it/s]"
          ]
        },
        {
          "output_type": "stream",
          "name": "stdout",
          "text": [
            "| epoch   1 | 31000/32580 batches | loss    1.434 \n",
            "money: fact, way, result, play, even, time, others, study, use, it\n",
            "lion: father, seven, addition, died, sent, president, eight, three, four, five\n",
            "africa: india, france, europe, south, north, america, china, canada, united, germany\n",
            "musician: actress, actor, singer, author, writer, nine, zero, seven, fact, u\n",
            "dance: country, addition, music, study, order, spanish, philosophy, development, zero, art\n",
            "\n",
            "\n"
          ]
        },
        {
          "output_type": "stream",
          "name": "stderr",
          "text": [
            "31500it [05:47, 95.02it/s]"
          ]
        },
        {
          "output_type": "stream",
          "name": "stdout",
          "text": [
            "| epoch   1 | 31500/32580 batches | loss    1.425 \n",
            "money: fact, way, result, play, even, time, possible, well, use, study\n",
            "lion: seven, father, addition, died, president, sent, three, eight, four, five\n",
            "africa: india, france, europe, south, north, america, germany, china, england, canada\n",
            "musician: actress, actor, singer, author, nine, writer, zero, seven, fact, spanish\n",
            "dance: country, addition, music, study, order, philosophy, spanish, french, art, development\n",
            "\n",
            "\n"
          ]
        },
        {
          "output_type": "stream",
          "name": "stderr",
          "text": [
            "32000it [05:52, 95.03it/s]"
          ]
        },
        {
          "output_type": "stream",
          "name": "stdout",
          "text": [
            "| epoch   1 | 32000/32580 batches | loss    1.427 \n",
            "money: fact, way, result, play, time, even, possible, well, study, use\n",
            "lion: father, addition, seven, died, president, three, sent, four, eight, rule\n",
            "africa: india, france, europe, south, north, america, germany, china, canada, australia\n",
            "musician: actress, actor, singer, author, writer, nine, seven, zero, fact, spanish\n",
            "dance: country, addition, music, study, order, philosophy, seven, traditional, development, spanish\n",
            "\n",
            "\n"
          ]
        },
        {
          "output_type": "stream",
          "name": "stderr",
          "text": [
            "32499it [05:58, 94.12it/s]"
          ]
        },
        {
          "output_type": "stream",
          "name": "stdout",
          "text": [
            "| epoch   1 | 32500/32580 batches | loss    1.416 \n",
            "money: fact, way, result, play, time, possible, even, well, use, study\n",
            "lion: father, seven, addition, died, president, three, four, sent, eight, six\n",
            "africa: india, europe, france, south, north, america, china, germany, canada, australia\n",
            "musician: actress, actor, singer, author, nine, writer, seven, politician, zero, fact\n",
            "dance: country, music, addition, study, order, philosophy, traditional, development, art, nine\n",
            "\n",
            "\n"
          ]
        },
        {
          "output_type": "stream",
          "name": "stderr",
          "text": [
            "32580it [06:00, 90.30it/s]\n",
            "1it [00:01,  1.74s/it]"
          ]
        },
        {
          "output_type": "stream",
          "name": "stdout",
          "text": [
            "| epoch   2 |     0/32580 batches | loss    1.376 \n",
            "money: fact, way, result, play, time, even, possible, use, others, well\n",
            "lion: father, addition, seven, died, four, president, sent, three, eight, five\n",
            "africa: india, europe, france, south, north, america, germany, china, canada, australia\n",
            "musician: actress, actor, singer, author, nine, writer, seven, zero, politician, fact\n",
            "dance: country, addition, music, study, order, philosophy, traditional, art, development, spanish\n",
            "\n",
            "\n"
          ]
        },
        {
          "output_type": "stream",
          "name": "stderr",
          "text": [
            "503it [00:07, 70.31it/s]"
          ]
        },
        {
          "output_type": "stream",
          "name": "stdout",
          "text": [
            "| epoch   2 |   500/32580 batches | loss    1.376 \n",
            "money: fact, way, result, play, time, possible, even, use, others, well\n",
            "lion: father, addition, seven, died, four, president, sent, three, eight, five\n",
            "africa: india, europe, france, south, north, america, germany, china, canada, australia\n",
            "musician: actress, actor, singer, author, writer, nine, seven, zero, politician, fact\n",
            "dance: country, addition, music, study, order, philosophy, traditional, art, development, spanish\n",
            "\n",
            "\n"
          ]
        },
        {
          "output_type": "stream",
          "name": "stderr",
          "text": [
            "1000it [00:12, 93.80it/s]"
          ]
        },
        {
          "output_type": "stream",
          "name": "stdout",
          "text": [
            "| epoch   2 |  1000/32580 batches | loss    1.375 \n",
            "money: fact, way, result, play, time, possible, even, others, use, well\n",
            "lion: father, addition, seven, died, four, president, sent, three, eight, five\n",
            "africa: india, europe, france, south, north, america, china, germany, canada, australia\n",
            "musician: actress, actor, singer, author, writer, nine, seven, zero, politician, fact\n",
            "dance: country, addition, music, study, order, philosophy, traditional, art, development, spanish\n",
            "\n",
            "\n"
          ]
        },
        {
          "output_type": "stream",
          "name": "stderr",
          "text": [
            "1500it [00:17, 94.93it/s]"
          ]
        },
        {
          "output_type": "stream",
          "name": "stdout",
          "text": [
            "| epoch   2 |  1500/32580 batches | loss    1.370 \n",
            "money: fact, way, result, play, time, possible, even, others, use, well\n",
            "lion: father, seven, addition, died, four, three, president, sent, eight, six\n",
            "africa: india, europe, france, south, north, america, china, germany, canada, australia\n",
            "musician: actress, actor, singer, author, writer, nine, seven, zero, politician, fact\n",
            "dance: country, addition, music, study, order, philosophy, traditional, art, development, spanish\n",
            "\n",
            "\n"
          ]
        },
        {
          "output_type": "stream",
          "name": "stderr",
          "text": [
            "2000it [00:23, 95.51it/s]"
          ]
        },
        {
          "output_type": "stream",
          "name": "stdout",
          "text": [
            "| epoch   2 |  2000/32580 batches | loss    1.369 \n",
            "money: fact, way, result, play, time, possible, even, use, others, well\n",
            "lion: father, seven, addition, died, four, three, president, sent, eight, six\n",
            "africa: india, europe, france, south, north, america, china, germany, canada, australia\n",
            "musician: actress, actor, singer, author, writer, nine, seven, zero, politician, fact\n",
            "dance: country, music, addition, study, order, philosophy, traditional, art, development, spanish\n",
            "\n",
            "\n"
          ]
        },
        {
          "output_type": "stream",
          "name": "stderr",
          "text": [
            "2499it [00:28, 94.49it/s]"
          ]
        },
        {
          "output_type": "stream",
          "name": "stdout",
          "text": [
            "| epoch   2 |  2500/32580 batches | loss    1.368 \n",
            "money: fact, way, result, play, time, possible, even, well, others, use\n",
            "lion: father, seven, addition, died, four, three, president, sent, eight, six\n",
            "africa: india, europe, france, south, north, america, china, germany, canada, australia\n",
            "musician: actress, actor, singer, author, writer, nine, seven, zero, politician, fact\n",
            "dance: country, music, addition, study, order, traditional, philosophy, art, spanish, development\n",
            "\n",
            "\n"
          ]
        },
        {
          "output_type": "stream",
          "name": "stderr",
          "text": [
            "2999it [00:34, 95.93it/s]"
          ]
        },
        {
          "output_type": "stream",
          "name": "stdout",
          "text": [
            "| epoch   2 |  3000/32580 batches | loss    1.368 \n",
            "money: fact, way, result, play, time, possible, even, well, others, use\n",
            "lion: father, seven, addition, died, four, president, three, sent, eight, six\n",
            "africa: india, europe, france, south, north, america, china, germany, canada, australia\n",
            "musician: actress, actor, singer, author, writer, nine, seven, zero, politician, fact\n",
            "dance: country, music, addition, study, order, philosophy, traditional, art, development, spanish\n",
            "\n",
            "\n"
          ]
        },
        {
          "output_type": "stream",
          "name": "stderr",
          "text": [
            "3499it [00:39, 94.56it/s]"
          ]
        },
        {
          "output_type": "stream",
          "name": "stdout",
          "text": [
            "| epoch   2 |  3500/32580 batches | loss    1.364 \n",
            "money: fact, way, result, play, time, possible, even, others, well, use\n",
            "lion: father, seven, addition, died, four, three, president, sent, eight, six\n",
            "africa: india, europe, france, south, north, america, china, germany, canada, australia\n",
            "musician: actress, actor, singer, author, writer, nine, seven, zero, politician, fact\n",
            "dance: country, music, addition, study, order, philosophy, traditional, art, development, popular\n",
            "\n",
            "\n"
          ]
        },
        {
          "output_type": "stream",
          "name": "stderr",
          "text": [
            "3998it [00:45, 94.35it/s]"
          ]
        },
        {
          "output_type": "stream",
          "name": "stdout",
          "text": [
            "| epoch   2 |  4000/32580 batches | loss    1.368 \n",
            "money: fact, way, result, play, time, possible, even, others, well, use\n",
            "lion: father, seven, addition, died, four, president, sent, three, eight, six\n",
            "africa: india, europe, france, south, north, america, china, germany, canada, australia\n",
            "musician: actress, actor, singer, author, writer, nine, seven, zero, politician, fact\n",
            "dance: country, music, addition, study, order, philosophy, traditional, art, development, popular\n",
            "\n",
            "\n"
          ]
        },
        {
          "output_type": "stream",
          "name": "stderr",
          "text": [
            "4498it [00:50, 95.30it/s]"
          ]
        },
        {
          "output_type": "stream",
          "name": "stdout",
          "text": [
            "| epoch   2 |  4500/32580 batches | loss    1.369 \n",
            "money: fact, way, result, play, time, possible, even, others, well, use\n",
            "lion: father, seven, addition, died, four, president, sent, three, eight, six\n",
            "africa: india, europe, france, south, north, america, china, germany, canada, australia\n",
            "musician: actress, actor, singer, author, writer, nine, seven, zero, politician, fact\n",
            "dance: country, music, addition, study, order, philosophy, traditional, art, development, popular\n",
            "\n",
            "\n"
          ]
        },
        {
          "output_type": "stream",
          "name": "stderr",
          "text": [
            "4998it [00:55, 94.91it/s]"
          ]
        },
        {
          "output_type": "stream",
          "name": "stdout",
          "text": [
            "| epoch   2 |  5000/32580 batches | loss    1.364 \n",
            "money: fact, way, result, play, time, possible, even, others, use, well\n",
            "lion: father, seven, addition, died, four, president, three, sent, eight, six\n",
            "africa: india, europe, france, south, north, america, china, germany, canada, australia\n",
            "musician: actress, actor, singer, author, writer, nine, zero, seven, politician, fact\n",
            "dance: country, music, addition, study, order, philosophy, traditional, art, development, popular\n",
            "\n",
            "\n"
          ]
        },
        {
          "output_type": "stream",
          "name": "stderr",
          "text": [
            "5497it [01:01, 95.05it/s]"
          ]
        },
        {
          "output_type": "stream",
          "name": "stdout",
          "text": [
            "| epoch   2 |  5500/32580 batches | loss    1.362 \n",
            "money: fact, way, result, play, time, possible, even, others, use, study\n",
            "lion: father, seven, addition, died, four, three, president, sent, eight, six\n",
            "africa: india, europe, france, south, north, america, china, germany, canada, australia\n",
            "musician: actress, actor, singer, author, writer, nine, zero, seven, politician, fact\n",
            "dance: country, music, addition, study, order, philosophy, traditional, art, development, popular\n",
            "\n",
            "\n"
          ]
        },
        {
          "output_type": "stream",
          "name": "stderr",
          "text": [
            "6007it [01:06, 67.88it/s]"
          ]
        },
        {
          "output_type": "stream",
          "name": "stdout",
          "text": [
            "| epoch   2 |  6000/32580 batches | loss    1.365 \n",
            "money: fact, way, result, play, time, possible, even, others, use, well\n",
            "lion: father, seven, addition, died, four, three, president, sent, eight, six\n",
            "africa: india, europe, france, south, north, america, china, germany, canada, australia\n",
            "musician: actress, actor, singer, author, writer, nine, zero, seven, politician, fact\n",
            "dance: country, music, addition, study, order, traditional, philosophy, art, development, spanish\n",
            "\n",
            "\n"
          ]
        },
        {
          "output_type": "stream",
          "name": "stderr",
          "text": [
            "6507it [01:12, 68.36it/s]"
          ]
        },
        {
          "output_type": "stream",
          "name": "stdout",
          "text": [
            "| epoch   2 |  6500/32580 batches | loss    1.366 \n",
            "money: fact, way, result, play, time, possible, even, others, well, use\n",
            "lion: father, seven, addition, died, four, president, three, sent, eight, six\n",
            "africa: india, europe, france, south, north, america, china, germany, canada, australia\n",
            "musician: actress, actor, singer, author, writer, nine, seven, zero, politician, fact\n",
            "dance: country, music, addition, study, order, traditional, philosophy, art, development, spanish\n",
            "\n",
            "\n"
          ]
        },
        {
          "output_type": "stream",
          "name": "stderr",
          "text": [
            "6997it [01:17, 94.91it/s]"
          ]
        },
        {
          "output_type": "stream",
          "name": "stdout",
          "text": [
            "| epoch   2 |  7000/32580 batches | loss    1.360 \n",
            "money: fact, way, result, play, time, even, possible, others, well, use\n",
            "lion: father, seven, addition, died, three, four, president, sent, eight, five\n",
            "africa: india, europe, france, south, north, america, china, germany, canada, australia\n",
            "musician: actress, actor, singer, author, writer, nine, seven, zero, politician, fact\n",
            "dance: country, music, addition, study, order, traditional, philosophy, art, development, spanish\n",
            "\n",
            "\n"
          ]
        },
        {
          "output_type": "stream",
          "name": "stderr",
          "text": [
            "7506it [01:23, 67.38it/s]"
          ]
        },
        {
          "output_type": "stream",
          "name": "stdout",
          "text": [
            "| epoch   2 |  7500/32580 batches | loss    1.362 \n",
            "money: fact, way, result, play, time, possible, even, others, use, well\n",
            "lion: father, seven, addition, died, four, three, president, sent, eight, six\n",
            "africa: india, europe, france, south, north, america, china, germany, canada, australia\n",
            "musician: actress, actor, singer, author, writer, nine, zero, seven, politician, fact\n",
            "dance: country, music, addition, study, order, traditional, philosophy, art, development, spanish\n",
            "\n",
            "\n"
          ]
        },
        {
          "output_type": "stream",
          "name": "stderr",
          "text": [
            "8006it [01:28, 69.31it/s]"
          ]
        },
        {
          "output_type": "stream",
          "name": "stdout",
          "text": [
            "| epoch   2 |  8000/32580 batches | loss    1.361 \n",
            "money: fact, way, result, play, time, even, possible, others, use, well\n",
            "lion: seven, father, addition, died, four, president, three, sent, eight, six\n",
            "africa: india, europe, france, south, north, america, china, germany, canada, australia\n",
            "musician: actress, actor, singer, author, writer, nine, seven, zero, politician, fact\n",
            "dance: country, music, addition, study, order, traditional, philosophy, art, development, spanish\n",
            "\n",
            "\n"
          ]
        },
        {
          "output_type": "stream",
          "name": "stderr",
          "text": [
            "8506it [01:34, 68.50it/s]"
          ]
        },
        {
          "output_type": "stream",
          "name": "stdout",
          "text": [
            "| epoch   2 |  8500/32580 batches | loss    1.359 \n",
            "money: fact, way, result, play, time, even, possible, others, use, well\n",
            "lion: father, seven, addition, died, four, three, president, sent, eight, six\n",
            "africa: india, europe, france, south, north, america, china, germany, canada, australia\n",
            "musician: actress, actor, singer, author, writer, nine, zero, seven, politician, fact\n",
            "dance: country, music, addition, study, order, traditional, philosophy, art, development, spanish\n",
            "\n",
            "\n"
          ]
        },
        {
          "output_type": "stream",
          "name": "stderr",
          "text": [
            "9006it [01:39, 67.96it/s]"
          ]
        },
        {
          "output_type": "stream",
          "name": "stdout",
          "text": [
            "| epoch   2 |  9000/32580 batches | loss    1.357 \n",
            "money: fact, way, result, play, time, even, possible, others, well, use\n",
            "lion: father, seven, addition, died, four, president, three, sent, eight, six\n",
            "africa: india, europe, france, south, north, america, china, germany, canada, australia\n",
            "musician: actress, actor, singer, author, writer, nine, zero, seven, politician, fact\n",
            "dance: country, music, addition, study, order, traditional, philosophy, art, development, spanish\n",
            "\n",
            "\n"
          ]
        },
        {
          "output_type": "stream",
          "name": "stderr",
          "text": [
            "9505it [01:44, 67.63it/s]"
          ]
        },
        {
          "output_type": "stream",
          "name": "stdout",
          "text": [
            "| epoch   2 |  9500/32580 batches | loss    1.362 \n",
            "money: fact, way, result, play, time, even, possible, others, well, use\n",
            "lion: father, seven, addition, died, four, president, three, sent, eight, six\n",
            "africa: india, europe, france, south, north, america, china, germany, canada, australia\n",
            "musician: actress, actor, singer, author, writer, nine, zero, seven, politician, fact\n",
            "dance: country, music, addition, study, order, traditional, philosophy, art, development, spanish\n",
            "\n",
            "\n"
          ]
        },
        {
          "output_type": "stream",
          "name": "stderr",
          "text": [
            "10004it [01:50, 68.96it/s]"
          ]
        },
        {
          "output_type": "stream",
          "name": "stdout",
          "text": [
            "| epoch   2 | 10000/32580 batches | loss    1.357 \n",
            "money: fact, way, result, play, time, even, possible, others, use, well\n",
            "lion: father, seven, addition, died, four, president, three, sent, eight, six\n",
            "africa: india, europe, france, south, north, america, china, germany, canada, australia\n",
            "musician: actress, actor, singer, author, writer, nine, zero, politician, seven, fact\n",
            "dance: country, music, addition, study, order, traditional, philosophy, art, development, spanish\n",
            "\n",
            "\n"
          ]
        },
        {
          "output_type": "stream",
          "name": "stderr",
          "text": [
            "10503it [01:55, 71.15it/s]"
          ]
        },
        {
          "output_type": "stream",
          "name": "stdout",
          "text": [
            "| epoch   2 | 10500/32580 batches | loss    1.356 \n",
            "money: fact, way, result, play, time, even, possible, well, others, use\n",
            "lion: father, addition, seven, died, four, three, president, sent, eight, six\n",
            "africa: india, europe, france, south, north, america, china, germany, canada, australia\n",
            "musician: actress, actor, singer, author, writer, nine, zero, politician, seven, fact\n",
            "dance: country, music, addition, study, order, traditional, art, philosophy, development, spanish\n",
            "\n",
            "\n"
          ]
        },
        {
          "output_type": "stream",
          "name": "stderr",
          "text": [
            "11002it [02:00, 70.52it/s]"
          ]
        },
        {
          "output_type": "stream",
          "name": "stdout",
          "text": [
            "| epoch   2 | 11000/32580 batches | loss    1.352 \n",
            "money: fact, way, result, play, time, even, possible, use, well, others\n",
            "lion: father, seven, addition, died, four, president, three, eight, sent, six\n",
            "africa: india, europe, france, south, north, america, china, germany, canada, australia\n",
            "musician: actress, actor, singer, author, writer, nine, zero, seven, politician, fact\n",
            "dance: country, music, addition, study, order, traditional, art, philosophy, development, spanish\n",
            "\n",
            "\n"
          ]
        },
        {
          "output_type": "stream",
          "name": "stderr",
          "text": [
            "11500it [02:06, 93.17it/s]"
          ]
        },
        {
          "output_type": "stream",
          "name": "stdout",
          "text": [
            "| epoch   2 | 11500/32580 batches | loss    1.357 \n",
            "money: fact, way, result, play, time, even, possible, well, use, others\n",
            "lion: father, seven, addition, died, three, four, president, eight, sent, six\n",
            "africa: india, europe, france, south, north, america, germany, china, canada, australia\n",
            "musician: actress, actor, singer, author, writer, nine, zero, seven, politician, fact\n",
            "dance: country, music, addition, study, order, traditional, art, philosophy, development, spanish\n",
            "\n",
            "\n"
          ]
        },
        {
          "output_type": "stream",
          "name": "stderr",
          "text": [
            "12000it [02:13, 90.49it/s]"
          ]
        },
        {
          "output_type": "stream",
          "name": "stdout",
          "text": [
            "| epoch   2 | 12000/32580 batches | loss    1.361 \n",
            "money: fact, way, result, play, time, even, possible, well, use, others\n",
            "lion: father, addition, seven, died, three, four, president, eight, sent, six\n",
            "africa: india, europe, france, south, north, america, china, germany, canada, australia\n",
            "musician: actress, actor, singer, author, writer, nine, zero, politician, seven, fact\n",
            "dance: country, music, addition, study, order, traditional, art, philosophy, spanish, development\n",
            "\n",
            "\n"
          ]
        },
        {
          "output_type": "stream",
          "name": "stderr",
          "text": [
            "12500it [02:19, 94.76it/s]"
          ]
        },
        {
          "output_type": "stream",
          "name": "stdout",
          "text": [
            "| epoch   2 | 12500/32580 batches | loss    1.355 \n",
            "money: fact, way, result, play, time, even, possible, use, well, others\n",
            "lion: father, addition, seven, died, three, four, president, eight, sent, six\n",
            "africa: india, europe, france, south, north, america, china, germany, canada, australia\n",
            "musician: actress, actor, singer, author, writer, nine, zero, politician, seven, fact\n",
            "dance: country, music, addition, study, order, traditional, art, philosophy, spanish, development\n",
            "\n",
            "\n"
          ]
        },
        {
          "output_type": "stream",
          "name": "stderr",
          "text": [
            "13000it [02:24, 94.49it/s]"
          ]
        },
        {
          "output_type": "stream",
          "name": "stdout",
          "text": [
            "| epoch   2 | 13000/32580 batches | loss    1.357 \n",
            "money: fact, way, result, play, time, even, possible, use, well, others\n",
            "lion: father, addition, seven, died, president, four, three, eight, sent, six\n",
            "africa: india, europe, france, south, north, america, china, germany, canada, australia\n",
            "musician: actress, actor, singer, author, writer, nine, zero, politician, seven, fact\n",
            "dance: country, music, addition, study, order, traditional, art, philosophy, spanish, popular\n",
            "\n",
            "\n"
          ]
        },
        {
          "output_type": "stream",
          "name": "stderr",
          "text": [
            "13500it [02:30, 95.54it/s]"
          ]
        },
        {
          "output_type": "stream",
          "name": "stdout",
          "text": [
            "| epoch   2 | 13500/32580 batches | loss    1.356 \n",
            "money: fact, way, result, play, time, even, possible, use, others, well\n",
            "lion: father, addition, seven, died, president, three, four, eight, sent, six\n",
            "africa: india, europe, france, south, north, america, china, germany, canada, australia\n",
            "musician: actress, actor, singer, author, writer, nine, zero, politician, seven, fact\n",
            "dance: country, music, addition, study, order, traditional, art, philosophy, spanish, development\n",
            "\n",
            "\n"
          ]
        },
        {
          "output_type": "stream",
          "name": "stderr",
          "text": [
            "13999it [02:35, 95.20it/s]"
          ]
        },
        {
          "output_type": "stream",
          "name": "stdout",
          "text": [
            "| epoch   2 | 14000/32580 batches | loss    1.354 \n",
            "money: fact, way, result, play, time, even, possible, use, well, others\n",
            "lion: father, seven, addition, died, president, four, three, eight, sent, six\n",
            "africa: india, europe, france, south, north, america, china, germany, canada, australia\n",
            "musician: actress, actor, singer, author, writer, nine, zero, politician, seven, fact\n",
            "dance: country, music, addition, study, order, traditional, art, philosophy, spanish, development\n",
            "\n",
            "\n"
          ]
        },
        {
          "output_type": "stream",
          "name": "stderr",
          "text": [
            "14499it [02:41, 94.08it/s]"
          ]
        },
        {
          "output_type": "stream",
          "name": "stdout",
          "text": [
            "| epoch   2 | 14500/32580 batches | loss    1.354 \n",
            "money: fact, way, result, play, time, even, possible, use, others, well\n",
            "lion: father, addition, seven, died, president, four, three, eight, sent, six\n",
            "africa: india, europe, france, south, north, america, china, germany, canada, australia\n",
            "musician: actress, actor, singer, author, writer, nine, zero, politician, seven, canadian\n",
            "dance: country, music, addition, study, order, traditional, art, philosophy, development, spanish\n",
            "\n",
            "\n"
          ]
        },
        {
          "output_type": "stream",
          "name": "stderr",
          "text": [
            "14999it [02:46, 95.50it/s]"
          ]
        },
        {
          "output_type": "stream",
          "name": "stdout",
          "text": [
            "| epoch   2 | 15000/32580 batches | loss    1.356 \n",
            "money: fact, way, result, play, time, even, possible, use, others, well\n",
            "lion: father, addition, seven, died, president, four, three, eight, sent, six\n",
            "africa: india, europe, france, south, north, america, china, germany, canada, australia\n",
            "musician: actress, actor, singer, author, writer, nine, zero, politician, seven, canadian\n",
            "dance: country, music, addition, study, order, traditional, art, philosophy, spanish, development\n",
            "\n",
            "\n"
          ]
        },
        {
          "output_type": "stream",
          "name": "stderr",
          "text": [
            "15499it [02:51, 95.30it/s]"
          ]
        },
        {
          "output_type": "stream",
          "name": "stdout",
          "text": [
            "| epoch   2 | 15500/32580 batches | loss    1.358 \n",
            "money: fact, way, result, play, time, even, possible, use, others, well\n",
            "lion: father, addition, seven, died, four, president, three, eight, sent, six\n",
            "africa: india, europe, france, south, north, america, germany, china, canada, australia\n",
            "musician: actress, actor, singer, author, writer, nine, zero, politician, seven, canadian\n",
            "dance: country, music, addition, study, order, traditional, art, philosophy, spanish, development\n",
            "\n",
            "\n"
          ]
        },
        {
          "output_type": "stream",
          "name": "stderr",
          "text": [
            "15999it [02:57, 96.11it/s]"
          ]
        },
        {
          "output_type": "stream",
          "name": "stdout",
          "text": [
            "| epoch   2 | 16000/32580 batches | loss    1.356 \n",
            "money: fact, way, result, play, time, even, possible, use, others, well\n",
            "lion: father, addition, seven, died, four, president, three, eight, sent, six\n",
            "africa: india, europe, france, south, north, america, germany, china, canada, australia\n",
            "musician: actress, actor, singer, author, writer, nine, zero, politician, seven, canadian\n",
            "dance: country, music, addition, study, order, traditional, art, philosophy, development, spanish\n",
            "\n",
            "\n"
          ]
        },
        {
          "output_type": "stream",
          "name": "stderr",
          "text": [
            "16499it [03:02, 93.56it/s]"
          ]
        },
        {
          "output_type": "stream",
          "name": "stdout",
          "text": [
            "| epoch   2 | 16500/32580 batches | loss    1.356 \n",
            "money: fact, way, result, play, time, even, possible, use, others, well\n",
            "lion: seven, father, addition, died, president, four, three, eight, sent, six\n",
            "africa: india, europe, france, south, north, america, germany, china, canada, australia\n",
            "musician: actress, actor, singer, author, writer, nine, politician, zero, seven, canadian\n",
            "dance: country, music, addition, study, order, traditional, art, philosophy, development, spanish\n",
            "\n",
            "\n"
          ]
        },
        {
          "output_type": "stream",
          "name": "stderr",
          "text": [
            "16999it [03:08, 94.41it/s]"
          ]
        },
        {
          "output_type": "stream",
          "name": "stdout",
          "text": [
            "| epoch   2 | 17000/32580 batches | loss    1.356 \n",
            "money: fact, way, result, play, time, even, possible, use, others, well\n",
            "lion: seven, father, addition, died, president, four, three, eight, six, sent\n",
            "africa: india, europe, france, south, north, america, germany, china, canada, australia\n",
            "musician: actress, actor, singer, author, writer, nine, zero, politician, seven, canadian\n",
            "dance: country, music, addition, study, order, traditional, art, philosophy, development, spanish\n",
            "\n",
            "\n"
          ]
        },
        {
          "output_type": "stream",
          "name": "stderr",
          "text": [
            "17499it [03:13, 95.00it/s]"
          ]
        },
        {
          "output_type": "stream",
          "name": "stdout",
          "text": [
            "| epoch   2 | 17500/32580 batches | loss    1.350 \n",
            "money: fact, way, result, play, time, even, possible, use, others, it\n",
            "lion: seven, father, addition, died, president, four, three, eight, sent, six\n",
            "africa: india, europe, france, south, north, america, germany, china, canada, australia\n",
            "musician: actress, actor, singer, author, writer, nine, zero, politician, seven, canadian\n",
            "dance: country, music, addition, study, order, traditional, art, philosophy, development, spanish\n",
            "\n",
            "\n"
          ]
        },
        {
          "output_type": "stream",
          "name": "stderr",
          "text": [
            "17999it [03:19, 95.13it/s]"
          ]
        },
        {
          "output_type": "stream",
          "name": "stdout",
          "text": [
            "| epoch   2 | 18000/32580 batches | loss    1.349 \n",
            "money: fact, way, result, play, time, even, possible, use, others, well\n",
            "lion: seven, father, addition, died, president, four, three, sent, eight, six\n",
            "africa: india, europe, france, south, north, america, germany, china, canada, australia\n",
            "musician: actress, actor, singer, author, writer, nine, zero, politician, seven, canadian\n",
            "dance: country, music, addition, study, order, traditional, art, philosophy, development, spanish\n",
            "\n",
            "\n"
          ]
        },
        {
          "output_type": "stream",
          "name": "stderr",
          "text": [
            "18498it [03:24, 94.26it/s]"
          ]
        },
        {
          "output_type": "stream",
          "name": "stdout",
          "text": [
            "| epoch   2 | 18500/32580 batches | loss    1.351 \n",
            "money: fact, way, result, play, time, even, possible, use, others, it\n",
            "lion: father, seven, addition, died, president, four, three, eight, sent, six\n",
            "africa: india, europe, france, south, north, america, germany, china, canada, australia\n",
            "musician: actress, actor, singer, author, writer, nine, politician, zero, seven, five\n",
            "dance: country, music, addition, study, order, traditional, art, philosophy, spanish, development\n",
            "\n",
            "\n"
          ]
        },
        {
          "output_type": "stream",
          "name": "stderr",
          "text": [
            "18998it [03:29, 95.94it/s]"
          ]
        },
        {
          "output_type": "stream",
          "name": "stdout",
          "text": [
            "| epoch   2 | 19000/32580 batches | loss    1.353 \n",
            "money: fact, way, result, play, time, even, possible, use, others, it\n",
            "lion: father, seven, addition, died, president, four, three, eight, sent, six\n",
            "africa: india, europe, france, south, north, america, germany, china, canada, australia\n",
            "musician: actress, actor, singer, author, writer, nine, politician, zero, seven, canadian\n",
            "dance: country, music, addition, study, order, traditional, art, philosophy, development, spanish\n",
            "\n",
            "\n"
          ]
        },
        {
          "output_type": "stream",
          "name": "stderr",
          "text": [
            "19498it [03:35, 94.07it/s]"
          ]
        },
        {
          "output_type": "stream",
          "name": "stdout",
          "text": [
            "| epoch   2 | 19500/32580 batches | loss    1.350 \n",
            "money: fact, way, result, play, time, even, possible, use, others, it\n",
            "lion: father, seven, addition, died, president, three, four, eight, sent, six\n",
            "africa: india, europe, france, south, north, america, germany, china, canada, australia\n",
            "musician: actress, actor, singer, author, writer, nine, politician, zero, seven, canadian\n",
            "dance: country, music, addition, study, order, traditional, art, philosophy, development, spanish\n",
            "\n",
            "\n"
          ]
        },
        {
          "output_type": "stream",
          "name": "stderr",
          "text": [
            "20007it [03:40, 67.80it/s]"
          ]
        },
        {
          "output_type": "stream",
          "name": "stdout",
          "text": [
            "| epoch   2 | 20000/32580 batches | loss    1.350 \n",
            "money: fact, way, result, play, time, even, possible, others, it, use\n",
            "lion: father, seven, addition, died, president, three, four, eight, sent, six\n",
            "africa: india, europe, france, south, north, america, germany, china, canada, australia\n",
            "musician: actress, actor, singer, author, writer, nine, politician, zero, seven, canadian\n",
            "dance: country, music, addition, study, order, traditional, art, philosophy, development, spanish\n",
            "\n",
            "\n"
          ]
        },
        {
          "output_type": "stream",
          "name": "stderr",
          "text": [
            "20507it [03:46, 68.45it/s]"
          ]
        },
        {
          "output_type": "stream",
          "name": "stdout",
          "text": [
            "| epoch   2 | 20500/32580 batches | loss    1.350 \n",
            "money: fact, way, result, play, time, even, possible, others, use, it\n",
            "lion: seven, father, addition, died, president, four, eight, three, sent, six\n",
            "africa: india, europe, france, south, north, america, germany, china, canada, australia\n",
            "musician: actress, actor, singer, author, writer, nine, politician, zero, seven, five\n",
            "dance: country, music, addition, study, order, traditional, art, philosophy, development, spanish\n",
            "\n",
            "\n"
          ]
        },
        {
          "output_type": "stream",
          "name": "stderr",
          "text": [
            "21007it [03:51, 67.76it/s]"
          ]
        },
        {
          "output_type": "stream",
          "name": "stdout",
          "text": [
            "| epoch   2 | 21000/32580 batches | loss    1.350 \n",
            "money: fact, way, result, play, time, even, possible, it, use, others\n",
            "lion: seven, father, addition, died, president, four, three, eight, sent, six\n",
            "africa: india, europe, france, south, north, america, germany, china, canada, australia\n",
            "musician: actress, actor, singer, author, writer, nine, politician, zero, seven, five\n",
            "dance: country, music, addition, study, traditional, order, art, philosophy, development, spanish\n",
            "\n",
            "\n"
          ]
        },
        {
          "output_type": "stream",
          "name": "stderr",
          "text": [
            "21506it [03:57, 68.11it/s]"
          ]
        },
        {
          "output_type": "stream",
          "name": "stdout",
          "text": [
            "| epoch   2 | 21500/32580 batches | loss    1.349 \n",
            "money: fact, way, result, play, time, even, possible, others, use, it\n",
            "lion: seven, father, addition, died, president, four, eight, three, sent, six\n",
            "africa: india, europe, france, south, north, america, germany, china, canada, australia\n",
            "musician: actress, actor, singer, author, writer, nine, politician, zero, seven, canadian\n",
            "dance: music, country, addition, study, traditional, order, art, philosophy, development, spanish\n",
            "\n",
            "\n"
          ]
        },
        {
          "output_type": "stream",
          "name": "stderr",
          "text": [
            "22006it [04:02, 67.90it/s]"
          ]
        },
        {
          "output_type": "stream",
          "name": "stdout",
          "text": [
            "| epoch   2 | 22000/32580 batches | loss    1.350 \n",
            "money: fact, way, result, play, time, even, possible, others, use, it\n",
            "lion: seven, father, addition, died, president, three, four, eight, sent, six\n",
            "africa: india, europe, france, south, north, america, germany, china, canada, australia\n",
            "musician: actress, actor, singer, author, writer, nine, politician, zero, seven, canadian\n",
            "dance: music, country, addition, study, traditional, order, art, philosophy, development, spanish\n",
            "\n",
            "\n"
          ]
        },
        {
          "output_type": "stream",
          "name": "stderr",
          "text": [
            "22506it [04:07, 68.31it/s]"
          ]
        },
        {
          "output_type": "stream",
          "name": "stdout",
          "text": [
            "| epoch   2 | 22500/32580 batches | loss    1.351 \n",
            "money: fact, way, result, play, time, even, possible, others, use, well\n",
            "lion: seven, father, addition, died, president, three, eight, four, sent, six\n",
            "africa: india, europe, france, south, north, america, germany, china, canada, australia\n",
            "musician: actress, actor, singer, author, writer, nine, politician, zero, seven, canadian\n",
            "dance: music, country, addition, study, traditional, art, order, philosophy, development, spanish\n",
            "\n",
            "\n"
          ]
        },
        {
          "output_type": "stream",
          "name": "stderr",
          "text": [
            "23006it [04:13, 67.51it/s]"
          ]
        },
        {
          "output_type": "stream",
          "name": "stdout",
          "text": [
            "| epoch   2 | 23000/32580 batches | loss    1.349 \n",
            "money: fact, way, result, play, time, even, possible, others, well, use\n",
            "lion: father, seven, addition, died, president, three, eight, four, sent, six\n",
            "africa: india, europe, france, south, north, america, germany, china, canada, australia\n",
            "musician: actress, actor, singer, author, writer, nine, politician, zero, seven, five\n",
            "dance: music, country, addition, study, traditional, art, order, philosophy, development, spanish\n",
            "\n",
            "\n"
          ]
        },
        {
          "output_type": "stream",
          "name": "stderr",
          "text": [
            "23505it [04:18, 68.87it/s]"
          ]
        },
        {
          "output_type": "stream",
          "name": "stdout",
          "text": [
            "| epoch   2 | 23500/32580 batches | loss    1.346 \n",
            "money: fact, way, result, play, time, even, possible, others, well, use\n",
            "lion: father, seven, addition, died, president, three, four, eight, sent, six\n",
            "africa: india, europe, france, south, north, america, china, germany, canada, australia\n",
            "musician: actress, actor, singer, author, writer, politician, nine, zero, seven, five\n",
            "dance: music, country, addition, study, traditional, art, order, philosophy, development, spanish\n",
            "\n",
            "\n"
          ]
        },
        {
          "output_type": "stream",
          "name": "stderr",
          "text": [
            "24004it [04:24, 70.07it/s]"
          ]
        },
        {
          "output_type": "stream",
          "name": "stdout",
          "text": [
            "| epoch   2 | 24000/32580 batches | loss    1.348 \n",
            "money: fact, way, result, play, time, even, possible, others, use, well\n",
            "lion: seven, father, addition, died, president, four, eight, three, sent, six\n",
            "africa: india, europe, france, south, north, america, china, germany, canada, australia\n",
            "musician: actress, actor, singer, author, writer, politician, nine, zero, seven, five\n",
            "dance: music, country, addition, study, traditional, art, order, philosophy, development, spanish\n",
            "\n",
            "\n"
          ]
        },
        {
          "output_type": "stream",
          "name": "stderr",
          "text": [
            "24503it [04:29, 70.52it/s]"
          ]
        },
        {
          "output_type": "stream",
          "name": "stdout",
          "text": [
            "| epoch   2 | 24500/32580 batches | loss    1.346 \n",
            "money: fact, way, result, play, time, even, possible, it, others, well\n",
            "lion: seven, father, addition, died, president, eight, four, three, sent, six\n",
            "africa: india, europe, france, south, north, america, china, germany, canada, australia\n",
            "musician: actress, actor, singer, author, writer, politician, nine, zero, seven, five\n",
            "dance: music, country, addition, study, traditional, art, order, philosophy, development, spanish\n",
            "\n",
            "\n"
          ]
        },
        {
          "output_type": "stream",
          "name": "stderr",
          "text": [
            "25000it [04:34, 94.34it/s]"
          ]
        },
        {
          "output_type": "stream",
          "name": "stdout",
          "text": [
            "| epoch   2 | 25000/32580 batches | loss    1.345 \n",
            "money: fact, way, result, play, time, even, possible, it, others, well\n",
            "lion: seven, father, addition, died, president, four, eight, three, six, sent\n",
            "africa: india, europe, france, south, north, america, china, germany, canada, australia\n",
            "musician: actress, actor, singer, author, writer, politician, zero, nine, seven, canadian\n",
            "dance: music, country, addition, study, traditional, art, order, philosophy, development, spanish\n",
            "\n",
            "\n"
          ]
        },
        {
          "output_type": "stream",
          "name": "stderr",
          "text": [
            "25500it [04:40, 95.47it/s]"
          ]
        },
        {
          "output_type": "stream",
          "name": "stdout",
          "text": [
            "| epoch   2 | 25500/32580 batches | loss    1.344 \n",
            "money: fact, way, result, play, time, even, possible, it, others, well\n",
            "lion: seven, father, addition, died, four, president, eight, three, six, sent\n",
            "africa: india, europe, france, south, north, america, china, germany, canada, australia\n",
            "musician: actress, actor, singer, author, writer, politician, nine, zero, seven, canadian\n",
            "dance: music, country, addition, study, traditional, art, order, philosophy, development, spanish\n",
            "\n",
            "\n"
          ]
        },
        {
          "output_type": "stream",
          "name": "stderr",
          "text": [
            "25999it [04:45, 95.31it/s]"
          ]
        },
        {
          "output_type": "stream",
          "name": "stdout",
          "text": [
            "| epoch   2 | 26000/32580 batches | loss    1.344 \n",
            "money: fact, way, result, play, time, even, possible, it, others, well\n",
            "lion: seven, father, addition, four, died, president, eight, three, six, sent\n",
            "africa: india, europe, france, south, north, america, germany, china, canada, australia\n",
            "musician: actress, actor, singer, author, writer, politician, nine, zero, seven, five\n",
            "dance: music, country, addition, study, traditional, art, order, philosophy, spanish, development\n",
            "\n",
            "\n"
          ]
        },
        {
          "output_type": "stream",
          "name": "stderr",
          "text": [
            "26498it [04:51, 94.90it/s]"
          ]
        },
        {
          "output_type": "stream",
          "name": "stdout",
          "text": [
            "| epoch   2 | 26500/32580 batches | loss    1.346 \n",
            "money: fact, way, result, play, time, even, possible, it, others, well\n",
            "lion: seven, father, addition, four, died, president, eight, three, sent, six\n",
            "africa: india, europe, france, south, north, america, china, germany, canada, australia\n",
            "musician: actress, actor, singer, author, writer, politician, nine, zero, seven, five\n",
            "dance: music, country, addition, study, traditional, art, order, philosophy, spanish, development\n",
            "\n",
            "\n"
          ]
        },
        {
          "output_type": "stream",
          "name": "stderr",
          "text": [
            "26998it [04:56, 94.91it/s]"
          ]
        },
        {
          "output_type": "stream",
          "name": "stdout",
          "text": [
            "| epoch   2 | 27000/32580 batches | loss    1.347 \n",
            "money: fact, way, result, play, time, even, it, possible, others, well\n",
            "lion: seven, father, addition, died, four, president, eight, three, sent, six\n",
            "africa: india, europe, france, south, north, america, china, germany, canada, australia\n",
            "musician: actress, actor, singer, author, writer, politician, nine, zero, seven, canadian\n",
            "dance: music, country, addition, study, traditional, art, order, philosophy, spanish, development\n",
            "\n",
            "\n"
          ]
        },
        {
          "output_type": "stream",
          "name": "stderr",
          "text": [
            "27497it [05:01, 94.36it/s]"
          ]
        },
        {
          "output_type": "stream",
          "name": "stdout",
          "text": [
            "| epoch   2 | 27500/32580 batches | loss    1.346 \n",
            "money: fact, way, result, play, time, even, it, possible, others, well\n",
            "lion: seven, father, addition, died, president, four, eight, three, sent, six\n",
            "africa: india, europe, france, south, north, america, china, germany, canada, australia\n",
            "musician: actress, actor, singer, author, writer, politician, nine, zero, seven, canadian\n",
            "dance: music, country, addition, study, traditional, art, order, philosophy, spanish, development\n",
            "\n",
            "\n"
          ]
        },
        {
          "output_type": "stream",
          "name": "stderr",
          "text": [
            "28006it [05:07, 68.59it/s]"
          ]
        },
        {
          "output_type": "stream",
          "name": "stdout",
          "text": [
            "| epoch   2 | 28000/32580 batches | loss    1.348 \n",
            "money: fact, way, result, play, time, even, it, possible, others, well\n",
            "lion: seven, father, addition, died, president, four, eight, three, sent, six\n",
            "africa: india, europe, france, south, north, america, china, germany, canada, australia\n",
            "musician: actress, actor, singer, author, writer, politician, nine, zero, seven, canadian\n",
            "dance: music, country, addition, study, traditional, art, order, philosophy, spanish, development\n",
            "\n",
            "\n"
          ]
        },
        {
          "output_type": "stream",
          "name": "stderr",
          "text": [
            "28504it [05:12, 70.02it/s]"
          ]
        },
        {
          "output_type": "stream",
          "name": "stdout",
          "text": [
            "| epoch   2 | 28500/32580 batches | loss    1.345 \n",
            "money: fact, way, result, play, time, even, it, possible, others, well\n",
            "lion: seven, father, addition, died, president, four, eight, three, sent, six\n",
            "africa: india, europe, france, south, north, america, germany, china, canada, australia\n",
            "musician: actress, actor, singer, author, writer, politician, nine, zero, seven, canadian\n",
            "dance: music, country, addition, study, traditional, art, order, philosophy, spanish, development\n",
            "\n",
            "\n"
          ]
        },
        {
          "output_type": "stream",
          "name": "stderr",
          "text": [
            "29003it [05:18, 69.13it/s]"
          ]
        },
        {
          "output_type": "stream",
          "name": "stdout",
          "text": [
            "| epoch   2 | 29000/32580 batches | loss    1.347 \n",
            "money: fact, way, result, play, time, even, it, possible, others, well\n",
            "lion: seven, father, addition, died, four, president, eight, three, six, sent\n",
            "africa: india, europe, france, south, north, america, germany, china, canada, australia\n",
            "musician: actress, actor, singer, author, writer, politician, nine, zero, seven, canadian\n",
            "dance: music, country, addition, study, traditional, art, order, philosophy, spanish, development\n",
            "\n",
            "\n"
          ]
        },
        {
          "output_type": "stream",
          "name": "stderr",
          "text": [
            "29501it [05:23, 71.66it/s]"
          ]
        },
        {
          "output_type": "stream",
          "name": "stdout",
          "text": [
            "| epoch   2 | 29500/32580 batches | loss    1.345 \n",
            "money: fact, way, result, play, time, even, it, possible, others, well\n",
            "lion: seven, father, addition, died, four, president, eight, three, six, sent\n",
            "africa: india, europe, france, south, north, america, germany, china, canada, australia\n",
            "musician: actress, actor, singer, author, writer, politician, nine, zero, seven, canadian\n",
            "dance: music, country, addition, study, traditional, art, order, philosophy, spanish, popular\n",
            "\n",
            "\n"
          ]
        },
        {
          "output_type": "stream",
          "name": "stderr",
          "text": [
            "29998it [05:29, 95.11it/s]"
          ]
        },
        {
          "output_type": "stream",
          "name": "stdout",
          "text": [
            "| epoch   2 | 30000/32580 batches | loss    1.346 \n",
            "money: fact, way, result, play, time, even, it, possible, others, well\n",
            "lion: seven, father, addition, died, president, four, eight, three, six, sent\n",
            "africa: india, europe, france, south, north, america, china, germany, canada, australia\n",
            "musician: actress, actor, singer, author, writer, politician, nine, zero, seven, canadian\n",
            "dance: music, country, addition, study, traditional, art, order, philosophy, spanish, development\n",
            "\n",
            "\n"
          ]
        },
        {
          "output_type": "stream",
          "name": "stderr",
          "text": [
            "30498it [05:34, 95.19it/s]"
          ]
        },
        {
          "output_type": "stream",
          "name": "stdout",
          "text": [
            "| epoch   2 | 30500/32580 batches | loss    1.342 \n",
            "money: fact, way, result, play, time, even, it, possible, others, well\n",
            "lion: seven, addition, father, died, president, four, eight, six, three, sent\n",
            "africa: india, europe, france, south, north, america, china, germany, canada, australia\n",
            "musician: actress, actor, singer, author, writer, politician, nine, zero, seven, canadian\n",
            "dance: music, country, addition, study, traditional, art, order, philosophy, spanish, popular\n",
            "\n",
            "\n"
          ]
        },
        {
          "output_type": "stream",
          "name": "stderr",
          "text": [
            "30998it [05:39, 92.78it/s]"
          ]
        },
        {
          "output_type": "stream",
          "name": "stdout",
          "text": [
            "| epoch   2 | 31000/32580 batches | loss    1.346 \n",
            "money: fact, way, result, play, time, even, it, possible, others, well\n",
            "lion: seven, addition, father, died, president, four, eight, six, sent, three\n",
            "africa: india, europe, france, south, north, america, germany, china, canada, australia\n",
            "musician: actress, actor, singer, author, writer, politician, nine, zero, seven, canadian\n",
            "dance: music, country, addition, study, traditional, art, order, philosophy, spanish, popular\n",
            "\n",
            "\n"
          ]
        },
        {
          "output_type": "stream",
          "name": "stderr",
          "text": [
            "31498it [05:45, 94.85it/s]"
          ]
        },
        {
          "output_type": "stream",
          "name": "stdout",
          "text": [
            "| epoch   2 | 31500/32580 batches | loss    1.348 \n",
            "money: fact, way, result, play, time, even, it, possible, others, well\n",
            "lion: seven, addition, father, died, president, four, eight, three, six, sent\n",
            "africa: india, europe, france, south, north, america, china, germany, canada, australia\n",
            "musician: actress, actor, singer, author, writer, politician, nine, zero, seven, canadian\n",
            "dance: music, country, addition, study, traditional, art, order, philosophy, spanish, popular\n",
            "\n",
            "\n"
          ]
        },
        {
          "output_type": "stream",
          "name": "stderr",
          "text": [
            "32007it [05:50, 66.37it/s]"
          ]
        },
        {
          "output_type": "stream",
          "name": "stdout",
          "text": [
            "| epoch   2 | 32000/32580 batches | loss    1.346 \n",
            "money: fact, way, result, play, time, even, it, possible, others, well\n",
            "lion: seven, addition, father, died, president, four, three, eight, six, sent\n",
            "africa: india, europe, france, south, north, america, china, germany, canada, australia\n",
            "musician: actress, actor, singer, author, writer, politician, nine, zero, seven, canadian\n",
            "dance: music, country, addition, study, traditional, art, order, philosophy, spanish, popular\n",
            "\n",
            "\n"
          ]
        },
        {
          "output_type": "stream",
          "name": "stderr",
          "text": [
            "32497it [05:56, 94.41it/s]"
          ]
        },
        {
          "output_type": "stream",
          "name": "stdout",
          "text": [
            "| epoch   2 | 32500/32580 batches | loss    1.344 \n",
            "money: fact, way, result, play, time, even, it, possible, others, well\n",
            "lion: seven, addition, father, died, president, four, three, eight, six, sent\n",
            "africa: india, europe, france, south, north, america, germany, china, canada, australia\n",
            "musician: actress, actor, singer, author, writer, politician, nine, zero, seven, canadian\n",
            "dance: music, country, addition, study, traditional, art, order, philosophy, spanish, popular\n",
            "\n",
            "\n"
          ]
        },
        {
          "output_type": "stream",
          "name": "stderr",
          "text": [
            "32580it [05:58, 90.78it/s]\n",
            "1it [00:01,  1.72s/it]"
          ]
        },
        {
          "output_type": "stream",
          "name": "stdout",
          "text": [
            "| epoch   3 |     0/32580 batches | loss    1.289 \n",
            "money: fact, way, result, play, time, even, it, possible, others, well\n",
            "lion: seven, addition, father, died, president, four, three, eight, six, sent\n",
            "africa: india, europe, france, south, north, america, germany, china, canada, australia\n",
            "musician: actress, actor, singer, author, writer, politician, nine, zero, seven, canadian\n",
            "dance: music, country, addition, study, traditional, art, order, philosophy, spanish, popular\n",
            "\n",
            "\n"
          ]
        },
        {
          "output_type": "stream",
          "name": "stderr",
          "text": [
            "498it [00:06, 94.60it/s]"
          ]
        },
        {
          "output_type": "stream",
          "name": "stdout",
          "text": [
            "| epoch   3 |   500/32580 batches | loss    1.336 \n",
            "money: fact, way, result, play, time, even, it, possible, others, well\n",
            "lion: seven, addition, father, died, president, four, three, eight, six, sent\n",
            "africa: india, europe, france, south, north, america, germany, china, canada, australia\n",
            "musician: actress, actor, singer, author, writer, politician, nine, zero, seven, canadian\n",
            "dance: music, country, addition, study, traditional, art, order, philosophy, spanish, popular\n",
            "\n",
            "\n"
          ]
        },
        {
          "output_type": "stream",
          "name": "stderr",
          "text": [
            "998it [00:12, 94.18it/s]"
          ]
        },
        {
          "output_type": "stream",
          "name": "stdout",
          "text": [
            "| epoch   3 |  1000/32580 batches | loss    1.335 \n",
            "money: fact, way, result, play, time, even, it, possible, others, well\n",
            "lion: seven, addition, father, died, president, four, three, eight, six, sent\n",
            "africa: india, europe, france, south, north, america, germany, china, canada, australia\n",
            "musician: actress, actor, singer, author, writer, politician, nine, zero, seven, canadian\n",
            "dance: music, country, addition, study, traditional, art, order, philosophy, spanish, popular\n",
            "\n",
            "\n"
          ]
        },
        {
          "output_type": "stream",
          "name": "stderr",
          "text": [
            "1497it [00:17, 95.74it/s]"
          ]
        },
        {
          "output_type": "stream",
          "name": "stdout",
          "text": [
            "| epoch   3 |  1500/32580 batches | loss    1.333 \n",
            "money: fact, way, result, play, time, even, it, possible, others, well\n",
            "lion: seven, addition, father, died, president, four, three, eight, six, sent\n",
            "africa: india, europe, france, south, north, america, germany, china, canada, australia\n",
            "musician: actress, actor, singer, author, writer, politician, nine, zero, seven, canadian\n",
            "dance: music, country, addition, study, traditional, art, order, philosophy, spanish, popular\n",
            "\n",
            "\n"
          ]
        },
        {
          "output_type": "stream",
          "name": "stderr",
          "text": [
            "1997it [00:23, 94.14it/s]"
          ]
        },
        {
          "output_type": "stream",
          "name": "stdout",
          "text": [
            "| epoch   3 |  2000/32580 batches | loss    1.335 \n",
            "money: fact, way, result, play, time, even, it, possible, others, well\n",
            "lion: seven, addition, father, died, president, four, three, eight, six, sent\n",
            "africa: india, europe, france, south, north, america, germany, china, canada, australia\n",
            "musician: actress, actor, singer, author, writer, politician, nine, zero, seven, canadian\n",
            "dance: music, country, addition, study, traditional, art, order, philosophy, spanish, popular\n",
            "\n",
            "\n"
          ]
        },
        {
          "output_type": "stream",
          "name": "stderr",
          "text": [
            "2507it [00:28, 67.87it/s]"
          ]
        },
        {
          "output_type": "stream",
          "name": "stdout",
          "text": [
            "| epoch   3 |  2500/32580 batches | loss    1.334 \n",
            "money: fact, way, result, play, time, even, it, possible, others, well\n",
            "lion: seven, addition, father, died, president, four, three, eight, six, sent\n",
            "africa: india, europe, france, south, north, america, china, germany, canada, australia\n",
            "musician: actress, actor, singer, author, writer, politician, nine, zero, seven, canadian\n",
            "dance: music, country, addition, study, traditional, art, order, philosophy, spanish, popular\n",
            "\n",
            "\n"
          ]
        },
        {
          "output_type": "stream",
          "name": "stderr",
          "text": [
            "3006it [00:36, 67.91it/s]"
          ]
        },
        {
          "output_type": "stream",
          "name": "stdout",
          "text": [
            "| epoch   3 |  3000/32580 batches | loss    1.332 \n",
            "money: fact, way, result, play, time, even, it, possible, others, well\n",
            "lion: seven, addition, father, died, president, four, three, eight, six, sent\n",
            "africa: india, europe, france, south, north, america, china, germany, canada, australia\n",
            "musician: actress, actor, singer, author, writer, politician, nine, zero, seven, canadian\n",
            "dance: music, country, addition, study, traditional, art, order, philosophy, spanish, popular\n",
            "\n",
            "\n"
          ]
        },
        {
          "output_type": "stream",
          "name": "stderr",
          "text": [
            "3504it [00:41, 68.65it/s]"
          ]
        },
        {
          "output_type": "stream",
          "name": "stdout",
          "text": [
            "| epoch   3 |  3500/32580 batches | loss    1.330 \n",
            "money: fact, way, result, play, time, even, it, possible, others, well\n",
            "lion: seven, addition, father, died, president, four, three, eight, six, sent\n",
            "africa: india, europe, france, south, north, america, china, germany, canada, australia\n",
            "musician: actress, actor, singer, author, writer, politician, nine, zero, seven, canadian\n",
            "dance: music, country, addition, study, traditional, art, order, philosophy, spanish, popular\n",
            "\n",
            "\n"
          ]
        },
        {
          "output_type": "stream",
          "name": "stderr",
          "text": [
            "4003it [00:47, 70.42it/s]"
          ]
        },
        {
          "output_type": "stream",
          "name": "stdout",
          "text": [
            "| epoch   3 |  4000/32580 batches | loss    1.333 \n",
            "money: fact, way, result, play, time, even, it, possible, others, well\n",
            "lion: seven, addition, father, died, president, four, three, eight, six, sent\n",
            "africa: india, europe, france, south, north, america, china, germany, canada, australia\n",
            "musician: actress, actor, singer, author, writer, politician, nine, zero, seven, canadian\n",
            "dance: music, country, addition, study, traditional, art, order, philosophy, spanish, popular\n",
            "\n",
            "\n"
          ]
        },
        {
          "output_type": "stream",
          "name": "stderr",
          "text": [
            "4501it [00:52, 71.47it/s]"
          ]
        },
        {
          "output_type": "stream",
          "name": "stdout",
          "text": [
            "| epoch   3 |  4500/32580 batches | loss    1.337 \n",
            "money: fact, way, result, play, time, even, it, possible, others, well\n",
            "lion: seven, addition, father, died, president, four, three, eight, six, sent\n",
            "africa: india, europe, france, south, north, america, china, germany, canada, australia\n",
            "musician: actress, actor, singer, author, writer, politician, nine, zero, seven, canadian\n",
            "dance: music, country, addition, study, traditional, art, order, philosophy, spanish, popular\n",
            "\n",
            "\n"
          ]
        },
        {
          "output_type": "stream",
          "name": "stderr",
          "text": [
            "5000it [00:58, 96.36it/s]"
          ]
        },
        {
          "output_type": "stream",
          "name": "stdout",
          "text": [
            "| epoch   3 |  5000/32580 batches | loss    1.338 \n",
            "money: fact, way, result, play, time, even, it, possible, others, well\n",
            "lion: seven, addition, father, died, president, four, three, eight, six, sent\n",
            "africa: india, europe, france, south, north, america, china, germany, canada, australia\n",
            "musician: actress, actor, singer, author, writer, politician, nine, zero, seven, canadian\n",
            "dance: music, country, addition, study, traditional, art, order, philosophy, spanish, popular\n",
            "\n",
            "\n"
          ]
        },
        {
          "output_type": "stream",
          "name": "stderr",
          "text": [
            "5500it [01:03, 94.91it/s]"
          ]
        },
        {
          "output_type": "stream",
          "name": "stdout",
          "text": [
            "| epoch   3 |  5500/32580 batches | loss    1.339 \n",
            "money: fact, way, result, play, time, even, it, possible, others, well\n",
            "lion: seven, addition, father, died, president, four, three, eight, six, sent\n",
            "africa: india, europe, france, south, north, america, china, germany, canada, australia\n",
            "musician: actress, actor, singer, author, writer, politician, nine, zero, seven, canadian\n",
            "dance: music, country, addition, study, traditional, art, order, philosophy, spanish, popular\n",
            "\n",
            "\n"
          ]
        },
        {
          "output_type": "stream",
          "name": "stderr",
          "text": [
            "6000it [01:08, 94.60it/s]"
          ]
        },
        {
          "output_type": "stream",
          "name": "stdout",
          "text": [
            "| epoch   3 |  6000/32580 batches | loss    1.332 \n",
            "money: fact, way, result, play, time, even, it, possible, others, well\n",
            "lion: seven, addition, father, died, four, president, three, eight, six, sent\n",
            "africa: india, europe, france, south, north, america, china, germany, canada, australia\n",
            "musician: actress, actor, singer, author, writer, politician, nine, zero, seven, canadian\n",
            "dance: music, country, addition, study, traditional, art, order, philosophy, spanish, popular\n",
            "\n",
            "\n"
          ]
        },
        {
          "output_type": "stream",
          "name": "stderr",
          "text": [
            "6500it [01:14, 95.76it/s]"
          ]
        },
        {
          "output_type": "stream",
          "name": "stdout",
          "text": [
            "| epoch   3 |  6500/32580 batches | loss    1.335 \n",
            "money: fact, way, result, play, time, even, it, possible, others, well\n",
            "lion: seven, addition, father, died, four, president, three, eight, six, sent\n",
            "africa: india, europe, france, south, north, america, china, germany, canada, australia\n",
            "musician: actress, actor, singer, author, writer, politician, nine, zero, seven, canadian\n",
            "dance: music, country, addition, study, traditional, art, order, philosophy, spanish, popular\n",
            "\n",
            "\n"
          ]
        },
        {
          "output_type": "stream",
          "name": "stderr",
          "text": [
            "6999it [01:19, 94.46it/s]"
          ]
        },
        {
          "output_type": "stream",
          "name": "stdout",
          "text": [
            "| epoch   3 |  7000/32580 batches | loss    1.334 \n",
            "money: fact, way, result, play, time, even, it, possible, others, well\n",
            "lion: seven, addition, father, died, four, president, three, eight, six, sent\n",
            "africa: india, europe, france, south, north, america, china, germany, canada, australia\n",
            "musician: actress, actor, singer, author, writer, politician, nine, zero, seven, canadian\n",
            "dance: music, country, addition, study, traditional, art, order, philosophy, spanish, popular\n",
            "\n",
            "\n"
          ]
        },
        {
          "output_type": "stream",
          "name": "stderr",
          "text": [
            "7499it [01:25, 94.70it/s]"
          ]
        },
        {
          "output_type": "stream",
          "name": "stdout",
          "text": [
            "| epoch   3 |  7500/32580 batches | loss    1.331 \n",
            "money: fact, way, result, play, time, even, it, possible, others, well\n",
            "lion: seven, addition, father, died, four, president, three, eight, six, sent\n",
            "africa: india, europe, france, south, north, america, china, germany, canada, australia\n",
            "musician: actress, actor, singer, author, writer, politician, nine, zero, seven, canadian\n",
            "dance: music, country, addition, study, traditional, art, order, philosophy, spanish, popular\n",
            "\n",
            "\n"
          ]
        },
        {
          "output_type": "stream",
          "name": "stderr",
          "text": [
            "7998it [01:30, 95.43it/s]"
          ]
        },
        {
          "output_type": "stream",
          "name": "stdout",
          "text": [
            "| epoch   3 |  8000/32580 batches | loss    1.332 \n",
            "money: fact, way, result, play, time, even, it, possible, others, well\n",
            "lion: seven, addition, father, died, four, president, three, eight, six, sent\n",
            "africa: india, europe, france, south, north, america, china, germany, canada, australia\n",
            "musician: actress, actor, singer, author, writer, politician, nine, zero, seven, canadian\n",
            "dance: music, country, addition, study, traditional, art, order, philosophy, spanish, popular\n",
            "\n",
            "\n"
          ]
        },
        {
          "output_type": "stream",
          "name": "stderr",
          "text": [
            "8507it [01:36, 68.57it/s]"
          ]
        },
        {
          "output_type": "stream",
          "name": "stdout",
          "text": [
            "| epoch   3 |  8500/32580 batches | loss    1.335 \n",
            "money: fact, way, result, play, time, even, it, possible, others, well\n",
            "lion: seven, addition, father, died, four, president, three, eight, six, sent\n",
            "africa: india, europe, france, south, north, america, china, germany, canada, australia\n",
            "musician: actress, actor, singer, author, writer, politician, nine, zero, seven, canadian\n",
            "dance: music, country, addition, study, traditional, art, order, philosophy, spanish, popular\n",
            "\n",
            "\n"
          ]
        },
        {
          "output_type": "stream",
          "name": "stderr",
          "text": [
            "9007it [01:41, 68.23it/s]"
          ]
        },
        {
          "output_type": "stream",
          "name": "stdout",
          "text": [
            "| epoch   3 |  9000/32580 batches | loss    1.332 \n",
            "money: fact, way, result, play, time, even, it, possible, others, well\n",
            "lion: seven, addition, father, died, president, four, three, eight, six, sent\n",
            "africa: india, europe, france, south, north, america, china, germany, canada, australia\n",
            "musician: actress, actor, singer, author, writer, politician, nine, zero, seven, canadian\n",
            "dance: music, country, addition, study, traditional, art, order, philosophy, spanish, popular\n",
            "\n",
            "\n"
          ]
        },
        {
          "output_type": "stream",
          "name": "stderr",
          "text": [
            "9507it [01:46, 68.23it/s]"
          ]
        },
        {
          "output_type": "stream",
          "name": "stdout",
          "text": [
            "| epoch   3 |  9500/32580 batches | loss    1.332 \n",
            "money: fact, way, result, play, time, even, it, possible, others, well\n",
            "lion: seven, addition, father, died, president, four, three, eight, six, sent\n",
            "africa: india, europe, france, south, north, america, china, germany, canada, australia\n",
            "musician: actress, actor, singer, author, writer, politician, nine, zero, seven, canadian\n",
            "dance: music, country, addition, study, traditional, art, order, philosophy, spanish, popular\n",
            "\n",
            "\n"
          ]
        },
        {
          "output_type": "stream",
          "name": "stderr",
          "text": [
            "10006it [01:52, 68.00it/s]"
          ]
        },
        {
          "output_type": "stream",
          "name": "stdout",
          "text": [
            "| epoch   3 | 10000/32580 batches | loss    1.333 \n",
            "money: fact, way, result, play, time, even, it, possible, others, well\n",
            "lion: seven, addition, father, died, president, four, three, eight, six, sent\n",
            "africa: india, europe, france, south, north, america, china, germany, canada, australia\n",
            "musician: actress, actor, singer, author, writer, politician, nine, zero, seven, canadian\n",
            "dance: music, country, addition, study, traditional, art, order, philosophy, spanish, popular\n",
            "\n",
            "\n"
          ]
        },
        {
          "output_type": "stream",
          "name": "stderr",
          "text": [
            "10506it [01:57, 68.67it/s]"
          ]
        },
        {
          "output_type": "stream",
          "name": "stdout",
          "text": [
            "| epoch   3 | 10500/32580 batches | loss    1.333 \n",
            "money: fact, way, result, play, time, even, it, possible, others, well\n",
            "lion: seven, addition, father, died, president, four, three, eight, six, sent\n",
            "africa: india, europe, france, south, north, america, china, germany, canada, australia\n",
            "musician: actress, actor, singer, author, writer, politician, nine, zero, seven, canadian\n",
            "dance: music, country, addition, study, traditional, art, order, philosophy, spanish, popular\n",
            "\n",
            "\n"
          ]
        },
        {
          "output_type": "stream",
          "name": "stderr",
          "text": [
            "11005it [02:03, 69.73it/s]"
          ]
        },
        {
          "output_type": "stream",
          "name": "stdout",
          "text": [
            "| epoch   3 | 11000/32580 batches | loss    1.334 \n",
            "money: fact, way, result, play, time, even, it, possible, others, well\n",
            "lion: seven, addition, father, died, four, president, three, eight, six, sent\n",
            "africa: india, europe, france, south, north, america, china, germany, canada, australia\n",
            "musician: actress, actor, singer, author, writer, politician, nine, zero, seven, canadian\n",
            "dance: music, country, addition, study, traditional, art, order, philosophy, spanish, popular\n",
            "\n",
            "\n"
          ]
        },
        {
          "output_type": "stream",
          "name": "stderr",
          "text": [
            "11504it [02:08, 68.60it/s]"
          ]
        },
        {
          "output_type": "stream",
          "name": "stdout",
          "text": [
            "| epoch   3 | 11500/32580 batches | loss    1.335 \n",
            "money: fact, way, result, play, time, even, it, possible, others, well\n",
            "lion: seven, addition, father, died, four, president, three, eight, six, sent\n",
            "africa: india, europe, france, south, north, america, china, germany, canada, australia\n",
            "musician: actress, actor, singer, author, writer, politician, nine, zero, seven, canadian\n",
            "dance: music, country, addition, study, traditional, art, order, philosophy, spanish, popular\n",
            "\n",
            "\n"
          ]
        },
        {
          "output_type": "stream",
          "name": "stderr",
          "text": [
            "12003it [02:13, 70.82it/s]"
          ]
        },
        {
          "output_type": "stream",
          "name": "stdout",
          "text": [
            "| epoch   3 | 12000/32580 batches | loss    1.333 \n",
            "money: fact, way, result, play, time, even, it, possible, others, well\n",
            "lion: seven, addition, father, died, four, president, three, eight, six, sent\n",
            "africa: india, europe, france, south, north, america, china, germany, canada, australia\n",
            "musician: actress, actor, singer, author, writer, politician, nine, zero, seven, canadian\n",
            "dance: music, country, addition, study, traditional, art, order, philosophy, spanish, popular\n",
            "\n",
            "\n"
          ]
        },
        {
          "output_type": "stream",
          "name": "stderr",
          "text": [
            "12502it [02:19, 69.87it/s]"
          ]
        },
        {
          "output_type": "stream",
          "name": "stdout",
          "text": [
            "| epoch   3 | 12500/32580 batches | loss    1.337 \n",
            "money: fact, way, result, play, time, even, it, possible, others, well\n",
            "lion: seven, addition, father, died, four, president, three, eight, six, sent\n",
            "africa: india, europe, france, south, north, america, china, germany, canada, australia\n",
            "musician: actress, actor, singer, author, writer, politician, nine, zero, seven, canadian\n",
            "dance: music, country, addition, study, traditional, art, order, philosophy, spanish, popular\n",
            "\n",
            "\n"
          ]
        },
        {
          "output_type": "stream",
          "name": "stderr",
          "text": [
            "13000it [02:24, 95.13it/s]"
          ]
        },
        {
          "output_type": "stream",
          "name": "stdout",
          "text": [
            "| epoch   3 | 13000/32580 batches | loss    1.335 \n",
            "money: fact, way, result, play, time, even, it, possible, others, well\n",
            "lion: seven, addition, father, died, four, president, three, eight, six, sent\n",
            "africa: india, europe, france, south, north, america, china, germany, canada, australia\n",
            "musician: actress, actor, singer, author, writer, politician, nine, zero, seven, canadian\n",
            "dance: music, country, addition, study, traditional, art, order, philosophy, spanish, popular\n",
            "\n",
            "\n"
          ]
        },
        {
          "output_type": "stream",
          "name": "stderr",
          "text": [
            "13499it [02:30, 95.81it/s]"
          ]
        },
        {
          "output_type": "stream",
          "name": "stdout",
          "text": [
            "| epoch   3 | 13500/32580 batches | loss    1.334 \n",
            "money: fact, way, result, play, time, even, it, possible, others, well\n",
            "lion: seven, addition, father, died, four, president, three, eight, six, sent\n",
            "africa: india, europe, france, south, north, america, china, germany, canada, australia\n",
            "musician: actress, actor, singer, author, writer, politician, nine, zero, seven, canadian\n",
            "dance: music, country, addition, study, traditional, art, order, philosophy, spanish, popular\n",
            "\n",
            "\n"
          ]
        },
        {
          "output_type": "stream",
          "name": "stderr",
          "text": [
            "13998it [02:35, 95.30it/s]"
          ]
        },
        {
          "output_type": "stream",
          "name": "stdout",
          "text": [
            "| epoch   3 | 14000/32580 batches | loss    1.331 \n",
            "money: fact, way, result, play, time, even, it, possible, others, well\n",
            "lion: seven, addition, father, died, four, president, three, eight, six, sent\n",
            "africa: india, europe, france, south, north, america, china, germany, canada, australia\n",
            "musician: actress, actor, singer, author, writer, politician, nine, zero, seven, canadian\n",
            "dance: music, country, addition, study, traditional, art, order, philosophy, spanish, popular\n",
            "\n",
            "\n"
          ]
        },
        {
          "output_type": "stream",
          "name": "stderr",
          "text": [
            "14498it [02:43, 55.46it/s]"
          ]
        },
        {
          "output_type": "stream",
          "name": "stdout",
          "text": [
            "| epoch   3 | 14500/32580 batches | loss    1.333 \n",
            "money: fact, way, result, play, time, even, it, possible, others, well\n",
            "lion: seven, addition, father, died, four, president, three, eight, six, sent\n",
            "africa: india, europe, france, south, north, america, china, germany, canada, australia\n",
            "musician: actress, actor, singer, author, writer, politician, nine, zero, seven, canadian\n",
            "dance: music, country, addition, study, traditional, art, order, philosophy, spanish, popular\n",
            "\n",
            "\n"
          ]
        },
        {
          "output_type": "stream",
          "name": "stderr",
          "text": [
            "14997it [02:48, 95.26it/s]"
          ]
        },
        {
          "output_type": "stream",
          "name": "stdout",
          "text": [
            "| epoch   3 | 15000/32580 batches | loss    1.337 \n",
            "money: fact, way, result, play, time, even, it, possible, others, well\n",
            "lion: seven, addition, father, died, four, president, three, eight, six, sent\n",
            "africa: india, europe, france, south, north, america, china, germany, canada, australia\n",
            "musician: actress, actor, singer, author, writer, politician, nine, zero, seven, canadian\n",
            "dance: music, country, addition, study, traditional, art, order, philosophy, spanish, popular\n",
            "\n",
            "\n"
          ]
        },
        {
          "output_type": "stream",
          "name": "stderr",
          "text": [
            "15497it [02:53, 93.98it/s]"
          ]
        },
        {
          "output_type": "stream",
          "name": "stdout",
          "text": [
            "| epoch   3 | 15500/32580 batches | loss    1.336 \n",
            "money: fact, way, result, play, time, even, it, possible, others, well\n",
            "lion: seven, addition, father, died, four, president, three, eight, six, sent\n",
            "africa: india, europe, france, south, north, america, china, germany, canada, australia\n",
            "musician: actress, actor, singer, author, writer, politician, nine, zero, seven, canadian\n",
            "dance: music, country, addition, study, traditional, art, order, philosophy, spanish, popular\n",
            "\n",
            "\n"
          ]
        },
        {
          "output_type": "stream",
          "name": "stderr",
          "text": [
            "16007it [02:59, 68.52it/s]"
          ]
        },
        {
          "output_type": "stream",
          "name": "stdout",
          "text": [
            "| epoch   3 | 16000/32580 batches | loss    1.335 \n",
            "money: fact, way, result, play, time, even, it, possible, others, well\n",
            "lion: seven, addition, father, died, four, president, three, eight, six, sent\n",
            "africa: india, europe, france, south, north, america, china, germany, canada, australia\n",
            "musician: actress, actor, singer, author, writer, politician, nine, zero, seven, canadian\n",
            "dance: music, country, addition, study, traditional, art, order, philosophy, spanish, popular\n",
            "\n",
            "\n"
          ]
        },
        {
          "output_type": "stream",
          "name": "stderr",
          "text": [
            "16506it [03:04, 67.73it/s]"
          ]
        },
        {
          "output_type": "stream",
          "name": "stdout",
          "text": [
            "| epoch   3 | 16500/32580 batches | loss    1.335 \n",
            "money: fact, way, result, play, time, even, it, possible, others, well\n",
            "lion: seven, addition, father, died, four, president, three, eight, six, sent\n",
            "africa: india, europe, france, south, north, america, china, germany, canada, australia\n",
            "musician: actress, actor, singer, author, writer, politician, nine, zero, seven, canadian\n",
            "dance: music, country, addition, study, traditional, art, order, philosophy, spanish, popular\n",
            "\n",
            "\n"
          ]
        },
        {
          "output_type": "stream",
          "name": "stderr",
          "text": [
            "17005it [03:10, 66.51it/s]"
          ]
        },
        {
          "output_type": "stream",
          "name": "stdout",
          "text": [
            "| epoch   3 | 17000/32580 batches | loss    1.334 \n",
            "money: fact, way, result, play, time, even, it, possible, others, well\n",
            "lion: seven, addition, father, died, four, president, three, eight, six, sent\n",
            "africa: india, europe, france, south, north, america, china, germany, canada, australia\n",
            "musician: actress, actor, singer, author, writer, politician, nine, zero, seven, canadian\n",
            "dance: music, country, addition, study, traditional, art, order, philosophy, spanish, popular\n",
            "\n",
            "\n"
          ]
        },
        {
          "output_type": "stream",
          "name": "stderr",
          "text": [
            "17505it [03:15, 69.55it/s]"
          ]
        },
        {
          "output_type": "stream",
          "name": "stdout",
          "text": [
            "| epoch   3 | 17500/32580 batches | loss    1.331 \n",
            "money: fact, way, result, play, time, even, it, possible, others, well\n",
            "lion: seven, addition, father, died, four, president, three, eight, six, sent\n",
            "africa: india, europe, france, south, north, america, china, germany, canada, australia\n",
            "musician: actress, actor, singer, author, writer, politician, nine, zero, seven, canadian\n",
            "dance: music, country, addition, study, traditional, art, order, philosophy, spanish, popular\n",
            "\n",
            "\n"
          ]
        },
        {
          "output_type": "stream",
          "name": "stderr",
          "text": [
            "18004it [03:21, 70.17it/s]"
          ]
        },
        {
          "output_type": "stream",
          "name": "stdout",
          "text": [
            "| epoch   3 | 18000/32580 batches | loss    1.326 \n",
            "money: fact, way, result, play, time, even, it, possible, others, well\n",
            "lion: seven, addition, father, died, four, president, three, eight, six, sent\n",
            "africa: india, europe, france, south, north, america, china, germany, canada, australia\n",
            "musician: actress, actor, singer, author, writer, politician, nine, zero, seven, canadian\n",
            "dance: music, country, addition, study, traditional, art, order, philosophy, spanish, popular\n",
            "\n",
            "\n"
          ]
        },
        {
          "output_type": "stream",
          "name": "stderr",
          "text": [
            "18503it [03:26, 69.83it/s]"
          ]
        },
        {
          "output_type": "stream",
          "name": "stdout",
          "text": [
            "| epoch   3 | 18500/32580 batches | loss    1.333 \n",
            "money: fact, way, result, play, time, even, it, possible, others, well\n",
            "lion: seven, addition, father, died, four, president, three, eight, six, sent\n",
            "africa: india, europe, france, south, north, america, china, germany, canada, australia\n",
            "musician: actress, actor, singer, author, writer, politician, nine, zero, seven, canadian\n",
            "dance: music, country, addition, study, traditional, art, order, philosophy, spanish, popular\n",
            "\n",
            "\n"
          ]
        },
        {
          "output_type": "stream",
          "name": "stderr",
          "text": [
            "19000it [03:31, 92.53it/s]"
          ]
        },
        {
          "output_type": "stream",
          "name": "stdout",
          "text": [
            "| epoch   3 | 19000/32580 batches | loss    1.333 \n",
            "money: fact, way, result, play, time, even, it, possible, others, well\n",
            "lion: seven, addition, father, died, four, president, three, eight, six, sent\n",
            "africa: india, europe, france, south, north, america, china, germany, canada, australia\n",
            "musician: actress, actor, singer, author, writer, politician, nine, zero, seven, canadian\n",
            "dance: music, country, addition, study, traditional, art, order, philosophy, spanish, popular\n",
            "\n",
            "\n"
          ]
        },
        {
          "output_type": "stream",
          "name": "stderr",
          "text": [
            "19500it [03:37, 96.06it/s]"
          ]
        },
        {
          "output_type": "stream",
          "name": "stdout",
          "text": [
            "| epoch   3 | 19500/32580 batches | loss    1.335 \n",
            "money: fact, way, result, play, time, even, it, possible, others, well\n",
            "lion: seven, addition, father, died, four, president, eight, three, six, sent\n",
            "africa: india, europe, france, south, north, america, china, germany, canada, australia\n",
            "musician: actress, actor, singer, author, writer, politician, nine, zero, seven, canadian\n",
            "dance: music, country, addition, study, traditional, art, order, philosophy, spanish, popular\n",
            "\n",
            "\n"
          ]
        },
        {
          "output_type": "stream",
          "name": "stderr",
          "text": [
            "20000it [03:42, 96.26it/s]"
          ]
        },
        {
          "output_type": "stream",
          "name": "stdout",
          "text": [
            "| epoch   3 | 20000/32580 batches | loss    1.333 \n",
            "money: fact, way, result, play, time, even, it, possible, others, well\n",
            "lion: seven, addition, father, died, four, president, three, eight, six, sent\n",
            "africa: india, europe, france, south, north, america, china, germany, canada, australia\n",
            "musician: actress, actor, singer, author, writer, politician, nine, zero, seven, canadian\n",
            "dance: music, country, addition, study, traditional, art, order, philosophy, spanish, popular\n",
            "\n",
            "\n"
          ]
        },
        {
          "output_type": "stream",
          "name": "stderr",
          "text": [
            "20500it [03:48, 96.15it/s]"
          ]
        },
        {
          "output_type": "stream",
          "name": "stdout",
          "text": [
            "| epoch   3 | 20500/32580 batches | loss    1.335 \n",
            "money: fact, way, result, play, time, even, it, possible, others, well\n",
            "lion: seven, addition, father, died, four, president, eight, three, six, sent\n",
            "africa: india, europe, france, south, north, america, china, germany, canada, australia\n",
            "musician: actress, actor, singer, author, writer, politician, nine, zero, seven, canadian\n",
            "dance: music, country, addition, study, traditional, art, order, philosophy, spanish, popular\n",
            "\n",
            "\n"
          ]
        },
        {
          "output_type": "stream",
          "name": "stderr",
          "text": [
            "21000it [03:53, 95.09it/s]"
          ]
        },
        {
          "output_type": "stream",
          "name": "stdout",
          "text": [
            "| epoch   3 | 21000/32580 batches | loss    1.337 \n",
            "money: fact, way, result, play, time, even, it, possible, others, well\n",
            "lion: seven, addition, father, died, four, president, three, eight, six, sent\n",
            "africa: india, europe, france, south, north, america, china, germany, canada, australia\n",
            "musician: actress, actor, singer, author, writer, politician, nine, zero, seven, canadian\n",
            "dance: music, country, addition, study, traditional, art, order, philosophy, spanish, popular\n",
            "\n",
            "\n"
          ]
        },
        {
          "output_type": "stream",
          "name": "stderr",
          "text": [
            "21500it [03:58, 91.78it/s]"
          ]
        },
        {
          "output_type": "stream",
          "name": "stdout",
          "text": [
            "| epoch   3 | 21500/32580 batches | loss    1.332 \n",
            "money: fact, way, result, play, time, even, it, possible, others, well\n",
            "lion: seven, addition, father, died, four, president, three, eight, six, sent\n",
            "africa: india, europe, france, south, north, america, china, germany, canada, australia\n",
            "musician: actress, actor, singer, author, writer, politician, nine, zero, seven, canadian\n",
            "dance: music, country, addition, study, traditional, art, order, philosophy, spanish, popular\n",
            "\n",
            "\n"
          ]
        },
        {
          "output_type": "stream",
          "name": "stderr",
          "text": [
            "22000it [04:04, 95.44it/s]"
          ]
        },
        {
          "output_type": "stream",
          "name": "stdout",
          "text": [
            "| epoch   3 | 22000/32580 batches | loss    1.334 \n",
            "money: fact, way, result, play, time, even, it, possible, others, well\n",
            "lion: seven, addition, father, died, four, president, three, eight, six, sent\n",
            "africa: india, europe, france, south, north, america, china, germany, canada, australia\n",
            "musician: actress, actor, singer, author, writer, politician, nine, zero, seven, canadian\n",
            "dance: music, country, addition, study, traditional, art, order, philosophy, spanish, popular\n",
            "\n",
            "\n"
          ]
        },
        {
          "output_type": "stream",
          "name": "stderr",
          "text": [
            "22500it [04:09, 91.39it/s]"
          ]
        },
        {
          "output_type": "stream",
          "name": "stdout",
          "text": [
            "| epoch   3 | 22500/32580 batches | loss    1.333 \n",
            "money: fact, way, result, play, time, even, it, possible, others, well\n",
            "lion: seven, addition, father, died, four, president, eight, three, six, sent\n",
            "africa: india, europe, france, south, north, america, china, germany, canada, australia\n",
            "musician: actress, actor, singer, author, writer, politician, nine, zero, seven, canadian\n",
            "dance: music, country, addition, study, traditional, art, order, philosophy, spanish, popular\n",
            "\n",
            "\n"
          ]
        },
        {
          "output_type": "stream",
          "name": "stderr",
          "text": [
            "23000it [04:15, 93.88it/s]"
          ]
        },
        {
          "output_type": "stream",
          "name": "stdout",
          "text": [
            "| epoch   3 | 23000/32580 batches | loss    1.337 \n",
            "money: fact, way, result, play, time, even, it, possible, others, well\n",
            "lion: seven, addition, father, died, four, president, three, eight, six, sent\n",
            "africa: india, europe, france, south, north, america, china, germany, canada, australia\n",
            "musician: actress, actor, singer, author, writer, politician, nine, zero, seven, canadian\n",
            "dance: music, country, addition, study, traditional, art, order, philosophy, spanish, popular\n",
            "\n",
            "\n"
          ]
        },
        {
          "output_type": "stream",
          "name": "stderr",
          "text": [
            "23500it [04:20, 95.36it/s]"
          ]
        },
        {
          "output_type": "stream",
          "name": "stdout",
          "text": [
            "| epoch   3 | 23500/32580 batches | loss    1.333 \n",
            "money: fact, way, result, play, time, even, it, possible, others, well\n",
            "lion: seven, addition, father, died, four, president, three, eight, six, sent\n",
            "africa: india, europe, france, south, north, america, china, germany, canada, australia\n",
            "musician: actress, actor, singer, author, writer, politician, nine, zero, seven, canadian\n",
            "dance: music, country, addition, study, traditional, art, order, philosophy, spanish, popular\n",
            "\n",
            "\n"
          ]
        },
        {
          "output_type": "stream",
          "name": "stderr",
          "text": [
            "23999it [04:26, 93.32it/s]"
          ]
        },
        {
          "output_type": "stream",
          "name": "stdout",
          "text": [
            "| epoch   3 | 24000/32580 batches | loss    1.331 \n",
            "money: fact, way, result, play, time, even, it, possible, others, well\n",
            "lion: seven, addition, father, died, four, president, three, eight, six, sent\n",
            "africa: india, europe, france, south, north, america, china, germany, canada, australia\n",
            "musician: actress, actor, singer, author, writer, politician, nine, zero, seven, canadian\n",
            "dance: music, country, addition, study, traditional, art, order, philosophy, spanish, popular\n",
            "\n",
            "\n"
          ]
        },
        {
          "output_type": "stream",
          "name": "stderr",
          "text": [
            "24499it [04:31, 94.22it/s]"
          ]
        },
        {
          "output_type": "stream",
          "name": "stdout",
          "text": [
            "| epoch   3 | 24500/32580 batches | loss    1.329 \n",
            "money: fact, way, result, play, time, even, it, possible, others, well\n",
            "lion: seven, addition, father, died, four, president, three, eight, six, sent\n",
            "africa: india, europe, france, south, north, america, china, germany, canada, australia\n",
            "musician: actress, actor, singer, author, writer, politician, nine, zero, seven, canadian\n",
            "dance: music, country, addition, study, traditional, art, order, philosophy, spanish, popular\n",
            "\n",
            "\n"
          ]
        },
        {
          "output_type": "stream",
          "name": "stderr",
          "text": [
            "24999it [04:36, 94.09it/s]"
          ]
        },
        {
          "output_type": "stream",
          "name": "stdout",
          "text": [
            "| epoch   3 | 25000/32580 batches | loss    1.330 \n",
            "money: fact, way, result, play, time, even, it, possible, others, well\n",
            "lion: seven, addition, father, died, four, president, three, eight, six, sent\n",
            "africa: india, europe, france, south, north, america, china, germany, canada, australia\n",
            "musician: actress, actor, singer, author, writer, politician, nine, zero, seven, canadian\n",
            "dance: music, country, addition, study, traditional, art, order, philosophy, spanish, popular\n",
            "\n",
            "\n"
          ]
        },
        {
          "output_type": "stream",
          "name": "stderr",
          "text": [
            "25499it [04:42, 94.33it/s]"
          ]
        },
        {
          "output_type": "stream",
          "name": "stdout",
          "text": [
            "| epoch   3 | 25500/32580 batches | loss    1.333 \n",
            "money: fact, way, result, play, time, even, it, possible, others, well\n",
            "lion: seven, addition, father, died, four, president, three, eight, six, sent\n",
            "africa: india, europe, france, south, north, america, china, germany, canada, australia\n",
            "musician: actress, actor, singer, author, writer, politician, nine, zero, seven, canadian\n",
            "dance: music, country, addition, study, traditional, art, order, philosophy, spanish, popular\n",
            "\n",
            "\n"
          ]
        },
        {
          "output_type": "stream",
          "name": "stderr",
          "text": [
            "25999it [04:47, 94.29it/s]"
          ]
        },
        {
          "output_type": "stream",
          "name": "stdout",
          "text": [
            "| epoch   3 | 26000/32580 batches | loss    1.336 \n",
            "money: fact, way, result, play, time, even, it, possible, others, well\n",
            "lion: seven, addition, father, died, four, president, three, eight, six, sent\n",
            "africa: india, europe, france, south, north, america, china, germany, canada, australia\n",
            "musician: actress, actor, singer, author, writer, politician, nine, zero, seven, canadian\n",
            "dance: music, country, addition, study, traditional, art, order, philosophy, spanish, popular\n",
            "\n",
            "\n"
          ]
        },
        {
          "output_type": "stream",
          "name": "stderr",
          "text": [
            "26499it [04:53, 94.85it/s]"
          ]
        },
        {
          "output_type": "stream",
          "name": "stdout",
          "text": [
            "| epoch   3 | 26500/32580 batches | loss    1.334 \n",
            "money: fact, way, result, play, time, even, it, possible, others, well\n",
            "lion: seven, addition, father, died, four, president, three, eight, six, sent\n",
            "africa: india, europe, france, south, north, america, china, germany, canada, australia\n",
            "musician: actress, actor, singer, author, writer, politician, nine, zero, seven, canadian\n",
            "dance: music, country, addition, study, traditional, art, order, philosophy, spanish, popular\n",
            "\n",
            "\n"
          ]
        },
        {
          "output_type": "stream",
          "name": "stderr",
          "text": [
            "26999it [04:58, 95.67it/s]"
          ]
        },
        {
          "output_type": "stream",
          "name": "stdout",
          "text": [
            "| epoch   3 | 27000/32580 batches | loss    1.330 \n",
            "money: fact, way, result, play, time, even, it, possible, others, well\n",
            "lion: seven, addition, father, died, four, president, three, eight, six, sent\n",
            "africa: india, europe, france, south, north, america, china, germany, canada, australia\n",
            "musician: actress, actor, singer, author, writer, politician, nine, zero, seven, canadian\n",
            "dance: music, country, addition, study, traditional, art, order, philosophy, spanish, popular\n",
            "\n",
            "\n"
          ]
        },
        {
          "output_type": "stream",
          "name": "stderr",
          "text": [
            "27499it [05:03, 96.17it/s]"
          ]
        },
        {
          "output_type": "stream",
          "name": "stdout",
          "text": [
            "| epoch   3 | 27500/32580 batches | loss    1.332 \n",
            "money: fact, way, result, play, time, even, it, possible, others, well\n",
            "lion: seven, addition, father, died, four, president, three, eight, six, sent\n",
            "africa: india, europe, france, south, north, america, china, germany, canada, australia\n",
            "musician: actress, actor, singer, author, writer, politician, nine, zero, seven, canadian\n",
            "dance: music, country, addition, study, traditional, art, order, philosophy, spanish, popular\n",
            "\n",
            "\n"
          ]
        },
        {
          "output_type": "stream",
          "name": "stderr",
          "text": [
            "27999it [05:09, 95.37it/s]"
          ]
        },
        {
          "output_type": "stream",
          "name": "stdout",
          "text": [
            "| epoch   3 | 28000/32580 batches | loss    1.333 \n",
            "money: fact, way, result, play, time, even, it, possible, others, well\n",
            "lion: seven, addition, father, died, four, president, three, eight, six, sent\n",
            "africa: india, europe, france, south, north, america, china, germany, canada, australia\n",
            "musician: actress, actor, singer, author, writer, politician, nine, zero, seven, canadian\n",
            "dance: music, country, addition, study, traditional, art, order, philosophy, spanish, popular\n",
            "\n",
            "\n"
          ]
        },
        {
          "output_type": "stream",
          "name": "stderr",
          "text": [
            "28497it [05:14, 95.43it/s]"
          ]
        },
        {
          "output_type": "stream",
          "name": "stdout",
          "text": [
            "| epoch   3 | 28500/32580 batches | loss    1.333 \n",
            "money: fact, way, result, play, time, even, it, possible, others, well\n",
            "lion: seven, addition, father, died, four, president, three, eight, six, sent\n",
            "africa: india, europe, france, south, north, america, china, germany, canada, australia\n",
            "musician: actress, actor, singer, author, writer, politician, nine, zero, seven, canadian\n",
            "dance: music, country, addition, study, traditional, art, order, philosophy, spanish, popular\n",
            "\n",
            "\n"
          ]
        },
        {
          "output_type": "stream",
          "name": "stderr",
          "text": [
            "28997it [05:20, 95.52it/s]"
          ]
        },
        {
          "output_type": "stream",
          "name": "stdout",
          "text": [
            "| epoch   3 | 29000/32580 batches | loss    1.330 \n",
            "money: fact, way, result, play, time, even, it, possible, others, well\n",
            "lion: seven, addition, father, died, four, president, three, eight, six, sent\n",
            "africa: india, europe, france, south, north, america, china, germany, canada, australia\n",
            "musician: actress, actor, singer, author, writer, politician, nine, zero, seven, canadian\n",
            "dance: music, country, addition, study, traditional, art, order, philosophy, spanish, popular\n",
            "\n",
            "\n"
          ]
        },
        {
          "output_type": "stream",
          "name": "stderr",
          "text": [
            "29507it [05:25, 68.80it/s]"
          ]
        },
        {
          "output_type": "stream",
          "name": "stdout",
          "text": [
            "| epoch   3 | 29500/32580 batches | loss    1.333 \n",
            "money: fact, way, result, play, time, even, it, possible, others, well\n",
            "lion: seven, addition, father, died, four, president, three, eight, six, sent\n",
            "africa: india, europe, france, south, north, america, china, germany, canada, australia\n",
            "musician: actress, actor, singer, author, writer, politician, nine, zero, seven, canadian\n",
            "dance: music, country, addition, study, traditional, art, order, philosophy, spanish, popular\n",
            "\n",
            "\n"
          ]
        },
        {
          "output_type": "stream",
          "name": "stderr",
          "text": [
            "29997it [05:30, 93.79it/s]"
          ]
        },
        {
          "output_type": "stream",
          "name": "stdout",
          "text": [
            "| epoch   3 | 30000/32580 batches | loss    1.332 \n",
            "money: fact, way, result, play, time, even, it, possible, others, well\n",
            "lion: seven, addition, father, died, four, president, three, eight, six, sent\n",
            "africa: india, europe, france, south, north, america, china, germany, canada, australia\n",
            "musician: actress, actor, singer, author, writer, politician, nine, zero, seven, canadian\n",
            "dance: music, country, addition, study, traditional, art, order, philosophy, spanish, popular\n",
            "\n",
            "\n"
          ]
        },
        {
          "output_type": "stream",
          "name": "stderr",
          "text": [
            "30507it [05:36, 68.66it/s]"
          ]
        },
        {
          "output_type": "stream",
          "name": "stdout",
          "text": [
            "| epoch   3 | 30500/32580 batches | loss    1.335 \n",
            "money: fact, way, result, play, time, even, it, possible, others, well\n",
            "lion: seven, addition, father, died, four, president, three, eight, six, sent\n",
            "africa: india, europe, france, south, north, america, china, germany, canada, australia\n",
            "musician: actress, actor, singer, author, writer, politician, nine, zero, seven, canadian\n",
            "dance: music, country, addition, study, traditional, art, order, philosophy, spanish, popular\n",
            "\n",
            "\n"
          ]
        },
        {
          "output_type": "stream",
          "name": "stderr",
          "text": [
            "30997it [05:41, 95.54it/s]"
          ]
        },
        {
          "output_type": "stream",
          "name": "stdout",
          "text": [
            "| epoch   3 | 31000/32580 batches | loss    1.340 \n",
            "money: fact, way, result, play, time, even, it, possible, others, well\n",
            "lion: seven, addition, father, died, four, president, three, eight, six, sent\n",
            "africa: india, europe, france, south, north, america, china, germany, canada, australia\n",
            "musician: actress, actor, singer, author, writer, politician, nine, zero, seven, canadian\n",
            "dance: music, country, addition, study, traditional, art, order, philosophy, spanish, popular\n",
            "\n",
            "\n"
          ]
        },
        {
          "output_type": "stream",
          "name": "stderr",
          "text": [
            "31497it [05:46, 94.80it/s]"
          ]
        },
        {
          "output_type": "stream",
          "name": "stdout",
          "text": [
            "| epoch   3 | 31500/32580 batches | loss    1.336 \n",
            "money: fact, way, result, play, time, even, it, possible, others, well\n",
            "lion: seven, addition, father, died, four, president, three, eight, six, sent\n",
            "africa: india, europe, france, south, north, america, china, germany, canada, australia\n",
            "musician: actress, actor, singer, author, writer, politician, nine, zero, seven, canadian\n",
            "dance: music, country, addition, study, traditional, art, order, philosophy, spanish, popular\n",
            "\n",
            "\n"
          ]
        },
        {
          "output_type": "stream",
          "name": "stderr",
          "text": [
            "32007it [05:52, 68.33it/s]"
          ]
        },
        {
          "output_type": "stream",
          "name": "stdout",
          "text": [
            "| epoch   3 | 32000/32580 batches | loss    1.329 \n",
            "money: fact, way, result, play, time, even, it, possible, others, well\n",
            "lion: seven, addition, father, died, four, president, three, eight, six, sent\n",
            "africa: india, europe, france, south, north, america, china, germany, canada, australia\n",
            "musician: actress, actor, singer, author, writer, politician, nine, zero, seven, canadian\n",
            "dance: music, country, addition, study, traditional, art, order, philosophy, spanish, popular\n",
            "\n",
            "\n"
          ]
        },
        {
          "output_type": "stream",
          "name": "stderr",
          "text": [
            "32507it [05:58, 68.08it/s]"
          ]
        },
        {
          "output_type": "stream",
          "name": "stdout",
          "text": [
            "| epoch   3 | 32500/32580 batches | loss    1.335 \n",
            "money: fact, way, result, play, time, even, it, possible, others, well\n",
            "lion: seven, addition, father, died, four, president, three, eight, six, sent\n",
            "africa: india, europe, france, south, north, america, china, germany, canada, australia\n",
            "musician: actress, actor, singer, author, writer, politician, nine, zero, seven, canadian\n",
            "dance: music, country, addition, study, traditional, art, order, philosophy, spanish, popular\n",
            "\n",
            "\n"
          ]
        },
        {
          "output_type": "stream",
          "name": "stderr",
          "text": [
            "32580it [06:00, 90.36it/s]\n",
            "1it [00:01,  1.72s/it]"
          ]
        },
        {
          "output_type": "stream",
          "name": "stdout",
          "text": [
            "| epoch   4 |     0/32580 batches | loss    1.351 \n",
            "money: fact, way, result, play, time, even, it, possible, others, well\n",
            "lion: seven, addition, father, died, four, president, three, eight, six, sent\n",
            "africa: india, europe, france, south, north, america, china, germany, canada, australia\n",
            "musician: actress, actor, singer, author, writer, politician, nine, zero, seven, canadian\n",
            "dance: music, country, addition, study, traditional, art, order, philosophy, spanish, popular\n",
            "\n",
            "\n"
          ]
        },
        {
          "output_type": "stream",
          "name": "stderr",
          "text": [
            "502it [00:07, 70.77it/s]"
          ]
        },
        {
          "output_type": "stream",
          "name": "stdout",
          "text": [
            "| epoch   4 |   500/32580 batches | loss    1.336 \n",
            "money: fact, way, result, play, time, even, it, possible, others, well\n",
            "lion: seven, addition, father, died, four, president, three, eight, six, sent\n",
            "africa: india, europe, france, south, north, america, china, germany, canada, australia\n",
            "musician: actress, actor, singer, author, writer, politician, nine, zero, seven, canadian\n",
            "dance: music, country, addition, study, traditional, art, order, philosophy, spanish, popular\n",
            "\n",
            "\n"
          ]
        },
        {
          "output_type": "stream",
          "name": "stderr",
          "text": [
            "1001it [00:12, 71.96it/s]"
          ]
        },
        {
          "output_type": "stream",
          "name": "stdout",
          "text": [
            "| epoch   4 |  1000/32580 batches | loss    1.334 \n",
            "money: fact, way, result, play, time, even, it, possible, others, well\n",
            "lion: seven, addition, father, died, four, president, three, eight, six, sent\n",
            "africa: india, europe, france, south, north, america, china, germany, canada, australia\n",
            "musician: actress, actor, singer, author, writer, politician, nine, zero, seven, canadian\n",
            "dance: music, country, addition, study, traditional, art, order, philosophy, spanish, popular\n",
            "\n",
            "\n"
          ]
        },
        {
          "output_type": "stream",
          "name": "stderr",
          "text": [
            "1498it [00:17, 95.07it/s]"
          ]
        },
        {
          "output_type": "stream",
          "name": "stdout",
          "text": [
            "| epoch   4 |  1500/32580 batches | loss    1.332 \n",
            "money: fact, way, result, play, time, even, it, possible, others, well\n",
            "lion: seven, addition, father, died, four, president, three, eight, six, sent\n",
            "africa: india, europe, france, south, north, america, china, germany, canada, australia\n",
            "musician: actress, actor, singer, author, writer, politician, nine, zero, seven, canadian\n",
            "dance: music, country, addition, study, traditional, art, order, philosophy, spanish, popular\n",
            "\n",
            "\n"
          ]
        },
        {
          "output_type": "stream",
          "name": "stderr",
          "text": [
            "1998it [00:23, 94.91it/s]"
          ]
        },
        {
          "output_type": "stream",
          "name": "stdout",
          "text": [
            "| epoch   4 |  2000/32580 batches | loss    1.329 \n",
            "money: fact, way, result, play, time, even, it, possible, others, well\n",
            "lion: seven, addition, father, died, four, president, three, eight, six, sent\n",
            "africa: india, europe, france, south, north, america, china, germany, canada, australia\n",
            "musician: actress, actor, singer, author, writer, politician, nine, zero, seven, canadian\n",
            "dance: music, country, addition, study, traditional, art, order, philosophy, spanish, popular\n",
            "\n",
            "\n"
          ]
        },
        {
          "output_type": "stream",
          "name": "stderr",
          "text": [
            "2498it [00:28, 94.43it/s]"
          ]
        },
        {
          "output_type": "stream",
          "name": "stdout",
          "text": [
            "| epoch   4 |  2500/32580 batches | loss    1.334 \n",
            "money: fact, way, result, play, time, even, it, possible, others, well\n",
            "lion: seven, addition, father, died, four, president, three, eight, six, sent\n",
            "africa: india, europe, france, south, north, america, china, germany, canada, australia\n",
            "musician: actress, actor, singer, author, writer, politician, nine, zero, seven, canadian\n",
            "dance: music, country, addition, study, traditional, art, order, philosophy, spanish, popular\n",
            "\n",
            "\n"
          ]
        },
        {
          "output_type": "stream",
          "name": "stderr",
          "text": [
            "3007it [00:34, 68.44it/s]"
          ]
        },
        {
          "output_type": "stream",
          "name": "stdout",
          "text": [
            "| epoch   4 |  3000/32580 batches | loss    1.333 \n",
            "money: fact, way, result, play, time, even, it, possible, others, well\n",
            "lion: seven, addition, father, died, four, president, three, eight, six, sent\n",
            "africa: india, europe, france, south, north, america, china, germany, canada, australia\n",
            "musician: actress, actor, singer, author, writer, politician, nine, zero, seven, canadian\n",
            "dance: music, country, addition, study, traditional, art, order, philosophy, spanish, popular\n",
            "\n",
            "\n"
          ]
        },
        {
          "output_type": "stream",
          "name": "stderr",
          "text": [
            "3507it [00:39, 68.55it/s]"
          ]
        },
        {
          "output_type": "stream",
          "name": "stdout",
          "text": [
            "| epoch   4 |  3500/32580 batches | loss    1.330 \n",
            "money: fact, way, result, play, time, even, it, possible, others, well\n",
            "lion: seven, addition, father, died, four, president, three, eight, six, sent\n",
            "africa: india, europe, france, south, north, america, china, germany, canada, australia\n",
            "musician: actress, actor, singer, author, writer, politician, nine, zero, seven, canadian\n",
            "dance: music, country, addition, study, traditional, art, order, philosophy, spanish, popular\n",
            "\n",
            "\n"
          ]
        },
        {
          "output_type": "stream",
          "name": "stderr",
          "text": [
            "4007it [00:45, 68.15it/s]"
          ]
        },
        {
          "output_type": "stream",
          "name": "stdout",
          "text": [
            "| epoch   4 |  4000/32580 batches | loss    1.329 \n",
            "money: fact, way, result, play, time, even, it, possible, others, well\n",
            "lion: seven, addition, father, died, four, president, three, eight, six, sent\n",
            "africa: india, europe, france, south, north, america, china, germany, canada, australia\n",
            "musician: actress, actor, singer, author, writer, politician, nine, zero, seven, canadian\n",
            "dance: music, country, addition, study, traditional, art, order, philosophy, spanish, popular\n",
            "\n",
            "\n"
          ]
        },
        {
          "output_type": "stream",
          "name": "stderr",
          "text": [
            "4507it [00:50, 68.79it/s]"
          ]
        },
        {
          "output_type": "stream",
          "name": "stdout",
          "text": [
            "| epoch   4 |  4500/32580 batches | loss    1.335 \n",
            "money: fact, way, result, play, time, even, it, possible, others, well\n",
            "lion: seven, addition, father, died, four, president, three, eight, six, sent\n",
            "africa: india, europe, france, south, north, america, china, germany, canada, australia\n",
            "musician: actress, actor, singer, author, writer, politician, nine, zero, seven, canadian\n",
            "dance: music, country, addition, study, traditional, art, order, philosophy, spanish, popular\n",
            "\n",
            "\n"
          ]
        },
        {
          "output_type": "stream",
          "name": "stderr",
          "text": [
            "5007it [00:55, 68.59it/s]"
          ]
        },
        {
          "output_type": "stream",
          "name": "stdout",
          "text": [
            "| epoch   4 |  5000/32580 batches | loss    1.331 \n",
            "money: fact, way, result, play, time, even, it, possible, others, well\n",
            "lion: seven, addition, father, died, four, president, three, eight, six, sent\n",
            "africa: india, europe, france, south, north, america, china, germany, canada, australia\n",
            "musician: actress, actor, singer, author, writer, politician, nine, zero, seven, canadian\n",
            "dance: music, country, addition, study, traditional, art, order, philosophy, spanish, popular\n",
            "\n",
            "\n"
          ]
        },
        {
          "output_type": "stream",
          "name": "stderr",
          "text": [
            "5507it [01:03, 67.77it/s]"
          ]
        },
        {
          "output_type": "stream",
          "name": "stdout",
          "text": [
            "| epoch   4 |  5500/32580 batches | loss    1.332 \n",
            "money: fact, way, result, play, time, even, it, possible, others, well\n",
            "lion: seven, addition, father, died, four, president, three, eight, six, sent\n",
            "africa: india, europe, france, south, north, america, china, germany, canada, australia\n",
            "musician: actress, actor, singer, author, writer, politician, nine, zero, seven, canadian\n",
            "dance: music, country, addition, study, traditional, art, order, philosophy, spanish, popular\n",
            "\n",
            "\n"
          ]
        },
        {
          "output_type": "stream",
          "name": "stderr",
          "text": [
            "5997it [01:08, 94.37it/s]"
          ]
        },
        {
          "output_type": "stream",
          "name": "stdout",
          "text": [
            "| epoch   4 |  6000/32580 batches | loss    1.332 \n",
            "money: fact, way, result, play, time, even, it, possible, others, well\n",
            "lion: seven, addition, father, died, four, president, three, eight, six, sent\n",
            "africa: india, europe, france, south, north, america, china, germany, canada, australia\n",
            "musician: actress, actor, singer, author, writer, politician, nine, zero, seven, canadian\n",
            "dance: music, country, addition, study, traditional, art, order, philosophy, spanish, popular\n",
            "\n",
            "\n"
          ]
        },
        {
          "output_type": "stream",
          "name": "stderr",
          "text": [
            "6497it [01:14, 96.20it/s]"
          ]
        },
        {
          "output_type": "stream",
          "name": "stdout",
          "text": [
            "| epoch   4 |  6500/32580 batches | loss    1.332 \n",
            "money: fact, way, result, play, time, even, it, possible, others, well\n",
            "lion: seven, addition, father, died, four, president, three, eight, six, sent\n",
            "africa: india, europe, france, south, north, america, china, germany, canada, australia\n",
            "musician: actress, actor, singer, author, writer, politician, nine, zero, seven, canadian\n",
            "dance: music, country, addition, study, traditional, art, order, philosophy, spanish, popular\n",
            "\n",
            "\n"
          ]
        },
        {
          "output_type": "stream",
          "name": "stderr",
          "text": [
            "7006it [01:19, 68.84it/s]"
          ]
        },
        {
          "output_type": "stream",
          "name": "stdout",
          "text": [
            "| epoch   4 |  7000/32580 batches | loss    1.327 \n",
            "money: fact, way, result, play, time, even, it, possible, others, well\n",
            "lion: seven, addition, father, died, four, president, three, eight, six, sent\n",
            "africa: india, europe, france, south, north, america, china, germany, canada, australia\n",
            "musician: actress, actor, singer, author, writer, politician, nine, zero, seven, canadian\n",
            "dance: music, country, addition, study, traditional, art, order, philosophy, spanish, popular\n",
            "\n",
            "\n"
          ]
        },
        {
          "output_type": "stream",
          "name": "stderr",
          "text": [
            "7505it [01:25, 69.97it/s]"
          ]
        },
        {
          "output_type": "stream",
          "name": "stdout",
          "text": [
            "| epoch   4 |  7500/32580 batches | loss    1.333 \n",
            "money: fact, way, result, play, time, even, it, possible, others, well\n",
            "lion: seven, addition, father, died, four, president, three, eight, six, sent\n",
            "africa: india, europe, france, south, north, america, china, germany, canada, australia\n",
            "musician: actress, actor, singer, author, writer, politician, nine, zero, seven, canadian\n",
            "dance: music, country, addition, study, traditional, art, order, philosophy, spanish, popular\n",
            "\n",
            "\n"
          ]
        },
        {
          "output_type": "stream",
          "name": "stderr",
          "text": [
            "8004it [01:30, 69.99it/s]"
          ]
        },
        {
          "output_type": "stream",
          "name": "stdout",
          "text": [
            "| epoch   4 |  8000/32580 batches | loss    1.331 \n",
            "money: fact, way, result, play, time, even, it, possible, others, well\n",
            "lion: seven, addition, father, died, four, president, three, eight, six, sent\n",
            "africa: india, europe, france, south, north, america, china, germany, canada, australia\n",
            "musician: actress, actor, singer, author, writer, politician, nine, zero, seven, canadian\n",
            "dance: music, country, addition, study, traditional, art, order, philosophy, spanish, popular\n",
            "\n",
            "\n"
          ]
        },
        {
          "output_type": "stream",
          "name": "stderr",
          "text": [
            "8502it [01:35, 71.31it/s]"
          ]
        },
        {
          "output_type": "stream",
          "name": "stdout",
          "text": [
            "| epoch   4 |  8500/32580 batches | loss    1.329 \n",
            "money: fact, way, result, play, time, even, it, possible, others, well\n",
            "lion: seven, addition, father, died, four, president, three, eight, six, sent\n",
            "africa: india, europe, france, south, north, america, china, germany, canada, australia\n",
            "musician: actress, actor, singer, author, writer, politician, nine, zero, seven, canadian\n",
            "dance: music, country, addition, study, traditional, art, order, philosophy, spanish, popular\n",
            "\n",
            "\n"
          ]
        },
        {
          "output_type": "stream",
          "name": "stderr",
          "text": [
            "9001it [01:41, 71.98it/s]"
          ]
        },
        {
          "output_type": "stream",
          "name": "stdout",
          "text": [
            "| epoch   4 |  9000/32580 batches | loss    1.329 \n",
            "money: fact, way, result, play, time, even, it, possible, others, well\n",
            "lion: seven, addition, father, died, four, president, three, eight, six, sent\n",
            "africa: india, europe, france, south, north, america, china, germany, canada, australia\n",
            "musician: actress, actor, singer, author, writer, politician, nine, zero, seven, canadian\n",
            "dance: music, country, addition, study, traditional, art, order, philosophy, spanish, popular\n",
            "\n",
            "\n"
          ]
        },
        {
          "output_type": "stream",
          "name": "stderr",
          "text": [
            "9500it [01:46, 93.89it/s]"
          ]
        },
        {
          "output_type": "stream",
          "name": "stdout",
          "text": [
            "| epoch   4 |  9500/32580 batches | loss    1.330 \n",
            "money: fact, way, result, play, time, even, it, possible, others, well\n",
            "lion: seven, addition, father, died, four, president, three, eight, six, sent\n",
            "africa: india, europe, france, south, north, america, china, germany, canada, australia\n",
            "musician: actress, actor, singer, author, writer, politician, nine, zero, seven, canadian\n",
            "dance: music, country, addition, study, traditional, art, order, philosophy, spanish, popular\n",
            "\n",
            "\n"
          ]
        },
        {
          "output_type": "stream",
          "name": "stderr",
          "text": [
            "9998it [01:52, 93.88it/s]"
          ]
        },
        {
          "output_type": "stream",
          "name": "stdout",
          "text": [
            "| epoch   4 | 10000/32580 batches | loss    1.332 \n",
            "money: fact, way, result, play, time, even, it, possible, others, well\n",
            "lion: seven, addition, father, died, four, president, three, eight, six, sent\n",
            "africa: india, europe, france, south, north, america, china, germany, canada, australia\n",
            "musician: actress, actor, singer, author, writer, politician, nine, zero, seven, canadian\n",
            "dance: music, country, addition, study, traditional, art, order, philosophy, spanish, popular\n",
            "\n",
            "\n"
          ]
        },
        {
          "output_type": "stream",
          "name": "stderr",
          "text": [
            "10498it [01:57, 93.92it/s]"
          ]
        },
        {
          "output_type": "stream",
          "name": "stdout",
          "text": [
            "| epoch   4 | 10500/32580 batches | loss    1.330 \n",
            "money: fact, way, result, play, time, even, it, possible, others, well\n",
            "lion: seven, addition, father, died, four, president, three, eight, six, sent\n",
            "africa: india, europe, france, south, north, america, china, germany, canada, australia\n",
            "musician: actress, actor, singer, author, writer, politician, nine, zero, seven, canadian\n",
            "dance: music, country, addition, study, traditional, art, order, philosophy, spanish, popular\n",
            "\n",
            "\n"
          ]
        },
        {
          "output_type": "stream",
          "name": "stderr",
          "text": [
            "10998it [02:03, 94.48it/s]"
          ]
        },
        {
          "output_type": "stream",
          "name": "stdout",
          "text": [
            "| epoch   4 | 11000/32580 batches | loss    1.332 \n",
            "money: fact, way, result, play, time, even, it, possible, others, well\n",
            "lion: seven, addition, father, died, four, president, three, eight, six, sent\n",
            "africa: india, europe, france, south, north, america, china, germany, canada, australia\n",
            "musician: actress, actor, singer, author, writer, politician, nine, zero, seven, canadian\n",
            "dance: music, country, addition, study, traditional, art, order, philosophy, spanish, popular\n",
            "\n",
            "\n"
          ]
        },
        {
          "output_type": "stream",
          "name": "stderr",
          "text": [
            "11497it [02:08, 94.55it/s]"
          ]
        },
        {
          "output_type": "stream",
          "name": "stdout",
          "text": [
            "| epoch   4 | 11500/32580 batches | loss    1.331 \n",
            "money: fact, way, result, play, time, even, it, possible, others, well\n",
            "lion: seven, addition, father, died, four, president, three, eight, six, sent\n",
            "africa: india, europe, france, south, north, america, china, germany, canada, australia\n",
            "musician: actress, actor, singer, author, writer, politician, nine, zero, seven, canadian\n",
            "dance: music, country, addition, study, traditional, art, order, philosophy, spanish, popular\n",
            "\n",
            "\n"
          ]
        },
        {
          "output_type": "stream",
          "name": "stderr",
          "text": [
            "12007it [02:14, 68.52it/s]"
          ]
        },
        {
          "output_type": "stream",
          "name": "stdout",
          "text": [
            "| epoch   4 | 12000/32580 batches | loss    1.332 \n",
            "money: fact, way, result, play, time, even, it, possible, others, well\n",
            "lion: seven, addition, father, died, four, president, three, eight, six, sent\n",
            "africa: india, europe, france, south, north, america, china, germany, canada, australia\n",
            "musician: actress, actor, singer, author, writer, politician, nine, zero, seven, canadian\n",
            "dance: music, country, addition, study, traditional, art, order, philosophy, spanish, popular\n",
            "\n",
            "\n"
          ]
        },
        {
          "output_type": "stream",
          "name": "stderr",
          "text": [
            "12507it [02:19, 68.35it/s]"
          ]
        },
        {
          "output_type": "stream",
          "name": "stdout",
          "text": [
            "| epoch   4 | 12500/32580 batches | loss    1.328 \n",
            "money: fact, way, result, play, time, even, it, possible, others, well\n",
            "lion: seven, addition, father, died, four, president, three, eight, six, sent\n",
            "africa: india, europe, france, south, north, america, china, germany, canada, australia\n",
            "musician: actress, actor, singer, author, writer, politician, nine, zero, seven, canadian\n",
            "dance: music, country, addition, study, traditional, art, order, philosophy, spanish, popular\n",
            "\n",
            "\n"
          ]
        },
        {
          "output_type": "stream",
          "name": "stderr",
          "text": [
            "13005it [02:24, 68.98it/s]"
          ]
        },
        {
          "output_type": "stream",
          "name": "stdout",
          "text": [
            "| epoch   4 | 13000/32580 batches | loss    1.328 \n",
            "money: fact, way, result, play, time, even, it, possible, others, well\n",
            "lion: seven, addition, father, died, four, president, three, eight, six, sent\n",
            "africa: india, europe, france, south, north, america, china, germany, canada, australia\n",
            "musician: actress, actor, singer, author, writer, politician, nine, zero, seven, canadian\n",
            "dance: music, country, addition, study, traditional, art, order, philosophy, spanish, popular\n",
            "\n",
            "\n"
          ]
        },
        {
          "output_type": "stream",
          "name": "stderr",
          "text": [
            "13504it [02:30, 69.70it/s]"
          ]
        },
        {
          "output_type": "stream",
          "name": "stdout",
          "text": [
            "| epoch   4 | 13500/32580 batches | loss    1.333 \n",
            "money: fact, way, result, play, time, even, it, possible, others, well\n",
            "lion: seven, addition, father, died, four, president, three, eight, six, sent\n",
            "africa: india, europe, france, south, north, america, china, germany, canada, australia\n",
            "musician: actress, actor, singer, author, writer, politician, nine, zero, seven, canadian\n",
            "dance: music, country, addition, study, traditional, art, order, philosophy, spanish, popular\n",
            "\n",
            "\n"
          ]
        },
        {
          "output_type": "stream",
          "name": "stderr",
          "text": [
            "14003it [02:35, 70.55it/s]"
          ]
        },
        {
          "output_type": "stream",
          "name": "stdout",
          "text": [
            "| epoch   4 | 14000/32580 batches | loss    1.328 \n",
            "money: fact, way, result, play, time, even, it, possible, others, well\n",
            "lion: seven, addition, father, died, four, president, three, eight, six, sent\n",
            "africa: india, europe, france, south, north, america, china, germany, canada, australia\n",
            "musician: actress, actor, singer, author, writer, politician, nine, zero, seven, canadian\n",
            "dance: music, country, addition, study, traditional, art, order, philosophy, spanish, popular\n",
            "\n",
            "\n"
          ]
        },
        {
          "output_type": "stream",
          "name": "stderr",
          "text": [
            "14500it [02:41, 95.50it/s]"
          ]
        },
        {
          "output_type": "stream",
          "name": "stdout",
          "text": [
            "| epoch   4 | 14500/32580 batches | loss    1.329 \n",
            "money: fact, way, result, play, time, even, it, possible, others, well\n",
            "lion: seven, addition, father, died, four, president, three, eight, six, sent\n",
            "africa: india, europe, france, south, north, america, china, germany, canada, australia\n",
            "musician: actress, actor, singer, author, writer, politician, nine, zero, seven, canadian\n",
            "dance: music, country, addition, study, traditional, art, order, philosophy, spanish, popular\n",
            "\n",
            "\n"
          ]
        },
        {
          "output_type": "stream",
          "name": "stderr",
          "text": [
            "15000it [02:46, 95.63it/s]"
          ]
        },
        {
          "output_type": "stream",
          "name": "stdout",
          "text": [
            "| epoch   4 | 15000/32580 batches | loss    1.333 \n",
            "money: fact, way, result, play, time, even, it, possible, others, well\n",
            "lion: seven, addition, father, died, four, president, three, eight, six, sent\n",
            "africa: india, europe, france, south, north, america, china, germany, canada, australia\n",
            "musician: actress, actor, singer, author, writer, politician, nine, zero, seven, canadian\n",
            "dance: music, country, addition, study, traditional, art, order, philosophy, spanish, popular\n",
            "\n",
            "\n"
          ]
        },
        {
          "output_type": "stream",
          "name": "stderr",
          "text": [
            "15500it [02:51, 95.68it/s]"
          ]
        },
        {
          "output_type": "stream",
          "name": "stdout",
          "text": [
            "| epoch   4 | 15500/32580 batches | loss    1.333 \n",
            "money: fact, way, result, play, time, even, it, possible, others, well\n",
            "lion: seven, addition, father, died, four, president, three, eight, six, sent\n",
            "africa: india, europe, france, south, north, america, china, germany, canada, australia\n",
            "musician: actress, actor, singer, author, writer, politician, nine, zero, seven, canadian\n",
            "dance: music, country, addition, study, traditional, art, order, philosophy, spanish, popular\n",
            "\n",
            "\n"
          ]
        },
        {
          "output_type": "stream",
          "name": "stderr",
          "text": [
            "16000it [02:57, 94.46it/s]"
          ]
        },
        {
          "output_type": "stream",
          "name": "stdout",
          "text": [
            "| epoch   4 | 16000/32580 batches | loss    1.332 \n",
            "money: fact, way, result, play, time, even, it, possible, others, well\n",
            "lion: seven, addition, father, died, four, president, three, eight, six, sent\n",
            "africa: india, europe, france, south, north, america, china, germany, canada, australia\n",
            "musician: actress, actor, singer, author, writer, politician, nine, zero, seven, canadian\n",
            "dance: music, country, addition, study, traditional, art, order, philosophy, spanish, popular\n",
            "\n",
            "\n"
          ]
        },
        {
          "output_type": "stream",
          "name": "stderr",
          "text": [
            "16500it [03:02, 94.84it/s]"
          ]
        },
        {
          "output_type": "stream",
          "name": "stdout",
          "text": [
            "| epoch   4 | 16500/32580 batches | loss    1.332 \n",
            "money: fact, way, result, play, time, even, it, possible, others, well\n",
            "lion: seven, addition, father, died, four, president, three, eight, six, sent\n",
            "africa: india, europe, france, south, north, america, china, germany, canada, australia\n",
            "musician: actress, actor, singer, author, writer, politician, nine, zero, seven, canadian\n",
            "dance: music, country, addition, study, traditional, art, order, philosophy, spanish, popular\n",
            "\n",
            "\n"
          ]
        },
        {
          "output_type": "stream",
          "name": "stderr",
          "text": [
            "17000it [03:08, 94.75it/s]"
          ]
        },
        {
          "output_type": "stream",
          "name": "stdout",
          "text": [
            "| epoch   4 | 17000/32580 batches | loss    1.333 \n",
            "money: fact, way, result, play, time, even, it, possible, others, well\n",
            "lion: seven, addition, father, died, four, president, three, eight, six, sent\n",
            "africa: india, europe, france, south, north, america, china, germany, canada, australia\n",
            "musician: actress, actor, singer, author, writer, politician, nine, zero, seven, canadian\n",
            "dance: music, country, addition, study, traditional, art, order, philosophy, spanish, popular\n",
            "\n",
            "\n"
          ]
        },
        {
          "output_type": "stream",
          "name": "stderr",
          "text": [
            "17499it [03:13, 94.85it/s]"
          ]
        },
        {
          "output_type": "stream",
          "name": "stdout",
          "text": [
            "| epoch   4 | 17500/32580 batches | loss    1.330 \n",
            "money: fact, way, result, play, time, even, it, possible, others, well\n",
            "lion: seven, addition, father, died, four, president, three, eight, six, sent\n",
            "africa: india, europe, france, south, north, america, china, germany, canada, australia\n",
            "musician: actress, actor, singer, author, writer, politician, nine, zero, seven, canadian\n",
            "dance: music, country, addition, study, traditional, art, order, philosophy, spanish, popular\n",
            "\n",
            "\n"
          ]
        },
        {
          "output_type": "stream",
          "name": "stderr",
          "text": [
            "17999it [03:18, 94.37it/s]"
          ]
        },
        {
          "output_type": "stream",
          "name": "stdout",
          "text": [
            "| epoch   4 | 18000/32580 batches | loss    1.331 \n",
            "money: fact, way, result, play, time, even, it, possible, others, well\n",
            "lion: seven, addition, father, died, four, president, three, eight, six, sent\n",
            "africa: india, europe, france, south, north, america, china, germany, canada, australia\n",
            "musician: actress, actor, singer, author, writer, politician, nine, zero, seven, canadian\n",
            "dance: music, country, addition, study, traditional, art, order, philosophy, spanish, popular\n",
            "\n",
            "\n"
          ]
        },
        {
          "output_type": "stream",
          "name": "stderr",
          "text": [
            "18499it [03:24, 93.61it/s]"
          ]
        },
        {
          "output_type": "stream",
          "name": "stdout",
          "text": [
            "| epoch   4 | 18500/32580 batches | loss    1.337 \n",
            "money: fact, way, result, play, time, even, it, possible, others, well\n",
            "lion: seven, addition, father, died, four, president, three, eight, six, sent\n",
            "africa: india, europe, france, south, north, america, china, germany, canada, australia\n",
            "musician: actress, actor, singer, author, writer, politician, nine, zero, seven, canadian\n",
            "dance: music, country, addition, study, traditional, art, order, philosophy, spanish, popular\n",
            "\n",
            "\n"
          ]
        },
        {
          "output_type": "stream",
          "name": "stderr",
          "text": [
            "18999it [03:29, 93.70it/s]"
          ]
        },
        {
          "output_type": "stream",
          "name": "stdout",
          "text": [
            "| epoch   4 | 19000/32580 batches | loss    1.330 \n",
            "money: fact, way, result, play, time, even, it, possible, others, well\n",
            "lion: seven, addition, father, died, four, president, three, eight, six, sent\n",
            "africa: india, europe, france, south, north, america, china, germany, canada, australia\n",
            "musician: actress, actor, singer, author, writer, politician, nine, zero, seven, canadian\n",
            "dance: music, country, addition, study, traditional, art, order, philosophy, spanish, popular\n",
            "\n",
            "\n"
          ]
        },
        {
          "output_type": "stream",
          "name": "stderr",
          "text": [
            "19499it [03:35, 95.21it/s]"
          ]
        },
        {
          "output_type": "stream",
          "name": "stdout",
          "text": [
            "| epoch   4 | 19500/32580 batches | loss    1.334 \n",
            "money: fact, way, result, play, time, even, it, possible, others, well\n",
            "lion: seven, addition, father, died, four, president, three, eight, six, sent\n",
            "africa: india, europe, france, south, north, america, china, germany, canada, australia\n",
            "musician: actress, actor, singer, author, writer, politician, nine, zero, seven, canadian\n",
            "dance: music, country, addition, study, traditional, art, order, philosophy, spanish, popular\n",
            "\n",
            "\n"
          ]
        },
        {
          "output_type": "stream",
          "name": "stderr",
          "text": [
            "19999it [03:40, 95.15it/s]"
          ]
        },
        {
          "output_type": "stream",
          "name": "stdout",
          "text": [
            "| epoch   4 | 20000/32580 batches | loss    1.332 \n",
            "money: fact, way, result, play, time, even, it, possible, others, well\n",
            "lion: seven, addition, father, died, four, president, three, eight, six, sent\n",
            "africa: india, europe, france, south, north, america, china, germany, canada, australia\n",
            "musician: actress, actor, singer, author, writer, politician, nine, zero, seven, canadian\n",
            "dance: music, country, addition, study, traditional, art, order, philosophy, spanish, popular\n",
            "\n",
            "\n"
          ]
        },
        {
          "output_type": "stream",
          "name": "stderr",
          "text": [
            "20499it [03:45, 94.52it/s]"
          ]
        },
        {
          "output_type": "stream",
          "name": "stdout",
          "text": [
            "| epoch   4 | 20500/32580 batches | loss    1.327 \n",
            "money: fact, way, result, play, time, even, it, possible, others, well\n",
            "lion: seven, addition, father, died, four, president, three, eight, six, sent\n",
            "africa: india, europe, france, south, north, america, china, germany, canada, australia\n",
            "musician: actress, actor, singer, author, writer, politician, nine, zero, seven, canadian\n",
            "dance: music, country, addition, study, traditional, art, order, philosophy, spanish, popular\n",
            "\n",
            "\n"
          ]
        },
        {
          "output_type": "stream",
          "name": "stderr",
          "text": [
            "20999it [03:51, 95.79it/s]"
          ]
        },
        {
          "output_type": "stream",
          "name": "stdout",
          "text": [
            "| epoch   4 | 21000/32580 batches | loss    1.331 \n",
            "money: fact, way, result, play, time, even, it, possible, others, well\n",
            "lion: seven, addition, father, died, four, president, three, eight, six, sent\n",
            "africa: india, europe, france, south, north, america, china, germany, canada, australia\n",
            "musician: actress, actor, singer, author, writer, politician, nine, zero, seven, canadian\n",
            "dance: music, country, addition, study, traditional, art, order, philosophy, spanish, popular\n",
            "\n",
            "\n"
          ]
        },
        {
          "output_type": "stream",
          "name": "stderr",
          "text": [
            "21498it [03:56, 94.02it/s]"
          ]
        },
        {
          "output_type": "stream",
          "name": "stdout",
          "text": [
            "| epoch   4 | 21500/32580 batches | loss    1.334 \n",
            "money: fact, way, result, play, time, even, it, possible, others, well\n",
            "lion: seven, addition, father, died, four, president, three, eight, six, sent\n",
            "africa: india, europe, france, south, north, america, china, germany, canada, australia\n",
            "musician: actress, actor, singer, author, writer, politician, nine, zero, seven, canadian\n",
            "dance: music, country, addition, study, traditional, art, order, philosophy, spanish, popular\n",
            "\n",
            "\n"
          ]
        },
        {
          "output_type": "stream",
          "name": "stderr",
          "text": [
            "21997it [04:02, 95.28it/s]"
          ]
        },
        {
          "output_type": "stream",
          "name": "stdout",
          "text": [
            "| epoch   4 | 22000/32580 batches | loss    1.331 \n",
            "money: fact, way, result, play, time, even, it, possible, others, well\n",
            "lion: seven, addition, father, died, four, president, three, eight, six, sent\n",
            "africa: india, europe, france, south, north, america, china, germany, canada, australia\n",
            "musician: actress, actor, singer, author, writer, politician, nine, zero, seven, canadian\n",
            "dance: music, country, addition, study, traditional, art, order, philosophy, spanish, popular\n",
            "\n",
            "\n"
          ]
        },
        {
          "output_type": "stream",
          "name": "stderr",
          "text": [
            "22497it [04:07, 93.62it/s]"
          ]
        },
        {
          "output_type": "stream",
          "name": "stdout",
          "text": [
            "| epoch   4 | 22500/32580 batches | loss    1.333 \n",
            "money: fact, way, result, play, time, even, it, possible, others, well\n",
            "lion: seven, addition, father, died, four, president, three, eight, six, sent\n",
            "africa: india, europe, france, south, north, america, china, germany, canada, australia\n",
            "musician: actress, actor, singer, author, writer, politician, nine, zero, seven, canadian\n",
            "dance: music, country, addition, study, traditional, art, order, philosophy, spanish, popular\n",
            "\n",
            "\n"
          ]
        },
        {
          "output_type": "stream",
          "name": "stderr",
          "text": [
            "23007it [04:13, 68.41it/s]"
          ]
        },
        {
          "output_type": "stream",
          "name": "stdout",
          "text": [
            "| epoch   4 | 23000/32580 batches | loss    1.332 \n",
            "money: fact, way, result, play, time, even, it, possible, others, well\n",
            "lion: seven, addition, father, died, four, president, three, eight, six, sent\n",
            "africa: india, europe, france, south, north, america, china, germany, canada, australia\n",
            "musician: actress, actor, singer, author, writer, politician, nine, zero, seven, canadian\n",
            "dance: music, country, addition, study, traditional, art, order, philosophy, spanish, popular\n",
            "\n",
            "\n"
          ]
        },
        {
          "output_type": "stream",
          "name": "stderr",
          "text": [
            "23497it [04:18, 95.41it/s]"
          ]
        },
        {
          "output_type": "stream",
          "name": "stdout",
          "text": [
            "| epoch   4 | 23500/32580 batches | loss    1.329 \n",
            "money: fact, way, result, play, time, even, it, possible, others, well\n",
            "lion: seven, addition, father, died, four, president, three, eight, six, sent\n",
            "africa: india, europe, france, south, north, america, china, germany, canada, australia\n",
            "musician: actress, actor, singer, author, writer, politician, nine, zero, seven, canadian\n",
            "dance: music, country, addition, study, traditional, art, order, philosophy, spanish, popular\n",
            "\n",
            "\n"
          ]
        },
        {
          "output_type": "stream",
          "name": "stderr",
          "text": [
            "24006it [04:26, 68.18it/s]"
          ]
        },
        {
          "output_type": "stream",
          "name": "stdout",
          "text": [
            "| epoch   4 | 24000/32580 batches | loss    1.331 \n",
            "money: fact, way, result, play, time, even, it, possible, others, well\n",
            "lion: seven, addition, father, died, four, president, three, eight, six, sent\n",
            "africa: india, europe, france, south, north, america, china, germany, canada, australia\n",
            "musician: actress, actor, singer, author, writer, politician, nine, zero, seven, canadian\n",
            "dance: music, country, addition, study, traditional, art, order, philosophy, spanish, popular\n",
            "\n",
            "\n"
          ]
        },
        {
          "output_type": "stream",
          "name": "stderr",
          "text": [
            "24505it [04:31, 69.46it/s]"
          ]
        },
        {
          "output_type": "stream",
          "name": "stdout",
          "text": [
            "| epoch   4 | 24500/32580 batches | loss    1.333 \n",
            "money: fact, way, result, play, time, even, it, possible, others, well\n",
            "lion: seven, addition, father, died, four, president, three, eight, six, sent\n",
            "africa: india, europe, france, south, north, america, china, germany, canada, australia\n",
            "musician: actress, actor, singer, author, writer, politician, nine, zero, seven, canadian\n",
            "dance: music, country, addition, study, traditional, art, order, philosophy, spanish, popular\n",
            "\n",
            "\n"
          ]
        },
        {
          "output_type": "stream",
          "name": "stderr",
          "text": [
            "25004it [04:37, 70.20it/s]"
          ]
        },
        {
          "output_type": "stream",
          "name": "stdout",
          "text": [
            "| epoch   4 | 25000/32580 batches | loss    1.331 \n",
            "money: fact, way, result, play, time, even, it, possible, others, well\n",
            "lion: seven, addition, father, died, four, president, three, eight, six, sent\n",
            "africa: india, europe, france, south, north, america, china, germany, canada, australia\n",
            "musician: actress, actor, singer, author, writer, politician, nine, zero, seven, canadian\n",
            "dance: music, country, addition, study, traditional, art, order, philosophy, spanish, popular\n",
            "\n",
            "\n"
          ]
        },
        {
          "output_type": "stream",
          "name": "stderr",
          "text": [
            "25503it [04:42, 70.66it/s]"
          ]
        },
        {
          "output_type": "stream",
          "name": "stdout",
          "text": [
            "| epoch   4 | 25500/32580 batches | loss    1.335 \n",
            "money: fact, way, result, play, time, even, it, possible, others, well\n",
            "lion: seven, addition, father, died, four, president, three, eight, six, sent\n",
            "africa: india, europe, france, south, north, america, china, germany, canada, australia\n",
            "musician: actress, actor, singer, author, writer, politician, nine, zero, seven, canadian\n",
            "dance: music, country, addition, study, traditional, art, order, philosophy, spanish, popular\n",
            "\n",
            "\n"
          ]
        },
        {
          "output_type": "stream",
          "name": "stderr",
          "text": [
            "26002it [04:47, 70.02it/s]"
          ]
        },
        {
          "output_type": "stream",
          "name": "stdout",
          "text": [
            "| epoch   4 | 26000/32580 batches | loss    1.327 \n",
            "money: fact, way, result, play, time, even, it, possible, others, well\n",
            "lion: seven, addition, father, died, four, president, three, eight, six, sent\n",
            "africa: india, europe, france, south, north, america, china, germany, canada, australia\n",
            "musician: actress, actor, singer, author, writer, politician, nine, zero, seven, canadian\n",
            "dance: music, country, addition, study, traditional, art, order, philosophy, spanish, popular\n",
            "\n",
            "\n"
          ]
        },
        {
          "output_type": "stream",
          "name": "stderr",
          "text": [
            "26500it [04:53, 94.53it/s]"
          ]
        },
        {
          "output_type": "stream",
          "name": "stdout",
          "text": [
            "| epoch   4 | 26500/32580 batches | loss    1.329 \n",
            "money: fact, way, result, play, time, even, it, possible, others, well\n",
            "lion: seven, addition, father, died, four, president, three, eight, six, sent\n",
            "africa: india, europe, france, south, north, america, china, germany, canada, australia\n",
            "musician: actress, actor, singer, author, writer, politician, nine, zero, seven, canadian\n",
            "dance: music, country, addition, study, traditional, art, order, philosophy, spanish, popular\n",
            "\n",
            "\n"
          ]
        },
        {
          "output_type": "stream",
          "name": "stderr",
          "text": [
            "27000it [04:58, 94.72it/s]"
          ]
        },
        {
          "output_type": "stream",
          "name": "stdout",
          "text": [
            "| epoch   4 | 27000/32580 batches | loss    1.332 \n",
            "money: fact, way, result, play, time, even, it, possible, others, well\n",
            "lion: seven, addition, father, died, four, president, three, eight, six, sent\n",
            "africa: india, europe, france, south, north, america, china, germany, canada, australia\n",
            "musician: actress, actor, singer, author, writer, politician, nine, zero, seven, canadian\n",
            "dance: music, country, addition, study, traditional, art, order, philosophy, spanish, popular\n",
            "\n",
            "\n"
          ]
        },
        {
          "output_type": "stream",
          "name": "stderr",
          "text": [
            "27497it [05:04, 94.05it/s]"
          ]
        },
        {
          "output_type": "stream",
          "name": "stdout",
          "text": [
            "| epoch   4 | 27500/32580 batches | loss    1.331 \n",
            "money: fact, way, result, play, time, even, it, possible, others, well\n",
            "lion: seven, addition, father, died, four, president, three, eight, six, sent\n",
            "africa: india, europe, france, south, north, america, china, germany, canada, australia\n",
            "musician: actress, actor, singer, author, writer, politician, nine, zero, seven, canadian\n",
            "dance: music, country, addition, study, traditional, art, order, philosophy, spanish, popular\n",
            "\n",
            "\n"
          ]
        },
        {
          "output_type": "stream",
          "name": "stderr",
          "text": [
            "28006it [05:09, 68.70it/s]"
          ]
        },
        {
          "output_type": "stream",
          "name": "stdout",
          "text": [
            "| epoch   4 | 28000/32580 batches | loss    1.331 \n",
            "money: fact, way, result, play, time, even, it, possible, others, well\n",
            "lion: seven, addition, father, died, four, president, three, eight, six, sent\n",
            "africa: india, europe, france, south, north, america, china, germany, canada, australia\n",
            "musician: actress, actor, singer, author, writer, politician, nine, zero, seven, canadian\n",
            "dance: music, country, addition, study, traditional, art, order, philosophy, spanish, popular\n",
            "\n",
            "\n"
          ]
        },
        {
          "output_type": "stream",
          "name": "stderr",
          "text": [
            "28505it [05:15, 69.10it/s]"
          ]
        },
        {
          "output_type": "stream",
          "name": "stdout",
          "text": [
            "| epoch   4 | 28500/32580 batches | loss    1.329 \n",
            "money: fact, way, result, play, time, even, it, possible, others, well\n",
            "lion: seven, addition, father, died, four, president, three, eight, six, sent\n",
            "africa: india, europe, france, south, north, america, china, germany, canada, australia\n",
            "musician: actress, actor, singer, author, writer, politician, nine, zero, seven, canadian\n",
            "dance: music, country, addition, study, traditional, art, order, philosophy, spanish, popular\n",
            "\n",
            "\n"
          ]
        },
        {
          "output_type": "stream",
          "name": "stderr",
          "text": [
            "29004it [05:20, 68.68it/s]"
          ]
        },
        {
          "output_type": "stream",
          "name": "stdout",
          "text": [
            "| epoch   4 | 29000/32580 batches | loss    1.333 \n",
            "money: fact, way, result, play, time, even, it, possible, others, well\n",
            "lion: seven, addition, father, died, four, president, three, eight, six, sent\n",
            "africa: india, europe, france, south, north, america, china, germany, canada, australia\n",
            "musician: actress, actor, singer, author, writer, politician, nine, zero, seven, canadian\n",
            "dance: music, country, addition, study, traditional, art, order, philosophy, spanish, popular\n",
            "\n",
            "\n"
          ]
        },
        {
          "output_type": "stream",
          "name": "stderr",
          "text": [
            "29502it [05:25, 71.62it/s]"
          ]
        },
        {
          "output_type": "stream",
          "name": "stdout",
          "text": [
            "| epoch   4 | 29500/32580 batches | loss    1.332 \n",
            "money: fact, way, result, play, time, even, it, possible, others, well\n",
            "lion: seven, addition, father, died, four, president, three, eight, six, sent\n",
            "africa: india, europe, france, south, north, america, china, germany, canada, australia\n",
            "musician: actress, actor, singer, author, writer, politician, nine, zero, seven, canadian\n",
            "dance: music, country, addition, study, traditional, art, order, philosophy, spanish, popular\n",
            "\n",
            "\n"
          ]
        },
        {
          "output_type": "stream",
          "name": "stderr",
          "text": [
            "30000it [05:31, 94.26it/s]"
          ]
        },
        {
          "output_type": "stream",
          "name": "stdout",
          "text": [
            "| epoch   4 | 30000/32580 batches | loss    1.327 \n",
            "money: fact, way, result, play, time, even, it, possible, others, well\n",
            "lion: seven, addition, father, died, four, president, three, eight, six, sent\n",
            "africa: india, europe, france, south, north, america, china, germany, canada, australia\n",
            "musician: actress, actor, singer, author, writer, politician, nine, zero, seven, canadian\n",
            "dance: music, country, addition, study, traditional, art, order, philosophy, spanish, popular\n",
            "\n",
            "\n"
          ]
        },
        {
          "output_type": "stream",
          "name": "stderr",
          "text": [
            "30500it [05:36, 93.28it/s]"
          ]
        },
        {
          "output_type": "stream",
          "name": "stdout",
          "text": [
            "| epoch   4 | 30500/32580 batches | loss    1.332 \n",
            "money: fact, way, result, play, time, even, it, possible, others, well\n",
            "lion: seven, addition, father, died, four, president, three, eight, six, sent\n",
            "africa: india, europe, france, south, north, america, china, germany, canada, australia\n",
            "musician: actress, actor, singer, author, writer, politician, nine, zero, seven, canadian\n",
            "dance: music, country, addition, study, traditional, art, order, philosophy, spanish, popular\n",
            "\n",
            "\n"
          ]
        },
        {
          "output_type": "stream",
          "name": "stderr",
          "text": [
            "31000it [05:42, 95.36it/s]"
          ]
        },
        {
          "output_type": "stream",
          "name": "stdout",
          "text": [
            "| epoch   4 | 31000/32580 batches | loss    1.326 \n",
            "money: fact, way, result, play, time, even, it, possible, others, well\n",
            "lion: seven, addition, father, died, four, president, three, eight, six, sent\n",
            "africa: india, europe, france, south, north, america, china, germany, canada, australia\n",
            "musician: actress, actor, singer, author, writer, politician, nine, zero, seven, canadian\n",
            "dance: music, country, addition, study, traditional, art, order, philosophy, spanish, popular\n",
            "\n",
            "\n"
          ]
        },
        {
          "output_type": "stream",
          "name": "stderr",
          "text": [
            "31500it [05:47, 95.96it/s]"
          ]
        },
        {
          "output_type": "stream",
          "name": "stdout",
          "text": [
            "| epoch   4 | 31500/32580 batches | loss    1.330 \n",
            "money: fact, way, result, play, time, even, it, possible, others, well\n",
            "lion: seven, addition, father, died, four, president, three, eight, six, sent\n",
            "africa: india, europe, france, south, north, america, china, germany, canada, australia\n",
            "musician: actress, actor, singer, author, writer, politician, nine, zero, seven, canadian\n",
            "dance: music, country, addition, study, traditional, art, order, philosophy, spanish, popular\n",
            "\n",
            "\n"
          ]
        },
        {
          "output_type": "stream",
          "name": "stderr",
          "text": [
            "32000it [05:53, 90.34it/s]"
          ]
        },
        {
          "output_type": "stream",
          "name": "stdout",
          "text": [
            "| epoch   4 | 32000/32580 batches | loss    1.334 \n",
            "money: fact, way, result, play, time, even, it, possible, others, well\n",
            "lion: seven, addition, father, died, four, president, three, eight, six, sent\n",
            "africa: india, europe, france, south, north, america, china, germany, canada, australia\n",
            "musician: actress, actor, singer, author, writer, politician, nine, zero, seven, canadian\n",
            "dance: music, country, addition, study, traditional, art, order, philosophy, spanish, popular\n",
            "\n",
            "\n"
          ]
        },
        {
          "output_type": "stream",
          "name": "stderr",
          "text": [
            "32500it [05:58, 95.54it/s]"
          ]
        },
        {
          "output_type": "stream",
          "name": "stdout",
          "text": [
            "| epoch   4 | 32500/32580 batches | loss    1.332 \n",
            "money: fact, way, result, play, time, even, it, possible, others, well\n",
            "lion: seven, addition, father, died, four, president, three, eight, six, sent\n",
            "africa: india, europe, france, south, north, america, china, germany, canada, australia\n",
            "musician: actress, actor, singer, author, writer, politician, nine, zero, seven, canadian\n",
            "dance: music, country, addition, study, traditional, art, order, philosophy, spanish, popular\n",
            "\n",
            "\n"
          ]
        },
        {
          "output_type": "stream",
          "name": "stderr",
          "text": [
            "32580it [06:01, 90.19it/s]\n",
            "1it [00:01,  1.73s/it]"
          ]
        },
        {
          "output_type": "stream",
          "name": "stdout",
          "text": [
            "| epoch   5 |     0/32580 batches | loss    1.425 \n",
            "money: fact, way, result, play, time, even, it, possible, others, well\n",
            "lion: seven, addition, father, died, four, president, three, eight, six, sent\n",
            "africa: india, europe, france, south, north, america, china, germany, canada, australia\n",
            "musician: actress, actor, singer, author, writer, politician, nine, zero, seven, canadian\n",
            "dance: music, country, addition, study, traditional, art, order, philosophy, spanish, popular\n",
            "\n",
            "\n"
          ]
        },
        {
          "output_type": "stream",
          "name": "stderr",
          "text": [
            "505it [00:07, 69.48it/s]"
          ]
        },
        {
          "output_type": "stream",
          "name": "stdout",
          "text": [
            "| epoch   5 |   500/32580 batches | loss    1.329 \n",
            "money: fact, way, result, play, time, even, it, possible, others, well\n",
            "lion: seven, addition, father, died, four, president, three, eight, six, sent\n",
            "africa: india, europe, france, south, north, america, china, germany, canada, australia\n",
            "musician: actress, actor, singer, author, writer, politician, nine, zero, seven, canadian\n",
            "dance: music, country, addition, study, traditional, art, order, philosophy, spanish, popular\n",
            "\n",
            "\n"
          ]
        },
        {
          "output_type": "stream",
          "name": "stderr",
          "text": [
            "1004it [00:12, 69.42it/s]"
          ]
        },
        {
          "output_type": "stream",
          "name": "stdout",
          "text": [
            "| epoch   5 |  1000/32580 batches | loss    1.332 \n",
            "money: fact, way, result, play, time, even, it, possible, others, well\n",
            "lion: seven, addition, father, died, four, president, three, eight, six, sent\n",
            "africa: india, europe, france, south, north, america, china, germany, canada, australia\n",
            "musician: actress, actor, singer, author, writer, politician, nine, zero, seven, canadian\n",
            "dance: music, country, addition, study, traditional, art, order, philosophy, spanish, popular\n",
            "\n",
            "\n"
          ]
        },
        {
          "output_type": "stream",
          "name": "stderr",
          "text": [
            "1503it [00:17, 70.32it/s]"
          ]
        },
        {
          "output_type": "stream",
          "name": "stdout",
          "text": [
            "| epoch   5 |  1500/32580 batches | loss    1.339 \n",
            "money: fact, way, result, play, time, even, it, possible, others, well\n",
            "lion: seven, addition, father, died, four, president, three, eight, six, sent\n",
            "africa: india, europe, france, south, north, america, china, germany, canada, australia\n",
            "musician: actress, actor, singer, author, writer, politician, nine, zero, seven, canadian\n",
            "dance: music, country, addition, study, traditional, art, order, philosophy, spanish, popular\n",
            "\n",
            "\n"
          ]
        },
        {
          "output_type": "stream",
          "name": "stderr",
          "text": [
            "2002it [00:23, 70.89it/s]"
          ]
        },
        {
          "output_type": "stream",
          "name": "stdout",
          "text": [
            "| epoch   5 |  2000/32580 batches | loss    1.334 \n",
            "money: fact, way, result, play, time, even, it, possible, others, well\n",
            "lion: seven, addition, father, died, four, president, three, eight, six, sent\n",
            "africa: india, europe, france, south, north, america, china, germany, canada, australia\n",
            "musician: actress, actor, singer, author, writer, politician, nine, zero, seven, canadian\n",
            "dance: music, country, addition, study, traditional, art, order, philosophy, spanish, popular\n",
            "\n",
            "\n"
          ]
        },
        {
          "output_type": "stream",
          "name": "stderr",
          "text": [
            "2500it [00:28, 93.66it/s]"
          ]
        },
        {
          "output_type": "stream",
          "name": "stdout",
          "text": [
            "| epoch   5 |  2500/32580 batches | loss    1.330 \n",
            "money: fact, way, result, play, time, even, it, possible, others, well\n",
            "lion: seven, addition, father, died, four, president, three, eight, six, sent\n",
            "africa: india, europe, france, south, north, america, china, germany, canada, australia\n",
            "musician: actress, actor, singer, author, writer, politician, nine, zero, seven, canadian\n",
            "dance: music, country, addition, study, traditional, art, order, philosophy, spanish, popular\n",
            "\n",
            "\n"
          ]
        },
        {
          "output_type": "stream",
          "name": "stderr",
          "text": [
            "3000it [00:34, 94.30it/s]"
          ]
        },
        {
          "output_type": "stream",
          "name": "stdout",
          "text": [
            "| epoch   5 |  3000/32580 batches | loss    1.329 \n",
            "money: fact, way, result, play, time, even, it, possible, others, well\n",
            "lion: seven, addition, father, died, four, president, three, eight, six, sent\n",
            "africa: india, europe, france, south, north, america, china, germany, canada, australia\n",
            "musician: actress, actor, singer, author, writer, politician, nine, zero, seven, canadian\n",
            "dance: music, country, addition, study, traditional, art, order, philosophy, spanish, popular\n",
            "\n",
            "\n"
          ]
        },
        {
          "output_type": "stream",
          "name": "stderr",
          "text": [
            "3500it [00:39, 95.93it/s]"
          ]
        },
        {
          "output_type": "stream",
          "name": "stdout",
          "text": [
            "| epoch   5 |  3500/32580 batches | loss    1.332 \n",
            "money: fact, way, result, play, time, even, it, possible, others, well\n",
            "lion: seven, addition, father, died, four, president, three, eight, six, sent\n",
            "africa: india, europe, france, south, north, america, china, germany, canada, australia\n",
            "musician: actress, actor, singer, author, writer, politician, nine, zero, seven, canadian\n",
            "dance: music, country, addition, study, traditional, art, order, philosophy, spanish, popular\n",
            "\n",
            "\n"
          ]
        },
        {
          "output_type": "stream",
          "name": "stderr",
          "text": [
            "4000it [00:44, 95.49it/s]"
          ]
        },
        {
          "output_type": "stream",
          "name": "stdout",
          "text": [
            "| epoch   5 |  4000/32580 batches | loss    1.331 \n",
            "money: fact, way, result, play, time, even, it, possible, others, well\n",
            "lion: seven, addition, father, died, four, president, three, eight, six, sent\n",
            "africa: india, europe, france, south, north, america, china, germany, canada, australia\n",
            "musician: actress, actor, singer, author, writer, politician, nine, zero, seven, canadian\n",
            "dance: music, country, addition, study, traditional, art, order, philosophy, spanish, popular\n",
            "\n",
            "\n"
          ]
        },
        {
          "output_type": "stream",
          "name": "stderr",
          "text": [
            "4500it [00:50, 93.18it/s]"
          ]
        },
        {
          "output_type": "stream",
          "name": "stdout",
          "text": [
            "| epoch   5 |  4500/32580 batches | loss    1.329 \n",
            "money: fact, way, result, play, time, even, it, possible, others, well\n",
            "lion: seven, addition, father, died, four, president, three, eight, six, sent\n",
            "africa: india, europe, france, south, north, america, china, germany, canada, australia\n",
            "musician: actress, actor, singer, author, writer, politician, nine, zero, seven, canadian\n",
            "dance: music, country, addition, study, traditional, art, order, philosophy, spanish, popular\n",
            "\n",
            "\n"
          ]
        },
        {
          "output_type": "stream",
          "name": "stderr",
          "text": [
            "5000it [00:55, 95.62it/s]"
          ]
        },
        {
          "output_type": "stream",
          "name": "stdout",
          "text": [
            "| epoch   5 |  5000/32580 batches | loss    1.330 \n",
            "money: fact, way, result, play, time, even, it, possible, others, well\n",
            "lion: seven, addition, father, died, four, president, three, eight, six, sent\n",
            "africa: india, europe, france, south, north, america, china, germany, canada, australia\n",
            "musician: actress, actor, singer, author, writer, politician, nine, zero, seven, canadian\n",
            "dance: music, country, addition, study, traditional, art, order, philosophy, spanish, popular\n",
            "\n",
            "\n"
          ]
        },
        {
          "output_type": "stream",
          "name": "stderr",
          "text": [
            "5500it [01:01, 93.56it/s]"
          ]
        },
        {
          "output_type": "stream",
          "name": "stdout",
          "text": [
            "| epoch   5 |  5500/32580 batches | loss    1.332 \n",
            "money: fact, way, result, play, time, even, it, possible, others, well\n",
            "lion: seven, addition, father, died, four, president, three, eight, six, sent\n",
            "africa: india, europe, france, south, north, america, china, germany, canada, australia\n",
            "musician: actress, actor, singer, author, writer, politician, nine, zero, seven, canadian\n",
            "dance: music, country, addition, study, traditional, art, order, philosophy, spanish, popular\n",
            "\n",
            "\n"
          ]
        },
        {
          "output_type": "stream",
          "name": "stderr",
          "text": [
            "6000it [01:06, 95.18it/s]"
          ]
        },
        {
          "output_type": "stream",
          "name": "stdout",
          "text": [
            "| epoch   5 |  6000/32580 batches | loss    1.331 \n",
            "money: fact, way, result, play, time, even, it, possible, others, well\n",
            "lion: seven, addition, father, died, four, president, three, eight, six, sent\n",
            "africa: india, europe, france, south, north, america, china, germany, canada, australia\n",
            "musician: actress, actor, singer, author, writer, politician, nine, zero, seven, canadian\n",
            "dance: music, country, addition, study, traditional, art, order, philosophy, spanish, popular\n",
            "\n",
            "\n"
          ]
        },
        {
          "output_type": "stream",
          "name": "stderr",
          "text": [
            "6500it [01:11, 95.24it/s]"
          ]
        },
        {
          "output_type": "stream",
          "name": "stdout",
          "text": [
            "| epoch   5 |  6500/32580 batches | loss    1.326 \n",
            "money: fact, way, result, play, time, even, it, possible, others, well\n",
            "lion: seven, addition, father, died, four, president, three, eight, six, sent\n",
            "africa: india, europe, france, south, north, america, china, germany, canada, australia\n",
            "musician: actress, actor, singer, author, writer, politician, nine, zero, seven, canadian\n",
            "dance: music, country, addition, study, traditional, art, order, philosophy, spanish, popular\n",
            "\n",
            "\n"
          ]
        },
        {
          "output_type": "stream",
          "name": "stderr",
          "text": [
            "7000it [01:17, 93.94it/s]"
          ]
        },
        {
          "output_type": "stream",
          "name": "stdout",
          "text": [
            "| epoch   5 |  7000/32580 batches | loss    1.330 \n",
            "money: fact, way, result, play, time, even, it, possible, others, well\n",
            "lion: seven, addition, father, died, four, president, three, eight, six, sent\n",
            "africa: india, europe, france, south, north, america, china, germany, canada, australia\n",
            "musician: actress, actor, singer, author, writer, politician, nine, zero, seven, canadian\n",
            "dance: music, country, addition, study, traditional, art, order, philosophy, spanish, popular\n",
            "\n",
            "\n"
          ]
        },
        {
          "output_type": "stream",
          "name": "stderr",
          "text": [
            "7499it [01:22, 93.50it/s]"
          ]
        },
        {
          "output_type": "stream",
          "name": "stdout",
          "text": [
            "| epoch   5 |  7500/32580 batches | loss    1.331 \n",
            "money: fact, way, result, play, time, even, it, possible, others, well\n",
            "lion: seven, addition, father, died, four, president, three, eight, six, sent\n",
            "africa: india, europe, france, south, north, america, china, germany, canada, australia\n",
            "musician: actress, actor, singer, author, writer, politician, nine, zero, seven, canadian\n",
            "dance: music, country, addition, study, traditional, art, order, philosophy, spanish, popular\n",
            "\n",
            "\n"
          ]
        },
        {
          "output_type": "stream",
          "name": "stderr",
          "text": [
            "7999it [01:28, 95.12it/s]"
          ]
        },
        {
          "output_type": "stream",
          "name": "stdout",
          "text": [
            "| epoch   5 |  8000/32580 batches | loss    1.332 \n",
            "money: fact, way, result, play, time, even, it, possible, others, well\n",
            "lion: seven, addition, father, died, four, president, three, eight, six, sent\n",
            "africa: india, europe, france, south, north, america, china, germany, canada, australia\n",
            "musician: actress, actor, singer, author, writer, politician, nine, zero, seven, canadian\n",
            "dance: music, country, addition, study, traditional, art, order, philosophy, spanish, popular\n",
            "\n",
            "\n"
          ]
        },
        {
          "output_type": "stream",
          "name": "stderr",
          "text": [
            "8499it [01:33, 95.29it/s]"
          ]
        },
        {
          "output_type": "stream",
          "name": "stdout",
          "text": [
            "| epoch   5 |  8500/32580 batches | loss    1.333 \n",
            "money: fact, way, result, play, time, even, it, possible, others, well\n",
            "lion: seven, addition, father, died, four, president, three, eight, six, sent\n",
            "africa: india, europe, france, south, north, america, china, germany, canada, australia\n",
            "musician: actress, actor, singer, author, writer, politician, nine, zero, seven, canadian\n",
            "dance: music, country, addition, study, traditional, art, order, philosophy, spanish, popular\n",
            "\n",
            "\n"
          ]
        },
        {
          "output_type": "stream",
          "name": "stderr",
          "text": [
            "8998it [01:39, 95.41it/s]"
          ]
        },
        {
          "output_type": "stream",
          "name": "stdout",
          "text": [
            "| epoch   5 |  9000/32580 batches | loss    1.330 \n",
            "money: fact, way, result, play, time, even, it, possible, others, well\n",
            "lion: seven, addition, father, died, four, president, three, eight, six, sent\n",
            "africa: india, europe, france, south, north, america, china, germany, canada, australia\n",
            "musician: actress, actor, singer, author, writer, politician, nine, zero, seven, canadian\n",
            "dance: music, country, addition, study, traditional, art, order, philosophy, spanish, popular\n",
            "\n",
            "\n"
          ]
        },
        {
          "output_type": "stream",
          "name": "stderr",
          "text": [
            "9498it [01:44, 95.40it/s]"
          ]
        },
        {
          "output_type": "stream",
          "name": "stdout",
          "text": [
            "| epoch   5 |  9500/32580 batches | loss    1.332 \n",
            "money: fact, way, result, play, time, even, it, possible, others, well\n",
            "lion: seven, addition, father, died, four, president, three, eight, six, sent\n",
            "africa: india, europe, france, south, north, america, china, germany, canada, australia\n",
            "musician: actress, actor, singer, author, writer, politician, nine, zero, seven, canadian\n",
            "dance: music, country, addition, study, traditional, art, order, philosophy, spanish, popular\n",
            "\n",
            "\n"
          ]
        },
        {
          "output_type": "stream",
          "name": "stderr",
          "text": [
            "9998it [01:49, 95.02it/s]"
          ]
        },
        {
          "output_type": "stream",
          "name": "stdout",
          "text": [
            "| epoch   5 | 10000/32580 batches | loss    1.329 \n",
            "money: fact, way, result, play, time, even, it, possible, others, well\n",
            "lion: seven, addition, father, died, four, president, three, eight, six, sent\n",
            "africa: india, europe, france, south, north, america, china, germany, canada, australia\n",
            "musician: actress, actor, singer, author, writer, politician, nine, zero, seven, canadian\n",
            "dance: music, country, addition, study, traditional, art, order, philosophy, spanish, popular\n",
            "\n",
            "\n"
          ]
        },
        {
          "output_type": "stream",
          "name": "stderr",
          "text": [
            "10497it [01:55, 92.87it/s]"
          ]
        },
        {
          "output_type": "stream",
          "name": "stdout",
          "text": [
            "| epoch   5 | 10500/32580 batches | loss    1.329 \n",
            "money: fact, way, result, play, time, even, it, possible, others, well\n",
            "lion: seven, addition, father, died, four, president, three, eight, six, sent\n",
            "africa: india, europe, france, south, north, america, china, germany, canada, australia\n",
            "musician: actress, actor, singer, author, writer, politician, nine, zero, seven, canadian\n",
            "dance: music, country, addition, study, traditional, art, order, philosophy, spanish, popular\n",
            "\n",
            "\n"
          ]
        },
        {
          "output_type": "stream",
          "name": "stderr",
          "text": [
            "10997it [02:00, 93.16it/s]"
          ]
        },
        {
          "output_type": "stream",
          "name": "stdout",
          "text": [
            "| epoch   5 | 11000/32580 batches | loss    1.331 \n",
            "money: fact, way, result, play, time, even, it, possible, others, well\n",
            "lion: seven, addition, father, died, four, president, three, eight, six, sent\n",
            "africa: india, europe, france, south, north, america, china, germany, canada, australia\n",
            "musician: actress, actor, singer, author, writer, politician, nine, zero, seven, canadian\n",
            "dance: music, country, addition, study, traditional, art, order, philosophy, spanish, popular\n",
            "\n",
            "\n"
          ]
        },
        {
          "output_type": "stream",
          "name": "stderr",
          "text": [
            "11506it [02:06, 68.36it/s]"
          ]
        },
        {
          "output_type": "stream",
          "name": "stdout",
          "text": [
            "| epoch   5 | 11500/32580 batches | loss    1.330 \n",
            "money: fact, way, result, play, time, even, it, possible, others, well\n",
            "lion: seven, addition, father, died, four, president, three, eight, six, sent\n",
            "africa: india, europe, france, south, north, america, china, germany, canada, australia\n",
            "musician: actress, actor, singer, author, writer, politician, nine, zero, seven, canadian\n",
            "dance: music, country, addition, study, traditional, art, order, philosophy, spanish, popular\n",
            "\n",
            "\n"
          ]
        },
        {
          "output_type": "stream",
          "name": "stderr",
          "text": [
            "12004it [02:11, 68.86it/s]"
          ]
        },
        {
          "output_type": "stream",
          "name": "stdout",
          "text": [
            "| epoch   5 | 12000/32580 batches | loss    1.328 \n",
            "money: fact, way, result, play, time, even, it, possible, others, well\n",
            "lion: seven, addition, father, died, four, president, three, eight, six, sent\n",
            "africa: india, europe, france, south, north, america, china, germany, canada, australia\n",
            "musician: actress, actor, singer, author, writer, politician, nine, zero, seven, canadian\n",
            "dance: music, country, addition, study, traditional, art, order, philosophy, spanish, popular\n",
            "\n",
            "\n"
          ]
        },
        {
          "output_type": "stream",
          "name": "stderr",
          "text": [
            "12503it [02:17, 69.71it/s]"
          ]
        },
        {
          "output_type": "stream",
          "name": "stdout",
          "text": [
            "| epoch   5 | 12500/32580 batches | loss    1.335 \n",
            "money: fact, way, result, play, time, even, it, possible, others, well\n",
            "lion: seven, addition, father, died, four, president, three, eight, six, sent\n",
            "africa: india, europe, france, south, north, america, china, germany, canada, australia\n",
            "musician: actress, actor, singer, author, writer, politician, nine, zero, seven, canadian\n",
            "dance: music, country, addition, study, traditional, art, order, philosophy, spanish, popular\n",
            "\n",
            "\n"
          ]
        },
        {
          "output_type": "stream",
          "name": "stderr",
          "text": [
            "13000it [02:22, 91.76it/s]"
          ]
        },
        {
          "output_type": "stream",
          "name": "stdout",
          "text": [
            "| epoch   5 | 13000/32580 batches | loss    1.331 \n",
            "money: fact, way, result, play, time, even, it, possible, others, well\n",
            "lion: seven, addition, father, died, four, president, three, eight, six, sent\n",
            "africa: india, europe, france, south, north, america, china, germany, canada, australia\n",
            "musician: actress, actor, singer, author, writer, politician, nine, zero, seven, canadian\n",
            "dance: music, country, addition, study, traditional, art, order, philosophy, spanish, popular\n",
            "\n",
            "\n"
          ]
        },
        {
          "output_type": "stream",
          "name": "stderr",
          "text": [
            "13498it [02:27, 92.55it/s]"
          ]
        },
        {
          "output_type": "stream",
          "name": "stdout",
          "text": [
            "| epoch   5 | 13500/32580 batches | loss    1.330 \n",
            "money: fact, way, result, play, time, even, it, possible, others, well\n",
            "lion: seven, addition, father, died, four, president, three, eight, six, sent\n",
            "africa: india, europe, france, south, north, america, china, germany, canada, australia\n",
            "musician: actress, actor, singer, author, writer, politician, nine, zero, seven, canadian\n",
            "dance: music, country, addition, study, traditional, art, order, philosophy, spanish, popular\n",
            "\n",
            "\n"
          ]
        },
        {
          "output_type": "stream",
          "name": "stderr",
          "text": [
            "13997it [02:33, 94.76it/s]"
          ]
        },
        {
          "output_type": "stream",
          "name": "stdout",
          "text": [
            "| epoch   5 | 14000/32580 batches | loss    1.329 \n",
            "money: fact, way, result, play, time, even, it, possible, others, well\n",
            "lion: seven, addition, father, died, four, president, three, eight, six, sent\n",
            "africa: india, europe, france, south, north, america, china, germany, canada, australia\n",
            "musician: actress, actor, singer, author, writer, politician, nine, zero, seven, canadian\n",
            "dance: music, country, addition, study, traditional, art, order, philosophy, spanish, popular\n",
            "\n",
            "\n"
          ]
        },
        {
          "output_type": "stream",
          "name": "stderr",
          "text": [
            "14506it [02:41, 67.50it/s]"
          ]
        },
        {
          "output_type": "stream",
          "name": "stdout",
          "text": [
            "| epoch   5 | 14500/32580 batches | loss    1.333 \n",
            "money: fact, way, result, play, time, even, it, possible, others, well\n",
            "lion: seven, addition, father, died, four, president, three, eight, six, sent\n",
            "africa: india, europe, france, south, north, america, china, germany, canada, australia\n",
            "musician: actress, actor, singer, author, writer, politician, nine, zero, seven, canadian\n",
            "dance: music, country, addition, study, traditional, art, order, philosophy, spanish, popular\n",
            "\n",
            "\n"
          ]
        },
        {
          "output_type": "stream",
          "name": "stderr",
          "text": [
            "15006it [02:46, 68.47it/s]"
          ]
        },
        {
          "output_type": "stream",
          "name": "stdout",
          "text": [
            "| epoch   5 | 15000/32580 batches | loss    1.327 \n",
            "money: fact, way, result, play, time, even, it, possible, others, well\n",
            "lion: seven, addition, father, died, four, president, three, eight, six, sent\n",
            "africa: india, europe, france, south, north, america, china, germany, canada, australia\n",
            "musician: actress, actor, singer, author, writer, politician, nine, zero, seven, canadian\n",
            "dance: music, country, addition, study, traditional, art, order, philosophy, spanish, popular\n",
            "\n",
            "\n"
          ]
        },
        {
          "output_type": "stream",
          "name": "stderr",
          "text": [
            "15505it [02:52, 67.81it/s]"
          ]
        },
        {
          "output_type": "stream",
          "name": "stdout",
          "text": [
            "| epoch   5 | 15500/32580 batches | loss    1.332 \n",
            "money: fact, way, result, play, time, even, it, possible, others, well\n",
            "lion: seven, addition, father, died, four, president, three, eight, six, sent\n",
            "africa: india, europe, france, south, north, america, china, germany, canada, australia\n",
            "musician: actress, actor, singer, author, writer, politician, nine, zero, seven, canadian\n",
            "dance: music, country, addition, study, traditional, art, order, philosophy, spanish, popular\n",
            "\n",
            "\n"
          ]
        },
        {
          "output_type": "stream",
          "name": "stderr",
          "text": [
            "16004it [02:57, 69.87it/s]"
          ]
        },
        {
          "output_type": "stream",
          "name": "stdout",
          "text": [
            "| epoch   5 | 16000/32580 batches | loss    1.333 \n",
            "money: fact, way, result, play, time, even, it, possible, others, well\n",
            "lion: seven, addition, father, died, four, president, three, eight, six, sent\n",
            "africa: india, europe, france, south, north, america, china, germany, canada, australia\n",
            "musician: actress, actor, singer, author, writer, politician, nine, zero, seven, canadian\n",
            "dance: music, country, addition, study, traditional, art, order, philosophy, spanish, popular\n",
            "\n",
            "\n"
          ]
        },
        {
          "output_type": "stream",
          "name": "stderr",
          "text": [
            "16503it [03:02, 70.70it/s]"
          ]
        },
        {
          "output_type": "stream",
          "name": "stdout",
          "text": [
            "| epoch   5 | 16500/32580 batches | loss    1.330 \n",
            "money: fact, way, result, play, time, even, it, possible, others, well\n",
            "lion: seven, addition, father, died, four, president, three, eight, six, sent\n",
            "africa: india, europe, france, south, north, america, china, germany, canada, australia\n",
            "musician: actress, actor, singer, author, writer, politician, nine, zero, seven, canadian\n",
            "dance: music, country, addition, study, traditional, art, order, philosophy, spanish, popular\n",
            "\n",
            "\n"
          ]
        },
        {
          "output_type": "stream",
          "name": "stderr",
          "text": [
            "17001it [03:08, 70.32it/s]"
          ]
        },
        {
          "output_type": "stream",
          "name": "stdout",
          "text": [
            "| epoch   5 | 17000/32580 batches | loss    1.330 \n",
            "money: fact, way, result, play, time, even, it, possible, others, well\n",
            "lion: seven, addition, father, died, four, president, three, eight, six, sent\n",
            "africa: india, europe, france, south, north, america, china, germany, canada, australia\n",
            "musician: actress, actor, singer, author, writer, politician, nine, zero, seven, canadian\n",
            "dance: music, country, addition, study, traditional, art, order, philosophy, spanish, popular\n",
            "\n",
            "\n"
          ]
        },
        {
          "output_type": "stream",
          "name": "stderr",
          "text": [
            "17499it [03:13, 95.25it/s]"
          ]
        },
        {
          "output_type": "stream",
          "name": "stdout",
          "text": [
            "| epoch   5 | 17500/32580 batches | loss    1.332 \n",
            "money: fact, way, result, play, time, even, it, possible, others, well\n",
            "lion: seven, addition, father, died, four, president, three, eight, six, sent\n",
            "africa: india, europe, france, south, north, america, china, germany, canada, australia\n",
            "musician: actress, actor, singer, author, writer, politician, nine, zero, seven, canadian\n",
            "dance: music, country, addition, study, traditional, art, order, philosophy, spanish, popular\n",
            "\n",
            "\n"
          ]
        },
        {
          "output_type": "stream",
          "name": "stderr",
          "text": [
            "17999it [03:19, 94.00it/s]"
          ]
        },
        {
          "output_type": "stream",
          "name": "stdout",
          "text": [
            "| epoch   5 | 18000/32580 batches | loss    1.333 \n",
            "money: fact, way, result, play, time, even, it, possible, others, well\n",
            "lion: seven, addition, father, died, four, president, three, eight, six, sent\n",
            "africa: india, europe, france, south, north, america, china, germany, canada, australia\n",
            "musician: actress, actor, singer, author, writer, politician, nine, zero, seven, canadian\n",
            "dance: music, country, addition, study, traditional, art, order, philosophy, spanish, popular\n",
            "\n",
            "\n"
          ]
        },
        {
          "output_type": "stream",
          "name": "stderr",
          "text": [
            "18499it [03:24, 94.09it/s]"
          ]
        },
        {
          "output_type": "stream",
          "name": "stdout",
          "text": [
            "| epoch   5 | 18500/32580 batches | loss    1.333 \n",
            "money: fact, way, result, play, time, even, it, possible, others, well\n",
            "lion: seven, addition, father, died, four, president, three, eight, six, sent\n",
            "africa: india, europe, france, south, north, america, china, germany, canada, australia\n",
            "musician: actress, actor, singer, author, writer, politician, nine, zero, seven, canadian\n",
            "dance: music, country, addition, study, traditional, art, order, philosophy, spanish, popular\n",
            "\n",
            "\n"
          ]
        },
        {
          "output_type": "stream",
          "name": "stderr",
          "text": [
            "18999it [03:29, 95.16it/s]"
          ]
        },
        {
          "output_type": "stream",
          "name": "stdout",
          "text": [
            "| epoch   5 | 19000/32580 batches | loss    1.327 \n",
            "money: fact, way, result, play, time, even, it, possible, others, well\n",
            "lion: seven, addition, father, died, four, president, three, eight, six, sent\n",
            "africa: india, europe, france, south, north, america, china, germany, canada, australia\n",
            "musician: actress, actor, singer, author, writer, politician, nine, zero, seven, canadian\n",
            "dance: music, country, addition, study, traditional, art, order, philosophy, spanish, popular\n",
            "\n",
            "\n"
          ]
        },
        {
          "output_type": "stream",
          "name": "stderr",
          "text": [
            "19499it [03:35, 94.06it/s]"
          ]
        },
        {
          "output_type": "stream",
          "name": "stdout",
          "text": [
            "| epoch   5 | 19500/32580 batches | loss    1.332 \n",
            "money: fact, way, result, play, time, even, it, possible, others, well\n",
            "lion: seven, addition, father, died, four, president, three, eight, six, sent\n",
            "africa: india, europe, france, south, north, america, china, germany, canada, australia\n",
            "musician: actress, actor, singer, author, writer, politician, nine, zero, seven, canadian\n",
            "dance: music, country, addition, study, traditional, art, order, philosophy, spanish, popular\n",
            "\n",
            "\n"
          ]
        },
        {
          "output_type": "stream",
          "name": "stderr",
          "text": [
            "19999it [03:40, 95.64it/s]"
          ]
        },
        {
          "output_type": "stream",
          "name": "stdout",
          "text": [
            "| epoch   5 | 20000/32580 batches | loss    1.324 \n",
            "money: fact, way, result, play, time, even, it, possible, others, well\n",
            "lion: seven, addition, father, died, four, president, three, eight, six, sent\n",
            "africa: india, europe, france, south, north, america, china, germany, canada, australia\n",
            "musician: actress, actor, singer, author, writer, politician, nine, zero, seven, canadian\n",
            "dance: music, country, addition, study, traditional, art, order, philosophy, spanish, popular\n",
            "\n",
            "\n"
          ]
        },
        {
          "output_type": "stream",
          "name": "stderr",
          "text": [
            "20498it [03:46, 95.59it/s]"
          ]
        },
        {
          "output_type": "stream",
          "name": "stdout",
          "text": [
            "| epoch   5 | 20500/32580 batches | loss    1.333 \n",
            "money: fact, way, result, play, time, even, it, possible, others, well\n",
            "lion: seven, addition, father, died, four, president, three, eight, six, sent\n",
            "africa: india, europe, france, south, north, america, china, germany, canada, australia\n",
            "musician: actress, actor, singer, author, writer, politician, nine, zero, seven, canadian\n",
            "dance: music, country, addition, study, traditional, art, order, philosophy, spanish, popular\n",
            "\n",
            "\n"
          ]
        },
        {
          "output_type": "stream",
          "name": "stderr",
          "text": [
            "20997it [03:51, 95.52it/s]"
          ]
        },
        {
          "output_type": "stream",
          "name": "stdout",
          "text": [
            "| epoch   5 | 21000/32580 batches | loss    1.334 \n",
            "money: fact, way, result, play, time, even, it, possible, others, well\n",
            "lion: seven, addition, father, died, four, president, three, eight, six, sent\n",
            "africa: india, europe, france, south, north, america, china, germany, canada, australia\n",
            "musician: actress, actor, singer, author, writer, politician, nine, zero, seven, canadian\n",
            "dance: music, country, addition, study, traditional, art, order, philosophy, spanish, popular\n",
            "\n",
            "\n"
          ]
        },
        {
          "output_type": "stream",
          "name": "stderr",
          "text": [
            "21507it [03:57, 67.16it/s]"
          ]
        },
        {
          "output_type": "stream",
          "name": "stdout",
          "text": [
            "| epoch   5 | 21500/32580 batches | loss    1.328 \n",
            "money: fact, way, result, play, time, even, it, possible, others, well\n",
            "lion: seven, addition, father, died, four, president, three, eight, six, sent\n",
            "africa: india, europe, france, south, north, america, china, germany, canada, australia\n",
            "musician: actress, actor, singer, author, writer, politician, nine, zero, seven, canadian\n",
            "dance: music, country, addition, study, traditional, art, order, philosophy, spanish, popular\n",
            "\n",
            "\n"
          ]
        },
        {
          "output_type": "stream",
          "name": "stderr",
          "text": [
            "22006it [04:02, 69.12it/s]"
          ]
        },
        {
          "output_type": "stream",
          "name": "stdout",
          "text": [
            "| epoch   5 | 22000/32580 batches | loss    1.331 \n",
            "money: fact, way, result, play, time, even, it, possible, others, well\n",
            "lion: seven, addition, father, died, four, president, three, eight, six, sent\n",
            "africa: india, europe, france, south, north, america, china, germany, canada, australia\n",
            "musician: actress, actor, singer, author, writer, politician, nine, zero, seven, canadian\n",
            "dance: music, country, addition, study, traditional, art, order, philosophy, spanish, popular\n",
            "\n",
            "\n"
          ]
        },
        {
          "output_type": "stream",
          "name": "stderr",
          "text": [
            "22505it [04:08, 69.28it/s]"
          ]
        },
        {
          "output_type": "stream",
          "name": "stdout",
          "text": [
            "| epoch   5 | 22500/32580 batches | loss    1.330 \n",
            "money: fact, way, result, play, time, even, it, possible, others, well\n",
            "lion: seven, addition, father, died, four, president, three, eight, six, sent\n",
            "africa: india, europe, france, south, north, america, china, germany, canada, australia\n",
            "musician: actress, actor, singer, author, writer, politician, nine, zero, seven, canadian\n",
            "dance: music, country, addition, study, traditional, art, order, philosophy, spanish, popular\n",
            "\n",
            "\n"
          ]
        },
        {
          "output_type": "stream",
          "name": "stderr",
          "text": [
            "23004it [04:13, 70.15it/s]"
          ]
        },
        {
          "output_type": "stream",
          "name": "stdout",
          "text": [
            "| epoch   5 | 23000/32580 batches | loss    1.332 \n",
            "money: fact, way, result, play, time, even, it, possible, others, well\n",
            "lion: seven, addition, father, died, four, president, three, eight, six, sent\n",
            "africa: india, europe, france, south, north, america, china, germany, canada, australia\n",
            "musician: actress, actor, singer, author, writer, politician, nine, zero, seven, canadian\n",
            "dance: music, country, addition, study, traditional, art, order, philosophy, spanish, popular\n",
            "\n",
            "\n"
          ]
        },
        {
          "output_type": "stream",
          "name": "stderr",
          "text": [
            "23501it [04:18, 71.31it/s]"
          ]
        },
        {
          "output_type": "stream",
          "name": "stdout",
          "text": [
            "| epoch   5 | 23500/32580 batches | loss    1.334 \n",
            "money: fact, way, result, play, time, even, it, possible, others, well\n",
            "lion: seven, addition, father, died, four, president, three, eight, six, sent\n",
            "africa: india, europe, france, south, north, america, china, germany, canada, australia\n",
            "musician: actress, actor, singer, author, writer, politician, nine, zero, seven, canadian\n",
            "dance: music, country, addition, study, traditional, art, order, philosophy, spanish, popular\n",
            "\n",
            "\n"
          ]
        },
        {
          "output_type": "stream",
          "name": "stderr",
          "text": [
            "23999it [04:24, 94.16it/s]"
          ]
        },
        {
          "output_type": "stream",
          "name": "stdout",
          "text": [
            "| epoch   5 | 24000/32580 batches | loss    1.327 \n",
            "money: fact, way, result, play, time, even, it, possible, others, well\n",
            "lion: seven, addition, father, died, four, president, three, eight, six, sent\n",
            "africa: india, europe, france, south, north, america, china, germany, canada, australia\n",
            "musician: actress, actor, singer, author, writer, politician, nine, zero, seven, canadian\n",
            "dance: music, country, addition, study, traditional, art, order, philosophy, spanish, popular\n",
            "\n",
            "\n"
          ]
        },
        {
          "output_type": "stream",
          "name": "stderr",
          "text": [
            "24498it [04:29, 93.23it/s]"
          ]
        },
        {
          "output_type": "stream",
          "name": "stdout",
          "text": [
            "| epoch   5 | 24500/32580 batches | loss    1.330 \n",
            "money: fact, way, result, play, time, even, it, possible, others, well\n",
            "lion: seven, addition, father, died, four, president, three, eight, six, sent\n",
            "africa: india, europe, france, south, north, america, china, germany, canada, australia\n",
            "musician: actress, actor, singer, author, writer, politician, nine, zero, seven, canadian\n",
            "dance: music, country, addition, study, traditional, art, order, philosophy, spanish, popular\n",
            "\n",
            "\n"
          ]
        },
        {
          "output_type": "stream",
          "name": "stderr",
          "text": [
            "25007it [04:35, 68.26it/s]"
          ]
        },
        {
          "output_type": "stream",
          "name": "stdout",
          "text": [
            "| epoch   5 | 25000/32580 batches | loss    1.332 \n",
            "money: fact, way, result, play, time, even, it, possible, others, well\n",
            "lion: seven, addition, father, died, four, president, three, eight, six, sent\n",
            "africa: india, europe, france, south, north, america, china, germany, canada, australia\n",
            "musician: actress, actor, singer, author, writer, politician, nine, zero, seven, canadian\n",
            "dance: music, country, addition, study, traditional, art, order, philosophy, spanish, popular\n",
            "\n",
            "\n"
          ]
        },
        {
          "output_type": "stream",
          "name": "stderr",
          "text": [
            "25507it [04:40, 68.06it/s]"
          ]
        },
        {
          "output_type": "stream",
          "name": "stdout",
          "text": [
            "| epoch   5 | 25500/32580 batches | loss    1.328 \n",
            "money: fact, way, result, play, time, even, it, possible, others, well\n",
            "lion: seven, addition, father, died, four, president, three, eight, six, sent\n",
            "africa: india, europe, france, south, north, america, china, germany, canada, australia\n",
            "musician: actress, actor, singer, author, writer, politician, nine, zero, seven, canadian\n",
            "dance: music, country, addition, study, traditional, art, order, philosophy, spanish, popular\n",
            "\n",
            "\n"
          ]
        },
        {
          "output_type": "stream",
          "name": "stderr",
          "text": [
            "26007it [04:46, 67.89it/s]"
          ]
        },
        {
          "output_type": "stream",
          "name": "stdout",
          "text": [
            "| epoch   5 | 26000/32580 batches | loss    1.332 \n",
            "money: fact, way, result, play, time, even, it, possible, others, well\n",
            "lion: seven, addition, father, died, four, president, three, eight, six, sent\n",
            "africa: india, europe, france, south, north, america, china, germany, canada, australia\n",
            "musician: actress, actor, singer, author, writer, politician, nine, zero, seven, canadian\n",
            "dance: music, country, addition, study, traditional, art, order, philosophy, spanish, popular\n",
            "\n",
            "\n"
          ]
        },
        {
          "output_type": "stream",
          "name": "stderr",
          "text": [
            "26506it [04:53, 66.63it/s]"
          ]
        },
        {
          "output_type": "stream",
          "name": "stdout",
          "text": [
            "| epoch   5 | 26500/32580 batches | loss    1.329 \n",
            "money: fact, way, result, play, time, even, it, possible, others, well\n",
            "lion: seven, addition, father, died, four, president, three, eight, six, sent\n",
            "africa: india, europe, france, south, north, america, china, germany, canada, australia\n",
            "musician: actress, actor, singer, author, writer, politician, nine, zero, seven, canadian\n",
            "dance: music, country, addition, study, traditional, art, order, philosophy, spanish, popular\n",
            "\n",
            "\n"
          ]
        },
        {
          "output_type": "stream",
          "name": "stderr",
          "text": [
            "27006it [04:59, 67.89it/s]"
          ]
        },
        {
          "output_type": "stream",
          "name": "stdout",
          "text": [
            "| epoch   5 | 27000/32580 batches | loss    1.329 \n",
            "money: fact, way, result, play, time, even, it, possible, others, well\n",
            "lion: seven, addition, father, died, four, president, three, eight, six, sent\n",
            "africa: india, europe, france, south, north, america, china, germany, canada, australia\n",
            "musician: actress, actor, singer, author, writer, politician, nine, zero, seven, canadian\n",
            "dance: music, country, addition, study, traditional, art, order, philosophy, spanish, popular\n",
            "\n",
            "\n"
          ]
        },
        {
          "output_type": "stream",
          "name": "stderr",
          "text": [
            "27506it [05:04, 68.45it/s]"
          ]
        },
        {
          "output_type": "stream",
          "name": "stdout",
          "text": [
            "| epoch   5 | 27500/32580 batches | loss    1.330 \n",
            "money: fact, way, result, play, time, even, it, possible, others, well\n",
            "lion: seven, addition, father, died, four, president, three, eight, six, sent\n",
            "africa: india, europe, france, south, north, america, china, germany, canada, australia\n",
            "musician: actress, actor, singer, author, writer, politician, nine, zero, seven, canadian\n",
            "dance: music, country, addition, study, traditional, art, order, philosophy, spanish, popular\n",
            "\n",
            "\n"
          ]
        },
        {
          "output_type": "stream",
          "name": "stderr",
          "text": [
            "28005it [05:10, 69.13it/s]"
          ]
        },
        {
          "output_type": "stream",
          "name": "stdout",
          "text": [
            "| epoch   5 | 28000/32580 batches | loss    1.333 \n",
            "money: fact, way, result, play, time, even, it, possible, others, well\n",
            "lion: seven, addition, father, died, four, president, three, eight, six, sent\n",
            "africa: india, europe, france, south, north, america, china, germany, canada, australia\n",
            "musician: actress, actor, singer, author, writer, politician, nine, zero, seven, canadian\n",
            "dance: music, country, addition, study, traditional, art, order, philosophy, spanish, popular\n",
            "\n",
            "\n"
          ]
        },
        {
          "output_type": "stream",
          "name": "stderr",
          "text": [
            "28503it [05:15, 70.26it/s]"
          ]
        },
        {
          "output_type": "stream",
          "name": "stdout",
          "text": [
            "| epoch   5 | 28500/32580 batches | loss    1.332 \n",
            "money: fact, way, result, play, time, even, it, possible, others, well\n",
            "lion: seven, addition, father, died, four, president, three, eight, six, sent\n",
            "africa: india, europe, france, south, north, america, china, germany, canada, australia\n",
            "musician: actress, actor, singer, author, writer, politician, nine, zero, seven, canadian\n",
            "dance: music, country, addition, study, traditional, art, order, philosophy, spanish, popular\n",
            "\n",
            "\n"
          ]
        },
        {
          "output_type": "stream",
          "name": "stderr",
          "text": [
            "29000it [05:20, 95.46it/s]"
          ]
        },
        {
          "output_type": "stream",
          "name": "stdout",
          "text": [
            "| epoch   5 | 29000/32580 batches | loss    1.331 \n",
            "money: fact, way, result, play, time, even, it, possible, others, well\n",
            "lion: seven, addition, father, died, four, president, three, eight, six, sent\n",
            "africa: india, europe, france, south, north, america, china, germany, canada, australia\n",
            "musician: actress, actor, singer, author, writer, politician, nine, zero, seven, canadian\n",
            "dance: music, country, addition, study, traditional, art, order, philosophy, spanish, popular\n",
            "\n",
            "\n"
          ]
        },
        {
          "output_type": "stream",
          "name": "stderr",
          "text": [
            "29498it [05:26, 95.09it/s]"
          ]
        },
        {
          "output_type": "stream",
          "name": "stdout",
          "text": [
            "| epoch   5 | 29500/32580 batches | loss    1.331 \n",
            "money: fact, way, result, play, time, even, it, possible, others, well\n",
            "lion: seven, addition, father, died, four, president, three, eight, six, sent\n",
            "africa: india, europe, france, south, north, america, china, germany, canada, australia\n",
            "musician: actress, actor, singer, author, writer, politician, nine, zero, seven, canadian\n",
            "dance: music, country, addition, study, traditional, art, order, philosophy, spanish, popular\n",
            "\n",
            "\n"
          ]
        },
        {
          "output_type": "stream",
          "name": "stderr",
          "text": [
            "29998it [05:31, 95.77it/s]"
          ]
        },
        {
          "output_type": "stream",
          "name": "stdout",
          "text": [
            "| epoch   5 | 30000/32580 batches | loss    1.327 \n",
            "money: fact, way, result, play, time, even, it, possible, others, well\n",
            "lion: seven, addition, father, died, four, president, three, eight, six, sent\n",
            "africa: india, europe, france, south, north, america, china, germany, canada, australia\n",
            "musician: actress, actor, singer, author, writer, politician, nine, zero, seven, canadian\n",
            "dance: music, country, addition, study, traditional, art, order, philosophy, spanish, popular\n",
            "\n",
            "\n"
          ]
        },
        {
          "output_type": "stream",
          "name": "stderr",
          "text": [
            "30497it [05:36, 95.55it/s]"
          ]
        },
        {
          "output_type": "stream",
          "name": "stdout",
          "text": [
            "| epoch   5 | 30500/32580 batches | loss    1.331 \n",
            "money: fact, way, result, play, time, even, it, possible, others, well\n",
            "lion: seven, addition, father, died, four, president, three, eight, six, sent\n",
            "africa: india, europe, france, south, north, america, china, germany, canada, australia\n",
            "musician: actress, actor, singer, author, writer, politician, nine, zero, seven, canadian\n",
            "dance: music, country, addition, study, traditional, art, order, philosophy, spanish, popular\n",
            "\n",
            "\n"
          ]
        },
        {
          "output_type": "stream",
          "name": "stderr",
          "text": [
            "31006it [05:42, 67.05it/s]"
          ]
        },
        {
          "output_type": "stream",
          "name": "stdout",
          "text": [
            "| epoch   5 | 31000/32580 batches | loss    1.334 \n",
            "money: fact, way, result, play, time, even, it, possible, others, well\n",
            "lion: seven, addition, father, died, four, president, three, eight, six, sent\n",
            "africa: india, europe, france, south, north, america, china, germany, canada, australia\n",
            "musician: actress, actor, singer, author, writer, politician, nine, zero, seven, canadian\n",
            "dance: music, country, addition, study, traditional, art, order, philosophy, spanish, popular\n",
            "\n",
            "\n"
          ]
        },
        {
          "output_type": "stream",
          "name": "stderr",
          "text": [
            "31506it [05:48, 67.97it/s]"
          ]
        },
        {
          "output_type": "stream",
          "name": "stdout",
          "text": [
            "| epoch   5 | 31500/32580 batches | loss    1.328 \n",
            "money: fact, way, result, play, time, even, it, possible, others, well\n",
            "lion: seven, addition, father, died, four, president, three, eight, six, sent\n",
            "africa: india, europe, france, south, north, america, china, germany, canada, australia\n",
            "musician: actress, actor, singer, author, writer, politician, nine, zero, seven, canadian\n",
            "dance: music, country, addition, study, traditional, art, order, philosophy, spanish, popular\n",
            "\n",
            "\n"
          ]
        },
        {
          "output_type": "stream",
          "name": "stderr",
          "text": [
            "32005it [05:53, 69.61it/s]"
          ]
        },
        {
          "output_type": "stream",
          "name": "stdout",
          "text": [
            "| epoch   5 | 32000/32580 batches | loss    1.329 \n",
            "money: fact, way, result, play, time, even, it, possible, others, well\n",
            "lion: seven, addition, father, died, four, president, three, eight, six, sent\n",
            "africa: india, europe, france, south, north, america, china, germany, canada, australia\n",
            "musician: actress, actor, singer, author, writer, politician, nine, zero, seven, canadian\n",
            "dance: music, country, addition, study, traditional, art, order, philosophy, spanish, popular\n",
            "\n",
            "\n"
          ]
        },
        {
          "output_type": "stream",
          "name": "stderr",
          "text": [
            "32504it [05:58, 69.88it/s]"
          ]
        },
        {
          "output_type": "stream",
          "name": "stdout",
          "text": [
            "| epoch   5 | 32500/32580 batches | loss    1.331 \n",
            "money: fact, way, result, play, time, even, it, possible, others, well\n",
            "lion: seven, addition, father, died, four, president, three, eight, six, sent\n",
            "africa: india, europe, france, south, north, america, china, germany, canada, australia\n",
            "musician: actress, actor, singer, author, writer, politician, nine, zero, seven, canadian\n",
            "dance: music, country, addition, study, traditional, art, order, philosophy, spanish, popular\n",
            "\n",
            "\n"
          ]
        },
        {
          "output_type": "stream",
          "name": "stderr",
          "text": [
            "32580it [06:01, 90.15it/s]\n",
            "1it [00:01,  1.70s/it]"
          ]
        },
        {
          "output_type": "stream",
          "name": "stdout",
          "text": [
            "| epoch   6 |     0/32580 batches | loss    1.332 \n",
            "money: fact, way, result, play, time, even, it, possible, others, well\n",
            "lion: seven, addition, father, died, four, president, three, eight, six, sent\n",
            "africa: india, europe, france, south, north, america, china, germany, canada, australia\n",
            "musician: actress, actor, singer, author, writer, politician, nine, zero, seven, canadian\n",
            "dance: music, country, addition, study, traditional, art, order, philosophy, spanish, popular\n",
            "\n",
            "\n"
          ]
        },
        {
          "output_type": "stream",
          "name": "stderr",
          "text": [
            "502it [00:07, 69.39it/s]"
          ]
        },
        {
          "output_type": "stream",
          "name": "stdout",
          "text": [
            "| epoch   6 |   500/32580 batches | loss    1.333 \n",
            "money: fact, way, result, play, time, even, it, possible, others, well\n",
            "lion: seven, addition, father, died, four, president, three, eight, six, sent\n",
            "africa: india, europe, france, south, north, america, china, germany, canada, australia\n",
            "musician: actress, actor, singer, author, writer, politician, nine, zero, seven, canadian\n",
            "dance: music, country, addition, study, traditional, art, order, philosophy, spanish, popular\n",
            "\n",
            "\n"
          ]
        },
        {
          "output_type": "stream",
          "name": "stderr",
          "text": [
            "998it [00:12, 91.75it/s]"
          ]
        },
        {
          "output_type": "stream",
          "name": "stdout",
          "text": [
            "| epoch   6 |  1000/32580 batches | loss    1.331 \n",
            "money: fact, way, result, play, time, even, it, possible, others, well\n",
            "lion: seven, addition, father, died, four, president, three, eight, six, sent\n",
            "africa: india, europe, france, south, north, america, china, germany, canada, australia\n",
            "musician: actress, actor, singer, author, writer, politician, nine, zero, seven, canadian\n",
            "dance: music, country, addition, study, traditional, art, order, philosophy, spanish, popular\n",
            "\n",
            "\n"
          ]
        },
        {
          "output_type": "stream",
          "name": "stderr",
          "text": [
            "1506it [00:18, 65.06it/s]"
          ]
        },
        {
          "output_type": "stream",
          "name": "stdout",
          "text": [
            "| epoch   6 |  1500/32580 batches | loss    1.334 \n",
            "money: fact, way, result, play, time, even, it, possible, others, well\n",
            "lion: seven, addition, father, died, four, president, three, eight, six, sent\n",
            "africa: india, europe, france, south, north, america, china, germany, canada, australia\n",
            "musician: actress, actor, singer, author, writer, politician, nine, zero, seven, canadian\n",
            "dance: music, country, addition, study, traditional, art, order, philosophy, spanish, popular\n",
            "\n",
            "\n"
          ]
        },
        {
          "output_type": "stream",
          "name": "stderr",
          "text": [
            "2005it [00:23, 68.63it/s]"
          ]
        },
        {
          "output_type": "stream",
          "name": "stdout",
          "text": [
            "| epoch   6 |  2000/32580 batches | loss    1.332 \n",
            "money: fact, way, result, play, time, even, it, possible, others, well\n",
            "lion: seven, addition, father, died, four, president, three, eight, six, sent\n",
            "africa: india, europe, france, south, north, america, china, germany, canada, australia\n",
            "musician: actress, actor, singer, author, writer, politician, nine, zero, seven, canadian\n",
            "dance: music, country, addition, study, traditional, art, order, philosophy, spanish, popular\n",
            "\n",
            "\n"
          ]
        },
        {
          "output_type": "stream",
          "name": "stderr",
          "text": [
            "2504it [00:29, 69.85it/s]"
          ]
        },
        {
          "output_type": "stream",
          "name": "stdout",
          "text": [
            "| epoch   6 |  2500/32580 batches | loss    1.333 \n",
            "money: fact, way, result, play, time, even, it, possible, others, well\n",
            "lion: seven, addition, father, died, four, president, three, eight, six, sent\n",
            "africa: india, europe, france, south, north, america, china, germany, canada, australia\n",
            "musician: actress, actor, singer, author, writer, politician, nine, zero, seven, canadian\n",
            "dance: music, country, addition, study, traditional, art, order, philosophy, spanish, popular\n",
            "\n",
            "\n"
          ]
        },
        {
          "output_type": "stream",
          "name": "stderr",
          "text": [
            "3002it [00:34, 71.27it/s]"
          ]
        },
        {
          "output_type": "stream",
          "name": "stdout",
          "text": [
            "| epoch   6 |  3000/32580 batches | loss    1.333 \n",
            "money: fact, way, result, play, time, even, it, possible, others, well\n",
            "lion: seven, addition, father, died, four, president, three, eight, six, sent\n",
            "africa: india, europe, france, south, north, america, china, germany, canada, australia\n",
            "musician: actress, actor, singer, author, writer, politician, nine, zero, seven, canadian\n",
            "dance: music, country, addition, study, traditional, art, order, philosophy, spanish, popular\n",
            "\n",
            "\n"
          ]
        },
        {
          "output_type": "stream",
          "name": "stderr",
          "text": [
            "3500it [00:39, 91.33it/s]"
          ]
        },
        {
          "output_type": "stream",
          "name": "stdout",
          "text": [
            "| epoch   6 |  3500/32580 batches | loss    1.329 \n",
            "money: fact, way, result, play, time, even, it, possible, others, well\n",
            "lion: seven, addition, father, died, four, president, three, eight, six, sent\n",
            "africa: india, europe, france, south, north, america, china, germany, canada, australia\n",
            "musician: actress, actor, singer, author, writer, politician, nine, zero, seven, canadian\n",
            "dance: music, country, addition, study, traditional, art, order, philosophy, spanish, popular\n",
            "\n",
            "\n"
          ]
        },
        {
          "output_type": "stream",
          "name": "stderr",
          "text": [
            "4000it [00:45, 94.73it/s]"
          ]
        },
        {
          "output_type": "stream",
          "name": "stdout",
          "text": [
            "| epoch   6 |  4000/32580 batches | loss    1.332 \n",
            "money: fact, way, result, play, time, even, it, possible, others, well\n",
            "lion: seven, addition, father, died, four, president, three, eight, six, sent\n",
            "africa: india, europe, france, south, north, america, china, germany, canada, australia\n",
            "musician: actress, actor, singer, author, writer, politician, nine, zero, seven, canadian\n",
            "dance: music, country, addition, study, traditional, art, order, philosophy, spanish, popular\n",
            "\n",
            "\n"
          ]
        },
        {
          "output_type": "stream",
          "name": "stderr",
          "text": [
            "4500it [00:50, 90.99it/s]"
          ]
        },
        {
          "output_type": "stream",
          "name": "stdout",
          "text": [
            "| epoch   6 |  4500/32580 batches | loss    1.330 \n",
            "money: fact, way, result, play, time, even, it, possible, others, well\n",
            "lion: seven, addition, father, died, four, president, three, eight, six, sent\n",
            "africa: india, europe, france, south, north, america, china, germany, canada, australia\n",
            "musician: actress, actor, singer, author, writer, politician, nine, zero, seven, canadian\n",
            "dance: music, country, addition, study, traditional, art, order, philosophy, spanish, popular\n",
            "\n",
            "\n"
          ]
        },
        {
          "output_type": "stream",
          "name": "stderr",
          "text": [
            "5000it [00:56, 94.71it/s]"
          ]
        },
        {
          "output_type": "stream",
          "name": "stdout",
          "text": [
            "| epoch   6 |  5000/32580 batches | loss    1.331 \n",
            "money: fact, way, result, play, time, even, it, possible, others, well\n",
            "lion: seven, addition, father, died, four, president, three, eight, six, sent\n",
            "africa: india, europe, france, south, north, america, china, germany, canada, australia\n",
            "musician: actress, actor, singer, author, writer, politician, nine, zero, seven, canadian\n",
            "dance: music, country, addition, study, traditional, art, order, philosophy, spanish, popular\n",
            "\n",
            "\n"
          ]
        },
        {
          "output_type": "stream",
          "name": "stderr",
          "text": [
            "5498it [01:01, 95.95it/s]"
          ]
        },
        {
          "output_type": "stream",
          "name": "stdout",
          "text": [
            "| epoch   6 |  5500/32580 batches | loss    1.330 \n",
            "money: fact, way, result, play, time, even, it, possible, others, well\n",
            "lion: seven, addition, father, died, four, president, three, eight, six, sent\n",
            "africa: india, europe, france, south, north, america, china, germany, canada, australia\n",
            "musician: actress, actor, singer, author, writer, politician, nine, zero, seven, canadian\n",
            "dance: music, country, addition, study, traditional, art, order, philosophy, spanish, popular\n",
            "\n",
            "\n"
          ]
        },
        {
          "output_type": "stream",
          "name": "stderr",
          "text": [
            "6007it [01:07, 68.30it/s]"
          ]
        },
        {
          "output_type": "stream",
          "name": "stdout",
          "text": [
            "| epoch   6 |  6000/32580 batches | loss    1.331 \n",
            "money: fact, way, result, play, time, even, it, possible, others, well\n",
            "lion: seven, addition, father, died, four, president, three, eight, six, sent\n",
            "africa: india, europe, france, south, north, america, china, germany, canada, australia\n",
            "musician: actress, actor, singer, author, writer, politician, nine, zero, seven, canadian\n",
            "dance: music, country, addition, study, traditional, art, order, philosophy, spanish, popular\n",
            "\n",
            "\n"
          ]
        },
        {
          "output_type": "stream",
          "name": "stderr",
          "text": [
            "6506it [01:12, 67.06it/s]"
          ]
        },
        {
          "output_type": "stream",
          "name": "stdout",
          "text": [
            "| epoch   6 |  6500/32580 batches | loss    1.330 \n",
            "money: fact, way, result, play, time, even, it, possible, others, well\n",
            "lion: seven, addition, father, died, four, president, three, eight, six, sent\n",
            "africa: india, europe, france, south, north, america, china, germany, canada, australia\n",
            "musician: actress, actor, singer, author, writer, politician, nine, zero, seven, canadian\n",
            "dance: music, country, addition, study, traditional, art, order, philosophy, spanish, popular\n",
            "\n",
            "\n"
          ]
        },
        {
          "output_type": "stream",
          "name": "stderr",
          "text": [
            "7004it [01:18, 69.09it/s]"
          ]
        },
        {
          "output_type": "stream",
          "name": "stdout",
          "text": [
            "| epoch   6 |  7000/32580 batches | loss    1.331 \n",
            "money: fact, way, result, play, time, even, it, possible, others, well\n",
            "lion: seven, addition, father, died, four, president, three, eight, six, sent\n",
            "africa: india, europe, france, south, north, america, china, germany, canada, australia\n",
            "musician: actress, actor, singer, author, writer, politician, nine, zero, seven, canadian\n",
            "dance: music, country, addition, study, traditional, art, order, philosophy, spanish, popular\n",
            "\n",
            "\n"
          ]
        },
        {
          "output_type": "stream",
          "name": "stderr",
          "text": [
            "7501it [01:23, 67.65it/s]"
          ]
        },
        {
          "output_type": "stream",
          "name": "stdout",
          "text": [
            "| epoch   6 |  7500/32580 batches | loss    1.331 \n",
            "money: fact, way, result, play, time, even, it, possible, others, well\n",
            "lion: seven, addition, father, died, four, president, three, eight, six, sent\n",
            "africa: india, europe, france, south, north, america, china, germany, canada, australia\n",
            "musician: actress, actor, singer, author, writer, politician, nine, zero, seven, canadian\n",
            "dance: music, country, addition, study, traditional, art, order, philosophy, spanish, popular\n",
            "\n",
            "\n"
          ]
        },
        {
          "output_type": "stream",
          "name": "stderr",
          "text": [
            "7999it [01:29, 93.62it/s]"
          ]
        },
        {
          "output_type": "stream",
          "name": "stdout",
          "text": [
            "| epoch   6 |  8000/32580 batches | loss    1.332 \n",
            "money: fact, way, result, play, time, even, it, possible, others, well\n",
            "lion: seven, addition, father, died, four, president, three, eight, six, sent\n",
            "africa: india, europe, france, south, north, america, china, germany, canada, australia\n",
            "musician: actress, actor, singer, author, writer, politician, nine, zero, seven, canadian\n",
            "dance: music, country, addition, study, traditional, art, order, philosophy, spanish, popular\n",
            "\n",
            "\n"
          ]
        },
        {
          "output_type": "stream",
          "name": "stderr",
          "text": [
            "8498it [01:34, 95.77it/s]"
          ]
        },
        {
          "output_type": "stream",
          "name": "stdout",
          "text": [
            "| epoch   6 |  8500/32580 batches | loss    1.331 \n",
            "money: fact, way, result, play, time, even, it, possible, others, well\n",
            "lion: seven, addition, father, died, four, president, three, eight, six, sent\n",
            "africa: india, europe, france, south, north, america, china, germany, canada, australia\n",
            "musician: actress, actor, singer, author, writer, politician, nine, zero, seven, canadian\n",
            "dance: music, country, addition, study, traditional, art, order, philosophy, spanish, popular\n",
            "\n",
            "\n"
          ]
        },
        {
          "output_type": "stream",
          "name": "stderr",
          "text": [
            "8998it [01:40, 91.79it/s]"
          ]
        },
        {
          "output_type": "stream",
          "name": "stdout",
          "text": [
            "| epoch   6 |  9000/32580 batches | loss    1.334 \n",
            "money: fact, way, result, play, time, even, it, possible, others, well\n",
            "lion: seven, addition, father, died, four, president, three, eight, six, sent\n",
            "africa: india, europe, france, south, north, america, china, germany, canada, australia\n",
            "musician: actress, actor, singer, author, writer, politician, nine, zero, seven, canadian\n",
            "dance: music, country, addition, study, traditional, art, order, philosophy, spanish, popular\n",
            "\n",
            "\n"
          ]
        },
        {
          "output_type": "stream",
          "name": "stderr",
          "text": [
            "9505it [01:45, 67.08it/s]"
          ]
        },
        {
          "output_type": "stream",
          "name": "stdout",
          "text": [
            "| epoch   6 |  9500/32580 batches | loss    1.329 \n",
            "money: fact, way, result, play, time, even, it, possible, others, well\n",
            "lion: seven, addition, father, died, four, president, three, eight, six, sent\n",
            "africa: india, europe, france, south, north, america, china, germany, canada, australia\n",
            "musician: actress, actor, singer, author, writer, politician, nine, zero, seven, canadian\n",
            "dance: music, country, addition, study, traditional, art, order, philosophy, spanish, popular\n",
            "\n",
            "\n"
          ]
        },
        {
          "output_type": "stream",
          "name": "stderr",
          "text": [
            "10004it [01:51, 70.45it/s]"
          ]
        },
        {
          "output_type": "stream",
          "name": "stdout",
          "text": [
            "| epoch   6 | 10000/32580 batches | loss    1.331 \n",
            "money: fact, way, result, play, time, even, it, possible, others, well\n",
            "lion: seven, addition, father, died, four, president, three, eight, six, sent\n",
            "africa: india, europe, france, south, north, america, china, germany, canada, australia\n",
            "musician: actress, actor, singer, author, writer, politician, nine, zero, seven, canadian\n",
            "dance: music, country, addition, study, traditional, art, order, philosophy, spanish, popular\n",
            "\n",
            "\n"
          ]
        },
        {
          "output_type": "stream",
          "name": "stderr",
          "text": [
            "10501it [01:56, 72.80it/s]"
          ]
        },
        {
          "output_type": "stream",
          "name": "stdout",
          "text": [
            "| epoch   6 | 10500/32580 batches | loss    1.331 \n",
            "money: fact, way, result, play, time, even, it, possible, others, well\n",
            "lion: seven, addition, father, died, four, president, three, eight, six, sent\n",
            "africa: india, europe, france, south, north, america, china, germany, canada, australia\n",
            "musician: actress, actor, singer, author, writer, politician, nine, zero, seven, canadian\n",
            "dance: music, country, addition, study, traditional, art, order, philosophy, spanish, popular\n",
            "\n",
            "\n"
          ]
        },
        {
          "output_type": "stream",
          "name": "stderr",
          "text": [
            "10998it [02:01, 91.82it/s]"
          ]
        },
        {
          "output_type": "stream",
          "name": "stdout",
          "text": [
            "| epoch   6 | 11000/32580 batches | loss    1.334 \n",
            "money: fact, way, result, play, time, even, it, possible, others, well\n",
            "lion: seven, addition, father, died, four, president, three, eight, six, sent\n",
            "africa: india, europe, france, south, north, america, china, germany, canada, australia\n",
            "musician: actress, actor, singer, author, writer, politician, nine, zero, seven, canadian\n",
            "dance: music, country, addition, study, traditional, art, order, philosophy, spanish, popular\n",
            "\n",
            "\n"
          ]
        },
        {
          "output_type": "stream",
          "name": "stderr",
          "text": [
            "11505it [02:07, 69.32it/s]"
          ]
        },
        {
          "output_type": "stream",
          "name": "stdout",
          "text": [
            "| epoch   6 | 11500/32580 batches | loss    1.327 \n",
            "money: fact, way, result, play, time, even, it, possible, others, well\n",
            "lion: seven, addition, father, died, four, president, three, eight, six, sent\n",
            "africa: india, europe, france, south, north, america, china, germany, canada, australia\n",
            "musician: actress, actor, singer, author, writer, politician, nine, zero, seven, canadian\n",
            "dance: music, country, addition, study, traditional, art, order, philosophy, spanish, popular\n",
            "\n",
            "\n"
          ]
        },
        {
          "output_type": "stream",
          "name": "stderr",
          "text": [
            "12004it [02:12, 70.56it/s]"
          ]
        },
        {
          "output_type": "stream",
          "name": "stdout",
          "text": [
            "| epoch   6 | 12000/32580 batches | loss    1.333 \n",
            "money: fact, way, result, play, time, even, it, possible, others, well\n",
            "lion: seven, addition, father, died, four, president, three, eight, six, sent\n",
            "africa: india, europe, france, south, north, america, china, germany, canada, australia\n",
            "musician: actress, actor, singer, author, writer, politician, nine, zero, seven, canadian\n",
            "dance: music, country, addition, study, traditional, art, order, philosophy, spanish, popular\n",
            "\n",
            "\n"
          ]
        },
        {
          "output_type": "stream",
          "name": "stderr",
          "text": [
            "12501it [02:18, 68.93it/s]"
          ]
        },
        {
          "output_type": "stream",
          "name": "stdout",
          "text": [
            "| epoch   6 | 12500/32580 batches | loss    1.329 \n",
            "money: fact, way, result, play, time, even, it, possible, others, well\n",
            "lion: seven, addition, father, died, four, president, three, eight, six, sent\n",
            "africa: india, europe, france, south, north, america, china, germany, canada, australia\n",
            "musician: actress, actor, singer, author, writer, politician, nine, zero, seven, canadian\n",
            "dance: music, country, addition, study, traditional, art, order, philosophy, spanish, popular\n",
            "\n",
            "\n"
          ]
        },
        {
          "output_type": "stream",
          "name": "stderr",
          "text": [
            "12997it [02:23, 93.05it/s]"
          ]
        },
        {
          "output_type": "stream",
          "name": "stdout",
          "text": [
            "| epoch   6 | 13000/32580 batches | loss    1.330 \n",
            "money: fact, way, result, play, time, even, it, possible, others, well\n",
            "lion: seven, addition, father, died, four, president, three, eight, six, sent\n",
            "africa: india, europe, france, south, north, america, china, germany, canada, australia\n",
            "musician: actress, actor, singer, author, writer, politician, nine, zero, seven, canadian\n",
            "dance: music, country, addition, study, traditional, art, order, philosophy, spanish, popular\n",
            "\n",
            "\n"
          ]
        },
        {
          "output_type": "stream",
          "name": "stderr",
          "text": [
            "13506it [02:29, 67.46it/s]"
          ]
        },
        {
          "output_type": "stream",
          "name": "stdout",
          "text": [
            "| epoch   6 | 13500/32580 batches | loss    1.330 \n",
            "money: fact, way, result, play, time, even, it, possible, others, well\n",
            "lion: seven, addition, father, died, four, president, three, eight, six, sent\n",
            "africa: india, europe, france, south, north, america, china, germany, canada, australia\n",
            "musician: actress, actor, singer, author, writer, politician, nine, zero, seven, canadian\n",
            "dance: music, country, addition, study, traditional, art, order, philosophy, spanish, popular\n",
            "\n",
            "\n"
          ]
        },
        {
          "output_type": "stream",
          "name": "stderr",
          "text": [
            "14006it [02:34, 68.05it/s]"
          ]
        },
        {
          "output_type": "stream",
          "name": "stdout",
          "text": [
            "| epoch   6 | 14000/32580 batches | loss    1.330 \n",
            "money: fact, way, result, play, time, even, it, possible, others, well\n",
            "lion: seven, addition, father, died, four, president, three, eight, six, sent\n",
            "africa: india, europe, france, south, north, america, china, germany, canada, australia\n",
            "musician: actress, actor, singer, author, writer, politician, nine, zero, seven, canadian\n",
            "dance: music, country, addition, study, traditional, art, order, philosophy, spanish, popular\n",
            "\n",
            "\n"
          ]
        },
        {
          "output_type": "stream",
          "name": "stderr",
          "text": [
            "14504it [02:40, 70.15it/s]"
          ]
        },
        {
          "output_type": "stream",
          "name": "stdout",
          "text": [
            "| epoch   6 | 14500/32580 batches | loss    1.332 \n",
            "money: fact, way, result, play, time, even, it, possible, others, well\n",
            "lion: seven, addition, father, died, four, president, three, eight, six, sent\n",
            "africa: india, europe, france, south, north, america, china, germany, canada, australia\n",
            "musician: actress, actor, singer, author, writer, politician, nine, zero, seven, canadian\n",
            "dance: music, country, addition, study, traditional, art, order, philosophy, spanish, popular\n",
            "\n",
            "\n"
          ]
        },
        {
          "output_type": "stream",
          "name": "stderr",
          "text": [
            "14997it [02:45, 94.28it/s]"
          ]
        },
        {
          "output_type": "stream",
          "name": "stdout",
          "text": [
            "| epoch   6 | 15000/32580 batches | loss    1.330 \n",
            "money: fact, way, result, play, time, even, it, possible, others, well\n",
            "lion: seven, addition, father, died, four, president, three, eight, six, sent\n",
            "africa: india, europe, france, south, north, america, china, germany, canada, australia\n",
            "musician: actress, actor, singer, author, writer, politician, nine, zero, seven, canadian\n",
            "dance: music, country, addition, study, traditional, art, order, philosophy, spanish, popular\n",
            "\n",
            "\n"
          ]
        },
        {
          "output_type": "stream",
          "name": "stderr",
          "text": [
            "15497it [02:51, 95.10it/s]"
          ]
        },
        {
          "output_type": "stream",
          "name": "stdout",
          "text": [
            "| epoch   6 | 15500/32580 batches | loss    1.331 \n",
            "money: fact, way, result, play, time, even, it, possible, others, well\n",
            "lion: seven, addition, father, died, four, president, three, eight, six, sent\n",
            "africa: india, europe, france, south, north, america, china, germany, canada, australia\n",
            "musician: actress, actor, singer, author, writer, politician, nine, zero, seven, canadian\n",
            "dance: music, country, addition, study, traditional, art, order, philosophy, spanish, popular\n",
            "\n",
            "\n"
          ]
        },
        {
          "output_type": "stream",
          "name": "stderr",
          "text": [
            "16007it [02:56, 67.95it/s]"
          ]
        },
        {
          "output_type": "stream",
          "name": "stdout",
          "text": [
            "| epoch   6 | 16000/32580 batches | loss    1.330 \n",
            "money: fact, way, result, play, time, even, it, possible, others, well\n",
            "lion: seven, addition, father, died, four, president, three, eight, six, sent\n",
            "africa: india, europe, france, south, north, america, china, germany, canada, australia\n",
            "musician: actress, actor, singer, author, writer, politician, nine, zero, seven, canadian\n",
            "dance: music, country, addition, study, traditional, art, order, philosophy, spanish, popular\n",
            "\n",
            "\n"
          ]
        },
        {
          "output_type": "stream",
          "name": "stderr",
          "text": [
            "16507it [03:02, 68.40it/s]"
          ]
        },
        {
          "output_type": "stream",
          "name": "stdout",
          "text": [
            "| epoch   6 | 16500/32580 batches | loss    1.330 \n",
            "money: fact, way, result, play, time, even, it, possible, others, well\n",
            "lion: seven, addition, father, died, four, president, three, eight, six, sent\n",
            "africa: india, europe, france, south, north, america, china, germany, canada, australia\n",
            "musician: actress, actor, singer, author, writer, politician, nine, zero, seven, canadian\n",
            "dance: music, country, addition, study, traditional, art, order, philosophy, spanish, popular\n",
            "\n",
            "\n"
          ]
        },
        {
          "output_type": "stream",
          "name": "stderr",
          "text": [
            "17006it [03:07, 67.25it/s]"
          ]
        },
        {
          "output_type": "stream",
          "name": "stdout",
          "text": [
            "| epoch   6 | 17000/32580 batches | loss    1.328 \n",
            "money: fact, way, result, play, time, even, it, possible, others, well\n",
            "lion: seven, addition, father, died, four, president, three, eight, six, sent\n",
            "africa: india, europe, france, south, north, america, china, germany, canada, australia\n",
            "musician: actress, actor, singer, author, writer, politician, nine, zero, seven, canadian\n",
            "dance: music, country, addition, study, traditional, art, order, philosophy, spanish, popular\n",
            "\n",
            "\n"
          ]
        },
        {
          "output_type": "stream",
          "name": "stderr",
          "text": [
            "17505it [03:15, 68.47it/s]"
          ]
        },
        {
          "output_type": "stream",
          "name": "stdout",
          "text": [
            "| epoch   6 | 17500/32580 batches | loss    1.331 \n",
            "money: fact, way, result, play, time, even, it, possible, others, well\n",
            "lion: seven, addition, father, died, four, president, three, eight, six, sent\n",
            "africa: india, europe, france, south, north, america, china, germany, canada, australia\n",
            "musician: actress, actor, singer, author, writer, politician, nine, zero, seven, canadian\n",
            "dance: music, country, addition, study, traditional, art, order, philosophy, spanish, popular\n",
            "\n",
            "\n"
          ]
        },
        {
          "output_type": "stream",
          "name": "stderr",
          "text": [
            "18003it [03:20, 70.32it/s]"
          ]
        },
        {
          "output_type": "stream",
          "name": "stdout",
          "text": [
            "| epoch   6 | 18000/32580 batches | loss    1.328 \n",
            "money: fact, way, result, play, time, even, it, possible, others, well\n",
            "lion: seven, addition, father, died, four, president, three, eight, six, sent\n",
            "africa: india, europe, france, south, north, america, china, germany, canada, australia\n",
            "musician: actress, actor, singer, author, writer, politician, nine, zero, seven, canadian\n",
            "dance: music, country, addition, study, traditional, art, order, philosophy, spanish, popular\n",
            "\n",
            "\n"
          ]
        },
        {
          "output_type": "stream",
          "name": "stderr",
          "text": [
            "18501it [03:26, 71.17it/s]"
          ]
        },
        {
          "output_type": "stream",
          "name": "stdout",
          "text": [
            "| epoch   6 | 18500/32580 batches | loss    1.331 \n",
            "money: fact, way, result, play, time, even, it, possible, others, well\n",
            "lion: seven, addition, father, died, four, president, three, eight, six, sent\n",
            "africa: india, europe, france, south, north, america, china, germany, canada, australia\n",
            "musician: actress, actor, singer, author, writer, politician, nine, zero, seven, canadian\n",
            "dance: music, country, addition, study, traditional, art, order, philosophy, spanish, popular\n",
            "\n",
            "\n"
          ]
        },
        {
          "output_type": "stream",
          "name": "stderr",
          "text": [
            "18999it [03:31, 94.51it/s]"
          ]
        },
        {
          "output_type": "stream",
          "name": "stdout",
          "text": [
            "| epoch   6 | 19000/32580 batches | loss    1.326 \n",
            "money: fact, way, result, play, time, even, it, possible, others, well\n",
            "lion: seven, addition, father, died, four, president, three, eight, six, sent\n",
            "africa: india, europe, france, south, north, america, china, germany, canada, australia\n",
            "musician: actress, actor, singer, author, writer, politician, nine, zero, seven, canadian\n",
            "dance: music, country, addition, study, traditional, art, order, philosophy, spanish, popular\n",
            "\n",
            "\n"
          ]
        },
        {
          "output_type": "stream",
          "name": "stderr",
          "text": [
            "19499it [03:36, 95.52it/s]"
          ]
        },
        {
          "output_type": "stream",
          "name": "stdout",
          "text": [
            "| epoch   6 | 19500/32580 batches | loss    1.329 \n",
            "money: fact, way, result, play, time, even, it, possible, others, well\n",
            "lion: seven, addition, father, died, four, president, three, eight, six, sent\n",
            "africa: india, europe, france, south, north, america, china, germany, canada, australia\n",
            "musician: actress, actor, singer, author, writer, politician, nine, zero, seven, canadian\n",
            "dance: music, country, addition, study, traditional, art, order, philosophy, spanish, popular\n",
            "\n",
            "\n"
          ]
        },
        {
          "output_type": "stream",
          "name": "stderr",
          "text": [
            "19998it [03:42, 91.68it/s]"
          ]
        },
        {
          "output_type": "stream",
          "name": "stdout",
          "text": [
            "| epoch   6 | 20000/32580 batches | loss    1.331 \n",
            "money: fact, way, result, play, time, even, it, possible, others, well\n",
            "lion: seven, addition, father, died, four, president, three, eight, six, sent\n",
            "africa: india, europe, france, south, north, america, china, germany, canada, australia\n",
            "musician: actress, actor, singer, author, writer, politician, nine, zero, seven, canadian\n",
            "dance: music, country, addition, study, traditional, art, order, philosophy, spanish, popular\n",
            "\n",
            "\n"
          ]
        },
        {
          "output_type": "stream",
          "name": "stderr",
          "text": [
            "20506it [03:48, 64.90it/s]"
          ]
        },
        {
          "output_type": "stream",
          "name": "stdout",
          "text": [
            "| epoch   6 | 20500/32580 batches | loss    1.334 \n",
            "money: fact, way, result, play, time, even, it, possible, others, well\n",
            "lion: seven, addition, father, died, four, president, three, eight, six, sent\n",
            "africa: india, europe, france, south, north, america, china, germany, canada, australia\n",
            "musician: actress, actor, singer, author, writer, politician, nine, zero, seven, canadian\n",
            "dance: music, country, addition, study, traditional, art, order, philosophy, spanish, popular\n",
            "\n",
            "\n"
          ]
        },
        {
          "output_type": "stream",
          "name": "stderr",
          "text": [
            "21003it [03:53, 70.25it/s]"
          ]
        },
        {
          "output_type": "stream",
          "name": "stdout",
          "text": [
            "| epoch   6 | 21000/32580 batches | loss    1.334 \n",
            "money: fact, way, result, play, time, even, it, possible, others, well\n",
            "lion: seven, addition, father, died, four, president, three, eight, six, sent\n",
            "africa: india, europe, france, south, north, america, china, germany, canada, australia\n",
            "musician: actress, actor, singer, author, writer, politician, nine, zero, seven, canadian\n",
            "dance: music, country, addition, study, traditional, art, order, philosophy, spanish, popular\n",
            "\n",
            "\n"
          ]
        },
        {
          "output_type": "stream",
          "name": "stderr",
          "text": [
            "21500it [03:58, 92.56it/s]"
          ]
        },
        {
          "output_type": "stream",
          "name": "stdout",
          "text": [
            "| epoch   6 | 21500/32580 batches | loss    1.333 \n",
            "money: fact, way, result, play, time, even, it, possible, others, well\n",
            "lion: seven, addition, father, died, four, president, three, eight, six, sent\n",
            "africa: india, europe, france, south, north, america, china, germany, canada, australia\n",
            "musician: actress, actor, singer, author, writer, politician, nine, zero, seven, canadian\n",
            "dance: music, country, addition, study, traditional, art, order, philosophy, spanish, popular\n",
            "\n",
            "\n"
          ]
        },
        {
          "output_type": "stream",
          "name": "stderr",
          "text": [
            "21998it [04:04, 94.03it/s]"
          ]
        },
        {
          "output_type": "stream",
          "name": "stdout",
          "text": [
            "| epoch   6 | 22000/32580 batches | loss    1.332 \n",
            "money: fact, way, result, play, time, even, it, possible, others, well\n",
            "lion: seven, addition, father, died, four, president, three, eight, six, sent\n",
            "africa: india, europe, france, south, north, america, china, germany, canada, australia\n",
            "musician: actress, actor, singer, author, writer, politician, nine, zero, seven, canadian\n",
            "dance: music, country, addition, study, traditional, art, order, philosophy, spanish, popular\n",
            "\n",
            "\n"
          ]
        },
        {
          "output_type": "stream",
          "name": "stderr",
          "text": [
            "22497it [04:09, 95.63it/s]"
          ]
        },
        {
          "output_type": "stream",
          "name": "stdout",
          "text": [
            "| epoch   6 | 22500/32580 batches | loss    1.332 \n",
            "money: fact, way, result, play, time, even, it, possible, others, well\n",
            "lion: seven, addition, father, died, four, president, three, eight, six, sent\n",
            "africa: india, europe, france, south, north, america, china, germany, canada, australia\n",
            "musician: actress, actor, singer, author, writer, politician, nine, zero, seven, canadian\n",
            "dance: music, country, addition, study, traditional, art, order, philosophy, spanish, popular\n",
            "\n",
            "\n"
          ]
        },
        {
          "output_type": "stream",
          "name": "stderr",
          "text": [
            "22997it [04:15, 93.23it/s]"
          ]
        },
        {
          "output_type": "stream",
          "name": "stdout",
          "text": [
            "| epoch   6 | 23000/32580 batches | loss    1.329 \n",
            "money: fact, way, result, play, time, even, it, possible, others, well\n",
            "lion: seven, addition, father, died, four, president, three, eight, six, sent\n",
            "africa: india, europe, france, south, north, america, china, germany, canada, australia\n",
            "musician: actress, actor, singer, author, writer, politician, nine, zero, seven, canadian\n",
            "dance: music, country, addition, study, traditional, art, order, philosophy, spanish, popular\n",
            "\n",
            "\n"
          ]
        },
        {
          "output_type": "stream",
          "name": "stderr",
          "text": [
            "23497it [04:20, 94.63it/s]"
          ]
        },
        {
          "output_type": "stream",
          "name": "stdout",
          "text": [
            "| epoch   6 | 23500/32580 batches | loss    1.328 \n",
            "money: fact, way, result, play, time, even, it, possible, others, well\n",
            "lion: seven, addition, father, died, four, president, three, eight, six, sent\n",
            "africa: india, europe, france, south, north, america, china, germany, canada, australia\n",
            "musician: actress, actor, singer, author, writer, politician, nine, zero, seven, canadian\n",
            "dance: music, country, addition, study, traditional, art, order, philosophy, spanish, popular\n",
            "\n",
            "\n"
          ]
        },
        {
          "output_type": "stream",
          "name": "stderr",
          "text": [
            "23997it [04:26, 94.33it/s]"
          ]
        },
        {
          "output_type": "stream",
          "name": "stdout",
          "text": [
            "| epoch   6 | 24000/32580 batches | loss    1.331 \n",
            "money: fact, way, result, play, time, even, it, possible, others, well\n",
            "lion: seven, addition, father, died, four, president, three, eight, six, sent\n",
            "africa: india, europe, france, south, north, america, china, germany, canada, australia\n",
            "musician: actress, actor, singer, author, writer, politician, nine, zero, seven, canadian\n",
            "dance: music, country, addition, study, traditional, art, order, philosophy, spanish, popular\n",
            "\n",
            "\n"
          ]
        },
        {
          "output_type": "stream",
          "name": "stderr",
          "text": [
            "24497it [04:31, 94.78it/s]"
          ]
        },
        {
          "output_type": "stream",
          "name": "stdout",
          "text": [
            "| epoch   6 | 24500/32580 batches | loss    1.329 \n",
            "money: fact, way, result, play, time, even, it, possible, others, well\n",
            "lion: seven, addition, father, died, four, president, three, eight, six, sent\n",
            "africa: india, europe, france, south, north, america, china, germany, canada, australia\n",
            "musician: actress, actor, singer, author, writer, politician, nine, zero, seven, canadian\n",
            "dance: music, country, addition, study, traditional, art, order, philosophy, spanish, popular\n",
            "\n",
            "\n"
          ]
        },
        {
          "output_type": "stream",
          "name": "stderr",
          "text": [
            "25006it [04:37, 68.29it/s]"
          ]
        },
        {
          "output_type": "stream",
          "name": "stdout",
          "text": [
            "| epoch   6 | 25000/32580 batches | loss    1.332 \n",
            "money: fact, way, result, play, time, even, it, possible, others, well\n",
            "lion: seven, addition, father, died, four, president, three, eight, six, sent\n",
            "africa: india, europe, france, south, north, america, china, germany, canada, australia\n",
            "musician: actress, actor, singer, author, writer, politician, nine, zero, seven, canadian\n",
            "dance: music, country, addition, study, traditional, art, order, philosophy, spanish, popular\n",
            "\n",
            "\n"
          ]
        },
        {
          "output_type": "stream",
          "name": "stderr",
          "text": [
            "25506it [04:42, 68.45it/s]"
          ]
        },
        {
          "output_type": "stream",
          "name": "stdout",
          "text": [
            "| epoch   6 | 25500/32580 batches | loss    1.331 \n",
            "money: fact, way, result, play, time, even, it, possible, others, well\n",
            "lion: seven, addition, father, died, four, president, three, eight, six, sent\n",
            "africa: india, europe, france, south, north, america, china, germany, canada, australia\n",
            "musician: actress, actor, singer, author, writer, politician, nine, zero, seven, canadian\n",
            "dance: music, country, addition, study, traditional, art, order, philosophy, spanish, popular\n",
            "\n",
            "\n"
          ]
        },
        {
          "output_type": "stream",
          "name": "stderr",
          "text": [
            "26006it [04:47, 68.07it/s]"
          ]
        },
        {
          "output_type": "stream",
          "name": "stdout",
          "text": [
            "| epoch   6 | 26000/32580 batches | loss    1.331 \n",
            "money: fact, way, result, play, time, even, it, possible, others, well\n",
            "lion: seven, addition, father, died, four, president, three, eight, six, sent\n",
            "africa: india, europe, france, south, north, america, china, germany, canada, australia\n",
            "musician: actress, actor, singer, author, writer, politician, nine, zero, seven, canadian\n",
            "dance: music, country, addition, study, traditional, art, order, philosophy, spanish, popular\n",
            "\n",
            "\n"
          ]
        },
        {
          "output_type": "stream",
          "name": "stderr",
          "text": [
            "26504it [04:53, 69.31it/s]"
          ]
        },
        {
          "output_type": "stream",
          "name": "stdout",
          "text": [
            "| epoch   6 | 26500/32580 batches | loss    1.331 \n",
            "money: fact, way, result, play, time, even, it, possible, others, well\n",
            "lion: seven, addition, father, died, four, president, three, eight, six, sent\n",
            "africa: india, europe, france, south, north, america, china, germany, canada, australia\n",
            "musician: actress, actor, singer, author, writer, politician, nine, zero, seven, canadian\n",
            "dance: music, country, addition, study, traditional, art, order, philosophy, spanish, popular\n",
            "\n",
            "\n"
          ]
        },
        {
          "output_type": "stream",
          "name": "stderr",
          "text": [
            "27003it [04:58, 69.59it/s]"
          ]
        },
        {
          "output_type": "stream",
          "name": "stdout",
          "text": [
            "| epoch   6 | 27000/32580 batches | loss    1.329 \n",
            "money: fact, way, result, play, time, even, it, possible, others, well\n",
            "lion: seven, addition, father, died, four, president, three, eight, six, sent\n",
            "africa: india, europe, france, south, north, america, china, germany, canada, australia\n",
            "musician: actress, actor, singer, author, writer, politician, nine, zero, seven, canadian\n",
            "dance: music, country, addition, study, traditional, art, order, philosophy, spanish, popular\n",
            "\n",
            "\n"
          ]
        },
        {
          "output_type": "stream",
          "name": "stderr",
          "text": [
            "27500it [05:04, 93.81it/s]"
          ]
        },
        {
          "output_type": "stream",
          "name": "stdout",
          "text": [
            "| epoch   6 | 27500/32580 batches | loss    1.328 \n",
            "money: fact, way, result, play, time, even, it, possible, others, well\n",
            "lion: seven, addition, father, died, four, president, three, eight, six, sent\n",
            "africa: india, europe, france, south, north, america, china, germany, canada, australia\n",
            "musician: actress, actor, singer, author, writer, politician, nine, zero, seven, canadian\n",
            "dance: music, country, addition, study, traditional, art, order, philosophy, spanish, popular\n",
            "\n",
            "\n"
          ]
        },
        {
          "output_type": "stream",
          "name": "stderr",
          "text": [
            "28000it [05:09, 94.74it/s]"
          ]
        },
        {
          "output_type": "stream",
          "name": "stdout",
          "text": [
            "| epoch   6 | 28000/32580 batches | loss    1.330 \n",
            "money: fact, way, result, play, time, even, it, possible, others, well\n",
            "lion: seven, addition, father, died, four, president, three, eight, six, sent\n",
            "africa: india, europe, france, south, north, america, china, germany, canada, australia\n",
            "musician: actress, actor, singer, author, writer, politician, nine, zero, seven, canadian\n",
            "dance: music, country, addition, study, traditional, art, order, philosophy, spanish, popular\n",
            "\n",
            "\n"
          ]
        },
        {
          "output_type": "stream",
          "name": "stderr",
          "text": [
            "28500it [05:15, 95.63it/s]"
          ]
        },
        {
          "output_type": "stream",
          "name": "stdout",
          "text": [
            "| epoch   6 | 28500/32580 batches | loss    1.331 \n",
            "money: fact, way, result, play, time, even, it, possible, others, well\n",
            "lion: seven, addition, father, died, four, president, three, eight, six, sent\n",
            "africa: india, europe, france, south, north, america, china, germany, canada, australia\n",
            "musician: actress, actor, singer, author, writer, politician, nine, zero, seven, canadian\n",
            "dance: music, country, addition, study, traditional, art, order, philosophy, spanish, popular\n",
            "\n",
            "\n"
          ]
        },
        {
          "output_type": "stream",
          "name": "stderr",
          "text": [
            "29000it [05:20, 94.01it/s]"
          ]
        },
        {
          "output_type": "stream",
          "name": "stdout",
          "text": [
            "| epoch   6 | 29000/32580 batches | loss    1.332 \n",
            "money: fact, way, result, play, time, even, it, possible, others, well\n",
            "lion: seven, addition, father, died, four, president, three, eight, six, sent\n",
            "africa: india, europe, france, south, north, america, china, germany, canada, australia\n",
            "musician: actress, actor, singer, author, writer, politician, nine, zero, seven, canadian\n",
            "dance: music, country, addition, study, traditional, art, order, philosophy, spanish, popular\n",
            "\n",
            "\n"
          ]
        },
        {
          "output_type": "stream",
          "name": "stderr",
          "text": [
            "29500it [05:28, 17.85it/s]"
          ]
        },
        {
          "output_type": "stream",
          "name": "stdout",
          "text": [
            "| epoch   6 | 29500/32580 batches | loss    1.332 \n",
            "money: fact, way, result, play, time, even, it, possible, others, well\n",
            "lion: seven, addition, father, died, four, president, three, eight, six, sent\n",
            "africa: india, europe, france, south, north, america, china, germany, canada, australia\n",
            "musician: actress, actor, singer, author, writer, politician, nine, zero, seven, canadian\n",
            "dance: music, country, addition, study, traditional, art, order, philosophy, spanish, popular\n",
            "\n",
            "\n"
          ]
        },
        {
          "output_type": "stream",
          "name": "stderr",
          "text": [
            "30007it [05:33, 68.47it/s]"
          ]
        },
        {
          "output_type": "stream",
          "name": "stdout",
          "text": [
            "| epoch   6 | 30000/32580 batches | loss    1.328 \n",
            "money: fact, way, result, play, time, even, it, possible, others, well\n",
            "lion: seven, addition, father, died, four, president, three, eight, six, sent\n",
            "africa: india, europe, france, south, north, america, china, germany, canada, australia\n",
            "musician: actress, actor, singer, author, writer, politician, nine, zero, seven, canadian\n",
            "dance: music, country, addition, study, traditional, art, order, philosophy, spanish, popular\n",
            "\n",
            "\n"
          ]
        },
        {
          "output_type": "stream",
          "name": "stderr",
          "text": [
            "30497it [05:39, 93.14it/s]"
          ]
        },
        {
          "output_type": "stream",
          "name": "stdout",
          "text": [
            "| epoch   6 | 30500/32580 batches | loss    1.332 \n",
            "money: fact, way, result, play, time, even, it, possible, others, well\n",
            "lion: seven, addition, father, died, four, president, three, eight, six, sent\n",
            "africa: india, europe, france, south, north, america, china, germany, canada, australia\n",
            "musician: actress, actor, singer, author, writer, politician, nine, zero, seven, canadian\n",
            "dance: music, country, addition, study, traditional, art, order, philosophy, spanish, popular\n",
            "\n",
            "\n"
          ]
        },
        {
          "output_type": "stream",
          "name": "stderr",
          "text": [
            "31006it [05:44, 67.96it/s]"
          ]
        },
        {
          "output_type": "stream",
          "name": "stdout",
          "text": [
            "| epoch   6 | 31000/32580 batches | loss    1.332 \n",
            "money: fact, way, result, play, time, even, it, possible, others, well\n",
            "lion: seven, addition, father, died, four, president, three, eight, six, sent\n",
            "africa: india, europe, france, south, north, america, china, germany, canada, australia\n",
            "musician: actress, actor, singer, author, writer, politician, nine, zero, seven, canadian\n",
            "dance: music, country, addition, study, traditional, art, order, philosophy, spanish, popular\n",
            "\n",
            "\n"
          ]
        },
        {
          "output_type": "stream",
          "name": "stderr",
          "text": [
            "31506it [05:50, 68.64it/s]"
          ]
        },
        {
          "output_type": "stream",
          "name": "stdout",
          "text": [
            "| epoch   6 | 31500/32580 batches | loss    1.330 \n",
            "money: fact, way, result, play, time, even, it, possible, others, well\n",
            "lion: seven, addition, father, died, four, president, three, eight, six, sent\n",
            "africa: india, europe, france, south, north, america, china, germany, canada, australia\n",
            "musician: actress, actor, singer, author, writer, politician, nine, zero, seven, canadian\n",
            "dance: music, country, addition, study, traditional, art, order, philosophy, spanish, popular\n",
            "\n",
            "\n"
          ]
        },
        {
          "output_type": "stream",
          "name": "stderr",
          "text": [
            "32006it [05:55, 66.37it/s]"
          ]
        },
        {
          "output_type": "stream",
          "name": "stdout",
          "text": [
            "| epoch   6 | 32000/32580 batches | loss    1.332 \n",
            "money: fact, way, result, play, time, even, it, possible, others, well\n",
            "lion: seven, addition, father, died, four, president, three, eight, six, sent\n",
            "africa: india, europe, france, south, north, america, china, germany, canada, australia\n",
            "musician: actress, actor, singer, author, writer, politician, nine, zero, seven, canadian\n",
            "dance: music, country, addition, study, traditional, art, order, philosophy, spanish, popular\n",
            "\n",
            "\n"
          ]
        },
        {
          "output_type": "stream",
          "name": "stderr",
          "text": [
            "32506it [06:00, 68.93it/s]"
          ]
        },
        {
          "output_type": "stream",
          "name": "stdout",
          "text": [
            "| epoch   6 | 32500/32580 batches | loss    1.331 \n",
            "money: fact, way, result, play, time, even, it, possible, others, well\n",
            "lion: seven, addition, father, died, four, president, three, eight, six, sent\n",
            "africa: india, europe, france, south, north, america, china, germany, canada, australia\n",
            "musician: actress, actor, singer, author, writer, politician, nine, zero, seven, canadian\n",
            "dance: music, country, addition, study, traditional, art, order, philosophy, spanish, popular\n",
            "\n",
            "\n"
          ]
        },
        {
          "output_type": "stream",
          "name": "stderr",
          "text": [
            "32580it [06:03, 89.62it/s]\n",
            "1it [00:01,  1.72s/it]"
          ]
        },
        {
          "output_type": "stream",
          "name": "stdout",
          "text": [
            "| epoch   7 |     0/32580 batches | loss    1.332 \n",
            "money: fact, way, result, play, time, even, it, possible, others, well\n",
            "lion: seven, addition, father, died, four, president, three, eight, six, sent\n",
            "africa: india, europe, france, south, north, america, china, germany, canada, australia\n",
            "musician: actress, actor, singer, author, writer, politician, nine, zero, seven, canadian\n",
            "dance: music, country, addition, study, traditional, art, order, philosophy, spanish, popular\n",
            "\n",
            "\n"
          ]
        },
        {
          "output_type": "stream",
          "name": "stderr",
          "text": [
            "501it [00:07, 68.00it/s]"
          ]
        },
        {
          "output_type": "stream",
          "name": "stdout",
          "text": [
            "| epoch   7 |   500/32580 batches | loss    1.330 \n",
            "money: fact, way, result, play, time, even, it, possible, others, well\n",
            "lion: seven, addition, father, died, four, president, three, eight, six, sent\n",
            "africa: india, europe, france, south, north, america, china, germany, canada, australia\n",
            "musician: actress, actor, singer, author, writer, politician, nine, zero, seven, canadian\n",
            "dance: music, country, addition, study, traditional, art, order, philosophy, spanish, popular\n",
            "\n",
            "\n"
          ]
        },
        {
          "output_type": "stream",
          "name": "stderr",
          "text": [
            "999it [00:12, 95.66it/s]"
          ]
        },
        {
          "output_type": "stream",
          "name": "stdout",
          "text": [
            "| epoch   7 |  1000/32580 batches | loss    1.332 \n",
            "money: fact, way, result, play, time, even, it, possible, others, well\n",
            "lion: seven, addition, father, died, four, president, three, eight, six, sent\n",
            "africa: india, europe, france, south, north, america, china, germany, canada, australia\n",
            "musician: actress, actor, singer, author, writer, politician, nine, zero, seven, canadian\n",
            "dance: music, country, addition, study, traditional, art, order, philosophy, spanish, popular\n",
            "\n",
            "\n"
          ]
        },
        {
          "output_type": "stream",
          "name": "stderr",
          "text": [
            "1499it [00:17, 95.21it/s]"
          ]
        },
        {
          "output_type": "stream",
          "name": "stdout",
          "text": [
            "| epoch   7 |  1500/32580 batches | loss    1.333 \n",
            "money: fact, way, result, play, time, even, it, possible, others, well\n",
            "lion: seven, addition, father, died, four, president, three, eight, six, sent\n",
            "africa: india, europe, france, south, north, america, china, germany, canada, australia\n",
            "musician: actress, actor, singer, author, writer, politician, nine, zero, seven, canadian\n",
            "dance: music, country, addition, study, traditional, art, order, philosophy, spanish, popular\n",
            "\n",
            "\n"
          ]
        },
        {
          "output_type": "stream",
          "name": "stderr",
          "text": [
            "1999it [00:23, 94.31it/s]"
          ]
        },
        {
          "output_type": "stream",
          "name": "stdout",
          "text": [
            "| epoch   7 |  2000/32580 batches | loss    1.329 \n",
            "money: fact, way, result, play, time, even, it, possible, others, well\n",
            "lion: seven, addition, father, died, four, president, three, eight, six, sent\n",
            "africa: india, europe, france, south, north, america, china, germany, canada, australia\n",
            "musician: actress, actor, singer, author, writer, politician, nine, zero, seven, canadian\n",
            "dance: music, country, addition, study, traditional, art, order, philosophy, spanish, popular\n",
            "\n",
            "\n"
          ]
        },
        {
          "output_type": "stream",
          "name": "stderr",
          "text": [
            "2507it [00:29, 68.21it/s]"
          ]
        },
        {
          "output_type": "stream",
          "name": "stdout",
          "text": [
            "| epoch   7 |  2500/32580 batches | loss    1.334 \n",
            "money: fact, way, result, play, time, even, it, possible, others, well\n",
            "lion: seven, addition, father, died, four, president, three, eight, six, sent\n",
            "africa: india, europe, france, south, north, america, china, germany, canada, australia\n",
            "musician: actress, actor, singer, author, writer, politician, nine, zero, seven, canadian\n",
            "dance: music, country, addition, study, traditional, art, order, philosophy, spanish, popular\n",
            "\n",
            "\n"
          ]
        },
        {
          "output_type": "stream",
          "name": "stderr",
          "text": [
            "3007it [00:34, 68.64it/s]"
          ]
        },
        {
          "output_type": "stream",
          "name": "stdout",
          "text": [
            "| epoch   7 |  3000/32580 batches | loss    1.325 \n",
            "money: fact, way, result, play, time, even, it, possible, others, well\n",
            "lion: seven, addition, father, died, four, president, three, eight, six, sent\n",
            "africa: india, europe, france, south, north, america, china, germany, canada, australia\n",
            "musician: actress, actor, singer, author, writer, politician, nine, zero, seven, canadian\n",
            "dance: music, country, addition, study, traditional, art, order, philosophy, spanish, popular\n",
            "\n",
            "\n"
          ]
        },
        {
          "output_type": "stream",
          "name": "stderr",
          "text": [
            "3497it [00:39, 95.07it/s]"
          ]
        },
        {
          "output_type": "stream",
          "name": "stdout",
          "text": [
            "| epoch   7 |  3500/32580 batches | loss    1.330 \n",
            "money: fact, way, result, play, time, even, it, possible, others, well\n",
            "lion: seven, addition, father, died, four, president, three, eight, six, sent\n",
            "africa: india, europe, france, south, north, america, china, germany, canada, australia\n",
            "musician: actress, actor, singer, author, writer, politician, nine, zero, seven, canadian\n",
            "dance: music, country, addition, study, traditional, art, order, philosophy, spanish, popular\n",
            "\n",
            "\n"
          ]
        },
        {
          "output_type": "stream",
          "name": "stderr",
          "text": [
            "4007it [00:45, 68.53it/s]"
          ]
        },
        {
          "output_type": "stream",
          "name": "stdout",
          "text": [
            "| epoch   7 |  4000/32580 batches | loss    1.331 \n",
            "money: fact, way, result, play, time, even, it, possible, others, well\n",
            "lion: seven, addition, father, died, four, president, three, eight, six, sent\n",
            "africa: india, europe, france, south, north, america, china, germany, canada, australia\n",
            "musician: actress, actor, singer, author, writer, politician, nine, zero, seven, canadian\n",
            "dance: music, country, addition, study, traditional, art, order, philosophy, spanish, popular\n",
            "\n",
            "\n"
          ]
        },
        {
          "output_type": "stream",
          "name": "stderr",
          "text": [
            "4507it [00:50, 68.50it/s]"
          ]
        },
        {
          "output_type": "stream",
          "name": "stdout",
          "text": [
            "| epoch   7 |  4500/32580 batches | loss    1.329 \n",
            "money: fact, way, result, play, time, even, it, possible, others, well\n",
            "lion: seven, addition, father, died, four, president, three, eight, six, sent\n",
            "africa: india, europe, france, south, north, america, china, germany, canada, australia\n",
            "musician: actress, actor, singer, author, writer, politician, nine, zero, seven, canadian\n",
            "dance: music, country, addition, study, traditional, art, order, philosophy, spanish, popular\n",
            "\n",
            "\n"
          ]
        },
        {
          "output_type": "stream",
          "name": "stderr",
          "text": [
            "5007it [00:56, 67.22it/s]"
          ]
        },
        {
          "output_type": "stream",
          "name": "stdout",
          "text": [
            "| epoch   7 |  5000/32580 batches | loss    1.334 \n",
            "money: fact, way, result, play, time, even, it, possible, others, well\n",
            "lion: seven, addition, father, died, four, president, three, eight, six, sent\n",
            "africa: india, europe, france, south, north, america, china, germany, canada, australia\n",
            "musician: actress, actor, singer, author, writer, politician, nine, zero, seven, canadian\n",
            "dance: music, country, addition, study, traditional, art, order, philosophy, spanish, popular\n",
            "\n",
            "\n"
          ]
        },
        {
          "output_type": "stream",
          "name": "stderr",
          "text": [
            "5506it [01:01, 68.86it/s]"
          ]
        },
        {
          "output_type": "stream",
          "name": "stdout",
          "text": [
            "| epoch   7 |  5500/32580 batches | loss    1.332 \n",
            "money: fact, way, result, play, time, even, it, possible, others, well\n",
            "lion: seven, addition, father, died, four, president, three, eight, six, sent\n",
            "africa: india, europe, france, south, north, america, china, germany, canada, australia\n",
            "musician: actress, actor, singer, author, writer, politician, nine, zero, seven, canadian\n",
            "dance: music, country, addition, study, traditional, art, order, philosophy, spanish, popular\n",
            "\n",
            "\n"
          ]
        },
        {
          "output_type": "stream",
          "name": "stderr",
          "text": [
            "6005it [01:07, 69.56it/s]"
          ]
        },
        {
          "output_type": "stream",
          "name": "stdout",
          "text": [
            "| epoch   7 |  6000/32580 batches | loss    1.335 \n",
            "money: fact, way, result, play, time, even, it, possible, others, well\n",
            "lion: seven, addition, father, died, four, president, three, eight, six, sent\n",
            "africa: india, europe, france, south, north, america, china, germany, canada, australia\n",
            "musician: actress, actor, singer, author, writer, politician, nine, zero, seven, canadian\n",
            "dance: music, country, addition, study, traditional, art, order, philosophy, spanish, popular\n",
            "\n",
            "\n"
          ]
        },
        {
          "output_type": "stream",
          "name": "stderr",
          "text": [
            "6504it [01:12, 69.47it/s]"
          ]
        },
        {
          "output_type": "stream",
          "name": "stdout",
          "text": [
            "| epoch   7 |  6500/32580 batches | loss    1.329 \n",
            "money: fact, way, result, play, time, even, it, possible, others, well\n",
            "lion: seven, addition, father, died, four, president, three, eight, six, sent\n",
            "africa: india, europe, france, south, north, america, china, germany, canada, australia\n",
            "musician: actress, actor, singer, author, writer, politician, nine, zero, seven, canadian\n",
            "dance: music, country, addition, study, traditional, art, order, philosophy, spanish, popular\n",
            "\n",
            "\n"
          ]
        },
        {
          "output_type": "stream",
          "name": "stderr",
          "text": [
            "7002it [01:17, 69.39it/s]"
          ]
        },
        {
          "output_type": "stream",
          "name": "stdout",
          "text": [
            "| epoch   7 |  7000/32580 batches | loss    1.334 \n",
            "money: fact, way, result, play, time, even, it, possible, others, well\n",
            "lion: seven, addition, father, died, four, president, three, eight, six, sent\n",
            "africa: india, europe, france, south, north, america, china, germany, canada, australia\n",
            "musician: actress, actor, singer, author, writer, politician, nine, zero, seven, canadian\n",
            "dance: music, country, addition, study, traditional, art, order, philosophy, spanish, popular\n",
            "\n",
            "\n"
          ]
        },
        {
          "output_type": "stream",
          "name": "stderr",
          "text": [
            "7500it [01:23, 95.61it/s]"
          ]
        },
        {
          "output_type": "stream",
          "name": "stdout",
          "text": [
            "| epoch   7 |  7500/32580 batches | loss    1.330 \n",
            "money: fact, way, result, play, time, even, it, possible, others, well\n",
            "lion: seven, addition, father, died, four, president, three, eight, six, sent\n",
            "africa: india, europe, france, south, north, america, china, germany, canada, australia\n",
            "musician: actress, actor, singer, author, writer, politician, nine, zero, seven, canadian\n",
            "dance: music, country, addition, study, traditional, art, order, philosophy, spanish, popular\n",
            "\n",
            "\n"
          ]
        },
        {
          "output_type": "stream",
          "name": "stderr",
          "text": [
            "8000it [01:28, 96.30it/s]"
          ]
        },
        {
          "output_type": "stream",
          "name": "stdout",
          "text": [
            "| epoch   7 |  8000/32580 batches | loss    1.334 \n",
            "money: fact, way, result, play, time, even, it, possible, others, well\n",
            "lion: seven, addition, father, died, four, president, three, eight, six, sent\n",
            "africa: india, europe, france, south, north, america, china, germany, canada, australia\n",
            "musician: actress, actor, singer, author, writer, politician, nine, zero, seven, canadian\n",
            "dance: music, country, addition, study, traditional, art, order, philosophy, spanish, popular\n",
            "\n",
            "\n"
          ]
        },
        {
          "output_type": "stream",
          "name": "stderr",
          "text": [
            "8499it [01:33, 95.33it/s]"
          ]
        },
        {
          "output_type": "stream",
          "name": "stdout",
          "text": [
            "| epoch   7 |  8500/32580 batches | loss    1.333 \n",
            "money: fact, way, result, play, time, even, it, possible, others, well\n",
            "lion: seven, addition, father, died, four, president, three, eight, six, sent\n",
            "africa: india, europe, france, south, north, america, china, germany, canada, australia\n",
            "musician: actress, actor, singer, author, writer, politician, nine, zero, seven, canadian\n",
            "dance: music, country, addition, study, traditional, art, order, philosophy, spanish, popular\n",
            "\n",
            "\n"
          ]
        },
        {
          "output_type": "stream",
          "name": "stderr",
          "text": [
            "8999it [01:39, 94.13it/s]"
          ]
        },
        {
          "output_type": "stream",
          "name": "stdout",
          "text": [
            "| epoch   7 |  9000/32580 batches | loss    1.332 \n",
            "money: fact, way, result, play, time, even, it, possible, others, well\n",
            "lion: seven, addition, father, died, four, president, three, eight, six, sent\n",
            "africa: india, europe, france, south, north, america, china, germany, canada, australia\n",
            "musician: actress, actor, singer, author, writer, politician, nine, zero, seven, canadian\n",
            "dance: music, country, addition, study, traditional, art, order, philosophy, spanish, popular\n",
            "\n",
            "\n"
          ]
        },
        {
          "output_type": "stream",
          "name": "stderr",
          "text": [
            "9498it [01:44, 94.66it/s]"
          ]
        },
        {
          "output_type": "stream",
          "name": "stdout",
          "text": [
            "| epoch   7 |  9500/32580 batches | loss    1.331 \n",
            "money: fact, way, result, play, time, even, it, possible, others, well\n",
            "lion: seven, addition, father, died, four, president, three, eight, six, sent\n",
            "africa: india, europe, france, south, north, america, china, germany, canada, australia\n",
            "musician: actress, actor, singer, author, writer, politician, nine, zero, seven, canadian\n",
            "dance: music, country, addition, study, traditional, art, order, philosophy, spanish, popular\n",
            "\n",
            "\n"
          ]
        },
        {
          "output_type": "stream",
          "name": "stderr",
          "text": [
            "10007it [01:50, 67.47it/s]"
          ]
        },
        {
          "output_type": "stream",
          "name": "stdout",
          "text": [
            "| epoch   7 | 10000/32580 batches | loss    1.332 \n",
            "money: fact, way, result, play, time, even, it, possible, others, well\n",
            "lion: seven, addition, father, died, four, president, three, eight, six, sent\n",
            "africa: india, europe, france, south, north, america, china, germany, canada, australia\n",
            "musician: actress, actor, singer, author, writer, politician, nine, zero, seven, canadian\n",
            "dance: music, country, addition, study, traditional, art, order, philosophy, spanish, popular\n",
            "\n",
            "\n"
          ]
        },
        {
          "output_type": "stream",
          "name": "stderr",
          "text": [
            "10497it [01:55, 95.29it/s]"
          ]
        },
        {
          "output_type": "stream",
          "name": "stdout",
          "text": [
            "| epoch   7 | 10500/32580 batches | loss    1.332 \n",
            "money: fact, way, result, play, time, even, it, possible, others, well\n",
            "lion: seven, addition, father, died, four, president, three, eight, six, sent\n",
            "africa: india, europe, france, south, north, america, china, germany, canada, australia\n",
            "musician: actress, actor, singer, author, writer, politician, nine, zero, seven, canadian\n",
            "dance: music, country, addition, study, traditional, art, order, philosophy, spanish, popular\n",
            "\n",
            "\n"
          ]
        },
        {
          "output_type": "stream",
          "name": "stderr",
          "text": [
            "10997it [02:01, 94.52it/s]"
          ]
        },
        {
          "output_type": "stream",
          "name": "stdout",
          "text": [
            "| epoch   7 | 11000/32580 batches | loss    1.328 \n",
            "money: fact, way, result, play, time, even, it, possible, others, well\n",
            "lion: seven, addition, father, died, four, president, three, eight, six, sent\n",
            "africa: india, europe, france, south, north, america, china, germany, canada, australia\n",
            "musician: actress, actor, singer, author, writer, politician, nine, zero, seven, canadian\n",
            "dance: music, country, addition, study, traditional, art, order, philosophy, spanish, popular\n",
            "\n",
            "\n"
          ]
        },
        {
          "output_type": "stream",
          "name": "stderr",
          "text": [
            "11507it [02:06, 67.94it/s]"
          ]
        },
        {
          "output_type": "stream",
          "name": "stdout",
          "text": [
            "| epoch   7 | 11500/32580 batches | loss    1.332 \n",
            "money: fact, way, result, play, time, even, it, possible, others, well\n",
            "lion: seven, addition, father, died, four, president, three, eight, six, sent\n",
            "africa: india, europe, france, south, north, america, china, germany, canada, australia\n",
            "musician: actress, actor, singer, author, writer, politician, nine, zero, seven, canadian\n",
            "dance: music, country, addition, study, traditional, art, order, philosophy, spanish, popular\n",
            "\n",
            "\n"
          ]
        },
        {
          "output_type": "stream",
          "name": "stderr",
          "text": [
            "12006it [02:12, 68.14it/s]"
          ]
        },
        {
          "output_type": "stream",
          "name": "stdout",
          "text": [
            "| epoch   7 | 12000/32580 batches | loss    1.332 \n",
            "money: fact, way, result, play, time, even, it, possible, others, well\n",
            "lion: seven, addition, father, died, four, president, three, eight, six, sent\n",
            "africa: india, europe, france, south, north, america, china, germany, canada, australia\n",
            "musician: actress, actor, singer, author, writer, politician, nine, zero, seven, canadian\n",
            "dance: music, country, addition, study, traditional, art, order, philosophy, spanish, popular\n",
            "\n",
            "\n"
          ]
        },
        {
          "output_type": "stream",
          "name": "stderr",
          "text": [
            "12506it [02:17, 68.39it/s]"
          ]
        },
        {
          "output_type": "stream",
          "name": "stdout",
          "text": [
            "| epoch   7 | 12500/32580 batches | loss    1.329 \n",
            "money: fact, way, result, play, time, even, it, possible, others, well\n",
            "lion: seven, addition, father, died, four, president, three, eight, six, sent\n",
            "africa: india, europe, france, south, north, america, china, germany, canada, australia\n",
            "musician: actress, actor, singer, author, writer, politician, nine, zero, seven, canadian\n",
            "dance: music, country, addition, study, traditional, art, order, philosophy, spanish, popular\n",
            "\n",
            "\n"
          ]
        },
        {
          "output_type": "stream",
          "name": "stderr",
          "text": [
            "13005it [02:22, 69.23it/s]"
          ]
        },
        {
          "output_type": "stream",
          "name": "stdout",
          "text": [
            "| epoch   7 | 13000/32580 batches | loss    1.334 \n",
            "money: fact, way, result, play, time, even, it, possible, others, well\n",
            "lion: seven, addition, father, died, four, president, three, eight, six, sent\n",
            "africa: india, europe, france, south, north, america, china, germany, canada, australia\n",
            "musician: actress, actor, singer, author, writer, politician, nine, zero, seven, canadian\n",
            "dance: music, country, addition, study, traditional, art, order, philosophy, spanish, popular\n",
            "\n",
            "\n"
          ]
        },
        {
          "output_type": "stream",
          "name": "stderr",
          "text": [
            "13503it [02:28, 70.58it/s]"
          ]
        },
        {
          "output_type": "stream",
          "name": "stdout",
          "text": [
            "| epoch   7 | 13500/32580 batches | loss    1.332 \n",
            "money: fact, way, result, play, time, even, it, possible, others, well\n",
            "lion: seven, addition, father, died, four, president, three, eight, six, sent\n",
            "africa: india, europe, france, south, north, america, china, germany, canada, australia\n",
            "musician: actress, actor, singer, author, writer, politician, nine, zero, seven, canadian\n",
            "dance: music, country, addition, study, traditional, art, order, philosophy, spanish, popular\n",
            "\n",
            "\n"
          ]
        },
        {
          "output_type": "stream",
          "name": "stderr",
          "text": [
            "14001it [02:33, 71.86it/s]"
          ]
        },
        {
          "output_type": "stream",
          "name": "stdout",
          "text": [
            "| epoch   7 | 14000/32580 batches | loss    1.332 \n",
            "money: fact, way, result, play, time, even, it, possible, others, well\n",
            "lion: seven, addition, father, died, four, president, three, eight, six, sent\n",
            "africa: india, europe, france, south, north, america, china, germany, canada, australia\n",
            "musician: actress, actor, singer, author, writer, politician, nine, zero, seven, canadian\n",
            "dance: music, country, addition, study, traditional, art, order, philosophy, spanish, popular\n",
            "\n",
            "\n"
          ]
        },
        {
          "output_type": "stream",
          "name": "stderr",
          "text": [
            "14499it [02:39, 94.42it/s]"
          ]
        },
        {
          "output_type": "stream",
          "name": "stdout",
          "text": [
            "| epoch   7 | 14500/32580 batches | loss    1.331 \n",
            "money: fact, way, result, play, time, even, it, possible, others, well\n",
            "lion: seven, addition, father, died, four, president, three, eight, six, sent\n",
            "africa: india, europe, france, south, north, america, china, germany, canada, australia\n",
            "musician: actress, actor, singer, author, writer, politician, nine, zero, seven, canadian\n",
            "dance: music, country, addition, study, traditional, art, order, philosophy, spanish, popular\n",
            "\n",
            "\n"
          ]
        },
        {
          "output_type": "stream",
          "name": "stderr",
          "text": [
            "14999it [02:44, 95.85it/s]"
          ]
        },
        {
          "output_type": "stream",
          "name": "stdout",
          "text": [
            "| epoch   7 | 15000/32580 batches | loss    1.331 \n",
            "money: fact, way, result, play, time, even, it, possible, others, well\n",
            "lion: seven, addition, father, died, four, president, three, eight, six, sent\n",
            "africa: india, europe, france, south, north, america, china, germany, canada, australia\n",
            "musician: actress, actor, singer, author, writer, politician, nine, zero, seven, canadian\n",
            "dance: music, country, addition, study, traditional, art, order, philosophy, spanish, popular\n",
            "\n",
            "\n"
          ]
        },
        {
          "output_type": "stream",
          "name": "stderr",
          "text": [
            "15499it [02:49, 95.90it/s]"
          ]
        },
        {
          "output_type": "stream",
          "name": "stdout",
          "text": [
            "| epoch   7 | 15500/32580 batches | loss    1.329 \n",
            "money: fact, way, result, play, time, even, it, possible, others, well\n",
            "lion: seven, addition, father, died, four, president, three, eight, six, sent\n",
            "africa: india, europe, france, south, north, america, china, germany, canada, australia\n",
            "musician: actress, actor, singer, author, writer, politician, nine, zero, seven, canadian\n",
            "dance: music, country, addition, study, traditional, art, order, philosophy, spanish, popular\n",
            "\n",
            "\n"
          ]
        },
        {
          "output_type": "stream",
          "name": "stderr",
          "text": [
            "15999it [02:55, 94.09it/s]"
          ]
        },
        {
          "output_type": "stream",
          "name": "stdout",
          "text": [
            "| epoch   7 | 16000/32580 batches | loss    1.327 \n",
            "money: fact, way, result, play, time, even, it, possible, others, well\n",
            "lion: seven, addition, father, died, four, president, three, eight, six, sent\n",
            "africa: india, europe, france, south, north, america, china, germany, canada, australia\n",
            "musician: actress, actor, singer, author, writer, politician, nine, zero, seven, canadian\n",
            "dance: music, country, addition, study, traditional, art, order, philosophy, spanish, popular\n",
            "\n",
            "\n"
          ]
        },
        {
          "output_type": "stream",
          "name": "stderr",
          "text": [
            "16499it [03:00, 95.18it/s]"
          ]
        },
        {
          "output_type": "stream",
          "name": "stdout",
          "text": [
            "| epoch   7 | 16500/32580 batches | loss    1.331 \n",
            "money: fact, way, result, play, time, even, it, possible, others, well\n",
            "lion: seven, addition, father, died, four, president, three, eight, six, sent\n",
            "africa: india, europe, france, south, north, america, china, germany, canada, australia\n",
            "musician: actress, actor, singer, author, writer, politician, nine, zero, seven, canadian\n",
            "dance: music, country, addition, study, traditional, art, order, philosophy, spanish, popular\n",
            "\n",
            "\n"
          ]
        },
        {
          "output_type": "stream",
          "name": "stderr",
          "text": [
            "16999it [03:06, 95.22it/s]"
          ]
        },
        {
          "output_type": "stream",
          "name": "stdout",
          "text": [
            "| epoch   7 | 17000/32580 batches | loss    1.329 \n",
            "money: fact, way, result, play, time, even, it, possible, others, well\n",
            "lion: seven, addition, father, died, four, president, three, eight, six, sent\n",
            "africa: india, europe, france, south, north, america, china, germany, canada, australia\n",
            "musician: actress, actor, singer, author, writer, politician, nine, zero, seven, canadian\n",
            "dance: music, country, addition, study, traditional, art, order, philosophy, spanish, popular\n",
            "\n",
            "\n"
          ]
        },
        {
          "output_type": "stream",
          "name": "stderr",
          "text": [
            "17499it [03:11, 94.04it/s]"
          ]
        },
        {
          "output_type": "stream",
          "name": "stdout",
          "text": [
            "| epoch   7 | 17500/32580 batches | loss    1.333 \n",
            "money: fact, way, result, play, time, even, it, possible, others, well\n",
            "lion: seven, addition, father, died, four, president, three, eight, six, sent\n",
            "africa: india, europe, france, south, north, america, china, germany, canada, australia\n",
            "musician: actress, actor, singer, author, writer, politician, nine, zero, seven, canadian\n",
            "dance: music, country, addition, study, traditional, art, order, philosophy, spanish, popular\n",
            "\n",
            "\n"
          ]
        },
        {
          "output_type": "stream",
          "name": "stderr",
          "text": [
            "17999it [03:16, 93.44it/s]"
          ]
        },
        {
          "output_type": "stream",
          "name": "stdout",
          "text": [
            "| epoch   7 | 18000/32580 batches | loss    1.330 \n",
            "money: fact, way, result, play, time, even, it, possible, others, well\n",
            "lion: seven, addition, father, died, four, president, three, eight, six, sent\n",
            "africa: india, europe, france, south, north, america, china, germany, canada, australia\n",
            "musician: actress, actor, singer, author, writer, politician, nine, zero, seven, canadian\n",
            "dance: music, country, addition, study, traditional, art, order, philosophy, spanish, popular\n",
            "\n",
            "\n"
          ]
        },
        {
          "output_type": "stream",
          "name": "stderr",
          "text": [
            "18499it [03:22, 95.45it/s]"
          ]
        },
        {
          "output_type": "stream",
          "name": "stdout",
          "text": [
            "| epoch   7 | 18500/32580 batches | loss    1.329 \n",
            "money: fact, way, result, play, time, even, it, possible, others, well\n",
            "lion: seven, addition, father, died, four, president, three, eight, six, sent\n",
            "africa: india, europe, france, south, north, america, china, germany, canada, australia\n",
            "musician: actress, actor, singer, author, writer, politician, nine, zero, seven, canadian\n",
            "dance: music, country, addition, study, traditional, art, order, philosophy, spanish, popular\n",
            "\n",
            "\n"
          ]
        },
        {
          "output_type": "stream",
          "name": "stderr",
          "text": [
            "18999it [03:27, 95.91it/s]"
          ]
        },
        {
          "output_type": "stream",
          "name": "stdout",
          "text": [
            "| epoch   7 | 19000/32580 batches | loss    1.331 \n",
            "money: fact, way, result, play, time, even, it, possible, others, well\n",
            "lion: seven, addition, father, died, four, president, three, eight, six, sent\n",
            "africa: india, europe, france, south, north, america, china, germany, canada, australia\n",
            "musician: actress, actor, singer, author, writer, politician, nine, zero, seven, canadian\n",
            "dance: music, country, addition, study, traditional, art, order, philosophy, spanish, popular\n",
            "\n",
            "\n"
          ]
        },
        {
          "output_type": "stream",
          "name": "stderr",
          "text": [
            "19499it [03:33, 94.97it/s]"
          ]
        },
        {
          "output_type": "stream",
          "name": "stdout",
          "text": [
            "| epoch   7 | 19500/32580 batches | loss    1.333 \n",
            "money: fact, way, result, play, time, even, it, possible, others, well\n",
            "lion: seven, addition, father, died, four, president, three, eight, six, sent\n",
            "africa: india, europe, france, south, north, america, china, germany, canada, australia\n",
            "musician: actress, actor, singer, author, writer, politician, nine, zero, seven, canadian\n",
            "dance: music, country, addition, study, traditional, art, order, philosophy, spanish, popular\n",
            "\n",
            "\n"
          ]
        },
        {
          "output_type": "stream",
          "name": "stderr",
          "text": [
            "19999it [03:40, 94.32it/s]"
          ]
        },
        {
          "output_type": "stream",
          "name": "stdout",
          "text": [
            "| epoch   7 | 20000/32580 batches | loss    1.326 \n",
            "money: fact, way, result, play, time, even, it, possible, others, well\n",
            "lion: seven, addition, father, died, four, president, three, eight, six, sent\n",
            "africa: india, europe, france, south, north, america, china, germany, canada, australia\n",
            "musician: actress, actor, singer, author, writer, politician, nine, zero, seven, canadian\n",
            "dance: music, country, addition, study, traditional, art, order, philosophy, spanish, popular\n",
            "\n",
            "\n"
          ]
        },
        {
          "output_type": "stream",
          "name": "stderr",
          "text": [
            "20498it [03:46, 93.25it/s]"
          ]
        },
        {
          "output_type": "stream",
          "name": "stdout",
          "text": [
            "| epoch   7 | 20500/32580 batches | loss    1.331 \n",
            "money: fact, way, result, play, time, even, it, possible, others, well\n",
            "lion: seven, addition, father, died, four, president, three, eight, six, sent\n",
            "africa: india, europe, france, south, north, america, china, germany, canada, australia\n",
            "musician: actress, actor, singer, author, writer, politician, nine, zero, seven, canadian\n",
            "dance: music, country, addition, study, traditional, art, order, philosophy, spanish, popular\n",
            "\n",
            "\n"
          ]
        },
        {
          "output_type": "stream",
          "name": "stderr",
          "text": [
            "20998it [03:51, 95.32it/s]"
          ]
        },
        {
          "output_type": "stream",
          "name": "stdout",
          "text": [
            "| epoch   7 | 21000/32580 batches | loss    1.331 \n",
            "money: fact, way, result, play, time, even, it, possible, others, well\n",
            "lion: seven, addition, father, died, four, president, three, eight, six, sent\n",
            "africa: india, europe, france, south, north, america, china, germany, canada, australia\n",
            "musician: actress, actor, singer, author, writer, politician, nine, zero, seven, canadian\n",
            "dance: music, country, addition, study, traditional, art, order, philosophy, spanish, popular\n",
            "\n",
            "\n"
          ]
        },
        {
          "output_type": "stream",
          "name": "stderr",
          "text": [
            "21498it [03:57, 92.38it/s]"
          ]
        },
        {
          "output_type": "stream",
          "name": "stdout",
          "text": [
            "| epoch   7 | 21500/32580 batches | loss    1.329 \n",
            "money: fact, way, result, play, time, even, it, possible, others, well\n",
            "lion: seven, addition, father, died, four, president, three, eight, six, sent\n",
            "africa: india, europe, france, south, north, america, china, germany, canada, australia\n",
            "musician: actress, actor, singer, author, writer, politician, nine, zero, seven, canadian\n",
            "dance: music, country, addition, study, traditional, art, order, philosophy, spanish, popular\n",
            "\n",
            "\n"
          ]
        },
        {
          "output_type": "stream",
          "name": "stderr",
          "text": [
            "21997it [04:02, 95.08it/s]"
          ]
        },
        {
          "output_type": "stream",
          "name": "stdout",
          "text": [
            "| epoch   7 | 22000/32580 batches | loss    1.332 \n",
            "money: fact, way, result, play, time, even, it, possible, others, well\n",
            "lion: seven, addition, father, died, four, president, three, eight, six, sent\n",
            "africa: india, europe, france, south, north, america, china, germany, canada, australia\n",
            "musician: actress, actor, singer, author, writer, politician, nine, zero, seven, canadian\n",
            "dance: music, country, addition, study, traditional, art, order, philosophy, spanish, popular\n",
            "\n",
            "\n"
          ]
        },
        {
          "output_type": "stream",
          "name": "stderr",
          "text": [
            "22497it [04:07, 94.06it/s]"
          ]
        },
        {
          "output_type": "stream",
          "name": "stdout",
          "text": [
            "| epoch   7 | 22500/32580 batches | loss    1.331 \n",
            "money: fact, way, result, play, time, even, it, possible, others, well\n",
            "lion: seven, addition, father, died, four, president, three, eight, six, sent\n",
            "africa: india, europe, france, south, north, america, china, germany, canada, australia\n",
            "musician: actress, actor, singer, author, writer, politician, nine, zero, seven, canadian\n",
            "dance: music, country, addition, study, traditional, art, order, philosophy, spanish, popular\n",
            "\n",
            "\n"
          ]
        },
        {
          "output_type": "stream",
          "name": "stderr",
          "text": [
            "23007it [04:13, 68.28it/s]"
          ]
        },
        {
          "output_type": "stream",
          "name": "stdout",
          "text": [
            "| epoch   7 | 23000/32580 batches | loss    1.332 \n",
            "money: fact, way, result, play, time, even, it, possible, others, well\n",
            "lion: seven, addition, father, died, four, president, three, eight, six, sent\n",
            "africa: india, europe, france, south, north, america, china, germany, canada, australia\n",
            "musician: actress, actor, singer, author, writer, politician, nine, zero, seven, canadian\n",
            "dance: music, country, addition, study, traditional, art, order, philosophy, spanish, popular\n",
            "\n",
            "\n"
          ]
        },
        {
          "output_type": "stream",
          "name": "stderr",
          "text": [
            "23506it [04:19, 68.90it/s]"
          ]
        },
        {
          "output_type": "stream",
          "name": "stdout",
          "text": [
            "| epoch   7 | 23500/32580 batches | loss    1.335 \n",
            "money: fact, way, result, play, time, even, it, possible, others, well\n",
            "lion: seven, addition, father, died, four, president, three, eight, six, sent\n",
            "africa: india, europe, france, south, north, america, china, germany, canada, australia\n",
            "musician: actress, actor, singer, author, writer, politician, nine, zero, seven, canadian\n",
            "dance: music, country, addition, study, traditional, art, order, philosophy, spanish, popular\n",
            "\n",
            "\n"
          ]
        },
        {
          "output_type": "stream",
          "name": "stderr",
          "text": [
            "24006it [04:24, 68.71it/s]"
          ]
        },
        {
          "output_type": "stream",
          "name": "stdout",
          "text": [
            "| epoch   7 | 24000/32580 batches | loss    1.330 \n",
            "money: fact, way, result, play, time, even, it, possible, others, well\n",
            "lion: seven, addition, father, died, four, president, three, eight, six, sent\n",
            "africa: india, europe, france, south, north, america, china, germany, canada, australia\n",
            "musician: actress, actor, singer, author, writer, politician, nine, zero, seven, canadian\n",
            "dance: music, country, addition, study, traditional, art, order, philosophy, spanish, popular\n",
            "\n",
            "\n"
          ]
        },
        {
          "output_type": "stream",
          "name": "stderr",
          "text": [
            "24506it [04:29, 68.21it/s]"
          ]
        },
        {
          "output_type": "stream",
          "name": "stdout",
          "text": [
            "| epoch   7 | 24500/32580 batches | loss    1.329 \n",
            "money: fact, way, result, play, time, even, it, possible, others, well\n",
            "lion: seven, addition, father, died, four, president, three, eight, six, sent\n",
            "africa: india, europe, france, south, north, america, china, germany, canada, australia\n",
            "musician: actress, actor, singer, author, writer, politician, nine, zero, seven, canadian\n",
            "dance: music, country, addition, study, traditional, art, order, philosophy, spanish, popular\n",
            "\n",
            "\n"
          ]
        },
        {
          "output_type": "stream",
          "name": "stderr",
          "text": [
            "25005it [04:35, 69.92it/s]"
          ]
        },
        {
          "output_type": "stream",
          "name": "stdout",
          "text": [
            "| epoch   7 | 25000/32580 batches | loss    1.328 \n",
            "money: fact, way, result, play, time, even, it, possible, others, well\n",
            "lion: seven, addition, father, died, four, president, three, eight, six, sent\n",
            "africa: india, europe, france, south, north, america, china, germany, canada, australia\n",
            "musician: actress, actor, singer, author, writer, politician, nine, zero, seven, canadian\n",
            "dance: music, country, addition, study, traditional, art, order, philosophy, spanish, popular\n",
            "\n",
            "\n"
          ]
        },
        {
          "output_type": "stream",
          "name": "stderr",
          "text": [
            "25504it [04:40, 68.72it/s]"
          ]
        },
        {
          "output_type": "stream",
          "name": "stdout",
          "text": [
            "| epoch   7 | 25500/32580 batches | loss    1.332 \n",
            "money: fact, way, result, play, time, even, it, possible, others, well\n",
            "lion: seven, addition, father, died, four, president, three, eight, six, sent\n",
            "africa: india, europe, france, south, north, america, china, germany, canada, australia\n",
            "musician: actress, actor, singer, author, writer, politician, nine, zero, seven, canadian\n",
            "dance: music, country, addition, study, traditional, art, order, philosophy, spanish, popular\n",
            "\n",
            "\n"
          ]
        },
        {
          "output_type": "stream",
          "name": "stderr",
          "text": [
            "26003it [04:46, 70.24it/s]"
          ]
        },
        {
          "output_type": "stream",
          "name": "stdout",
          "text": [
            "| epoch   7 | 26000/32580 batches | loss    1.332 \n",
            "money: fact, way, result, play, time, even, it, possible, others, well\n",
            "lion: seven, addition, father, died, four, president, three, eight, six, sent\n",
            "africa: india, europe, france, south, north, america, china, germany, canada, australia\n",
            "musician: actress, actor, singer, author, writer, politician, nine, zero, seven, canadian\n",
            "dance: music, country, addition, study, traditional, art, order, philosophy, spanish, popular\n",
            "\n",
            "\n"
          ]
        },
        {
          "output_type": "stream",
          "name": "stderr",
          "text": [
            "26501it [04:51, 70.65it/s]"
          ]
        },
        {
          "output_type": "stream",
          "name": "stdout",
          "text": [
            "| epoch   7 | 26500/32580 batches | loss    1.330 \n",
            "money: fact, way, result, play, time, even, it, possible, others, well\n",
            "lion: seven, addition, father, died, four, president, three, eight, six, sent\n",
            "africa: india, europe, france, south, north, america, china, germany, canada, australia\n",
            "musician: actress, actor, singer, author, writer, politician, nine, zero, seven, canadian\n",
            "dance: music, country, addition, study, traditional, art, order, philosophy, spanish, popular\n",
            "\n",
            "\n"
          ]
        },
        {
          "output_type": "stream",
          "name": "stderr",
          "text": [
            "26999it [04:56, 94.95it/s]"
          ]
        },
        {
          "output_type": "stream",
          "name": "stdout",
          "text": [
            "| epoch   7 | 27000/32580 batches | loss    1.329 \n",
            "money: fact, way, result, play, time, even, it, possible, others, well\n",
            "lion: seven, addition, father, died, four, president, three, eight, six, sent\n",
            "africa: india, europe, france, south, north, america, china, germany, canada, australia\n",
            "musician: actress, actor, singer, author, writer, politician, nine, zero, seven, canadian\n",
            "dance: music, country, addition, study, traditional, art, order, philosophy, spanish, popular\n",
            "\n",
            "\n"
          ]
        },
        {
          "output_type": "stream",
          "name": "stderr",
          "text": [
            "27499it [05:02, 92.64it/s]"
          ]
        },
        {
          "output_type": "stream",
          "name": "stdout",
          "text": [
            "| epoch   7 | 27500/32580 batches | loss    1.333 \n",
            "money: fact, way, result, play, time, even, it, possible, others, well\n",
            "lion: seven, addition, father, died, four, president, three, eight, six, sent\n",
            "africa: india, europe, france, south, north, america, china, germany, canada, australia\n",
            "musician: actress, actor, singer, author, writer, politician, nine, zero, seven, canadian\n",
            "dance: music, country, addition, study, traditional, art, order, philosophy, spanish, popular\n",
            "\n",
            "\n"
          ]
        },
        {
          "output_type": "stream",
          "name": "stderr",
          "text": [
            "27999it [05:07, 95.55it/s]"
          ]
        },
        {
          "output_type": "stream",
          "name": "stdout",
          "text": [
            "| epoch   7 | 28000/32580 batches | loss    1.336 \n",
            "money: fact, way, result, play, time, even, it, possible, others, well\n",
            "lion: seven, addition, father, died, four, president, three, eight, six, sent\n",
            "africa: india, europe, france, south, north, america, china, germany, canada, australia\n",
            "musician: actress, actor, singer, author, writer, politician, nine, zero, seven, canadian\n",
            "dance: music, country, addition, study, traditional, art, order, philosophy, spanish, popular\n",
            "\n",
            "\n"
          ]
        },
        {
          "output_type": "stream",
          "name": "stderr",
          "text": [
            "28499it [05:13, 95.63it/s]"
          ]
        },
        {
          "output_type": "stream",
          "name": "stdout",
          "text": [
            "| epoch   7 | 28500/32580 batches | loss    1.329 \n",
            "money: fact, way, result, play, time, even, it, possible, others, well\n",
            "lion: seven, addition, father, died, four, president, three, eight, six, sent\n",
            "africa: india, europe, france, south, north, america, china, germany, canada, australia\n",
            "musician: actress, actor, singer, author, writer, politician, nine, zero, seven, canadian\n",
            "dance: music, country, addition, study, traditional, art, order, philosophy, spanish, popular\n",
            "\n",
            "\n"
          ]
        },
        {
          "output_type": "stream",
          "name": "stderr",
          "text": [
            "28998it [05:18, 93.59it/s]"
          ]
        },
        {
          "output_type": "stream",
          "name": "stdout",
          "text": [
            "| epoch   7 | 29000/32580 batches | loss    1.332 \n",
            "money: fact, way, result, play, time, even, it, possible, others, well\n",
            "lion: seven, addition, father, died, four, president, three, eight, six, sent\n",
            "africa: india, europe, france, south, north, america, china, germany, canada, australia\n",
            "musician: actress, actor, singer, author, writer, politician, nine, zero, seven, canadian\n",
            "dance: music, country, addition, study, traditional, art, order, philosophy, spanish, popular\n",
            "\n",
            "\n"
          ]
        },
        {
          "output_type": "stream",
          "name": "stderr",
          "text": [
            "29497it [05:23, 93.88it/s]"
          ]
        },
        {
          "output_type": "stream",
          "name": "stdout",
          "text": [
            "| epoch   7 | 29500/32580 batches | loss    1.333 \n",
            "money: fact, way, result, play, time, even, it, possible, others, well\n",
            "lion: seven, addition, father, died, four, president, three, eight, six, sent\n",
            "africa: india, europe, france, south, north, america, china, germany, canada, australia\n",
            "musician: actress, actor, singer, author, writer, politician, nine, zero, seven, canadian\n",
            "dance: music, country, addition, study, traditional, art, order, philosophy, spanish, popular\n",
            "\n",
            "\n"
          ]
        },
        {
          "output_type": "stream",
          "name": "stderr",
          "text": [
            "29997it [05:29, 92.06it/s]"
          ]
        },
        {
          "output_type": "stream",
          "name": "stdout",
          "text": [
            "| epoch   7 | 30000/32580 batches | loss    1.333 \n",
            "money: fact, way, result, play, time, even, it, possible, others, well\n",
            "lion: seven, addition, father, died, four, president, three, eight, six, sent\n",
            "africa: india, europe, france, south, north, america, china, germany, canada, australia\n",
            "musician: actress, actor, singer, author, writer, politician, nine, zero, seven, canadian\n",
            "dance: music, country, addition, study, traditional, art, order, philosophy, spanish, popular\n",
            "\n",
            "\n"
          ]
        },
        {
          "output_type": "stream",
          "name": "stderr",
          "text": [
            "30497it [05:34, 94.57it/s]"
          ]
        },
        {
          "output_type": "stream",
          "name": "stdout",
          "text": [
            "| epoch   7 | 30500/32580 batches | loss    1.327 \n",
            "money: fact, way, result, play, time, even, it, possible, others, well\n",
            "lion: seven, addition, father, died, four, president, three, eight, six, sent\n",
            "africa: india, europe, france, south, north, america, china, germany, canada, australia\n",
            "musician: actress, actor, singer, author, writer, politician, nine, zero, seven, canadian\n",
            "dance: music, country, addition, study, traditional, art, order, philosophy, spanish, popular\n",
            "\n",
            "\n"
          ]
        },
        {
          "output_type": "stream",
          "name": "stderr",
          "text": [
            "31007it [05:40, 66.56it/s]"
          ]
        },
        {
          "output_type": "stream",
          "name": "stdout",
          "text": [
            "| epoch   7 | 31000/32580 batches | loss    1.328 \n",
            "money: fact, way, result, play, time, even, it, possible, others, well\n",
            "lion: seven, addition, father, died, four, president, three, eight, six, sent\n",
            "africa: india, europe, france, south, north, america, china, germany, canada, australia\n",
            "musician: actress, actor, singer, author, writer, politician, nine, zero, seven, canadian\n",
            "dance: music, country, addition, study, traditional, art, order, philosophy, spanish, popular\n",
            "\n",
            "\n"
          ]
        },
        {
          "output_type": "stream",
          "name": "stderr",
          "text": [
            "31497it [05:45, 93.32it/s]"
          ]
        },
        {
          "output_type": "stream",
          "name": "stdout",
          "text": [
            "| epoch   7 | 31500/32580 batches | loss    1.328 \n",
            "money: fact, way, result, play, time, even, it, possible, others, well\n",
            "lion: seven, addition, father, died, four, president, three, eight, six, sent\n",
            "africa: india, europe, france, south, north, america, china, germany, canada, australia\n",
            "musician: actress, actor, singer, author, writer, politician, nine, zero, seven, canadian\n",
            "dance: music, country, addition, study, traditional, art, order, philosophy, spanish, popular\n",
            "\n",
            "\n"
          ]
        },
        {
          "output_type": "stream",
          "name": "stderr",
          "text": [
            "31997it [05:51, 92.14it/s]"
          ]
        },
        {
          "output_type": "stream",
          "name": "stdout",
          "text": [
            "| epoch   7 | 32000/32580 batches | loss    1.330 \n",
            "money: fact, way, result, play, time, even, it, possible, others, well\n",
            "lion: seven, addition, father, died, four, president, three, eight, six, sent\n",
            "africa: india, europe, france, south, north, america, china, germany, canada, australia\n",
            "musician: actress, actor, singer, author, writer, politician, nine, zero, seven, canadian\n",
            "dance: music, country, addition, study, traditional, art, order, philosophy, spanish, popular\n",
            "\n",
            "\n"
          ]
        },
        {
          "output_type": "stream",
          "name": "stderr",
          "text": [
            "32497it [05:56, 95.59it/s]"
          ]
        },
        {
          "output_type": "stream",
          "name": "stdout",
          "text": [
            "| epoch   7 | 32500/32580 batches | loss    1.330 \n",
            "money: fact, way, result, play, time, even, it, possible, others, well\n",
            "lion: seven, addition, father, died, four, president, three, eight, six, sent\n",
            "africa: india, europe, france, south, north, america, china, germany, canada, australia\n",
            "musician: actress, actor, singer, author, writer, politician, nine, zero, seven, canadian\n",
            "dance: music, country, addition, study, traditional, art, order, philosophy, spanish, popular\n",
            "\n",
            "\n"
          ]
        },
        {
          "output_type": "stream",
          "name": "stderr",
          "text": [
            "32580it [05:59, 90.65it/s]\n",
            "1it [00:01,  1.71s/it]"
          ]
        },
        {
          "output_type": "stream",
          "name": "stdout",
          "text": [
            "| epoch   8 |     0/32580 batches | loss    1.295 \n",
            "money: fact, way, result, play, time, even, it, possible, others, well\n",
            "lion: seven, addition, father, died, four, president, three, eight, six, sent\n",
            "africa: india, europe, france, south, north, america, china, germany, canada, australia\n",
            "musician: actress, actor, singer, author, writer, politician, nine, zero, seven, canadian\n",
            "dance: music, country, addition, study, traditional, art, order, philosophy, spanish, popular\n",
            "\n",
            "\n"
          ]
        },
        {
          "output_type": "stream",
          "name": "stderr",
          "text": [
            "502it [00:07, 70.98it/s]"
          ]
        },
        {
          "output_type": "stream",
          "name": "stdout",
          "text": [
            "| epoch   8 |   500/32580 batches | loss    1.333 \n",
            "money: fact, way, result, play, time, even, it, possible, others, well\n",
            "lion: seven, addition, father, died, four, president, three, eight, six, sent\n",
            "africa: india, europe, france, south, north, america, china, germany, canada, australia\n",
            "musician: actress, actor, singer, author, writer, politician, nine, zero, seven, canadian\n",
            "dance: music, country, addition, study, traditional, art, order, philosophy, spanish, popular\n",
            "\n",
            "\n"
          ]
        },
        {
          "output_type": "stream",
          "name": "stderr",
          "text": [
            "1001it [00:12, 71.38it/s]"
          ]
        },
        {
          "output_type": "stream",
          "name": "stdout",
          "text": [
            "| epoch   8 |  1000/32580 batches | loss    1.328 \n",
            "money: fact, way, result, play, time, even, it, possible, others, well\n",
            "lion: seven, addition, father, died, four, president, three, eight, six, sent\n",
            "africa: india, europe, france, south, north, america, china, germany, canada, australia\n",
            "musician: actress, actor, singer, author, writer, politician, nine, zero, seven, canadian\n",
            "dance: music, country, addition, study, traditional, art, order, philosophy, spanish, popular\n",
            "\n",
            "\n"
          ]
        },
        {
          "output_type": "stream",
          "name": "stderr",
          "text": [
            "1499it [00:17, 94.45it/s]"
          ]
        },
        {
          "output_type": "stream",
          "name": "stdout",
          "text": [
            "| epoch   8 |  1500/32580 batches | loss    1.334 \n",
            "money: fact, way, result, play, time, even, it, possible, others, well\n",
            "lion: seven, addition, father, died, four, president, three, eight, six, sent\n",
            "africa: india, europe, france, south, north, america, china, germany, canada, australia\n",
            "musician: actress, actor, singer, author, writer, politician, nine, zero, seven, canadian\n",
            "dance: music, country, addition, study, traditional, art, order, philosophy, spanish, popular\n",
            "\n",
            "\n"
          ]
        },
        {
          "output_type": "stream",
          "name": "stderr",
          "text": [
            "1999it [00:23, 95.77it/s]"
          ]
        },
        {
          "output_type": "stream",
          "name": "stdout",
          "text": [
            "| epoch   8 |  2000/32580 batches | loss    1.334 \n",
            "money: fact, way, result, play, time, even, it, possible, others, well\n",
            "lion: seven, addition, father, died, four, president, three, eight, six, sent\n",
            "africa: india, europe, france, south, north, america, china, germany, canada, australia\n",
            "musician: actress, actor, singer, author, writer, politician, nine, zero, seven, canadian\n",
            "dance: music, country, addition, study, traditional, art, order, philosophy, spanish, popular\n",
            "\n",
            "\n"
          ]
        },
        {
          "output_type": "stream",
          "name": "stderr",
          "text": [
            "2499it [00:28, 94.11it/s]"
          ]
        },
        {
          "output_type": "stream",
          "name": "stdout",
          "text": [
            "| epoch   8 |  2500/32580 batches | loss    1.329 \n",
            "money: fact, way, result, play, time, even, it, possible, others, well\n",
            "lion: seven, addition, father, died, four, president, three, eight, six, sent\n",
            "africa: india, europe, france, south, north, america, china, germany, canada, australia\n",
            "musician: actress, actor, singer, author, writer, politician, nine, zero, seven, canadian\n",
            "dance: music, country, addition, study, traditional, art, order, philosophy, spanish, popular\n",
            "\n",
            "\n"
          ]
        },
        {
          "output_type": "stream",
          "name": "stderr",
          "text": [
            "2998it [00:34, 94.53it/s]"
          ]
        },
        {
          "output_type": "stream",
          "name": "stdout",
          "text": [
            "| epoch   8 |  3000/32580 batches | loss    1.330 \n",
            "money: fact, way, result, play, time, even, it, possible, others, well\n",
            "lion: seven, addition, father, died, four, president, three, eight, six, sent\n",
            "africa: india, europe, france, south, north, america, china, germany, canada, australia\n",
            "musician: actress, actor, singer, author, writer, politician, nine, zero, seven, canadian\n",
            "dance: music, country, addition, study, traditional, art, order, philosophy, spanish, popular\n",
            "\n",
            "\n"
          ]
        },
        {
          "output_type": "stream",
          "name": "stderr",
          "text": [
            "3498it [00:39, 93.96it/s]"
          ]
        },
        {
          "output_type": "stream",
          "name": "stdout",
          "text": [
            "| epoch   8 |  3500/32580 batches | loss    1.332 \n",
            "money: fact, way, result, play, time, even, it, possible, others, well\n",
            "lion: seven, addition, father, died, four, president, three, eight, six, sent\n",
            "africa: india, europe, france, south, north, america, china, germany, canada, australia\n",
            "musician: actress, actor, singer, author, writer, politician, nine, zero, seven, canadian\n",
            "dance: music, country, addition, study, traditional, art, order, philosophy, spanish, popular\n",
            "\n",
            "\n"
          ]
        },
        {
          "output_type": "stream",
          "name": "stderr",
          "text": [
            "3998it [00:45, 94.96it/s]"
          ]
        },
        {
          "output_type": "stream",
          "name": "stdout",
          "text": [
            "| epoch   8 |  4000/32580 batches | loss    1.330 \n",
            "money: fact, way, result, play, time, even, it, possible, others, well\n",
            "lion: seven, addition, father, died, four, president, three, eight, six, sent\n",
            "africa: india, europe, france, south, north, america, china, germany, canada, australia\n",
            "musician: actress, actor, singer, author, writer, politician, nine, zero, seven, canadian\n",
            "dance: music, country, addition, study, traditional, art, order, philosophy, spanish, popular\n",
            "\n",
            "\n"
          ]
        },
        {
          "output_type": "stream",
          "name": "stderr",
          "text": [
            "4507it [00:50, 68.32it/s]"
          ]
        },
        {
          "output_type": "stream",
          "name": "stdout",
          "text": [
            "| epoch   8 |  4500/32580 batches | loss    1.330 \n",
            "money: fact, way, result, play, time, even, it, possible, others, well\n",
            "lion: seven, addition, father, died, four, president, three, eight, six, sent\n",
            "africa: india, europe, france, south, north, america, china, germany, canada, australia\n",
            "musician: actress, actor, singer, author, writer, politician, nine, zero, seven, canadian\n",
            "dance: music, country, addition, study, traditional, art, order, philosophy, spanish, popular\n",
            "\n",
            "\n"
          ]
        },
        {
          "output_type": "stream",
          "name": "stderr",
          "text": [
            "4997it [00:55, 95.42it/s]"
          ]
        },
        {
          "output_type": "stream",
          "name": "stdout",
          "text": [
            "| epoch   8 |  5000/32580 batches | loss    1.334 \n",
            "money: fact, way, result, play, time, even, it, possible, others, well\n",
            "lion: seven, addition, father, died, four, president, three, eight, six, sent\n",
            "africa: india, europe, france, south, north, america, china, germany, canada, australia\n",
            "musician: actress, actor, singer, author, writer, politician, nine, zero, seven, canadian\n",
            "dance: music, country, addition, study, traditional, art, order, philosophy, spanish, popular\n",
            "\n",
            "\n"
          ]
        },
        {
          "output_type": "stream",
          "name": "stderr",
          "text": [
            "5497it [01:01, 91.99it/s]"
          ]
        },
        {
          "output_type": "stream",
          "name": "stdout",
          "text": [
            "| epoch   8 |  5500/32580 batches | loss    1.336 \n",
            "money: fact, way, result, play, time, even, it, possible, others, well\n",
            "lion: seven, addition, father, died, four, president, three, eight, six, sent\n",
            "africa: india, europe, france, south, north, america, china, germany, canada, australia\n",
            "musician: actress, actor, singer, author, writer, politician, nine, zero, seven, canadian\n",
            "dance: music, country, addition, study, traditional, art, order, philosophy, spanish, popular\n",
            "\n",
            "\n"
          ]
        },
        {
          "output_type": "stream",
          "name": "stderr",
          "text": [
            "6007it [01:07, 67.65it/s]"
          ]
        },
        {
          "output_type": "stream",
          "name": "stdout",
          "text": [
            "| epoch   8 |  6000/32580 batches | loss    1.331 \n",
            "money: fact, way, result, play, time, even, it, possible, others, well\n",
            "lion: seven, addition, father, died, four, president, three, eight, six, sent\n",
            "africa: india, europe, france, south, north, america, china, germany, canada, australia\n",
            "musician: actress, actor, singer, author, writer, politician, nine, zero, seven, canadian\n",
            "dance: music, country, addition, study, traditional, art, order, philosophy, spanish, popular\n",
            "\n",
            "\n"
          ]
        },
        {
          "output_type": "stream",
          "name": "stderr",
          "text": [
            "6507it [01:12, 68.11it/s]"
          ]
        },
        {
          "output_type": "stream",
          "name": "stdout",
          "text": [
            "| epoch   8 |  6500/32580 batches | loss    1.332 \n",
            "money: fact, way, result, play, time, even, it, possible, others, well\n",
            "lion: seven, addition, father, died, four, president, three, eight, six, sent\n",
            "africa: india, europe, france, south, north, america, china, germany, canada, australia\n",
            "musician: actress, actor, singer, author, writer, politician, nine, zero, seven, canadian\n",
            "dance: music, country, addition, study, traditional, art, order, philosophy, spanish, popular\n",
            "\n",
            "\n"
          ]
        },
        {
          "output_type": "stream",
          "name": "stderr",
          "text": [
            "6997it [01:17, 92.41it/s]"
          ]
        },
        {
          "output_type": "stream",
          "name": "stdout",
          "text": [
            "| epoch   8 |  7000/32580 batches | loss    1.327 \n",
            "money: fact, way, result, play, time, even, it, possible, others, well\n",
            "lion: seven, addition, father, died, four, president, three, eight, six, sent\n",
            "africa: india, europe, france, south, north, america, china, germany, canada, australia\n",
            "musician: actress, actor, singer, author, writer, politician, nine, zero, seven, canadian\n",
            "dance: music, country, addition, study, traditional, art, order, philosophy, spanish, popular\n",
            "\n",
            "\n"
          ]
        },
        {
          "output_type": "stream",
          "name": "stderr",
          "text": [
            "7507it [01:23, 68.76it/s]"
          ]
        },
        {
          "output_type": "stream",
          "name": "stdout",
          "text": [
            "| epoch   8 |  7500/32580 batches | loss    1.326 \n",
            "money: fact, way, result, play, time, even, it, possible, others, well\n",
            "lion: seven, addition, father, died, four, president, three, eight, six, sent\n",
            "africa: india, europe, france, south, north, america, china, germany, canada, australia\n",
            "musician: actress, actor, singer, author, writer, politician, nine, zero, seven, canadian\n",
            "dance: music, country, addition, study, traditional, art, order, philosophy, spanish, popular\n",
            "\n",
            "\n"
          ]
        },
        {
          "output_type": "stream",
          "name": "stderr",
          "text": [
            "8007it [01:28, 68.44it/s]"
          ]
        },
        {
          "output_type": "stream",
          "name": "stdout",
          "text": [
            "| epoch   8 |  8000/32580 batches | loss    1.328 \n",
            "money: fact, way, result, play, time, even, it, possible, others, well\n",
            "lion: seven, addition, father, died, four, president, three, eight, six, sent\n",
            "africa: india, europe, france, south, north, america, china, germany, canada, australia\n",
            "musician: actress, actor, singer, author, writer, politician, nine, zero, seven, canadian\n",
            "dance: music, country, addition, study, traditional, art, order, philosophy, spanish, popular\n",
            "\n",
            "\n"
          ]
        },
        {
          "output_type": "stream",
          "name": "stderr",
          "text": [
            "8497it [01:33, 93.84it/s]"
          ]
        },
        {
          "output_type": "stream",
          "name": "stdout",
          "text": [
            "| epoch   8 |  8500/32580 batches | loss    1.327 \n",
            "money: fact, way, result, play, time, even, it, possible, others, well\n",
            "lion: seven, addition, father, died, four, president, three, eight, six, sent\n",
            "africa: india, europe, france, south, north, america, china, germany, canada, australia\n",
            "musician: actress, actor, singer, author, writer, politician, nine, zero, seven, canadian\n",
            "dance: music, country, addition, study, traditional, art, order, philosophy, spanish, popular\n",
            "\n",
            "\n"
          ]
        },
        {
          "output_type": "stream",
          "name": "stderr",
          "text": [
            "9007it [01:39, 68.46it/s]"
          ]
        },
        {
          "output_type": "stream",
          "name": "stdout",
          "text": [
            "| epoch   8 |  9000/32580 batches | loss    1.336 \n",
            "money: fact, way, result, play, time, even, it, possible, others, well\n",
            "lion: seven, addition, father, died, four, president, three, eight, six, sent\n",
            "africa: india, europe, france, south, north, america, china, germany, canada, australia\n",
            "musician: actress, actor, singer, author, writer, politician, nine, zero, seven, canadian\n",
            "dance: music, country, addition, study, traditional, art, order, philosophy, spanish, popular\n",
            "\n",
            "\n"
          ]
        },
        {
          "output_type": "stream",
          "name": "stderr",
          "text": [
            "9506it [01:44, 68.13it/s]"
          ]
        },
        {
          "output_type": "stream",
          "name": "stdout",
          "text": [
            "| epoch   8 |  9500/32580 batches | loss    1.329 \n",
            "money: fact, way, result, play, time, even, it, possible, others, well\n",
            "lion: seven, addition, father, died, four, president, three, eight, six, sent\n",
            "africa: india, europe, france, south, north, america, china, germany, canada, australia\n",
            "musician: actress, actor, singer, author, writer, politician, nine, zero, seven, canadian\n",
            "dance: music, country, addition, study, traditional, art, order, philosophy, spanish, popular\n",
            "\n",
            "\n"
          ]
        },
        {
          "output_type": "stream",
          "name": "stderr",
          "text": [
            "10006it [01:50, 69.36it/s]"
          ]
        },
        {
          "output_type": "stream",
          "name": "stdout",
          "text": [
            "| epoch   8 | 10000/32580 batches | loss    1.333 \n",
            "money: fact, way, result, play, time, even, it, possible, others, well\n",
            "lion: seven, addition, father, died, four, president, three, eight, six, sent\n",
            "africa: india, europe, france, south, north, america, china, germany, canada, australia\n",
            "musician: actress, actor, singer, author, writer, politician, nine, zero, seven, canadian\n",
            "dance: music, country, addition, study, traditional, art, order, philosophy, spanish, popular\n",
            "\n",
            "\n"
          ]
        },
        {
          "output_type": "stream",
          "name": "stderr",
          "text": [
            "10505it [01:55, 68.67it/s]"
          ]
        },
        {
          "output_type": "stream",
          "name": "stdout",
          "text": [
            "| epoch   8 | 10500/32580 batches | loss    1.328 \n",
            "money: fact, way, result, play, time, even, it, possible, others, well\n",
            "lion: seven, addition, father, died, four, president, three, eight, six, sent\n",
            "africa: india, europe, france, south, north, america, china, germany, canada, australia\n",
            "musician: actress, actor, singer, author, writer, politician, nine, zero, seven, canadian\n",
            "dance: music, country, addition, study, traditional, art, order, philosophy, spanish, popular\n",
            "\n",
            "\n"
          ]
        },
        {
          "output_type": "stream",
          "name": "stderr",
          "text": [
            "11004it [02:03, 69.22it/s]"
          ]
        },
        {
          "output_type": "stream",
          "name": "stdout",
          "text": [
            "| epoch   8 | 11000/32580 batches | loss    1.333 \n",
            "money: fact, way, result, play, time, even, it, possible, others, well\n",
            "lion: seven, addition, father, died, four, president, three, eight, six, sent\n",
            "africa: india, europe, france, south, north, america, china, germany, canada, australia\n",
            "musician: actress, actor, singer, author, writer, politician, nine, zero, seven, canadian\n",
            "dance: music, country, addition, study, traditional, art, order, philosophy, spanish, popular\n",
            "\n",
            "\n"
          ]
        },
        {
          "output_type": "stream",
          "name": "stderr",
          "text": [
            "11503it [02:08, 70.39it/s]"
          ]
        },
        {
          "output_type": "stream",
          "name": "stdout",
          "text": [
            "| epoch   8 | 11500/32580 batches | loss    1.330 \n",
            "money: fact, way, result, play, time, even, it, possible, others, well\n",
            "lion: seven, addition, father, died, four, president, three, eight, six, sent\n",
            "africa: india, europe, france, south, north, america, china, germany, canada, australia\n",
            "musician: actress, actor, singer, author, writer, politician, nine, zero, seven, canadian\n",
            "dance: music, country, addition, study, traditional, art, order, philosophy, spanish, popular\n",
            "\n",
            "\n"
          ]
        },
        {
          "output_type": "stream",
          "name": "stderr",
          "text": [
            "12002it [02:14, 71.06it/s]"
          ]
        },
        {
          "output_type": "stream",
          "name": "stdout",
          "text": [
            "| epoch   8 | 12000/32580 batches | loss    1.336 \n",
            "money: fact, way, result, play, time, even, it, possible, others, well\n",
            "lion: seven, addition, father, died, four, president, three, eight, six, sent\n",
            "africa: india, europe, france, south, north, america, china, germany, canada, australia\n",
            "musician: actress, actor, singer, author, writer, politician, nine, zero, seven, canadian\n",
            "dance: music, country, addition, study, traditional, art, order, philosophy, spanish, popular\n",
            "\n",
            "\n"
          ]
        },
        {
          "output_type": "stream",
          "name": "stderr",
          "text": [
            "12499it [02:19, 92.61it/s]"
          ]
        },
        {
          "output_type": "stream",
          "name": "stdout",
          "text": [
            "| epoch   8 | 12500/32580 batches | loss    1.333 \n",
            "money: fact, way, result, play, time, even, it, possible, others, well\n",
            "lion: seven, addition, father, died, four, president, three, eight, six, sent\n",
            "africa: india, europe, france, south, north, america, china, germany, canada, australia\n",
            "musician: actress, actor, singer, author, writer, politician, nine, zero, seven, canadian\n",
            "dance: music, country, addition, study, traditional, art, order, philosophy, spanish, popular\n",
            "\n",
            "\n"
          ]
        },
        {
          "output_type": "stream",
          "name": "stderr",
          "text": [
            "12999it [02:24, 94.74it/s]"
          ]
        },
        {
          "output_type": "stream",
          "name": "stdout",
          "text": [
            "| epoch   8 | 13000/32580 batches | loss    1.328 \n",
            "money: fact, way, result, play, time, even, it, possible, others, well\n",
            "lion: seven, addition, father, died, four, president, three, eight, six, sent\n",
            "africa: india, europe, france, south, north, america, china, germany, canada, australia\n",
            "musician: actress, actor, singer, author, writer, politician, nine, zero, seven, canadian\n",
            "dance: music, country, addition, study, traditional, art, order, philosophy, spanish, popular\n",
            "\n",
            "\n"
          ]
        },
        {
          "output_type": "stream",
          "name": "stderr",
          "text": [
            "13499it [02:30, 94.72it/s]"
          ]
        },
        {
          "output_type": "stream",
          "name": "stdout",
          "text": [
            "| epoch   8 | 13500/32580 batches | loss    1.332 \n",
            "money: fact, way, result, play, time, even, it, possible, others, well\n",
            "lion: seven, addition, father, died, four, president, three, eight, six, sent\n",
            "africa: india, europe, france, south, north, america, china, germany, canada, australia\n",
            "musician: actress, actor, singer, author, writer, politician, nine, zero, seven, canadian\n",
            "dance: music, country, addition, study, traditional, art, order, philosophy, spanish, popular\n",
            "\n",
            "\n"
          ]
        },
        {
          "output_type": "stream",
          "name": "stderr",
          "text": [
            "13999it [02:35, 92.49it/s]"
          ]
        },
        {
          "output_type": "stream",
          "name": "stdout",
          "text": [
            "| epoch   8 | 14000/32580 batches | loss    1.330 \n",
            "money: fact, way, result, play, time, even, it, possible, others, well\n",
            "lion: seven, addition, father, died, four, president, three, eight, six, sent\n",
            "africa: india, europe, france, south, north, america, china, germany, canada, australia\n",
            "musician: actress, actor, singer, author, writer, politician, nine, zero, seven, canadian\n",
            "dance: music, country, addition, study, traditional, art, order, philosophy, spanish, popular\n",
            "\n",
            "\n"
          ]
        },
        {
          "output_type": "stream",
          "name": "stderr",
          "text": [
            "14499it [02:41, 94.34it/s]"
          ]
        },
        {
          "output_type": "stream",
          "name": "stdout",
          "text": [
            "| epoch   8 | 14500/32580 batches | loss    1.329 \n",
            "money: fact, way, result, play, time, even, it, possible, others, well\n",
            "lion: seven, addition, father, died, four, president, three, eight, six, sent\n",
            "africa: india, europe, france, south, north, america, china, germany, canada, australia\n",
            "musician: actress, actor, singer, author, writer, politician, nine, zero, seven, canadian\n",
            "dance: music, country, addition, study, traditional, art, order, philosophy, spanish, popular\n",
            "\n",
            "\n"
          ]
        },
        {
          "output_type": "stream",
          "name": "stderr",
          "text": [
            "15007it [02:46, 68.52it/s]"
          ]
        },
        {
          "output_type": "stream",
          "name": "stdout",
          "text": [
            "| epoch   8 | 15000/32580 batches | loss    1.331 \n",
            "money: fact, way, result, play, time, even, it, possible, others, well\n",
            "lion: seven, addition, father, died, four, president, three, eight, six, sent\n",
            "africa: india, europe, france, south, north, america, china, germany, canada, australia\n",
            "musician: actress, actor, singer, author, writer, politician, nine, zero, seven, canadian\n",
            "dance: music, country, addition, study, traditional, art, order, philosophy, spanish, popular\n",
            "\n",
            "\n"
          ]
        },
        {
          "output_type": "stream",
          "name": "stderr",
          "text": [
            "15505it [02:52, 68.32it/s]"
          ]
        },
        {
          "output_type": "stream",
          "name": "stdout",
          "text": [
            "| epoch   8 | 15500/32580 batches | loss    1.327 \n",
            "money: fact, way, result, play, time, even, it, possible, others, well\n",
            "lion: seven, addition, father, died, four, president, three, eight, six, sent\n",
            "africa: india, europe, france, south, north, america, china, germany, canada, australia\n",
            "musician: actress, actor, singer, author, writer, politician, nine, zero, seven, canadian\n",
            "dance: music, country, addition, study, traditional, art, order, philosophy, spanish, popular\n",
            "\n",
            "\n"
          ]
        },
        {
          "output_type": "stream",
          "name": "stderr",
          "text": [
            "16001it [02:57, 69.60it/s]"
          ]
        },
        {
          "output_type": "stream",
          "name": "stdout",
          "text": [
            "| epoch   8 | 16000/32580 batches | loss    1.331 \n",
            "money: fact, way, result, play, time, even, it, possible, others, well\n",
            "lion: seven, addition, father, died, four, president, three, eight, six, sent\n",
            "africa: india, europe, france, south, north, america, china, germany, canada, australia\n",
            "musician: actress, actor, singer, author, writer, politician, nine, zero, seven, canadian\n",
            "dance: music, country, addition, study, traditional, art, order, philosophy, spanish, popular\n",
            "\n",
            "\n"
          ]
        },
        {
          "output_type": "stream",
          "name": "stderr",
          "text": [
            "16499it [03:03, 95.33it/s]"
          ]
        },
        {
          "output_type": "stream",
          "name": "stdout",
          "text": [
            "| epoch   8 | 16500/32580 batches | loss    1.332 \n",
            "money: fact, way, result, play, time, even, it, possible, others, well\n",
            "lion: seven, addition, father, died, four, president, three, eight, six, sent\n",
            "africa: india, europe, france, south, north, america, china, germany, canada, australia\n",
            "musician: actress, actor, singer, author, writer, politician, nine, zero, seven, canadian\n",
            "dance: music, country, addition, study, traditional, art, order, philosophy, spanish, popular\n",
            "\n",
            "\n"
          ]
        },
        {
          "output_type": "stream",
          "name": "stderr",
          "text": [
            "16999it [03:08, 92.44it/s]"
          ]
        },
        {
          "output_type": "stream",
          "name": "stdout",
          "text": [
            "| epoch   8 | 17000/32580 batches | loss    1.335 \n",
            "money: fact, way, result, play, time, even, it, possible, others, well\n",
            "lion: seven, addition, father, died, four, president, three, eight, six, sent\n",
            "africa: india, europe, france, south, north, america, china, germany, canada, australia\n",
            "musician: actress, actor, singer, author, writer, politician, nine, zero, seven, canadian\n",
            "dance: music, country, addition, study, traditional, art, order, philosophy, spanish, popular\n",
            "\n",
            "\n"
          ]
        },
        {
          "output_type": "stream",
          "name": "stderr",
          "text": [
            "17499it [03:13, 95.47it/s]"
          ]
        },
        {
          "output_type": "stream",
          "name": "stdout",
          "text": [
            "| epoch   8 | 17500/32580 batches | loss    1.331 \n",
            "money: fact, way, result, play, time, even, it, possible, others, well\n",
            "lion: seven, addition, father, died, four, president, three, eight, six, sent\n",
            "africa: india, europe, france, south, north, america, china, germany, canada, australia\n",
            "musician: actress, actor, singer, author, writer, politician, nine, zero, seven, canadian\n",
            "dance: music, country, addition, study, traditional, art, order, philosophy, spanish, popular\n",
            "\n",
            "\n"
          ]
        },
        {
          "output_type": "stream",
          "name": "stderr",
          "text": [
            "17999it [03:19, 93.69it/s]"
          ]
        },
        {
          "output_type": "stream",
          "name": "stdout",
          "text": [
            "| epoch   8 | 18000/32580 batches | loss    1.331 \n",
            "money: fact, way, result, play, time, even, it, possible, others, well\n",
            "lion: seven, addition, father, died, four, president, three, eight, six, sent\n",
            "africa: india, europe, france, south, north, america, china, germany, canada, australia\n",
            "musician: actress, actor, singer, author, writer, politician, nine, zero, seven, canadian\n",
            "dance: music, country, addition, study, traditional, art, order, philosophy, spanish, popular\n",
            "\n",
            "\n"
          ]
        },
        {
          "output_type": "stream",
          "name": "stderr",
          "text": [
            "18499it [03:24, 92.96it/s]"
          ]
        },
        {
          "output_type": "stream",
          "name": "stdout",
          "text": [
            "| epoch   8 | 18500/32580 batches | loss    1.334 \n",
            "money: fact, way, result, play, time, even, it, possible, others, well\n",
            "lion: seven, addition, father, died, four, president, three, eight, six, sent\n",
            "africa: india, europe, france, south, north, america, china, germany, canada, australia\n",
            "musician: actress, actor, singer, author, writer, politician, nine, zero, seven, canadian\n",
            "dance: music, country, addition, study, traditional, art, order, philosophy, spanish, popular\n",
            "\n",
            "\n"
          ]
        },
        {
          "output_type": "stream",
          "name": "stderr",
          "text": [
            "18999it [03:30, 93.23it/s]"
          ]
        },
        {
          "output_type": "stream",
          "name": "stdout",
          "text": [
            "| epoch   8 | 19000/32580 batches | loss    1.332 \n",
            "money: fact, way, result, play, time, even, it, possible, others, well\n",
            "lion: seven, addition, father, died, four, president, three, eight, six, sent\n",
            "africa: india, europe, france, south, north, america, china, germany, canada, australia\n",
            "musician: actress, actor, singer, author, writer, politician, nine, zero, seven, canadian\n",
            "dance: music, country, addition, study, traditional, art, order, philosophy, spanish, popular\n",
            "\n",
            "\n"
          ]
        },
        {
          "output_type": "stream",
          "name": "stderr",
          "text": [
            "19498it [03:35, 94.98it/s]"
          ]
        },
        {
          "output_type": "stream",
          "name": "stdout",
          "text": [
            "| epoch   8 | 19500/32580 batches | loss    1.331 \n",
            "money: fact, way, result, play, time, even, it, possible, others, well\n",
            "lion: seven, addition, father, died, four, president, three, eight, six, sent\n",
            "africa: india, europe, france, south, north, america, china, germany, canada, australia\n",
            "musician: actress, actor, singer, author, writer, politician, nine, zero, seven, canadian\n",
            "dance: music, country, addition, study, traditional, art, order, philosophy, spanish, popular\n",
            "\n",
            "\n"
          ]
        },
        {
          "output_type": "stream",
          "name": "stderr",
          "text": [
            "19998it [03:41, 93.16it/s]"
          ]
        },
        {
          "output_type": "stream",
          "name": "stdout",
          "text": [
            "| epoch   8 | 20000/32580 batches | loss    1.334 \n",
            "money: fact, way, result, play, time, even, it, possible, others, well\n",
            "lion: seven, addition, father, died, four, president, three, eight, six, sent\n",
            "africa: india, europe, france, south, north, america, china, germany, canada, australia\n",
            "musician: actress, actor, singer, author, writer, politician, nine, zero, seven, canadian\n",
            "dance: music, country, addition, study, traditional, art, order, philosophy, spanish, popular\n",
            "\n",
            "\n"
          ]
        },
        {
          "output_type": "stream",
          "name": "stderr",
          "text": [
            "20498it [03:46, 93.86it/s]"
          ]
        },
        {
          "output_type": "stream",
          "name": "stdout",
          "text": [
            "| epoch   8 | 20500/32580 batches | loss    1.332 \n",
            "money: fact, way, result, play, time, even, it, possible, others, well\n",
            "lion: seven, addition, father, died, four, president, three, eight, six, sent\n",
            "africa: india, europe, france, south, north, america, china, germany, canada, australia\n",
            "musician: actress, actor, singer, author, writer, politician, nine, zero, seven, canadian\n",
            "dance: music, country, addition, study, traditional, art, order, philosophy, spanish, popular\n",
            "\n",
            "\n"
          ]
        },
        {
          "output_type": "stream",
          "name": "stderr",
          "text": [
            "20998it [03:52, 95.85it/s]"
          ]
        },
        {
          "output_type": "stream",
          "name": "stdout",
          "text": [
            "| epoch   8 | 21000/32580 batches | loss    1.330 \n",
            "money: fact, way, result, play, time, even, it, possible, others, well\n",
            "lion: seven, addition, father, died, four, president, three, eight, six, sent\n",
            "africa: india, europe, france, south, north, america, china, germany, canada, australia\n",
            "musician: actress, actor, singer, author, writer, politician, nine, zero, seven, canadian\n",
            "dance: music, country, addition, study, traditional, art, order, philosophy, spanish, popular\n",
            "\n",
            "\n"
          ]
        },
        {
          "output_type": "stream",
          "name": "stderr",
          "text": [
            "21498it [03:57, 91.57it/s]"
          ]
        },
        {
          "output_type": "stream",
          "name": "stdout",
          "text": [
            "| epoch   8 | 21500/32580 batches | loss    1.329 \n",
            "money: fact, way, result, play, time, even, it, possible, others, well\n",
            "lion: seven, addition, father, died, four, president, three, eight, six, sent\n",
            "africa: india, europe, france, south, north, america, china, germany, canada, australia\n",
            "musician: actress, actor, singer, author, writer, politician, nine, zero, seven, canadian\n",
            "dance: music, country, addition, study, traditional, art, order, philosophy, spanish, popular\n",
            "\n",
            "\n"
          ]
        },
        {
          "output_type": "stream",
          "name": "stderr",
          "text": [
            "21998it [04:03, 95.05it/s]"
          ]
        },
        {
          "output_type": "stream",
          "name": "stdout",
          "text": [
            "| epoch   8 | 22000/32580 batches | loss    1.328 \n",
            "money: fact, way, result, play, time, even, it, possible, others, well\n",
            "lion: seven, addition, father, died, four, president, three, eight, six, sent\n",
            "africa: india, europe, france, south, north, america, china, germany, canada, australia\n",
            "musician: actress, actor, singer, author, writer, politician, nine, zero, seven, canadian\n",
            "dance: music, country, addition, study, traditional, art, order, philosophy, spanish, popular\n",
            "\n",
            "\n"
          ]
        },
        {
          "output_type": "stream",
          "name": "stderr",
          "text": [
            "22498it [04:08, 95.69it/s]"
          ]
        },
        {
          "output_type": "stream",
          "name": "stdout",
          "text": [
            "| epoch   8 | 22500/32580 batches | loss    1.332 \n",
            "money: fact, way, result, play, time, even, it, possible, others, well\n",
            "lion: seven, addition, father, died, four, president, three, eight, six, sent\n",
            "africa: india, europe, france, south, north, america, china, germany, canada, australia\n",
            "musician: actress, actor, singer, author, writer, politician, nine, zero, seven, canadian\n",
            "dance: music, country, addition, study, traditional, art, order, philosophy, spanish, popular\n",
            "\n",
            "\n"
          ]
        },
        {
          "output_type": "stream",
          "name": "stderr",
          "text": [
            "22998it [04:13, 94.86it/s]"
          ]
        },
        {
          "output_type": "stream",
          "name": "stdout",
          "text": [
            "| epoch   8 | 23000/32580 batches | loss    1.329 \n",
            "money: fact, way, result, play, time, even, it, possible, others, well\n",
            "lion: seven, addition, father, died, four, president, three, eight, six, sent\n",
            "africa: india, europe, france, south, north, america, china, germany, canada, australia\n",
            "musician: actress, actor, singer, author, writer, politician, nine, zero, seven, canadian\n",
            "dance: music, country, addition, study, traditional, art, order, philosophy, spanish, popular\n",
            "\n",
            "\n"
          ]
        },
        {
          "output_type": "stream",
          "name": "stderr",
          "text": [
            "23498it [04:19, 95.91it/s]"
          ]
        },
        {
          "output_type": "stream",
          "name": "stdout",
          "text": [
            "| epoch   8 | 23500/32580 batches | loss    1.327 \n",
            "money: fact, way, result, play, time, even, it, possible, others, well\n",
            "lion: seven, addition, father, died, four, president, three, eight, six, sent\n",
            "africa: india, europe, france, south, north, america, china, germany, canada, australia\n",
            "musician: actress, actor, singer, author, writer, politician, nine, zero, seven, canadian\n",
            "dance: music, country, addition, study, traditional, art, order, philosophy, spanish, popular\n",
            "\n",
            "\n"
          ]
        },
        {
          "output_type": "stream",
          "name": "stderr",
          "text": [
            "23998it [04:26, 94.28it/s]"
          ]
        },
        {
          "output_type": "stream",
          "name": "stdout",
          "text": [
            "| epoch   8 | 24000/32580 batches | loss    1.334 \n",
            "money: fact, way, result, play, time, even, it, possible, others, well\n",
            "lion: seven, addition, father, died, four, president, three, eight, six, sent\n",
            "africa: india, europe, france, south, north, america, china, germany, canada, australia\n",
            "musician: actress, actor, singer, author, writer, politician, nine, zero, seven, canadian\n",
            "dance: music, country, addition, study, traditional, art, order, philosophy, spanish, popular\n",
            "\n",
            "\n"
          ]
        },
        {
          "output_type": "stream",
          "name": "stderr",
          "text": [
            "24497it [04:32, 94.28it/s]"
          ]
        },
        {
          "output_type": "stream",
          "name": "stdout",
          "text": [
            "| epoch   8 | 24500/32580 batches | loss    1.330 \n",
            "money: fact, way, result, play, time, even, it, possible, others, well\n",
            "lion: seven, addition, father, died, four, president, three, eight, six, sent\n",
            "africa: india, europe, france, south, north, america, china, germany, canada, australia\n",
            "musician: actress, actor, singer, author, writer, politician, nine, zero, seven, canadian\n",
            "dance: music, country, addition, study, traditional, art, order, philosophy, spanish, popular\n",
            "\n",
            "\n"
          ]
        },
        {
          "output_type": "stream",
          "name": "stderr",
          "text": [
            "25007it [04:37, 68.11it/s]"
          ]
        },
        {
          "output_type": "stream",
          "name": "stdout",
          "text": [
            "| epoch   8 | 25000/32580 batches | loss    1.333 \n",
            "money: fact, way, result, play, time, even, it, possible, others, well\n",
            "lion: seven, addition, father, died, four, president, three, eight, six, sent\n",
            "africa: india, europe, france, south, north, america, china, germany, canada, australia\n",
            "musician: actress, actor, singer, author, writer, politician, nine, zero, seven, canadian\n",
            "dance: music, country, addition, study, traditional, art, order, philosophy, spanish, popular\n",
            "\n",
            "\n"
          ]
        },
        {
          "output_type": "stream",
          "name": "stderr",
          "text": [
            "25507it [04:43, 67.40it/s]"
          ]
        },
        {
          "output_type": "stream",
          "name": "stdout",
          "text": [
            "| epoch   8 | 25500/32580 batches | loss    1.332 \n",
            "money: fact, way, result, play, time, even, it, possible, others, well\n",
            "lion: seven, addition, father, died, four, president, three, eight, six, sent\n",
            "africa: india, europe, france, south, north, america, china, germany, canada, australia\n",
            "musician: actress, actor, singer, author, writer, politician, nine, zero, seven, canadian\n",
            "dance: music, country, addition, study, traditional, art, order, philosophy, spanish, popular\n",
            "\n",
            "\n"
          ]
        },
        {
          "output_type": "stream",
          "name": "stderr",
          "text": [
            "26006it [04:48, 68.83it/s]"
          ]
        },
        {
          "output_type": "stream",
          "name": "stdout",
          "text": [
            "| epoch   8 | 26000/32580 batches | loss    1.329 \n",
            "money: fact, way, result, play, time, even, it, possible, others, well\n",
            "lion: seven, addition, father, died, four, president, three, eight, six, sent\n",
            "africa: india, europe, france, south, north, america, china, germany, canada, australia\n",
            "musician: actress, actor, singer, author, writer, politician, nine, zero, seven, canadian\n",
            "dance: music, country, addition, study, traditional, art, order, philosophy, spanish, popular\n",
            "\n",
            "\n"
          ]
        },
        {
          "output_type": "stream",
          "name": "stderr",
          "text": [
            "26504it [04:54, 69.69it/s]"
          ]
        },
        {
          "output_type": "stream",
          "name": "stdout",
          "text": [
            "| epoch   8 | 26500/32580 batches | loss    1.330 \n",
            "money: fact, way, result, play, time, even, it, possible, others, well\n",
            "lion: seven, addition, father, died, four, president, three, eight, six, sent\n",
            "africa: india, europe, france, south, north, america, china, germany, canada, australia\n",
            "musician: actress, actor, singer, author, writer, politician, nine, zero, seven, canadian\n",
            "dance: music, country, addition, study, traditional, art, order, philosophy, spanish, popular\n",
            "\n",
            "\n"
          ]
        },
        {
          "output_type": "stream",
          "name": "stderr",
          "text": [
            "27003it [04:59, 70.10it/s]"
          ]
        },
        {
          "output_type": "stream",
          "name": "stdout",
          "text": [
            "| epoch   8 | 27000/32580 batches | loss    1.331 \n",
            "money: fact, way, result, play, time, even, it, possible, others, well\n",
            "lion: seven, addition, father, died, four, president, three, eight, six, sent\n",
            "africa: india, europe, france, south, north, america, china, germany, canada, australia\n",
            "musician: actress, actor, singer, author, writer, politician, nine, zero, seven, canadian\n",
            "dance: music, country, addition, study, traditional, art, order, philosophy, spanish, popular\n",
            "\n",
            "\n"
          ]
        },
        {
          "output_type": "stream",
          "name": "stderr",
          "text": [
            "27500it [05:04, 94.54it/s]"
          ]
        },
        {
          "output_type": "stream",
          "name": "stdout",
          "text": [
            "| epoch   8 | 27500/32580 batches | loss    1.329 \n",
            "money: fact, way, result, play, time, even, it, possible, others, well\n",
            "lion: seven, addition, father, died, four, president, three, eight, six, sent\n",
            "africa: india, europe, france, south, north, america, china, germany, canada, australia\n",
            "musician: actress, actor, singer, author, writer, politician, nine, zero, seven, canadian\n",
            "dance: music, country, addition, study, traditional, art, order, philosophy, spanish, popular\n",
            "\n",
            "\n"
          ]
        },
        {
          "output_type": "stream",
          "name": "stderr",
          "text": [
            "27999it [05:10, 93.66it/s]"
          ]
        },
        {
          "output_type": "stream",
          "name": "stdout",
          "text": [
            "| epoch   8 | 28000/32580 batches | loss    1.330 \n",
            "money: fact, way, result, play, time, even, it, possible, others, well\n",
            "lion: seven, addition, father, died, four, president, three, eight, six, sent\n",
            "africa: india, europe, france, south, north, america, china, germany, canada, australia\n",
            "musician: actress, actor, singer, author, writer, politician, nine, zero, seven, canadian\n",
            "dance: music, country, addition, study, traditional, art, order, philosophy, spanish, popular\n",
            "\n",
            "\n"
          ]
        },
        {
          "output_type": "stream",
          "name": "stderr",
          "text": [
            "28499it [05:15, 94.53it/s]"
          ]
        },
        {
          "output_type": "stream",
          "name": "stdout",
          "text": [
            "| epoch   8 | 28500/32580 batches | loss    1.330 \n",
            "money: fact, way, result, play, time, even, it, possible, others, well\n",
            "lion: seven, addition, father, died, four, president, three, eight, six, sent\n",
            "africa: india, europe, france, south, north, america, china, germany, canada, australia\n",
            "musician: actress, actor, singer, author, writer, politician, nine, zero, seven, canadian\n",
            "dance: music, country, addition, study, traditional, art, order, philosophy, spanish, popular\n",
            "\n",
            "\n"
          ]
        },
        {
          "output_type": "stream",
          "name": "stderr",
          "text": [
            "28998it [05:21, 94.40it/s]"
          ]
        },
        {
          "output_type": "stream",
          "name": "stdout",
          "text": [
            "| epoch   8 | 29000/32580 batches | loss    1.332 \n",
            "money: fact, way, result, play, time, even, it, possible, others, well\n",
            "lion: seven, addition, father, died, four, president, three, eight, six, sent\n",
            "africa: india, europe, france, south, north, america, china, germany, canada, australia\n",
            "musician: actress, actor, singer, author, writer, politician, nine, zero, seven, canadian\n",
            "dance: music, country, addition, study, traditional, art, order, philosophy, spanish, popular\n",
            "\n",
            "\n"
          ]
        },
        {
          "output_type": "stream",
          "name": "stderr",
          "text": [
            "29497it [05:26, 94.06it/s]"
          ]
        },
        {
          "output_type": "stream",
          "name": "stdout",
          "text": [
            "| epoch   8 | 29500/32580 batches | loss    1.331 \n",
            "money: fact, way, result, play, time, even, it, possible, others, well\n",
            "lion: seven, addition, father, died, four, president, three, eight, six, sent\n",
            "africa: india, europe, france, south, north, america, china, germany, canada, australia\n",
            "musician: actress, actor, singer, author, writer, politician, nine, zero, seven, canadian\n",
            "dance: music, country, addition, study, traditional, art, order, philosophy, spanish, popular\n",
            "\n",
            "\n"
          ]
        },
        {
          "output_type": "stream",
          "name": "stderr",
          "text": [
            "30007it [05:32, 68.83it/s]"
          ]
        },
        {
          "output_type": "stream",
          "name": "stdout",
          "text": [
            "| epoch   8 | 30000/32580 batches | loss    1.328 \n",
            "money: fact, way, result, play, time, even, it, possible, others, well\n",
            "lion: seven, addition, father, died, four, president, three, eight, six, sent\n",
            "africa: india, europe, france, south, north, america, china, germany, canada, australia\n",
            "musician: actress, actor, singer, author, writer, politician, nine, zero, seven, canadian\n",
            "dance: music, country, addition, study, traditional, art, order, philosophy, spanish, popular\n",
            "\n",
            "\n"
          ]
        },
        {
          "output_type": "stream",
          "name": "stderr",
          "text": [
            "30506it [05:37, 67.88it/s]"
          ]
        },
        {
          "output_type": "stream",
          "name": "stdout",
          "text": [
            "| epoch   8 | 30500/32580 batches | loss    1.326 \n",
            "money: fact, way, result, play, time, even, it, possible, others, well\n",
            "lion: seven, addition, father, died, four, president, three, eight, six, sent\n",
            "africa: india, europe, france, south, north, america, china, germany, canada, australia\n",
            "musician: actress, actor, singer, author, writer, politician, nine, zero, seven, canadian\n",
            "dance: music, country, addition, study, traditional, art, order, philosophy, spanish, popular\n",
            "\n",
            "\n"
          ]
        },
        {
          "output_type": "stream",
          "name": "stderr",
          "text": [
            "31006it [05:43, 67.68it/s]"
          ]
        },
        {
          "output_type": "stream",
          "name": "stdout",
          "text": [
            "| epoch   8 | 31000/32580 batches | loss    1.329 \n",
            "money: fact, way, result, play, time, even, it, possible, others, well\n",
            "lion: seven, addition, father, died, four, president, three, eight, six, sent\n",
            "africa: india, europe, france, south, north, america, china, germany, canada, australia\n",
            "musician: actress, actor, singer, author, writer, politician, nine, zero, seven, canadian\n",
            "dance: music, country, addition, study, traditional, art, order, philosophy, spanish, popular\n",
            "\n",
            "\n"
          ]
        },
        {
          "output_type": "stream",
          "name": "stderr",
          "text": [
            "31506it [05:48, 67.65it/s]"
          ]
        },
        {
          "output_type": "stream",
          "name": "stdout",
          "text": [
            "| epoch   8 | 31500/32580 batches | loss    1.327 \n",
            "money: fact, way, result, play, time, even, it, possible, others, well\n",
            "lion: seven, addition, father, died, four, president, three, eight, six, sent\n",
            "africa: india, europe, france, south, north, america, china, germany, canada, australia\n",
            "musician: actress, actor, singer, author, writer, politician, nine, zero, seven, canadian\n",
            "dance: music, country, addition, study, traditional, art, order, philosophy, spanish, popular\n",
            "\n",
            "\n"
          ]
        },
        {
          "output_type": "stream",
          "name": "stderr",
          "text": [
            "32006it [05:54, 68.31it/s]"
          ]
        },
        {
          "output_type": "stream",
          "name": "stdout",
          "text": [
            "| epoch   8 | 32000/32580 batches | loss    1.328 \n",
            "money: fact, way, result, play, time, even, it, possible, others, well\n",
            "lion: seven, addition, father, died, four, president, three, eight, six, sent\n",
            "africa: india, europe, france, south, north, america, china, germany, canada, australia\n",
            "musician: actress, actor, singer, author, writer, politician, nine, zero, seven, canadian\n",
            "dance: music, country, addition, study, traditional, art, order, philosophy, spanish, popular\n",
            "\n",
            "\n"
          ]
        },
        {
          "output_type": "stream",
          "name": "stderr",
          "text": [
            "32505it [05:59, 69.29it/s]"
          ]
        },
        {
          "output_type": "stream",
          "name": "stdout",
          "text": [
            "| epoch   8 | 32500/32580 batches | loss    1.331 \n",
            "money: fact, way, result, play, time, even, it, possible, others, well\n",
            "lion: seven, addition, father, died, four, president, three, eight, six, sent\n",
            "africa: india, europe, france, south, north, america, china, germany, canada, australia\n",
            "musician: actress, actor, singer, author, writer, politician, nine, zero, seven, canadian\n",
            "dance: music, country, addition, study, traditional, art, order, philosophy, spanish, popular\n",
            "\n",
            "\n"
          ]
        },
        {
          "output_type": "stream",
          "name": "stderr",
          "text": [
            "32580it [06:02, 89.97it/s]\n",
            "1it [00:01,  1.85s/it]"
          ]
        },
        {
          "output_type": "stream",
          "name": "stdout",
          "text": [
            "| epoch   9 |     0/32580 batches | loss    1.324 \n",
            "money: fact, way, result, play, time, even, it, possible, others, well\n",
            "lion: seven, addition, father, died, four, president, three, eight, six, sent\n",
            "africa: india, europe, france, south, north, america, china, germany, canada, australia\n",
            "musician: actress, actor, singer, author, writer, politician, nine, zero, seven, canadian\n",
            "dance: music, country, addition, study, traditional, art, order, philosophy, spanish, popular\n",
            "\n",
            "\n"
          ]
        },
        {
          "output_type": "stream",
          "name": "stderr",
          "text": [
            "499it [00:07, 95.59it/s]"
          ]
        },
        {
          "output_type": "stream",
          "name": "stdout",
          "text": [
            "| epoch   9 |   500/32580 batches | loss    1.331 \n",
            "money: fact, way, result, play, time, even, it, possible, others, well\n",
            "lion: seven, addition, father, died, four, president, three, eight, six, sent\n",
            "africa: india, europe, france, south, north, america, china, germany, canada, australia\n",
            "musician: actress, actor, singer, author, writer, politician, nine, zero, seven, canadian\n",
            "dance: music, country, addition, study, traditional, art, order, philosophy, spanish, popular\n",
            "\n",
            "\n"
          ]
        },
        {
          "output_type": "stream",
          "name": "stderr",
          "text": [
            "998it [00:12, 91.43it/s]"
          ]
        },
        {
          "output_type": "stream",
          "name": "stdout",
          "text": [
            "| epoch   9 |  1000/32580 batches | loss    1.331 \n",
            "money: fact, way, result, play, time, even, it, possible, others, well\n",
            "lion: seven, addition, father, died, four, president, three, eight, six, sent\n",
            "africa: india, europe, france, south, north, america, china, germany, canada, australia\n",
            "musician: actress, actor, singer, author, writer, politician, nine, zero, seven, canadian\n",
            "dance: music, country, addition, study, traditional, art, order, philosophy, spanish, popular\n",
            "\n",
            "\n"
          ]
        },
        {
          "output_type": "stream",
          "name": "stderr",
          "text": [
            "1498it [00:18, 94.32it/s]"
          ]
        },
        {
          "output_type": "stream",
          "name": "stdout",
          "text": [
            "| epoch   9 |  1500/32580 batches | loss    1.331 \n",
            "money: fact, way, result, play, time, even, it, possible, others, well\n",
            "lion: seven, addition, father, died, four, president, three, eight, six, sent\n",
            "africa: india, europe, france, south, north, america, china, germany, canada, australia\n",
            "musician: actress, actor, singer, author, writer, politician, nine, zero, seven, canadian\n",
            "dance: music, country, addition, study, traditional, art, order, philosophy, spanish, popular\n",
            "\n",
            "\n"
          ]
        },
        {
          "output_type": "stream",
          "name": "stderr",
          "text": [
            "1998it [00:23, 94.33it/s]"
          ]
        },
        {
          "output_type": "stream",
          "name": "stdout",
          "text": [
            "| epoch   9 |  2000/32580 batches | loss    1.334 \n",
            "money: fact, way, result, play, time, even, it, possible, others, well\n",
            "lion: seven, addition, father, died, four, president, three, eight, six, sent\n",
            "africa: india, europe, france, south, north, america, china, germany, canada, australia\n",
            "musician: actress, actor, singer, author, writer, politician, nine, zero, seven, canadian\n",
            "dance: music, country, addition, study, traditional, art, order, philosophy, spanish, popular\n",
            "\n",
            "\n"
          ]
        },
        {
          "output_type": "stream",
          "name": "stderr",
          "text": [
            "2497it [00:28, 94.82it/s]"
          ]
        },
        {
          "output_type": "stream",
          "name": "stdout",
          "text": [
            "| epoch   9 |  2500/32580 batches | loss    1.333 \n",
            "money: fact, way, result, play, time, even, it, possible, others, well\n",
            "lion: seven, addition, father, died, four, president, three, eight, six, sent\n",
            "africa: india, europe, france, south, north, america, china, germany, canada, australia\n",
            "musician: actress, actor, singer, author, writer, politician, nine, zero, seven, canadian\n",
            "dance: music, country, addition, study, traditional, art, order, philosophy, spanish, popular\n",
            "\n",
            "\n"
          ]
        },
        {
          "output_type": "stream",
          "name": "stderr",
          "text": [
            "2997it [00:34, 95.79it/s]"
          ]
        },
        {
          "output_type": "stream",
          "name": "stdout",
          "text": [
            "| epoch   9 |  3000/32580 batches | loss    1.333 \n",
            "money: fact, way, result, play, time, even, it, possible, others, well\n",
            "lion: seven, addition, father, died, four, president, three, eight, six, sent\n",
            "africa: india, europe, france, south, north, america, china, germany, canada, australia\n",
            "musician: actress, actor, singer, author, writer, politician, nine, zero, seven, canadian\n",
            "dance: music, country, addition, study, traditional, art, order, philosophy, spanish, popular\n",
            "\n",
            "\n"
          ]
        },
        {
          "output_type": "stream",
          "name": "stderr",
          "text": [
            "3497it [00:39, 95.10it/s]"
          ]
        },
        {
          "output_type": "stream",
          "name": "stdout",
          "text": [
            "| epoch   9 |  3500/32580 batches | loss    1.330 \n",
            "money: fact, way, result, play, time, even, it, possible, others, well\n",
            "lion: seven, addition, father, died, four, president, three, eight, six, sent\n",
            "africa: india, europe, france, south, north, america, china, germany, canada, australia\n",
            "musician: actress, actor, singer, author, writer, politician, nine, zero, seven, canadian\n",
            "dance: music, country, addition, study, traditional, art, order, philosophy, spanish, popular\n",
            "\n",
            "\n"
          ]
        },
        {
          "output_type": "stream",
          "name": "stderr",
          "text": [
            "4006it [00:45, 68.77it/s]"
          ]
        },
        {
          "output_type": "stream",
          "name": "stdout",
          "text": [
            "| epoch   9 |  4000/32580 batches | loss    1.330 \n",
            "money: fact, way, result, play, time, even, it, possible, others, well\n",
            "lion: seven, addition, father, died, four, president, three, eight, six, sent\n",
            "africa: india, europe, france, south, north, america, china, germany, canada, australia\n",
            "musician: actress, actor, singer, author, writer, politician, nine, zero, seven, canadian\n",
            "dance: music, country, addition, study, traditional, art, order, philosophy, spanish, popular\n",
            "\n",
            "\n"
          ]
        },
        {
          "output_type": "stream",
          "name": "stderr",
          "text": [
            "4505it [00:52, 67.02it/s]"
          ]
        },
        {
          "output_type": "stream",
          "name": "stdout",
          "text": [
            "| epoch   9 |  4500/32580 batches | loss    1.333 \n",
            "money: fact, way, result, play, time, even, it, possible, others, well\n",
            "lion: seven, addition, father, died, four, president, three, eight, six, sent\n",
            "africa: india, europe, france, south, north, america, china, germany, canada, australia\n",
            "musician: actress, actor, singer, author, writer, politician, nine, zero, seven, canadian\n",
            "dance: music, country, addition, study, traditional, art, order, philosophy, spanish, popular\n",
            "\n",
            "\n"
          ]
        },
        {
          "output_type": "stream",
          "name": "stderr",
          "text": [
            "5004it [00:58, 69.23it/s]"
          ]
        },
        {
          "output_type": "stream",
          "name": "stdout",
          "text": [
            "| epoch   9 |  5000/32580 batches | loss    1.332 \n",
            "money: fact, way, result, play, time, even, it, possible, others, well\n",
            "lion: seven, addition, father, died, four, president, three, eight, six, sent\n",
            "africa: india, europe, france, south, north, america, china, germany, canada, australia\n",
            "musician: actress, actor, singer, author, writer, politician, nine, zero, seven, canadian\n",
            "dance: music, country, addition, study, traditional, art, order, philosophy, spanish, popular\n",
            "\n",
            "\n"
          ]
        },
        {
          "output_type": "stream",
          "name": "stderr",
          "text": [
            "5503it [01:03, 70.62it/s]"
          ]
        },
        {
          "output_type": "stream",
          "name": "stdout",
          "text": [
            "| epoch   9 |  5500/32580 batches | loss    1.331 \n",
            "money: fact, way, result, play, time, even, it, possible, others, well\n",
            "lion: seven, addition, father, died, four, president, three, eight, six, sent\n",
            "africa: india, europe, france, south, north, america, china, germany, canada, australia\n",
            "musician: actress, actor, singer, author, writer, politician, nine, zero, seven, canadian\n",
            "dance: music, country, addition, study, traditional, art, order, philosophy, spanish, popular\n",
            "\n",
            "\n"
          ]
        },
        {
          "output_type": "stream",
          "name": "stderr",
          "text": [
            "6002it [01:09, 68.88it/s]"
          ]
        },
        {
          "output_type": "stream",
          "name": "stdout",
          "text": [
            "| epoch   9 |  6000/32580 batches | loss    1.336 \n",
            "money: fact, way, result, play, time, even, it, possible, others, well\n",
            "lion: seven, addition, father, died, four, president, three, eight, six, sent\n",
            "africa: india, europe, france, south, north, america, china, germany, canada, australia\n",
            "musician: actress, actor, singer, author, writer, politician, nine, zero, seven, canadian\n",
            "dance: music, country, addition, study, traditional, art, order, philosophy, spanish, popular\n",
            "\n",
            "\n"
          ]
        },
        {
          "output_type": "stream",
          "name": "stderr",
          "text": [
            "6499it [01:14, 94.24it/s]"
          ]
        },
        {
          "output_type": "stream",
          "name": "stdout",
          "text": [
            "| epoch   9 |  6500/32580 batches | loss    1.334 \n",
            "money: fact, way, result, play, time, even, it, possible, others, well\n",
            "lion: seven, addition, father, died, four, president, three, eight, six, sent\n",
            "africa: india, europe, france, south, north, america, china, germany, canada, australia\n",
            "musician: actress, actor, singer, author, writer, politician, nine, zero, seven, canadian\n",
            "dance: music, country, addition, study, traditional, art, order, philosophy, spanish, popular\n",
            "\n",
            "\n"
          ]
        },
        {
          "output_type": "stream",
          "name": "stderr",
          "text": [
            "6999it [01:19, 95.74it/s]"
          ]
        },
        {
          "output_type": "stream",
          "name": "stdout",
          "text": [
            "| epoch   9 |  7000/32580 batches | loss    1.329 \n",
            "money: fact, way, result, play, time, even, it, possible, others, well\n",
            "lion: seven, addition, father, died, four, president, three, eight, six, sent\n",
            "africa: india, europe, france, south, north, america, china, germany, canada, australia\n",
            "musician: actress, actor, singer, author, writer, politician, nine, zero, seven, canadian\n",
            "dance: music, country, addition, study, traditional, art, order, philosophy, spanish, popular\n",
            "\n",
            "\n"
          ]
        },
        {
          "output_type": "stream",
          "name": "stderr",
          "text": [
            "7499it [01:25, 96.07it/s]"
          ]
        },
        {
          "output_type": "stream",
          "name": "stdout",
          "text": [
            "| epoch   9 |  7500/32580 batches | loss    1.330 \n",
            "money: fact, way, result, play, time, even, it, possible, others, well\n",
            "lion: seven, addition, father, died, four, president, three, eight, six, sent\n",
            "africa: india, europe, france, south, north, america, china, germany, canada, australia\n",
            "musician: actress, actor, singer, author, writer, politician, nine, zero, seven, canadian\n",
            "dance: music, country, addition, study, traditional, art, order, philosophy, spanish, popular\n",
            "\n",
            "\n"
          ]
        },
        {
          "output_type": "stream",
          "name": "stderr",
          "text": [
            "7999it [01:30, 93.44it/s]"
          ]
        },
        {
          "output_type": "stream",
          "name": "stdout",
          "text": [
            "| epoch   9 |  8000/32580 batches | loss    1.334 \n",
            "money: fact, way, result, play, time, even, it, possible, others, well\n",
            "lion: seven, addition, father, died, four, president, three, eight, six, sent\n",
            "africa: india, europe, france, south, north, america, china, germany, canada, australia\n",
            "musician: actress, actor, singer, author, writer, politician, nine, zero, seven, canadian\n",
            "dance: music, country, addition, study, traditional, art, order, philosophy, spanish, popular\n",
            "\n",
            "\n"
          ]
        },
        {
          "output_type": "stream",
          "name": "stderr",
          "text": [
            "8499it [01:36, 95.53it/s]"
          ]
        },
        {
          "output_type": "stream",
          "name": "stdout",
          "text": [
            "| epoch   9 |  8500/32580 batches | loss    1.334 \n",
            "money: fact, way, result, play, time, even, it, possible, others, well\n",
            "lion: seven, addition, father, died, four, president, three, eight, six, sent\n",
            "africa: india, europe, france, south, north, america, china, germany, canada, australia\n",
            "musician: actress, actor, singer, author, writer, politician, nine, zero, seven, canadian\n",
            "dance: music, country, addition, study, traditional, art, order, philosophy, spanish, popular\n",
            "\n",
            "\n"
          ]
        },
        {
          "output_type": "stream",
          "name": "stderr",
          "text": [
            "8999it [01:41, 95.41it/s]"
          ]
        },
        {
          "output_type": "stream",
          "name": "stdout",
          "text": [
            "| epoch   9 |  9000/32580 batches | loss    1.331 \n",
            "money: fact, way, result, play, time, even, it, possible, others, well\n",
            "lion: seven, addition, father, died, four, president, three, eight, six, sent\n",
            "africa: india, europe, france, south, north, america, china, germany, canada, australia\n",
            "musician: actress, actor, singer, author, writer, politician, nine, zero, seven, canadian\n",
            "dance: music, country, addition, study, traditional, art, order, philosophy, spanish, popular\n",
            "\n",
            "\n"
          ]
        },
        {
          "output_type": "stream",
          "name": "stderr",
          "text": [
            "9499it [01:46, 94.58it/s]"
          ]
        },
        {
          "output_type": "stream",
          "name": "stdout",
          "text": [
            "| epoch   9 |  9500/32580 batches | loss    1.330 \n",
            "money: fact, way, result, play, time, even, it, possible, others, well\n",
            "lion: seven, addition, father, died, four, president, three, eight, six, sent\n",
            "africa: india, europe, france, south, north, america, china, germany, canada, australia\n",
            "musician: actress, actor, singer, author, writer, politician, nine, zero, seven, canadian\n",
            "dance: music, country, addition, study, traditional, art, order, philosophy, spanish, popular\n",
            "\n",
            "\n"
          ]
        },
        {
          "output_type": "stream",
          "name": "stderr",
          "text": [
            "9999it [01:52, 95.37it/s]"
          ]
        },
        {
          "output_type": "stream",
          "name": "stdout",
          "text": [
            "| epoch   9 | 10000/32580 batches | loss    1.332 \n",
            "money: fact, way, result, play, time, even, it, possible, others, well\n",
            "lion: seven, addition, father, died, four, president, three, eight, six, sent\n",
            "africa: india, europe, france, south, north, america, china, germany, canada, australia\n",
            "musician: actress, actor, singer, author, writer, politician, nine, zero, seven, canadian\n",
            "dance: music, country, addition, study, traditional, art, order, philosophy, spanish, popular\n",
            "\n",
            "\n"
          ]
        },
        {
          "output_type": "stream",
          "name": "stderr",
          "text": [
            "10499it [01:57, 94.86it/s]"
          ]
        },
        {
          "output_type": "stream",
          "name": "stdout",
          "text": [
            "| epoch   9 | 10500/32580 batches | loss    1.328 \n",
            "money: fact, way, result, play, time, even, it, possible, others, well\n",
            "lion: seven, addition, father, died, four, president, three, eight, six, sent\n",
            "africa: india, europe, france, south, north, america, china, germany, canada, australia\n",
            "musician: actress, actor, singer, author, writer, politician, nine, zero, seven, canadian\n",
            "dance: music, country, addition, study, traditional, art, order, philosophy, spanish, popular\n",
            "\n",
            "\n"
          ]
        },
        {
          "output_type": "stream",
          "name": "stderr",
          "text": [
            "11007it [02:03, 67.74it/s]"
          ]
        },
        {
          "output_type": "stream",
          "name": "stdout",
          "text": [
            "| epoch   9 | 11000/32580 batches | loss    1.326 \n",
            "money: fact, way, result, play, time, even, it, possible, others, well\n",
            "lion: seven, addition, father, died, four, president, three, eight, six, sent\n",
            "africa: india, europe, france, south, north, america, china, germany, canada, australia\n",
            "musician: actress, actor, singer, author, writer, politician, nine, zero, seven, canadian\n",
            "dance: music, country, addition, study, traditional, art, order, philosophy, spanish, popular\n",
            "\n",
            "\n"
          ]
        },
        {
          "output_type": "stream",
          "name": "stderr",
          "text": [
            "11507it [02:08, 66.60it/s]"
          ]
        },
        {
          "output_type": "stream",
          "name": "stdout",
          "text": [
            "| epoch   9 | 11500/32580 batches | loss    1.330 \n",
            "money: fact, way, result, play, time, even, it, possible, others, well\n",
            "lion: seven, addition, father, died, four, president, three, eight, six, sent\n",
            "africa: india, europe, france, south, north, america, china, germany, canada, australia\n",
            "musician: actress, actor, singer, author, writer, politician, nine, zero, seven, canadian\n",
            "dance: music, country, addition, study, traditional, art, order, philosophy, spanish, popular\n",
            "\n",
            "\n"
          ]
        },
        {
          "output_type": "stream",
          "name": "stderr",
          "text": [
            "12007it [02:14, 68.08it/s]"
          ]
        },
        {
          "output_type": "stream",
          "name": "stdout",
          "text": [
            "| epoch   9 | 12000/32580 batches | loss    1.326 \n",
            "money: fact, way, result, play, time, even, it, possible, others, well\n",
            "lion: seven, addition, father, died, four, president, three, eight, six, sent\n",
            "africa: india, europe, france, south, north, america, china, germany, canada, australia\n",
            "musician: actress, actor, singer, author, writer, politician, nine, zero, seven, canadian\n",
            "dance: music, country, addition, study, traditional, art, order, philosophy, spanish, popular\n",
            "\n",
            "\n"
          ]
        },
        {
          "output_type": "stream",
          "name": "stderr",
          "text": [
            "12506it [02:19, 68.74it/s]"
          ]
        },
        {
          "output_type": "stream",
          "name": "stdout",
          "text": [
            "| epoch   9 | 12500/32580 batches | loss    1.336 \n",
            "money: fact, way, result, play, time, even, it, possible, others, well\n",
            "lion: seven, addition, father, died, four, president, three, eight, six, sent\n",
            "africa: india, europe, france, south, north, america, china, germany, canada, australia\n",
            "musician: actress, actor, singer, author, writer, politician, nine, zero, seven, canadian\n",
            "dance: music, country, addition, study, traditional, art, order, philosophy, spanish, popular\n",
            "\n",
            "\n"
          ]
        },
        {
          "output_type": "stream",
          "name": "stderr",
          "text": [
            "13006it [02:25, 66.14it/s]"
          ]
        },
        {
          "output_type": "stream",
          "name": "stdout",
          "text": [
            "| epoch   9 | 13000/32580 batches | loss    1.330 \n",
            "money: fact, way, result, play, time, even, it, possible, others, well\n",
            "lion: seven, addition, father, died, four, president, three, eight, six, sent\n",
            "africa: india, europe, france, south, north, america, china, germany, canada, australia\n",
            "musician: actress, actor, singer, author, writer, politician, nine, zero, seven, canadian\n",
            "dance: music, country, addition, study, traditional, art, order, philosophy, spanish, popular\n",
            "\n",
            "\n"
          ]
        },
        {
          "output_type": "stream",
          "name": "stderr",
          "text": [
            "13505it [02:30, 70.06it/s]"
          ]
        },
        {
          "output_type": "stream",
          "name": "stdout",
          "text": [
            "| epoch   9 | 13500/32580 batches | loss    1.323 \n",
            "money: fact, way, result, play, time, even, it, possible, others, well\n",
            "lion: seven, addition, father, died, four, president, three, eight, six, sent\n",
            "africa: india, europe, france, south, north, america, china, germany, canada, australia\n",
            "musician: actress, actor, singer, author, writer, politician, nine, zero, seven, canadian\n",
            "dance: music, country, addition, study, traditional, art, order, philosophy, spanish, popular\n",
            "\n",
            "\n"
          ]
        },
        {
          "output_type": "stream",
          "name": "stderr",
          "text": [
            "14003it [02:35, 71.09it/s]"
          ]
        },
        {
          "output_type": "stream",
          "name": "stdout",
          "text": [
            "| epoch   9 | 14000/32580 batches | loss    1.327 \n",
            "money: fact, way, result, play, time, even, it, possible, others, well\n",
            "lion: seven, addition, father, died, four, president, three, eight, six, sent\n",
            "africa: india, europe, france, south, north, america, china, germany, canada, australia\n",
            "musician: actress, actor, singer, author, writer, politician, nine, zero, seven, canadian\n",
            "dance: music, country, addition, study, traditional, art, order, philosophy, spanish, popular\n",
            "\n",
            "\n"
          ]
        },
        {
          "output_type": "stream",
          "name": "stderr",
          "text": [
            "14502it [02:41, 71.31it/s]"
          ]
        },
        {
          "output_type": "stream",
          "name": "stdout",
          "text": [
            "| epoch   9 | 14500/32580 batches | loss    1.334 \n",
            "money: fact, way, result, play, time, even, it, possible, others, well\n",
            "lion: seven, addition, father, died, four, president, three, eight, six, sent\n",
            "africa: india, europe, france, south, north, america, china, germany, canada, australia\n",
            "musician: actress, actor, singer, author, writer, politician, nine, zero, seven, canadian\n",
            "dance: music, country, addition, study, traditional, art, order, philosophy, spanish, popular\n",
            "\n",
            "\n"
          ]
        },
        {
          "output_type": "stream",
          "name": "stderr",
          "text": [
            "15001it [02:46, 71.86it/s]"
          ]
        },
        {
          "output_type": "stream",
          "name": "stdout",
          "text": [
            "| epoch   9 | 15000/32580 batches | loss    1.330 \n",
            "money: fact, way, result, play, time, even, it, possible, others, well\n",
            "lion: seven, addition, father, died, four, president, three, eight, six, sent\n",
            "africa: india, europe, france, south, north, america, china, germany, canada, australia\n",
            "musician: actress, actor, singer, author, writer, politician, nine, zero, seven, canadian\n",
            "dance: music, country, addition, study, traditional, art, order, philosophy, spanish, popular\n",
            "\n",
            "\n"
          ]
        },
        {
          "output_type": "stream",
          "name": "stderr",
          "text": [
            "15499it [02:52, 93.00it/s]"
          ]
        },
        {
          "output_type": "stream",
          "name": "stdout",
          "text": [
            "| epoch   9 | 15500/32580 batches | loss    1.332 \n",
            "money: fact, way, result, play, time, even, it, possible, others, well\n",
            "lion: seven, addition, father, died, four, president, three, eight, six, sent\n",
            "africa: india, europe, france, south, north, america, china, germany, canada, australia\n",
            "musician: actress, actor, singer, author, writer, politician, nine, zero, seven, canadian\n",
            "dance: music, country, addition, study, traditional, art, order, philosophy, spanish, popular\n",
            "\n",
            "\n"
          ]
        },
        {
          "output_type": "stream",
          "name": "stderr",
          "text": [
            "15999it [02:57, 93.91it/s]"
          ]
        },
        {
          "output_type": "stream",
          "name": "stdout",
          "text": [
            "| epoch   9 | 16000/32580 batches | loss    1.329 \n",
            "money: fact, way, result, play, time, even, it, possible, others, well\n",
            "lion: seven, addition, father, died, four, president, three, eight, six, sent\n",
            "africa: india, europe, france, south, north, america, china, germany, canada, australia\n",
            "musician: actress, actor, singer, author, writer, politician, nine, zero, seven, canadian\n",
            "dance: music, country, addition, study, traditional, art, order, philosophy, spanish, popular\n",
            "\n",
            "\n"
          ]
        },
        {
          "output_type": "stream",
          "name": "stderr",
          "text": [
            "16499it [03:02, 94.60it/s]"
          ]
        },
        {
          "output_type": "stream",
          "name": "stdout",
          "text": [
            "| epoch   9 | 16500/32580 batches | loss    1.332 \n",
            "money: fact, way, result, play, time, even, it, possible, others, well\n",
            "lion: seven, addition, father, died, four, president, three, eight, six, sent\n",
            "africa: india, europe, france, south, north, america, china, germany, canada, australia\n",
            "musician: actress, actor, singer, author, writer, politician, nine, zero, seven, canadian\n",
            "dance: music, country, addition, study, traditional, art, order, philosophy, spanish, popular\n",
            "\n",
            "\n"
          ]
        },
        {
          "output_type": "stream",
          "name": "stderr",
          "text": [
            "16998it [03:08, 95.27it/s]"
          ]
        },
        {
          "output_type": "stream",
          "name": "stdout",
          "text": [
            "| epoch   9 | 17000/32580 batches | loss    1.329 \n",
            "money: fact, way, result, play, time, even, it, possible, others, well\n",
            "lion: seven, addition, father, died, four, president, three, eight, six, sent\n",
            "africa: india, europe, france, south, north, america, china, germany, canada, australia\n",
            "musician: actress, actor, singer, author, writer, politician, nine, zero, seven, canadian\n",
            "dance: music, country, addition, study, traditional, art, order, philosophy, spanish, popular\n",
            "\n",
            "\n"
          ]
        },
        {
          "output_type": "stream",
          "name": "stderr",
          "text": [
            "17498it [03:13, 95.08it/s]"
          ]
        },
        {
          "output_type": "stream",
          "name": "stdout",
          "text": [
            "| epoch   9 | 17500/32580 batches | loss    1.328 \n",
            "money: fact, way, result, play, time, even, it, possible, others, well\n",
            "lion: seven, addition, father, died, four, president, three, eight, six, sent\n",
            "africa: india, europe, france, south, north, america, china, germany, canada, australia\n",
            "musician: actress, actor, singer, author, writer, politician, nine, zero, seven, canadian\n",
            "dance: music, country, addition, study, traditional, art, order, philosophy, spanish, popular\n",
            "\n",
            "\n"
          ]
        },
        {
          "output_type": "stream",
          "name": "stderr",
          "text": [
            "17998it [03:19, 95.92it/s]"
          ]
        },
        {
          "output_type": "stream",
          "name": "stdout",
          "text": [
            "| epoch   9 | 18000/32580 batches | loss    1.327 \n",
            "money: fact, way, result, play, time, even, it, possible, others, well\n",
            "lion: seven, addition, father, died, four, president, three, eight, six, sent\n",
            "africa: india, europe, france, south, north, america, china, germany, canada, australia\n",
            "musician: actress, actor, singer, author, writer, politician, nine, zero, seven, canadian\n",
            "dance: music, country, addition, study, traditional, art, order, philosophy, spanish, popular\n",
            "\n",
            "\n"
          ]
        },
        {
          "output_type": "stream",
          "name": "stderr",
          "text": [
            "18498it [03:24, 94.95it/s]"
          ]
        },
        {
          "output_type": "stream",
          "name": "stdout",
          "text": [
            "| epoch   9 | 18500/32580 batches | loss    1.331 \n",
            "money: fact, way, result, play, time, even, it, possible, others, well\n",
            "lion: seven, addition, father, died, four, president, three, eight, six, sent\n",
            "africa: india, europe, france, south, north, america, china, germany, canada, australia\n",
            "musician: actress, actor, singer, author, writer, politician, nine, zero, seven, canadian\n",
            "dance: music, country, addition, study, traditional, art, order, philosophy, spanish, popular\n",
            "\n",
            "\n"
          ]
        },
        {
          "output_type": "stream",
          "name": "stderr",
          "text": [
            "18998it [03:29, 94.71it/s]"
          ]
        },
        {
          "output_type": "stream",
          "name": "stdout",
          "text": [
            "| epoch   9 | 19000/32580 batches | loss    1.329 \n",
            "money: fact, way, result, play, time, even, it, possible, others, well\n",
            "lion: seven, addition, father, died, four, president, three, eight, six, sent\n",
            "africa: india, europe, france, south, north, america, china, germany, canada, australia\n",
            "musician: actress, actor, singer, author, writer, politician, nine, zero, seven, canadian\n",
            "dance: music, country, addition, study, traditional, art, order, philosophy, spanish, popular\n",
            "\n",
            "\n"
          ]
        },
        {
          "output_type": "stream",
          "name": "stderr",
          "text": [
            "19498it [03:35, 91.98it/s]"
          ]
        },
        {
          "output_type": "stream",
          "name": "stdout",
          "text": [
            "| epoch   9 | 19500/32580 batches | loss    1.325 \n",
            "money: fact, way, result, play, time, even, it, possible, others, well\n",
            "lion: seven, addition, father, died, four, president, three, eight, six, sent\n",
            "africa: india, europe, france, south, north, america, china, germany, canada, australia\n",
            "musician: actress, actor, singer, author, writer, politician, nine, zero, seven, canadian\n",
            "dance: music, country, addition, study, traditional, art, order, philosophy, spanish, popular\n",
            "\n",
            "\n"
          ]
        },
        {
          "output_type": "stream",
          "name": "stderr",
          "text": [
            "19998it [03:40, 93.79it/s]"
          ]
        },
        {
          "output_type": "stream",
          "name": "stdout",
          "text": [
            "| epoch   9 | 20000/32580 batches | loss    1.330 \n",
            "money: fact, way, result, play, time, even, it, possible, others, well\n",
            "lion: seven, addition, father, died, four, president, three, eight, six, sent\n",
            "africa: india, europe, france, south, north, america, china, germany, canada, australia\n",
            "musician: actress, actor, singer, author, writer, politician, nine, zero, seven, canadian\n",
            "dance: music, country, addition, study, traditional, art, order, philosophy, spanish, popular\n",
            "\n",
            "\n"
          ]
        },
        {
          "output_type": "stream",
          "name": "stderr",
          "text": [
            "20498it [03:46, 95.63it/s]"
          ]
        },
        {
          "output_type": "stream",
          "name": "stdout",
          "text": [
            "| epoch   9 | 20500/32580 batches | loss    1.333 \n",
            "money: fact, way, result, play, time, even, it, possible, others, well\n",
            "lion: seven, addition, father, died, four, president, three, eight, six, sent\n",
            "africa: india, europe, france, south, north, america, china, germany, canada, australia\n",
            "musician: actress, actor, singer, author, writer, politician, nine, zero, seven, canadian\n",
            "dance: music, country, addition, study, traditional, art, order, philosophy, spanish, popular\n",
            "\n",
            "\n"
          ]
        },
        {
          "output_type": "stream",
          "name": "stderr",
          "text": [
            "20998it [03:51, 92.72it/s]"
          ]
        },
        {
          "output_type": "stream",
          "name": "stdout",
          "text": [
            "| epoch   9 | 21000/32580 batches | loss    1.331 \n",
            "money: fact, way, result, play, time, even, it, possible, others, well\n",
            "lion: seven, addition, father, died, four, president, three, eight, six, sent\n",
            "africa: india, europe, france, south, north, america, china, germany, canada, australia\n",
            "musician: actress, actor, singer, author, writer, politician, nine, zero, seven, canadian\n",
            "dance: music, country, addition, study, traditional, art, order, philosophy, spanish, popular\n",
            "\n",
            "\n"
          ]
        },
        {
          "output_type": "stream",
          "name": "stderr",
          "text": [
            "21498it [03:57, 94.91it/s]"
          ]
        },
        {
          "output_type": "stream",
          "name": "stdout",
          "text": [
            "| epoch   9 | 21500/32580 batches | loss    1.331 \n",
            "money: fact, way, result, play, time, even, it, possible, others, well\n",
            "lion: seven, addition, father, died, four, president, three, eight, six, sent\n",
            "africa: india, europe, france, south, north, america, china, germany, canada, australia\n",
            "musician: actress, actor, singer, author, writer, politician, nine, zero, seven, canadian\n",
            "dance: music, country, addition, study, traditional, art, order, philosophy, spanish, popular\n",
            "\n",
            "\n"
          ]
        },
        {
          "output_type": "stream",
          "name": "stderr",
          "text": [
            "21998it [04:02, 95.69it/s]"
          ]
        },
        {
          "output_type": "stream",
          "name": "stdout",
          "text": [
            "| epoch   9 | 22000/32580 batches | loss    1.331 \n",
            "money: fact, way, result, play, time, even, it, possible, others, well\n",
            "lion: seven, addition, father, died, four, president, three, eight, six, sent\n",
            "africa: india, europe, france, south, north, america, china, germany, canada, australia\n",
            "musician: actress, actor, singer, author, writer, politician, nine, zero, seven, canadian\n",
            "dance: music, country, addition, study, traditional, art, order, philosophy, spanish, popular\n",
            "\n",
            "\n"
          ]
        },
        {
          "output_type": "stream",
          "name": "stderr",
          "text": [
            "22498it [04:07, 94.43it/s]"
          ]
        },
        {
          "output_type": "stream",
          "name": "stdout",
          "text": [
            "| epoch   9 | 22500/32580 batches | loss    1.336 \n",
            "money: fact, way, result, play, time, even, it, possible, others, well\n",
            "lion: seven, addition, father, died, four, president, three, eight, six, sent\n",
            "africa: india, europe, france, south, north, america, china, germany, canada, australia\n",
            "musician: actress, actor, singer, author, writer, politician, nine, zero, seven, canadian\n",
            "dance: music, country, addition, study, traditional, art, order, philosophy, spanish, popular\n",
            "\n",
            "\n"
          ]
        },
        {
          "output_type": "stream",
          "name": "stderr",
          "text": [
            "22998it [04:13, 91.76it/s]"
          ]
        },
        {
          "output_type": "stream",
          "name": "stdout",
          "text": [
            "| epoch   9 | 23000/32580 batches | loss    1.335 \n",
            "money: fact, way, result, play, time, even, it, possible, others, well\n",
            "lion: seven, addition, father, died, four, president, three, eight, six, sent\n",
            "africa: india, europe, france, south, north, america, china, germany, canada, australia\n",
            "musician: actress, actor, singer, author, writer, politician, nine, zero, seven, canadian\n",
            "dance: music, country, addition, study, traditional, art, order, philosophy, spanish, popular\n",
            "\n",
            "\n"
          ]
        },
        {
          "output_type": "stream",
          "name": "stderr",
          "text": [
            "23498it [04:18, 94.91it/s]"
          ]
        },
        {
          "output_type": "stream",
          "name": "stdout",
          "text": [
            "| epoch   9 | 23500/32580 batches | loss    1.335 \n",
            "money: fact, way, result, play, time, even, it, possible, others, well\n",
            "lion: seven, addition, father, died, four, president, three, eight, six, sent\n",
            "africa: india, europe, france, south, north, america, china, germany, canada, australia\n",
            "musician: actress, actor, singer, author, writer, politician, nine, zero, seven, canadian\n",
            "dance: music, country, addition, study, traditional, art, order, philosophy, spanish, popular\n",
            "\n",
            "\n"
          ]
        },
        {
          "output_type": "stream",
          "name": "stderr",
          "text": [
            "24006it [04:24, 61.91it/s]"
          ]
        },
        {
          "output_type": "stream",
          "name": "stdout",
          "text": [
            "| epoch   9 | 24000/32580 batches | loss    1.332 \n",
            "money: fact, way, result, play, time, even, it, possible, others, well\n",
            "lion: seven, addition, father, died, four, president, three, eight, six, sent\n",
            "africa: india, europe, france, south, north, america, china, germany, canada, australia\n",
            "musician: actress, actor, singer, author, writer, politician, nine, zero, seven, canadian\n",
            "dance: music, country, addition, study, traditional, art, order, philosophy, spanish, popular\n",
            "\n",
            "\n"
          ]
        },
        {
          "output_type": "stream",
          "name": "stderr",
          "text": [
            "24505it [04:29, 68.45it/s]"
          ]
        },
        {
          "output_type": "stream",
          "name": "stdout",
          "text": [
            "| epoch   9 | 24500/32580 batches | loss    1.332 \n",
            "money: fact, way, result, play, time, even, it, possible, others, well\n",
            "lion: seven, addition, father, died, four, president, three, eight, six, sent\n",
            "africa: india, europe, france, south, north, america, china, germany, canada, australia\n",
            "musician: actress, actor, singer, author, writer, politician, nine, zero, seven, canadian\n",
            "dance: music, country, addition, study, traditional, art, order, philosophy, spanish, popular\n",
            "\n",
            "\n"
          ]
        },
        {
          "output_type": "stream",
          "name": "stderr",
          "text": [
            "25004it [04:35, 68.67it/s]"
          ]
        },
        {
          "output_type": "stream",
          "name": "stdout",
          "text": [
            "| epoch   9 | 25000/32580 batches | loss    1.331 \n",
            "money: fact, way, result, play, time, even, it, possible, others, well\n",
            "lion: seven, addition, father, died, four, president, three, eight, six, sent\n",
            "africa: india, europe, france, south, north, america, china, germany, canada, australia\n",
            "musician: actress, actor, singer, author, writer, politician, nine, zero, seven, canadian\n",
            "dance: music, country, addition, study, traditional, art, order, philosophy, spanish, popular\n",
            "\n",
            "\n"
          ]
        },
        {
          "output_type": "stream",
          "name": "stderr",
          "text": [
            "25503it [04:40, 69.63it/s]"
          ]
        },
        {
          "output_type": "stream",
          "name": "stdout",
          "text": [
            "| epoch   9 | 25500/32580 batches | loss    1.329 \n",
            "money: fact, way, result, play, time, even, it, possible, others, well\n",
            "lion: seven, addition, father, died, four, president, three, eight, six, sent\n",
            "africa: india, europe, france, south, north, america, china, germany, canada, australia\n",
            "musician: actress, actor, singer, author, writer, politician, nine, zero, seven, canadian\n",
            "dance: music, country, addition, study, traditional, art, order, philosophy, spanish, popular\n",
            "\n",
            "\n"
          ]
        },
        {
          "output_type": "stream",
          "name": "stderr",
          "text": [
            "26001it [04:46, 68.95it/s]"
          ]
        },
        {
          "output_type": "stream",
          "name": "stdout",
          "text": [
            "| epoch   9 | 26000/32580 batches | loss    1.331 \n",
            "money: fact, way, result, play, time, even, it, possible, others, well\n",
            "lion: seven, addition, father, died, four, president, three, eight, six, sent\n",
            "africa: india, europe, france, south, north, america, china, germany, canada, australia\n",
            "musician: actress, actor, singer, author, writer, politician, nine, zero, seven, canadian\n",
            "dance: music, country, addition, study, traditional, art, order, philosophy, spanish, popular\n",
            "\n",
            "\n"
          ]
        },
        {
          "output_type": "stream",
          "name": "stderr",
          "text": [
            "26498it [04:51, 95.45it/s]"
          ]
        },
        {
          "output_type": "stream",
          "name": "stdout",
          "text": [
            "| epoch   9 | 26500/32580 batches | loss    1.331 \n",
            "money: fact, way, result, play, time, even, it, possible, others, well\n",
            "lion: seven, addition, father, died, four, president, three, eight, six, sent\n",
            "africa: india, europe, france, south, north, america, china, germany, canada, australia\n",
            "musician: actress, actor, singer, author, writer, politician, nine, zero, seven, canadian\n",
            "dance: music, country, addition, study, traditional, art, order, philosophy, spanish, popular\n",
            "\n",
            "\n"
          ]
        },
        {
          "output_type": "stream",
          "name": "stderr",
          "text": [
            "26998it [04:56, 95.24it/s]"
          ]
        },
        {
          "output_type": "stream",
          "name": "stdout",
          "text": [
            "| epoch   9 | 27000/32580 batches | loss    1.332 \n",
            "money: fact, way, result, play, time, even, it, possible, others, well\n",
            "lion: seven, addition, father, died, four, president, three, eight, six, sent\n",
            "africa: india, europe, france, south, north, america, china, germany, canada, australia\n",
            "musician: actress, actor, singer, author, writer, politician, nine, zero, seven, canadian\n",
            "dance: music, country, addition, study, traditional, art, order, philosophy, spanish, popular\n",
            "\n",
            "\n"
          ]
        },
        {
          "output_type": "stream",
          "name": "stderr",
          "text": [
            "27498it [05:02, 93.09it/s]"
          ]
        },
        {
          "output_type": "stream",
          "name": "stdout",
          "text": [
            "| epoch   9 | 27500/32580 batches | loss    1.329 \n",
            "money: fact, way, result, play, time, even, it, possible, others, well\n",
            "lion: seven, addition, father, died, four, president, three, eight, six, sent\n",
            "africa: india, europe, france, south, north, america, china, germany, canada, australia\n",
            "musician: actress, actor, singer, author, writer, politician, nine, zero, seven, canadian\n",
            "dance: music, country, addition, study, traditional, art, order, philosophy, spanish, popular\n",
            "\n",
            "\n"
          ]
        },
        {
          "output_type": "stream",
          "name": "stderr",
          "text": [
            "27998it [05:07, 94.77it/s]"
          ]
        },
        {
          "output_type": "stream",
          "name": "stdout",
          "text": [
            "| epoch   9 | 28000/32580 batches | loss    1.328 \n",
            "money: fact, way, result, play, time, even, it, possible, others, well\n",
            "lion: seven, addition, father, died, four, president, three, eight, six, sent\n",
            "africa: india, europe, france, south, north, america, china, germany, canada, australia\n",
            "musician: actress, actor, singer, author, writer, politician, nine, zero, seven, canadian\n",
            "dance: music, country, addition, study, traditional, art, order, philosophy, spanish, popular\n",
            "\n",
            "\n"
          ]
        },
        {
          "output_type": "stream",
          "name": "stderr",
          "text": [
            "28505it [05:15, 68.91it/s]"
          ]
        },
        {
          "output_type": "stream",
          "name": "stdout",
          "text": [
            "| epoch   9 | 28500/32580 batches | loss    1.330 \n",
            "money: fact, way, result, play, time, even, it, possible, others, well\n",
            "lion: seven, addition, father, died, four, president, three, eight, six, sent\n",
            "africa: india, europe, france, south, north, america, china, germany, canada, australia\n",
            "musician: actress, actor, singer, author, writer, politician, nine, zero, seven, canadian\n",
            "dance: music, country, addition, study, traditional, art, order, philosophy, spanish, popular\n",
            "\n",
            "\n"
          ]
        },
        {
          "output_type": "stream",
          "name": "stderr",
          "text": [
            "29003it [05:21, 70.31it/s]"
          ]
        },
        {
          "output_type": "stream",
          "name": "stdout",
          "text": [
            "| epoch   9 | 29000/32580 batches | loss    1.332 \n",
            "money: fact, way, result, play, time, even, it, possible, others, well\n",
            "lion: seven, addition, father, died, four, president, three, eight, six, sent\n",
            "africa: india, europe, france, south, north, america, china, germany, canada, australia\n",
            "musician: actress, actor, singer, author, writer, politician, nine, zero, seven, canadian\n",
            "dance: music, country, addition, study, traditional, art, order, philosophy, spanish, popular\n",
            "\n",
            "\n"
          ]
        },
        {
          "output_type": "stream",
          "name": "stderr",
          "text": [
            "29501it [05:26, 71.96it/s]"
          ]
        },
        {
          "output_type": "stream",
          "name": "stdout",
          "text": [
            "| epoch   9 | 29500/32580 batches | loss    1.332 \n",
            "money: fact, way, result, play, time, even, it, possible, others, well\n",
            "lion: seven, addition, father, died, four, president, three, eight, six, sent\n",
            "africa: india, europe, france, south, north, america, china, germany, canada, australia\n",
            "musician: actress, actor, singer, author, writer, politician, nine, zero, seven, canadian\n",
            "dance: music, country, addition, study, traditional, art, order, philosophy, spanish, popular\n",
            "\n",
            "\n"
          ]
        },
        {
          "output_type": "stream",
          "name": "stderr",
          "text": [
            "30000it [05:31, 91.10it/s]"
          ]
        },
        {
          "output_type": "stream",
          "name": "stdout",
          "text": [
            "| epoch   9 | 30000/32580 batches | loss    1.333 \n",
            "money: fact, way, result, play, time, even, it, possible, others, well\n",
            "lion: seven, addition, father, died, four, president, three, eight, six, sent\n",
            "africa: india, europe, france, south, north, america, china, germany, canada, australia\n",
            "musician: actress, actor, singer, author, writer, politician, nine, zero, seven, canadian\n",
            "dance: music, country, addition, study, traditional, art, order, philosophy, spanish, popular\n",
            "\n",
            "\n"
          ]
        },
        {
          "output_type": "stream",
          "name": "stderr",
          "text": [
            "30499it [05:37, 94.15it/s]"
          ]
        },
        {
          "output_type": "stream",
          "name": "stdout",
          "text": [
            "| epoch   9 | 30500/32580 batches | loss    1.333 \n",
            "money: fact, way, result, play, time, even, it, possible, others, well\n",
            "lion: seven, addition, father, died, four, president, three, eight, six, sent\n",
            "africa: india, europe, france, south, north, america, china, germany, canada, australia\n",
            "musician: actress, actor, singer, author, writer, politician, nine, zero, seven, canadian\n",
            "dance: music, country, addition, study, traditional, art, order, philosophy, spanish, popular\n",
            "\n",
            "\n"
          ]
        },
        {
          "output_type": "stream",
          "name": "stderr",
          "text": [
            "30999it [05:42, 95.16it/s]"
          ]
        },
        {
          "output_type": "stream",
          "name": "stdout",
          "text": [
            "| epoch   9 | 31000/32580 batches | loss    1.326 \n",
            "money: fact, way, result, play, time, even, it, possible, others, well\n",
            "lion: seven, addition, father, died, four, president, three, eight, six, sent\n",
            "africa: india, europe, france, south, north, america, china, germany, canada, australia\n",
            "musician: actress, actor, singer, author, writer, politician, nine, zero, seven, canadian\n",
            "dance: music, country, addition, study, traditional, art, order, philosophy, spanish, popular\n",
            "\n",
            "\n"
          ]
        },
        {
          "output_type": "stream",
          "name": "stderr",
          "text": [
            "31499it [05:48, 95.09it/s]"
          ]
        },
        {
          "output_type": "stream",
          "name": "stdout",
          "text": [
            "| epoch   9 | 31500/32580 batches | loss    1.331 \n",
            "money: fact, way, result, play, time, even, it, possible, others, well\n",
            "lion: seven, addition, father, died, four, president, three, eight, six, sent\n",
            "africa: india, europe, france, south, north, america, china, germany, canada, australia\n",
            "musician: actress, actor, singer, author, writer, politician, nine, zero, seven, canadian\n",
            "dance: music, country, addition, study, traditional, art, order, philosophy, spanish, popular\n",
            "\n",
            "\n"
          ]
        },
        {
          "output_type": "stream",
          "name": "stderr",
          "text": [
            "31999it [05:53, 92.27it/s]"
          ]
        },
        {
          "output_type": "stream",
          "name": "stdout",
          "text": [
            "| epoch   9 | 32000/32580 batches | loss    1.327 \n",
            "money: fact, way, result, play, time, even, it, possible, others, well\n",
            "lion: seven, addition, father, died, four, president, three, eight, six, sent\n",
            "africa: india, europe, france, south, north, america, china, germany, canada, australia\n",
            "musician: actress, actor, singer, author, writer, politician, nine, zero, seven, canadian\n",
            "dance: music, country, addition, study, traditional, art, order, philosophy, spanish, popular\n",
            "\n",
            "\n"
          ]
        },
        {
          "output_type": "stream",
          "name": "stderr",
          "text": [
            "32499it [05:58, 94.43it/s]"
          ]
        },
        {
          "output_type": "stream",
          "name": "stdout",
          "text": [
            "| epoch   9 | 32500/32580 batches | loss    1.333 \n",
            "money: fact, way, result, play, time, even, it, possible, others, well\n",
            "lion: seven, addition, father, died, four, president, three, eight, six, sent\n",
            "africa: india, europe, france, south, north, america, china, germany, canada, australia\n",
            "musician: actress, actor, singer, author, writer, politician, nine, zero, seven, canadian\n",
            "dance: music, country, addition, study, traditional, art, order, philosophy, spanish, popular\n",
            "\n",
            "\n"
          ]
        },
        {
          "output_type": "stream",
          "name": "stderr",
          "text": [
            "32580it [06:01, 90.08it/s]\n",
            "1it [00:01,  1.71s/it]"
          ]
        },
        {
          "output_type": "stream",
          "name": "stdout",
          "text": [
            "| epoch  10 |     0/32580 batches | loss    1.343 \n",
            "money: fact, way, result, play, time, even, it, possible, others, well\n",
            "lion: seven, addition, father, died, four, president, three, eight, six, sent\n",
            "africa: india, europe, france, south, north, america, china, germany, canada, australia\n",
            "musician: actress, actor, singer, author, writer, politician, nine, zero, seven, canadian\n",
            "dance: music, country, addition, study, traditional, art, order, philosophy, spanish, popular\n",
            "\n",
            "\n"
          ]
        },
        {
          "output_type": "stream",
          "name": "stderr",
          "text": [
            "502it [00:07, 70.88it/s]"
          ]
        },
        {
          "output_type": "stream",
          "name": "stdout",
          "text": [
            "| epoch  10 |   500/32580 batches | loss    1.333 \n",
            "money: fact, way, result, play, time, even, it, possible, others, well\n",
            "lion: seven, addition, father, died, four, president, three, eight, six, sent\n",
            "africa: india, europe, france, south, north, america, china, germany, canada, australia\n",
            "musician: actress, actor, singer, author, writer, politician, nine, zero, seven, canadian\n",
            "dance: music, country, addition, study, traditional, art, order, philosophy, spanish, popular\n",
            "\n",
            "\n"
          ]
        },
        {
          "output_type": "stream",
          "name": "stderr",
          "text": [
            "1000it [00:12, 94.96it/s]"
          ]
        },
        {
          "output_type": "stream",
          "name": "stdout",
          "text": [
            "| epoch  10 |  1000/32580 batches | loss    1.333 \n",
            "money: fact, way, result, play, time, even, it, possible, others, well\n",
            "lion: seven, addition, father, died, four, president, three, eight, six, sent\n",
            "africa: india, europe, france, south, north, america, china, germany, canada, australia\n",
            "musician: actress, actor, singer, author, writer, politician, nine, zero, seven, canadian\n",
            "dance: music, country, addition, study, traditional, art, order, philosophy, spanish, popular\n",
            "\n",
            "\n"
          ]
        },
        {
          "output_type": "stream",
          "name": "stderr",
          "text": [
            "1500it [00:18, 91.51it/s]"
          ]
        },
        {
          "output_type": "stream",
          "name": "stdout",
          "text": [
            "| epoch  10 |  1500/32580 batches | loss    1.328 \n",
            "money: fact, way, result, play, time, even, it, possible, others, well\n",
            "lion: seven, addition, father, died, four, president, three, eight, six, sent\n",
            "africa: india, europe, france, south, north, america, china, germany, canada, australia\n",
            "musician: actress, actor, singer, author, writer, politician, nine, zero, seven, canadian\n",
            "dance: music, country, addition, study, traditional, art, order, philosophy, spanish, popular\n",
            "\n",
            "\n"
          ]
        },
        {
          "output_type": "stream",
          "name": "stderr",
          "text": [
            "1998it [00:23, 94.24it/s]"
          ]
        },
        {
          "output_type": "stream",
          "name": "stdout",
          "text": [
            "| epoch  10 |  2000/32580 batches | loss    1.333 \n",
            "money: fact, way, result, play, time, even, it, possible, others, well\n",
            "lion: seven, addition, father, died, four, president, three, eight, six, sent\n",
            "africa: india, europe, france, south, north, america, china, germany, canada, australia\n",
            "musician: actress, actor, singer, author, writer, politician, nine, zero, seven, canadian\n",
            "dance: music, country, addition, study, traditional, art, order, philosophy, spanish, popular\n",
            "\n",
            "\n"
          ]
        },
        {
          "output_type": "stream",
          "name": "stderr",
          "text": [
            "2498it [00:28, 91.85it/s]"
          ]
        },
        {
          "output_type": "stream",
          "name": "stdout",
          "text": [
            "| epoch  10 |  2500/32580 batches | loss    1.329 \n",
            "money: fact, way, result, play, time, even, it, possible, others, well\n",
            "lion: seven, addition, father, died, four, president, three, eight, six, sent\n",
            "africa: india, europe, france, south, north, america, china, germany, canada, australia\n",
            "musician: actress, actor, singer, author, writer, politician, nine, zero, seven, canadian\n",
            "dance: music, country, addition, study, traditional, art, order, philosophy, spanish, popular\n",
            "\n",
            "\n"
          ]
        },
        {
          "output_type": "stream",
          "name": "stderr",
          "text": [
            "2998it [00:34, 95.99it/s]"
          ]
        },
        {
          "output_type": "stream",
          "name": "stdout",
          "text": [
            "| epoch  10 |  3000/32580 batches | loss    1.336 \n",
            "money: fact, way, result, play, time, even, it, possible, others, well\n",
            "lion: seven, addition, father, died, four, president, three, eight, six, sent\n",
            "africa: india, europe, france, south, north, america, china, germany, canada, australia\n",
            "musician: actress, actor, singer, author, writer, politician, nine, zero, seven, canadian\n",
            "dance: music, country, addition, study, traditional, art, order, philosophy, spanish, popular\n",
            "\n",
            "\n"
          ]
        },
        {
          "output_type": "stream",
          "name": "stderr",
          "text": [
            "3506it [00:39, 67.24it/s]"
          ]
        },
        {
          "output_type": "stream",
          "name": "stdout",
          "text": [
            "| epoch  10 |  3500/32580 batches | loss    1.334 \n",
            "money: fact, way, result, play, time, even, it, possible, others, well\n",
            "lion: seven, addition, father, died, four, president, three, eight, six, sent\n",
            "africa: india, europe, france, south, north, america, china, germany, canada, australia\n",
            "musician: actress, actor, singer, author, writer, politician, nine, zero, seven, canadian\n",
            "dance: music, country, addition, study, traditional, art, order, philosophy, spanish, popular\n",
            "\n",
            "\n"
          ]
        },
        {
          "output_type": "stream",
          "name": "stderr",
          "text": [
            "4006it [00:45, 68.31it/s]"
          ]
        },
        {
          "output_type": "stream",
          "name": "stdout",
          "text": [
            "| epoch  10 |  4000/32580 batches | loss    1.333 \n",
            "money: fact, way, result, play, time, even, it, possible, others, well\n",
            "lion: seven, addition, father, died, four, president, three, eight, six, sent\n",
            "africa: india, europe, france, south, north, america, china, germany, canada, australia\n",
            "musician: actress, actor, singer, author, writer, politician, nine, zero, seven, canadian\n",
            "dance: music, country, addition, study, traditional, art, order, philosophy, spanish, popular\n",
            "\n",
            "\n"
          ]
        },
        {
          "output_type": "stream",
          "name": "stderr",
          "text": [
            "4506it [00:50, 69.01it/s]"
          ]
        },
        {
          "output_type": "stream",
          "name": "stdout",
          "text": [
            "| epoch  10 |  4500/32580 batches | loss    1.334 \n",
            "money: fact, way, result, play, time, even, it, possible, others, well\n",
            "lion: seven, addition, father, died, four, president, three, eight, six, sent\n",
            "africa: india, europe, france, south, north, america, china, germany, canada, australia\n",
            "musician: actress, actor, singer, author, writer, politician, nine, zero, seven, canadian\n",
            "dance: music, country, addition, study, traditional, art, order, philosophy, spanish, popular\n",
            "\n",
            "\n"
          ]
        },
        {
          "output_type": "stream",
          "name": "stderr",
          "text": [
            "5005it [00:56, 69.20it/s]"
          ]
        },
        {
          "output_type": "stream",
          "name": "stdout",
          "text": [
            "| epoch  10 |  5000/32580 batches | loss    1.335 \n",
            "money: fact, way, result, play, time, even, it, possible, others, well\n",
            "lion: seven, addition, father, died, four, president, three, eight, six, sent\n",
            "africa: india, europe, france, south, north, america, china, germany, canada, australia\n",
            "musician: actress, actor, singer, author, writer, politician, nine, zero, seven, canadian\n",
            "dance: music, country, addition, study, traditional, art, order, philosophy, spanish, popular\n",
            "\n",
            "\n"
          ]
        },
        {
          "output_type": "stream",
          "name": "stderr",
          "text": [
            "5502it [01:01, 70.66it/s]"
          ]
        },
        {
          "output_type": "stream",
          "name": "stdout",
          "text": [
            "| epoch  10 |  5500/32580 batches | loss    1.329 \n",
            "money: fact, way, result, play, time, even, it, possible, others, well\n",
            "lion: seven, addition, father, died, four, president, three, eight, six, sent\n",
            "africa: india, europe, france, south, north, america, china, germany, canada, australia\n",
            "musician: actress, actor, singer, author, writer, politician, nine, zero, seven, canadian\n",
            "dance: music, country, addition, study, traditional, art, order, philosophy, spanish, popular\n",
            "\n",
            "\n"
          ]
        },
        {
          "output_type": "stream",
          "name": "stderr",
          "text": [
            "6000it [01:07, 94.67it/s]"
          ]
        },
        {
          "output_type": "stream",
          "name": "stdout",
          "text": [
            "| epoch  10 |  6000/32580 batches | loss    1.328 \n",
            "money: fact, way, result, play, time, even, it, possible, others, well\n",
            "lion: seven, addition, father, died, four, president, three, eight, six, sent\n",
            "africa: india, europe, france, south, north, america, china, germany, canada, australia\n",
            "musician: actress, actor, singer, author, writer, politician, nine, zero, seven, canadian\n",
            "dance: music, country, addition, study, traditional, art, order, philosophy, spanish, popular\n",
            "\n",
            "\n"
          ]
        },
        {
          "output_type": "stream",
          "name": "stderr",
          "text": [
            "6498it [01:12, 95.46it/s]"
          ]
        },
        {
          "output_type": "stream",
          "name": "stdout",
          "text": [
            "| epoch  10 |  6500/32580 batches | loss    1.332 \n",
            "money: fact, way, result, play, time, even, it, possible, others, well\n",
            "lion: seven, addition, father, died, four, president, three, eight, six, sent\n",
            "africa: india, europe, france, south, north, america, china, germany, canada, australia\n",
            "musician: actress, actor, singer, author, writer, politician, nine, zero, seven, canadian\n",
            "dance: music, country, addition, study, traditional, art, order, philosophy, spanish, popular\n",
            "\n",
            "\n"
          ]
        },
        {
          "output_type": "stream",
          "name": "stderr",
          "text": [
            "6998it [01:17, 92.33it/s]"
          ]
        },
        {
          "output_type": "stream",
          "name": "stdout",
          "text": [
            "| epoch  10 |  7000/32580 batches | loss    1.323 \n",
            "money: fact, way, result, play, time, even, it, possible, others, well\n",
            "lion: seven, addition, father, died, four, president, three, eight, six, sent\n",
            "africa: india, europe, france, south, north, america, china, germany, canada, australia\n",
            "musician: actress, actor, singer, author, writer, politician, nine, zero, seven, canadian\n",
            "dance: music, country, addition, study, traditional, art, order, philosophy, spanish, popular\n",
            "\n",
            "\n"
          ]
        },
        {
          "output_type": "stream",
          "name": "stderr",
          "text": [
            "7498it [01:23, 95.53it/s]"
          ]
        },
        {
          "output_type": "stream",
          "name": "stdout",
          "text": [
            "| epoch  10 |  7500/32580 batches | loss    1.329 \n",
            "money: fact, way, result, play, time, even, it, possible, others, well\n",
            "lion: seven, addition, father, died, four, president, three, eight, six, sent\n",
            "africa: india, europe, france, south, north, america, china, germany, canada, australia\n",
            "musician: actress, actor, singer, author, writer, politician, nine, zero, seven, canadian\n",
            "dance: music, country, addition, study, traditional, art, order, philosophy, spanish, popular\n",
            "\n",
            "\n"
          ]
        },
        {
          "output_type": "stream",
          "name": "stderr",
          "text": [
            "8005it [01:29, 68.80it/s]"
          ]
        },
        {
          "output_type": "stream",
          "name": "stdout",
          "text": [
            "| epoch  10 |  8000/32580 batches | loss    1.326 \n",
            "money: fact, way, result, play, time, even, it, possible, others, well\n",
            "lion: seven, addition, father, died, four, president, three, eight, six, sent\n",
            "africa: india, europe, france, south, north, america, china, germany, canada, australia\n",
            "musician: actress, actor, singer, author, writer, politician, nine, zero, seven, canadian\n",
            "dance: music, country, addition, study, traditional, art, order, philosophy, spanish, popular\n",
            "\n",
            "\n"
          ]
        },
        {
          "output_type": "stream",
          "name": "stderr",
          "text": [
            "8504it [01:34, 69.34it/s]"
          ]
        },
        {
          "output_type": "stream",
          "name": "stdout",
          "text": [
            "| epoch  10 |  8500/32580 batches | loss    1.331 \n",
            "money: fact, way, result, play, time, even, it, possible, others, well\n",
            "lion: seven, addition, father, died, four, president, three, eight, six, sent\n",
            "africa: india, europe, france, south, north, america, china, germany, canada, australia\n",
            "musician: actress, actor, singer, author, writer, politician, nine, zero, seven, canadian\n",
            "dance: music, country, addition, study, traditional, art, order, philosophy, spanish, popular\n",
            "\n",
            "\n"
          ]
        },
        {
          "output_type": "stream",
          "name": "stderr",
          "text": [
            "9003it [01:39, 70.17it/s]"
          ]
        },
        {
          "output_type": "stream",
          "name": "stdout",
          "text": [
            "| epoch  10 |  9000/32580 batches | loss    1.331 \n",
            "money: fact, way, result, play, time, even, it, possible, others, well\n",
            "lion: seven, addition, father, died, four, president, three, eight, six, sent\n",
            "africa: india, europe, france, south, north, america, china, germany, canada, australia\n",
            "musician: actress, actor, singer, author, writer, politician, nine, zero, seven, canadian\n",
            "dance: music, country, addition, study, traditional, art, order, philosophy, spanish, popular\n",
            "\n",
            "\n"
          ]
        },
        {
          "output_type": "stream",
          "name": "stderr",
          "text": [
            "9499it [01:45, 95.28it/s]"
          ]
        },
        {
          "output_type": "stream",
          "name": "stdout",
          "text": [
            "| epoch  10 |  9500/32580 batches | loss    1.333 \n",
            "money: fact, way, result, play, time, even, it, possible, others, well\n",
            "lion: seven, addition, father, died, four, president, three, eight, six, sent\n",
            "africa: india, europe, france, south, north, america, china, germany, canada, australia\n",
            "musician: actress, actor, singer, author, writer, politician, nine, zero, seven, canadian\n",
            "dance: music, country, addition, study, traditional, art, order, philosophy, spanish, popular\n",
            "\n",
            "\n"
          ]
        },
        {
          "output_type": "stream",
          "name": "stderr",
          "text": [
            "9999it [01:50, 94.82it/s]"
          ]
        },
        {
          "output_type": "stream",
          "name": "stdout",
          "text": [
            "| epoch  10 | 10000/32580 batches | loss    1.329 \n",
            "money: fact, way, result, play, time, even, it, possible, others, well\n",
            "lion: seven, addition, father, died, four, president, three, eight, six, sent\n",
            "africa: india, europe, france, south, north, america, china, germany, canada, australia\n",
            "musician: actress, actor, singer, author, writer, politician, nine, zero, seven, canadian\n",
            "dance: music, country, addition, study, traditional, art, order, philosophy, spanish, popular\n",
            "\n",
            "\n"
          ]
        },
        {
          "output_type": "stream",
          "name": "stderr",
          "text": [
            "10499it [01:55, 94.91it/s]"
          ]
        },
        {
          "output_type": "stream",
          "name": "stdout",
          "text": [
            "| epoch  10 | 10500/32580 batches | loss    1.330 \n",
            "money: fact, way, result, play, time, even, it, possible, others, well\n",
            "lion: seven, addition, father, died, four, president, three, eight, six, sent\n",
            "africa: india, europe, france, south, north, america, china, germany, canada, australia\n",
            "musician: actress, actor, singer, author, writer, politician, nine, zero, seven, canadian\n",
            "dance: music, country, addition, study, traditional, art, order, philosophy, spanish, popular\n",
            "\n",
            "\n"
          ]
        },
        {
          "output_type": "stream",
          "name": "stderr",
          "text": [
            "10999it [02:01, 95.07it/s]"
          ]
        },
        {
          "output_type": "stream",
          "name": "stdout",
          "text": [
            "| epoch  10 | 11000/32580 batches | loss    1.331 \n",
            "money: fact, way, result, play, time, even, it, possible, others, well\n",
            "lion: seven, addition, father, died, four, president, three, eight, six, sent\n",
            "africa: india, europe, france, south, north, america, china, germany, canada, australia\n",
            "musician: actress, actor, singer, author, writer, politician, nine, zero, seven, canadian\n",
            "dance: music, country, addition, study, traditional, art, order, philosophy, spanish, popular\n",
            "\n",
            "\n"
          ]
        },
        {
          "output_type": "stream",
          "name": "stderr",
          "text": [
            "11498it [02:06, 94.11it/s]"
          ]
        },
        {
          "output_type": "stream",
          "name": "stdout",
          "text": [
            "| epoch  10 | 11500/32580 batches | loss    1.333 \n",
            "money: fact, way, result, play, time, even, it, possible, others, well\n",
            "lion: seven, addition, father, died, four, president, three, eight, six, sent\n",
            "africa: india, europe, france, south, north, america, china, germany, canada, australia\n",
            "musician: actress, actor, singer, author, writer, politician, nine, zero, seven, canadian\n",
            "dance: music, country, addition, study, traditional, art, order, philosophy, spanish, popular\n",
            "\n",
            "\n"
          ]
        },
        {
          "output_type": "stream",
          "name": "stderr",
          "text": [
            "11997it [02:12, 94.36it/s]"
          ]
        },
        {
          "output_type": "stream",
          "name": "stdout",
          "text": [
            "| epoch  10 | 12000/32580 batches | loss    1.331 \n",
            "money: fact, way, result, play, time, even, it, possible, others, well\n",
            "lion: seven, addition, father, died, four, president, three, eight, six, sent\n",
            "africa: india, europe, france, south, north, america, china, germany, canada, australia\n",
            "musician: actress, actor, singer, author, writer, politician, nine, zero, seven, canadian\n",
            "dance: music, country, addition, study, traditional, art, order, philosophy, spanish, popular\n",
            "\n",
            "\n"
          ]
        },
        {
          "output_type": "stream",
          "name": "stderr",
          "text": [
            "12497it [02:17, 94.94it/s]"
          ]
        },
        {
          "output_type": "stream",
          "name": "stdout",
          "text": [
            "| epoch  10 | 12500/32580 batches | loss    1.332 \n",
            "money: fact, way, result, play, time, even, it, possible, others, well\n",
            "lion: seven, addition, father, died, four, president, three, eight, six, sent\n",
            "africa: india, europe, france, south, north, america, china, germany, canada, australia\n",
            "musician: actress, actor, singer, author, writer, politician, nine, zero, seven, canadian\n",
            "dance: music, country, addition, study, traditional, art, order, philosophy, spanish, popular\n",
            "\n",
            "\n"
          ]
        },
        {
          "output_type": "stream",
          "name": "stderr",
          "text": [
            "13007it [02:23, 68.71it/s]"
          ]
        },
        {
          "output_type": "stream",
          "name": "stdout",
          "text": [
            "| epoch  10 | 13000/32580 batches | loss    1.328 \n",
            "money: fact, way, result, play, time, even, it, possible, others, well\n",
            "lion: seven, addition, father, died, four, president, three, eight, six, sent\n",
            "africa: india, europe, france, south, north, america, china, germany, canada, australia\n",
            "musician: actress, actor, singer, author, writer, politician, nine, zero, seven, canadian\n",
            "dance: music, country, addition, study, traditional, art, order, philosophy, spanish, popular\n",
            "\n",
            "\n"
          ]
        },
        {
          "output_type": "stream",
          "name": "stderr",
          "text": [
            "13506it [02:28, 68.60it/s]"
          ]
        },
        {
          "output_type": "stream",
          "name": "stdout",
          "text": [
            "| epoch  10 | 13500/32580 batches | loss    1.330 \n",
            "money: fact, way, result, play, time, even, it, possible, others, well\n",
            "lion: seven, addition, father, died, four, president, three, eight, six, sent\n",
            "africa: india, europe, france, south, north, america, china, germany, canada, australia\n",
            "musician: actress, actor, singer, author, writer, politician, nine, zero, seven, canadian\n",
            "dance: music, country, addition, study, traditional, art, order, philosophy, spanish, popular\n",
            "\n",
            "\n"
          ]
        },
        {
          "output_type": "stream",
          "name": "stderr",
          "text": [
            "14006it [02:34, 67.29it/s]"
          ]
        },
        {
          "output_type": "stream",
          "name": "stdout",
          "text": [
            "| epoch  10 | 14000/32580 batches | loss    1.328 \n",
            "money: fact, way, result, play, time, even, it, possible, others, well\n",
            "lion: seven, addition, father, died, four, president, three, eight, six, sent\n",
            "africa: india, europe, france, south, north, america, china, germany, canada, australia\n",
            "musician: actress, actor, singer, author, writer, politician, nine, zero, seven, canadian\n",
            "dance: music, country, addition, study, traditional, art, order, philosophy, spanish, popular\n",
            "\n",
            "\n"
          ]
        },
        {
          "output_type": "stream",
          "name": "stderr",
          "text": [
            "14506it [02:39, 68.47it/s]"
          ]
        },
        {
          "output_type": "stream",
          "name": "stdout",
          "text": [
            "| epoch  10 | 14500/32580 batches | loss    1.333 \n",
            "money: fact, way, result, play, time, even, it, possible, others, well\n",
            "lion: seven, addition, father, died, four, president, three, eight, six, sent\n",
            "africa: india, europe, france, south, north, america, china, germany, canada, australia\n",
            "musician: actress, actor, singer, author, writer, politician, nine, zero, seven, canadian\n",
            "dance: music, country, addition, study, traditional, art, order, philosophy, spanish, popular\n",
            "\n",
            "\n"
          ]
        },
        {
          "output_type": "stream",
          "name": "stderr",
          "text": [
            "15005it [02:45, 68.75it/s]"
          ]
        },
        {
          "output_type": "stream",
          "name": "stdout",
          "text": [
            "| epoch  10 | 15000/32580 batches | loss    1.330 \n",
            "money: fact, way, result, play, time, even, it, possible, others, well\n",
            "lion: seven, addition, father, died, four, president, three, eight, six, sent\n",
            "africa: india, europe, france, south, north, america, china, germany, canada, australia\n",
            "musician: actress, actor, singer, author, writer, politician, nine, zero, seven, canadian\n",
            "dance: music, country, addition, study, traditional, art, order, philosophy, spanish, popular\n",
            "\n",
            "\n"
          ]
        },
        {
          "output_type": "stream",
          "name": "stderr",
          "text": [
            "15504it [02:50, 69.04it/s]"
          ]
        },
        {
          "output_type": "stream",
          "name": "stdout",
          "text": [
            "| epoch  10 | 15500/32580 batches | loss    1.330 \n",
            "money: fact, way, result, play, time, even, it, possible, others, well\n",
            "lion: seven, addition, father, died, four, president, three, eight, six, sent\n",
            "africa: india, europe, france, south, north, america, china, germany, canada, australia\n",
            "musician: actress, actor, singer, author, writer, politician, nine, zero, seven, canadian\n",
            "dance: music, country, addition, study, traditional, art, order, philosophy, spanish, popular\n",
            "\n",
            "\n"
          ]
        },
        {
          "output_type": "stream",
          "name": "stderr",
          "text": [
            "16003it [02:55, 68.71it/s]"
          ]
        },
        {
          "output_type": "stream",
          "name": "stdout",
          "text": [
            "| epoch  10 | 16000/32580 batches | loss    1.325 \n",
            "money: fact, way, result, play, time, even, it, possible, others, well\n",
            "lion: seven, addition, father, died, four, president, three, eight, six, sent\n",
            "africa: india, europe, france, south, north, america, china, germany, canada, australia\n",
            "musician: actress, actor, singer, author, writer, politician, nine, zero, seven, canadian\n",
            "dance: music, country, addition, study, traditional, art, order, philosophy, spanish, popular\n",
            "\n",
            "\n"
          ]
        },
        {
          "output_type": "stream",
          "name": "stderr",
          "text": [
            "16502it [03:01, 70.51it/s]"
          ]
        },
        {
          "output_type": "stream",
          "name": "stdout",
          "text": [
            "| epoch  10 | 16500/32580 batches | loss    1.332 \n",
            "money: fact, way, result, play, time, even, it, possible, others, well\n",
            "lion: seven, addition, father, died, four, president, three, eight, six, sent\n",
            "africa: india, europe, france, south, north, america, china, germany, canada, australia\n",
            "musician: actress, actor, singer, author, writer, politician, nine, zero, seven, canadian\n",
            "dance: music, country, addition, study, traditional, art, order, philosophy, spanish, popular\n",
            "\n",
            "\n"
          ]
        },
        {
          "output_type": "stream",
          "name": "stderr",
          "text": [
            "17000it [03:06, 93.28it/s]"
          ]
        },
        {
          "output_type": "stream",
          "name": "stdout",
          "text": [
            "| epoch  10 | 17000/32580 batches | loss    1.330 \n",
            "money: fact, way, result, play, time, even, it, possible, others, well\n",
            "lion: seven, addition, father, died, four, president, three, eight, six, sent\n",
            "africa: india, europe, france, south, north, america, china, germany, canada, australia\n",
            "musician: actress, actor, singer, author, writer, politician, nine, zero, seven, canadian\n",
            "dance: music, country, addition, study, traditional, art, order, philosophy, spanish, popular\n",
            "\n",
            "\n"
          ]
        },
        {
          "output_type": "stream",
          "name": "stderr",
          "text": [
            "17500it [03:12, 95.52it/s]"
          ]
        },
        {
          "output_type": "stream",
          "name": "stdout",
          "text": [
            "| epoch  10 | 17500/32580 batches | loss    1.330 \n",
            "money: fact, way, result, play, time, even, it, possible, others, well\n",
            "lion: seven, addition, father, died, four, president, three, eight, six, sent\n",
            "africa: india, europe, france, south, north, america, china, germany, canada, australia\n",
            "musician: actress, actor, singer, author, writer, politician, nine, zero, seven, canadian\n",
            "dance: music, country, addition, study, traditional, art, order, philosophy, spanish, popular\n",
            "\n",
            "\n"
          ]
        },
        {
          "output_type": "stream",
          "name": "stderr",
          "text": [
            "18000it [03:17, 96.43it/s]"
          ]
        },
        {
          "output_type": "stream",
          "name": "stdout",
          "text": [
            "| epoch  10 | 18000/32580 batches | loss    1.333 \n",
            "money: fact, way, result, play, time, even, it, possible, others, well\n",
            "lion: seven, addition, father, died, four, president, three, eight, six, sent\n",
            "africa: india, europe, france, south, north, america, china, germany, canada, australia\n",
            "musician: actress, actor, singer, author, writer, politician, nine, zero, seven, canadian\n",
            "dance: music, country, addition, study, traditional, art, order, philosophy, spanish, popular\n",
            "\n",
            "\n"
          ]
        },
        {
          "output_type": "stream",
          "name": "stderr",
          "text": [
            "18500it [03:22, 95.17it/s]"
          ]
        },
        {
          "output_type": "stream",
          "name": "stdout",
          "text": [
            "| epoch  10 | 18500/32580 batches | loss    1.331 \n",
            "money: fact, way, result, play, time, even, it, possible, others, well\n",
            "lion: seven, addition, father, died, four, president, three, eight, six, sent\n",
            "africa: india, europe, france, south, north, america, china, germany, canada, australia\n",
            "musician: actress, actor, singer, author, writer, politician, nine, zero, seven, canadian\n",
            "dance: music, country, addition, study, traditional, art, order, philosophy, spanish, popular\n",
            "\n",
            "\n"
          ]
        },
        {
          "output_type": "stream",
          "name": "stderr",
          "text": [
            "19000it [03:30, 30.46it/s]"
          ]
        },
        {
          "output_type": "stream",
          "name": "stdout",
          "text": [
            "| epoch  10 | 19000/32580 batches | loss    1.333 \n",
            "money: fact, way, result, play, time, even, it, possible, others, well\n",
            "lion: seven, addition, father, died, four, president, three, eight, six, sent\n",
            "africa: india, europe, france, south, north, america, china, germany, canada, australia\n",
            "musician: actress, actor, singer, author, writer, politician, nine, zero, seven, canadian\n",
            "dance: music, country, addition, study, traditional, art, order, philosophy, spanish, popular\n",
            "\n",
            "\n"
          ]
        },
        {
          "output_type": "stream",
          "name": "stderr",
          "text": [
            "19499it [03:35, 94.94it/s]"
          ]
        },
        {
          "output_type": "stream",
          "name": "stdout",
          "text": [
            "| epoch  10 | 19500/32580 batches | loss    1.327 \n",
            "money: fact, way, result, play, time, even, it, possible, others, well\n",
            "lion: seven, addition, father, died, four, president, three, eight, six, sent\n",
            "africa: india, europe, france, south, north, america, china, germany, canada, australia\n",
            "musician: actress, actor, singer, author, writer, politician, nine, zero, seven, canadian\n",
            "dance: music, country, addition, study, traditional, art, order, philosophy, spanish, popular\n",
            "\n",
            "\n"
          ]
        },
        {
          "output_type": "stream",
          "name": "stderr",
          "text": [
            "19999it [03:41, 95.92it/s]"
          ]
        },
        {
          "output_type": "stream",
          "name": "stdout",
          "text": [
            "| epoch  10 | 20000/32580 batches | loss    1.336 \n",
            "money: fact, way, result, play, time, even, it, possible, others, well\n",
            "lion: seven, addition, father, died, four, president, three, eight, six, sent\n",
            "africa: india, europe, france, south, north, america, china, germany, canada, australia\n",
            "musician: actress, actor, singer, author, writer, politician, nine, zero, seven, canadian\n",
            "dance: music, country, addition, study, traditional, art, order, philosophy, spanish, popular\n",
            "\n",
            "\n"
          ]
        },
        {
          "output_type": "stream",
          "name": "stderr",
          "text": [
            "20498it [03:46, 94.86it/s]"
          ]
        },
        {
          "output_type": "stream",
          "name": "stdout",
          "text": [
            "| epoch  10 | 20500/32580 batches | loss    1.331 \n",
            "money: fact, way, result, play, time, even, it, possible, others, well\n",
            "lion: seven, addition, father, died, four, president, three, eight, six, sent\n",
            "africa: india, europe, france, south, north, america, china, germany, canada, australia\n",
            "musician: actress, actor, singer, author, writer, politician, nine, zero, seven, canadian\n",
            "dance: music, country, addition, study, traditional, art, order, philosophy, spanish, popular\n",
            "\n",
            "\n"
          ]
        },
        {
          "output_type": "stream",
          "name": "stderr",
          "text": [
            "20998it [03:52, 94.47it/s]"
          ]
        },
        {
          "output_type": "stream",
          "name": "stdout",
          "text": [
            "| epoch  10 | 21000/32580 batches | loss    1.331 \n",
            "money: fact, way, result, play, time, even, it, possible, others, well\n",
            "lion: seven, addition, father, died, four, president, three, eight, six, sent\n",
            "africa: india, europe, france, south, north, america, china, germany, canada, australia\n",
            "musician: actress, actor, singer, author, writer, politician, nine, zero, seven, canadian\n",
            "dance: music, country, addition, study, traditional, art, order, philosophy, spanish, popular\n",
            "\n",
            "\n"
          ]
        },
        {
          "output_type": "stream",
          "name": "stderr",
          "text": [
            "21498it [03:57, 95.79it/s]"
          ]
        },
        {
          "output_type": "stream",
          "name": "stdout",
          "text": [
            "| epoch  10 | 21500/32580 batches | loss    1.328 \n",
            "money: fact, way, result, play, time, even, it, possible, others, well\n",
            "lion: seven, addition, father, died, four, president, three, eight, six, sent\n",
            "africa: india, europe, france, south, north, america, china, germany, canada, australia\n",
            "musician: actress, actor, singer, author, writer, politician, nine, zero, seven, canadian\n",
            "dance: music, country, addition, study, traditional, art, order, philosophy, spanish, popular\n",
            "\n",
            "\n"
          ]
        },
        {
          "output_type": "stream",
          "name": "stderr",
          "text": [
            "21998it [04:02, 94.77it/s]"
          ]
        },
        {
          "output_type": "stream",
          "name": "stdout",
          "text": [
            "| epoch  10 | 22000/32580 batches | loss    1.325 \n",
            "money: fact, way, result, play, time, even, it, possible, others, well\n",
            "lion: seven, addition, father, died, four, president, three, eight, six, sent\n",
            "africa: india, europe, france, south, north, america, china, germany, canada, australia\n",
            "musician: actress, actor, singer, author, writer, politician, nine, zero, seven, canadian\n",
            "dance: music, country, addition, study, traditional, art, order, philosophy, spanish, popular\n",
            "\n",
            "\n"
          ]
        },
        {
          "output_type": "stream",
          "name": "stderr",
          "text": [
            "22498it [04:08, 93.62it/s]"
          ]
        },
        {
          "output_type": "stream",
          "name": "stdout",
          "text": [
            "| epoch  10 | 22500/32580 batches | loss    1.332 \n",
            "money: fact, way, result, play, time, even, it, possible, others, well\n",
            "lion: seven, addition, father, died, four, president, three, eight, six, sent\n",
            "africa: india, europe, france, south, north, america, china, germany, canada, australia\n",
            "musician: actress, actor, singer, author, writer, politician, nine, zero, seven, canadian\n",
            "dance: music, country, addition, study, traditional, art, order, philosophy, spanish, popular\n",
            "\n",
            "\n"
          ]
        },
        {
          "output_type": "stream",
          "name": "stderr",
          "text": [
            "23007it [04:13, 68.13it/s]"
          ]
        },
        {
          "output_type": "stream",
          "name": "stdout",
          "text": [
            "| epoch  10 | 23000/32580 batches | loss    1.328 \n",
            "money: fact, way, result, play, time, even, it, possible, others, well\n",
            "lion: seven, addition, father, died, four, president, three, eight, six, sent\n",
            "africa: india, europe, france, south, north, america, china, germany, canada, australia\n",
            "musician: actress, actor, singer, author, writer, politician, nine, zero, seven, canadian\n",
            "dance: music, country, addition, study, traditional, art, order, philosophy, spanish, popular\n",
            "\n",
            "\n"
          ]
        },
        {
          "output_type": "stream",
          "name": "stderr",
          "text": [
            "23507it [04:19, 68.38it/s]"
          ]
        },
        {
          "output_type": "stream",
          "name": "stdout",
          "text": [
            "| epoch  10 | 23500/32580 batches | loss    1.334 \n",
            "money: fact, way, result, play, time, even, it, possible, others, well\n",
            "lion: seven, addition, father, died, four, president, three, eight, six, sent\n",
            "africa: india, europe, france, south, north, america, china, germany, canada, australia\n",
            "musician: actress, actor, singer, author, writer, politician, nine, zero, seven, canadian\n",
            "dance: music, country, addition, study, traditional, art, order, philosophy, spanish, popular\n",
            "\n",
            "\n"
          ]
        },
        {
          "output_type": "stream",
          "name": "stderr",
          "text": [
            "24007it [04:24, 67.72it/s]"
          ]
        },
        {
          "output_type": "stream",
          "name": "stdout",
          "text": [
            "| epoch  10 | 24000/32580 batches | loss    1.331 \n",
            "money: fact, way, result, play, time, even, it, possible, others, well\n",
            "lion: seven, addition, father, died, four, president, three, eight, six, sent\n",
            "africa: india, europe, france, south, north, america, china, germany, canada, australia\n",
            "musician: actress, actor, singer, author, writer, politician, nine, zero, seven, canadian\n",
            "dance: music, country, addition, study, traditional, art, order, philosophy, spanish, popular\n",
            "\n",
            "\n"
          ]
        },
        {
          "output_type": "stream",
          "name": "stderr",
          "text": [
            "24497it [04:30, 94.50it/s]"
          ]
        },
        {
          "output_type": "stream",
          "name": "stdout",
          "text": [
            "| epoch  10 | 24500/32580 batches | loss    1.331 \n",
            "money: fact, way, result, play, time, even, it, possible, others, well\n",
            "lion: seven, addition, father, died, four, president, three, eight, six, sent\n",
            "africa: india, europe, france, south, north, america, china, germany, canada, australia\n",
            "musician: actress, actor, singer, author, writer, politician, nine, zero, seven, canadian\n",
            "dance: music, country, addition, study, traditional, art, order, philosophy, spanish, popular\n",
            "\n",
            "\n"
          ]
        },
        {
          "output_type": "stream",
          "name": "stderr",
          "text": [
            "25006it [04:35, 68.37it/s]"
          ]
        },
        {
          "output_type": "stream",
          "name": "stdout",
          "text": [
            "| epoch  10 | 25000/32580 batches | loss    1.330 \n",
            "money: fact, way, result, play, time, even, it, possible, others, well\n",
            "lion: seven, addition, father, died, four, president, three, eight, six, sent\n",
            "africa: india, europe, france, south, north, america, china, germany, canada, australia\n",
            "musician: actress, actor, singer, author, writer, politician, nine, zero, seven, canadian\n",
            "dance: music, country, addition, study, traditional, art, order, philosophy, spanish, popular\n",
            "\n",
            "\n"
          ]
        },
        {
          "output_type": "stream",
          "name": "stderr",
          "text": [
            "25505it [04:41, 68.15it/s]"
          ]
        },
        {
          "output_type": "stream",
          "name": "stdout",
          "text": [
            "| epoch  10 | 25500/32580 batches | loss    1.329 \n",
            "money: fact, way, result, play, time, even, it, possible, others, well\n",
            "lion: seven, addition, father, died, four, president, three, eight, six, sent\n",
            "africa: india, europe, france, south, north, america, china, germany, canada, australia\n",
            "musician: actress, actor, singer, author, writer, politician, nine, zero, seven, canadian\n",
            "dance: music, country, addition, study, traditional, art, order, philosophy, spanish, popular\n",
            "\n",
            "\n"
          ]
        },
        {
          "output_type": "stream",
          "name": "stderr",
          "text": [
            "26004it [04:46, 70.29it/s]"
          ]
        },
        {
          "output_type": "stream",
          "name": "stdout",
          "text": [
            "| epoch  10 | 26000/32580 batches | loss    1.334 \n",
            "money: fact, way, result, play, time, even, it, possible, others, well\n",
            "lion: seven, addition, father, died, four, president, three, eight, six, sent\n",
            "africa: india, europe, france, south, north, america, china, germany, canada, australia\n",
            "musician: actress, actor, singer, author, writer, politician, nine, zero, seven, canadian\n",
            "dance: music, country, addition, study, traditional, art, order, philosophy, spanish, popular\n",
            "\n",
            "\n"
          ]
        },
        {
          "output_type": "stream",
          "name": "stderr",
          "text": [
            "26503it [04:52, 70.12it/s]"
          ]
        },
        {
          "output_type": "stream",
          "name": "stdout",
          "text": [
            "| epoch  10 | 26500/32580 batches | loss    1.334 \n",
            "money: fact, way, result, play, time, even, it, possible, others, well\n",
            "lion: seven, addition, father, died, four, president, three, eight, six, sent\n",
            "africa: india, europe, france, south, north, america, china, germany, canada, australia\n",
            "musician: actress, actor, singer, author, writer, politician, nine, zero, seven, canadian\n",
            "dance: music, country, addition, study, traditional, art, order, philosophy, spanish, popular\n",
            "\n",
            "\n"
          ]
        },
        {
          "output_type": "stream",
          "name": "stderr",
          "text": [
            "27001it [04:57, 71.42it/s]"
          ]
        },
        {
          "output_type": "stream",
          "name": "stdout",
          "text": [
            "| epoch  10 | 27000/32580 batches | loss    1.331 \n",
            "money: fact, way, result, play, time, even, it, possible, others, well\n",
            "lion: seven, addition, father, died, four, president, three, eight, six, sent\n",
            "africa: india, europe, france, south, north, america, china, germany, canada, australia\n",
            "musician: actress, actor, singer, author, writer, politician, nine, zero, seven, canadian\n",
            "dance: music, country, addition, study, traditional, art, order, philosophy, spanish, popular\n",
            "\n",
            "\n"
          ]
        },
        {
          "output_type": "stream",
          "name": "stderr",
          "text": [
            "27499it [05:02, 95.10it/s]"
          ]
        },
        {
          "output_type": "stream",
          "name": "stdout",
          "text": [
            "| epoch  10 | 27500/32580 batches | loss    1.335 \n",
            "money: fact, way, result, play, time, even, it, possible, others, well\n",
            "lion: seven, addition, father, died, four, president, three, eight, six, sent\n",
            "africa: india, europe, france, south, north, america, china, germany, canada, australia\n",
            "musician: actress, actor, singer, author, writer, politician, nine, zero, seven, canadian\n",
            "dance: music, country, addition, study, traditional, art, order, philosophy, spanish, popular\n",
            "\n",
            "\n"
          ]
        },
        {
          "output_type": "stream",
          "name": "stderr",
          "text": [
            "27999it [05:08, 93.23it/s]"
          ]
        },
        {
          "output_type": "stream",
          "name": "stdout",
          "text": [
            "| epoch  10 | 28000/32580 batches | loss    1.331 \n",
            "money: fact, way, result, play, time, even, it, possible, others, well\n",
            "lion: seven, addition, father, died, four, president, three, eight, six, sent\n",
            "africa: india, europe, france, south, north, america, china, germany, canada, australia\n",
            "musician: actress, actor, singer, author, writer, politician, nine, zero, seven, canadian\n",
            "dance: music, country, addition, study, traditional, art, order, philosophy, spanish, popular\n",
            "\n",
            "\n"
          ]
        },
        {
          "output_type": "stream",
          "name": "stderr",
          "text": [
            "28507it [05:13, 67.23it/s]"
          ]
        },
        {
          "output_type": "stream",
          "name": "stdout",
          "text": [
            "| epoch  10 | 28500/32580 batches | loss    1.329 \n",
            "money: fact, way, result, play, time, even, it, possible, others, well\n",
            "lion: seven, addition, father, died, four, president, three, eight, six, sent\n",
            "africa: india, europe, france, south, north, america, china, germany, canada, australia\n",
            "musician: actress, actor, singer, author, writer, politician, nine, zero, seven, canadian\n",
            "dance: music, country, addition, study, traditional, art, order, philosophy, spanish, popular\n",
            "\n",
            "\n"
          ]
        },
        {
          "output_type": "stream",
          "name": "stderr",
          "text": [
            "29007it [05:19, 68.34it/s]"
          ]
        },
        {
          "output_type": "stream",
          "name": "stdout",
          "text": [
            "| epoch  10 | 29000/32580 batches | loss    1.331 \n",
            "money: fact, way, result, play, time, even, it, possible, others, well\n",
            "lion: seven, addition, father, died, four, president, three, eight, six, sent\n",
            "africa: india, europe, france, south, north, america, china, germany, canada, australia\n",
            "musician: actress, actor, singer, author, writer, politician, nine, zero, seven, canadian\n",
            "dance: music, country, addition, study, traditional, art, order, philosophy, spanish, popular\n",
            "\n",
            "\n"
          ]
        },
        {
          "output_type": "stream",
          "name": "stderr",
          "text": [
            "29507it [05:24, 67.89it/s]"
          ]
        },
        {
          "output_type": "stream",
          "name": "stdout",
          "text": [
            "| epoch  10 | 29500/32580 batches | loss    1.331 \n",
            "money: fact, way, result, play, time, even, it, possible, others, well\n",
            "lion: seven, addition, father, died, four, president, three, eight, six, sent\n",
            "africa: india, europe, france, south, north, america, china, germany, canada, australia\n",
            "musician: actress, actor, singer, author, writer, politician, nine, zero, seven, canadian\n",
            "dance: music, country, addition, study, traditional, art, order, philosophy, spanish, popular\n",
            "\n",
            "\n"
          ]
        },
        {
          "output_type": "stream",
          "name": "stderr",
          "text": [
            "30007it [05:30, 67.52it/s]"
          ]
        },
        {
          "output_type": "stream",
          "name": "stdout",
          "text": [
            "| epoch  10 | 30000/32580 batches | loss    1.333 \n",
            "money: fact, way, result, play, time, even, it, possible, others, well\n",
            "lion: seven, addition, father, died, four, president, three, eight, six, sent\n",
            "africa: india, europe, france, south, north, america, china, germany, canada, australia\n",
            "musician: actress, actor, singer, author, writer, politician, nine, zero, seven, canadian\n",
            "dance: music, country, addition, study, traditional, art, order, philosophy, spanish, popular\n",
            "\n",
            "\n"
          ]
        },
        {
          "output_type": "stream",
          "name": "stderr",
          "text": [
            "30507it [05:35, 68.71it/s]"
          ]
        },
        {
          "output_type": "stream",
          "name": "stdout",
          "text": [
            "| epoch  10 | 30500/32580 batches | loss    1.334 \n",
            "money: fact, way, result, play, time, even, it, possible, others, well\n",
            "lion: seven, addition, father, died, four, president, three, eight, six, sent\n",
            "africa: india, europe, france, south, north, america, china, germany, canada, australia\n",
            "musician: actress, actor, singer, author, writer, politician, nine, zero, seven, canadian\n",
            "dance: music, country, addition, study, traditional, art, order, philosophy, spanish, popular\n",
            "\n",
            "\n"
          ]
        },
        {
          "output_type": "stream",
          "name": "stderr",
          "text": [
            "31006it [05:40, 68.73it/s]"
          ]
        },
        {
          "output_type": "stream",
          "name": "stdout",
          "text": [
            "| epoch  10 | 31000/32580 batches | loss    1.332 \n",
            "money: fact, way, result, play, time, even, it, possible, others, well\n",
            "lion: seven, addition, father, died, four, president, three, eight, six, sent\n",
            "africa: india, europe, france, south, north, america, china, germany, canada, australia\n",
            "musician: actress, actor, singer, author, writer, politician, nine, zero, seven, canadian\n",
            "dance: music, country, addition, study, traditional, art, order, philosophy, spanish, popular\n",
            "\n",
            "\n"
          ]
        },
        {
          "output_type": "stream",
          "name": "stderr",
          "text": [
            "31505it [05:48, 69.04it/s]"
          ]
        },
        {
          "output_type": "stream",
          "name": "stdout",
          "text": [
            "| epoch  10 | 31500/32580 batches | loss    1.332 \n",
            "money: fact, way, result, play, time, even, it, possible, others, well\n",
            "lion: seven, addition, father, died, four, president, three, eight, six, sent\n",
            "africa: india, europe, france, south, north, america, china, germany, canada, australia\n",
            "musician: actress, actor, singer, author, writer, politician, nine, zero, seven, canadian\n",
            "dance: music, country, addition, study, traditional, art, order, philosophy, spanish, popular\n",
            "\n",
            "\n"
          ]
        },
        {
          "output_type": "stream",
          "name": "stderr",
          "text": [
            "32004it [05:53, 68.52it/s]"
          ]
        },
        {
          "output_type": "stream",
          "name": "stdout",
          "text": [
            "| epoch  10 | 32000/32580 batches | loss    1.330 \n",
            "money: fact, way, result, play, time, even, it, possible, others, well\n",
            "lion: seven, addition, father, died, four, president, three, eight, six, sent\n",
            "africa: india, europe, france, south, north, america, china, germany, canada, australia\n",
            "musician: actress, actor, singer, author, writer, politician, nine, zero, seven, canadian\n",
            "dance: music, country, addition, study, traditional, art, order, philosophy, spanish, popular\n",
            "\n",
            "\n"
          ]
        },
        {
          "output_type": "stream",
          "name": "stderr",
          "text": [
            "32503it [05:59, 70.25it/s]"
          ]
        },
        {
          "output_type": "stream",
          "name": "stdout",
          "text": [
            "| epoch  10 | 32500/32580 batches | loss    1.329 \n",
            "money: fact, way, result, play, time, even, it, possible, others, well\n",
            "lion: seven, addition, father, died, four, president, three, eight, six, sent\n",
            "africa: india, europe, france, south, north, america, china, germany, canada, australia\n",
            "musician: actress, actor, singer, author, writer, politician, nine, zero, seven, canadian\n",
            "dance: music, country, addition, study, traditional, art, order, philosophy, spanish, popular\n",
            "\n",
            "\n"
          ]
        },
        {
          "output_type": "stream",
          "name": "stderr",
          "text": [
            "32580it [06:01, 90.01it/s]\n"
          ]
        }
      ],
      "source": [
        "for epoch in range(1, NUM_EPOCHS + 1):\n",
        "    epoch_start_time = time.time()\n",
        "    \n",
        "    train(train_dl, model, optimizer, epoch)\n",
        "    # We have a learning rate scheduler here.\n",
        "    # Basically, given the state of the optimizer, this lowers the learning rate in a smart way.\n",
        "    scheduler.step()"
      ]
    },
    {
      "cell_type": "code",
      "execution_count": 62,
      "id": "b0227888",
      "metadata": {
        "id": "b0227888"
      },
      "outputs": [],
      "source": []
    },
    {
      "cell_type": "markdown",
      "id": "7187dcf9",
      "metadata": {
        "id": "7187dcf9"
      },
      "source": [
        "### Some diagnostics."
      ]
    },
    {
      "cell_type": "markdown",
      "id": "ae40d972",
      "metadata": {
        "id": "ae40d972"
      },
      "source": [
        "Sometimes you want to add diagnostics to your NN.\n",
        "- For each iteration, get the $L_2$ norm of the gradients* learning_rate and divide this by the parameters. This should be about -3 on the log scale, i.e. the ratio should be about 0.001. If the ratios are smaller, the learning rate might be too small, otherwise too large. Below we do this for the Skip-Gram model above.\n"
      ]
    },
    {
      "cell_type": "code",
      "execution_count": 63,
      "id": "f5d9d9e3",
      "metadata": {
        "id": "f5d9d9e3",
        "colab": {
          "base_uri": "https://localhost:8080/",
          "height": 282
        },
        "outputId": "76b3ef55-ffa1-46bd-c102-951b1ccbe986"
      },
      "outputs": [
        {
          "output_type": "execute_result",
          "data": {
            "text/plain": [
              "<matplotlib.legend.Legend at 0x7f8af531f700>"
            ]
          },
          "metadata": {},
          "execution_count": 63
        },
        {
          "output_type": "display_data",
          "data": {
            "text/plain": [
              "<Figure size 1440x288 with 1 Axes>"
            ],
            "image/png": "[encoded data removed]"
          },
          "metadata": {}
        }
      ],
      "source": [
        "import matplotlib.pyplot as plt\n",
        "plt.figure(figsize=(20, 4))\n",
        "legends = []\n",
        "for i, (name, p) in enumerate(model.named_parameters()):\n",
        "    plt.plot([ratios[j][i] for j in range(len(ratios))])\n",
        "    legends.append('param {}'.format(name))\n",
        "plt.plot([0, len(ratios)], [-3, -3], 'r')\n",
        "plt.legend(legends)"
      ]
    },
    {
      "cell_type": "markdown",
      "id": "c013aadc",
      "metadata": {
        "id": "c013aadc"
      },
      "source": [
        "How do you make sure the learing rate is good? Look at the above plots and suppose we have $log(LR * ratio) = -5$. Then $LR * ratio = 10^{-5}$. Assuming the ratio does not vary much, this probably means we need to increase the learing rate $LR$. Similarly for a reverse direction."
      ]
    },
    {
      "cell_type": "code",
      "execution_count": 63,
      "id": "c08e311d",
      "metadata": {
        "id": "c08e311d"
      },
      "outputs": [],
      "source": []
    }
  ],
  "metadata": {
    "kernelspec": {
      "display_name": "torch-gpu",
      "language": "python",
      "name": "python3"
    },
    "language_info": {
      "codemirror_mode": {
        "name": "ipython",
        "version": 3
      },
      "file_extension": ".py",
      "mimetype": "text/x-python",
      "name": "python",
      "nbconvert_exporter": "python",
      "pygments_lexer": "ipython3",
      "version": "3.9.15"
    },
    "vscode": {
      "interpreter": {
        "hash": "e1cb4ba5f411cfa4a68a7ea6c2f9ba3655e2604bd37447d058a856eda531fd15"
      }
    },
    "colab": {
      "provenance": []
    },
    "accelerator": "GPU",
    "gpuClass": "premium"
  },
  "nbformat": 4,
  "nbformat_minor": 5
}