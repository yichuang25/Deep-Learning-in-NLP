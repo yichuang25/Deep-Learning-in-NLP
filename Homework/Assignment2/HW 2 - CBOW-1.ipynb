{
 "cells": [
  {
   "cell_type": "code",
   "execution_count": 1,
   "id": "080d50fc",
   "metadata": {},
   "outputs": [],
   "source": [
    "import time\n",
    "import torch\n",
    "from torch.utils.data import DataLoader, TensorDataset\n",
    "from torchtext.data.utils import get_tokenizer\n",
    "from torchtext.datasets import DATASETS\n",
    "from torchtext.vocab import build_vocab_from_iterator\n",
    "import torch.nn as nn\n",
    "from tqdm import tqdm\n",
    "import pickle\n",
    "import random\n",
    "import numpy as np\n",
    "from collections import Counter, defaultdict\n",
    "import numpy as np\n",
    "import matplotlib.pyplot as plt\n",
    "from sklearn.decomposition import PCA\n",
    "from gensim.test.utils import datapath, get_tmpfile\n",
    "from gensim.models import KeyedVectors\n",
    "import gensim.downloader\n",
    "from torch import FloatTensor as FT\n",
    "\n",
    "# Get the interactive Tools for Matplotlib\n",
    "%matplotlib notebook\n",
    "%matplotlib inline\n",
    "\n",
    "plt.style.use('ggplot')"
   ]
  },
  {
   "cell_type": "markdown",
   "id": "66eb271d",
   "metadata": {},
   "source": [
    "### Instructions\n",
    "For this part, fill in the required code and make the notebook work. This wll be very similar to the Skip-Gram model, but a little more difficult. Look for the \"\"\" FILL IN \"\"\" string to guide you."
   ]
  },
  {
   "cell_type": "code",
   "execution_count": 2,
   "id": "31b412ca",
   "metadata": {},
   "outputs": [],
   "source": [
    "# Where do I want to run my job. You can do \"cuda\" on linux machines.\n",
    "DEVICE = \"mps\" if torch.backends.mps.is_available() else  \"cpu\"\n",
    "# The batch size in Adam or SGD.\n",
    "BATCH_SIZE = 512\n",
    "# Number of epochs.\n",
    "NUM_EPOCHS = 10\n",
    "# Predict from 2 words the inner word for CBOW.\n",
    "# I.e. I'll have a window like [\"a\", \"b\", \"c\"] of continuous text (each is a word).\n",
    "# We'll predict each of wc = [\"a\", \"c\"] from \"b\" = wc for Skip-Gram.\n",
    "# For CBOW, we'll use [\"a\", \"c\"] to predict \"b\" = wo.\n",
    "WINDOW = 1\n",
    "\n",
    "# Negative samples.\n",
    "K = 4"
   ]
  },
  {
   "cell_type": "code",
   "execution_count": null,
   "id": "e3311ae5",
   "metadata": {},
   "outputs": [],
   "source": []
  },
  {
   "cell_type": "markdown",
   "id": "3ec9f90a",
   "metadata": {},
   "source": [
    "The text8 Wikipedia corpus. 100M characters."
   ]
  },
  {
   "cell_type": "code",
   "execution_count": 3,
   "id": "c32bf008",
   "metadata": {},
   "outputs": [
    {
     "name": "stdout",
     "output_type": "stream",
     "text": [
      " 95M\ttext8\n"
     ]
    }
   ],
   "source": [
    "!du -h text8"
   ]
  },
  {
   "cell_type": "code",
   "execution_count": 4,
   "id": "3217b67b",
   "metadata": {},
   "outputs": [
    {
     "name": "stdout",
     "output_type": "stream",
     "text": [
      "100000000\n"
     ]
    }
   ],
   "source": [
    "f = open('text8', 'r')\n",
    "text = f.read()\n",
    "# One big string of size 100M.\n",
    "print(len(text))"
   ]
  },
  {
   "cell_type": "code",
   "execution_count": 5,
   "id": "6c1bf892",
   "metadata": {},
   "outputs": [],
   "source": [
    "punc = '!\"#$%&()*+,-./:;<=>?@[\\\\]^_\\'{|}~\\t\\n'\n",
    "\n",
    "# Can do regular expressions here too.\n",
    "for c in punc:\n",
    "    if c in text:\n",
    "        text.replace(c, ' ')"
   ]
  },
  {
   "cell_type": "code",
   "execution_count": null,
   "id": "451bf3ab",
   "metadata": {},
   "outputs": [],
   "source": []
  },
  {
   "cell_type": "code",
   "execution_count": 6,
   "id": "0bc19b0c",
   "metadata": {},
   "outputs": [],
   "source": [
    "# A very crude tokenizer you get for free: lower case and also split on spaces.\n",
    "TOKENIZER = get_tokenizer(\"basic_english\")"
   ]
  },
  {
   "cell_type": "code",
   "execution_count": 7,
   "id": "ff8fd598",
   "metadata": {},
   "outputs": [],
   "source": [
    "words = TOKENIZER(text)\n",
    "f = Counter(words)"
   ]
  },
  {
   "cell_type": "code",
   "execution_count": 8,
   "id": "ba7f72f8",
   "metadata": {},
   "outputs": [
    {
     "data": {
      "text/plain": [
       "17005207"
      ]
     },
     "execution_count": 8,
     "metadata": {},
     "output_type": "execute_result"
    }
   ],
   "source": [
    "len(words)"
   ]
  },
  {
   "cell_type": "code",
   "execution_count": 9,
   "id": "16b736a4",
   "metadata": {},
   "outputs": [],
   "source": [
    "# Do a very crude filter on the text which removes all very popular words.\n",
    "text = [word for word in words if f[word] > 5]"
   ]
  },
  {
   "cell_type": "code",
   "execution_count": 10,
   "id": "6916a763",
   "metadata": {},
   "outputs": [
    {
     "data": {
      "text/plain": [
       "['anarchism', 'originated', 'as', 'a', 'term']"
      ]
     },
     "execution_count": 10,
     "metadata": {},
     "output_type": "execute_result"
    }
   ],
   "source": [
    "text[0:5]"
   ]
  },
  {
   "cell_type": "code",
   "execution_count": 11,
   "id": "10ad817a",
   "metadata": {},
   "outputs": [],
   "source": [
    "VOCAB = build_vocab_from_iterator([text])"
   ]
  },
  {
   "cell_type": "code",
   "execution_count": 12,
   "id": "a7f69fc9",
   "metadata": {},
   "outputs": [],
   "source": [
    "# word -> int hash map.\n",
    "stoi = VOCAB.get_stoi()\n",
    "# int -> word hash map.\n",
    "itos = VOCAB.get_itos() "
   ]
  },
  {
   "cell_type": "code",
   "execution_count": 13,
   "id": "9991f9ab",
   "metadata": {},
   "outputs": [
    {
     "data": {
      "text/plain": [
       "11"
      ]
     },
     "execution_count": 13,
     "metadata": {},
     "output_type": "execute_result"
    }
   ],
   "source": [
    "stoi['as']"
   ]
  },
  {
   "cell_type": "code",
   "execution_count": 14,
   "id": "0f49f5fa",
   "metadata": {},
   "outputs": [
    {
     "data": {
      "text/plain": [
       "63641"
      ]
     },
     "execution_count": 14,
     "metadata": {},
     "output_type": "execute_result"
    }
   ],
   "source": [
    "# Total number of words.\n",
    "len(stoi)"
   ]
  },
  {
   "cell_type": "code",
   "execution_count": 15,
   "id": "6c5c415a",
   "metadata": {},
   "outputs": [],
   "source": [
    "f = Counter(text)\n",
    "# This is the probability that we pick a word in the corpus.\n",
    "z = {word: f[word] / len(text) for word in f}"
   ]
  },
  {
   "cell_type": "code",
   "execution_count": 16,
   "id": "1e543e1e",
   "metadata": {},
   "outputs": [],
   "source": [
    "threshold = 1e-5\n",
    "# Probability that word is kept while subsampling.\n",
    "# This is explained here and sightly differet from the paper: http://mccormickml.com/2017/01/11/word2vec-tutorial-part-2-negative-sampling/\n",
    "p_keep = {word: (np.sqrt(z[word] / 0.001) + 1)*(0.0001 / z[word]) for word in f}"
   ]
  },
  {
   "cell_type": "code",
   "execution_count": 17,
   "id": "dd22119d",
   "metadata": {},
   "outputs": [],
   "source": [
    "# This is in the integer space.\n",
    "train_dataset = [word for word in text if random.random() < p_keep[word]]\n",
    "\n",
    "# Rebuild the vocabulary.\n",
    "VOCAB = build_vocab_from_iterator([train_dataset])"
   ]
  },
  {
   "cell_type": "code",
   "execution_count": 18,
   "id": "a2d695da",
   "metadata": {},
   "outputs": [
    {
     "data": {
      "text/plain": [
       "7846873"
      ]
     },
     "execution_count": 18,
     "metadata": {},
     "output_type": "execute_result"
    }
   ],
   "source": [
    "len(train_dataset)"
   ]
  },
  {
   "cell_type": "code",
   "execution_count": 19,
   "id": "30d67549",
   "metadata": {},
   "outputs": [],
   "source": [
    "# word -> int mapping.\n",
    "stoi = VOCAB.get_stoi()\n",
    "# int -> word mapping.\n",
    "itos = VOCAB.get_itos() "
   ]
  },
  {
   "cell_type": "code",
   "execution_count": 20,
   "id": "b46337b8",
   "metadata": {},
   "outputs": [
    {
     "data": {
      "text/plain": [
       "63641"
      ]
     },
     "execution_count": 20,
     "metadata": {},
     "output_type": "execute_result"
    }
   ],
   "source": [
    "# The vocabulary size after we do all the filters.\n",
    "len(VOCAB)"
   ]
  },
  {
   "cell_type": "code",
   "execution_count": 21,
   "id": "c9346f36",
   "metadata": {},
   "outputs": [],
   "source": [
    "# The probability we draw something for negative sampling.\n",
    "f = Counter(train_dataset)\n",
    "p = torch.zeros(len(VOCAB))\n",
    "\n",
    "# Downsample frequent words and upsample less frequent.\n",
    "s = sum([np.power(freq, 0.75) for word, freq in f.items()])        \n",
    "\n",
    "for word in f:\n",
    "    p[stoi[word]] = np.power(f[word], 0.75) / s"
   ]
  },
  {
   "cell_type": "code",
   "execution_count": 22,
   "id": "dd713c15",
   "metadata": {},
   "outputs": [],
   "source": [
    "# Map everything to integers.\n",
    "train_dataset = [stoi[word] for word in text]"
   ]
  },
  {
   "cell_type": "code",
   "execution_count": 23,
   "id": "8e96c0c4",
   "metadata": {},
   "outputs": [],
   "source": [
    "# This just gets the (wc, wo) pairs that are positive - they are seen together!\n",
    "def get_tokenized_dataset(dataset, verbose=False):\n",
    "    x_list = []\n",
    "        \n",
    "    for i, token in enumerate(dataset):\n",
    "        m = 1\n",
    "        \n",
    "        # Get the left and right tokens.\n",
    "        start = max(0, i-m)\n",
    "        left_tokens = dataset[start:i]\n",
    "        \n",
    "        end = min(len(dataset)-1, i+m)\n",
    "        right_tokens = dataset[i+1:end+1]\n",
    "        \n",
    "        # Check these are the same length, and if so use them to add a row of data. This should be a list like.\n",
    "        # [a, c, b] where b is the center word.\n",
    "        if len(left_tokens) == len(right_tokens):\n",
    "            w_context = left_tokens + right_tokens\n",
    "            \n",
    "            wc = token\n",
    "                        \n",
    "            x_list.extend(\n",
    "                [w_context + [wc]]\n",
    "            )\n",
    "            \n",
    "    return x_list"
   ]
  },
  {
   "cell_type": "code",
   "execution_count": 24,
   "id": "3eb82aad",
   "metadata": {},
   "outputs": [],
   "source": [
    "train_x_list = get_tokenized_dataset(train_dataset, verbose=False)"
   ]
  },
  {
   "cell_type": "code",
   "execution_count": 25,
   "id": "8412ee4d",
   "metadata": {},
   "outputs": [],
   "source": [
    "pickle.dump(train_x_list, open('train_x_list.pkl', 'wb'))"
   ]
  },
  {
   "cell_type": "code",
   "execution_count": 26,
   "id": "3fd54caf",
   "metadata": {},
   "outputs": [],
   "source": [
    "train_x_list = pickle.load(open('train_x_list.pkl', 'rb'))"
   ]
  },
  {
   "cell_type": "code",
   "execution_count": 27,
   "id": "576765f3",
   "metadata": {},
   "outputs": [
    {
     "data": {
      "text/plain": [
       "[[5233, 11, 3083],\n",
       " [3083, 5, 11],\n",
       " [11, 193, 5],\n",
       " [5, 1, 193],\n",
       " [193, 3133, 1],\n",
       " [1, 44, 3133],\n",
       " [3133, 59, 44],\n",
       " [44, 152, 59],\n",
       " [59, 117, 152],\n",
       " [152, 740, 117]]"
      ]
     },
     "execution_count": 27,
     "metadata": {},
     "output_type": "execute_result"
    }
   ],
   "source": [
    "# These are (wc, wo) pairs. All are y = +1 by design.\n",
    "train_x_list[:10]"
   ]
  },
  {
   "cell_type": "code",
   "execution_count": 28,
   "id": "9ed4ffd7",
   "metadata": {},
   "outputs": [
    {
     "data": {
      "text/plain": [
       "32579"
      ]
     },
     "execution_count": 28,
     "metadata": {},
     "output_type": "execute_result"
    }
   ],
   "source": [
    "len(train_x_list)// BATCH_SIZE"
   ]
  },
  {
   "cell_type": "code",
   "execution_count": 29,
   "id": "316df1dc",
   "metadata": {},
   "outputs": [],
   "source": [
    "# The number of things of BATCH_SIZE = 512.\n",
    "assert(len(train_x_list) // BATCH_SIZE == 32579)"
   ]
  },
  {
   "cell_type": "code",
   "execution_count": null,
   "id": "8012d03d",
   "metadata": {},
   "outputs": [],
   "source": []
  },
  {
   "cell_type": "markdown",
   "id": "488c3519",
   "metadata": {},
   "source": [
    "### Set up the dataloader."
   ]
  },
  {
   "cell_type": "code",
   "execution_count": 30,
   "id": "2e31ae4b",
   "metadata": {},
   "outputs": [],
   "source": [
    "train_dl = DataLoader(\n",
    "    TensorDataset(\n",
    "        torch.tensor(train_x_list).to(DEVICE),\n",
    "    ),\n",
    "    batch_size=BATCH_SIZE,\n",
    "    shuffle=True\n",
    ")"
   ]
  },
  {
   "cell_type": "code",
   "execution_count": 31,
   "id": "e9c42f50",
   "metadata": {},
   "outputs": [],
   "source": [
    "for xb in train_dl:\n",
    "    assert(xb[0].shape == (BATCH_SIZE, 3))\n",
    "    break"
   ]
  },
  {
   "cell_type": "code",
   "execution_count": null,
   "id": "8c949153",
   "metadata": {},
   "outputs": [],
   "source": []
  },
  {
   "cell_type": "markdown",
   "id": "12d93d22",
   "metadata": {},
   "source": [
    "### Words we'll use to asses the quality of the model ..."
   ]
  },
  {
   "cell_type": "code",
   "execution_count": 32,
   "id": "ffada8d0",
   "metadata": {},
   "outputs": [],
   "source": [
    "valid_ids = torch.tensor([\n",
    "    stoi['money'],\n",
    "    stoi['lion'],\n",
    "    stoi['africa'],\n",
    "    stoi['musician'],\n",
    "    stoi['dance'],\n",
    "])"
   ]
  },
  {
   "cell_type": "code",
   "execution_count": null,
   "id": "867d3a88",
   "metadata": {},
   "outputs": [],
   "source": []
  },
  {
   "cell_type": "markdown",
   "id": "64096cd8",
   "metadata": {},
   "source": [
    "### Get the model."
   ]
  },
  {
   "cell_type": "code",
   "execution_count": 33,
   "id": "dc51c359",
   "metadata": {},
   "outputs": [],
   "source": [
    "class CBOWNegativeSampling(nn.Module):\n",
    "    def __init__(self, vocab_size, embed_dim):\n",
    "        super(CBOWNegativeSampling, self).__init__()\n",
    "        self.A = nn.Embedding(vocab_size, embed_dim) # Context vectors - center word.\n",
    "        self.B = nn.Embedding(vocab_size, embed_dim) # Output vectors - words around the center word.\n",
    "        self.init_weights()\n",
    "\n",
    "    def init_weights(self):\n",
    "        # Is this the best way? Not sure.\n",
    "        initrange = 0.5\n",
    "        self.A.weight.data.uniform_(-initrange, initrange)\n",
    "        self.B.weight.data.uniform_(-initrange, initrange)\n",
    "\n",
    "    def forward(self, x):\n",
    "        # N is the batch size.\n",
    "        # x is (N, 3)\n",
    "        \n",
    "        # Context words are 2m things, m = 1 so w_context is (N, 2) while wc is (N, 1)\n",
    "        w_context, wc = x[:,0:2], x[:,2]\n",
    "                \n",
    "        # Each of these is (N, 2, D) since each context has 2 word.\n",
    "        # We want this to be (N, D) and this is what we get.\n",
    "        \n",
    "        # (N, 2, D)\n",
    "        a = self.A(w_context)\n",
    "        \n",
    "        # (N, D)\n",
    "        a_avg = torch.mean(a, dim=1)\n",
    "        \n",
    "        # Each of these is (N, D) since each target has 1 word.\n",
    "        b = self.B(wc)\n",
    "                \n",
    "        # The product between each context and target vector. Look at the Skip-Gram code.\n",
    "        # The logits is now (N, 1) since we sum across the final dimension.\n",
    "        logits = torch.sum(a_avg * b, dim=1)\n",
    "                \n",
    "        return logits"
   ]
  },
  {
   "cell_type": "code",
   "execution_count": null,
   "id": "7ae817c1",
   "metadata": {},
   "outputs": [],
   "source": []
  },
  {
   "cell_type": "code",
   "execution_count": 34,
   "id": "ed9c509d",
   "metadata": {},
   "outputs": [],
   "source": [
    "@torch.no_grad()\n",
    "def validate_embeddings(\n",
    "    model,\n",
    "    valid_ids,\n",
    "    itos\n",
    "):\n",
    "    \"\"\" Validation logic \"\"\"\n",
    "\n",
    "    # We will use context embeddings to get the most similar words\n",
    "    # Other strategies include: using target embeddings, mean embeddings after avaraging context/target\n",
    "    embedding_weights = model.A.weight\n",
    "        \n",
    "    normalized_embeddings = embedding_weights.cpu() / np.sqrt(\n",
    "        np.sum(embedding_weights.cpu().numpy()**2, axis=1, keepdims=True)\n",
    "    )\n",
    "\n",
    "    # Get the embeddings corresponding to valid_term_ids\n",
    "    valid_embeddings = normalized_embeddings[valid_ids, :]\n",
    "\n",
    "    # Compute the similarity between valid_term_ids (S) and all the embeddings (V).\n",
    "    # We do S x d (d x V) => S x D and sort by negative similarity.\n",
    "    top_k = 10 # Top k items will be displayed.\n",
    "    similarity = np.dot(valid_embeddings.cpu().numpy(), normalized_embeddings.cpu().numpy().T)\n",
    "\n",
    "    # Invert similarity matrix to negative\n",
    "    # Ignore the first one because that would be the same word as the probe word\n",
    "    similarity_top_k = np.argsort(-similarity, axis=1)[:, 1: top_k+1]\n",
    "\n",
    "    # Print the output.\n",
    "    for i, word_id in enumerate(valid_ids):\n",
    "        # j >= 1 here since we don't want to include the word itself.\n",
    "        similar_word_str = ', '.join([itos[j] for j in similarity_top_k[i, :] if j >= 1])\n",
    "        print(f\"{itos[word_id]}: {similar_word_str}\")\n",
    "\n",
    "    print('\\n')"
   ]
  },
  {
   "cell_type": "code",
   "execution_count": null,
   "id": "b0c194b8",
   "metadata": {},
   "outputs": [],
   "source": []
  },
  {
   "cell_type": "markdown",
   "id": "3b3c6ed5",
   "metadata": {},
   "source": [
    "### Set up the model"
   ]
  },
  {
   "cell_type": "code",
   "execution_count": 35,
   "id": "16da95d1",
   "metadata": {},
   "outputs": [],
   "source": [
    "LR = 10.0\n",
    "NUM_EPOCHS = 10\n",
    "EMBED_DIM = 300"
   ]
  },
  {
   "cell_type": "code",
   "execution_count": 36,
   "id": "cef585f4",
   "metadata": {},
   "outputs": [],
   "source": [
    "model = CBOWNegativeSampling(len(VOCAB), EMBED_DIM).to(DEVICE)\n",
    "optimizer = torch.optim.SGD(model.parameters(), lr=LR)\n",
    "# The learning rate is lowered every epoch by 1/10.\n",
    "# Is this a good idea?\n",
    "scheduler = torch.optim.lr_scheduler.StepLR(optimizer, 1, gamma=0.1)"
   ]
  },
  {
   "cell_type": "code",
   "execution_count": 37,
   "id": "f8a642bf",
   "metadata": {},
   "outputs": [
    {
     "data": {
      "text/plain": [
       "CBOWNegativeSampling(\n",
       "  (A): Embedding(63641, 300)\n",
       "  (B): Embedding(63641, 300)\n",
       ")"
      ]
     },
     "execution_count": 37,
     "metadata": {},
     "output_type": "execute_result"
    }
   ],
   "source": [
    "model"
   ]
  },
  {
   "cell_type": "code",
   "execution_count": 38,
   "id": "85773616",
   "metadata": {},
   "outputs": [
    {
     "name": "stdout",
     "output_type": "stream",
     "text": [
      "money: demigods, causative, terre, atrahasis, prefatory, aquarist, gylfaginning, streamline, hyde, autobiography\n",
      "lion: pollination, bans, lindbergh, sector, vivant, confronted, breeze, fingerprint, mayr, carpets\n",
      "africa: lifetimes, myopia, carbondale, redonda, faisal, tsh, dreyer, brownies, insecticide, wagons\n",
      "musician: warrants, tisdall, sightedness, lightweight, trait, vanuatu, presumptive, logie, elegy, thither\n",
      "dance: marcello, seis, endymion, fractions, vhdl, topkapi, noblemen, pollo, lincoln, attainment\n",
      "\n",
      "\n"
     ]
    }
   ],
   "source": [
    "validate_embeddings(model, valid_ids, itos)"
   ]
  },
  {
   "cell_type": "code",
   "execution_count": null,
   "id": "66075f5e",
   "metadata": {},
   "outputs": [],
   "source": []
  },
  {
   "cell_type": "markdown",
   "id": "86476e2a",
   "metadata": {},
   "source": [
    "### Train the model"
   ]
  },
  {
   "cell_type": "code",
   "execution_count": 39,
   "id": "24950481",
   "metadata": {},
   "outputs": [],
   "source": [
    "ratios = []\n",
    "\n",
    "def train(dataloader, model, optimizer, epoch):\n",
    "    model.train()\n",
    "    total_acc, total_count, total_loss, total_batches = 0, 0, 0.0, 0.0\n",
    "    log_interval = 500\n",
    "    \n",
    "    for idx, x_batch in tqdm(enumerate(dataloader)):\n",
    "        \n",
    "        x_batch = x_batch[0]\n",
    "                \n",
    "        batch_size = x_batch.shape[0]\n",
    "        \n",
    "        # Zero the gradient so they don't accumulate.\n",
    "        optimizer.zero_grad()\n",
    "        \n",
    "        logits = model(x_batch)\n",
    "                        \n",
    "        # Get the positive samples loss. Notice we use weights here.\n",
    "        positive_loss = torch.nn.BCEWithLogitsLoss()(input=logits, target=torch.ones(batch_size).to(DEVICE).float())\n",
    "        \n",
    "        # For each batch, get some negative samples.\n",
    "        # We need a total of len(y_batch) * 2* WINDOW * K samples across a batch.\n",
    "        # We then reshape this batch.\n",
    "        # These are effectively the output words.\n",
    "        #print(\"Batch size: \", batch_size)\n",
    "        negative_samples = torch.multinomial(p, batch_size*K, replacement=True)\n",
    "        #print(\"negative_samples: \", negative_samples.size())\n",
    "        # Context words are 2m things, m = 1 so w_context is (N, 2) while wc is (N, 1)\n",
    "        w_context, wc =x_batch[:,0:2].to('cpu'), negative_samples\n",
    "        \n",
    "        #print(\"w_context: \", w_context.size())\n",
    "        #print(\"wc: \", wc.size())\n",
    "        \n",
    "        \"\"\"\n",
    "        if w_context looks like below (batch_size = 3)\n",
    "        [\n",
    "        (a, b),\n",
    "        (c, d),\n",
    "        (e, f)\n",
    "        ] and K = 2 we'd like to get:\n",
    "        \n",
    "        [\n",
    "        (a, b),\n",
    "        (a, b),\n",
    "        (c, d), \n",
    "        (c, d),\n",
    "        (e, f),\n",
    "        (e, f)\n",
    "        ]\n",
    "        \n",
    "        This will be batch_size * K rows.\n",
    "        \"\"\"\n",
    "        \n",
    "        # This should be (N * K, 2)\n",
    "        w_context = torch.concat([\n",
    "            w.repeat(K, 1) for w in torch.tensor(w_context).split(1)\n",
    "        ])\n",
    "        #print(\"w_context: \", w_context.size())\n",
    "        # Remove the last dimension 1.\n",
    "        wc = wc.view(wc.size()[0],1)\n",
    "        #print(\"wc: \", wc.size())\n",
    "        # Get the negative samples. This should be (N * K, 3).\n",
    "        # Concatenate the w_context and wc along the column. Make sure everything is on CUDA / MPS or CPU.\n",
    "        x_batch_negative = torch.concat([w_context, wc], axis=1).to(DEVICE)\n",
    "        #print(\"x_batch_negative: \", x_batch_negative.shape)      \n",
    "        \"\"\"\n",
    "        Note the way we formulated the targets: they are all 0 since these are negative samples.\n",
    "        We do the BCEWithLogitsLoss by hand basically here.\n",
    "        Notice we sum across the negative samples, per positive word.\n",
    "        \n",
    "        This is literally the equation in the lecture notes.\n",
    "        \"\"\"\n",
    "        \n",
    "        # (N, K, D) -> (N, D) -> (N)\n",
    "        # Look at the Skip-Gram notebook.\n",
    "        negative_loss = model(x_batch_negative).neg().sigmoid().log().reshape(\n",
    "            batch_size, K\n",
    "        ).sum(1).mean().neg().to(DEVICE)\n",
    "        \n",
    "        loss = (positive_loss + negative_loss).mean()\n",
    "                \n",
    "        # Get the gradients via back propagation. \n",
    "        loss.backward()\n",
    "                        \n",
    "        # Clip the gradients? Generally a good idea.\n",
    "        torch.nn.utils.clip_grad_norm_(model.parameters(), 0.1)\n",
    "        \n",
    "        # Used for optimization. This should be roughly 0.001, on average.\n",
    "        # You can use this to see if your learning rate is right - you can also plot the loss performance.\n",
    "        with torch.no_grad():\n",
    "            r = [\n",
    "                (LR * p.grad.std() / p.data.std()).log10().item() for _, p in model.named_parameters()\n",
    "            ]\n",
    "            ratios.append(r)  \n",
    "        \n",
    "        # Do an optimization step. Update the parameters A and B.\n",
    "        optimizer.step()\n",
    "        # Get the new loss.\n",
    "        total_loss += loss.item()\n",
    "        # Update the batch count.\n",
    "        total_batches += 1\n",
    "                \n",
    "        if idx % log_interval == 0:\n",
    "            print(\n",
    "                \"| epoch {:3d} | {:5d}/{:5d} batches \"\n",
    "                \"| loss {:8.3f} \".format(\n",
    "                    epoch,\n",
    "                    idx,\n",
    "                    len(dataloader),\n",
    "                    total_loss / total_batches\n",
    "                )\n",
    "            )\n",
    "            validate_embeddings(model, valid_ids, itos)\n",
    "            total_loss, total_batches = 0.0, 0.0"
   ]
  },
  {
   "cell_type": "markdown",
   "id": "0764d675",
   "metadata": {},
   "source": [
    "### Some results from the run look like below:\n",
    "\n",
    "Somewhere inside of 2 iterations you should get sensible associattions.\n",
    "Paste here a screenshot of the closest vectors."
   ]
  },
  {
   "cell_type": "code",
   "execution_count": 40,
   "id": "a9e02c09",
   "metadata": {},
   "outputs": [
    {
     "name": "stderr",
     "output_type": "stream",
     "text": [
      "0it [00:00, ?it/s]/var/folders/f8/mb2zprsj5wj1n9ygh0fcr3nw0000gn/T/ipykernel_7109/750430753.py:57: UserWarning: To copy construct from a tensor, it is recommended to use sourceTensor.clone().detach() or sourceTensor.clone().detach().requires_grad_(True), rather than torch.tensor(sourceTensor).\n",
      "  w.repeat(K, 1) for w in torch.tensor(w_context).split(1)\n",
      "1it [00:00,  1.27it/s]"
     ]
    },
    {
     "name": "stdout",
     "output_type": "stream",
     "text": [
      "| epoch   1 |     0/32580 batches | loss    4.085 \n",
      "money: demigods, causative, terre, atrahasis, prefatory, aquarist, gylfaginning, streamline, hyde, autobiography\n",
      "lion: pollination, bans, lindbergh, sector, vivant, confronted, breeze, fingerprint, mayr, carpets\n",
      "africa: lifetimes, myopia, carbondale, redonda, faisal, tsh, dreyer, brownies, insecticide, gnaeus\n",
      "musician: warrants, tisdall, sightedness, lightweight, trait, vanuatu, presumptive, logie, elegy, thither\n",
      "dance: marcello, seis, endymion, fractions, vhdl, topkapi, noblemen, pollo, lincoln, attainment\n",
      "\n",
      "\n"
     ]
    },
    {
     "name": "stderr",
     "output_type": "stream",
     "text": [
      "502it [16:51,  9.43it/s] "
     ]
    },
    {
     "name": "stdout",
     "output_type": "stream",
     "text": [
      "| epoch   1 |   500/32580 batches | loss    3.716 \n",
      "money: causative, demigods, terre, atrahasis, prefatory, gylfaginning, autobiography, aquarist, streamline, rabelais\n",
      "lion: pollination, bans, lindbergh, sector, vivant, confronted, breeze, fingerprint, mayr, carpets\n",
      "africa: lifetimes, myopia, redonda, carbondale, faisal, brownies, dreyer, tsh, chrysostom, multiples\n",
      "musician: warrants, tisdall, sightedness, lightweight, vanuatu, trait, presumptive, logie, tarim, thither\n",
      "dance: marcello, seis, endymion, fractions, vhdl, lincoln, pollo, noblemen, topkapi, attainment\n",
      "\n",
      "\n"
     ]
    },
    {
     "name": "stderr",
     "output_type": "stream",
     "text": [
      "1001it [17:38,  9.82it/s]"
     ]
    },
    {
     "name": "stdout",
     "output_type": "stream",
     "text": [
      "| epoch   1 |  1000/32580 batches | loss    3.357 \n",
      "money: demigods, causative, terre, atrahasis, prefatory, gylfaginning, aquarist, streamline, autobiography, someone\n",
      "lion: pollination, bans, lindbergh, vivant, sector, confronted, breeze, mayr, fingerprint, carpets\n",
      "africa: myopia, lifetimes, redonda, carbondale, brownies, faisal, tsh, strains, chrysostom, decolonization\n",
      "musician: warrants, tisdall, sightedness, lightweight, vanuatu, trait, presumptive, elegy, logie, roosevelts\n",
      "dance: marcello, seis, endymion, fractions, vhdl, topkapi, attainment, noblemen, pollo, gokturks\n",
      "\n",
      "\n"
     ]
    },
    {
     "name": "stderr",
     "output_type": "stream",
     "text": [
      "1501it [18:24,  9.85it/s]"
     ]
    },
    {
     "name": "stdout",
     "output_type": "stream",
     "text": [
      "| epoch   1 |  1500/32580 batches | loss    3.026 \n",
      "money: causative, demigods, terre, atrahasis, prefatory, aquarist, streamline, gylfaginning, autobiography, rabelais\n",
      "lion: pollination, bans, lindbergh, vivant, sector, confronted, breeze, mayr, carpets, fingerprint\n",
      "africa: myopia, lifetimes, redonda, carbondale, tsh, brownies, decolonization, insecticide, faisal, difficulty\n",
      "musician: warrants, tisdall, sightedness, lightweight, vanuatu, trait, presumptive, logie, roosevelts, lopsided\n",
      "dance: marcello, seis, fractions, endymion, vhdl, gokturks, pollo, attainment, studies, topkapi\n",
      "\n",
      "\n"
     ]
    },
    {
     "name": "stderr",
     "output_type": "stream",
     "text": [
      "2001it [19:10,  9.89it/s]"
     ]
    },
    {
     "name": "stdout",
     "output_type": "stream",
     "text": [
      "| epoch   1 |  2000/32580 batches | loss    2.788 \n",
      "money: causative, demigods, terre, prefatory, atrahasis, streamline, aquarist, gylfaginning, someone, autobiography\n",
      "lion: pollination, bans, lindbergh, vivant, sector, confronted, mayr, breeze, fingerprint, carpets\n",
      "africa: myopia, lifetimes, redonda, tsh, brownies, strains, carbondale, insecticide, difficulty, decolonization\n",
      "musician: warrants, tisdall, sightedness, vanuatu, lightweight, trait, presumptive, logie, roosevelts, thither\n",
      "dance: marcello, seis, fractions, endymion, vhdl, gokturks, studies, breaded, attainment, pollo\n",
      "\n",
      "\n"
     ]
    },
    {
     "name": "stderr",
     "output_type": "stream",
     "text": [
      "2502it [19:56,  9.43it/s]"
     ]
    },
    {
     "name": "stdout",
     "output_type": "stream",
     "text": [
      "| epoch   1 |  2500/32580 batches | loss    2.619 \n",
      "money: causative, demigods, prefatory, terre, atrahasis, streamline, aquarist, someone, gylfaginning, published\n",
      "lion: pollination, bans, lindbergh, sector, vivant, confronted, mayr, breeze, fingerprint, carpets\n",
      "africa: myopia, redonda, lifetimes, tsh, kill, brownies, strains, difficulty, zion, decolonization\n",
      "musician: warrants, tisdall, sightedness, lightweight, vanuatu, trait, logie, presumptive, roosevelts, kivu\n",
      "dance: seis, marcello, fractions, endymion, studies, vhdl, gokturks, pollo, breaded, solway\n",
      "\n",
      "\n"
     ]
    },
    {
     "name": "stderr",
     "output_type": "stream",
     "text": [
      "3001it [28:38, 71.30s/it]"
     ]
    },
    {
     "name": "stdout",
     "output_type": "stream",
     "text": [
      "| epoch   1 |  3000/32580 batches | loss    2.485 \n",
      "money: causative, demigods, prefatory, published, someone, terre, streamline, about, aquarist, gylfaginning\n",
      "lion: pollination, bans, lindbergh, vivant, sector, mayr, confronted, fingerprint, breeze, carpets\n",
      "africa: myopia, redonda, kill, lifetimes, strains, tsh, zion, brownies, difficulty, decolonization\n",
      "musician: warrants, tisdall, sightedness, trait, lightweight, vanuatu, th, logie, roosevelts, write\n",
      "dance: seis, marcello, fractions, studies, endymion, gokturks, vhdl, breaded, solway, pollo\n",
      "\n",
      "\n"
     ]
    },
    {
     "name": "stderr",
     "output_type": "stream",
     "text": [
      "3499it [29:24, 10.81it/s]"
     ]
    },
    {
     "name": "stdout",
     "output_type": "stream",
     "text": [
      "| epoch   1 |  3500/32580 batches | loss    2.377 \n"
     ]
    },
    {
     "name": "stderr",
     "output_type": "stream",
     "text": [
      "3502it [36:42, 54.17s/it]"
     ]
    },
    {
     "name": "stdout",
     "output_type": "stream",
     "text": [
      "money: causative, demigods, published, about, prefatory, recent, someone, terre, streamline, aquarist\n",
      "lion: pollination, bans, lindbergh, vivant, sector, mayr, confronted, fingerprint, breeze, kalinin\n",
      "africa: myopia, kill, city, form, redonda, used, god, story, strains, include\n",
      "musician: warrants, tisdall, th, vanuatu, lightweight, sightedness, trait, ii, write, logie\n",
      "dance: seis, marcello, fractions, studies, endymion, gokturks, breaded, solway, vhdl, recognition\n",
      "\n",
      "\n"
     ]
    },
    {
     "name": "stderr",
     "output_type": "stream",
     "text": [
      "4000it [37:29, 10.62it/s]"
     ]
    },
    {
     "name": "stdout",
     "output_type": "stream",
     "text": [
      "| epoch   1 |  4000/32580 batches | loss    2.294 \n",
      "money: causative, about, published, demigods, recent, someone, streamline, prefatory, given, record\n",
      "lion: pollination, bans, lindbergh, sector, vivant, mayr, confronted, fingerprint, breeze, kalinin\n",
      "africa: myopia, city, form, kill, west, god, found, used, others, university\n",
      "musician: warrants, tisdall, th, vanuatu, write, lightweight, sightedness, trait, french, ii\n",
      "dance: seis, marcello, studies, fractions, endymion, gokturks, party, recognition, breaded, solway\n",
      "\n",
      "\n"
     ]
    },
    {
     "name": "stderr",
     "output_type": "stream",
     "text": [
      "4502it [38:17,  9.43it/s]"
     ]
    },
    {
     "name": "stdout",
     "output_type": "stream",
     "text": [
      "| epoch   1 |  4500/32580 batches | loss    2.220 \n",
      "money: published, causative, about, recent, given, name, demigods, record, someone, years\n",
      "lion: pollination, bans, lindbergh, sector, vivant, mayr, confronted, fingerprint, breeze, kalinin\n",
      "africa: city, form, west, found, others, god, all, myopia, include, th\n",
      "musician: warrants, tisdall, th, write, french, ii, then, vanuatu, lightweight, trait\n",
      "dance: seis, marcello, studies, fractions, m, party, endymion, recognition, gokturks, breaded\n",
      "\n",
      "\n"
     ]
    },
    {
     "name": "stderr",
     "output_type": "stream",
     "text": [
      "5000it [39:03, 10.71it/s]"
     ]
    },
    {
     "name": "stdout",
     "output_type": "stream",
     "text": [
      "| epoch   1 |  5000/32580 batches | loss    2.159 \n",
      "money: published, about, given, recent, name, created, causative, record, such, someone\n",
      "lion: pollination, bans, lindbergh, sector, vivant, mayr, confronted, fingerprint, breeze, kalinin\n",
      "africa: city, west, form, others, god, found, all, th, used, include\n",
      "musician: warrants, th, tisdall, write, then, french, ii, three, vanuatu, trait\n",
      "dance: seis, marcello, studies, party, m, fractions, recognition, area, endymion, breaded\n",
      "\n",
      "\n"
     ]
    },
    {
     "name": "stderr",
     "output_type": "stream",
     "text": [
      "5501it [39:50,  9.82it/s]"
     ]
    },
    {
     "name": "stdout",
     "output_type": "stream",
     "text": [
      "| epoch   1 |  5500/32580 batches | loss    2.102 \n",
      "money: published, about, given, name, recent, created, record, along, such, years\n",
      "lion: pollination, bans, lindbergh, sector, vivant, mayr, confronted, breeze, kalinin, fingerprint\n",
      "africa: west, others, form, city, found, god, th, used, all, include\n",
      "musician: warrants, th, tisdall, french, write, then, ii, three, others, four\n",
      "dance: seis, studies, marcello, party, m, area, recognition, fractions, japanese, yet\n",
      "\n",
      "\n"
     ]
    },
    {
     "name": "stderr",
     "output_type": "stream",
     "text": [
      "6002it [40:37,  9.44it/s]"
     ]
    },
    {
     "name": "stdout",
     "output_type": "stream",
     "text": [
      "| epoch   1 |  6000/32580 batches | loss    2.054 \n",
      "money: published, about, given, recent, name, along, created, record, such, there\n",
      "lion: pollination, bans, lindbergh, sector, mayr, vivant, confronted, kalinin, fingerprint, breeze\n",
      "africa: west, others, form, city, found, god, used, all, th, end\n",
      "musician: warrants, th, french, write, tisdall, then, ii, british, three, others\n",
      "dance: studies, seis, party, marcello, area, m, japanese, recognition, yet, some\n",
      "\n",
      "\n"
     ]
    },
    {
     "name": "stderr",
     "output_type": "stream",
     "text": [
      "6502it [41:24,  9.39it/s]"
     ]
    },
    {
     "name": "stdout",
     "output_type": "stream",
     "text": [
      "| epoch   1 |  6500/32580 batches | loss    2.013 \n",
      "money: published, given, about, created, recent, name, record, along, well, there\n",
      "lion: pollination, bans, lindbergh, sector, mayr, vivant, confronted, fingerprint, breeze, kalinin\n",
      "africa: west, form, others, city, god, th, found, used, all, end\n",
      "musician: th, warrants, french, ii, write, then, three, four, others, tisdall\n",
      "dance: studies, party, seis, area, m, marcello, japanese, recognition, yet, some\n",
      "\n",
      "\n"
     ]
    },
    {
     "name": "stderr",
     "output_type": "stream",
     "text": [
      "7002it [42:11,  9.24it/s]"
     ]
    },
    {
     "name": "stdout",
     "output_type": "stream",
     "text": [
      "| epoch   1 |  7000/32580 batches | loss    1.981 \n",
      "money: published, given, about, created, recent, record, along, well, name, city\n",
      "lion: pollination, bans, sector, lindbergh, mayr, vivant, confronted, fingerprint, kalinin, breeze\n",
      "africa: west, form, others, city, god, th, found, english, end, all\n",
      "musician: th, warrants, french, ii, then, write, three, most, way, others\n",
      "dance: studies, party, area, seis, m, japanese, marcello, some, yet, recognition\n",
      "\n",
      "\n"
     ]
    },
    {
     "name": "stderr",
     "output_type": "stream",
     "text": [
      "7501it [42:58,  9.64it/s]"
     ]
    },
    {
     "name": "stdout",
     "output_type": "stream",
     "text": [
      "| epoch   1 |  7500/32580 batches | loss    1.945 \n",
      "money: published, given, created, well, along, record, about, recent, name, city\n",
      "lion: pollination, bans, sector, lindbergh, mayr, vivant, confronted, kalinin, fingerprint, breeze\n",
      "africa: west, form, th, city, god, example, found, others, end, english\n",
      "musician: th, french, warrants, ii, then, three, write, most, five, others\n",
      "dance: studies, party, area, m, seis, japanese, marcello, some, name, only\n",
      "\n",
      "\n"
     ]
    },
    {
     "name": "stderr",
     "output_type": "stream",
     "text": [
      "8002it [43:45,  9.27it/s]"
     ]
    },
    {
     "name": "stdout",
     "output_type": "stream",
     "text": [
      "| epoch   1 |  8000/32580 batches | loss    1.915 \n",
      "money: published, given, created, along, well, recent, name, about, record, city\n",
      "lion: pollination, bans, sector, lindbergh, mayr, vivant, confronted, kalinin, fingerprint, breeze\n",
      "africa: west, form, end, th, example, others, god, city, found, english\n",
      "musician: th, french, ii, three, warrants, five, six, then, write, u\n",
      "dance: studies, party, area, m, japanese, some, name, seis, image, only\n",
      "\n",
      "\n"
     ]
    },
    {
     "name": "stderr",
     "output_type": "stream",
     "text": [
      "8502it [44:32,  9.32it/s]"
     ]
    },
    {
     "name": "stdout",
     "output_type": "stream",
     "text": [
      "| epoch   1 |  8500/32580 batches | loss    1.887 \n",
      "money: given, published, created, well, along, recent, name, economy, record, city\n",
      "lion: pollination, bans, sector, lindbergh, mayr, vivant, confronted, kalinin, breeze, fingerprint\n",
      "africa: west, end, form, th, example, others, god, found, city, english\n",
      "musician: th, french, ii, three, u, others, six, way, parts, write\n",
      "dance: studies, party, area, name, m, japanese, some, only, seis, image\n",
      "\n",
      "\n"
     ]
    },
    {
     "name": "stderr",
     "output_type": "stream",
     "text": [
      "9002it [45:19,  9.27it/s]"
     ]
    },
    {
     "name": "stdout",
     "output_type": "stream",
     "text": [
      "| epoch   1 |  9000/32580 batches | loss    1.861 \n",
      "money: given, published, created, well, along, recent, name, economy, record, r\n",
      "lion: pollination, sector, bans, lindbergh, mayr, vivant, confronted, kalinin, fingerprint, breeze\n",
      "africa: end, west, example, form, th, found, god, others, city, america\n",
      "musician: th, french, ii, u, others, parts, way, group, three, six\n",
      "dance: studies, party, name, area, m, japanese, some, yet, only, image\n",
      "\n",
      "\n"
     ]
    },
    {
     "name": "stderr",
     "output_type": "stream",
     "text": [
      "9502it [46:05,  9.34it/s]"
     ]
    },
    {
     "name": "stdout",
     "output_type": "stream",
     "text": [
      "| epoch   1 |  9500/32580 batches | loss    1.841 \n",
      "money: given, published, created, recent, along, well, name, economy, r, record\n",
      "lion: pollination, sector, bans, lindbergh, mayr, vivant, confronted, months, kalinin, fingerprint\n",
      "africa: end, west, th, example, found, god, form, others, america, work\n",
      "musician: th, french, ii, u, parts, others, way, six, group, british\n",
      "dance: studies, party, name, area, japanese, some, image, only, m, province\n",
      "\n",
      "\n"
     ]
    },
    {
     "name": "stderr",
     "output_type": "stream",
     "text": [
      "10002it [46:52,  9.32it/s]"
     ]
    },
    {
     "name": "stdout",
     "output_type": "stream",
     "text": [
      "| epoch   1 | 10000/32580 batches | loss    1.814 \n",
      "money: given, published, recent, well, along, created, name, r, economy, about\n",
      "lion: pollination, sector, bans, mayr, lindbergh, months, vivant, confronted, authors, kalinin\n",
      "africa: end, west, example, th, found, america, god, others, form, work\n",
      "musician: th, french, u, ii, parts, six, others, group, british, way\n",
      "dance: studies, party, name, area, some, japanese, only, m, image, g\n",
      "\n",
      "\n"
     ]
    },
    {
     "name": "stderr",
     "output_type": "stream",
     "text": [
      "10502it [47:39,  9.17it/s]"
     ]
    },
    {
     "name": "stdout",
     "output_type": "stream",
     "text": [
      "| epoch   1 | 10500/32580 batches | loss    1.792 \n",
      "money: given, published, well, created, along, recent, economy, r, name, death\n",
      "lion: pollination, sector, bans, mayr, lindbergh, months, vivant, confronted, authors, settled\n",
      "africa: end, west, america, example, found, th, god, form, others, england\n",
      "musician: th, french, u, parts, ii, six, way, group, three, british\n",
      "dance: studies, party, name, area, japanese, only, m, g, few, because\n",
      "\n",
      "\n"
     ]
    },
    {
     "name": "stderr",
     "output_type": "stream",
     "text": [
      "11001it [48:25,  9.65it/s]"
     ]
    },
    {
     "name": "stdout",
     "output_type": "stream",
     "text": [
      "| epoch   1 | 11000/32580 batches | loss    1.773 \n",
      "money: given, published, created, along, well, recent, economy, death, u, found\n",
      "lion: pollination, sector, bans, lindbergh, mayr, months, vivant, confronted, settled, authors\n",
      "africa: end, america, west, example, found, god, th, england, form, others\n",
      "musician: th, french, u, parts, three, six, way, group, english, ii\n",
      "dance: studies, name, party, area, japanese, only, m, women, fact, g\n",
      "\n",
      "\n"
     ]
    },
    {
     "name": "stderr",
     "output_type": "stream",
     "text": [
      "11502it [49:12,  9.35it/s]"
     ]
    },
    {
     "name": "stdout",
     "output_type": "stream",
     "text": [
      "| epoch   1 | 11500/32580 batches | loss    1.762 \n",
      "money: given, published, created, well, along, recent, found, economy, york, u\n",
      "lion: pollination, sector, bans, lindbergh, mayr, months, vivant, settled, confronted, authors\n",
      "africa: end, america, west, th, found, god, england, example, others, work\n",
      "musician: th, french, u, parts, six, way, group, actor, three, english\n",
      "dance: name, studies, party, japanese, area, women, only, fact, m, title\n",
      "\n",
      "\n"
     ]
    },
    {
     "name": "stderr",
     "output_type": "stream",
     "text": [
      "12002it [49:59,  9.22it/s]"
     ]
    },
    {
     "name": "stdout",
     "output_type": "stream",
     "text": [
      "| epoch   1 | 12000/32580 batches | loss    1.739 \n",
      "money: given, created, published, well, along, recent, death, found, u, economy\n",
      "lion: pollination, sector, bans, months, lindbergh, mayr, settled, authors, vivant, confronted\n",
      "africa: end, america, west, th, god, england, example, found, others, president\n",
      "musician: th, u, french, three, six, actor, parts, group, way, english\n",
      "dance: name, studies, party, japanese, women, fact, some, result, area, list\n",
      "\n",
      "\n"
     ]
    },
    {
     "name": "stderr",
     "output_type": "stream",
     "text": [
      "12502it [50:46,  9.18it/s]"
     ]
    },
    {
     "name": "stdout",
     "output_type": "stream",
     "text": [
      "| epoch   1 | 12500/32580 batches | loss    1.719 \n",
      "money: given, created, published, well, record, death, along, economy, u, york\n",
      "lion: pollination, sector, months, bans, mayr, lindbergh, settled, authors, vivant, confronted\n",
      "africa: end, america, west, england, found, god, th, example, others, president\n",
      "musician: th, u, french, actor, parts, group, three, six, way, seven\n",
      "dance: name, studies, party, women, result, japanese, only, province, fact, area\n",
      "\n",
      "\n"
     ]
    },
    {
     "name": "stderr",
     "output_type": "stream",
     "text": [
      "13001it [51:32,  9.71it/s]"
     ]
    },
    {
     "name": "stdout",
     "output_type": "stream",
     "text": [
      "| epoch   1 | 13000/32580 batches | loss    1.712 \n",
      "money: created, published, given, well, addition, record, u, economy, death, york\n",
      "lion: sector, pollination, months, bans, mayr, settled, authors, lindbergh, vivant, confronted\n",
      "africa: end, america, west, england, th, found, example, god, others, south\n",
      "musician: th, u, actor, french, parts, three, group, six, singer, play\n",
      "dance: name, party, studies, women, province, only, result, fact, title, available\n",
      "\n",
      "\n"
     ]
    },
    {
     "name": "stderr",
     "output_type": "stream",
     "text": [
      "13501it [52:19,  9.57it/s]"
     ]
    },
    {
     "name": "stdout",
     "output_type": "stream",
     "text": [
      "| epoch   1 | 13500/32580 batches | loss    1.694 \n",
      "money: published, created, given, well, addition, record, u, along, return, york\n",
      "lion: sector, pollination, months, settled, bans, mayr, authors, lindbergh, vivant, derived\n",
      "africa: end, america, west, england, th, god, found, example, south, others\n",
      "musician: th, u, actor, french, parts, three, six, group, singer, seven\n",
      "dance: name, party, studies, women, province, result, title, only, fact, u\n",
      "\n",
      "\n"
     ]
    },
    {
     "name": "stderr",
     "output_type": "stream",
     "text": [
      "14001it [53:06,  9.67it/s]"
     ]
    },
    {
     "name": "stdout",
     "output_type": "stream",
     "text": [
      "| epoch   1 | 14000/32580 batches | loss    1.681 \n",
      "money: created, published, given, well, addition, record, view, u, return, york\n",
      "lion: sector, pollination, months, bans, settled, authors, mayr, lindbergh, derived, vivant\n",
      "africa: end, america, west, england, th, south, found, god, example, president\n",
      "musician: th, u, actor, three, six, parts, french, singer, four, way\n",
      "dance: name, studies, party, women, province, result, title, fact, list, u\n",
      "\n",
      "\n"
     ]
    },
    {
     "name": "stderr",
     "output_type": "stream",
     "text": [
      "14502it [53:53,  9.33it/s]"
     ]
    },
    {
     "name": "stdout",
     "output_type": "stream",
     "text": [
      "| epoch   1 | 14500/32580 batches | loss    1.669 \n",
      "money: created, published, given, well, addition, record, found, view, return, recent\n",
      "lion: sector, pollination, months, authors, settled, bans, mayr, derived, lindbergh, vivant\n",
      "africa: end, america, west, england, th, south, found, god, example, united\n",
      "musician: th, actor, u, parts, six, french, singer, three, seven, play\n",
      "dance: name, studies, party, women, province, result, title, fact, list, u\n",
      "\n",
      "\n"
     ]
    },
    {
     "name": "stderr",
     "output_type": "stream",
     "text": [
      "15002it [54:39,  9.31it/s]"
     ]
    },
    {
     "name": "stdout",
     "output_type": "stream",
     "text": [
      "| epoch   1 | 15000/32580 batches | loss    1.657 \n",
      "money: created, published, addition, well, given, found, recent, view, record, able\n",
      "lion: sector, pollination, months, authors, settled, mayr, bans, derived, modern, lindbergh\n",
      "africa: end, america, west, england, th, south, found, europe, united, part\n",
      "musician: th, actor, u, six, singer, parts, seven, french, eight, group\n",
      "dance: name, studies, party, province, women, result, title, list, fact, u\n",
      "\n",
      "\n"
     ]
    },
    {
     "name": "stderr",
     "output_type": "stream",
     "text": [
      "15501it [55:26,  9.64it/s]"
     ]
    },
    {
     "name": "stdout",
     "output_type": "stream",
     "text": [
      "| epoch   1 | 15500/32580 batches | loss    1.645 \n",
      "money: created, published, addition, found, well, recent, view, return, able, record\n",
      "lion: sector, pollination, months, authors, settled, derived, mayr, modern, bans, lindbergh\n",
      "africa: end, america, west, england, th, south, found, united, europe, part\n",
      "musician: th, actor, singer, u, six, parts, french, seven, group, way\n",
      "dance: studies, name, province, party, women, result, title, list, fact, support\n",
      "\n",
      "\n"
     ]
    },
    {
     "name": "stderr",
     "output_type": "stream",
     "text": [
      "16000it [56:13, 10.78it/s]"
     ]
    },
    {
     "name": "stdout",
     "output_type": "stream",
     "text": [
      "| epoch   1 | 16000/32580 batches | loss    1.632 \n",
      "money: created, published, addition, recent, return, well, found, view, able, record\n",
      "lion: sector, pollination, months, authors, settled, derived, mayr, modern, bans, remain\n",
      "africa: america, end, england, west, south, th, found, europe, part, united\n",
      "musician: th, actor, singer, u, six, parts, french, seven, play, way\n",
      "dance: studies, name, province, result, women, party, title, list, fact, support\n",
      "\n",
      "\n"
     ]
    },
    {
     "name": "stderr",
     "output_type": "stream",
     "text": [
      "16502it [56:59,  9.34it/s]"
     ]
    },
    {
     "name": "stdout",
     "output_type": "stream",
     "text": [
      "| epoch   1 | 16500/32580 batches | loss    1.621 \n",
      "money: created, published, addition, recent, return, found, able, view, well, given\n",
      "lion: sector, months, pollination, authors, derived, settled, modern, mayr, bans, remain\n",
      "africa: america, end, west, england, th, south, found, europe, united, central\n",
      "musician: th, actor, singer, u, parts, six, seven, eight, french, play\n",
      "dance: studies, province, name, title, result, women, party, list, fact, u\n",
      "\n",
      "\n"
     ]
    },
    {
     "name": "stderr",
     "output_type": "stream",
     "text": [
      "17002it [57:46,  9.37it/s]"
     ]
    },
    {
     "name": "stdout",
     "output_type": "stream",
     "text": [
      "| epoch   1 | 17000/32580 batches | loss    1.616 \n",
      "money: created, addition, published, recent, return, view, able, well, found, u\n",
      "lion: sector, months, pollination, settled, authors, derived, modern, mayr, bans, remain\n",
      "africa: america, end, england, west, th, south, found, europe, united, god\n",
      "musician: th, actor, singer, u, seven, six, parts, french, way, eight\n",
      "dance: studies, province, name, title, women, result, list, fact, party, class\n",
      "\n",
      "\n"
     ]
    },
    {
     "name": "stderr",
     "output_type": "stream",
     "text": [
      "17502it [58:33,  9.19it/s]"
     ]
    },
    {
     "name": "stdout",
     "output_type": "stream",
     "text": [
      "| epoch   1 | 17500/32580 batches | loss    1.607 \n",
      "money: created, addition, published, recent, return, view, able, found, well, given\n",
      "lion: sector, months, pollination, settled, authors, derived, modern, mayr, bans, remain\n",
      "africa: america, end, england, west, th, south, europe, united, found, china\n",
      "musician: th, actor, singer, u, seven, parts, six, eight, french, four\n",
      "dance: studies, province, name, result, women, title, list, party, fact, class\n",
      "\n",
      "\n"
     ]
    },
    {
     "name": "stderr",
     "output_type": "stream",
     "text": [
      "18000it [59:19, 10.64it/s]"
     ]
    },
    {
     "name": "stdout",
     "output_type": "stream",
     "text": [
      "| epoch   1 | 18000/32580 batches | loss    1.597 \n",
      "money: created, addition, published, recent, view, return, found, able, well, zero\n",
      "lion: sector, months, authors, settled, pollination, derived, modern, mayr, jazz, remain\n",
      "africa: america, end, england, west, th, south, europe, united, found, china\n",
      "musician: th, actor, singer, u, seven, parts, six, eight, three, zero\n",
      "dance: studies, province, name, list, women, result, title, party, fact, class\n",
      "\n",
      "\n"
     ]
    },
    {
     "name": "stderr",
     "output_type": "stream",
     "text": [
      "18500it [1:00:06, 10.74it/s]"
     ]
    },
    {
     "name": "stdout",
     "output_type": "stream",
     "text": [
      "| epoch   1 | 18500/32580 batches | loss    1.584 \n",
      "money: addition, created, published, return, able, found, recent, view, well, practice\n",
      "lion: sector, months, authors, settled, pollination, derived, modern, jazz, mayr, introduction\n",
      "africa: america, end, west, england, th, south, europe, united, china, central\n",
      "musician: actor, th, singer, u, seven, six, parts, zero, four, eight\n",
      "dance: province, studies, name, women, list, result, title, class, fact, party\n",
      "\n",
      "\n"
     ]
    },
    {
     "name": "stderr",
     "output_type": "stream",
     "text": [
      "19002it [1:00:53,  9.40it/s]"
     ]
    },
    {
     "name": "stdout",
     "output_type": "stream",
     "text": [
      "| epoch   1 | 19000/32580 batches | loss    1.579 \n",
      "money: addition, created, published, able, return, found, recent, view, well, given\n",
      "lion: sector, months, settled, authors, derived, pollination, modern, story, introduction, jazz\n",
      "africa: america, end, england, west, th, south, europe, united, central, china\n",
      "musician: th, actor, singer, u, six, seven, zero, parts, four, eight\n",
      "dance: province, studies, title, result, women, list, name, fact, class, study\n",
      "\n",
      "\n"
     ]
    },
    {
     "name": "stderr",
     "output_type": "stream",
     "text": [
      "19501it [1:01:40,  9.72it/s]"
     ]
    },
    {
     "name": "stdout",
     "output_type": "stream",
     "text": [
      "| epoch   1 | 19500/32580 batches | loss    1.571 \n",
      "money: addition, created, published, able, return, found, given, view, recent, practice\n",
      "lion: sector, months, authors, settled, derived, pollination, modern, introduction, story, deal\n",
      "africa: america, end, england, west, th, south, europe, united, china, central\n",
      "musician: actor, th, singer, six, u, parts, seven, zero, eight, french\n",
      "dance: province, studies, title, list, women, result, name, fact, class, study\n",
      "\n",
      "\n"
     ]
    },
    {
     "name": "stderr",
     "output_type": "stream",
     "text": [
      "20002it [1:02:28,  9.80it/s]"
     ]
    },
    {
     "name": "stdout",
     "output_type": "stream",
     "text": [
      "| epoch   1 | 20000/32580 batches | loss    1.558 \n",
      "money: addition, created, able, published, return, found, view, recent, fact, given\n",
      "lion: sector, months, authors, settled, derived, pollination, modern, story, introduction, deal\n",
      "africa: america, end, england, west, south, th, europe, china, united, central\n",
      "musician: actor, th, singer, six, u, parts, seven, eight, zero, battle\n",
      "dance: province, studies, title, women, result, list, fact, study, name, class\n",
      "\n",
      "\n"
     ]
    },
    {
     "name": "stderr",
     "output_type": "stream",
     "text": [
      "20502it [1:03:13,  9.82it/s]"
     ]
    },
    {
     "name": "stdout",
     "output_type": "stream",
     "text": [
      "| epoch   1 | 20500/32580 batches | loss    1.554 \n",
      "money: addition, able, published, created, return, found, view, given, practice, battle\n",
      "lion: sector, months, settled, authors, derived, pollination, modern, story, introduction, deal\n",
      "africa: america, end, england, west, south, china, europe, th, united, india\n",
      "musician: actor, singer, th, u, six, parts, seven, eight, nine, battle\n",
      "dance: province, studies, title, result, name, study, fact, women, list, influence\n",
      "\n",
      "\n"
     ]
    },
    {
     "name": "stderr",
     "output_type": "stream",
     "text": [
      "21002it [1:04:04,  8.99it/s]"
     ]
    },
    {
     "name": "stdout",
     "output_type": "stream",
     "text": [
      "| epoch   1 | 21000/32580 batches | loss    1.545 \n",
      "money: addition, able, return, published, created, found, view, battle, given, practice\n",
      "lion: sector, months, derived, settled, authors, modern, pollination, introduction, deal, revolution\n",
      "africa: america, end, england, west, china, europe, south, india, united, th\n",
      "musician: actor, singer, th, u, six, eight, nine, seven, parts, battle\n",
      "dance: province, studies, title, result, study, name, fact, influence, list, women\n",
      "\n",
      "\n"
     ]
    },
    {
     "name": "stderr",
     "output_type": "stream",
     "text": [
      "21502it [1:08:16,  6.52s/it]"
     ]
    },
    {
     "name": "stdout",
     "output_type": "stream",
     "text": [
      "| epoch   1 | 21500/32580 batches | loss    1.537 \n",
      "money: addition, able, return, published, created, found, battle, practice, given, view\n",
      "lion: sector, months, derived, settled, authors, pollination, deal, introduction, story, revolution\n",
      "africa: america, end, england, west, europe, china, south, united, india, th\n",
      "musician: actor, singer, th, u, six, eight, parts, nine, seven, battle\n",
      "dance: province, studies, result, title, study, name, fact, women, defeat, influence\n",
      "\n",
      "\n"
     ]
    },
    {
     "name": "stderr",
     "output_type": "stream",
     "text": [
      "22002it [1:09:01,  9.65it/s]"
     ]
    },
    {
     "name": "stdout",
     "output_type": "stream",
     "text": [
      "| epoch   1 | 22000/32580 batches | loss    1.531 \n",
      "money: addition, able, return, created, published, battle, found, practice, view, fact\n",
      "lion: sector, months, settled, derived, authors, deal, introduction, pollination, story, revolution\n",
      "africa: america, end, england, west, europe, china, south, india, united, th\n",
      "musician: actor, singer, th, u, eight, nine, parts, seven, battle, addition\n",
      "dance: province, studies, result, title, study, defeat, name, women, influence, class\n",
      "\n",
      "\n"
     ]
    },
    {
     "name": "stderr",
     "output_type": "stream",
     "text": [
      "22501it [1:20:38, 10.18it/s] "
     ]
    },
    {
     "name": "stdout",
     "output_type": "stream",
     "text": [
      "| epoch   1 | 22500/32580 batches | loss    1.521 \n",
      "money: addition, able, return, created, published, battle, found, practice, view, fact\n",
      "lion: sector, months, settled, derived, authors, deal, introduction, pollination, revolution, story\n",
      "africa: america, end, england, west, europe, china, south, india, th, united\n",
      "musician: actor, singer, th, u, eight, seven, six, nine, battle, addition\n",
      "dance: province, studies, result, title, women, study, name, defeat, class, influence\n",
      "\n",
      "\n"
     ]
    },
    {
     "name": "stderr",
     "output_type": "stream",
     "text": [
      "23001it [1:21:23, 10.21it/s]"
     ]
    },
    {
     "name": "stdout",
     "output_type": "stream",
     "text": [
      "| epoch   1 | 23000/32580 batches | loss    1.522 \n",
      "money: addition, able, return, battle, created, view, fact, practice, published, found\n",
      "lion: sector, months, settled, derived, authors, deal, introduction, revolution, story, jazz\n",
      "africa: america, end, england, west, europe, china, south, india, united, th\n",
      "musician: actor, singer, th, u, six, battle, addition, eight, seven, parts\n",
      "dance: province, studies, result, title, women, defeat, influence, study, class, name\n",
      "\n",
      "\n"
     ]
    },
    {
     "name": "stderr",
     "output_type": "stream",
     "text": [
      "23501it [1:22:07, 10.27it/s]"
     ]
    },
    {
     "name": "stdout",
     "output_type": "stream",
     "text": [
      "| epoch   1 | 23500/32580 batches | loss    1.512 \n",
      "money: addition, able, return, battle, view, practice, fact, created, zero, well\n",
      "lion: sector, months, derived, settled, authors, introduction, deal, revolution, story, jazz\n",
      "africa: america, end, england, europe, west, china, south, india, united, th\n",
      "musician: actor, singer, th, u, seven, six, battle, zero, nine, eight\n",
      "dance: province, studies, defeat, result, title, women, influence, study, name, special\n",
      "\n",
      "\n"
     ]
    },
    {
     "name": "stderr",
     "output_type": "stream",
     "text": [
      "24001it [1:22:52, 10.29it/s]"
     ]
    },
    {
     "name": "stdout",
     "output_type": "stream",
     "text": [
      "| epoch   1 | 24000/32580 batches | loss    1.503 \n",
      "money: addition, able, return, battle, practice, view, fact, created, kind, published\n",
      "lion: sector, months, settled, derived, authors, introduction, deal, story, jazz, revolution\n",
      "africa: america, end, england, europe, west, china, south, india, united, france\n",
      "musician: actor, singer, th, u, six, nine, eight, battle, addition, seven\n",
      "dance: province, studies, result, influence, study, title, defeat, women, music, name\n",
      "\n",
      "\n"
     ]
    },
    {
     "name": "stderr",
     "output_type": "stream",
     "text": [
      "24501it [1:23:36, 10.05it/s]"
     ]
    },
    {
     "name": "stdout",
     "output_type": "stream",
     "text": [
      "| epoch   1 | 24500/32580 batches | loss    1.497 \n",
      "money: addition, able, return, battle, practice, support, view, kind, created, recent\n",
      "lion: sector, months, settled, derived, introduction, authors, deal, jazz, revolution, story\n",
      "africa: america, end, england, europe, west, china, india, south, united, france\n",
      "musician: actor, singer, th, nine, u, battle, seven, addition, six, eight\n",
      "dance: province, studies, title, defeat, result, study, october, influence, music, name\n",
      "\n",
      "\n"
     ]
    },
    {
     "name": "stderr",
     "output_type": "stream",
     "text": [
      "25002it [1:24:50,  9.65it/s]"
     ]
    },
    {
     "name": "stdout",
     "output_type": "stream",
     "text": [
      "| epoch   1 | 25000/32580 batches | loss    1.489 \n",
      "money: addition, able, return, support, practice, battle, given, kind, fact, created\n",
      "lion: sector, months, settled, derived, introduction, authors, deal, revolution, story, jazz\n",
      "africa: america, end, england, europe, west, china, india, south, united, france\n",
      "musician: actor, singer, th, u, seven, nine, addition, battle, eight, six\n",
      "dance: province, title, studies, october, result, study, defeat, influence, women, name\n",
      "\n",
      "\n"
     ]
    },
    {
     "name": "stderr",
     "output_type": "stream",
     "text": [
      "25501it [1:32:38,  9.86it/s]"
     ]
    },
    {
     "name": "stdout",
     "output_type": "stream",
     "text": [
      "| epoch   1 | 25500/32580 batches | loss    1.488 \n",
      "money: able, addition, return, support, much, practice, given, recent, kind, created\n",
      "lion: sector, months, settled, derived, authors, introduction, deal, revolution, jazz, story\n",
      "africa: america, end, england, europe, west, india, china, south, united, france\n",
      "musician: actor, singer, th, seven, u, six, nine, three, eight, addition\n",
      "dance: province, title, studies, october, study, result, defeat, influence, women, music\n",
      "\n",
      "\n"
     ]
    },
    {
     "name": "stderr",
     "output_type": "stream",
     "text": [
      "26002it [1:43:48, 10.10it/s]"
     ]
    },
    {
     "name": "stdout",
     "output_type": "stream",
     "text": [
      "| epoch   1 | 26000/32580 batches | loss    1.481 \n",
      "money: able, addition, return, given, support, kind, much, practice, created, recent\n",
      "lion: sector, months, settled, derived, introduction, authors, deal, revolution, jazz, modern\n",
      "africa: america, end, england, europe, west, india, china, united, south, france\n",
      "musician: actor, singer, th, u, nine, seven, eight, author, addition, six\n",
      "dance: province, studies, title, music, women, october, influence, study, defeat, result\n",
      "\n",
      "\n"
     ]
    },
    {
     "name": "stderr",
     "output_type": "stream",
     "text": [
      "26502it [1:59:56,  9.57it/s] "
     ]
    },
    {
     "name": "stdout",
     "output_type": "stream",
     "text": [
      "| epoch   1 | 26500/32580 batches | loss    1.479 \n",
      "money: able, addition, return, much, given, support, kind, practice, recent, well\n",
      "lion: sector, months, settled, derived, introduction, authors, deal, revolution, jazz, modern\n",
      "africa: america, end, england, europe, west, india, china, united, south, france\n",
      "musician: actor, singer, th, nine, seven, u, six, eight, author, addition\n",
      "dance: province, studies, music, title, women, result, october, study, defeat, influence\n",
      "\n",
      "\n"
     ]
    },
    {
     "name": "stderr",
     "output_type": "stream",
     "text": [
      "27002it [2:16:15,  9.99it/s] "
     ]
    },
    {
     "name": "stdout",
     "output_type": "stream",
     "text": [
      "| epoch   1 | 27000/32580 batches | loss    1.468 \n",
      "money: able, addition, return, given, support, much, practice, kind, recent, fact\n",
      "lion: sector, months, settled, derived, introduction, authors, deal, revolution, modern, jazz\n",
      "africa: america, england, end, europe, west, india, china, united, south, france\n",
      "musician: actor, singer, th, nine, six, author, u, seven, eight, addition\n",
      "dance: province, music, title, studies, women, study, defeat, october, class, influence\n",
      "\n",
      "\n"
     ]
    },
    {
     "name": "stderr",
     "output_type": "stream",
     "text": [
      "27502it [2:22:11,  9.86it/s]"
     ]
    },
    {
     "name": "stdout",
     "output_type": "stream",
     "text": [
      "| epoch   1 | 27500/32580 batches | loss    1.469 \n",
      "money: able, addition, return, given, much, recent, kind, practice, support, nine\n",
      "lion: sector, months, settled, derived, introduction, deal, authors, jazz, revolution, planet\n",
      "africa: america, england, europe, end, india, west, china, united, south, australia\n",
      "musician: actor, singer, th, nine, seven, author, eight, six, u, addition\n",
      "dance: music, province, studies, title, defeat, study, october, influence, women, class\n",
      "\n",
      "\n"
     ]
    },
    {
     "name": "stderr",
     "output_type": "stream",
     "text": [
      "28001it [2:38:07,  3.94it/s] "
     ]
    },
    {
     "name": "stdout",
     "output_type": "stream",
     "text": [
      "| epoch   1 | 28000/32580 batches | loss    1.453 \n",
      "money: able, addition, return, much, kind, recent, practice, support, nine, given\n",
      "lion: sector, months, settled, derived, introduction, deal, authors, jazz, revolution, rest\n",
      "africa: america, england, europe, india, china, end, west, south, united, germany\n",
      "musician: actor, singer, th, nine, seven, author, eight, six, u, actress\n",
      "dance: province, music, studies, title, defeat, study, influence, october, women, class\n",
      "\n",
      "\n"
     ]
    },
    {
     "name": "stderr",
     "output_type": "stream",
     "text": [
      "28501it [2:38:52, 10.36it/s]"
     ]
    },
    {
     "name": "stdout",
     "output_type": "stream",
     "text": [
      "| epoch   1 | 28500/32580 batches | loss    1.456 \n",
      "money: able, addition, return, much, kind, recent, support, fact, given, well\n",
      "lion: sector, months, settled, derived, introduction, deal, authors, jazz, revolution, modern\n",
      "africa: america, england, india, europe, china, end, west, united, france, south\n",
      "musician: actor, singer, th, seven, nine, author, eight, six, actress, u\n",
      "dance: music, province, studies, title, study, defeat, influence, october, class, women\n",
      "\n",
      "\n"
     ]
    },
    {
     "name": "stderr",
     "output_type": "stream",
     "text": [
      "29001it [2:39:36, 10.39it/s]"
     ]
    },
    {
     "name": "stdout",
     "output_type": "stream",
     "text": [
      "| epoch   1 | 29000/32580 batches | loss    1.454 \n",
      "money: able, addition, return, much, recent, kind, fact, given, well, support\n",
      "lion: sector, months, settled, derived, introduction, deal, authors, jazz, rest, revolution\n",
      "africa: america, england, europe, india, end, china, west, united, france, australia\n",
      "musician: actor, singer, nine, author, th, seven, six, actress, eight, five\n",
      "dance: music, province, studies, title, defeat, october, class, study, european, influence\n",
      "\n",
      "\n"
     ]
    },
    {
     "name": "stderr",
     "output_type": "stream",
     "text": [
      "29502it [2:47:53,  9.68it/s]"
     ]
    },
    {
     "name": "stdout",
     "output_type": "stream",
     "text": [
      "| epoch   1 | 29500/32580 batches | loss    1.443 \n",
      "money: able, addition, return, much, recent, kind, fact, well, given, practice\n",
      "lion: sector, months, settled, introduction, derived, deal, jazz, authors, rest, revolution\n",
      "africa: america, england, india, europe, china, end, west, france, australia, united\n",
      "musician: actor, singer, author, th, nine, seven, actress, eight, five, six\n",
      "dance: music, province, studies, title, defeat, october, class, influence, study, european\n",
      "\n",
      "\n"
     ]
    },
    {
     "name": "stderr",
     "output_type": "stream",
     "text": [
      "30002it [3:03:37,  9.90it/s] "
     ]
    },
    {
     "name": "stdout",
     "output_type": "stream",
     "text": [
      "| epoch   1 | 30000/32580 batches | loss    1.446 \n",
      "money: able, much, addition, return, fact, well, given, kind, recent, practice\n",
      "lion: sector, settled, months, introduction, derived, deal, jazz, authors, rest, planet\n",
      "africa: america, india, england, europe, china, end, west, united, france, asia\n",
      "musician: actor, singer, author, nine, th, seven, actress, zero, eight, addition\n",
      "dance: music, province, studies, title, october, defeat, class, influence, study, european\n",
      "\n",
      "\n"
     ]
    },
    {
     "name": "stderr",
     "output_type": "stream",
     "text": [
      "30502it [3:04:22,  9.77it/s]"
     ]
    },
    {
     "name": "stdout",
     "output_type": "stream",
     "text": [
      "| epoch   1 | 30500/32580 batches | loss    1.434 \n",
      "money: able, addition, return, much, given, fact, recent, kind, well, practice\n",
      "lion: sector, settled, months, derived, introduction, deal, rest, authors, jazz, planet\n",
      "africa: america, india, england, europe, china, end, west, united, germany, asia\n",
      "musician: actor, singer, author, nine, th, seven, actress, zero, six, eight\n",
      "dance: music, province, studies, defeat, october, title, class, influence, european, study\n",
      "\n",
      "\n"
     ]
    },
    {
     "name": "stderr",
     "output_type": "stream",
     "text": [
      "31002it [3:05:07,  9.96it/s]"
     ]
    },
    {
     "name": "stdout",
     "output_type": "stream",
     "text": [
      "| epoch   1 | 31000/32580 batches | loss    1.428 \n",
      "money: able, addition, much, return, fact, kind, given, well, practice, nine\n",
      "lion: sector, settled, introduction, months, derived, deal, rest, authors, jazz, planet\n",
      "africa: america, india, europe, england, china, end, west, asia, united, germany\n",
      "musician: actor, singer, author, nine, th, actress, seven, zero, six, eight\n",
      "dance: music, province, studies, defeat, october, title, study, class, influence, european\n",
      "\n",
      "\n"
     ]
    },
    {
     "name": "stderr",
     "output_type": "stream",
     "text": [
      "31502it [3:05:52,  9.64it/s]"
     ]
    },
    {
     "name": "stdout",
     "output_type": "stream",
     "text": [
      "| epoch   1 | 31500/32580 batches | loss    1.427 \n",
      "money: able, addition, much, return, fact, kind, given, well, practice, battle\n",
      "lion: sector, settled, introduction, derived, months, deal, authors, rest, planet, jazz\n",
      "africa: america, india, europe, england, china, end, west, asia, united, germany\n",
      "musician: actor, singer, author, nine, actress, th, eight, six, seven, zero\n",
      "dance: music, province, studies, october, defeat, class, study, title, influence, european\n",
      "\n",
      "\n"
     ]
    },
    {
     "name": "stderr",
     "output_type": "stream",
     "text": [
      "32001it [3:17:30,  9.97it/s]"
     ]
    },
    {
     "name": "stdout",
     "output_type": "stream",
     "text": [
      "| epoch   1 | 32000/32580 batches | loss    1.419 \n",
      "money: able, much, addition, return, kind, fact, it, given, practice, well\n",
      "lion: sector, settled, introduction, derived, months, deal, authors, jazz, planet, rest\n",
      "africa: america, india, europe, england, china, end, west, asia, united, germany\n",
      "musician: actor, singer, author, nine, th, actress, seven, eight, six, writer\n",
      "dance: music, studies, province, october, defeat, study, title, european, class, cultural\n",
      "\n",
      "\n"
     ]
    },
    {
     "name": "stderr",
     "output_type": "stream",
     "text": [
      "32502it [3:32:29,  9.85it/s] "
     ]
    },
    {
     "name": "stdout",
     "output_type": "stream",
     "text": [
      "| epoch   1 | 32500/32580 batches | loss    1.417 \n",
      "money: much, able, addition, return, kind, fact, well, it, even, given\n",
      "lion: sector, settled, introduction, derived, months, deal, rest, jazz, authors, planet\n",
      "africa: america, india, europe, england, china, end, west, asia, united, germany\n",
      "musician: actor, singer, author, nine, th, actress, seven, six, eight, writer\n",
      "dance: music, studies, province, defeat, october, title, european, class, cultural, study\n",
      "\n",
      "\n"
     ]
    },
    {
     "name": "stderr",
     "output_type": "stream",
     "text": [
      "32580it [3:32:36,  2.55it/s]\n",
      "1it [00:00,  1.68it/s]"
     ]
    },
    {
     "name": "stdout",
     "output_type": "stream",
     "text": [
      "| epoch   2 |     0/32580 batches | loss    1.341 \n",
      "money: much, able, addition, return, kind, fact, it, well, given, even\n",
      "lion: sector, settled, introduction, derived, months, deal, rest, jazz, authors, planet\n",
      "africa: america, india, europe, england, china, end, west, asia, united, germany\n",
      "musician: actor, singer, author, nine, th, actress, seven, six, eight, writer\n",
      "dance: music, studies, province, defeat, october, european, title, class, cultural, study\n",
      "\n",
      "\n"
     ]
    },
    {
     "name": "stderr",
     "output_type": "stream",
     "text": [
      "501it [00:45, 10.23it/s]"
     ]
    },
    {
     "name": "stdout",
     "output_type": "stream",
     "text": [
      "| epoch   2 |   500/32580 batches | loss    1.374 \n",
      "money: much, able, addition, return, kind, fact, it, well, given, even\n",
      "lion: sector, settled, introduction, derived, months, deal, rest, jazz, authors, planet\n",
      "africa: america, india, europe, england, china, end, west, asia, united, germany\n",
      "musician: actor, singer, author, nine, th, actress, six, seven, eight, writer\n",
      "dance: music, studies, province, defeat, october, european, title, class, study, cultural\n",
      "\n",
      "\n"
     ]
    },
    {
     "name": "stderr",
     "output_type": "stream",
     "text": [
      "1001it [01:29,  9.98it/s]"
     ]
    },
    {
     "name": "stdout",
     "output_type": "stream",
     "text": [
      "| epoch   2 |  1000/32580 batches | loss    1.374 \n",
      "money: much, able, addition, return, kind, fact, it, well, even, given\n",
      "lion: sector, settled, introduction, derived, months, deal, rest, jazz, authors, planet\n",
      "africa: america, india, europe, england, china, end, west, asia, united, germany\n",
      "musician: actor, singer, author, nine, th, actress, seven, six, eight, writer\n",
      "dance: music, studies, province, defeat, october, european, title, class, cultural, study\n",
      "\n",
      "\n"
     ]
    },
    {
     "name": "stderr",
     "output_type": "stream",
     "text": [
      "1502it [05:21,  9.62it/s]"
     ]
    },
    {
     "name": "stdout",
     "output_type": "stream",
     "text": [
      "| epoch   2 |  1500/32580 batches | loss    1.373 \n",
      "money: much, able, addition, return, kind, fact, it, well, even, given\n",
      "lion: sector, settled, introduction, derived, months, deal, rest, jazz, authors, planet\n",
      "africa: america, india, europe, china, england, end, west, asia, united, germany\n",
      "musician: actor, singer, author, nine, th, actress, seven, six, eight, writer\n",
      "dance: music, studies, province, defeat, october, title, european, class, cultural, study\n",
      "\n",
      "\n"
     ]
    },
    {
     "name": "stderr",
     "output_type": "stream",
     "text": [
      "2002it [06:05,  9.77it/s]"
     ]
    },
    {
     "name": "stdout",
     "output_type": "stream",
     "text": [
      "| epoch   2 |  2000/32580 batches | loss    1.370 \n",
      "money: much, able, addition, return, kind, fact, it, well, even, given\n",
      "lion: sector, settled, introduction, derived, months, deal, rest, jazz, authors, planet\n",
      "africa: america, india, europe, china, england, end, west, asia, united, germany\n",
      "musician: actor, singer, author, nine, th, actress, seven, six, eight, writer\n",
      "dance: music, province, studies, defeat, october, european, title, class, cultural, study\n",
      "\n",
      "\n"
     ]
    },
    {
     "name": "stderr",
     "output_type": "stream",
     "text": [
      "2502it [06:49,  9.93it/s]"
     ]
    },
    {
     "name": "stdout",
     "output_type": "stream",
     "text": [
      "| epoch   2 |  2500/32580 batches | loss    1.365 \n",
      "money: much, able, addition, return, kind, fact, well, it, support, even\n",
      "lion: sector, settled, introduction, derived, months, deal, rest, jazz, authors, planet\n",
      "africa: america, india, europe, china, england, end, west, asia, united, germany\n",
      "musician: actor, singer, author, nine, th, actress, seven, six, writer, eight\n",
      "dance: music, studies, province, defeat, october, european, title, class, cultural, study\n",
      "\n",
      "\n"
     ]
    },
    {
     "name": "stderr",
     "output_type": "stream",
     "text": [
      "3002it [07:33, 10.03it/s]"
     ]
    },
    {
     "name": "stdout",
     "output_type": "stream",
     "text": [
      "| epoch   2 |  3000/32580 batches | loss    1.369 \n",
      "money: much, able, addition, kind, return, fact, well, it, even, support\n",
      "lion: sector, settled, introduction, derived, months, deal, rest, jazz, authors, planet\n",
      "africa: america, india, europe, china, england, end, west, asia, united, germany\n",
      "musician: actor, singer, author, nine, actress, th, seven, six, writer, eight\n",
      "dance: music, province, studies, defeat, october, european, title, class, cultural, study\n",
      "\n",
      "\n"
     ]
    },
    {
     "name": "stderr",
     "output_type": "stream",
     "text": [
      "3502it [08:18,  9.71it/s]"
     ]
    },
    {
     "name": "stdout",
     "output_type": "stream",
     "text": [
      "| epoch   2 |  3500/32580 batches | loss    1.364 \n",
      "money: much, able, addition, kind, return, fact, well, it, even, support\n",
      "lion: sector, settled, introduction, derived, months, deal, rest, jazz, authors, planet\n",
      "africa: america, india, europe, china, england, end, west, asia, united, germany\n",
      "musician: actor, singer, author, nine, actress, th, seven, six, writer, eight\n",
      "dance: music, studies, province, defeat, october, european, title, class, cultural, study\n",
      "\n",
      "\n"
     ]
    },
    {
     "name": "stderr",
     "output_type": "stream",
     "text": [
      "4001it [12:06, 10.04it/s]"
     ]
    },
    {
     "name": "stdout",
     "output_type": "stream",
     "text": [
      "| epoch   2 |  4000/32580 batches | loss    1.364 \n",
      "money: much, able, addition, kind, return, fact, well, even, given, support\n",
      "lion: sector, settled, introduction, derived, months, deal, rest, jazz, planet, authors\n",
      "africa: america, india, europe, china, england, end, west, asia, united, germany\n",
      "musician: actor, singer, author, nine, actress, th, six, seven, writer, eight\n",
      "dance: music, studies, province, defeat, october, title, european, class, cultural, study\n",
      "\n",
      "\n"
     ]
    },
    {
     "name": "stderr",
     "output_type": "stream",
     "text": [
      "4501it [19:41, 10.19it/s]"
     ]
    },
    {
     "name": "stdout",
     "output_type": "stream",
     "text": [
      "| epoch   2 |  4500/32580 batches | loss    1.369 \n",
      "money: much, able, addition, kind, return, fact, well, even, given, support\n",
      "lion: sector, settled, introduction, derived, months, deal, rest, jazz, planet, authors\n",
      "africa: america, india, europe, china, england, end, west, asia, united, germany\n",
      "musician: actor, singer, author, nine, actress, th, seven, six, writer, eight\n",
      "dance: music, studies, province, defeat, october, title, european, class, cultural, study\n",
      "\n",
      "\n"
     ]
    },
    {
     "name": "stderr",
     "output_type": "stream",
     "text": [
      "5001it [35:25, 10.09it/s] "
     ]
    },
    {
     "name": "stdout",
     "output_type": "stream",
     "text": [
      "| epoch   2 |  5000/32580 batches | loss    1.364 \n",
      "money: much, able, addition, kind, return, fact, well, it, even, given\n",
      "lion: sector, settled, introduction, derived, months, deal, rest, jazz, planet, authors\n",
      "africa: america, india, europe, china, england, end, west, asia, united, germany\n",
      "musician: actor, singer, author, nine, actress, th, seven, six, writer, eight\n",
      "dance: music, studies, province, defeat, october, title, european, class, cultural, study\n",
      "\n",
      "\n"
     ]
    },
    {
     "name": "stderr",
     "output_type": "stream",
     "text": [
      "5501it [51:15,  9.90it/s] "
     ]
    },
    {
     "name": "stdout",
     "output_type": "stream",
     "text": [
      "| epoch   2 |  5500/32580 batches | loss    1.363 \n",
      "money: much, able, addition, kind, return, fact, well, even, it, given\n",
      "lion: sector, settled, introduction, derived, months, deal, rest, jazz, planet, authors\n",
      "africa: america, india, europe, china, england, end, west, asia, united, germany\n",
      "musician: actor, singer, author, nine, actress, th, seven, six, writer, eight\n",
      "dance: music, studies, province, defeat, october, european, title, class, cultural, study\n",
      "\n",
      "\n"
     ]
    },
    {
     "name": "stderr",
     "output_type": "stream",
     "text": [
      "6002it [1:07:18,  9.99it/s] "
     ]
    },
    {
     "name": "stdout",
     "output_type": "stream",
     "text": [
      "| epoch   2 |  6000/32580 batches | loss    1.364 \n",
      "money: much, able, addition, kind, return, fact, it, well, even, given\n",
      "lion: sector, settled, introduction, derived, months, deal, rest, jazz, planet, authors\n",
      "africa: america, india, europe, china, england, end, west, asia, united, germany\n",
      "musician: actor, singer, author, nine, actress, th, seven, six, writer, eight\n",
      "dance: music, studies, province, defeat, october, european, title, class, cultural, study\n",
      "\n",
      "\n"
     ]
    },
    {
     "name": "stderr",
     "output_type": "stream",
     "text": [
      "6502it [1:08:03,  9.79it/s]"
     ]
    },
    {
     "name": "stdout",
     "output_type": "stream",
     "text": [
      "| epoch   2 |  6500/32580 batches | loss    1.363 \n",
      "money: much, able, addition, kind, return, fact, even, it, well, given\n",
      "lion: sector, settled, introduction, derived, months, deal, rest, jazz, planet, authors\n",
      "africa: america, india, europe, china, england, end, west, asia, united, germany\n",
      "musician: actor, singer, author, nine, actress, th, seven, six, writer, eight\n",
      "dance: music, studies, province, defeat, october, title, european, class, cultural, study\n",
      "\n",
      "\n"
     ]
    },
    {
     "name": "stderr",
     "output_type": "stream",
     "text": [
      "7002it [1:08:48, 10.01it/s]"
     ]
    },
    {
     "name": "stdout",
     "output_type": "stream",
     "text": [
      "| epoch   2 |  7000/32580 batches | loss    1.366 \n",
      "money: much, able, addition, kind, return, fact, even, well, it, given\n",
      "lion: sector, settled, introduction, derived, months, deal, rest, jazz, planet, authors\n",
      "africa: america, india, europe, china, england, end, west, asia, united, germany\n",
      "musician: actor, singer, author, nine, actress, th, seven, six, writer, eight\n",
      "dance: music, studies, province, defeat, october, title, european, class, cultural, study\n",
      "\n",
      "\n"
     ]
    },
    {
     "name": "stderr",
     "output_type": "stream",
     "text": [
      "7502it [1:09:33,  9.81it/s]"
     ]
    },
    {
     "name": "stdout",
     "output_type": "stream",
     "text": [
      "| epoch   2 |  7500/32580 batches | loss    1.359 \n",
      "money: much, able, addition, kind, return, fact, even, it, well, given\n",
      "lion: sector, settled, introduction, derived, months, deal, rest, jazz, planet, authors\n",
      "africa: america, india, europe, china, england, end, west, asia, united, germany\n",
      "musician: actor, singer, author, nine, actress, th, seven, six, writer, eight\n",
      "dance: music, studies, province, defeat, october, title, european, cultural, class, study\n",
      "\n",
      "\n"
     ]
    },
    {
     "name": "stderr",
     "output_type": "stream",
     "text": [
      "8002it [1:14:14,  9.85it/s]"
     ]
    },
    {
     "name": "stdout",
     "output_type": "stream",
     "text": [
      "| epoch   2 |  8000/32580 batches | loss    1.361 \n",
      "money: much, able, addition, kind, return, fact, it, even, well, given\n",
      "lion: sector, settled, introduction, derived, months, deal, rest, jazz, planet, authors\n",
      "africa: america, india, europe, china, england, end, west, asia, united, germany\n",
      "musician: actor, singer, author, nine, actress, th, seven, six, writer, zero\n",
      "dance: music, studies, province, defeat, october, title, european, cultural, class, study\n",
      "\n",
      "\n"
     ]
    },
    {
     "name": "stderr",
     "output_type": "stream",
     "text": [
      "8502it [1:30:18,  9.66it/s] "
     ]
    },
    {
     "name": "stdout",
     "output_type": "stream",
     "text": [
      "| epoch   2 |  8500/32580 batches | loss    1.362 \n",
      "money: much, able, addition, kind, return, fact, it, even, well, support\n",
      "lion: sector, settled, introduction, derived, months, deal, rest, jazz, planet, authors\n",
      "africa: america, india, europe, china, england, end, west, asia, united, germany\n",
      "musician: actor, singer, author, nine, actress, th, seven, six, writer, eight\n",
      "dance: music, studies, province, defeat, october, title, european, cultural, class, study\n",
      "\n",
      "\n"
     ]
    },
    {
     "name": "stderr",
     "output_type": "stream",
     "text": [
      "9001it [1:38:33, 10.18it/s]"
     ]
    },
    {
     "name": "stdout",
     "output_type": "stream",
     "text": [
      "| epoch   2 |  9000/32580 batches | loss    1.360 \n",
      "money: much, able, addition, kind, return, it, fact, even, well, support\n",
      "lion: sector, settled, introduction, derived, months, deal, rest, jazz, planet, authors\n",
      "africa: america, india, europe, china, england, end, west, asia, united, germany\n",
      "musician: actor, singer, author, nine, actress, th, seven, six, writer, eight\n",
      "dance: music, province, studies, defeat, october, title, european, cultural, class, study\n",
      "\n",
      "\n"
     ]
    },
    {
     "name": "stderr",
     "output_type": "stream",
     "text": [
      "9502it [1:55:07,  9.95it/s] "
     ]
    },
    {
     "name": "stdout",
     "output_type": "stream",
     "text": [
      "| epoch   2 |  9500/32580 batches | loss    1.357 \n",
      "money: much, able, addition, kind, return, it, fact, even, well, given\n",
      "lion: sector, settled, introduction, derived, months, deal, rest, jazz, planet, authors\n",
      "africa: america, india, europe, china, england, end, west, asia, united, germany\n",
      "musician: actor, singer, author, nine, actress, th, seven, six, writer, eight\n",
      "dance: music, province, studies, defeat, october, title, european, cultural, class, art\n",
      "\n",
      "\n"
     ]
    },
    {
     "name": "stderr",
     "output_type": "stream",
     "text": [
      "10002it [2:11:25,  9.59it/s]"
     ]
    },
    {
     "name": "stdout",
     "output_type": "stream",
     "text": [
      "| epoch   2 | 10000/32580 batches | loss    1.359 \n",
      "money: much, able, addition, kind, return, it, fact, even, given, well\n",
      "lion: sector, settled, introduction, derived, months, deal, rest, jazz, planet, authors\n",
      "africa: america, india, europe, china, england, end, west, asia, united, germany\n",
      "musician: actor, singer, author, nine, actress, th, seven, six, writer, eight\n",
      "dance: music, province, studies, defeat, october, title, european, cultural, class, art\n",
      "\n",
      "\n"
     ]
    },
    {
     "name": "stderr",
     "output_type": "stream",
     "text": [
      "10501it [2:12:11,  9.22it/s]"
     ]
    },
    {
     "name": "stdout",
     "output_type": "stream",
     "text": [
      "| epoch   2 | 10500/32580 batches | loss    1.358 \n",
      "money: much, able, addition, kind, return, it, fact, even, given, well\n",
      "lion: sector, settled, introduction, derived, months, deal, rest, jazz, planet, authors\n",
      "africa: america, india, europe, china, england, end, west, asia, united, germany\n",
      "musician: actor, singer, author, nine, actress, th, seven, writer, six, eight\n",
      "dance: music, province, studies, defeat, october, title, european, cultural, class, art\n",
      "\n",
      "\n"
     ]
    },
    {
     "name": "stderr",
     "output_type": "stream",
     "text": [
      "11002it [2:28:51,  9.83it/s] "
     ]
    },
    {
     "name": "stdout",
     "output_type": "stream",
     "text": [
      "| epoch   2 | 11000/32580 batches | loss    1.356 \n",
      "money: much, able, addition, kind, return, fact, it, even, well, given\n",
      "lion: sector, settled, introduction, derived, months, deal, rest, jazz, planet, authors\n",
      "africa: america, india, europe, china, england, end, west, asia, united, germany\n",
      "musician: actor, singer, author, nine, actress, th, seven, writer, six, eight\n",
      "dance: music, province, studies, defeat, october, title, european, cultural, class, art\n",
      "\n",
      "\n"
     ]
    },
    {
     "name": "stderr",
     "output_type": "stream",
     "text": [
      "11502it [2:44:40, 10.13it/s] "
     ]
    },
    {
     "name": "stdout",
     "output_type": "stream",
     "text": [
      "| epoch   2 | 11500/32580 batches | loss    1.359 \n",
      "money: much, able, addition, kind, return, it, fact, even, well, given\n",
      "lion: sector, settled, introduction, derived, months, deal, rest, jazz, planet, authors\n",
      "africa: america, india, europe, china, england, end, west, asia, united, germany\n",
      "musician: actor, singer, author, nine, actress, th, seven, writer, six, eight\n",
      "dance: music, province, studies, defeat, october, title, european, cultural, class, art\n",
      "\n",
      "\n"
     ]
    },
    {
     "name": "stderr",
     "output_type": "stream",
     "text": [
      "12002it [2:45:25,  9.94it/s]"
     ]
    },
    {
     "name": "stdout",
     "output_type": "stream",
     "text": [
      "| epoch   2 | 12000/32580 batches | loss    1.353 \n",
      "money: much, able, addition, kind, return, it, fact, even, given, well\n",
      "lion: sector, settled, introduction, derived, months, deal, rest, jazz, planet, authors\n",
      "africa: america, india, europe, china, england, end, west, asia, united, germany\n",
      "musician: actor, singer, author, nine, actress, th, seven, writer, six, eight\n",
      "dance: music, province, studies, defeat, october, title, european, cultural, class, jewish\n",
      "\n",
      "\n"
     ]
    },
    {
     "name": "stderr",
     "output_type": "stream",
     "text": [
      "12502it [2:46:10,  9.77it/s]"
     ]
    },
    {
     "name": "stdout",
     "output_type": "stream",
     "text": [
      "| epoch   2 | 12500/32580 batches | loss    1.360 \n",
      "money: much, able, addition, kind, return, it, fact, even, well, given\n",
      "lion: sector, settled, introduction, derived, months, deal, rest, jazz, planet, authors\n",
      "africa: america, india, europe, china, england, end, west, asia, united, germany\n",
      "musician: actor, singer, author, nine, actress, th, seven, writer, six, eight\n",
      "dance: music, province, studies, defeat, october, title, european, cultural, class, study\n",
      "\n",
      "\n"
     ]
    },
    {
     "name": "stderr",
     "output_type": "stream",
     "text": [
      "13002it [2:46:55,  9.98it/s]"
     ]
    },
    {
     "name": "stdout",
     "output_type": "stream",
     "text": [
      "| epoch   2 | 13000/32580 batches | loss    1.356 \n",
      "money: much, able, addition, kind, return, it, fact, even, given, well\n",
      "lion: sector, settled, introduction, derived, months, deal, rest, jazz, planet, authors\n",
      "africa: america, india, europe, china, england, end, west, asia, united, germany\n",
      "musician: actor, singer, author, nine, actress, th, seven, writer, six, eight\n",
      "dance: music, province, studies, defeat, october, title, european, cultural, class, jewish\n",
      "\n",
      "\n"
     ]
    },
    {
     "name": "stderr",
     "output_type": "stream",
     "text": [
      "13501it [3:02:51, 10.07it/s] "
     ]
    },
    {
     "name": "stdout",
     "output_type": "stream",
     "text": [
      "| epoch   2 | 13500/32580 batches | loss    1.358 \n",
      "money: much, able, addition, kind, return, it, fact, even, given, well\n",
      "lion: sector, settled, introduction, derived, months, deal, rest, jazz, planet, authors\n",
      "africa: america, india, europe, china, england, end, asia, west, germany, united\n",
      "musician: actor, singer, author, nine, actress, th, seven, writer, six, zero\n",
      "dance: music, province, studies, defeat, october, title, european, cultural, jewish, class\n",
      "\n",
      "\n"
     ]
    },
    {
     "name": "stderr",
     "output_type": "stream",
     "text": [
      "14001it [3:18:36, 10.19it/s] "
     ]
    },
    {
     "name": "stdout",
     "output_type": "stream",
     "text": [
      "| epoch   2 | 14000/32580 batches | loss    1.356 \n",
      "money: much, able, addition, kind, return, it, fact, even, well, given\n",
      "lion: sector, settled, introduction, derived, months, deal, rest, jazz, planet, authors\n",
      "africa: america, india, europe, china, england, end, asia, west, germany, united\n",
      "musician: actor, singer, author, nine, actress, th, seven, writer, six, eight\n",
      "dance: music, province, studies, defeat, october, title, european, cultural, class, study\n",
      "\n",
      "\n"
     ]
    },
    {
     "name": "stderr",
     "output_type": "stream",
     "text": [
      "14501it [3:37:09,  9.89it/s] "
     ]
    },
    {
     "name": "stdout",
     "output_type": "stream",
     "text": [
      "| epoch   2 | 14500/32580 batches | loss    1.356 \n",
      "money: much, able, addition, kind, return, it, fact, even, given, well\n",
      "lion: sector, settled, introduction, derived, months, deal, rest, jazz, planet, authors\n",
      "africa: america, india, europe, china, england, end, asia, west, germany, united\n",
      "musician: actor, singer, author, nine, actress, th, seven, writer, six, eight\n",
      "dance: music, province, studies, october, defeat, title, european, cultural, class, study\n",
      "\n",
      "\n"
     ]
    },
    {
     "name": "stderr",
     "output_type": "stream",
     "text": [
      "15002it [3:54:28,  9.81it/s] "
     ]
    },
    {
     "name": "stdout",
     "output_type": "stream",
     "text": [
      "| epoch   2 | 15000/32580 batches | loss    1.351 \n",
      "money: much, able, addition, return, kind, it, fact, even, given, well\n",
      "lion: sector, settled, introduction, derived, months, deal, rest, jazz, planet, authors\n",
      "africa: america, india, europe, china, england, end, asia, west, united, germany\n",
      "musician: actor, singer, author, nine, actress, th, seven, writer, six, eight\n",
      "dance: music, province, studies, october, defeat, title, european, cultural, class, jewish\n",
      "\n",
      "\n"
     ]
    },
    {
     "name": "stderr",
     "output_type": "stream",
     "text": [
      "15502it [3:55:13,  9.84it/s]"
     ]
    },
    {
     "name": "stdout",
     "output_type": "stream",
     "text": [
      "| epoch   2 | 15500/32580 batches | loss    1.358 \n",
      "money: much, able, addition, kind, return, it, fact, even, given, support\n",
      "lion: sector, settled, introduction, derived, months, deal, rest, jazz, planet, authors\n",
      "africa: america, india, europe, china, england, end, asia, west, united, germany\n",
      "musician: actor, singer, author, nine, actress, th, seven, writer, six, eight\n",
      "dance: music, province, studies, october, defeat, title, european, cultural, class, jewish\n",
      "\n",
      "\n"
     ]
    },
    {
     "name": "stderr",
     "output_type": "stream",
     "text": [
      "16002it [3:55:57,  9.94it/s]"
     ]
    },
    {
     "name": "stdout",
     "output_type": "stream",
     "text": [
      "| epoch   2 | 16000/32580 batches | loss    1.353 \n",
      "money: much, able, addition, kind, return, it, fact, even, support, well\n",
      "lion: sector, settled, introduction, derived, months, deal, rest, jazz, planet, authors\n",
      "africa: america, india, europe, china, england, end, asia, west, united, germany\n",
      "musician: actor, singer, author, nine, actress, th, writer, seven, six, eight\n",
      "dance: music, province, studies, october, defeat, title, european, cultural, class, jewish\n",
      "\n",
      "\n"
     ]
    },
    {
     "name": "stderr",
     "output_type": "stream",
     "text": [
      "16501it [4:14:26, 10.06it/s] "
     ]
    },
    {
     "name": "stdout",
     "output_type": "stream",
     "text": [
      "| epoch   2 | 16500/32580 batches | loss    1.355 \n",
      "money: much, able, addition, kind, return, it, fact, even, support, given\n",
      "lion: sector, settled, introduction, derived, months, deal, rest, jazz, planet, authors\n",
      "africa: america, india, europe, china, england, asia, end, west, united, germany\n",
      "musician: actor, singer, author, nine, actress, th, writer, seven, six, eight\n",
      "dance: music, province, studies, october, defeat, title, european, cultural, class, jewish\n",
      "\n",
      "\n"
     ]
    },
    {
     "name": "stderr",
     "output_type": "stream",
     "text": [
      "17002it [4:30:17,  9.92it/s] "
     ]
    },
    {
     "name": "stdout",
     "output_type": "stream",
     "text": [
      "| epoch   2 | 17000/32580 batches | loss    1.353 \n",
      "money: much, able, addition, kind, return, it, fact, even, support, given\n",
      "lion: sector, settled, introduction, derived, months, deal, rest, jazz, planet, authors\n",
      "africa: america, india, europe, china, england, asia, end, west, united, germany\n",
      "musician: actor, singer, author, nine, actress, th, writer, seven, six, eight\n",
      "dance: music, province, studies, october, defeat, title, european, cultural, class, jewish\n",
      "\n",
      "\n"
     ]
    },
    {
     "name": "stderr",
     "output_type": "stream",
     "text": [
      "17502it [4:31:02,  9.80it/s]"
     ]
    },
    {
     "name": "stdout",
     "output_type": "stream",
     "text": [
      "| epoch   2 | 17500/32580 batches | loss    1.348 \n",
      "money: much, able, kind, addition, return, it, fact, even, support, given\n",
      "lion: sector, settled, introduction, derived, months, deal, rest, jazz, planet, authors\n",
      "africa: america, india, europe, china, england, asia, end, west, united, germany\n",
      "musician: actor, singer, author, nine, actress, th, writer, seven, six, eight\n",
      "dance: music, province, studies, october, defeat, title, european, cultural, class, art\n",
      "\n",
      "\n"
     ]
    },
    {
     "name": "stderr",
     "output_type": "stream",
     "text": [
      "18002it [4:31:47,  9.73it/s]"
     ]
    },
    {
     "name": "stdout",
     "output_type": "stream",
     "text": [
      "| epoch   2 | 18000/32580 batches | loss    1.351 \n",
      "money: much, able, addition, kind, return, it, fact, even, given, support\n",
      "lion: sector, settled, introduction, derived, months, deal, rest, jazz, planet, authors\n",
      "africa: america, india, europe, china, england, asia, end, west, united, germany\n",
      "musician: actor, singer, author, actress, nine, th, writer, seven, six, eight\n",
      "dance: music, province, studies, october, defeat, title, european, cultural, art, jewish\n",
      "\n",
      "\n"
     ]
    },
    {
     "name": "stderr",
     "output_type": "stream",
     "text": [
      "18502it [4:32:32,  9.92it/s]"
     ]
    },
    {
     "name": "stdout",
     "output_type": "stream",
     "text": [
      "| epoch   2 | 18500/32580 batches | loss    1.349 \n",
      "money: much, able, addition, kind, return, it, fact, even, support, given\n",
      "lion: sector, settled, introduction, derived, months, deal, rest, jazz, planet, authors\n",
      "africa: america, india, europe, china, england, asia, end, west, united, germany\n",
      "musician: actor, singer, author, actress, nine, th, writer, seven, six, eight\n",
      "dance: music, province, studies, october, defeat, title, european, cultural, art, jewish\n",
      "\n",
      "\n"
     ]
    },
    {
     "name": "stderr",
     "output_type": "stream",
     "text": [
      "19002it [4:49:48,  9.57it/s] "
     ]
    },
    {
     "name": "stdout",
     "output_type": "stream",
     "text": [
      "| epoch   2 | 19000/32580 batches | loss    1.349 \n",
      "money: much, able, kind, addition, return, it, fact, even, support, given\n",
      "lion: sector, settled, introduction, derived, months, deal, rest, jazz, planet, authors\n",
      "africa: america, india, europe, china, england, asia, end, west, united, germany\n",
      "musician: actor, singer, author, actress, nine, th, writer, seven, eight, six\n",
      "dance: music, studies, province, october, defeat, title, european, cultural, art, class\n",
      "\n",
      "\n"
     ]
    },
    {
     "name": "stderr",
     "output_type": "stream",
     "text": [
      "19502it [5:05:51,  9.84it/s] "
     ]
    },
    {
     "name": "stdout",
     "output_type": "stream",
     "text": [
      "| epoch   2 | 19500/32580 batches | loss    1.352 \n",
      "money: much, able, kind, addition, return, it, fact, even, given, support\n",
      "lion: sector, settled, introduction, derived, months, deal, rest, jazz, planet, authors\n",
      "africa: america, india, europe, china, england, asia, end, west, united, germany\n",
      "musician: actor, singer, author, actress, nine, th, writer, seven, eight, six\n",
      "dance: music, studies, province, october, defeat, title, european, cultural, art, class\n",
      "\n",
      "\n"
     ]
    },
    {
     "name": "stderr",
     "output_type": "stream",
     "text": [
      "20001it [5:22:20, 10.11it/s] "
     ]
    },
    {
     "name": "stdout",
     "output_type": "stream",
     "text": [
      "| epoch   2 | 20000/32580 batches | loss    1.353 \n",
      "money: much, able, kind, addition, return, it, fact, even, given, support\n",
      "lion: sector, settled, introduction, derived, months, deal, rest, jazz, planet, authors\n",
      "africa: america, india, europe, china, england, asia, end, west, united, germany\n",
      "musician: actor, singer, author, actress, nine, th, writer, seven, eight, six\n",
      "dance: music, province, studies, october, defeat, title, european, cultural, art, class\n",
      "\n",
      "\n"
     ]
    },
    {
     "name": "stderr",
     "output_type": "stream",
     "text": [
      "20501it [5:26:12, 10.09it/s]"
     ]
    },
    {
     "name": "stdout",
     "output_type": "stream",
     "text": [
      "| epoch   2 | 20500/32580 batches | loss    1.353 \n",
      "money: much, able, it, kind, addition, return, fact, even, given, support\n",
      "lion: sector, settled, introduction, derived, months, deal, rest, jazz, planet, authors\n",
      "africa: america, india, europe, china, england, asia, end, west, united, germany\n",
      "musician: actor, singer, author, actress, nine, th, writer, seven, eight, six\n",
      "dance: music, province, studies, october, defeat, title, european, cultural, art, class\n",
      "\n",
      "\n"
     ]
    },
    {
     "name": "stderr",
     "output_type": "stream",
     "text": [
      "21001it [5:28:00, 10.18it/s]"
     ]
    },
    {
     "name": "stdout",
     "output_type": "stream",
     "text": [
      "| epoch   2 | 21000/32580 batches | loss    1.346 \n",
      "money: much, able, kind, addition, return, it, fact, even, given, support\n",
      "lion: sector, settled, introduction, derived, months, deal, rest, jazz, planet, authors\n",
      "africa: america, india, europe, china, england, asia, end, west, united, germany\n",
      "musician: actor, singer, author, actress, nine, th, writer, seven, eight, six\n",
      "dance: music, province, studies, october, defeat, title, european, cultural, art, class\n",
      "\n",
      "\n"
     ]
    },
    {
     "name": "stderr",
     "output_type": "stream",
     "text": [
      "21502it [5:44:18,  9.64it/s] "
     ]
    },
    {
     "name": "stdout",
     "output_type": "stream",
     "text": [
      "| epoch   2 | 21500/32580 batches | loss    1.345 \n",
      "money: much, able, kind, addition, it, return, fact, even, given, well\n",
      "lion: sector, settled, introduction, derived, months, deal, rest, jazz, planet, authors\n",
      "africa: america, india, europe, china, england, asia, end, west, united, germany\n",
      "musician: actor, singer, author, actress, nine, th, writer, seven, eight, six\n",
      "dance: music, province, studies, october, defeat, title, european, cultural, art, rock\n",
      "\n",
      "\n"
     ]
    },
    {
     "name": "stderr",
     "output_type": "stream",
     "text": [
      "22001it [5:45:02, 10.11it/s]"
     ]
    },
    {
     "name": "stdout",
     "output_type": "stream",
     "text": [
      "| epoch   2 | 22000/32580 batches | loss    1.351 \n",
      "money: much, able, it, addition, kind, return, fact, even, given, well\n",
      "lion: sector, settled, introduction, derived, months, deal, rest, jazz, planet, authors\n",
      "africa: america, india, europe, china, england, asia, end, west, germany, united\n",
      "musician: actor, singer, author, actress, nine, th, writer, seven, eight, six\n",
      "dance: music, province, studies, october, defeat, title, european, cultural, art, jewish\n",
      "\n",
      "\n"
     ]
    },
    {
     "name": "stderr",
     "output_type": "stream",
     "text": [
      "22501it [5:57:10, 10.04it/s] "
     ]
    },
    {
     "name": "stdout",
     "output_type": "stream",
     "text": [
      "| epoch   2 | 22500/32580 batches | loss    1.349 \n",
      "money: much, able, addition, it, kind, return, fact, even, given, support\n",
      "lion: sector, settled, introduction, derived, months, deal, rest, jazz, planet, authors\n",
      "africa: america, india, europe, china, england, asia, end, west, germany, united\n",
      "musician: actor, singer, author, actress, nine, th, writer, seven, eight, six\n",
      "dance: music, province, studies, october, defeat, title, european, cultural, art, rock\n",
      "\n",
      "\n"
     ]
    },
    {
     "name": "stderr",
     "output_type": "stream",
     "text": [
      "23001it [6:00:26, 10.00it/s]"
     ]
    },
    {
     "name": "stdout",
     "output_type": "stream",
     "text": [
      "| epoch   2 | 23000/32580 batches | loss    1.347 \n",
      "money: much, able, addition, kind, return, it, fact, even, given, support\n",
      "lion: sector, settled, introduction, derived, months, deal, rest, jazz, planet, authors\n",
      "africa: america, india, europe, china, england, asia, end, west, germany, united\n",
      "musician: actor, singer, author, actress, nine, th, writer, seven, eight, six\n",
      "dance: music, province, studies, october, defeat, title, european, cultural, art, rock\n",
      "\n",
      "\n"
     ]
    },
    {
     "name": "stderr",
     "output_type": "stream",
     "text": [
      "23501it [6:16:34, 10.17it/s] "
     ]
    },
    {
     "name": "stdout",
     "output_type": "stream",
     "text": [
      "| epoch   2 | 23500/32580 batches | loss    1.346 \n",
      "money: much, able, addition, kind, return, it, fact, even, given, support\n",
      "lion: sector, settled, introduction, derived, months, deal, rest, jazz, planet, authors\n",
      "africa: america, india, europe, china, england, asia, west, end, germany, united\n",
      "musician: actor, singer, author, actress, nine, th, writer, seven, six, eight\n",
      "dance: music, province, studies, october, defeat, title, european, cultural, art, rock\n",
      "\n",
      "\n"
     ]
    },
    {
     "name": "stderr",
     "output_type": "stream",
     "text": [
      "24001it [6:17:18, 10.08it/s]"
     ]
    },
    {
     "name": "stdout",
     "output_type": "stream",
     "text": [
      "| epoch   2 | 24000/32580 batches | loss    1.343 \n",
      "money: much, able, kind, addition, return, it, fact, even, support, given\n",
      "lion: sector, settled, introduction, derived, months, deal, rest, jazz, planet, authors\n",
      "africa: america, india, europe, china, england, asia, west, end, germany, united\n",
      "musician: actor, singer, author, actress, nine, th, writer, seven, six, eight\n",
      "dance: music, province, studies, october, defeat, title, european, cultural, art, rock\n",
      "\n",
      "\n"
     ]
    },
    {
     "name": "stderr",
     "output_type": "stream",
     "text": [
      "24501it [6:18:04, 10.11it/s]"
     ]
    },
    {
     "name": "stdout",
     "output_type": "stream",
     "text": [
      "| epoch   2 | 24500/32580 batches | loss    1.346 \n",
      "money: much, able, kind, addition, return, it, fact, even, given, support\n",
      "lion: sector, settled, introduction, derived, months, deal, rest, jazz, planet, authors\n",
      "africa: america, india, europe, china, england, asia, end, west, germany, united\n",
      "musician: actor, singer, author, actress, nine, th, writer, seven, six, eight\n",
      "dance: music, province, studies, october, title, defeat, european, cultural, art, rock\n",
      "\n",
      "\n"
     ]
    },
    {
     "name": "stderr",
     "output_type": "stream",
     "text": [
      "25001it [6:18:49, 10.05it/s]"
     ]
    },
    {
     "name": "stdout",
     "output_type": "stream",
     "text": [
      "| epoch   2 | 25000/32580 batches | loss    1.349 \n",
      "money: much, able, kind, addition, return, it, fact, even, given, support\n",
      "lion: sector, settled, introduction, derived, months, deal, rest, jazz, planet, authors\n",
      "africa: america, india, europe, china, england, asia, end, west, united, germany\n",
      "musician: actor, singer, author, actress, nine, th, writer, seven, six, eight\n",
      "dance: music, province, studies, october, title, defeat, european, cultural, art, rock\n",
      "\n",
      "\n"
     ]
    },
    {
     "name": "stderr",
     "output_type": "stream",
     "text": [
      "25501it [6:31:51, 10.01it/s] "
     ]
    },
    {
     "name": "stdout",
     "output_type": "stream",
     "text": [
      "| epoch   2 | 25500/32580 batches | loss    1.342 \n",
      "money: much, able, kind, addition, return, it, fact, even, support, given\n",
      "lion: sector, settled, introduction, derived, months, deal, rest, jazz, planet, authors\n",
      "africa: america, india, europe, china, england, asia, west, end, germany, united\n",
      "musician: singer, actor, author, actress, nine, th, writer, six, seven, eight\n",
      "dance: music, province, studies, october, title, defeat, european, cultural, rock, art\n",
      "\n",
      "\n"
     ]
    },
    {
     "name": "stderr",
     "output_type": "stream",
     "text": [
      "26001it [6:32:37,  9.31it/s]"
     ]
    },
    {
     "name": "stdout",
     "output_type": "stream",
     "text": [
      "| epoch   2 | 26000/32580 batches | loss    1.345 \n",
      "money: much, able, kind, addition, return, it, fact, even, given, support\n",
      "lion: sector, settled, introduction, derived, months, deal, rest, jazz, planet, authors\n",
      "africa: america, india, europe, china, england, asia, end, west, germany, united\n",
      "musician: singer, actor, author, actress, nine, th, writer, seven, six, eight\n",
      "dance: music, province, studies, october, title, defeat, european, cultural, rock, art\n",
      "\n",
      "\n"
     ]
    },
    {
     "name": "stderr",
     "output_type": "stream",
     "text": [
      "26502it [6:33:23,  9.47it/s]"
     ]
    },
    {
     "name": "stdout",
     "output_type": "stream",
     "text": [
      "| epoch   2 | 26500/32580 batches | loss    1.349 \n",
      "money: much, able, kind, addition, return, fact, it, even, given, support\n",
      "lion: sector, settled, introduction, derived, months, deal, rest, jazz, planet, authors\n",
      "africa: america, india, europe, china, england, asia, west, end, germany, united\n",
      "musician: singer, actor, author, actress, nine, th, writer, seven, six, eight\n",
      "dance: music, province, studies, october, title, defeat, european, cultural, rock, art\n",
      "\n",
      "\n"
     ]
    },
    {
     "name": "stderr",
     "output_type": "stream",
     "text": [
      "27001it [6:34:09, 10.04it/s]"
     ]
    },
    {
     "name": "stdout",
     "output_type": "stream",
     "text": [
      "| epoch   2 | 27000/32580 batches | loss    1.346 \n",
      "money: much, able, kind, addition, return, it, fact, even, given, support\n",
      "lion: sector, settled, introduction, derived, months, deal, rest, jazz, planet, authors\n",
      "africa: america, india, europe, china, england, asia, west, end, germany, united\n",
      "musician: singer, actor, author, actress, nine, th, writer, seven, six, eight\n",
      "dance: music, province, studies, october, title, defeat, european, cultural, rock, art\n",
      "\n",
      "\n"
     ]
    },
    {
     "name": "stderr",
     "output_type": "stream",
     "text": [
      "27502it [6:34:55,  9.41it/s]"
     ]
    },
    {
     "name": "stdout",
     "output_type": "stream",
     "text": [
      "| epoch   2 | 27500/32580 batches | loss    1.348 \n",
      "money: much, able, kind, addition, return, it, fact, even, given, support\n",
      "lion: sector, settled, introduction, derived, months, deal, rest, jazz, planet, authors\n",
      "africa: america, india, europe, china, england, asia, west, end, germany, united\n",
      "musician: singer, actor, author, actress, nine, th, writer, seven, eight, six\n",
      "dance: music, province, studies, october, title, defeat, european, cultural, rock, art\n",
      "\n",
      "\n"
     ]
    },
    {
     "name": "stderr",
     "output_type": "stream",
     "text": [
      "28001it [6:35:41,  9.94it/s]"
     ]
    },
    {
     "name": "stdout",
     "output_type": "stream",
     "text": [
      "| epoch   2 | 28000/32580 batches | loss    1.343 \n",
      "money: much, able, kind, return, addition, it, fact, even, support, given\n",
      "lion: sector, settled, introduction, derived, months, deal, rest, jazz, planet, authors\n",
      "africa: america, india, europe, china, england, asia, west, end, germany, united\n",
      "musician: singer, actor, author, actress, nine, th, writer, seven, eight, six\n",
      "dance: music, province, studies, october, title, defeat, european, cultural, rock, art\n",
      "\n",
      "\n"
     ]
    },
    {
     "name": "stderr",
     "output_type": "stream",
     "text": [
      "28501it [6:36:27,  9.79it/s]"
     ]
    },
    {
     "name": "stdout",
     "output_type": "stream",
     "text": [
      "| epoch   2 | 28500/32580 batches | loss    1.342 \n",
      "money: much, able, kind, return, addition, it, fact, even, support, given\n",
      "lion: sector, settled, introduction, derived, months, deal, rest, jazz, planet, authors\n",
      "africa: america, india, europe, china, england, asia, west, end, germany, united\n",
      "musician: singer, actor, author, actress, nine, th, writer, seven, eight, six\n",
      "dance: music, province, studies, october, title, defeat, european, cultural, rock, art\n",
      "\n",
      "\n"
     ]
    },
    {
     "name": "stderr",
     "output_type": "stream",
     "text": [
      "29001it [6:37:13,  9.92it/s]"
     ]
    },
    {
     "name": "stdout",
     "output_type": "stream",
     "text": [
      "| epoch   2 | 29000/32580 batches | loss    1.348 \n",
      "money: much, able, kind, return, addition, it, fact, even, support, given\n",
      "lion: sector, settled, introduction, derived, months, deal, rest, jazz, planet, authors\n",
      "africa: america, india, europe, china, england, asia, west, end, united, france\n",
      "musician: singer, actor, author, actress, nine, th, writer, seven, eight, six\n",
      "dance: music, province, studies, october, title, defeat, european, cultural, rock, art\n",
      "\n",
      "\n"
     ]
    },
    {
     "name": "stderr",
     "output_type": "stream",
     "text": [
      "29502it [6:37:59,  9.88it/s]"
     ]
    },
    {
     "name": "stdout",
     "output_type": "stream",
     "text": [
      "| epoch   2 | 29500/32580 batches | loss    1.342 \n",
      "money: much, able, kind, return, addition, it, fact, even, support, given\n",
      "lion: sector, settled, introduction, derived, months, deal, rest, jazz, planet, authors\n",
      "africa: america, india, europe, china, england, asia, west, end, ireland, france\n",
      "musician: singer, actor, author, actress, nine, th, writer, seven, eight, six\n",
      "dance: music, province, studies, october, title, defeat, european, cultural, rock, art\n",
      "\n",
      "\n"
     ]
    },
    {
     "name": "stderr",
     "output_type": "stream",
     "text": [
      "30002it [6:38:45,  9.67it/s]"
     ]
    },
    {
     "name": "stdout",
     "output_type": "stream",
     "text": [
      "| epoch   2 | 30000/32580 batches | loss    1.343 \n",
      "money: much, able, kind, return, addition, it, fact, even, support, given\n",
      "lion: sector, settled, introduction, derived, months, deal, rest, jazz, planet, authors\n",
      "africa: america, india, europe, china, england, asia, west, end, germany, ireland\n",
      "musician: singer, actor, author, actress, nine, th, writer, seven, eight, six\n",
      "dance: music, province, october, studies, title, defeat, european, cultural, rock, art\n",
      "\n",
      "\n"
     ]
    },
    {
     "name": "stderr",
     "output_type": "stream",
     "text": [
      "30502it [6:39:31,  9.93it/s]"
     ]
    },
    {
     "name": "stdout",
     "output_type": "stream",
     "text": [
      "| epoch   2 | 30500/32580 batches | loss    1.337 \n",
      "money: much, able, kind, return, addition, it, fact, even, support, given\n",
      "lion: sector, settled, introduction, derived, months, deal, rest, jazz, planet, authors\n",
      "africa: america, india, europe, china, england, asia, west, end, ireland, united\n",
      "musician: singer, actor, author, actress, nine, th, writer, seven, eight, six\n",
      "dance: music, province, october, studies, title, defeat, european, cultural, rock, art\n",
      "\n",
      "\n"
     ]
    },
    {
     "name": "stderr",
     "output_type": "stream",
     "text": [
      "31002it [6:40:16,  9.74it/s]"
     ]
    },
    {
     "name": "stdout",
     "output_type": "stream",
     "text": [
      "| epoch   2 | 31000/32580 batches | loss    1.342 \n",
      "money: much, able, kind, return, addition, it, fact, even, support, given\n",
      "lion: sector, settled, introduction, derived, months, deal, rest, jazz, planet, authors\n",
      "africa: america, india, europe, china, england, asia, west, end, ireland, united\n",
      "musician: singer, actor, author, actress, nine, th, writer, seven, six, eight\n",
      "dance: music, province, october, studies, title, defeat, european, cultural, rock, art\n",
      "\n",
      "\n"
     ]
    },
    {
     "name": "stderr",
     "output_type": "stream",
     "text": [
      "31502it [6:41:01,  9.73it/s]"
     ]
    },
    {
     "name": "stdout",
     "output_type": "stream",
     "text": [
      "| epoch   2 | 31500/32580 batches | loss    1.342 \n",
      "money: much, able, kind, return, addition, it, fact, even, support, given\n",
      "lion: sector, settled, introduction, derived, months, deal, rest, jazz, planet, authors\n",
      "africa: america, india, europe, china, england, asia, west, end, ireland, france\n",
      "musician: singer, actor, author, actress, nine, th, writer, seven, six, eight\n",
      "dance: music, province, october, studies, title, defeat, european, cultural, rock, art\n",
      "\n",
      "\n"
     ]
    },
    {
     "name": "stderr",
     "output_type": "stream",
     "text": [
      "32002it [6:41:47,  9.69it/s]"
     ]
    },
    {
     "name": "stdout",
     "output_type": "stream",
     "text": [
      "| epoch   2 | 32000/32580 batches | loss    1.341 \n",
      "money: much, able, kind, return, it, addition, fact, even, support, given\n",
      "lion: sector, settled, introduction, derived, months, deal, rest, jazz, planet, authors\n",
      "africa: america, india, europe, china, england, asia, west, end, ireland, france\n",
      "musician: singer, actor, author, actress, nine, th, writer, seven, six, eight\n",
      "dance: music, province, october, studies, title, defeat, european, cultural, rock, art\n",
      "\n",
      "\n"
     ]
    },
    {
     "name": "stderr",
     "output_type": "stream",
     "text": [
      "32502it [6:42:33,  9.91it/s]"
     ]
    },
    {
     "name": "stdout",
     "output_type": "stream",
     "text": [
      "| epoch   2 | 32500/32580 batches | loss    1.343 \n",
      "money: much, able, kind, return, it, addition, fact, even, support, well\n",
      "lion: sector, settled, introduction, derived, months, deal, rest, jazz, planet, authors\n",
      "africa: america, india, europe, china, england, asia, west, end, ireland, united\n",
      "musician: singer, actor, author, actress, nine, writer, th, seven, six, eight\n",
      "dance: music, province, october, studies, title, defeat, european, cultural, rock, art\n",
      "\n",
      "\n"
     ]
    },
    {
     "name": "stderr",
     "output_type": "stream",
     "text": [
      "32580it [6:42:40,  1.35it/s]\n",
      "1it [00:00,  1.85it/s]"
     ]
    },
    {
     "name": "stdout",
     "output_type": "stream",
     "text": [
      "| epoch   3 |     0/32580 batches | loss    1.262 \n",
      "money: much, able, kind, return, it, addition, fact, even, support, well\n",
      "lion: sector, settled, introduction, derived, months, deal, rest, jazz, planet, authors\n",
      "africa: america, india, europe, china, england, asia, west, end, ireland, united\n",
      "musician: singer, actor, author, actress, nine, writer, th, seven, six, eight\n",
      "dance: music, province, october, studies, title, defeat, european, cultural, rock, art\n",
      "\n",
      "\n"
     ]
    },
    {
     "name": "stderr",
     "output_type": "stream",
     "text": [
      "501it [00:46,  9.97it/s]"
     ]
    },
    {
     "name": "stdout",
     "output_type": "stream",
     "text": [
      "| epoch   3 |   500/32580 batches | loss    1.338 \n",
      "money: much, able, kind, return, it, addition, fact, even, support, well\n",
      "lion: sector, settled, introduction, derived, months, deal, rest, jazz, planet, authors\n",
      "africa: america, india, europe, china, england, asia, west, end, ireland, united\n",
      "musician: singer, actor, author, actress, nine, writer, th, seven, six, eight\n",
      "dance: music, province, october, studies, title, defeat, european, cultural, rock, art\n",
      "\n",
      "\n"
     ]
    },
    {
     "name": "stderr",
     "output_type": "stream",
     "text": [
      "1002it [01:31,  9.90it/s]"
     ]
    },
    {
     "name": "stdout",
     "output_type": "stream",
     "text": [
      "| epoch   3 |  1000/32580 batches | loss    1.336 \n",
      "money: much, able, kind, return, it, addition, fact, even, support, well\n",
      "lion: sector, settled, introduction, derived, months, deal, rest, jazz, planet, authors\n",
      "africa: america, india, europe, china, england, asia, west, end, ireland, united\n",
      "musician: singer, actor, author, actress, nine, writer, th, seven, six, eight\n",
      "dance: music, province, october, studies, title, defeat, european, cultural, rock, art\n",
      "\n",
      "\n"
     ]
    },
    {
     "name": "stderr",
     "output_type": "stream",
     "text": [
      "1502it [02:17,  9.78it/s]"
     ]
    },
    {
     "name": "stdout",
     "output_type": "stream",
     "text": [
      "| epoch   3 |  1500/32580 batches | loss    1.340 \n",
      "money: much, able, kind, return, it, addition, fact, even, support, well\n",
      "lion: sector, settled, introduction, derived, months, deal, rest, jazz, planet, authors\n",
      "africa: america, india, europe, china, england, asia, west, end, ireland, united\n",
      "musician: singer, actor, author, actress, nine, writer, th, seven, six, eight\n",
      "dance: music, province, october, studies, title, defeat, european, cultural, rock, art\n",
      "\n",
      "\n"
     ]
    },
    {
     "name": "stderr",
     "output_type": "stream",
     "text": [
      "2002it [03:03,  9.82it/s]"
     ]
    },
    {
     "name": "stdout",
     "output_type": "stream",
     "text": [
      "| epoch   3 |  2000/32580 batches | loss    1.337 \n",
      "money: much, able, kind, return, it, addition, fact, even, support, well\n",
      "lion: sector, settled, introduction, derived, months, deal, rest, jazz, planet, authors\n",
      "africa: america, india, europe, china, england, asia, west, end, ireland, united\n",
      "musician: singer, actor, author, actress, nine, writer, th, seven, six, eight\n",
      "dance: music, province, october, studies, title, defeat, european, cultural, rock, art\n",
      "\n",
      "\n"
     ]
    },
    {
     "name": "stderr",
     "output_type": "stream",
     "text": [
      "2502it [03:49,  9.86it/s]"
     ]
    },
    {
     "name": "stdout",
     "output_type": "stream",
     "text": [
      "| epoch   3 |  2500/32580 batches | loss    1.332 \n",
      "money: much, able, kind, return, it, addition, fact, even, support, well\n",
      "lion: sector, settled, introduction, derived, months, deal, rest, jazz, planet, authors\n",
      "africa: america, india, europe, china, england, asia, west, end, ireland, united\n",
      "musician: singer, actor, author, actress, nine, writer, th, seven, six, eight\n",
      "dance: music, province, october, studies, title, defeat, european, cultural, rock, art\n",
      "\n",
      "\n"
     ]
    },
    {
     "name": "stderr",
     "output_type": "stream",
     "text": [
      "3002it [04:35,  9.56it/s]"
     ]
    },
    {
     "name": "stdout",
     "output_type": "stream",
     "text": [
      "| epoch   3 |  3000/32580 batches | loss    1.329 \n",
      "money: much, able, kind, return, it, addition, fact, even, support, well\n",
      "lion: sector, settled, introduction, derived, months, deal, rest, jazz, planet, authors\n",
      "africa: america, india, europe, china, england, asia, west, end, ireland, united\n",
      "musician: singer, actor, author, actress, nine, writer, th, seven, six, eight\n",
      "dance: music, province, october, studies, title, defeat, european, cultural, rock, art\n",
      "\n",
      "\n"
     ]
    },
    {
     "name": "stderr",
     "output_type": "stream",
     "text": [
      "3501it [05:20,  9.82it/s]"
     ]
    },
    {
     "name": "stdout",
     "output_type": "stream",
     "text": [
      "| epoch   3 |  3500/32580 batches | loss    1.331 \n",
      "money: much, able, kind, return, it, addition, fact, even, support, well\n",
      "lion: sector, settled, introduction, derived, months, deal, rest, jazz, planet, authors\n",
      "africa: america, india, europe, china, england, asia, west, end, ireland, united\n",
      "musician: singer, actor, author, actress, nine, writer, th, seven, six, eight\n",
      "dance: music, province, october, studies, title, defeat, european, cultural, rock, art\n",
      "\n",
      "\n"
     ]
    },
    {
     "name": "stderr",
     "output_type": "stream",
     "text": [
      "4001it [06:06,  9.90it/s]"
     ]
    },
    {
     "name": "stdout",
     "output_type": "stream",
     "text": [
      "| epoch   3 |  4000/32580 batches | loss    1.337 \n",
      "money: much, able, kind, return, it, addition, fact, even, support, well\n",
      "lion: sector, settled, introduction, derived, months, deal, rest, jazz, planet, authors\n",
      "africa: america, india, europe, china, england, asia, west, end, ireland, united\n",
      "musician: singer, actor, author, actress, nine, writer, th, seven, six, eight\n",
      "dance: music, province, october, studies, title, defeat, european, cultural, rock, art\n",
      "\n",
      "\n"
     ]
    },
    {
     "name": "stderr",
     "output_type": "stream",
     "text": [
      "4501it [06:52,  9.90it/s]"
     ]
    },
    {
     "name": "stdout",
     "output_type": "stream",
     "text": [
      "| epoch   3 |  4500/32580 batches | loss    1.332 \n",
      "money: much, able, kind, return, it, addition, fact, even, support, well\n",
      "lion: sector, settled, introduction, derived, months, deal, rest, jazz, planet, authors\n",
      "africa: america, india, europe, china, england, asia, west, end, ireland, united\n",
      "musician: singer, actor, author, actress, nine, writer, th, seven, six, eight\n",
      "dance: music, province, october, studies, title, defeat, european, cultural, rock, art\n",
      "\n",
      "\n"
     ]
    },
    {
     "name": "stderr",
     "output_type": "stream",
     "text": [
      "5002it [07:38,  9.83it/s]"
     ]
    },
    {
     "name": "stdout",
     "output_type": "stream",
     "text": [
      "| epoch   3 |  5000/32580 batches | loss    1.335 \n",
      "money: much, able, kind, return, it, addition, fact, even, support, well\n",
      "lion: sector, settled, introduction, derived, months, deal, rest, jazz, planet, authors\n",
      "africa: america, india, europe, china, england, asia, west, end, ireland, united\n",
      "musician: singer, actor, author, actress, nine, writer, th, seven, six, eight\n",
      "dance: music, province, october, studies, title, defeat, european, cultural, rock, art\n",
      "\n",
      "\n"
     ]
    },
    {
     "name": "stderr",
     "output_type": "stream",
     "text": [
      "5502it [08:24,  9.73it/s]"
     ]
    },
    {
     "name": "stdout",
     "output_type": "stream",
     "text": [
      "| epoch   3 |  5500/32580 batches | loss    1.334 \n",
      "money: much, able, kind, return, it, addition, fact, even, support, well\n",
      "lion: sector, settled, introduction, derived, months, deal, rest, jazz, planet, authors\n",
      "africa: america, india, europe, china, england, asia, west, end, ireland, united\n",
      "musician: singer, actor, author, actress, nine, writer, th, seven, six, eight\n",
      "dance: music, province, october, studies, title, defeat, european, cultural, rock, art\n",
      "\n",
      "\n"
     ]
    },
    {
     "name": "stderr",
     "output_type": "stream",
     "text": [
      "6002it [09:10,  9.72it/s]"
     ]
    },
    {
     "name": "stdout",
     "output_type": "stream",
     "text": [
      "| epoch   3 |  6000/32580 batches | loss    1.332 \n",
      "money: much, able, kind, return, it, addition, fact, even, support, well\n",
      "lion: sector, settled, introduction, derived, months, deal, rest, jazz, planet, authors\n",
      "africa: america, india, europe, china, england, asia, west, end, ireland, united\n",
      "musician: singer, actor, author, actress, nine, writer, th, seven, six, eight\n",
      "dance: music, province, october, studies, title, defeat, european, cultural, rock, art\n",
      "\n",
      "\n"
     ]
    },
    {
     "name": "stderr",
     "output_type": "stream",
     "text": [
      "6501it [09:55,  9.90it/s]"
     ]
    },
    {
     "name": "stdout",
     "output_type": "stream",
     "text": [
      "| epoch   3 |  6500/32580 batches | loss    1.335 \n",
      "money: much, able, kind, return, it, addition, fact, even, support, well\n",
      "lion: sector, settled, introduction, derived, months, deal, rest, jazz, planet, authors\n",
      "africa: america, india, europe, china, england, asia, west, end, ireland, united\n",
      "musician: singer, actor, author, actress, nine, writer, th, seven, six, eight\n",
      "dance: music, province, october, studies, title, defeat, european, cultural, rock, art\n",
      "\n",
      "\n"
     ]
    },
    {
     "name": "stderr",
     "output_type": "stream",
     "text": [
      "7002it [10:41,  9.66it/s]"
     ]
    },
    {
     "name": "stdout",
     "output_type": "stream",
     "text": [
      "| epoch   3 |  7000/32580 batches | loss    1.334 \n",
      "money: much, able, kind, return, it, addition, fact, even, support, well\n",
      "lion: sector, settled, introduction, derived, months, deal, rest, jazz, planet, authors\n",
      "africa: america, india, europe, china, england, asia, west, end, ireland, united\n",
      "musician: singer, actor, author, actress, nine, writer, th, seven, six, eight\n",
      "dance: music, province, october, studies, title, defeat, european, cultural, rock, art\n",
      "\n",
      "\n"
     ]
    },
    {
     "name": "stderr",
     "output_type": "stream",
     "text": [
      "7502it [11:27,  9.77it/s]"
     ]
    },
    {
     "name": "stdout",
     "output_type": "stream",
     "text": [
      "| epoch   3 |  7500/32580 batches | loss    1.330 \n",
      "money: much, able, kind, return, it, addition, fact, even, support, well\n",
      "lion: sector, settled, introduction, derived, months, deal, rest, jazz, planet, authors\n",
      "africa: america, india, europe, china, england, asia, west, end, ireland, united\n",
      "musician: singer, actor, author, actress, nine, writer, th, seven, six, eight\n",
      "dance: music, province, october, studies, title, defeat, european, cultural, rock, art\n",
      "\n",
      "\n"
     ]
    },
    {
     "name": "stderr",
     "output_type": "stream",
     "text": [
      "8002it [12:13,  9.79it/s]"
     ]
    },
    {
     "name": "stdout",
     "output_type": "stream",
     "text": [
      "| epoch   3 |  8000/32580 batches | loss    1.334 \n",
      "money: much, able, kind, return, it, addition, fact, even, support, well\n",
      "lion: sector, settled, introduction, derived, months, deal, rest, jazz, planet, authors\n",
      "africa: america, india, europe, china, england, asia, west, end, ireland, united\n",
      "musician: singer, actor, author, actress, nine, writer, th, seven, six, eight\n",
      "dance: music, province, october, studies, title, defeat, european, cultural, rock, art\n",
      "\n",
      "\n"
     ]
    },
    {
     "name": "stderr",
     "output_type": "stream",
     "text": [
      "8502it [12:59,  9.63it/s]"
     ]
    },
    {
     "name": "stdout",
     "output_type": "stream",
     "text": [
      "| epoch   3 |  8500/32580 batches | loss    1.335 \n",
      "money: much, able, kind, return, it, addition, fact, even, support, well\n",
      "lion: sector, settled, introduction, derived, months, deal, rest, jazz, planet, authors\n",
      "africa: america, india, europe, china, england, asia, west, end, ireland, united\n",
      "musician: singer, actor, author, actress, nine, writer, th, seven, six, eight\n",
      "dance: music, province, october, studies, title, defeat, european, cultural, rock, art\n",
      "\n",
      "\n"
     ]
    },
    {
     "name": "stderr",
     "output_type": "stream",
     "text": [
      "9002it [13:44, 10.04it/s]"
     ]
    },
    {
     "name": "stdout",
     "output_type": "stream",
     "text": [
      "| epoch   3 |  9000/32580 batches | loss    1.335 \n",
      "money: much, able, kind, return, it, addition, fact, even, support, well\n",
      "lion: sector, settled, introduction, derived, months, deal, rest, jazz, planet, authors\n",
      "africa: america, india, europe, china, england, asia, west, end, ireland, united\n",
      "musician: singer, actor, author, actress, nine, writer, th, seven, six, eight\n",
      "dance: music, province, october, studies, title, defeat, european, cultural, rock, art\n",
      "\n",
      "\n"
     ]
    },
    {
     "name": "stderr",
     "output_type": "stream",
     "text": [
      "9502it [14:30,  9.74it/s]"
     ]
    },
    {
     "name": "stdout",
     "output_type": "stream",
     "text": [
      "| epoch   3 |  9500/32580 batches | loss    1.331 \n",
      "money: much, able, kind, return, it, addition, fact, even, support, well\n",
      "lion: sector, settled, introduction, derived, months, deal, rest, jazz, planet, authors\n",
      "africa: america, india, europe, china, england, asia, west, end, ireland, united\n",
      "musician: singer, actor, author, actress, nine, writer, th, seven, six, eight\n",
      "dance: music, province, october, studies, title, defeat, european, cultural, rock, art\n",
      "\n",
      "\n"
     ]
    },
    {
     "name": "stderr",
     "output_type": "stream",
     "text": [
      "10002it [15:16,  9.94it/s]"
     ]
    },
    {
     "name": "stdout",
     "output_type": "stream",
     "text": [
      "| epoch   3 | 10000/32580 batches | loss    1.332 \n",
      "money: much, able, kind, return, it, addition, fact, even, support, well\n",
      "lion: sector, settled, introduction, derived, months, deal, rest, jazz, planet, authors\n",
      "africa: america, india, europe, china, england, asia, west, end, ireland, united\n",
      "musician: singer, actor, author, actress, nine, writer, th, seven, six, eight\n",
      "dance: music, province, october, studies, title, defeat, european, cultural, rock, art\n",
      "\n",
      "\n"
     ]
    },
    {
     "name": "stderr",
     "output_type": "stream",
     "text": [
      "10502it [16:01,  9.63it/s]"
     ]
    },
    {
     "name": "stdout",
     "output_type": "stream",
     "text": [
      "| epoch   3 | 10500/32580 batches | loss    1.328 \n",
      "money: much, able, kind, return, it, addition, fact, even, support, well\n",
      "lion: sector, settled, introduction, derived, months, deal, rest, jazz, planet, authors\n",
      "africa: america, india, europe, china, england, asia, west, end, ireland, united\n",
      "musician: singer, actor, author, actress, nine, writer, th, seven, six, eight\n",
      "dance: music, province, october, studies, title, defeat, european, cultural, rock, art\n",
      "\n",
      "\n"
     ]
    },
    {
     "name": "stderr",
     "output_type": "stream",
     "text": [
      "11002it [16:47,  9.71it/s]"
     ]
    },
    {
     "name": "stdout",
     "output_type": "stream",
     "text": [
      "| epoch   3 | 11000/32580 batches | loss    1.331 \n",
      "money: much, able, kind, return, it, addition, fact, even, support, well\n",
      "lion: sector, settled, introduction, derived, months, deal, rest, jazz, planet, authors\n",
      "africa: america, india, europe, china, england, asia, west, end, ireland, united\n",
      "musician: singer, actor, author, actress, nine, writer, th, seven, six, eight\n",
      "dance: music, province, october, studies, title, defeat, european, cultural, rock, art\n",
      "\n",
      "\n"
     ]
    },
    {
     "name": "stderr",
     "output_type": "stream",
     "text": [
      "11502it [17:33,  9.85it/s]"
     ]
    },
    {
     "name": "stdout",
     "output_type": "stream",
     "text": [
      "| epoch   3 | 11500/32580 batches | loss    1.334 \n",
      "money: much, able, kind, return, it, addition, fact, even, support, well\n",
      "lion: sector, settled, introduction, derived, months, deal, rest, jazz, planet, authors\n",
      "africa: america, india, europe, china, england, asia, west, end, ireland, united\n",
      "musician: singer, actor, author, actress, nine, writer, th, seven, six, eight\n",
      "dance: music, province, october, studies, title, defeat, european, cultural, rock, art\n",
      "\n",
      "\n"
     ]
    },
    {
     "name": "stderr",
     "output_type": "stream",
     "text": [
      "12002it [18:19,  9.61it/s]"
     ]
    },
    {
     "name": "stdout",
     "output_type": "stream",
     "text": [
      "| epoch   3 | 12000/32580 batches | loss    1.333 \n",
      "money: much, able, kind, return, it, addition, fact, even, support, well\n",
      "lion: sector, settled, introduction, derived, months, deal, rest, jazz, planet, authors\n",
      "africa: america, india, europe, china, england, asia, west, end, ireland, united\n",
      "musician: singer, actor, author, actress, nine, writer, th, seven, six, eight\n",
      "dance: music, province, october, studies, title, defeat, european, cultural, rock, art\n",
      "\n",
      "\n"
     ]
    },
    {
     "name": "stderr",
     "output_type": "stream",
     "text": [
      "12502it [19:05,  9.56it/s]"
     ]
    },
    {
     "name": "stdout",
     "output_type": "stream",
     "text": [
      "| epoch   3 | 12500/32580 batches | loss    1.331 \n",
      "money: much, able, kind, return, it, addition, fact, even, support, well\n",
      "lion: sector, settled, introduction, derived, months, deal, rest, jazz, planet, authors\n",
      "africa: america, india, europe, china, england, asia, west, end, ireland, united\n",
      "musician: singer, actor, author, actress, nine, writer, th, seven, six, eight\n",
      "dance: music, province, october, studies, title, defeat, european, cultural, rock, art\n",
      "\n",
      "\n"
     ]
    },
    {
     "name": "stderr",
     "output_type": "stream",
     "text": [
      "13001it [19:51, 10.06it/s]"
     ]
    },
    {
     "name": "stdout",
     "output_type": "stream",
     "text": [
      "| epoch   3 | 13000/32580 batches | loss    1.332 \n",
      "money: much, able, kind, return, it, addition, fact, even, support, well\n",
      "lion: sector, settled, introduction, derived, months, deal, rest, jazz, planet, authors\n",
      "africa: america, india, europe, china, england, asia, west, end, ireland, united\n",
      "musician: singer, actor, author, actress, nine, writer, th, seven, six, eight\n",
      "dance: music, province, october, studies, title, defeat, european, cultural, rock, art\n",
      "\n",
      "\n"
     ]
    },
    {
     "name": "stderr",
     "output_type": "stream",
     "text": [
      "13501it [20:38,  9.79it/s]"
     ]
    },
    {
     "name": "stdout",
     "output_type": "stream",
     "text": [
      "| epoch   3 | 13500/32580 batches | loss    1.333 \n",
      "money: much, able, kind, return, it, addition, fact, even, support, well\n",
      "lion: sector, settled, introduction, derived, months, deal, rest, jazz, planet, authors\n",
      "africa: america, india, europe, china, england, asia, west, end, ireland, united\n",
      "musician: singer, actor, author, actress, nine, writer, th, seven, six, eight\n",
      "dance: music, province, october, studies, title, defeat, european, cultural, rock, art\n",
      "\n",
      "\n"
     ]
    },
    {
     "name": "stderr",
     "output_type": "stream",
     "text": [
      "14002it [21:24,  9.77it/s]"
     ]
    },
    {
     "name": "stdout",
     "output_type": "stream",
     "text": [
      "| epoch   3 | 14000/32580 batches | loss    1.331 \n",
      "money: much, able, kind, return, it, addition, fact, even, support, well\n",
      "lion: sector, settled, introduction, derived, months, deal, rest, jazz, planet, authors\n",
      "africa: america, india, europe, china, england, asia, west, end, ireland, united\n",
      "musician: singer, actor, author, actress, nine, writer, th, seven, six, eight\n",
      "dance: music, province, october, studies, title, defeat, european, cultural, rock, art\n",
      "\n",
      "\n"
     ]
    },
    {
     "name": "stderr",
     "output_type": "stream",
     "text": [
      "14502it [22:09,  9.79it/s]"
     ]
    },
    {
     "name": "stdout",
     "output_type": "stream",
     "text": [
      "| epoch   3 | 14500/32580 batches | loss    1.329 \n",
      "money: much, able, kind, return, it, addition, fact, even, support, well\n",
      "lion: sector, settled, introduction, derived, months, deal, rest, jazz, planet, authors\n",
      "africa: america, india, europe, china, england, asia, west, end, ireland, united\n",
      "musician: singer, actor, author, actress, nine, writer, th, seven, six, eight\n",
      "dance: music, province, october, studies, title, defeat, european, cultural, rock, art\n",
      "\n",
      "\n"
     ]
    },
    {
     "name": "stderr",
     "output_type": "stream",
     "text": [
      "15002it [22:55,  9.59it/s]"
     ]
    },
    {
     "name": "stdout",
     "output_type": "stream",
     "text": [
      "| epoch   3 | 15000/32580 batches | loss    1.337 \n",
      "money: much, able, kind, return, it, addition, fact, even, support, well\n",
      "lion: sector, settled, introduction, derived, months, deal, rest, jazz, planet, authors\n",
      "africa: america, india, europe, china, england, asia, west, end, ireland, france\n",
      "musician: singer, actor, author, actress, nine, writer, th, seven, six, eight\n",
      "dance: music, province, october, studies, title, defeat, european, cultural, rock, art\n",
      "\n",
      "\n"
     ]
    },
    {
     "name": "stderr",
     "output_type": "stream",
     "text": [
      "15501it [23:41, 10.00it/s]"
     ]
    },
    {
     "name": "stdout",
     "output_type": "stream",
     "text": [
      "| epoch   3 | 15500/32580 batches | loss    1.334 \n",
      "money: much, able, kind, return, it, addition, fact, even, support, well\n",
      "lion: sector, settled, introduction, derived, months, deal, rest, jazz, planet, authors\n",
      "africa: america, india, europe, china, england, asia, west, end, ireland, france\n",
      "musician: singer, actor, author, actress, nine, writer, th, seven, six, eight\n",
      "dance: music, province, october, studies, title, defeat, european, cultural, rock, art\n",
      "\n",
      "\n"
     ]
    },
    {
     "name": "stderr",
     "output_type": "stream",
     "text": [
      "16002it [24:27,  9.77it/s]"
     ]
    },
    {
     "name": "stdout",
     "output_type": "stream",
     "text": [
      "| epoch   3 | 16000/32580 batches | loss    1.338 \n",
      "money: much, able, kind, return, it, addition, fact, even, support, well\n",
      "lion: sector, settled, introduction, derived, months, deal, rest, jazz, planet, authors\n",
      "africa: america, india, europe, china, england, asia, west, end, ireland, france\n",
      "musician: singer, actor, author, actress, nine, writer, th, seven, six, eight\n",
      "dance: music, province, october, studies, title, defeat, european, cultural, rock, art\n",
      "\n",
      "\n"
     ]
    },
    {
     "name": "stderr",
     "output_type": "stream",
     "text": [
      "16502it [25:11,  9.78it/s]"
     ]
    },
    {
     "name": "stdout",
     "output_type": "stream",
     "text": [
      "| epoch   3 | 16500/32580 batches | loss    1.331 \n",
      "money: much, able, kind, return, it, addition, fact, even, support, well\n",
      "lion: sector, settled, introduction, derived, months, deal, rest, jazz, planet, authors\n",
      "africa: america, india, europe, china, england, asia, west, end, ireland, france\n",
      "musician: singer, actor, author, actress, nine, writer, th, seven, six, eight\n",
      "dance: music, province, october, studies, title, defeat, european, cultural, rock, art\n",
      "\n",
      "\n"
     ]
    },
    {
     "name": "stderr",
     "output_type": "stream",
     "text": [
      "17002it [25:55,  9.66it/s]"
     ]
    },
    {
     "name": "stdout",
     "output_type": "stream",
     "text": [
      "| epoch   3 | 17000/32580 batches | loss    1.333 \n",
      "money: much, able, kind, return, it, addition, fact, even, support, well\n",
      "lion: sector, settled, introduction, derived, months, deal, rest, jazz, planet, authors\n",
      "africa: america, india, europe, china, england, asia, west, end, ireland, france\n",
      "musician: singer, actor, author, actress, nine, writer, th, seven, six, eight\n",
      "dance: music, province, october, studies, title, defeat, european, cultural, rock, art\n",
      "\n",
      "\n"
     ]
    },
    {
     "name": "stderr",
     "output_type": "stream",
     "text": [
      "17502it [26:40,  9.97it/s]"
     ]
    },
    {
     "name": "stdout",
     "output_type": "stream",
     "text": [
      "| epoch   3 | 17500/32580 batches | loss    1.335 \n",
      "money: much, able, kind, return, it, addition, fact, even, support, well\n",
      "lion: sector, settled, introduction, derived, months, deal, rest, jazz, planet, authors\n",
      "africa: america, india, europe, china, england, asia, west, end, ireland, france\n",
      "musician: singer, actor, author, actress, nine, writer, th, seven, six, eight\n",
      "dance: music, province, october, studies, title, defeat, european, cultural, rock, art\n",
      "\n",
      "\n"
     ]
    },
    {
     "name": "stderr",
     "output_type": "stream",
     "text": [
      "18002it [27:25,  9.70it/s]"
     ]
    },
    {
     "name": "stdout",
     "output_type": "stream",
     "text": [
      "| epoch   3 | 18000/32580 batches | loss    1.333 \n",
      "money: much, able, kind, return, it, addition, fact, even, support, well\n",
      "lion: sector, settled, introduction, derived, months, deal, rest, jazz, planet, authors\n",
      "africa: america, india, europe, china, england, asia, west, end, ireland, france\n",
      "musician: singer, actor, author, actress, nine, writer, th, seven, six, eight\n",
      "dance: music, province, october, studies, title, defeat, european, cultural, rock, art\n",
      "\n",
      "\n"
     ]
    },
    {
     "name": "stderr",
     "output_type": "stream",
     "text": [
      "18502it [28:11,  9.45it/s]"
     ]
    },
    {
     "name": "stdout",
     "output_type": "stream",
     "text": [
      "| epoch   3 | 18500/32580 batches | loss    1.333 \n",
      "money: much, able, kind, return, it, addition, fact, even, support, well\n",
      "lion: sector, settled, introduction, derived, months, deal, rest, jazz, planet, authors\n",
      "africa: america, india, europe, china, england, asia, west, end, ireland, france\n",
      "musician: singer, actor, author, actress, nine, writer, th, seven, six, eight\n",
      "dance: music, province, october, studies, title, defeat, european, cultural, rock, art\n",
      "\n",
      "\n"
     ]
    },
    {
     "name": "stderr",
     "output_type": "stream",
     "text": [
      "19002it [28:57,  9.58it/s]"
     ]
    },
    {
     "name": "stdout",
     "output_type": "stream",
     "text": [
      "| epoch   3 | 19000/32580 batches | loss    1.334 \n",
      "money: much, able, kind, return, it, addition, fact, even, support, well\n",
      "lion: sector, settled, introduction, derived, months, deal, rest, jazz, planet, authors\n",
      "africa: america, india, europe, china, england, asia, west, end, ireland, france\n",
      "musician: singer, actor, author, actress, nine, writer, th, seven, six, eight\n",
      "dance: music, province, october, studies, title, defeat, european, cultural, rock, art\n",
      "\n",
      "\n"
     ]
    },
    {
     "name": "stderr",
     "output_type": "stream",
     "text": [
      "19501it [29:43,  9.94it/s]"
     ]
    },
    {
     "name": "stdout",
     "output_type": "stream",
     "text": [
      "| epoch   3 | 19500/32580 batches | loss    1.335 \n",
      "money: much, able, kind, return, it, addition, fact, even, support, well\n",
      "lion: sector, settled, introduction, derived, months, deal, rest, jazz, planet, authors\n",
      "africa: america, india, europe, china, england, asia, west, end, ireland, france\n",
      "musician: singer, actor, author, actress, nine, writer, th, seven, six, eight\n",
      "dance: music, october, province, studies, title, defeat, european, cultural, rock, art\n",
      "\n",
      "\n"
     ]
    },
    {
     "name": "stderr",
     "output_type": "stream",
     "text": [
      "20001it [30:29,  9.90it/s]"
     ]
    },
    {
     "name": "stdout",
     "output_type": "stream",
     "text": [
      "| epoch   3 | 20000/32580 batches | loss    1.333 \n",
      "money: much, able, kind, return, it, addition, fact, even, support, well\n",
      "lion: sector, settled, introduction, derived, months, deal, rest, jazz, planet, authors\n",
      "africa: america, india, europe, china, england, asia, west, end, ireland, france\n",
      "musician: singer, actor, author, actress, nine, writer, th, seven, six, eight\n",
      "dance: music, october, province, studies, title, defeat, european, cultural, rock, art\n",
      "\n",
      "\n"
     ]
    },
    {
     "name": "stderr",
     "output_type": "stream",
     "text": [
      "20502it [31:14,  9.73it/s]"
     ]
    },
    {
     "name": "stdout",
     "output_type": "stream",
     "text": [
      "| epoch   3 | 20500/32580 batches | loss    1.329 \n",
      "money: much, able, kind, return, it, addition, fact, even, support, well\n",
      "lion: sector, settled, introduction, derived, months, deal, rest, jazz, planet, authors\n",
      "africa: america, india, europe, china, england, asia, west, end, ireland, france\n",
      "musician: singer, actor, author, actress, nine, writer, th, seven, six, eight\n",
      "dance: music, october, province, studies, title, defeat, european, cultural, rock, art\n",
      "\n",
      "\n"
     ]
    },
    {
     "name": "stderr",
     "output_type": "stream",
     "text": [
      "21001it [32:00,  9.87it/s]"
     ]
    },
    {
     "name": "stdout",
     "output_type": "stream",
     "text": [
      "| epoch   3 | 21000/32580 batches | loss    1.333 \n",
      "money: much, able, kind, return, it, addition, fact, even, support, well\n",
      "lion: sector, settled, introduction, derived, months, deal, rest, jazz, planet, authors\n",
      "africa: america, india, europe, china, england, asia, west, end, ireland, france\n",
      "musician: singer, actor, author, actress, nine, writer, th, seven, six, eight\n",
      "dance: music, october, province, studies, title, defeat, european, cultural, rock, art\n",
      "\n",
      "\n"
     ]
    },
    {
     "name": "stderr",
     "output_type": "stream",
     "text": [
      "21502it [32:46,  9.92it/s]"
     ]
    },
    {
     "name": "stdout",
     "output_type": "stream",
     "text": [
      "| epoch   3 | 21500/32580 batches | loss    1.333 \n",
      "money: much, able, kind, return, it, addition, fact, even, support, well\n",
      "lion: sector, settled, introduction, derived, months, deal, rest, jazz, planet, authors\n",
      "africa: america, india, europe, china, england, asia, west, end, ireland, france\n",
      "musician: singer, actor, author, actress, nine, writer, th, seven, eight, six\n",
      "dance: music, october, province, studies, title, defeat, european, cultural, rock, art\n",
      "\n",
      "\n"
     ]
    },
    {
     "name": "stderr",
     "output_type": "stream",
     "text": [
      "22002it [33:32,  9.70it/s]"
     ]
    },
    {
     "name": "stdout",
     "output_type": "stream",
     "text": [
      "| epoch   3 | 22000/32580 batches | loss    1.333 \n",
      "money: much, able, kind, return, it, addition, fact, even, support, well\n",
      "lion: sector, settled, introduction, derived, months, deal, rest, jazz, planet, authors\n",
      "africa: america, india, europe, china, england, asia, west, end, ireland, france\n",
      "musician: singer, actor, author, actress, nine, writer, th, seven, eight, six\n",
      "dance: music, october, province, studies, title, defeat, european, cultural, rock, art\n",
      "\n",
      "\n"
     ]
    },
    {
     "name": "stderr",
     "output_type": "stream",
     "text": [
      "22501it [34:17, 10.00it/s]"
     ]
    },
    {
     "name": "stdout",
     "output_type": "stream",
     "text": [
      "| epoch   3 | 22500/32580 batches | loss    1.329 \n",
      "money: much, able, kind, return, it, addition, fact, even, support, well\n",
      "lion: sector, settled, introduction, derived, months, deal, rest, jazz, planet, authors\n",
      "africa: america, india, europe, china, england, asia, west, end, ireland, france\n",
      "musician: singer, actor, author, actress, nine, writer, th, seven, eight, six\n",
      "dance: music, october, province, studies, title, defeat, european, cultural, rock, art\n",
      "\n",
      "\n"
     ]
    },
    {
     "name": "stderr",
     "output_type": "stream",
     "text": [
      "23001it [35:03,  9.96it/s]"
     ]
    },
    {
     "name": "stdout",
     "output_type": "stream",
     "text": [
      "| epoch   3 | 23000/32580 batches | loss    1.332 \n",
      "money: much, able, kind, return, it, addition, fact, even, support, well\n",
      "lion: sector, settled, introduction, derived, months, deal, rest, jazz, planet, authors\n",
      "africa: america, india, europe, china, england, asia, west, end, ireland, france\n",
      "musician: singer, actor, author, actress, nine, writer, th, seven, eight, six\n",
      "dance: music, october, province, studies, title, defeat, european, cultural, rock, art\n",
      "\n",
      "\n"
     ]
    },
    {
     "name": "stderr",
     "output_type": "stream",
     "text": [
      "23502it [35:49,  9.51it/s]"
     ]
    },
    {
     "name": "stdout",
     "output_type": "stream",
     "text": [
      "| epoch   3 | 23500/32580 batches | loss    1.331 \n",
      "money: much, able, kind, return, it, addition, fact, even, support, well\n",
      "lion: sector, settled, introduction, derived, months, deal, rest, jazz, planet, authors\n",
      "africa: america, india, europe, china, england, asia, west, end, ireland, france\n",
      "musician: singer, actor, author, actress, nine, writer, th, seven, eight, six\n",
      "dance: music, october, province, studies, title, defeat, european, cultural, rock, art\n",
      "\n",
      "\n"
     ]
    },
    {
     "name": "stderr",
     "output_type": "stream",
     "text": [
      "24001it [36:34,  9.80it/s]"
     ]
    },
    {
     "name": "stdout",
     "output_type": "stream",
     "text": [
      "| epoch   3 | 24000/32580 batches | loss    1.335 \n",
      "money: much, able, kind, return, it, addition, fact, even, support, well\n",
      "lion: sector, settled, introduction, derived, months, deal, rest, jazz, planet, authors\n",
      "africa: america, india, europe, china, england, asia, west, end, ireland, france\n",
      "musician: singer, actor, author, actress, nine, writer, th, seven, eight, six\n",
      "dance: music, october, province, studies, title, defeat, european, cultural, rock, art\n",
      "\n",
      "\n"
     ]
    },
    {
     "name": "stderr",
     "output_type": "stream",
     "text": [
      "24502it [37:21,  9.68it/s]"
     ]
    },
    {
     "name": "stdout",
     "output_type": "stream",
     "text": [
      "| epoch   3 | 24500/32580 batches | loss    1.334 \n",
      "money: much, able, kind, return, it, addition, even, fact, support, well\n",
      "lion: sector, settled, introduction, derived, months, deal, rest, jazz, planet, authors\n",
      "africa: america, india, europe, china, england, asia, west, end, ireland, france\n",
      "musician: singer, actor, author, actress, nine, writer, th, seven, eight, six\n",
      "dance: music, october, province, studies, title, defeat, european, cultural, rock, art\n",
      "\n",
      "\n"
     ]
    },
    {
     "name": "stderr",
     "output_type": "stream",
     "text": [
      "25002it [38:06,  9.63it/s]"
     ]
    },
    {
     "name": "stdout",
     "output_type": "stream",
     "text": [
      "| epoch   3 | 25000/32580 batches | loss    1.332 \n",
      "money: much, able, kind, return, it, addition, fact, even, support, well\n",
      "lion: sector, settled, introduction, derived, months, deal, rest, jazz, planet, authors\n",
      "africa: america, india, europe, china, england, asia, west, end, ireland, france\n",
      "musician: singer, actor, author, actress, nine, writer, th, seven, eight, six\n",
      "dance: music, october, province, studies, title, defeat, european, cultural, rock, art\n",
      "\n",
      "\n"
     ]
    },
    {
     "name": "stderr",
     "output_type": "stream",
     "text": [
      "25502it [38:52,  9.64it/s]"
     ]
    },
    {
     "name": "stdout",
     "output_type": "stream",
     "text": [
      "| epoch   3 | 25500/32580 batches | loss    1.330 \n",
      "money: much, able, kind, return, it, addition, even, fact, support, well\n",
      "lion: sector, settled, introduction, derived, months, deal, rest, jazz, planet, authors\n",
      "africa: america, india, europe, china, england, asia, west, end, ireland, france\n",
      "musician: singer, actor, author, actress, nine, writer, th, seven, eight, six\n",
      "dance: music, october, province, studies, title, defeat, european, cultural, rock, art\n",
      "\n",
      "\n"
     ]
    },
    {
     "name": "stderr",
     "output_type": "stream",
     "text": [
      "26002it [39:38,  9.57it/s]"
     ]
    },
    {
     "name": "stdout",
     "output_type": "stream",
     "text": [
      "| epoch   3 | 26000/32580 batches | loss    1.332 \n",
      "money: much, able, kind, return, it, addition, even, fact, support, well\n",
      "lion: sector, settled, introduction, derived, months, deal, rest, jazz, planet, authors\n",
      "africa: america, india, europe, china, england, asia, west, end, ireland, france\n",
      "musician: singer, actor, author, actress, nine, writer, th, seven, eight, six\n",
      "dance: music, october, province, studies, title, defeat, european, cultural, rock, art\n",
      "\n",
      "\n"
     ]
    },
    {
     "name": "stderr",
     "output_type": "stream",
     "text": [
      "26502it [40:24,  9.61it/s]"
     ]
    },
    {
     "name": "stdout",
     "output_type": "stream",
     "text": [
      "| epoch   3 | 26500/32580 batches | loss    1.329 \n",
      "money: much, able, kind, return, it, addition, even, fact, support, well\n",
      "lion: sector, settled, introduction, derived, months, deal, rest, jazz, planet, authors\n",
      "africa: america, india, europe, china, england, asia, west, end, ireland, france\n",
      "musician: singer, actor, author, actress, nine, writer, th, seven, eight, six\n",
      "dance: music, october, province, studies, title, defeat, european, cultural, rock, art\n",
      "\n",
      "\n"
     ]
    },
    {
     "name": "stderr",
     "output_type": "stream",
     "text": [
      "27002it [41:10,  9.68it/s]"
     ]
    },
    {
     "name": "stdout",
     "output_type": "stream",
     "text": [
      "| epoch   3 | 27000/32580 batches | loss    1.330 \n",
      "money: much, able, kind, return, it, addition, fact, even, support, well\n",
      "lion: sector, settled, introduction, derived, months, deal, rest, jazz, planet, authors\n",
      "africa: america, india, europe, china, england, asia, west, end, ireland, france\n",
      "musician: singer, actor, author, actress, nine, writer, th, seven, eight, six\n",
      "dance: music, october, province, studies, title, defeat, european, cultural, rock, art\n",
      "\n",
      "\n"
     ]
    },
    {
     "name": "stderr",
     "output_type": "stream",
     "text": [
      "27501it [41:56,  9.97it/s]"
     ]
    },
    {
     "name": "stdout",
     "output_type": "stream",
     "text": [
      "| epoch   3 | 27500/32580 batches | loss    1.330 \n",
      "money: much, able, kind, return, it, addition, fact, even, support, well\n",
      "lion: sector, settled, introduction, derived, months, deal, rest, jazz, planet, authors\n",
      "africa: america, india, europe, china, england, asia, west, end, ireland, france\n",
      "musician: singer, actor, author, actress, nine, writer, th, seven, eight, six\n",
      "dance: music, october, province, studies, title, defeat, european, cultural, rock, art\n",
      "\n",
      "\n"
     ]
    },
    {
     "name": "stderr",
     "output_type": "stream",
     "text": [
      "28002it [42:42,  9.50it/s]"
     ]
    },
    {
     "name": "stdout",
     "output_type": "stream",
     "text": [
      "| epoch   3 | 28000/32580 batches | loss    1.333 \n",
      "money: much, able, kind, return, it, addition, fact, even, support, well\n",
      "lion: sector, settled, introduction, derived, months, deal, rest, jazz, planet, authors\n",
      "africa: america, india, europe, china, england, asia, west, end, ireland, france\n",
      "musician: singer, actor, author, actress, nine, writer, th, seven, eight, six\n",
      "dance: music, october, province, studies, title, defeat, european, cultural, rock, art\n",
      "\n",
      "\n"
     ]
    },
    {
     "name": "stderr",
     "output_type": "stream",
     "text": [
      "28501it [43:27, 10.01it/s]"
     ]
    },
    {
     "name": "stdout",
     "output_type": "stream",
     "text": [
      "| epoch   3 | 28500/32580 batches | loss    1.331 \n",
      "money: much, able, kind, return, it, addition, fact, even, support, well\n",
      "lion: sector, settled, introduction, derived, months, deal, rest, jazz, planet, authors\n",
      "africa: america, india, europe, china, england, asia, west, end, ireland, france\n",
      "musician: singer, actor, author, actress, nine, writer, th, seven, eight, six\n",
      "dance: music, october, province, studies, title, defeat, european, cultural, rock, art\n",
      "\n",
      "\n"
     ]
    },
    {
     "name": "stderr",
     "output_type": "stream",
     "text": [
      "29002it [44:13,  9.59it/s]"
     ]
    },
    {
     "name": "stdout",
     "output_type": "stream",
     "text": [
      "| epoch   3 | 29000/32580 batches | loss    1.332 \n",
      "money: much, able, kind, return, it, addition, fact, even, support, well\n",
      "lion: sector, settled, introduction, derived, months, deal, rest, jazz, planet, authors\n",
      "africa: america, india, europe, china, england, asia, west, end, ireland, france\n",
      "musician: singer, actor, author, actress, nine, writer, th, seven, eight, six\n",
      "dance: music, october, province, studies, title, defeat, european, cultural, rock, art\n",
      "\n",
      "\n"
     ]
    },
    {
     "name": "stderr",
     "output_type": "stream",
     "text": [
      "29502it [44:58,  9.61it/s]"
     ]
    },
    {
     "name": "stdout",
     "output_type": "stream",
     "text": [
      "| epoch   3 | 29500/32580 batches | loss    1.333 \n",
      "money: much, able, kind, return, it, addition, even, fact, support, well\n",
      "lion: sector, settled, introduction, derived, months, deal, rest, jazz, planet, authors\n",
      "africa: america, india, europe, china, england, asia, west, end, ireland, france\n",
      "musician: singer, actor, author, actress, nine, writer, th, seven, eight, six\n",
      "dance: music, october, province, studies, title, defeat, european, cultural, rock, art\n",
      "\n",
      "\n"
     ]
    },
    {
     "name": "stderr",
     "output_type": "stream",
     "text": [
      "30002it [45:44,  9.72it/s]"
     ]
    },
    {
     "name": "stdout",
     "output_type": "stream",
     "text": [
      "| epoch   3 | 30000/32580 batches | loss    1.333 \n",
      "money: much, able, kind, return, it, addition, even, fact, support, well\n",
      "lion: sector, settled, introduction, derived, months, deal, rest, jazz, planet, authors\n",
      "africa: america, india, europe, china, england, asia, west, end, ireland, france\n",
      "musician: singer, actor, author, actress, nine, writer, th, seven, eight, six\n",
      "dance: music, october, province, studies, title, defeat, european, cultural, rock, art\n",
      "\n",
      "\n"
     ]
    },
    {
     "name": "stderr",
     "output_type": "stream",
     "text": [
      "30502it [46:30,  9.75it/s]"
     ]
    },
    {
     "name": "stdout",
     "output_type": "stream",
     "text": [
      "| epoch   3 | 30500/32580 batches | loss    1.331 \n",
      "money: much, able, kind, return, it, addition, even, fact, support, well\n",
      "lion: sector, settled, introduction, derived, months, deal, rest, jazz, planet, authors\n",
      "africa: america, india, europe, china, england, asia, west, end, ireland, france\n",
      "musician: singer, actor, author, actress, nine, writer, th, seven, eight, six\n",
      "dance: music, october, province, studies, title, defeat, european, cultural, rock, art\n",
      "\n",
      "\n"
     ]
    },
    {
     "name": "stderr",
     "output_type": "stream",
     "text": [
      "31002it [47:15,  9.78it/s]"
     ]
    },
    {
     "name": "stdout",
     "output_type": "stream",
     "text": [
      "| epoch   3 | 31000/32580 batches | loss    1.337 \n",
      "money: much, able, kind, return, it, addition, even, fact, support, well\n",
      "lion: sector, settled, introduction, derived, months, deal, rest, jazz, planet, authors\n",
      "africa: america, india, europe, china, england, asia, west, end, ireland, france\n",
      "musician: singer, actor, author, actress, nine, writer, th, seven, eight, six\n",
      "dance: music, october, province, studies, title, defeat, european, cultural, rock, art\n",
      "\n",
      "\n"
     ]
    },
    {
     "name": "stderr",
     "output_type": "stream",
     "text": [
      "31502it [48:01,  9.85it/s]"
     ]
    },
    {
     "name": "stdout",
     "output_type": "stream",
     "text": [
      "| epoch   3 | 31500/32580 batches | loss    1.333 \n",
      "money: much, able, kind, return, it, addition, even, fact, support, well\n",
      "lion: sector, settled, introduction, derived, months, deal, rest, jazz, planet, authors\n",
      "africa: america, india, europe, china, england, asia, west, end, ireland, france\n",
      "musician: singer, actor, author, actress, nine, writer, th, seven, eight, six\n",
      "dance: music, october, province, studies, title, defeat, european, cultural, rock, art\n",
      "\n",
      "\n"
     ]
    },
    {
     "name": "stderr",
     "output_type": "stream",
     "text": [
      "32002it [48:47,  9.67it/s]"
     ]
    },
    {
     "name": "stdout",
     "output_type": "stream",
     "text": [
      "| epoch   3 | 32000/32580 batches | loss    1.331 \n",
      "money: much, able, kind, return, it, addition, even, fact, support, well\n",
      "lion: sector, settled, introduction, derived, months, deal, rest, jazz, planet, authors\n",
      "africa: america, india, europe, china, england, asia, west, end, ireland, france\n",
      "musician: singer, actor, author, actress, nine, writer, th, seven, eight, six\n",
      "dance: music, october, province, studies, title, defeat, european, cultural, rock, art\n",
      "\n",
      "\n"
     ]
    },
    {
     "name": "stderr",
     "output_type": "stream",
     "text": [
      "32502it [49:33,  9.71it/s]"
     ]
    },
    {
     "name": "stdout",
     "output_type": "stream",
     "text": [
      "| epoch   3 | 32500/32580 batches | loss    1.325 \n",
      "money: much, able, kind, return, it, addition, even, fact, support, well\n",
      "lion: sector, settled, introduction, derived, months, deal, rest, jazz, planet, authors\n",
      "africa: america, india, europe, china, england, asia, west, end, ireland, france\n",
      "musician: singer, actor, author, actress, nine, writer, th, seven, eight, six\n",
      "dance: music, october, province, studies, title, defeat, european, cultural, rock, art\n",
      "\n",
      "\n"
     ]
    },
    {
     "name": "stderr",
     "output_type": "stream",
     "text": [
      "32580it [49:41, 10.93it/s]\n",
      "2it [00:00,  3.48it/s]"
     ]
    },
    {
     "name": "stdout",
     "output_type": "stream",
     "text": [
      "| epoch   4 |     0/32580 batches | loss    1.367 \n",
      "money: much, able, kind, return, it, addition, even, fact, support, well\n",
      "lion: sector, settled, introduction, derived, months, deal, rest, jazz, planet, authors\n",
      "africa: america, india, europe, china, england, asia, west, end, ireland, france\n",
      "musician: singer, actor, author, actress, nine, writer, th, seven, eight, six\n",
      "dance: music, october, province, studies, title, defeat, european, cultural, rock, art\n",
      "\n",
      "\n"
     ]
    },
    {
     "name": "stderr",
     "output_type": "stream",
     "text": [
      "502it [00:46,  9.88it/s]"
     ]
    },
    {
     "name": "stdout",
     "output_type": "stream",
     "text": [
      "| epoch   4 |   500/32580 batches | loss    1.330 \n",
      "money: much, able, kind, return, it, addition, even, fact, support, well\n",
      "lion: sector, settled, introduction, derived, months, deal, rest, jazz, planet, authors\n",
      "africa: america, india, europe, china, england, asia, west, end, ireland, france\n",
      "musician: singer, actor, author, actress, nine, writer, th, seven, eight, six\n",
      "dance: music, october, province, studies, title, defeat, european, cultural, rock, art\n",
      "\n",
      "\n"
     ]
    },
    {
     "name": "stderr",
     "output_type": "stream",
     "text": [
      "1002it [01:32,  9.67it/s]"
     ]
    },
    {
     "name": "stdout",
     "output_type": "stream",
     "text": [
      "| epoch   4 |  1000/32580 batches | loss    1.335 \n",
      "money: much, able, kind, return, it, addition, even, fact, support, well\n",
      "lion: sector, settled, introduction, derived, months, deal, rest, jazz, planet, authors\n",
      "africa: america, india, europe, china, england, asia, west, end, ireland, france\n",
      "musician: singer, actor, author, actress, nine, writer, th, seven, eight, six\n",
      "dance: music, october, province, studies, title, defeat, european, cultural, rock, art\n",
      "\n",
      "\n"
     ]
    },
    {
     "name": "stderr",
     "output_type": "stream",
     "text": [
      "1502it [02:18,  9.68it/s]"
     ]
    },
    {
     "name": "stdout",
     "output_type": "stream",
     "text": [
      "| epoch   4 |  1500/32580 batches | loss    1.331 \n",
      "money: much, able, kind, return, it, addition, even, fact, support, well\n",
      "lion: sector, settled, introduction, derived, months, deal, rest, jazz, planet, authors\n",
      "africa: america, india, europe, china, england, asia, west, end, ireland, france\n",
      "musician: singer, actor, author, actress, nine, writer, th, seven, eight, six\n",
      "dance: music, october, province, studies, title, defeat, european, cultural, rock, art\n",
      "\n",
      "\n"
     ]
    },
    {
     "name": "stderr",
     "output_type": "stream",
     "text": [
      "2002it [03:04,  9.63it/s]"
     ]
    },
    {
     "name": "stdout",
     "output_type": "stream",
     "text": [
      "| epoch   4 |  2000/32580 batches | loss    1.332 \n",
      "money: much, able, kind, return, it, addition, even, fact, support, well\n",
      "lion: sector, settled, introduction, derived, months, deal, rest, jazz, planet, authors\n",
      "africa: america, india, europe, china, england, asia, west, end, ireland, france\n",
      "musician: singer, actor, author, actress, nine, writer, th, seven, eight, six\n",
      "dance: music, october, province, studies, title, defeat, european, cultural, rock, art\n",
      "\n",
      "\n"
     ]
    },
    {
     "name": "stderr",
     "output_type": "stream",
     "text": [
      "2502it [03:50,  9.62it/s]"
     ]
    },
    {
     "name": "stdout",
     "output_type": "stream",
     "text": [
      "| epoch   4 |  2500/32580 batches | loss    1.333 \n",
      "money: much, able, kind, return, it, addition, even, fact, support, well\n",
      "lion: sector, settled, introduction, derived, months, deal, rest, jazz, planet, authors\n",
      "africa: america, india, europe, china, england, asia, west, end, ireland, france\n",
      "musician: singer, actor, author, actress, nine, writer, th, seven, eight, six\n",
      "dance: music, october, province, studies, title, defeat, european, cultural, rock, art\n",
      "\n",
      "\n"
     ]
    },
    {
     "name": "stderr",
     "output_type": "stream",
     "text": [
      "3002it [04:36,  9.72it/s]"
     ]
    },
    {
     "name": "stdout",
     "output_type": "stream",
     "text": [
      "| epoch   4 |  3000/32580 batches | loss    1.331 \n",
      "money: much, able, kind, return, it, addition, even, fact, support, well\n",
      "lion: sector, settled, introduction, derived, months, deal, rest, jazz, planet, authors\n",
      "africa: america, india, europe, china, england, asia, west, end, ireland, france\n",
      "musician: singer, actor, author, actress, nine, writer, th, seven, eight, six\n",
      "dance: music, october, province, studies, title, defeat, european, cultural, rock, art\n",
      "\n",
      "\n"
     ]
    },
    {
     "name": "stderr",
     "output_type": "stream",
     "text": [
      "3502it [05:22,  9.72it/s]"
     ]
    },
    {
     "name": "stdout",
     "output_type": "stream",
     "text": [
      "| epoch   4 |  3500/32580 batches | loss    1.330 \n",
      "money: much, able, kind, return, it, addition, even, fact, support, well\n",
      "lion: sector, settled, introduction, derived, months, deal, rest, jazz, planet, authors\n",
      "africa: america, india, europe, china, england, asia, west, end, ireland, france\n",
      "musician: singer, actor, author, actress, nine, writer, th, seven, eight, six\n",
      "dance: music, october, province, studies, title, defeat, european, cultural, rock, art\n",
      "\n",
      "\n"
     ]
    },
    {
     "name": "stderr",
     "output_type": "stream",
     "text": [
      "4001it [06:09,  9.97it/s]"
     ]
    },
    {
     "name": "stdout",
     "output_type": "stream",
     "text": [
      "| epoch   4 |  4000/32580 batches | loss    1.335 \n",
      "money: much, able, kind, return, it, addition, even, fact, support, well\n",
      "lion: sector, settled, introduction, derived, months, deal, rest, jazz, planet, authors\n",
      "africa: america, india, europe, china, england, asia, west, end, ireland, france\n",
      "musician: singer, actor, author, actress, nine, writer, th, seven, eight, six\n",
      "dance: music, october, province, studies, title, defeat, european, cultural, rock, art\n",
      "\n",
      "\n"
     ]
    },
    {
     "name": "stderr",
     "output_type": "stream",
     "text": [
      "4502it [06:55,  9.64it/s]"
     ]
    },
    {
     "name": "stdout",
     "output_type": "stream",
     "text": [
      "| epoch   4 |  4500/32580 batches | loss    1.328 \n",
      "money: much, able, kind, return, it, addition, even, fact, support, well\n",
      "lion: sector, settled, introduction, derived, months, deal, rest, jazz, planet, authors\n",
      "africa: america, india, europe, china, england, asia, west, end, ireland, france\n",
      "musician: singer, actor, author, actress, nine, writer, th, seven, eight, six\n",
      "dance: music, october, province, studies, title, defeat, european, cultural, rock, art\n",
      "\n",
      "\n"
     ]
    },
    {
     "name": "stderr",
     "output_type": "stream",
     "text": [
      "5001it [07:41,  9.88it/s]"
     ]
    },
    {
     "name": "stdout",
     "output_type": "stream",
     "text": [
      "| epoch   4 |  5000/32580 batches | loss    1.329 \n",
      "money: much, able, kind, return, it, addition, even, fact, support, well\n",
      "lion: sector, settled, introduction, derived, months, deal, rest, jazz, planet, authors\n",
      "africa: america, india, europe, china, england, asia, west, end, ireland, france\n",
      "musician: singer, actor, author, actress, nine, writer, th, seven, eight, six\n",
      "dance: music, october, province, studies, title, defeat, european, cultural, rock, art\n",
      "\n",
      "\n"
     ]
    },
    {
     "name": "stderr",
     "output_type": "stream",
     "text": [
      "5501it [08:27,  9.88it/s]"
     ]
    },
    {
     "name": "stdout",
     "output_type": "stream",
     "text": [
      "| epoch   4 |  5500/32580 batches | loss    1.331 \n",
      "money: much, able, kind, return, it, addition, even, fact, support, well\n",
      "lion: sector, settled, introduction, derived, months, deal, rest, jazz, planet, authors\n",
      "africa: america, india, europe, china, england, asia, west, end, ireland, france\n",
      "musician: singer, actor, author, actress, nine, writer, th, seven, eight, six\n",
      "dance: music, october, province, studies, title, defeat, european, cultural, rock, art\n",
      "\n",
      "\n"
     ]
    },
    {
     "name": "stderr",
     "output_type": "stream",
     "text": [
      "6002it [09:13,  9.55it/s]"
     ]
    },
    {
     "name": "stdout",
     "output_type": "stream",
     "text": [
      "| epoch   4 |  6000/32580 batches | loss    1.330 \n",
      "money: much, able, kind, return, it, addition, even, fact, support, well\n",
      "lion: sector, settled, introduction, derived, months, deal, rest, jazz, planet, authors\n",
      "africa: america, india, europe, china, england, asia, west, end, ireland, france\n",
      "musician: singer, actor, author, actress, nine, writer, th, seven, eight, six\n",
      "dance: music, october, province, studies, title, defeat, european, cultural, rock, art\n",
      "\n",
      "\n"
     ]
    },
    {
     "name": "stderr",
     "output_type": "stream",
     "text": [
      "6501it [09:59,  9.99it/s]"
     ]
    },
    {
     "name": "stdout",
     "output_type": "stream",
     "text": [
      "| epoch   4 |  6500/32580 batches | loss    1.330 \n",
      "money: much, able, kind, return, it, addition, even, fact, support, well\n",
      "lion: sector, settled, introduction, derived, months, deal, rest, jazz, planet, authors\n",
      "africa: america, india, europe, china, england, asia, west, end, ireland, france\n",
      "musician: singer, actor, author, actress, nine, writer, th, seven, eight, six\n",
      "dance: music, october, province, studies, title, defeat, european, cultural, rock, art\n",
      "\n",
      "\n"
     ]
    },
    {
     "name": "stderr",
     "output_type": "stream",
     "text": [
      "7001it [10:44, 10.20it/s]"
     ]
    },
    {
     "name": "stdout",
     "output_type": "stream",
     "text": [
      "| epoch   4 |  7000/32580 batches | loss    1.330 \n",
      "money: much, able, kind, return, it, addition, even, fact, support, well\n",
      "lion: sector, settled, introduction, derived, months, deal, rest, jazz, planet, authors\n",
      "africa: america, india, europe, china, england, asia, west, end, ireland, france\n",
      "musician: singer, actor, author, actress, nine, writer, th, seven, eight, six\n",
      "dance: music, october, province, studies, title, defeat, european, cultural, rock, art\n",
      "\n",
      "\n"
     ]
    },
    {
     "name": "stderr",
     "output_type": "stream",
     "text": [
      "7501it [11:29,  9.83it/s]"
     ]
    },
    {
     "name": "stdout",
     "output_type": "stream",
     "text": [
      "| epoch   4 |  7500/32580 batches | loss    1.329 \n",
      "money: much, able, kind, return, it, addition, even, fact, support, well\n",
      "lion: sector, settled, introduction, derived, months, deal, rest, jazz, planet, authors\n",
      "africa: america, india, europe, china, england, asia, west, end, ireland, france\n",
      "musician: singer, actor, author, actress, nine, writer, th, seven, eight, six\n",
      "dance: music, october, province, studies, title, defeat, european, cultural, rock, art\n",
      "\n",
      "\n"
     ]
    },
    {
     "name": "stderr",
     "output_type": "stream",
     "text": [
      "8001it [12:15,  9.94it/s]"
     ]
    },
    {
     "name": "stdout",
     "output_type": "stream",
     "text": [
      "| epoch   4 |  8000/32580 batches | loss    1.330 \n",
      "money: much, able, kind, return, it, addition, even, fact, support, well\n",
      "lion: sector, settled, introduction, derived, months, deal, rest, jazz, planet, authors\n",
      "africa: america, india, europe, china, england, asia, west, end, ireland, france\n",
      "musician: singer, actor, author, actress, nine, writer, th, seven, eight, six\n",
      "dance: music, october, province, studies, title, defeat, european, cultural, rock, art\n",
      "\n",
      "\n"
     ]
    },
    {
     "name": "stderr",
     "output_type": "stream",
     "text": [
      "8501it [13:01, 10.06it/s]"
     ]
    },
    {
     "name": "stdout",
     "output_type": "stream",
     "text": [
      "| epoch   4 |  8500/32580 batches | loss    1.330 \n",
      "money: much, able, kind, return, it, addition, even, fact, support, well\n",
      "lion: sector, settled, introduction, derived, months, deal, rest, jazz, planet, authors\n",
      "africa: america, india, europe, china, england, asia, west, end, ireland, france\n",
      "musician: singer, actor, author, actress, nine, writer, th, seven, eight, six\n",
      "dance: music, october, province, studies, title, defeat, european, cultural, rock, art\n",
      "\n",
      "\n"
     ]
    },
    {
     "name": "stderr",
     "output_type": "stream",
     "text": [
      "9001it [13:46,  9.85it/s]"
     ]
    },
    {
     "name": "stdout",
     "output_type": "stream",
     "text": [
      "| epoch   4 |  9000/32580 batches | loss    1.329 \n",
      "money: much, able, kind, return, it, addition, even, fact, support, well\n",
      "lion: sector, settled, introduction, derived, months, deal, rest, jazz, planet, authors\n",
      "africa: america, india, europe, china, england, asia, west, end, ireland, france\n",
      "musician: singer, actor, author, actress, nine, writer, th, seven, eight, six\n",
      "dance: music, october, province, studies, title, defeat, european, cultural, rock, art\n",
      "\n",
      "\n"
     ]
    },
    {
     "name": "stderr",
     "output_type": "stream",
     "text": [
      "9502it [14:32,  9.54it/s]"
     ]
    },
    {
     "name": "stdout",
     "output_type": "stream",
     "text": [
      "| epoch   4 |  9500/32580 batches | loss    1.330 \n",
      "money: much, able, kind, return, it, addition, even, fact, support, well\n",
      "lion: sector, settled, introduction, derived, months, deal, rest, jazz, planet, authors\n",
      "africa: america, india, europe, china, england, asia, west, end, ireland, france\n",
      "musician: singer, actor, author, actress, nine, writer, th, seven, eight, six\n",
      "dance: music, october, province, studies, title, defeat, european, cultural, rock, art\n",
      "\n",
      "\n"
     ]
    },
    {
     "name": "stderr",
     "output_type": "stream",
     "text": [
      "10001it [15:18, 10.01it/s]"
     ]
    },
    {
     "name": "stdout",
     "output_type": "stream",
     "text": [
      "| epoch   4 | 10000/32580 batches | loss    1.331 \n",
      "money: much, able, kind, return, it, addition, even, fact, support, well\n",
      "lion: sector, settled, introduction, derived, months, deal, rest, jazz, planet, authors\n",
      "africa: america, india, europe, china, england, asia, west, end, ireland, france\n",
      "musician: singer, actor, author, actress, nine, writer, th, seven, eight, six\n",
      "dance: music, october, province, studies, title, defeat, european, cultural, rock, art\n",
      "\n",
      "\n"
     ]
    },
    {
     "name": "stderr",
     "output_type": "stream",
     "text": [
      "10502it [16:04,  9.56it/s]"
     ]
    },
    {
     "name": "stdout",
     "output_type": "stream",
     "text": [
      "| epoch   4 | 10500/32580 batches | loss    1.333 \n",
      "money: much, able, kind, return, it, addition, even, fact, support, well\n",
      "lion: sector, settled, introduction, derived, months, deal, rest, jazz, planet, authors\n",
      "africa: america, india, europe, china, england, asia, west, end, ireland, france\n",
      "musician: singer, actor, author, actress, nine, writer, th, seven, eight, six\n",
      "dance: music, october, province, studies, title, defeat, european, cultural, rock, art\n",
      "\n",
      "\n"
     ]
    },
    {
     "name": "stderr",
     "output_type": "stream",
     "text": [
      "11002it [16:50,  9.60it/s]"
     ]
    },
    {
     "name": "stdout",
     "output_type": "stream",
     "text": [
      "| epoch   4 | 11000/32580 batches | loss    1.331 \n",
      "money: much, able, kind, return, it, addition, even, fact, support, well\n",
      "lion: sector, settled, introduction, derived, months, deal, rest, jazz, planet, authors\n",
      "africa: america, india, europe, china, england, asia, west, end, ireland, france\n",
      "musician: singer, actor, author, actress, nine, writer, th, seven, eight, six\n",
      "dance: music, october, province, studies, title, defeat, european, cultural, rock, art\n",
      "\n",
      "\n"
     ]
    },
    {
     "name": "stderr",
     "output_type": "stream",
     "text": [
      "11502it [17:36,  9.77it/s]"
     ]
    },
    {
     "name": "stdout",
     "output_type": "stream",
     "text": [
      "| epoch   4 | 11500/32580 batches | loss    1.330 \n",
      "money: much, able, kind, return, it, addition, even, fact, support, well\n",
      "lion: sector, settled, introduction, derived, months, deal, rest, jazz, planet, authors\n",
      "africa: america, india, europe, china, england, asia, west, end, ireland, france\n",
      "musician: singer, actor, author, actress, nine, writer, th, seven, eight, six\n",
      "dance: music, october, province, studies, title, defeat, european, cultural, rock, art\n",
      "\n",
      "\n"
     ]
    },
    {
     "name": "stderr",
     "output_type": "stream",
     "text": [
      "12002it [18:21,  9.50it/s]"
     ]
    },
    {
     "name": "stdout",
     "output_type": "stream",
     "text": [
      "| epoch   4 | 12000/32580 batches | loss    1.332 \n",
      "money: much, able, kind, return, it, addition, even, fact, support, well\n",
      "lion: sector, settled, introduction, derived, months, deal, rest, jazz, planet, authors\n",
      "africa: america, india, europe, china, england, asia, west, end, ireland, france\n",
      "musician: singer, actor, author, actress, nine, writer, th, seven, eight, six\n",
      "dance: music, october, province, studies, title, defeat, european, cultural, rock, art\n",
      "\n",
      "\n"
     ]
    },
    {
     "name": "stderr",
     "output_type": "stream",
     "text": [
      "12501it [19:07,  9.82it/s]"
     ]
    },
    {
     "name": "stdout",
     "output_type": "stream",
     "text": [
      "| epoch   4 | 12500/32580 batches | loss    1.334 \n",
      "money: much, able, kind, return, it, addition, even, fact, support, well\n",
      "lion: sector, settled, introduction, derived, months, deal, rest, jazz, planet, authors\n",
      "africa: america, india, europe, china, england, asia, west, end, ireland, france\n",
      "musician: singer, actor, author, actress, nine, writer, th, seven, eight, six\n",
      "dance: music, october, province, studies, title, defeat, european, cultural, rock, art\n",
      "\n",
      "\n"
     ]
    },
    {
     "name": "stderr",
     "output_type": "stream",
     "text": [
      "13002it [19:53,  9.69it/s]"
     ]
    },
    {
     "name": "stdout",
     "output_type": "stream",
     "text": [
      "| epoch   4 | 13000/32580 batches | loss    1.334 \n",
      "money: much, able, kind, return, it, addition, even, fact, support, well\n",
      "lion: sector, settled, introduction, derived, months, deal, rest, jazz, planet, authors\n",
      "africa: america, india, europe, china, england, asia, west, end, ireland, france\n",
      "musician: singer, actor, author, actress, nine, writer, th, seven, eight, six\n",
      "dance: music, october, province, studies, title, defeat, european, cultural, rock, art\n",
      "\n",
      "\n"
     ]
    },
    {
     "name": "stderr",
     "output_type": "stream",
     "text": [
      "13501it [20:39,  9.97it/s]"
     ]
    },
    {
     "name": "stdout",
     "output_type": "stream",
     "text": [
      "| epoch   4 | 13500/32580 batches | loss    1.334 \n",
      "money: much, able, kind, return, it, addition, even, fact, support, well\n",
      "lion: sector, settled, introduction, derived, months, deal, rest, jazz, planet, authors\n",
      "africa: america, india, europe, china, england, asia, west, end, ireland, france\n",
      "musician: singer, actor, author, actress, nine, writer, th, seven, eight, six\n",
      "dance: music, october, province, studies, title, defeat, european, cultural, rock, art\n",
      "\n",
      "\n"
     ]
    },
    {
     "name": "stderr",
     "output_type": "stream",
     "text": [
      "14002it [21:25,  9.86it/s]"
     ]
    },
    {
     "name": "stdout",
     "output_type": "stream",
     "text": [
      "| epoch   4 | 14000/32580 batches | loss    1.330 \n",
      "money: much, able, kind, return, it, addition, even, fact, support, well\n",
      "lion: sector, settled, introduction, derived, months, deal, rest, jazz, planet, authors\n",
      "africa: america, india, europe, china, england, asia, west, end, ireland, france\n",
      "musician: singer, actor, author, actress, nine, writer, th, seven, eight, six\n",
      "dance: music, october, province, studies, title, defeat, european, cultural, rock, art\n",
      "\n",
      "\n"
     ]
    },
    {
     "name": "stderr",
     "output_type": "stream",
     "text": [
      "14502it [22:11,  9.69it/s]"
     ]
    },
    {
     "name": "stdout",
     "output_type": "stream",
     "text": [
      "| epoch   4 | 14500/32580 batches | loss    1.329 \n",
      "money: much, able, kind, return, it, addition, even, fact, support, well\n",
      "lion: sector, settled, introduction, derived, months, deal, rest, jazz, planet, authors\n",
      "africa: america, india, europe, china, england, asia, west, end, ireland, france\n",
      "musician: singer, actor, author, actress, nine, writer, th, seven, eight, six\n",
      "dance: music, october, province, studies, title, defeat, european, cultural, rock, art\n",
      "\n",
      "\n"
     ]
    },
    {
     "name": "stderr",
     "output_type": "stream",
     "text": [
      "15002it [22:57,  9.68it/s]"
     ]
    },
    {
     "name": "stdout",
     "output_type": "stream",
     "text": [
      "| epoch   4 | 15000/32580 batches | loss    1.334 \n",
      "money: much, able, kind, return, it, addition, even, fact, support, well\n",
      "lion: sector, settled, introduction, derived, months, deal, rest, jazz, planet, authors\n",
      "africa: america, india, europe, china, england, asia, west, end, ireland, france\n",
      "musician: singer, actor, author, actress, nine, writer, th, seven, eight, six\n",
      "dance: music, october, province, studies, title, defeat, european, cultural, rock, art\n",
      "\n",
      "\n"
     ]
    },
    {
     "name": "stderr",
     "output_type": "stream",
     "text": [
      "15502it [23:42,  9.84it/s]"
     ]
    },
    {
     "name": "stdout",
     "output_type": "stream",
     "text": [
      "| epoch   4 | 15500/32580 batches | loss    1.330 \n",
      "money: much, able, kind, return, it, addition, even, fact, support, well\n",
      "lion: sector, settled, introduction, derived, months, deal, rest, jazz, planet, authors\n",
      "africa: america, india, europe, china, england, asia, west, end, ireland, france\n",
      "musician: singer, actor, author, actress, nine, writer, th, seven, eight, six\n",
      "dance: music, october, province, studies, title, defeat, european, cultural, rock, art\n",
      "\n",
      "\n"
     ]
    },
    {
     "name": "stderr",
     "output_type": "stream",
     "text": [
      "16002it [24:29,  9.69it/s]"
     ]
    },
    {
     "name": "stdout",
     "output_type": "stream",
     "text": [
      "| epoch   4 | 16000/32580 batches | loss    1.329 \n",
      "money: much, able, kind, return, it, addition, even, fact, support, well\n",
      "lion: sector, settled, introduction, derived, months, deal, rest, jazz, planet, authors\n",
      "africa: america, india, europe, china, england, asia, west, end, ireland, france\n",
      "musician: singer, actor, author, actress, nine, writer, th, seven, eight, six\n",
      "dance: music, october, province, studies, title, defeat, european, cultural, rock, art\n",
      "\n",
      "\n"
     ]
    },
    {
     "name": "stderr",
     "output_type": "stream",
     "text": [
      "16502it [25:15,  9.73it/s]"
     ]
    },
    {
     "name": "stdout",
     "output_type": "stream",
     "text": [
      "| epoch   4 | 16500/32580 batches | loss    1.331 \n",
      "money: much, able, kind, return, it, addition, even, fact, support, well\n",
      "lion: sector, settled, introduction, derived, months, deal, rest, jazz, planet, authors\n",
      "africa: america, india, europe, china, england, asia, west, end, ireland, france\n",
      "musician: singer, actor, author, actress, nine, writer, th, seven, eight, six\n",
      "dance: music, october, province, studies, title, defeat, european, cultural, rock, art\n",
      "\n",
      "\n"
     ]
    },
    {
     "name": "stderr",
     "output_type": "stream",
     "text": [
      "17001it [26:01, 10.02it/s]"
     ]
    },
    {
     "name": "stdout",
     "output_type": "stream",
     "text": [
      "| epoch   4 | 17000/32580 batches | loss    1.333 \n",
      "money: much, able, kind, return, it, addition, even, fact, support, well\n",
      "lion: sector, settled, introduction, derived, months, deal, rest, jazz, planet, authors\n",
      "africa: america, india, europe, china, england, asia, west, end, ireland, france\n",
      "musician: singer, actor, author, actress, nine, writer, th, seven, eight, six\n",
      "dance: music, october, province, studies, title, defeat, european, cultural, rock, art\n",
      "\n",
      "\n"
     ]
    },
    {
     "name": "stderr",
     "output_type": "stream",
     "text": [
      "17501it [26:47,  9.76it/s]"
     ]
    },
    {
     "name": "stdout",
     "output_type": "stream",
     "text": [
      "| epoch   4 | 17500/32580 batches | loss    1.331 \n",
      "money: much, able, kind, return, it, addition, even, fact, support, well\n",
      "lion: sector, settled, introduction, derived, months, deal, rest, jazz, planet, authors\n",
      "africa: america, india, europe, china, england, asia, west, end, ireland, france\n",
      "musician: singer, actor, author, actress, nine, writer, th, seven, eight, six\n",
      "dance: music, october, province, studies, title, defeat, european, cultural, rock, art\n",
      "\n",
      "\n"
     ]
    },
    {
     "name": "stderr",
     "output_type": "stream",
     "text": [
      "18001it [27:33,  9.92it/s]"
     ]
    },
    {
     "name": "stdout",
     "output_type": "stream",
     "text": [
      "| epoch   4 | 18000/32580 batches | loss    1.329 \n",
      "money: much, able, kind, return, it, addition, even, fact, support, well\n",
      "lion: sector, settled, introduction, derived, months, deal, rest, jazz, planet, authors\n",
      "africa: america, india, europe, china, england, asia, west, end, ireland, france\n",
      "musician: singer, actor, author, actress, nine, writer, th, seven, eight, six\n",
      "dance: music, october, province, studies, title, defeat, european, cultural, rock, art\n",
      "\n",
      "\n"
     ]
    },
    {
     "name": "stderr",
     "output_type": "stream",
     "text": [
      "18501it [28:19,  9.87it/s]"
     ]
    },
    {
     "name": "stdout",
     "output_type": "stream",
     "text": [
      "| epoch   4 | 18500/32580 batches | loss    1.331 \n",
      "money: much, able, kind, return, it, addition, even, fact, support, well\n",
      "lion: sector, settled, introduction, derived, months, deal, rest, jazz, planet, authors\n",
      "africa: america, india, europe, china, england, asia, west, end, ireland, france\n",
      "musician: singer, actor, author, actress, nine, writer, th, seven, eight, six\n",
      "dance: music, october, province, studies, title, defeat, european, cultural, rock, art\n",
      "\n",
      "\n"
     ]
    },
    {
     "name": "stderr",
     "output_type": "stream",
     "text": [
      "19001it [29:05, 10.08it/s]"
     ]
    },
    {
     "name": "stdout",
     "output_type": "stream",
     "text": [
      "| epoch   4 | 19000/32580 batches | loss    1.335 \n",
      "money: much, able, kind, return, it, addition, even, fact, support, well\n",
      "lion: sector, settled, introduction, derived, months, deal, rest, jazz, planet, authors\n",
      "africa: america, india, europe, china, england, asia, west, end, ireland, france\n",
      "musician: singer, actor, author, actress, nine, writer, th, seven, eight, six\n",
      "dance: music, october, province, studies, title, defeat, european, cultural, rock, art\n",
      "\n",
      "\n"
     ]
    },
    {
     "name": "stderr",
     "output_type": "stream",
     "text": [
      "19502it [29:51,  9.76it/s]"
     ]
    },
    {
     "name": "stdout",
     "output_type": "stream",
     "text": [
      "| epoch   4 | 19500/32580 batches | loss    1.328 \n",
      "money: much, able, kind, return, it, addition, even, fact, support, well\n",
      "lion: sector, settled, introduction, derived, months, deal, rest, jazz, planet, authors\n",
      "africa: america, india, europe, china, england, asia, west, end, ireland, france\n",
      "musician: singer, actor, author, actress, nine, writer, th, seven, eight, six\n",
      "dance: music, october, province, studies, title, defeat, european, cultural, rock, art\n",
      "\n",
      "\n"
     ]
    },
    {
     "name": "stderr",
     "output_type": "stream",
     "text": [
      "20001it [30:37, 10.04it/s]"
     ]
    },
    {
     "name": "stdout",
     "output_type": "stream",
     "text": [
      "| epoch   4 | 20000/32580 batches | loss    1.326 \n",
      "money: much, able, kind, return, it, addition, even, fact, support, well\n",
      "lion: sector, settled, introduction, derived, months, deal, rest, jazz, planet, authors\n",
      "africa: america, india, europe, china, england, asia, west, end, ireland, france\n",
      "musician: singer, actor, author, actress, nine, writer, th, seven, eight, six\n",
      "dance: music, october, province, studies, title, defeat, european, cultural, rock, art\n",
      "\n",
      "\n"
     ]
    },
    {
     "name": "stderr",
     "output_type": "stream",
     "text": [
      "20501it [31:23,  9.86it/s]"
     ]
    },
    {
     "name": "stdout",
     "output_type": "stream",
     "text": [
      "| epoch   4 | 20500/32580 batches | loss    1.330 \n",
      "money: much, able, kind, return, it, addition, even, fact, support, well\n",
      "lion: sector, settled, introduction, derived, months, deal, rest, jazz, planet, authors\n",
      "africa: america, india, europe, china, england, asia, west, end, ireland, france\n",
      "musician: singer, actor, author, actress, nine, writer, th, seven, eight, six\n",
      "dance: music, october, province, studies, title, defeat, european, cultural, rock, art\n",
      "\n",
      "\n"
     ]
    },
    {
     "name": "stderr",
     "output_type": "stream",
     "text": [
      "21002it [32:09,  9.73it/s]"
     ]
    },
    {
     "name": "stdout",
     "output_type": "stream",
     "text": [
      "| epoch   4 | 21000/32580 batches | loss    1.331 \n",
      "money: much, able, kind, return, it, addition, even, fact, support, well\n",
      "lion: sector, settled, introduction, derived, months, deal, rest, jazz, planet, authors\n",
      "africa: america, india, europe, china, england, asia, west, end, ireland, france\n",
      "musician: singer, actor, author, actress, nine, writer, th, seven, eight, six\n",
      "dance: music, october, province, studies, title, defeat, european, cultural, rock, art\n",
      "\n",
      "\n"
     ]
    },
    {
     "name": "stderr",
     "output_type": "stream",
     "text": [
      "21502it [32:55,  9.87it/s]"
     ]
    },
    {
     "name": "stdout",
     "output_type": "stream",
     "text": [
      "| epoch   4 | 21500/32580 batches | loss    1.333 \n",
      "money: much, able, kind, return, it, addition, even, fact, support, well\n",
      "lion: sector, settled, introduction, derived, months, deal, rest, jazz, planet, authors\n",
      "africa: america, india, europe, china, england, asia, west, end, ireland, france\n",
      "musician: singer, actor, author, actress, nine, writer, th, seven, eight, six\n",
      "dance: music, october, province, studies, title, defeat, european, cultural, rock, art\n",
      "\n",
      "\n"
     ]
    },
    {
     "name": "stderr",
     "output_type": "stream",
     "text": [
      "22002it [33:41,  9.84it/s]"
     ]
    },
    {
     "name": "stdout",
     "output_type": "stream",
     "text": [
      "| epoch   4 | 22000/32580 batches | loss    1.333 \n",
      "money: much, able, kind, return, it, addition, even, fact, support, well\n",
      "lion: sector, settled, introduction, derived, months, deal, rest, jazz, planet, authors\n",
      "africa: america, india, europe, china, england, asia, west, end, ireland, france\n",
      "musician: singer, actor, author, actress, nine, writer, th, seven, eight, six\n",
      "dance: music, october, province, studies, title, defeat, european, cultural, rock, art\n",
      "\n",
      "\n"
     ]
    },
    {
     "name": "stderr",
     "output_type": "stream",
     "text": [
      "22502it [34:27,  9.55it/s]"
     ]
    },
    {
     "name": "stdout",
     "output_type": "stream",
     "text": [
      "| epoch   4 | 22500/32580 batches | loss    1.331 \n",
      "money: much, able, kind, return, it, addition, even, fact, support, well\n",
      "lion: sector, settled, introduction, derived, months, deal, rest, jazz, planet, authors\n",
      "africa: america, india, europe, china, england, asia, west, end, ireland, france\n",
      "musician: singer, actor, author, actress, nine, writer, th, seven, eight, six\n",
      "dance: music, october, province, studies, title, defeat, european, cultural, rock, art\n",
      "\n",
      "\n"
     ]
    },
    {
     "name": "stderr",
     "output_type": "stream",
     "text": [
      "23002it [35:12,  9.68it/s]"
     ]
    },
    {
     "name": "stdout",
     "output_type": "stream",
     "text": [
      "| epoch   4 | 23000/32580 batches | loss    1.329 \n",
      "money: much, able, kind, return, it, addition, even, fact, support, well\n",
      "lion: sector, settled, introduction, derived, months, deal, rest, jazz, planet, authors\n",
      "africa: america, india, europe, china, england, asia, west, end, ireland, france\n",
      "musician: singer, actor, author, actress, nine, writer, th, seven, eight, six\n",
      "dance: music, october, province, studies, title, defeat, european, cultural, rock, art\n",
      "\n",
      "\n"
     ]
    },
    {
     "name": "stderr",
     "output_type": "stream",
     "text": [
      "23502it [35:57,  9.69it/s]"
     ]
    },
    {
     "name": "stdout",
     "output_type": "stream",
     "text": [
      "| epoch   4 | 23500/32580 batches | loss    1.333 \n",
      "money: much, able, kind, return, it, addition, even, fact, support, well\n",
      "lion: sector, settled, introduction, derived, months, deal, rest, jazz, planet, authors\n",
      "africa: america, india, europe, china, england, asia, west, end, ireland, france\n",
      "musician: singer, actor, author, actress, nine, writer, th, seven, eight, six\n",
      "dance: music, october, province, studies, title, defeat, european, cultural, rock, art\n",
      "\n",
      "\n"
     ]
    },
    {
     "name": "stderr",
     "output_type": "stream",
     "text": [
      "24002it [36:42,  9.75it/s]"
     ]
    },
    {
     "name": "stdout",
     "output_type": "stream",
     "text": [
      "| epoch   4 | 24000/32580 batches | loss    1.326 \n",
      "money: much, able, kind, return, it, addition, even, fact, support, well\n",
      "lion: sector, settled, introduction, derived, months, deal, rest, jazz, planet, authors\n",
      "africa: america, india, europe, china, england, asia, west, end, ireland, france\n",
      "musician: singer, actor, author, actress, nine, writer, th, seven, eight, six\n",
      "dance: music, october, province, studies, title, defeat, european, cultural, rock, art\n",
      "\n",
      "\n"
     ]
    },
    {
     "name": "stderr",
     "output_type": "stream",
     "text": [
      "24502it [37:27,  9.76it/s]"
     ]
    },
    {
     "name": "stdout",
     "output_type": "stream",
     "text": [
      "| epoch   4 | 24500/32580 batches | loss    1.330 \n",
      "money: much, able, kind, return, it, addition, even, fact, support, well\n",
      "lion: sector, settled, introduction, derived, months, deal, rest, jazz, planet, authors\n",
      "africa: america, india, europe, china, england, asia, west, end, ireland, france\n",
      "musician: singer, actor, author, actress, nine, writer, th, seven, eight, six\n",
      "dance: music, october, province, studies, title, defeat, european, cultural, rock, art\n",
      "\n",
      "\n"
     ]
    },
    {
     "name": "stderr",
     "output_type": "stream",
     "text": [
      "25002it [38:12,  9.89it/s]"
     ]
    },
    {
     "name": "stdout",
     "output_type": "stream",
     "text": [
      "| epoch   4 | 25000/32580 batches | loss    1.329 \n",
      "money: much, able, kind, return, it, addition, even, fact, support, well\n",
      "lion: sector, settled, introduction, derived, months, deal, rest, jazz, planet, authors\n",
      "africa: america, india, europe, china, england, asia, west, end, ireland, france\n",
      "musician: singer, actor, author, actress, nine, writer, th, seven, eight, six\n",
      "dance: music, october, province, studies, title, defeat, european, cultural, rock, art\n",
      "\n",
      "\n"
     ]
    },
    {
     "name": "stderr",
     "output_type": "stream",
     "text": [
      "25502it [38:58,  9.76it/s]"
     ]
    },
    {
     "name": "stdout",
     "output_type": "stream",
     "text": [
      "| epoch   4 | 25500/32580 batches | loss    1.330 \n",
      "money: much, able, kind, return, it, addition, even, fact, support, well\n",
      "lion: sector, settled, introduction, derived, months, deal, rest, jazz, planet, authors\n",
      "africa: america, india, europe, china, england, asia, west, end, ireland, france\n",
      "musician: singer, actor, author, actress, nine, writer, th, seven, eight, six\n",
      "dance: music, october, province, studies, title, defeat, european, cultural, rock, art\n",
      "\n",
      "\n"
     ]
    },
    {
     "name": "stderr",
     "output_type": "stream",
     "text": [
      "26002it [39:43,  9.88it/s]"
     ]
    },
    {
     "name": "stdout",
     "output_type": "stream",
     "text": [
      "| epoch   4 | 26000/32580 batches | loss    1.324 \n",
      "money: much, able, kind, return, it, addition, even, fact, support, well\n",
      "lion: sector, settled, introduction, derived, months, deal, rest, jazz, planet, authors\n",
      "africa: america, india, europe, china, england, asia, west, end, ireland, france\n",
      "musician: singer, actor, author, actress, nine, writer, th, seven, eight, six\n",
      "dance: music, october, province, studies, title, defeat, european, cultural, rock, art\n",
      "\n",
      "\n"
     ]
    },
    {
     "name": "stderr",
     "output_type": "stream",
     "text": [
      "26502it [40:29,  9.54it/s]"
     ]
    },
    {
     "name": "stdout",
     "output_type": "stream",
     "text": [
      "| epoch   4 | 26500/32580 batches | loss    1.329 \n",
      "money: much, able, kind, return, it, addition, even, fact, support, well\n",
      "lion: sector, settled, introduction, derived, months, deal, rest, jazz, planet, authors\n",
      "africa: america, india, europe, china, england, asia, west, end, ireland, france\n",
      "musician: singer, actor, author, actress, nine, writer, th, seven, eight, six\n",
      "dance: music, october, province, studies, title, defeat, european, cultural, rock, art\n",
      "\n",
      "\n"
     ]
    },
    {
     "name": "stderr",
     "output_type": "stream",
     "text": [
      "27002it [41:15,  9.93it/s]"
     ]
    },
    {
     "name": "stdout",
     "output_type": "stream",
     "text": [
      "| epoch   4 | 27000/32580 batches | loss    1.327 \n",
      "money: much, able, kind, return, it, addition, even, fact, support, well\n",
      "lion: sector, settled, introduction, derived, months, deal, rest, jazz, planet, authors\n",
      "africa: america, india, europe, china, england, asia, west, end, ireland, france\n",
      "musician: singer, actor, author, actress, nine, writer, th, seven, eight, six\n",
      "dance: music, october, province, studies, title, defeat, european, cultural, rock, art\n",
      "\n",
      "\n"
     ]
    },
    {
     "name": "stderr",
     "output_type": "stream",
     "text": [
      "27502it [42:00,  9.82it/s]"
     ]
    },
    {
     "name": "stdout",
     "output_type": "stream",
     "text": [
      "| epoch   4 | 27500/32580 batches | loss    1.331 \n",
      "money: much, able, kind, return, it, addition, even, fact, support, well\n",
      "lion: sector, settled, introduction, derived, months, deal, rest, jazz, planet, authors\n",
      "africa: america, india, europe, china, england, asia, west, end, ireland, france\n",
      "musician: singer, actor, author, actress, nine, writer, th, seven, eight, six\n",
      "dance: music, october, province, studies, title, defeat, european, cultural, rock, art\n",
      "\n",
      "\n"
     ]
    },
    {
     "name": "stderr",
     "output_type": "stream",
     "text": [
      "28002it [42:46,  9.75it/s]"
     ]
    },
    {
     "name": "stdout",
     "output_type": "stream",
     "text": [
      "| epoch   4 | 28000/32580 batches | loss    1.331 \n",
      "money: much, able, kind, return, it, addition, even, fact, support, well\n",
      "lion: sector, settled, introduction, derived, months, deal, rest, jazz, planet, authors\n",
      "africa: america, india, europe, china, england, asia, west, end, ireland, france\n",
      "musician: singer, actor, author, actress, nine, writer, th, seven, eight, six\n",
      "dance: music, october, province, studies, title, defeat, european, cultural, rock, art\n",
      "\n",
      "\n"
     ]
    },
    {
     "name": "stderr",
     "output_type": "stream",
     "text": [
      "28502it [43:32,  9.63it/s]"
     ]
    },
    {
     "name": "stdout",
     "output_type": "stream",
     "text": [
      "| epoch   4 | 28500/32580 batches | loss    1.333 \n",
      "money: much, able, kind, return, it, addition, even, fact, support, well\n",
      "lion: sector, settled, introduction, derived, months, deal, rest, jazz, planet, authors\n",
      "africa: america, india, europe, china, england, asia, west, end, ireland, france\n",
      "musician: singer, actor, author, actress, nine, writer, th, seven, eight, six\n",
      "dance: music, october, province, studies, title, defeat, european, cultural, rock, art\n",
      "\n",
      "\n"
     ]
    },
    {
     "name": "stderr",
     "output_type": "stream",
     "text": [
      "29001it [44:17,  9.94it/s]"
     ]
    },
    {
     "name": "stdout",
     "output_type": "stream",
     "text": [
      "| epoch   4 | 29000/32580 batches | loss    1.330 \n",
      "money: much, able, kind, return, it, addition, even, fact, support, well\n",
      "lion: sector, settled, introduction, derived, months, deal, rest, jazz, planet, authors\n",
      "africa: america, india, europe, china, england, asia, west, end, ireland, france\n",
      "musician: singer, actor, author, actress, nine, writer, th, seven, eight, six\n",
      "dance: music, october, province, studies, title, defeat, european, cultural, rock, art\n",
      "\n",
      "\n"
     ]
    },
    {
     "name": "stderr",
     "output_type": "stream",
     "text": [
      "29501it [45:03, 10.02it/s]"
     ]
    },
    {
     "name": "stdout",
     "output_type": "stream",
     "text": [
      "| epoch   4 | 29500/32580 batches | loss    1.332 \n",
      "money: much, able, kind, return, it, addition, even, fact, support, well\n",
      "lion: sector, settled, introduction, derived, months, deal, rest, jazz, planet, authors\n",
      "africa: america, india, europe, china, england, asia, west, end, ireland, france\n",
      "musician: singer, actor, author, actress, nine, writer, th, seven, eight, six\n",
      "dance: music, october, province, studies, title, defeat, european, cultural, rock, art\n",
      "\n",
      "\n"
     ]
    },
    {
     "name": "stderr",
     "output_type": "stream",
     "text": [
      "30002it [45:49,  9.55it/s]"
     ]
    },
    {
     "name": "stdout",
     "output_type": "stream",
     "text": [
      "| epoch   4 | 30000/32580 batches | loss    1.330 \n",
      "money: much, able, kind, return, it, addition, even, fact, support, well\n",
      "lion: sector, settled, introduction, derived, months, deal, rest, jazz, planet, authors\n",
      "africa: america, india, europe, china, england, asia, west, end, ireland, france\n",
      "musician: singer, actor, author, actress, nine, writer, th, seven, eight, six\n",
      "dance: music, october, province, studies, title, defeat, european, cultural, rock, art\n",
      "\n",
      "\n"
     ]
    },
    {
     "name": "stderr",
     "output_type": "stream",
     "text": [
      "30502it [46:35,  9.47it/s]"
     ]
    },
    {
     "name": "stdout",
     "output_type": "stream",
     "text": [
      "| epoch   4 | 30500/32580 batches | loss    1.327 \n",
      "money: much, able, kind, return, it, addition, even, fact, support, well\n",
      "lion: sector, settled, introduction, derived, months, deal, rest, jazz, planet, authors\n",
      "africa: america, india, europe, china, england, asia, west, end, ireland, france\n",
      "musician: singer, actor, author, actress, nine, writer, th, seven, eight, six\n",
      "dance: music, october, province, studies, title, defeat, european, cultural, rock, art\n",
      "\n",
      "\n"
     ]
    },
    {
     "name": "stderr",
     "output_type": "stream",
     "text": [
      "31001it [47:21,  9.79it/s]"
     ]
    },
    {
     "name": "stdout",
     "output_type": "stream",
     "text": [
      "| epoch   4 | 31000/32580 batches | loss    1.330 \n",
      "money: much, able, kind, return, it, addition, even, fact, support, well\n",
      "lion: sector, settled, introduction, derived, months, deal, rest, jazz, planet, authors\n",
      "africa: america, india, europe, china, england, asia, west, end, ireland, france\n",
      "musician: singer, actor, author, actress, nine, writer, th, seven, eight, six\n",
      "dance: music, october, province, studies, title, defeat, european, cultural, rock, art\n",
      "\n",
      "\n"
     ]
    },
    {
     "name": "stderr",
     "output_type": "stream",
     "text": [
      "31502it [48:07,  9.48it/s]"
     ]
    },
    {
     "name": "stdout",
     "output_type": "stream",
     "text": [
      "| epoch   4 | 31500/32580 batches | loss    1.334 \n",
      "money: much, able, kind, return, it, addition, even, fact, support, well\n",
      "lion: sector, settled, introduction, derived, months, deal, rest, jazz, planet, authors\n",
      "africa: america, india, europe, china, england, asia, west, end, ireland, france\n",
      "musician: singer, actor, author, actress, nine, writer, th, seven, eight, six\n",
      "dance: music, october, province, studies, title, defeat, european, cultural, rock, art\n",
      "\n",
      "\n"
     ]
    },
    {
     "name": "stderr",
     "output_type": "stream",
     "text": [
      "32001it [48:53,  9.91it/s]"
     ]
    },
    {
     "name": "stdout",
     "output_type": "stream",
     "text": [
      "| epoch   4 | 32000/32580 batches | loss    1.331 \n",
      "money: much, able, kind, return, it, addition, even, fact, support, well\n",
      "lion: sector, settled, introduction, derived, months, deal, rest, jazz, planet, authors\n",
      "africa: america, india, europe, china, england, asia, west, end, ireland, france\n",
      "musician: singer, actor, author, actress, nine, writer, th, seven, eight, six\n",
      "dance: music, october, province, studies, title, defeat, european, cultural, rock, art\n",
      "\n",
      "\n"
     ]
    },
    {
     "name": "stderr",
     "output_type": "stream",
     "text": [
      "32501it [49:39,  9.91it/s]"
     ]
    },
    {
     "name": "stdout",
     "output_type": "stream",
     "text": [
      "| epoch   4 | 32500/32580 batches | loss    1.332 \n",
      "money: much, able, kind, return, it, addition, even, fact, support, well\n",
      "lion: sector, settled, introduction, derived, months, deal, rest, jazz, planet, authors\n",
      "africa: america, india, europe, china, england, asia, west, end, ireland, france\n",
      "musician: singer, actor, author, actress, nine, writer, th, seven, eight, six\n",
      "dance: music, october, province, studies, title, defeat, european, cultural, rock, art\n",
      "\n",
      "\n"
     ]
    },
    {
     "name": "stderr",
     "output_type": "stream",
     "text": [
      "32580it [49:47, 10.91it/s]\n",
      "2it [00:00,  3.27it/s]"
     ]
    },
    {
     "name": "stdout",
     "output_type": "stream",
     "text": [
      "| epoch   5 |     0/32580 batches | loss    1.285 \n",
      "money: much, able, kind, return, it, addition, even, fact, support, well\n",
      "lion: sector, settled, introduction, derived, months, deal, rest, jazz, planet, authors\n",
      "africa: america, india, europe, china, england, asia, west, end, ireland, france\n",
      "musician: singer, actor, author, actress, nine, writer, th, seven, eight, six\n",
      "dance: music, october, province, studies, title, defeat, european, cultural, rock, art\n",
      "\n",
      "\n"
     ]
    },
    {
     "name": "stderr",
     "output_type": "stream",
     "text": [
      "502it [00:46,  9.57it/s]"
     ]
    },
    {
     "name": "stdout",
     "output_type": "stream",
     "text": [
      "| epoch   5 |   500/32580 batches | loss    1.329 \n",
      "money: much, able, kind, return, it, addition, even, fact, support, well\n",
      "lion: sector, settled, introduction, derived, months, deal, rest, jazz, planet, authors\n",
      "africa: america, india, europe, china, england, asia, west, end, ireland, france\n",
      "musician: singer, actor, author, actress, nine, writer, th, seven, eight, six\n",
      "dance: music, october, province, studies, title, defeat, european, cultural, rock, art\n",
      "\n",
      "\n"
     ]
    },
    {
     "name": "stderr",
     "output_type": "stream",
     "text": [
      "1002it [01:31,  9.96it/s]"
     ]
    },
    {
     "name": "stdout",
     "output_type": "stream",
     "text": [
      "| epoch   5 |  1000/32580 batches | loss    1.329 \n",
      "money: much, able, kind, return, it, addition, even, fact, support, well\n",
      "lion: sector, settled, introduction, derived, months, deal, rest, jazz, planet, authors\n",
      "africa: america, india, europe, china, england, asia, west, end, ireland, france\n",
      "musician: singer, actor, author, actress, nine, writer, th, seven, eight, six\n",
      "dance: music, october, province, studies, title, defeat, european, cultural, rock, art\n",
      "\n",
      "\n"
     ]
    },
    {
     "name": "stderr",
     "output_type": "stream",
     "text": [
      "1502it [02:17,  9.75it/s]"
     ]
    },
    {
     "name": "stdout",
     "output_type": "stream",
     "text": [
      "| epoch   5 |  1500/32580 batches | loss    1.328 \n",
      "money: much, able, kind, return, it, addition, even, fact, support, well\n",
      "lion: sector, settled, introduction, derived, months, deal, rest, jazz, planet, authors\n",
      "africa: america, india, europe, china, england, asia, west, end, ireland, france\n",
      "musician: singer, actor, author, actress, nine, writer, th, seven, eight, six\n",
      "dance: music, october, province, studies, title, defeat, european, cultural, rock, art\n",
      "\n",
      "\n"
     ]
    },
    {
     "name": "stderr",
     "output_type": "stream",
     "text": [
      "2002it [03:03,  9.75it/s]"
     ]
    },
    {
     "name": "stdout",
     "output_type": "stream",
     "text": [
      "| epoch   5 |  2000/32580 batches | loss    1.335 \n",
      "money: much, able, kind, return, it, addition, even, fact, support, well\n",
      "lion: sector, settled, introduction, derived, months, deal, rest, jazz, planet, authors\n",
      "africa: america, india, europe, china, england, asia, west, end, ireland, france\n",
      "musician: singer, actor, author, actress, nine, writer, th, seven, eight, six\n",
      "dance: music, october, province, studies, title, defeat, european, cultural, rock, art\n",
      "\n",
      "\n"
     ]
    },
    {
     "name": "stderr",
     "output_type": "stream",
     "text": [
      "2502it [03:49,  9.74it/s]"
     ]
    },
    {
     "name": "stdout",
     "output_type": "stream",
     "text": [
      "| epoch   5 |  2500/32580 batches | loss    1.333 \n",
      "money: much, able, kind, return, it, addition, even, fact, support, well\n",
      "lion: sector, settled, introduction, derived, months, deal, rest, jazz, planet, authors\n",
      "africa: america, india, europe, china, england, asia, west, end, ireland, france\n",
      "musician: singer, actor, author, actress, nine, writer, th, seven, eight, six\n",
      "dance: music, october, province, studies, title, defeat, european, cultural, rock, art\n",
      "\n",
      "\n"
     ]
    },
    {
     "name": "stderr",
     "output_type": "stream",
     "text": [
      "3002it [04:34,  9.78it/s]"
     ]
    },
    {
     "name": "stdout",
     "output_type": "stream",
     "text": [
      "| epoch   5 |  3000/32580 batches | loss    1.333 \n",
      "money: much, able, kind, return, it, addition, even, fact, support, well\n",
      "lion: sector, settled, introduction, derived, months, deal, rest, jazz, planet, authors\n",
      "africa: america, india, europe, china, england, asia, west, end, ireland, france\n",
      "musician: singer, actor, author, actress, nine, writer, th, seven, eight, six\n",
      "dance: music, october, province, studies, title, defeat, european, cultural, rock, art\n",
      "\n",
      "\n"
     ]
    },
    {
     "name": "stderr",
     "output_type": "stream",
     "text": [
      "3502it [05:20,  9.70it/s]"
     ]
    },
    {
     "name": "stdout",
     "output_type": "stream",
     "text": [
      "| epoch   5 |  3500/32580 batches | loss    1.332 \n",
      "money: much, able, kind, return, it, addition, even, fact, support, well\n",
      "lion: sector, settled, introduction, derived, months, deal, rest, jazz, planet, authors\n",
      "africa: america, india, europe, china, england, asia, west, end, ireland, france\n",
      "musician: singer, actor, author, actress, nine, writer, th, seven, eight, six\n",
      "dance: music, october, province, studies, title, defeat, european, cultural, rock, art\n",
      "\n",
      "\n"
     ]
    },
    {
     "name": "stderr",
     "output_type": "stream",
     "text": [
      "4002it [06:06,  9.48it/s]"
     ]
    },
    {
     "name": "stdout",
     "output_type": "stream",
     "text": [
      "| epoch   5 |  4000/32580 batches | loss    1.329 \n",
      "money: much, able, kind, return, it, addition, even, fact, support, well\n",
      "lion: sector, settled, introduction, derived, months, deal, rest, jazz, planet, authors\n",
      "africa: america, india, europe, china, england, asia, west, end, ireland, france\n",
      "musician: singer, actor, author, actress, nine, writer, th, seven, eight, six\n",
      "dance: music, october, province, studies, title, defeat, european, cultural, rock, art\n",
      "\n",
      "\n"
     ]
    },
    {
     "name": "stderr",
     "output_type": "stream",
     "text": [
      "4501it [06:52,  9.96it/s]"
     ]
    },
    {
     "name": "stdout",
     "output_type": "stream",
     "text": [
      "| epoch   5 |  4500/32580 batches | loss    1.330 \n",
      "money: much, able, kind, return, it, addition, even, fact, support, well\n",
      "lion: sector, settled, introduction, derived, months, deal, rest, jazz, planet, authors\n",
      "africa: america, india, europe, china, england, asia, west, end, ireland, france\n",
      "musician: singer, actor, author, actress, nine, writer, th, seven, eight, six\n",
      "dance: music, october, province, studies, title, defeat, european, cultural, rock, art\n",
      "\n",
      "\n"
     ]
    },
    {
     "name": "stderr",
     "output_type": "stream",
     "text": [
      "5001it [07:38,  9.91it/s]"
     ]
    },
    {
     "name": "stdout",
     "output_type": "stream",
     "text": [
      "| epoch   5 |  5000/32580 batches | loss    1.328 \n",
      "money: much, able, kind, return, it, addition, even, fact, support, well\n",
      "lion: sector, settled, introduction, derived, months, deal, rest, jazz, planet, authors\n",
      "africa: america, india, europe, china, england, asia, west, end, ireland, france\n",
      "musician: singer, actor, author, actress, nine, writer, th, seven, eight, six\n",
      "dance: music, october, province, studies, title, defeat, european, cultural, rock, art\n",
      "\n",
      "\n"
     ]
    },
    {
     "name": "stderr",
     "output_type": "stream",
     "text": [
      "5502it [08:24,  9.49it/s]"
     ]
    },
    {
     "name": "stdout",
     "output_type": "stream",
     "text": [
      "| epoch   5 |  5500/32580 batches | loss    1.326 \n",
      "money: much, able, kind, return, it, addition, even, fact, support, well\n",
      "lion: sector, settled, introduction, derived, months, deal, rest, jazz, planet, authors\n",
      "africa: america, india, europe, china, england, asia, west, end, ireland, france\n",
      "musician: singer, actor, author, actress, nine, writer, th, seven, eight, six\n",
      "dance: music, october, province, studies, title, defeat, european, cultural, rock, art\n",
      "\n",
      "\n"
     ]
    },
    {
     "name": "stderr",
     "output_type": "stream",
     "text": [
      "6002it [09:10,  9.45it/s]"
     ]
    },
    {
     "name": "stdout",
     "output_type": "stream",
     "text": [
      "| epoch   5 |  6000/32580 batches | loss    1.326 \n",
      "money: much, able, kind, return, it, addition, even, fact, support, well\n",
      "lion: sector, settled, introduction, derived, months, deal, rest, jazz, planet, authors\n",
      "africa: america, india, europe, china, england, asia, west, end, ireland, france\n",
      "musician: singer, actor, author, actress, nine, writer, th, seven, eight, six\n",
      "dance: music, october, province, studies, title, defeat, european, cultural, rock, art\n",
      "\n",
      "\n"
     ]
    },
    {
     "name": "stderr",
     "output_type": "stream",
     "text": [
      "6501it [09:56,  9.89it/s]"
     ]
    },
    {
     "name": "stdout",
     "output_type": "stream",
     "text": [
      "| epoch   5 |  6500/32580 batches | loss    1.331 \n",
      "money: much, able, kind, return, it, addition, even, fact, support, well\n",
      "lion: sector, settled, introduction, derived, months, deal, rest, jazz, planet, authors\n",
      "africa: america, india, europe, china, england, asia, west, end, ireland, france\n",
      "musician: singer, actor, author, actress, nine, writer, th, seven, eight, six\n",
      "dance: music, october, province, studies, title, defeat, european, cultural, rock, art\n",
      "\n",
      "\n"
     ]
    },
    {
     "name": "stderr",
     "output_type": "stream",
     "text": [
      "7001it [10:42,  9.85it/s]"
     ]
    },
    {
     "name": "stdout",
     "output_type": "stream",
     "text": [
      "| epoch   5 |  7000/32580 batches | loss    1.331 \n",
      "money: much, able, kind, return, it, addition, even, fact, support, well\n",
      "lion: sector, settled, introduction, derived, months, deal, rest, jazz, planet, authors\n",
      "africa: america, india, europe, china, england, asia, west, end, ireland, france\n",
      "musician: singer, actor, author, actress, nine, writer, th, seven, eight, six\n",
      "dance: music, october, province, studies, title, defeat, european, cultural, rock, art\n",
      "\n",
      "\n"
     ]
    },
    {
     "name": "stderr",
     "output_type": "stream",
     "text": [
      "7502it [11:28, 10.03it/s]"
     ]
    },
    {
     "name": "stdout",
     "output_type": "stream",
     "text": [
      "| epoch   5 |  7500/32580 batches | loss    1.332 \n",
      "money: much, able, kind, return, it, addition, even, fact, support, well\n",
      "lion: sector, settled, introduction, derived, months, deal, rest, jazz, planet, authors\n",
      "africa: america, india, europe, china, england, asia, west, end, ireland, france\n",
      "musician: singer, actor, author, actress, nine, writer, th, seven, eight, six\n",
      "dance: music, october, province, studies, title, defeat, european, cultural, rock, art\n",
      "\n",
      "\n"
     ]
    },
    {
     "name": "stderr",
     "output_type": "stream",
     "text": [
      "8002it [12:13,  9.46it/s]"
     ]
    },
    {
     "name": "stdout",
     "output_type": "stream",
     "text": [
      "| epoch   5 |  8000/32580 batches | loss    1.333 \n",
      "money: much, able, kind, return, it, addition, even, fact, support, well\n",
      "lion: sector, settled, introduction, derived, months, deal, rest, jazz, planet, authors\n",
      "africa: america, india, europe, china, england, asia, west, end, ireland, france\n",
      "musician: singer, actor, author, actress, nine, writer, th, seven, eight, six\n",
      "dance: music, october, province, studies, title, defeat, european, cultural, rock, art\n",
      "\n",
      "\n"
     ]
    },
    {
     "name": "stderr",
     "output_type": "stream",
     "text": [
      "8501it [12:59,  9.51it/s]"
     ]
    },
    {
     "name": "stdout",
     "output_type": "stream",
     "text": [
      "| epoch   5 |  8500/32580 batches | loss    1.330 \n",
      "money: much, able, kind, return, it, addition, even, fact, support, well\n",
      "lion: sector, settled, introduction, derived, months, deal, rest, jazz, planet, authors\n",
      "africa: america, india, europe, china, england, asia, west, end, ireland, france\n",
      "musician: singer, actor, author, actress, nine, writer, th, seven, eight, six\n",
      "dance: music, october, province, studies, title, defeat, european, cultural, rock, art\n",
      "\n",
      "\n"
     ]
    },
    {
     "name": "stderr",
     "output_type": "stream",
     "text": [
      "9002it [13:45,  9.47it/s]"
     ]
    },
    {
     "name": "stdout",
     "output_type": "stream",
     "text": [
      "| epoch   5 |  9000/32580 batches | loss    1.327 \n",
      "money: much, able, kind, return, it, addition, even, fact, support, well\n",
      "lion: sector, settled, introduction, derived, months, deal, rest, jazz, planet, authors\n",
      "africa: america, india, europe, china, england, asia, west, end, ireland, france\n",
      "musician: singer, actor, author, actress, nine, writer, th, seven, eight, six\n",
      "dance: music, october, province, studies, title, defeat, european, cultural, rock, art\n",
      "\n",
      "\n"
     ]
    },
    {
     "name": "stderr",
     "output_type": "stream",
     "text": [
      "9501it [14:31, 10.03it/s]"
     ]
    },
    {
     "name": "stdout",
     "output_type": "stream",
     "text": [
      "| epoch   5 |  9500/32580 batches | loss    1.333 \n",
      "money: much, able, kind, return, it, addition, even, fact, support, well\n",
      "lion: sector, settled, introduction, derived, months, deal, rest, jazz, planet, authors\n",
      "africa: america, india, europe, china, england, asia, west, end, ireland, france\n",
      "musician: singer, actor, author, actress, nine, writer, th, seven, eight, six\n",
      "dance: music, october, province, studies, title, defeat, european, cultural, rock, art\n",
      "\n",
      "\n"
     ]
    },
    {
     "name": "stderr",
     "output_type": "stream",
     "text": [
      "9968it [15:13, 10.91it/s]\n"
     ]
    },
    {
     "ename": "KeyboardInterrupt",
     "evalue": "",
     "output_type": "error",
     "traceback": [
      "\u001b[0;31m---------------------------------------------------------------------------\u001b[0m",
      "\u001b[0;31mKeyboardInterrupt\u001b[0m                         Traceback (most recent call last)",
      "Cell \u001b[0;32mIn [40], line 4\u001b[0m\n\u001b[1;32m      1\u001b[0m \u001b[39mfor\u001b[39;00m epoch \u001b[39min\u001b[39;00m \u001b[39mrange\u001b[39m(\u001b[39m1\u001b[39m, NUM_EPOCHS \u001b[39m+\u001b[39m \u001b[39m1\u001b[39m):\n\u001b[1;32m      2\u001b[0m     epoch_start_time \u001b[39m=\u001b[39m time\u001b[39m.\u001b[39mtime()\n\u001b[0;32m----> 4\u001b[0m     train(train_dl, model, optimizer, epoch)\n\u001b[1;32m      5\u001b[0m     \u001b[39m# We have a learning rate scheduler here.\u001b[39;00m\n\u001b[1;32m      6\u001b[0m     \u001b[39m# Basically, given the state of the optimizer, this lowers the learning rate in a smart way.\u001b[39;00m\n\u001b[1;32m      7\u001b[0m     scheduler\u001b[39m.\u001b[39mstep()\n",
      "Cell \u001b[0;32mIn [39], line 8\u001b[0m, in \u001b[0;36mtrain\u001b[0;34m(dataloader, model, optimizer, epoch)\u001b[0m\n\u001b[1;32m      5\u001b[0m total_acc, total_count, total_loss, total_batches \u001b[39m=\u001b[39m \u001b[39m0\u001b[39m, \u001b[39m0\u001b[39m, \u001b[39m0.0\u001b[39m, \u001b[39m0.0\u001b[39m\n\u001b[1;32m      6\u001b[0m log_interval \u001b[39m=\u001b[39m \u001b[39m500\u001b[39m\n\u001b[0;32m----> 8\u001b[0m \u001b[39mfor\u001b[39;00m idx, x_batch \u001b[39min\u001b[39;00m tqdm(\u001b[39menumerate\u001b[39m(dataloader)):\n\u001b[1;32m     10\u001b[0m     x_batch \u001b[39m=\u001b[39m x_batch[\u001b[39m0\u001b[39m]\n\u001b[1;32m     12\u001b[0m     batch_size \u001b[39m=\u001b[39m x_batch\u001b[39m.\u001b[39mshape[\u001b[39m0\u001b[39m]\n",
      "File \u001b[0;32m/opt/homebrew/Caskroom/miniforge/base/envs/torch-gpu/lib/python3.9/site-packages/tqdm/std.py:1195\u001b[0m, in \u001b[0;36mtqdm.__iter__\u001b[0;34m(self)\u001b[0m\n\u001b[1;32m   1192\u001b[0m time \u001b[39m=\u001b[39m \u001b[39mself\u001b[39m\u001b[39m.\u001b[39m_time\n\u001b[1;32m   1194\u001b[0m \u001b[39mtry\u001b[39;00m:\n\u001b[0;32m-> 1195\u001b[0m     \u001b[39mfor\u001b[39;00m obj \u001b[39min\u001b[39;00m iterable:\n\u001b[1;32m   1196\u001b[0m         \u001b[39myield\u001b[39;00m obj\n\u001b[1;32m   1197\u001b[0m         \u001b[39m# Update and possibly print the progressbar.\u001b[39;00m\n\u001b[1;32m   1198\u001b[0m         \u001b[39m# Note: does not call self.update(1) for speed optimisation.\u001b[39;00m\n",
      "File \u001b[0;32m/opt/homebrew/Caskroom/miniforge/base/envs/torch-gpu/lib/python3.9/site-packages/torch/utils/data/dataloader.py:628\u001b[0m, in \u001b[0;36m_BaseDataLoaderIter.__next__\u001b[0;34m(self)\u001b[0m\n\u001b[1;32m    625\u001b[0m \u001b[39mif\u001b[39;00m \u001b[39mself\u001b[39m\u001b[39m.\u001b[39m_sampler_iter \u001b[39mis\u001b[39;00m \u001b[39mNone\u001b[39;00m:\n\u001b[1;32m    626\u001b[0m     \u001b[39m# TODO(https://github.com/pytorch/pytorch/issues/76750)\u001b[39;00m\n\u001b[1;32m    627\u001b[0m     \u001b[39mself\u001b[39m\u001b[39m.\u001b[39m_reset()  \u001b[39m# type: ignore[call-arg]\u001b[39;00m\n\u001b[0;32m--> 628\u001b[0m data \u001b[39m=\u001b[39m \u001b[39mself\u001b[39;49m\u001b[39m.\u001b[39;49m_next_data()\n\u001b[1;32m    629\u001b[0m \u001b[39mself\u001b[39m\u001b[39m.\u001b[39m_num_yielded \u001b[39m+\u001b[39m\u001b[39m=\u001b[39m \u001b[39m1\u001b[39m\n\u001b[1;32m    630\u001b[0m \u001b[39mif\u001b[39;00m \u001b[39mself\u001b[39m\u001b[39m.\u001b[39m_dataset_kind \u001b[39m==\u001b[39m _DatasetKind\u001b[39m.\u001b[39mIterable \u001b[39mand\u001b[39;00m \\\n\u001b[1;32m    631\u001b[0m         \u001b[39mself\u001b[39m\u001b[39m.\u001b[39m_IterableDataset_len_called \u001b[39mis\u001b[39;00m \u001b[39mnot\u001b[39;00m \u001b[39mNone\u001b[39;00m \u001b[39mand\u001b[39;00m \\\n\u001b[1;32m    632\u001b[0m         \u001b[39mself\u001b[39m\u001b[39m.\u001b[39m_num_yielded \u001b[39m>\u001b[39m \u001b[39mself\u001b[39m\u001b[39m.\u001b[39m_IterableDataset_len_called:\n",
      "File \u001b[0;32m/opt/homebrew/Caskroom/miniforge/base/envs/torch-gpu/lib/python3.9/site-packages/torch/utils/data/dataloader.py:671\u001b[0m, in \u001b[0;36m_SingleProcessDataLoaderIter._next_data\u001b[0;34m(self)\u001b[0m\n\u001b[1;32m    669\u001b[0m \u001b[39mdef\u001b[39;00m \u001b[39m_next_data\u001b[39m(\u001b[39mself\u001b[39m):\n\u001b[1;32m    670\u001b[0m     index \u001b[39m=\u001b[39m \u001b[39mself\u001b[39m\u001b[39m.\u001b[39m_next_index()  \u001b[39m# may raise StopIteration\u001b[39;00m\n\u001b[0;32m--> 671\u001b[0m     data \u001b[39m=\u001b[39m \u001b[39mself\u001b[39;49m\u001b[39m.\u001b[39;49m_dataset_fetcher\u001b[39m.\u001b[39;49mfetch(index)  \u001b[39m# may raise StopIteration\u001b[39;00m\n\u001b[1;32m    672\u001b[0m     \u001b[39mif\u001b[39;00m \u001b[39mself\u001b[39m\u001b[39m.\u001b[39m_pin_memory:\n\u001b[1;32m    673\u001b[0m         data \u001b[39m=\u001b[39m _utils\u001b[39m.\u001b[39mpin_memory\u001b[39m.\u001b[39mpin_memory(data, \u001b[39mself\u001b[39m\u001b[39m.\u001b[39m_pin_memory_device)\n",
      "File \u001b[0;32m/opt/homebrew/Caskroom/miniforge/base/envs/torch-gpu/lib/python3.9/site-packages/torch/utils/data/_utils/fetch.py:61\u001b[0m, in \u001b[0;36m_MapDatasetFetcher.fetch\u001b[0;34m(self, possibly_batched_index)\u001b[0m\n\u001b[1;32m     59\u001b[0m \u001b[39melse\u001b[39;00m:\n\u001b[1;32m     60\u001b[0m     data \u001b[39m=\u001b[39m \u001b[39mself\u001b[39m\u001b[39m.\u001b[39mdataset[possibly_batched_index]\n\u001b[0;32m---> 61\u001b[0m \u001b[39mreturn\u001b[39;00m \u001b[39mself\u001b[39;49m\u001b[39m.\u001b[39;49mcollate_fn(data)\n",
      "File \u001b[0;32m/opt/homebrew/Caskroom/miniforge/base/envs/torch-gpu/lib/python3.9/site-packages/torch/utils/data/_utils/collate.py:265\u001b[0m, in \u001b[0;36mdefault_collate\u001b[0;34m(batch)\u001b[0m\n\u001b[1;32m    204\u001b[0m \u001b[39mdef\u001b[39;00m \u001b[39mdefault_collate\u001b[39m(batch):\n\u001b[1;32m    205\u001b[0m     \u001b[39mr\u001b[39m\u001b[39m\"\"\"\u001b[39;00m\n\u001b[1;32m    206\u001b[0m \u001b[39m        Function that takes in a batch of data and puts the elements within the batch\u001b[39;00m\n\u001b[1;32m    207\u001b[0m \u001b[39m        into a tensor with an additional outer dimension - batch size. The exact output type can be\u001b[39;00m\n\u001b[0;32m   (...)\u001b[0m\n\u001b[1;32m    263\u001b[0m \u001b[39m            >>> default_collate(batch)  # Handle `CustomType` automatically\u001b[39;00m\n\u001b[1;32m    264\u001b[0m \u001b[39m    \"\"\"\u001b[39;00m\n\u001b[0;32m--> 265\u001b[0m     \u001b[39mreturn\u001b[39;00m collate(batch, collate_fn_map\u001b[39m=\u001b[39;49mdefault_collate_fn_map)\n",
      "File \u001b[0;32m/opt/homebrew/Caskroom/miniforge/base/envs/torch-gpu/lib/python3.9/site-packages/torch/utils/data/_utils/collate.py:143\u001b[0m, in \u001b[0;36mcollate\u001b[0;34m(batch, collate_fn_map)\u001b[0m\n\u001b[1;32m    140\u001b[0m transposed \u001b[39m=\u001b[39m \u001b[39mlist\u001b[39m(\u001b[39mzip\u001b[39m(\u001b[39m*\u001b[39mbatch))  \u001b[39m# It may be accessed twice, so we use a list.\u001b[39;00m\n\u001b[1;32m    142\u001b[0m \u001b[39mif\u001b[39;00m \u001b[39misinstance\u001b[39m(elem, \u001b[39mtuple\u001b[39m):\n\u001b[0;32m--> 143\u001b[0m     \u001b[39mreturn\u001b[39;00m [collate(samples, collate_fn_map\u001b[39m=\u001b[39mcollate_fn_map) \u001b[39mfor\u001b[39;00m samples \u001b[39min\u001b[39;00m transposed]  \u001b[39m# Backwards compatibility.\u001b[39;00m\n\u001b[1;32m    144\u001b[0m \u001b[39melse\u001b[39;00m:\n\u001b[1;32m    145\u001b[0m     \u001b[39mtry\u001b[39;00m:\n",
      "File \u001b[0;32m/opt/homebrew/Caskroom/miniforge/base/envs/torch-gpu/lib/python3.9/site-packages/torch/utils/data/_utils/collate.py:143\u001b[0m, in \u001b[0;36m<listcomp>\u001b[0;34m(.0)\u001b[0m\n\u001b[1;32m    140\u001b[0m transposed \u001b[39m=\u001b[39m \u001b[39mlist\u001b[39m(\u001b[39mzip\u001b[39m(\u001b[39m*\u001b[39mbatch))  \u001b[39m# It may be accessed twice, so we use a list.\u001b[39;00m\n\u001b[1;32m    142\u001b[0m \u001b[39mif\u001b[39;00m \u001b[39misinstance\u001b[39m(elem, \u001b[39mtuple\u001b[39m):\n\u001b[0;32m--> 143\u001b[0m     \u001b[39mreturn\u001b[39;00m [collate(samples, collate_fn_map\u001b[39m=\u001b[39;49mcollate_fn_map) \u001b[39mfor\u001b[39;00m samples \u001b[39min\u001b[39;00m transposed]  \u001b[39m# Backwards compatibility.\u001b[39;00m\n\u001b[1;32m    144\u001b[0m \u001b[39melse\u001b[39;00m:\n\u001b[1;32m    145\u001b[0m     \u001b[39mtry\u001b[39;00m:\n",
      "File \u001b[0;32m/opt/homebrew/Caskroom/miniforge/base/envs/torch-gpu/lib/python3.9/site-packages/torch/utils/data/_utils/collate.py:120\u001b[0m, in \u001b[0;36mcollate\u001b[0;34m(batch, collate_fn_map)\u001b[0m\n\u001b[1;32m    118\u001b[0m \u001b[39mif\u001b[39;00m collate_fn_map \u001b[39mis\u001b[39;00m \u001b[39mnot\u001b[39;00m \u001b[39mNone\u001b[39;00m:\n\u001b[1;32m    119\u001b[0m     \u001b[39mif\u001b[39;00m elem_type \u001b[39min\u001b[39;00m collate_fn_map:\n\u001b[0;32m--> 120\u001b[0m         \u001b[39mreturn\u001b[39;00m collate_fn_map[elem_type](batch, collate_fn_map\u001b[39m=\u001b[39;49mcollate_fn_map)\n\u001b[1;32m    122\u001b[0m     \u001b[39mfor\u001b[39;00m collate_type \u001b[39min\u001b[39;00m collate_fn_map:\n\u001b[1;32m    123\u001b[0m         \u001b[39mif\u001b[39;00m \u001b[39misinstance\u001b[39m(elem, collate_type):\n",
      "File \u001b[0;32m/opt/homebrew/Caskroom/miniforge/base/envs/torch-gpu/lib/python3.9/site-packages/torch/utils/data/_utils/collate.py:163\u001b[0m, in \u001b[0;36mcollate_tensor_fn\u001b[0;34m(batch, collate_fn_map)\u001b[0m\n\u001b[1;32m    161\u001b[0m     storage \u001b[39m=\u001b[39m elem\u001b[39m.\u001b[39mstorage()\u001b[39m.\u001b[39m_new_shared(numel, device\u001b[39m=\u001b[39melem\u001b[39m.\u001b[39mdevice)\n\u001b[1;32m    162\u001b[0m     out \u001b[39m=\u001b[39m elem\u001b[39m.\u001b[39mnew(storage)\u001b[39m.\u001b[39mresize_(\u001b[39mlen\u001b[39m(batch), \u001b[39m*\u001b[39m\u001b[39mlist\u001b[39m(elem\u001b[39m.\u001b[39msize()))\n\u001b[0;32m--> 163\u001b[0m \u001b[39mreturn\u001b[39;00m torch\u001b[39m.\u001b[39;49mstack(batch, \u001b[39m0\u001b[39;49m, out\u001b[39m=\u001b[39;49mout)\n",
      "\u001b[0;31mKeyboardInterrupt\u001b[0m: "
     ]
    }
   ],
   "source": [
    "for epoch in range(1, NUM_EPOCHS + 1):\n",
    "    epoch_start_time = time.time()\n",
    "    \n",
    "    train(train_dl, model, optimizer, epoch)\n",
    "    # We have a learning rate scheduler here.\n",
    "    # Basically, given the state of the optimizer, this lowers the learning rate in a smart way.\n",
    "    scheduler.step()"
   ]
  },
  {
   "cell_type": "code",
   "execution_count": null,
   "id": "b0227888",
   "metadata": {},
   "outputs": [],
   "source": []
  },
  {
   "cell_type": "markdown",
   "id": "7187dcf9",
   "metadata": {},
   "source": [
    "### Some diagnostics."
   ]
  },
  {
   "cell_type": "markdown",
   "id": "ae40d972",
   "metadata": {},
   "source": [
    "Sometimes you want to add diagnostics to your NN.\n",
    "- For each iteration, get the $L_2$ norm of the gradients* learning_rate and divide this by the parameters. This should be about -3 on the log scale, i.e. the ratio should be about 0.001. If the ratios are smaller, the learning rate might be too small, otherwise too large. Below we do this for the Skip-Gram model above.\n"
   ]
  },
  {
   "cell_type": "code",
   "execution_count": 41,
   "id": "f5d9d9e3",
   "metadata": {},
   "outputs": [
    {
     "data": {
      "text/plain": [
       "<matplotlib.legend.Legend at 0x34ee0c8b0>"
      ]
     },
     "execution_count": 41,
     "metadata": {},
     "output_type": "execute_result"
    },
    {
     "data": {
      "image/png": "[encoded data removed]",
      "text/plain": [
       "<Figure size 2000x400 with 1 Axes>"
      ]
     },
     "metadata": {},
     "output_type": "display_data"
    }
   ],
   "source": [
    "import matplotlib.pyplot as plt\n",
    "plt.figure(figsize=(20, 4))\n",
    "legends = []\n",
    "for i, (name, p) in enumerate(model.named_parameters()):\n",
    "    plt.plot([ratios[j][i] for j in range(len(ratios))])\n",
    "    legends.append('param {}'.format(name))\n",
    "plt.plot([0, len(ratios)], [-3, -3], 'r')\n",
    "plt.legend(legends)"
   ]
  },
  {
   "cell_type": "markdown",
   "id": "c013aadc",
   "metadata": {},
   "source": [
    "How do you make sure the learing rate is good? Look at the above plots and suppose we have $log(LR * ratio) = -5$. Then $LR * ratio = 10^{-5}$. Assuming the ratio does not vary much, this probably means we need to increase the learing rate $LR$. Similarly for a reverse direction."
   ]
  },
  {
   "cell_type": "code",
   "execution_count": null,
   "id": "c08e311d",
   "metadata": {},
   "outputs": [],
   "source": []
  }
 ],
 "metadata": {
  "kernelspec": {
   "display_name": "torch-gpu",
   "language": "python",
   "name": "python3"
  },
  "language_info": {
   "codemirror_mode": {
    "name": "ipython",
    "version": 3
   },
   "file_extension": ".py",
   "mimetype": "text/x-python",
   "name": "python",
   "nbconvert_exporter": "python",
   "pygments_lexer": "ipython3",
   "version": "3.9.15"
  },
  "vscode": {
   "interpreter": {
    "hash": "e1cb4ba5f411cfa4a68a7ea6c2f9ba3655e2604bd37447d058a856eda531fd15"
   }
  }
 },
 "nbformat": 4,
 "nbformat_minor": 5
}
