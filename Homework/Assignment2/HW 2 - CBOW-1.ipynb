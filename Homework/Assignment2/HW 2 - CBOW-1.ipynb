{
 "cells": [
  {
   "cell_type": "code",
   "execution_count": 73,
   "id": "080d50fc",
   "metadata": {},
   "outputs": [],
   "source": [
    "import time\n",
    "import torch\n",
    "from torch.utils.data import DataLoader, TensorDataset\n",
    "from torchtext.data.utils import get_tokenizer\n",
    "from torchtext.datasets import DATASETS\n",
    "from torchtext.vocab import build_vocab_from_iterator\n",
    "import torch.nn as nn\n",
    "from tqdm import tqdm\n",
    "import pickle\n",
    "import random\n",
    "import numpy as np\n",
    "from collections import Counter, defaultdict\n",
    "import numpy as np\n",
    "import matplotlib.pyplot as plt\n",
    "from sklearn.decomposition import PCA\n",
    "from gensim.test.utils import datapath, get_tmpfile\n",
    "from gensim.models import KeyedVectors\n",
    "import gensim.downloader\n",
    "from torch import FloatTensor as FT\n",
    "\n",
    "# Get the interactive Tools for Matplotlib\n",
    "%matplotlib notebook\n",
    "%matplotlib inline\n",
    "\n",
    "plt.style.use('ggplot')"
   ]
  },
  {
   "cell_type": "markdown",
   "id": "66eb271d",
   "metadata": {},
   "source": [
    "### Instructions\n",
    "For this part, fill in the required code and make the notebook work. This wll be very similar to the Skip-Gram model, but a little more difficult. Look for the \"\"\" FILL IN \"\"\" string to guide you."
   ]
  },
  {
   "cell_type": "code",
   "execution_count": 74,
   "id": "31b412ca",
   "metadata": {},
   "outputs": [],
   "source": [
    "# Where do I want to run my job. You can do \"cuda\" on linux machines.\n",
    "DEVICE = \"mps\" if torch.backends.mps.is_available() else  \"cpu\"\n",
    "# The batch size in Adam or SGD.\n",
    "BATCH_SIZE = 512\n",
    "# Number of epochs.\n",
    "NUM_EPOCHS = 10\n",
    "# Predict from 2 words the inner word for CBOW.\n",
    "# I.e. I'll have a window like [\"a\", \"b\", \"c\"] of continuous text (each is a word).\n",
    "# We'll predict each of wc = [\"a\", \"c\"] from \"b\" = wc for Skip-Gram.\n",
    "# For CBOW, we'll use [\"a\", \"c\"] to predict \"b\" = wo.\n",
    "WINDOW = 1\n",
    "\n",
    "# Negative samples.\n",
    "K = 4"
   ]
  },
  {
   "cell_type": "code",
   "execution_count": null,
   "id": "e3311ae5",
   "metadata": {},
   "outputs": [],
   "source": []
  },
  {
   "cell_type": "markdown",
   "id": "3ec9f90a",
   "metadata": {},
   "source": [
    "The text8 Wikipedia corpus. 100M characters."
   ]
  },
  {
   "cell_type": "code",
   "execution_count": 75,
   "id": "c32bf008",
   "metadata": {},
   "outputs": [
    {
     "name": "stdout",
     "output_type": "stream",
     "text": [
      " 95M\ttext8\n"
     ]
    }
   ],
   "source": [
    "!du -h text8"
   ]
  },
  {
   "cell_type": "code",
   "execution_count": 76,
   "id": "3217b67b",
   "metadata": {},
   "outputs": [
    {
     "name": "stdout",
     "output_type": "stream",
     "text": [
      "100000000\n"
     ]
    }
   ],
   "source": [
    "f = open('text8', 'r')\n",
    "text = f.read()\n",
    "# One big string of size 100M.\n",
    "print(len(text))"
   ]
  },
  {
   "cell_type": "code",
   "execution_count": 77,
   "id": "6c1bf892",
   "metadata": {},
   "outputs": [],
   "source": [
    "punc = '!\"#$%&()*+,-./:;<=>?@[\\\\]^_\\'{|}~\\t\\n'\n",
    "\n",
    "# Can do regular expressions here too.\n",
    "for c in punc:\n",
    "    if c in text:\n",
    "        text.replace(c, ' ')"
   ]
  },
  {
   "cell_type": "code",
   "execution_count": null,
   "id": "451bf3ab",
   "metadata": {},
   "outputs": [],
   "source": []
  },
  {
   "cell_type": "code",
   "execution_count": 78,
   "id": "0bc19b0c",
   "metadata": {},
   "outputs": [],
   "source": [
    "# A very crude tokenizer you get for free: lower case and also split on spaces.\n",
    "TOKENIZER = get_tokenizer(\"basic_english\")"
   ]
  },
  {
   "cell_type": "code",
   "execution_count": 79,
   "id": "ff8fd598",
   "metadata": {},
   "outputs": [],
   "source": [
    "words = TOKENIZER(text)\n",
    "f = Counter(words)"
   ]
  },
  {
   "cell_type": "code",
   "execution_count": 80,
   "id": "ba7f72f8",
   "metadata": {},
   "outputs": [
    {
     "data": {
      "text/plain": [
       "17005207"
      ]
     },
     "execution_count": 80,
     "metadata": {},
     "output_type": "execute_result"
    }
   ],
   "source": [
    "len(words)"
   ]
  },
  {
   "cell_type": "code",
   "execution_count": 81,
   "id": "16b736a4",
   "metadata": {},
   "outputs": [],
   "source": [
    "# Do a very crude filter on the text which removes all very popular words.\n",
    "text = [word for word in words if f[word] > 5]"
   ]
  },
  {
   "cell_type": "code",
   "execution_count": 82,
   "id": "6916a763",
   "metadata": {},
   "outputs": [
    {
     "data": {
      "text/plain": [
       "['anarchism', 'originated', 'as', 'a', 'term']"
      ]
     },
     "execution_count": 82,
     "metadata": {},
     "output_type": "execute_result"
    }
   ],
   "source": [
    "text[0:5]"
   ]
  },
  {
   "cell_type": "code",
   "execution_count": 83,
   "id": "10ad817a",
   "metadata": {},
   "outputs": [],
   "source": [
    "VOCAB = build_vocab_from_iterator([text])"
   ]
  },
  {
   "cell_type": "code",
   "execution_count": 84,
   "id": "a7f69fc9",
   "metadata": {},
   "outputs": [],
   "source": [
    "# word -> int hash map.\n",
    "stoi = VOCAB.get_stoi()\n",
    "# int -> word hash map.\n",
    "itos = VOCAB.get_itos() "
   ]
  },
  {
   "cell_type": "code",
   "execution_count": 85,
   "id": "9991f9ab",
   "metadata": {},
   "outputs": [
    {
     "data": {
      "text/plain": [
       "11"
      ]
     },
     "execution_count": 85,
     "metadata": {},
     "output_type": "execute_result"
    }
   ],
   "source": [
    "stoi['as']"
   ]
  },
  {
   "cell_type": "code",
   "execution_count": 86,
   "id": "0f49f5fa",
   "metadata": {},
   "outputs": [
    {
     "data": {
      "text/plain": [
       "63641"
      ]
     },
     "execution_count": 86,
     "metadata": {},
     "output_type": "execute_result"
    }
   ],
   "source": [
    "# Total number of words.\n",
    "len(stoi)"
   ]
  },
  {
   "cell_type": "code",
   "execution_count": 87,
   "id": "6c5c415a",
   "metadata": {},
   "outputs": [],
   "source": [
    "f = Counter(text)\n",
    "# This is the probability that we pick a word in the corpus.\n",
    "z = {word: f[word] / len(text) for word in f}"
   ]
  },
  {
   "cell_type": "code",
   "execution_count": 88,
   "id": "1e543e1e",
   "metadata": {},
   "outputs": [],
   "source": [
    "threshold = 1e-5\n",
    "# Probability that word is kept while subsampling.\n",
    "# This is explained here and sightly differet from the paper: http://mccormickml.com/2017/01/11/word2vec-tutorial-part-2-negative-sampling/\n",
    "p_keep = {word: (np.sqrt(z[word] / 0.001) + 1)*(0.0001 / z[word]) for word in f}"
   ]
  },
  {
   "cell_type": "code",
   "execution_count": 89,
   "id": "dd22119d",
   "metadata": {},
   "outputs": [],
   "source": [
    "# This is in the integer space.\n",
    "train_dataset = [word for word in text if random.random() < p_keep[word]]\n",
    "\n",
    "# Rebuild the vocabulary.\n",
    "VOCAB = build_vocab_from_iterator([train_dataset])"
   ]
  },
  {
   "cell_type": "code",
   "execution_count": 90,
   "id": "a2d695da",
   "metadata": {},
   "outputs": [
    {
     "data": {
      "text/plain": [
       "7846946"
      ]
     },
     "execution_count": 90,
     "metadata": {},
     "output_type": "execute_result"
    }
   ],
   "source": [
    "len(train_dataset)"
   ]
  },
  {
   "cell_type": "code",
   "execution_count": 91,
   "id": "30d67549",
   "metadata": {},
   "outputs": [],
   "source": [
    "# word -> int mapping.\n",
    "stoi = VOCAB.get_stoi()\n",
    "# int -> word mapping.\n",
    "itos = VOCAB.get_itos() "
   ]
  },
  {
   "cell_type": "code",
   "execution_count": 92,
   "id": "b46337b8",
   "metadata": {},
   "outputs": [
    {
     "data": {
      "text/plain": [
       "63641"
      ]
     },
     "execution_count": 92,
     "metadata": {},
     "output_type": "execute_result"
    }
   ],
   "source": [
    "# The vocabulary size after we do all the filters.\n",
    "len(VOCAB)"
   ]
  },
  {
   "cell_type": "code",
   "execution_count": 93,
   "id": "c9346f36",
   "metadata": {},
   "outputs": [],
   "source": [
    "# The probability we draw something for negative sampling.\n",
    "f = Counter(train_dataset)\n",
    "p = torch.zeros(len(VOCAB))\n",
    "\n",
    "# Downsample frequent words and upsample less frequent.\n",
    "s = sum([np.power(freq, 0.75) for word, freq in f.items()])        \n",
    "\n",
    "for word in f:\n",
    "    p[stoi[word]] = np.power(f[word], 0.75) / s"
   ]
  },
  {
   "cell_type": "code",
   "execution_count": 94,
   "id": "dd713c15",
   "metadata": {},
   "outputs": [],
   "source": [
    "# Map everything to integers.\n",
    "train_dataset = [stoi[word] for word in text]"
   ]
  },
  {
   "cell_type": "code",
   "execution_count": 95,
   "id": "8e96c0c4",
   "metadata": {},
   "outputs": [],
   "source": [
    "# This just gets the (wc, wo) pairs that are positive - they are seen together!\n",
    "def get_tokenized_dataset(dataset, verbose=False):\n",
    "    x_list = []\n",
    "        \n",
    "    for i, token in enumerate(dataset):\n",
    "        m = 1\n",
    "        \n",
    "        # Get the left and right tokens.\n",
    "        start = max(0, i-m)\n",
    "        left_tokens = dataset[start:i]\n",
    "        \n",
    "        end = min(len(dataset)-1, i+m)\n",
    "        right_tokens = dataset[i+1:end+1]\n",
    "        \n",
    "        # Check these are the same length, and if so use them to add a row of data. This should be a list like.\n",
    "        # [a, c, b] where b is the center word.\n",
    "        if len(left_tokens) == len(right_tokens):\n",
    "            w_context = left_tokens + right_tokens\n",
    "            \n",
    "            wc = token\n",
    "                        \n",
    "            x_list.extend(\n",
    "                [w_context + [wc]]\n",
    "            )\n",
    "            \n",
    "    return x_list"
   ]
  },
  {
   "cell_type": "code",
   "execution_count": 96,
   "id": "3eb82aad",
   "metadata": {},
   "outputs": [],
   "source": [
    "train_x_list = get_tokenized_dataset(train_dataset, verbose=False)"
   ]
  },
  {
   "cell_type": "code",
   "execution_count": 97,
   "id": "8412ee4d",
   "metadata": {},
   "outputs": [],
   "source": [
    "pickle.dump(train_x_list, open('train_x_list.pkl', 'wb'))"
   ]
  },
  {
   "cell_type": "code",
   "execution_count": 98,
   "id": "3fd54caf",
   "metadata": {},
   "outputs": [],
   "source": [
    "train_x_list = pickle.load(open('train_x_list.pkl', 'rb'))"
   ]
  },
  {
   "cell_type": "code",
   "execution_count": 99,
   "id": "576765f3",
   "metadata": {},
   "outputs": [
    {
     "data": {
      "text/plain": [
       "[[5233, 11, 3083],\n",
       " [3083, 5, 11],\n",
       " [11, 202, 5],\n",
       " [5, 1, 202],\n",
       " [202, 3133, 1],\n",
       " [1, 48, 3133],\n",
       " [3133, 56, 48],\n",
       " [48, 173, 56],\n",
       " [56, 107, 173],\n",
       " [173, 741, 107]]"
      ]
     },
     "execution_count": 99,
     "metadata": {},
     "output_type": "execute_result"
    }
   ],
   "source": [
    "# These are (wc, wo) pairs. All are y = +1 by design.\n",
    "train_x_list[:10]"
   ]
  },
  {
   "cell_type": "code",
   "execution_count": 100,
   "id": "9ed4ffd7",
   "metadata": {},
   "outputs": [
    {
     "data": {
      "text/plain": [
       "32579"
      ]
     },
     "execution_count": 100,
     "metadata": {},
     "output_type": "execute_result"
    }
   ],
   "source": [
    "len(train_x_list)// BATCH_SIZE"
   ]
  },
  {
   "cell_type": "code",
   "execution_count": 101,
   "id": "316df1dc",
   "metadata": {},
   "outputs": [],
   "source": [
    "# The number of things of BATCH_SIZE = 512.\n",
    "assert(len(train_x_list) // BATCH_SIZE == 32579)"
   ]
  },
  {
   "cell_type": "code",
   "execution_count": null,
   "id": "8012d03d",
   "metadata": {},
   "outputs": [],
   "source": []
  },
  {
   "cell_type": "markdown",
   "id": "488c3519",
   "metadata": {},
   "source": [
    "### Set up the dataloader."
   ]
  },
  {
   "cell_type": "code",
   "execution_count": 102,
   "id": "2e31ae4b",
   "metadata": {},
   "outputs": [],
   "source": [
    "train_dl = DataLoader(\n",
    "    TensorDataset(\n",
    "        torch.tensor(train_x_list).to(DEVICE),\n",
    "    ),\n",
    "    batch_size=BATCH_SIZE,\n",
    "    shuffle=True\n",
    ")"
   ]
  },
  {
   "cell_type": "code",
   "execution_count": 103,
   "id": "e9c42f50",
   "metadata": {},
   "outputs": [],
   "source": [
    "for xb in train_dl:\n",
    "    assert(xb[0].shape == (BATCH_SIZE, 3))\n",
    "    break"
   ]
  },
  {
   "cell_type": "code",
   "execution_count": null,
   "id": "8c949153",
   "metadata": {},
   "outputs": [],
   "source": []
  },
  {
   "cell_type": "markdown",
   "id": "12d93d22",
   "metadata": {},
   "source": [
    "### Words we'll use to asses the quality of the model ..."
   ]
  },
  {
   "cell_type": "code",
   "execution_count": 104,
   "id": "ffada8d0",
   "metadata": {},
   "outputs": [],
   "source": [
    "valid_ids = torch.tensor([\n",
    "    stoi['money'],\n",
    "    stoi['lion'],\n",
    "    stoi['africa'],\n",
    "    stoi['musician'],\n",
    "    stoi['dance'],\n",
    "])"
   ]
  },
  {
   "cell_type": "code",
   "execution_count": null,
   "id": "867d3a88",
   "metadata": {},
   "outputs": [],
   "source": []
  },
  {
   "cell_type": "markdown",
   "id": "64096cd8",
   "metadata": {},
   "source": [
    "### Get the model."
   ]
  },
  {
   "cell_type": "code",
   "execution_count": 105,
   "id": "dc51c359",
   "metadata": {},
   "outputs": [],
   "source": [
    "class CBOWNegativeSampling(nn.Module):\n",
    "    def __init__(self, vocab_size, embed_dim):\n",
    "        super(CBOWNegativeSampling, self).__init__()\n",
    "        self.A = nn.Embedding(vocab_size, embed_dim) # Context vectors - center word.\n",
    "        self.B = nn.Embedding(vocab_size, embed_dim) # Output vectors - words around the center word.\n",
    "        self.init_weights()\n",
    "\n",
    "    def init_weights(self):\n",
    "        # Is this the best way? Not sure.\n",
    "        initrange = 0.5\n",
    "        self.A.weight.data.uniform_(-initrange, initrange)\n",
    "        self.B.weight.data.uniform_(-initrange, initrange)\n",
    "\n",
    "    def forward(self, x):\n",
    "        # N is the batch size.\n",
    "        # x is (N, 3)\n",
    "        \n",
    "        # Context words are 2m things, m = 1 so w_context is (N, 2) while wc is (N, 1)\n",
    "        w_context, wc = x[:,0:2], x[:,2]\n",
    "                \n",
    "        # Each of these is (N, 2, D) since each context has 2 word.\n",
    "        # We want this to be (N, D) and this is what we get.\n",
    "        \n",
    "        # (N, 2, D)\n",
    "        a = self.A(w_context)\n",
    "        \n",
    "        # (N, D)\n",
    "        a_avg = torch.mean(a, dim=1)\n",
    "        \n",
    "        # Each of these is (N, D) since each target has 1 word.\n",
    "        b = self.B(wc)\n",
    "                \n",
    "        # The product between each context and target vector. Look at the Skip-Gram code.\n",
    "        # The logits is now (N, 1) since we sum across the final dimension.\n",
    "        logits = torch.sum(a_avg * b, dim=1)\n",
    "                \n",
    "        return logits"
   ]
  },
  {
   "cell_type": "code",
   "execution_count": null,
   "id": "7ae817c1",
   "metadata": {},
   "outputs": [],
   "source": []
  },
  {
   "cell_type": "code",
   "execution_count": 106,
   "id": "ed9c509d",
   "metadata": {},
   "outputs": [],
   "source": [
    "@torch.no_grad()\n",
    "def validate_embeddings(\n",
    "    model,\n",
    "    valid_ids,\n",
    "    itos\n",
    "):\n",
    "    \"\"\" Validation logic \"\"\"\n",
    "\n",
    "    # We will use context embeddings to get the most similar words\n",
    "    # Other strategies include: using target embeddings, mean embeddings after avaraging context/target\n",
    "    embedding_weights = model.A.weight\n",
    "        \n",
    "    normalized_embeddings = embedding_weights.cpu() / np.sqrt(\n",
    "        np.sum(embedding_weights.cpu().numpy()**2, axis=1, keepdims=True)\n",
    "    )\n",
    "\n",
    "    # Get the embeddings corresponding to valid_term_ids\n",
    "    valid_embeddings = normalized_embeddings[valid_ids, :]\n",
    "\n",
    "    # Compute the similarity between valid_term_ids (S) and all the embeddings (V).\n",
    "    # We do S x d (d x V) => S x D and sort by negative similarity.\n",
    "    top_k = 10 # Top k items will be displayed.\n",
    "    similarity = np.dot(valid_embeddings.cpu().numpy(), normalized_embeddings.cpu().numpy().T)\n",
    "\n",
    "    # Invert similarity matrix to negative\n",
    "    # Ignore the first one because that would be the same word as the probe word\n",
    "    similarity_top_k = np.argsort(-similarity, axis=1)[:, 1: top_k+1]\n",
    "\n",
    "    # Print the output.\n",
    "    for i, word_id in enumerate(valid_ids):\n",
    "        # j >= 1 here since we don't want to include the word itself.\n",
    "        similar_word_str = ', '.join([itos[j] for j in similarity_top_k[i, :] if j >= 1])\n",
    "        print(f\"{itos[word_id]}: {similar_word_str}\")\n",
    "\n",
    "    print('\\n')"
   ]
  },
  {
   "cell_type": "code",
   "execution_count": null,
   "id": "b0c194b8",
   "metadata": {},
   "outputs": [],
   "source": []
  },
  {
   "cell_type": "markdown",
   "id": "3b3c6ed5",
   "metadata": {},
   "source": [
    "### Set up the model"
   ]
  },
  {
   "cell_type": "code",
   "execution_count": 107,
   "id": "16da95d1",
   "metadata": {},
   "outputs": [],
   "source": [
    "LR = 10.0\n",
    "NUM_EPOCHS = 10\n",
    "EMBED_DIM = 300"
   ]
  },
  {
   "cell_type": "code",
   "execution_count": 108,
   "id": "cef585f4",
   "metadata": {},
   "outputs": [],
   "source": [
    "model = CBOWNegativeSampling(len(VOCAB), EMBED_DIM).to(DEVICE)\n",
    "optimizer = torch.optim.SGD(model.parameters(), lr=LR)\n",
    "# The learning rate is lowered every epoch by 1/10.\n",
    "# Is this a good idea?\n",
    "scheduler = torch.optim.lr_scheduler.StepLR(optimizer, 1, gamma=0.1)"
   ]
  },
  {
   "cell_type": "code",
   "execution_count": 109,
   "id": "f8a642bf",
   "metadata": {},
   "outputs": [
    {
     "data": {
      "text/plain": [
       "CBOWNegativeSampling(\n",
       "  (A): Embedding(63641, 300)\n",
       "  (B): Embedding(63641, 300)\n",
       ")"
      ]
     },
     "execution_count": 109,
     "metadata": {},
     "output_type": "execute_result"
    }
   ],
   "source": [
    "model"
   ]
  },
  {
   "cell_type": "code",
   "execution_count": 110,
   "id": "85773616",
   "metadata": {},
   "outputs": [
    {
     "name": "stdout",
     "output_type": "stream",
     "text": [
      "money: pappas, allowances, nippon, tagged, invaders, atypical, fibreglass, levine, tasteless, terminology\n",
      "lion: lanchester, tem, fetuses, crests, sharia, camino, freyja, stradonitz, gpp, effect\n",
      "africa: hawkwind, gilbertese, shrines, comically, tropospheric, rsta, artefacts, blok, theorizing, volsunga\n",
      "musician: frequented, fewest, basis, butterfield, hallucinogenic, applicability, mihdhar, snap, consular, lian\n",
      "dance: equator, temporally, liberating, platypus, broly, guillermo, enacting, perpignan, marbles, swedes\n",
      "\n",
      "\n"
     ]
    }
   ],
   "source": [
    "validate_embeddings(model, valid_ids, itos)"
   ]
  },
  {
   "cell_type": "code",
   "execution_count": null,
   "id": "66075f5e",
   "metadata": {},
   "outputs": [],
   "source": []
  },
  {
   "cell_type": "markdown",
   "id": "86476e2a",
   "metadata": {},
   "source": [
    "### Train the model"
   ]
  },
  {
   "cell_type": "code",
   "execution_count": 117,
   "id": "24950481",
   "metadata": {},
   "outputs": [],
   "source": [
    "ratios = []\n",
    "\n",
    "def train(dataloader, model, optimizer, epoch):\n",
    "    model.train()\n",
    "    total_acc, total_count, total_loss, total_batches = 0, 0, 0.0, 0.0\n",
    "    log_interval = 500\n",
    "    \n",
    "    for idx, x_batch in tqdm(enumerate(dataloader)):\n",
    "        \n",
    "        x_batch = x_batch[0]\n",
    "                \n",
    "        batch_size = x_batch.shape[0]\n",
    "        \n",
    "        # Zero the gradient so they don't accumulate.\n",
    "        optimizer.zero_grad()\n",
    "        \n",
    "        logits = model(x_batch)\n",
    "                        \n",
    "        # Get the positive samples loss. Notice we use weights here.\n",
    "        positive_loss = torch.nn.BCEWithLogitsLoss()(input=logits, target=torch.ones(batch_size).to(DEVICE).float())\n",
    "        \n",
    "        # For each batch, get some negative samples.\n",
    "        # We need a total of len(y_batch) * 2* WINDOW * K samples across a batch.\n",
    "        # We then reshape this batch.\n",
    "        # These are effectively the output words.\n",
    "        #print(\"Batch size: \", batch_size)\n",
    "        negative_samples = torch.multinomial(p, batch_size*K, replacement=True)\n",
    "        #print(\"negative_samples: \", negative_samples.size())\n",
    "        # Context words are 2m things, m = 1 so w_context is (N, 2) while wc is (N, 1)\n",
    "        w_context, wc =x_batch[:,0:2].to('cpu'), negative_samples\n",
    "        \n",
    "        #print(\"w_context: \", w_context.size())\n",
    "        #print(\"wc: \", wc.size())\n",
    "        \n",
    "        \"\"\"\n",
    "        if w_context looks like below (batch_size = 3)\n",
    "        [\n",
    "        (a, b),\n",
    "        (c, d),\n",
    "        (e, f)\n",
    "        ] and K = 2 we'd like to get:\n",
    "        \n",
    "        [\n",
    "        (a, b),\n",
    "        (a, b),\n",
    "        (c, d), \n",
    "        (c, d),\n",
    "        (e, f),\n",
    "        (e, f)\n",
    "        ]\n",
    "        \n",
    "        This will be batch_size * K rows.\n",
    "        \"\"\"\n",
    "        \n",
    "        # This should be (N * K, 2)\n",
    "        w_context = torch.concat([\n",
    "            w.repeat(K, 1) for w in torch.tensor(w_context).split(1)\n",
    "        ])\n",
    "        #print(\"w_context: \", w_context.size())\n",
    "        # Remove the last dimension 1.\n",
    "        wc = wc.view(wc.size()[0],1)\n",
    "        #print(\"wc: \", wc.size())\n",
    "        # Get the negative samples. This should be (N * K, 3).\n",
    "        # Concatenate the w_context and wc along the column. Make sure everything is on CUDA / MPS or CPU.\n",
    "        x_batch_negative = torch.concat([w_context, wc], axis=1).to(DEVICE)\n",
    "        #print(\"x_batch_negative: \", x_batch_negative.shape)      \n",
    "        \"\"\"\n",
    "        Note the way we formulated the targets: they are all 0 since these are negative samples.\n",
    "        We do the BCEWithLogitsLoss by hand basically here.\n",
    "        Notice we sum across the negative samples, per positive word.\n",
    "        \n",
    "        This is literally the equation in the lecture notes.\n",
    "        \"\"\"\n",
    "        \n",
    "        # (N, K, D) -> (N, D) -> (N)\n",
    "        # Look at the Skip-Gram notebook.\n",
    "        negative_loss = model(x_batch_negative).neg().sigmoid().log().reshape(\n",
    "            batch_size, K\n",
    "        ).sum(1).mean().neg().to(DEVICE)\n",
    "        \n",
    "        loss = (positive_loss + negative_loss).mean()\n",
    "                \n",
    "        # Get the gradients via back propagation. \n",
    "        loss.backward()\n",
    "                        \n",
    "        # Clip the gradients? Generally a good idea.\n",
    "        torch.nn.utils.clip_grad_norm_(model.parameters(), 0.1)\n",
    "        \n",
    "        # Used for optimization. This should be roughly 0.001, on average.\n",
    "        # You can use this to see if your learning rate is right - you can also plot the loss performance.\n",
    "        with torch.no_grad():\n",
    "            r = [\n",
    "                (LR * p.grad.std() / p.data.std()).log10().item() for _, p in model.named_parameters()\n",
    "            ]\n",
    "            ratios.append(r)  \n",
    "        \n",
    "        # Do an optimization step. Update the parameters A and B.\n",
    "        optimizer.step()\n",
    "        # Get the new loss.\n",
    "        total_loss += loss.item()\n",
    "        # Update the batch count.\n",
    "        total_batches += 1\n",
    "                \n",
    "        if idx % log_interval == 0:\n",
    "            print(\n",
    "                \"| epoch {:3d} | {:5d}/{:5d} batches \"\n",
    "                \"| loss {:8.3f} \".format(\n",
    "                    epoch,\n",
    "                    idx,\n",
    "                    len(dataloader),\n",
    "                    total_loss / total_batches\n",
    "                )\n",
    "            )\n",
    "            validate_embeddings(model, valid_ids, itos)\n",
    "            total_loss, total_batches = 0.0, 0.0"
   ]
  },
  {
   "cell_type": "markdown",
   "id": "0764d675",
   "metadata": {},
   "source": [
    "### Some results from the run look like below:\n",
    "\n",
    "Somewhere inside of 2 iterations you should get sensible associattions.\n",
    "Paste here a screenshot of the closest vectors."
   ]
  },
  {
   "cell_type": "code",
   "execution_count": 118,
   "id": "a9e02c09",
   "metadata": {},
   "outputs": [
    {
     "name": "stderr",
     "output_type": "stream",
     "text": [
      "0it [00:00, ?it/s]/var/folders/f8/mb2zprsj5wj1n9ygh0fcr3nw0000gn/T/ipykernel_3925/750430753.py:57: UserWarning: To copy construct from a tensor, it is recommended to use sourceTensor.clone().detach() or sourceTensor.clone().detach().requires_grad_(True), rather than torch.tensor(sourceTensor).\n",
      "  w.repeat(K, 1) for w in torch.tensor(w_context).split(1)\n",
      "2it [00:00,  2.95it/s]"
     ]
    },
    {
     "name": "stdout",
     "output_type": "stream",
     "text": [
      "| epoch   1 |     0/32580 batches | loss    1.330 \n",
      "money: able, idea, fact, seen, time, practice, existence, way, well, nine\n",
      "lion: effect, articles, elected, presented, result, vote, movies, musician, eight, lake\n",
      "africa: europe, america, india, east, asia, china, kingdom, nine, coast, west\n",
      "musician: singer, actor, author, actress, composer, writer, nine, basis, seven, born\n",
      "dance: music, original, addition, history, culture, largest, whole, rock, parts, style\n",
      "\n",
      "\n"
     ]
    },
    {
     "name": "stderr",
     "output_type": "stream",
     "text": [
      "502it [00:47,  9.69it/s]"
     ]
    },
    {
     "name": "stdout",
     "output_type": "stream",
     "text": [
      "| epoch   1 |   500/32580 batches | loss    1.380 \n",
      "money: able, idea, fact, seen, time, practice, way, well, nine, existence\n",
      "lion: effect, articles, elected, presented, result, vote, movies, musician, eight, town\n",
      "africa: europe, america, india, east, asia, china, kingdom, coast, nine, west\n",
      "musician: singer, actor, author, actress, composer, writer, nine, seven, born, basis\n",
      "dance: music, original, addition, history, culture, whole, largest, parts, rock, style\n",
      "\n",
      "\n"
     ]
    },
    {
     "name": "stderr",
     "output_type": "stream",
     "text": [
      "1002it [01:32,  9.89it/s]"
     ]
    },
    {
     "name": "stdout",
     "output_type": "stream",
     "text": [
      "| epoch   1 |  1000/32580 batches | loss    1.376 \n",
      "money: able, idea, time, fact, seen, practice, existence, way, well, nine\n",
      "lion: effect, articles, elected, presented, result, musician, vote, movies, town, eight\n",
      "africa: europe, america, east, india, asia, china, kingdom, coast, japan, west\n",
      "musician: singer, actor, author, actress, composer, writer, nine, seven, born, basis\n",
      "dance: music, original, addition, history, culture, whole, traditional, largest, rock, parts\n",
      "\n",
      "\n"
     ]
    },
    {
     "name": "stderr",
     "output_type": "stream",
     "text": [
      "1502it [02:18,  9.85it/s]"
     ]
    },
    {
     "name": "stdout",
     "output_type": "stream",
     "text": [
      "| epoch   1 |  1500/32580 batches | loss    1.373 \n",
      "money: able, time, idea, fact, seen, practice, existence, way, well, return\n",
      "lion: articles, effect, elected, result, presented, eight, musician, town, vote, movies\n",
      "africa: europe, america, east, india, china, asia, kingdom, coast, japan, west\n",
      "musician: singer, actor, actress, author, composer, writer, nine, seven, born, politician\n",
      "dance: music, original, addition, history, whole, culture, rock, traditional, largest, parts\n",
      "\n",
      "\n"
     ]
    },
    {
     "name": "stderr",
     "output_type": "stream",
     "text": [
      "2002it [03:04,  9.68it/s]"
     ]
    },
    {
     "name": "stdout",
     "output_type": "stream",
     "text": [
      "| epoch   1 |  2000/32580 batches | loss    1.369 \n",
      "money: able, time, idea, fact, seen, practice, existence, way, well, return\n",
      "lion: articles, effect, elected, presented, result, eight, musician, town, vote, emperor\n",
      "africa: europe, america, india, east, asia, china, kingdom, japan, coast, germany\n",
      "musician: singer, actor, actress, author, composer, writer, nine, seven, politician, born\n",
      "dance: music, addition, original, history, whole, culture, largest, traditional, rock, parts\n",
      "\n",
      "\n"
     ]
    },
    {
     "name": "stderr",
     "output_type": "stream",
     "text": [
      "2502it [03:50,  9.61it/s]"
     ]
    },
    {
     "name": "stdout",
     "output_type": "stream",
     "text": [
      "| epoch   1 |  2500/32580 batches | loss    1.363 \n",
      "money: able, time, idea, fact, seen, practice, existence, way, well, return\n",
      "lion: articles, effect, elected, presented, eight, result, musician, vote, town, movies\n",
      "africa: europe, india, america, east, asia, china, kingdom, japan, coast, germany\n",
      "musician: singer, actor, actress, author, composer, writer, nine, politician, born, seven\n",
      "dance: music, original, addition, whole, history, culture, largest, rock, traditional, style\n",
      "\n",
      "\n"
     ]
    },
    {
     "name": "stderr",
     "output_type": "stream",
     "text": [
      "3002it [04:37,  8.97it/s]"
     ]
    },
    {
     "name": "stdout",
     "output_type": "stream",
     "text": [
      "| epoch   1 |  3000/32580 batches | loss    1.366 \n",
      "money: able, time, idea, fact, practice, seen, existence, way, well, return\n",
      "lion: articles, effect, elected, presented, result, eight, musician, vote, directors, movies\n",
      "africa: europe, india, america, east, china, asia, kingdom, japan, coast, germany\n",
      "musician: singer, actor, actress, author, composer, writer, politician, nine, born, seven\n",
      "dance: music, addition, original, whole, culture, largest, history, traditional, rock, parts\n",
      "\n",
      "\n"
     ]
    },
    {
     "name": "stderr",
     "output_type": "stream",
     "text": [
      "3501it [05:23,  9.87it/s]"
     ]
    },
    {
     "name": "stdout",
     "output_type": "stream",
     "text": [
      "| epoch   1 |  3500/32580 batches | loss    1.363 \n",
      "money: able, time, idea, fact, practice, seen, existence, way, well, return\n",
      "lion: articles, elected, effect, result, presented, eight, five, musician, vote, movies\n",
      "africa: europe, india, america, china, east, asia, kingdom, japan, coast, germany\n",
      "musician: singer, actor, actress, author, composer, writer, politician, born, eight, nine\n",
      "dance: music, original, addition, whole, culture, largest, rock, history, traditional, parts\n",
      "\n",
      "\n"
     ]
    },
    {
     "name": "stderr",
     "output_type": "stream",
     "text": [
      "4001it [06:09, 10.09it/s]"
     ]
    },
    {
     "name": "stdout",
     "output_type": "stream",
     "text": [
      "| epoch   1 |  4000/32580 batches | loss    1.363 \n",
      "money: able, time, idea, practice, fact, existence, way, seen, well, return\n",
      "lion: elected, articles, effect, result, presented, five, eight, four, vote, musician\n",
      "africa: europe, india, america, east, china, asia, kingdom, japan, coast, germany\n",
      "musician: singer, actor, actress, composer, author, writer, politician, nine, born, seven\n",
      "dance: music, original, addition, whole, history, culture, traditional, rock, same, largest\n",
      "\n",
      "\n"
     ]
    },
    {
     "name": "stderr",
     "output_type": "stream",
     "text": [
      "4502it [06:55,  9.44it/s]"
     ]
    },
    {
     "name": "stdout",
     "output_type": "stream",
     "text": [
      "| epoch   1 |  4500/32580 batches | loss    1.356 \n",
      "money: able, idea, time, practice, fact, way, existence, seen, return, nine\n",
      "lion: effect, elected, articles, five, result, presented, eight, four, musician, vote\n",
      "africa: europe, india, america, east, china, asia, kingdom, coast, japan, germany\n",
      "musician: singer, actor, actress, composer, author, writer, nine, politician, born, seven\n",
      "dance: music, original, addition, whole, traditional, rock, culture, largest, main, history\n",
      "\n",
      "\n"
     ]
    },
    {
     "name": "stderr",
     "output_type": "stream",
     "text": [
      "5001it [07:41, 10.04it/s]"
     ]
    },
    {
     "name": "stdout",
     "output_type": "stream",
     "text": [
      "| epoch   1 |  5000/32580 batches | loss    1.348 \n",
      "money: able, idea, time, practice, fact, way, existence, return, seen, well\n",
      "lion: articles, elected, effect, eight, result, presented, vote, directors, musician, movies\n",
      "africa: europe, india, america, china, east, asia, kingdom, coast, japan, germany\n",
      "musician: singer, actor, actress, composer, author, writer, politician, nine, seven, born\n",
      "dance: music, original, addition, traditional, whole, rock, main, same, largest, history\n",
      "\n",
      "\n"
     ]
    },
    {
     "name": "stderr",
     "output_type": "stream",
     "text": [
      "5502it [08:27,  9.76it/s]"
     ]
    },
    {
     "name": "stdout",
     "output_type": "stream",
     "text": [
      "| epoch   1 |  5500/32580 batches | loss    1.349 \n",
      "money: time, able, idea, practice, fact, way, existence, return, seen, well\n",
      "lion: effect, articles, eight, elected, result, presented, musician, vote, directors, movies\n",
      "africa: europe, india, america, china, east, asia, kingdom, coast, japan, germany\n",
      "musician: singer, actor, actress, composer, author, writer, politician, nine, born, deaths\n",
      "dance: music, original, addition, rock, traditional, whole, history, same, main, style\n",
      "\n",
      "\n"
     ]
    },
    {
     "name": "stderr",
     "output_type": "stream",
     "text": [
      "6001it [09:13, 10.04it/s]"
     ]
    },
    {
     "name": "stdout",
     "output_type": "stream",
     "text": [
      "| epoch   1 |  6000/32580 batches | loss    1.342 \n",
      "money: time, able, idea, practice, fact, existence, way, return, well, seen\n",
      "lion: effect, elected, articles, result, eight, four, presented, musician, vote, movies\n",
      "africa: europe, india, america, china, east, asia, kingdom, coast, japan, germany\n",
      "musician: singer, actor, actress, composer, writer, author, politician, born, nine, eight\n",
      "dance: music, original, addition, traditional, history, rock, whole, main, same, style\n",
      "\n",
      "\n"
     ]
    },
    {
     "name": "stderr",
     "output_type": "stream",
     "text": [
      "6501it [09:59,  9.75it/s]"
     ]
    },
    {
     "name": "stdout",
     "output_type": "stream",
     "text": [
      "| epoch   1 |  6500/32580 batches | loss    1.340 \n",
      "money: time, able, idea, practice, fact, way, existence, return, well, nine\n",
      "lion: four, effect, eight, articles, elected, result, three, presented, directors, musician\n",
      "africa: europe, india, america, china, east, asia, kingdom, coast, japan, north\n",
      "musician: singer, actor, actress, composer, writer, author, politician, born, nine, deaths\n",
      "dance: music, original, history, addition, rock, traditional, main, whole, culture, style\n",
      "\n",
      "\n"
     ]
    },
    {
     "name": "stderr",
     "output_type": "stream",
     "text": [
      "7001it [10:45,  9.98it/s]"
     ]
    },
    {
     "name": "stdout",
     "output_type": "stream",
     "text": [
      "| epoch   1 |  7000/32580 batches | loss    1.336 \n",
      "money: time, able, idea, practice, way, existence, fact, return, well, making\n",
      "lion: four, effect, eight, elected, three, result, articles, five, musician, directors\n",
      "africa: europe, india, america, china, asia, east, coast, kingdom, japan, germany\n",
      "musician: singer, actor, actress, composer, writer, author, politician, nine, born, deaths\n",
      "dance: music, original, addition, rock, history, traditional, whole, culture, main, style\n",
      "\n",
      "\n"
     ]
    },
    {
     "name": "stderr",
     "output_type": "stream",
     "text": [
      "7502it [11:30,  9.73it/s]"
     ]
    },
    {
     "name": "stdout",
     "output_type": "stream",
     "text": [
      "| epoch   1 |  7500/32580 batches | loss    1.336 \n",
      "money: time, idea, able, practice, existence, fact, return, way, well, support\n",
      "lion: effect, elected, three, eight, four, result, musician, articles, directors, vote\n",
      "africa: europe, india, china, america, asia, east, coast, kingdom, japan, germany\n",
      "musician: singer, actor, actress, composer, writer, author, politician, nine, born, deaths\n",
      "dance: music, original, rock, addition, history, traditional, culture, whole, main, style\n",
      "\n",
      "\n"
     ]
    },
    {
     "name": "stderr",
     "output_type": "stream",
     "text": [
      "8002it [12:16,  9.65it/s]"
     ]
    },
    {
     "name": "stdout",
     "output_type": "stream",
     "text": [
      "| epoch   1 |  8000/32580 batches | loss    1.334 \n",
      "money: time, idea, able, practice, existence, fact, return, way, support, sense\n",
      "lion: elected, effect, three, musician, eight, result, four, articles, vote, directors\n",
      "africa: europe, india, america, china, asia, east, coast, japan, kingdom, germany\n",
      "musician: singer, actor, composer, actress, writer, author, politician, nine, born, deaths\n",
      "dance: music, original, rock, addition, history, whole, traditional, culture, main, same\n",
      "\n",
      "\n"
     ]
    },
    {
     "name": "stderr",
     "output_type": "stream",
     "text": [
      "8502it [13:02,  9.78it/s]"
     ]
    },
    {
     "name": "stdout",
     "output_type": "stream",
     "text": [
      "| epoch   1 |  8500/32580 batches | loss    1.326 \n",
      "money: time, idea, able, practice, existence, fact, return, way, support, well\n",
      "lion: eight, effect, elected, musician, result, three, four, five, directors, presented\n",
      "africa: europe, india, america, china, asia, east, coast, japan, kingdom, germany\n",
      "musician: singer, actor, composer, actress, writer, author, politician, nine, born, eight\n",
      "dance: music, original, rock, addition, history, culture, traditional, whole, style, popular\n",
      "\n",
      "\n"
     ]
    },
    {
     "name": "stderr",
     "output_type": "stream",
     "text": [
      "9000it [13:50, 10.88it/s]"
     ]
    },
    {
     "name": "stdout",
     "output_type": "stream",
     "text": [
      "| epoch   1 |  9000/32580 batches | loss    1.325 \n",
      "money: time, idea, able, practice, existence, fact, return, support, way, well\n",
      "lion: musician, result, elected, effect, eight, three, directors, six, vote, presented\n",
      "africa: europe, india, america, china, asia, east, coast, japan, kingdom, germany\n",
      "musician: singer, actor, composer, actress, writer, author, politician, nine, born, deaths\n",
      "dance: music, original, rock, history, addition, traditional, culture, style, whole, popular\n",
      "\n",
      "\n"
     ]
    },
    {
     "name": "stderr",
     "output_type": "stream",
     "text": [
      "9502it [14:36,  9.30it/s]"
     ]
    },
    {
     "name": "stdout",
     "output_type": "stream",
     "text": [
      "| epoch   1 |  9500/32580 batches | loss    1.327 \n",
      "money: time, idea, able, practice, existence, fact, return, her, well, support\n",
      "lion: result, musician, effect, eight, elected, six, three, directors, vote, four\n",
      "africa: europe, india, america, china, asia, east, japan, coast, kingdom, germany\n",
      "musician: singer, actor, composer, actress, writer, author, politician, nine, born, seven\n",
      "dance: music, original, rock, history, addition, style, traditional, culture, popular, whole\n",
      "\n",
      "\n"
     ]
    },
    {
     "name": "stderr",
     "output_type": "stream",
     "text": [
      "10001it [15:23,  9.83it/s]"
     ]
    },
    {
     "name": "stdout",
     "output_type": "stream",
     "text": [
      "| epoch   1 | 10000/32580 batches | loss    1.323 \n",
      "money: idea, time, able, practice, existence, return, fact, way, support, well\n",
      "lion: eight, four, musician, result, elected, effect, three, six, directors, vote\n",
      "africa: europe, india, america, china, asia, east, japan, coast, kingdom, germany\n",
      "musician: singer, composer, actor, actress, writer, author, politician, nine, born, seven\n",
      "dance: music, rock, original, history, addition, style, traditional, popular, culture, whole\n",
      "\n",
      "\n"
     ]
    },
    {
     "name": "stderr",
     "output_type": "stream",
     "text": [
      "10501it [16:09,  9.04it/s]"
     ]
    },
    {
     "name": "stdout",
     "output_type": "stream",
     "text": [
      "| epoch   1 | 10500/32580 batches | loss    1.316 \n",
      "money: time, idea, able, practice, existence, return, way, fact, well, support\n",
      "lion: four, musician, result, three, eight, effect, six, elected, directors, vote\n",
      "africa: europe, india, america, china, asia, east, coast, japan, kingdom, germany\n",
      "musician: singer, composer, actor, actress, writer, author, politician, born, nine, deaths\n",
      "dance: music, rock, original, traditional, history, addition, style, popular, culture, whole\n",
      "\n",
      "\n"
     ]
    },
    {
     "name": "stderr",
     "output_type": "stream",
     "text": [
      "11001it [16:55, 10.15it/s]"
     ]
    },
    {
     "name": "stdout",
     "output_type": "stream",
     "text": [
      "| epoch   1 | 11000/32580 batches | loss    1.319 \n",
      "money: time, idea, able, practice, existence, return, fact, way, laws, support\n",
      "lion: musician, four, three, six, eight, result, effect, elected, directors, presented\n",
      "africa: europe, india, america, asia, china, east, coast, japan, kingdom, germany\n",
      "musician: singer, composer, actor, actress, writer, author, politician, nine, seven, born\n",
      "dance: music, rock, original, style, traditional, addition, popular, culture, history, whole\n",
      "\n",
      "\n"
     ]
    },
    {
     "name": "stderr",
     "output_type": "stream",
     "text": [
      "11501it [17:41,  9.80it/s]"
     ]
    },
    {
     "name": "stdout",
     "output_type": "stream",
     "text": [
      "| epoch   1 | 11500/32580 batches | loss    1.316 \n",
      "money: time, idea, able, practice, existence, return, fact, laws, way, well\n",
      "lion: three, four, musician, six, result, effect, eight, elected, nine, directors\n",
      "africa: europe, india, america, asia, china, east, japan, coast, kingdom, korea\n",
      "musician: singer, composer, actor, actress, writer, author, politician, nine, born, seven\n",
      "dance: music, rock, original, traditional, addition, style, popular, culture, history, whole\n",
      "\n",
      "\n"
     ]
    },
    {
     "name": "stderr",
     "output_type": "stream",
     "text": [
      "12002it [18:27,  9.32it/s]"
     ]
    },
    {
     "name": "stdout",
     "output_type": "stream",
     "text": [
      "| epoch   1 | 12000/32580 batches | loss    1.314 \n",
      "money: idea, time, able, practice, existence, return, fact, way, well, support\n",
      "lion: three, four, musician, result, six, effect, eight, nine, elected, directors\n",
      "africa: europe, india, america, asia, china, east, japan, coast, kingdom, korea\n",
      "musician: singer, composer, actor, actress, writer, author, politician, nine, born, seven\n",
      "dance: music, rock, original, traditional, addition, popular, style, culture, whole, history\n",
      "\n",
      "\n"
     ]
    },
    {
     "name": "stderr",
     "output_type": "stream",
     "text": [
      "12502it [19:13,  9.73it/s]"
     ]
    },
    {
     "name": "stdout",
     "output_type": "stream",
     "text": [
      "| epoch   1 | 12500/32580 batches | loss    1.311 \n",
      "money: idea, time, able, practice, existence, return, way, fact, support, well\n",
      "lion: four, three, musician, effect, result, six, eight, nine, directors, presented\n",
      "africa: europe, india, asia, america, china, east, japan, coast, kingdom, korea\n",
      "musician: singer, composer, actor, actress, writer, author, politician, nine, born, seven\n",
      "dance: music, rock, original, traditional, addition, popular, culture, style, largest, musical\n",
      "\n",
      "\n"
     ]
    },
    {
     "name": "stderr",
     "output_type": "stream",
     "text": [
      "13002it [19:59,  9.70it/s]"
     ]
    },
    {
     "name": "stdout",
     "output_type": "stream",
     "text": [
      "| epoch   1 | 13000/32580 batches | loss    1.305 \n",
      "money: idea, time, able, practice, existence, way, return, well, fact, support\n",
      "lion: four, musician, eight, result, effect, presented, directors, elected, six, nine\n",
      "africa: europe, india, asia, america, china, east, coast, japan, kingdom, korea\n",
      "musician: singer, composer, actor, actress, writer, author, politician, born, nine, deaths\n",
      "dance: music, rock, original, traditional, culture, addition, popular, style, whole, largest\n",
      "\n",
      "\n"
     ]
    },
    {
     "name": "stderr",
     "output_type": "stream",
     "text": [
      "13502it [20:45,  9.90it/s]"
     ]
    },
    {
     "name": "stdout",
     "output_type": "stream",
     "text": [
      "| epoch   1 | 13500/32580 batches | loss    1.303 \n",
      "money: idea, able, time, practice, existence, way, return, support, much, sense\n",
      "lion: four, eight, musician, result, effect, presented, directors, elected, lot, nine\n",
      "africa: europe, india, asia, america, china, east, japan, coast, kingdom, korea\n",
      "musician: singer, composer, actor, actress, writer, author, politician, nine, born, deaths\n",
      "dance: music, rock, original, traditional, addition, culture, style, popular, history, musical\n",
      "\n",
      "\n"
     ]
    },
    {
     "name": "stderr",
     "output_type": "stream",
     "text": [
      "14002it [21:31,  9.75it/s]"
     ]
    },
    {
     "name": "stdout",
     "output_type": "stream",
     "text": [
      "| epoch   1 | 14000/32580 batches | loss    1.308 \n",
      "money: idea, time, practice, able, existence, way, support, sense, return, well\n",
      "lion: four, musician, result, eight, directors, six, presented, effect, elected, lot\n",
      "africa: europe, india, asia, america, china, east, japan, coast, kingdom, korea\n",
      "musician: singer, composer, actor, actress, writer, author, politician, nine, born, deaths\n",
      "dance: music, rock, original, traditional, culture, addition, popular, style, largest, musical\n",
      "\n",
      "\n"
     ]
    },
    {
     "name": "stderr",
     "output_type": "stream",
     "text": [
      "14502it [22:17,  9.62it/s]"
     ]
    },
    {
     "name": "stdout",
     "output_type": "stream",
     "text": [
      "| epoch   1 | 14500/32580 batches | loss    1.306 \n",
      "money: idea, time, practice, able, existence, way, support, sense, laws, making\n",
      "lion: four, musician, eight, result, directors, presented, six, lot, effect, vote\n",
      "africa: india, europe, asia, china, america, east, japan, coast, korea, kingdom\n",
      "musician: singer, composer, actor, actress, writer, author, politician, nine, born, deaths\n",
      "dance: music, rock, original, traditional, culture, addition, popular, musical, style, history\n",
      "\n",
      "\n"
     ]
    },
    {
     "name": "stderr",
     "output_type": "stream",
     "text": [
      "15002it [23:03,  9.49it/s]"
     ]
    },
    {
     "name": "stdout",
     "output_type": "stream",
     "text": [
      "| epoch   1 | 15000/32580 batches | loss    1.295 \n",
      "money: idea, able, practice, time, existence, way, support, laws, making, sense\n",
      "lion: four, musician, result, directors, six, presented, eight, vote, once, lot\n",
      "africa: europe, india, asia, china, america, east, japan, coast, korea, kingdom\n",
      "musician: singer, composer, actor, actress, writer, author, politician, nine, born, deaths\n",
      "dance: music, rock, traditional, culture, original, popular, addition, musical, history, style\n",
      "\n",
      "\n"
     ]
    },
    {
     "name": "stderr",
     "output_type": "stream",
     "text": [
      "15502it [23:50,  9.61it/s]"
     ]
    },
    {
     "name": "stdout",
     "output_type": "stream",
     "text": [
      "| epoch   1 | 15500/32580 batches | loss    1.298 \n",
      "money: idea, practice, time, able, existence, way, making, laws, support, much\n",
      "lion: four, musician, result, directors, vote, presented, six, lot, elected, once\n",
      "africa: europe, india, asia, china, america, japan, east, coast, korea, germany\n",
      "musician: singer, composer, actor, actress, writer, author, politician, nine, born, philosopher\n",
      "dance: music, rock, traditional, original, culture, addition, popular, musical, style, largest\n",
      "\n",
      "\n"
     ]
    },
    {
     "name": "stderr",
     "output_type": "stream",
     "text": [
      "16002it [24:35,  9.74it/s]"
     ]
    },
    {
     "name": "stdout",
     "output_type": "stream",
     "text": [
      "| epoch   1 | 16000/32580 batches | loss    1.294 \n",
      "money: idea, practice, time, able, existence, making, way, support, laws, return\n",
      "lion: four, musician, result, presented, directors, six, eight, vote, elected, lot\n",
      "africa: europe, india, asia, china, america, japan, coast, east, korea, germany\n",
      "musician: singer, composer, actor, actress, writer, author, politician, nine, philosopher, poet\n",
      "dance: music, rock, traditional, original, culture, addition, musical, popular, style, largest\n",
      "\n",
      "\n"
     ]
    },
    {
     "name": "stderr",
     "output_type": "stream",
     "text": [
      "16502it [25:22,  9.58it/s]"
     ]
    },
    {
     "name": "stdout",
     "output_type": "stream",
     "text": [
      "| epoch   1 | 16500/32580 batches | loss    1.293 \n",
      "money: idea, practice, time, able, existence, way, support, laws, making, much\n",
      "lion: musician, four, result, six, directors, presented, vote, lot, eight, elected\n",
      "africa: europe, india, china, asia, america, japan, coast, east, korea, germany\n",
      "musician: singer, composer, actor, actress, writer, author, politician, philosopher, nine, poet\n",
      "dance: music, rock, traditional, original, culture, musical, addition, popular, style, whole\n",
      "\n",
      "\n"
     ]
    },
    {
     "name": "stderr",
     "output_type": "stream",
     "text": [
      "17002it [26:08,  9.76it/s]"
     ]
    },
    {
     "name": "stdout",
     "output_type": "stream",
     "text": [
      "| epoch   1 | 17000/32580 batches | loss    1.289 \n",
      "money: idea, practice, time, able, existence, way, making, support, laws, much\n",
      "lion: musician, result, six, eight, four, presented, directors, vote, lot, sons\n",
      "africa: europe, india, china, asia, america, japan, coast, east, korea, germany\n",
      "musician: singer, composer, actor, actress, writer, author, politician, philosopher, nine, poet\n",
      "dance: music, rock, traditional, original, culture, musical, popular, addition, style, whole\n",
      "\n",
      "\n"
     ]
    },
    {
     "name": "stderr",
     "output_type": "stream",
     "text": [
      "17500it [26:53, 10.58it/s]"
     ]
    },
    {
     "name": "stdout",
     "output_type": "stream",
     "text": [
      "| epoch   1 | 17500/32580 batches | loss    1.280 \n",
      "money: idea, time, practice, able, existence, making, way, laws, support, much\n",
      "lion: musician, result, six, presented, directors, lot, vote, sons, four, elected\n",
      "africa: india, europe, china, asia, america, japan, coast, korea, east, russia\n",
      "musician: singer, composer, actor, actress, writer, author, politician, philosopher, poet, physicist\n",
      "dance: music, rock, traditional, culture, original, musical, popular, addition, style, largest\n",
      "\n",
      "\n"
     ]
    },
    {
     "name": "stderr",
     "output_type": "stream",
     "text": [
      "18002it [27:41,  9.35it/s]"
     ]
    },
    {
     "name": "stdout",
     "output_type": "stream",
     "text": [
      "| epoch   1 | 18000/32580 batches | loss    1.289 \n",
      "money: idea, time, practice, able, existence, support, much, way, laws, making\n",
      "lion: musician, result, eight, directors, presented, lot, wife, vote, sons, elected\n",
      "africa: india, europe, china, asia, america, japan, coast, korea, east, russia\n",
      "musician: singer, composer, actor, actress, writer, author, politician, philosopher, poet, physicist\n",
      "dance: music, rock, traditional, culture, musical, original, popular, addition, style, largest\n",
      "\n",
      "\n"
     ]
    },
    {
     "name": "stderr",
     "output_type": "stream",
     "text": [
      "18502it [28:27,  9.50it/s]"
     ]
    },
    {
     "name": "stdout",
     "output_type": "stream",
     "text": [
      "| epoch   1 | 18500/32580 batches | loss    1.287 \n",
      "money: idea, time, practice, able, existence, much, support, way, return, making\n",
      "lion: musician, result, eight, wife, directors, lot, presented, sons, elected, vote\n",
      "africa: europe, india, china, asia, america, korea, japan, coast, east, russia\n",
      "musician: singer, composer, actor, actress, writer, author, politician, philosopher, poet, physicist\n",
      "dance: music, rock, traditional, culture, musical, original, popular, addition, style, main\n",
      "\n",
      "\n"
     ]
    },
    {
     "name": "stderr",
     "output_type": "stream",
     "text": [
      "19001it [29:13,  9.62it/s]"
     ]
    },
    {
     "name": "stdout",
     "output_type": "stream",
     "text": [
      "| epoch   1 | 19000/32580 batches | loss    1.282 \n",
      "money: idea, time, practice, able, existence, much, support, way, return, making\n",
      "lion: musician, eight, lot, result, wife, directors, presented, sons, vote, elected\n",
      "africa: europe, china, asia, india, america, korea, japan, coast, east, russia\n",
      "musician: singer, composer, actress, actor, writer, author, politician, philosopher, poet, physicist\n",
      "dance: music, rock, traditional, culture, musical, original, addition, popular, style, whole\n",
      "\n",
      "\n"
     ]
    },
    {
     "name": "stderr",
     "output_type": "stream",
     "text": [
      "19502it [30:00,  9.46it/s]"
     ]
    },
    {
     "name": "stdout",
     "output_type": "stream",
     "text": [
      "| epoch   1 | 19500/32580 batches | loss    1.278 \n",
      "money: idea, time, practice, able, existence, way, much, support, laws, return\n",
      "lion: musician, eight, wife, lot, directors, result, presented, sons, vote, movies\n",
      "africa: europe, china, india, asia, america, japan, korea, coast, east, russia\n",
      "musician: singer, composer, actress, actor, writer, author, politician, philosopher, poet, physicist\n",
      "dance: music, rock, traditional, musical, culture, original, popular, addition, style, whole\n",
      "\n",
      "\n"
     ]
    },
    {
     "name": "stderr",
     "output_type": "stream",
     "text": [
      "20002it [30:46,  9.59it/s]"
     ]
    },
    {
     "name": "stdout",
     "output_type": "stream",
     "text": [
      "| epoch   1 | 20000/32580 batches | loss    1.275 \n",
      "money: idea, time, practice, able, existence, much, way, making, laws, return\n",
      "lion: musician, directors, eight, wife, lot, nine, result, sons, presented, vote\n",
      "africa: europe, china, india, asia, america, japan, korea, coast, east, australia\n",
      "musician: singer, composer, actress, actor, writer, author, politician, philosopher, poet, physicist\n",
      "dance: music, rock, traditional, musical, culture, popular, original, addition, style, whole\n",
      "\n",
      "\n"
     ]
    },
    {
     "name": "stderr",
     "output_type": "stream",
     "text": [
      "20502it [31:32,  9.66it/s]"
     ]
    },
    {
     "name": "stdout",
     "output_type": "stream",
     "text": [
      "| epoch   1 | 20500/32580 batches | loss    1.273 \n",
      "money: time, idea, practice, able, existence, much, return, making, way, support\n",
      "lion: musician, eight, directors, wife, lot, nine, sons, result, presented, five\n",
      "africa: europe, india, china, asia, america, japan, korea, coast, east, kingdom\n",
      "musician: singer, composer, actress, actor, writer, author, politician, philosopher, poet, physicist\n",
      "dance: music, rock, traditional, musical, culture, popular, original, addition, style, whole\n",
      "\n",
      "\n"
     ]
    },
    {
     "name": "stderr",
     "output_type": "stream",
     "text": [
      "21002it [32:18,  9.54it/s]"
     ]
    },
    {
     "name": "stdout",
     "output_type": "stream",
     "text": [
      "| epoch   1 | 21000/32580 batches | loss    1.274 \n",
      "money: idea, time, practice, able, existence, much, return, making, support, help\n",
      "lion: musician, eight, directors, wife, lot, result, sons, presented, five, nine\n",
      "africa: europe, india, asia, china, america, japan, korea, coast, east, australia\n",
      "musician: singer, composer, actress, actor, writer, author, politician, philosopher, poet, physicist\n",
      "dance: music, traditional, rock, musical, culture, popular, original, addition, style, recorded\n",
      "\n",
      "\n"
     ]
    },
    {
     "name": "stderr",
     "output_type": "stream",
     "text": [
      "21502it [33:04,  9.70it/s]"
     ]
    },
    {
     "name": "stdout",
     "output_type": "stream",
     "text": [
      "| epoch   1 | 21500/32580 batches | loss    1.270 \n",
      "money: idea, time, practice, able, existence, much, support, return, help, way\n",
      "lion: musician, nine, lot, eight, directors, wife, result, sons, vote, four\n",
      "africa: europe, india, asia, china, america, korea, japan, coast, australia, east\n",
      "musician: singer, composer, actress, actor, writer, author, politician, philosopher, poet, physicist\n",
      "dance: music, traditional, rock, musical, culture, original, popular, addition, style, recorded\n",
      "\n",
      "\n"
     ]
    },
    {
     "name": "stderr",
     "output_type": "stream",
     "text": [
      "22001it [33:50,  9.80it/s]"
     ]
    },
    {
     "name": "stdout",
     "output_type": "stream",
     "text": [
      "| epoch   1 | 22000/32580 batches | loss    1.270 \n",
      "money: idea, time, practice, much, able, existence, return, support, help, even\n",
      "lion: musician, eight, nine, five, lot, wife, four, directors, result, sons\n",
      "africa: europe, india, asia, china, america, korea, japan, australia, coast, east\n",
      "musician: singer, composer, actor, actress, writer, author, politician, philosopher, poet, physicist\n",
      "dance: music, traditional, musical, rock, original, culture, popular, addition, style, recorded\n",
      "\n",
      "\n"
     ]
    },
    {
     "name": "stderr",
     "output_type": "stream",
     "text": [
      "22501it [34:36,  9.81it/s]"
     ]
    },
    {
     "name": "stdout",
     "output_type": "stream",
     "text": [
      "| epoch   1 | 22500/32580 batches | loss    1.269 \n",
      "money: practice, idea, time, able, existence, much, return, support, help, even\n",
      "lion: musician, eight, five, wife, lot, result, directors, sons, nine, four\n",
      "africa: europe, india, asia, china, america, korea, japan, australia, coast, east\n",
      "musician: singer, composer, actress, actor, writer, author, politician, philosopher, poet, physicist\n",
      "dance: music, musical, traditional, rock, culture, original, popular, addition, style, traditions\n",
      "\n",
      "\n"
     ]
    },
    {
     "name": "stderr",
     "output_type": "stream",
     "text": [
      "23000it [35:22, 10.78it/s]"
     ]
    },
    {
     "name": "stdout",
     "output_type": "stream",
     "text": [
      "| epoch   1 | 23000/32580 batches | loss    1.266 \n",
      "money: practice, idea, time, able, existence, much, return, support, help, even\n",
      "lion: eight, musician, wife, lot, directors, result, sons, nine, five, throne\n",
      "africa: europe, asia, india, china, america, korea, japan, australia, coast, east\n",
      "musician: singer, composer, actor, actress, writer, author, politician, philosopher, poet, physicist\n",
      "dance: music, musical, traditional, rock, culture, popular, addition, original, style, traditions\n",
      "\n",
      "\n"
     ]
    },
    {
     "name": "stderr",
     "output_type": "stream",
     "text": [
      "23501it [36:08,  9.85it/s]"
     ]
    },
    {
     "name": "stdout",
     "output_type": "stream",
     "text": [
      "| epoch   1 | 23500/32580 batches | loss    1.265 \n",
      "money: practice, idea, able, time, much, existence, return, support, making, help\n",
      "lion: eight, musician, lot, wife, directors, sons, five, result, nine, throne\n",
      "africa: europe, asia, india, china, korea, america, japan, coast, australia, east\n",
      "musician: singer, composer, actor, actress, writer, author, politician, philosopher, poet, physicist\n",
      "dance: music, traditional, musical, rock, culture, popular, addition, original, style, traditions\n",
      "\n",
      "\n"
     ]
    },
    {
     "name": "stderr",
     "output_type": "stream",
     "text": [
      "24002it [36:54,  9.65it/s]"
     ]
    },
    {
     "name": "stdout",
     "output_type": "stream",
     "text": [
      "| epoch   1 | 24000/32580 batches | loss    1.262 \n",
      "money: practice, idea, time, able, existence, much, return, making, laws, even\n",
      "lion: musician, eight, lot, five, directors, wife, sons, four, nine, throne\n",
      "africa: europe, asia, india, china, korea, america, coast, japan, australia, east\n",
      "musician: singer, composer, actor, actress, writer, author, politician, philosopher, poet, physicist\n",
      "dance: music, musical, traditional, rock, culture, popular, addition, original, traditions, style\n",
      "\n",
      "\n"
     ]
    },
    {
     "name": "stderr",
     "output_type": "stream",
     "text": [
      "24502it [37:40,  9.48it/s]"
     ]
    },
    {
     "name": "stdout",
     "output_type": "stream",
     "text": [
      "| epoch   1 | 24500/32580 batches | loss    1.260 \n",
      "money: practice, time, idea, able, much, existence, making, return, laws, support\n",
      "lion: eight, musician, lot, wife, sons, directors, throne, result, nine, presented\n",
      "africa: europe, asia, india, china, korea, japan, america, australia, coast, east\n",
      "musician: singer, composer, actress, actor, writer, author, politician, philosopher, poet, physicist\n",
      "dance: music, musical, traditional, rock, culture, popular, addition, traditions, style, original\n",
      "\n",
      "\n"
     ]
    },
    {
     "name": "stderr",
     "output_type": "stream",
     "text": [
      "25002it [38:27,  9.50it/s]"
     ]
    },
    {
     "name": "stdout",
     "output_type": "stream",
     "text": [
      "| epoch   1 | 25000/32580 batches | loss    1.260 \n",
      "money: practice, time, idea, able, much, existence, return, laws, making, help\n",
      "lion: musician, eight, lot, wife, sons, five, directors, nine, throne, vote\n",
      "africa: europe, asia, india, china, korea, america, japan, australia, coast, east\n",
      "musician: singer, composer, actress, actor, writer, author, politician, philosopher, poet, physicist\n",
      "dance: music, musical, traditional, rock, culture, popular, addition, traditions, original, pop\n",
      "\n",
      "\n"
     ]
    },
    {
     "name": "stderr",
     "output_type": "stream",
     "text": [
      "25502it [39:13,  9.72it/s]"
     ]
    },
    {
     "name": "stdout",
     "output_type": "stream",
     "text": [
      "| epoch   1 | 25500/32580 batches | loss    1.258 \n",
      "money: time, practice, idea, able, much, existence, return, it, laws, making\n",
      "lion: musician, eight, lot, wife, sons, four, five, directors, throne, tale\n",
      "africa: europe, asia, india, china, korea, america, japan, australia, coast, east\n",
      "musician: singer, composer, actress, actor, writer, author, politician, philosopher, poet, physicist\n",
      "dance: music, musical, traditional, rock, culture, popular, addition, traditions, original, jazz\n",
      "\n",
      "\n"
     ]
    },
    {
     "name": "stderr",
     "output_type": "stream",
     "text": [
      "26002it [39:59,  9.24it/s]"
     ]
    },
    {
     "name": "stdout",
     "output_type": "stream",
     "text": [
      "| epoch   1 | 26000/32580 batches | loss    1.254 \n",
      "money: time, practice, idea, much, able, existence, return, help, making, laws\n",
      "lion: musician, wife, lot, sons, eight, directors, throne, four, tale, result\n",
      "africa: europe, asia, india, china, korea, america, japan, australia, coast, russia\n",
      "musician: singer, composer, actress, actor, writer, author, politician, philosopher, poet, physicist\n",
      "dance: music, musical, traditional, rock, culture, popular, traditions, addition, original, jazz\n",
      "\n",
      "\n"
     ]
    },
    {
     "name": "stderr",
     "output_type": "stream",
     "text": [
      "26501it [40:45,  9.86it/s]"
     ]
    },
    {
     "name": "stdout",
     "output_type": "stream",
     "text": [
      "| epoch   1 | 26500/32580 batches | loss    1.253 \n",
      "money: time, practice, idea, much, able, existence, return, help, even, laws\n",
      "lion: musician, sons, lot, eight, wife, five, directors, throne, tale, vote\n",
      "africa: europe, asia, india, china, korea, america, japan, australia, coast, russia\n",
      "musician: singer, composer, actress, actor, writer, author, politician, poet, philosopher, physicist\n",
      "dance: music, musical, traditional, rock, culture, popular, addition, traditions, jazz, original\n",
      "\n",
      "\n"
     ]
    },
    {
     "name": "stderr",
     "output_type": "stream",
     "text": [
      "27001it [41:32,  9.81it/s]"
     ]
    },
    {
     "name": "stdout",
     "output_type": "stream",
     "text": [
      "| epoch   1 | 27000/32580 batches | loss    1.249 \n",
      "money: time, practice, idea, much, able, existence, even, laws, help, return\n",
      "lion: musician, wife, lot, sons, eight, five, directors, nine, throne, vote\n",
      "africa: europe, asia, india, china, korea, america, japan, australia, coast, russia\n",
      "musician: singer, composer, actor, actress, writer, author, politician, poet, philosopher, physicist\n",
      "dance: music, musical, traditional, rock, culture, popular, addition, traditions, jazz, original\n",
      "\n",
      "\n"
     ]
    },
    {
     "name": "stderr",
     "output_type": "stream",
     "text": [
      "27501it [42:17,  9.90it/s]"
     ]
    },
    {
     "name": "stdout",
     "output_type": "stream",
     "text": [
      "| epoch   1 | 27500/32580 batches | loss    1.248 \n",
      "money: time, practice, idea, much, able, even, existence, laws, return, making\n",
      "lion: musician, lot, wife, eight, sons, five, directors, nine, throne, vote\n",
      "africa: asia, europe, india, korea, china, america, japan, coast, australia, russia\n",
      "musician: singer, composer, actor, actress, writer, author, politician, poet, philosopher, physicist\n",
      "dance: music, musical, traditional, rock, culture, popular, jazz, addition, pop, traditions\n",
      "\n",
      "\n"
     ]
    },
    {
     "name": "stderr",
     "output_type": "stream",
     "text": [
      "28002it [43:04,  9.57it/s]"
     ]
    },
    {
     "name": "stdout",
     "output_type": "stream",
     "text": [
      "| epoch   1 | 28000/32580 batches | loss    1.245 \n",
      "money: time, idea, practice, much, able, even, existence, him, return, laws\n",
      "lion: musician, lot, eight, wife, sons, nine, directors, five, three, throne\n",
      "africa: asia, europe, india, korea, china, america, japan, coast, australia, russia\n",
      "musician: singer, composer, actor, actress, writer, author, politician, poet, philosopher, physicist\n",
      "dance: music, musical, traditional, rock, culture, jazz, popular, traditions, pop, addition\n",
      "\n",
      "\n"
     ]
    },
    {
     "name": "stderr",
     "output_type": "stream",
     "text": [
      "28502it [43:50,  9.67it/s]"
     ]
    },
    {
     "name": "stdout",
     "output_type": "stream",
     "text": [
      "| epoch   1 | 28500/32580 batches | loss    1.247 \n",
      "money: time, much, idea, practice, able, existence, him, even, return, laws\n",
      "lion: musician, lot, wife, nine, sons, three, directors, throne, vote, eight\n",
      "africa: europe, asia, india, korea, china, america, japan, coast, australia, russia\n",
      "musician: singer, composer, actor, actress, writer, author, politician, poet, philosopher, physicist\n",
      "dance: music, musical, traditional, rock, culture, jazz, traditions, pop, addition, popular\n",
      "\n",
      "\n"
     ]
    },
    {
     "name": "stderr",
     "output_type": "stream",
     "text": [
      "29001it [44:36,  9.85it/s]"
     ]
    },
    {
     "name": "stdout",
     "output_type": "stream",
     "text": [
      "| epoch   1 | 29000/32580 batches | loss    1.241 \n",
      "money: time, much, idea, practice, able, existence, him, even, return, laws\n",
      "lion: musician, wife, lot, five, sons, three, eight, directors, nine, throne\n",
      "africa: europe, asia, india, korea, china, america, japan, coast, australia, russia\n",
      "musician: singer, composer, actor, actress, writer, author, politician, poet, philosopher, physicist\n",
      "dance: music, musical, traditional, rock, culture, jazz, pop, traditions, addition, popular\n",
      "\n",
      "\n"
     ]
    },
    {
     "name": "stderr",
     "output_type": "stream",
     "text": [
      "29502it [45:22,  9.55it/s]"
     ]
    },
    {
     "name": "stdout",
     "output_type": "stream",
     "text": [
      "| epoch   1 | 29500/32580 batches | loss    1.240 \n",
      "money: time, much, idea, able, practice, him, existence, even, help, return\n",
      "lion: musician, lot, wife, five, eight, sons, directors, throne, three, six\n",
      "africa: europe, asia, india, korea, china, america, japan, coast, australia, russia\n",
      "musician: singer, composer, actor, actress, writer, author, politician, poet, philosopher, physicist\n",
      "dance: music, musical, traditional, rock, jazz, culture, pop, traditions, popular, addition\n",
      "\n",
      "\n"
     ]
    },
    {
     "name": "stderr",
     "output_type": "stream",
     "text": [
      "30002it [46:08,  9.67it/s]"
     ]
    },
    {
     "name": "stdout",
     "output_type": "stream",
     "text": [
      "| epoch   1 | 30000/32580 batches | loss    1.240 \n",
      "money: time, much, able, idea, practice, him, existence, even, it, return\n",
      "lion: musician, lot, wife, sons, eight, five, three, directors, four, throne\n",
      "africa: asia, europe, india, korea, china, japan, america, coast, australia, russia\n",
      "musician: singer, composer, actor, actress, writer, author, politician, poet, philosopher, physicist\n",
      "dance: music, musical, traditional, rock, jazz, culture, traditions, pop, popular, addition\n",
      "\n",
      "\n"
     ]
    },
    {
     "name": "stderr",
     "output_type": "stream",
     "text": [
      "30502it [46:54,  9.61it/s]"
     ]
    },
    {
     "name": "stdout",
     "output_type": "stream",
     "text": [
      "| epoch   1 | 30500/32580 batches | loss    1.236 \n",
      "money: time, much, able, idea, practice, existence, even, him, it, help\n",
      "lion: musician, five, eight, lot, wife, three, sons, directors, throne, vote\n",
      "africa: asia, europe, india, korea, china, america, japan, coast, australia, russia\n",
      "musician: singer, composer, actor, actress, writer, author, politician, poet, philosopher, physicist\n",
      "dance: music, musical, traditional, rock, jazz, culture, popular, traditions, pop, style\n",
      "\n",
      "\n"
     ]
    },
    {
     "name": "stderr",
     "output_type": "stream",
     "text": [
      "31001it [47:40,  9.88it/s]"
     ]
    },
    {
     "name": "stdout",
     "output_type": "stream",
     "text": [
      "| epoch   1 | 31000/32580 batches | loss    1.235 \n",
      "money: time, idea, able, much, practice, even, existence, him, them, well\n",
      "lion: eight, musician, lot, sons, wife, five, directors, four, album, throne\n",
      "africa: asia, europe, india, korea, china, america, japan, coast, australia, russia\n",
      "musician: singer, composer, actor, actress, writer, author, politician, poet, philosopher, physicist\n",
      "dance: music, musical, traditional, rock, jazz, culture, traditions, popular, pop, artists\n",
      "\n",
      "\n"
     ]
    },
    {
     "name": "stderr",
     "output_type": "stream",
     "text": [
      "31502it [48:26,  9.90it/s]"
     ]
    },
    {
     "name": "stdout",
     "output_type": "stream",
     "text": [
      "| epoch   1 | 31500/32580 batches | loss    1.235 \n",
      "money: much, idea, able, time, practice, even, existence, him, them, making\n",
      "lion: eight, musician, lot, wife, sons, five, nine, directors, throne, vote\n",
      "africa: asia, europe, india, korea, china, america, japan, coast, australia, russia\n",
      "musician: singer, composer, actor, actress, writer, author, politician, poet, philosopher, physicist\n",
      "dance: music, musical, traditional, rock, jazz, culture, popular, traditions, pop, artists\n",
      "\n",
      "\n"
     ]
    },
    {
     "name": "stderr",
     "output_type": "stream",
     "text": [
      "32002it [49:12,  9.57it/s]"
     ]
    },
    {
     "name": "stdout",
     "output_type": "stream",
     "text": [
      "| epoch   1 | 32000/32580 batches | loss    1.237 \n",
      "money: much, time, able, idea, practice, him, existence, even, them, it\n",
      "lion: musician, eight, lot, sons, nine, wife, directors, vote, throne, knight\n",
      "africa: asia, europe, india, korea, china, japan, america, coast, australia, russia\n",
      "musician: singer, composer, actor, actress, writer, author, politician, poet, philosopher, physicist\n",
      "dance: music, musical, traditional, rock, jazz, culture, pop, popular, traditions, artists\n",
      "\n",
      "\n"
     ]
    },
    {
     "name": "stderr",
     "output_type": "stream",
     "text": [
      "32501it [49:59,  9.94it/s]"
     ]
    },
    {
     "name": "stdout",
     "output_type": "stream",
     "text": [
      "| epoch   1 | 32500/32580 batches | loss    1.235 \n",
      "money: time, much, idea, able, practice, him, existence, it, even, making\n",
      "lion: musician, lot, eight, sons, wife, nine, vote, directors, knight, throne\n",
      "africa: asia, europe, india, korea, china, america, japan, coast, australia, russia\n",
      "musician: singer, composer, actor, actress, writer, politician, author, poet, philosopher, physicist\n",
      "dance: music, musical, traditional, rock, jazz, culture, pop, artists, traditions, popular\n",
      "\n",
      "\n"
     ]
    },
    {
     "name": "stderr",
     "output_type": "stream",
     "text": [
      "32580it [50:07, 10.83it/s]\n",
      "1it [00:00,  1.85it/s]"
     ]
    },
    {
     "name": "stdout",
     "output_type": "stream",
     "text": [
      "| epoch   2 |     0/32580 batches | loss    1.145 \n",
      "money: time, idea, much, able, practice, him, existence, it, even, her\n",
      "lion: musician, lot, sons, eight, nine, wife, directors, five, vote, knight\n",
      "africa: asia, europe, india, korea, china, america, japan, coast, australia, russia\n",
      "musician: singer, composer, actor, actress, writer, politician, author, poet, philosopher, physicist\n",
      "dance: music, musical, traditional, rock, jazz, culture, pop, artists, traditions, popular\n",
      "\n",
      "\n"
     ]
    },
    {
     "name": "stderr",
     "output_type": "stream",
     "text": [
      "502it [00:46,  9.58it/s]"
     ]
    },
    {
     "name": "stdout",
     "output_type": "stream",
     "text": [
      "| epoch   2 |   500/32580 batches | loss    1.190 \n",
      "money: time, idea, much, able, practice, him, existence, it, even, making\n",
      "lion: musician, lot, sons, eight, wife, nine, directors, vote, knight, three\n",
      "africa: asia, europe, india, korea, china, america, japan, coast, australia, russia\n",
      "musician: singer, composer, actor, actress, writer, politician, author, poet, philosopher, physicist\n",
      "dance: music, musical, traditional, rock, jazz, culture, pop, artists, traditions, popular\n",
      "\n",
      "\n"
     ]
    },
    {
     "name": "stderr",
     "output_type": "stream",
     "text": [
      "1001it [01:32,  9.90it/s]"
     ]
    },
    {
     "name": "stdout",
     "output_type": "stream",
     "text": [
      "| epoch   2 |  1000/32580 batches | loss    1.186 \n",
      "money: time, idea, much, able, practice, him, existence, it, even, making\n",
      "lion: musician, lot, sons, eight, wife, nine, directors, three, vote, knight\n",
      "africa: asia, europe, india, korea, china, america, japan, coast, australia, russia\n",
      "musician: singer, composer, actor, actress, writer, politician, author, poet, philosopher, physicist\n",
      "dance: music, musical, traditional, rock, jazz, culture, pop, artists, traditions, popular\n",
      "\n",
      "\n"
     ]
    },
    {
     "name": "stderr",
     "output_type": "stream",
     "text": [
      "1501it [02:18,  9.86it/s]"
     ]
    },
    {
     "name": "stdout",
     "output_type": "stream",
     "text": [
      "| epoch   2 |  1500/32580 batches | loss    1.180 \n",
      "money: time, idea, much, able, practice, him, existence, it, even, making\n",
      "lion: musician, lot, eight, sons, wife, nine, directors, vote, knight, three\n",
      "africa: asia, europe, india, korea, china, america, japan, coast, australia, russia\n",
      "musician: singer, composer, actor, actress, writer, politician, author, poet, philosopher, physicist\n",
      "dance: music, musical, traditional, rock, jazz, culture, pop, traditions, artists, popular\n",
      "\n",
      "\n"
     ]
    },
    {
     "name": "stderr",
     "output_type": "stream",
     "text": [
      "2002it [03:04,  9.81it/s]"
     ]
    },
    {
     "name": "stdout",
     "output_type": "stream",
     "text": [
      "| epoch   2 |  2000/32580 batches | loss    1.179 \n",
      "money: time, much, idea, able, practice, him, existence, it, even, making\n",
      "lion: musician, lot, sons, eight, wife, nine, directors, vote, knight, three\n",
      "africa: asia, europe, india, korea, china, america, japan, coast, australia, russia\n",
      "musician: singer, composer, actor, actress, writer, politician, author, poet, philosopher, physicist\n",
      "dance: music, musical, traditional, rock, jazz, culture, pop, traditions, artists, popular\n",
      "\n",
      "\n"
     ]
    },
    {
     "name": "stderr",
     "output_type": "stream",
     "text": [
      "2501it [03:50,  9.90it/s]"
     ]
    },
    {
     "name": "stdout",
     "output_type": "stream",
     "text": [
      "| epoch   2 |  2500/32580 batches | loss    1.183 \n",
      "money: time, idea, much, able, practice, him, existence, it, even, making\n",
      "lion: musician, lot, sons, eight, wife, nine, directors, vote, knight, three\n",
      "africa: asia, europe, india, korea, china, america, japan, coast, australia, russia\n",
      "musician: singer, composer, actor, actress, writer, politician, author, poet, philosopher, physicist\n",
      "dance: music, musical, traditional, rock, jazz, culture, pop, traditions, artists, popular\n",
      "\n",
      "\n"
     ]
    },
    {
     "name": "stderr",
     "output_type": "stream",
     "text": [
      "3001it [04:36,  9.88it/s]"
     ]
    },
    {
     "name": "stdout",
     "output_type": "stream",
     "text": [
      "| epoch   2 |  3000/32580 batches | loss    1.186 \n",
      "money: time, idea, much, able, practice, him, existence, it, even, making\n",
      "lion: musician, lot, eight, sons, wife, nine, vote, directors, knight, three\n",
      "africa: asia, europe, india, korea, china, america, japan, coast, australia, russia\n",
      "musician: singer, composer, actor, actress, writer, politician, author, poet, philosopher, physicist\n",
      "dance: music, musical, traditional, rock, jazz, culture, pop, traditions, artists, popular\n",
      "\n",
      "\n"
     ]
    },
    {
     "name": "stderr",
     "output_type": "stream",
     "text": [
      "3501it [05:22,  9.86it/s]"
     ]
    },
    {
     "name": "stdout",
     "output_type": "stream",
     "text": [
      "| epoch   2 |  3500/32580 batches | loss    1.181 \n",
      "money: time, idea, much, able, practice, him, existence, it, even, making\n",
      "lion: musician, lot, eight, sons, wife, nine, vote, directors, knight, throne\n",
      "africa: asia, europe, india, korea, china, america, japan, coast, australia, russia\n",
      "musician: singer, composer, actor, actress, writer, politician, author, poet, philosopher, physicist\n",
      "dance: music, musical, traditional, rock, jazz, culture, pop, traditions, artists, popular\n",
      "\n",
      "\n"
     ]
    },
    {
     "name": "stderr",
     "output_type": "stream",
     "text": [
      "4001it [06:08,  9.77it/s]"
     ]
    },
    {
     "name": "stdout",
     "output_type": "stream",
     "text": [
      "| epoch   2 |  4000/32580 batches | loss    1.178 \n",
      "money: time, idea, much, able, practice, him, it, existence, even, making\n",
      "lion: musician, eight, lot, sons, wife, nine, vote, directors, knight, throne\n",
      "africa: asia, europe, india, korea, china, america, japan, coast, australia, russia\n",
      "musician: singer, composer, actor, actress, writer, politician, author, poet, philosopher, physicist\n",
      "dance: music, musical, traditional, rock, jazz, culture, pop, traditions, artists, popular\n",
      "\n",
      "\n"
     ]
    },
    {
     "name": "stderr",
     "output_type": "stream",
     "text": [
      "4501it [06:54,  9.83it/s]"
     ]
    },
    {
     "name": "stdout",
     "output_type": "stream",
     "text": [
      "| epoch   2 |  4500/32580 batches | loss    1.181 \n",
      "money: time, idea, much, able, practice, him, it, existence, even, making\n",
      "lion: musician, lot, eight, sons, wife, nine, vote, directors, knight, throne\n",
      "africa: asia, europe, india, korea, china, america, japan, coast, australia, russia\n",
      "musician: singer, composer, actor, actress, writer, politician, author, poet, philosopher, physicist\n",
      "dance: music, musical, traditional, rock, jazz, culture, pop, traditions, artists, popular\n",
      "\n",
      "\n"
     ]
    },
    {
     "name": "stderr",
     "output_type": "stream",
     "text": [
      "5002it [07:40,  9.73it/s]"
     ]
    },
    {
     "name": "stdout",
     "output_type": "stream",
     "text": [
      "| epoch   2 |  5000/32580 batches | loss    1.178 \n",
      "money: time, idea, much, able, practice, him, it, existence, even, making\n",
      "lion: musician, lot, eight, sons, wife, nine, vote, directors, knight, throne\n",
      "africa: asia, europe, india, korea, china, america, japan, coast, australia, russia\n",
      "musician: singer, composer, actor, actress, writer, politician, author, poet, philosopher, physicist\n",
      "dance: music, musical, traditional, rock, jazz, culture, pop, traditions, artists, popular\n",
      "\n",
      "\n"
     ]
    },
    {
     "name": "stderr",
     "output_type": "stream",
     "text": [
      "5501it [08:26,  9.86it/s]"
     ]
    },
    {
     "name": "stdout",
     "output_type": "stream",
     "text": [
      "| epoch   2 |  5500/32580 batches | loss    1.181 \n",
      "money: time, idea, much, able, practice, him, existence, it, even, making\n",
      "lion: musician, lot, eight, sons, wife, nine, vote, directors, knight, throne\n",
      "africa: asia, europe, india, korea, china, america, japan, coast, australia, russia\n",
      "musician: singer, composer, actor, actress, writer, politician, author, poet, philosopher, physicist\n",
      "dance: music, musical, traditional, rock, jazz, culture, pop, traditions, artists, popular\n",
      "\n",
      "\n"
     ]
    },
    {
     "name": "stderr",
     "output_type": "stream",
     "text": [
      "6002it [09:12,  9.81it/s]"
     ]
    },
    {
     "name": "stdout",
     "output_type": "stream",
     "text": [
      "| epoch   2 |  6000/32580 batches | loss    1.179 \n",
      "money: time, idea, much, able, practice, him, it, existence, even, making\n",
      "lion: musician, lot, eight, sons, wife, nine, vote, directors, knight, throne\n",
      "africa: asia, europe, india, korea, china, america, japan, coast, australia, russia\n",
      "musician: singer, composer, actor, actress, writer, politician, author, poet, philosopher, physicist\n",
      "dance: music, musical, traditional, rock, jazz, culture, pop, traditions, artists, popular\n",
      "\n",
      "\n"
     ]
    },
    {
     "name": "stderr",
     "output_type": "stream",
     "text": [
      "6502it [09:58,  9.71it/s]"
     ]
    },
    {
     "name": "stdout",
     "output_type": "stream",
     "text": [
      "| epoch   2 |  6500/32580 batches | loss    1.180 \n",
      "money: time, idea, much, able, practice, him, it, existence, even, making\n",
      "lion: musician, eight, lot, sons, wife, nine, vote, directors, knight, throne\n",
      "africa: asia, europe, india, korea, china, america, japan, coast, australia, russia\n",
      "musician: singer, composer, actor, actress, writer, politician, author, poet, philosopher, physicist\n",
      "dance: music, musical, traditional, rock, jazz, culture, pop, traditions, artists, style\n",
      "\n",
      "\n"
     ]
    },
    {
     "name": "stderr",
     "output_type": "stream",
     "text": [
      "7002it [10:44,  9.86it/s]"
     ]
    },
    {
     "name": "stdout",
     "output_type": "stream",
     "text": [
      "| epoch   2 |  7000/32580 batches | loss    1.179 \n",
      "money: time, idea, much, able, practice, him, it, existence, even, making\n",
      "lion: musician, lot, eight, sons, wife, nine, vote, directors, knight, throne\n",
      "africa: asia, europe, india, korea, china, america, japan, coast, australia, russia\n",
      "musician: singer, composer, actor, actress, writer, politician, author, poet, philosopher, physicist\n",
      "dance: music, musical, traditional, rock, jazz, culture, pop, artists, traditions, style\n",
      "\n",
      "\n"
     ]
    },
    {
     "name": "stderr",
     "output_type": "stream",
     "text": [
      "7502it [11:30,  9.54it/s]"
     ]
    },
    {
     "name": "stdout",
     "output_type": "stream",
     "text": [
      "| epoch   2 |  7500/32580 batches | loss    1.181 \n",
      "money: time, idea, much, able, practice, him, it, existence, even, making\n",
      "lion: musician, eight, lot, sons, wife, nine, vote, directors, knight, throne\n",
      "africa: asia, europe, india, korea, china, america, japan, coast, australia, russia\n",
      "musician: singer, composer, actor, actress, writer, politician, author, poet, philosopher, physicist\n",
      "dance: music, musical, traditional, rock, jazz, culture, pop, artists, traditions, style\n",
      "\n",
      "\n"
     ]
    },
    {
     "name": "stderr",
     "output_type": "stream",
     "text": [
      "8002it [12:16,  9.79it/s]"
     ]
    },
    {
     "name": "stdout",
     "output_type": "stream",
     "text": [
      "| epoch   2 |  8000/32580 batches | loss    1.176 \n",
      "money: time, idea, much, able, practice, it, him, existence, even, making\n",
      "lion: musician, eight, lot, sons, wife, nine, vote, directors, knight, throne\n",
      "africa: asia, europe, india, korea, china, america, japan, coast, australia, russia\n",
      "musician: singer, composer, actor, actress, writer, politician, author, poet, philosopher, physicist\n",
      "dance: music, musical, traditional, rock, jazz, culture, pop, artists, traditions, style\n",
      "\n",
      "\n"
     ]
    },
    {
     "name": "stderr",
     "output_type": "stream",
     "text": [
      "8502it [13:02,  9.41it/s]"
     ]
    },
    {
     "name": "stdout",
     "output_type": "stream",
     "text": [
      "| epoch   2 |  8500/32580 batches | loss    1.179 \n",
      "money: time, idea, much, able, practice, it, him, existence, even, making\n",
      "lion: musician, eight, lot, sons, wife, nine, vote, directors, knight, throne\n",
      "africa: asia, europe, india, korea, china, america, japan, coast, australia, russia\n",
      "musician: singer, composer, actor, actress, writer, politician, author, poet, philosopher, physicist\n",
      "dance: music, musical, traditional, rock, jazz, culture, pop, artists, traditions, style\n",
      "\n",
      "\n"
     ]
    },
    {
     "name": "stderr",
     "output_type": "stream",
     "text": [
      "9002it [13:48,  9.54it/s]"
     ]
    },
    {
     "name": "stdout",
     "output_type": "stream",
     "text": [
      "| epoch   2 |  9000/32580 batches | loss    1.174 \n",
      "money: time, idea, much, able, practice, it, him, existence, even, making\n",
      "lion: musician, eight, lot, sons, wife, nine, vote, directors, knight, throne\n",
      "africa: asia, europe, india, korea, china, america, japan, coast, australia, russia\n",
      "musician: singer, composer, actor, actress, writer, politician, author, poet, philosopher, physicist\n",
      "dance: music, musical, traditional, rock, jazz, culture, pop, artists, traditions, style\n",
      "\n",
      "\n"
     ]
    },
    {
     "name": "stderr",
     "output_type": "stream",
     "text": [
      "9502it [14:35,  9.66it/s]"
     ]
    },
    {
     "name": "stdout",
     "output_type": "stream",
     "text": [
      "| epoch   2 |  9500/32580 batches | loss    1.176 \n",
      "money: time, idea, much, able, practice, him, it, existence, even, making\n",
      "lion: musician, lot, eight, sons, wife, nine, vote, directors, knight, throne\n",
      "africa: asia, europe, india, korea, china, america, japan, coast, australia, russia\n",
      "musician: singer, composer, actor, actress, writer, politician, author, poet, philosopher, physicist\n",
      "dance: music, musical, traditional, rock, jazz, culture, pop, artists, traditions, style\n",
      "\n",
      "\n"
     ]
    },
    {
     "name": "stderr",
     "output_type": "stream",
     "text": [
      "10002it [15:21,  9.44it/s]"
     ]
    },
    {
     "name": "stdout",
     "output_type": "stream",
     "text": [
      "| epoch   2 | 10000/32580 batches | loss    1.175 \n",
      "money: time, idea, much, able, practice, him, existence, it, even, making\n",
      "lion: musician, eight, lot, sons, wife, nine, vote, directors, knight, throne\n",
      "africa: asia, europe, india, korea, china, america, japan, coast, australia, russia\n",
      "musician: singer, composer, actor, actress, writer, politician, author, poet, philosopher, physicist\n",
      "dance: music, musical, traditional, rock, jazz, culture, pop, artists, traditions, style\n",
      "\n",
      "\n"
     ]
    },
    {
     "name": "stderr",
     "output_type": "stream",
     "text": [
      "10502it [16:07,  9.62it/s]"
     ]
    },
    {
     "name": "stdout",
     "output_type": "stream",
     "text": [
      "| epoch   2 | 10500/32580 batches | loss    1.180 \n",
      "money: time, idea, much, able, practice, him, it, existence, even, making\n",
      "lion: musician, eight, lot, sons, wife, nine, vote, directors, knight, throne\n",
      "africa: asia, europe, india, korea, china, america, japan, coast, australia, russia\n",
      "musician: singer, composer, actor, actress, writer, politician, author, poet, philosopher, physicist\n",
      "dance: music, musical, traditional, rock, jazz, culture, pop, artists, traditions, popular\n",
      "\n",
      "\n"
     ]
    },
    {
     "name": "stderr",
     "output_type": "stream",
     "text": [
      "11001it [16:53,  9.94it/s]"
     ]
    },
    {
     "name": "stdout",
     "output_type": "stream",
     "text": [
      "| epoch   2 | 11000/32580 batches | loss    1.177 \n",
      "money: time, idea, much, able, practice, him, existence, even, it, making\n",
      "lion: musician, eight, lot, sons, wife, nine, vote, directors, knight, throne\n",
      "africa: asia, europe, india, korea, china, america, japan, coast, australia, russia\n",
      "musician: singer, composer, actor, actress, writer, politician, author, poet, philosopher, physicist\n",
      "dance: music, musical, traditional, rock, jazz, culture, pop, artists, traditions, style\n",
      "\n",
      "\n"
     ]
    },
    {
     "name": "stderr",
     "output_type": "stream",
     "text": [
      "11501it [17:39,  9.82it/s]"
     ]
    },
    {
     "name": "stdout",
     "output_type": "stream",
     "text": [
      "| epoch   2 | 11500/32580 batches | loss    1.180 \n",
      "money: time, idea, much, able, practice, him, even, existence, it, making\n",
      "lion: musician, eight, lot, sons, wife, nine, vote, directors, knight, throne\n",
      "africa: asia, europe, india, korea, china, america, japan, coast, australia, russia\n",
      "musician: singer, composer, actor, actress, writer, politician, author, poet, philosopher, physicist\n",
      "dance: music, musical, traditional, rock, jazz, culture, pop, artists, traditions, style\n",
      "\n",
      "\n"
     ]
    },
    {
     "name": "stderr",
     "output_type": "stream",
     "text": [
      "12001it [18:26,  9.87it/s]"
     ]
    },
    {
     "name": "stdout",
     "output_type": "stream",
     "text": [
      "| epoch   2 | 12000/32580 batches | loss    1.173 \n",
      "money: time, idea, much, able, practice, even, him, existence, it, making\n",
      "lion: musician, eight, lot, sons, wife, nine, vote, directors, knight, throne\n",
      "africa: asia, europe, india, korea, china, america, japan, coast, australia, russia\n",
      "musician: singer, composer, actor, actress, writer, politician, author, poet, philosopher, physicist\n",
      "dance: music, musical, traditional, rock, jazz, culture, pop, artists, traditions, popular\n",
      "\n",
      "\n"
     ]
    },
    {
     "name": "stderr",
     "output_type": "stream",
     "text": [
      "12502it [19:12,  9.85it/s]"
     ]
    },
    {
     "name": "stdout",
     "output_type": "stream",
     "text": [
      "| epoch   2 | 12500/32580 batches | loss    1.179 \n",
      "money: time, idea, much, able, practice, even, him, it, existence, making\n",
      "lion: musician, lot, eight, sons, wife, nine, vote, directors, knight, throne\n",
      "africa: asia, europe, india, korea, china, america, japan, coast, australia, russia\n",
      "musician: singer, composer, actor, actress, writer, politician, author, poet, philosopher, physicist\n",
      "dance: music, musical, traditional, rock, jazz, culture, pop, artists, traditions, style\n",
      "\n",
      "\n"
     ]
    },
    {
     "name": "stderr",
     "output_type": "stream",
     "text": [
      "13002it [19:58,  9.52it/s]"
     ]
    },
    {
     "name": "stdout",
     "output_type": "stream",
     "text": [
      "| epoch   2 | 13000/32580 batches | loss    1.173 \n",
      "money: time, idea, much, able, practice, even, him, existence, it, making\n",
      "lion: musician, lot, eight, sons, wife, nine, vote, knight, directors, throne\n",
      "africa: asia, europe, india, korea, china, america, japan, coast, australia, russia\n",
      "musician: singer, composer, actor, actress, writer, politician, author, poet, philosopher, physicist\n",
      "dance: music, musical, traditional, rock, jazz, culture, pop, artists, traditions, style\n",
      "\n",
      "\n"
     ]
    },
    {
     "name": "stderr",
     "output_type": "stream",
     "text": [
      "13501it [20:44,  9.82it/s]"
     ]
    },
    {
     "name": "stdout",
     "output_type": "stream",
     "text": [
      "| epoch   2 | 13500/32580 batches | loss    1.177 \n",
      "money: time, idea, much, able, practice, even, existence, it, him, making\n",
      "lion: musician, eight, lot, sons, wife, nine, vote, directors, knight, throne\n",
      "africa: asia, europe, india, korea, china, america, japan, coast, australia, russia\n",
      "musician: singer, composer, actor, actress, writer, politician, author, poet, philosopher, physicist\n",
      "dance: music, musical, traditional, rock, jazz, culture, pop, artists, traditions, style\n",
      "\n",
      "\n"
     ]
    },
    {
     "name": "stderr",
     "output_type": "stream",
     "text": [
      "14002it [21:30,  9.43it/s]"
     ]
    },
    {
     "name": "stdout",
     "output_type": "stream",
     "text": [
      "| epoch   2 | 14000/32580 batches | loss    1.175 \n",
      "money: time, idea, much, able, practice, even, him, existence, it, making\n",
      "lion: musician, eight, lot, sons, wife, nine, vote, directors, knight, throne\n",
      "africa: asia, europe, india, korea, china, america, japan, coast, australia, russia\n",
      "musician: singer, composer, actor, actress, writer, politician, author, poet, philosopher, physicist\n",
      "dance: music, musical, traditional, rock, jazz, culture, pop, artists, traditions, popular\n",
      "\n",
      "\n"
     ]
    },
    {
     "name": "stderr",
     "output_type": "stream",
     "text": [
      "14501it [22:16,  9.92it/s]"
     ]
    },
    {
     "name": "stdout",
     "output_type": "stream",
     "text": [
      "| epoch   2 | 14500/32580 batches | loss    1.177 \n",
      "money: time, idea, much, able, practice, even, existence, him, it, making\n",
      "lion: musician, eight, lot, sons, wife, nine, vote, directors, knight, throne\n",
      "africa: asia, europe, india, korea, china, america, japan, coast, australia, russia\n",
      "musician: singer, composer, actor, actress, writer, politician, author, poet, philosopher, physicist\n",
      "dance: music, musical, traditional, rock, jazz, culture, pop, artists, traditions, popular\n",
      "\n",
      "\n"
     ]
    },
    {
     "name": "stderr",
     "output_type": "stream",
     "text": [
      "15002it [23:03,  9.41it/s]"
     ]
    },
    {
     "name": "stdout",
     "output_type": "stream",
     "text": [
      "| epoch   2 | 15000/32580 batches | loss    1.174 \n",
      "money: time, idea, much, able, practice, existence, even, him, it, making\n",
      "lion: musician, eight, lot, sons, wife, nine, vote, directors, knight, throne\n",
      "africa: asia, europe, india, korea, china, america, japan, coast, australia, russia\n",
      "musician: singer, composer, actor, actress, writer, politician, author, poet, philosopher, physicist\n",
      "dance: music, musical, traditional, rock, jazz, culture, pop, artists, traditions, style\n",
      "\n",
      "\n"
     ]
    },
    {
     "name": "stderr",
     "output_type": "stream",
     "text": [
      "15502it [23:49,  9.50it/s]"
     ]
    },
    {
     "name": "stdout",
     "output_type": "stream",
     "text": [
      "| epoch   2 | 15500/32580 batches | loss    1.172 \n",
      "money: time, idea, much, able, practice, existence, even, it, him, making\n",
      "lion: musician, eight, lot, sons, wife, nine, directors, vote, knight, throne\n",
      "africa: asia, europe, india, korea, china, america, japan, coast, australia, russia\n",
      "musician: singer, composer, actor, actress, writer, politician, author, poet, philosopher, physicist\n",
      "dance: music, musical, traditional, rock, jazz, culture, pop, artists, traditions, style\n",
      "\n",
      "\n"
     ]
    },
    {
     "name": "stderr",
     "output_type": "stream",
     "text": [
      "16002it [24:36,  9.40it/s]"
     ]
    },
    {
     "name": "stdout",
     "output_type": "stream",
     "text": [
      "| epoch   2 | 16000/32580 batches | loss    1.174 \n",
      "money: time, idea, much, able, practice, existence, even, him, it, making\n",
      "lion: musician, eight, lot, sons, wife, nine, directors, vote, knight, throne\n",
      "africa: asia, europe, india, korea, china, america, japan, coast, australia, russia\n",
      "musician: singer, composer, actor, actress, writer, politician, author, poet, philosopher, physicist\n",
      "dance: music, musical, traditional, rock, jazz, culture, pop, artists, traditions, style\n",
      "\n",
      "\n"
     ]
    },
    {
     "name": "stderr",
     "output_type": "stream",
     "text": [
      "16502it [25:22,  9.54it/s]"
     ]
    },
    {
     "name": "stdout",
     "output_type": "stream",
     "text": [
      "| epoch   2 | 16500/32580 batches | loss    1.176 \n",
      "money: time, idea, much, able, practice, existence, him, even, it, making\n",
      "lion: musician, lot, eight, sons, wife, nine, vote, knight, directors, throne\n",
      "africa: asia, europe, india, korea, china, america, japan, coast, australia, russia\n",
      "musician: singer, composer, actor, actress, writer, politician, author, poet, philosopher, physicist\n",
      "dance: music, musical, traditional, rock, jazz, culture, pop, artists, traditions, style\n",
      "\n",
      "\n"
     ]
    },
    {
     "name": "stderr",
     "output_type": "stream",
     "text": [
      "17002it [26:09,  9.69it/s]"
     ]
    },
    {
     "name": "stdout",
     "output_type": "stream",
     "text": [
      "| epoch   2 | 17000/32580 batches | loss    1.177 \n",
      "money: time, idea, much, able, practice, it, existence, even, him, making\n",
      "lion: musician, lot, eight, sons, wife, nine, knight, vote, directors, throne\n",
      "africa: asia, europe, india, korea, china, america, japan, coast, australia, russia\n",
      "musician: singer, composer, actor, actress, writer, politician, author, poet, philosopher, physicist\n",
      "dance: music, musical, traditional, rock, jazz, culture, pop, artists, traditions, style\n",
      "\n",
      "\n"
     ]
    },
    {
     "name": "stderr",
     "output_type": "stream",
     "text": [
      "17501it [26:54,  9.89it/s]"
     ]
    },
    {
     "name": "stdout",
     "output_type": "stream",
     "text": [
      "| epoch   2 | 17500/32580 batches | loss    1.168 \n",
      "money: time, idea, much, able, practice, it, even, existence, him, making\n",
      "lion: musician, lot, eight, sons, wife, nine, vote, knight, directors, throne\n",
      "africa: asia, europe, india, korea, china, america, japan, coast, australia, russia\n",
      "musician: singer, composer, actor, actress, writer, politician, author, poet, philosopher, physicist\n",
      "dance: music, musical, traditional, rock, jazz, culture, pop, artists, traditions, style\n",
      "\n",
      "\n"
     ]
    },
    {
     "name": "stderr",
     "output_type": "stream",
     "text": [
      "18001it [27:41,  9.91it/s]"
     ]
    },
    {
     "name": "stdout",
     "output_type": "stream",
     "text": [
      "| epoch   2 | 18000/32580 batches | loss    1.173 \n",
      "money: time, idea, much, able, practice, it, existence, even, him, making\n",
      "lion: musician, lot, eight, sons, wife, nine, vote, knight, directors, throne\n",
      "africa: asia, europe, india, korea, china, america, japan, coast, australia, russia\n",
      "musician: singer, composer, actor, actress, writer, politician, author, poet, philosopher, physicist\n",
      "dance: music, musical, traditional, rock, jazz, culture, pop, artists, traditions, popular\n",
      "\n",
      "\n"
     ]
    },
    {
     "name": "stderr",
     "output_type": "stream",
     "text": [
      "18502it [28:27,  9.68it/s]"
     ]
    },
    {
     "name": "stdout",
     "output_type": "stream",
     "text": [
      "| epoch   2 | 18500/32580 batches | loss    1.172 \n",
      "money: time, idea, much, able, practice, it, existence, even, him, making\n",
      "lion: musician, eight, lot, sons, wife, nine, knight, vote, directors, throne\n",
      "africa: asia, europe, india, korea, china, america, japan, coast, australia, russia\n",
      "musician: singer, composer, actor, actress, writer, politician, author, poet, philosopher, physicist\n",
      "dance: music, musical, traditional, rock, jazz, culture, pop, artists, traditions, style\n",
      "\n",
      "\n"
     ]
    },
    {
     "name": "stderr",
     "output_type": "stream",
     "text": [
      "19002it [29:13,  9.66it/s]"
     ]
    },
    {
     "name": "stdout",
     "output_type": "stream",
     "text": [
      "| epoch   2 | 19000/32580 batches | loss    1.171 \n",
      "money: time, idea, much, able, practice, it, existence, him, even, making\n",
      "lion: musician, eight, lot, sons, wife, nine, knight, directors, vote, throne\n",
      "africa: asia, europe, india, korea, china, america, japan, coast, australia, russia\n",
      "musician: singer, composer, actor, actress, writer, politician, author, poet, philosopher, physicist\n",
      "dance: music, musical, traditional, rock, jazz, culture, pop, artists, traditions, style\n",
      "\n",
      "\n"
     ]
    },
    {
     "name": "stderr",
     "output_type": "stream",
     "text": [
      "19502it [29:59,  9.67it/s]"
     ]
    },
    {
     "name": "stdout",
     "output_type": "stream",
     "text": [
      "| epoch   2 | 19500/32580 batches | loss    1.173 \n",
      "money: time, idea, much, able, practice, it, existence, him, even, making\n",
      "lion: musician, eight, lot, sons, wife, nine, knight, directors, vote, throne\n",
      "africa: asia, europe, india, korea, china, america, japan, coast, australia, russia\n",
      "musician: singer, composer, actor, actress, writer, politician, author, poet, philosopher, physicist\n",
      "dance: music, musical, traditional, rock, jazz, culture, pop, artists, traditions, style\n",
      "\n",
      "\n"
     ]
    },
    {
     "name": "stderr",
     "output_type": "stream",
     "text": [
      "20001it [30:45,  9.99it/s]"
     ]
    },
    {
     "name": "stdout",
     "output_type": "stream",
     "text": [
      "| epoch   2 | 20000/32580 batches | loss    1.170 \n",
      "money: time, idea, much, able, practice, it, existence, him, even, making\n",
      "lion: musician, eight, lot, sons, wife, nine, knight, directors, vote, throne\n",
      "africa: asia, europe, india, korea, china, america, japan, coast, australia, russia\n",
      "musician: singer, composer, actor, actress, writer, politician, author, poet, philosopher, physicist\n",
      "dance: music, musical, traditional, rock, jazz, culture, pop, artists, traditions, style\n",
      "\n",
      "\n"
     ]
    },
    {
     "name": "stderr",
     "output_type": "stream",
     "text": [
      "20502it [31:32,  9.27it/s]"
     ]
    },
    {
     "name": "stdout",
     "output_type": "stream",
     "text": [
      "| epoch   2 | 20500/32580 batches | loss    1.172 \n",
      "money: time, idea, much, able, practice, it, existence, him, even, making\n",
      "lion: musician, eight, lot, sons, wife, nine, knight, directors, vote, throne\n",
      "africa: asia, europe, india, korea, china, america, japan, coast, australia, russia\n",
      "musician: singer, composer, actor, actress, writer, politician, author, poet, philosopher, physicist\n",
      "dance: music, musical, traditional, rock, jazz, culture, pop, artists, traditions, style\n",
      "\n",
      "\n"
     ]
    },
    {
     "name": "stderr",
     "output_type": "stream",
     "text": [
      "21002it [32:18,  9.70it/s]"
     ]
    },
    {
     "name": "stdout",
     "output_type": "stream",
     "text": [
      "| epoch   2 | 21000/32580 batches | loss    1.171 \n",
      "money: time, idea, much, able, practice, it, existence, him, even, making\n",
      "lion: musician, eight, lot, sons, wife, nine, directors, knight, vote, throne\n",
      "africa: asia, europe, india, korea, china, america, japan, coast, australia, russia\n",
      "musician: singer, composer, actor, actress, writer, politician, author, poet, philosopher, physicist\n",
      "dance: music, musical, traditional, rock, jazz, culture, pop, artists, traditions, style\n",
      "\n",
      "\n"
     ]
    },
    {
     "name": "stderr",
     "output_type": "stream",
     "text": [
      "21502it [33:04,  9.41it/s]"
     ]
    },
    {
     "name": "stdout",
     "output_type": "stream",
     "text": [
      "| epoch   2 | 21500/32580 batches | loss    1.175 \n",
      "money: time, idea, much, able, practice, it, even, him, existence, making\n",
      "lion: musician, eight, lot, sons, wife, nine, knight, directors, vote, throne\n",
      "africa: asia, europe, india, korea, china, america, japan, coast, australia, russia\n",
      "musician: singer, composer, actor, actress, writer, politician, author, poet, philosopher, physicist\n",
      "dance: music, musical, traditional, rock, jazz, culture, pop, artists, traditions, popular\n",
      "\n",
      "\n"
     ]
    },
    {
     "name": "stderr",
     "output_type": "stream",
     "text": [
      "22002it [33:51,  9.45it/s]"
     ]
    },
    {
     "name": "stdout",
     "output_type": "stream",
     "text": [
      "| epoch   2 | 22000/32580 batches | loss    1.171 \n",
      "money: time, idea, much, able, practice, it, even, him, existence, making\n",
      "lion: musician, eight, lot, sons, wife, nine, knight, directors, vote, throne\n",
      "africa: asia, europe, india, korea, china, america, japan, coast, australia, russia\n",
      "musician: singer, composer, actor, actress, writer, politician, author, poet, philosopher, physicist\n",
      "dance: music, musical, traditional, rock, jazz, culture, pop, artists, traditions, popular\n",
      "\n",
      "\n"
     ]
    },
    {
     "name": "stderr",
     "output_type": "stream",
     "text": [
      "22502it [34:38,  9.60it/s]"
     ]
    },
    {
     "name": "stdout",
     "output_type": "stream",
     "text": [
      "| epoch   2 | 22500/32580 batches | loss    1.172 \n",
      "money: time, much, idea, able, practice, it, even, existence, him, making\n",
      "lion: musician, eight, lot, sons, wife, nine, knight, vote, directors, throne\n",
      "africa: asia, europe, india, korea, china, america, japan, coast, australia, russia\n",
      "musician: singer, composer, actor, actress, writer, politician, author, poet, philosopher, physicist\n",
      "dance: music, musical, traditional, rock, jazz, culture, pop, artists, traditions, popular\n",
      "\n",
      "\n"
     ]
    },
    {
     "name": "stderr",
     "output_type": "stream",
     "text": [
      "23002it [35:26,  9.35it/s]"
     ]
    },
    {
     "name": "stdout",
     "output_type": "stream",
     "text": [
      "| epoch   2 | 23000/32580 batches | loss    1.174 \n",
      "money: time, much, idea, able, practice, it, even, him, existence, making\n",
      "lion: musician, eight, lot, sons, wife, nine, knight, vote, directors, throne\n",
      "africa: asia, europe, india, korea, china, america, japan, coast, australia, russia\n",
      "musician: singer, composer, actor, actress, writer, politician, author, poet, philosopher, physicist\n",
      "dance: music, musical, traditional, rock, jazz, culture, pop, artists, traditions, popular\n",
      "\n",
      "\n"
     ]
    },
    {
     "name": "stderr",
     "output_type": "stream",
     "text": [
      "23501it [36:12,  9.91it/s]"
     ]
    },
    {
     "name": "stdout",
     "output_type": "stream",
     "text": [
      "| epoch   2 | 23500/32580 batches | loss    1.171 \n",
      "money: time, much, idea, able, practice, it, even, him, existence, making\n",
      "lion: musician, eight, lot, sons, wife, nine, vote, directors, knight, throne\n",
      "africa: asia, europe, india, korea, china, america, japan, coast, australia, russia\n",
      "musician: singer, composer, actor, actress, writer, politician, author, poet, philosopher, physicist\n",
      "dance: music, musical, traditional, rock, jazz, culture, pop, artists, traditions, style\n",
      "\n",
      "\n"
     ]
    },
    {
     "name": "stderr",
     "output_type": "stream",
     "text": [
      "24001it [36:58,  9.87it/s]"
     ]
    },
    {
     "name": "stdout",
     "output_type": "stream",
     "text": [
      "| epoch   2 | 24000/32580 batches | loss    1.175 \n",
      "money: time, much, idea, able, practice, it, him, even, existence, making\n",
      "lion: musician, eight, lot, sons, wife, nine, directors, vote, knight, throne\n",
      "africa: asia, europe, india, korea, china, america, japan, coast, australia, russia\n",
      "musician: singer, composer, actor, actress, writer, politician, author, poet, philosopher, physicist\n",
      "dance: music, musical, traditional, rock, jazz, culture, pop, artists, traditions, style\n",
      "\n",
      "\n"
     ]
    },
    {
     "name": "stderr",
     "output_type": "stream",
     "text": [
      "24501it [37:44,  9.78it/s]"
     ]
    },
    {
     "name": "stdout",
     "output_type": "stream",
     "text": [
      "| epoch   2 | 24500/32580 batches | loss    1.170 \n",
      "money: time, much, idea, able, practice, it, him, even, existence, making\n",
      "lion: musician, eight, lot, sons, wife, nine, directors, knight, vote, throne\n",
      "africa: asia, europe, india, korea, china, america, japan, coast, australia, russia\n",
      "musician: singer, composer, actor, actress, writer, politician, author, poet, philosopher, physicist\n",
      "dance: music, musical, traditional, rock, jazz, culture, pop, artists, traditions, style\n",
      "\n",
      "\n"
     ]
    },
    {
     "name": "stderr",
     "output_type": "stream",
     "text": [
      "25002it [38:30,  9.36it/s]"
     ]
    },
    {
     "name": "stdout",
     "output_type": "stream",
     "text": [
      "| epoch   2 | 25000/32580 batches | loss    1.171 \n",
      "money: time, much, idea, able, practice, it, him, even, existence, making\n",
      "lion: musician, eight, lot, sons, wife, nine, directors, knight, vote, throne\n",
      "africa: asia, europe, india, korea, china, america, japan, coast, australia, russia\n",
      "musician: singer, composer, actor, actress, writer, politician, author, poet, philosopher, physicist\n",
      "dance: music, musical, traditional, rock, jazz, culture, pop, artists, traditions, style\n",
      "\n",
      "\n"
     ]
    },
    {
     "name": "stderr",
     "output_type": "stream",
     "text": [
      "25502it [39:17,  9.64it/s]"
     ]
    },
    {
     "name": "stdout",
     "output_type": "stream",
     "text": [
      "| epoch   2 | 25500/32580 batches | loss    1.170 \n",
      "money: time, much, idea, able, practice, it, him, even, existence, making\n",
      "lion: musician, eight, lot, sons, wife, nine, directors, vote, knight, throne\n",
      "africa: asia, europe, india, korea, china, america, japan, coast, australia, russia\n",
      "musician: singer, composer, actor, actress, writer, politician, author, poet, philosopher, physicist\n",
      "dance: music, musical, traditional, rock, jazz, culture, pop, artists, traditions, style\n",
      "\n",
      "\n"
     ]
    },
    {
     "name": "stderr",
     "output_type": "stream",
     "text": [
      "26002it [40:03,  9.44it/s]"
     ]
    },
    {
     "name": "stdout",
     "output_type": "stream",
     "text": [
      "| epoch   2 | 26000/32580 batches | loss    1.173 \n",
      "money: time, much, idea, able, practice, it, him, even, existence, making\n",
      "lion: musician, eight, lot, sons, wife, nine, directors, knight, vote, throne\n",
      "africa: asia, europe, india, korea, china, america, japan, coast, australia, russia\n",
      "musician: singer, composer, actor, actress, writer, politician, author, poet, philosopher, physicist\n",
      "dance: music, musical, traditional, rock, jazz, culture, pop, artists, traditions, style\n",
      "\n",
      "\n"
     ]
    },
    {
     "name": "stderr",
     "output_type": "stream",
     "text": [
      "26502it [40:49,  9.63it/s]"
     ]
    },
    {
     "name": "stdout",
     "output_type": "stream",
     "text": [
      "| epoch   2 | 26500/32580 batches | loss    1.172 \n",
      "money: time, much, idea, able, practice, it, him, even, existence, making\n",
      "lion: musician, eight, sons, lot, nine, wife, directors, vote, knight, throne\n",
      "africa: asia, europe, india, korea, china, america, japan, coast, australia, russia\n",
      "musician: singer, composer, actor, actress, writer, politician, author, poet, philosopher, physicist\n",
      "dance: music, musical, traditional, rock, jazz, culture, pop, artists, traditions, style\n",
      "\n",
      "\n"
     ]
    },
    {
     "name": "stderr",
     "output_type": "stream",
     "text": [
      "27002it [41:36,  9.61it/s]"
     ]
    },
    {
     "name": "stdout",
     "output_type": "stream",
     "text": [
      "| epoch   2 | 27000/32580 batches | loss    1.171 \n",
      "money: time, much, idea, able, it, practice, him, existence, even, making\n",
      "lion: musician, eight, sons, lot, wife, nine, directors, knight, vote, throne\n",
      "africa: asia, europe, india, korea, china, america, japan, coast, australia, russia\n",
      "musician: singer, composer, actor, actress, writer, politician, author, poet, philosopher, physicist\n",
      "dance: music, musical, traditional, rock, jazz, culture, pop, artists, traditions, style\n",
      "\n",
      "\n"
     ]
    },
    {
     "name": "stderr",
     "output_type": "stream",
     "text": [
      "27501it [42:22,  9.88it/s]"
     ]
    },
    {
     "name": "stdout",
     "output_type": "stream",
     "text": [
      "| epoch   2 | 27500/32580 batches | loss    1.166 \n",
      "money: time, much, idea, able, it, practice, him, existence, even, making\n",
      "lion: musician, eight, sons, lot, wife, nine, directors, knight, vote, throne\n",
      "africa: asia, europe, india, korea, china, america, japan, coast, australia, russia\n",
      "musician: singer, composer, actor, actress, writer, politician, author, poet, philosopher, physicist\n",
      "dance: music, musical, traditional, rock, jazz, culture, pop, artists, traditions, style\n",
      "\n",
      "\n"
     ]
    },
    {
     "name": "stderr",
     "output_type": "stream",
     "text": [
      "28001it [43:08,  9.85it/s]"
     ]
    },
    {
     "name": "stdout",
     "output_type": "stream",
     "text": [
      "| epoch   2 | 28000/32580 batches | loss    1.170 \n",
      "money: time, much, idea, able, it, practice, him, existence, making, even\n",
      "lion: musician, eight, sons, lot, wife, nine, directors, vote, knight, throne\n",
      "africa: asia, europe, india, korea, china, america, japan, coast, australia, russia\n",
      "musician: singer, composer, actor, actress, writer, politician, author, poet, philosopher, physicist\n",
      "dance: music, musical, traditional, rock, jazz, culture, pop, artists, traditions, style\n",
      "\n",
      "\n"
     ]
    },
    {
     "name": "stderr",
     "output_type": "stream",
     "text": [
      "28502it [43:55,  9.43it/s]"
     ]
    },
    {
     "name": "stdout",
     "output_type": "stream",
     "text": [
      "| epoch   2 | 28500/32580 batches | loss    1.167 \n",
      "money: time, much, idea, it, able, practice, him, existence, even, making\n",
      "lion: musician, eight, sons, lot, nine, wife, directors, knight, vote, throne\n",
      "africa: asia, europe, india, korea, china, america, japan, coast, australia, russia\n",
      "musician: singer, composer, actor, actress, writer, politician, author, poet, philosopher, physicist\n",
      "dance: music, musical, traditional, rock, jazz, culture, pop, artists, traditions, style\n",
      "\n",
      "\n"
     ]
    },
    {
     "name": "stderr",
     "output_type": "stream",
     "text": [
      "29002it [44:41,  9.22it/s]"
     ]
    },
    {
     "name": "stdout",
     "output_type": "stream",
     "text": [
      "| epoch   2 | 29000/32580 batches | loss    1.171 \n",
      "money: time, much, idea, able, it, practice, him, existence, even, making\n",
      "lion: musician, eight, sons, lot, nine, wife, directors, vote, knight, throne\n",
      "africa: asia, europe, india, korea, china, america, japan, coast, australia, russia\n",
      "musician: singer, composer, actor, actress, writer, politician, author, poet, philosopher, physicist\n",
      "dance: music, musical, traditional, rock, jazz, culture, pop, artists, traditions, style\n",
      "\n",
      "\n"
     ]
    },
    {
     "name": "stderr",
     "output_type": "stream",
     "text": [
      "29502it [45:27,  9.51it/s]"
     ]
    },
    {
     "name": "stdout",
     "output_type": "stream",
     "text": [
      "| epoch   2 | 29500/32580 batches | loss    1.171 \n",
      "money: time, much, idea, able, practice, it, him, existence, even, making\n",
      "lion: musician, eight, sons, lot, nine, wife, directors, vote, knight, throne\n",
      "africa: asia, europe, india, korea, china, america, japan, coast, australia, russia\n",
      "musician: singer, composer, actor, actress, writer, politician, author, poet, philosopher, physicist\n",
      "dance: music, musical, traditional, rock, jazz, culture, pop, artists, traditions, style\n",
      "\n",
      "\n"
     ]
    },
    {
     "name": "stderr",
     "output_type": "stream",
     "text": [
      "30001it [46:12,  9.98it/s]"
     ]
    },
    {
     "name": "stdout",
     "output_type": "stream",
     "text": [
      "| epoch   2 | 30000/32580 batches | loss    1.170 \n",
      "money: time, much, idea, able, practice, it, him, existence, even, making\n",
      "lion: musician, eight, sons, lot, wife, nine, directors, knight, vote, throne\n",
      "africa: asia, europe, india, korea, china, america, japan, coast, australia, russia\n",
      "musician: singer, composer, actor, actress, writer, politician, author, poet, philosopher, physicist\n",
      "dance: music, musical, traditional, rock, jazz, culture, pop, artists, traditions, style\n",
      "\n",
      "\n"
     ]
    },
    {
     "name": "stderr",
     "output_type": "stream",
     "text": [
      "30501it [46:58,  9.97it/s]"
     ]
    },
    {
     "name": "stdout",
     "output_type": "stream",
     "text": [
      "| epoch   2 | 30500/32580 batches | loss    1.170 \n",
      "money: time, much, idea, able, practice, it, him, existence, even, making\n",
      "lion: musician, eight, sons, lot, nine, wife, directors, knight, vote, throne\n",
      "africa: asia, europe, india, korea, china, america, japan, coast, australia, russia\n",
      "musician: singer, composer, actor, actress, writer, politician, author, poet, philosopher, physicist\n",
      "dance: music, musical, traditional, rock, jazz, culture, pop, artists, traditions, style\n",
      "\n",
      "\n"
     ]
    },
    {
     "name": "stderr",
     "output_type": "stream",
     "text": [
      "31001it [47:43,  9.92it/s]"
     ]
    },
    {
     "name": "stdout",
     "output_type": "stream",
     "text": [
      "| epoch   2 | 31000/32580 batches | loss    1.170 \n",
      "money: time, much, idea, able, practice, it, him, existence, making, even\n",
      "lion: musician, eight, sons, lot, wife, nine, directors, knight, vote, five\n",
      "africa: asia, europe, india, korea, china, america, japan, coast, australia, russia\n",
      "musician: singer, composer, actor, actress, writer, politician, author, poet, philosopher, physicist\n",
      "dance: music, musical, traditional, rock, jazz, culture, pop, artists, traditions, style\n",
      "\n",
      "\n"
     ]
    },
    {
     "name": "stderr",
     "output_type": "stream",
     "text": [
      "31501it [48:28,  9.91it/s]"
     ]
    },
    {
     "name": "stdout",
     "output_type": "stream",
     "text": [
      "| epoch   2 | 31500/32580 batches | loss    1.166 \n",
      "money: time, much, idea, able, practice, it, him, existence, making, even\n",
      "lion: musician, eight, lot, sons, wife, nine, directors, knight, vote, five\n",
      "africa: asia, europe, india, korea, china, america, japan, coast, australia, russia\n",
      "musician: singer, composer, actor, actress, writer, politician, author, poet, philosopher, physicist\n",
      "dance: music, musical, traditional, rock, jazz, culture, pop, artists, traditions, style\n",
      "\n",
      "\n"
     ]
    },
    {
     "name": "stderr",
     "output_type": "stream",
     "text": [
      "32002it [49:14,  9.58it/s]"
     ]
    },
    {
     "name": "stdout",
     "output_type": "stream",
     "text": [
      "| epoch   2 | 32000/32580 batches | loss    1.170 \n",
      "money: time, much, idea, able, it, practice, him, existence, even, making\n",
      "lion: musician, eight, lot, sons, wife, nine, directors, knight, vote, five\n",
      "africa: asia, europe, india, korea, china, america, japan, coast, australia, russia\n",
      "musician: singer, composer, actor, actress, writer, politician, author, poet, philosopher, physicist\n",
      "dance: music, musical, traditional, rock, jazz, culture, pop, artists, traditions, style\n",
      "\n",
      "\n"
     ]
    },
    {
     "name": "stderr",
     "output_type": "stream",
     "text": [
      "32501it [49:59,  9.81it/s]"
     ]
    },
    {
     "name": "stdout",
     "output_type": "stream",
     "text": [
      "| epoch   2 | 32500/32580 batches | loss    1.170 \n",
      "money: time, much, idea, it, able, practice, him, existence, even, making\n",
      "lion: musician, eight, lot, sons, wife, nine, directors, knight, vote, five\n",
      "africa: asia, europe, india, korea, china, america, japan, coast, australia, russia\n",
      "musician: singer, composer, actor, actress, writer, politician, author, poet, philosopher, physicist\n",
      "dance: music, musical, traditional, rock, jazz, culture, pop, artists, traditions, style\n",
      "\n",
      "\n"
     ]
    },
    {
     "name": "stderr",
     "output_type": "stream",
     "text": [
      "32580it [50:06, 10.83it/s]\n",
      "2it [00:00,  3.25it/s]"
     ]
    },
    {
     "name": "stdout",
     "output_type": "stream",
     "text": [
      "| epoch   3 |     0/32580 batches | loss    1.089 \n",
      "money: time, much, idea, it, able, practice, him, existence, even, making\n",
      "lion: musician, eight, lot, sons, wife, nine, directors, knight, vote, five\n",
      "africa: asia, europe, india, korea, china, america, japan, coast, australia, russia\n",
      "musician: singer, composer, actor, actress, writer, politician, author, poet, philosopher, physicist\n",
      "dance: music, musical, traditional, rock, jazz, culture, pop, artists, traditions, style\n",
      "\n",
      "\n"
     ]
    },
    {
     "name": "stderr",
     "output_type": "stream",
     "text": [
      "501it [00:46, 10.04it/s]"
     ]
    },
    {
     "name": "stdout",
     "output_type": "stream",
     "text": [
      "| epoch   3 |   500/32580 batches | loss    1.161 \n",
      "money: time, much, idea, it, able, practice, him, existence, even, making\n",
      "lion: musician, eight, lot, sons, wife, nine, directors, knight, vote, five\n",
      "africa: asia, europe, india, korea, china, america, japan, coast, australia, russia\n",
      "musician: singer, composer, actor, actress, writer, politician, author, poet, philosopher, physicist\n",
      "dance: music, musical, traditional, rock, jazz, culture, pop, artists, traditions, style\n",
      "\n",
      "\n"
     ]
    },
    {
     "name": "stderr",
     "output_type": "stream",
     "text": [
      "1001it [01:31, 10.12it/s]"
     ]
    },
    {
     "name": "stdout",
     "output_type": "stream",
     "text": [
      "| epoch   3 |  1000/32580 batches | loss    1.160 \n",
      "money: time, much, idea, it, able, practice, him, existence, even, making\n",
      "lion: musician, eight, lot, sons, wife, nine, directors, knight, vote, five\n",
      "africa: asia, europe, india, korea, china, america, japan, coast, australia, russia\n",
      "musician: singer, composer, actor, actress, writer, politician, author, poet, philosopher, physicist\n",
      "dance: music, musical, traditional, rock, jazz, culture, pop, artists, traditions, style\n",
      "\n",
      "\n"
     ]
    },
    {
     "name": "stderr",
     "output_type": "stream",
     "text": [
      "1501it [02:17,  9.80it/s]"
     ]
    },
    {
     "name": "stdout",
     "output_type": "stream",
     "text": [
      "| epoch   3 |  1500/32580 batches | loss    1.164 \n",
      "money: time, much, idea, it, able, practice, him, existence, even, making\n",
      "lion: musician, eight, lot, sons, wife, nine, directors, knight, vote, five\n",
      "africa: asia, europe, india, korea, china, america, japan, coast, australia, russia\n",
      "musician: singer, composer, actor, actress, writer, politician, author, poet, philosopher, physicist\n",
      "dance: music, musical, traditional, rock, jazz, culture, pop, artists, traditions, style\n",
      "\n",
      "\n"
     ]
    },
    {
     "name": "stderr",
     "output_type": "stream",
     "text": [
      "2002it [03:03,  9.84it/s]"
     ]
    },
    {
     "name": "stdout",
     "output_type": "stream",
     "text": [
      "| epoch   3 |  2000/32580 batches | loss    1.156 \n",
      "money: time, much, idea, it, able, practice, him, existence, even, making\n",
      "lion: musician, eight, lot, sons, wife, nine, directors, knight, vote, five\n",
      "africa: asia, europe, india, korea, china, america, japan, coast, australia, russia\n",
      "musician: singer, composer, actor, actress, writer, politician, author, poet, philosopher, physicist\n",
      "dance: music, musical, traditional, rock, jazz, culture, pop, artists, traditions, style\n",
      "\n",
      "\n"
     ]
    },
    {
     "name": "stderr",
     "output_type": "stream",
     "text": [
      "2502it [03:51,  9.80it/s]"
     ]
    },
    {
     "name": "stdout",
     "output_type": "stream",
     "text": [
      "| epoch   3 |  2500/32580 batches | loss    1.162 \n",
      "money: time, much, idea, it, able, practice, him, existence, even, making\n",
      "lion: musician, eight, lot, sons, wife, nine, directors, knight, vote, five\n",
      "africa: asia, europe, india, korea, china, america, japan, coast, australia, russia\n",
      "musician: singer, composer, actor, actress, writer, politician, author, poet, philosopher, physicist\n",
      "dance: music, musical, traditional, rock, jazz, culture, pop, artists, traditions, style\n",
      "\n",
      "\n"
     ]
    },
    {
     "name": "stderr",
     "output_type": "stream",
     "text": [
      "3002it [04:37,  9.71it/s]"
     ]
    },
    {
     "name": "stdout",
     "output_type": "stream",
     "text": [
      "| epoch   3 |  3000/32580 batches | loss    1.161 \n",
      "money: time, much, idea, it, able, practice, him, existence, even, making\n",
      "lion: musician, eight, lot, sons, wife, nine, directors, knight, vote, five\n",
      "africa: asia, europe, india, korea, china, america, japan, coast, australia, russia\n",
      "musician: singer, composer, actor, actress, writer, politician, author, poet, philosopher, physicist\n",
      "dance: music, musical, traditional, rock, jazz, culture, pop, artists, traditions, style\n",
      "\n",
      "\n"
     ]
    },
    {
     "name": "stderr",
     "output_type": "stream",
     "text": [
      "3502it [05:24,  9.78it/s]"
     ]
    },
    {
     "name": "stdout",
     "output_type": "stream",
     "text": [
      "| epoch   3 |  3500/32580 batches | loss    1.163 \n",
      "money: time, much, idea, it, able, practice, him, existence, even, making\n",
      "lion: musician, eight, lot, sons, wife, nine, directors, knight, vote, five\n",
      "africa: asia, europe, india, korea, china, america, japan, coast, australia, russia\n",
      "musician: singer, composer, actor, actress, writer, politician, author, poet, philosopher, physicist\n",
      "dance: music, musical, traditional, rock, jazz, culture, pop, artists, traditions, style\n",
      "\n",
      "\n"
     ]
    },
    {
     "name": "stderr",
     "output_type": "stream",
     "text": [
      "4002it [06:10,  9.60it/s]"
     ]
    },
    {
     "name": "stdout",
     "output_type": "stream",
     "text": [
      "| epoch   3 |  4000/32580 batches | loss    1.164 \n",
      "money: time, much, idea, it, able, practice, him, existence, even, making\n",
      "lion: musician, eight, lot, sons, wife, nine, directors, knight, vote, five\n",
      "africa: asia, europe, india, korea, china, america, japan, coast, australia, russia\n",
      "musician: singer, composer, actor, actress, writer, politician, author, poet, philosopher, physicist\n",
      "dance: music, musical, traditional, rock, jazz, culture, pop, artists, traditions, style\n",
      "\n",
      "\n"
     ]
    },
    {
     "name": "stderr",
     "output_type": "stream",
     "text": [
      "4501it [06:55,  9.81it/s]"
     ]
    },
    {
     "name": "stdout",
     "output_type": "stream",
     "text": [
      "| epoch   3 |  4500/32580 batches | loss    1.160 \n",
      "money: time, much, idea, it, able, practice, him, existence, even, making\n",
      "lion: musician, eight, lot, sons, wife, nine, directors, knight, vote, throne\n",
      "africa: asia, europe, india, korea, china, america, japan, coast, australia, russia\n",
      "musician: singer, composer, actor, actress, writer, politician, author, poet, philosopher, physicist\n",
      "dance: music, musical, traditional, rock, jazz, culture, pop, artists, traditions, style\n",
      "\n",
      "\n"
     ]
    },
    {
     "name": "stderr",
     "output_type": "stream",
     "text": [
      "5002it [07:42,  9.63it/s]"
     ]
    },
    {
     "name": "stdout",
     "output_type": "stream",
     "text": [
      "| epoch   3 |  5000/32580 batches | loss    1.163 \n",
      "money: time, much, idea, it, able, practice, him, existence, even, making\n",
      "lion: musician, eight, lot, sons, wife, nine, directors, knight, vote, throne\n",
      "africa: asia, europe, india, korea, china, america, japan, coast, australia, russia\n",
      "musician: singer, composer, actor, actress, writer, politician, author, poet, philosopher, physicist\n",
      "dance: music, musical, traditional, rock, jazz, culture, pop, artists, traditions, style\n",
      "\n",
      "\n"
     ]
    },
    {
     "name": "stderr",
     "output_type": "stream",
     "text": [
      "5500it [08:27, 10.75it/s]"
     ]
    },
    {
     "name": "stdout",
     "output_type": "stream",
     "text": [
      "| epoch   3 |  5500/32580 batches | loss    1.167 \n",
      "money: time, much, idea, it, able, practice, him, existence, even, making\n",
      "lion: musician, eight, lot, sons, wife, nine, directors, knight, vote, throne\n",
      "africa: asia, europe, india, korea, china, america, japan, coast, australia, russia\n",
      "musician: singer, composer, actor, actress, writer, politician, author, poet, philosopher, physicist\n",
      "dance: music, musical, traditional, rock, jazz, culture, pop, artists, traditions, style\n",
      "\n",
      "\n"
     ]
    },
    {
     "name": "stderr",
     "output_type": "stream",
     "text": [
      "6001it [09:13,  9.82it/s]"
     ]
    },
    {
     "name": "stdout",
     "output_type": "stream",
     "text": [
      "| epoch   3 |  6000/32580 batches | loss    1.162 \n",
      "money: time, much, idea, it, able, practice, him, existence, even, making\n",
      "lion: musician, eight, lot, sons, wife, nine, directors, knight, vote, throne\n",
      "africa: asia, europe, india, korea, china, america, japan, coast, australia, russia\n",
      "musician: singer, composer, actor, actress, writer, politician, author, poet, philosopher, physicist\n",
      "dance: music, musical, traditional, rock, jazz, culture, pop, artists, traditions, style\n",
      "\n",
      "\n"
     ]
    },
    {
     "name": "stderr",
     "output_type": "stream",
     "text": [
      "6501it [09:59,  9.86it/s]"
     ]
    },
    {
     "name": "stdout",
     "output_type": "stream",
     "text": [
      "| epoch   3 |  6500/32580 batches | loss    1.164 \n",
      "money: time, much, idea, it, able, practice, him, existence, even, making\n",
      "lion: musician, eight, lot, sons, wife, nine, directors, knight, vote, throne\n",
      "africa: asia, europe, india, korea, china, america, japan, coast, australia, russia\n",
      "musician: singer, composer, actor, actress, writer, politician, author, poet, philosopher, physicist\n",
      "dance: music, musical, traditional, rock, jazz, culture, pop, artists, traditions, style\n",
      "\n",
      "\n"
     ]
    },
    {
     "name": "stderr",
     "output_type": "stream",
     "text": [
      "7002it [10:45,  9.67it/s]"
     ]
    },
    {
     "name": "stdout",
     "output_type": "stream",
     "text": [
      "| epoch   3 |  7000/32580 batches | loss    1.163 \n",
      "money: time, much, idea, it, able, practice, him, existence, even, making\n",
      "lion: musician, eight, lot, sons, wife, nine, directors, knight, vote, throne\n",
      "africa: asia, europe, india, korea, china, america, japan, coast, australia, russia\n",
      "musician: singer, composer, actor, actress, writer, politician, author, poet, philosopher, physicist\n",
      "dance: music, musical, traditional, rock, jazz, culture, pop, artists, traditions, style\n",
      "\n",
      "\n"
     ]
    },
    {
     "name": "stderr",
     "output_type": "stream",
     "text": [
      "7502it [11:31,  9.61it/s]"
     ]
    },
    {
     "name": "stdout",
     "output_type": "stream",
     "text": [
      "| epoch   3 |  7500/32580 batches | loss    1.164 \n",
      "money: time, much, idea, it, able, practice, him, existence, even, making\n",
      "lion: musician, eight, lot, sons, wife, nine, directors, knight, vote, throne\n",
      "africa: asia, europe, india, korea, china, america, japan, coast, australia, russia\n",
      "musician: singer, composer, actor, actress, writer, politician, author, poet, philosopher, physicist\n",
      "dance: music, musical, traditional, rock, jazz, culture, pop, artists, traditions, style\n",
      "\n",
      "\n"
     ]
    },
    {
     "name": "stderr",
     "output_type": "stream",
     "text": [
      "8002it [12:18,  9.53it/s]"
     ]
    },
    {
     "name": "stdout",
     "output_type": "stream",
     "text": [
      "| epoch   3 |  8000/32580 batches | loss    1.162 \n",
      "money: time, much, idea, it, able, practice, him, existence, even, making\n",
      "lion: musician, eight, lot, sons, wife, nine, directors, knight, vote, throne\n",
      "africa: asia, europe, india, korea, china, america, japan, coast, australia, russia\n",
      "musician: singer, composer, actor, actress, writer, politician, author, poet, philosopher, physicist\n",
      "dance: music, musical, traditional, rock, jazz, culture, pop, artists, traditions, style\n",
      "\n",
      "\n"
     ]
    },
    {
     "name": "stderr",
     "output_type": "stream",
     "text": [
      "8502it [13:04,  9.38it/s]"
     ]
    },
    {
     "name": "stdout",
     "output_type": "stream",
     "text": [
      "| epoch   3 |  8500/32580 batches | loss    1.161 \n",
      "money: time, much, idea, it, able, practice, him, existence, even, making\n",
      "lion: musician, eight, lot, sons, wife, nine, directors, knight, vote, throne\n",
      "africa: asia, europe, india, korea, china, america, japan, coast, australia, russia\n",
      "musician: singer, composer, actor, actress, writer, politician, author, poet, philosopher, physicist\n",
      "dance: music, musical, traditional, rock, jazz, culture, pop, artists, traditions, style\n",
      "\n",
      "\n"
     ]
    },
    {
     "name": "stderr",
     "output_type": "stream",
     "text": [
      "9002it [13:50,  9.67it/s]"
     ]
    },
    {
     "name": "stdout",
     "output_type": "stream",
     "text": [
      "| epoch   3 |  9000/32580 batches | loss    1.163 \n",
      "money: time, much, idea, it, able, practice, him, existence, even, making\n",
      "lion: musician, eight, lot, sons, wife, nine, directors, knight, vote, throne\n",
      "africa: asia, europe, india, korea, china, america, japan, coast, australia, russia\n",
      "musician: singer, composer, actor, actress, writer, politician, author, poet, philosopher, physicist\n",
      "dance: music, musical, traditional, rock, jazz, culture, pop, artists, traditions, style\n",
      "\n",
      "\n"
     ]
    },
    {
     "name": "stderr",
     "output_type": "stream",
     "text": [
      "9501it [14:35,  9.90it/s]"
     ]
    },
    {
     "name": "stdout",
     "output_type": "stream",
     "text": [
      "| epoch   3 |  9500/32580 batches | loss    1.165 \n",
      "money: time, much, idea, it, able, practice, him, existence, even, making\n",
      "lion: musician, eight, lot, sons, wife, nine, directors, knight, vote, throne\n",
      "africa: asia, europe, india, korea, china, america, japan, coast, australia, russia\n",
      "musician: singer, composer, actor, actress, writer, politician, author, poet, philosopher, physicist\n",
      "dance: music, musical, traditional, rock, jazz, culture, pop, artists, traditions, style\n",
      "\n",
      "\n"
     ]
    },
    {
     "name": "stderr",
     "output_type": "stream",
     "text": [
      "10002it [15:22,  9.56it/s]"
     ]
    },
    {
     "name": "stdout",
     "output_type": "stream",
     "text": [
      "| epoch   3 | 10000/32580 batches | loss    1.159 \n",
      "money: time, much, idea, it, able, practice, him, existence, even, making\n",
      "lion: musician, eight, lot, sons, wife, nine, directors, knight, vote, throne\n",
      "africa: asia, europe, india, korea, china, america, japan, coast, australia, russia\n",
      "musician: singer, composer, actor, actress, writer, politician, author, poet, philosopher, physicist\n",
      "dance: music, musical, traditional, rock, jazz, culture, pop, artists, traditions, style\n",
      "\n",
      "\n"
     ]
    },
    {
     "name": "stderr",
     "output_type": "stream",
     "text": [
      "10502it [16:08,  9.66it/s]"
     ]
    },
    {
     "name": "stdout",
     "output_type": "stream",
     "text": [
      "| epoch   3 | 10500/32580 batches | loss    1.165 \n",
      "money: time, much, idea, it, able, practice, him, existence, even, making\n",
      "lion: musician, eight, lot, sons, wife, nine, directors, knight, vote, throne\n",
      "africa: asia, europe, india, korea, china, america, japan, coast, australia, russia\n",
      "musician: singer, composer, actor, actress, writer, politician, author, poet, philosopher, physicist\n",
      "dance: music, musical, traditional, rock, jazz, culture, pop, artists, traditions, style\n",
      "\n",
      "\n"
     ]
    },
    {
     "name": "stderr",
     "output_type": "stream",
     "text": [
      "11002it [16:54,  9.80it/s]"
     ]
    },
    {
     "name": "stdout",
     "output_type": "stream",
     "text": [
      "| epoch   3 | 11000/32580 batches | loss    1.161 \n",
      "money: time, much, idea, it, able, practice, him, existence, even, making\n",
      "lion: musician, eight, lot, sons, wife, nine, directors, knight, vote, throne\n",
      "africa: asia, europe, india, korea, china, america, japan, coast, australia, russia\n",
      "musician: singer, composer, actor, actress, writer, politician, author, poet, philosopher, physicist\n",
      "dance: music, musical, traditional, rock, jazz, culture, pop, artists, traditions, style\n",
      "\n",
      "\n"
     ]
    },
    {
     "name": "stderr",
     "output_type": "stream",
     "text": [
      "11502it [17:41,  9.37it/s]"
     ]
    },
    {
     "name": "stdout",
     "output_type": "stream",
     "text": [
      "| epoch   3 | 11500/32580 batches | loss    1.162 \n",
      "money: time, much, idea, it, able, practice, him, existence, even, making\n",
      "lion: musician, eight, lot, sons, wife, nine, directors, knight, vote, throne\n",
      "africa: asia, europe, india, korea, china, america, japan, coast, australia, russia\n",
      "musician: singer, composer, actor, actress, writer, politician, author, poet, philosopher, physicist\n",
      "dance: music, musical, traditional, rock, jazz, culture, pop, artists, traditions, style\n",
      "\n",
      "\n"
     ]
    },
    {
     "name": "stderr",
     "output_type": "stream",
     "text": [
      "12002it [18:27,  9.63it/s]"
     ]
    },
    {
     "name": "stdout",
     "output_type": "stream",
     "text": [
      "| epoch   3 | 12000/32580 batches | loss    1.163 \n",
      "money: time, much, idea, it, able, practice, him, existence, even, making\n",
      "lion: musician, eight, lot, sons, wife, nine, directors, knight, vote, throne\n",
      "africa: asia, europe, india, korea, china, america, japan, coast, australia, russia\n",
      "musician: singer, composer, actor, actress, writer, politician, author, poet, philosopher, physicist\n",
      "dance: music, musical, traditional, rock, jazz, culture, pop, artists, traditions, style\n",
      "\n",
      "\n"
     ]
    },
    {
     "name": "stderr",
     "output_type": "stream",
     "text": [
      "12502it [19:13,  9.71it/s]"
     ]
    },
    {
     "name": "stdout",
     "output_type": "stream",
     "text": [
      "| epoch   3 | 12500/32580 batches | loss    1.158 \n",
      "money: time, much, idea, it, able, practice, him, existence, even, making\n",
      "lion: musician, eight, lot, sons, wife, nine, directors, knight, vote, throne\n",
      "africa: asia, europe, india, korea, china, america, japan, coast, australia, russia\n",
      "musician: singer, composer, actor, actress, writer, politician, author, poet, philosopher, physicist\n",
      "dance: music, musical, traditional, rock, jazz, culture, pop, artists, traditions, style\n",
      "\n",
      "\n"
     ]
    },
    {
     "name": "stderr",
     "output_type": "stream",
     "text": [
      "13002it [19:59,  9.60it/s]"
     ]
    },
    {
     "name": "stdout",
     "output_type": "stream",
     "text": [
      "| epoch   3 | 13000/32580 batches | loss    1.162 \n",
      "money: time, much, idea, it, able, practice, him, existence, even, making\n",
      "lion: musician, eight, lot, sons, wife, nine, directors, knight, vote, throne\n",
      "africa: asia, europe, india, korea, china, america, japan, coast, australia, russia\n",
      "musician: singer, composer, actor, actress, writer, politician, author, poet, philosopher, physicist\n",
      "dance: music, musical, traditional, rock, jazz, culture, pop, artists, traditions, style\n",
      "\n",
      "\n"
     ]
    },
    {
     "name": "stderr",
     "output_type": "stream",
     "text": [
      "13501it [20:45,  9.40it/s]"
     ]
    },
    {
     "name": "stdout",
     "output_type": "stream",
     "text": [
      "| epoch   3 | 13500/32580 batches | loss    1.164 \n",
      "money: time, much, idea, it, able, practice, him, existence, even, making\n",
      "lion: musician, eight, lot, sons, wife, nine, directors, knight, vote, throne\n",
      "africa: asia, europe, india, korea, china, america, japan, coast, australia, russia\n",
      "musician: singer, composer, actor, actress, writer, politician, author, poet, philosopher, physicist\n",
      "dance: music, musical, traditional, rock, jazz, culture, pop, artists, traditions, style\n",
      "\n",
      "\n"
     ]
    },
    {
     "name": "stderr",
     "output_type": "stream",
     "text": [
      "14002it [21:31,  9.59it/s]"
     ]
    },
    {
     "name": "stdout",
     "output_type": "stream",
     "text": [
      "| epoch   3 | 14000/32580 batches | loss    1.159 \n",
      "money: time, much, idea, it, able, practice, him, existence, even, making\n",
      "lion: musician, eight, lot, sons, wife, nine, directors, knight, vote, throne\n",
      "africa: asia, europe, india, korea, china, america, japan, coast, australia, russia\n",
      "musician: singer, composer, actor, actress, writer, politician, author, poet, philosopher, physicist\n",
      "dance: music, musical, traditional, rock, jazz, culture, pop, artists, traditions, style\n",
      "\n",
      "\n"
     ]
    },
    {
     "name": "stderr",
     "output_type": "stream",
     "text": [
      "14502it [22:17,  9.53it/s]"
     ]
    },
    {
     "name": "stdout",
     "output_type": "stream",
     "text": [
      "| epoch   3 | 14500/32580 batches | loss    1.161 \n",
      "money: time, much, idea, it, able, practice, him, existence, even, making\n",
      "lion: musician, eight, lot, sons, wife, nine, directors, knight, vote, throne\n",
      "africa: asia, europe, india, korea, china, america, japan, coast, australia, russia\n",
      "musician: singer, composer, actor, actress, writer, politician, author, poet, philosopher, physicist\n",
      "dance: music, musical, traditional, rock, jazz, culture, pop, artists, traditions, style\n",
      "\n",
      "\n"
     ]
    },
    {
     "name": "stderr",
     "output_type": "stream",
     "text": [
      "15001it [23:04,  9.85it/s]"
     ]
    },
    {
     "name": "stdout",
     "output_type": "stream",
     "text": [
      "| epoch   3 | 15000/32580 batches | loss    1.159 \n",
      "money: time, much, idea, it, able, practice, him, existence, even, making\n",
      "lion: musician, eight, lot, sons, wife, nine, directors, knight, vote, throne\n",
      "africa: asia, europe, india, korea, china, america, japan, coast, australia, russia\n",
      "musician: singer, composer, actor, actress, writer, politician, author, poet, philosopher, physicist\n",
      "dance: music, musical, traditional, rock, jazz, culture, pop, artists, traditions, style\n",
      "\n",
      "\n"
     ]
    },
    {
     "name": "stderr",
     "output_type": "stream",
     "text": [
      "15502it [23:50,  9.63it/s]"
     ]
    },
    {
     "name": "stdout",
     "output_type": "stream",
     "text": [
      "| epoch   3 | 15500/32580 batches | loss    1.166 \n",
      "money: time, much, idea, it, able, practice, him, existence, even, making\n",
      "lion: musician, eight, lot, sons, wife, nine, directors, knight, vote, throne\n",
      "africa: asia, europe, india, korea, china, america, japan, coast, australia, russia\n",
      "musician: singer, composer, actor, actress, writer, politician, author, poet, philosopher, physicist\n",
      "dance: music, musical, traditional, rock, jazz, culture, pop, artists, traditions, style\n",
      "\n",
      "\n"
     ]
    },
    {
     "name": "stderr",
     "output_type": "stream",
     "text": [
      "16002it [24:36,  9.37it/s]"
     ]
    },
    {
     "name": "stdout",
     "output_type": "stream",
     "text": [
      "| epoch   3 | 16000/32580 batches | loss    1.164 \n",
      "money: time, much, idea, it, able, practice, him, existence, even, making\n",
      "lion: musician, eight, lot, sons, wife, nine, directors, knight, vote, throne\n",
      "africa: asia, europe, india, korea, china, america, japan, coast, australia, russia\n",
      "musician: singer, composer, actor, actress, writer, politician, author, poet, philosopher, physicist\n",
      "dance: music, musical, traditional, rock, jazz, culture, pop, artists, traditions, style\n",
      "\n",
      "\n"
     ]
    },
    {
     "name": "stderr",
     "output_type": "stream",
     "text": [
      "16501it [25:23,  9.88it/s]"
     ]
    },
    {
     "name": "stdout",
     "output_type": "stream",
     "text": [
      "| epoch   3 | 16500/32580 batches | loss    1.160 \n",
      "money: time, much, idea, it, able, practice, him, existence, even, making\n",
      "lion: musician, eight, lot, sons, wife, nine, directors, knight, vote, throne\n",
      "africa: asia, europe, india, korea, china, america, japan, coast, australia, russia\n",
      "musician: singer, composer, actor, actress, writer, politician, author, poet, philosopher, physicist\n",
      "dance: music, musical, traditional, rock, jazz, culture, pop, artists, traditions, style\n",
      "\n",
      "\n"
     ]
    },
    {
     "name": "stderr",
     "output_type": "stream",
     "text": [
      "17001it [26:09,  9.82it/s]"
     ]
    },
    {
     "name": "stdout",
     "output_type": "stream",
     "text": [
      "| epoch   3 | 17000/32580 batches | loss    1.158 \n",
      "money: time, much, idea, it, able, practice, him, existence, even, making\n",
      "lion: musician, eight, lot, sons, wife, nine, directors, knight, vote, throne\n",
      "africa: asia, europe, india, korea, china, america, japan, coast, australia, russia\n",
      "musician: singer, composer, actor, actress, writer, politician, author, poet, philosopher, physicist\n",
      "dance: music, musical, traditional, rock, jazz, culture, pop, artists, traditions, style\n",
      "\n",
      "\n"
     ]
    },
    {
     "name": "stderr",
     "output_type": "stream",
     "text": [
      "17501it [26:56,  9.81it/s]"
     ]
    },
    {
     "name": "stdout",
     "output_type": "stream",
     "text": [
      "| epoch   3 | 17500/32580 batches | loss    1.163 \n",
      "money: time, much, idea, it, able, practice, him, existence, even, making\n",
      "lion: musician, eight, lot, sons, wife, nine, directors, knight, vote, throne\n",
      "africa: asia, europe, india, korea, china, america, japan, coast, australia, russia\n",
      "musician: singer, composer, actor, actress, writer, politician, author, poet, philosopher, physicist\n",
      "dance: music, musical, traditional, rock, jazz, culture, pop, artists, traditions, style\n",
      "\n",
      "\n"
     ]
    },
    {
     "name": "stderr",
     "output_type": "stream",
     "text": [
      "18002it [27:42,  9.63it/s]"
     ]
    },
    {
     "name": "stdout",
     "output_type": "stream",
     "text": [
      "| epoch   3 | 18000/32580 batches | loss    1.164 \n",
      "money: time, much, idea, it, able, practice, him, existence, even, making\n",
      "lion: musician, eight, lot, sons, wife, nine, directors, knight, vote, throne\n",
      "africa: asia, europe, india, korea, china, america, japan, coast, australia, russia\n",
      "musician: singer, composer, actor, actress, writer, politician, author, poet, philosopher, physicist\n",
      "dance: music, musical, traditional, rock, jazz, culture, pop, artists, traditions, style\n",
      "\n",
      "\n"
     ]
    },
    {
     "name": "stderr",
     "output_type": "stream",
     "text": [
      "18502it [28:28,  9.43it/s]"
     ]
    },
    {
     "name": "stdout",
     "output_type": "stream",
     "text": [
      "| epoch   3 | 18500/32580 batches | loss    1.158 \n",
      "money: time, much, idea, it, able, practice, him, existence, even, making\n",
      "lion: musician, eight, lot, sons, wife, nine, directors, knight, vote, throne\n",
      "africa: asia, europe, india, korea, china, america, japan, coast, australia, russia\n",
      "musician: singer, composer, actor, actress, writer, politician, author, poet, philosopher, physicist\n",
      "dance: music, musical, traditional, rock, jazz, culture, pop, artists, traditions, style\n",
      "\n",
      "\n"
     ]
    },
    {
     "name": "stderr",
     "output_type": "stream",
     "text": [
      "19001it [29:14,  9.88it/s]"
     ]
    },
    {
     "name": "stdout",
     "output_type": "stream",
     "text": [
      "| epoch   3 | 19000/32580 batches | loss    1.160 \n",
      "money: time, much, idea, it, able, practice, him, existence, even, making\n",
      "lion: musician, eight, lot, sons, wife, nine, directors, knight, vote, throne\n",
      "africa: asia, europe, india, korea, china, america, japan, coast, australia, russia\n",
      "musician: singer, composer, actor, actress, writer, politician, author, poet, philosopher, physicist\n",
      "dance: music, musical, traditional, rock, jazz, culture, pop, artists, traditions, style\n",
      "\n",
      "\n"
     ]
    },
    {
     "name": "stderr",
     "output_type": "stream",
     "text": [
      "19502it [30:01,  9.57it/s]"
     ]
    },
    {
     "name": "stdout",
     "output_type": "stream",
     "text": [
      "| epoch   3 | 19500/32580 batches | loss    1.163 \n",
      "money: time, much, idea, it, able, practice, him, existence, even, making\n",
      "lion: musician, eight, lot, sons, wife, nine, directors, knight, vote, throne\n",
      "africa: asia, europe, india, korea, china, america, japan, coast, australia, russia\n",
      "musician: singer, composer, actor, actress, writer, politician, author, poet, philosopher, physicist\n",
      "dance: music, musical, traditional, rock, jazz, culture, pop, artists, traditions, style\n",
      "\n",
      "\n"
     ]
    },
    {
     "name": "stderr",
     "output_type": "stream",
     "text": [
      "20002it [30:47,  9.70it/s]"
     ]
    },
    {
     "name": "stdout",
     "output_type": "stream",
     "text": [
      "| epoch   3 | 20000/32580 batches | loss    1.156 \n",
      "money: time, much, idea, it, able, practice, him, existence, even, making\n",
      "lion: musician, eight, lot, sons, wife, nine, directors, knight, vote, throne\n",
      "africa: asia, europe, india, korea, china, america, japan, coast, australia, russia\n",
      "musician: singer, composer, actor, actress, writer, politician, author, poet, philosopher, physicist\n",
      "dance: music, musical, traditional, rock, jazz, culture, pop, artists, traditions, style\n",
      "\n",
      "\n"
     ]
    },
    {
     "name": "stderr",
     "output_type": "stream",
     "text": [
      "20501it [31:33,  9.91it/s]"
     ]
    },
    {
     "name": "stdout",
     "output_type": "stream",
     "text": [
      "| epoch   3 | 20500/32580 batches | loss    1.159 \n",
      "money: time, much, idea, it, able, practice, him, existence, even, making\n",
      "lion: musician, eight, lot, sons, wife, nine, directors, knight, vote, throne\n",
      "africa: asia, europe, india, korea, china, america, japan, coast, australia, russia\n",
      "musician: singer, composer, actor, actress, writer, politician, author, poet, philosopher, physicist\n",
      "dance: music, musical, traditional, rock, jazz, culture, pop, artists, traditions, style\n",
      "\n",
      "\n"
     ]
    },
    {
     "name": "stderr",
     "output_type": "stream",
     "text": [
      "21001it [32:19,  9.89it/s]"
     ]
    },
    {
     "name": "stdout",
     "output_type": "stream",
     "text": [
      "| epoch   3 | 21000/32580 batches | loss    1.163 \n",
      "money: time, much, idea, it, able, practice, him, existence, even, making\n",
      "lion: musician, eight, lot, sons, wife, nine, directors, knight, vote, throne\n",
      "africa: asia, europe, india, korea, china, america, japan, coast, australia, russia\n",
      "musician: singer, composer, actor, actress, writer, politician, author, poet, philosopher, physicist\n",
      "dance: music, musical, traditional, rock, jazz, culture, pop, artists, traditions, style\n",
      "\n",
      "\n"
     ]
    },
    {
     "name": "stderr",
     "output_type": "stream",
     "text": [
      "21501it [33:05,  9.88it/s]"
     ]
    },
    {
     "name": "stdout",
     "output_type": "stream",
     "text": [
      "| epoch   3 | 21500/32580 batches | loss    1.156 \n",
      "money: time, much, idea, it, able, practice, him, existence, even, making\n",
      "lion: musician, eight, lot, sons, wife, nine, directors, knight, vote, throne\n",
      "africa: asia, europe, india, korea, china, america, japan, coast, australia, russia\n",
      "musician: singer, composer, actor, actress, writer, politician, author, poet, philosopher, physicist\n",
      "dance: music, musical, traditional, rock, jazz, culture, pop, artists, traditions, style\n",
      "\n",
      "\n"
     ]
    },
    {
     "name": "stderr",
     "output_type": "stream",
     "text": [
      "22001it [33:51,  9.84it/s]"
     ]
    },
    {
     "name": "stdout",
     "output_type": "stream",
     "text": [
      "| epoch   3 | 22000/32580 batches | loss    1.160 \n",
      "money: time, much, idea, it, able, practice, him, existence, even, making\n",
      "lion: musician, eight, lot, sons, wife, nine, directors, knight, vote, throne\n",
      "africa: asia, europe, india, korea, china, america, japan, coast, australia, russia\n",
      "musician: singer, composer, actor, actress, writer, politician, author, poet, philosopher, physicist\n",
      "dance: music, musical, traditional, rock, jazz, culture, pop, artists, traditions, style\n",
      "\n",
      "\n"
     ]
    },
    {
     "name": "stderr",
     "output_type": "stream",
     "text": [
      "22502it [34:37,  9.72it/s]"
     ]
    },
    {
     "name": "stdout",
     "output_type": "stream",
     "text": [
      "| epoch   3 | 22500/32580 batches | loss    1.161 \n",
      "money: time, much, idea, it, able, practice, him, existence, even, making\n",
      "lion: musician, eight, lot, sons, wife, nine, directors, knight, vote, throne\n",
      "africa: asia, europe, india, korea, china, america, japan, coast, australia, russia\n",
      "musician: singer, composer, actor, actress, writer, politician, author, poet, philosopher, physicist\n",
      "dance: music, musical, traditional, rock, jazz, culture, pop, artists, traditions, style\n",
      "\n",
      "\n"
     ]
    },
    {
     "name": "stderr",
     "output_type": "stream",
     "text": [
      "23001it [35:23, 10.01it/s]"
     ]
    },
    {
     "name": "stdout",
     "output_type": "stream",
     "text": [
      "| epoch   3 | 23000/32580 batches | loss    1.159 \n",
      "money: time, much, idea, it, able, practice, him, existence, even, making\n",
      "lion: musician, eight, lot, sons, wife, nine, directors, knight, vote, throne\n",
      "africa: asia, europe, india, korea, china, america, japan, coast, australia, russia\n",
      "musician: singer, composer, actor, actress, writer, politician, author, poet, philosopher, physicist\n",
      "dance: music, musical, traditional, rock, jazz, culture, pop, artists, traditions, style\n",
      "\n",
      "\n"
     ]
    },
    {
     "name": "stderr",
     "output_type": "stream",
     "text": [
      "23502it [36:09,  9.74it/s]"
     ]
    },
    {
     "name": "stdout",
     "output_type": "stream",
     "text": [
      "| epoch   3 | 23500/32580 batches | loss    1.163 \n",
      "money: time, much, idea, it, able, practice, him, existence, even, making\n",
      "lion: musician, eight, lot, sons, wife, nine, directors, knight, vote, throne\n",
      "africa: asia, europe, india, korea, china, america, japan, coast, australia, russia\n",
      "musician: singer, composer, actor, actress, writer, politician, author, poet, philosopher, physicist\n",
      "dance: music, musical, traditional, rock, jazz, culture, pop, artists, traditions, style\n",
      "\n",
      "\n"
     ]
    },
    {
     "name": "stderr",
     "output_type": "stream",
     "text": [
      "24002it [36:56,  9.36it/s]"
     ]
    },
    {
     "name": "stdout",
     "output_type": "stream",
     "text": [
      "| epoch   3 | 24000/32580 batches | loss    1.162 \n",
      "money: time, much, idea, it, able, practice, him, existence, even, making\n",
      "lion: musician, eight, lot, sons, wife, nine, directors, knight, vote, throne\n",
      "africa: asia, europe, india, korea, china, america, japan, coast, australia, russia\n",
      "musician: singer, composer, actor, actress, writer, politician, author, poet, philosopher, physicist\n",
      "dance: music, musical, traditional, rock, jazz, culture, pop, artists, traditions, style\n",
      "\n",
      "\n"
     ]
    },
    {
     "name": "stderr",
     "output_type": "stream",
     "text": [
      "24502it [37:42,  9.47it/s]"
     ]
    },
    {
     "name": "stdout",
     "output_type": "stream",
     "text": [
      "| epoch   3 | 24500/32580 batches | loss    1.164 \n",
      "money: time, much, idea, it, able, practice, him, existence, even, making\n",
      "lion: musician, eight, lot, sons, wife, nine, directors, knight, vote, throne\n",
      "africa: asia, europe, india, korea, china, america, japan, coast, australia, russia\n",
      "musician: singer, composer, actor, actress, writer, politician, author, poet, philosopher, physicist\n",
      "dance: music, musical, traditional, rock, jazz, culture, pop, artists, traditions, style\n",
      "\n",
      "\n"
     ]
    },
    {
     "name": "stderr",
     "output_type": "stream",
     "text": [
      "25002it [38:28,  9.50it/s]"
     ]
    },
    {
     "name": "stdout",
     "output_type": "stream",
     "text": [
      "| epoch   3 | 25000/32580 batches | loss    1.166 \n",
      "money: time, much, idea, it, able, practice, him, existence, even, making\n",
      "lion: musician, eight, lot, sons, wife, nine, directors, knight, vote, throne\n",
      "africa: asia, europe, india, korea, china, america, japan, coast, australia, russia\n",
      "musician: singer, composer, actor, actress, writer, politician, author, poet, philosopher, physicist\n",
      "dance: music, musical, traditional, rock, jazz, culture, pop, artists, traditions, style\n",
      "\n",
      "\n"
     ]
    },
    {
     "name": "stderr",
     "output_type": "stream",
     "text": [
      "25501it [39:14,  9.54it/s]"
     ]
    },
    {
     "name": "stdout",
     "output_type": "stream",
     "text": [
      "| epoch   3 | 25500/32580 batches | loss    1.159 \n",
      "money: time, much, idea, it, able, practice, him, existence, even, making\n",
      "lion: musician, eight, lot, sons, wife, nine, directors, knight, vote, throne\n",
      "africa: asia, europe, india, korea, china, america, japan, coast, australia, russia\n",
      "musician: singer, composer, actor, actress, writer, politician, author, poet, philosopher, physicist\n",
      "dance: music, musical, traditional, rock, jazz, culture, pop, artists, traditions, style\n",
      "\n",
      "\n"
     ]
    },
    {
     "name": "stderr",
     "output_type": "stream",
     "text": [
      "26002it [40:02,  9.13it/s]"
     ]
    },
    {
     "name": "stdout",
     "output_type": "stream",
     "text": [
      "| epoch   3 | 26000/32580 batches | loss    1.162 \n",
      "money: time, much, idea, it, able, practice, him, existence, even, making\n",
      "lion: musician, eight, lot, sons, wife, nine, directors, knight, vote, throne\n",
      "africa: asia, europe, india, korea, china, america, japan, coast, australia, russia\n",
      "musician: singer, composer, actor, actress, writer, politician, author, poet, philosopher, physicist\n",
      "dance: music, musical, traditional, rock, jazz, culture, pop, artists, traditions, style\n",
      "\n",
      "\n"
     ]
    },
    {
     "name": "stderr",
     "output_type": "stream",
     "text": [
      "26501it [40:48,  9.95it/s]"
     ]
    },
    {
     "name": "stdout",
     "output_type": "stream",
     "text": [
      "| epoch   3 | 26500/32580 batches | loss    1.166 \n",
      "money: time, much, idea, it, able, practice, him, existence, even, making\n",
      "lion: musician, eight, lot, sons, wife, nine, directors, knight, vote, throne\n",
      "africa: asia, europe, india, korea, china, america, japan, coast, australia, russia\n",
      "musician: singer, composer, actor, actress, writer, politician, author, poet, philosopher, physicist\n",
      "dance: music, musical, traditional, rock, jazz, culture, pop, artists, traditions, style\n",
      "\n",
      "\n"
     ]
    },
    {
     "name": "stderr",
     "output_type": "stream",
     "text": [
      "27002it [41:34,  9.76it/s]"
     ]
    },
    {
     "name": "stdout",
     "output_type": "stream",
     "text": [
      "| epoch   3 | 27000/32580 batches | loss    1.157 \n",
      "money: time, much, idea, it, able, practice, him, existence, even, making\n",
      "lion: musician, eight, lot, sons, wife, nine, directors, knight, vote, throne\n",
      "africa: asia, europe, india, korea, china, america, japan, coast, australia, russia\n",
      "musician: singer, composer, actor, actress, writer, politician, author, poet, philosopher, physicist\n",
      "dance: music, musical, traditional, rock, jazz, culture, pop, artists, traditions, style\n",
      "\n",
      "\n"
     ]
    },
    {
     "name": "stderr",
     "output_type": "stream",
     "text": [
      "27502it [42:20,  9.45it/s]"
     ]
    },
    {
     "name": "stdout",
     "output_type": "stream",
     "text": [
      "| epoch   3 | 27500/32580 batches | loss    1.160 \n",
      "money: time, much, idea, it, able, practice, him, existence, even, making\n",
      "lion: musician, eight, lot, sons, wife, nine, directors, knight, vote, throne\n",
      "africa: asia, europe, india, korea, china, america, japan, coast, australia, russia\n",
      "musician: singer, composer, actor, actress, writer, politician, author, poet, philosopher, physicist\n",
      "dance: music, musical, traditional, rock, jazz, culture, pop, artists, traditions, style\n",
      "\n",
      "\n"
     ]
    },
    {
     "name": "stderr",
     "output_type": "stream",
     "text": [
      "28002it [43:06,  9.50it/s]"
     ]
    },
    {
     "name": "stdout",
     "output_type": "stream",
     "text": [
      "| epoch   3 | 28000/32580 batches | loss    1.159 \n",
      "money: time, much, idea, it, able, practice, him, existence, even, making\n",
      "lion: musician, eight, lot, sons, wife, nine, directors, knight, vote, throne\n",
      "africa: asia, europe, india, korea, china, america, japan, coast, australia, russia\n",
      "musician: singer, composer, actor, actress, writer, politician, author, poet, philosopher, physicist\n",
      "dance: music, musical, traditional, rock, jazz, culture, pop, artists, traditions, style\n",
      "\n",
      "\n"
     ]
    },
    {
     "name": "stderr",
     "output_type": "stream",
     "text": [
      "28501it [43:52,  9.86it/s]"
     ]
    },
    {
     "name": "stdout",
     "output_type": "stream",
     "text": [
      "| epoch   3 | 28500/32580 batches | loss    1.157 \n",
      "money: time, much, idea, it, able, practice, him, existence, even, making\n",
      "lion: musician, eight, lot, sons, wife, nine, directors, knight, vote, throne\n",
      "africa: asia, europe, india, korea, china, america, japan, coast, australia, russia\n",
      "musician: singer, composer, actor, actress, writer, politician, author, poet, philosopher, physicist\n",
      "dance: music, musical, traditional, rock, jazz, culture, pop, artists, traditions, style\n",
      "\n",
      "\n"
     ]
    },
    {
     "name": "stderr",
     "output_type": "stream",
     "text": [
      "29001it [44:39,  9.97it/s]"
     ]
    },
    {
     "name": "stdout",
     "output_type": "stream",
     "text": [
      "| epoch   3 | 29000/32580 batches | loss    1.160 \n",
      "money: time, much, idea, it, able, practice, him, existence, even, making\n",
      "lion: musician, eight, lot, sons, wife, nine, directors, knight, vote, throne\n",
      "africa: asia, europe, india, korea, china, america, japan, coast, australia, russia\n",
      "musician: singer, composer, actor, actress, writer, politician, author, poet, philosopher, physicist\n",
      "dance: music, musical, traditional, rock, jazz, culture, pop, artists, traditions, style\n",
      "\n",
      "\n"
     ]
    },
    {
     "name": "stderr",
     "output_type": "stream",
     "text": [
      "29502it [45:25,  9.62it/s]"
     ]
    },
    {
     "name": "stdout",
     "output_type": "stream",
     "text": [
      "| epoch   3 | 29500/32580 batches | loss    1.163 \n",
      "money: time, much, idea, it, able, practice, him, existence, even, making\n",
      "lion: musician, eight, lot, sons, wife, nine, directors, knight, vote, throne\n",
      "africa: asia, europe, india, korea, china, america, japan, coast, australia, russia\n",
      "musician: singer, composer, actor, actress, writer, politician, author, poet, philosopher, physicist\n",
      "dance: music, musical, traditional, rock, jazz, culture, pop, artists, traditions, style\n",
      "\n",
      "\n"
     ]
    },
    {
     "name": "stderr",
     "output_type": "stream",
     "text": [
      "30002it [46:11,  9.61it/s]"
     ]
    },
    {
     "name": "stdout",
     "output_type": "stream",
     "text": [
      "| epoch   3 | 30000/32580 batches | loss    1.164 \n",
      "money: time, much, idea, it, able, practice, him, existence, even, making\n",
      "lion: musician, eight, lot, sons, wife, nine, directors, knight, vote, throne\n",
      "africa: asia, europe, india, korea, china, america, japan, coast, australia, russia\n",
      "musician: singer, composer, actor, actress, writer, politician, author, poet, philosopher, physicist\n",
      "dance: music, musical, traditional, rock, jazz, culture, pop, artists, traditions, style\n",
      "\n",
      "\n"
     ]
    },
    {
     "name": "stderr",
     "output_type": "stream",
     "text": [
      "30502it [46:57,  9.64it/s]"
     ]
    },
    {
     "name": "stdout",
     "output_type": "stream",
     "text": [
      "| epoch   3 | 30500/32580 batches | loss    1.163 \n",
      "money: time, much, idea, it, able, practice, him, existence, even, making\n",
      "lion: musician, eight, lot, sons, wife, nine, directors, knight, vote, throne\n",
      "africa: asia, europe, india, korea, china, america, japan, coast, australia, russia\n",
      "musician: singer, composer, actor, actress, writer, politician, author, poet, philosopher, physicist\n",
      "dance: music, musical, traditional, rock, jazz, culture, pop, artists, traditions, style\n",
      "\n",
      "\n"
     ]
    },
    {
     "name": "stderr",
     "output_type": "stream",
     "text": [
      "31001it [47:43,  9.84it/s]"
     ]
    },
    {
     "name": "stdout",
     "output_type": "stream",
     "text": [
      "| epoch   3 | 31000/32580 batches | loss    1.163 \n",
      "money: time, much, idea, it, able, practice, him, existence, even, making\n",
      "lion: musician, eight, lot, sons, wife, nine, directors, knight, vote, throne\n",
      "africa: asia, europe, india, korea, china, america, japan, coast, australia, russia\n",
      "musician: singer, composer, actor, actress, writer, politician, author, poet, philosopher, physicist\n",
      "dance: music, musical, traditional, rock, jazz, culture, pop, artists, traditions, style\n",
      "\n",
      "\n"
     ]
    },
    {
     "name": "stderr",
     "output_type": "stream",
     "text": [
      "31501it [48:29, 10.02it/s]"
     ]
    },
    {
     "name": "stdout",
     "output_type": "stream",
     "text": [
      "| epoch   3 | 31500/32580 batches | loss    1.159 \n",
      "money: time, much, idea, it, able, practice, him, existence, even, making\n",
      "lion: musician, eight, lot, sons, wife, nine, directors, knight, vote, throne\n",
      "africa: asia, europe, india, korea, china, america, japan, coast, australia, russia\n",
      "musician: singer, composer, actor, actress, writer, politician, author, poet, philosopher, physicist\n",
      "dance: music, musical, traditional, rock, jazz, culture, pop, artists, traditions, style\n",
      "\n",
      "\n"
     ]
    },
    {
     "name": "stderr",
     "output_type": "stream",
     "text": [
      "32001it [49:15,  9.83it/s]"
     ]
    },
    {
     "name": "stdout",
     "output_type": "stream",
     "text": [
      "| epoch   3 | 32000/32580 batches | loss    1.162 \n",
      "money: time, much, idea, it, able, practice, him, existence, even, making\n",
      "lion: musician, eight, lot, sons, wife, nine, directors, knight, vote, throne\n",
      "africa: asia, europe, india, korea, china, america, japan, coast, australia, russia\n",
      "musician: singer, composer, actor, actress, writer, politician, author, poet, philosopher, physicist\n",
      "dance: music, musical, traditional, rock, jazz, culture, pop, artists, traditions, style\n",
      "\n",
      "\n"
     ]
    },
    {
     "name": "stderr",
     "output_type": "stream",
     "text": [
      "32502it [50:01,  9.69it/s]"
     ]
    },
    {
     "name": "stdout",
     "output_type": "stream",
     "text": [
      "| epoch   3 | 32500/32580 batches | loss    1.161 \n",
      "money: time, much, idea, it, able, practice, him, existence, even, making\n",
      "lion: musician, eight, lot, sons, wife, nine, directors, knight, vote, throne\n",
      "africa: asia, europe, india, korea, china, america, japan, coast, australia, russia\n",
      "musician: singer, composer, actor, actress, writer, politician, author, poet, philosopher, physicist\n",
      "dance: music, musical, traditional, rock, jazz, culture, pop, artists, traditions, style\n",
      "\n",
      "\n"
     ]
    },
    {
     "name": "stderr",
     "output_type": "stream",
     "text": [
      "32580it [50:09, 10.83it/s]\n",
      "2it [00:00,  3.42it/s]"
     ]
    },
    {
     "name": "stdout",
     "output_type": "stream",
     "text": [
      "| epoch   4 |     0/32580 batches | loss    1.132 \n",
      "money: time, much, idea, it, able, practice, him, existence, even, making\n",
      "lion: musician, eight, lot, sons, wife, nine, directors, knight, vote, throne\n",
      "africa: asia, europe, india, korea, china, america, japan, coast, australia, russia\n",
      "musician: singer, composer, actor, actress, writer, politician, author, poet, philosopher, physicist\n",
      "dance: music, musical, traditional, rock, jazz, culture, pop, artists, traditions, style\n",
      "\n",
      "\n"
     ]
    },
    {
     "name": "stderr",
     "output_type": "stream",
     "text": [
      "502it [00:46,  9.20it/s]"
     ]
    },
    {
     "name": "stdout",
     "output_type": "stream",
     "text": [
      "| epoch   4 |   500/32580 batches | loss    1.158 \n",
      "money: time, much, idea, it, able, practice, him, existence, even, making\n",
      "lion: musician, eight, lot, sons, wife, nine, directors, knight, vote, throne\n",
      "africa: asia, europe, india, korea, china, america, japan, coast, australia, russia\n",
      "musician: singer, composer, actor, actress, writer, politician, author, poet, philosopher, physicist\n",
      "dance: music, musical, traditional, rock, jazz, culture, pop, artists, traditions, style\n",
      "\n",
      "\n"
     ]
    },
    {
     "name": "stderr",
     "output_type": "stream",
     "text": [
      "1001it [01:32,  9.87it/s]"
     ]
    },
    {
     "name": "stdout",
     "output_type": "stream",
     "text": [
      "| epoch   4 |  1000/32580 batches | loss    1.165 \n",
      "money: time, much, idea, it, able, practice, him, existence, even, making\n",
      "lion: musician, eight, lot, sons, wife, nine, directors, knight, vote, throne\n",
      "africa: asia, europe, india, korea, china, america, japan, coast, australia, russia\n",
      "musician: singer, composer, actor, actress, writer, politician, author, poet, philosopher, physicist\n",
      "dance: music, musical, traditional, rock, jazz, culture, pop, artists, traditions, style\n",
      "\n",
      "\n"
     ]
    },
    {
     "name": "stderr",
     "output_type": "stream",
     "text": [
      "1502it [02:19,  9.75it/s]"
     ]
    },
    {
     "name": "stdout",
     "output_type": "stream",
     "text": [
      "| epoch   4 |  1500/32580 batches | loss    1.160 \n",
      "money: time, much, idea, it, able, practice, him, existence, even, making\n",
      "lion: musician, eight, lot, sons, wife, nine, directors, knight, vote, throne\n",
      "africa: asia, europe, india, korea, china, america, japan, coast, australia, russia\n",
      "musician: singer, composer, actor, actress, writer, politician, author, poet, philosopher, physicist\n",
      "dance: music, musical, traditional, rock, jazz, culture, pop, artists, traditions, style\n",
      "\n",
      "\n"
     ]
    },
    {
     "name": "stderr",
     "output_type": "stream",
     "text": [
      "2002it [03:05,  9.53it/s]"
     ]
    },
    {
     "name": "stdout",
     "output_type": "stream",
     "text": [
      "| epoch   4 |  2000/32580 batches | loss    1.158 \n",
      "money: time, much, idea, it, able, practice, him, existence, even, making\n",
      "lion: musician, eight, lot, sons, wife, nine, directors, knight, vote, throne\n",
      "africa: asia, europe, india, korea, china, america, japan, coast, australia, russia\n",
      "musician: singer, composer, actor, actress, writer, politician, author, poet, philosopher, physicist\n",
      "dance: music, musical, traditional, rock, jazz, culture, pop, artists, traditions, style\n",
      "\n",
      "\n"
     ]
    },
    {
     "name": "stderr",
     "output_type": "stream",
     "text": [
      "2502it [03:51,  9.59it/s]"
     ]
    },
    {
     "name": "stdout",
     "output_type": "stream",
     "text": [
      "| epoch   4 |  2500/32580 batches | loss    1.157 \n",
      "money: time, much, idea, it, able, practice, him, existence, even, making\n",
      "lion: musician, eight, lot, sons, wife, nine, directors, knight, vote, throne\n",
      "africa: asia, europe, india, korea, china, america, japan, coast, australia, russia\n",
      "musician: singer, composer, actor, actress, writer, politician, author, poet, philosopher, physicist\n",
      "dance: music, musical, traditional, rock, jazz, culture, pop, artists, traditions, style\n",
      "\n",
      "\n"
     ]
    },
    {
     "name": "stderr",
     "output_type": "stream",
     "text": [
      "3002it [04:38,  9.45it/s]"
     ]
    },
    {
     "name": "stdout",
     "output_type": "stream",
     "text": [
      "| epoch   4 |  3000/32580 batches | loss    1.162 \n",
      "money: time, much, idea, it, able, practice, him, existence, even, making\n",
      "lion: musician, eight, lot, sons, wife, nine, directors, knight, vote, throne\n",
      "africa: asia, europe, india, korea, china, america, japan, coast, australia, russia\n",
      "musician: singer, composer, actor, actress, writer, politician, author, poet, philosopher, physicist\n",
      "dance: music, musical, traditional, rock, jazz, culture, pop, artists, traditions, style\n",
      "\n",
      "\n"
     ]
    },
    {
     "name": "stderr",
     "output_type": "stream",
     "text": [
      "3502it [05:24,  9.80it/s]"
     ]
    },
    {
     "name": "stdout",
     "output_type": "stream",
     "text": [
      "| epoch   4 |  3500/32580 batches | loss    1.156 \n",
      "money: time, much, idea, it, able, practice, him, existence, even, making\n",
      "lion: musician, eight, lot, sons, wife, nine, directors, knight, vote, throne\n",
      "africa: asia, europe, india, korea, china, america, japan, coast, australia, russia\n",
      "musician: singer, composer, actor, actress, writer, politician, author, poet, philosopher, physicist\n",
      "dance: music, musical, traditional, rock, jazz, culture, pop, artists, traditions, style\n",
      "\n",
      "\n"
     ]
    },
    {
     "name": "stderr",
     "output_type": "stream",
     "text": [
      "4002it [06:10,  9.72it/s]"
     ]
    },
    {
     "name": "stdout",
     "output_type": "stream",
     "text": [
      "| epoch   4 |  4000/32580 batches | loss    1.160 \n",
      "money: time, much, idea, it, able, practice, him, existence, even, making\n",
      "lion: musician, eight, lot, sons, wife, nine, directors, knight, vote, throne\n",
      "africa: asia, europe, india, korea, china, america, japan, coast, australia, russia\n",
      "musician: singer, composer, actor, actress, writer, politician, author, poet, philosopher, physicist\n",
      "dance: music, musical, traditional, rock, jazz, culture, pop, artists, traditions, style\n",
      "\n",
      "\n"
     ]
    },
    {
     "name": "stderr",
     "output_type": "stream",
     "text": [
      "4502it [06:57,  9.42it/s]"
     ]
    },
    {
     "name": "stdout",
     "output_type": "stream",
     "text": [
      "| epoch   4 |  4500/32580 batches | loss    1.161 \n",
      "money: time, much, idea, it, able, practice, him, existence, even, making\n",
      "lion: musician, eight, lot, sons, wife, nine, directors, knight, vote, throne\n",
      "africa: asia, europe, india, korea, china, america, japan, coast, australia, russia\n",
      "musician: singer, composer, actor, actress, writer, politician, author, poet, philosopher, physicist\n",
      "dance: music, musical, traditional, rock, jazz, culture, pop, artists, traditions, style\n",
      "\n",
      "\n"
     ]
    },
    {
     "name": "stderr",
     "output_type": "stream",
     "text": [
      "5002it [07:43,  9.82it/s]"
     ]
    },
    {
     "name": "stdout",
     "output_type": "stream",
     "text": [
      "| epoch   4 |  5000/32580 batches | loss    1.163 \n",
      "money: time, much, idea, it, able, practice, him, existence, even, making\n",
      "lion: musician, eight, lot, sons, wife, nine, directors, knight, vote, throne\n",
      "africa: asia, europe, india, korea, china, america, japan, coast, australia, russia\n",
      "musician: singer, composer, actor, actress, writer, politician, author, poet, philosopher, physicist\n",
      "dance: music, musical, traditional, rock, jazz, culture, pop, artists, traditions, style\n",
      "\n",
      "\n"
     ]
    },
    {
     "name": "stderr",
     "output_type": "stream",
     "text": [
      "5502it [08:29,  9.53it/s]"
     ]
    },
    {
     "name": "stdout",
     "output_type": "stream",
     "text": [
      "| epoch   4 |  5500/32580 batches | loss    1.160 \n",
      "money: time, much, idea, it, able, practice, him, existence, even, making\n",
      "lion: musician, eight, lot, sons, wife, nine, directors, knight, vote, throne\n",
      "africa: asia, europe, india, korea, china, america, japan, coast, australia, russia\n",
      "musician: singer, composer, actor, actress, writer, politician, author, poet, philosopher, physicist\n",
      "dance: music, musical, traditional, rock, jazz, culture, pop, artists, traditions, style\n",
      "\n",
      "\n"
     ]
    },
    {
     "name": "stderr",
     "output_type": "stream",
     "text": [
      "6001it [09:15,  9.76it/s]"
     ]
    },
    {
     "name": "stdout",
     "output_type": "stream",
     "text": [
      "| epoch   4 |  6000/32580 batches | loss    1.160 \n",
      "money: time, much, idea, it, able, practice, him, existence, even, making\n",
      "lion: musician, eight, lot, sons, wife, nine, directors, knight, vote, throne\n",
      "africa: asia, europe, india, korea, china, america, japan, coast, australia, russia\n",
      "musician: singer, composer, actor, actress, writer, politician, author, poet, philosopher, physicist\n",
      "dance: music, musical, traditional, rock, jazz, culture, pop, artists, traditions, style\n",
      "\n",
      "\n"
     ]
    },
    {
     "name": "stderr",
     "output_type": "stream",
     "text": [
      "6502it [10:01,  9.53it/s]"
     ]
    },
    {
     "name": "stdout",
     "output_type": "stream",
     "text": [
      "| epoch   4 |  6500/32580 batches | loss    1.158 \n",
      "money: time, much, idea, it, able, practice, him, existence, even, making\n",
      "lion: musician, eight, lot, sons, wife, nine, directors, knight, vote, throne\n",
      "africa: asia, europe, india, korea, china, america, japan, coast, australia, russia\n",
      "musician: singer, composer, actor, actress, writer, politician, author, poet, philosopher, physicist\n",
      "dance: music, musical, traditional, rock, jazz, culture, pop, artists, traditions, style\n",
      "\n",
      "\n"
     ]
    },
    {
     "name": "stderr",
     "output_type": "stream",
     "text": [
      "7002it [10:47,  9.81it/s]"
     ]
    },
    {
     "name": "stdout",
     "output_type": "stream",
     "text": [
      "| epoch   4 |  7000/32580 batches | loss    1.164 \n",
      "money: time, much, idea, it, able, practice, him, existence, even, making\n",
      "lion: musician, eight, lot, sons, wife, nine, directors, knight, vote, throne\n",
      "africa: asia, europe, india, korea, china, america, japan, coast, australia, russia\n",
      "musician: singer, composer, actor, actress, writer, politician, author, poet, philosopher, physicist\n",
      "dance: music, musical, traditional, rock, jazz, culture, pop, artists, traditions, style\n",
      "\n",
      "\n"
     ]
    },
    {
     "name": "stderr",
     "output_type": "stream",
     "text": [
      "7502it [11:33,  9.80it/s]"
     ]
    },
    {
     "name": "stdout",
     "output_type": "stream",
     "text": [
      "| epoch   4 |  7500/32580 batches | loss    1.159 \n",
      "money: time, much, idea, it, able, practice, him, existence, even, making\n",
      "lion: musician, eight, lot, sons, wife, nine, directors, knight, vote, throne\n",
      "africa: asia, europe, india, korea, china, america, japan, coast, australia, russia\n",
      "musician: singer, composer, actor, actress, writer, politician, author, poet, philosopher, physicist\n",
      "dance: music, musical, traditional, rock, jazz, culture, pop, artists, traditions, style\n",
      "\n",
      "\n"
     ]
    },
    {
     "name": "stderr",
     "output_type": "stream",
     "text": [
      "8002it [12:19,  9.52it/s]"
     ]
    },
    {
     "name": "stdout",
     "output_type": "stream",
     "text": [
      "| epoch   4 |  8000/32580 batches | loss    1.159 \n",
      "money: time, much, idea, it, able, practice, him, existence, even, making\n",
      "lion: musician, eight, lot, sons, wife, nine, directors, knight, vote, throne\n",
      "africa: asia, europe, india, korea, china, america, japan, coast, australia, russia\n",
      "musician: singer, composer, actor, actress, writer, politician, author, poet, philosopher, physicist\n",
      "dance: music, musical, traditional, rock, jazz, culture, pop, artists, traditions, style\n",
      "\n",
      "\n"
     ]
    },
    {
     "name": "stderr",
     "output_type": "stream",
     "text": [
      "8501it [13:05,  9.93it/s]"
     ]
    },
    {
     "name": "stdout",
     "output_type": "stream",
     "text": [
      "| epoch   4 |  8500/32580 batches | loss    1.159 \n",
      "money: time, much, idea, it, able, practice, him, existence, even, making\n",
      "lion: musician, eight, lot, sons, wife, nine, directors, knight, vote, throne\n",
      "africa: asia, europe, india, korea, china, america, japan, coast, australia, russia\n",
      "musician: singer, composer, actor, actress, writer, politician, author, poet, philosopher, physicist\n",
      "dance: music, musical, traditional, rock, jazz, culture, pop, artists, traditions, style\n",
      "\n",
      "\n"
     ]
    },
    {
     "name": "stderr",
     "output_type": "stream",
     "text": [
      "9001it [13:51,  9.89it/s]"
     ]
    },
    {
     "name": "stdout",
     "output_type": "stream",
     "text": [
      "| epoch   4 |  9000/32580 batches | loss    1.160 \n",
      "money: time, much, idea, it, able, practice, him, existence, even, making\n",
      "lion: musician, eight, lot, sons, wife, nine, directors, knight, vote, throne\n",
      "africa: asia, europe, india, korea, china, america, japan, coast, australia, russia\n",
      "musician: singer, composer, actor, actress, writer, politician, author, poet, philosopher, physicist\n",
      "dance: music, musical, traditional, rock, jazz, culture, pop, artists, traditions, style\n",
      "\n",
      "\n"
     ]
    },
    {
     "name": "stderr",
     "output_type": "stream",
     "text": [
      "9502it [14:37,  9.56it/s]"
     ]
    },
    {
     "name": "stdout",
     "output_type": "stream",
     "text": [
      "| epoch   4 |  9500/32580 batches | loss    1.164 \n",
      "money: time, much, idea, it, able, practice, him, existence, even, making\n",
      "lion: musician, eight, lot, sons, wife, nine, directors, knight, vote, throne\n",
      "africa: asia, europe, india, korea, china, america, japan, coast, australia, russia\n",
      "musician: singer, composer, actor, actress, writer, politician, author, poet, philosopher, physicist\n",
      "dance: music, musical, traditional, rock, jazz, culture, pop, artists, traditions, style\n",
      "\n",
      "\n"
     ]
    },
    {
     "name": "stderr",
     "output_type": "stream",
     "text": [
      "10000it [15:24, 10.93it/s]"
     ]
    },
    {
     "name": "stdout",
     "output_type": "stream",
     "text": [
      "| epoch   4 | 10000/32580 batches | loss    1.160 \n",
      "money: time, much, idea, it, able, practice, him, existence, even, making\n",
      "lion: musician, eight, lot, sons, wife, nine, directors, knight, vote, throne\n",
      "africa: asia, europe, india, korea, china, america, japan, coast, australia, russia\n",
      "musician: singer, composer, actor, actress, writer, politician, author, poet, philosopher, physicist\n",
      "dance: music, musical, traditional, rock, jazz, culture, pop, artists, traditions, style\n",
      "\n",
      "\n"
     ]
    },
    {
     "name": "stderr",
     "output_type": "stream",
     "text": [
      "10502it [16:10,  9.63it/s]"
     ]
    },
    {
     "name": "stdout",
     "output_type": "stream",
     "text": [
      "| epoch   4 | 10500/32580 batches | loss    1.160 \n",
      "money: time, much, idea, it, able, practice, him, existence, even, making\n",
      "lion: musician, eight, lot, sons, wife, nine, directors, knight, vote, throne\n",
      "africa: asia, europe, india, korea, china, america, japan, coast, australia, russia\n",
      "musician: singer, composer, actor, actress, writer, politician, author, poet, philosopher, physicist\n",
      "dance: music, musical, traditional, rock, jazz, culture, pop, artists, traditions, style\n",
      "\n",
      "\n"
     ]
    },
    {
     "name": "stderr",
     "output_type": "stream",
     "text": [
      "11001it [16:56,  9.87it/s]"
     ]
    },
    {
     "name": "stdout",
     "output_type": "stream",
     "text": [
      "| epoch   4 | 11000/32580 batches | loss    1.162 \n",
      "money: time, much, idea, it, able, practice, him, existence, even, making\n",
      "lion: musician, eight, lot, sons, wife, nine, directors, knight, vote, throne\n",
      "africa: asia, europe, india, korea, china, america, japan, coast, australia, russia\n",
      "musician: singer, composer, actor, actress, writer, politician, author, poet, philosopher, physicist\n",
      "dance: music, musical, traditional, rock, jazz, culture, pop, artists, traditions, style\n",
      "\n",
      "\n"
     ]
    },
    {
     "name": "stderr",
     "output_type": "stream",
     "text": [
      "11502it [17:42,  9.68it/s]"
     ]
    },
    {
     "name": "stdout",
     "output_type": "stream",
     "text": [
      "| epoch   4 | 11500/32580 batches | loss    1.160 \n",
      "money: time, much, idea, it, able, practice, him, existence, even, making\n",
      "lion: musician, eight, lot, sons, wife, nine, directors, knight, vote, throne\n",
      "africa: asia, europe, india, korea, china, america, japan, coast, australia, russia\n",
      "musician: singer, composer, actor, actress, writer, politician, author, poet, philosopher, physicist\n",
      "dance: music, musical, traditional, rock, jazz, culture, pop, artists, traditions, style\n",
      "\n",
      "\n"
     ]
    },
    {
     "name": "stderr",
     "output_type": "stream",
     "text": [
      "12002it [18:28,  9.56it/s]"
     ]
    },
    {
     "name": "stdout",
     "output_type": "stream",
     "text": [
      "| epoch   4 | 12000/32580 batches | loss    1.161 \n",
      "money: time, much, idea, it, able, practice, him, existence, even, making\n",
      "lion: musician, eight, lot, sons, wife, nine, directors, knight, vote, throne\n",
      "africa: asia, europe, india, korea, china, america, japan, coast, australia, russia\n",
      "musician: singer, composer, actor, actress, writer, politician, author, poet, philosopher, physicist\n",
      "dance: music, musical, traditional, rock, jazz, culture, pop, artists, traditions, style\n",
      "\n",
      "\n"
     ]
    },
    {
     "name": "stderr",
     "output_type": "stream",
     "text": [
      "12501it [19:14,  9.94it/s]"
     ]
    },
    {
     "name": "stdout",
     "output_type": "stream",
     "text": [
      "| epoch   4 | 12500/32580 batches | loss    1.160 \n",
      "money: time, much, idea, it, able, practice, him, existence, even, making\n",
      "lion: musician, eight, lot, sons, wife, nine, directors, knight, vote, throne\n",
      "africa: asia, europe, india, korea, china, america, japan, coast, australia, russia\n",
      "musician: singer, composer, actor, actress, writer, politician, author, poet, philosopher, physicist\n",
      "dance: music, musical, traditional, rock, jazz, culture, pop, artists, traditions, style\n",
      "\n",
      "\n"
     ]
    },
    {
     "name": "stderr",
     "output_type": "stream",
     "text": [
      "13001it [20:00, 10.02it/s]"
     ]
    },
    {
     "name": "stdout",
     "output_type": "stream",
     "text": [
      "| epoch   4 | 13000/32580 batches | loss    1.160 \n",
      "money: time, much, idea, it, able, practice, him, existence, even, making\n",
      "lion: musician, eight, lot, sons, wife, nine, directors, knight, vote, throne\n",
      "africa: asia, europe, india, korea, china, america, japan, coast, australia, russia\n",
      "musician: singer, composer, actor, actress, writer, politician, author, poet, philosopher, physicist\n",
      "dance: music, musical, traditional, rock, jazz, culture, pop, artists, traditions, style\n",
      "\n",
      "\n"
     ]
    },
    {
     "name": "stderr",
     "output_type": "stream",
     "text": [
      "13501it [20:46,  9.89it/s]"
     ]
    },
    {
     "name": "stdout",
     "output_type": "stream",
     "text": [
      "| epoch   4 | 13500/32580 batches | loss    1.162 \n",
      "money: time, much, idea, it, able, practice, him, existence, even, making\n",
      "lion: musician, eight, lot, sons, wife, nine, directors, knight, vote, throne\n",
      "africa: asia, europe, india, korea, china, america, japan, coast, australia, russia\n",
      "musician: singer, composer, actor, actress, writer, politician, author, poet, philosopher, physicist\n",
      "dance: music, musical, traditional, rock, jazz, culture, pop, artists, traditions, style\n",
      "\n",
      "\n"
     ]
    },
    {
     "name": "stderr",
     "output_type": "stream",
     "text": [
      "14001it [21:31,  9.86it/s]"
     ]
    },
    {
     "name": "stdout",
     "output_type": "stream",
     "text": [
      "| epoch   4 | 14000/32580 batches | loss    1.162 \n",
      "money: time, much, idea, it, able, practice, him, existence, even, making\n",
      "lion: musician, eight, lot, sons, wife, nine, directors, knight, vote, throne\n",
      "africa: asia, europe, india, korea, china, america, japan, coast, australia, russia\n",
      "musician: singer, composer, actor, actress, writer, politician, author, poet, philosopher, physicist\n",
      "dance: music, musical, traditional, rock, jazz, culture, pop, artists, traditions, style\n",
      "\n",
      "\n"
     ]
    },
    {
     "name": "stderr",
     "output_type": "stream",
     "text": [
      "14501it [22:17,  9.86it/s]"
     ]
    },
    {
     "name": "stdout",
     "output_type": "stream",
     "text": [
      "| epoch   4 | 14500/32580 batches | loss    1.161 \n",
      "money: time, much, idea, it, able, practice, him, existence, even, making\n",
      "lion: musician, eight, lot, sons, wife, nine, directors, knight, vote, throne\n",
      "africa: asia, europe, india, korea, china, america, japan, coast, australia, russia\n",
      "musician: singer, composer, actor, actress, writer, politician, author, poet, philosopher, physicist\n",
      "dance: music, musical, traditional, rock, jazz, culture, pop, artists, traditions, style\n",
      "\n",
      "\n"
     ]
    },
    {
     "name": "stderr",
     "output_type": "stream",
     "text": [
      "15001it [23:03,  9.84it/s]"
     ]
    },
    {
     "name": "stdout",
     "output_type": "stream",
     "text": [
      "| epoch   4 | 15000/32580 batches | loss    1.164 \n",
      "money: time, much, idea, it, able, practice, him, existence, even, making\n",
      "lion: musician, eight, lot, sons, wife, nine, directors, knight, vote, throne\n",
      "africa: asia, europe, india, korea, china, america, japan, coast, australia, russia\n",
      "musician: singer, composer, actor, actress, writer, politician, author, poet, philosopher, physicist\n",
      "dance: music, musical, traditional, rock, jazz, culture, pop, artists, traditions, style\n",
      "\n",
      "\n"
     ]
    },
    {
     "name": "stderr",
     "output_type": "stream",
     "text": [
      "15501it [23:49, 10.13it/s]"
     ]
    },
    {
     "name": "stdout",
     "output_type": "stream",
     "text": [
      "| epoch   4 | 15500/32580 batches | loss    1.162 \n",
      "money: time, much, idea, it, able, practice, him, existence, even, making\n",
      "lion: musician, eight, lot, sons, wife, nine, directors, knight, vote, throne\n",
      "africa: asia, europe, india, korea, china, america, japan, coast, australia, russia\n",
      "musician: singer, composer, actor, actress, writer, politician, author, poet, philosopher, physicist\n",
      "dance: music, musical, traditional, rock, jazz, culture, pop, artists, traditions, style\n",
      "\n",
      "\n"
     ]
    },
    {
     "name": "stderr",
     "output_type": "stream",
     "text": [
      "16001it [24:35,  9.89it/s]"
     ]
    },
    {
     "name": "stdout",
     "output_type": "stream",
     "text": [
      "| epoch   4 | 16000/32580 batches | loss    1.160 \n",
      "money: time, much, idea, it, able, practice, him, existence, even, making\n",
      "lion: musician, eight, lot, sons, wife, nine, directors, knight, vote, throne\n",
      "africa: asia, europe, india, korea, china, america, japan, coast, australia, russia\n",
      "musician: singer, composer, actor, actress, writer, politician, author, poet, philosopher, physicist\n",
      "dance: music, musical, traditional, rock, jazz, culture, pop, artists, traditions, style\n",
      "\n",
      "\n"
     ]
    },
    {
     "name": "stderr",
     "output_type": "stream",
     "text": [
      "16502it [25:23,  9.71it/s]"
     ]
    },
    {
     "name": "stdout",
     "output_type": "stream",
     "text": [
      "| epoch   4 | 16500/32580 batches | loss    1.160 \n",
      "money: time, much, idea, it, able, practice, him, existence, even, making\n",
      "lion: musician, eight, lot, sons, wife, nine, directors, knight, vote, throne\n",
      "africa: asia, europe, india, korea, china, america, japan, coast, australia, russia\n",
      "musician: singer, composer, actor, actress, writer, politician, author, poet, philosopher, physicist\n",
      "dance: music, musical, traditional, rock, jazz, culture, pop, artists, traditions, style\n",
      "\n",
      "\n"
     ]
    },
    {
     "name": "stderr",
     "output_type": "stream",
     "text": [
      "17002it [26:09,  9.71it/s]"
     ]
    },
    {
     "name": "stdout",
     "output_type": "stream",
     "text": [
      "| epoch   4 | 17000/32580 batches | loss    1.161 \n",
      "money: time, much, idea, it, able, practice, him, existence, even, making\n",
      "lion: musician, eight, lot, sons, wife, nine, directors, knight, vote, throne\n",
      "africa: asia, europe, india, korea, china, america, japan, coast, australia, russia\n",
      "musician: singer, composer, actor, actress, writer, politician, author, poet, philosopher, physicist\n",
      "dance: music, musical, traditional, rock, jazz, culture, pop, artists, traditions, style\n",
      "\n",
      "\n"
     ]
    },
    {
     "name": "stderr",
     "output_type": "stream",
     "text": [
      "17502it [26:55,  9.63it/s]"
     ]
    },
    {
     "name": "stdout",
     "output_type": "stream",
     "text": [
      "| epoch   4 | 17500/32580 batches | loss    1.162 \n",
      "money: time, much, idea, it, able, practice, him, existence, even, making\n",
      "lion: musician, eight, lot, sons, wife, nine, directors, knight, vote, throne\n",
      "africa: asia, europe, india, korea, china, america, japan, coast, australia, russia\n",
      "musician: singer, composer, actor, actress, writer, politician, author, poet, philosopher, physicist\n",
      "dance: music, musical, traditional, rock, jazz, culture, pop, artists, traditions, style\n",
      "\n",
      "\n"
     ]
    },
    {
     "name": "stderr",
     "output_type": "stream",
     "text": [
      "18002it [27:41,  9.56it/s]"
     ]
    },
    {
     "name": "stdout",
     "output_type": "stream",
     "text": [
      "| epoch   4 | 18000/32580 batches | loss    1.157 \n",
      "money: time, much, idea, it, able, practice, him, existence, even, making\n",
      "lion: musician, eight, lot, sons, wife, nine, directors, knight, vote, throne\n",
      "africa: asia, europe, india, korea, china, america, japan, coast, australia, russia\n",
      "musician: singer, composer, actor, actress, writer, politician, author, poet, philosopher, physicist\n",
      "dance: music, musical, traditional, rock, jazz, culture, pop, artists, traditions, style\n",
      "\n",
      "\n"
     ]
    },
    {
     "name": "stderr",
     "output_type": "stream",
     "text": [
      "18501it [28:26, 10.02it/s]"
     ]
    },
    {
     "name": "stdout",
     "output_type": "stream",
     "text": [
      "| epoch   4 | 18500/32580 batches | loss    1.159 \n",
      "money: time, much, idea, it, able, practice, him, existence, even, making\n",
      "lion: musician, eight, lot, sons, wife, nine, directors, knight, vote, throne\n",
      "africa: asia, europe, india, korea, china, america, japan, coast, australia, russia\n",
      "musician: singer, composer, actor, actress, writer, politician, author, poet, philosopher, physicist\n",
      "dance: music, musical, traditional, rock, jazz, culture, pop, artists, traditions, style\n",
      "\n",
      "\n"
     ]
    },
    {
     "name": "stderr",
     "output_type": "stream",
     "text": [
      "19001it [29:12,  9.93it/s]"
     ]
    },
    {
     "name": "stdout",
     "output_type": "stream",
     "text": [
      "| epoch   4 | 19000/32580 batches | loss    1.158 \n",
      "money: time, much, idea, it, able, practice, him, existence, even, making\n",
      "lion: musician, eight, lot, sons, wife, nine, directors, knight, vote, throne\n",
      "africa: asia, europe, india, korea, china, america, japan, coast, australia, russia\n",
      "musician: singer, composer, actor, actress, writer, politician, author, poet, philosopher, physicist\n",
      "dance: music, musical, traditional, rock, jazz, culture, pop, artists, traditions, style\n",
      "\n",
      "\n"
     ]
    },
    {
     "name": "stderr",
     "output_type": "stream",
     "text": [
      "19501it [29:58,  9.84it/s]"
     ]
    },
    {
     "name": "stdout",
     "output_type": "stream",
     "text": [
      "| epoch   4 | 19500/32580 batches | loss    1.156 \n",
      "money: time, much, idea, it, able, practice, him, existence, even, making\n",
      "lion: musician, eight, lot, sons, wife, nine, directors, knight, vote, throne\n",
      "africa: asia, europe, india, korea, china, america, japan, coast, australia, russia\n",
      "musician: singer, composer, actor, actress, writer, politician, author, poet, philosopher, physicist\n",
      "dance: music, musical, traditional, rock, jazz, culture, pop, artists, traditions, style\n",
      "\n",
      "\n"
     ]
    },
    {
     "name": "stderr",
     "output_type": "stream",
     "text": [
      "20001it [30:44,  9.92it/s]"
     ]
    },
    {
     "name": "stdout",
     "output_type": "stream",
     "text": [
      "| epoch   4 | 20000/32580 batches | loss    1.159 \n",
      "money: time, much, idea, it, able, practice, him, existence, even, making\n",
      "lion: musician, eight, lot, sons, wife, nine, directors, knight, vote, throne\n",
      "africa: asia, europe, india, korea, china, america, japan, coast, australia, russia\n",
      "musician: singer, composer, actor, actress, writer, politician, author, poet, philosopher, physicist\n",
      "dance: music, musical, traditional, rock, jazz, culture, pop, artists, traditions, style\n",
      "\n",
      "\n"
     ]
    },
    {
     "name": "stderr",
     "output_type": "stream",
     "text": [
      "20501it [31:31,  9.96it/s]"
     ]
    },
    {
     "name": "stdout",
     "output_type": "stream",
     "text": [
      "| epoch   4 | 20500/32580 batches | loss    1.158 \n",
      "money: time, much, idea, it, able, practice, him, existence, even, making\n",
      "lion: musician, eight, lot, sons, wife, nine, directors, knight, vote, throne\n",
      "africa: asia, europe, india, korea, china, america, japan, coast, australia, russia\n",
      "musician: singer, composer, actor, actress, writer, politician, author, poet, philosopher, physicist\n",
      "dance: music, musical, traditional, rock, jazz, culture, pop, artists, traditions, style\n",
      "\n",
      "\n"
     ]
    },
    {
     "name": "stderr",
     "output_type": "stream",
     "text": [
      "21001it [32:17, 10.01it/s]"
     ]
    },
    {
     "name": "stdout",
     "output_type": "stream",
     "text": [
      "| epoch   4 | 21000/32580 batches | loss    1.160 \n",
      "money: time, much, idea, it, able, practice, him, existence, even, making\n",
      "lion: musician, eight, lot, sons, wife, nine, directors, knight, vote, throne\n",
      "africa: asia, europe, india, korea, china, america, japan, coast, australia, russia\n",
      "musician: singer, composer, actor, actress, writer, politician, author, poet, philosopher, physicist\n",
      "dance: music, musical, traditional, rock, jazz, culture, pop, artists, traditions, style\n",
      "\n",
      "\n"
     ]
    },
    {
     "name": "stderr",
     "output_type": "stream",
     "text": [
      "21501it [33:03,  9.88it/s]"
     ]
    },
    {
     "name": "stdout",
     "output_type": "stream",
     "text": [
      "| epoch   4 | 21500/32580 batches | loss    1.159 \n",
      "money: time, much, idea, it, able, practice, him, existence, even, making\n",
      "lion: musician, eight, lot, sons, wife, nine, directors, knight, vote, throne\n",
      "africa: asia, europe, india, korea, china, america, japan, coast, australia, russia\n",
      "musician: singer, composer, actor, actress, writer, politician, author, poet, philosopher, physicist\n",
      "dance: music, musical, traditional, rock, jazz, culture, pop, artists, traditions, style\n",
      "\n",
      "\n"
     ]
    },
    {
     "name": "stderr",
     "output_type": "stream",
     "text": [
      "22002it [33:49,  9.64it/s]"
     ]
    },
    {
     "name": "stdout",
     "output_type": "stream",
     "text": [
      "| epoch   4 | 22000/32580 batches | loss    1.163 \n",
      "money: time, much, idea, it, able, practice, him, existence, even, making\n",
      "lion: musician, eight, lot, sons, wife, nine, directors, knight, vote, throne\n",
      "africa: asia, europe, india, korea, china, america, japan, coast, australia, russia\n",
      "musician: singer, composer, actor, actress, writer, politician, author, poet, philosopher, physicist\n",
      "dance: music, musical, traditional, rock, jazz, culture, pop, artists, traditions, style\n",
      "\n",
      "\n"
     ]
    },
    {
     "name": "stderr",
     "output_type": "stream",
     "text": [
      "22502it [34:35,  9.59it/s]"
     ]
    },
    {
     "name": "stdout",
     "output_type": "stream",
     "text": [
      "| epoch   4 | 22500/32580 batches | loss    1.162 \n",
      "money: time, much, idea, it, able, practice, him, existence, even, making\n",
      "lion: musician, eight, lot, sons, wife, nine, directors, knight, vote, throne\n",
      "africa: asia, europe, india, korea, china, america, japan, coast, australia, russia\n",
      "musician: singer, composer, actor, actress, writer, politician, author, poet, philosopher, physicist\n",
      "dance: music, musical, traditional, rock, jazz, culture, pop, artists, traditions, style\n",
      "\n",
      "\n"
     ]
    },
    {
     "name": "stderr",
     "output_type": "stream",
     "text": [
      "23002it [35:21,  9.59it/s]"
     ]
    },
    {
     "name": "stdout",
     "output_type": "stream",
     "text": [
      "| epoch   4 | 23000/32580 batches | loss    1.166 \n",
      "money: time, much, idea, it, able, practice, him, existence, even, making\n",
      "lion: musician, eight, lot, sons, wife, nine, directors, knight, vote, throne\n",
      "africa: asia, europe, india, korea, china, america, japan, coast, australia, russia\n",
      "musician: singer, composer, actor, actress, writer, politician, author, poet, philosopher, physicist\n",
      "dance: music, musical, traditional, rock, jazz, culture, pop, artists, traditions, style\n",
      "\n",
      "\n"
     ]
    },
    {
     "name": "stderr",
     "output_type": "stream",
     "text": [
      "23501it [36:07, 10.01it/s]"
     ]
    },
    {
     "name": "stdout",
     "output_type": "stream",
     "text": [
      "| epoch   4 | 23500/32580 batches | loss    1.158 \n",
      "money: time, much, idea, it, able, practice, him, existence, even, making\n",
      "lion: musician, eight, lot, sons, wife, nine, directors, knight, vote, throne\n",
      "africa: asia, europe, india, korea, china, america, japan, coast, australia, russia\n",
      "musician: singer, composer, actor, actress, writer, politician, author, poet, philosopher, physicist\n",
      "dance: music, musical, traditional, rock, jazz, culture, pop, artists, traditions, style\n",
      "\n",
      "\n"
     ]
    },
    {
     "name": "stderr",
     "output_type": "stream",
     "text": [
      "24001it [36:53,  9.80it/s]"
     ]
    },
    {
     "name": "stdout",
     "output_type": "stream",
     "text": [
      "| epoch   4 | 24000/32580 batches | loss    1.157 \n",
      "money: time, much, idea, it, able, practice, him, existence, even, making\n",
      "lion: musician, eight, lot, sons, wife, nine, directors, knight, vote, throne\n",
      "africa: asia, europe, india, korea, china, america, japan, coast, australia, russia\n",
      "musician: singer, composer, actor, actress, writer, politician, author, poet, philosopher, physicist\n",
      "dance: music, musical, traditional, rock, jazz, culture, pop, artists, traditions, style\n",
      "\n",
      "\n"
     ]
    },
    {
     "name": "stderr",
     "output_type": "stream",
     "text": [
      "24502it [37:39,  9.62it/s]"
     ]
    },
    {
     "name": "stdout",
     "output_type": "stream",
     "text": [
      "| epoch   4 | 24500/32580 batches | loss    1.156 \n",
      "money: time, much, idea, it, able, practice, him, existence, even, making\n",
      "lion: musician, eight, lot, sons, wife, nine, directors, knight, vote, throne\n",
      "africa: asia, europe, india, korea, china, america, japan, coast, australia, russia\n",
      "musician: singer, composer, actor, actress, writer, politician, author, poet, philosopher, physicist\n",
      "dance: music, musical, traditional, rock, jazz, culture, pop, artists, traditions, style\n",
      "\n",
      "\n"
     ]
    },
    {
     "name": "stderr",
     "output_type": "stream",
     "text": [
      "25001it [38:26,  9.93it/s]"
     ]
    },
    {
     "name": "stdout",
     "output_type": "stream",
     "text": [
      "| epoch   4 | 25000/32580 batches | loss    1.160 \n",
      "money: time, much, idea, it, able, practice, him, existence, even, making\n",
      "lion: musician, eight, lot, sons, wife, nine, directors, knight, vote, throne\n",
      "africa: asia, europe, india, korea, china, america, japan, coast, australia, russia\n",
      "musician: singer, composer, actor, actress, writer, politician, author, poet, philosopher, physicist\n",
      "dance: music, musical, traditional, rock, jazz, culture, pop, artists, traditions, style\n",
      "\n",
      "\n"
     ]
    },
    {
     "name": "stderr",
     "output_type": "stream",
     "text": [
      "25501it [39:12,  9.83it/s]"
     ]
    },
    {
     "name": "stdout",
     "output_type": "stream",
     "text": [
      "| epoch   4 | 25500/32580 batches | loss    1.167 \n",
      "money: time, much, idea, it, able, practice, him, existence, even, making\n",
      "lion: musician, eight, lot, sons, wife, nine, directors, knight, vote, throne\n",
      "africa: asia, europe, india, korea, china, america, japan, coast, australia, russia\n",
      "musician: singer, composer, actor, actress, writer, politician, author, poet, philosopher, physicist\n",
      "dance: music, musical, traditional, rock, jazz, culture, pop, artists, traditions, style\n",
      "\n",
      "\n"
     ]
    },
    {
     "name": "stderr",
     "output_type": "stream",
     "text": [
      "26001it [39:58,  9.97it/s]"
     ]
    },
    {
     "name": "stdout",
     "output_type": "stream",
     "text": [
      "| epoch   4 | 26000/32580 batches | loss    1.160 \n",
      "money: time, much, idea, it, able, practice, him, existence, even, making\n",
      "lion: musician, eight, lot, sons, wife, nine, directors, knight, vote, throne\n",
      "africa: asia, europe, india, korea, china, america, japan, coast, australia, russia\n",
      "musician: singer, composer, actor, actress, writer, politician, author, poet, philosopher, physicist\n",
      "dance: music, musical, traditional, rock, jazz, culture, pop, artists, traditions, style\n",
      "\n",
      "\n"
     ]
    },
    {
     "name": "stderr",
     "output_type": "stream",
     "text": [
      "26502it [40:45,  9.39it/s]"
     ]
    },
    {
     "name": "stdout",
     "output_type": "stream",
     "text": [
      "| epoch   4 | 26500/32580 batches | loss    1.157 \n",
      "money: time, much, idea, it, able, practice, him, existence, even, making\n",
      "lion: musician, eight, lot, sons, wife, nine, directors, knight, vote, throne\n",
      "africa: asia, europe, india, korea, china, america, japan, coast, australia, russia\n",
      "musician: singer, composer, actor, actress, writer, politician, author, poet, philosopher, physicist\n",
      "dance: music, musical, traditional, rock, jazz, culture, pop, artists, traditions, style\n",
      "\n",
      "\n"
     ]
    },
    {
     "name": "stderr",
     "output_type": "stream",
     "text": [
      "27002it [41:31,  9.47it/s]"
     ]
    },
    {
     "name": "stdout",
     "output_type": "stream",
     "text": [
      "| epoch   4 | 27000/32580 batches | loss    1.159 \n",
      "money: time, much, idea, it, able, practice, him, existence, even, making\n",
      "lion: musician, eight, lot, sons, wife, nine, directors, knight, vote, throne\n",
      "africa: asia, europe, india, korea, china, america, japan, coast, australia, russia\n",
      "musician: singer, composer, actor, actress, writer, politician, author, poet, philosopher, physicist\n",
      "dance: music, musical, traditional, rock, jazz, culture, pop, artists, traditions, style\n",
      "\n",
      "\n"
     ]
    },
    {
     "name": "stderr",
     "output_type": "stream",
     "text": [
      "27502it [42:17,  9.74it/s]"
     ]
    },
    {
     "name": "stdout",
     "output_type": "stream",
     "text": [
      "| epoch   4 | 27500/32580 batches | loss    1.162 \n",
      "money: time, much, idea, it, able, practice, him, existence, even, making\n",
      "lion: musician, eight, lot, sons, wife, nine, directors, knight, vote, throne\n",
      "africa: asia, europe, india, korea, china, america, japan, coast, australia, russia\n",
      "musician: singer, composer, actor, actress, writer, politician, author, poet, philosopher, physicist\n",
      "dance: music, musical, traditional, rock, jazz, culture, pop, artists, traditions, style\n",
      "\n",
      "\n"
     ]
    },
    {
     "name": "stderr",
     "output_type": "stream",
     "text": [
      "28002it [43:03,  9.54it/s]"
     ]
    },
    {
     "name": "stdout",
     "output_type": "stream",
     "text": [
      "| epoch   4 | 28000/32580 batches | loss    1.162 \n",
      "money: time, much, idea, it, able, practice, him, existence, even, making\n",
      "lion: musician, eight, lot, sons, wife, nine, directors, knight, vote, throne\n",
      "africa: asia, europe, india, korea, china, america, japan, coast, australia, russia\n",
      "musician: singer, composer, actor, actress, writer, politician, author, poet, philosopher, physicist\n",
      "dance: music, musical, traditional, rock, jazz, culture, pop, artists, traditions, style\n",
      "\n",
      "\n"
     ]
    },
    {
     "name": "stderr",
     "output_type": "stream",
     "text": [
      "28502it [43:50,  9.55it/s]"
     ]
    },
    {
     "name": "stdout",
     "output_type": "stream",
     "text": [
      "| epoch   4 | 28500/32580 batches | loss    1.159 \n",
      "money: time, much, idea, it, able, practice, him, existence, even, making\n",
      "lion: musician, eight, lot, sons, wife, nine, directors, knight, vote, throne\n",
      "africa: asia, europe, india, korea, china, america, japan, coast, australia, russia\n",
      "musician: singer, composer, actor, actress, writer, politician, author, poet, philosopher, physicist\n",
      "dance: music, musical, traditional, rock, jazz, culture, pop, artists, traditions, style\n",
      "\n",
      "\n"
     ]
    },
    {
     "name": "stderr",
     "output_type": "stream",
     "text": [
      "29002it [44:37,  9.48it/s]"
     ]
    },
    {
     "name": "stdout",
     "output_type": "stream",
     "text": [
      "| epoch   4 | 29000/32580 batches | loss    1.162 \n",
      "money: time, much, idea, it, able, practice, him, existence, even, making\n",
      "lion: musician, eight, lot, sons, wife, nine, directors, knight, vote, throne\n",
      "africa: asia, europe, india, korea, china, america, japan, coast, australia, russia\n",
      "musician: singer, composer, actor, actress, writer, politician, author, poet, philosopher, physicist\n",
      "dance: music, musical, traditional, rock, jazz, culture, pop, artists, traditions, style\n",
      "\n",
      "\n"
     ]
    },
    {
     "name": "stderr",
     "output_type": "stream",
     "text": [
      "29502it [45:23,  9.63it/s]"
     ]
    },
    {
     "name": "stdout",
     "output_type": "stream",
     "text": [
      "| epoch   4 | 29500/32580 batches | loss    1.161 \n",
      "money: time, much, idea, it, able, practice, him, existence, even, making\n",
      "lion: musician, eight, lot, sons, wife, nine, directors, knight, vote, throne\n",
      "africa: asia, europe, india, korea, china, america, japan, coast, australia, russia\n",
      "musician: singer, composer, actor, actress, writer, politician, author, poet, philosopher, physicist\n",
      "dance: music, musical, traditional, rock, jazz, culture, pop, artists, traditions, style\n",
      "\n",
      "\n"
     ]
    },
    {
     "name": "stderr",
     "output_type": "stream",
     "text": [
      "30002it [46:09,  9.83it/s]"
     ]
    },
    {
     "name": "stdout",
     "output_type": "stream",
     "text": [
      "| epoch   4 | 30000/32580 batches | loss    1.160 \n",
      "money: time, much, idea, it, able, practice, him, existence, even, making\n",
      "lion: musician, eight, lot, sons, wife, nine, directors, knight, vote, throne\n",
      "africa: asia, europe, india, korea, china, america, japan, coast, australia, russia\n",
      "musician: singer, composer, actor, actress, writer, politician, author, poet, philosopher, physicist\n",
      "dance: music, musical, traditional, rock, jazz, culture, pop, artists, traditions, style\n",
      "\n",
      "\n"
     ]
    },
    {
     "name": "stderr",
     "output_type": "stream",
     "text": [
      "30502it [46:55,  9.53it/s]"
     ]
    },
    {
     "name": "stdout",
     "output_type": "stream",
     "text": [
      "| epoch   4 | 30500/32580 batches | loss    1.157 \n",
      "money: time, much, idea, it, able, practice, him, existence, even, making\n",
      "lion: musician, eight, lot, sons, wife, nine, directors, knight, vote, throne\n",
      "africa: asia, europe, india, korea, china, america, japan, coast, australia, russia\n",
      "musician: singer, composer, actor, actress, writer, politician, author, poet, philosopher, physicist\n",
      "dance: music, musical, traditional, rock, jazz, culture, pop, artists, traditions, style\n",
      "\n",
      "\n"
     ]
    },
    {
     "name": "stderr",
     "output_type": "stream",
     "text": [
      "31002it [47:42,  9.68it/s]"
     ]
    },
    {
     "name": "stdout",
     "output_type": "stream",
     "text": [
      "| epoch   4 | 31000/32580 batches | loss    1.162 \n",
      "money: time, much, idea, it, able, practice, him, existence, even, making\n",
      "lion: musician, eight, lot, sons, wife, nine, directors, knight, vote, throne\n",
      "africa: asia, europe, india, korea, china, america, japan, coast, australia, russia\n",
      "musician: singer, composer, actor, actress, writer, politician, author, poet, philosopher, physicist\n",
      "dance: music, musical, traditional, rock, jazz, culture, pop, artists, traditions, style\n",
      "\n",
      "\n"
     ]
    },
    {
     "name": "stderr",
     "output_type": "stream",
     "text": [
      "31501it [48:28,  9.91it/s]"
     ]
    },
    {
     "name": "stdout",
     "output_type": "stream",
     "text": [
      "| epoch   4 | 31500/32580 batches | loss    1.158 \n",
      "money: time, much, idea, it, able, practice, him, existence, even, making\n",
      "lion: musician, eight, lot, sons, wife, nine, directors, knight, vote, throne\n",
      "africa: asia, europe, india, korea, china, america, japan, coast, australia, russia\n",
      "musician: singer, composer, actor, actress, writer, politician, author, poet, philosopher, physicist\n",
      "dance: music, musical, traditional, rock, jazz, culture, pop, artists, traditions, style\n",
      "\n",
      "\n"
     ]
    },
    {
     "name": "stderr",
     "output_type": "stream",
     "text": [
      "32002it [49:14,  9.67it/s]"
     ]
    },
    {
     "name": "stdout",
     "output_type": "stream",
     "text": [
      "| epoch   4 | 32000/32580 batches | loss    1.160 \n",
      "money: time, much, idea, it, able, practice, him, existence, even, making\n",
      "lion: musician, eight, lot, sons, wife, nine, directors, knight, vote, throne\n",
      "africa: asia, europe, india, korea, china, america, japan, coast, australia, russia\n",
      "musician: singer, composer, actor, actress, writer, politician, author, poet, philosopher, physicist\n",
      "dance: music, musical, traditional, rock, jazz, culture, pop, artists, traditions, style\n",
      "\n",
      "\n"
     ]
    },
    {
     "name": "stderr",
     "output_type": "stream",
     "text": [
      "32502it [50:00,  9.55it/s]"
     ]
    },
    {
     "name": "stdout",
     "output_type": "stream",
     "text": [
      "| epoch   4 | 32500/32580 batches | loss    1.162 \n",
      "money: time, much, idea, it, able, practice, him, existence, even, making\n",
      "lion: musician, eight, lot, sons, wife, nine, directors, knight, vote, throne\n",
      "africa: asia, europe, india, korea, china, america, japan, coast, australia, russia\n",
      "musician: singer, composer, actor, actress, writer, politician, author, poet, philosopher, physicist\n",
      "dance: music, musical, traditional, rock, jazz, culture, pop, artists, traditions, style\n",
      "\n",
      "\n"
     ]
    },
    {
     "name": "stderr",
     "output_type": "stream",
     "text": [
      "32580it [50:08, 10.83it/s]\n",
      "1it [00:00,  1.87it/s]"
     ]
    },
    {
     "name": "stdout",
     "output_type": "stream",
     "text": [
      "| epoch   5 |     0/32580 batches | loss    1.216 \n",
      "money: time, much, idea, it, able, practice, him, existence, even, making\n",
      "lion: musician, eight, lot, sons, wife, nine, directors, knight, vote, throne\n",
      "africa: asia, europe, india, korea, china, america, japan, coast, australia, russia\n",
      "musician: singer, composer, actor, actress, writer, politician, author, poet, philosopher, physicist\n",
      "dance: music, musical, traditional, rock, jazz, culture, pop, artists, traditions, style\n",
      "\n",
      "\n"
     ]
    },
    {
     "name": "stderr",
     "output_type": "stream",
     "text": [
      "501it [00:46,  9.80it/s]"
     ]
    },
    {
     "name": "stdout",
     "output_type": "stream",
     "text": [
      "| epoch   5 |   500/32580 batches | loss    1.168 \n",
      "money: time, much, idea, it, able, practice, him, existence, even, making\n",
      "lion: musician, eight, lot, sons, wife, nine, directors, knight, vote, throne\n",
      "africa: asia, europe, india, korea, china, america, japan, coast, australia, russia\n",
      "musician: singer, composer, actor, actress, writer, politician, author, poet, philosopher, physicist\n",
      "dance: music, musical, traditional, rock, jazz, culture, pop, artists, traditions, style\n",
      "\n",
      "\n"
     ]
    },
    {
     "name": "stderr",
     "output_type": "stream",
     "text": [
      "1002it [01:34,  9.28it/s]"
     ]
    },
    {
     "name": "stdout",
     "output_type": "stream",
     "text": [
      "| epoch   5 |  1000/32580 batches | loss    1.162 \n",
      "money: time, much, idea, it, able, practice, him, existence, even, making\n",
      "lion: musician, eight, lot, sons, wife, nine, directors, knight, vote, throne\n",
      "africa: asia, europe, india, korea, china, america, japan, coast, australia, russia\n",
      "musician: singer, composer, actor, actress, writer, politician, author, poet, philosopher, physicist\n",
      "dance: music, musical, traditional, rock, jazz, culture, pop, artists, traditions, style\n",
      "\n",
      "\n"
     ]
    },
    {
     "name": "stderr",
     "output_type": "stream",
     "text": [
      "1500it [02:20, 10.90it/s]"
     ]
    },
    {
     "name": "stdout",
     "output_type": "stream",
     "text": [
      "| epoch   5 |  1500/32580 batches | loss    1.159 \n",
      "money: time, much, idea, it, able, practice, him, existence, even, making\n",
      "lion: musician, eight, lot, sons, wife, nine, directors, knight, vote, throne\n",
      "africa: asia, europe, india, korea, china, america, japan, coast, australia, russia\n",
      "musician: singer, composer, actor, actress, writer, politician, author, poet, philosopher, physicist\n",
      "dance: music, musical, traditional, rock, jazz, culture, pop, artists, traditions, style\n",
      "\n",
      "\n"
     ]
    },
    {
     "name": "stderr",
     "output_type": "stream",
     "text": [
      "2001it [03:06,  9.98it/s]"
     ]
    },
    {
     "name": "stdout",
     "output_type": "stream",
     "text": [
      "| epoch   5 |  2000/32580 batches | loss    1.159 \n",
      "money: time, much, idea, it, able, practice, him, existence, even, making\n",
      "lion: musician, eight, lot, sons, wife, nine, directors, knight, vote, throne\n",
      "africa: asia, europe, india, korea, china, america, japan, coast, australia, russia\n",
      "musician: singer, composer, actor, actress, writer, politician, author, poet, philosopher, physicist\n",
      "dance: music, musical, traditional, rock, jazz, culture, pop, artists, traditions, style\n",
      "\n",
      "\n"
     ]
    },
    {
     "name": "stderr",
     "output_type": "stream",
     "text": [
      "2501it [03:53,  9.71it/s]"
     ]
    },
    {
     "name": "stdout",
     "output_type": "stream",
     "text": [
      "| epoch   5 |  2500/32580 batches | loss    1.160 \n",
      "money: time, much, idea, it, able, practice, him, existence, even, making\n",
      "lion: musician, eight, lot, sons, wife, nine, directors, knight, vote, throne\n",
      "africa: asia, europe, india, korea, china, america, japan, coast, australia, russia\n",
      "musician: singer, composer, actor, actress, writer, politician, author, poet, philosopher, physicist\n",
      "dance: music, musical, traditional, rock, jazz, culture, pop, artists, traditions, style\n",
      "\n",
      "\n"
     ]
    },
    {
     "name": "stderr",
     "output_type": "stream",
     "text": [
      "3001it [04:39,  9.91it/s]"
     ]
    },
    {
     "name": "stdout",
     "output_type": "stream",
     "text": [
      "| epoch   5 |  3000/32580 batches | loss    1.161 \n",
      "money: time, much, idea, it, able, practice, him, existence, even, making\n",
      "lion: musician, eight, lot, sons, wife, nine, directors, knight, vote, throne\n",
      "africa: asia, europe, india, korea, china, america, japan, coast, australia, russia\n",
      "musician: singer, composer, actor, actress, writer, politician, author, poet, philosopher, physicist\n",
      "dance: music, musical, traditional, rock, jazz, culture, pop, artists, traditions, style\n",
      "\n",
      "\n"
     ]
    },
    {
     "name": "stderr",
     "output_type": "stream",
     "text": [
      "3502it [05:25,  9.54it/s]"
     ]
    },
    {
     "name": "stdout",
     "output_type": "stream",
     "text": [
      "| epoch   5 |  3500/32580 batches | loss    1.157 \n",
      "money: time, much, idea, it, able, practice, him, existence, even, making\n",
      "lion: musician, eight, lot, sons, wife, nine, directors, knight, vote, throne\n",
      "africa: asia, europe, india, korea, china, america, japan, coast, australia, russia\n",
      "musician: singer, composer, actor, actress, writer, politician, author, poet, philosopher, physicist\n",
      "dance: music, musical, traditional, rock, jazz, culture, pop, artists, traditions, style\n",
      "\n",
      "\n"
     ]
    },
    {
     "name": "stderr",
     "output_type": "stream",
     "text": [
      "4002it [06:11,  9.42it/s]"
     ]
    },
    {
     "name": "stdout",
     "output_type": "stream",
     "text": [
      "| epoch   5 |  4000/32580 batches | loss    1.162 \n",
      "money: time, much, idea, it, able, practice, him, existence, even, making\n",
      "lion: musician, eight, lot, sons, wife, nine, directors, knight, vote, throne\n",
      "africa: asia, europe, india, korea, china, america, japan, coast, australia, russia\n",
      "musician: singer, composer, actor, actress, writer, politician, author, poet, philosopher, physicist\n",
      "dance: music, musical, traditional, rock, jazz, culture, pop, artists, traditions, style\n",
      "\n",
      "\n"
     ]
    },
    {
     "name": "stderr",
     "output_type": "stream",
     "text": [
      "4502it [06:58,  9.71it/s]"
     ]
    },
    {
     "name": "stdout",
     "output_type": "stream",
     "text": [
      "| epoch   5 |  4500/32580 batches | loss    1.161 \n",
      "money: time, much, idea, it, able, practice, him, existence, even, making\n",
      "lion: musician, eight, lot, sons, wife, nine, directors, knight, vote, throne\n",
      "africa: asia, europe, india, korea, china, america, japan, coast, australia, russia\n",
      "musician: singer, composer, actor, actress, writer, politician, author, poet, philosopher, physicist\n",
      "dance: music, musical, traditional, rock, jazz, culture, pop, artists, traditions, style\n",
      "\n",
      "\n"
     ]
    },
    {
     "name": "stderr",
     "output_type": "stream",
     "text": [
      "5002it [07:44,  9.58it/s]"
     ]
    },
    {
     "name": "stdout",
     "output_type": "stream",
     "text": [
      "| epoch   5 |  5000/32580 batches | loss    1.162 \n",
      "money: time, much, idea, it, able, practice, him, existence, even, making\n",
      "lion: musician, eight, lot, sons, wife, nine, directors, knight, vote, throne\n",
      "africa: asia, europe, india, korea, china, america, japan, coast, australia, russia\n",
      "musician: singer, composer, actor, actress, writer, politician, author, poet, philosopher, physicist\n",
      "dance: music, musical, traditional, rock, jazz, culture, pop, artists, traditions, style\n",
      "\n",
      "\n"
     ]
    },
    {
     "name": "stderr",
     "output_type": "stream",
     "text": [
      "5502it [08:30,  9.64it/s]"
     ]
    },
    {
     "name": "stdout",
     "output_type": "stream",
     "text": [
      "| epoch   5 |  5500/32580 batches | loss    1.164 \n",
      "money: time, much, idea, it, able, practice, him, existence, even, making\n",
      "lion: musician, eight, lot, sons, wife, nine, directors, knight, vote, throne\n",
      "africa: asia, europe, india, korea, china, america, japan, coast, australia, russia\n",
      "musician: singer, composer, actor, actress, writer, politician, author, poet, philosopher, physicist\n",
      "dance: music, musical, traditional, rock, jazz, culture, pop, artists, traditions, style\n",
      "\n",
      "\n"
     ]
    },
    {
     "name": "stderr",
     "output_type": "stream",
     "text": [
      "6002it [09:16,  9.51it/s]"
     ]
    },
    {
     "name": "stdout",
     "output_type": "stream",
     "text": [
      "| epoch   5 |  6000/32580 batches | loss    1.160 \n",
      "money: time, much, idea, it, able, practice, him, existence, even, making\n",
      "lion: musician, eight, lot, sons, wife, nine, directors, knight, vote, throne\n",
      "africa: asia, europe, india, korea, china, america, japan, coast, australia, russia\n",
      "musician: singer, composer, actor, actress, writer, politician, author, poet, philosopher, physicist\n",
      "dance: music, musical, traditional, rock, jazz, culture, pop, artists, traditions, style\n",
      "\n",
      "\n"
     ]
    },
    {
     "name": "stderr",
     "output_type": "stream",
     "text": [
      "6501it [10:02, 10.00it/s]"
     ]
    },
    {
     "name": "stdout",
     "output_type": "stream",
     "text": [
      "| epoch   5 |  6500/32580 batches | loss    1.159 \n",
      "money: time, much, idea, it, able, practice, him, existence, even, making\n",
      "lion: musician, eight, lot, sons, wife, nine, directors, knight, vote, throne\n",
      "africa: asia, europe, india, korea, china, america, japan, coast, australia, russia\n",
      "musician: singer, composer, actor, actress, writer, politician, author, poet, philosopher, physicist\n",
      "dance: music, musical, traditional, rock, jazz, culture, pop, artists, traditions, style\n",
      "\n",
      "\n"
     ]
    },
    {
     "name": "stderr",
     "output_type": "stream",
     "text": [
      "7001it [10:48,  9.82it/s]"
     ]
    },
    {
     "name": "stdout",
     "output_type": "stream",
     "text": [
      "| epoch   5 |  7000/32580 batches | loss    1.159 \n",
      "money: time, much, idea, it, able, practice, him, existence, even, making\n",
      "lion: musician, eight, lot, sons, wife, nine, directors, knight, vote, throne\n",
      "africa: asia, europe, india, korea, china, america, japan, coast, australia, russia\n",
      "musician: singer, composer, actor, actress, writer, politician, author, poet, philosopher, physicist\n",
      "dance: music, musical, traditional, rock, jazz, culture, pop, artists, traditions, style\n",
      "\n",
      "\n"
     ]
    },
    {
     "name": "stderr",
     "output_type": "stream",
     "text": [
      "7502it [11:35,  9.53it/s]"
     ]
    },
    {
     "name": "stdout",
     "output_type": "stream",
     "text": [
      "| epoch   5 |  7500/32580 batches | loss    1.160 \n",
      "money: time, much, idea, it, able, practice, him, existence, even, making\n",
      "lion: musician, eight, lot, sons, wife, nine, directors, knight, vote, throne\n",
      "africa: asia, europe, india, korea, china, america, japan, coast, australia, russia\n",
      "musician: singer, composer, actor, actress, writer, politician, author, poet, philosopher, physicist\n",
      "dance: music, musical, traditional, rock, jazz, culture, pop, artists, traditions, style\n",
      "\n",
      "\n"
     ]
    },
    {
     "name": "stderr",
     "output_type": "stream",
     "text": [
      "8002it [12:21,  9.53it/s]"
     ]
    },
    {
     "name": "stdout",
     "output_type": "stream",
     "text": [
      "| epoch   5 |  8000/32580 batches | loss    1.164 \n",
      "money: time, much, idea, it, able, practice, him, existence, even, making\n",
      "lion: musician, eight, lot, sons, wife, nine, directors, knight, vote, throne\n",
      "africa: asia, europe, india, korea, china, america, japan, coast, australia, russia\n",
      "musician: singer, composer, actor, actress, writer, politician, author, poet, philosopher, physicist\n",
      "dance: music, musical, traditional, rock, jazz, culture, pop, artists, traditions, style\n",
      "\n",
      "\n"
     ]
    },
    {
     "name": "stderr",
     "output_type": "stream",
     "text": [
      "8501it [13:07,  9.93it/s]"
     ]
    },
    {
     "name": "stdout",
     "output_type": "stream",
     "text": [
      "| epoch   5 |  8500/32580 batches | loss    1.158 \n",
      "money: time, much, idea, it, able, practice, him, existence, even, making\n",
      "lion: musician, eight, lot, sons, wife, nine, directors, knight, vote, throne\n",
      "africa: asia, europe, india, korea, china, america, japan, coast, australia, russia\n",
      "musician: singer, composer, actor, actress, writer, politician, author, poet, philosopher, physicist\n",
      "dance: music, musical, traditional, rock, jazz, culture, pop, artists, traditions, style\n",
      "\n",
      "\n"
     ]
    },
    {
     "name": "stderr",
     "output_type": "stream",
     "text": [
      "9002it [13:54,  9.67it/s]"
     ]
    },
    {
     "name": "stdout",
     "output_type": "stream",
     "text": [
      "| epoch   5 |  9000/32580 batches | loss    1.158 \n",
      "money: time, much, idea, it, able, practice, him, existence, even, making\n",
      "lion: musician, eight, lot, sons, wife, nine, directors, knight, vote, throne\n",
      "africa: asia, europe, india, korea, china, america, japan, coast, australia, russia\n",
      "musician: singer, composer, actor, actress, writer, politician, author, poet, philosopher, physicist\n",
      "dance: music, musical, traditional, rock, jazz, culture, pop, artists, traditions, style\n",
      "\n",
      "\n"
     ]
    },
    {
     "name": "stderr",
     "output_type": "stream",
     "text": [
      "9501it [14:40,  9.85it/s]"
     ]
    },
    {
     "name": "stdout",
     "output_type": "stream",
     "text": [
      "| epoch   5 |  9500/32580 batches | loss    1.159 \n",
      "money: time, much, idea, it, able, practice, him, existence, even, making\n",
      "lion: musician, eight, lot, sons, wife, nine, directors, knight, vote, throne\n",
      "africa: asia, europe, india, korea, china, america, japan, coast, australia, russia\n",
      "musician: singer, composer, actor, actress, writer, politician, author, poet, philosopher, physicist\n",
      "dance: music, musical, traditional, rock, jazz, culture, pop, artists, traditions, style\n",
      "\n",
      "\n"
     ]
    },
    {
     "name": "stderr",
     "output_type": "stream",
     "text": [
      "10002it [15:27,  9.65it/s]"
     ]
    },
    {
     "name": "stdout",
     "output_type": "stream",
     "text": [
      "| epoch   5 | 10000/32580 batches | loss    1.158 \n",
      "money: time, much, idea, it, able, practice, him, existence, even, making\n",
      "lion: musician, eight, lot, sons, wife, nine, directors, knight, vote, throne\n",
      "africa: asia, europe, india, korea, china, america, japan, coast, australia, russia\n",
      "musician: singer, composer, actor, actress, writer, politician, author, poet, philosopher, physicist\n",
      "dance: music, musical, traditional, rock, jazz, culture, pop, artists, traditions, style\n",
      "\n",
      "\n"
     ]
    },
    {
     "name": "stderr",
     "output_type": "stream",
     "text": [
      "10502it [16:13,  9.71it/s]"
     ]
    },
    {
     "name": "stdout",
     "output_type": "stream",
     "text": [
      "| epoch   5 | 10500/32580 batches | loss    1.162 \n",
      "money: time, much, idea, it, able, practice, him, existence, even, making\n",
      "lion: musician, eight, lot, sons, wife, nine, directors, knight, vote, throne\n",
      "africa: asia, europe, india, korea, china, america, japan, coast, australia, russia\n",
      "musician: singer, composer, actor, actress, writer, politician, author, poet, philosopher, physicist\n",
      "dance: music, musical, traditional, rock, jazz, culture, pop, artists, traditions, style\n",
      "\n",
      "\n"
     ]
    },
    {
     "name": "stderr",
     "output_type": "stream",
     "text": [
      "11002it [17:00,  9.77it/s]"
     ]
    },
    {
     "name": "stdout",
     "output_type": "stream",
     "text": [
      "| epoch   5 | 11000/32580 batches | loss    1.160 \n",
      "money: time, much, idea, it, able, practice, him, existence, even, making\n",
      "lion: musician, eight, lot, sons, wife, nine, directors, knight, vote, throne\n",
      "africa: asia, europe, india, korea, china, america, japan, coast, australia, russia\n",
      "musician: singer, composer, actor, actress, writer, politician, author, poet, philosopher, physicist\n",
      "dance: music, musical, traditional, rock, jazz, culture, pop, artists, traditions, style\n",
      "\n",
      "\n"
     ]
    },
    {
     "name": "stderr",
     "output_type": "stream",
     "text": [
      "11501it [17:46,  9.83it/s]"
     ]
    },
    {
     "name": "stdout",
     "output_type": "stream",
     "text": [
      "| epoch   5 | 11500/32580 batches | loss    1.159 \n",
      "money: time, much, idea, it, able, practice, him, existence, even, making\n",
      "lion: musician, eight, lot, sons, wife, nine, directors, knight, vote, throne\n",
      "africa: asia, europe, india, korea, china, america, japan, coast, australia, russia\n",
      "musician: singer, composer, actor, actress, writer, politician, author, poet, philosopher, physicist\n",
      "dance: music, musical, traditional, rock, jazz, culture, pop, artists, traditions, style\n",
      "\n",
      "\n"
     ]
    },
    {
     "name": "stderr",
     "output_type": "stream",
     "text": [
      "12001it [18:32,  9.83it/s]"
     ]
    },
    {
     "name": "stdout",
     "output_type": "stream",
     "text": [
      "| epoch   5 | 12000/32580 batches | loss    1.159 \n",
      "money: time, much, idea, it, able, practice, him, existence, even, making\n",
      "lion: musician, eight, lot, sons, wife, nine, directors, knight, vote, throne\n",
      "africa: asia, europe, india, korea, china, america, japan, coast, australia, russia\n",
      "musician: singer, composer, actor, actress, writer, politician, author, poet, philosopher, physicist\n",
      "dance: music, musical, traditional, rock, jazz, culture, pop, artists, traditions, style\n",
      "\n",
      "\n"
     ]
    },
    {
     "name": "stderr",
     "output_type": "stream",
     "text": [
      "12502it [19:18,  9.70it/s]"
     ]
    },
    {
     "name": "stdout",
     "output_type": "stream",
     "text": [
      "| epoch   5 | 12500/32580 batches | loss    1.158 \n",
      "money: time, much, idea, it, able, practice, him, existence, even, making\n",
      "lion: musician, eight, lot, sons, wife, nine, directors, knight, vote, throne\n",
      "africa: asia, europe, india, korea, china, america, japan, coast, australia, russia\n",
      "musician: singer, composer, actor, actress, writer, politician, author, poet, philosopher, physicist\n",
      "dance: music, musical, traditional, rock, jazz, culture, pop, artists, traditions, style\n",
      "\n",
      "\n"
     ]
    },
    {
     "name": "stderr",
     "output_type": "stream",
     "text": [
      "13001it [20:03,  9.92it/s]"
     ]
    },
    {
     "name": "stdout",
     "output_type": "stream",
     "text": [
      "| epoch   5 | 13000/32580 batches | loss    1.160 \n",
      "money: time, much, idea, it, able, practice, him, existence, even, making\n",
      "lion: musician, eight, lot, sons, wife, nine, directors, knight, vote, throne\n",
      "africa: asia, europe, india, korea, china, america, japan, coast, australia, russia\n",
      "musician: singer, composer, actor, actress, writer, politician, author, poet, philosopher, physicist\n",
      "dance: music, musical, traditional, rock, jazz, culture, pop, artists, traditions, style\n",
      "\n",
      "\n"
     ]
    },
    {
     "name": "stderr",
     "output_type": "stream",
     "text": [
      "13501it [20:48, 10.05it/s]"
     ]
    },
    {
     "name": "stdout",
     "output_type": "stream",
     "text": [
      "| epoch   5 | 13500/32580 batches | loss    1.156 \n",
      "money: time, much, idea, it, able, practice, him, existence, even, making\n",
      "lion: musician, eight, lot, sons, wife, nine, directors, knight, vote, throne\n",
      "africa: asia, europe, india, korea, china, america, japan, coast, australia, russia\n",
      "musician: singer, composer, actor, actress, writer, politician, author, poet, philosopher, physicist\n",
      "dance: music, musical, traditional, rock, jazz, culture, pop, artists, traditions, style\n",
      "\n",
      "\n"
     ]
    },
    {
     "name": "stderr",
     "output_type": "stream",
     "text": [
      "14002it [21:34,  9.43it/s]"
     ]
    },
    {
     "name": "stdout",
     "output_type": "stream",
     "text": [
      "| epoch   5 | 14000/32580 batches | loss    1.155 \n",
      "money: time, much, idea, it, able, practice, him, existence, even, making\n",
      "lion: musician, eight, lot, sons, wife, nine, directors, knight, vote, throne\n",
      "africa: asia, europe, india, korea, china, america, japan, coast, australia, russia\n",
      "musician: singer, composer, actor, actress, writer, politician, author, poet, philosopher, physicist\n",
      "dance: music, musical, traditional, rock, jazz, culture, pop, artists, traditions, style\n",
      "\n",
      "\n"
     ]
    },
    {
     "name": "stderr",
     "output_type": "stream",
     "text": [
      "14502it [22:20,  9.43it/s]"
     ]
    },
    {
     "name": "stdout",
     "output_type": "stream",
     "text": [
      "| epoch   5 | 14500/32580 batches | loss    1.160 \n",
      "money: time, much, idea, it, able, practice, him, existence, even, making\n",
      "lion: musician, eight, lot, sons, wife, nine, directors, knight, vote, throne\n",
      "africa: asia, europe, india, korea, china, america, japan, coast, australia, russia\n",
      "musician: singer, composer, actor, actress, writer, politician, author, poet, philosopher, physicist\n",
      "dance: music, musical, traditional, rock, jazz, culture, pop, artists, traditions, style\n",
      "\n",
      "\n"
     ]
    },
    {
     "name": "stderr",
     "output_type": "stream",
     "text": [
      "15002it [23:05,  9.88it/s]"
     ]
    },
    {
     "name": "stdout",
     "output_type": "stream",
     "text": [
      "| epoch   5 | 15000/32580 batches | loss    1.159 \n",
      "money: time, much, idea, it, able, practice, him, existence, even, making\n",
      "lion: musician, eight, lot, sons, wife, nine, directors, knight, vote, throne\n",
      "africa: asia, europe, india, korea, china, america, japan, coast, australia, russia\n",
      "musician: singer, composer, actor, actress, writer, politician, author, poet, philosopher, physicist\n",
      "dance: music, musical, traditional, rock, jazz, culture, pop, artists, traditions, style\n",
      "\n",
      "\n"
     ]
    },
    {
     "name": "stderr",
     "output_type": "stream",
     "text": [
      "15502it [23:51,  9.70it/s]"
     ]
    },
    {
     "name": "stdout",
     "output_type": "stream",
     "text": [
      "| epoch   5 | 15500/32580 batches | loss    1.159 \n",
      "money: time, much, idea, it, able, practice, him, existence, even, making\n",
      "lion: musician, eight, lot, sons, wife, nine, directors, knight, vote, throne\n",
      "africa: asia, europe, india, korea, china, america, japan, coast, australia, russia\n",
      "musician: singer, composer, actor, actress, writer, politician, author, poet, philosopher, physicist\n",
      "dance: music, musical, traditional, rock, jazz, culture, pop, artists, traditions, style\n",
      "\n",
      "\n"
     ]
    },
    {
     "name": "stderr",
     "output_type": "stream",
     "text": [
      "16001it [24:36, 10.10it/s]"
     ]
    },
    {
     "name": "stdout",
     "output_type": "stream",
     "text": [
      "| epoch   5 | 16000/32580 batches | loss    1.157 \n",
      "money: time, much, idea, it, able, practice, him, existence, even, making\n",
      "lion: musician, eight, lot, sons, wife, nine, directors, knight, vote, throne\n",
      "africa: asia, europe, india, korea, china, america, japan, coast, australia, russia\n",
      "musician: singer, composer, actor, actress, writer, politician, author, poet, philosopher, physicist\n",
      "dance: music, musical, traditional, rock, jazz, culture, pop, artists, traditions, style\n",
      "\n",
      "\n"
     ]
    },
    {
     "name": "stderr",
     "output_type": "stream",
     "text": [
      "16501it [25:22,  9.84it/s]"
     ]
    },
    {
     "name": "stdout",
     "output_type": "stream",
     "text": [
      "| epoch   5 | 16500/32580 batches | loss    1.163 \n",
      "money: time, much, idea, it, able, practice, him, existence, even, making\n",
      "lion: musician, eight, lot, sons, wife, nine, directors, knight, vote, throne\n",
      "africa: asia, europe, india, korea, china, america, japan, coast, australia, russia\n",
      "musician: singer, composer, actor, actress, writer, politician, author, poet, philosopher, physicist\n",
      "dance: music, musical, traditional, rock, jazz, culture, pop, artists, traditions, style\n",
      "\n",
      "\n"
     ]
    },
    {
     "name": "stderr",
     "output_type": "stream",
     "text": [
      "17001it [26:08, 10.00it/s]"
     ]
    },
    {
     "name": "stdout",
     "output_type": "stream",
     "text": [
      "| epoch   5 | 17000/32580 batches | loss    1.164 \n",
      "money: time, much, idea, it, able, practice, him, existence, even, making\n",
      "lion: musician, eight, lot, sons, wife, nine, directors, knight, vote, throne\n",
      "africa: asia, europe, india, korea, china, america, japan, coast, australia, russia\n",
      "musician: singer, composer, actor, actress, writer, politician, author, poet, philosopher, physicist\n",
      "dance: music, musical, traditional, rock, jazz, culture, pop, artists, traditions, style\n",
      "\n",
      "\n"
     ]
    },
    {
     "name": "stderr",
     "output_type": "stream",
     "text": [
      "17501it [26:53, 10.03it/s]"
     ]
    },
    {
     "name": "stdout",
     "output_type": "stream",
     "text": [
      "| epoch   5 | 17500/32580 batches | loss    1.153 \n",
      "money: time, much, idea, it, able, practice, him, existence, even, making\n",
      "lion: musician, eight, lot, sons, wife, nine, directors, knight, vote, throne\n",
      "africa: asia, europe, india, korea, china, america, japan, coast, australia, russia\n",
      "musician: singer, composer, actor, actress, writer, politician, author, poet, philosopher, physicist\n",
      "dance: music, musical, traditional, rock, jazz, culture, pop, artists, traditions, style\n",
      "\n",
      "\n"
     ]
    },
    {
     "name": "stderr",
     "output_type": "stream",
     "text": [
      "18001it [27:38,  9.79it/s]"
     ]
    },
    {
     "name": "stdout",
     "output_type": "stream",
     "text": [
      "| epoch   5 | 18000/32580 batches | loss    1.158 \n",
      "money: time, much, idea, it, able, practice, him, existence, even, making\n",
      "lion: musician, eight, lot, sons, wife, nine, directors, knight, vote, throne\n",
      "africa: asia, europe, india, korea, china, america, japan, coast, australia, russia\n",
      "musician: singer, composer, actor, actress, writer, politician, author, poet, philosopher, physicist\n",
      "dance: music, musical, traditional, rock, jazz, culture, pop, artists, traditions, style\n",
      "\n",
      "\n"
     ]
    },
    {
     "name": "stderr",
     "output_type": "stream",
     "text": [
      "18501it [28:24,  9.86it/s]"
     ]
    },
    {
     "name": "stdout",
     "output_type": "stream",
     "text": [
      "| epoch   5 | 18500/32580 batches | loss    1.162 \n",
      "money: time, much, idea, it, able, practice, him, existence, even, making\n",
      "lion: musician, eight, lot, sons, wife, nine, directors, knight, vote, throne\n",
      "africa: asia, europe, india, korea, china, america, japan, coast, australia, russia\n",
      "musician: singer, composer, actor, actress, writer, politician, author, poet, philosopher, physicist\n",
      "dance: music, musical, traditional, rock, jazz, culture, pop, artists, traditions, style\n",
      "\n",
      "\n"
     ]
    },
    {
     "name": "stderr",
     "output_type": "stream",
     "text": [
      "19001it [29:11,  9.95it/s]"
     ]
    },
    {
     "name": "stdout",
     "output_type": "stream",
     "text": [
      "| epoch   5 | 19000/32580 batches | loss    1.167 \n",
      "money: time, much, idea, it, able, practice, him, existence, even, making\n",
      "lion: musician, eight, lot, sons, wife, nine, directors, knight, vote, throne\n",
      "africa: asia, europe, india, korea, china, america, japan, coast, australia, russia\n",
      "musician: singer, composer, actor, actress, writer, politician, author, poet, philosopher, physicist\n",
      "dance: music, musical, traditional, rock, jazz, culture, pop, artists, traditions, style\n",
      "\n",
      "\n"
     ]
    },
    {
     "name": "stderr",
     "output_type": "stream",
     "text": [
      "19501it [29:58,  9.58it/s]"
     ]
    },
    {
     "name": "stdout",
     "output_type": "stream",
     "text": [
      "| epoch   5 | 19500/32580 batches | loss    1.156 \n",
      "money: time, much, idea, it, able, practice, him, existence, even, making\n",
      "lion: musician, eight, lot, sons, wife, nine, directors, knight, vote, throne\n",
      "africa: asia, europe, india, korea, china, america, japan, coast, australia, russia\n",
      "musician: singer, composer, actor, actress, writer, politician, author, poet, philosopher, physicist\n",
      "dance: music, musical, traditional, rock, jazz, culture, pop, artists, traditions, style\n",
      "\n",
      "\n"
     ]
    },
    {
     "name": "stderr",
     "output_type": "stream",
     "text": [
      "20002it [30:45,  9.53it/s]"
     ]
    },
    {
     "name": "stdout",
     "output_type": "stream",
     "text": [
      "| epoch   5 | 20000/32580 batches | loss    1.159 \n",
      "money: time, much, idea, it, able, practice, him, existence, even, making\n",
      "lion: musician, eight, lot, sons, wife, nine, directors, knight, vote, throne\n",
      "africa: asia, europe, india, korea, china, america, japan, coast, australia, russia\n",
      "musician: singer, composer, actor, actress, writer, politician, author, poet, philosopher, physicist\n",
      "dance: music, musical, traditional, rock, jazz, culture, pop, artists, traditions, style\n",
      "\n",
      "\n"
     ]
    },
    {
     "name": "stderr",
     "output_type": "stream",
     "text": [
      "20502it [31:31,  9.64it/s]"
     ]
    },
    {
     "name": "stdout",
     "output_type": "stream",
     "text": [
      "| epoch   5 | 20500/32580 batches | loss    1.160 \n",
      "money: time, much, idea, it, able, practice, him, existence, even, making\n",
      "lion: musician, eight, lot, sons, wife, nine, directors, knight, vote, throne\n",
      "africa: asia, europe, india, korea, china, america, japan, coast, australia, russia\n",
      "musician: singer, composer, actor, actress, writer, politician, author, poet, philosopher, physicist\n",
      "dance: music, musical, traditional, rock, jazz, culture, pop, artists, traditions, style\n",
      "\n",
      "\n"
     ]
    },
    {
     "name": "stderr",
     "output_type": "stream",
     "text": [
      "21002it [32:17,  9.53it/s]"
     ]
    },
    {
     "name": "stdout",
     "output_type": "stream",
     "text": [
      "| epoch   5 | 21000/32580 batches | loss    1.161 \n",
      "money: time, much, idea, it, able, practice, him, existence, even, making\n",
      "lion: musician, eight, lot, sons, wife, nine, directors, knight, vote, throne\n",
      "africa: asia, europe, india, korea, china, america, japan, coast, australia, russia\n",
      "musician: singer, composer, actor, actress, writer, politician, author, poet, philosopher, physicist\n",
      "dance: music, musical, traditional, rock, jazz, culture, pop, artists, traditions, style\n",
      "\n",
      "\n"
     ]
    },
    {
     "name": "stderr",
     "output_type": "stream",
     "text": [
      "21502it [33:03,  9.82it/s]"
     ]
    },
    {
     "name": "stdout",
     "output_type": "stream",
     "text": [
      "| epoch   5 | 21500/32580 batches | loss    1.158 \n",
      "money: time, much, idea, it, able, practice, him, existence, even, making\n",
      "lion: musician, eight, lot, sons, wife, nine, directors, knight, vote, throne\n",
      "africa: asia, europe, india, korea, china, america, japan, coast, australia, russia\n",
      "musician: singer, composer, actor, actress, writer, politician, author, poet, philosopher, physicist\n",
      "dance: music, musical, traditional, rock, jazz, culture, pop, artists, traditions, style\n",
      "\n",
      "\n"
     ]
    },
    {
     "name": "stderr",
     "output_type": "stream",
     "text": [
      "22002it [33:49,  9.67it/s]"
     ]
    },
    {
     "name": "stdout",
     "output_type": "stream",
     "text": [
      "| epoch   5 | 22000/32580 batches | loss    1.163 \n",
      "money: time, much, idea, it, able, practice, him, existence, even, making\n",
      "lion: musician, eight, lot, sons, wife, nine, directors, knight, vote, throne\n",
      "africa: asia, europe, india, korea, china, america, japan, coast, australia, russia\n",
      "musician: singer, composer, actor, actress, writer, politician, author, poet, philosopher, physicist\n",
      "dance: music, musical, traditional, rock, jazz, culture, pop, artists, traditions, style\n",
      "\n",
      "\n"
     ]
    },
    {
     "name": "stderr",
     "output_type": "stream",
     "text": [
      "22502it [34:36,  9.51it/s]"
     ]
    },
    {
     "name": "stdout",
     "output_type": "stream",
     "text": [
      "| epoch   5 | 22500/32580 batches | loss    1.161 \n",
      "money: time, much, idea, it, able, practice, him, existence, even, making\n",
      "lion: musician, eight, lot, sons, wife, nine, directors, knight, vote, throne\n",
      "africa: asia, europe, india, korea, china, america, japan, coast, australia, russia\n",
      "musician: singer, composer, actor, actress, writer, politician, author, poet, philosopher, physicist\n",
      "dance: music, musical, traditional, rock, jazz, culture, pop, artists, traditions, style\n",
      "\n",
      "\n"
     ]
    },
    {
     "name": "stderr",
     "output_type": "stream",
     "text": [
      "23002it [35:22,  9.62it/s]"
     ]
    },
    {
     "name": "stdout",
     "output_type": "stream",
     "text": [
      "| epoch   5 | 23000/32580 batches | loss    1.160 \n",
      "money: time, much, idea, it, able, practice, him, existence, even, making\n",
      "lion: musician, eight, lot, sons, wife, nine, directors, knight, vote, throne\n",
      "africa: asia, europe, india, korea, china, america, japan, coast, australia, russia\n",
      "musician: singer, composer, actor, actress, writer, politician, author, poet, philosopher, physicist\n",
      "dance: music, musical, traditional, rock, jazz, culture, pop, artists, traditions, style\n",
      "\n",
      "\n"
     ]
    },
    {
     "name": "stderr",
     "output_type": "stream",
     "text": [
      "23502it [36:08,  9.56it/s]"
     ]
    },
    {
     "name": "stdout",
     "output_type": "stream",
     "text": [
      "| epoch   5 | 23500/32580 batches | loss    1.161 \n",
      "money: time, much, idea, it, able, practice, him, existence, even, making\n",
      "lion: musician, eight, lot, sons, wife, nine, directors, knight, vote, throne\n",
      "africa: asia, europe, india, korea, china, america, japan, coast, australia, russia\n",
      "musician: singer, composer, actor, actress, writer, politician, author, poet, philosopher, physicist\n",
      "dance: music, musical, traditional, rock, jazz, culture, pop, artists, traditions, style\n",
      "\n",
      "\n"
     ]
    },
    {
     "name": "stderr",
     "output_type": "stream",
     "text": [
      "24001it [36:54,  9.95it/s]"
     ]
    },
    {
     "name": "stdout",
     "output_type": "stream",
     "text": [
      "| epoch   5 | 24000/32580 batches | loss    1.162 \n",
      "money: time, much, idea, it, able, practice, him, existence, even, making\n",
      "lion: musician, eight, lot, sons, wife, nine, directors, knight, vote, throne\n",
      "africa: asia, europe, india, korea, china, america, japan, coast, australia, russia\n",
      "musician: singer, composer, actor, actress, writer, politician, author, poet, philosopher, physicist\n",
      "dance: music, musical, traditional, rock, jazz, culture, pop, artists, traditions, style\n",
      "\n",
      "\n"
     ]
    },
    {
     "name": "stderr",
     "output_type": "stream",
     "text": [
      "24501it [37:41,  9.85it/s]"
     ]
    },
    {
     "name": "stdout",
     "output_type": "stream",
     "text": [
      "| epoch   5 | 24500/32580 batches | loss    1.161 \n",
      "money: time, much, idea, it, able, practice, him, existence, even, making\n",
      "lion: musician, eight, lot, sons, wife, nine, directors, knight, vote, throne\n",
      "africa: asia, europe, india, korea, china, america, japan, coast, australia, russia\n",
      "musician: singer, composer, actor, actress, writer, politician, author, poet, philosopher, physicist\n",
      "dance: music, musical, traditional, rock, jazz, culture, pop, artists, traditions, style\n",
      "\n",
      "\n"
     ]
    },
    {
     "name": "stderr",
     "output_type": "stream",
     "text": [
      "25001it [38:27,  9.85it/s]"
     ]
    },
    {
     "name": "stdout",
     "output_type": "stream",
     "text": [
      "| epoch   5 | 25000/32580 batches | loss    1.159 \n",
      "money: time, much, idea, it, able, practice, him, existence, even, making\n",
      "lion: musician, eight, lot, sons, wife, nine, directors, knight, vote, throne\n",
      "africa: asia, europe, india, korea, china, america, japan, coast, australia, russia\n",
      "musician: singer, composer, actor, actress, writer, politician, author, poet, philosopher, physicist\n",
      "dance: music, musical, traditional, rock, jazz, culture, pop, artists, traditions, style\n",
      "\n",
      "\n"
     ]
    },
    {
     "name": "stderr",
     "output_type": "stream",
     "text": [
      "25501it [39:13,  9.85it/s]"
     ]
    },
    {
     "name": "stdout",
     "output_type": "stream",
     "text": [
      "| epoch   5 | 25500/32580 batches | loss    1.160 \n",
      "money: time, much, idea, it, able, practice, him, existence, even, making\n",
      "lion: musician, eight, lot, sons, wife, nine, directors, knight, vote, throne\n",
      "africa: asia, europe, india, korea, china, america, japan, coast, australia, russia\n",
      "musician: singer, composer, actor, actress, writer, politician, author, poet, philosopher, physicist\n",
      "dance: music, musical, traditional, rock, jazz, culture, pop, artists, traditions, style\n",
      "\n",
      "\n"
     ]
    },
    {
     "name": "stderr",
     "output_type": "stream",
     "text": [
      "26001it [39:59,  9.85it/s]"
     ]
    },
    {
     "name": "stdout",
     "output_type": "stream",
     "text": [
      "| epoch   5 | 26000/32580 batches | loss    1.160 \n",
      "money: time, much, idea, it, able, practice, him, existence, even, making\n",
      "lion: musician, eight, lot, sons, wife, nine, directors, knight, vote, throne\n",
      "africa: asia, europe, india, korea, china, america, japan, coast, australia, russia\n",
      "musician: singer, composer, actor, actress, writer, politician, author, poet, philosopher, physicist\n",
      "dance: music, musical, traditional, rock, jazz, culture, pop, artists, traditions, style\n",
      "\n",
      "\n"
     ]
    },
    {
     "name": "stderr",
     "output_type": "stream",
     "text": [
      "26502it [40:45,  9.81it/s]"
     ]
    },
    {
     "name": "stdout",
     "output_type": "stream",
     "text": [
      "| epoch   5 | 26500/32580 batches | loss    1.159 \n",
      "money: time, much, idea, it, able, practice, him, existence, even, making\n",
      "lion: musician, eight, lot, sons, wife, nine, directors, knight, vote, throne\n",
      "africa: asia, europe, india, korea, china, america, japan, coast, australia, russia\n",
      "musician: singer, composer, actor, actress, writer, politician, author, poet, philosopher, physicist\n",
      "dance: music, musical, traditional, rock, jazz, culture, pop, artists, traditions, style\n",
      "\n",
      "\n"
     ]
    },
    {
     "name": "stderr",
     "output_type": "stream",
     "text": [
      "27002it [41:31,  9.81it/s]"
     ]
    },
    {
     "name": "stdout",
     "output_type": "stream",
     "text": [
      "| epoch   5 | 27000/32580 batches | loss    1.160 \n",
      "money: time, much, idea, it, able, practice, him, existence, even, making\n",
      "lion: musician, eight, lot, sons, wife, nine, directors, knight, vote, throne\n",
      "africa: asia, europe, india, korea, china, america, japan, coast, australia, russia\n",
      "musician: singer, composer, actor, actress, writer, politician, author, poet, philosopher, physicist\n",
      "dance: music, musical, traditional, rock, jazz, culture, pop, artists, traditions, style\n",
      "\n",
      "\n"
     ]
    },
    {
     "name": "stderr",
     "output_type": "stream",
     "text": [
      "27502it [42:17,  9.65it/s]"
     ]
    },
    {
     "name": "stdout",
     "output_type": "stream",
     "text": [
      "| epoch   5 | 27500/32580 batches | loss    1.156 \n",
      "money: time, much, idea, it, able, practice, him, existence, even, making\n",
      "lion: musician, eight, lot, sons, wife, nine, directors, knight, vote, throne\n",
      "africa: asia, europe, india, korea, china, america, japan, coast, australia, russia\n",
      "musician: singer, composer, actor, actress, writer, politician, author, poet, philosopher, physicist\n",
      "dance: music, musical, traditional, rock, jazz, culture, pop, artists, traditions, style\n",
      "\n",
      "\n"
     ]
    },
    {
     "name": "stderr",
     "output_type": "stream",
     "text": [
      "28002it [43:03,  9.68it/s]"
     ]
    },
    {
     "name": "stdout",
     "output_type": "stream",
     "text": [
      "| epoch   5 | 28000/32580 batches | loss    1.159 \n",
      "money: time, much, idea, it, able, practice, him, existence, even, making\n",
      "lion: musician, eight, lot, sons, wife, nine, directors, knight, vote, throne\n",
      "africa: asia, europe, india, korea, china, america, japan, coast, australia, russia\n",
      "musician: singer, composer, actor, actress, writer, politician, author, poet, philosopher, physicist\n",
      "dance: music, musical, traditional, rock, jazz, culture, pop, artists, traditions, style\n",
      "\n",
      "\n"
     ]
    },
    {
     "name": "stderr",
     "output_type": "stream",
     "text": [
      "28501it [43:49,  9.88it/s]"
     ]
    },
    {
     "name": "stdout",
     "output_type": "stream",
     "text": [
      "| epoch   5 | 28500/32580 batches | loss    1.160 \n",
      "money: time, much, idea, it, able, practice, him, existence, even, making\n",
      "lion: musician, eight, lot, sons, wife, nine, directors, knight, vote, throne\n",
      "africa: asia, europe, india, korea, china, america, japan, coast, australia, russia\n",
      "musician: singer, composer, actor, actress, writer, politician, author, poet, philosopher, physicist\n",
      "dance: music, musical, traditional, rock, jazz, culture, pop, artists, traditions, style\n",
      "\n",
      "\n"
     ]
    },
    {
     "name": "stderr",
     "output_type": "stream",
     "text": [
      "29001it [44:36,  9.74it/s]"
     ]
    },
    {
     "name": "stdout",
     "output_type": "stream",
     "text": [
      "| epoch   5 | 29000/32580 batches | loss    1.159 \n",
      "money: time, much, idea, it, able, practice, him, existence, even, making\n",
      "lion: musician, eight, lot, sons, wife, nine, directors, knight, vote, throne\n",
      "africa: asia, europe, india, korea, china, america, japan, coast, australia, russia\n",
      "musician: singer, composer, actor, actress, writer, politician, author, poet, philosopher, physicist\n",
      "dance: music, musical, traditional, rock, jazz, culture, pop, artists, traditions, style\n",
      "\n",
      "\n"
     ]
    },
    {
     "name": "stderr",
     "output_type": "stream",
     "text": [
      "29502it [45:22,  9.50it/s]"
     ]
    },
    {
     "name": "stdout",
     "output_type": "stream",
     "text": [
      "| epoch   5 | 29500/32580 batches | loss    1.161 \n",
      "money: time, much, idea, it, able, practice, him, existence, even, making\n",
      "lion: musician, eight, lot, sons, wife, nine, directors, knight, vote, throne\n",
      "africa: asia, europe, india, korea, china, america, japan, coast, australia, russia\n",
      "musician: singer, composer, actor, actress, writer, politician, author, poet, philosopher, physicist\n",
      "dance: music, musical, traditional, rock, jazz, culture, pop, artists, traditions, style\n",
      "\n",
      "\n"
     ]
    },
    {
     "name": "stderr",
     "output_type": "stream",
     "text": [
      "30002it [46:08,  9.54it/s]"
     ]
    },
    {
     "name": "stdout",
     "output_type": "stream",
     "text": [
      "| epoch   5 | 30000/32580 batches | loss    1.158 \n",
      "money: time, much, idea, it, able, practice, him, existence, even, making\n",
      "lion: musician, eight, lot, sons, wife, nine, directors, knight, vote, throne\n",
      "africa: asia, europe, india, korea, china, america, japan, coast, australia, russia\n",
      "musician: singer, composer, actor, actress, writer, politician, author, poet, philosopher, physicist\n",
      "dance: music, musical, traditional, rock, jazz, culture, pop, artists, traditions, style\n",
      "\n",
      "\n"
     ]
    },
    {
     "name": "stderr",
     "output_type": "stream",
     "text": [
      "30502it [46:54,  9.52it/s]"
     ]
    },
    {
     "name": "stdout",
     "output_type": "stream",
     "text": [
      "| epoch   5 | 30500/32580 batches | loss    1.160 \n",
      "money: time, much, idea, it, able, practice, him, existence, even, making\n",
      "lion: musician, eight, lot, sons, wife, nine, directors, knight, vote, throne\n",
      "africa: asia, europe, india, korea, china, america, japan, coast, australia, russia\n",
      "musician: singer, composer, actor, actress, writer, politician, author, poet, philosopher, physicist\n",
      "dance: music, musical, traditional, rock, jazz, culture, pop, artists, traditions, style\n",
      "\n",
      "\n"
     ]
    },
    {
     "name": "stderr",
     "output_type": "stream",
     "text": [
      "31002it [47:40,  9.67it/s]"
     ]
    },
    {
     "name": "stdout",
     "output_type": "stream",
     "text": [
      "| epoch   5 | 31000/32580 batches | loss    1.158 \n",
      "money: time, much, idea, it, able, practice, him, existence, even, making\n",
      "lion: musician, eight, lot, sons, wife, nine, directors, knight, vote, throne\n",
      "africa: asia, europe, india, korea, china, america, japan, coast, australia, russia\n",
      "musician: singer, composer, actor, actress, writer, politician, author, poet, philosopher, physicist\n",
      "dance: music, musical, traditional, rock, jazz, culture, pop, artists, traditions, style\n",
      "\n",
      "\n"
     ]
    },
    {
     "name": "stderr",
     "output_type": "stream",
     "text": [
      "31502it [48:26,  9.72it/s]"
     ]
    },
    {
     "name": "stdout",
     "output_type": "stream",
     "text": [
      "| epoch   5 | 31500/32580 batches | loss    1.162 \n",
      "money: time, much, idea, it, able, practice, him, existence, even, making\n",
      "lion: musician, eight, lot, sons, wife, nine, directors, knight, vote, throne\n",
      "africa: asia, europe, india, korea, china, america, japan, coast, australia, russia\n",
      "musician: singer, composer, actor, actress, writer, politician, author, poet, philosopher, physicist\n",
      "dance: music, musical, traditional, rock, jazz, culture, pop, artists, traditions, style\n",
      "\n",
      "\n"
     ]
    },
    {
     "name": "stderr",
     "output_type": "stream",
     "text": [
      "32002it [49:12,  9.61it/s]"
     ]
    },
    {
     "name": "stdout",
     "output_type": "stream",
     "text": [
      "| epoch   5 | 32000/32580 batches | loss    1.162 \n",
      "money: time, much, idea, it, able, practice, him, existence, even, making\n",
      "lion: musician, eight, lot, sons, wife, nine, directors, knight, vote, throne\n",
      "africa: asia, europe, india, korea, china, america, japan, coast, australia, russia\n",
      "musician: singer, composer, actor, actress, writer, politician, author, poet, philosopher, physicist\n",
      "dance: music, musical, traditional, rock, jazz, culture, pop, artists, traditions, style\n",
      "\n",
      "\n"
     ]
    },
    {
     "name": "stderr",
     "output_type": "stream",
     "text": [
      "32501it [49:58,  9.86it/s]"
     ]
    },
    {
     "name": "stdout",
     "output_type": "stream",
     "text": [
      "| epoch   5 | 32500/32580 batches | loss    1.161 \n",
      "money: time, much, idea, it, able, practice, him, existence, even, making\n",
      "lion: musician, eight, lot, sons, wife, nine, directors, knight, vote, throne\n",
      "africa: asia, europe, india, korea, china, america, japan, coast, australia, russia\n",
      "musician: singer, composer, actor, actress, writer, politician, author, poet, philosopher, physicist\n",
      "dance: music, musical, traditional, rock, jazz, culture, pop, artists, traditions, style\n",
      "\n",
      "\n"
     ]
    },
    {
     "name": "stderr",
     "output_type": "stream",
     "text": [
      "32580it [50:05, 10.84it/s]\n",
      "2it [00:00,  3.36it/s]"
     ]
    },
    {
     "name": "stdout",
     "output_type": "stream",
     "text": [
      "| epoch   6 |     0/32580 batches | loss    1.157 \n",
      "money: time, much, idea, it, able, practice, him, existence, even, making\n",
      "lion: musician, eight, lot, sons, wife, nine, directors, knight, vote, throne\n",
      "africa: asia, europe, india, korea, china, america, japan, coast, australia, russia\n",
      "musician: singer, composer, actor, actress, writer, politician, author, poet, philosopher, physicist\n",
      "dance: music, musical, traditional, rock, jazz, culture, pop, artists, traditions, style\n",
      "\n",
      "\n"
     ]
    },
    {
     "name": "stderr",
     "output_type": "stream",
     "text": [
      "502it [00:47,  9.51it/s]"
     ]
    },
    {
     "name": "stdout",
     "output_type": "stream",
     "text": [
      "| epoch   6 |   500/32580 batches | loss    1.159 \n",
      "money: time, much, idea, it, able, practice, him, existence, even, making\n",
      "lion: musician, eight, lot, sons, wife, nine, directors, knight, vote, throne\n",
      "africa: asia, europe, india, korea, china, america, japan, coast, australia, russia\n",
      "musician: singer, composer, actor, actress, writer, politician, author, poet, philosopher, physicist\n",
      "dance: music, musical, traditional, rock, jazz, culture, pop, artists, traditions, style\n",
      "\n",
      "\n"
     ]
    },
    {
     "name": "stderr",
     "output_type": "stream",
     "text": [
      "1002it [01:33,  9.62it/s]"
     ]
    },
    {
     "name": "stdout",
     "output_type": "stream",
     "text": [
      "| epoch   6 |  1000/32580 batches | loss    1.156 \n",
      "money: time, much, idea, it, able, practice, him, existence, even, making\n",
      "lion: musician, eight, lot, sons, wife, nine, directors, knight, vote, throne\n",
      "africa: asia, europe, india, korea, china, america, japan, coast, australia, russia\n",
      "musician: singer, composer, actor, actress, writer, politician, author, poet, philosopher, physicist\n",
      "dance: music, musical, traditional, rock, jazz, culture, pop, artists, traditions, style\n",
      "\n",
      "\n"
     ]
    },
    {
     "name": "stderr",
     "output_type": "stream",
     "text": [
      "1501it [02:19,  9.89it/s]"
     ]
    },
    {
     "name": "stdout",
     "output_type": "stream",
     "text": [
      "| epoch   6 |  1500/32580 batches | loss    1.162 \n",
      "money: time, much, idea, it, able, practice, him, existence, even, making\n",
      "lion: musician, eight, lot, sons, wife, nine, directors, knight, vote, throne\n",
      "africa: asia, europe, india, korea, china, america, japan, coast, australia, russia\n",
      "musician: singer, composer, actor, actress, writer, politician, author, poet, philosopher, physicist\n",
      "dance: music, musical, traditional, rock, jazz, culture, pop, artists, traditions, style\n",
      "\n",
      "\n"
     ]
    },
    {
     "name": "stderr",
     "output_type": "stream",
     "text": [
      "2002it [03:05,  9.49it/s]"
     ]
    },
    {
     "name": "stdout",
     "output_type": "stream",
     "text": [
      "| epoch   6 |  2000/32580 batches | loss    1.161 \n",
      "money: time, much, idea, it, able, practice, him, existence, even, making\n",
      "lion: musician, eight, lot, sons, wife, nine, directors, knight, vote, throne\n",
      "africa: asia, europe, india, korea, china, america, japan, coast, australia, russia\n",
      "musician: singer, composer, actor, actress, writer, politician, author, poet, philosopher, physicist\n",
      "dance: music, musical, traditional, rock, jazz, culture, pop, artists, traditions, style\n",
      "\n",
      "\n"
     ]
    },
    {
     "name": "stderr",
     "output_type": "stream",
     "text": [
      "2502it [03:51,  9.65it/s]"
     ]
    },
    {
     "name": "stdout",
     "output_type": "stream",
     "text": [
      "| epoch   6 |  2500/32580 batches | loss    1.161 \n",
      "money: time, much, idea, it, able, practice, him, existence, even, making\n",
      "lion: musician, eight, lot, sons, wife, nine, directors, knight, vote, throne\n",
      "africa: asia, europe, india, korea, china, america, japan, coast, australia, russia\n",
      "musician: singer, composer, actor, actress, writer, politician, author, poet, philosopher, physicist\n",
      "dance: music, musical, traditional, rock, jazz, culture, pop, artists, traditions, style\n",
      "\n",
      "\n"
     ]
    },
    {
     "name": "stderr",
     "output_type": "stream",
     "text": [
      "3002it [04:38,  9.61it/s]"
     ]
    },
    {
     "name": "stdout",
     "output_type": "stream",
     "text": [
      "| epoch   6 |  3000/32580 batches | loss    1.162 \n",
      "money: time, much, idea, it, able, practice, him, existence, even, making\n",
      "lion: musician, eight, lot, sons, wife, nine, directors, knight, vote, throne\n",
      "africa: asia, europe, india, korea, china, america, japan, coast, australia, russia\n",
      "musician: singer, composer, actor, actress, writer, politician, author, poet, philosopher, physicist\n",
      "dance: music, musical, traditional, rock, jazz, culture, pop, artists, traditions, style\n",
      "\n",
      "\n"
     ]
    },
    {
     "name": "stderr",
     "output_type": "stream",
     "text": [
      "3501it [05:24,  9.92it/s]"
     ]
    },
    {
     "name": "stdout",
     "output_type": "stream",
     "text": [
      "| epoch   6 |  3500/32580 batches | loss    1.158 \n",
      "money: time, much, idea, it, able, practice, him, existence, even, making\n",
      "lion: musician, eight, lot, sons, wife, nine, directors, knight, vote, throne\n",
      "africa: asia, europe, india, korea, china, america, japan, coast, australia, russia\n",
      "musician: singer, composer, actor, actress, writer, politician, author, poet, philosopher, physicist\n",
      "dance: music, musical, traditional, rock, jazz, culture, pop, artists, traditions, style\n",
      "\n",
      "\n"
     ]
    },
    {
     "name": "stderr",
     "output_type": "stream",
     "text": [
      "4002it [06:10,  9.56it/s]"
     ]
    },
    {
     "name": "stdout",
     "output_type": "stream",
     "text": [
      "| epoch   6 |  4000/32580 batches | loss    1.163 \n",
      "money: time, much, idea, it, able, practice, him, existence, even, making\n",
      "lion: musician, eight, lot, sons, wife, nine, directors, knight, vote, throne\n",
      "africa: asia, europe, india, korea, china, america, japan, coast, australia, russia\n",
      "musician: singer, composer, actor, actress, writer, politician, author, poet, philosopher, physicist\n",
      "dance: music, musical, traditional, rock, jazz, culture, pop, artists, traditions, style\n",
      "\n",
      "\n"
     ]
    },
    {
     "name": "stderr",
     "output_type": "stream",
     "text": [
      "4501it [06:56,  9.84it/s]"
     ]
    },
    {
     "name": "stdout",
     "output_type": "stream",
     "text": [
      "| epoch   6 |  4500/32580 batches | loss    1.158 \n",
      "money: time, much, idea, it, able, practice, him, existence, even, making\n",
      "lion: musician, eight, lot, sons, wife, nine, directors, knight, vote, throne\n",
      "africa: asia, europe, india, korea, china, america, japan, coast, australia, russia\n",
      "musician: singer, composer, actor, actress, writer, politician, author, poet, philosopher, physicist\n",
      "dance: music, musical, traditional, rock, jazz, culture, pop, artists, traditions, style\n",
      "\n",
      "\n"
     ]
    },
    {
     "name": "stderr",
     "output_type": "stream",
     "text": [
      "5002it [07:43,  9.51it/s]"
     ]
    },
    {
     "name": "stdout",
     "output_type": "stream",
     "text": [
      "| epoch   6 |  5000/32580 batches | loss    1.157 \n",
      "money: time, much, idea, it, able, practice, him, existence, even, making\n",
      "lion: musician, eight, lot, sons, wife, nine, directors, knight, vote, throne\n",
      "africa: asia, europe, india, korea, china, america, japan, coast, australia, russia\n",
      "musician: singer, composer, actor, actress, writer, politician, author, poet, philosopher, physicist\n",
      "dance: music, musical, traditional, rock, jazz, culture, pop, artists, traditions, style\n",
      "\n",
      "\n"
     ]
    },
    {
     "name": "stderr",
     "output_type": "stream",
     "text": [
      "5502it [08:29,  9.40it/s]"
     ]
    },
    {
     "name": "stdout",
     "output_type": "stream",
     "text": [
      "| epoch   6 |  5500/32580 batches | loss    1.161 \n",
      "money: time, much, idea, it, able, practice, him, existence, even, making\n",
      "lion: musician, eight, lot, sons, wife, nine, directors, knight, vote, throne\n",
      "africa: asia, europe, india, korea, china, america, japan, coast, australia, russia\n",
      "musician: singer, composer, actor, actress, writer, politician, author, poet, philosopher, physicist\n",
      "dance: music, musical, traditional, rock, jazz, culture, pop, artists, traditions, style\n",
      "\n",
      "\n"
     ]
    },
    {
     "name": "stderr",
     "output_type": "stream",
     "text": [
      "6001it [09:15,  9.92it/s]"
     ]
    },
    {
     "name": "stdout",
     "output_type": "stream",
     "text": [
      "| epoch   6 |  6000/32580 batches | loss    1.164 \n",
      "money: time, much, idea, it, able, practice, him, existence, even, making\n",
      "lion: musician, eight, lot, sons, wife, nine, directors, knight, vote, throne\n",
      "africa: asia, europe, india, korea, china, america, japan, coast, australia, russia\n",
      "musician: singer, composer, actor, actress, writer, politician, author, poet, philosopher, physicist\n",
      "dance: music, musical, traditional, rock, jazz, culture, pop, artists, traditions, style\n",
      "\n",
      "\n"
     ]
    },
    {
     "name": "stderr",
     "output_type": "stream",
     "text": [
      "6501it [10:01,  9.93it/s]"
     ]
    },
    {
     "name": "stdout",
     "output_type": "stream",
     "text": [
      "| epoch   6 |  6500/32580 batches | loss    1.160 \n",
      "money: time, much, idea, it, able, practice, him, existence, even, making\n",
      "lion: musician, eight, lot, sons, wife, nine, directors, knight, vote, throne\n",
      "africa: asia, europe, india, korea, china, america, japan, coast, australia, russia\n",
      "musician: singer, composer, actor, actress, writer, politician, author, poet, philosopher, physicist\n",
      "dance: music, musical, traditional, rock, jazz, culture, pop, artists, traditions, style\n",
      "\n",
      "\n"
     ]
    },
    {
     "name": "stderr",
     "output_type": "stream",
     "text": [
      "7001it [10:47,  9.82it/s]"
     ]
    },
    {
     "name": "stdout",
     "output_type": "stream",
     "text": [
      "| epoch   6 |  7000/32580 batches | loss    1.162 \n",
      "money: time, much, idea, it, able, practice, him, existence, even, making\n",
      "lion: musician, eight, lot, sons, wife, nine, directors, knight, vote, throne\n",
      "africa: asia, europe, india, korea, china, america, japan, coast, australia, russia\n",
      "musician: singer, composer, actor, actress, writer, politician, author, poet, philosopher, physicist\n",
      "dance: music, musical, traditional, rock, jazz, culture, pop, artists, traditions, style\n",
      "\n",
      "\n"
     ]
    },
    {
     "name": "stderr",
     "output_type": "stream",
     "text": [
      "7502it [11:34,  9.76it/s]"
     ]
    },
    {
     "name": "stdout",
     "output_type": "stream",
     "text": [
      "| epoch   6 |  7500/32580 batches | loss    1.159 \n",
      "money: time, much, idea, it, able, practice, him, existence, even, making\n",
      "lion: musician, eight, lot, sons, wife, nine, directors, knight, vote, throne\n",
      "africa: asia, europe, india, korea, china, america, japan, coast, australia, russia\n",
      "musician: singer, composer, actor, actress, writer, politician, author, poet, philosopher, physicist\n",
      "dance: music, musical, traditional, rock, jazz, culture, pop, artists, traditions, style\n",
      "\n",
      "\n"
     ]
    },
    {
     "name": "stderr",
     "output_type": "stream",
     "text": [
      "8002it [12:20,  9.82it/s]"
     ]
    },
    {
     "name": "stdout",
     "output_type": "stream",
     "text": [
      "| epoch   6 |  8000/32580 batches | loss    1.160 \n",
      "money: time, much, idea, it, able, practice, him, existence, even, making\n",
      "lion: musician, eight, lot, sons, wife, nine, directors, knight, vote, throne\n",
      "africa: asia, europe, india, korea, china, america, japan, coast, australia, russia\n",
      "musician: singer, composer, actor, actress, writer, politician, author, poet, philosopher, physicist\n",
      "dance: music, musical, traditional, rock, jazz, culture, pop, artists, traditions, style\n",
      "\n",
      "\n"
     ]
    },
    {
     "name": "stderr",
     "output_type": "stream",
     "text": [
      "8502it [13:06,  9.59it/s]"
     ]
    },
    {
     "name": "stdout",
     "output_type": "stream",
     "text": [
      "| epoch   6 |  8500/32580 batches | loss    1.161 \n",
      "money: time, much, idea, it, able, practice, him, existence, even, making\n",
      "lion: musician, eight, lot, sons, wife, nine, directors, knight, vote, throne\n",
      "africa: asia, europe, india, korea, china, america, japan, coast, australia, russia\n",
      "musician: singer, composer, actor, actress, writer, politician, author, poet, philosopher, physicist\n",
      "dance: music, musical, traditional, rock, jazz, culture, pop, artists, traditions, style\n",
      "\n",
      "\n"
     ]
    },
    {
     "name": "stderr",
     "output_type": "stream",
     "text": [
      "9002it [13:52,  9.60it/s]"
     ]
    },
    {
     "name": "stdout",
     "output_type": "stream",
     "text": [
      "| epoch   6 |  9000/32580 batches | loss    1.158 \n",
      "money: time, much, idea, it, able, practice, him, existence, even, making\n",
      "lion: musician, eight, lot, sons, wife, nine, directors, knight, vote, throne\n",
      "africa: asia, europe, india, korea, china, america, japan, coast, australia, russia\n",
      "musician: singer, composer, actor, actress, writer, politician, author, poet, philosopher, physicist\n",
      "dance: music, musical, traditional, rock, jazz, culture, pop, artists, traditions, style\n",
      "\n",
      "\n"
     ]
    },
    {
     "name": "stderr",
     "output_type": "stream",
     "text": [
      "9502it [14:38,  9.74it/s]"
     ]
    },
    {
     "name": "stdout",
     "output_type": "stream",
     "text": [
      "| epoch   6 |  9500/32580 batches | loss    1.161 \n",
      "money: time, much, idea, it, able, practice, him, existence, even, making\n",
      "lion: musician, eight, lot, sons, wife, nine, directors, knight, vote, throne\n",
      "africa: asia, europe, india, korea, china, america, japan, coast, australia, russia\n",
      "musician: singer, composer, actor, actress, writer, politician, author, poet, philosopher, physicist\n",
      "dance: music, musical, traditional, rock, jazz, culture, pop, artists, traditions, style\n",
      "\n",
      "\n"
     ]
    },
    {
     "name": "stderr",
     "output_type": "stream",
     "text": [
      "10002it [15:24,  9.65it/s]"
     ]
    },
    {
     "name": "stdout",
     "output_type": "stream",
     "text": [
      "| epoch   6 | 10000/32580 batches | loss    1.159 \n",
      "money: time, much, idea, it, able, practice, him, existence, even, making\n",
      "lion: musician, eight, lot, sons, wife, nine, directors, knight, vote, throne\n",
      "africa: asia, europe, india, korea, china, america, japan, coast, australia, russia\n",
      "musician: singer, composer, actor, actress, writer, politician, author, poet, philosopher, physicist\n",
      "dance: music, musical, traditional, rock, jazz, culture, pop, artists, traditions, style\n",
      "\n",
      "\n"
     ]
    },
    {
     "name": "stderr",
     "output_type": "stream",
     "text": [
      "10145it [15:38, 10.81it/s]\n"
     ]
    },
    {
     "ename": "KeyboardInterrupt",
     "evalue": "",
     "output_type": "error",
     "traceback": [
      "\u001b[0;31m---------------------------------------------------------------------------\u001b[0m",
      "\u001b[0;31mKeyboardInterrupt\u001b[0m                         Traceback (most recent call last)",
      "Cell \u001b[0;32mIn [118], line 4\u001b[0m\n\u001b[1;32m      1\u001b[0m \u001b[39mfor\u001b[39;00m epoch \u001b[39min\u001b[39;00m \u001b[39mrange\u001b[39m(\u001b[39m1\u001b[39m, NUM_EPOCHS \u001b[39m+\u001b[39m \u001b[39m1\u001b[39m):\n\u001b[1;32m      2\u001b[0m     epoch_start_time \u001b[39m=\u001b[39m time\u001b[39m.\u001b[39mtime()\n\u001b[0;32m----> 4\u001b[0m     train(train_dl, model, optimizer, epoch)\n\u001b[1;32m      5\u001b[0m     \u001b[39m# We have a learning rate scheduler here.\u001b[39;00m\n\u001b[1;32m      6\u001b[0m     \u001b[39m# Basically, given the state of the optimizer, this lowers the learning rate in a smart way.\u001b[39;00m\n\u001b[1;32m      7\u001b[0m     scheduler\u001b[39m.\u001b[39mstep()\n",
      "Cell \u001b[0;32mIn [117], line 8\u001b[0m, in \u001b[0;36mtrain\u001b[0;34m(dataloader, model, optimizer, epoch)\u001b[0m\n\u001b[1;32m      5\u001b[0m total_acc, total_count, total_loss, total_batches \u001b[39m=\u001b[39m \u001b[39m0\u001b[39m, \u001b[39m0\u001b[39m, \u001b[39m0.0\u001b[39m, \u001b[39m0.0\u001b[39m\n\u001b[1;32m      6\u001b[0m log_interval \u001b[39m=\u001b[39m \u001b[39m500\u001b[39m\n\u001b[0;32m----> 8\u001b[0m \u001b[39mfor\u001b[39;00m idx, x_batch \u001b[39min\u001b[39;00m tqdm(\u001b[39menumerate\u001b[39m(dataloader)):\n\u001b[1;32m     10\u001b[0m     x_batch \u001b[39m=\u001b[39m x_batch[\u001b[39m0\u001b[39m]\n\u001b[1;32m     12\u001b[0m     batch_size \u001b[39m=\u001b[39m x_batch\u001b[39m.\u001b[39mshape[\u001b[39m0\u001b[39m]\n",
      "File \u001b[0;32m/opt/homebrew/Caskroom/miniforge/base/envs/torch-gpu/lib/python3.9/site-packages/tqdm/std.py:1195\u001b[0m, in \u001b[0;36mtqdm.__iter__\u001b[0;34m(self)\u001b[0m\n\u001b[1;32m   1192\u001b[0m time \u001b[39m=\u001b[39m \u001b[39mself\u001b[39m\u001b[39m.\u001b[39m_time\n\u001b[1;32m   1194\u001b[0m \u001b[39mtry\u001b[39;00m:\n\u001b[0;32m-> 1195\u001b[0m     \u001b[39mfor\u001b[39;00m obj \u001b[39min\u001b[39;00m iterable:\n\u001b[1;32m   1196\u001b[0m         \u001b[39myield\u001b[39;00m obj\n\u001b[1;32m   1197\u001b[0m         \u001b[39m# Update and possibly print the progressbar.\u001b[39;00m\n\u001b[1;32m   1198\u001b[0m         \u001b[39m# Note: does not call self.update(1) for speed optimisation.\u001b[39;00m\n",
      "File \u001b[0;32m/opt/homebrew/Caskroom/miniforge/base/envs/torch-gpu/lib/python3.9/site-packages/torch/utils/data/dataloader.py:628\u001b[0m, in \u001b[0;36m_BaseDataLoaderIter.__next__\u001b[0;34m(self)\u001b[0m\n\u001b[1;32m    625\u001b[0m \u001b[39mif\u001b[39;00m \u001b[39mself\u001b[39m\u001b[39m.\u001b[39m_sampler_iter \u001b[39mis\u001b[39;00m \u001b[39mNone\u001b[39;00m:\n\u001b[1;32m    626\u001b[0m     \u001b[39m# TODO(https://github.com/pytorch/pytorch/issues/76750)\u001b[39;00m\n\u001b[1;32m    627\u001b[0m     \u001b[39mself\u001b[39m\u001b[39m.\u001b[39m_reset()  \u001b[39m# type: ignore[call-arg]\u001b[39;00m\n\u001b[0;32m--> 628\u001b[0m data \u001b[39m=\u001b[39m \u001b[39mself\u001b[39;49m\u001b[39m.\u001b[39;49m_next_data()\n\u001b[1;32m    629\u001b[0m \u001b[39mself\u001b[39m\u001b[39m.\u001b[39m_num_yielded \u001b[39m+\u001b[39m\u001b[39m=\u001b[39m \u001b[39m1\u001b[39m\n\u001b[1;32m    630\u001b[0m \u001b[39mif\u001b[39;00m \u001b[39mself\u001b[39m\u001b[39m.\u001b[39m_dataset_kind \u001b[39m==\u001b[39m _DatasetKind\u001b[39m.\u001b[39mIterable \u001b[39mand\u001b[39;00m \\\n\u001b[1;32m    631\u001b[0m         \u001b[39mself\u001b[39m\u001b[39m.\u001b[39m_IterableDataset_len_called \u001b[39mis\u001b[39;00m \u001b[39mnot\u001b[39;00m \u001b[39mNone\u001b[39;00m \u001b[39mand\u001b[39;00m \\\n\u001b[1;32m    632\u001b[0m         \u001b[39mself\u001b[39m\u001b[39m.\u001b[39m_num_yielded \u001b[39m>\u001b[39m \u001b[39mself\u001b[39m\u001b[39m.\u001b[39m_IterableDataset_len_called:\n",
      "File \u001b[0;32m/opt/homebrew/Caskroom/miniforge/base/envs/torch-gpu/lib/python3.9/site-packages/torch/utils/data/dataloader.py:671\u001b[0m, in \u001b[0;36m_SingleProcessDataLoaderIter._next_data\u001b[0;34m(self)\u001b[0m\n\u001b[1;32m    669\u001b[0m \u001b[39mdef\u001b[39;00m \u001b[39m_next_data\u001b[39m(\u001b[39mself\u001b[39m):\n\u001b[1;32m    670\u001b[0m     index \u001b[39m=\u001b[39m \u001b[39mself\u001b[39m\u001b[39m.\u001b[39m_next_index()  \u001b[39m# may raise StopIteration\u001b[39;00m\n\u001b[0;32m--> 671\u001b[0m     data \u001b[39m=\u001b[39m \u001b[39mself\u001b[39;49m\u001b[39m.\u001b[39;49m_dataset_fetcher\u001b[39m.\u001b[39;49mfetch(index)  \u001b[39m# may raise StopIteration\u001b[39;00m\n\u001b[1;32m    672\u001b[0m     \u001b[39mif\u001b[39;00m \u001b[39mself\u001b[39m\u001b[39m.\u001b[39m_pin_memory:\n\u001b[1;32m    673\u001b[0m         data \u001b[39m=\u001b[39m _utils\u001b[39m.\u001b[39mpin_memory\u001b[39m.\u001b[39mpin_memory(data, \u001b[39mself\u001b[39m\u001b[39m.\u001b[39m_pin_memory_device)\n",
      "File \u001b[0;32m/opt/homebrew/Caskroom/miniforge/base/envs/torch-gpu/lib/python3.9/site-packages/torch/utils/data/_utils/fetch.py:61\u001b[0m, in \u001b[0;36m_MapDatasetFetcher.fetch\u001b[0;34m(self, possibly_batched_index)\u001b[0m\n\u001b[1;32m     59\u001b[0m \u001b[39melse\u001b[39;00m:\n\u001b[1;32m     60\u001b[0m     data \u001b[39m=\u001b[39m \u001b[39mself\u001b[39m\u001b[39m.\u001b[39mdataset[possibly_batched_index]\n\u001b[0;32m---> 61\u001b[0m \u001b[39mreturn\u001b[39;00m \u001b[39mself\u001b[39;49m\u001b[39m.\u001b[39;49mcollate_fn(data)\n",
      "File \u001b[0;32m/opt/homebrew/Caskroom/miniforge/base/envs/torch-gpu/lib/python3.9/site-packages/torch/utils/data/_utils/collate.py:265\u001b[0m, in \u001b[0;36mdefault_collate\u001b[0;34m(batch)\u001b[0m\n\u001b[1;32m    204\u001b[0m \u001b[39mdef\u001b[39;00m \u001b[39mdefault_collate\u001b[39m(batch):\n\u001b[1;32m    205\u001b[0m     \u001b[39mr\u001b[39m\u001b[39m\"\"\"\u001b[39;00m\n\u001b[1;32m    206\u001b[0m \u001b[39m        Function that takes in a batch of data and puts the elements within the batch\u001b[39;00m\n\u001b[1;32m    207\u001b[0m \u001b[39m        into a tensor with an additional outer dimension - batch size. The exact output type can be\u001b[39;00m\n\u001b[0;32m   (...)\u001b[0m\n\u001b[1;32m    263\u001b[0m \u001b[39m            >>> default_collate(batch)  # Handle `CustomType` automatically\u001b[39;00m\n\u001b[1;32m    264\u001b[0m \u001b[39m    \"\"\"\u001b[39;00m\n\u001b[0;32m--> 265\u001b[0m     \u001b[39mreturn\u001b[39;00m collate(batch, collate_fn_map\u001b[39m=\u001b[39;49mdefault_collate_fn_map)\n",
      "File \u001b[0;32m/opt/homebrew/Caskroom/miniforge/base/envs/torch-gpu/lib/python3.9/site-packages/torch/utils/data/_utils/collate.py:143\u001b[0m, in \u001b[0;36mcollate\u001b[0;34m(batch, collate_fn_map)\u001b[0m\n\u001b[1;32m    140\u001b[0m transposed \u001b[39m=\u001b[39m \u001b[39mlist\u001b[39m(\u001b[39mzip\u001b[39m(\u001b[39m*\u001b[39mbatch))  \u001b[39m# It may be accessed twice, so we use a list.\u001b[39;00m\n\u001b[1;32m    142\u001b[0m \u001b[39mif\u001b[39;00m \u001b[39misinstance\u001b[39m(elem, \u001b[39mtuple\u001b[39m):\n\u001b[0;32m--> 143\u001b[0m     \u001b[39mreturn\u001b[39;00m [collate(samples, collate_fn_map\u001b[39m=\u001b[39mcollate_fn_map) \u001b[39mfor\u001b[39;00m samples \u001b[39min\u001b[39;00m transposed]  \u001b[39m# Backwards compatibility.\u001b[39;00m\n\u001b[1;32m    144\u001b[0m \u001b[39melse\u001b[39;00m:\n\u001b[1;32m    145\u001b[0m     \u001b[39mtry\u001b[39;00m:\n",
      "File \u001b[0;32m/opt/homebrew/Caskroom/miniforge/base/envs/torch-gpu/lib/python3.9/site-packages/torch/utils/data/_utils/collate.py:143\u001b[0m, in \u001b[0;36m<listcomp>\u001b[0;34m(.0)\u001b[0m\n\u001b[1;32m    140\u001b[0m transposed \u001b[39m=\u001b[39m \u001b[39mlist\u001b[39m(\u001b[39mzip\u001b[39m(\u001b[39m*\u001b[39mbatch))  \u001b[39m# It may be accessed twice, so we use a list.\u001b[39;00m\n\u001b[1;32m    142\u001b[0m \u001b[39mif\u001b[39;00m \u001b[39misinstance\u001b[39m(elem, \u001b[39mtuple\u001b[39m):\n\u001b[0;32m--> 143\u001b[0m     \u001b[39mreturn\u001b[39;00m [collate(samples, collate_fn_map\u001b[39m=\u001b[39;49mcollate_fn_map) \u001b[39mfor\u001b[39;00m samples \u001b[39min\u001b[39;00m transposed]  \u001b[39m# Backwards compatibility.\u001b[39;00m\n\u001b[1;32m    144\u001b[0m \u001b[39melse\u001b[39;00m:\n\u001b[1;32m    145\u001b[0m     \u001b[39mtry\u001b[39;00m:\n",
      "File \u001b[0;32m/opt/homebrew/Caskroom/miniforge/base/envs/torch-gpu/lib/python3.9/site-packages/torch/utils/data/_utils/collate.py:120\u001b[0m, in \u001b[0;36mcollate\u001b[0;34m(batch, collate_fn_map)\u001b[0m\n\u001b[1;32m    118\u001b[0m \u001b[39mif\u001b[39;00m collate_fn_map \u001b[39mis\u001b[39;00m \u001b[39mnot\u001b[39;00m \u001b[39mNone\u001b[39;00m:\n\u001b[1;32m    119\u001b[0m     \u001b[39mif\u001b[39;00m elem_type \u001b[39min\u001b[39;00m collate_fn_map:\n\u001b[0;32m--> 120\u001b[0m         \u001b[39mreturn\u001b[39;00m collate_fn_map[elem_type](batch, collate_fn_map\u001b[39m=\u001b[39;49mcollate_fn_map)\n\u001b[1;32m    122\u001b[0m     \u001b[39mfor\u001b[39;00m collate_type \u001b[39min\u001b[39;00m collate_fn_map:\n\u001b[1;32m    123\u001b[0m         \u001b[39mif\u001b[39;00m \u001b[39misinstance\u001b[39m(elem, collate_type):\n",
      "File \u001b[0;32m/opt/homebrew/Caskroom/miniforge/base/envs/torch-gpu/lib/python3.9/site-packages/torch/utils/data/_utils/collate.py:163\u001b[0m, in \u001b[0;36mcollate_tensor_fn\u001b[0;34m(batch, collate_fn_map)\u001b[0m\n\u001b[1;32m    161\u001b[0m     storage \u001b[39m=\u001b[39m elem\u001b[39m.\u001b[39mstorage()\u001b[39m.\u001b[39m_new_shared(numel, device\u001b[39m=\u001b[39melem\u001b[39m.\u001b[39mdevice)\n\u001b[1;32m    162\u001b[0m     out \u001b[39m=\u001b[39m elem\u001b[39m.\u001b[39mnew(storage)\u001b[39m.\u001b[39mresize_(\u001b[39mlen\u001b[39m(batch), \u001b[39m*\u001b[39m\u001b[39mlist\u001b[39m(elem\u001b[39m.\u001b[39msize()))\n\u001b[0;32m--> 163\u001b[0m \u001b[39mreturn\u001b[39;00m torch\u001b[39m.\u001b[39;49mstack(batch, \u001b[39m0\u001b[39;49m, out\u001b[39m=\u001b[39;49mout)\n",
      "\u001b[0;31mKeyboardInterrupt\u001b[0m: "
     ]
    }
   ],
   "source": [
    "for epoch in range(1, NUM_EPOCHS + 1):\n",
    "    epoch_start_time = time.time()\n",
    "    \n",
    "    train(train_dl, model, optimizer, epoch)\n",
    "    # We have a learning rate scheduler here.\n",
    "    # Basically, given the state of the optimizer, this lowers the learning rate in a smart way.\n",
    "    scheduler.step()"
   ]
  },
  {
   "cell_type": "code",
   "execution_count": null,
   "id": "b0227888",
   "metadata": {},
   "outputs": [],
   "source": []
  },
  {
   "cell_type": "markdown",
   "id": "7187dcf9",
   "metadata": {},
   "source": [
    "### Some diagnostics."
   ]
  },
  {
   "cell_type": "markdown",
   "id": "ae40d972",
   "metadata": {},
   "source": [
    "Sometimes you want to add diagnostics to your NN.\n",
    "- For each iteration, get the $L_2$ norm of the gradients* learning_rate and divide this by the parameters. This should be about -3 on the log scale, i.e. the ratio should be about 0.001. If the ratios are smaller, the learning rate might be too small, otherwise too large. Below we do this for the Skip-Gram model above.\n"
   ]
  },
  {
   "cell_type": "code",
   "execution_count": 119,
   "id": "f5d9d9e3",
   "metadata": {},
   "outputs": [
    {
     "data": {
      "text/plain": [
       "<matplotlib.legend.Legend at 0x2ea620a90>"
      ]
     },
     "execution_count": 119,
     "metadata": {},
     "output_type": "execute_result"
    },
    {
     "data": {
      "image/png": "[encoded data removed]",
      "text/plain": [
       "<Figure size 2000x400 with 1 Axes>"
      ]
     },
     "metadata": {},
     "output_type": "display_data"
    }
   ],
   "source": [
    "import matplotlib.pyplot as plt\n",
    "plt.figure(figsize=(20, 4))\n",
    "legends = []\n",
    "for i, (name, p) in enumerate(model.named_parameters()):\n",
    "    plt.plot([ratios[j][i] for j in range(len(ratios))])\n",
    "    legends.append('param {}'.format(name))\n",
    "plt.plot([0, len(ratios)], [-3, -3], 'r')\n",
    "plt.legend(legends)"
   ]
  },
  {
   "cell_type": "markdown",
   "id": "c013aadc",
   "metadata": {},
   "source": [
    "How do you make sure the learing rate is good? Look at the above plots and suppose we have $log(LR * ratio) = -5$. Then $LR * ratio = 10^{-5}$. Assuming the ratio does not vary much, this probably means we need to increase the learing rate $LR$. Similarly for a reverse direction."
   ]
  },
  {
   "cell_type": "code",
   "execution_count": null,
   "id": "c08e311d",
   "metadata": {},
   "outputs": [],
   "source": []
  }
 ],
 "metadata": {
  "kernelspec": {
   "display_name": "torch-gpu",
   "language": "python",
   "name": "python3"
  },
  "language_info": {
   "codemirror_mode": {
    "name": "ipython",
    "version": 3
   },
   "file_extension": ".py",
   "mimetype": "text/x-python",
   "name": "python",
   "nbconvert_exporter": "python",
   "pygments_lexer": "ipython3",
   "version": "3.9.15"
  },
  "vscode": {
   "interpreter": {
    "hash": "e1cb4ba5f411cfa4a68a7ea6c2f9ba3655e2604bd37447d058a856eda531fd15"
   }
  }
 },
 "nbformat": 4,
 "nbformat_minor": 5
}
