{
 "cells": [
  {
   "cell_type": "code",
   "execution_count": 41,
   "id": "5db00378",
   "metadata": {},
   "outputs": [],
   "source": [
    "import torch\n",
    "from torch.utils.data import DataLoader\n",
    "from torch.utils.data.dataset import random_split\n",
    "import torch.nn as nn\n",
    "from torch.utils.data import Dataset\n",
    "from torch.utils.data import DataLoader, TensorDataset\n",
    "import time\n",
    "from tqdm import tqdm"
   ]
  },
  {
   "cell_type": "markdown",
   "id": "b6f79343",
   "metadata": {},
   "source": [
    "### Information\n",
    "- We will do a few preliminary exercises and also build a character level MLP language model.\n",
    "- This model will be similar to the model we did in class, except that we will have characters as tokens, not words.\n",
    "- You will need a conda environment for this, here is general information on this.\n",
    " - https://docs.conda.io/projects/conda/en/latest/user-guide/install/index.html\n",
    " - PyTorch: https://anaconda.org/pytorch/pytorch\n",
    " \n",
    "In the code below, FILL-IN the code necessary in the hint string provided."
   ]
  },
  {
   "cell_type": "code",
   "execution_count": null,
   "id": "dcb95b07",
   "metadata": {},
   "outputs": [],
   "source": []
  },
  {
   "cell_type": "markdown",
   "id": "81cb873f",
   "metadata": {},
   "source": [
    "### Preliminary exercises\n",
    "- Please fill in the cells below with the asked for data."
   ]
  },
  {
   "cell_type": "code",
   "execution_count": 42,
   "id": "5a23f069",
   "metadata": {},
   "outputs": [
    {
     "data": {
      "text/plain": [
       "<torch._C.Generator at 0x10c139530>"
      ]
     },
     "execution_count": 42,
     "metadata": {},
     "output_type": "execute_result"
    }
   ],
   "source": [
    "torch.manual_seed(1)"
   ]
  },
  {
   "cell_type": "code",
   "execution_count": 43,
   "id": "f91a6ad4",
   "metadata": {},
   "outputs": [],
   "source": [
    "# Create an embedding layer for a vocabulary of size 10 and the word vectors are each of dimension 5.\n",
    "e = nn.Embedding(10, 5)\n",
    "\n",
    "# Extract the embedding for the word whose token index is 3. What is the shape of this vector?\n",
    "v = e(torch.tensor(3))\n",
    "\n",
    "\n",
    "# Extract the weight matrix from the layer e.\n",
    "# Create a linear layer (with no bias) of size 10 by 5 and set it's data to the embedding matrix.\n",
    "l = nn.Linear(5, 10, bias=False)\n",
    "l.weight = e.weight\n",
    "\n",
    "# Insert inside of the assert below some sort of equality check between l.weight and e.weight; it should pass to true.\n",
    "# Hint: look up torch.all() and torch.eq()\n",
    "\n",
    "assert(torch.eq(l.weight, e.weight).all())"
   ]
  },
  {
   "cell_type": "code",
   "execution_count": 44,
   "id": "e37fec18",
   "metadata": {},
   "outputs": [],
   "source": [
    "# Create a batch of size 2 with entries [0, 1, 2] and [2, 3, 4] in the data batch.\n",
    "x = torch.tensor([[0, 1, 2], [2, 3, 4]])"
   ]
  },
  {
   "cell_type": "code",
   "execution_count": 45,
   "id": "d6f3a839",
   "metadata": {},
   "outputs": [],
   "source": [
    "# What is the dimesion of this batch ran through the embeding layer?\n",
    "assert(e(x).shape == torch.Size([2, 3, 5]))"
   ]
  },
  {
   "cell_type": "code",
   "execution_count": null,
   "id": "d3422e57",
   "metadata": {},
   "outputs": [],
   "source": []
  },
  {
   "cell_type": "markdown",
   "id": "b9140e3c",
   "metadata": {},
   "source": [
    "### Constants and configs used below."
   ]
  },
  {
   "cell_type": "code",
   "execution_count": 46,
   "id": "c9ace94f",
   "metadata": {},
   "outputs": [],
   "source": [
    "DEVICE = \"cpu\"\n",
    "LR = 4.0\n",
    "BATCH_SIZE = 16\n",
    "NUM_EPOCHS = 5\n",
    "MARKER = '.'\n",
    "# N-gram level; P(w_t | w_{t-1}, ..., w_{t-n+1}).\n",
    "# We use 3 words to predict the next word.\n",
    "n = 4\n",
    "# Hidden layer dimension.\n",
    "h = 20\n",
    "# Word embedding dimension.\n",
    "m = 20"
   ]
  },
  {
   "cell_type": "code",
   "execution_count": null,
   "id": "2ff816ac",
   "metadata": {},
   "outputs": [],
   "source": []
  },
  {
   "cell_type": "markdown",
   "id": "09f16039",
   "metadata": {},
   "source": [
    "### Get the dataset and the tokenizer."
   ]
  },
  {
   "cell_type": "code",
   "execution_count": 47,
   "id": "9c4dca3a",
   "metadata": {},
   "outputs": [],
   "source": [
    "class CharDataset(Dataset):\n",
    "    def __init__(self, words, chars):\n",
    "        self.words = words\n",
    "        self.chars = chars\n",
    "        # Inverse dictionaries mapping char tokens to unique ids and the reverse.\n",
    "        # Tokens in this case are the unique chars we passed in above.\n",
    "        # Each token should be mappend to a unique integer and MARKER should have token 0.\n",
    "        # For example, stoi should be like {'.' -> 0, 'a' -> 1, 'b' -> 2} if I pass in chars = '.ab'.\n",
    "        dic_stoi = {}\n",
    "        dic_itos = {}\n",
    "        \n",
    "        for i in range(len(chars)):\n",
    "            dic_stoi[chars[i]] = i\n",
    "            dic_itos[i] = chars[i]\n",
    "            \n",
    "        self.stoi = dic_stoi\n",
    "        self.itos = dic_itos\n",
    "\n",
    "    def __len__(self):\n",
    "        # Number of words.\n",
    "        return len(self.words)\n",
    "\n",
    "    def contains(self, word):\n",
    "        # Check if word is in self.words and return True/False if it is, is not.\n",
    "        return word in self.words\n",
    "\n",
    "    def get_vocab_size(self):\n",
    "        # Return the vocabulary size.\n",
    "        return len(self.chars)\n",
    "\n",
    "    def encode(self, word):\n",
    "        # Express this word as a list of int ids. For example, maybe \".abc\" -> [0, 1, 2, 3].\n",
    "        # This assumes 'a' -> 1, etc.\n",
    "        return [self.stoi[char] for char in word]\n",
    "    \n",
    "    def decode(self, tokens):\n",
    "        # For a set of tokens, return back the string.\n",
    "        # For example, maybe [1, 1, 2] -> \"aac\"\n",
    "        return [self.itos[token] for token in tokens]\n",
    "\n",
    "    def __getitem__(self, idx):\n",
    "        # This is used so we can loop over the data.\n",
    "        word = self.words[idx]\n",
    "        return self.encode(word)"
   ]
  },
  {
   "cell_type": "code",
   "execution_count": null,
   "id": "a0b9f98f",
   "metadata": {},
   "outputs": [],
   "source": []
  },
  {
   "cell_type": "code",
   "execution_count": 48,
   "id": "32e480ba",
   "metadata": {},
   "outputs": [],
   "source": [
    "def create_datasets(window, input_file = 'names.txt'):\n",
    "    \"\"\"\n",
    "    This takes a file of words and separates all the words.\n",
    "    It then gets all the characters present in the universe of words and then ouputs the statistics. \n",
    "    \"\"\"\n",
    "    with open(input_file, 'r') as f:\n",
    "        data = f.read()\n",
    "    # Split the file by new lines. You should get a list of names.\n",
    "    words = data.split('\\n')\n",
    "                       \n",
    "    words = [word.replace(' ', '') for word in words]# This gets rid of any trailing and starting white spaces.\n",
    "    words = [i for i in words if i] # Filter out all the empty words.\n",
    "    \n",
    "    # This gets the universe of all characters.\n",
    "    chars = sorted(list(set([char for word in words for char in word])))\n",
    "    \n",
    "    # Will force chars to have MARKER having index 0.\n",
    "    chars= [MARKER] + chars\n",
    "    \n",
    "    # Pad each word with a context window of size n-1.\n",
    "    # Why? a word like \"abc\" should becomes \"..abc..\" if the window is size 3.\n",
    "    # This is some we can get pair of (x, y) data like this: \"..\" -> \"a\", \".a\" -> \"b\", \"ab\" -> \"c\", \"bc\" -> \".\", \"c.\" -> \".\"\n",
    "    # I.e. this allows us to know that \"a\" is a start character.\n",
    "    # So you should get something like [\"ab\", \"c\"] -> [\"..ab..\", \"..c..\"], for example.\n",
    "    words  = [MARKER * (window - 1) + word + MARKER * (window - 1) for word in words]\n",
    "            \n",
    "    print(f\"The number of examples in the dataset: {len(words)}\")\n",
    "    print(f\"The number of unique characters in the vocabulary: {len(chars)}\")\n",
    "    print(f\"The vocabulary we have is: {''.join(chars)}\")\n",
    "\n",
    "    # Partition the input data into a training, validation, and the test set.\n",
    "    out_of_sample_set_size = min(2000, int(len(words) * 0.1)) # We use 10% of the training set, or up to 2000 examples.\n",
    "    test_set_size = 1500\n",
    "    \n",
    "    # First, get a random permutation of randomly permute of size len(words).\n",
    "    # Then, convert this to a list. \n",
    "    # This index list is used below to get the train, validation, and test sets.\n",
    "    rp = torch.randperm(len(words)).tolist()\n",
    "    \n",
    "    # Get train, validation, and test set.\n",
    "    train_words = [words[i] for i in rp[:-out_of_sample_set_size]]\n",
    "    validation_words = [words[i] for i in rp[-out_of_sample_set_size:-test_set_size]]\n",
    "    test_words = [words[i] for i in rp[-test_set_size:]]    \n",
    "    \n",
    "    print(f\"We've split up the dataset into {len(train_words)}, {len(validation_words)}, {len(test_words)} training, validation, and test examples\")\n",
    "\n",
    "    # But the data in the data set objects.\n",
    "    train_dataset = CharDataset(train_words, chars)\n",
    "    validation_dataset = CharDataset(validation_words, chars)\n",
    "    test_dataset = CharDataset(test_words, chars)\n",
    "\n",
    "    return train_dataset, validation_dataset, test_dataset"
   ]
  },
  {
   "cell_type": "code",
   "execution_count": 49,
   "id": "36b97647",
   "metadata": {},
   "outputs": [
    {
     "name": "stdout",
     "output_type": "stream",
     "text": [
      "The number of examples in the dataset: 32033\n",
      "The number of unique characters in the vocabulary: 27\n",
      "The vocabulary we have is: .abcdefghijklmnopqrstuvwxyz\n",
      "We've split up the dataset into 30033, 500, 1500 training, validation, and test examples\n"
     ]
    }
   ],
   "source": [
    "train_dataset, validation_dataset, test_dataset = create_datasets(n)"
   ]
  },
  {
   "cell_type": "code",
   "execution_count": null,
   "id": "00f87ddb",
   "metadata": {},
   "outputs": [],
   "source": []
  },
  {
   "cell_type": "markdown",
   "id": "707b45bc",
   "metadata": {},
   "source": [
    "## Explore the data"
   ]
  },
  {
   "cell_type": "code",
   "execution_count": 62,
   "id": "c6cb698c",
   "metadata": {},
   "outputs": [
    {
     "data": {
      "text/plain": [
       "[0, 0, 0, 14, 9, 25, 1, 13, 0, 0, 0]"
      ]
     },
     "execution_count": 62,
     "metadata": {},
     "output_type": "execute_result"
    }
   ],
   "source": [
    "# Get the first word in \"train_dataset\"\n",
    "train_dataset[0]"
   ]
  },
  {
   "cell_type": "code",
   "execution_count": 51,
   "id": "8369b489",
   "metadata": {},
   "outputs": [
    {
     "data": {
      "text/plain": [
       "27"
      ]
     },
     "execution_count": 51,
     "metadata": {},
     "output_type": "execute_result"
    }
   ],
   "source": [
    "# Get the stoi map of train_dataset. How many keys does it have?\n",
    "len(train_dataset.stoi)"
   ]
  },
  {
   "cell_type": "code",
   "execution_count": null,
   "id": "7b9c5ecc",
   "metadata": {},
   "outputs": [],
   "source": []
  },
  {
   "cell_type": "markdown",
   "id": "4e4881fe",
   "metadata": {},
   "source": [
    "### Get the dataloader"
   ]
  },
  {
   "cell_type": "code",
   "execution_count": 52,
   "id": "8f7967c4",
   "metadata": {},
   "outputs": [],
   "source": [
    "def create_dataloader(dataset, window):\n",
    "    x_list = []\n",
    "    y_list = []\n",
    "    # For ech word.\n",
    "    for i, word in enumerate(dataset):\n",
    "        # Grab a context of size window and window-1 characters will be in x, 1 will be in y.\n",
    "        for j, _ in enumerate(word):\n",
    "            # If there is no widow of size window left, break.\n",
    "            if j + window > len(word) - 1:\n",
    "                break\n",
    "            word_window = word[j:j+window]\n",
    "            x, y = word_window[:window-1],word_window[-1]\n",
    "            x_list.append(x)\n",
    "            y_list.append(y)\n",
    "            \n",
    "    return DataLoader(\n",
    "        TensorDataset(torch.tensor(x_list), torch.tensor(y_list)),\n",
    "        BATCH_SIZE,\n",
    "        shuffle=True\n",
    "    )"
   ]
  },
  {
   "cell_type": "code",
   "execution_count": null,
   "id": "f62b6701",
   "metadata": {},
   "outputs": [],
   "source": []
  },
  {
   "cell_type": "code",
   "execution_count": 53,
   "id": "5086d90b",
   "metadata": {},
   "outputs": [],
   "source": [
    "train_dataloader = create_dataloader(train_dataset, n)\n",
    "validation_dataloader = create_dataloader(validation_dataset, n)\n",
    "test_dataloader = create_dataloader(test_dataset, n)"
   ]
  },
  {
   "cell_type": "code",
   "execution_count": null,
   "id": "a3c8d054",
   "metadata": {},
   "outputs": [],
   "source": []
  },
  {
   "cell_type": "markdown",
   "id": "eca51b36",
   "metadata": {},
   "source": [
    "### Set up the model\n",
    "- Identical to lecture. Please look over that!"
   ]
  },
  {
   "cell_type": "code",
   "execution_count": 54,
   "id": "8ab8cb7c",
   "metadata": {},
   "outputs": [],
   "source": [
    "# One of the first Neural language models!\n",
    "class CharacterNeuralLanguageModel(nn.Module):\n",
    "    def __init__(self, V, m, h, n):\n",
    "        super(CharacterNeuralLanguageModel, self).__init__()\n",
    "        \n",
    "        # Vocabulary size.\n",
    "        self.V = V\n",
    "        \n",
    "        # Embedding dimension, per word.\n",
    "        self.m = m\n",
    "        \n",
    "        # Hidden dimension.\n",
    "        self.h = h\n",
    "        \n",
    "        # N in \"N-gram\"\n",
    "        self.n = n\n",
    "        \n",
    "        # Can you change all this stuff to use nn.Linear?\n",
    "        # Ca also use nn.Parameter(torch.zeros(V, m)) for self.C but then we need one-hot and this is slow.\n",
    "        self.C = nn.Embedding(V, m)\n",
    "        self.H = nn.Parameter(torch.zeros((n-1) * m, h))\n",
    "        self.W = nn.Parameter(torch.zeros((n-1) * m, V))\n",
    "        self.U = nn.Parameter(torch.zeros(h, V))\n",
    "        \n",
    "        self.b = torch.nn.Parameter(torch.ones(V))\n",
    "        self.d = torch.nn.Parameter(torch.ones(h))\n",
    "        \n",
    "        self.init_weights()\n",
    "\n",
    "    def init_weights(self):\n",
    "        # Intitialize C, H, W, U in a nice way. Use xavier initialization for the weights.\n",
    "        # On a first run, just pass.\n",
    "        with torch.no_grad():\n",
    "            torch.nn.init.xavier_uniform_(self.C.weight)\n",
    "            torch.nn.init.xavier_uniform_(self.H)\n",
    "            torch.nn.init.xavier_uniform_(self.W)\n",
    "            torch.nn.init.xavier_uniform_(self.U)\n",
    "        \n",
    "        \n",
    "    def forward(self, x):\n",
    "        \n",
    "        # x is of dimenson N = batch size X n-1\n",
    "        \n",
    "        # N X (n-1) X m \n",
    "        x = self.C(x)\n",
    "        \n",
    "        # N\n",
    "        N = x.shape[0]\n",
    "        \n",
    "        # N X (n-1) * m\n",
    "        x = x.view(N,-1)\n",
    "    \n",
    "        # N X V\n",
    "        y = self.b + torch.matmul(x, self.W) + torch.matmul(nn.Tanh()(self.d + torch.matmul(x, self.H)), self.U)\n",
    "        \n",
    "        return y"
   ]
  },
  {
   "cell_type": "code",
   "execution_count": null,
   "id": "a43d569e",
   "metadata": {},
   "outputs": [],
   "source": []
  },
  {
   "cell_type": "markdown",
   "id": "899045e6",
   "metadata": {},
   "source": [
    "### Set up the model."
   ]
  },
  {
   "cell_type": "code",
   "execution_count": 55,
   "id": "02b8e0df",
   "metadata": {},
   "outputs": [],
   "source": [
    "# Identical to lecture.\n",
    "criterion = torch.nn.CrossEntropyLoss().to(DEVICE)\n",
    "model = CharacterNeuralLanguageModel(\n",
    "    train_dataset.get_vocab_size(), m, h, n\n",
    ").to(DEVICE)\n",
    "optimizer = torch.optim.SGD(model.parameters(), lr=LR)\n",
    "scheduler = torch.optim.lr_scheduler.StepLR(optimizer, 1.0, gamma=0.1)"
   ]
  },
  {
   "cell_type": "code",
   "execution_count": 56,
   "id": "10508c63",
   "metadata": {},
   "outputs": [
    {
     "name": "stdout",
     "output_type": "stream",
     "text": [
      "H torch.Size([60, 20]) True\n",
      "W torch.Size([60, 27]) True\n",
      "U torch.Size([20, 27]) True\n",
      "b torch.Size([27]) True\n",
      "d torch.Size([20]) True\n",
      "C.weight torch.Size([27, 20]) True\n",
      "Number of parameters: 6\n"
     ]
    }
   ],
   "source": [
    "# How many parameters does the neural network have?\n",
    "# Hint: look up model.named_parameters and the method \"nelement\" on a tensor.\n",
    "# See also the XOR notebook where we count the gradients that are 0.\n",
    "# There, we loop over the parameters.\n",
    "number_parameters = 0\n",
    "for name, param in model.named_parameters():\n",
    "    number_parameters += 1\n",
    "    print(name, param.shape, param.requires_grad)\n",
    "print(f\"Number of parameters: {number_parameters}\")\n"
   ]
  },
  {
   "cell_type": "code",
   "execution_count": null,
   "id": "6d91dc71",
   "metadata": {},
   "outputs": [],
   "source": [
    "\n"
   ]
  },
  {
   "cell_type": "markdown",
   "id": "72b5bb91",
   "metadata": {},
   "source": [
    "### Train the model."
   ]
  },
  {
   "cell_type": "code",
   "execution_count": 57,
   "id": "e49ebc7f",
   "metadata": {},
   "outputs": [],
   "source": [
    "def calculate_perplexity(total_loss, total_batches):\n",
    "    return torch.exp(torch.tensor(total_loss / total_batches)).item()"
   ]
  },
  {
   "cell_type": "code",
   "execution_count": 58,
   "id": "d58cc1a9",
   "metadata": {},
   "outputs": [],
   "source": [
    "def train(dataloader, model, optimizer, criterion, epoch):\n",
    "    model.train()\n",
    "    total_loss, total_batches = 0.0, 0.0\n",
    "    log_interval = 500\n",
    "\n",
    "    for idx, (x, y) in tqdm(enumerate(dataloader)):\n",
    "        optimizer.zero_grad()\n",
    "        \n",
    "        logits = model(x)\n",
    "                        \n",
    "        # Get the loss.\n",
    "        loss = criterion(input=logits, target=y.view(-1))\n",
    "\n",
    "        # Do back propagation.\n",
    "        loss.backward()\n",
    "                        \n",
    "        # Clip the gradients so they don't explode. Look at how this is done in lecture.\n",
    "        torch.nn.utils.clip_grad_norm_(model.parameters(), 0.1)\n",
    "        \n",
    "        # Do an optimization step.\n",
    "        optimizer.step()\n",
    "        \n",
    "        total_loss += loss.item()\n",
    "        total_batches += 1\n",
    "                \n",
    "        if idx % log_interval == 0 and idx > 0:\n",
    "            perplexity = calculate_perplexity(total_loss,  total_batches)\n",
    "            print(\n",
    "                \"| epoch {:3d} \"\n",
    "                \"| {:5d}/{:5d} batches \"\n",
    "                \"| perplexity {:8.3f} \"\n",
    "                \"| loss {:8.3f} \"\n",
    "                .format(\n",
    "                    epoch,\n",
    "                    idx,\n",
    "                    len(dataloader),\n",
    "                    perplexity,\n",
    "                    total_loss / total_batches,\n",
    "                )\n",
    "            )\n",
    "            total_loss, total_batches = 0.0, 0"
   ]
  },
  {
   "cell_type": "code",
   "execution_count": 59,
   "id": "85722617",
   "metadata": {},
   "outputs": [],
   "source": [
    "def evaluate(dataloader, model, criterion):\n",
    "    model.eval()\n",
    "    total_loss, total_batches = 0.0, 0\n",
    "\n",
    "    with torch.no_grad():\n",
    "        for idx, (x, y) in enumerate(dataloader):\n",
    "            logits = model(x)\n",
    "            total_loss += criterion(input=logits, target=y.squeeze(-1)).item()\n",
    "            total_batches += 1\n",
    "    return total_loss / total_batches, calculate_perplexity(total_loss,  total_batches)"
   ]
  },
  {
   "cell_type": "code",
   "execution_count": 60,
   "id": "21ba24f3",
   "metadata": {},
   "outputs": [
    {
     "name": "stderr",
     "output_type": "stream",
     "text": [
      "1000it [00:00, 2518.92it/s]"
     ]
    },
    {
     "name": "stdout",
     "output_type": "stream",
     "text": [
      "| epoch   1 |   500/15247 batches | perplexity    9.705 | loss    2.273 \n",
      "| epoch   1 |  1000/15247 batches | perplexity    8.738 | loss    2.168 \n"
     ]
    },
    {
     "name": "stderr",
     "output_type": "stream",
     "text": [
      "1779it [00:00, 2581.16it/s]"
     ]
    },
    {
     "name": "stdout",
     "output_type": "stream",
     "text": [
      "| epoch   1 |  1500/15247 batches | perplexity    8.605 | loss    2.152 \n",
      "| epoch   1 |  2000/15247 batches | perplexity    8.323 | loss    2.119 \n"
     ]
    },
    {
     "name": "stderr",
     "output_type": "stream",
     "text": [
      "2823it [00:01, 2396.74it/s]"
     ]
    },
    {
     "name": "stdout",
     "output_type": "stream",
     "text": [
      "| epoch   1 |  2500/15247 batches | perplexity    8.510 | loss    2.141 \n"
     ]
    },
    {
     "name": "stderr",
     "output_type": "stream",
     "text": [
      "3323it [00:01, 2446.16it/s]"
     ]
    },
    {
     "name": "stdout",
     "output_type": "stream",
     "text": [
      "| epoch   1 |  3000/15247 batches | perplexity    8.326 | loss    2.119 \n",
      "| epoch   1 |  3500/15247 batches | perplexity    8.231 | loss    2.108 \n"
     ]
    },
    {
     "name": "stderr",
     "output_type": "stream",
     "text": [
      "4314it [00:01, 2449.23it/s]"
     ]
    },
    {
     "name": "stdout",
     "output_type": "stream",
     "text": [
      "| epoch   1 |  4000/15247 batches | perplexity    8.015 | loss    2.081 \n",
      "| epoch   1 |  4500/15247 batches | perplexity    8.167 | loss    2.100 \n"
     ]
    },
    {
     "name": "stderr",
     "output_type": "stream",
     "text": [
      "5351it [00:02, 2558.43it/s]"
     ]
    },
    {
     "name": "stdout",
     "output_type": "stream",
     "text": [
      "| epoch   1 |  5000/15247 batches | perplexity    8.002 | loss    2.080 \n",
      "| epoch   1 |  5500/15247 batches | perplexity    8.121 | loss    2.094 \n"
     ]
    },
    {
     "name": "stderr",
     "output_type": "stream",
     "text": [
      "6404it [00:02, 2622.52it/s]"
     ]
    },
    {
     "name": "stdout",
     "output_type": "stream",
     "text": [
      "| epoch   1 |  6000/15247 batches | perplexity    8.067 | loss    2.088 \n",
      "| epoch   1 |  6500/15247 batches | perplexity    8.083 | loss    2.090 \n"
     ]
    },
    {
     "name": "stderr",
     "output_type": "stream",
     "text": [
      "7463it [00:02, 2632.40it/s]"
     ]
    },
    {
     "name": "stdout",
     "output_type": "stream",
     "text": [
      "| epoch   1 |  7000/15247 batches | perplexity    7.990 | loss    2.078 \n",
      "| epoch   1 |  7500/15247 batches | perplexity    7.733 | loss    2.045 \n"
     ]
    },
    {
     "name": "stderr",
     "output_type": "stream",
     "text": [
      "8529it [00:03, 2661.26it/s]"
     ]
    },
    {
     "name": "stdout",
     "output_type": "stream",
     "text": [
      "| epoch   1 |  8000/15247 batches | perplexity    8.021 | loss    2.082 \n",
      "| epoch   1 |  8500/15247 batches | perplexity    8.104 | loss    2.092 \n"
     ]
    },
    {
     "name": "stderr",
     "output_type": "stream",
     "text": [
      "9329it [00:03, 2656.24it/s]"
     ]
    },
    {
     "name": "stdout",
     "output_type": "stream",
     "text": [
      "| epoch   1 |  9000/15247 batches | perplexity    7.951 | loss    2.073 \n",
      "| epoch   1 |  9500/15247 batches | perplexity    7.866 | loss    2.063 \n"
     ]
    },
    {
     "name": "stderr",
     "output_type": "stream",
     "text": [
      "10388it [00:04, 2531.48it/s]"
     ]
    },
    {
     "name": "stdout",
     "output_type": "stream",
     "text": [
      "| epoch   1 | 10000/15247 batches | perplexity    7.756 | loss    2.049 \n"
     ]
    },
    {
     "name": "stderr",
     "output_type": "stream",
     "text": [
      "10893it [00:04, 2451.57it/s]"
     ]
    },
    {
     "name": "stdout",
     "output_type": "stream",
     "text": [
      "| epoch   1 | 10500/15247 batches | perplexity    8.197 | loss    2.104 \n"
     ]
    },
    {
     "name": "stderr",
     "output_type": "stream",
     "text": [
      "11413it [00:04, 2523.82it/s]"
     ]
    },
    {
     "name": "stdout",
     "output_type": "stream",
     "text": [
      "| epoch   1 | 11000/15247 batches | perplexity    8.008 | loss    2.080 \n",
      "| epoch   1 | 11500/15247 batches | perplexity    7.859 | loss    2.062 \n"
     ]
    },
    {
     "name": "stderr",
     "output_type": "stream",
     "text": [
      "12450it [00:04, 2548.52it/s]"
     ]
    },
    {
     "name": "stdout",
     "output_type": "stream",
     "text": [
      "| epoch   1 | 12000/15247 batches | perplexity    7.530 | loss    2.019 \n",
      "| epoch   1 | 12500/15247 batches | perplexity    7.986 | loss    2.078 \n"
     ]
    },
    {
     "name": "stderr",
     "output_type": "stream",
     "text": [
      "13503it [00:05, 2589.27it/s]"
     ]
    },
    {
     "name": "stdout",
     "output_type": "stream",
     "text": [
      "| epoch   1 | 13000/15247 batches | perplexity    8.037 | loss    2.084 \n",
      "| epoch   1 | 13500/15247 batches | perplexity    7.898 | loss    2.067 \n"
     ]
    },
    {
     "name": "stderr",
     "output_type": "stream",
     "text": [
      "14286it [00:05, 2597.76it/s]"
     ]
    },
    {
     "name": "stdout",
     "output_type": "stream",
     "text": [
      "| epoch   1 | 14000/15247 batches | perplexity    7.566 | loss    2.024 \n",
      "| epoch   1 | 14500/15247 batches | perplexity    7.897 | loss    2.066 \n"
     ]
    },
    {
     "name": "stderr",
     "output_type": "stream",
     "text": [
      "15247it [00:05, 2555.37it/s]\n"
     ]
    },
    {
     "name": "stdout",
     "output_type": "stream",
     "text": [
      "| epoch   1 | 15000/15247 batches | perplexity    7.815 | loss    2.056 \n",
      "-----------------------------------------------------------\n",
      "| end of epoch   1 | time:  6.00s | valid perplexity    7.777 | valid loss    2.051\n",
      "-----------------------------------------------------------\n"
     ]
    },
    {
     "name": "stderr",
     "output_type": "stream",
     "text": [
      "993it [00:00, 2526.53it/s]"
     ]
    },
    {
     "name": "stdout",
     "output_type": "stream",
     "text": [
      "| epoch   2 |   500/15247 batches | perplexity    7.514 | loss    2.017 \n",
      "| epoch   2 |  1000/15247 batches | perplexity    7.111 | loss    1.962 \n"
     ]
    },
    {
     "name": "stderr",
     "output_type": "stream",
     "text": [
      "1789it [00:00, 2626.53it/s]"
     ]
    },
    {
     "name": "stdout",
     "output_type": "stream",
     "text": [
      "| epoch   2 |  1500/15247 batches | perplexity    7.164 | loss    1.969 \n",
      "| epoch   2 |  2000/15247 batches | perplexity    7.318 | loss    1.990 \n"
     ]
    },
    {
     "name": "stderr",
     "output_type": "stream",
     "text": [
      "2855it [00:01, 2648.12it/s]"
     ]
    },
    {
     "name": "stdout",
     "output_type": "stream",
     "text": [
      "| epoch   2 |  2500/15247 batches | perplexity    7.256 | loss    1.982 \n",
      "| epoch   2 |  3000/15247 batches | perplexity    7.209 | loss    1.975 \n"
     ]
    },
    {
     "name": "stderr",
     "output_type": "stream",
     "text": [
      "3923it [00:01, 2656.03it/s]"
     ]
    },
    {
     "name": "stdout",
     "output_type": "stream",
     "text": [
      "| epoch   2 |  3500/15247 batches | perplexity    7.180 | loss    1.971 \n",
      "| epoch   2 |  4000/15247 batches | perplexity    7.157 | loss    1.968 \n"
     ]
    },
    {
     "name": "stderr",
     "output_type": "stream",
     "text": [
      "4993it [00:01, 2670.40it/s]"
     ]
    },
    {
     "name": "stdout",
     "output_type": "stream",
     "text": [
      "| epoch   2 |  4500/15247 batches | perplexity    7.158 | loss    1.968 \n",
      "| epoch   2 |  5000/15247 batches | perplexity    7.254 | loss    1.982 \n"
     ]
    },
    {
     "name": "stderr",
     "output_type": "stream",
     "text": [
      "5794it [00:02, 2657.48it/s]"
     ]
    },
    {
     "name": "stdout",
     "output_type": "stream",
     "text": [
      "| epoch   2 |  5500/15247 batches | perplexity    7.012 | loss    1.948 \n",
      "| epoch   2 |  6000/15247 batches | perplexity    6.993 | loss    1.945 \n"
     ]
    },
    {
     "name": "stderr",
     "output_type": "stream",
     "text": [
      "6854it [00:02, 2576.61it/s]"
     ]
    },
    {
     "name": "stdout",
     "output_type": "stream",
     "text": [
      "| epoch   2 |  6500/15247 batches | perplexity    7.224 | loss    1.977 \n"
     ]
    },
    {
     "name": "stderr",
     "output_type": "stream",
     "text": [
      "7377it [00:02, 2526.97it/s]"
     ]
    },
    {
     "name": "stdout",
     "output_type": "stream",
     "text": [
      "| epoch   2 |  7000/15247 batches | perplexity    7.133 | loss    1.965 \n",
      "| epoch   2 |  7500/15247 batches | perplexity    7.176 | loss    1.971 \n"
     ]
    },
    {
     "name": "stderr",
     "output_type": "stream",
     "text": [
      "8414it [00:03, 2539.61it/s]"
     ]
    },
    {
     "name": "stdout",
     "output_type": "stream",
     "text": [
      "| epoch   2 |  8000/15247 batches | perplexity    7.039 | loss    1.951 \n",
      "| epoch   2 |  8500/15247 batches | perplexity    7.034 | loss    1.951 \n"
     ]
    },
    {
     "name": "stderr",
     "output_type": "stream",
     "text": [
      "9445it [00:03, 2536.19it/s]"
     ]
    },
    {
     "name": "stdout",
     "output_type": "stream",
     "text": [
      "| epoch   2 |  9000/15247 batches | perplexity    7.378 | loss    1.998 \n",
      "| epoch   2 |  9500/15247 batches | perplexity    6.957 | loss    1.940 \n"
     ]
    },
    {
     "name": "stderr",
     "output_type": "stream",
     "text": [
      "10495it [00:04, 2605.65it/s]"
     ]
    },
    {
     "name": "stdout",
     "output_type": "stream",
     "text": [
      "| epoch   2 | 10000/15247 batches | perplexity    7.155 | loss    1.968 \n",
      "| epoch   2 | 10500/15247 batches | perplexity    7.195 | loss    1.973 \n"
     ]
    },
    {
     "name": "stderr",
     "output_type": "stream",
     "text": [
      "11288it [00:04, 2617.55it/s]"
     ]
    },
    {
     "name": "stdout",
     "output_type": "stream",
     "text": [
      "| epoch   2 | 11000/15247 batches | perplexity    7.045 | loss    1.952 \n",
      "| epoch   2 | 11500/15247 batches | perplexity    7.052 | loss    1.953 \n"
     ]
    },
    {
     "name": "stderr",
     "output_type": "stream",
     "text": [
      "12364it [00:04, 2673.55it/s]"
     ]
    },
    {
     "name": "stdout",
     "output_type": "stream",
     "text": [
      "| epoch   2 | 12000/15247 batches | perplexity    6.973 | loss    1.942 \n",
      "| epoch   2 | 12500/15247 batches | perplexity    7.191 | loss    1.973 \n"
     ]
    },
    {
     "name": "stderr",
     "output_type": "stream",
     "text": [
      "13438it [00:05, 2676.16it/s]"
     ]
    },
    {
     "name": "stdout",
     "output_type": "stream",
     "text": [
      "| epoch   2 | 13000/15247 batches | perplexity    7.003 | loss    1.946 \n",
      "| epoch   2 | 13500/15247 batches | perplexity    7.090 | loss    1.959 \n"
     ]
    },
    {
     "name": "stderr",
     "output_type": "stream",
     "text": [
      "14493it [00:05, 2583.35it/s]"
     ]
    },
    {
     "name": "stdout",
     "output_type": "stream",
     "text": [
      "| epoch   2 | 14000/15247 batches | perplexity    7.184 | loss    1.972 \n",
      "| epoch   2 | 14500/15247 batches | perplexity    7.057 | loss    1.954 \n"
     ]
    },
    {
     "name": "stderr",
     "output_type": "stream",
     "text": [
      "15247it [00:05, 2601.10it/s]\n"
     ]
    },
    {
     "name": "stdout",
     "output_type": "stream",
     "text": [
      "| epoch   2 | 15000/15247 batches | perplexity    7.010 | loss    1.947 \n",
      "-----------------------------------------------------------\n",
      "| end of epoch   2 | time:  5.89s | valid perplexity    7.023 | valid loss    1.949\n",
      "-----------------------------------------------------------\n"
     ]
    },
    {
     "name": "stderr",
     "output_type": "stream",
     "text": [
      "1006it [00:00, 2543.75it/s]"
     ]
    },
    {
     "name": "stdout",
     "output_type": "stream",
     "text": [
      "| epoch   3 |   500/15247 batches | perplexity    6.910 | loss    1.933 \n",
      "| epoch   3 |  1000/15247 batches | perplexity    6.954 | loss    1.939 \n"
     ]
    },
    {
     "name": "stderr",
     "output_type": "stream",
     "text": [
      "1800it [00:00, 2621.90it/s]"
     ]
    },
    {
     "name": "stdout",
     "output_type": "stream",
     "text": [
      "| epoch   3 |  1500/15247 batches | perplexity    7.033 | loss    1.951 \n",
      "| epoch   3 |  2000/15247 batches | perplexity    7.119 | loss    1.963 \n"
     ]
    },
    {
     "name": "stderr",
     "output_type": "stream",
     "text": [
      "2877it [00:01, 2674.21it/s]"
     ]
    },
    {
     "name": "stdout",
     "output_type": "stream",
     "text": [
      "| epoch   3 |  2500/15247 batches | perplexity    7.005 | loss    1.947 \n",
      "| epoch   3 |  3000/15247 batches | perplexity    6.869 | loss    1.927 \n"
     ]
    },
    {
     "name": "stderr",
     "output_type": "stream",
     "text": [
      "3921it [00:01, 2500.80it/s]"
     ]
    },
    {
     "name": "stdout",
     "output_type": "stream",
     "text": [
      "| epoch   3 |  3500/15247 batches | perplexity    7.055 | loss    1.954 \n"
     ]
    },
    {
     "name": "stderr",
     "output_type": "stream",
     "text": [
      "4444it [00:01, 2557.78it/s]"
     ]
    },
    {
     "name": "stdout",
     "output_type": "stream",
     "text": [
      "| epoch   3 |  4000/15247 batches | perplexity    6.900 | loss    1.932 \n",
      "| epoch   3 |  4500/15247 batches | perplexity    6.883 | loss    1.929 \n"
     ]
    },
    {
     "name": "stderr",
     "output_type": "stream",
     "text": [
      "5481it [00:02, 2573.08it/s]"
     ]
    },
    {
     "name": "stdout",
     "output_type": "stream",
     "text": [
      "| epoch   3 |  5000/15247 batches | perplexity    7.012 | loss    1.948 \n",
      "| epoch   3 |  5500/15247 batches | perplexity    7.241 | loss    1.980 \n"
     ]
    },
    {
     "name": "stderr",
     "output_type": "stream",
     "text": [
      "6253it [00:02, 2487.04it/s]"
     ]
    },
    {
     "name": "stdout",
     "output_type": "stream",
     "text": [
      "| epoch   3 |  6000/15247 batches | perplexity    6.970 | loss    1.942 \n"
     ]
    },
    {
     "name": "stderr",
     "output_type": "stream",
     "text": [
      "6780it [00:02, 2560.82it/s]"
     ]
    },
    {
     "name": "stdout",
     "output_type": "stream",
     "text": [
      "| epoch   3 |  6500/15247 batches | perplexity    7.060 | loss    1.954 \n",
      "| epoch   3 |  7000/15247 batches | perplexity    7.143 | loss    1.966 \n"
     ]
    },
    {
     "name": "stderr",
     "output_type": "stream",
     "text": [
      "7841it [00:03, 2608.52it/s]"
     ]
    },
    {
     "name": "stdout",
     "output_type": "stream",
     "text": [
      "| epoch   3 |  7500/15247 batches | perplexity    6.882 | loss    1.929 \n",
      "| epoch   3 |  8000/15247 batches | perplexity    6.963 | loss    1.941 \n"
     ]
    },
    {
     "name": "stderr",
     "output_type": "stream",
     "text": [
      "8871it [00:03, 2536.84it/s]"
     ]
    },
    {
     "name": "stdout",
     "output_type": "stream",
     "text": [
      "| epoch   3 |  8500/15247 batches | perplexity    6.906 | loss    1.932 \n",
      "| epoch   3 |  9000/15247 batches | perplexity    7.049 | loss    1.953 \n"
     ]
    },
    {
     "name": "stderr",
     "output_type": "stream",
     "text": [
      "9887it [00:03, 2490.24it/s]"
     ]
    },
    {
     "name": "stdout",
     "output_type": "stream",
     "text": [
      "| epoch   3 |  9500/15247 batches | perplexity    7.069 | loss    1.956 \n"
     ]
    },
    {
     "name": "stderr",
     "output_type": "stream",
     "text": [
      "10400it [00:04, 2528.15it/s]"
     ]
    },
    {
     "name": "stdout",
     "output_type": "stream",
     "text": [
      "| epoch   3 | 10000/15247 batches | perplexity    7.055 | loss    1.954 \n",
      "| epoch   3 | 10500/15247 batches | perplexity    6.960 | loss    1.940 \n"
     ]
    },
    {
     "name": "stderr",
     "output_type": "stream",
     "text": [
      "11385it [00:04, 2381.10it/s]"
     ]
    },
    {
     "name": "stdout",
     "output_type": "stream",
     "text": [
      "| epoch   3 | 11000/15247 batches | perplexity    6.884 | loss    1.929 \n"
     ]
    },
    {
     "name": "stderr",
     "output_type": "stream",
     "text": [
      "11869it [00:04, 2377.73it/s]"
     ]
    },
    {
     "name": "stdout",
     "output_type": "stream",
     "text": [
      "| epoch   3 | 11500/15247 batches | perplexity    6.933 | loss    1.936 \n"
     ]
    },
    {
     "name": "stderr",
     "output_type": "stream",
     "text": [
      "12376it [00:04, 2457.37it/s]"
     ]
    },
    {
     "name": "stdout",
     "output_type": "stream",
     "text": [
      "| epoch   3 | 12000/15247 batches | perplexity    7.222 | loss    1.977 \n",
      "| epoch   3 | 12500/15247 batches | perplexity    6.977 | loss    1.943 \n"
     ]
    },
    {
     "name": "stderr",
     "output_type": "stream",
     "text": [
      "13403it [00:05, 2484.25it/s]"
     ]
    },
    {
     "name": "stdout",
     "output_type": "stream",
     "text": [
      "| epoch   3 | 13000/15247 batches | perplexity    7.151 | loss    1.967 \n"
     ]
    },
    {
     "name": "stderr",
     "output_type": "stream",
     "text": [
      "13923it [00:05, 2539.05it/s]"
     ]
    },
    {
     "name": "stdout",
     "output_type": "stream",
     "text": [
      "| epoch   3 | 13500/15247 batches | perplexity    7.082 | loss    1.958 \n",
      "| epoch   3 | 14000/15247 batches | perplexity    7.020 | loss    1.949 \n"
     ]
    },
    {
     "name": "stderr",
     "output_type": "stream",
     "text": [
      "14962it [00:05, 2579.92it/s]"
     ]
    },
    {
     "name": "stdout",
     "output_type": "stream",
     "text": [
      "| epoch   3 | 14500/15247 batches | perplexity    7.114 | loss    1.962 \n",
      "| epoch   3 | 15000/15247 batches | perplexity    7.068 | loss    1.956 \n"
     ]
    },
    {
     "name": "stderr",
     "output_type": "stream",
     "text": [
      "15247it [00:06, 2527.36it/s]\n"
     ]
    },
    {
     "name": "stdout",
     "output_type": "stream",
     "text": [
      "-----------------------------------------------------------\n",
      "| end of epoch   3 | time:  6.06s | valid perplexity    6.994 | valid loss    1.945\n",
      "-----------------------------------------------------------\n"
     ]
    },
    {
     "name": "stderr",
     "output_type": "stream",
     "text": [
      "902it [00:00, 2302.33it/s]"
     ]
    },
    {
     "name": "stdout",
     "output_type": "stream",
     "text": [
      "| epoch   4 |   500/15247 batches | perplexity    6.875 | loss    1.928 \n"
     ]
    },
    {
     "name": "stderr",
     "output_type": "stream",
     "text": [
      "1384it [00:00, 2293.75it/s]"
     ]
    },
    {
     "name": "stdout",
     "output_type": "stream",
     "text": [
      "| epoch   4 |  1000/15247 batches | perplexity    7.027 | loss    1.950 \n"
     ]
    },
    {
     "name": "stderr",
     "output_type": "stream",
     "text": [
      "1848it [00:00, 2274.47it/s]"
     ]
    },
    {
     "name": "stdout",
     "output_type": "stream",
     "text": [
      "| epoch   4 |  1500/15247 batches | perplexity    7.130 | loss    1.964 \n"
     ]
    },
    {
     "name": "stderr",
     "output_type": "stream",
     "text": [
      "2328it [00:01, 2346.79it/s]"
     ]
    },
    {
     "name": "stdout",
     "output_type": "stream",
     "text": [
      "| epoch   4 |  2000/15247 batches | perplexity    7.178 | loss    1.971 \n"
     ]
    },
    {
     "name": "stderr",
     "output_type": "stream",
     "text": [
      "2801it [00:01, 2335.84it/s]"
     ]
    },
    {
     "name": "stdout",
     "output_type": "stream",
     "text": [
      "| epoch   4 |  2500/15247 batches | perplexity    7.017 | loss    1.948 \n"
     ]
    },
    {
     "name": "stderr",
     "output_type": "stream",
     "text": [
      "3284it [00:01, 2370.53it/s]"
     ]
    },
    {
     "name": "stdout",
     "output_type": "stream",
     "text": [
      "| epoch   4 |  3000/15247 batches | perplexity    6.986 | loss    1.944 \n"
     ]
    },
    {
     "name": "stderr",
     "output_type": "stream",
     "text": [
      "3763it [00:01, 2374.53it/s]"
     ]
    },
    {
     "name": "stdout",
     "output_type": "stream",
     "text": [
      "| epoch   4 |  3500/15247 batches | perplexity    7.015 | loss    1.948 \n"
     ]
    },
    {
     "name": "stderr",
     "output_type": "stream",
     "text": [
      "4260it [00:01, 2428.70it/s]"
     ]
    },
    {
     "name": "stdout",
     "output_type": "stream",
     "text": [
      "| epoch   4 |  4000/15247 batches | perplexity    7.055 | loss    1.954 \n",
      "| epoch   4 |  4500/15247 batches | perplexity    6.887 | loss    1.930 \n"
     ]
    },
    {
     "name": "stderr",
     "output_type": "stream",
     "text": [
      "5308it [00:02, 2567.15it/s]"
     ]
    },
    {
     "name": "stdout",
     "output_type": "stream",
     "text": [
      "| epoch   4 |  5000/15247 batches | perplexity    6.832 | loss    1.922 \n",
      "| epoch   4 |  5500/15247 batches | perplexity    7.057 | loss    1.954 \n"
     ]
    },
    {
     "name": "stderr",
     "output_type": "stream",
     "text": [
      "6332it [00:02, 2498.30it/s]"
     ]
    },
    {
     "name": "stdout",
     "output_type": "stream",
     "text": [
      "| epoch   4 |  6000/15247 batches | perplexity    7.094 | loss    1.959 \n",
      "| epoch   4 |  6500/15247 batches | perplexity    7.051 | loss    1.953 \n"
     ]
    },
    {
     "name": "stderr",
     "output_type": "stream",
     "text": [
      "7381it [00:03, 2594.62it/s]"
     ]
    },
    {
     "name": "stdout",
     "output_type": "stream",
     "text": [
      "| epoch   4 |  7000/15247 batches | perplexity    7.015 | loss    1.948 \n",
      "| epoch   4 |  7500/15247 batches | perplexity    6.942 | loss    1.938 \n"
     ]
    },
    {
     "name": "stderr",
     "output_type": "stream",
     "text": [
      "8404it [00:03, 2511.12it/s]"
     ]
    },
    {
     "name": "stdout",
     "output_type": "stream",
     "text": [
      "| epoch   4 |  8000/15247 batches | perplexity    6.986 | loss    1.944 \n",
      "| epoch   4 |  8500/15247 batches | perplexity    6.943 | loss    1.938 \n"
     ]
    },
    {
     "name": "stderr",
     "output_type": "stream",
     "text": [
      "9414it [00:03, 2403.14it/s]"
     ]
    },
    {
     "name": "stdout",
     "output_type": "stream",
     "text": [
      "| epoch   4 |  9000/15247 batches | perplexity    6.885 | loss    1.929 \n"
     ]
    },
    {
     "name": "stderr",
     "output_type": "stream",
     "text": [
      "9915it [00:04, 2448.18it/s]"
     ]
    },
    {
     "name": "stdout",
     "output_type": "stream",
     "text": [
      "| epoch   4 |  9500/15247 batches | perplexity    6.844 | loss    1.923 \n"
     ]
    },
    {
     "name": "stderr",
     "output_type": "stream",
     "text": [
      "10407it [00:04, 2440.40it/s]"
     ]
    },
    {
     "name": "stdout",
     "output_type": "stream",
     "text": [
      "| epoch   4 | 10000/15247 batches | perplexity    7.073 | loss    1.956 \n"
     ]
    },
    {
     "name": "stderr",
     "output_type": "stream",
     "text": [
      "10916it [00:04, 2498.99it/s]"
     ]
    },
    {
     "name": "stdout",
     "output_type": "stream",
     "text": [
      "| epoch   4 | 10500/15247 batches | perplexity    6.989 | loss    1.944 \n",
      "| epoch   4 | 11000/15247 batches | perplexity    7.023 | loss    1.949 \n"
     ]
    },
    {
     "name": "stderr",
     "output_type": "stream",
     "text": [
      "11976it [00:04, 2616.68it/s]"
     ]
    },
    {
     "name": "stdout",
     "output_type": "stream",
     "text": [
      "| epoch   4 | 11500/15247 batches | perplexity    6.851 | loss    1.924 \n",
      "| epoch   4 | 12000/15247 batches | perplexity    6.905 | loss    1.932 \n"
     ]
    },
    {
     "name": "stderr",
     "output_type": "stream",
     "text": [
      "12769it [00:05, 2631.49it/s]"
     ]
    },
    {
     "name": "stdout",
     "output_type": "stream",
     "text": [
      "| epoch   4 | 12500/15247 batches | perplexity    6.861 | loss    1.926 \n",
      "| epoch   4 | 13000/15247 batches | perplexity    6.967 | loss    1.941 \n"
     ]
    },
    {
     "name": "stderr",
     "output_type": "stream",
     "text": [
      "13841it [00:05, 2668.72it/s]"
     ]
    },
    {
     "name": "stdout",
     "output_type": "stream",
     "text": [
      "| epoch   4 | 13500/15247 batches | perplexity    7.020 | loss    1.949 \n",
      "| epoch   4 | 14000/15247 batches | perplexity    7.028 | loss    1.950 \n"
     ]
    },
    {
     "name": "stderr",
     "output_type": "stream",
     "text": [
      "14912it [00:05, 2667.90it/s]"
     ]
    },
    {
     "name": "stdout",
     "output_type": "stream",
     "text": [
      "| epoch   4 | 14500/15247 batches | perplexity    6.986 | loss    1.944 \n",
      "| epoch   4 | 15000/15247 batches | perplexity    7.137 | loss    1.965 \n"
     ]
    },
    {
     "name": "stderr",
     "output_type": "stream",
     "text": [
      "15247it [00:06, 2488.35it/s]\n"
     ]
    },
    {
     "name": "stdout",
     "output_type": "stream",
     "text": [
      "-----------------------------------------------------------\n",
      "| end of epoch   4 | time:  6.16s | valid perplexity    6.987 | valid loss    1.944\n",
      "-----------------------------------------------------------\n"
     ]
    },
    {
     "name": "stderr",
     "output_type": "stream",
     "text": [
      "936it [00:00, 2354.60it/s]"
     ]
    },
    {
     "name": "stdout",
     "output_type": "stream",
     "text": [
      "| epoch   5 |   500/15247 batches | perplexity    7.017 | loss    1.948 \n"
     ]
    },
    {
     "name": "stderr",
     "output_type": "stream",
     "text": [
      "1425it [00:00, 2401.27it/s]"
     ]
    },
    {
     "name": "stdout",
     "output_type": "stream",
     "text": [
      "| epoch   5 |  1000/15247 batches | perplexity    7.090 | loss    1.959 \n"
     ]
    },
    {
     "name": "stderr",
     "output_type": "stream",
     "text": [
      "1919it [00:00, 2429.52it/s]"
     ]
    },
    {
     "name": "stdout",
     "output_type": "stream",
     "text": [
      "| epoch   5 |  1500/15247 batches | perplexity    7.062 | loss    1.955 \n"
     ]
    },
    {
     "name": "stderr",
     "output_type": "stream",
     "text": [
      "2406it [00:01, 2409.92it/s]"
     ]
    },
    {
     "name": "stdout",
     "output_type": "stream",
     "text": [
      "| epoch   5 |  2000/15247 batches | perplexity    6.987 | loss    1.944 \n"
     ]
    },
    {
     "name": "stderr",
     "output_type": "stream",
     "text": [
      "2920it [00:01, 2496.62it/s]"
     ]
    },
    {
     "name": "stdout",
     "output_type": "stream",
     "text": [
      "| epoch   5 |  2500/15247 batches | perplexity    7.005 | loss    1.947 \n",
      "| epoch   5 |  3000/15247 batches | perplexity    7.160 | loss    1.969 \n"
     ]
    },
    {
     "name": "stderr",
     "output_type": "stream",
     "text": [
      "3996it [00:01, 2642.34it/s]"
     ]
    },
    {
     "name": "stdout",
     "output_type": "stream",
     "text": [
      "| epoch   5 |  3500/15247 batches | perplexity    7.224 | loss    1.977 \n",
      "| epoch   5 |  4000/15247 batches | perplexity    6.921 | loss    1.935 \n"
     ]
    },
    {
     "name": "stderr",
     "output_type": "stream",
     "text": [
      "4794it [00:01, 2652.91it/s]"
     ]
    },
    {
     "name": "stdout",
     "output_type": "stream",
     "text": [
      "| epoch   5 |  4500/15247 batches | perplexity    7.065 | loss    1.955 \n",
      "| epoch   5 |  5000/15247 batches | perplexity    6.747 | loss    1.909 \n"
     ]
    },
    {
     "name": "stderr",
     "output_type": "stream",
     "text": [
      "5839it [00:02, 2482.14it/s]"
     ]
    },
    {
     "name": "stdout",
     "output_type": "stream",
     "text": [
      "| epoch   5 |  5500/15247 batches | perplexity    7.056 | loss    1.954 \n"
     ]
    },
    {
     "name": "stderr",
     "output_type": "stream",
     "text": [
      "6348it [00:02, 2512.80it/s]"
     ]
    },
    {
     "name": "stdout",
     "output_type": "stream",
     "text": [
      "| epoch   5 |  6000/15247 batches | perplexity    6.975 | loss    1.942 \n",
      "| epoch   5 |  6500/15247 batches | perplexity    6.820 | loss    1.920 \n"
     ]
    },
    {
     "name": "stderr",
     "output_type": "stream",
     "text": [
      "7352it [00:02, 2370.39it/s]"
     ]
    },
    {
     "name": "stdout",
     "output_type": "stream",
     "text": [
      "| epoch   5 |  7000/15247 batches | perplexity    6.858 | loss    1.925 \n"
     ]
    },
    {
     "name": "stderr",
     "output_type": "stream",
     "text": [
      "7851it [00:03, 2428.00it/s]"
     ]
    },
    {
     "name": "stdout",
     "output_type": "stream",
     "text": [
      "| epoch   5 |  7500/15247 batches | perplexity    7.035 | loss    1.951 \n",
      "| epoch   5 |  8000/15247 batches | perplexity    6.927 | loss    1.935 \n"
     ]
    },
    {
     "name": "stderr",
     "output_type": "stream",
     "text": [
      "8817it [00:03, 2366.59it/s]"
     ]
    },
    {
     "name": "stdout",
     "output_type": "stream",
     "text": [
      "| epoch   5 |  8500/15247 batches | perplexity    6.937 | loss    1.937 \n"
     ]
    },
    {
     "name": "stderr",
     "output_type": "stream",
     "text": [
      "9295it [00:03, 2371.18it/s]"
     ]
    },
    {
     "name": "stdout",
     "output_type": "stream",
     "text": [
      "| epoch   5 |  9000/15247 batches | perplexity    6.960 | loss    1.940 \n"
     ]
    },
    {
     "name": "stderr",
     "output_type": "stream",
     "text": [
      "9784it [00:03, 2389.65it/s]"
     ]
    },
    {
     "name": "stdout",
     "output_type": "stream",
     "text": [
      "| epoch   5 |  9500/15247 batches | perplexity    7.090 | loss    1.959 \n"
     ]
    },
    {
     "name": "stderr",
     "output_type": "stream",
     "text": [
      "10276it [00:04, 2420.88it/s]"
     ]
    },
    {
     "name": "stdout",
     "output_type": "stream",
     "text": [
      "| epoch   5 | 10000/15247 batches | perplexity    6.949 | loss    1.939 \n"
     ]
    },
    {
     "name": "stderr",
     "output_type": "stream",
     "text": [
      "10770it [00:04, 2442.34it/s]"
     ]
    },
    {
     "name": "stdout",
     "output_type": "stream",
     "text": [
      "| epoch   5 | 10500/15247 batches | perplexity    6.912 | loss    1.933 \n",
      "| epoch   5 | 11000/15247 batches | perplexity    6.918 | loss    1.934 \n"
     ]
    },
    {
     "name": "stderr",
     "output_type": "stream",
     "text": [
      "11811it [00:04, 2572.55it/s]"
     ]
    },
    {
     "name": "stdout",
     "output_type": "stream",
     "text": [
      "| epoch   5 | 11500/15247 batches | perplexity    6.971 | loss    1.942 \n",
      "| epoch   5 | 12000/15247 batches | perplexity    6.879 | loss    1.928 \n"
     ]
    },
    {
     "name": "stderr",
     "output_type": "stream",
     "text": [
      "12879it [00:05, 2648.31it/s]"
     ]
    },
    {
     "name": "stdout",
     "output_type": "stream",
     "text": [
      "| epoch   5 | 12500/15247 batches | perplexity    6.909 | loss    1.933 \n",
      "| epoch   5 | 13000/15247 batches | perplexity    7.007 | loss    1.947 \n"
     ]
    },
    {
     "name": "stderr",
     "output_type": "stream",
     "text": [
      "13948it [00:05, 2639.62it/s]"
     ]
    },
    {
     "name": "stdout",
     "output_type": "stream",
     "text": [
      "| epoch   5 | 13500/15247 batches | perplexity    7.042 | loss    1.952 \n",
      "| epoch   5 | 14000/15247 batches | perplexity    7.005 | loss    1.947 \n"
     ]
    },
    {
     "name": "stderr",
     "output_type": "stream",
     "text": [
      "14978it [00:06, 2483.20it/s]"
     ]
    },
    {
     "name": "stdout",
     "output_type": "stream",
     "text": [
      "| epoch   5 | 14500/15247 batches | perplexity    7.007 | loss    1.947 \n"
     ]
    },
    {
     "name": "stderr",
     "output_type": "stream",
     "text": [
      "15247it [00:06, 2486.01it/s]\n"
     ]
    },
    {
     "name": "stdout",
     "output_type": "stream",
     "text": [
      "| epoch   5 | 15000/15247 batches | perplexity    6.977 | loss    1.943 \n",
      "-----------------------------------------------------------\n",
      "| end of epoch   5 | time:  6.16s | valid perplexity    6.974 | valid loss    1.942\n",
      "-----------------------------------------------------------\n",
      "Checking the results of test dataset.\n",
      "test perplexity    7.121 | test loss    1.963 \n"
     ]
    }
   ],
   "source": [
    "for epoch in range(1, NUM_EPOCHS + 1):\n",
    "    epoch_start_time = time.time()\n",
    "    train(train_dataloader, model, optimizer, criterion, epoch)\n",
    "    loss_val, perplexity_val = evaluate(validation_dataloader, model, criterion)\n",
    "    scheduler.step()\n",
    "    print(\"-\" * 59)\n",
    "    print(\n",
    "        \"| end of epoch {:3d} \"\n",
    "        \"| time: {:5.2f}s \"\n",
    "        \"| valid perplexity {:8.3f} \"\n",
    "        \"| valid loss {:8.3f}\".format(\n",
    "            epoch,\n",
    "            time.time() - epoch_start_time,\n",
    "            perplexity_val,\n",
    "            loss_val\n",
    "        )\n",
    "    )\n",
    "    print(\"-\" * 59)\n",
    "\n",
    "print(\"Checking the results of test dataset.\")\n",
    "loss_test, perplexity_test = evaluate(test_dataloader, model, criterion)\n",
    "print(\"test perplexity {:8.3f} | test loss {:8.3f} \".format(perplexity_test, loss_test))"
   ]
  },
  {
   "cell_type": "markdown",
   "id": "8d091ff8",
   "metadata": {},
   "source": [
    "Hint: For the above, you should see your loss around 2.0 and going down. Similarly to perplexity which should be aroud 7 to 8."
   ]
  },
  {
   "cell_type": "code",
   "execution_count": 65,
   "id": "5fd8a0e8",
   "metadata": {},
   "outputs": [
    {
     "data": {
      "text/plain": [
       "[0, 0, 0]"
      ]
     },
     "execution_count": 65,
     "metadata": {},
     "output_type": "execute_result"
    }
   ],
   "source": [
    "3 * [train_dataset.stoi[MARKER]]"
   ]
  },
  {
   "cell_type": "markdown",
   "id": "1de0230d",
   "metadata": {},
   "source": [
    "## Generate some text."
   ]
  },
  {
   "cell_type": "code",
   "execution_count": 88,
   "id": "6e97642c",
   "metadata": {},
   "outputs": [],
   "source": [
    "\n",
    "\n",
    "def generate_word(model, dataset, window):\n",
    "    generated_word = []\n",
    "    # Set the context to a window-1 length array having just the MARKER character's token_id.\n",
    "    context = (window - 1) * [dataset.stoi[MARKER]]\n",
    "    \n",
    "    while True:\n",
    "        logits = model(torch.tensor(context).view(1, -1))\n",
    "        \n",
    "        # Get the probabilities from the logits.\n",
    "        # Hint: softmax!\n",
    "        probs =  nn.Softmax(dim=1)(logits)\n",
    "        \n",
    "        # Get 1 sample from a multinomial having the above probabilities.\n",
    "        token_id = torch.multinomial(probs, 1).item()\n",
    "        \n",
    "        # Append the token_id to the generated word.\n",
    "        generated_word.append(token_id)\n",
    "        \n",
    "        # Move the context over 1, drop the first (oldest) token and apped the new one above.\n",
    "        # The size of the resulting context should be the same.\n",
    "        # For exaple, if it was \"[0, 1, 2]\" and you generated 4, it should now be [1, 2, 4].\n",
    "        context = context[1:] + [token_id]\n",
    "        \n",
    "        if token_id == 0:\n",
    "            # If you generate token_id = 0, i.e. '.', break out.\n",
    "            break\n",
    "    # Return and decode the generated word to a string.        \n",
    "    return ''.join(dataset.decode(generated_word))"
   ]
  },
  {
   "cell_type": "code",
   "execution_count": 89,
   "id": "238d0894",
   "metadata": {},
   "outputs": [
    {
     "name": "stdout",
     "output_type": "stream",
     "text": [
      "ama.\n",
      "ele.\n",
      "lia.\n",
      "aldi.\n",
      "jarorsse.\n",
      "dez.\n",
      "bria.\n",
      "jairestlei.\n",
      "revy.\n",
      "madlais.\n",
      "hoanna.\n",
      "dacelian.\n",
      "alalie.\n",
      "shais.\n",
      "maya.\n",
      "jouston.\n",
      "zailah.\n",
      "ede.\n",
      "rie.\n",
      "gros.\n",
      "aukh.\n",
      "bamaka.\n",
      "anyaarius.\n",
      "kelee.\n",
      "har.\n",
      "jami.\n",
      "naekshreem.\n",
      "kaylen.\n",
      "quyla.\n",
      "naygusen.\n",
      "mayanatram.\n",
      "ahazoriexsunya.\n",
      "shamonti.\n",
      "hori.\n",
      "evfiah.\n",
      "rosie.\n",
      "vaivel.\n",
      "ynalaydin.\n",
      "kenasia.\n",
      "dar.\n",
      "wun.\n",
      "jayana.\n",
      "ris.\n",
      "nor.\n",
      "ilyn.\n",
      "marri.\n",
      "alevante.\n",
      "kalyn.\n",
      "desleeshanaa.\n",
      "daniellaenimariinilah.\n"
     ]
    }
   ],
   "source": [
    "torch.manual_seed(1)\n",
    "for _ in range(50):\n",
    "    print(generate_word(model, train_dataset, n))"
   ]
  },
  {
   "cell_type": "code",
   "execution_count": null,
   "id": "8ba54ed8",
   "metadata": {},
   "outputs": [],
   "source": []
  },
  {
   "cell_type": "code",
   "execution_count": null,
   "id": "395186b7",
   "metadata": {},
   "outputs": [],
   "source": []
  }
 ],
 "metadata": {
  "kernelspec": {
   "display_name": "torch-gpu",
   "language": "python",
   "name": "python3"
  },
  "language_info": {
   "codemirror_mode": {
    "name": "ipython",
    "version": 3
   },
   "file_extension": ".py",
   "mimetype": "text/x-python",
   "name": "python",
   "nbconvert_exporter": "python",
   "pygments_lexer": "ipython3",
   "version": "3.9.15 (main, Nov 24 2022, 08:28:41) \n[Clang 14.0.6 ]"
  },
  "vscode": {
   "interpreter": {
    "hash": "e1cb4ba5f411cfa4a68a7ea6c2f9ba3655e2604bd37447d058a856eda531fd15"
   }
  }
 },
 "nbformat": 4,
 "nbformat_minor": 5
}
